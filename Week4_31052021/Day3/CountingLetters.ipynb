{
 "cells": [
  {
   "cell_type": "code",
   "execution_count": 3,
   "metadata": {},
   "outputs": [],
   "source": [
    "import numpy as np"
   ]
  },
  {
   "cell_type": "code",
   "execution_count": 26,
   "metadata": {},
   "outputs": [
    {
     "data": {
      "text/plain": [
       "{'T': 1, 'h': 1, 'i': 2, 's': 2, 'g': 1, 'r': 1, 'e': 1, 'a': 1, 't': 1}"
      ]
     },
     "execution_count": 26,
     "metadata": {},
     "output_type": "execute_result"
    }
   ],
   "source": [
    "letters = 'This is great'\n",
    "\n",
    "def count_letters(string):\n",
    "    \n",
    "    list_letters = list(string)\n",
    "    \n",
    "    dictionary = {}\n",
    "    \n",
    "    for l in list_letters:\n",
    "        if l.isalpha():\n",
    "            if l not in dictionary:\n",
    "                dictionary[l] = 1\n",
    "            else:\n",
    "                dictionary[l] += 1\n",
    "                \n",
    "    return dictionary\n",
    "\n",
    "count_letters(letters)"
   ]
  },
  {
   "cell_type": "code",
   "execution_count": 16,
   "metadata": {},
   "outputs": [
    {
     "name": "stdout",
     "output_type": "stream",
     "text": [
      "Counter({' ': 6, 'n': 4, 'a': 3, 'y': 3, 'o': 2, 'd': 2, 'i': 2, 's': 2, 'u': 2, 'e': 2, 'T': 1, 'M': 1, 'l': 1, 'b': 1, 'r': 1})\n"
     ]
    }
   ],
   "source": [
    "from collections import Counter\n",
    "\n",
    "def count_letters_2(string):\n",
    "    \n",
    "    print(Counter(string))\n",
    "    \n",
    "    return\n",
    "\n",
    "letters = 'Today is a sunny day in Melbourne'\n",
    "\n",
    "count_letters_2(letters)\n",
    "    "
   ]
  },
  {
   "cell_type": "code",
   "execution_count": null,
   "metadata": {},
   "outputs": [],
   "source": []
  }
 ],
 "metadata": {
  "kernelspec": {
   "display_name": "Python 3",
   "language": "python",
   "name": "python3"
  },
  "language_info": {
   "codemirror_mode": {
    "name": "ipython",
    "version": 3
   },
   "file_extension": ".py",
   "mimetype": "text/x-python",
   "name": "python",
   "nbconvert_exporter": "python",
   "pygments_lexer": "ipython3",
   "version": "3.7.1"
  }
 },
 "nbformat": 4,
 "nbformat_minor": 2
}
