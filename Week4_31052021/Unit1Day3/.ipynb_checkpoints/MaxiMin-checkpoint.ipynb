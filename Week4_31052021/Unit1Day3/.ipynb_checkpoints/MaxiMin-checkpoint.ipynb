{
 "cells": [
  {
   "cell_type": "code",
   "execution_count": 5,
   "metadata": {},
   "outputs": [
    {
     "name": "stdout",
     "output_type": "stream",
     "text": [
      "Max number is 75\n",
      "Min number is 2\n"
     ]
    }
   ],
   "source": [
    "num = [12, 33, 41, 2, 61, 32, 75, 43, 67]\n",
    "\n",
    "def MaxMin(num):\n",
    "    max = 0\n",
    "    min = 0\n",
    "    \n",
    "    for i in num:\n",
    "        if min == 0 and max == 0:\n",
    "            min = i\n",
    "            max = i\n",
    "        elif i < min:\n",
    "            min = i\n",
    "        elif i > max:\n",
    "            max = i\n",
    "        else:\n",
    "            pass\n",
    "    print(f\"Max number is {max}\")\n",
    "    print(f\"Min number is {min}\")\n",
    "\n",
    "MaxMin(num)        "
   ]
  }
 ],
 "metadata": {
  "kernelspec": {
   "display_name": "Python 3",
   "language": "python",
   "name": "python3"
  },
  "language_info": {
   "codemirror_mode": {
    "name": "ipython",
    "version": 3
   },
   "file_extension": ".py",
   "mimetype": "text/x-python",
   "name": "python",
   "nbconvert_exporter": "python",
   "pygments_lexer": "ipython3",
   "version": "3.7.1"
  }
 },
 "nbformat": 4,
 "nbformat_minor": 2
}
