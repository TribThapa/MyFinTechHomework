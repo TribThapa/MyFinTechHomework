{
 "cells": [
  {
   "cell_type": "code",
   "execution_count": 8,
   "metadata": {},
   "outputs": [
    {
     "name": "stdout",
     "output_type": "stream",
     "text": [
      "x is euqal to 1\n",
      "\n",
      "Creating a list of Pokemon\n",
      "\n",
      "['Pikcachu', 'Charizard', 'Bulbasaur', 'Gyarados', 'Dragionite', 'Onyx']\n",
      "\n",
      "{'title': 'Trading Log', '03-18-2019': -224, '03-19-2019': 352, '03-20-2019': 252, '03-21-2019': 354, '03-22-2019': -544, '03-23-2019': -650, '03-24-2019': 56, '03-25-2019': 123, '03-26-2019': -43, '03-27-2019': 254, '03-28-2019': 325, '03-29-2019': -123, '03-30-2019': 47, '03-31-2019': 321, '04-01-2019': 123, '04-02-2019': 133, '04-03-2019': -151, '04-04-2019': 613, '04-05-2019': 232, '04-06-2019': -311}\n",
      "\n",
      "0\n",
      "\n",
      "1\n",
      "\n",
      "2\n",
      "\n",
      "3\n",
      "\n",
      "4\n",
      "\n",
      "AAPL is booming right now\n",
      "\n"
     ]
    }
   ],
   "source": [
    "# Variables\n",
    "title = \"Frankfurter\"\n",
    "years = 23\n",
    "hourly_wage = 65.40\n",
    "expert_status = True\n",
    "\n",
    "# Conditionals\n",
    "x = 1 \n",
    "y = 10\n",
    "\n",
    "if x == 1:\n",
    "    print(f\"x is euqal to {x}\")\n",
    "    print()\n",
    "\n",
    "# Create a list of pokemon\n",
    "print(\"Creating a list of Pokemon\")\n",
    "print()\n",
    "Pokemon = [\"Pikcachu\", \"Charizard\", \"Bulbasaur\", \"Gyarados\", \"Dragionite\", \"Onyx\"]\n",
    "print(Pokemon)\n",
    "print()\n",
    "\n",
    "# Initialize a dictionary\n",
    "trading_pnl = {\n",
    "    \"title\": \"Trading Log\",\n",
    "    \"03-18-2019\": -224,\n",
    "    \"03-19-2019\": 352,\n",
    "    \"03-20-2019\": 252,\n",
    "    \"03-21-2019\": 354,\n",
    "    \"03-22-2019\": -544,\n",
    "    \"03-23-2019\": -650,\n",
    "    \"03-24-2019\": 56,\n",
    "    \"03-25-2019\": 123,\n",
    "    \"03-26-2019\": -43,\n",
    "    \"03-27-2019\": 254,\n",
    "    \"03-28-2019\": 325,\n",
    "    \"03-29-2019\": -123,\n",
    "    \"03-30-2019\": 47,\n",
    "    \"03-31-2019\": 321,\n",
    "    \"04-01-2019\": 123,\n",
    "    \"04-02-2019\": 133,\n",
    "    \"04-03-2019\": -151,\n",
    "    \"04-04-2019\": 613,\n",
    "    \"04-05-2019\": 232,\n",
    "    \"04-06-2019\": -311\n",
    "}\n",
    "print(trading_pnl)\n",
    "print()\n",
    "\n",
    "# loop over list\n",
    "for x in range(5):\n",
    "    print(x)\n",
    "    print()\n",
    "    \n",
    "# Define a function\n",
    "def main(stock_ticker):\n",
    "    aed = print(f\"{stock_ticker} is booming right now\")\n",
    "    return aed\n",
    "\n",
    "stock_ticker = \"AAPL\"\n",
    "main(stock_ticker)\n",
    "print()\n",
    "\n"
   ]
  },
  {
   "cell_type": "code",
   "execution_count": 14,
   "metadata": {},
   "outputs": [
    {
     "name": "stdout",
     "output_type": "stream",
     "text": [
      "{'name': 'Warren Buffet', 'age': 88, 'occupation': 'CEO of Berkshire Hathaway'}\n",
      "CEO of Berkshire Hathaway\n",
      "Harry Markowitz\n"
     ]
    }
   ],
   "source": [
    "# Traverse/access nested objects\n",
    "# List of Dicts\n",
    "ceo_nested_dict = [\n",
    "  {\n",
    "      \"name\": \"Warren Buffet\",\n",
    "      \"age\": 88,\n",
    "      \"occupation\": \"CEO of Berkshire Hathaway\"\n",
    "  },\n",
    "  {\n",
    "      \"name\": \"Jeff Bezos\",\n",
    "      \"age\": 55,\n",
    "      \"occupation\": \"CEO of Amazon\"\n",
    "  },\n",
    "  {\n",
    "      \"name\": \"Harry Markowitz\",\n",
    "      \"age\": 91,\n",
    "      \"occupation\": \"Professor of Finance\"\n",
    "  }\n",
    "]\n",
    "\n",
    "print(ceo_nested_dict[0])\n",
    "print(ceo_nested_dict[0][\"occupation\"])\n",
    "print(ceo_nested_dict[2][\"name\"])"
   ]
  },
  {
   "cell_type": "code",
   "execution_count": null,
   "metadata": {},
   "outputs": [],
   "source": []
  }
 ],
 "metadata": {
  "kernelspec": {
   "display_name": "Python 3",
   "language": "python",
   "name": "python3"
  },
  "language_info": {
   "codemirror_mode": {
    "name": "ipython",
    "version": 3
   },
   "file_extension": ".py",
   "mimetype": "text/x-python",
   "name": "python",
   "nbconvert_exporter": "python",
   "pygments_lexer": "ipython3",
   "version": "3.7.1"
  }
 },
 "nbformat": 4,
 "nbformat_minor": 2
}
