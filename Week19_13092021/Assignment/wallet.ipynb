{
 "cells": [
  {
   "cell_type": "code",
   "execution_count": 1,
   "id": "2ec15a61-3f16-45f8-9c3e-e164feadc81b",
   "metadata": {},
   "outputs": [
    {
     "data": {
      "text/plain": [
       "True"
      ]
     },
     "execution_count": 1,
     "metadata": {},
     "output_type": "execute_result"
    }
   ],
   "source": [
    "# Import dependencies\n",
    "import subprocess\n",
    "import json\n",
    "from dotenv import load_dotenv\n",
    "\n",
    "import os \n",
    "from dotenv import load_dotenv\n",
    "from pathlib import Path\n",
    "from pprint import pprint\n",
    "\n",
    "from constants import *\n",
    "from web3 import Web3\n",
    "from eth_account import Account \n",
    "\n",
    "from web3.middleware import geth_poa_middleware\n",
    "from web3 import Web3, middleware, Account\n",
    "from web3.gas_strategies.time_based import medium_gas_price_strategy\n",
    "from web3.middleware import geth_poa_middleware\n",
    "\n",
    "from bit import PrivateKeyTestnet\n",
    "from bit.network import NetworkAPI\n",
    "\n",
    "load_dotenv()"
   ]
  },
  {
   "cell_type": "code",
   "execution_count": 22,
   "id": "f426a603-cc36-4a4b-8acb-9f1a37fd76b4",
   "metadata": {},
   "outputs": [
    {
     "name": "stdout",
     "output_type": "stream",
     "text": [
      "<function coins at 0x0000016DD0FD95E8>\n",
      "\n",
      "<class 'str'>\n"
     ]
    }
   ],
   "source": [
    "# connect to Web3\n",
    "w3 = Web3(Web3.HTTPProvider('http://localhost:8545'))\n",
    "\n",
    "# enable PoA middleware\n",
    "w3.middleware_onion.inject(geth_poa_middleware, layer=0)\n",
    "w3.eth.setGasPriceStrategy(medium_gas_price_strategy)\n",
    "\n",
    "# get mnemonic\n",
    "mnemonic = os.getenv('mnemonic')\n",
    "\n",
    "# get coins from constants.py file\n",
    "coin = BTC\n",
    "\n",
    "# print results\n",
    "print(coins)\n",
    "print()\n",
    "print(type(mnemonic))"
   ]
  },
  {
   "cell_type": "code",
   "execution_count": 30,
   "id": "d4243c1a-a58e-4581-9676-a01aaeed4e40",
   "metadata": {},
   "outputs": [],
   "source": [
    "# func for wallet\n",
    "def derive_wallets(mnemonic, coin, numderive=3):\n",
    "    command = f\"./derive -g --mnemonic='{mnemonic}' --coin='{coin}'  --numderive='{numderive}' --cols=path,address,privkey,pubkey --format=json\"\n",
    "    p = subprocess.Popen(command, stdout=subprocess.PIPE, shell=True)\n",
    "    (output, err) = p.communicate()\n",
    "    p_status = p.wait()\n",
    "    keys = json.loads(output) \n",
    "    return print(keys)\n",
    "\n",
    "\n",
    "    \n",
    "# func for coins\n",
    "def coins():\n",
    "    coin_dict = {}\n",
    "    \n",
    "    for i in coins:        \n",
    "        coin_dict[i] = derive_wallets(mnemonic, i, 3)        \n",
    "    return coin_dict\n",
    "\n",
    "\n",
    "\n",
    "# convert the `privkey` string in a child key to an account object that `bit` or `web3.py` can use to transact\n",
    "def priv_key_to_account(coin, priv_key):\n",
    "    if coin == ETH:\n",
    "        private_key = Account.privateKeyToAccount(priv_key)\n",
    "    elif coin == BTCTEST:\n",
    "        private_key = PrivateKeyTestnet(priv_key)\n",
    "    return private_key\n",
    "\n",
    "\n",
    "\n",
    "# create the raw, unsigned transaction that contains all metadata needed to transact\n",
    "def create_tx(coin, account, to, amount):\n",
    "    if coin=='eth':\n",
    "        value = w3.toWei(amount, \"ether\")\n",
    "        gasEstimate = w3.eth.estimateGas({\"from\": account.address, \"to\": to, \"amount\": value})\n",
    "        return {\"from\": account.address,\n",
    "                \"to\": to,\n",
    "                \"value\": value,\n",
    "                \"gas\": gasEstimate,\n",
    "                \"gasPrice\": w3.eth.generateGasPrice(),\n",
    "                \"nonce\": w3.eth.getTransactionCount(account.address),\n",
    "                \"chainID\": w3.eth.chain_id}\n",
    "    \n",
    "    elif coin=='btc-test':        \n",
    "        return PrivateKeyTestnet.prepare_transaction(account.address, [(to, amount, BTC)])\n",
    "    \n",
    "    \n",
    "# call `create_tx`, sign the transaction, then send it to the designated network    \n",
    "def send_tx(coin, account, to, amount):\n",
    "    if coin == ETH:\n",
    "        raw_tx = create_tx(coin, account.address, to, amount)\n",
    "        signed = account.signTransaction(raw_tx)\n",
    "        return w3.eth.sendRawTransaction(signed.rawTransaction)\n",
    "    if coin == BTCTEST:\n",
    "        raw_tx = create_tx(coin, account, to, amount)\n",
    "        signed = account.sign_transaction(raw_tx)\n",
    "        return NetworkAPI.broadcast_tx_testnet(signed)    "
   ]
  },
  {
   "cell_type": "code",
   "execution_count": null,
   "id": "d9a96c16-d42d-4e21-a422-1f4ab8d20104",
   "metadata": {},
   "outputs": [],
   "source": [
    "coins = {ETH: derive_wallets(mnemonic, coin),\n",
    "         BTCTEST: derive_wallets(mnemonic, coin)}\n",
    "\n",
    "pprint(coins)"
   ]
  }
 ],
 "metadata": {
  "kernelspec": {
   "display_name": "Python 3",
   "language": "python",
   "name": "python3"
  },
  "language_info": {
   "codemirror_mode": {
    "name": "ipython",
    "version": 3
   },
   "file_extension": ".py",
   "mimetype": "text/x-python",
   "name": "python",
   "nbconvert_exporter": "python",
   "pygments_lexer": "ipython3",
   "version": "3.7.10"
  }
 },
 "nbformat": 4,
 "nbformat_minor": 5
}
