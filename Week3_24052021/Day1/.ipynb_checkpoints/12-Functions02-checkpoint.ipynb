{
 "cells": [
  {
   "cell_type": "code",
   "execution_count": 19,
   "metadata": {},
   "outputs": [
    {
     "name": "stdout",
     "output_type": "stream",
     "text": [
      "Hello, Thapaarglebargle!\n",
      "Argument: Thapa\n",
      "Result: wibblyThapa\n",
      "The added sum is 100.\n",
      "100\n",
      "215\n",
      "dance!\n",
      "Argument: Thapa\n",
      "Result: wibblyThapa\n",
      "None\n",
      "Hello, Thapaarglebargle!\n",
      "None\n"
     ]
    }
   ],
   "source": [
    "# Define a function \"warble\" that takes in a string as an argument, adds \" arglebargle\" to the end of it, and returns the result.\n",
    "def warble(string):\n",
    "    s = string + 'arglebargle'\n",
    "    print(f'Hello, {s}!')\n",
    "    return\n",
    "\n",
    "warble('Thapa')\n",
    "\n",
    "# Define a function \"wibble\" that takes a string as an argument, prints the argument, prepends \"wibbly \" to the argument, and returns the result\n",
    "def wibble(s):\n",
    "    a = print(f'Argument: {s}')\n",
    "    b = 'wibbly' + s\n",
    "    print(f'Result: {b}')\n",
    "    return\n",
    "wibble('Thapa')\n",
    "    \n",
    "# Define a function \"print_sum\" that takes in two numbers as arguments and prints the sum of those two numbers.\n",
    "def print_sum(num1, num2):\n",
    "    add = num1 + num2\n",
    "    print(f\"The added sum is {add}.\")\n",
    "    return\n",
    "\n",
    "asd = 10\n",
    "erf = 90\n",
    "print_sum(asd, erf)\n",
    "\n",
    "# Define a function \"return_sum\" that takes in two numbers as arguments and returns the sum of those two numbers\n",
    "def return_sum(a1, a2):\n",
    "    f = a1 + a2\n",
    "    print(f)\n",
    "    return\n",
    "\n",
    "qwe = 10\n",
    "wer = 90\n",
    "return_sum(qwe, wer)\n",
    "\n",
    "# Define a function \"triple_sum\" that takes in 3 arguments and returns the sum of those 3 numbers.\n",
    "def triple_sum(d,f,g):\n",
    "    kl = d + f + g\n",
    "    print(kl)\n",
    "    return\n",
    "\n",
    "ghj = 50\n",
    "asdf = 90\n",
    "asdfw = 75\n",
    "triple_sum(ghj, asdf, asdfw)\n",
    "\n",
    "# Define a function \"dance_party\" that takes in a string as an argument, prints \"dance!\", updates the string from calling \"wibble\" function with that argument, updates the string from calling \"warble\" function with that argument, returns the updated string\n",
    "def dance_party(mno):\n",
    "    print('dance!')\n",
    "    new_string1 = wibble(mno)\n",
    "    print(new_string1)\n",
    "    new_string2 = warble(mno)\n",
    "    print(new_string2)\n",
    "    return\n",
    "\n",
    "dance_party('Thapa')"
   ]
  }
 ],
 "metadata": {
  "kernelspec": {
   "display_name": "Python 3",
   "language": "python",
   "name": "python3"
  },
  "language_info": {
   "codemirror_mode": {
    "name": "ipython",
    "version": 3
   },
   "file_extension": ".py",
   "mimetype": "text/x-python",
   "name": "python",
   "nbconvert_exporter": "python",
   "pygments_lexer": "ipython3",
   "version": "3.7.1"
  }
 },
 "nbformat": 4,
 "nbformat_minor": 2
}
