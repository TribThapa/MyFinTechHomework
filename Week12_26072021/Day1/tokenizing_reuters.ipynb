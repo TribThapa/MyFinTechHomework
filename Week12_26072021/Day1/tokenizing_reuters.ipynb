{
 "cells": [
  {
   "cell_type": "markdown",
   "metadata": {},
   "source": [
    "# Student Activity: Tokenizing Reuters"
   ]
  },
  {
   "cell_type": "code",
   "execution_count": 1,
   "metadata": {},
   "outputs": [],
   "source": [
    "from nltk.corpus import reuters\n",
    "from nltk.tokenize import sent_tokenize, word_tokenize\n",
    "import pandas as pd"
   ]
  },
  {
   "cell_type": "code",
   "execution_count": 2,
   "metadata": {},
   "outputs": [
    {
     "name": "stdout",
     "output_type": "stream",
     "text": [
      "['acq', 'alum', 'barley', 'bop', 'carcass', 'castor-oil', 'cocoa', 'coconut', 'coconut-oil', 'coffee', 'copper', 'copra-cake', 'corn', 'cotton', 'cotton-oil', 'cpi', 'cpu', 'crude', 'dfl', 'dlr', 'dmk', 'earn', 'fuel', 'gas', 'gnp', 'gold', 'grain', 'groundnut', 'groundnut-oil', 'heat', 'hog', 'housing', 'income', 'instal-debt', 'interest', 'ipi', 'iron-steel', 'jet', 'jobs', 'l-cattle', 'lead', 'lei', 'lin-oil', 'livestock', 'lumber', 'meal-feed', 'money-fx', 'money-supply', 'naphtha', 'nat-gas', 'nickel', 'nkr', 'nzdlr', 'oat', 'oilseed', 'orange', 'palladium', 'palm-oil', 'palmkernel', 'pet-chem', 'platinum', 'potato', 'propane', 'rand', 'rape-oil', 'rapeseed', 'reserves', 'retail', 'rice', 'rubber', 'rye', 'ship', 'silver', 'sorghum', 'soy-meal', 'soy-oil', 'soybean', 'strategic-metal', 'sugar', 'sun-meal', 'sun-oil', 'sunseed', 'tea', 'tin', 'trade', 'veg-oil', 'wheat', 'wpi', 'yen', 'zinc']\n"
     ]
    }
   ],
   "source": [
    "# Search through all categories\n",
    "print(reuters.categories())"
   ]
  },
  {
   "cell_type": "code",
   "execution_count": 3,
   "metadata": {},
   "outputs": [
    {
     "data": {
      "text/plain": [
       "97"
      ]
     },
     "execution_count": 3,
     "metadata": {},
     "output_type": "execute_result"
    }
   ],
   "source": [
    "# Get all fileids associated with cpi\n",
    "cpi = reuters.fileids(categories='cpi')\n",
    "\n",
    "len(cpi)"
   ]
  },
  {
   "cell_type": "code",
   "execution_count": 13,
   "metadata": {},
   "outputs": [
    {
     "data": {
      "text/plain": [
       "'ECONOMIC SPOTLIGHT - KUWAITI ECONOMY\\n  Kuwait\\'s oil-reliant and debt-ridden\\n  economy has started to pull out of a nosedive but oil prices\\n  will determine the pace of recovery, bankers and economists\\n  say.\\n      Crucial will be the ability of the 13-member OPEC to hold\\n  oil prices around a new benchmark of 18 dlrs a barrel in the\\n  northern hemisphere summer when demand usually slackens.\\n      Bankers estimate the economy, measured in terms of gross\\n  domestic product (gdp), shrank 19 pct in real terms last year\\n  after contracting 8.1 pct the year before.\\n      This was after taking into account inflation in consumer\\n  prices of 1.5 pct in 1985, slowing to 1.0 pct in 1986.\\n      Factors depressing economic activity include the\\n  6-1/2-year-old Iran-Iraq war on Kuwait\\'s doorstep, which\\n  threatens the emirate\\'s vital oil export lifeline through the\\n  Gulf and has sapped business confidence.\\n      But sentiment received a much-needed boost in September\\n  when, after a series of piecemeal steps to combat a debt crisis\\n  caused by the 1982 crash of local stock market, a comprehensive\\n  new debt settlement program was introduced.\\n      The share crash, result of a speculative spree in forward\\n  trading, left 95 billion dlrs of post-dated cheques in default.\\n      The cheques were also used as collateral for consumer\\n  spending, thus generating an informal credit system.\\n      Much of the debt has been watered down but big sums are\\n  still owed by individuals and companies.\\n      There was some 4.4 billion dinars (about 15.7 billion dlrs)\\n  in outstanding bank credit at the end of 1986, of which\\n  one-quarter to one-third was estimated by bankers to rank as\\n  bad or doubtful debt. But the government has repeatedly said it\\n  will not allow any banks to go under.\\n      The new debt settlement scheme entails a rescheduling of\\n  problem credit over 10 to 15 years, depending on whether\\n  debtors have regular cash flows or not.\\n      Banks\\' shareholders and depositors will have their rights\\n  guaranteed by the government -- an edict of vital significance\\n  in a country of only 1.7 mln people where the financial sector\\n  is the biggest after oil.\\n      Kuwait is better placed than any other OPEC country to ride\\n  out the oil glut, bankers and economists say.\\n      Kuwait has an OPEC quota of 948,000 barrels per day (bpd)\\n  compared with production capacity of 4.0 mln bpd mentioned last\\n  year by Oil Minister Sheikh Ali al-Khalifa al-Sabah.\\n      But strategic diversification into downstream operations in\\n  Europe several years ago and a hefty refining investment at\\n  home gives it guaranteed markets abroad and enables it to sell\\n  over one-half of its output as high-grade refined oil products.\\n      Oil industry sources say Kuwait is able to get an average\\n  2.00 dlrs a barrel more by selling oil in the form of processed\\n  product such as gas oil, kerosene and naphtha, rather than as\\n  crude.\\n      Bankers say the rebound in oil prices is the major reason\\n  for cautious optimism. Other reasons are low domestic\\n  inflation, a bottoming out of the fall in imports in recent\\n  years and signs government spending on productive sectors will\\n  remain steady.\\n      External accounts are in good shape, with an estimated 1.8\\n  billion dinar current account surplus in 1986, 16 pct below\\n  that for 1985, but still an achievement in the recession-hit\\n  Gulf.\\n      Kuwait\\'s petrodollar reserves in mid-1986 were put\\n  officially at over 80 billion dlrs, earning investment income\\n  of the equivalent of about 3.65 billion dlrs a year.\\n      But for the first time since the end of the oil boom, these\\n  reserves may not be enough to prevent a \"real\" budget deficit for\\n  the 1986/87 fiscal year ending June 30, bankers say.\\n      In a budget portrayed by bankers as mildly contractionary,\\n  revenues for 1986/87 were cut 38.6 pct and spending 11 pct,\\n  doubling the nominal deficit to 1.33 billion dinars.\\n      This left out income from state reserves, usually excluded\\n  in official budget accounting, which are forecast by bankers at\\n  up to 1.0 billion dinars in 1986/87, resulting in some\\n  shortfall.\\n      Bankers say it is too early to venture a forecast for\\n  economic growth this year or next.\\n      \"It depends on oil prices,\" one said. \"This summer is\\n  important.\"\\n      Cabinet Affairs Minister Rashid al-Rashid said last Sunday\\n  the cabinet has ratified recommendations to rationalise state\\n  spending in favour of productive sectors and reactivate the\\n  economy.\\n      He gave no details but bankers say these are expected to be\\n  spelled out in the 1987/88 budget, possibly in June.\\n  \\n\\n'"
      ]
     },
     "execution_count": 13,
     "metadata": {},
     "output_type": "execute_result"
    }
   ],
   "source": [
    "# get all raw stories\n",
    "cpi_stories_list = []\n",
    "\n",
    "for i in range(len(cpi)):\n",
    "    \n",
    "    cpi_raw = reuters.raw(cpi[i])\n",
    "    \n",
    "    cpi_stories_list.append(cpi_raw)\n",
    "    \n",
    "cpi_stories_list[0]"
   ]
  },
  {
   "cell_type": "code",
   "execution_count": 12,
   "metadata": {},
   "outputs": [
    {
     "data": {
      "text/plain": [
       "[\"ECONOMIC SPOTLIGHT - KUWAITI ECONOMY\\n  Kuwait's oil-reliant and debt-ridden\\n  economy has started to pull out of a nosedive but oil prices\\n  will determine the pace of recovery, bankers and economists\\n  say.\",\n",
       " 'Crucial will be the ability of the 13-member OPEC to hold\\n  oil prices around a new benchmark of 18 dlrs a barrel in the\\n  northern hemisphere summer when demand usually slackens.',\n",
       " 'Bankers estimate the economy, measured in terms of gross\\n  domestic product (gdp), shrank 19 pct in real terms last year\\n  after contracting 8.1 pct the year before.',\n",
       " 'This was after taking into account inflation in consumer\\n  prices of 1.5 pct in 1985, slowing to 1.0 pct in 1986.',\n",
       " \"Factors depressing economic activity include the\\n  6-1/2-year-old Iran-Iraq war on Kuwait's doorstep, which\\n  threatens the emirate's vital oil export lifeline through the\\n  Gulf and has sapped business confidence.\",\n",
       " 'But sentiment received a much-needed boost in September\\n  when, after a series of piecemeal steps to combat a debt crisis\\n  caused by the 1982 crash of local stock market, a comprehensive\\n  new debt settlement program was introduced.',\n",
       " 'The share crash, result of a speculative spree in forward\\n  trading, left 95 billion dlrs of post-dated cheques in default.',\n",
       " 'The cheques were also used as collateral for consumer\\n  spending, thus generating an informal credit system.',\n",
       " 'Much of the debt has been watered down but big sums are\\n  still owed by individuals and companies.',\n",
       " 'There was some 4.4 billion dinars (about 15.7 billion dlrs)\\n  in outstanding bank credit at the end of 1986, of which\\n  one-quarter to one-third was estimated by bankers to rank as\\n  bad or doubtful debt.',\n",
       " 'But the government has repeatedly said it\\n  will not allow any banks to go under.',\n",
       " 'The new debt settlement scheme entails a rescheduling of\\n  problem credit over 10 to 15 years, depending on whether\\n  debtors have regular cash flows or not.',\n",
       " \"Banks' shareholders and depositors will have their rights\\n  guaranteed by the government -- an edict of vital significance\\n  in a country of only 1.7 mln people where the financial sector\\n  is the biggest after oil.\",\n",
       " 'Kuwait is better placed than any other OPEC country to ride\\n  out the oil glut, bankers and economists say.',\n",
       " 'Kuwait has an OPEC quota of 948,000 barrels per day (bpd)\\n  compared with production capacity of 4.0 mln bpd mentioned last\\n  year by Oil Minister Sheikh Ali al-Khalifa al-Sabah.',\n",
       " 'But strategic diversification into downstream operations in\\n  Europe several years ago and a hefty refining investment at\\n  home gives it guaranteed markets abroad and enables it to sell\\n  over one-half of its output as high-grade refined oil products.',\n",
       " 'Oil industry sources say Kuwait is able to get an average\\n  2.00 dlrs a barrel more by selling oil in the form of processed\\n  product such as gas oil, kerosene and naphtha, rather than as\\n  crude.',\n",
       " 'Bankers say the rebound in oil prices is the major reason\\n  for cautious optimism.',\n",
       " 'Other reasons are low domestic\\n  inflation, a bottoming out of the fall in imports in recent\\n  years and signs government spending on productive sectors will\\n  remain steady.',\n",
       " 'External accounts are in good shape, with an estimated 1.8\\n  billion dinar current account surplus in 1986, 16 pct below\\n  that for 1985, but still an achievement in the recession-hit\\n  Gulf.',\n",
       " \"Kuwait's petrodollar reserves in mid-1986 were put\\n  officially at over 80 billion dlrs, earning investment income\\n  of the equivalent of about 3.65 billion dlrs a year.\",\n",
       " 'But for the first time since the end of the oil boom, these\\n  reserves may not be enough to prevent a \"real\" budget deficit for\\n  the 1986/87 fiscal year ending June 30, bankers say.',\n",
       " 'In a budget portrayed by bankers as mildly contractionary,\\n  revenues for 1986/87 were cut 38.6 pct and spending 11 pct,\\n  doubling the nominal deficit to 1.33 billion dinars.',\n",
       " 'This left out income from state reserves, usually excluded\\n  in official budget accounting, which are forecast by bankers at\\n  up to 1.0 billion dinars in 1986/87, resulting in some\\n  shortfall.',\n",
       " 'Bankers say it is too early to venture a forecast for\\n  economic growth this year or next.',\n",
       " '\"It depends on oil prices,\" one said.',\n",
       " '\"This summer is\\n  important.\"',\n",
       " 'Cabinet Affairs Minister Rashid al-Rashid said last Sunday\\n  the cabinet has ratified recommendations to rationalise state\\n  spending in favour of productive sectors and reactivate the\\n  economy.',\n",
       " 'He gave no details but bankers say these are expected to be\\n  spelled out in the 1987/88 budget, possibly in June.']"
      ]
     },
     "execution_count": 12,
     "metadata": {},
     "output_type": "execute_result"
    }
   ],
   "source": [
    "cpi_sentence_list = []\n",
    "\n",
    "for j in range(len(cpi_stories_list)):\n",
    "    \n",
    "    cpi_sentences = sent_tokenize(cpi_stories_list[j])\n",
    "    \n",
    "    cpi_sentence_list.append(cpi_sentences)\n",
    "    \n",
    "cpi_sentence_list[0]"
   ]
  },
  {
   "cell_type": "code",
   "execution_count": 16,
   "metadata": {},
   "outputs": [
    {
     "data": {
      "text/plain": [
       "97"
      ]
     },
     "execution_count": 16,
     "metadata": {},
     "output_type": "execute_result"
    }
   ],
   "source": [
    "cpi_word_list = []\n",
    "\n",
    "for k in range(len(cpi_sentence_list)):\n",
    "    \n",
    "    new_list = []\n",
    "    \n",
    "    for l in range(len(cpi_sentence_list[k])):\n",
    "        \n",
    "        word_tokenisation = word_tokenize(cpi_sentence_list[k][l])\n",
    "        \n",
    "        new_list.append(word_tokenisation)\n",
    "        \n",
    "    cpi_word_list.append(new_list)\n",
    "             \n",
    "len(cpi_word_list)"
   ]
  },
  {
   "cell_type": "code",
   "execution_count": 23,
   "metadata": {},
   "outputs": [
    {
     "data": {
      "text/html": [
       "<div>\n",
       "<style scoped>\n",
       "    .dataframe tbody tr th:only-of-type {\n",
       "        vertical-align: middle;\n",
       "    }\n",
       "\n",
       "    .dataframe tbody tr th {\n",
       "        vertical-align: top;\n",
       "    }\n",
       "\n",
       "    .dataframe thead th {\n",
       "        text-align: right;\n",
       "    }\n",
       "</style>\n",
       "<table border=\"1\" class=\"dataframe\">\n",
       "  <thead>\n",
       "    <tr style=\"text-align: right;\">\n",
       "      <th></th>\n",
       "      <th>File_IDs</th>\n",
       "      <th>Raw stories</th>\n",
       "      <th>Sentence Tokenized</th>\n",
       "      <th>Word Tokenized</th>\n",
       "    </tr>\n",
       "  </thead>\n",
       "  <tbody>\n",
       "    <tr>\n",
       "      <th>0</th>\n",
       "      <td>test/14891</td>\n",
       "      <td>ECONOMIC SPOTLIGHT - KUWAITI ECONOMY\\n  Kuwait...</td>\n",
       "      <td>[ECONOMIC SPOTLIGHT - KUWAITI ECONOMY\\n  Kuwai...</td>\n",
       "      <td>[[ECONOMIC, SPOTLIGHT, -, KUWAITI, ECONOMY, Ku...</td>\n",
       "    </tr>\n",
       "    <tr>\n",
       "      <th>1</th>\n",
       "      <td>test/14918</td>\n",
       "      <td>INDONESIAN INFLATION RATE 8.8 PCT IN 1986/87\\n...</td>\n",
       "      <td>[INDONESIAN INFLATION RATE 8.8 PCT IN 1986/87\\...</td>\n",
       "      <td>[[INDONESIAN, INFLATION, RATE, 8.8, PCT, IN, 1...</td>\n",
       "    </tr>\n",
       "    <tr>\n",
       "      <th>2</th>\n",
       "      <td>test/16103</td>\n",
       "      <td>HUNGARY RAISES PRICES IN EFFORT TO CURB DEFICI...</td>\n",
       "      <td>[HUNGARY RAISES PRICES IN EFFORT TO CURB DEFIC...</td>\n",
       "      <td>[[HUNGARY, RAISES, PRICES, IN, EFFORT, TO, CUR...</td>\n",
       "    </tr>\n",
       "    <tr>\n",
       "      <th>3</th>\n",
       "      <td>test/16108</td>\n",
       "      <td>AUSTRALIAN GOVERNMENT MUST CUT SPENDING, ANZ S...</td>\n",
       "      <td>[AUSTRALIAN GOVERNMENT MUST CUT SPENDING, ANZ ...</td>\n",
       "      <td>[[AUSTRALIAN, GOVERNMENT, MUST, CUT, SPENDING,...</td>\n",
       "    </tr>\n",
       "    <tr>\n",
       "      <th>4</th>\n",
       "      <td>test/16118</td>\n",
       "      <td>YUGOSLAV ECONOMY WORSENED IN 1986, BANK DATA S...</td>\n",
       "      <td>[YUGOSLAV ECONOMY WORSENED IN 1986, BANK DATA ...</td>\n",
       "      <td>[[YUGOSLAV, ECONOMY, WORSENED, IN, 1986, ,, BA...</td>\n",
       "    </tr>\n",
       "  </tbody>\n",
       "</table>\n",
       "</div>"
      ],
      "text/plain": [
       "     File_IDs                                        Raw stories  \\\n",
       "0  test/14891  ECONOMIC SPOTLIGHT - KUWAITI ECONOMY\\n  Kuwait...   \n",
       "1  test/14918  INDONESIAN INFLATION RATE 8.8 PCT IN 1986/87\\n...   \n",
       "2  test/16103  HUNGARY RAISES PRICES IN EFFORT TO CURB DEFICI...   \n",
       "3  test/16108  AUSTRALIAN GOVERNMENT MUST CUT SPENDING, ANZ S...   \n",
       "4  test/16118  YUGOSLAV ECONOMY WORSENED IN 1986, BANK DATA S...   \n",
       "\n",
       "                                  Sentence Tokenized  \\\n",
       "0  [ECONOMIC SPOTLIGHT - KUWAITI ECONOMY\\n  Kuwai...   \n",
       "1  [INDONESIAN INFLATION RATE 8.8 PCT IN 1986/87\\...   \n",
       "2  [HUNGARY RAISES PRICES IN EFFORT TO CURB DEFIC...   \n",
       "3  [AUSTRALIAN GOVERNMENT MUST CUT SPENDING, ANZ ...   \n",
       "4  [YUGOSLAV ECONOMY WORSENED IN 1986, BANK DATA ...   \n",
       "\n",
       "                                      Word Tokenized  \n",
       "0  [[ECONOMIC, SPOTLIGHT, -, KUWAITI, ECONOMY, Ku...  \n",
       "1  [[INDONESIAN, INFLATION, RATE, 8.8, PCT, IN, 1...  \n",
       "2  [[HUNGARY, RAISES, PRICES, IN, EFFORT, TO, CUR...  \n",
       "3  [[AUSTRALIAN, GOVERNMENT, MUST, CUT, SPENDING,...  \n",
       "4  [[YUGOSLAV, ECONOMY, WORSENED, IN, 1986, ,, BA...  "
      ]
     },
     "execution_count": 23,
     "metadata": {},
     "output_type": "execute_result"
    }
   ],
   "source": [
    "# Put everything into a DataFrame\n",
    "final_df = pd.DataFrame({\"File_IDs\": cpi,\n",
    "                         \"Raw stories\": cpi_stories_list,\n",
    "                         \"Sentence Tokenized\": cpi_sentence_list,\n",
    "                         \"Word Tokenized\": cpi_word_list})\n",
    "\n",
    "\n",
    "final_df.head()"
   ]
  },
  {
   "cell_type": "code",
   "execution_count": 24,
   "metadata": {},
   "outputs": [
    {
     "data": {
      "text/plain": [
       "(97, 4)"
      ]
     },
     "execution_count": 24,
     "metadata": {},
     "output_type": "execute_result"
    }
   ],
   "source": [
    "final_df.shape"
   ]
  },
  {
   "cell_type": "code",
   "execution_count": 8,
   "metadata": {},
   "outputs": [
    {
     "data": {
      "text/html": [
       "<div>\n",
       "<style scoped>\n",
       "    .dataframe tbody tr th:only-of-type {\n",
       "        vertical-align: middle;\n",
       "    }\n",
       "\n",
       "    .dataframe tbody tr th {\n",
       "        vertical-align: top;\n",
       "    }\n",
       "\n",
       "    .dataframe thead th {\n",
       "        text-align: right;\n",
       "    }\n",
       "</style>\n",
       "<table border=\"1\" class=\"dataframe\">\n",
       "  <thead>\n",
       "    <tr style=\"text-align: right;\">\n",
       "      <th></th>\n",
       "      <th>raw_stories</th>\n",
       "      <th>sentence_tokenized</th>\n",
       "      <th>word_tokenized</th>\n",
       "    </tr>\n",
       "  </thead>\n",
       "  <tbody>\n",
       "    <tr>\n",
       "      <th>test/14891</th>\n",
       "      <td>ECONOMIC SPOTLIGHT - KUWAITI ECONOMY\\n  Kuwait...</td>\n",
       "      <td>[ECONOMIC SPOTLIGHT - KUWAITI ECONOMY\\n  Kuwai...</td>\n",
       "      <td>[ECONOMIC, SPOTLIGHT, -, KUWAITI, ECONOMY, Kuw...</td>\n",
       "    </tr>\n",
       "    <tr>\n",
       "      <th>test/14918</th>\n",
       "      <td>INDONESIAN INFLATION RATE 8.8 PCT IN 1986/87\\n...</td>\n",
       "      <td>[INDONESIAN INFLATION RATE 8.8 PCT IN 1986/87\\...</td>\n",
       "      <td>[INDONESIAN, INFLATION, RATE, 8.8, PCT, IN, 19...</td>\n",
       "    </tr>\n",
       "    <tr>\n",
       "      <th>test/16103</th>\n",
       "      <td>HUNGARY RAISES PRICES IN EFFORT TO CURB DEFICI...</td>\n",
       "      <td>[HUNGARY RAISES PRICES IN EFFORT TO CURB DEFIC...</td>\n",
       "      <td>[HUNGARY, RAISES, PRICES, IN, EFFORT, TO, CURB...</td>\n",
       "    </tr>\n",
       "    <tr>\n",
       "      <th>test/16108</th>\n",
       "      <td>AUSTRALIAN GOVERNMENT MUST CUT SPENDING, ANZ S...</td>\n",
       "      <td>[AUSTRALIAN GOVERNMENT MUST CUT SPENDING, ANZ ...</td>\n",
       "      <td>[AUSTRALIAN, GOVERNMENT, MUST, CUT, SPENDING, ...</td>\n",
       "    </tr>\n",
       "    <tr>\n",
       "      <th>test/16118</th>\n",
       "      <td>YUGOSLAV ECONOMY WORSENED IN 1986, BANK DATA S...</td>\n",
       "      <td>[YUGOSLAV ECONOMY WORSENED IN 1986, BANK DATA ...</td>\n",
       "      <td>[YUGOSLAV, ECONOMY, WORSENED, IN, 1986, ,, BAN...</td>\n",
       "    </tr>\n",
       "  </tbody>\n",
       "</table>\n",
       "</div>"
      ],
      "text/plain": [
       "                                                  raw_stories  \\\n",
       "test/14891  ECONOMIC SPOTLIGHT - KUWAITI ECONOMY\\n  Kuwait...   \n",
       "test/14918  INDONESIAN INFLATION RATE 8.8 PCT IN 1986/87\\n...   \n",
       "test/16103  HUNGARY RAISES PRICES IN EFFORT TO CURB DEFICI...   \n",
       "test/16108  AUSTRALIAN GOVERNMENT MUST CUT SPENDING, ANZ S...   \n",
       "test/16118  YUGOSLAV ECONOMY WORSENED IN 1986, BANK DATA S...   \n",
       "\n",
       "                                           sentence_tokenized  \\\n",
       "test/14891  [ECONOMIC SPOTLIGHT - KUWAITI ECONOMY\\n  Kuwai...   \n",
       "test/14918  [INDONESIAN INFLATION RATE 8.8 PCT IN 1986/87\\...   \n",
       "test/16103  [HUNGARY RAISES PRICES IN EFFORT TO CURB DEFIC...   \n",
       "test/16108  [AUSTRALIAN GOVERNMENT MUST CUT SPENDING, ANZ ...   \n",
       "test/16118  [YUGOSLAV ECONOMY WORSENED IN 1986, BANK DATA ...   \n",
       "\n",
       "                                               word_tokenized  \n",
       "test/14891  [ECONOMIC, SPOTLIGHT, -, KUWAITI, ECONOMY, Kuw...  \n",
       "test/14918  [INDONESIAN, INFLATION, RATE, 8.8, PCT, IN, 19...  \n",
       "test/16103  [HUNGARY, RAISES, PRICES, IN, EFFORT, TO, CURB...  \n",
       "test/16108  [AUSTRALIAN, GOVERNMENT, MUST, CUT, SPENDING, ...  \n",
       "test/16118  [YUGOSLAV, ECONOMY, WORSENED, IN, 1986, ,, BAN...  "
      ]
     },
     "execution_count": 8,
     "metadata": {},
     "output_type": "execute_result"
    }
   ],
   "source": [
    "# Preview the DataFrame\n",
    "\n",
    "# YOUR CODE HERE"
   ]
  },
  {
   "cell_type": "code",
   "execution_count": null,
   "metadata": {},
   "outputs": [],
   "source": []
  }
 ],
 "metadata": {
  "kernelspec": {
   "display_name": "Python 3",
   "language": "python",
   "name": "python3"
  },
  "language_info": {
   "codemirror_mode": {
    "name": "ipython",
    "version": 3
   },
   "file_extension": ".py",
   "mimetype": "text/x-python",
   "name": "python",
   "nbconvert_exporter": "python",
   "pygments_lexer": "ipython3",
   "version": "3.8.8"
  }
 },
 "nbformat": 4,
 "nbformat_minor": 4
}
