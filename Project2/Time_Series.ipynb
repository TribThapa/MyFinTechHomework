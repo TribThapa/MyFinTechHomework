{
 "cells": [
  {
   "cell_type": "markdown",
   "id": "ae4864f5-3a8e-4163-b54c-5431377e8c59",
   "metadata": {},
   "source": [
    "# ARIMA "
   ]
  },
  {
   "cell_type": "code",
   "execution_count": null,
   "id": "c00a1f57-1fd4-4fb8-b99f-aaaa2d7f672d",
   "metadata": {},
   "outputs": [],
   "source": [
    "%matplotlib inline\n",
    "import yfinance as yf\n",
    "import quantstats as qs\n",
    "import numpy as np\n",
    "import pandas as pd\n",
    "\n",
    "\n",
    "import warnings\n",
    "warnings.filterwarnings('ignore')\n",
    "\n",
    "# extend pandas functionality with metrics, etc.\n",
    "qs.extend_pandas()"
   ]
  },
  {
   "cell_type": "code",
   "execution_count": 9,
   "id": "86b7d292-5090-4eb7-9963-4e691bb054d0",
   "metadata": {},
   "outputs": [],
   "source": [
    "# Import ACF and PACF plots\n",
    "from statsmodels.graphics.tsaplots import plot_acf, plot_pacf"
   ]
  },
  {
   "cell_type": "code",
   "execution_count": 10,
   "id": "7b59caae-289b-46c2-beea-0d7de41d764d",
   "metadata": {},
   "outputs": [
    {
     "data": {
      "image/png": "[encoded data removed]",
      "text/plain": [
       "<Figure size 432x288 with 1 Axes>"
      ]
     },
     "metadata": {
      "needs_background": "light"
     },
     "output_type": "display_data"
    }
   ],
   "source": [
    "# Plot ACF\n",
    "from statsmodels.graphics.tsaplots import plot_acf, plot_pacf\n",
    "\n",
    "plot_acf(df.AMZN, lags=40);"
   ]
  },
  {
   "cell_type": "code",
   "execution_count": 11,
   "id": "4fcc6cba-8264-44c2-9d54-fd00bf649599",
   "metadata": {},
   "outputs": [
    {
     "data": {
      "image/png": "[encoded data removed]",
      "text/plain": [
       "<Figure size 432x288 with 1 Axes>"
      ]
     },
     "metadata": {
      "needs_background": "light"
     },
     "output_type": "display_data"
    }
   ],
   "source": [
    "# Plot PACF\n",
    "plot_pacf(df.AMZN, zero=False, lags=20);"
   ]
  },
  {
   "cell_type": "code",
   "execution_count": 12,
   "id": "b8652e92-b446-484e-bf01-db48e8e1df75",
   "metadata": {},
   "outputs": [
    {
     "data": {
      "text/plain": [
       "(-39.77918247910233,\n",
       " 0.0,\n",
       " 0,\n",
       " 1422,\n",
       " {'1%': -3.4349569928153607,\n",
       "  '5%': -2.863574667579351,\n",
       "  '10%': -2.5678532457009697},\n",
       " -7183.534342486491)"
      ]
     },
     "execution_count": 12,
     "metadata": {},
     "output_type": "execute_result"
    }
   ],
   "source": [
    "from statsmodels.tsa.stattools import adfuller\n",
    "adfuller(df.AMZN)"
   ]
  },
  {
   "cell_type": "code",
   "execution_count": 13,
   "id": "d3a1b057-ea0e-42f9-9875-3387781e74da",
   "metadata": {},
   "outputs": [],
   "source": [
    "# Run ARIMA model\n",
    "from statsmodels.tsa.arima_model import ARIMA\n",
    "\n",
    "# Create the ARIMA model using the return values and the order\n",
    "# For the order parameter, the first 1 indicates the number of AR lags\n",
    "# For the order parameter, the second 1 indicates the number of MA lags\n",
    "\n",
    "model = ARIMA(df['AMZN'].values, order=(1,1,1))\n"
   ]
  },
  {
   "cell_type": "code",
   "execution_count": 14,
   "id": "fff51764-109c-4df3-a8a7-fd0de9125f26",
   "metadata": {},
   "outputs": [
    {
     "name": "stderr",
     "output_type": "stream",
     "text": [
      "C:\\Users\\User\\anaconda3\\envs\\algotrading\\lib\\site-packages\\statsmodels\\base\\model.py:568: ConvergenceWarning: Maximum Likelihood optimization failed to converge. Check mle_retvals\n",
      "  ConvergenceWarning)\n"
     ]
    }
   ],
   "source": [
    "# Fit the model to the data\n",
    "result_ARMA = model.fit()"
   ]
  },
  {
   "cell_type": "code",
   "execution_count": 15,
   "id": "46555f9e-ce16-473f-bf15-09f4162dedd1",
   "metadata": {},
   "outputs": [
    {
     "data": {
      "text/html": [
       "<table class=\"simpletable\">\n",
       "<caption>ARIMA Model Results</caption>\n",
       "<tr>\n",
       "  <th>Dep. Variable:</th>        <td>D.y</td>       <th>  No. Observations:  </th>   <td>1422</td>   \n",
       "</tr>\n",
       "<tr>\n",
       "  <th>Model:</th>          <td>ARIMA(1, 1, 1)</td>  <th>  Log Likelihood     </th> <td>3650.104</td> \n",
       "</tr>\n",
       "<tr>\n",
       "  <th>Method:</th>             <td>css-mle</td>     <th>  S.D. of innovations</th>   <td>0.019</td>  \n",
       "</tr>\n",
       "<tr>\n",
       "  <th>Date:</th>          <td>Thu, 26 Aug 2021</td> <th>  AIC                </th> <td>-7292.208</td>\n",
       "</tr>\n",
       "<tr>\n",
       "  <th>Time:</th>              <td>18:59:14</td>     <th>  BIC                </th> <td>-7271.169</td>\n",
       "</tr>\n",
       "<tr>\n",
       "  <th>Sample:</th>                <td>1</td>        <th>  HQIC               </th> <td>-7284.349</td>\n",
       "</tr>\n",
       "<tr>\n",
       "  <th></th>                       <td> </td>        <th>                     </th>     <td> </td>    \n",
       "</tr>\n",
       "</table>\n",
       "<table class=\"simpletable\">\n",
       "<tr>\n",
       "      <td></td>         <th>coef</th>     <th>std err</th>      <th>z</th>      <th>P>|z|</th>  <th>[0.025</th>    <th>0.975]</th>  \n",
       "</tr>\n",
       "<tr>\n",
       "  <th>const</th>     <td> 2.718e-07</td> <td> 1.02e-05</td> <td>    0.027</td> <td> 0.979</td> <td>-1.97e-05</td> <td> 2.02e-05</td>\n",
       "</tr>\n",
       "<tr>\n",
       "  <th>ar.L1.D.y</th> <td>   -0.0528</td> <td>    0.027</td> <td>   -1.925</td> <td> 0.054</td> <td>   -0.106</td> <td>    0.001</td>\n",
       "</tr>\n",
       "<tr>\n",
       "  <th>ma.L1.D.y</th> <td>   -0.9790</td> <td>    0.017</td> <td>  -58.847</td> <td> 0.000</td> <td>   -1.012</td> <td>   -0.946</td>\n",
       "</tr>\n",
       "</table>\n",
       "<table class=\"simpletable\">\n",
       "<caption>Roots</caption>\n",
       "<tr>\n",
       "    <td></td>   <th>            Real</th>  <th>         Imaginary</th> <th>         Modulus</th>  <th>        Frequency</th>\n",
       "</tr>\n",
       "<tr>\n",
       "  <th>AR.1</th> <td>         -18.9510</td> <td>          +0.0000j</td> <td>          18.9510</td> <td>           0.5000</td>\n",
       "</tr>\n",
       "<tr>\n",
       "  <th>MA.1</th> <td>           1.0215</td> <td>          +0.0000j</td> <td>           1.0215</td> <td>           0.0000</td>\n",
       "</tr>\n",
       "</table>"
      ],
      "text/plain": [
       "<class 'statsmodels.iolib.summary.Summary'>\n",
       "\"\"\"\n",
       "                             ARIMA Model Results                              \n",
       "==============================================================================\n",
       "Dep. Variable:                    D.y   No. Observations:                 1422\n",
       "Model:                 ARIMA(1, 1, 1)   Log Likelihood                3650.104\n",
       "Method:                       css-mle   S.D. of innovations              0.019\n",
       "Date:                Thu, 26 Aug 2021   AIC                          -7292.208\n",
       "Time:                        18:59:14   BIC                          -7271.169\n",
       "Sample:                             1   HQIC                         -7284.349\n",
       "                                                                              \n",
       "==============================================================================\n",
       "                 coef    std err          z      P>|z|      [0.025      0.975]\n",
       "------------------------------------------------------------------------------\n",
       "const       2.718e-07   1.02e-05      0.027      0.979   -1.97e-05    2.02e-05\n",
       "ar.L1.D.y     -0.0528      0.027     -1.925      0.054      -0.106       0.001\n",
       "ma.L1.D.y     -0.9790      0.017    -58.847      0.000      -1.012      -0.946\n",
       "                                    Roots                                    \n",
       "=============================================================================\n",
       "                  Real          Imaginary           Modulus         Frequency\n",
       "-----------------------------------------------------------------------------\n",
       "AR.1          -18.9510           +0.0000j           18.9510            0.5000\n",
       "MA.1            1.0215           +0.0000j            1.0215            0.0000\n",
       "-----------------------------------------------------------------------------\n",
       "\"\"\""
      ]
     },
     "execution_count": 15,
     "metadata": {},
     "output_type": "execute_result"
    }
   ],
   "source": [
    "# Display model summary\n",
    "result_ARMA.summary()"
   ]
  },
  {
   "cell_type": "code",
   "execution_count": 16,
   "id": "0872d28d-8952-4bcd-8651-74609f22a08f",
   "metadata": {},
   "outputs": [
    {
     "ename": "NameError",
     "evalue": "name 'results' is not defined",
     "output_type": "error",
     "traceback": [
      "\u001b[1;31m---------------------------------------------------------------------------\u001b[0m",
      "\u001b[1;31mNameError\u001b[0m                                 Traceback (most recent call last)",
      "\u001b[1;32m<ipython-input-16-5543f6476ac9>\u001b[0m in \u001b[0;36m<module>\u001b[1;34m\u001b[0m\n\u001b[1;32m----> 1\u001b[1;33m \u001b[0mpd\u001b[0m\u001b[1;33m.\u001b[0m\u001b[0mDataFrame\u001b[0m\u001b[1;33m(\u001b[0m\u001b[0mresults\u001b[0m\u001b[1;33m.\u001b[0m\u001b[0mforecast\u001b[0m\u001b[1;33m(\u001b[0m\u001b[0msteps\u001b[0m\u001b[1;33m=\u001b[0m\u001b[1;36m30\u001b[0m\u001b[1;33m)\u001b[0m\u001b[1;33m[\u001b[0m\u001b[1;36m0\u001b[0m\u001b[1;33m]\u001b[0m\u001b[1;33m)\u001b[0m\u001b[1;33m.\u001b[0m\u001b[0mplot\u001b[0m\u001b[1;33m(\u001b[0m\u001b[0mtitle\u001b[0m\u001b[1;33m=\u001b[0m\u001b[1;34m\"30 Days Forecast\"\u001b[0m\u001b[1;33m)\u001b[0m\u001b[1;33m\u001b[0m\u001b[1;33m\u001b[0m\u001b[0m\n\u001b[0m",
      "\u001b[1;31mNameError\u001b[0m: name 'results' is not defined"
     ]
    }
   ],
   "source": [
    "pd.DataFrame(results.forecast(steps=30)[0]).plot(title=\"30 Days Forecast\")"
   ]
  },
  {
   "cell_type": "markdown",
   "id": "d625a860-5dea-4140-a430-19357bd62915",
   "metadata": {},
   "source": [
    "# GARCH\n"
   ]
  },
  {
   "cell_type": "code",
   "execution_count": 17,
   "id": "8cd70df8-8557-4892-ab02-4c493b99b3e7",
   "metadata": {},
   "outputs": [
    {
     "ename": "ModuleNotFoundError",
     "evalue": "No module named 'arch'",
     "output_type": "error",
     "traceback": [
      "\u001b[1;31m---------------------------------------------------------------------------\u001b[0m",
      "\u001b[1;31mModuleNotFoundError\u001b[0m                       Traceback (most recent call last)",
      "\u001b[1;32m<ipython-input-17-412adcdd6bd6>\u001b[0m in \u001b[0;36m<module>\u001b[1;34m\u001b[0m\n\u001b[1;32m----> 1\u001b[1;33m \u001b[1;32mimport\u001b[0m \u001b[0march\u001b[0m \u001b[1;32mas\u001b[0m \u001b[0march\u001b[0m\u001b[1;33m\u001b[0m\u001b[1;33m\u001b[0m\u001b[0m\n\u001b[0m\u001b[0;32m      2\u001b[0m \u001b[1;32mfrom\u001b[0m \u001b[0march\u001b[0m \u001b[1;32mimport\u001b[0m \u001b[0march_model\u001b[0m\u001b[1;33m\u001b[0m\u001b[1;33m\u001b[0m\u001b[0m\n",
      "\u001b[1;31mModuleNotFoundError\u001b[0m: No module named 'arch'"
     ]
    }
   ],
   "source": [
    "import arch as arch\n",
    "from arch import arch_model"
   ]
  },
  {
   "cell_type": "code",
   "execution_count": 18,
   "id": "826844cf-5211-4005-a9b4-1a2f1398aa96",
   "metadata": {},
   "outputs": [],
   "source": [
    "#!pip install arch"
   ]
  },
  {
   "cell_type": "code",
   "execution_count": 32,
   "id": "3511013c-cfef-4c39-9c51-05ed77c4e59b",
   "metadata": {},
   "outputs": [],
   "source": [
    "# 'p' and 'q'  are akin to the 'p' and 'q' of an ARMA model.\n",
    "# 'vol=\"GARCH\"' means that we're using a GARCH model.\n",
    "# The 'mean=\"Zero\"' means that we're estimating a GARCH.\n",
    "\n",
    "model = arch_model(df['AMZN'], vol=\"GARCH\", p=1, q=1)\n"
   ]
  },
  {
   "cell_type": "code",
   "execution_count": 33,
   "id": "509c178a-8355-491e-bfea-37391ebc5fbd",
   "metadata": {},
   "outputs": [],
   "source": [
    "# Fit the GARCH Model\n",
    "result_GARCH = model.fit(disp=\"off\")"
   ]
  },
  {
   "cell_type": "code",
   "execution_count": 34,
   "id": "28898eea-e7d9-47db-bf42-978e20c979a5",
   "metadata": {},
   "outputs": [
    {
     "data": {
      "text/html": [
       "<table class=\"simpletable\">\n",
       "<caption>Constant Mean - GARCH Model Results</caption>\n",
       "<tr>\n",
       "  <th>Dep. Variable:</th>        <td>AMZN</td>        <th>  R-squared:         </th>  <td>   0.000</td> \n",
       "</tr>\n",
       "<tr>\n",
       "  <th>Mean Model:</th>       <td>Constant Mean</td>   <th>  Adj. R-squared:    </th>  <td>   0.000</td> \n",
       "</tr>\n",
       "<tr>\n",
       "  <th>Vol Model:</th>            <td>GARCH</td>       <th>  Log-Likelihood:    </th> <td>   3788.80</td>\n",
       "</tr>\n",
       "<tr>\n",
       "  <th>Distribution:</th>        <td>Normal</td>       <th>  AIC:               </th> <td>  -7569.61</td>\n",
       "</tr>\n",
       "<tr>\n",
       "  <th>Method:</th>        <td>Maximum Likelihood</td> <th>  BIC:               </th> <td>  -7548.57</td>\n",
       "</tr>\n",
       "<tr>\n",
       "  <th></th>                        <td></td>          <th>  No. Observations:  </th>    <td>1423</td>   \n",
       "</tr>\n",
       "<tr>\n",
       "  <th>Date:</th>           <td>Thu, Aug 26 2021</td>  <th>  Df Residuals:      </th>    <td>1422</td>   \n",
       "</tr>\n",
       "<tr>\n",
       "  <th>Time:</th>               <td>15:59:35</td>      <th>  Df Model:          </th>      <td>1</td>    \n",
       "</tr>\n",
       "</table>\n",
       "<table class=\"simpletable\">\n",
       "<caption>Mean Model</caption>\n",
       "<tr>\n",
       "   <td></td>     <th>coef</th>     <th>std err</th>      <th>t</th>       <th>P>|t|</th>     <th>95.0% Conf. Int.</th>   \n",
       "</tr>\n",
       "<tr>\n",
       "  <th>mu</th> <td>2.0021e-03</td> <td>5.192e-04</td> <td>    3.856</td> <td>1.151e-04</td> <td>[9.846e-04,3.020e-03]</td>\n",
       "</tr>\n",
       "</table>\n",
       "<table class=\"simpletable\">\n",
       "<caption>Volatility Model</caption>\n",
       "<tr>\n",
       "      <td></td>        <th>coef</th>     <th>std err</th>      <th>t</th>       <th>P>|t|</th>     <th>95.0% Conf. Int.</th>   \n",
       "</tr>\n",
       "<tr>\n",
       "  <th>omega</th>    <td>3.4094e-05</td> <td>3.465e-06</td> <td>    9.840</td> <td>7.597e-23</td> <td>[2.730e-05,4.088e-05]</td>\n",
       "</tr>\n",
       "<tr>\n",
       "  <th>alpha[1]</th> <td>    0.2000</td> <td>4.189e-02</td> <td>    4.774</td> <td>1.803e-06</td>   <td>[  0.118,  0.282]</td>  \n",
       "</tr>\n",
       "<tr>\n",
       "  <th>beta[1]</th>  <td>    0.7000</td> <td>3.755e-02</td> <td>   18.643</td> <td>1.445e-77</td>   <td>[  0.626,  0.774]</td>  \n",
       "</tr>\n",
       "</table><br/><br/>Covariance estimator: robust"
      ],
      "text/plain": [
       "<class 'statsmodels.iolib.summary.Summary'>\n",
       "\"\"\"\n",
       "                     Constant Mean - GARCH Model Results                      \n",
       "==============================================================================\n",
       "Dep. Variable:                   AMZN   R-squared:                       0.000\n",
       "Mean Model:             Constant Mean   Adj. R-squared:                  0.000\n",
       "Vol Model:                      GARCH   Log-Likelihood:                3788.80\n",
       "Distribution:                  Normal   AIC:                          -7569.61\n",
       "Method:            Maximum Likelihood   BIC:                          -7548.57\n",
       "                                        No. Observations:                 1423\n",
       "Date:                Thu, Aug 26 2021   Df Residuals:                     1422\n",
       "Time:                        15:59:35   Df Model:                            1\n",
       "                                 Mean Model                                 \n",
       "============================================================================\n",
       "                 coef    std err          t      P>|t|      95.0% Conf. Int.\n",
       "----------------------------------------------------------------------------\n",
       "mu         2.0021e-03  5.192e-04      3.856  1.151e-04 [9.846e-04,3.020e-03]\n",
       "                              Volatility Model                              \n",
       "============================================================================\n",
       "                 coef    std err          t      P>|t|      95.0% Conf. Int.\n",
       "----------------------------------------------------------------------------\n",
       "omega      3.4094e-05  3.465e-06      9.840  7.597e-23 [2.730e-05,4.088e-05]\n",
       "alpha[1]       0.2000  4.189e-02      4.774  1.803e-06     [  0.118,  0.282]\n",
       "beta[1]        0.7000  3.755e-02     18.643  1.445e-77     [  0.626,  0.774]\n",
       "============================================================================\n",
       "\n",
       "Covariance estimator: robust\n",
       "\"\"\""
      ]
     },
     "execution_count": 34,
     "metadata": {},
     "output_type": "execute_result"
    }
   ],
   "source": [
    "# Output the model summary\n",
    "result_GARCH.summary()"
   ]
  },
  {
   "cell_type": "code",
   "execution_count": 35,
   "id": "d6937cbb-92ae-4869-88d6-c380a3f65d0c",
   "metadata": {},
   "outputs": [
    {
     "data": {
      "text/plain": [
       "'2021-08-25'"
      ]
     },
     "execution_count": 35,
     "metadata": {},
     "output_type": "execute_result"
    }
   ],
   "source": [
    "# Find the last day of the dataset\n",
    "last_day = df.index.max().strftime('%Y-%m-%d')\n",
    "last_day"
   ]
  },
  {
   "cell_type": "code",
   "execution_count": 36,
   "id": "9ed7f433-8c76-4aeb-9b50-2dca3f3e9e57",
   "metadata": {},
   "outputs": [],
   "source": [
    "# Create a 30 day forecast \n",
    "forecast_horizon = 30\n",
    "forecasts = result_GARCH.forecast(start=last_day, horizon=forecast_horizon)"
   ]
  },
  {
   "cell_type": "code",
   "execution_count": 37,
   "id": "57a34ef9-31e1-4f57-aba9-a69d1811367a",
   "metadata": {},
   "outputs": [
    {
     "data": {
      "text/html": [
       "<div>\n",
       "<style scoped>\n",
       "    .dataframe tbody tr th:only-of-type {\n",
       "        vertical-align: middle;\n",
       "    }\n",
       "\n",
       "    .dataframe tbody tr th {\n",
       "        vertical-align: top;\n",
       "    }\n",
       "\n",
       "    .dataframe thead th {\n",
       "        text-align: right;\n",
       "    }\n",
       "</style>\n",
       "<table border=\"1\" class=\"dataframe\">\n",
       "  <thead>\n",
       "    <tr style=\"text-align: right;\">\n",
       "      <th></th>\n",
       "      <th>h.01</th>\n",
       "      <th>h.02</th>\n",
       "      <th>h.03</th>\n",
       "      <th>h.04</th>\n",
       "      <th>h.05</th>\n",
       "      <th>h.06</th>\n",
       "      <th>h.07</th>\n",
       "      <th>h.08</th>\n",
       "      <th>h.09</th>\n",
       "      <th>h.10</th>\n",
       "      <th>...</th>\n",
       "      <th>h.21</th>\n",
       "      <th>h.22</th>\n",
       "      <th>h.23</th>\n",
       "      <th>h.24</th>\n",
       "      <th>h.25</th>\n",
       "      <th>h.26</th>\n",
       "      <th>h.27</th>\n",
       "      <th>h.28</th>\n",
       "      <th>h.29</th>\n",
       "      <th>h.30</th>\n",
       "    </tr>\n",
       "    <tr>\n",
       "      <th>Date</th>\n",
       "      <th></th>\n",
       "      <th></th>\n",
       "      <th></th>\n",
       "      <th></th>\n",
       "      <th></th>\n",
       "      <th></th>\n",
       "      <th></th>\n",
       "      <th></th>\n",
       "      <th></th>\n",
       "      <th></th>\n",
       "      <th></th>\n",
       "      <th></th>\n",
       "      <th></th>\n",
       "      <th></th>\n",
       "      <th></th>\n",
       "      <th></th>\n",
       "      <th></th>\n",
       "      <th></th>\n",
       "      <th></th>\n",
       "      <th></th>\n",
       "      <th></th>\n",
       "    </tr>\n",
       "  </thead>\n",
       "  <tbody>\n",
       "    <tr>\n",
       "      <th>2021-08-25</th>\n",
       "      <td>0.217061</td>\n",
       "      <td>0.225822</td>\n",
       "      <td>0.233426</td>\n",
       "      <td>0.240063</td>\n",
       "      <td>0.245884</td>\n",
       "      <td>0.251007</td>\n",
       "      <td>0.25553</td>\n",
       "      <td>0.259534</td>\n",
       "      <td>0.263085</td>\n",
       "      <td>0.26624</td>\n",
       "      <td>...</td>\n",
       "      <td>0.284954</td>\n",
       "      <td>0.28578</td>\n",
       "      <td>0.286522</td>\n",
       "      <td>0.287188</td>\n",
       "      <td>0.287786</td>\n",
       "      <td>0.288324</td>\n",
       "      <td>0.288806</td>\n",
       "      <td>0.28924</td>\n",
       "      <td>0.28963</td>\n",
       "      <td>0.28998</td>\n",
       "    </tr>\n",
       "  </tbody>\n",
       "</table>\n",
       "<p>1 rows × 30 columns</p>\n",
       "</div>"
      ],
      "text/plain": [
       "                h.01      h.02      h.03      h.04      h.05      h.06  \\\n",
       "Date                                                                     \n",
       "2021-08-25  0.217061  0.225822  0.233426  0.240063  0.245884  0.251007   \n",
       "\n",
       "               h.07      h.08      h.09     h.10  ...      h.21     h.22  \\\n",
       "Date                                              ...                      \n",
       "2021-08-25  0.25553  0.259534  0.263085  0.26624  ...  0.284954  0.28578   \n",
       "\n",
       "                h.23      h.24      h.25      h.26      h.27     h.28  \\\n",
       "Date                                                                    \n",
       "2021-08-25  0.286522  0.287188  0.287786  0.288324  0.288806  0.28924   \n",
       "\n",
       "               h.29     h.30  \n",
       "Date                          \n",
       "2021-08-25  0.28963  0.28998  \n",
       "\n",
       "[1 rows x 30 columns]"
      ]
     },
     "execution_count": 37,
     "metadata": {},
     "output_type": "execute_result"
    }
   ],
   "source": [
    "# Annualize the forecast\n",
    "intermediate = np.sqrt(forecasts.variance.dropna() * 252)\n",
    "intermediate.head()"
   ]
  },
  {
   "cell_type": "code",
   "execution_count": 38,
   "id": "95c52213-bce3-4f68-aaeb-d385e2b28db4",
   "metadata": {},
   "outputs": [
    {
     "data": {
      "text/html": [
       "<div>\n",
       "<style scoped>\n",
       "    .dataframe tbody tr th:only-of-type {\n",
       "        vertical-align: middle;\n",
       "    }\n",
       "\n",
       "    .dataframe tbody tr th {\n",
       "        vertical-align: top;\n",
       "    }\n",
       "\n",
       "    .dataframe thead th {\n",
       "        text-align: right;\n",
       "    }\n",
       "</style>\n",
       "<table border=\"1\" class=\"dataframe\">\n",
       "  <thead>\n",
       "    <tr style=\"text-align: right;\">\n",
       "      <th>Date</th>\n",
       "      <th>2021-08-25</th>\n",
       "    </tr>\n",
       "  </thead>\n",
       "  <tbody>\n",
       "    <tr>\n",
       "      <th>h.01</th>\n",
       "      <td>0.217061</td>\n",
       "    </tr>\n",
       "    <tr>\n",
       "      <th>h.02</th>\n",
       "      <td>0.225822</td>\n",
       "    </tr>\n",
       "    <tr>\n",
       "      <th>h.03</th>\n",
       "      <td>0.233426</td>\n",
       "    </tr>\n",
       "    <tr>\n",
       "      <th>h.04</th>\n",
       "      <td>0.240063</td>\n",
       "    </tr>\n",
       "    <tr>\n",
       "      <th>h.05</th>\n",
       "      <td>0.245884</td>\n",
       "    </tr>\n",
       "  </tbody>\n",
       "</table>\n",
       "</div>"
      ],
      "text/plain": [
       "Date  2021-08-25\n",
       "h.01    0.217061\n",
       "h.02    0.225822\n",
       "h.03    0.233426\n",
       "h.04    0.240063\n",
       "h.05    0.245884"
      ]
     },
     "execution_count": 38,
     "metadata": {},
     "output_type": "execute_result"
    }
   ],
   "source": [
    "# Transpose the forecast so that it is easier to plot\n",
    "final = intermediate.dropna().T\n",
    "final.head()"
   ]
  },
  {
   "cell_type": "code",
   "execution_count": 39,
   "id": "a84712d3-2912-4d5d-ab03-49b27f66536c",
   "metadata": {},
   "outputs": [
    {
     "data": {
      "text/plain": [
       "<AxesSubplot:title={'center':'30 Day Forecast for AMZN'}>"
      ]
     },
     "execution_count": 39,
     "metadata": {},
     "output_type": "execute_result"
    },
    {
     "data": {
      "image/png": "[encoded data removed]",
      "text/plain": [
       "<Figure size 432x288 with 1 Axes>"
      ]
     },
     "metadata": {
      "needs_background": "light"
     },
     "output_type": "display_data"
    }
   ],
   "source": [
    "# Plot the final forecast\n",
    "final.plot(title=\"30 Day Forecast for AMZN\")"
   ]
  }
 ],
 "metadata": {
  "kernelspec": {
   "display_name": "Python 3",
   "language": "python",
   "name": "python3"
  },
  "language_info": {
   "codemirror_mode": {
    "name": "ipython",
    "version": 3
   },
   "file_extension": ".py",
   "mimetype": "text/x-python",
   "name": "python",
   "nbconvert_exporter": "python",
   "pygments_lexer": "ipython3",
   "version": "3.7.10"
  }
 },
 "nbformat": 4,
 "nbformat_minor": 5
}
