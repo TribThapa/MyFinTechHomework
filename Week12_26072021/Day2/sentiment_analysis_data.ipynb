{
 "cells": [
  {
   "cell_type": "markdown",
   "metadata": {},
   "source": [
    "# Instructor Do: Getting Data for Sentiment Analysis"
   ]
  },
  {
   "cell_type": "code",
   "execution_count": 17,
   "metadata": {},
   "outputs": [],
   "source": [
    "# Initial imports\n",
    "import pandas as pd\n",
    "from dotenv import load_dotenv\n",
    "import os\n",
    "from newsapi import NewsApiClient"
   ]
  },
  {
   "cell_type": "code",
   "execution_count": 18,
   "metadata": {},
   "outputs": [
    {
     "data": {
      "text/plain": [
       "True"
      ]
     },
     "execution_count": 18,
     "metadata": {},
     "output_type": "execute_result"
    }
   ],
   "source": [
    "# Load env variables and read the News API Key enviroment variable\n",
    "load_dotenv()"
   ]
  },
  {
   "cell_type": "code",
   "execution_count": 19,
   "metadata": {},
   "outputs": [
    {
     "name": "stdout",
     "output_type": "stream",
     "text": [
      "Alpaca Key type: <class 'str'>\n"
     ]
    }
   ],
   "source": [
    "load_dotenv(\"./example.env\")\n",
    "\n",
    "api_key = os.getenv(\"NEWS_API_KEY\")\n",
    "\n",
    "print(f\"Alpaca Key type: {type(api_key)}\")"
   ]
  },
  {
   "cell_type": "code",
   "execution_count": 20,
   "metadata": {},
   "outputs": [],
   "source": [
    "# Create a newsapi client\n",
    "newsapi = NewsApiClient(api_key=api_key)"
   ]
  },
  {
   "cell_type": "code",
   "execution_count": 21,
   "metadata": {},
   "outputs": [
    {
     "data": {
      "text/plain": [
       "{'status': 'ok', 'totalResults': 0, 'articles': []}"
      ]
     },
     "execution_count": 21,
     "metadata": {},
     "output_type": "execute_result"
    }
   ],
   "source": [
    "# Fetch top news articles about oil in Canada \n",
    "#Note: If there are nnewsapieadlines, code in upcoming cells will throw errors.\n",
    "# If this happens, use the `get_everything()` function instead.\n",
    "\n",
    "oil_headlines = newsapi.get_top_headlines(q=\"oil\", language=\"en\", country=\"us\")\n",
    "oil_headlines"
   ]
  },
  {
   "cell_type": "code",
   "execution_count": 22,
   "metadata": {},
   "outputs": [
    {
     "name": "stdout",
     "output_type": "stream",
     "text": [
      "Total articles about oil: 0\n"
     ]
    },
    {
     "ename": "IndexError",
     "evalue": "list index out of range",
     "output_type": "error",
     "traceback": [
      "\u001b[1;31m---------------------------------------------------------------------------\u001b[0m",
      "\u001b[1;31mIndexError\u001b[0m                                Traceback (most recent call last)",
      "\u001b[1;32m<ipython-input-22-6b1bd8200adb>\u001b[0m in \u001b[0;36m<module>\u001b[1;34m\u001b[0m\n\u001b[0;32m      3\u001b[0m \u001b[1;33m\u001b[0m\u001b[0m\n\u001b[0;32m      4\u001b[0m \u001b[1;31m# Show sample article\u001b[0m\u001b[1;33m\u001b[0m\u001b[1;33m\u001b[0m\u001b[1;33m\u001b[0m\u001b[0m\n\u001b[1;32m----> 5\u001b[1;33m \u001b[0moil_headlines\u001b[0m\u001b[1;33m[\u001b[0m\u001b[1;34m\"articles\"\u001b[0m\u001b[1;33m]\u001b[0m\u001b[1;33m[\u001b[0m\u001b[1;36m0\u001b[0m\u001b[1;33m]\u001b[0m\u001b[1;33m\u001b[0m\u001b[1;33m\u001b[0m\u001b[0m\n\u001b[0m",
      "\u001b[1;31mIndexError\u001b[0m: list index out of range"
     ]
    }
   ],
   "source": [
    "# Print total articles\n",
    "print(f\"Total articles about oil: {oil_headlines['totalResults']}\")\n",
    "\n",
    "# Show sample article\n",
    "oil_headlines[\"articles\"][0]"
   ]
  },
  {
   "cell_type": "code",
   "execution_count": 23,
   "metadata": {},
   "outputs": [
    {
     "data": {
      "text/html": [
       "<div>\n",
       "<style scoped>\n",
       "    .dataframe tbody tr th:only-of-type {\n",
       "        vertical-align: middle;\n",
       "    }\n",
       "\n",
       "    .dataframe tbody tr th {\n",
       "        vertical-align: top;\n",
       "    }\n",
       "\n",
       "    .dataframe thead th {\n",
       "        text-align: right;\n",
       "    }\n",
       "</style>\n",
       "<table border=\"1\" class=\"dataframe\">\n",
       "  <thead>\n",
       "    <tr style=\"text-align: right;\">\n",
       "      <th></th>\n",
       "    </tr>\n",
       "  </thead>\n",
       "  <tbody>\n",
       "  </tbody>\n",
       "</table>\n",
       "</div>"
      ],
      "text/plain": [
       "Empty DataFrame\n",
       "Columns: []\n",
       "Index: []"
      ]
     },
     "execution_count": 23,
     "metadata": {},
     "output_type": "execute_result"
    }
   ],
   "source": [
    "# Transform the response dictionary to a DataFrame\n",
    "oil_df = pd.DataFrame.from_dict(oil_headlines[\"articles\"])\n",
    "\n",
    "oil_df.head()"
   ]
  },
  {
   "cell_type": "code",
   "execution_count": 24,
   "metadata": {},
   "outputs": [
    {
     "name": "stdout",
     "output_type": "stream",
     "text": [
      "Total articles about Facebook Libra: 67\n"
     ]
    },
    {
     "data": {
      "text/plain": [
       "{'source': {'id': 'the-verge', 'name': 'The Verge'},\n",
       " 'author': 'Richard Lawler',\n",
       " 'title': 'Facebook’s payment system extends to online retailers in August',\n",
       " 'description': 'Starting in August, Facebook Pay will be available for third-party retailers, joining buttons for PayPal, Amazon, Google, and others. It keeps your credit card information secure, but will provide information about your purchases to Facebook.',\n",
       " 'url': 'https://www.theverge.com/2021/7/15/22578676/facebook-pay-button-shopify-online-payments',\n",
       " 'urlToImage': 'https://cdn.vox-cdn.com/thumbor/RKYjLazuTxjNs5ZezTDCT-j5kVA=/0x146:2040x1214/fit-in/1200x630/cdn.vox-cdn.com/uploads/chorus_asset/file/12742497/acastro_180828_1777_facebook_0002.jpg',\n",
       " 'publishedAt': '2021-07-15T19:48:15Z',\n",
       " 'content': 'Shopify stores are up first\\r\\nIllustration by Alex Castro / The Verge\\r\\nOnline shoppers will eventually see another option listed next to the usual payment methods, now that Facebook Pay will expand be… [+1769 chars]'}"
      ]
     },
     "execution_count": 24,
     "metadata": {},
     "output_type": "execute_result"
    }
   ],
   "source": [
    "# Fetch all the news about Facebook Libra\n",
    "libra_headlines = newsapi.get_everything(q=\"facebook libra\",\n",
    "                                         language=\"en\", \n",
    "                                         sort_by=\"relevancy\")\n",
    "\n",
    "# Print total articles\n",
    "print(f\"Total articles about Facebook Libra: {libra_headlines['totalResults']}\")\n",
    "\n",
    "# Show sample article\n",
    "libra_headlines[\"articles\"][0]"
   ]
  },
  {
   "cell_type": "code",
   "execution_count": 25,
   "metadata": {},
   "outputs": [
    {
     "data": {
      "text/html": [
       "<div>\n",
       "<style scoped>\n",
       "    .dataframe tbody tr th:only-of-type {\n",
       "        vertical-align: middle;\n",
       "    }\n",
       "\n",
       "    .dataframe tbody tr th {\n",
       "        vertical-align: top;\n",
       "    }\n",
       "\n",
       "    .dataframe thead th {\n",
       "        text-align: right;\n",
       "    }\n",
       "</style>\n",
       "<table border=\"1\" class=\"dataframe\">\n",
       "  <thead>\n",
       "    <tr style=\"text-align: right;\">\n",
       "      <th></th>\n",
       "      <th>source</th>\n",
       "      <th>author</th>\n",
       "      <th>title</th>\n",
       "      <th>description</th>\n",
       "      <th>url</th>\n",
       "      <th>urlToImage</th>\n",
       "      <th>publishedAt</th>\n",
       "      <th>content</th>\n",
       "    </tr>\n",
       "  </thead>\n",
       "  <tbody>\n",
       "    <tr>\n",
       "      <th>0</th>\n",
       "      <td>{'id': 'the-verge', 'name': 'The Verge'}</td>\n",
       "      <td>Richard Lawler</td>\n",
       "      <td>Facebook’s payment system extends to online re...</td>\n",
       "      <td>Starting in August, Facebook Pay will be avail...</td>\n",
       "      <td>https://www.theverge.com/2021/7/15/22578676/fa...</td>\n",
       "      <td>https://cdn.vox-cdn.com/thumbor/RKYjLazuTxjNs5...</td>\n",
       "      <td>2021-07-15T19:48:15Z</td>\n",
       "      <td>Shopify stores are up first\\r\\nIllustration by...</td>\n",
       "    </tr>\n",
       "    <tr>\n",
       "      <th>1</th>\n",
       "      <td>{'id': 'reuters', 'name': 'Reuters'}</td>\n",
       "      <td>Jennifer Saba</td>\n",
       "      <td>Facebook is a one-trick pony that can still ki...</td>\n",
       "      <td>To its users, Facebook &lt;a href=\"https://www.re...</td>\n",
       "      <td>https://www.reuters.com/breakingviews/facebook...</td>\n",
       "      <td>https://www.reuters.com/resizer/Iq6yCUrWOeZ2Dk...</td>\n",
       "      <td>2021-07-28T21:24:00Z</td>\n",
       "      <td>The entrance sign to Facebook headquarters is ...</td>\n",
       "    </tr>\n",
       "    <tr>\n",
       "      <th>2</th>\n",
       "      <td>{'id': 'reuters', 'name': 'Reuters'}</td>\n",
       "      <td>Mike Dolan</td>\n",
       "      <td>Column: The instability in stablecoins unnervi...</td>\n",
       "      <td>Regulators are getting anxious about how mushr...</td>\n",
       "      <td>https://www.reuters.com/article/uk-global-cryp...</td>\n",
       "      <td>https://static.reuters.com/resources/r/?m=02&amp;d...</td>\n",
       "      <td>2021-07-14T08:17:00Z</td>\n",
       "      <td>LONDON (Reuters) - Regulators are getting anxi...</td>\n",
       "    </tr>\n",
       "    <tr>\n",
       "      <th>3</th>\n",
       "      <td>{'id': 'reuters', 'name': 'Reuters'}</td>\n",
       "      <td>Mike Dolan</td>\n",
       "      <td>COLUMN-The instability in stablecoins unnervin...</td>\n",
       "      <td>Regulators are getting anxious about how mushr...</td>\n",
       "      <td>https://www.reuters.com/article/global-crypto-...</td>\n",
       "      <td>https://s1.reutersmedia.net/resources_v2/image...</td>\n",
       "      <td>2021-07-14T05:01:00Z</td>\n",
       "      <td>(The author is editor-at-large for finance and...</td>\n",
       "    </tr>\n",
       "    <tr>\n",
       "      <th>4</th>\n",
       "      <td>{'id': None, 'name': 'AppleInsider'}</td>\n",
       "      <td>news@appleinsider.com (Malcolm Owen)</td>\n",
       "      <td>Amazon could take bitcoin payments in 2021 as ...</td>\n",
       "      <td>Amazon may soon start taking bitcoin as paymen...</td>\n",
       "      <td>https://appleinsider.com/articles/21/07/26/ama...</td>\n",
       "      <td>https://photos5.appleinsider.com/gallery/43394...</td>\n",
       "      <td>2021-07-26T14:02:12Z</td>\n",
       "      <td>Amazon may soon start taking bitcoin as paymen...</td>\n",
       "    </tr>\n",
       "  </tbody>\n",
       "</table>\n",
       "</div>"
      ],
      "text/plain": [
       "                                     source  \\\n",
       "0  {'id': 'the-verge', 'name': 'The Verge'}   \n",
       "1      {'id': 'reuters', 'name': 'Reuters'}   \n",
       "2      {'id': 'reuters', 'name': 'Reuters'}   \n",
       "3      {'id': 'reuters', 'name': 'Reuters'}   \n",
       "4      {'id': None, 'name': 'AppleInsider'}   \n",
       "\n",
       "                                 author  \\\n",
       "0                        Richard Lawler   \n",
       "1                         Jennifer Saba   \n",
       "2                            Mike Dolan   \n",
       "3                            Mike Dolan   \n",
       "4  news@appleinsider.com (Malcolm Owen)   \n",
       "\n",
       "                                               title  \\\n",
       "0  Facebook’s payment system extends to online re...   \n",
       "1  Facebook is a one-trick pony that can still ki...   \n",
       "2  Column: The instability in stablecoins unnervi...   \n",
       "3  COLUMN-The instability in stablecoins unnervin...   \n",
       "4  Amazon could take bitcoin payments in 2021 as ...   \n",
       "\n",
       "                                         description  \\\n",
       "0  Starting in August, Facebook Pay will be avail...   \n",
       "1  To its users, Facebook <a href=\"https://www.re...   \n",
       "2  Regulators are getting anxious about how mushr...   \n",
       "3  Regulators are getting anxious about how mushr...   \n",
       "4  Amazon may soon start taking bitcoin as paymen...   \n",
       "\n",
       "                                                 url  \\\n",
       "0  https://www.theverge.com/2021/7/15/22578676/fa...   \n",
       "1  https://www.reuters.com/breakingviews/facebook...   \n",
       "2  https://www.reuters.com/article/uk-global-cryp...   \n",
       "3  https://www.reuters.com/article/global-crypto-...   \n",
       "4  https://appleinsider.com/articles/21/07/26/ama...   \n",
       "\n",
       "                                          urlToImage           publishedAt  \\\n",
       "0  https://cdn.vox-cdn.com/thumbor/RKYjLazuTxjNs5...  2021-07-15T19:48:15Z   \n",
       "1  https://www.reuters.com/resizer/Iq6yCUrWOeZ2Dk...  2021-07-28T21:24:00Z   \n",
       "2  https://static.reuters.com/resources/r/?m=02&d...  2021-07-14T08:17:00Z   \n",
       "3  https://s1.reutersmedia.net/resources_v2/image...  2021-07-14T05:01:00Z   \n",
       "4  https://photos5.appleinsider.com/gallery/43394...  2021-07-26T14:02:12Z   \n",
       "\n",
       "                                             content  \n",
       "0  Shopify stores are up first\\r\\nIllustration by...  \n",
       "1  The entrance sign to Facebook headquarters is ...  \n",
       "2  LONDON (Reuters) - Regulators are getting anxi...  \n",
       "3  (The author is editor-at-large for finance and...  \n",
       "4  Amazon may soon start taking bitcoin as paymen...  "
      ]
     },
     "execution_count": 25,
     "metadata": {},
     "output_type": "execute_result"
    }
   ],
   "source": [
    "# Transform the response dictionary to a DataFrame\n",
    "libra_df = pd.DataFrame.from_dict(libra_headlines[\"articles\"])\n",
    "\n",
    "libra_df.head()"
   ]
  },
  {
   "cell_type": "code",
   "execution_count": 26,
   "metadata": {},
   "outputs": [
    {
     "name": "stdout",
     "output_type": "stream",
     "text": [
      "Total articles about Bitcoin Crypto: 3956\n",
      "\n",
      "{'source': {'id': 'techcrunch', 'name': 'TechCrunch'}, 'author': 'Lucas Matney', 'title': 'Crypto startup Phantom banks funding from Andreessen Horowitz to scale its multi-chain wallet', 'description': 'While retail investors grew more comfortable buying cryptocurrencies like Bitcoin and Ethereum in 2021, the decentralized application world still has a lot of work to do when it comes to onboarding a mainstream user base. Phantom is part of a new class of cry…', 'url': 'http://techcrunch.com/2021/07/14/crypto-startup-phantom-banks-funding-from-andreessen-horowitz-to-scale-its-multi-chain-wallet/', 'urlToImage': 'https://techcrunch.com/wp-content/uploads/2021/07/Phantom-Founders-01.jpg?w=600', 'publishedAt': '2021-07-14T19:09:01Z', 'content': 'While retail investors grew more comfortable buying cryptocurrencies like Bitcoin and Ethereum in 2021, the decentralized application world still has a lot of work to do when it comes to onboarding a… [+2288 chars]'}\n",
      "\n",
      "\n"
     ]
    },
    {
     "data": {
      "text/html": [
       "<div>\n",
       "<style scoped>\n",
       "    .dataframe tbody tr th:only-of-type {\n",
       "        vertical-align: middle;\n",
       "    }\n",
       "\n",
       "    .dataframe tbody tr th {\n",
       "        vertical-align: top;\n",
       "    }\n",
       "\n",
       "    .dataframe thead th {\n",
       "        text-align: right;\n",
       "    }\n",
       "</style>\n",
       "<table border=\"1\" class=\"dataframe\">\n",
       "  <thead>\n",
       "    <tr style=\"text-align: right;\">\n",
       "      <th></th>\n",
       "      <th>source</th>\n",
       "      <th>author</th>\n",
       "      <th>title</th>\n",
       "      <th>description</th>\n",
       "      <th>url</th>\n",
       "      <th>urlToImage</th>\n",
       "      <th>publishedAt</th>\n",
       "      <th>content</th>\n",
       "    </tr>\n",
       "  </thead>\n",
       "  <tbody>\n",
       "    <tr>\n",
       "      <th>0</th>\n",
       "      <td>{'id': 'techcrunch', 'name': 'TechCrunch'}</td>\n",
       "      <td>Lucas Matney</td>\n",
       "      <td>Crypto startup Phantom banks funding from Andr...</td>\n",
       "      <td>While retail investors grew more comfortable b...</td>\n",
       "      <td>http://techcrunch.com/2021/07/14/crypto-startu...</td>\n",
       "      <td>https://techcrunch.com/wp-content/uploads/2021...</td>\n",
       "      <td>2021-07-14T19:09:01Z</td>\n",
       "      <td>While retail investors grew more comfortable b...</td>\n",
       "    </tr>\n",
       "    <tr>\n",
       "      <th>1</th>\n",
       "      <td>{'id': 'techcrunch', 'name': 'TechCrunch'}</td>\n",
       "      <td>Connie Loizos</td>\n",
       "      <td>Michael Arrington’s next act</td>\n",
       "      <td>As longtime TechCrunch readers know well, Mich...</td>\n",
       "      <td>http://techcrunch.com/2021/07/21/michael-arrin...</td>\n",
       "      <td>https://techcrunch.com/wp-content/uploads/2014...</td>\n",
       "      <td>2021-07-21T22:00:14Z</td>\n",
       "      <td>As longtime TechCrunch readers know well, Mich...</td>\n",
       "    </tr>\n",
       "    <tr>\n",
       "      <th>2</th>\n",
       "      <td>{'id': 'techcrunch', 'name': 'TechCrunch'}</td>\n",
       "      <td>Romain Dillet</td>\n",
       "      <td>Cryptocurrency company Circle to go public in ...</td>\n",
       "      <td>Circle has announced that it plans to become a...</td>\n",
       "      <td>http://techcrunch.com/2021/07/08/cryptocurrenc...</td>\n",
       "      <td>https://techcrunch.com/wp-content/uploads/2021...</td>\n",
       "      <td>2021-07-08T13:51:28Z</td>\n",
       "      <td>Circle has announced that it plans to become a...</td>\n",
       "    </tr>\n",
       "    <tr>\n",
       "      <th>3</th>\n",
       "      <td>{'id': None, 'name': 'Entrepreneur'}</td>\n",
       "      <td>Euni Han</td>\n",
       "      <td>Crypto Goes to Camp</td>\n",
       "      <td>One California camp is teaching kids how to mi...</td>\n",
       "      <td>https://www.entrepreneur.com/article/375963</td>\n",
       "      <td>https://assets.entrepreneur.com/content/3x2/20...</td>\n",
       "      <td>2021-06-28T21:11:52Z</td>\n",
       "      <td>Opinions expressed by Entrepreneur contributor...</td>\n",
       "    </tr>\n",
       "    <tr>\n",
       "      <th>4</th>\n",
       "      <td>{'id': 'reuters', 'name': 'Reuters'}</td>\n",
       "      <td>Reuters Editorial</td>\n",
       "      <td>Breakingviews TV: Crypto cowboys - Reuters</td>\n",
       "      <td>Wyoming is becoming the John Wayne of U.S. bit...</td>\n",
       "      <td>https://www.reuters.com/video/watch/idRCV009YDE</td>\n",
       "      <td>https://static.reuters.com/resources/r/?d=2021...</td>\n",
       "      <td>2021-07-08T17:58:10Z</td>\n",
       "      <td>Posted \\r\\nWyoming is becoming the John Wayne ...</td>\n",
       "    </tr>\n",
       "  </tbody>\n",
       "</table>\n",
       "</div>"
      ],
      "text/plain": [
       "                                       source             author  \\\n",
       "0  {'id': 'techcrunch', 'name': 'TechCrunch'}       Lucas Matney   \n",
       "1  {'id': 'techcrunch', 'name': 'TechCrunch'}      Connie Loizos   \n",
       "2  {'id': 'techcrunch', 'name': 'TechCrunch'}      Romain Dillet   \n",
       "3        {'id': None, 'name': 'Entrepreneur'}           Euni Han   \n",
       "4        {'id': 'reuters', 'name': 'Reuters'}  Reuters Editorial   \n",
       "\n",
       "                                               title  \\\n",
       "0  Crypto startup Phantom banks funding from Andr...   \n",
       "1                       Michael Arrington’s next act   \n",
       "2  Cryptocurrency company Circle to go public in ...   \n",
       "3                                Crypto Goes to Camp   \n",
       "4         Breakingviews TV: Crypto cowboys - Reuters   \n",
       "\n",
       "                                         description  \\\n",
       "0  While retail investors grew more comfortable b...   \n",
       "1  As longtime TechCrunch readers know well, Mich...   \n",
       "2  Circle has announced that it plans to become a...   \n",
       "3  One California camp is teaching kids how to mi...   \n",
       "4  Wyoming is becoming the John Wayne of U.S. bit...   \n",
       "\n",
       "                                                 url  \\\n",
       "0  http://techcrunch.com/2021/07/14/crypto-startu...   \n",
       "1  http://techcrunch.com/2021/07/21/michael-arrin...   \n",
       "2  http://techcrunch.com/2021/07/08/cryptocurrenc...   \n",
       "3        https://www.entrepreneur.com/article/375963   \n",
       "4    https://www.reuters.com/video/watch/idRCV009YDE   \n",
       "\n",
       "                                          urlToImage           publishedAt  \\\n",
       "0  https://techcrunch.com/wp-content/uploads/2021...  2021-07-14T19:09:01Z   \n",
       "1  https://techcrunch.com/wp-content/uploads/2014...  2021-07-21T22:00:14Z   \n",
       "2  https://techcrunch.com/wp-content/uploads/2021...  2021-07-08T13:51:28Z   \n",
       "3  https://assets.entrepreneur.com/content/3x2/20...  2021-06-28T21:11:52Z   \n",
       "4  https://static.reuters.com/resources/r/?d=2021...  2021-07-08T17:58:10Z   \n",
       "\n",
       "                                             content  \n",
       "0  While retail investors grew more comfortable b...  \n",
       "1  As longtime TechCrunch readers know well, Mich...  \n",
       "2  Circle has announced that it plans to become a...  \n",
       "3  Opinions expressed by Entrepreneur contributor...  \n",
       "4  Posted \\r\\nWyoming is becoming the John Wayne ...  "
      ]
     },
     "execution_count": 26,
     "metadata": {},
     "output_type": "execute_result"
    }
   ],
   "source": [
    "# Fetch all the news about BTC \n",
    "btc_headlines = newsapi.get_everything(q=\"crypto bitcoin\",\n",
    "                                       language=\"en\",\n",
    "                                       sort_by=\"relevancy\")\n",
    "\n",
    "# Print total articles\n",
    "print(f\"Total articles about Bitcoin Crypto: {btc_headlines['totalResults']}\")\n",
    "\n",
    "# Show sample article\n",
    "print()\n",
    "print(btc_headlines[\"articles\"][0])\n",
    "\n",
    "# Transform the response dictionary to a DataFrame\n",
    "btc_df = pd.DataFrame.from_dict(btc_headlines[\"articles\"])\n",
    "print()\n",
    "print()\n",
    "btc_df.head()"
   ]
  },
  {
   "cell_type": "code",
   "execution_count": 27,
   "metadata": {},
   "outputs": [
    {
     "name": "stdout",
     "output_type": "stream",
     "text": [
      "Total articles about Messi: 94\n",
      "\n",
      "{'source': {'id': 'bbc-news', 'name': 'BBC News'}, 'author': None, 'title': 'Barcelona legend Messi becomes free agent', 'description': 'Barcelona striker Lionel Messi becomes a free agent after his contract expired at midnight.', 'url': 'https://www.bbc.co.uk/sport/football/57666280', 'urlToImage': 'https://ichef.bbci.co.uk/live-experience/cps/624/cpsprodpb/71CE/production/_119143192_gettyimages-1316999660.jpg', 'publishedAt': '2021-06-30T23:02:20Z', 'content': \"Lionel Messi has won more Ballon d'Or awards - given to the best player in the world - than anybody else, with six\\r\\nManchester City, Paris St-Germain - this is not a drill. One of the world's greates… [+3027 chars]\"}\n",
      "\n",
      "\n"
     ]
    },
    {
     "data": {
      "text/html": [
       "<div>\n",
       "<style scoped>\n",
       "    .dataframe tbody tr th:only-of-type {\n",
       "        vertical-align: middle;\n",
       "    }\n",
       "\n",
       "    .dataframe tbody tr th {\n",
       "        vertical-align: top;\n",
       "    }\n",
       "\n",
       "    .dataframe thead th {\n",
       "        text-align: right;\n",
       "    }\n",
       "</style>\n",
       "<table border=\"1\" class=\"dataframe\">\n",
       "  <thead>\n",
       "    <tr style=\"text-align: right;\">\n",
       "      <th></th>\n",
       "      <th>source</th>\n",
       "      <th>author</th>\n",
       "      <th>title</th>\n",
       "      <th>description</th>\n",
       "      <th>url</th>\n",
       "      <th>urlToImage</th>\n",
       "      <th>publishedAt</th>\n",
       "      <th>content</th>\n",
       "    </tr>\n",
       "  </thead>\n",
       "  <tbody>\n",
       "    <tr>\n",
       "      <th>0</th>\n",
       "      <td>{'id': 'bbc-news', 'name': 'BBC News'}</td>\n",
       "      <td>None</td>\n",
       "      <td>Barcelona legend Messi becomes free agent</td>\n",
       "      <td>Barcelona striker Lionel Messi becomes a free ...</td>\n",
       "      <td>https://www.bbc.co.uk/sport/football/57666280</td>\n",
       "      <td>https://ichef.bbci.co.uk/live-experience/cps/6...</td>\n",
       "      <td>2021-06-30T23:02:20Z</td>\n",
       "      <td>Lionel Messi has won more Ballon d'Or awards -...</td>\n",
       "    </tr>\n",
       "    <tr>\n",
       "      <th>1</th>\n",
       "      <td>{'id': 'reuters', 'name': 'Reuters'}</td>\n",
       "      <td>Reuters</td>\n",
       "      <td>Colombia's Luis Diaz named 'Revelation of Copa...</td>\n",
       "      <td>Colombia forward Luis Diaz was named Revelatio...</td>\n",
       "      <td>https://www.reuters.com/lifestyle/sports/colom...</td>\n",
       "      <td>https://www.reuters.com/resizer/FO-gHO0TzlwDnf...</td>\n",
       "      <td>2021-07-13T16:57:00Z</td>\n",
       "      <td>Soccer Football - Copa America 2021 - Third-Pl...</td>\n",
       "    </tr>\n",
       "    <tr>\n",
       "      <th>2</th>\n",
       "      <td>{'id': None, 'name': 'Sportsnet.ca'}</td>\n",
       "      <td>David Morassutti</td>\n",
       "      <td>Soccer world celebrates Messi’s first internat...</td>\n",
       "      <td>&lt;ol&gt;&lt;li&gt;Soccer world celebrates Messi’s first ...</td>\n",
       "      <td>https://www.sportsnet.ca/soccer/article/soccer...</td>\n",
       "      <td>https://www.sportsnet.ca/wp-content/uploads/20...</td>\n",
       "      <td>2021-07-11T02:56:00Z</td>\n",
       "      <td>Lionel Messi has endured a lot of heartbreak t...</td>\n",
       "    </tr>\n",
       "    <tr>\n",
       "      <th>3</th>\n",
       "      <td>{'id': 'reuters', 'name': 'Reuters'}</td>\n",
       "      <td>Reuters Staff</td>\n",
       "      <td>Soccer-Argentina's trophy drought no guide to ...</td>\n",
       "      <td>Argentina’s 28 barren years without a major ti...</td>\n",
       "      <td>https://www.reuters.com/article/us-soccer-copa...</td>\n",
       "      <td>https://static.reuters.com/resources/r/?m=02&amp;d...</td>\n",
       "      <td>2021-07-09T15:52:00Z</td>\n",
       "      <td>By Reuters Staff\\r\\nRIO DE JANEIRO (Reuters) -...</td>\n",
       "    </tr>\n",
       "    <tr>\n",
       "      <th>4</th>\n",
       "      <td>{'id': 'reuters', 'name': 'Reuters'}</td>\n",
       "      <td>Reuters</td>\n",
       "      <td>Messi contract saga goes to the wire, but club...</td>\n",
       "      <td>Argentina's Lionel Messi has yet to agree on a...</td>\n",
       "      <td>https://www.reuters.com/lifestyle/sports/messi...</td>\n",
       "      <td>https://www.reuters.com/resizer/Rj38C-Y2XjBZlU...</td>\n",
       "      <td>2021-06-29T15:56:00Z</td>\n",
       "      <td>Soccer Football - Copa America 2021 - Group A ...</td>\n",
       "    </tr>\n",
       "  </tbody>\n",
       "</table>\n",
       "</div>"
      ],
      "text/plain": [
       "                                   source            author  \\\n",
       "0  {'id': 'bbc-news', 'name': 'BBC News'}              None   \n",
       "1    {'id': 'reuters', 'name': 'Reuters'}           Reuters   \n",
       "2    {'id': None, 'name': 'Sportsnet.ca'}  David Morassutti   \n",
       "3    {'id': 'reuters', 'name': 'Reuters'}     Reuters Staff   \n",
       "4    {'id': 'reuters', 'name': 'Reuters'}           Reuters   \n",
       "\n",
       "                                               title  \\\n",
       "0          Barcelona legend Messi becomes free agent   \n",
       "1  Colombia's Luis Diaz named 'Revelation of Copa...   \n",
       "2  Soccer world celebrates Messi’s first internat...   \n",
       "3  Soccer-Argentina's trophy drought no guide to ...   \n",
       "4  Messi contract saga goes to the wire, but club...   \n",
       "\n",
       "                                         description  \\\n",
       "0  Barcelona striker Lionel Messi becomes a free ...   \n",
       "1  Colombia forward Luis Diaz was named Revelatio...   \n",
       "2  <ol><li>Soccer world celebrates Messi’s first ...   \n",
       "3  Argentina’s 28 barren years without a major ti...   \n",
       "4  Argentina's Lionel Messi has yet to agree on a...   \n",
       "\n",
       "                                                 url  \\\n",
       "0      https://www.bbc.co.uk/sport/football/57666280   \n",
       "1  https://www.reuters.com/lifestyle/sports/colom...   \n",
       "2  https://www.sportsnet.ca/soccer/article/soccer...   \n",
       "3  https://www.reuters.com/article/us-soccer-copa...   \n",
       "4  https://www.reuters.com/lifestyle/sports/messi...   \n",
       "\n",
       "                                          urlToImage           publishedAt  \\\n",
       "0  https://ichef.bbci.co.uk/live-experience/cps/6...  2021-06-30T23:02:20Z   \n",
       "1  https://www.reuters.com/resizer/FO-gHO0TzlwDnf...  2021-07-13T16:57:00Z   \n",
       "2  https://www.sportsnet.ca/wp-content/uploads/20...  2021-07-11T02:56:00Z   \n",
       "3  https://static.reuters.com/resources/r/?m=02&d...  2021-07-09T15:52:00Z   \n",
       "4  https://www.reuters.com/resizer/Rj38C-Y2XjBZlU...  2021-06-29T15:56:00Z   \n",
       "\n",
       "                                             content  \n",
       "0  Lionel Messi has won more Ballon d'Or awards -...  \n",
       "1  Soccer Football - Copa America 2021 - Third-Pl...  \n",
       "2  Lionel Messi has endured a lot of heartbreak t...  \n",
       "3  By Reuters Staff\\r\\nRIO DE JANEIRO (Reuters) -...  \n",
       "4  Soccer Football - Copa America 2021 - Group A ...  "
      ]
     },
     "execution_count": 27,
     "metadata": {},
     "output_type": "execute_result"
    }
   ],
   "source": [
    "# Fetch all the news about Messi \n",
    "messi_headlines = newsapi.get_everything(q=\"football soccer Messi\", \n",
    "                                         language=\"en\", \n",
    "                                         sort_by=\"relevancy\")\n",
    "\n",
    "# Print total articles\n",
    "print(f\"Total articles about Messi: {messi_headlines['totalResults']}\")\n",
    "\n",
    "# Show sample article\n",
    "print()\n",
    "print(messi_headlines[\"articles\"][0])\n",
    "\n",
    "# Transform the response dictionary to a DataFrame\n",
    "messi_df = pd.DataFrame.from_dict(messi_headlines[\"articles\"])\n",
    "print()\n",
    "print()\n",
    "messi_df.head()"
   ]
  },
  {
   "cell_type": "code",
   "execution_count": null,
   "metadata": {},
   "outputs": [],
   "source": []
  }
 ],
 "metadata": {
  "file_extension": ".py",
  "kernelspec": {
   "display_name": "Python 3",
   "language": "python",
   "name": "python3"
  },
  "language_info": {
   "codemirror_mode": {
    "name": "ipython",
    "version": 3
   },
   "file_extension": ".py",
   "mimetype": "text/x-python",
   "name": "python",
   "nbconvert_exporter": "python",
   "pygments_lexer": "ipython3",
   "version": "3.8.8"
  },
  "mimetype": "text/x-python",
  "name": "python",
  "npconvert_exporter": "python",
  "pygments_lexer": "ipython3",
  "version": 3
 },
 "nbformat": 4,
 "nbformat_minor": 4
}
