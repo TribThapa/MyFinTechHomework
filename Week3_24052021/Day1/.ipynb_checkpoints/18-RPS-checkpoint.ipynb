{
 "cells": [
  {
   "cell_type": "code",
   "execution_count": 11,
   "metadata": {},
   "outputs": [
    {
     "name": "stdout",
     "output_type": "stream",
     "text": [
      "Let's lay Rock Paper Scissors!\n"
     ]
    },
    {
     "name": "stdin",
     "output_type": "stream",
     "text": [
      "Make your choice: (r)ock, (p)aper, (s)cissors? p\n"
     ]
    },
    {
     "name": "stdout",
     "output_type": "stream",
     "text": [
      "Computer chose: s\n",
      "You lost!\n"
     ]
    }
   ],
   "source": [
    "import random\n",
    "\n",
    "print(\"Let's lay Rock Paper Scissors!\")\n",
    "\n",
    "options = ['r', 'p', 's']\n",
    "\n",
    "computer_choice = random.choice(options)\n",
    "\n",
    "user_choice = input(\"Make your choice: (r)ock, (p)aper, (s)cissors?\")\n",
    "\n",
    "if user_choice == 'r' and computer_choice == 'r':\n",
    "    print(f\"Computer chose: {computer_choice}\")\n",
    "    print(\"It's a draw!\")\n",
    "elif user_choice == 'r' and computer_choice == 'p':\n",
    "    print(f\"Computer chose: {computer_choice}\")\n",
    "    print('You lost!')\n",
    "elif user_choice == 'r' and computer_choice == 's':\n",
    "    print(f\"Computer chose: {computer_choice}\")\n",
    "    print('You won!')\n",
    "elif user_choice == 'p' and computer_choice == 'r':\n",
    "    print(f\"Computer chose: {computer_choice}\")\n",
    "    print('You won!')\n",
    "elif user_choice == 'p' and computer_choice == 'p':\n",
    "    print(f\"Computer chose: {computer_choice}\")\n",
    "    print('Its a draw!')\n",
    "elif user_choice == 'p' and computer_choice == 's':\n",
    "    print(f\"Computer chose: {computer_choice}\")\n",
    "    print('You lost!')\n",
    "elif user_choice == 's' and computer_choice == 'r':\n",
    "    print(f\"Computer chose: {computer_choice}\")\n",
    "    print('You lost!')\n",
    "elif user_choice == 's' and computer_choice == 'p':\n",
    "    print(f\"Computer chose: {computer_choice}\")\n",
    "    print('You won!')\n",
    "elif user_choice == 's' and computer_choice == 's':\n",
    "    print(f\"Computer chose: {computer_choice}\")\n",
    "    print('Its a draw!')\n",
    "else:\n",
    "    pass\n",
    "\n",
    "\n"
   ]
  }
 ],
 "metadata": {
  "kernelspec": {
   "display_name": "Python 3",
   "language": "python",
   "name": "python3"
  },
  "language_info": {
   "codemirror_mode": {
    "name": "ipython",
    "version": 3
   },
   "file_extension": ".py",
   "mimetype": "text/x-python",
   "name": "python",
   "nbconvert_exporter": "python",
   "pygments_lexer": "ipython3",
   "version": "3.7.1"
  }
 },
 "nbformat": 4,
 "nbformat_minor": 2
}
