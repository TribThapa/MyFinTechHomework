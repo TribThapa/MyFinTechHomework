{
 "cells": [
  {
   "cell_type": "code",
   "execution_count": 8,
   "metadata": {},
   "outputs": [
    {
     "name": "stdout",
     "output_type": "stream",
     "text": [
      "Greetings!\n",
      "AAPL is booming right now!\n"
     ]
    },
    {
     "data": {
      "text/plain": [
       "20"
      ]
     },
     "execution_count": 8,
     "metadata": {},
     "output_type": "execute_result"
    }
   ],
   "source": [
    "# Define a main function that prints \"Greetings!\" to the console\n",
    "def main():\n",
    "    print(\"Greetings!\")\n",
    "\n",
    "main()\n",
    "\n",
    "# Define a main function that accepts a string argument\n",
    "def main(stock_ticker):\n",
    "    print(stock_ticker + \" is booming right now!\")\n",
    "\n",
    "    \n",
    "stock_ticker = 'AAPL'\n",
    "main(stock_ticker)\n",
    "\n",
    "\n",
    "# Define a calculate_market_cap function that returns an integer\n",
    "def calculate_market_cap(market_price, number_of_shares):\n",
    "    cap = market_price * number_of_shares\n",
    "    return cap #return ends the execution of a function\n",
    "\n",
    "market_price = 10\n",
    "number_of_shares = 2\n",
    "calculate_market_cap(market_price, number_of_shares)\n",
    "\n"
   ]
  },
  {
   "cell_type": "code",
   "execution_count": 11,
   "metadata": {},
   "outputs": [
    {
     "name": "stdout",
     "output_type": "stream",
     "text": [
      "SBUX market capitalisation: 94588216000.0\n",
      "Data type of market cap variable is: <class 'float'>\n"
     ]
    }
   ],
   "source": [
    "stock_ticker = \"SBUX\"\n",
    "market_price = 76.06\n",
    "number_of_shares = 1243600000\n",
    "\n",
    "market_cap = calculate_market_cap(market_price, number_of_shares)\n",
    "\n",
    "print(f\"{stock_ticker} market capitalisation: {market_cap}\")\n",
    "print(f\"Data type of market cap variable is: {type(market_cap)}\")"
   ]
  },
  {
   "cell_type": "code",
   "execution_count": 12,
   "metadata": {},
   "outputs": [
    {
     "name": "stdout",
     "output_type": "stream",
     "text": [
      "Market Capitalization: 94588216000.0\n",
      "Data type of market_cap variable is: <class 'float'>\n"
     ]
    }
   ],
   "source": [
    "# Capture function output and print output value and data type\n",
    "def calculate_market_cap(market_price, number_of_shares):\n",
    "    cap = market_price * number_of_shares\n",
    "\n",
    "    return cap\n",
    "\n",
    "market_price = 76.06\n",
    "number_of_shares = 1243600000\n",
    "\n",
    "market_cap = calculate_market_cap(market_price, number_of_shares)\n",
    "print(f\"Market Capitalization: {market_cap}\")\n",
    "print(f\"Data type of market_cap variable is: {type(market_cap)}\")\n"
   ]
  },
  {
   "cell_type": "code",
   "execution_count": 14,
   "metadata": {},
   "outputs": [
    {
     "name": "stdout",
     "output_type": "stream",
     "text": [
      "The calcualted market cap is 2000\n",
      "The data type for market cap is <class 'int'>)\n"
     ]
    }
   ],
   "source": [
    "def calculate_market_cap(market_price, number_of_shares):\n",
    "    cap = market_price * number_of_shares\n",
    "    return cap\n",
    "\n",
    "market_price = 100\n",
    "number_of_shares = 20\n",
    "\n",
    "market_cap = calculate_market_cap(market_price, number_of_shares)\n",
    "\n",
    "print(f\"The calcualted market cap is {market_cap}\")\n",
    "print(f\"The data type for market cap is {type(market_cap)})\")"
   ]
  },
  {
   "cell_type": "code",
   "execution_count": 29,
   "metadata": {},
   "outputs": [
    {
     "name": "stdout",
     "output_type": "stream",
     "text": [
      "with n = 1: 0.5517241379310345\n",
      "\n",
      "with n = 2: 0.24568219780609946\n",
      "\n",
      "with n = 3: 0.16\n",
      "\n"
     ]
    }
   ],
   "source": [
    "beginning_balance = 29000.00\n",
    "ending_balance = 45000.00\n",
    "years = 1\n",
    "\n",
    "\n",
    "def calculate_compound_growth_rate(beginning_balance, ending_balance, years):\n",
    "    compound_growth = ((ending_balance  / beginning_balance) ** (1/years)) - 1\n",
    "    return compound_growth\n",
    "\n",
    "\n",
    "year1 = calculate_compound_growth_rate(beginning_balance, ending_balance, years)\n",
    "print(f\"with n = 1: {year1}\")\n",
    "print()\n",
    "\n",
    "years = 2\n",
    "\n",
    "year2 = calculate_compound_growth_rate(beginning_balance, ending_balance, years)\n",
    "print(f\"with n = 2: {year2}\")\n",
    "print()\n",
    "\n",
    "years = 3\n",
    "\n",
    "year3 = round(calculate_compound_growth_rate(beginning_balance, ending_balance, years), 2)\n",
    "print(f\"with n = 3: {year3}\")\n",
    "print()"
   ]
  },
  {
   "cell_type": "code",
   "execution_count": 47,
   "metadata": {},
   "outputs": [
    {
     "name": "stdout",
     "output_type": "stream",
     "text": [
      "{'Year1': {'beginning_balance': 29000.0, 'ending_balance': 45000.0}, 'Year2': {'beginning_balance': 45000.0, 'ending_balance': 47000.0}, 'Year3': {'beginning_balance': 47000.0, 'ending_balance': 48930.0}}\n",
      "\n",
      "29000.0\n",
      "45000.0\n",
      "0.15772347264219455\n",
      "\n",
      "45000.0\n",
      "47000.0\n",
      "0.014600599793947788\n",
      "\n",
      "47000.0\n",
      "48930.0\n",
      "0.013504744157719184\n",
      "\n",
      "This the list for compound growth rate for years 1, 2, and 3: [0.15772347264219455, 0.014600599793947788, 0.013504744157719184].\n",
      "\n"
     ]
    }
   ],
   "source": [
    "growth_rate_list = []\n",
    "glbl = []\n",
    "\n",
    "Dictionary = {\n",
    "    \"Year1\": {\n",
    "        \"beginning_balance\": 29000.00,\n",
    "        \"ending_balance\": 45000.00\n",
    "    },\n",
    "    \"Year2\": {\n",
    "        \"beginning_balance\": 45000.00,\n",
    "        \"ending_balance\": 47000.00\n",
    "    },\n",
    "    \"Year3\": {\n",
    "        \"beginning_balance\": 47000.00,\n",
    "        \"ending_balance\": 48930.00\n",
    "    }\n",
    "}\n",
    "\n",
    "print(Dictionary)\n",
    "print()\n",
    "\n",
    "def compound_growth_calc(beginning_balance, ending_balance):\n",
    "    compound_growth = ((ending_balance  / beginning_balance) ** (1/years)) - 1\n",
    "    return compound_growth\n",
    "\n",
    "Year1_CompGrwth = compound_growth_calc(Dictionary[\"Year1\"][\"beginning_balance\"], Dictionary[\"Year1\"][\"ending_balance\"])\n",
    "print(Dictionary[\"Year1\"][\"beginning_balance\"])\n",
    "print(Dictionary[\"Year1\"][\"ending_balance\"])\n",
    "print(Year1_CompGrwth)\n",
    "print()\n",
    "\n",
    "\n",
    "Year2_CompGrwth = compound_growth_calc(Dictionary[\"Year2\"][\"beginning_balance\"], Dictionary[\"Year2\"][\"ending_balance\"])\n",
    "print(Dictionary[\"Year2\"][\"beginning_balance\"])\n",
    "print(Dictionary[\"Year2\"][\"ending_balance\"])\n",
    "print(Year2_CompGrwth)\n",
    "print()\n",
    "\n",
    "Year3_CompGrwth = compound_growth_calc(Dictionary[\"Year3\"][\"beginning_balance\"], Dictionary[\"Year3\"][\"ending_balance\"])\n",
    "print(Dictionary[\"Year3\"][\"beginning_balance\"])\n",
    "print(Dictionary[\"Year3\"][\"ending_balance\"])\n",
    "print(Year3_CompGrwth)\n",
    "print()\n",
    "\n",
    "def addition(listname, *element):\n",
    "    growth_rate_list.extend(element)\n",
    "    return growth_rate_list\n",
    "\n",
    "addition(growth_rate_list, Year1_CompGrwth, Year2_CompGrwth, Year3_CompGrwth)\n",
    "print(f\"This is the list for compound growth rate for years 1, 2, and 3: {growth_rate_list}.\")\n",
    "print()\n"
   ]
  },
  {
   "cell_type": "code",
   "execution_count": null,
   "metadata": {},
   "outputs": [],
   "source": []
  }
 ],
 "metadata": {
  "kernelspec": {
   "display_name": "Python 3",
   "language": "python",
   "name": "python3"
  },
  "language_info": {
   "codemirror_mode": {
    "name": "ipython",
    "version": 3
   },
   "file_extension": ".py",
   "mimetype": "text/x-python",
   "name": "python",
   "nbconvert_exporter": "python",
   "pygments_lexer": "ipython3",
   "version": "3.7.1"
  }
 },
 "nbformat": 4,
 "nbformat_minor": 2
}
