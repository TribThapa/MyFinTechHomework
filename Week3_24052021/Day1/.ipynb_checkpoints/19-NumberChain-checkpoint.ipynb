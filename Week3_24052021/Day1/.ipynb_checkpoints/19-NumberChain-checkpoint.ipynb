{
 "cells": [
  {
   "cell_type": "code",
   "execution_count": 8,
   "metadata": {},
   "outputs": [
    {
     "name": "stdin",
     "output_type": "stream",
     "text": [
      "How many numbers to loop through? 2\n"
     ]
    },
    {
     "name": "stdout",
     "output_type": "stream",
     "text": [
      "0\n",
      "1\n"
     ]
    },
    {
     "name": "stdin",
     "output_type": "stream",
     "text": [
      "Continue chain: (y)es or (n)o?  n\n"
     ]
    }
   ],
   "source": [
    "player = \"y\"\n",
    "\n",
    "count = 0\n",
    "\n",
    "while player == \"y\":\n",
    "    \n",
    "    player_input = input('How many numbers to loop through?')\n",
    "    \n",
    "    for x in range(count, int(player_input) + count):\n",
    "        print(x)\n",
    "    \n",
    "    count = count + int(player_input)    \n",
    "    \n",
    "    player = input('Continue chain: (y)es or (n)o? ')  \n",
    "\n"
   ]
  },
  {
   "cell_type": "code",
   "execution_count": null,
   "metadata": {},
   "outputs": [],
   "source": [
    "# Initial variable to track game play\n",
    "\n",
    "# While we are still playing...\n",
    "\n",
    "    # Ask the user how many numbers to loop through\n",
    "\n",
    "    # Loop through the numbers. (Be sure to cast the string into an integer.)\n",
    "\n",
    "        # Print each number in the range\n",
    "\n",
    "    # Once complete, as the user if they would like to continue"
   ]
  }
 ],
 "metadata": {
  "kernelspec": {
   "display_name": "Python 3",
   "language": "python",
   "name": "python3"
  },
  "language_info": {
   "codemirror_mode": {
    "name": "ipython",
    "version": 3
   },
   "file_extension": ".py",
   "mimetype": "text/x-python",
   "name": "python",
   "nbconvert_exporter": "python",
   "pygments_lexer": "ipython3",
   "version": "3.7.1"
  }
 },
 "nbformat": 4,
 "nbformat_minor": 2
}
