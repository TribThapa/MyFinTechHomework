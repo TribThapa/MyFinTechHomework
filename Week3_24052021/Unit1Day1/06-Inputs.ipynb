{
 "cells": [
  {
   "cell_type": "code",
   "execution_count": 3,
   "metadata": {},
   "outputs": [
    {
     "name": "stdin",
     "output_type": "stream",
     "text": [
      "Welcome to the Boba Shop! What is your Name?  Thapa\n"
     ]
    },
    {
     "name": "stdout",
     "output_type": "stream",
     "text": [
      "Hello Thapa\n"
     ]
    },
    {
     "name": "stdin",
     "output_type": "stream",
     "text": [
      "What kind of boba drink would you like?  Milk\n",
      "How sweet do you want your drink? 0, 50, 100, or 200?  100\n"
     ]
    },
    {
     "name": "stdout",
     "output_type": "stream",
     "text": [
      "100\n",
      "normal sweet\n",
      "Your order of Milk boba with a sweet level of 100 is normal sweet.\n"
     ]
    }
   ],
   "source": [
    "# Declare a variable of `name` with an input and a string of \"Welcome to the Boba Shop! What is your name?\".\n",
    "name = input(\"Welcome to the Boba Shop! What is your Name? \")\n",
    "\n",
    "if name != '':\n",
    "    print(f\"Hello {name}\")\n",
    "    \n",
    "    beverage = input(\"What kind of boba drink would you like? \")\n",
    "    sweetness_level = input(\"How sweet do you want your drink? 0, 50, 100, or 200? \")\n",
    "    print(sweetness_level)\n",
    "    \n",
    "    if sweetness_level == '50':\n",
    "        sweetness = 'half sweetned'\n",
    "        print(sweetness)\n",
    "    elif sweetness_level == '100':\n",
    "        sweetness = 'normal sweet'\n",
    "        print(sweetness)\n",
    "    elif sweetness_level == '200':\n",
    "        sweetness = 'super sweet'\n",
    "        print(sweetness)\n",
    "    else:\n",
    "        print('non sweet')\n",
    "    \n",
    "    print(f\"Your order of {beverage} boba with a sweet level of {sweetness_level} is {sweetness}.\")\n",
    "else:\n",
    "    print(\"You did not give us your name! Goodbye!\")"
   ]
  },
  {
   "cell_type": "code",
   "execution_count": null,
   "metadata": {},
   "outputs": [],
   "source": []
  }
 ],
 "metadata": {
  "kernelspec": {
   "display_name": "Python 3",
   "language": "python",
   "name": "python3"
  },
  "language_info": {
   "codemirror_mode": {
    "name": "ipython",
    "version": 3
   },
   "file_extension": ".py",
   "mimetype": "text/x-python",
   "name": "python",
   "nbconvert_exporter": "python",
   "pygments_lexer": "ipython3",
   "version": "3.7.1"
  }
 },
 "nbformat": 4,
 "nbformat_minor": 2
}
