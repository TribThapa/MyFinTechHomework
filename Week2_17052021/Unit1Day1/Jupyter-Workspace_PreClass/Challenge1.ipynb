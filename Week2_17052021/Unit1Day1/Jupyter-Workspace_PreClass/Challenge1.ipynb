{
 "cells": [
  {
   "cell_type": "code",
   "execution_count": 29,
   "metadata": {},
   "outputs": [
    {
     "name": "stdout",
     "output_type": "stream",
     "text": [
      "Netflix stock price increased by 94.25558484806437% i.e., by $339.65.\n",
      "3500\n"
     ]
    }
   ],
   "source": [
    "OriginalPrice = 360.35\n",
    "CurrentPrice = 700\n",
    "\n",
    "Difference = CurrentPrice - OriginalPrice\n",
    "\n",
    "PercentIncrease = (Difference/OriginalPrice)*100\n",
    "print(f\"Netflix stock price increased by {PercentIncrease}% i.e., by ${Difference}.\")\n",
    "\n",
    "Threshold_to_buy = 20\n",
    "\n",
    "Balance = 5 * CurrentPrice\n",
    "print(Balance)"
   ]
  },
  {
   "cell_type": "code",
   "execution_count": 26,
   "metadata": {},
   "outputs": [
    {
     "name": "stdout",
     "output_type": "stream",
     "text": [
      "Recommedaion: DO NOT BUY!!!!!!!\n"
     ]
    }
   ],
   "source": [
    "# Recommendations based off of a single condition\n",
    "if PercentIncrease > Threshold_to_buy:\n",
    "    print(\"Recommedaion: Buy stock\")\n",
    "elif PercentIncrease == Threshold_to_buy:\n",
    "    print(\"Recommedaion: Buy stock but be cautious\")\n",
    "else:\n",
    "    print(\"Recommedaion: DO NOT BUY!!!!!!!\")"
   ]
  },
  {
   "cell_type": "code",
   "execution_count": 30,
   "metadata": {},
   "outputs": [
    {
     "name": "stdout",
     "output_type": "stream",
     "text": [
      "Recommendation: Your call, but would recommend holding off for a while.\n"
     ]
    }
   ],
   "source": [
    "# Recommendations based off of multiple conditions\n",
    "if (PercentIncrease > Threshold_to_buy) and (PercentIncrease > Balance):\n",
    "    print(\"Recommendation: Buy the stock!\")\n",
    "elif (PercentIncrease > Threshold_to_buy) and (PercentIncrease < Balance):\n",
    "    print(\"Recommendation: Your call, but would recommend holding off for a while.\")\n",
    "else:\n",
    "    print(\"Recommendation: DO NOT BUY\")"
   ]
  },
  {
   "cell_type": "code",
   "execution_count": 24,
   "metadata": {},
   "outputs": [
    {
     "data": {
      "text/plain": [
       "\"Netflix's original stock price was $360.35. However, it's current stock price is $293.33. This implies a -18.598584709310405% increase in stock price i.e., the stock price went up by -67.02000000000004\""
      ]
     },
     "execution_count": 24,
     "metadata": {},
     "output_type": "execute_result"
    }
   ],
   "source": [
    "multiline = (f\"Netflix's original stock price was ${OriginalPrice}.\"\n",
    "             f\" However, it's current stock price is ${CurrentPrice}. This implies a {PercentIncrease}% increase in stock price i.e., the stock price went up by {Difference}\")\n",
    "\n",
    "multiline"
   ]
  },
  {
   "cell_type": "code",
   "execution_count": null,
   "metadata": {},
   "outputs": [],
   "source": []
  }
 ],
 "metadata": {
  "kernelspec": {
   "display_name": "Python 3",
   "language": "python",
   "name": "python3"
  },
  "language_info": {
   "codemirror_mode": {
    "name": "ipython",
    "version": 3
   },
   "file_extension": ".py",
   "mimetype": "text/x-python",
   "name": "python",
   "nbconvert_exporter": "python",
   "pygments_lexer": "ipython3",
   "version": "3.7.1"
  }
 },
 "nbformat": 4,
 "nbformat_minor": 2
}
