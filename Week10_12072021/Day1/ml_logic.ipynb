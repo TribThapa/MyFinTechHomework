{
 "cells": [
  {
   "cell_type": "code",
   "execution_count": 1,
   "id": "66175093-673a-434b-9765-e6e8f0eb39a6",
   "metadata": {},
   "outputs": [],
   "source": [
    "#Imports\n",
    "from ipynb.fs.full.data_integration import retrieve_ohlcv\n",
    "from ipynb.fs.full.data_integration import retrieve_historical_data\n",
    "from ipynb.fs.full.data_integration import retrieve_historical_data\n",
    "import pandas as pd\n",
    "from itertools import combinations_with_replacement\n",
    "from statsmodels.tsa.arima_model import ARIMA\n",
    "\n",
    "import warnings\n",
    "warnings.filterwarnings(\"ignore\")"
   ]
  },
  {
   "cell_type": "markdown",
   "id": "e1c68773-e357-431e-974c-3249ea7e4b6a",
   "metadata": {},
   "source": [
    "### OHLC approach"
   ]
  },
  {
   "cell_type": "code",
   "execution_count": 2,
   "id": "cae1dfb5-f3f2-4f55-a967-010fb749645f",
   "metadata": {},
   "outputs": [
    {
     "name": "stdout",
     "output_type": "stream",
     "text": [
      "Total length of dataset is 300\n",
      "\n",
      "An example of the data acquired is: \n",
      "\n",
      "[1626989640000, 32276.68, 32279.0, 32275.65, 32279.0, 0.96913301]]\n"
     ]
    }
   ],
   "source": [
    "data = retrieve_ohlcv('BTC/USD')\n",
    "\n",
    "print(f\"Total length of dataset is {len(data)}\")\n",
    "print()\n",
    "print(f\"An example of the data acquired is: \\n\"\n",
    "      f\"\\n\"\n",
    "      f\"{data[0]}]\")"
   ]
  },
  {
   "cell_type": "code",
   "execution_count": 3,
   "id": "4e92535f-3055-4487-9a99-5abc9b409848",
   "metadata": {},
   "outputs": [
    {
     "data": {
      "text/html": [
       "<div>\n",
       "<style scoped>\n",
       "    .dataframe tbody tr th:only-of-type {\n",
       "        vertical-align: middle;\n",
       "    }\n",
       "\n",
       "    .dataframe tbody tr th {\n",
       "        vertical-align: top;\n",
       "    }\n",
       "\n",
       "    .dataframe thead th {\n",
       "        text-align: right;\n",
       "    }\n",
       "</style>\n",
       "<table border=\"1\" class=\"dataframe\">\n",
       "  <thead>\n",
       "    <tr style=\"text-align: right;\">\n",
       "      <th></th>\n",
       "      <th>Time ms</th>\n",
       "      <th>Open</th>\n",
       "      <th>High</th>\n",
       "      <th>Low</th>\n",
       "      <th>Close</th>\n",
       "      <th>Vol</th>\n",
       "    </tr>\n",
       "  </thead>\n",
       "  <tbody>\n",
       "    <tr>\n",
       "      <th>295</th>\n",
       "      <td>1627007340000</td>\n",
       "      <td>32611.18</td>\n",
       "      <td>32614.87</td>\n",
       "      <td>32605.2</td>\n",
       "      <td>32608.82</td>\n",
       "      <td>3.313212</td>\n",
       "    </tr>\n",
       "    <tr>\n",
       "      <th>296</th>\n",
       "      <td>1627007400000</td>\n",
       "      <td>32608.83</td>\n",
       "      <td>32608.83</td>\n",
       "      <td>32600.0</td>\n",
       "      <td>32600.87</td>\n",
       "      <td>2.587796</td>\n",
       "    </tr>\n",
       "    <tr>\n",
       "      <th>297</th>\n",
       "      <td>1627007460000</td>\n",
       "      <td>32600.00</td>\n",
       "      <td>32608.83</td>\n",
       "      <td>32600.0</td>\n",
       "      <td>32608.83</td>\n",
       "      <td>10.509223</td>\n",
       "    </tr>\n",
       "    <tr>\n",
       "      <th>298</th>\n",
       "      <td>1627007520000</td>\n",
       "      <td>32608.83</td>\n",
       "      <td>32608.83</td>\n",
       "      <td>32600.0</td>\n",
       "      <td>32602.01</td>\n",
       "      <td>2.067019</td>\n",
       "    </tr>\n",
       "    <tr>\n",
       "      <th>299</th>\n",
       "      <td>1627007580000</td>\n",
       "      <td>32602.00</td>\n",
       "      <td>32602.01</td>\n",
       "      <td>32585.0</td>\n",
       "      <td>32585.00</td>\n",
       "      <td>12.056466</td>\n",
       "    </tr>\n",
       "  </tbody>\n",
       "</table>\n",
       "</div>"
      ],
      "text/plain": [
       "           Time ms      Open      High      Low     Close        Vol\n",
       "295  1627007340000  32611.18  32614.87  32605.2  32608.82   3.313212\n",
       "296  1627007400000  32608.83  32608.83  32600.0  32600.87   2.587796\n",
       "297  1627007460000  32600.00  32608.83  32600.0  32608.83  10.509223\n",
       "298  1627007520000  32608.83  32608.83  32600.0  32602.01   2.067019\n",
       "299  1627007580000  32602.00  32602.01  32585.0  32585.00  12.056466"
      ]
     },
     "execution_count": 3,
     "metadata": {},
     "output_type": "execute_result"
    }
   ],
   "source": [
    "# Convert OHLC data to dataframe (use this to convert time col: https://www.epochconverter.com/)\n",
    "data_df = pd.DataFrame(data)\n",
    "\n",
    "data_df = data_df.rename(columns={0: \"Time ms\",\n",
    "                                  1: \"Open\",\n",
    "                                  2: \"High\",\n",
    "                                  3: \"Low\",\n",
    "                                  4: \"Close\",\n",
    "                                  5: \"Vol\"})\n",
    "\n",
    "data_df.tail()"
   ]
  },
  {
   "cell_type": "markdown",
   "id": "e283420e-1ba6-47fa-905c-a6e6b3447967",
   "metadata": {},
   "source": [
    "### Historical data approach"
   ]
  },
  {
   "cell_type": "code",
   "execution_count": 4,
   "id": "96af5d9e-858a-4f04-83e4-4990a6e5a150",
   "metadata": {},
   "outputs": [
    {
     "name": "stdout",
     "output_type": "stream",
     "text": [
      "Checking input parameters are in the correct format...\n",
      "Formatting Dates...\n",
      "Checking if ticker supplied is available on the CoinBase Pro API...\n",
      "Connected to the CoinBase Pro API...\n",
      "Ticker 'BTC-USD' found at the CoinBase Pro API, continuing to extraction...\n",
      "Data for chunk 0 of 10 extracted\n",
      "CoinBase Pro API did not have any data available for 'BTC-USD' beginning at 2013-01-01-00-00. Trying a later date:'2013-01-01T00:00:00'\n",
      "Data for chunk 1 of 10 extracted\n",
      "CoinBase Pro API did not have any data available for 'BTC-USD' beginning at 2013-01-01-00-00. Trying a later date:'2013-10-28T00:00:00'\n",
      "Data for chunk 2 of 10 extracted\n",
      "CoinBase Pro API did not have any data available for 'BTC-USD' beginning at 2013-01-01-00-00. Trying a later date:'2014-08-24T00:00:00'\n",
      "Data for chunk 3 of 10 extracted\n",
      "Data for chunk 4 of 10 extracted\n",
      "Data for chunk 5 of 10 extracted\n",
      "Data for chunk 6 of 10 extracted\n",
      "Data for chunk 7 of 10 extracted\n",
      "Data for chunk 8 of 10 extracted\n",
      "Data for chunk 9 of 10 extracted\n",
      "Data for chunk 10 of 10 extracted\n"
     ]
    }
   ],
   "source": [
    "date = '2013-01-01-00-00'\n",
    "\n",
    "data = retrieve_historical_data('BTC-USD', date)#'2018-09-15-00-00')"
   ]
  },
  {
   "cell_type": "code",
   "execution_count": 21,
   "id": "412d1dff-a022-4adb-986b-7a582b4af5ef",
   "metadata": {},
   "outputs": [
    {
     "data": {
      "text/plain": [
       "(2196, 5)"
      ]
     },
     "execution_count": 21,
     "metadata": {},
     "output_type": "execute_result"
    }
   ],
   "source": [
    "# Crypto_df\n",
    "data_df = data\n",
    "\n",
    "data.shape"
   ]
  },
  {
   "cell_type": "code",
   "execution_count": 6,
   "id": "9cb99632-182d-4d0d-a80f-b9fde956b526",
   "metadata": {},
   "outputs": [
    {
     "data": {
      "text/plain": [
       "<AxesSubplot:xlabel='time'>"
      ]
     },
     "execution_count": 6,
     "metadata": {},
     "output_type": "execute_result"
    },
    {
     "data": {
      "image/png": "[encoded data removed]",
      "text/plain": [
       "<Figure size 432x288 with 1 Axes>"
      ]
     },
     "metadata": {
      "needs_background": "light"
     },
     "output_type": "display_data"
    }
   ],
   "source": [
    "data_df['close'].plot()"
   ]
  },
  {
   "cell_type": "markdown",
   "id": "e907c37c-c71b-4fa1-a0ee-01edd399d079",
   "metadata": {},
   "source": [
    "### Time-series analysis"
   ]
  },
  {
   "cell_type": "code",
   "execution_count": 7,
   "id": "27c502da-02f9-4d7f-b030-f738a7175460",
   "metadata": {},
   "outputs": [
    {
     "name": "stdout",
     "output_type": "stream",
     "text": [
      "[(1, 1, 1), (1, 1, 1), (1, 1, 3), (1, 1, 1), (1, 1, 3), (1, 1, 1), (1, 1, 3)]\n"
     ]
    }
   ],
   "source": [
    "# Get all combinations of [1, 2, 3] and length 2\n",
    "comb = combinations_with_replacement([1, 1, 3], 3)\n",
    "\n",
    "variables_list = []\n",
    "\n",
    "# Print the obtained combinations\n",
    "for i in list(comb):\n",
    "#     print(i)\n",
    "#     print(i[1])\n",
    "    if i[1] == 1:    \n",
    "        \n",
    "        variables_list.append(i)\n",
    "    \n",
    "print(variables_list)"
   ]
  },
  {
   "cell_type": "code",
   "execution_count": 8,
   "id": "567d2e56-ff31-4173-99f7-e528b6950422",
   "metadata": {},
   "outputs": [],
   "source": [
    "results_aic = []\n",
    "results_bic = []\n",
    "\n",
    "for combination in variables_list:\n",
    "    model = ARIMA(data_df['close'], \n",
    "                  order=combination)\n",
    "    \n",
    "    results = model.fit()\n",
    "    \n",
    "    results_aic.append(results.aic)\n",
    "    results_bic.append(results.bic)\n",
    "    \n",
    "df = pd.DataFrame({'aic':results_aic,\n",
    "                   'bic':results_bic},\n",
    "                  index=variables_list).sort_values(by='aic')"
   ]
  },
  {
   "cell_type": "code",
   "execution_count": 9,
   "id": "fd403e8c-76c5-4d87-a001-430ace1be225",
   "metadata": {},
   "outputs": [
    {
     "data": {
      "text/html": [
       "<div>\n",
       "<style scoped>\n",
       "    .dataframe tbody tr th:only-of-type {\n",
       "        vertical-align: middle;\n",
       "    }\n",
       "\n",
       "    .dataframe tbody tr th {\n",
       "        vertical-align: top;\n",
       "    }\n",
       "\n",
       "    .dataframe thead th {\n",
       "        text-align: right;\n",
       "    }\n",
       "</style>\n",
       "<table border=\"1\" class=\"dataframe\">\n",
       "  <thead>\n",
       "    <tr style=\"text-align: right;\">\n",
       "      <th></th>\n",
       "      <th>aic</th>\n",
       "      <th>bic</th>\n",
       "    </tr>\n",
       "  </thead>\n",
       "  <tbody>\n",
       "    <tr>\n",
       "      <th>(1, 1, 1)</th>\n",
       "      <td>34939.846223</td>\n",
       "      <td>34962.621972</td>\n",
       "    </tr>\n",
       "    <tr>\n",
       "      <th>(1, 1, 1)</th>\n",
       "      <td>34939.846223</td>\n",
       "      <td>34962.621972</td>\n",
       "    </tr>\n",
       "    <tr>\n",
       "      <th>(1, 1, 1)</th>\n",
       "      <td>34939.846223</td>\n",
       "      <td>34962.621972</td>\n",
       "    </tr>\n",
       "    <tr>\n",
       "      <th>(1, 1, 1)</th>\n",
       "      <td>34939.846223</td>\n",
       "      <td>34962.621972</td>\n",
       "    </tr>\n",
       "    <tr>\n",
       "      <th>(1, 1, 3)</th>\n",
       "      <td>34933.076702</td>\n",
       "      <td>34967.240326</td>\n",
       "    </tr>\n",
       "    <tr>\n",
       "      <th>(1, 1, 3)</th>\n",
       "      <td>34933.076702</td>\n",
       "      <td>34967.240326</td>\n",
       "    </tr>\n",
       "    <tr>\n",
       "      <th>(1, 1, 3)</th>\n",
       "      <td>34933.076702</td>\n",
       "      <td>34967.240326</td>\n",
       "    </tr>\n",
       "  </tbody>\n",
       "</table>\n",
       "</div>"
      ],
      "text/plain": [
       "                    aic           bic\n",
       "(1, 1, 1)  34939.846223  34962.621972\n",
       "(1, 1, 1)  34939.846223  34962.621972\n",
       "(1, 1, 1)  34939.846223  34962.621972\n",
       "(1, 1, 1)  34939.846223  34962.621972\n",
       "(1, 1, 3)  34933.076702  34967.240326\n",
       "(1, 1, 3)  34933.076702  34967.240326\n",
       "(1, 1, 3)  34933.076702  34967.240326"
      ]
     },
     "execution_count": 9,
     "metadata": {},
     "output_type": "execute_result"
    }
   ],
   "source": [
    "aic_df_sorted = df.sort_values(by=['aic'], ascending=False)\n",
    "\n",
    "aic_df_sorted"
   ]
  },
  {
   "cell_type": "code",
   "execution_count": 10,
   "id": "e18e2f8b-25c1-47ed-9ee1-c0f68d1db207",
   "metadata": {},
   "outputs": [
    {
     "data": {
      "text/html": [
       "<div>\n",
       "<style scoped>\n",
       "    .dataframe tbody tr th:only-of-type {\n",
       "        vertical-align: middle;\n",
       "    }\n",
       "\n",
       "    .dataframe tbody tr th {\n",
       "        vertical-align: top;\n",
       "    }\n",
       "\n",
       "    .dataframe thead th {\n",
       "        text-align: right;\n",
       "    }\n",
       "</style>\n",
       "<table border=\"1\" class=\"dataframe\">\n",
       "  <thead>\n",
       "    <tr style=\"text-align: right;\">\n",
       "      <th></th>\n",
       "      <th>aic</th>\n",
       "      <th>bic</th>\n",
       "    </tr>\n",
       "  </thead>\n",
       "  <tbody>\n",
       "    <tr>\n",
       "      <th>(1, 1, 3)</th>\n",
       "      <td>34933.076702</td>\n",
       "      <td>34967.240326</td>\n",
       "    </tr>\n",
       "    <tr>\n",
       "      <th>(1, 1, 3)</th>\n",
       "      <td>34933.076702</td>\n",
       "      <td>34967.240326</td>\n",
       "    </tr>\n",
       "    <tr>\n",
       "      <th>(1, 1, 3)</th>\n",
       "      <td>34933.076702</td>\n",
       "      <td>34967.240326</td>\n",
       "    </tr>\n",
       "    <tr>\n",
       "      <th>(1, 1, 1)</th>\n",
       "      <td>34939.846223</td>\n",
       "      <td>34962.621972</td>\n",
       "    </tr>\n",
       "    <tr>\n",
       "      <th>(1, 1, 1)</th>\n",
       "      <td>34939.846223</td>\n",
       "      <td>34962.621972</td>\n",
       "    </tr>\n",
       "    <tr>\n",
       "      <th>(1, 1, 1)</th>\n",
       "      <td>34939.846223</td>\n",
       "      <td>34962.621972</td>\n",
       "    </tr>\n",
       "    <tr>\n",
       "      <th>(1, 1, 1)</th>\n",
       "      <td>34939.846223</td>\n",
       "      <td>34962.621972</td>\n",
       "    </tr>\n",
       "  </tbody>\n",
       "</table>\n",
       "</div>"
      ],
      "text/plain": [
       "                    aic           bic\n",
       "(1, 1, 3)  34933.076702  34967.240326\n",
       "(1, 1, 3)  34933.076702  34967.240326\n",
       "(1, 1, 3)  34933.076702  34967.240326\n",
       "(1, 1, 1)  34939.846223  34962.621972\n",
       "(1, 1, 1)  34939.846223  34962.621972\n",
       "(1, 1, 1)  34939.846223  34962.621972\n",
       "(1, 1, 1)  34939.846223  34962.621972"
      ]
     },
     "execution_count": 10,
     "metadata": {},
     "output_type": "execute_result"
    }
   ],
   "source": [
    "bic_df_sorted = df.sort_values(by=['bic'], ascending=False)\n",
    "\n",
    "bic_df_sorted"
   ]
  },
  {
   "cell_type": "code",
   "execution_count": 11,
   "id": "77d01c67-9665-416d-a340-a43a4bde8b06",
   "metadata": {},
   "outputs": [
    {
     "data": {
      "text/plain": [
       "<AxesSubplot:>"
      ]
     },
     "execution_count": 11,
     "metadata": {},
     "output_type": "execute_result"
    },
    {
     "data": {
      "image/png": "[encoded data removed]",
      "text/plain": [
       "<Figure size 432x288 with 1 Axes>"
      ]
     },
     "metadata": {
      "needs_background": "light"
     },
     "output_type": "display_data"
    }
   ],
   "source": [
    "df.plot()"
   ]
  },
  {
   "cell_type": "code",
   "execution_count": 12,
   "id": "b14bbfd3-ba6c-43d5-85fe-a5a2b809e036",
   "metadata": {},
   "outputs": [
    {
     "data": {
      "text/plain": [
       "(1, 1, 1)"
      ]
     },
     "execution_count": 12,
     "metadata": {},
     "output_type": "execute_result"
    }
   ],
   "source": [
    "aic_df_sorted.index[0]"
   ]
  },
  {
   "cell_type": "code",
   "execution_count": 13,
   "id": "f82b6fd2-15d0-4930-894c-368097bc79e9",
   "metadata": {},
   "outputs": [
    {
     "data": {
      "text/html": [
       "<table class=\"simpletable\">\n",
       "<caption>ARIMA Model Results</caption>\n",
       "<tr>\n",
       "  <th>Dep. Variable:</th>      <td>D.close</td>     <th>  No. Observations:  </th>    <td>2195</td>   \n",
       "</tr>\n",
       "<tr>\n",
       "  <th>Model:</th>          <td>ARIMA(1, 1, 1)</td>  <th>  Log Likelihood     </th> <td>-17465.923</td>\n",
       "</tr>\n",
       "<tr>\n",
       "  <th>Method:</th>             <td>css-mle</td>     <th>  S.D. of innovations</th>   <td>691.041</td> \n",
       "</tr>\n",
       "<tr>\n",
       "  <th>Date:</th>          <td>Fri, 23 Jul 2021</td> <th>  AIC                </th>  <td>34939.846</td>\n",
       "</tr>\n",
       "<tr>\n",
       "  <th>Time:</th>              <td>12:34:31</td>     <th>  BIC                </th>  <td>34962.622</td>\n",
       "</tr>\n",
       "<tr>\n",
       "  <th>Sample:</th>           <td>07-21-2015</td>    <th>  HQIC               </th>  <td>34948.170</td>\n",
       "</tr>\n",
       "<tr>\n",
       "  <th></th>                 <td>- 07-23-2021</td>   <th>                     </th>      <td> </td>    \n",
       "</tr>\n",
       "</table>\n",
       "<table class=\"simpletable\">\n",
       "<tr>\n",
       "        <td></td>           <th>coef</th>     <th>std err</th>      <th>z</th>      <th>P>|z|</th>  <th>[0.025</th>    <th>0.975]</th>  \n",
       "</tr>\n",
       "<tr>\n",
       "  <th>const</th>         <td>   14.7174</td> <td>   13.909</td> <td>    1.058</td> <td> 0.290</td> <td>  -12.544</td> <td>   41.979</td>\n",
       "</tr>\n",
       "<tr>\n",
       "  <th>ar.L1.D.close</th> <td>   -0.4084</td> <td>    0.183</td> <td>   -2.229</td> <td> 0.026</td> <td>   -0.768</td> <td>   -0.049</td>\n",
       "</tr>\n",
       "<tr>\n",
       "  <th>ma.L1.D.close</th> <td>    0.3281</td> <td>    0.189</td> <td>    1.733</td> <td> 0.083</td> <td>   -0.043</td> <td>    0.699</td>\n",
       "</tr>\n",
       "</table>\n",
       "<table class=\"simpletable\">\n",
       "<caption>Roots</caption>\n",
       "<tr>\n",
       "    <td></td>   <th>            Real</th>  <th>         Imaginary</th> <th>         Modulus</th>  <th>        Frequency</th>\n",
       "</tr>\n",
       "<tr>\n",
       "  <th>AR.1</th> <td>          -2.4484</td> <td>          +0.0000j</td> <td>           2.4484</td> <td>           0.5000</td>\n",
       "</tr>\n",
       "<tr>\n",
       "  <th>MA.1</th> <td>          -3.0474</td> <td>          +0.0000j</td> <td>           3.0474</td> <td>           0.5000</td>\n",
       "</tr>\n",
       "</table>"
      ],
      "text/plain": [
       "<class 'statsmodels.iolib.summary.Summary'>\n",
       "\"\"\"\n",
       "                             ARIMA Model Results                              \n",
       "==============================================================================\n",
       "Dep. Variable:                D.close   No. Observations:                 2195\n",
       "Model:                 ARIMA(1, 1, 1)   Log Likelihood              -17465.923\n",
       "Method:                       css-mle   S.D. of innovations            691.041\n",
       "Date:                Fri, 23 Jul 2021   AIC                          34939.846\n",
       "Time:                        12:34:31   BIC                          34962.622\n",
       "Sample:                    07-21-2015   HQIC                         34948.170\n",
       "                         - 07-23-2021                                         \n",
       "=================================================================================\n",
       "                    coef    std err          z      P>|z|      [0.025      0.975]\n",
       "---------------------------------------------------------------------------------\n",
       "const            14.7174     13.909      1.058      0.290     -12.544      41.979\n",
       "ar.L1.D.close    -0.4084      0.183     -2.229      0.026      -0.768      -0.049\n",
       "ma.L1.D.close     0.3281      0.189      1.733      0.083      -0.043       0.699\n",
       "                                    Roots                                    \n",
       "=============================================================================\n",
       "                  Real          Imaginary           Modulus         Frequency\n",
       "-----------------------------------------------------------------------------\n",
       "AR.1           -2.4484           +0.0000j            2.4484            0.5000\n",
       "MA.1           -3.0474           +0.0000j            3.0474            0.5000\n",
       "-----------------------------------------------------------------------------\n",
       "\"\"\""
      ]
     },
     "execution_count": 13,
     "metadata": {},
     "output_type": "execute_result"
    }
   ],
   "source": [
    "# Rerun ARIMA\n",
    "model_refined = ARIMA(data_df['close'],\n",
    "                      order=aic_df_sorted.index[0])\n",
    "\n",
    "results_refined = model_refined.fit()\n",
    "\n",
    "results_refined.summary()"
   ]
  },
  {
   "cell_type": "code",
   "execution_count": 14,
   "id": "1b3aaef8-8279-4692-a369-01b27e2a6f5c",
   "metadata": {},
   "outputs": [
    {
     "data": {
      "text/plain": [
       "<AxesSubplot:title={'center':'Futures BTC Price'}>"
      ]
     },
     "execution_count": 14,
     "metadata": {},
     "output_type": "execute_result"
    },
    {
     "data": {
      "image/png": "[encoded data removed]",
      "text/plain": [
       "<Figure size 432x288 with 1 Axes>"
      ]
     },
     "metadata": {
      "needs_background": "light"
     },
     "output_type": "display_data"
    }
   ],
   "source": [
    "# Plot the Futures Price Forecast\n",
    "pd.DataFrame(results_refined.forecast(steps=50)[0]).plot(title=\"Futures BTC Price\")"
   ]
  },
  {
   "cell_type": "code",
   "execution_count": 20,
   "id": "329b6bb2-91d2-4f7d-b69b-f55db7d0de3f",
   "metadata": {},
   "outputs": [
    {
     "data": {
      "text/plain": [
       "<AxesSubplot:title={'center':'Futures BTC Price'}>"
      ]
     },
     "execution_count": 20,
     "metadata": {},
     "output_type": "execute_result"
    },
    {
     "data": {
      "image/png": "[encoded data removed]",
      "text/plain": [
       "<Figure size 432x288 with 1 Axes>"
      ]
     },
     "metadata": {
      "needs_background": "light"
     },
     "output_type": "display_data"
    }
   ],
   "source": [
    "pd.DataFrame(results_refined.forecast(steps=1000)[0]).plot(title=\"Futures BTC Price\")"
   ]
  },
  {
   "cell_type": "code",
   "execution_count": 44,
   "id": "be91cbd8-c0ed-462c-b365-d23a98e76e2e",
   "metadata": {},
   "outputs": [
    {
     "data": {
      "text/plain": [
       "(2196, 5)"
      ]
     },
     "execution_count": 44,
     "metadata": {},
     "output_type": "execute_result"
    }
   ],
   "source": [
    "data_df.shape"
   ]
  },
  {
   "cell_type": "code",
   "execution_count": 66,
   "id": "ebbe0412-acf5-478f-8673-7e75c4cc16a9",
   "metadata": {},
   "outputs": [],
   "source": [
    "train = data_df.iloc[: 1900, 3]\n",
    "\n",
    "test = data_df.iloc[1900 :, 3]\n"
   ]
  },
  {
   "cell_type": "code",
   "execution_count": 67,
   "id": "d9ccaa71-a9e7-4985-969e-791fbaeb5089",
   "metadata": {},
   "outputs": [
    {
     "data": {
      "text/plain": [
       "Timestamp('2021-04-18 00:00:00', freq='D')"
      ]
     },
     "execution_count": 67,
     "metadata": {},
     "output_type": "execute_result"
    }
   ],
   "source": [
    "from datetime import datetime\n",
    "datelist = pd.date_range(test.index[0], periods=200).tolist()\n",
    "datelist[-1]"
   ]
  },
  {
   "cell_type": "code",
   "execution_count": 71,
   "id": "c168714a-bb5a-49a1-a201-3fe482d6aa7d",
   "metadata": {},
   "outputs": [
    {
     "data": {
      "image/png": "[encoded data removed]",
      "text/plain": [
       "<Figure size 1200x500 with 1 Axes>"
      ]
     },
     "metadata": {
      "needs_background": "light"
     },
     "output_type": "display_data"
    }
   ],
   "source": [
    "\n",
    "import matplotlib.pyplot as plt\n",
    "%matplotlib inline\n",
    "model = ARIMA(train, order=(3, 1, 3))  \n",
    "fitted = model.fit(disp=-1)  \n",
    "\n",
    "# Forecast\n",
    "fc, se, conf = fitted.forecast(200, alpha=0.05)  # 95% conf\n",
    "\n",
    "# Make as pandas series\n",
    "fc_series = pd.Series(fc, index=datelist)\n",
    "lower_series = pd.Series(conf[:, 0], index=datelist)\n",
    "upper_series = pd.Series(conf[:, 1], index=datelist)\n",
    "\n",
    "# Plot\n",
    "plt.figure(figsize=(12,5), dpi=100)\n",
    "plt.plot(train, label='training')\n",
    "plt.plot(test, label='actual')\n",
    "plt.plot(fc_series, label='forecast')\n",
    "plt.fill_between(lower_series.index, lower_series, upper_series, \n",
    "                 color='k', alpha=.15)\n",
    "plt.title('Forecast vs Actuals')\n",
    "plt.legend(loc='upper left', fontsize=8)\n",
    "plt.show()"
   ]
  },
  {
   "cell_type": "code",
   "execution_count": null,
   "id": "f5e3ccc5-1221-4f9d-b271-743e76f79cc1",
   "metadata": {},
   "outputs": [],
   "source": [
    "#Use ARIMA to predict 2 days then add to model and move forward by 2days to account for increased CI with time\n"
   ]
  }
 ],
 "metadata": {
  "kernelspec": {
   "display_name": "Python 3",
   "language": "python",
   "name": "python3"
  },
  "language_info": {
   "codemirror_mode": {
    "name": "ipython",
    "version": 3
   },
   "file_extension": ".py",
   "mimetype": "text/x-python",
   "name": "python",
   "nbconvert_exporter": "python",
   "pygments_lexer": "ipython3",
   "version": "3.7.10"
  }
 },
 "nbformat": 4,
 "nbformat_minor": 5
}
