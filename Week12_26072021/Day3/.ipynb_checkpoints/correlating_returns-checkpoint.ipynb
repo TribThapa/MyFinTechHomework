{
 "cells": [
  {
   "cell_type": "markdown",
   "metadata": {},
   "source": [
    "# Correlating Returns"
   ]
  },
  {
   "cell_type": "code",
   "execution_count": 1,
   "metadata": {
    "scrolled": true
   },
   "outputs": [],
   "source": [
    "import os\n",
    "import pandas as pd\n",
    "from datetime import datetime, timedelta\n",
    "from dotenv import load_dotenv\n",
    "import alpaca_trade_api as tradeapi\n",
    "from newsapi.newsapi_client import NewsApiClient\n",
    "from nltk.sentiment.vader import SentimentIntensityAnalyzer"
   ]
  },
  {
   "cell_type": "markdown",
   "metadata": {},
   "source": [
    "## Load API Keys from Environment Variables"
   ]
  },
  {
   "cell_type": "code",
   "execution_count": 2,
   "metadata": {},
   "outputs": [
    {
     "name": "stdout",
     "output_type": "stream",
     "text": [
      "News API Key type: <class 'newsapi.newsapi_client.NewsApiClient'>\n",
      "News ALPACA Key type: <class 'str'>\n",
      "News ALPACA SECRET Key type: <class 'str'>\n"
     ]
    }
   ],
   "source": [
    "# Load .env enviroment variables\n",
    "load_dotenv()\n",
    "\n",
    "# Set News API Key\n",
    "newsapi = NewsApiClient(api_key=os.environ[\"NEWS_API_KEY\"])\n",
    "#newsapi = NewsApiClient(api_key=os.getenv(\"NEWS_API_KEY\"))\n",
    "\n",
    "# Set Alpaca API key and secret\n",
    "alpaca_api_key = os.getenv(\"ALPACA_API_KEY\")\n",
    "alpaca_secret_key = os.getenv(\"ALPACA_API_SECRET_KEY\")\n",
    "\n",
    "api = tradeapi.REST(alpaca_api_key, alpaca_secret_key, api_version='v2')\n",
    "\n",
    "print(f\"News API Key type: {type(newsapi)}\")\n",
    "print(f\"News ALPACA Key type: {type(alpaca_api_key)}\")\n",
    "print(f\"News ALPACA SECRET Key type: {type(alpaca_secret_key)}\")"
   ]
  },
  {
   "cell_type": "markdown",
   "metadata": {},
   "source": [
    "## Get AAPL Returns for Past Month"
   ]
  },
  {
   "cell_type": "code",
   "execution_count": 3,
   "metadata": {},
   "outputs": [
    {
     "data": {
      "text/html": [
       "<div>\n",
       "<style scoped>\n",
       "    .dataframe tbody tr th:only-of-type {\n",
       "        vertical-align: middle;\n",
       "    }\n",
       "\n",
       "    .dataframe tbody tr th {\n",
       "        vertical-align: top;\n",
       "    }\n",
       "\n",
       "    .dataframe thead tr th {\n",
       "        text-align: left;\n",
       "    }\n",
       "\n",
       "    .dataframe thead tr:last-of-type th {\n",
       "        text-align: right;\n",
       "    }\n",
       "</style>\n",
       "<table border=\"1\" class=\"dataframe\">\n",
       "  <thead>\n",
       "    <tr>\n",
       "      <th></th>\n",
       "      <th colspan=\"5\" halign=\"left\">AAPL</th>\n",
       "    </tr>\n",
       "    <tr>\n",
       "      <th></th>\n",
       "      <th>open</th>\n",
       "      <th>high</th>\n",
       "      <th>low</th>\n",
       "      <th>close</th>\n",
       "      <th>volume</th>\n",
       "    </tr>\n",
       "    <tr>\n",
       "      <th>time</th>\n",
       "      <th></th>\n",
       "      <th></th>\n",
       "      <th></th>\n",
       "      <th></th>\n",
       "      <th></th>\n",
       "    </tr>\n",
       "  </thead>\n",
       "  <tbody>\n",
       "    <tr>\n",
       "      <th>2021-07-06 00:00:00-04:00</th>\n",
       "      <td>140.10</td>\n",
       "      <td>143.15</td>\n",
       "      <td>140.0700</td>\n",
       "      <td>142.02</td>\n",
       "      <td>97272256</td>\n",
       "    </tr>\n",
       "    <tr>\n",
       "      <th>2021-07-07 00:00:00-04:00</th>\n",
       "      <td>143.54</td>\n",
       "      <td>144.89</td>\n",
       "      <td>142.6600</td>\n",
       "      <td>144.59</td>\n",
       "      <td>93223232</td>\n",
       "    </tr>\n",
       "    <tr>\n",
       "      <th>2021-07-08 00:00:00-04:00</th>\n",
       "      <td>141.57</td>\n",
       "      <td>144.06</td>\n",
       "      <td>140.6650</td>\n",
       "      <td>143.32</td>\n",
       "      <td>94133450</td>\n",
       "    </tr>\n",
       "    <tr>\n",
       "      <th>2021-07-09 00:00:00-04:00</th>\n",
       "      <td>142.73</td>\n",
       "      <td>145.65</td>\n",
       "      <td>142.6522</td>\n",
       "      <td>145.11</td>\n",
       "      <td>89995907</td>\n",
       "    </tr>\n",
       "    <tr>\n",
       "      <th>2021-07-12 00:00:00-04:00</th>\n",
       "      <td>146.21</td>\n",
       "      <td>146.32</td>\n",
       "      <td>144.0000</td>\n",
       "      <td>144.50</td>\n",
       "      <td>65946147</td>\n",
       "    </tr>\n",
       "  </tbody>\n",
       "</table>\n",
       "</div>"
      ],
      "text/plain": [
       "                             AAPL                                    \n",
       "                             open    high       low   close    volume\n",
       "time                                                                 \n",
       "2021-07-06 00:00:00-04:00  140.10  143.15  140.0700  142.02  97272256\n",
       "2021-07-07 00:00:00-04:00  143.54  144.89  142.6600  144.59  93223232\n",
       "2021-07-08 00:00:00-04:00  141.57  144.06  140.6650  143.32  94133450\n",
       "2021-07-09 00:00:00-04:00  142.73  145.65  142.6522  145.11  89995907\n",
       "2021-07-12 00:00:00-04:00  146.21  146.32  144.0000  144.50  65946147"
      ]
     },
     "execution_count": 3,
     "metadata": {},
     "output_type": "execute_result"
    }
   ],
   "source": [
    "# Set the ticker\n",
    "ticker = \"AAPL\"\n",
    "\n",
    "# Set timeframe to '1D'\n",
    "timeframe = \"1D\"\n",
    "\n",
    "# Set current date and the date from one month ago using the ISO format\n",
    "current_date = pd.Timestamp(datetime.now(), tz=\"America/New_York\").isoformat()\n",
    "past_date = pd.Timestamp(datetime.now()- timedelta(30), tz=\"America/New_York\").isoformat()\n",
    "\n",
    "# Get 4 weeks worth of historical data for AAPL\n",
    "df = api.get_barset(ticker,\n",
    "                    timeframe,\n",
    "                    limit=None,\n",
    "                    start=past_date,\n",
    "                    end=current_date,\n",
    "                    after=None,\n",
    "                    until=None).df\n",
    "\n",
    "# Display data\n",
    "df.head()"
   ]
  },
  {
   "cell_type": "code",
   "execution_count": 4,
   "metadata": {},
   "outputs": [
    {
     "data": {
      "text/html": [
       "<div>\n",
       "<style scoped>\n",
       "    .dataframe tbody tr th:only-of-type {\n",
       "        vertical-align: middle;\n",
       "    }\n",
       "\n",
       "    .dataframe tbody tr th {\n",
       "        vertical-align: top;\n",
       "    }\n",
       "\n",
       "    .dataframe thead th {\n",
       "        text-align: right;\n",
       "    }\n",
       "</style>\n",
       "<table border=\"1\" class=\"dataframe\">\n",
       "  <thead>\n",
       "    <tr style=\"text-align: right;\">\n",
       "      <th></th>\n",
       "      <th>close</th>\n",
       "    </tr>\n",
       "  </thead>\n",
       "  <tbody>\n",
       "    <tr>\n",
       "      <th>2021-07-06</th>\n",
       "      <td>142.02</td>\n",
       "    </tr>\n",
       "    <tr>\n",
       "      <th>2021-07-07</th>\n",
       "      <td>144.59</td>\n",
       "    </tr>\n",
       "    <tr>\n",
       "      <th>2021-07-08</th>\n",
       "      <td>143.32</td>\n",
       "    </tr>\n",
       "    <tr>\n",
       "      <th>2021-07-09</th>\n",
       "      <td>145.11</td>\n",
       "    </tr>\n",
       "    <tr>\n",
       "      <th>2021-07-12</th>\n",
       "      <td>144.50</td>\n",
       "    </tr>\n",
       "  </tbody>\n",
       "</table>\n",
       "</div>"
      ],
      "text/plain": [
       "             close\n",
       "2021-07-06  142.02\n",
       "2021-07-07  144.59\n",
       "2021-07-08  143.32\n",
       "2021-07-09  145.11\n",
       "2021-07-12  144.50"
      ]
     },
     "execution_count": 4,
     "metadata": {},
     "output_type": "execute_result"
    }
   ],
   "source": [
    "# Drop Outer Table Level\n",
    "df = df.droplevel(axis=1, level=0)\n",
    "\n",
    "# Use the drop function to drop extra columns\n",
    "df = df.drop(columns=[\"open\", \"high\", \"low\", \"volume\"])\n",
    "\n",
    "# Since this is daily data, we can keep only the date (remove the time) component of the data\n",
    "df.index = df.index.date\n",
    "\n",
    "# Display sample data\n",
    "df.head()"
   ]
  },
  {
   "cell_type": "code",
   "execution_count": 5,
   "metadata": {},
   "outputs": [
    {
     "data": {
      "text/html": [
       "<div>\n",
       "<style scoped>\n",
       "    .dataframe tbody tr th:only-of-type {\n",
       "        vertical-align: middle;\n",
       "    }\n",
       "\n",
       "    .dataframe tbody tr th {\n",
       "        vertical-align: top;\n",
       "    }\n",
       "\n",
       "    .dataframe thead th {\n",
       "        text-align: right;\n",
       "    }\n",
       "</style>\n",
       "<table border=\"1\" class=\"dataframe\">\n",
       "  <thead>\n",
       "    <tr style=\"text-align: right;\">\n",
       "      <th></th>\n",
       "      <th>close</th>\n",
       "    </tr>\n",
       "  </thead>\n",
       "  <tbody>\n",
       "    <tr>\n",
       "      <th>2021-07-07</th>\n",
       "      <td>0.018096</td>\n",
       "    </tr>\n",
       "    <tr>\n",
       "      <th>2021-07-08</th>\n",
       "      <td>-0.008783</td>\n",
       "    </tr>\n",
       "    <tr>\n",
       "      <th>2021-07-09</th>\n",
       "      <td>0.012490</td>\n",
       "    </tr>\n",
       "    <tr>\n",
       "      <th>2021-07-12</th>\n",
       "      <td>-0.004204</td>\n",
       "    </tr>\n",
       "    <tr>\n",
       "      <th>2021-07-13</th>\n",
       "      <td>0.008166</td>\n",
       "    </tr>\n",
       "  </tbody>\n",
       "</table>\n",
       "</div>"
      ],
      "text/plain": [
       "               close\n",
       "2021-07-07  0.018096\n",
       "2021-07-08 -0.008783\n",
       "2021-07-09  0.012490\n",
       "2021-07-12 -0.004204\n",
       "2021-07-13  0.008166"
      ]
     },
     "execution_count": 5,
     "metadata": {},
     "output_type": "execute_result"
    }
   ],
   "source": [
    "# Use the `pct_change` function to calculate daily returns of AAPL\n",
    "aapl_returns = df.pct_change().dropna()\n",
    "\n",
    "# Display sample data\n",
    "aapl_returns.head()"
   ]
  },
  {
   "cell_type": "code",
   "execution_count": 6,
   "metadata": {},
   "outputs": [],
   "source": [
    "# Use newsapi client to get most relevant 20 headlines per day in the past month\n",
    "def get_headlines(keyword):\n",
    "    all_headlines = []\n",
    "    \n",
    "    all_dates = []    \n",
    "    \n",
    "    date = datetime.strptime(current_date[:10], \"%Y-%m-%d\")\n",
    "    \n",
    "    end_date = datetime.strptime(past_date[:10], \"%Y-%m-%d\")\n",
    "    \n",
    "    print(f\"Fetching news about '{keyword}'\")\n",
    "    \n",
    "    print(\"*\" * 30)\n",
    "    \n",
    "    while date > end_date:\n",
    "        \n",
    "        print(f\"retrieving news from: {date}\")\n",
    "        \n",
    "        articles = newsapi.get_everything(q=keyword,\n",
    "                                          from_param=str(date)[:10],\n",
    "                                          to=str(date)[:10],\n",
    "                                          language=\"en\",\n",
    "                                          sort_by=\"relevancy\",\n",
    "                                          page=1)\n",
    "        headlines = []\n",
    "        \n",
    "        for i in range(0, len(articles[\"articles\"])):\n",
    "            \n",
    "            headlines.append(articles[\"articles\"][i][\"title\"])\n",
    "            \n",
    "        all_headlines.append(headlines)\n",
    "        \n",
    "        all_dates.append(date)\n",
    "        \n",
    "        date = date - timedelta(days=1)\n",
    "        \n",
    "    return all_headlines, all_dates"
   ]
  },
  {
   "cell_type": "markdown",
   "metadata": {},
   "source": [
    "Note: Be aware that running the 3 requests below will only work once within a 24 hour period due to the request limits imposed by the API provider."
   ]
  },
  {
   "cell_type": "code",
   "execution_count": 7,
   "metadata": {},
   "outputs": [
    {
     "name": "stdout",
     "output_type": "stream",
     "text": [
      "Fetching news about 'apple'\n",
      "******************************\n",
      "retrieving news from: 2021-08-02 00:00:00\n",
      "retrieving news from: 2021-08-01 00:00:00\n",
      "retrieving news from: 2021-07-31 00:00:00\n",
      "retrieving news from: 2021-07-30 00:00:00\n",
      "retrieving news from: 2021-07-29 00:00:00\n",
      "retrieving news from: 2021-07-28 00:00:00\n",
      "retrieving news from: 2021-07-27 00:00:00\n",
      "retrieving news from: 2021-07-26 00:00:00\n",
      "retrieving news from: 2021-07-25 00:00:00\n",
      "retrieving news from: 2021-07-24 00:00:00\n",
      "retrieving news from: 2021-07-23 00:00:00\n",
      "retrieving news from: 2021-07-22 00:00:00\n",
      "retrieving news from: 2021-07-21 00:00:00\n",
      "retrieving news from: 2021-07-20 00:00:00\n",
      "retrieving news from: 2021-07-19 00:00:00\n",
      "retrieving news from: 2021-07-18 00:00:00\n",
      "retrieving news from: 2021-07-17 00:00:00\n",
      "retrieving news from: 2021-07-16 00:00:00\n",
      "retrieving news from: 2021-07-15 00:00:00\n",
      "retrieving news from: 2021-07-14 00:00:00\n",
      "retrieving news from: 2021-07-13 00:00:00\n",
      "retrieving news from: 2021-07-12 00:00:00\n",
      "retrieving news from: 2021-07-11 00:00:00\n",
      "retrieving news from: 2021-07-10 00:00:00\n",
      "retrieving news from: 2021-07-09 00:00:00\n",
      "retrieving news from: 2021-07-08 00:00:00\n",
      "retrieving news from: 2021-07-07 00:00:00\n",
      "retrieving news from: 2021-07-06 00:00:00\n",
      "retrieving news from: 2021-07-05 00:00:00\n",
      "retrieving news from: 2021-07-04 00:00:00\n"
     ]
    }
   ],
   "source": [
    "# Get first topic\n",
    "apple_news = get_headlines('apple')"
   ]
  },
  {
   "cell_type": "code",
   "execution_count": 8,
   "metadata": {},
   "outputs": [
    {
     "name": "stdout",
     "output_type": "stream",
     "text": [
      "Fetching news about 'trade'\n",
      "******************************\n",
      "retrieving news from: 2021-08-02 00:00:00\n",
      "retrieving news from: 2021-08-01 00:00:00\n",
      "retrieving news from: 2021-07-31 00:00:00\n",
      "retrieving news from: 2021-07-30 00:00:00\n",
      "retrieving news from: 2021-07-29 00:00:00\n",
      "retrieving news from: 2021-07-28 00:00:00\n",
      "retrieving news from: 2021-07-27 00:00:00\n",
      "retrieving news from: 2021-07-26 00:00:00\n",
      "retrieving news from: 2021-07-25 00:00:00\n",
      "retrieving news from: 2021-07-24 00:00:00\n",
      "retrieving news from: 2021-07-23 00:00:00\n",
      "retrieving news from: 2021-07-22 00:00:00\n",
      "retrieving news from: 2021-07-21 00:00:00\n",
      "retrieving news from: 2021-07-20 00:00:00\n",
      "retrieving news from: 2021-07-19 00:00:00\n",
      "retrieving news from: 2021-07-18 00:00:00\n",
      "retrieving news from: 2021-07-17 00:00:00\n",
      "retrieving news from: 2021-07-16 00:00:00\n",
      "retrieving news from: 2021-07-15 00:00:00\n",
      "retrieving news from: 2021-07-14 00:00:00\n",
      "retrieving news from: 2021-07-13 00:00:00\n",
      "retrieving news from: 2021-07-12 00:00:00\n",
      "retrieving news from: 2021-07-11 00:00:00\n",
      "retrieving news from: 2021-07-10 00:00:00\n",
      "retrieving news from: 2021-07-09 00:00:00\n",
      "retrieving news from: 2021-07-08 00:00:00\n",
      "retrieving news from: 2021-07-07 00:00:00\n",
      "retrieving news from: 2021-07-06 00:00:00\n",
      "retrieving news from: 2021-07-05 00:00:00\n",
      "retrieving news from: 2021-07-04 00:00:00\n"
     ]
    }
   ],
   "source": [
    "# Get second topic\n",
    "trade_news = get_headlines('trade')"
   ]
  },
  {
   "cell_type": "code",
   "execution_count": 9,
   "metadata": {},
   "outputs": [
    {
     "name": "stdout",
     "output_type": "stream",
     "text": [
      "Fetching news about 'economy'\n",
      "******************************\n",
      "retrieving news from: 2021-08-02 00:00:00\n",
      "retrieving news from: 2021-08-01 00:00:00\n",
      "retrieving news from: 2021-07-31 00:00:00\n",
      "retrieving news from: 2021-07-30 00:00:00\n",
      "retrieving news from: 2021-07-29 00:00:00\n",
      "retrieving news from: 2021-07-28 00:00:00\n",
      "retrieving news from: 2021-07-27 00:00:00\n",
      "retrieving news from: 2021-07-26 00:00:00\n",
      "retrieving news from: 2021-07-25 00:00:00\n",
      "retrieving news from: 2021-07-24 00:00:00\n",
      "retrieving news from: 2021-07-23 00:00:00\n",
      "retrieving news from: 2021-07-22 00:00:00\n",
      "retrieving news from: 2021-07-21 00:00:00\n",
      "retrieving news from: 2021-07-20 00:00:00\n",
      "retrieving news from: 2021-07-19 00:00:00\n",
      "retrieving news from: 2021-07-18 00:00:00\n",
      "retrieving news from: 2021-07-17 00:00:00\n",
      "retrieving news from: 2021-07-16 00:00:00\n",
      "retrieving news from: 2021-07-15 00:00:00\n",
      "retrieving news from: 2021-07-14 00:00:00\n",
      "retrieving news from: 2021-07-13 00:00:00\n",
      "retrieving news from: 2021-07-12 00:00:00\n",
      "retrieving news from: 2021-07-11 00:00:00\n",
      "retrieving news from: 2021-07-10 00:00:00\n",
      "retrieving news from: 2021-07-09 00:00:00\n",
      "retrieving news from: 2021-07-08 00:00:00\n",
      "retrieving news from: 2021-07-07 00:00:00\n",
      "retrieving news from: 2021-07-06 00:00:00\n",
      "retrieving news from: 2021-07-05 00:00:00\n",
      "retrieving news from: 2021-07-04 00:00:00\n"
     ]
    }
   ],
   "source": [
    "# Get third topic\n",
    "economy_news = get_headlines('economy')"
   ]
  },
  {
   "cell_type": "code",
   "execution_count": 10,
   "metadata": {},
   "outputs": [],
   "source": [
    "# Instantiate SentimentIntensityAnalyzer\n",
    "analyzer = SentimentIntensityAnalyzer()"
   ]
  },
  {
   "cell_type": "code",
   "execution_count": 11,
   "metadata": {},
   "outputs": [],
   "source": [
    "# Create function that computes average compound sentiment of headlines for each day\n",
    "def headline_sentiment_summarizer_avg(headlines):\n",
    "    sentiment = []\n",
    "    for day in headlines:\n",
    "        day_score = []\n",
    "        for h in day:\n",
    "            if h == None:\n",
    "                continue\n",
    "            else:\n",
    "                day_score.append(analyzer.polarity_scores(h)[\"compound\"])\n",
    "        sentiment.append(sum(day_score) / len(day_score))\n",
    "    return sentiment"
   ]
  },
  {
   "cell_type": "code",
   "execution_count": 12,
   "metadata": {},
   "outputs": [
    {
     "data": {
      "text/plain": [
       "0.06222500000000001"
      ]
     },
     "execution_count": 12,
     "metadata": {},
     "output_type": "execute_result"
    }
   ],
   "source": [
    "# Apple sentiment analysis - Compound score\n",
    "apple_headlines = apple_news[0][1:]\n",
    "\n",
    "apple_headlines[0]\n",
    "\n",
    "apple_sentiment= headline_sentiment_summarizer_avg(apple_headlines)\n",
    "\n",
    "apple_sentiment[0]"
   ]
  },
  {
   "cell_type": "code",
   "execution_count": 13,
   "metadata": {},
   "outputs": [
    {
     "data": {
      "text/plain": [
       "-0.007714999999999991"
      ]
     },
     "execution_count": 13,
     "metadata": {},
     "output_type": "execute_result"
    }
   ],
   "source": [
    "# Trade sentiment analysis - Compound score\n",
    "trade_headlines = trade_news[0][1:]\n",
    "\n",
    "trade_headlines[0]\n",
    "\n",
    "trade_sentiment= headline_sentiment_summarizer_avg(trade_headlines)\n",
    "\n",
    "trade_sentiment[0]"
   ]
  },
  {
   "cell_type": "code",
   "execution_count": 14,
   "metadata": {},
   "outputs": [
    {
     "data": {
      "text/plain": [
       "-0.01676499999999999"
      ]
     },
     "execution_count": 14,
     "metadata": {},
     "output_type": "execute_result"
    }
   ],
   "source": [
    "# Trade sentiment analysis - Compound score\n",
    "economy_headlines = economy_news[0][1:]\n",
    "\n",
    "economy_headlines[0]\n",
    "\n",
    "economy_sentiment= headline_sentiment_summarizer_avg(economy_headlines)\n",
    "\n",
    "economy_sentiment[0]"
   ]
  },
  {
   "cell_type": "code",
   "execution_count": 22,
   "metadata": {},
   "outputs": [
    {
     "data": {
      "text/html": [
       "<div>\n",
       "<style scoped>\n",
       "    .dataframe tbody tr th:only-of-type {\n",
       "        vertical-align: middle;\n",
       "    }\n",
       "\n",
       "    .dataframe tbody tr th {\n",
       "        vertical-align: top;\n",
       "    }\n",
       "\n",
       "    .dataframe thead th {\n",
       "        text-align: right;\n",
       "    }\n",
       "</style>\n",
       "<table border=\"1\" class=\"dataframe\">\n",
       "  <thead>\n",
       "    <tr style=\"text-align: right;\">\n",
       "      <th></th>\n",
       "      <th>APPLE</th>\n",
       "      <th>TRADE</th>\n",
       "      <th>ECONOMY</th>\n",
       "    </tr>\n",
       "  </thead>\n",
       "  <tbody>\n",
       "    <tr>\n",
       "      <th>0</th>\n",
       "      <td>0.062225</td>\n",
       "      <td>-0.007715</td>\n",
       "      <td>-0.016765</td>\n",
       "    </tr>\n",
       "    <tr>\n",
       "      <th>1</th>\n",
       "      <td>0.082715</td>\n",
       "      <td>0.089820</td>\n",
       "      <td>-0.018845</td>\n",
       "    </tr>\n",
       "    <tr>\n",
       "      <th>2</th>\n",
       "      <td>-0.035465</td>\n",
       "      <td>-0.008445</td>\n",
       "      <td>0.107345</td>\n",
       "    </tr>\n",
       "    <tr>\n",
       "      <th>3</th>\n",
       "      <td>0.116940</td>\n",
       "      <td>-0.045290</td>\n",
       "      <td>-0.034840</td>\n",
       "    </tr>\n",
       "    <tr>\n",
       "      <th>4</th>\n",
       "      <td>0.046710</td>\n",
       "      <td>-0.016005</td>\n",
       "      <td>-0.030875</td>\n",
       "    </tr>\n",
       "  </tbody>\n",
       "</table>\n",
       "</div>"
      ],
      "text/plain": [
       "      APPLE     TRADE   ECONOMY\n",
       "0  0.062225 -0.007715 -0.016765\n",
       "1  0.082715  0.089820 -0.018845\n",
       "2 -0.035465 -0.008445  0.107345\n",
       "3  0.116940 -0.045290 -0.034840\n",
       "4  0.046710 -0.016005 -0.030875"
      ]
     },
     "execution_count": 22,
     "metadata": {},
     "output_type": "execute_result"
    }
   ],
   "source": [
    "# Combine Sentiment Averages into DataFrame\n",
    "comb_sents = list(zip(apple_sentiment, trade_sentiment, economy_sentiment))\n",
    "\n",
    "sentiment_df = pd.DataFrame(comb_sents,\n",
    "                            columns=[\"APPLE\", \"TRADE\", \"ECONOMY\"])\n",
    "\n",
    "sentiment_df.head()"
   ]
  },
  {
   "cell_type": "code",
   "execution_count": 23,
   "metadata": {
    "scrolled": true
   },
   "outputs": [
    {
     "data": {
      "text/html": [
       "<div>\n",
       "<style scoped>\n",
       "    .dataframe tbody tr th:only-of-type {\n",
       "        vertical-align: middle;\n",
       "    }\n",
       "\n",
       "    .dataframe tbody tr th {\n",
       "        vertical-align: top;\n",
       "    }\n",
       "\n",
       "    .dataframe thead th {\n",
       "        text-align: right;\n",
       "    }\n",
       "</style>\n",
       "<table border=\"1\" class=\"dataframe\">\n",
       "  <thead>\n",
       "    <tr style=\"text-align: right;\">\n",
       "      <th></th>\n",
       "      <th>APPLE</th>\n",
       "      <th>TRADE</th>\n",
       "      <th>ECONOMY</th>\n",
       "    </tr>\n",
       "    <tr>\n",
       "      <th>DATES</th>\n",
       "      <th></th>\n",
       "      <th></th>\n",
       "      <th></th>\n",
       "    </tr>\n",
       "  </thead>\n",
       "  <tbody>\n",
       "    <tr>\n",
       "      <th>2021-08-01</th>\n",
       "      <td>0.062225</td>\n",
       "      <td>-0.007715</td>\n",
       "      <td>-0.016765</td>\n",
       "    </tr>\n",
       "    <tr>\n",
       "      <th>2021-07-31</th>\n",
       "      <td>0.082715</td>\n",
       "      <td>0.089820</td>\n",
       "      <td>-0.018845</td>\n",
       "    </tr>\n",
       "    <tr>\n",
       "      <th>2021-07-30</th>\n",
       "      <td>-0.035465</td>\n",
       "      <td>-0.008445</td>\n",
       "      <td>0.107345</td>\n",
       "    </tr>\n",
       "    <tr>\n",
       "      <th>2021-07-29</th>\n",
       "      <td>0.116940</td>\n",
       "      <td>-0.045290</td>\n",
       "      <td>-0.034840</td>\n",
       "    </tr>\n",
       "    <tr>\n",
       "      <th>2021-07-28</th>\n",
       "      <td>0.046710</td>\n",
       "      <td>-0.016005</td>\n",
       "      <td>-0.030875</td>\n",
       "    </tr>\n",
       "  </tbody>\n",
       "</table>\n",
       "</div>"
      ],
      "text/plain": [
       "               APPLE     TRADE   ECONOMY\n",
       "DATES                                   \n",
       "2021-08-01  0.062225 -0.007715 -0.016765\n",
       "2021-07-31  0.082715  0.089820 -0.018845\n",
       "2021-07-30 -0.035465 -0.008445  0.107345\n",
       "2021-07-29  0.116940 -0.045290 -0.034840\n",
       "2021-07-28  0.046710 -0.016005 -0.030875"
      ]
     },
     "execution_count": 23,
     "metadata": {},
     "output_type": "execute_result"
    }
   ],
   "source": [
    "# Set the index value of the sentiment averages DataFrame to be the series of dates.\n",
    "dates = apple_news[1][1:]\n",
    "\n",
    "sentiment_df[\"DATES\"] = dates\n",
    "\n",
    "sentiment_df.set_index(\"DATES\", inplace=True)\n",
    "\n",
    "sentiment_df.head()"
   ]
  },
  {
   "cell_type": "code",
   "execution_count": 25,
   "metadata": {},
   "outputs": [
    {
     "data": {
      "text/plain": [
       "(29, 3)"
      ]
     },
     "execution_count": 25,
     "metadata": {},
     "output_type": "execute_result"
    }
   ],
   "source": [
    "sentiment_df.shape"
   ]
  },
  {
   "cell_type": "code",
   "execution_count": 26,
   "metadata": {},
   "outputs": [
    {
     "data": {
      "text/html": [
       "<div>\n",
       "<style scoped>\n",
       "    .dataframe tbody tr th:only-of-type {\n",
       "        vertical-align: middle;\n",
       "    }\n",
       "\n",
       "    .dataframe tbody tr th {\n",
       "        vertical-align: top;\n",
       "    }\n",
       "\n",
       "    .dataframe thead th {\n",
       "        text-align: right;\n",
       "    }\n",
       "</style>\n",
       "<table border=\"1\" class=\"dataframe\">\n",
       "  <thead>\n",
       "    <tr style=\"text-align: right;\">\n",
       "      <th></th>\n",
       "      <th>close</th>\n",
       "      <th>APPLE</th>\n",
       "      <th>TRADE</th>\n",
       "      <th>ECONOMY</th>\n",
       "    </tr>\n",
       "  </thead>\n",
       "  <tbody>\n",
       "    <tr>\n",
       "      <th>2021-07-07</th>\n",
       "      <td>0.018096</td>\n",
       "      <td>-0.093715</td>\n",
       "      <td>0.008625</td>\n",
       "      <td>0.035235</td>\n",
       "    </tr>\n",
       "    <tr>\n",
       "      <th>2021-07-08</th>\n",
       "      <td>-0.008783</td>\n",
       "      <td>0.040350</td>\n",
       "      <td>0.030665</td>\n",
       "      <td>-0.025300</td>\n",
       "    </tr>\n",
       "    <tr>\n",
       "      <th>2021-07-09</th>\n",
       "      <td>0.012490</td>\n",
       "      <td>0.167700</td>\n",
       "      <td>0.096575</td>\n",
       "      <td>-0.049750</td>\n",
       "    </tr>\n",
       "    <tr>\n",
       "      <th>2021-07-12</th>\n",
       "      <td>-0.004204</td>\n",
       "      <td>0.030270</td>\n",
       "      <td>-0.011800</td>\n",
       "      <td>0.007635</td>\n",
       "    </tr>\n",
       "    <tr>\n",
       "      <th>2021-07-13</th>\n",
       "      <td>0.008166</td>\n",
       "      <td>0.118670</td>\n",
       "      <td>0.091675</td>\n",
       "      <td>0.028325</td>\n",
       "    </tr>\n",
       "  </tbody>\n",
       "</table>\n",
       "</div>"
      ],
      "text/plain": [
       "               close     APPLE     TRADE   ECONOMY\n",
       "2021-07-07  0.018096 -0.093715  0.008625  0.035235\n",
       "2021-07-08 -0.008783  0.040350  0.030665 -0.025300\n",
       "2021-07-09  0.012490  0.167700  0.096575 -0.049750\n",
       "2021-07-12 -0.004204  0.030270 -0.011800  0.007635\n",
       "2021-07-13  0.008166  0.118670  0.091675  0.028325"
      ]
     },
     "execution_count": 26,
     "metadata": {},
     "output_type": "execute_result"
    }
   ],
   "source": [
    "# Merge with AAPL returns\n",
    "merged_df = pd.concat([aapl_returns['close'], sentiment_df], axis=1)\n",
    "\n",
    "merged_final_df = merged_df.dropna()\n",
    "\n",
    "merged_final_df.head()"
   ]
  },
  {
   "cell_type": "code",
   "execution_count": 27,
   "metadata": {},
   "outputs": [
    {
     "data": {
      "text/plain": [
       "(18, 4)"
      ]
     },
     "execution_count": 27,
     "metadata": {},
     "output_type": "execute_result"
    }
   ],
   "source": [
    "merged_final_df.shape"
   ]
  },
  {
   "cell_type": "code",
   "execution_count": 31,
   "metadata": {},
   "outputs": [
    {
     "data": {
      "text/html": [
       "<style  type=\"text/css\" >\n",
       "#T_b2eac_row0_col0,#T_b2eac_row1_col1,#T_b2eac_row2_col2,#T_b2eac_row3_col3{\n",
       "            background-color:  #023858;\n",
       "            color:  #f1f1f1;\n",
       "        }#T_b2eac_row0_col1{\n",
       "            background-color:  #f6eff7;\n",
       "            color:  #000000;\n",
       "        }#T_b2eac_row0_col2{\n",
       "            background-color:  #e5e1ef;\n",
       "            color:  #000000;\n",
       "        }#T_b2eac_row0_col3{\n",
       "            background-color:  #acc0dd;\n",
       "            color:  #000000;\n",
       "        }#T_b2eac_row1_col0{\n",
       "            background-color:  #f2ecf5;\n",
       "            color:  #000000;\n",
       "        }#T_b2eac_row1_col2{\n",
       "            background-color:  #afc1dd;\n",
       "            color:  #000000;\n",
       "        }#T_b2eac_row1_col3{\n",
       "            background-color:  #e0dded;\n",
       "            color:  #000000;\n",
       "        }#T_b2eac_row2_col0,#T_b2eac_row2_col3,#T_b2eac_row3_col1,#T_b2eac_row3_col2{\n",
       "            background-color:  #fff7fb;\n",
       "            color:  #000000;\n",
       "        }#T_b2eac_row2_col1{\n",
       "            background-color:  #d9d8ea;\n",
       "            color:  #000000;\n",
       "        }#T_b2eac_row3_col0{\n",
       "            background-color:  #d3d4e7;\n",
       "            color:  #000000;\n",
       "        }</style><table id=\"T_b2eac_\" ><thead>    <tr>        <th class=\"blank level0\" ></th>        <th class=\"col_heading level0 col0\" >close</th>        <th class=\"col_heading level0 col1\" >APPLE</th>        <th class=\"col_heading level0 col2\" >TRADE</th>        <th class=\"col_heading level0 col3\" >ECONOMY</th>    </tr></thead><tbody>\n",
       "                <tr>\n",
       "                        <th id=\"T_b2eac_level0_row0\" class=\"row_heading level0 row0\" >close</th>\n",
       "                        <td id=\"T_b2eac_row0_col0\" class=\"data row0 col0\" >1.000000</td>\n",
       "                        <td id=\"T_b2eac_row0_col1\" class=\"data row0 col1\" >0.054718</td>\n",
       "                        <td id=\"T_b2eac_row0_col2\" class=\"data row0 col2\" >-0.031529</td>\n",
       "                        <td id=\"T_b2eac_row0_col3\" class=\"data row0 col3\" >0.213257</td>\n",
       "            </tr>\n",
       "            <tr>\n",
       "                        <th id=\"T_b2eac_level0_row1\" class=\"row_heading level0 row1\" >APPLE</th>\n",
       "                        <td id=\"T_b2eac_row1_col0\" class=\"data row1 col0\" >0.054718</td>\n",
       "                        <td id=\"T_b2eac_row1_col1\" class=\"data row1 col1\" >1.000000</td>\n",
       "                        <td id=\"T_b2eac_row1_col2\" class=\"data row1 col2\" >0.203490</td>\n",
       "                        <td id=\"T_b2eac_row1_col3\" class=\"data row1 col3\" >-0.004970</td>\n",
       "            </tr>\n",
       "            <tr>\n",
       "                        <th id=\"T_b2eac_level0_row2\" class=\"row_heading level0 row2\" >TRADE</th>\n",
       "                        <td id=\"T_b2eac_row2_col0\" class=\"data row2 col0\" >-0.031529</td>\n",
       "                        <td id=\"T_b2eac_row2_col1\" class=\"data row2 col1\" >0.203490</td>\n",
       "                        <td id=\"T_b2eac_row2_col2\" class=\"data row2 col2\" >1.000000</td>\n",
       "                        <td id=\"T_b2eac_row2_col3\" class=\"data row2 col3\" >-0.227751</td>\n",
       "            </tr>\n",
       "            <tr>\n",
       "                        <th id=\"T_b2eac_level0_row3\" class=\"row_heading level0 row3\" >ECONOMY</th>\n",
       "                        <td id=\"T_b2eac_row3_col0\" class=\"data row3 col0\" >0.213257</td>\n",
       "                        <td id=\"T_b2eac_row3_col1\" class=\"data row3 col1\" >-0.004970</td>\n",
       "                        <td id=\"T_b2eac_row3_col2\" class=\"data row3 col2\" >-0.227751</td>\n",
       "                        <td id=\"T_b2eac_row3_col3\" class=\"data row3 col3\" >1.000000</td>\n",
       "            </tr>\n",
       "    </tbody></table>"
      ],
      "text/plain": [
       "<pandas.io.formats.style.Styler at 0x2af01e4e460>"
      ]
     },
     "execution_count": 31,
     "metadata": {},
     "output_type": "execute_result"
    }
   ],
   "source": [
    "# Correlate the headlines' sentiment to returns\n",
    "correlation = merged_final_df.corr().style.background_gradient()\n",
    "\n",
    "correlation"
   ]
  },
  {
   "cell_type": "code",
   "execution_count": 30,
   "metadata": {},
   "outputs": [
    {
     "data": {
      "text/html": [
       "<style  type=\"text/css\" >\n",
       "#T_a7a3e_row0_col0,#T_a7a3e_row1_col1,#T_a7a3e_row2_col2,#T_a7a3e_row3_col3{\n",
       "            background-color:  #023858;\n",
       "            color:  #f1f1f1;\n",
       "        }#T_a7a3e_row0_col1{\n",
       "            background-color:  #f6eff7;\n",
       "            color:  #000000;\n",
       "        }#T_a7a3e_row0_col2{\n",
       "            background-color:  #e5e1ef;\n",
       "            color:  #000000;\n",
       "        }#T_a7a3e_row0_col3{\n",
       "            background-color:  #acc0dd;\n",
       "            color:  #000000;\n",
       "        }#T_a7a3e_row1_col0{\n",
       "            background-color:  #f2ecf5;\n",
       "            color:  #000000;\n",
       "        }#T_a7a3e_row1_col2{\n",
       "            background-color:  #afc1dd;\n",
       "            color:  #000000;\n",
       "        }#T_a7a3e_row1_col3{\n",
       "            background-color:  #e0dded;\n",
       "            color:  #000000;\n",
       "        }#T_a7a3e_row2_col0,#T_a7a3e_row2_col3,#T_a7a3e_row3_col1,#T_a7a3e_row3_col2{\n",
       "            background-color:  #fff7fb;\n",
       "            color:  #000000;\n",
       "        }#T_a7a3e_row2_col1{\n",
       "            background-color:  #d9d8ea;\n",
       "            color:  #000000;\n",
       "        }#T_a7a3e_row3_col0{\n",
       "            background-color:  #d3d4e7;\n",
       "            color:  #000000;\n",
       "        }</style><table id=\"T_a7a3e_\" ><thead>    <tr>        <th class=\"blank level0\" ></th>        <th class=\"col_heading level0 col0\" >close</th>        <th class=\"col_heading level0 col1\" >APPLE</th>        <th class=\"col_heading level0 col2\" >TRADE</th>        <th class=\"col_heading level0 col3\" >ECONOMY</th>    </tr></thead><tbody>\n",
       "                <tr>\n",
       "                        <th id=\"T_a7a3e_level0_row0\" class=\"row_heading level0 row0\" >close</th>\n",
       "                        <td id=\"T_a7a3e_row0_col0\" class=\"data row0 col0\" >1.000000</td>\n",
       "                        <td id=\"T_a7a3e_row0_col1\" class=\"data row0 col1\" >0.054718</td>\n",
       "                        <td id=\"T_a7a3e_row0_col2\" class=\"data row0 col2\" >-0.031529</td>\n",
       "                        <td id=\"T_a7a3e_row0_col3\" class=\"data row0 col3\" >0.213257</td>\n",
       "            </tr>\n",
       "            <tr>\n",
       "                        <th id=\"T_a7a3e_level0_row1\" class=\"row_heading level0 row1\" >APPLE</th>\n",
       "                        <td id=\"T_a7a3e_row1_col0\" class=\"data row1 col0\" >0.054718</td>\n",
       "                        <td id=\"T_a7a3e_row1_col1\" class=\"data row1 col1\" >1.000000</td>\n",
       "                        <td id=\"T_a7a3e_row1_col2\" class=\"data row1 col2\" >0.203490</td>\n",
       "                        <td id=\"T_a7a3e_row1_col3\" class=\"data row1 col3\" >-0.004970</td>\n",
       "            </tr>\n",
       "            <tr>\n",
       "                        <th id=\"T_a7a3e_level0_row2\" class=\"row_heading level0 row2\" >TRADE</th>\n",
       "                        <td id=\"T_a7a3e_row2_col0\" class=\"data row2 col0\" >-0.031529</td>\n",
       "                        <td id=\"T_a7a3e_row2_col1\" class=\"data row2 col1\" >0.203490</td>\n",
       "                        <td id=\"T_a7a3e_row2_col2\" class=\"data row2 col2\" >1.000000</td>\n",
       "                        <td id=\"T_a7a3e_row2_col3\" class=\"data row2 col3\" >-0.227751</td>\n",
       "            </tr>\n",
       "            <tr>\n",
       "                        <th id=\"T_a7a3e_level0_row3\" class=\"row_heading level0 row3\" >ECONOMY</th>\n",
       "                        <td id=\"T_a7a3e_row3_col0\" class=\"data row3 col0\" >0.213257</td>\n",
       "                        <td id=\"T_a7a3e_row3_col1\" class=\"data row3 col1\" >-0.004970</td>\n",
       "                        <td id=\"T_a7a3e_row3_col2\" class=\"data row3 col2\" >-0.227751</td>\n",
       "                        <td id=\"T_a7a3e_row3_col3\" class=\"data row3 col3\" >1.000000</td>\n",
       "            </tr>\n",
       "    </tbody></table>"
      ],
      "text/plain": [
       "<pandas.io.formats.style.Styler at 0x2af01e3f7c0>"
      ]
     },
     "execution_count": 30,
     "metadata": {},
     "output_type": "execute_result"
    }
   ],
   "source": [
    " merged_final_df.corr().style.background_gradient()"
   ]
  }
 ],
 "metadata": {
  "file_extension": ".py",
  "kernelspec": {
   "display_name": "Python 3",
   "language": "python",
   "name": "python3"
  },
  "language_info": {
   "codemirror_mode": {
    "name": "ipython",
    "version": 3
   },
   "file_extension": ".py",
   "mimetype": "text/x-python",
   "name": "python",
   "nbconvert_exporter": "python",
   "pygments_lexer": "ipython3",
   "version": "3.7.10"
  },
  "mimetype": "text/x-python",
  "name": "python",
  "npconvert_exporter": "python",
  "pygments_lexer": "ipython3",
  "version": 3
 },
 "nbformat": 4,
 "nbformat_minor": 4
}
