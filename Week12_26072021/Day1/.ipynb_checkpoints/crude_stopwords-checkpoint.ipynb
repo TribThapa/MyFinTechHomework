{
 "cells": [
  {
   "cell_type": "markdown",
   "metadata": {},
   "source": [
    "# Students Do: Crude Stopwords\n",
    "For this activity, create a function that takes in an article and outputs a list of words that is free of stopwords and any non-letter characters. After looking at the results, define your own list of stopwords to add to the NLTK default set. "
   ]
  },
  {
   "cell_type": "code",
   "execution_count": null,
   "metadata": {},
   "outputs": [],
   "source": [
    "from nltk.corpus import reuters, stopwords\n",
    "from nltk.tokenize import word_tokenize\n",
    "import nltk\n",
    "nltk.download('stopwords')\n",
    "import re"
   ]
  },
  {
   "cell_type": "code",
   "execution_count": null,
   "metadata": {},
   "outputs": [],
   "source": [
    "crude_article = reuters.raw(fileids=reuters.fileids(categories='crude')[2])"
   ]
  },
  {
   "cell_type": "code",
   "execution_count": null,
   "metadata": {},
   "outputs": [],
   "source": [
    "print(crude_article)"
   ]
  },
  {
   "cell_type": "code",
   "execution_count": null,
   "metadata": {},
   "outputs": [],
   "source": [
    "# Define stopwording and regex \n",
    "# Complete a function called clean_text that takes in a document and returns a list of words that does not include stopwords or any non-letter characters. \n",
    "\n",
    "def clean_text(article):\n",
    "\n",
    "    regex = re.compile(\"[^a-zA-Z ]\") # removing spaces \n",
    "    \n",
    "    sw = set(stopwords.words('english')) # removing The, If, When, it\n",
    "    \n",
    "    re_clean = regex.sub('', article) # replace characters above with spaces\n",
    "    \n",
    "    words = word_tokenize(re_clean)\n",
    "\n",
    "    result = [word.lower() for word in words if word.lower() not in sw]\n",
    "    \n",
    "    return result\n"
   ]
  },
  {
   "cell_type": "code",
   "execution_count": null,
   "metadata": {},
   "outputs": [],
   "source": [
    "# Store result of running clean_text\n",
    "clean_test_result = clean_text(crude_article)\n",
    "\n",
    "#clean_test_result"
   ]
  },
  {
   "cell_type": "code",
   "execution_count": null,
   "metadata": {},
   "outputs": [],
   "source": [
    "# Print unique words (a set of the result)\n",
    "print(len(clean_test_result))\n",
    "print()\n",
    "print(set(clean_test_result))\n"
   ]
  },
  {
   "cell_type": "code",
   "execution_count": null,
   "metadata": {},
   "outputs": [],
   "source": [
    "# Second iteration, with custom stopwords\n",
    "def clean_text(article):\n",
    "    regex2 = re.compile(\"turk \")\n",
    "    \n",
    "    sw = set(stopwords.words('english'))\n",
    "    \n",
    "    clean = regex2.sub('', article)\n",
    "    \n",
    "    words2 = word_tokenize(clean)\n",
    "    \n",
    "    result = [word.lower() for word in words2 if word.lower() not in sw]\n",
    "    \n",
    "    return result\n"
   ]
  },
  {
   "cell_type": "code",
   "execution_count": null,
   "metadata": {},
   "outputs": [],
   "source": [
    "# Store result of running clean_text\n",
    "clean_text_2 = clean_text(crude_article)\n",
    "\n",
    "# Print unique words (a set of the result)\n",
    "set(clean_text_2)"
   ]
  }
 ],
 "metadata": {
  "file_extension": ".py",
  "kernelspec": {
   "display_name": "Python 3",
   "language": "python",
   "name": "python3"
  },
  "language_info": {
   "codemirror_mode": {
    "name": "ipython",
    "version": 3
   },
   "file_extension": ".py",
   "mimetype": "text/x-python",
   "name": "python",
   "nbconvert_exporter": "python",
   "pygments_lexer": "ipython3",
   "version": "3.8.8"
  },
  "mimetype": "text/x-python",
  "name": "python",
  "npconvert_exporter": "python",
  "pygments_lexer": "ipython3",
  "version": 3
 },
 "nbformat": 4,
 "nbformat_minor": 4
}
