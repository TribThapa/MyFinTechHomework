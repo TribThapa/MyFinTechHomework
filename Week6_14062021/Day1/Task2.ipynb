{
 "cells": [
  {
   "cell_type": "markdown",
   "metadata": {},
   "source": [
    "# hvPlot Widgets"
   ]
  },
  {
   "cell_type": "markdown",
   "metadata": {},
   "source": [
    "Your parents need help identifying the best states to move to that have the lowest Diabetes care costs. Use hvPlot and its widgets to visualize hospital claims data in order to identify potential states for recommendation."
   ]
  },
  {
   "cell_type": "code",
   "execution_count": 22,
   "metadata": {},
   "outputs": [],
   "source": [
    "import pandas as pd\n",
    "import hvplot.pandas\n",
    "from pathlib import Path"
   ]
  },
  {
   "cell_type": "markdown",
   "metadata": {},
   "source": [
    "### Prep Data"
   ]
  },
  {
   "cell_type": "code",
   "execution_count": 23,
   "metadata": {},
   "outputs": [
    {
     "data": {
      "text/html": [
       "<div>\n",
       "<style scoped>\n",
       "    .dataframe tbody tr th:only-of-type {\n",
       "        vertical-align: middle;\n",
       "    }\n",
       "\n",
       "    .dataframe tbody tr th {\n",
       "        vertical-align: top;\n",
       "    }\n",
       "\n",
       "    .dataframe thead th {\n",
       "        text-align: right;\n",
       "    }\n",
       "</style>\n",
       "<table border=\"1\" class=\"dataframe\">\n",
       "  <thead>\n",
       "    <tr style=\"text-align: right;\">\n",
       "      <th></th>\n",
       "      <th>DRG Definition</th>\n",
       "      <th>Provider Id</th>\n",
       "      <th>Provider Name</th>\n",
       "      <th>Provider Street Address</th>\n",
       "      <th>Provider City</th>\n",
       "      <th>Provider State</th>\n",
       "      <th>Provider Zip Code</th>\n",
       "      <th>Hospital Referral Region Description</th>\n",
       "      <th>Total Discharges</th>\n",
       "      <th>Average Covered Charges</th>\n",
       "      <th>Average Total Payments</th>\n",
       "      <th>Average Medicare Payments</th>\n",
       "    </tr>\n",
       "  </thead>\n",
       "  <tbody>\n",
       "    <tr>\n",
       "      <th>0</th>\n",
       "      <td>039 - EXTRACRANIAL PROCEDURES W/O CC/MCC</td>\n",
       "      <td>10001</td>\n",
       "      <td>SOUTHEAST ALABAMA MEDICAL CENTER</td>\n",
       "      <td>1108 ROSS CLARK CIRCLE</td>\n",
       "      <td>DOTHAN</td>\n",
       "      <td>AL</td>\n",
       "      <td>36301</td>\n",
       "      <td>AL - Dothan</td>\n",
       "      <td>91</td>\n",
       "      <td>32963.07</td>\n",
       "      <td>5777.24</td>\n",
       "      <td>4763.73</td>\n",
       "    </tr>\n",
       "    <tr>\n",
       "      <th>1</th>\n",
       "      <td>039 - EXTRACRANIAL PROCEDURES W/O CC/MCC</td>\n",
       "      <td>10005</td>\n",
       "      <td>MARSHALL MEDICAL CENTER SOUTH</td>\n",
       "      <td>2505 U S HIGHWAY 431 NORTH</td>\n",
       "      <td>BOAZ</td>\n",
       "      <td>AL</td>\n",
       "      <td>35957</td>\n",
       "      <td>AL - Birmingham</td>\n",
       "      <td>14</td>\n",
       "      <td>15131.85</td>\n",
       "      <td>5787.57</td>\n",
       "      <td>4976.71</td>\n",
       "    </tr>\n",
       "    <tr>\n",
       "      <th>2</th>\n",
       "      <td>039 - EXTRACRANIAL PROCEDURES W/O CC/MCC</td>\n",
       "      <td>10006</td>\n",
       "      <td>ELIZA COFFEE MEMORIAL HOSPITAL</td>\n",
       "      <td>205 MARENGO STREET</td>\n",
       "      <td>FLORENCE</td>\n",
       "      <td>AL</td>\n",
       "      <td>35631</td>\n",
       "      <td>AL - Birmingham</td>\n",
       "      <td>24</td>\n",
       "      <td>37560.37</td>\n",
       "      <td>5434.95</td>\n",
       "      <td>4453.79</td>\n",
       "    </tr>\n",
       "    <tr>\n",
       "      <th>3</th>\n",
       "      <td>039 - EXTRACRANIAL PROCEDURES W/O CC/MCC</td>\n",
       "      <td>10011</td>\n",
       "      <td>ST VINCENT'S EAST</td>\n",
       "      <td>50 MEDICAL PARK EAST DRIVE</td>\n",
       "      <td>BIRMINGHAM</td>\n",
       "      <td>AL</td>\n",
       "      <td>35235</td>\n",
       "      <td>AL - Birmingham</td>\n",
       "      <td>25</td>\n",
       "      <td>13998.28</td>\n",
       "      <td>5417.56</td>\n",
       "      <td>4129.16</td>\n",
       "    </tr>\n",
       "    <tr>\n",
       "      <th>4</th>\n",
       "      <td>039 - EXTRACRANIAL PROCEDURES W/O CC/MCC</td>\n",
       "      <td>10016</td>\n",
       "      <td>SHELBY BAPTIST MEDICAL CENTER</td>\n",
       "      <td>1000 FIRST STREET NORTH</td>\n",
       "      <td>ALABASTER</td>\n",
       "      <td>AL</td>\n",
       "      <td>35007</td>\n",
       "      <td>AL - Birmingham</td>\n",
       "      <td>18</td>\n",
       "      <td>31633.27</td>\n",
       "      <td>5658.33</td>\n",
       "      <td>4851.44</td>\n",
       "    </tr>\n",
       "  </tbody>\n",
       "</table>\n",
       "</div>"
      ],
      "text/plain": [
       "                             DRG Definition  Provider Id  \\\n",
       "0  039 - EXTRACRANIAL PROCEDURES W/O CC/MCC        10001   \n",
       "1  039 - EXTRACRANIAL PROCEDURES W/O CC/MCC        10005   \n",
       "2  039 - EXTRACRANIAL PROCEDURES W/O CC/MCC        10006   \n",
       "3  039 - EXTRACRANIAL PROCEDURES W/O CC/MCC        10011   \n",
       "4  039 - EXTRACRANIAL PROCEDURES W/O CC/MCC        10016   \n",
       "\n",
       "                      Provider Name     Provider Street Address Provider City  \\\n",
       "0  SOUTHEAST ALABAMA MEDICAL CENTER      1108 ROSS CLARK CIRCLE        DOTHAN   \n",
       "1     MARSHALL MEDICAL CENTER SOUTH  2505 U S HIGHWAY 431 NORTH          BOAZ   \n",
       "2    ELIZA COFFEE MEMORIAL HOSPITAL          205 MARENGO STREET      FLORENCE   \n",
       "3                 ST VINCENT'S EAST  50 MEDICAL PARK EAST DRIVE    BIRMINGHAM   \n",
       "4     SHELBY BAPTIST MEDICAL CENTER     1000 FIRST STREET NORTH     ALABASTER   \n",
       "\n",
       "  Provider State  Provider Zip Code Hospital Referral Region Description  \\\n",
       "0             AL              36301                          AL - Dothan   \n",
       "1             AL              35957                      AL - Birmingham   \n",
       "2             AL              35631                      AL - Birmingham   \n",
       "3             AL              35235                      AL - Birmingham   \n",
       "4             AL              35007                      AL - Birmingham   \n",
       "\n",
       "   Total Discharges  Average Covered Charges  Average Total Payments  \\\n",
       "0                91                 32963.07                 5777.24   \n",
       "1                14                 15131.85                 5787.57   \n",
       "2                24                 37560.37                 5434.95   \n",
       "3                25                 13998.28                 5417.56   \n",
       "4                18                 31633.27                 5658.33   \n",
       "\n",
       "   Average Medicare Payments  \n",
       "0                    4763.73  \n",
       "1                    4976.71  \n",
       "2                    4453.79  \n",
       "3                    4129.16  \n",
       "4                    4851.44  "
      ]
     },
     "execution_count": 23,
     "metadata": {},
     "output_type": "execute_result"
    }
   ],
   "source": [
    "# Read in hospital claims data\n",
    "hospital_data = pd.read_csv(r\"C:\\Users\\TribThapa\\Desktop\\Thapa\\ResearchFellow\\Courses\\FinTech_Bootcamp_MonashUni2021\\monu-mel-virt-fin-pt-05-2021-u-c\\Activities\\Week 6\\1\\04-Stu_hvPlot_Widgets\\Resources\\hospital_claims.csv\")\n",
    "hospital_data.head()"
   ]
  },
  {
   "cell_type": "code",
   "execution_count": 24,
   "metadata": {},
   "outputs": [],
   "source": [
    "# Slice the data\n",
    "procedure_699_charges = hospital_data[hospital_data[\"DRG Definition\"] == \"638 - DIABETES W CC\"]\n",
    "\n",
    "# Select data just for NJ to get a baseline for Diabetes costs\n",
    "procedure_NJ_charges = procedure_699_charges.loc[hospital_data[\"Provider State\"] == \"NJ\"]\n",
    "\n",
    "# Select Average Medicare Payments and Provider ID Series\n",
    "procedure_medicare_charges = procedure_NJ_charges[[\"Average Medicare Payments\", \"Provider Id\"]]"
   ]
  },
  {
   "cell_type": "code",
   "execution_count": 7,
   "metadata": {},
   "outputs": [
    {
     "data": {
      "text/html": [
       "<div>\n",
       "<style scoped>\n",
       "    .dataframe tbody tr th:only-of-type {\n",
       "        vertical-align: middle;\n",
       "    }\n",
       "\n",
       "    .dataframe tbody tr th {\n",
       "        vertical-align: top;\n",
       "    }\n",
       "\n",
       "    .dataframe thead th {\n",
       "        text-align: right;\n",
       "    }\n",
       "</style>\n",
       "<table border=\"1\" class=\"dataframe\">\n",
       "  <thead>\n",
       "    <tr style=\"text-align: right;\">\n",
       "      <th></th>\n",
       "      <th>DRG Definition</th>\n",
       "      <th>Provider Id</th>\n",
       "      <th>Provider Name</th>\n",
       "      <th>Provider Street Address</th>\n",
       "      <th>Provider City</th>\n",
       "      <th>Provider State</th>\n",
       "      <th>Provider Zip Code</th>\n",
       "      <th>Hospital Referral Region Description</th>\n",
       "      <th>Total Discharges</th>\n",
       "      <th>Average Covered Charges</th>\n",
       "      <th>Average Total Payments</th>\n",
       "      <th>Average Medicare Payments</th>\n",
       "    </tr>\n",
       "  </thead>\n",
       "  <tbody>\n",
       "    <tr>\n",
       "      <th>125166</th>\n",
       "      <td>638 - DIABETES W CC</td>\n",
       "      <td>330004</td>\n",
       "      <td>KINGSTON HOSPITAL</td>\n",
       "      <td>396 BROADWAY</td>\n",
       "      <td>KINGSTON</td>\n",
       "      <td>NY</td>\n",
       "      <td>12401</td>\n",
       "      <td>NY - Albany</td>\n",
       "      <td>21</td>\n",
       "      <td>20006.57</td>\n",
       "      <td>6048.85</td>\n",
       "      <td>5177.85</td>\n",
       "    </tr>\n",
       "    <tr>\n",
       "      <th>127575</th>\n",
       "      <td>638 - DIABETES W CC</td>\n",
       "      <td>10001</td>\n",
       "      <td>SOUTHEAST ALABAMA MEDICAL CENTER</td>\n",
       "      <td>1108 ROSS CLARK CIRCLE</td>\n",
       "      <td>DOTHAN</td>\n",
       "      <td>AL</td>\n",
       "      <td>36301</td>\n",
       "      <td>AL - Dothan</td>\n",
       "      <td>32</td>\n",
       "      <td>21175.81</td>\n",
       "      <td>4678.43</td>\n",
       "      <td>4047.68</td>\n",
       "    </tr>\n",
       "    <tr>\n",
       "      <th>127576</th>\n",
       "      <td>638 - DIABETES W CC</td>\n",
       "      <td>10005</td>\n",
       "      <td>MARSHALL MEDICAL CENTER SOUTH</td>\n",
       "      <td>2505 U S HIGHWAY 431 NORTH</td>\n",
       "      <td>BOAZ</td>\n",
       "      <td>AL</td>\n",
       "      <td>35957</td>\n",
       "      <td>AL - Birmingham</td>\n",
       "      <td>12</td>\n",
       "      <td>9719.16</td>\n",
       "      <td>4863.75</td>\n",
       "      <td>4203.41</td>\n",
       "    </tr>\n",
       "    <tr>\n",
       "      <th>127577</th>\n",
       "      <td>638 - DIABETES W CC</td>\n",
       "      <td>10006</td>\n",
       "      <td>ELIZA COFFEE MEMORIAL HOSPITAL</td>\n",
       "      <td>205 MARENGO STREET</td>\n",
       "      <td>FLORENCE</td>\n",
       "      <td>AL</td>\n",
       "      <td>35631</td>\n",
       "      <td>AL - Birmingham</td>\n",
       "      <td>35</td>\n",
       "      <td>17021.54</td>\n",
       "      <td>4434.57</td>\n",
       "      <td>3537.20</td>\n",
       "    </tr>\n",
       "    <tr>\n",
       "      <th>127578</th>\n",
       "      <td>638 - DIABETES W CC</td>\n",
       "      <td>10011</td>\n",
       "      <td>ST VINCENT'S EAST</td>\n",
       "      <td>50 MEDICAL PARK EAST DRIVE</td>\n",
       "      <td>BIRMINGHAM</td>\n",
       "      <td>AL</td>\n",
       "      <td>35235</td>\n",
       "      <td>AL - Birmingham</td>\n",
       "      <td>14</td>\n",
       "      <td>15875.50</td>\n",
       "      <td>5176.07</td>\n",
       "      <td>3394.64</td>\n",
       "    </tr>\n",
       "  </tbody>\n",
       "</table>\n",
       "</div>"
      ],
      "text/plain": [
       "             DRG Definition  Provider Id                     Provider Name  \\\n",
       "125166  638 - DIABETES W CC       330004                 KINGSTON HOSPITAL   \n",
       "127575  638 - DIABETES W CC        10001  SOUTHEAST ALABAMA MEDICAL CENTER   \n",
       "127576  638 - DIABETES W CC        10005     MARSHALL MEDICAL CENTER SOUTH   \n",
       "127577  638 - DIABETES W CC        10006    ELIZA COFFEE MEMORIAL HOSPITAL   \n",
       "127578  638 - DIABETES W CC        10011                 ST VINCENT'S EAST   \n",
       "\n",
       "           Provider Street Address Provider City Provider State  \\\n",
       "125166                396 BROADWAY      KINGSTON             NY   \n",
       "127575      1108 ROSS CLARK CIRCLE        DOTHAN             AL   \n",
       "127576  2505 U S HIGHWAY 431 NORTH          BOAZ             AL   \n",
       "127577          205 MARENGO STREET      FLORENCE             AL   \n",
       "127578  50 MEDICAL PARK EAST DRIVE    BIRMINGHAM             AL   \n",
       "\n",
       "        Provider Zip Code Hospital Referral Region Description  \\\n",
       "125166              12401                          NY - Albany   \n",
       "127575              36301                          AL - Dothan   \n",
       "127576              35957                      AL - Birmingham   \n",
       "127577              35631                      AL - Birmingham   \n",
       "127578              35235                      AL - Birmingham   \n",
       "\n",
       "        Total Discharges  Average Covered Charges  Average Total Payments  \\\n",
       "125166                21                 20006.57                 6048.85   \n",
       "127575                32                 21175.81                 4678.43   \n",
       "127576                12                  9719.16                 4863.75   \n",
       "127577                35                 17021.54                 4434.57   \n",
       "127578                14                 15875.50                 5176.07   \n",
       "\n",
       "        Average Medicare Payments  \n",
       "125166                    5177.85  \n",
       "127575                    4047.68  \n",
       "127576                    4203.41  \n",
       "127577                    3537.20  \n",
       "127578                    3394.64  "
      ]
     },
     "execution_count": 7,
     "metadata": {},
     "output_type": "execute_result"
    }
   ],
   "source": [
    "procedure_699_charges.head()"
   ]
  },
  {
   "cell_type": "markdown",
   "metadata": {},
   "source": [
    "### Plot and Explore Average Total Payments by State"
   ]
  },
  {
   "cell_type": "code",
   "execution_count": 25,
   "metadata": {},
   "outputs": [
    {
     "data": {
      "text/html": [
       "<div>\n",
       "<style scoped>\n",
       "    .dataframe tbody tr th:only-of-type {\n",
       "        vertical-align: middle;\n",
       "    }\n",
       "\n",
       "    .dataframe tbody tr th {\n",
       "        vertical-align: top;\n",
       "    }\n",
       "\n",
       "    .dataframe thead th {\n",
       "        text-align: right;\n",
       "    }\n",
       "</style>\n",
       "<table border=\"1\" class=\"dataframe\">\n",
       "  <thead>\n",
       "    <tr style=\"text-align: right;\">\n",
       "      <th></th>\n",
       "      <th>Average Total Payments</th>\n",
       "      <th>Provider State</th>\n",
       "    </tr>\n",
       "  </thead>\n",
       "  <tbody>\n",
       "    <tr>\n",
       "      <th>125166</th>\n",
       "      <td>6048.85</td>\n",
       "      <td>NY</td>\n",
       "    </tr>\n",
       "    <tr>\n",
       "      <th>127575</th>\n",
       "      <td>4678.43</td>\n",
       "      <td>AL</td>\n",
       "    </tr>\n",
       "    <tr>\n",
       "      <th>127576</th>\n",
       "      <td>4863.75</td>\n",
       "      <td>AL</td>\n",
       "    </tr>\n",
       "    <tr>\n",
       "      <th>127577</th>\n",
       "      <td>4434.57</td>\n",
       "      <td>AL</td>\n",
       "    </tr>\n",
       "    <tr>\n",
       "      <th>127578</th>\n",
       "      <td>5176.07</td>\n",
       "      <td>AL</td>\n",
       "    </tr>\n",
       "  </tbody>\n",
       "</table>\n",
       "</div>"
      ],
      "text/plain": [
       "        Average Total Payments Provider State\n",
       "125166                 6048.85             NY\n",
       "127575                 4678.43             AL\n",
       "127576                 4863.75             AL\n",
       "127577                 4434.57             AL\n",
       "127578                 5176.07             AL"
      ]
     },
     "execution_count": 25,
     "metadata": {},
     "output_type": "execute_result"
    }
   ],
   "source": [
    "# From `procedure_699_charges` select only \"Average total Payments\" and \"Provider State\", store in new variable.\n",
    "avg_total_payments_state_df = procedure_699_charges[[\"Average Total Payments\", \"Provider State\"]]\n",
    "avg_total_payments_state_df.head()"
   ]
  },
  {
   "cell_type": "code",
   "execution_count": 27,
   "metadata": {},
   "outputs": [
    {
     "data": {
      "text/html": [
       "<div>\n",
       "<style scoped>\n",
       "    .dataframe tbody tr th:only-of-type {\n",
       "        vertical-align: middle;\n",
       "    }\n",
       "\n",
       "    .dataframe tbody tr th {\n",
       "        vertical-align: top;\n",
       "    }\n",
       "\n",
       "    .dataframe thead th {\n",
       "        text-align: right;\n",
       "    }\n",
       "</style>\n",
       "<table border=\"1\" class=\"dataframe\">\n",
       "  <thead>\n",
       "    <tr style=\"text-align: right;\">\n",
       "      <th></th>\n",
       "      <th>Average Total Payments</th>\n",
       "    </tr>\n",
       "    <tr>\n",
       "      <th>Provider State</th>\n",
       "      <th></th>\n",
       "    </tr>\n",
       "  </thead>\n",
       "  <tbody>\n",
       "    <tr>\n",
       "      <th>AK</th>\n",
       "      <td>15525.04</td>\n",
       "    </tr>\n",
       "    <tr>\n",
       "      <th>AL</th>\n",
       "      <td>194535.26</td>\n",
       "    </tr>\n",
       "    <tr>\n",
       "      <th>AR</th>\n",
       "      <td>111746.03</td>\n",
       "    </tr>\n",
       "    <tr>\n",
       "      <th>AZ</th>\n",
       "      <td>158308.98</td>\n",
       "    </tr>\n",
       "    <tr>\n",
       "      <th>CA</th>\n",
       "      <td>1201241.89</td>\n",
       "    </tr>\n",
       "  </tbody>\n",
       "</table>\n",
       "</div>"
      ],
      "text/plain": [
       "                Average Total Payments\n",
       "Provider State                        \n",
       "AK                            15525.04\n",
       "AL                           194535.26\n",
       "AR                           111746.03\n",
       "AZ                           158308.98\n",
       "CA                          1201241.89"
      ]
     },
     "execution_count": 27,
     "metadata": {},
     "output_type": "execute_result"
    }
   ],
   "source": [
    "# Groupby \"Provider State\", then sum\n",
    "state_sums = avg_total_payments_state_df.groupby('Provider State').sum()\n",
    "state_sums.head()"
   ]
  },
  {
   "cell_type": "code",
   "execution_count": 46,
   "metadata": {},
   "outputs": [
    {
     "data": {},
     "metadata": {},
     "output_type": "display_data"
    },
    {
     "data": {
      "application/vnd.holoviews_exec.v0+json": "",
      "text/html": [
       "<div id='2918'>\n",
       "\n",
       "\n",
       "\n",
       "\n",
       "\n",
       "  <div class=\"bk-root\" id=\"2aabeeab-f613-4130-82bd-26a34ad79a41\" data-root-id=\"2918\"></div>\n",
       "</div>\n",
       "<script type=\"application/javascript\">(function(root) {\n",
       "  function embed_document(root) {\n",
       "    var docs_json = {\"17211772-e00e-4e50-9565-ed3adadbffca\":{\"defs\":[],\"roots\":{\"references\":[{\"attributes\":{\"margin\":[5,5,5,5],\"name\":\"HSpacer04010\",\"sizing_mode\":\"stretch_width\"},\"id\":\"2919\",\"type\":\"Spacer\"},{\"attributes\":{\"overlay\":{\"id\":\"2944\"}},\"id\":\"2942\",\"type\":\"BoxZoomTool\"},{\"attributes\":{},\"id\":\"2930\",\"type\":\"LinearScale\"},{\"attributes\":{\"axis_label\":\"State name\",\"formatter\":{\"id\":\"2962\"},\"major_label_policy\":{\"id\":\"2964\"},\"ticker\":{\"id\":\"2933\"}},\"id\":\"2932\",\"type\":\"CategoricalAxis\"},{\"attributes\":{\"data_source\":{\"id\":\"2952\"},\"glyph\":{\"id\":\"2955\"},\"hover_glyph\":null,\"muted_glyph\":{\"id\":\"2957\"},\"nonselection_glyph\":{\"id\":\"2956\"},\"selection_glyph\":{\"id\":\"2960\"},\"view\":{\"id\":\"2959\"}},\"id\":\"2958\",\"type\":\"GlyphRenderer\"},{\"attributes\":{},\"id\":\"2928\",\"type\":\"CategoricalScale\"},{\"attributes\":{},\"id\":\"2964\",\"type\":\"AllLabels\"},{\"attributes\":{},\"id\":\"2943\",\"type\":\"ResetTool\"},{\"attributes\":{\"axis\":{\"id\":\"2932\"},\"grid_line_color\":null,\"ticker\":null},\"id\":\"2934\",\"type\":\"Grid\"},{\"attributes\":{},\"id\":\"2933\",\"type\":\"CategoricalTicker\"},{\"attributes\":{\"fill_alpha\":{\"value\":0.1},\"fill_color\":{\"value\":\"#30a2da\"},\"line_alpha\":{\"value\":0.1},\"top\":{\"field\":\"Average_Total_Payments\"},\"width\":{\"value\":0.8},\"x\":{\"field\":\"Provider_State\"}},\"id\":\"2956\",\"type\":\"VBar\"},{\"attributes\":{\"axis\":{\"id\":\"2935\"},\"dimension\":1,\"grid_line_color\":null,\"ticker\":null},\"id\":\"2938\",\"type\":\"Grid\"},{\"attributes\":{\"source\":{\"id\":\"2952\"}},\"id\":\"2959\",\"type\":\"CDSView\"},{\"attributes\":{\"end\":1320004.9989999994,\"reset_end\":1320004.9989999994,\"reset_start\":0.0,\"tags\":[[[\"Average Total Payments\",\"Average Total Payments\",null]]]},\"id\":\"2921\",\"type\":\"Range1d\"},{\"attributes\":{},\"id\":\"2962\",\"type\":\"CategoricalTickFormatter\"},{\"attributes\":{},\"id\":\"2936\",\"type\":\"BasicTicker\"},{\"attributes\":{\"axis_label\":\"Average Total Payments\",\"formatter\":{\"id\":\"2961\"},\"major_label_policy\":{\"id\":\"2967\"},\"ticker\":{\"id\":\"2936\"}},\"id\":\"2935\",\"type\":\"LinearAxis\"},{\"attributes\":{\"margin\":[5,5,5,5],\"name\":\"HSpacer04011\",\"sizing_mode\":\"stretch_width\"},\"id\":\"2988\",\"type\":\"Spacer\"},{\"attributes\":{\"fill_alpha\":{\"value\":0.2},\"fill_color\":{\"value\":\"#30a2da\"},\"line_alpha\":{\"value\":0.2},\"top\":{\"field\":\"Average_Total_Payments\"},\"width\":{\"value\":0.8},\"x\":{\"field\":\"Provider_State\"}},\"id\":\"2957\",\"type\":\"VBar\"},{\"attributes\":{\"text_color\":\"black\",\"text_font_size\":\"12pt\"},\"id\":\"2924\",\"type\":\"Title\"},{\"attributes\":{\"callback\":null,\"renderers\":[{\"id\":\"2958\"}],\"tags\":[\"hv_created\"],\"tooltips\":[[\"Provider State\",\"@{Provider_State}\"],[\"Average Total Payments\",\"@{Average_Total_Payments}\"]]},\"id\":\"2922\",\"type\":\"HoverTool\"},{\"attributes\":{\"fill_color\":{\"value\":\"#30a2da\"},\"top\":{\"field\":\"Average_Total_Payments\"},\"width\":{\"value\":0.8},\"x\":{\"field\":\"Provider_State\"}},\"id\":\"2955\",\"type\":\"VBar\"},{\"attributes\":{\"bottom_units\":\"screen\",\"fill_alpha\":0.5,\"fill_color\":\"lightgrey\",\"left_units\":\"screen\",\"level\":\"overlay\",\"line_alpha\":1.0,\"line_color\":\"black\",\"line_dash\":[4,4],\"line_width\":2,\"right_units\":\"screen\",\"syncable\":false,\"top_units\":\"screen\"},\"id\":\"2944\",\"type\":\"BoxAnnotation\"},{\"attributes\":{\"factors\":[\"AK\",\"AL\",\"AR\",\"AZ\",\"CA\",\"CO\",\"CT\",\"DC\",\"DE\",\"FL\",\"GA\",\"HI\",\"IA\",\"ID\",\"IL\",\"IN\",\"KS\",\"KY\",\"LA\",\"MA\",\"MD\",\"ME\",\"MI\",\"MN\",\"MO\",\"MS\",\"MT\",\"NC\",\"ND\",\"NE\",\"NH\",\"NJ\",\"NM\",\"NV\",\"NY\",\"OH\",\"OK\",\"OR\",\"PA\",\"RI\",\"SC\",\"SD\",\"TN\",\"TX\",\"UT\",\"VA\",\"VT\",\"WA\",\"WI\",\"WV\",\"WY\"],\"tags\":[[[\"Provider State\",\"Provider State\",null]]]},\"id\":\"2920\",\"type\":\"FactorRange\"},{\"attributes\":{\"children\":[{\"id\":\"2919\"},{\"id\":\"2923\"},{\"id\":\"2988\"}],\"margin\":[0,0,0,0],\"name\":\"Row04006\",\"tags\":[\"embedded\"]},\"id\":\"2918\",\"type\":\"Row\"},{\"attributes\":{\"format\":\"%.2f\"},\"id\":\"2961\",\"type\":\"PrintfTickFormatter\"},{\"attributes\":{},\"id\":\"2953\",\"type\":\"Selection\"},{\"attributes\":{\"data\":{\"Average_Total_Payments\":{\"__ndarray__\":\"61G4HoVSzkBJ4XoUOr8HQa9H4XogSPtAcT0K1ydTA0E7CtfjWVQyQa5H4XoYi/RASOF6FEIcAEFSuB6F40vmQML1KFx/8NxAMzMzs0ocJEGE61G4eQwTQexRuB5FKMtAuB6F69Wh9EA0MzMzA6XaQPYoXA9NvyBBR+F6FMpaCkFI4XoUjhfwQFyPwvUE0ghB9ShcjxhECEEoXI/Cnt0RQQAAAAB1KBNBCtejcCVD6EDtUbgepRUVQZmZmZkJS/lANjMzM4FADUEK16Nwz9ICQUjhehQe89NACtejcLR5FUF7FK5HUZrVQJqZmZlJYt5A7FG4Hn3B4kB6FK5HjS8XQZmZmZmtCPNApHA9CrP58kBG4XqUQ5UqQYzC9ShuHhpBmpmZmQMNAUHXo3A98gvrQO1RuB5K9x1BzMzMzGSX5kC5HoXroTkHQa5H4Xok59BA4XoUrhkVDUF8FK5HU/QlQVK4HoVT7eFAehSuRzH/DkHsUbgexc/TQPcoXI/cqQVBFK5H4Vz/AEEzMzMzI53zQGZmZmZmlcpA\",\"dtype\":\"float64\",\"order\":\"little\",\"shape\":[51]},\"Provider_State\":[\"AK\",\"AL\",\"AR\",\"AZ\",\"CA\",\"CO\",\"CT\",\"DC\",\"DE\",\"FL\",\"GA\",\"HI\",\"IA\",\"ID\",\"IL\",\"IN\",\"KS\",\"KY\",\"LA\",\"MA\",\"MD\",\"ME\",\"MI\",\"MN\",\"MO\",\"MS\",\"MT\",\"NC\",\"ND\",\"NE\",\"NH\",\"NJ\",\"NM\",\"NV\",\"NY\",\"OH\",\"OK\",\"OR\",\"PA\",\"RI\",\"SC\",\"SD\",\"TN\",\"TX\",\"UT\",\"VA\",\"VT\",\"WA\",\"WI\",\"WV\",\"WY\"]},\"selected\":{\"id\":\"2953\"},\"selection_policy\":{\"id\":\"2977\"}},\"id\":\"2952\",\"type\":\"ColumnDataSource\"},{\"attributes\":{},\"id\":\"2977\",\"type\":\"UnionRenderers\"},{\"attributes\":{\"bottom\":{\"value\":0},\"fill_alpha\":{\"value\":1.0},\"fill_color\":{\"value\":\"#30a2da\"},\"hatch_alpha\":{\"value\":1.0},\"hatch_color\":{\"value\":\"black\"},\"hatch_scale\":{\"value\":12.0},\"hatch_weight\":{\"value\":1.0},\"line_alpha\":{\"value\":1.0},\"line_cap\":{\"value\":\"butt\"},\"line_color\":{\"value\":\"black\"},\"line_dash\":{\"value\":[]},\"line_dash_offset\":{\"value\":0},\"line_join\":{\"value\":\"bevel\"},\"line_width\":{\"value\":1},\"top\":{\"field\":\"Average_Total_Payments\"},\"width\":{\"value\":0.8},\"x\":{\"field\":\"Provider_State\"}},\"id\":\"2960\",\"type\":\"VBar\"},{\"attributes\":{},\"id\":\"2967\",\"type\":\"AllLabels\"},{\"attributes\":{\"below\":[{\"id\":\"2932\"}],\"center\":[{\"id\":\"2934\"},{\"id\":\"2938\"}],\"height\":300,\"left\":[{\"id\":\"2935\"}],\"margin\":[5,5,5,5],\"min_border_bottom\":10,\"min_border_left\":10,\"min_border_right\":10,\"min_border_top\":10,\"renderers\":[{\"id\":\"2958\"}],\"sizing_mode\":\"fixed\",\"title\":{\"id\":\"2924\"},\"toolbar\":{\"id\":\"2945\"},\"width\":1200,\"x_range\":{\"id\":\"2920\"},\"x_scale\":{\"id\":\"2928\"},\"y_range\":{\"id\":\"2921\"},\"y_scale\":{\"id\":\"2930\"}},\"id\":\"2923\",\"subtype\":\"Figure\",\"type\":\"Plot\"},{\"attributes\":{},\"id\":\"2939\",\"type\":\"SaveTool\"},{\"attributes\":{},\"id\":\"2940\",\"type\":\"PanTool\"},{\"attributes\":{\"active_multi\":null,\"tools\":[{\"id\":\"2922\"},{\"id\":\"2939\"},{\"id\":\"2940\"},{\"id\":\"2941\"},{\"id\":\"2942\"},{\"id\":\"2943\"}]},\"id\":\"2945\",\"type\":\"Toolbar\"},{\"attributes\":{},\"id\":\"2941\",\"type\":\"WheelZoomTool\"}],\"root_ids\":[\"2918\"]},\"title\":\"Bokeh Application\",\"version\":\"2.3.2\"}};\n",
       "    var render_items = [{\"docid\":\"17211772-e00e-4e50-9565-ed3adadbffca\",\"root_ids\":[\"2918\"],\"roots\":{\"2918\":\"2aabeeab-f613-4130-82bd-26a34ad79a41\"}}];\n",
       "    root.Bokeh.embed.embed_items_notebook(docs_json, render_items);\n",
       "  }\n",
       "  if (root.Bokeh !== undefined && root.Bokeh.Panel !== undefined) {\n",
       "    embed_document(root);\n",
       "  } else {\n",
       "    var attempts = 0;\n",
       "    var timer = setInterval(function(root) {\n",
       "      if (root.Bokeh !== undefined && root.Bokeh.Panel !== undefined) {\n",
       "        clearInterval(timer);\n",
       "        embed_document(root);\n",
       "      } else if (document.readyState == \"complete\") {\n",
       "        attempts++;\n",
       "        if (attempts > 100) {\n",
       "          clearInterval(timer);\n",
       "          console.log(\"Bokeh: ERROR: Unable to run BokehJS code because BokehJS library is missing\");\n",
       "        }\n",
       "      }\n",
       "    }, 10, root)\n",
       "  }\n",
       "})(window);</script>"
      ],
      "text/plain": [
       ":Bars   [Provider State]   (Average Total Payments)"
      ]
     },
     "execution_count": 46,
     "metadata": {
      "application/vnd.holoviews_exec.v0+json": {
       "id": "2918"
      }
     },
     "output_type": "execute_result"
    }
   ],
   "source": [
    "state_sums.hvplot.bar(xlabel='State name',                    \n",
    "                      width=1200,\n",
    "                      yformatter=\"%.2f\")"
   ]
  },
  {
   "cell_type": "markdown",
   "metadata": {},
   "source": [
    "### Sort the cost data from low to high and then plot"
   ]
  },
  {
   "cell_type": "code",
   "execution_count": 38,
   "metadata": {},
   "outputs": [
    {
     "data": {
      "text/html": [
       "<div>\n",
       "<style scoped>\n",
       "    .dataframe tbody tr th:only-of-type {\n",
       "        vertical-align: middle;\n",
       "    }\n",
       "\n",
       "    .dataframe tbody tr th {\n",
       "        vertical-align: top;\n",
       "    }\n",
       "\n",
       "    .dataframe thead th {\n",
       "        text-align: right;\n",
       "    }\n",
       "</style>\n",
       "<table border=\"1\" class=\"dataframe\">\n",
       "  <thead>\n",
       "    <tr style=\"text-align: right;\">\n",
       "      <th></th>\n",
       "      <th>Average Total Payments</th>\n",
       "    </tr>\n",
       "    <tr>\n",
       "      <th>Provider State</th>\n",
       "      <th></th>\n",
       "    </tr>\n",
       "  </thead>\n",
       "  <tbody>\n",
       "    <tr>\n",
       "      <th>WY</th>\n",
       "      <td>13610.80</td>\n",
       "    </tr>\n",
       "    <tr>\n",
       "      <th>HI</th>\n",
       "      <td>13904.54</td>\n",
       "    </tr>\n",
       "    <tr>\n",
       "      <th>AK</th>\n",
       "      <td>15525.04</td>\n",
       "    </tr>\n",
       "    <tr>\n",
       "      <th>SD</th>\n",
       "      <td>17308.57</td>\n",
       "    </tr>\n",
       "    <tr>\n",
       "      <th>VT</th>\n",
       "      <td>20287.08</td>\n",
       "    </tr>\n",
       "  </tbody>\n",
       "</table>\n",
       "</div>"
      ],
      "text/plain": [
       "                Average Total Payments\n",
       "Provider State                        \n",
       "WY                            13610.80\n",
       "HI                            13904.54\n",
       "AK                            15525.04\n",
       "SD                            17308.57\n",
       "VT                            20287.08"
      ]
     },
     "execution_count": 38,
     "metadata": {},
     "output_type": "execute_result"
    }
   ],
   "source": [
    "# Sort data values\n",
    "state_sums_sort = state_sums.sort_values(\"Average Total Payments\", ascending=True)\n",
    "state_sums_sort.head()"
   ]
  },
  {
   "cell_type": "code",
   "execution_count": 47,
   "metadata": {},
   "outputs": [
    {
     "data": {},
     "metadata": {},
     "output_type": "display_data"
    },
    {
     "data": {
      "application/vnd.holoviews_exec.v0+json": "",
      "text/html": [
       "<div id='3035'>\n",
       "\n",
       "\n",
       "\n",
       "\n",
       "\n",
       "  <div class=\"bk-root\" id=\"4ff8eaa6-57e3-46ce-8584-9566a75c0f9d\" data-root-id=\"3035\"></div>\n",
       "</div>\n",
       "<script type=\"application/javascript\">(function(root) {\n",
       "  function embed_document(root) {\n",
       "    var docs_json = {\"57097a7a-c408-4c7d-a725-e3b5a8614cfd\":{\"defs\":[],\"roots\":{\"references\":[{\"attributes\":{\"factors\":[\"WY\",\"HI\",\"AK\",\"SD\",\"VT\",\"MT\",\"ND\",\"ID\",\"DE\",\"NE\",\"UT\",\"NH\",\"DC\",\"RI\",\"ME\",\"OR\",\"KS\",\"NV\",\"NM\",\"WV\",\"CO\",\"IA\",\"MN\",\"AR\",\"CT\",\"WI\",\"OK\",\"MS\",\"AZ\",\"WA\",\"SC\",\"AL\",\"LA\",\"KY\",\"IN\",\"TN\",\"MO\",\"VA\",\"MA\",\"GA\",\"MD\",\"MI\",\"NC\",\"NJ\",\"OH\",\"PA\",\"IL\",\"FL\",\"TX\",\"NY\",\"CA\"],\"tags\":[[[\"Provider State\",\"Provider State\",null]]]},\"id\":\"3037\",\"type\":\"FactorRange\"},{\"attributes\":{\"format\":\":.2f\"},\"id\":\"3078\",\"type\":\"PrintfTickFormatter\"},{\"attributes\":{\"children\":[{\"id\":\"3036\"},{\"id\":\"3040\"},{\"id\":\"3105\"}],\"margin\":[0,0,0,0],\"name\":\"Row04155\",\"tags\":[\"embedded\"]},\"id\":\"3035\",\"type\":\"Row\"},{\"attributes\":{\"bottom\":{\"value\":0},\"fill_alpha\":{\"value\":1.0},\"fill_color\":{\"value\":\"#30a2da\"},\"hatch_alpha\":{\"value\":1.0},\"hatch_color\":{\"value\":\"black\"},\"hatch_scale\":{\"value\":12.0},\"hatch_weight\":{\"value\":1.0},\"line_alpha\":{\"value\":1.0},\"line_cap\":{\"value\":\"butt\"},\"line_color\":{\"value\":\"black\"},\"line_dash\":{\"value\":[]},\"line_dash_offset\":{\"value\":0},\"line_join\":{\"value\":\"bevel\"},\"line_width\":{\"value\":1},\"top\":{\"field\":\"Average_Total_Payments\"},\"width\":{\"value\":0.8},\"x\":{\"field\":\"Provider_State\"}},\"id\":\"3077\",\"type\":\"VBar\"},{\"attributes\":{},\"id\":\"3084\",\"type\":\"AllLabels\"},{\"attributes\":{\"data\":{\"Average_Total_Payments\":{\"__ndarray__\":\"ZmZmZmaVykDsUbgeRSjLQOtRuB6FUs5ArkfheiTn0EDsUbgexc/TQEjhehQe89NAexSuR1Ga1UA0MzMzA6XaQML1KFx/8NxAmpmZmUli3kBSuB6FU+3hQOxRuB59weJAUrgeheNL5kDMzMzMZJfmQArXo3AlQ+hA16NwPfIL60BI4XoUjhfwQKRwPQqz+fJAmZmZma0I80AzMzMzI53zQK5H4XoYi/RAuB6F69Wh9ECZmZmZCUv5QK9H4XogSPtASOF6FEIcAEEUrkfhXP8AQZqZmZkDDQFBCtejcM/SAkFxPQrXJ1MDQfcoXI/cqQVBuR6F66E5B0FJ4XoUOr8HQfUoXI8YRAhBXI/C9QTSCEFH4XoUyloKQeF6FK4ZFQ1BNjMzM4FADUF6FK5HMf8OQShcj8Ke3RFBhOtRuHkME0EAAAAAdSgTQe1RuB6lFRVBCtejcLR5FUF6FK5HjS8XQYzC9ShuHhpB7VG4Hkr3HUH2KFwPTb8gQTMzM7NKHCRBfBSuR1P0JUFG4XqUQ5UqQTsK1+NZVDJB\",\"dtype\":\"float64\",\"order\":\"little\",\"shape\":[51]},\"Provider_State\":[\"WY\",\"HI\",\"AK\",\"SD\",\"VT\",\"MT\",\"ND\",\"ID\",\"DE\",\"NE\",\"UT\",\"NH\",\"DC\",\"RI\",\"ME\",\"OR\",\"KS\",\"NV\",\"NM\",\"WV\",\"CO\",\"IA\",\"MN\",\"AR\",\"CT\",\"WI\",\"OK\",\"MS\",\"AZ\",\"WA\",\"SC\",\"AL\",\"LA\",\"KY\",\"IN\",\"TN\",\"MO\",\"VA\",\"MA\",\"GA\",\"MD\",\"MI\",\"NC\",\"NJ\",\"OH\",\"PA\",\"IL\",\"FL\",\"TX\",\"NY\",\"CA\"]},\"selected\":{\"id\":\"3070\"},\"selection_policy\":{\"id\":\"3094\"}},\"id\":\"3069\",\"type\":\"ColumnDataSource\"},{\"attributes\":{},\"id\":\"3056\",\"type\":\"SaveTool\"},{\"attributes\":{\"below\":[{\"id\":\"3049\"}],\"center\":[{\"id\":\"3051\"},{\"id\":\"3055\"}],\"height\":300,\"left\":[{\"id\":\"3052\"}],\"margin\":[5,5,5,5],\"min_border_bottom\":10,\"min_border_left\":10,\"min_border_right\":10,\"min_border_top\":10,\"renderers\":[{\"id\":\"3075\"}],\"sizing_mode\":\"fixed\",\"title\":{\"id\":\"3041\"},\"toolbar\":{\"id\":\"3062\"},\"width\":1200,\"x_range\":{\"id\":\"3037\"},\"x_scale\":{\"id\":\"3045\"},\"y_range\":{\"id\":\"3038\"},\"y_scale\":{\"id\":\"3047\"}},\"id\":\"3040\",\"subtype\":\"Figure\",\"type\":\"Plot\"},{\"attributes\":{},\"id\":\"3057\",\"type\":\"PanTool\"},{\"attributes\":{\"active_multi\":null,\"tools\":[{\"id\":\"3039\"},{\"id\":\"3056\"},{\"id\":\"3057\"},{\"id\":\"3058\"},{\"id\":\"3059\"},{\"id\":\"3060\"}]},\"id\":\"3062\",\"type\":\"Toolbar\"},{\"attributes\":{},\"id\":\"3060\",\"type\":\"ResetTool\"},{\"attributes\":{},\"id\":\"3058\",\"type\":\"WheelZoomTool\"},{\"attributes\":{},\"id\":\"3047\",\"type\":\"LinearScale\"},{\"attributes\":{\"overlay\":{\"id\":\"3061\"}},\"id\":\"3059\",\"type\":\"BoxZoomTool\"},{\"attributes\":{},\"id\":\"3081\",\"type\":\"AllLabels\"},{\"attributes\":{\"axis_label\":\"State name\",\"formatter\":{\"id\":\"3079\"},\"major_label_policy\":{\"id\":\"3081\"},\"ticker\":{\"id\":\"3050\"}},\"id\":\"3049\",\"type\":\"CategoricalAxis\"},{\"attributes\":{\"data_source\":{\"id\":\"3069\"},\"glyph\":{\"id\":\"3072\"},\"hover_glyph\":null,\"muted_glyph\":{\"id\":\"3074\"},\"nonselection_glyph\":{\"id\":\"3073\"},\"selection_glyph\":{\"id\":\"3077\"},\"view\":{\"id\":\"3076\"}},\"id\":\"3075\",\"type\":\"GlyphRenderer\"},{\"attributes\":{},\"id\":\"3070\",\"type\":\"Selection\"},{\"attributes\":{},\"id\":\"3045\",\"type\":\"CategoricalScale\"},{\"attributes\":{\"margin\":[5,5,5,5],\"name\":\"HSpacer04159\",\"sizing_mode\":\"stretch_width\"},\"id\":\"3036\",\"type\":\"Spacer\"},{\"attributes\":{\"source\":{\"id\":\"3069\"}},\"id\":\"3076\",\"type\":\"CDSView\"},{\"attributes\":{\"text\":\"Average total payments by state\",\"text_color\":\"black\",\"text_font_size\":\"12pt\"},\"id\":\"3041\",\"type\":\"Title\"},{\"attributes\":{\"axis\":{\"id\":\"3049\"},\"grid_line_color\":null,\"ticker\":null},\"id\":\"3051\",\"type\":\"Grid\"},{\"attributes\":{\"fill_alpha\":{\"value\":0.1},\"fill_color\":{\"value\":\"#30a2da\"},\"line_alpha\":{\"value\":0.1},\"top\":{\"field\":\"Average_Total_Payments\"},\"width\":{\"value\":0.8},\"x\":{\"field\":\"Provider_State\"}},\"id\":\"3073\",\"type\":\"VBar\"},{\"attributes\":{},\"id\":\"3050\",\"type\":\"CategoricalTicker\"},{\"attributes\":{\"callback\":null,\"renderers\":[{\"id\":\"3075\"}],\"tags\":[\"hv_created\"],\"tooltips\":[[\"Provider State\",\"@{Provider_State}\"],[\"Average Total Payments\",\"@{Average_Total_Payments}\"]]},\"id\":\"3039\",\"type\":\"HoverTool\"},{\"attributes\":{\"axis\":{\"id\":\"3052\"},\"dimension\":1,\"grid_line_color\":null,\"ticker\":null},\"id\":\"3055\",\"type\":\"Grid\"},{\"attributes\":{\"margin\":[5,5,5,5],\"name\":\"HSpacer04160\",\"sizing_mode\":\"stretch_width\"},\"id\":\"3105\",\"type\":\"Spacer\"},{\"attributes\":{\"fill_alpha\":{\"value\":0.2},\"fill_color\":{\"value\":\"#30a2da\"},\"line_alpha\":{\"value\":0.2},\"top\":{\"field\":\"Average_Total_Payments\"},\"width\":{\"value\":0.8},\"x\":{\"field\":\"Provider_State\"}},\"id\":\"3074\",\"type\":\"VBar\"},{\"attributes\":{},\"id\":\"3094\",\"type\":\"UnionRenderers\"},{\"attributes\":{\"end\":1320004.9989999994,\"reset_end\":1320004.9989999994,\"reset_start\":0.0,\"tags\":[[[\"Average Total Payments\",\"Average Total Payments\",null]]]},\"id\":\"3038\",\"type\":\"Range1d\"},{\"attributes\":{\"fill_color\":{\"value\":\"#30a2da\"},\"top\":{\"field\":\"Average_Total_Payments\"},\"width\":{\"value\":0.8},\"x\":{\"field\":\"Provider_State\"}},\"id\":\"3072\",\"type\":\"VBar\"},{\"attributes\":{},\"id\":\"3053\",\"type\":\"BasicTicker\"},{\"attributes\":{\"axis_label\":\"Average Total Payments\",\"formatter\":{\"id\":\"3078\"},\"major_label_policy\":{\"id\":\"3084\"},\"ticker\":{\"id\":\"3053\"}},\"id\":\"3052\",\"type\":\"LinearAxis\"},{\"attributes\":{},\"id\":\"3079\",\"type\":\"CategoricalTickFormatter\"},{\"attributes\":{\"bottom_units\":\"screen\",\"fill_alpha\":0.5,\"fill_color\":\"lightgrey\",\"left_units\":\"screen\",\"level\":\"overlay\",\"line_alpha\":1.0,\"line_color\":\"black\",\"line_dash\":[4,4],\"line_width\":2,\"right_units\":\"screen\",\"syncable\":false,\"top_units\":\"screen\"},\"id\":\"3061\",\"type\":\"BoxAnnotation\"}],\"root_ids\":[\"3035\"]},\"title\":\"Bokeh Application\",\"version\":\"2.3.2\"}};\n",
       "    var render_items = [{\"docid\":\"57097a7a-c408-4c7d-a725-e3b5a8614cfd\",\"root_ids\":[\"3035\"],\"roots\":{\"3035\":\"4ff8eaa6-57e3-46ce-8584-9566a75c0f9d\"}}];\n",
       "    root.Bokeh.embed.embed_items_notebook(docs_json, render_items);\n",
       "  }\n",
       "  if (root.Bokeh !== undefined && root.Bokeh.Panel !== undefined) {\n",
       "    embed_document(root);\n",
       "  } else {\n",
       "    var attempts = 0;\n",
       "    var timer = setInterval(function(root) {\n",
       "      if (root.Bokeh !== undefined && root.Bokeh.Panel !== undefined) {\n",
       "        clearInterval(timer);\n",
       "        embed_document(root);\n",
       "      } else if (document.readyState == \"complete\") {\n",
       "        attempts++;\n",
       "        if (attempts > 100) {\n",
       "          clearInterval(timer);\n",
       "          console.log(\"Bokeh: ERROR: Unable to run BokehJS code because BokehJS library is missing\");\n",
       "        }\n",
       "      }\n",
       "    }, 10, root)\n",
       "  }\n",
       "})(window);</script>"
      ],
      "text/plain": [
       ":Bars   [Provider State]   (Average Total Payments)"
      ]
     },
     "execution_count": 47,
     "metadata": {
      "application/vnd.holoviews_exec.v0+json": {
       "id": "3035"
      }
     },
     "output_type": "execute_result"
    }
   ],
   "source": [
    "state_sums_sort.hvplot.bar(title='Average total payments by state',\n",
    "                           xlabel='State name',\n",
    "                           width=1200,\n",
    "                           yformatter=\"%.2f\")"
   ]
  },
  {
   "cell_type": "code",
   "execution_count": 49,
   "metadata": {},
   "outputs": [
    {
     "data": {},
     "metadata": {},
     "output_type": "display_data"
    },
    {
     "data": {
      "application/vnd.holoviews_exec.v0+json": "",
      "text/html": [
       "<div id='3273'>\n",
       "\n",
       "\n",
       "\n",
       "\n",
       "\n",
       "  <div class=\"bk-root\" id=\"482e76c4-4605-4690-90b0-3e93952b4596\" data-root-id=\"3273\"></div>\n",
       "</div>\n",
       "<script type=\"application/javascript\">(function(root) {\n",
       "  function embed_document(root) {\n",
       "    var docs_json = {\"21766c4b-fe8f-4477-9d94-06d21d2dc5ae\":{\"defs\":[],\"roots\":{\"references\":[{\"attributes\":{\"axis\":{\"id\":\"3290\"},\"dimension\":1,\"grid_line_color\":null,\"ticker\":null},\"id\":\"3293\",\"type\":\"Grid\"},{\"attributes\":{},\"id\":\"3291\",\"type\":\"BasicTicker\"},{\"attributes\":{\"end\":1320004.9989999994,\"reset_end\":1320004.9989999994,\"reset_start\":-105152.30899999994,\"start\":-105152.30899999994,\"tags\":[[[\"Average Total Payments\",\"Average Total Payments\",null]]]},\"id\":\"3276\",\"type\":\"Range1d\"},{\"attributes\":{\"axis_label\":\"Average Total Payments\",\"formatter\":{\"id\":\"3316\"},\"major_label_policy\":{\"id\":\"3322\"},\"ticker\":{\"id\":\"3291\"}},\"id\":\"3290\",\"type\":\"LinearAxis\"},{\"attributes\":{\"children\":[{\"id\":\"3274\"},{\"id\":\"3278\"},{\"id\":\"3343\"}],\"margin\":[0,0,0,0],\"name\":\"Row04485\",\"tags\":[\"embedded\"]},\"id\":\"3273\",\"type\":\"Row\"},{\"attributes\":{\"active_multi\":null,\"tools\":[{\"id\":\"3277\"},{\"id\":\"3294\"},{\"id\":\"3295\"},{\"id\":\"3296\"},{\"id\":\"3297\"},{\"id\":\"3298\"}]},\"id\":\"3300\",\"type\":\"Toolbar\"},{\"attributes\":{\"line_alpha\":0.1,\"line_color\":\"#30a2da\",\"line_width\":2,\"x\":{\"field\":\"Provider State\"},\"y\":{\"field\":\"Average Total Payments\"}},\"id\":\"3311\",\"type\":\"Line\"},{\"attributes\":{\"callback\":null,\"renderers\":[{\"id\":\"3313\"}],\"tags\":[\"hv_created\"],\"tooltips\":[[\"Provider State\",\"@{Provider_State}\"],[\"Average Total Payments\",\"@{Average_Total_Payments}\"]]},\"id\":\"3277\",\"type\":\"HoverTool\"},{\"attributes\":{\"bottom_units\":\"screen\",\"fill_alpha\":0.5,\"fill_color\":\"lightgrey\",\"left_units\":\"screen\",\"level\":\"overlay\",\"line_alpha\":1.0,\"line_color\":\"black\",\"line_dash\":[4,4],\"line_width\":2,\"right_units\":\"screen\",\"syncable\":false,\"top_units\":\"screen\"},\"id\":\"3299\",\"type\":\"BoxAnnotation\"},{\"attributes\":{\"below\":[{\"id\":\"3287\"}],\"center\":[{\"id\":\"3289\"},{\"id\":\"3293\"}],\"height\":300,\"left\":[{\"id\":\"3290\"}],\"margin\":[5,5,5,5],\"min_border_bottom\":10,\"min_border_left\":10,\"min_border_right\":10,\"min_border_top\":10,\"renderers\":[{\"id\":\"3313\"}],\"sizing_mode\":\"fixed\",\"title\":{\"id\":\"3279\"},\"toolbar\":{\"id\":\"3300\"},\"width\":1200,\"x_range\":{\"id\":\"3275\"},\"x_scale\":{\"id\":\"3283\"},\"y_range\":{\"id\":\"3276\"},\"y_scale\":{\"id\":\"3285\"}},\"id\":\"3278\",\"subtype\":\"Figure\",\"type\":\"Plot\"},{\"attributes\":{\"margin\":[5,5,5,5],\"name\":\"HSpacer04489\",\"sizing_mode\":\"stretch_width\"},\"id\":\"3274\",\"type\":\"Spacer\"},{\"attributes\":{\"data_source\":{\"id\":\"3307\"},\"glyph\":{\"id\":\"3310\"},\"hover_glyph\":null,\"muted_glyph\":{\"id\":\"3312\"},\"nonselection_glyph\":{\"id\":\"3311\"},\"selection_glyph\":{\"id\":\"3315\"},\"view\":{\"id\":\"3314\"}},\"id\":\"3313\",\"type\":\"GlyphRenderer\"},{\"attributes\":{\"line_alpha\":0.2,\"line_color\":\"#30a2da\",\"line_width\":2,\"x\":{\"field\":\"Provider State\"},\"y\":{\"field\":\"Average Total Payments\"}},\"id\":\"3312\",\"type\":\"Line\"},{\"attributes\":{\"factors\":[\"WY\",\"HI\",\"AK\",\"SD\",\"VT\",\"MT\",\"ND\",\"ID\",\"DE\",\"NE\",\"UT\",\"NH\",\"DC\",\"RI\",\"ME\",\"OR\",\"KS\",\"NV\",\"NM\",\"WV\",\"CO\",\"IA\",\"MN\",\"AR\",\"CT\",\"WI\",\"OK\",\"MS\",\"AZ\",\"WA\",\"SC\",\"AL\",\"LA\",\"KY\",\"IN\",\"TN\",\"MO\",\"VA\",\"MA\",\"GA\",\"MD\",\"MI\",\"NC\",\"NJ\",\"OH\",\"PA\",\"IL\",\"FL\",\"TX\",\"NY\",\"CA\"],\"tags\":[[[\"Provider State\",\"Provider State\",null]]]},\"id\":\"3275\",\"type\":\"FactorRange\"},{\"attributes\":{\"source\":{\"id\":\"3307\"}},\"id\":\"3314\",\"type\":\"CDSView\"},{\"attributes\":{},\"id\":\"3319\",\"type\":\"AllLabels\"},{\"attributes\":{},\"id\":\"3294\",\"type\":\"SaveTool\"},{\"attributes\":{\"data\":{\"Average Total Payments\":{\"__ndarray__\":\"ZmZmZmaVykDsUbgeRSjLQOtRuB6FUs5ArkfheiTn0EDsUbgexc/TQEjhehQe89NAexSuR1Ga1UA0MzMzA6XaQML1KFx/8NxAmpmZmUli3kBSuB6FU+3hQOxRuB59weJAUrgeheNL5kDMzMzMZJfmQArXo3AlQ+hA16NwPfIL60BI4XoUjhfwQKRwPQqz+fJAmZmZma0I80AzMzMzI53zQK5H4XoYi/RAuB6F69Wh9ECZmZmZCUv5QK9H4XogSPtASOF6FEIcAEEUrkfhXP8AQZqZmZkDDQFBCtejcM/SAkFxPQrXJ1MDQfcoXI/cqQVBuR6F66E5B0FJ4XoUOr8HQfUoXI8YRAhBXI/C9QTSCEFH4XoUyloKQeF6FK4ZFQ1BNjMzM4FADUF6FK5HMf8OQShcj8Ke3RFBhOtRuHkME0EAAAAAdSgTQe1RuB6lFRVBCtejcLR5FUF6FK5HjS8XQYzC9ShuHhpB7VG4Hkr3HUH2KFwPTb8gQTMzM7NKHCRBfBSuR1P0JUFG4XqUQ5UqQTsK1+NZVDJB\",\"dtype\":\"float64\",\"order\":\"little\",\"shape\":[51]},\"Average_Total_Payments\":{\"__ndarray__\":\"ZmZmZmaVykDsUbgeRSjLQOtRuB6FUs5ArkfheiTn0EDsUbgexc/TQEjhehQe89NAexSuR1Ga1UA0MzMzA6XaQML1KFx/8NxAmpmZmUli3kBSuB6FU+3hQOxRuB59weJAUrgeheNL5kDMzMzMZJfmQArXo3AlQ+hA16NwPfIL60BI4XoUjhfwQKRwPQqz+fJAmZmZma0I80AzMzMzI53zQK5H4XoYi/RAuB6F69Wh9ECZmZmZCUv5QK9H4XogSPtASOF6FEIcAEEUrkfhXP8AQZqZmZkDDQFBCtejcM/SAkFxPQrXJ1MDQfcoXI/cqQVBuR6F66E5B0FJ4XoUOr8HQfUoXI8YRAhBXI/C9QTSCEFH4XoUyloKQeF6FK4ZFQ1BNjMzM4FADUF6FK5HMf8OQShcj8Ke3RFBhOtRuHkME0EAAAAAdSgTQe1RuB6lFRVBCtejcLR5FUF6FK5HjS8XQYzC9ShuHhpB7VG4Hkr3HUH2KFwPTb8gQTMzM7NKHCRBfBSuR1P0JUFG4XqUQ5UqQTsK1+NZVDJB\",\"dtype\":\"float64\",\"order\":\"little\",\"shape\":[51]},\"Provider State\":[\"WY\",\"HI\",\"AK\",\"SD\",\"VT\",\"MT\",\"ND\",\"ID\",\"DE\",\"NE\",\"UT\",\"NH\",\"DC\",\"RI\",\"ME\",\"OR\",\"KS\",\"NV\",\"NM\",\"WV\",\"CO\",\"IA\",\"MN\",\"AR\",\"CT\",\"WI\",\"OK\",\"MS\",\"AZ\",\"WA\",\"SC\",\"AL\",\"LA\",\"KY\",\"IN\",\"TN\",\"MO\",\"VA\",\"MA\",\"GA\",\"MD\",\"MI\",\"NC\",\"NJ\",\"OH\",\"PA\",\"IL\",\"FL\",\"TX\",\"NY\",\"CA\"],\"Provider_State\":[\"WY\",\"HI\",\"AK\",\"SD\",\"VT\",\"MT\",\"ND\",\"ID\",\"DE\",\"NE\",\"UT\",\"NH\",\"DC\",\"RI\",\"ME\",\"OR\",\"KS\",\"NV\",\"NM\",\"WV\",\"CO\",\"IA\",\"MN\",\"AR\",\"CT\",\"WI\",\"OK\",\"MS\",\"AZ\",\"WA\",\"SC\",\"AL\",\"LA\",\"KY\",\"IN\",\"TN\",\"MO\",\"VA\",\"MA\",\"GA\",\"MD\",\"MI\",\"NC\",\"NJ\",\"OH\",\"PA\",\"IL\",\"FL\",\"TX\",\"NY\",\"CA\"]},\"selected\":{\"id\":\"3308\"},\"selection_policy\":{\"id\":\"3332\"}},\"id\":\"3307\",\"type\":\"ColumnDataSource\"},{\"attributes\":{},\"id\":\"3317\",\"type\":\"CategoricalTickFormatter\"},{\"attributes\":{\"margin\":[5,5,5,5],\"name\":\"HSpacer04490\",\"sizing_mode\":\"stretch_width\"},\"id\":\"3343\",\"type\":\"Spacer\"},{\"attributes\":{},\"id\":\"3295\",\"type\":\"PanTool\"},{\"attributes\":{\"line_color\":\"#30a2da\",\"line_width\":2,\"x\":{\"field\":\"Provider State\"},\"y\":{\"field\":\"Average Total Payments\"}},\"id\":\"3310\",\"type\":\"Line\"},{\"attributes\":{},\"id\":\"3298\",\"type\":\"ResetTool\"},{\"attributes\":{\"line_color\":\"#30a2da\",\"line_width\":2,\"x\":{\"field\":\"Provider State\"},\"y\":{\"field\":\"Average Total Payments\"}},\"id\":\"3315\",\"type\":\"Line\"},{\"attributes\":{},\"id\":\"3332\",\"type\":\"UnionRenderers\"},{\"attributes\":{},\"id\":\"3296\",\"type\":\"WheelZoomTool\"},{\"attributes\":{\"axis\":{\"id\":\"3287\"},\"grid_line_color\":null,\"ticker\":null},\"id\":\"3289\",\"type\":\"Grid\"},{\"attributes\":{\"overlay\":{\"id\":\"3299\"}},\"id\":\"3297\",\"type\":\"BoxZoomTool\"},{\"attributes\":{\"text\":\"Average total payments by state\",\"text_color\":\"black\",\"text_font_size\":\"12pt\"},\"id\":\"3279\",\"type\":\"Title\"},{\"attributes\":{\"axis_label\":\"State name\",\"formatter\":{\"id\":\"3317\"},\"major_label_policy\":{\"id\":\"3319\"},\"ticker\":{\"id\":\"3288\"}},\"id\":\"3287\",\"type\":\"CategoricalAxis\"},{\"attributes\":{\"format\":\"%.2f\"},\"id\":\"3316\",\"type\":\"PrintfTickFormatter\"},{\"attributes\":{},\"id\":\"3285\",\"type\":\"LinearScale\"},{\"attributes\":{},\"id\":\"3288\",\"type\":\"CategoricalTicker\"},{\"attributes\":{},\"id\":\"3322\",\"type\":\"AllLabels\"},{\"attributes\":{},\"id\":\"3308\",\"type\":\"Selection\"},{\"attributes\":{},\"id\":\"3283\",\"type\":\"CategoricalScale\"}],\"root_ids\":[\"3273\"]},\"title\":\"Bokeh Application\",\"version\":\"2.3.2\"}};\n",
       "    var render_items = [{\"docid\":\"21766c4b-fe8f-4477-9d94-06d21d2dc5ae\",\"root_ids\":[\"3273\"],\"roots\":{\"3273\":\"482e76c4-4605-4690-90b0-3e93952b4596\"}}];\n",
       "    root.Bokeh.embed.embed_items_notebook(docs_json, render_items);\n",
       "  }\n",
       "  if (root.Bokeh !== undefined && root.Bokeh.Panel !== undefined) {\n",
       "    embed_document(root);\n",
       "  } else {\n",
       "    var attempts = 0;\n",
       "    var timer = setInterval(function(root) {\n",
       "      if (root.Bokeh !== undefined && root.Bokeh.Panel !== undefined) {\n",
       "        clearInterval(timer);\n",
       "        embed_document(root);\n",
       "      } else if (document.readyState == \"complete\") {\n",
       "        attempts++;\n",
       "        if (attempts > 100) {\n",
       "          clearInterval(timer);\n",
       "          console.log(\"Bokeh: ERROR: Unable to run BokehJS code because BokehJS library is missing\");\n",
       "        }\n",
       "      }\n",
       "    }, 10, root)\n",
       "  }\n",
       "})(window);</script>"
      ],
      "text/plain": [
       ":Curve   [Provider State]   (Average Total Payments)"
      ]
     },
     "execution_count": 49,
     "metadata": {
      "application/vnd.holoviews_exec.v0+json": {
       "id": "3273"
      }
     },
     "output_type": "execute_result"
    }
   ],
   "source": [
    "state_sums_sort.hvplot(title='Average total payments by state',\n",
    "                       xlabel='State name',\n",
    "                       width=1200,\n",
    "                       yformatter=\"%.2f\")"
   ]
  },
  {
   "cell_type": "code",
   "execution_count": 51,
   "metadata": {},
   "outputs": [
    {
     "data": {},
     "metadata": {},
     "output_type": "display_data"
    },
    {
     "data": {
      "application/vnd.holoviews_exec.v0+json": "",
      "text/html": [
       "<div id='3608'>\n",
       "\n",
       "\n",
       "\n",
       "\n",
       "\n",
       "  <div class=\"bk-root\" id=\"1af43ac6-fe9b-48f1-a18a-25ff0faa58a1\" data-root-id=\"3608\"></div>\n",
       "</div>\n",
       "<script type=\"application/javascript\">(function(root) {\n",
       "  function embed_document(root) {\n",
       "    var docs_json = {\"0961c893-c576-4a62-9a66-5b1c2cb5ac5c\":{\"defs\":[],\"roots\":{\"references\":[{\"attributes\":{\"source\":{\"id\":\"3661\"}},\"id\":\"3668\",\"type\":\"CDSView\"},{\"attributes\":{\"line_alpha\":0.1,\"line_color\":\"red\",\"line_width\":2,\"x\":{\"field\":\"Provider State\"},\"y\":{\"field\":\"Average Total Payments\"}},\"id\":\"3665\",\"type\":\"Line\"},{\"attributes\":{\"factors\":[\"WY\",\"HI\",\"AK\",\"SD\",\"VT\",\"MT\",\"ND\",\"ID\",\"DE\",\"NE\",\"UT\",\"NH\",\"DC\",\"RI\",\"ME\",\"OR\",\"KS\",\"NV\",\"NM\",\"WV\",\"CO\",\"IA\",\"MN\",\"AR\",\"CT\",\"WI\",\"OK\",\"MS\",\"AZ\",\"WA\",\"SC\",\"AL\",\"LA\",\"KY\",\"IN\",\"TN\",\"MO\",\"VA\",\"MA\",\"GA\",\"MD\",\"MI\",\"NC\",\"NJ\",\"OH\",\"PA\",\"IL\",\"FL\",\"TX\",\"NY\",\"CA\"],\"tags\":[[[\"Provider State\",\"Provider State\",null]]]},\"id\":\"3610\",\"type\":\"FactorRange\"},{\"attributes\":{},\"id\":\"3619\",\"type\":\"CategoricalScale\"},{\"attributes\":{},\"id\":\"3632\",\"type\":\"WheelZoomTool\"},{\"attributes\":{\"line_alpha\":0.2,\"line_color\":\"red\",\"line_width\":2,\"x\":{\"field\":\"Provider State\"},\"y\":{\"field\":\"Average Total Payments\"}},\"id\":\"3666\",\"type\":\"Line\"},{\"attributes\":{\"axis\":{\"id\":\"3623\"},\"grid_line_color\":null,\"ticker\":null},\"id\":\"3625\",\"type\":\"Grid\"},{\"attributes\":{\"end\":1320004.9989999994,\"reset_end\":1320004.9989999994,\"reset_start\":0.0,\"tags\":[[[\"Average Total Payments\",\"Average Total Payments\",null]]]},\"id\":\"3611\",\"type\":\"Range1d\"},{\"attributes\":{\"bottom\":{\"value\":0},\"fill_alpha\":{\"value\":1.0},\"fill_color\":{\"value\":\"#30a2da\"},\"hatch_alpha\":{\"value\":1.0},\"hatch_color\":{\"value\":\"black\"},\"hatch_scale\":{\"value\":12.0},\"hatch_weight\":{\"value\":1.0},\"line_alpha\":{\"value\":1.0},\"line_cap\":{\"value\":\"butt\"},\"line_color\":{\"value\":\"black\"},\"line_dash\":{\"value\":[]},\"line_dash_offset\":{\"value\":0},\"line_join\":{\"value\":\"bevel\"},\"line_width\":{\"value\":1},\"top\":{\"field\":\"Average_Total_Payments\"},\"width\":{\"value\":0.8},\"x\":{\"field\":\"Provider_State\"}},\"id\":\"3660\",\"type\":\"VBar\"},{\"attributes\":{},\"id\":\"3677\",\"type\":\"UnionRenderers\"},{\"attributes\":{\"line_color\":\"red\",\"line_width\":2,\"x\":{\"field\":\"Provider State\"},\"y\":{\"field\":\"Average Total Payments\"}},\"id\":\"3664\",\"type\":\"Line\"},{\"attributes\":{\"overlay\":{\"id\":\"3635\"}},\"id\":\"3633\",\"type\":\"BoxZoomTool\"},{\"attributes\":{\"text\":\"Average total payments by state\",\"text_color\":\"black\",\"text_font_size\":\"12pt\"},\"id\":\"3615\",\"type\":\"Title\"},{\"attributes\":{\"data_source\":{\"id\":\"3661\"},\"glyph\":{\"id\":\"3664\"},\"hover_glyph\":null,\"muted_glyph\":{\"id\":\"3666\"},\"nonselection_glyph\":{\"id\":\"3665\"},\"selection_glyph\":{\"id\":\"3669\"},\"view\":{\"id\":\"3668\"}},\"id\":\"3667\",\"type\":\"GlyphRenderer\"},{\"attributes\":{},\"id\":\"3634\",\"type\":\"ResetTool\"},{\"attributes\":{\"axis_label\":\"State name\",\"formatter\":{\"id\":\"3644\"},\"major_label_policy\":{\"id\":\"3646\"},\"ticker\":{\"id\":\"3624\"}},\"id\":\"3623\",\"type\":\"CategoricalAxis\"},{\"attributes\":{},\"id\":\"3631\",\"type\":\"PanTool\"},{\"attributes\":{\"data\":{\"Average Total Payments\":{\"__ndarray__\":\"ZmZmZmaVykDsUbgeRSjLQOtRuB6FUs5ArkfheiTn0EDsUbgexc/TQEjhehQe89NAexSuR1Ga1UA0MzMzA6XaQML1KFx/8NxAmpmZmUli3kBSuB6FU+3hQOxRuB59weJAUrgeheNL5kDMzMzMZJfmQArXo3AlQ+hA16NwPfIL60BI4XoUjhfwQKRwPQqz+fJAmZmZma0I80AzMzMzI53zQK5H4XoYi/RAuB6F69Wh9ECZmZmZCUv5QK9H4XogSPtASOF6FEIcAEEUrkfhXP8AQZqZmZkDDQFBCtejcM/SAkFxPQrXJ1MDQfcoXI/cqQVBuR6F66E5B0FJ4XoUOr8HQfUoXI8YRAhBXI/C9QTSCEFH4XoUyloKQeF6FK4ZFQ1BNjMzM4FADUF6FK5HMf8OQShcj8Ke3RFBhOtRuHkME0EAAAAAdSgTQe1RuB6lFRVBCtejcLR5FUF6FK5HjS8XQYzC9ShuHhpB7VG4Hkr3HUH2KFwPTb8gQTMzM7NKHCRBfBSuR1P0JUFG4XqUQ5UqQTsK1+NZVDJB\",\"dtype\":\"float64\",\"order\":\"little\",\"shape\":[51]},\"Average_Total_Payments\":{\"__ndarray__\":\"ZmZmZmaVykDsUbgeRSjLQOtRuB6FUs5ArkfheiTn0EDsUbgexc/TQEjhehQe89NAexSuR1Ga1UA0MzMzA6XaQML1KFx/8NxAmpmZmUli3kBSuB6FU+3hQOxRuB59weJAUrgeheNL5kDMzMzMZJfmQArXo3AlQ+hA16NwPfIL60BI4XoUjhfwQKRwPQqz+fJAmZmZma0I80AzMzMzI53zQK5H4XoYi/RAuB6F69Wh9ECZmZmZCUv5QK9H4XogSPtASOF6FEIcAEEUrkfhXP8AQZqZmZkDDQFBCtejcM/SAkFxPQrXJ1MDQfcoXI/cqQVBuR6F66E5B0FJ4XoUOr8HQfUoXI8YRAhBXI/C9QTSCEFH4XoUyloKQeF6FK4ZFQ1BNjMzM4FADUF6FK5HMf8OQShcj8Ke3RFBhOtRuHkME0EAAAAAdSgTQe1RuB6lFRVBCtejcLR5FUF6FK5HjS8XQYzC9ShuHhpB7VG4Hkr3HUH2KFwPTb8gQTMzM7NKHCRBfBSuR1P0JUFG4XqUQ5UqQTsK1+NZVDJB\",\"dtype\":\"float64\",\"order\":\"little\",\"shape\":[51]},\"Provider State\":[\"WY\",\"HI\",\"AK\",\"SD\",\"VT\",\"MT\",\"ND\",\"ID\",\"DE\",\"NE\",\"UT\",\"NH\",\"DC\",\"RI\",\"ME\",\"OR\",\"KS\",\"NV\",\"NM\",\"WV\",\"CO\",\"IA\",\"MN\",\"AR\",\"CT\",\"WI\",\"OK\",\"MS\",\"AZ\",\"WA\",\"SC\",\"AL\",\"LA\",\"KY\",\"IN\",\"TN\",\"MO\",\"VA\",\"MA\",\"GA\",\"MD\",\"MI\",\"NC\",\"NJ\",\"OH\",\"PA\",\"IL\",\"FL\",\"TX\",\"NY\",\"CA\"],\"Provider_State\":[\"WY\",\"HI\",\"AK\",\"SD\",\"VT\",\"MT\",\"ND\",\"ID\",\"DE\",\"NE\",\"UT\",\"NH\",\"DC\",\"RI\",\"ME\",\"OR\",\"KS\",\"NV\",\"NM\",\"WV\",\"CO\",\"IA\",\"MN\",\"AR\",\"CT\",\"WI\",\"OK\",\"MS\",\"AZ\",\"WA\",\"SC\",\"AL\",\"LA\",\"KY\",\"IN\",\"TN\",\"MO\",\"VA\",\"MA\",\"GA\",\"MD\",\"MI\",\"NC\",\"NJ\",\"OH\",\"PA\",\"IL\",\"FL\",\"TX\",\"NY\",\"CA\"]},\"selected\":{\"id\":\"3662\"},\"selection_policy\":{\"id\":\"3679\"}},\"id\":\"3661\",\"type\":\"ColumnDataSource\"},{\"attributes\":{},\"id\":\"3630\",\"type\":\"SaveTool\"},{\"attributes\":{\"active_multi\":null,\"tools\":[{\"id\":\"3612\"},{\"id\":\"3630\"},{\"id\":\"3631\"},{\"id\":\"3632\"},{\"id\":\"3633\"},{\"id\":\"3634\"}]},\"id\":\"3636\",\"type\":\"Toolbar\"},{\"attributes\":{\"format\":\"%.2f\"},\"id\":\"3643\",\"type\":\"PrintfTickFormatter\"},{\"attributes\":{\"below\":[{\"id\":\"3623\"}],\"center\":[{\"id\":\"3625\"},{\"id\":\"3629\"}],\"height\":300,\"left\":[{\"id\":\"3626\"}],\"margin\":[5,5,5,5],\"min_border_bottom\":10,\"min_border_left\":10,\"min_border_right\":10,\"min_border_top\":10,\"renderers\":[{\"id\":\"3658\"},{\"id\":\"3667\"}],\"sizing_mode\":\"fixed\",\"title\":{\"id\":\"3615\"},\"toolbar\":{\"id\":\"3636\"},\"width\":1200,\"x_range\":{\"id\":\"3610\"},\"x_scale\":{\"id\":\"3619\"},\"y_range\":{\"id\":\"3611\"},\"y_scale\":{\"id\":\"3621\"}},\"id\":\"3614\",\"subtype\":\"Figure\",\"type\":\"Plot\"},{\"attributes\":{},\"id\":\"3624\",\"type\":\"CategoricalTicker\"},{\"attributes\":{\"data\":{\"Average_Total_Payments\":{\"__ndarray__\":\"ZmZmZmaVykDsUbgeRSjLQOtRuB6FUs5ArkfheiTn0EDsUbgexc/TQEjhehQe89NAexSuR1Ga1UA0MzMzA6XaQML1KFx/8NxAmpmZmUli3kBSuB6FU+3hQOxRuB59weJAUrgeheNL5kDMzMzMZJfmQArXo3AlQ+hA16NwPfIL60BI4XoUjhfwQKRwPQqz+fJAmZmZma0I80AzMzMzI53zQK5H4XoYi/RAuB6F69Wh9ECZmZmZCUv5QK9H4XogSPtASOF6FEIcAEEUrkfhXP8AQZqZmZkDDQFBCtejcM/SAkFxPQrXJ1MDQfcoXI/cqQVBuR6F66E5B0FJ4XoUOr8HQfUoXI8YRAhBXI/C9QTSCEFH4XoUyloKQeF6FK4ZFQ1BNjMzM4FADUF6FK5HMf8OQShcj8Ke3RFBhOtRuHkME0EAAAAAdSgTQe1RuB6lFRVBCtejcLR5FUF6FK5HjS8XQYzC9ShuHhpB7VG4Hkr3HUH2KFwPTb8gQTMzM7NKHCRBfBSuR1P0JUFG4XqUQ5UqQTsK1+NZVDJB\",\"dtype\":\"float64\",\"order\":\"little\",\"shape\":[51]},\"Provider_State\":[\"WY\",\"HI\",\"AK\",\"SD\",\"VT\",\"MT\",\"ND\",\"ID\",\"DE\",\"NE\",\"UT\",\"NH\",\"DC\",\"RI\",\"ME\",\"OR\",\"KS\",\"NV\",\"NM\",\"WV\",\"CO\",\"IA\",\"MN\",\"AR\",\"CT\",\"WI\",\"OK\",\"MS\",\"AZ\",\"WA\",\"SC\",\"AL\",\"LA\",\"KY\",\"IN\",\"TN\",\"MO\",\"VA\",\"MA\",\"GA\",\"MD\",\"MI\",\"NC\",\"NJ\",\"OH\",\"PA\",\"IL\",\"FL\",\"TX\",\"NY\",\"CA\"]},\"selected\":{\"id\":\"3653\"},\"selection_policy\":{\"id\":\"3677\"}},\"id\":\"3652\",\"type\":\"ColumnDataSource\"},{\"attributes\":{\"bottom_units\":\"screen\",\"fill_alpha\":0.5,\"fill_color\":\"lightgrey\",\"left_units\":\"screen\",\"level\":\"overlay\",\"line_alpha\":1.0,\"line_color\":\"black\",\"line_dash\":[4,4],\"line_width\":2,\"right_units\":\"screen\",\"syncable\":false,\"top_units\":\"screen\"},\"id\":\"3635\",\"type\":\"BoxAnnotation\"},{\"attributes\":{\"axis_label\":\"Average Total Payments\",\"formatter\":{\"id\":\"3643\"},\"major_label_policy\":{\"id\":\"3649\"},\"ticker\":{\"id\":\"3627\"}},\"id\":\"3626\",\"type\":\"LinearAxis\"},{\"attributes\":{\"fill_alpha\":{\"value\":0.1},\"fill_color\":{\"value\":\"#30a2da\"},\"line_alpha\":{\"value\":0.1},\"top\":{\"field\":\"Average_Total_Payments\"},\"width\":{\"value\":0.8},\"x\":{\"field\":\"Provider_State\"}},\"id\":\"3656\",\"type\":\"VBar\"},{\"attributes\":{},\"id\":\"3653\",\"type\":\"Selection\"},{\"attributes\":{\"axis\":{\"id\":\"3626\"},\"dimension\":1,\"grid_line_color\":null,\"ticker\":null},\"id\":\"3629\",\"type\":\"Grid\"},{\"attributes\":{\"fill_color\":{\"value\":\"#30a2da\"},\"top\":{\"field\":\"Average_Total_Payments\"},\"width\":{\"value\":0.8},\"x\":{\"field\":\"Provider_State\"}},\"id\":\"3655\",\"type\":\"VBar\"},{\"attributes\":{\"line_color\":\"red\",\"line_width\":2,\"x\":{\"field\":\"Provider State\"},\"y\":{\"field\":\"Average Total Payments\"}},\"id\":\"3669\",\"type\":\"Line\"},{\"attributes\":{},\"id\":\"3627\",\"type\":\"BasicTicker\"},{\"attributes\":{\"margin\":[5,5,5,5],\"name\":\"HSpacer05223\",\"sizing_mode\":\"stretch_width\"},\"id\":\"3769\",\"type\":\"Spacer\"},{\"attributes\":{\"data_source\":{\"id\":\"3652\"},\"glyph\":{\"id\":\"3655\"},\"hover_glyph\":null,\"muted_glyph\":{\"id\":\"3657\"},\"nonselection_glyph\":{\"id\":\"3656\"},\"selection_glyph\":{\"id\":\"3660\"},\"view\":{\"id\":\"3659\"}},\"id\":\"3658\",\"type\":\"GlyphRenderer\"},{\"attributes\":{\"children\":[{\"id\":\"3609\"},{\"id\":\"3614\"},{\"id\":\"3769\"}],\"margin\":[0,0,0,0],\"name\":\"Row05218\",\"tags\":[\"embedded\"]},\"id\":\"3608\",\"type\":\"Row\"},{\"attributes\":{},\"id\":\"3679\",\"type\":\"UnionRenderers\"},{\"attributes\":{},\"id\":\"3646\",\"type\":\"AllLabels\"},{\"attributes\":{},\"id\":\"3649\",\"type\":\"AllLabels\"},{\"attributes\":{},\"id\":\"3662\",\"type\":\"Selection\"},{\"attributes\":{},\"id\":\"3644\",\"type\":\"CategoricalTickFormatter\"},{\"attributes\":{},\"id\":\"3621\",\"type\":\"LinearScale\"},{\"attributes\":{\"fill_alpha\":{\"value\":0.2},\"fill_color\":{\"value\":\"#30a2da\"},\"line_alpha\":{\"value\":0.2},\"top\":{\"field\":\"Average_Total_Payments\"},\"width\":{\"value\":0.8},\"x\":{\"field\":\"Provider_State\"}},\"id\":\"3657\",\"type\":\"VBar\"},{\"attributes\":{\"margin\":[5,5,5,5],\"name\":\"HSpacer05222\",\"sizing_mode\":\"stretch_width\"},\"id\":\"3609\",\"type\":\"Spacer\"},{\"attributes\":{\"callback\":null,\"renderers\":[{\"id\":\"3658\"},{\"id\":\"3667\"}],\"tags\":[\"hv_created\"],\"tooltips\":[[\"Provider State\",\"@{Provider_State}\"],[\"Average Total Payments\",\"@{Average_Total_Payments}\"]]},\"id\":\"3612\",\"type\":\"HoverTool\"},{\"attributes\":{\"source\":{\"id\":\"3652\"}},\"id\":\"3659\",\"type\":\"CDSView\"}],\"root_ids\":[\"3608\"]},\"title\":\"Bokeh Application\",\"version\":\"2.3.2\"}};\n",
       "    var render_items = [{\"docid\":\"0961c893-c576-4a62-9a66-5b1c2cb5ac5c\",\"root_ids\":[\"3608\"],\"roots\":{\"3608\":\"1af43ac6-fe9b-48f1-a18a-25ff0faa58a1\"}}];\n",
       "    root.Bokeh.embed.embed_items_notebook(docs_json, render_items);\n",
       "  }\n",
       "  if (root.Bokeh !== undefined && root.Bokeh.Panel !== undefined) {\n",
       "    embed_document(root);\n",
       "  } else {\n",
       "    var attempts = 0;\n",
       "    var timer = setInterval(function(root) {\n",
       "      if (root.Bokeh !== undefined && root.Bokeh.Panel !== undefined) {\n",
       "        clearInterval(timer);\n",
       "        embed_document(root);\n",
       "      } else if (document.readyState == \"complete\") {\n",
       "        attempts++;\n",
       "        if (attempts > 100) {\n",
       "          clearInterval(timer);\n",
       "          console.log(\"Bokeh: ERROR: Unable to run BokehJS code because BokehJS library is missing\");\n",
       "        }\n",
       "      }\n",
       "    }, 10, root)\n",
       "  }\n",
       "})(window);</script>"
      ],
      "text/plain": [
       ":Overlay\n",
       "   .Bars.I  :Bars   [Provider State]   (Average Total Payments)\n",
       "   .Curve.I :Curve   [Provider State]   (Average Total Payments)"
      ]
     },
     "execution_count": 51,
     "metadata": {
      "application/vnd.holoviews_exec.v0+json": {
       "id": "3608"
      }
     },
     "output_type": "execute_result"
    }
   ],
   "source": [
    "state_sums_sort.hvplot.bar(title='Average total payments by state', xlabel='State name', width=1200,  yformatter=\"%.2f\") * state_sums_sort.hvplot(title='Average total payments by state', xlabel='State name', width=1200, yformatter=\"%.2f\", color='red')"
   ]
  },
  {
   "cell_type": "code",
   "execution_count": 13,
   "metadata": {},
   "outputs": [],
   "source": [
    "import pandas as pd\n",
    "import numpy as np\n",
    "import hvplot.pandas"
   ]
  },
  {
   "cell_type": "code",
   "execution_count": 15,
   "metadata": {},
   "outputs": [
    {
     "data": {
      "text/html": [
       "<div>\n",
       "<style scoped>\n",
       "    .dataframe tbody tr th:only-of-type {\n",
       "        vertical-align: middle;\n",
       "    }\n",
       "\n",
       "    .dataframe tbody tr th {\n",
       "        vertical-align: top;\n",
       "    }\n",
       "\n",
       "    .dataframe thead th {\n",
       "        text-align: right;\n",
       "    }\n",
       "</style>\n",
       "<table border=\"1\" class=\"dataframe\">\n",
       "  <thead>\n",
       "    <tr style=\"text-align: right;\">\n",
       "      <th></th>\n",
       "      <th>0</th>\n",
       "    </tr>\n",
       "  </thead>\n",
       "  <tbody>\n",
       "    <tr>\n",
       "      <th>6957</th>\n",
       "      <td>38</td>\n",
       "    </tr>\n",
       "    <tr>\n",
       "      <th>2595</th>\n",
       "      <td>11</td>\n",
       "    </tr>\n",
       "    <tr>\n",
       "      <th>2095</th>\n",
       "      <td>50</td>\n",
       "    </tr>\n",
       "    <tr>\n",
       "      <th>4260</th>\n",
       "      <td>24</td>\n",
       "    </tr>\n",
       "    <tr>\n",
       "      <th>4888</th>\n",
       "      <td>20</td>\n",
       "    </tr>\n",
       "  </tbody>\n",
       "</table>\n",
       "</div>"
      ],
      "text/plain": [
       "       0\n",
       "6957  38\n",
       "2595  11\n",
       "2095  50\n",
       "4260  24\n",
       "4888  20"
      ]
     },
     "execution_count": 15,
     "metadata": {},
     "output_type": "execute_result"
    }
   ],
   "source": [
    "# Create Pandas Dataframe and execute hvPlot()\n",
    "flight_nums = np.random.randint(low=200, high=7000, size=20)\n",
    "num_passengers = np.random.randint(low=10, high=75, size=20)\n",
    "\n",
    "flight_data = pd.DataFrame(num_passengers, index=flight_nums)\n",
    "flight_data.head()"
   ]
  },
  {
   "cell_type": "code",
   "execution_count": 16,
   "metadata": {},
   "outputs": [
    {
     "data": {},
     "metadata": {},
     "output_type": "display_data"
    },
    {
     "data": {
      "application/vnd.holoviews_exec.v0+json": "",
      "text/html": [
       "<div id='1244'>\n",
       "\n",
       "\n",
       "\n",
       "\n",
       "\n",
       "  <div class=\"bk-root\" id=\"c3730686-95f4-4e42-a564-9b182cd80110\" data-root-id=\"1244\"></div>\n",
       "</div>\n",
       "<script type=\"application/javascript\">(function(root) {\n",
       "  function embed_document(root) {\n",
       "    var docs_json = {\"27923fd3-a574-4999-b78d-d7fca6311917\":{\"defs\":[],\"roots\":{\"references\":[{\"attributes\":{\"fill_alpha\":{\"value\":0.1},\"fill_color\":{\"value\":\"#30a2da\"},\"line_alpha\":{\"value\":0.1},\"top\":{\"field\":\"A_0\"},\"width\":{\"value\":0.8},\"x\":{\"field\":\"index\"}},\"id\":\"1282\",\"type\":\"VBar\"},{\"attributes\":{},\"id\":\"1279\",\"type\":\"Selection\"},{\"attributes\":{\"active_multi\":null,\"tools\":[{\"id\":\"1248\"},{\"id\":\"1265\"},{\"id\":\"1266\"},{\"id\":\"1267\"},{\"id\":\"1268\"},{\"id\":\"1269\"}]},\"id\":\"1271\",\"type\":\"Toolbar\"},{\"attributes\":{\"fill_alpha\":{\"value\":0.2},\"fill_color\":{\"value\":\"#30a2da\"},\"line_alpha\":{\"value\":0.2},\"top\":{\"field\":\"A_0\"},\"width\":{\"value\":0.8},\"x\":{\"field\":\"index\"}},\"id\":\"1283\",\"type\":\"VBar\"},{\"attributes\":{\"below\":[{\"id\":\"1258\"}],\"center\":[{\"id\":\"1260\"},{\"id\":\"1264\"}],\"height\":300,\"left\":[{\"id\":\"1261\"}],\"margin\":[5,5,5,5],\"min_border_bottom\":10,\"min_border_left\":10,\"min_border_right\":10,\"min_border_top\":10,\"renderers\":[{\"id\":\"1284\"}],\"sizing_mode\":\"fixed\",\"title\":{\"id\":\"1250\"},\"toolbar\":{\"id\":\"1271\"},\"width\":700,\"x_range\":{\"id\":\"1246\"},\"x_scale\":{\"id\":\"1254\"},\"y_range\":{\"id\":\"1247\"},\"y_scale\":{\"id\":\"1256\"}},\"id\":\"1249\",\"subtype\":\"Figure\",\"type\":\"Plot\"},{\"attributes\":{},\"id\":\"1265\",\"type\":\"SaveTool\"},{\"attributes\":{},\"id\":\"1266\",\"type\":\"PanTool\"},{\"attributes\":{},\"id\":\"1269\",\"type\":\"ResetTool\"},{\"attributes\":{\"axis_label\":\"\",\"formatter\":{\"id\":\"1287\"},\"major_label_policy\":{\"id\":\"1289\"},\"ticker\":{\"id\":\"1259\"}},\"id\":\"1258\",\"type\":\"CategoricalAxis\"},{\"attributes\":{},\"id\":\"1267\",\"type\":\"WheelZoomTool\"},{\"attributes\":{\"source\":{\"id\":\"1278\"}},\"id\":\"1285\",\"type\":\"CDSView\"},{\"attributes\":{\"margin\":[5,5,5,5],\"name\":\"HSpacer01926\",\"sizing_mode\":\"stretch_width\"},\"id\":\"1313\",\"type\":\"Spacer\"},{\"attributes\":{\"overlay\":{\"id\":\"1270\"}},\"id\":\"1268\",\"type\":\"BoxZoomTool\"},{\"attributes\":{},\"id\":\"1254\",\"type\":\"CategoricalScale\"},{\"attributes\":{\"fill_color\":{\"value\":\"#30a2da\"},\"top\":{\"field\":\"A_0\"},\"width\":{\"value\":0.8},\"x\":{\"field\":\"index\"}},\"id\":\"1281\",\"type\":\"VBar\"},{\"attributes\":{\"data_source\":{\"id\":\"1278\"},\"glyph\":{\"id\":\"1281\"},\"hover_glyph\":null,\"muted_glyph\":{\"id\":\"1283\"},\"nonselection_glyph\":{\"id\":\"1282\"},\"selection_glyph\":{\"id\":\"1286\"},\"view\":{\"id\":\"1285\"}},\"id\":\"1284\",\"type\":\"GlyphRenderer\"},{\"attributes\":{\"axis\":{\"id\":\"1258\"},\"grid_line_color\":null,\"ticker\":null},\"id\":\"1260\",\"type\":\"Grid\"},{\"attributes\":{\"factors\":[\"6957\",\"2595\",\"2095\",\"4260\",\"4888\",\"3555\",\"787\",\"907\",\"6923\",\"5311\",\"4643\",\"6433\",\"1228\",\"4651\",\"5019\",\"5047\",\"1139\",\"1552\",\"3966\",\"6495\"],\"tags\":[[[\"index\",\"index\",null]]]},\"id\":\"1246\",\"type\":\"FactorRange\"},{\"attributes\":{},\"id\":\"1256\",\"type\":\"LinearScale\"},{\"attributes\":{\"end\":77.0,\"reset_end\":77.0,\"reset_start\":0.0,\"tags\":[[[\"0\",\"0\",null]]]},\"id\":\"1247\",\"type\":\"Range1d\"},{\"attributes\":{},\"id\":\"1259\",\"type\":\"CategoricalTicker\"},{\"attributes\":{},\"id\":\"1289\",\"type\":\"AllLabels\"},{\"attributes\":{\"bottom\":{\"value\":0},\"fill_alpha\":{\"value\":1.0},\"fill_color\":{\"value\":\"#30a2da\"},\"hatch_alpha\":{\"value\":1.0},\"hatch_color\":{\"value\":\"black\"},\"hatch_scale\":{\"value\":12.0},\"hatch_weight\":{\"value\":1.0},\"line_alpha\":{\"value\":1.0},\"line_cap\":{\"value\":\"butt\"},\"line_color\":{\"value\":\"black\"},\"line_dash\":{\"value\":[]},\"line_dash_offset\":{\"value\":0},\"line_join\":{\"value\":\"bevel\"},\"line_width\":{\"value\":1},\"top\":{\"field\":\"A_0\"},\"width\":{\"value\":0.8},\"x\":{\"field\":\"index\"}},\"id\":\"1286\",\"type\":\"VBar\"},{\"attributes\":{},\"id\":\"1301\",\"type\":\"UnionRenderers\"},{\"attributes\":{\"axis\":{\"id\":\"1261\"},\"dimension\":1,\"grid_line_color\":null,\"ticker\":null},\"id\":\"1264\",\"type\":\"Grid\"},{\"attributes\":{},\"id\":\"1287\",\"type\":\"CategoricalTickFormatter\"},{\"attributes\":{},\"id\":\"1262\",\"type\":\"BasicTicker\"},{\"attributes\":{\"axis_label\":\"0\",\"formatter\":{\"id\":\"1291\"},\"major_label_policy\":{\"id\":\"1292\"},\"ticker\":{\"id\":\"1262\"}},\"id\":\"1261\",\"type\":\"LinearAxis\"},{\"attributes\":{},\"id\":\"1292\",\"type\":\"AllLabels\"},{\"attributes\":{\"children\":[{\"id\":\"1245\"},{\"id\":\"1249\"},{\"id\":\"1313\"}],\"margin\":[0,0,0,0],\"name\":\"Row01921\",\"tags\":[\"embedded\"]},\"id\":\"1244\",\"type\":\"Row\"},{\"attributes\":{},\"id\":\"1291\",\"type\":\"BasicTickFormatter\"},{\"attributes\":{\"data\":{\"A_0\":{\"__ndarray__\":\"JgAAAAsAAAAyAAAAGAAAABQAAAA5AAAAGwAAADsAAABHAAAAEQAAACoAAABFAAAADgAAAEMAAAAzAAAAOQAAABsAAAAsAAAAPgAAAEAAAAA=\",\"dtype\":\"int32\",\"order\":\"little\",\"shape\":[20]},\"index\":[\"6957\",\"2595\",\"2095\",\"4260\",\"4888\",\"3555\",\"787\",\"907\",\"6923\",\"5311\",\"4643\",\"6433\",\"1228\",\"4651\",\"5019\",\"5047\",\"1139\",\"1552\",\"3966\",\"6495\"]},\"selected\":{\"id\":\"1279\"},\"selection_policy\":{\"id\":\"1301\"}},\"id\":\"1278\",\"type\":\"ColumnDataSource\"},{\"attributes\":{\"margin\":[5,5,5,5],\"name\":\"HSpacer01925\",\"sizing_mode\":\"stretch_width\"},\"id\":\"1245\",\"type\":\"Spacer\"},{\"attributes\":{\"callback\":null,\"renderers\":[{\"id\":\"1284\"}],\"tags\":[\"hv_created\"],\"tooltips\":[[\"index\",\"@{index}\"],[\"0\",\"@{A_0}\"]]},\"id\":\"1248\",\"type\":\"HoverTool\"},{\"attributes\":{\"text_color\":\"black\",\"text_font_size\":\"12pt\"},\"id\":\"1250\",\"type\":\"Title\"},{\"attributes\":{\"bottom_units\":\"screen\",\"fill_alpha\":0.5,\"fill_color\":\"lightgrey\",\"left_units\":\"screen\",\"level\":\"overlay\",\"line_alpha\":1.0,\"line_color\":\"black\",\"line_dash\":[4,4],\"line_width\":2,\"right_units\":\"screen\",\"syncable\":false,\"top_units\":\"screen\"},\"id\":\"1270\",\"type\":\"BoxAnnotation\"}],\"root_ids\":[\"1244\"]},\"title\":\"Bokeh Application\",\"version\":\"2.3.2\"}};\n",
       "    var render_items = [{\"docid\":\"27923fd3-a574-4999-b78d-d7fca6311917\",\"root_ids\":[\"1244\"],\"roots\":{\"1244\":\"c3730686-95f4-4e42-a564-9b182cd80110\"}}];\n",
       "    root.Bokeh.embed.embed_items_notebook(docs_json, render_items);\n",
       "  }\n",
       "  if (root.Bokeh !== undefined && root.Bokeh.Panel !== undefined) {\n",
       "    embed_document(root);\n",
       "  } else {\n",
       "    var attempts = 0;\n",
       "    var timer = setInterval(function(root) {\n",
       "      if (root.Bokeh !== undefined && root.Bokeh.Panel !== undefined) {\n",
       "        clearInterval(timer);\n",
       "        embed_document(root);\n",
       "      } else if (document.readyState == \"complete\") {\n",
       "        attempts++;\n",
       "        if (attempts > 100) {\n",
       "          clearInterval(timer);\n",
       "          console.log(\"Bokeh: ERROR: Unable to run BokehJS code because BokehJS library is missing\");\n",
       "        }\n",
       "      }\n",
       "    }, 10, root)\n",
       "  }\n",
       "})(window);</script>"
      ],
      "text/plain": [
       ":Bars   [index]   (0)"
      ]
     },
     "execution_count": 16,
     "metadata": {
      "application/vnd.holoviews_exec.v0+json": {
       "id": "1244"
      }
     },
     "output_type": "execute_result"
    }
   ],
   "source": [
    "flight_data.hvplot.bar()"
   ]
  },
  {
   "cell_type": "code",
   "execution_count": 20,
   "metadata": {},
   "outputs": [
    {
     "data": {
      "text/html": [
       "<div>\n",
       "<style scoped>\n",
       "    .dataframe tbody tr th:only-of-type {\n",
       "        vertical-align: middle;\n",
       "    }\n",
       "\n",
       "    .dataframe tbody tr th {\n",
       "        vertical-align: top;\n",
       "    }\n",
       "\n",
       "    .dataframe thead th {\n",
       "        text-align: right;\n",
       "    }\n",
       "</style>\n",
       "<table border=\"1\" class=\"dataframe\">\n",
       "  <thead>\n",
       "    <tr style=\"text-align: right;\">\n",
       "      <th></th>\n",
       "      <th>0</th>\n",
       "    </tr>\n",
       "  </thead>\n",
       "  <tbody>\n",
       "    <tr>\n",
       "      <th>2595</th>\n",
       "      <td>11</td>\n",
       "    </tr>\n",
       "    <tr>\n",
       "      <th>1228</th>\n",
       "      <td>14</td>\n",
       "    </tr>\n",
       "    <tr>\n",
       "      <th>5311</th>\n",
       "      <td>17</td>\n",
       "    </tr>\n",
       "    <tr>\n",
       "      <th>4888</th>\n",
       "      <td>20</td>\n",
       "    </tr>\n",
       "    <tr>\n",
       "      <th>4260</th>\n",
       "      <td>24</td>\n",
       "    </tr>\n",
       "  </tbody>\n",
       "</table>\n",
       "</div>"
      ],
      "text/plain": [
       "       0\n",
       "2595  11\n",
       "1228  14\n",
       "5311  17\n",
       "4888  20\n",
       "4260  24"
      ]
     },
     "execution_count": 20,
     "metadata": {},
     "output_type": "execute_result"
    }
   ],
   "source": [
    "flight_data_sort = flight_data.sort_values(0, ascending=True)\n",
    "flight_data_sort.head()"
   ]
  },
  {
   "cell_type": "code",
   "execution_count": 21,
   "metadata": {},
   "outputs": [
    {
     "data": {},
     "metadata": {},
     "output_type": "display_data"
    },
    {
     "data": {
      "application/vnd.holoviews_exec.v0+json": "",
      "text/html": [
       "<div id='1365'>\n",
       "\n",
       "\n",
       "\n",
       "\n",
       "\n",
       "  <div class=\"bk-root\" id=\"3b22cae9-e83f-44d2-af0f-617715118d89\" data-root-id=\"1365\"></div>\n",
       "</div>\n",
       "<script type=\"application/javascript\">(function(root) {\n",
       "  function embed_document(root) {\n",
       "    var docs_json = {\"425a5205-7467-4108-8ec4-9fa67d1fcffc\":{\"defs\":[],\"roots\":{\"references\":[{\"attributes\":{\"factors\":[\"2595\",\"1228\",\"5311\",\"4888\",\"4260\",\"1139\",\"787\",\"6957\",\"4643\",\"1552\",\"2095\",\"5019\",\"3555\",\"5047\",\"907\",\"3966\",\"6495\",\"4651\",\"6433\",\"6923\"],\"tags\":[[[\"index\",\"index\",null]]]},\"id\":\"1367\",\"type\":\"FactorRange\"},{\"attributes\":{\"axis_label\":\"\",\"formatter\":{\"id\":\"1408\"},\"major_label_policy\":{\"id\":\"1410\"},\"ticker\":{\"id\":\"1380\"}},\"id\":\"1379\",\"type\":\"CategoricalAxis\"},{\"attributes\":{},\"id\":\"1386\",\"type\":\"SaveTool\"},{\"attributes\":{},\"id\":\"1387\",\"type\":\"PanTool\"},{\"attributes\":{},\"id\":\"1412\",\"type\":\"BasicTickFormatter\"},{\"attributes\":{\"data_source\":{\"id\":\"1399\"},\"glyph\":{\"id\":\"1402\"},\"hover_glyph\":null,\"muted_glyph\":{\"id\":\"1404\"},\"nonselection_glyph\":{\"id\":\"1403\"},\"selection_glyph\":{\"id\":\"1407\"},\"view\":{\"id\":\"1406\"}},\"id\":\"1405\",\"type\":\"GlyphRenderer\"},{\"attributes\":{},\"id\":\"1390\",\"type\":\"ResetTool\"},{\"attributes\":{\"below\":[{\"id\":\"1379\"}],\"center\":[{\"id\":\"1381\"},{\"id\":\"1385\"}],\"height\":300,\"left\":[{\"id\":\"1382\"}],\"margin\":[5,5,5,5],\"min_border_bottom\":10,\"min_border_left\":10,\"min_border_right\":10,\"min_border_top\":10,\"renderers\":[{\"id\":\"1405\"}],\"sizing_mode\":\"fixed\",\"title\":{\"id\":\"1371\"},\"toolbar\":{\"id\":\"1392\"},\"width\":700,\"x_range\":{\"id\":\"1367\"},\"x_scale\":{\"id\":\"1375\"},\"y_range\":{\"id\":\"1368\"},\"y_scale\":{\"id\":\"1377\"}},\"id\":\"1370\",\"subtype\":\"Figure\",\"type\":\"Plot\"},{\"attributes\":{},\"id\":\"1388\",\"type\":\"WheelZoomTool\"},{\"attributes\":{},\"id\":\"1400\",\"type\":\"Selection\"},{\"attributes\":{\"overlay\":{\"id\":\"1391\"}},\"id\":\"1389\",\"type\":\"BoxZoomTool\"},{\"attributes\":{\"source\":{\"id\":\"1399\"}},\"id\":\"1406\",\"type\":\"CDSView\"},{\"attributes\":{},\"id\":\"1413\",\"type\":\"AllLabels\"},{\"attributes\":{\"fill_alpha\":{\"value\":0.2},\"fill_color\":{\"value\":\"#30a2da\"},\"line_alpha\":{\"value\":0.2},\"top\":{\"field\":\"A_0\"},\"width\":{\"value\":0.8},\"x\":{\"field\":\"index\"}},\"id\":\"1404\",\"type\":\"VBar\"},{\"attributes\":{},\"id\":\"1422\",\"type\":\"UnionRenderers\"},{\"attributes\":{},\"id\":\"1375\",\"type\":\"CategoricalScale\"},{\"attributes\":{\"fill_alpha\":{\"value\":0.1},\"fill_color\":{\"value\":\"#30a2da\"},\"line_alpha\":{\"value\":0.1},\"top\":{\"field\":\"A_0\"},\"width\":{\"value\":0.8},\"x\":{\"field\":\"index\"}},\"id\":\"1403\",\"type\":\"VBar\"},{\"attributes\":{\"axis\":{\"id\":\"1379\"},\"grid_line_color\":null,\"ticker\":null},\"id\":\"1381\",\"type\":\"Grid\"},{\"attributes\":{},\"id\":\"1377\",\"type\":\"LinearScale\"},{\"attributes\":{\"text_color\":\"black\",\"text_font_size\":\"12pt\"},\"id\":\"1371\",\"type\":\"Title\"},{\"attributes\":{\"margin\":[5,5,5,5],\"name\":\"HSpacer02074\",\"sizing_mode\":\"stretch_width\"},\"id\":\"1434\",\"type\":\"Spacer\"},{\"attributes\":{\"fill_color\":{\"value\":\"#30a2da\"},\"top\":{\"field\":\"A_0\"},\"width\":{\"value\":0.8},\"x\":{\"field\":\"index\"}},\"id\":\"1402\",\"type\":\"VBar\"},{\"attributes\":{\"data\":{\"A_0\":{\"__ndarray__\":\"CwAAAA4AAAARAAAAFAAAABgAAAAbAAAAGwAAACYAAAAqAAAALAAAADIAAAAzAAAAOQAAADkAAAA7AAAAPgAAAEAAAABDAAAARQAAAEcAAAA=\",\"dtype\":\"int32\",\"order\":\"little\",\"shape\":[20]},\"index\":[\"2595\",\"1228\",\"5311\",\"4888\",\"4260\",\"1139\",\"787\",\"6957\",\"4643\",\"1552\",\"2095\",\"5019\",\"3555\",\"5047\",\"907\",\"3966\",\"6495\",\"4651\",\"6433\",\"6923\"]},\"selected\":{\"id\":\"1400\"},\"selection_policy\":{\"id\":\"1422\"}},\"id\":\"1399\",\"type\":\"ColumnDataSource\"},{\"attributes\":{\"callback\":null,\"renderers\":[{\"id\":\"1405\"}],\"tags\":[\"hv_created\"],\"tooltips\":[[\"index\",\"@{index}\"],[\"0\",\"@{A_0}\"]]},\"id\":\"1369\",\"type\":\"HoverTool\"},{\"attributes\":{},\"id\":\"1380\",\"type\":\"CategoricalTicker\"},{\"attributes\":{},\"id\":\"1410\",\"type\":\"AllLabels\"},{\"attributes\":{\"bottom\":{\"value\":0},\"fill_alpha\":{\"value\":1.0},\"fill_color\":{\"value\":\"#30a2da\"},\"hatch_alpha\":{\"value\":1.0},\"hatch_color\":{\"value\":\"black\"},\"hatch_scale\":{\"value\":12.0},\"hatch_weight\":{\"value\":1.0},\"line_alpha\":{\"value\":1.0},\"line_cap\":{\"value\":\"butt\"},\"line_color\":{\"value\":\"black\"},\"line_dash\":{\"value\":[]},\"line_dash_offset\":{\"value\":0},\"line_join\":{\"value\":\"bevel\"},\"line_width\":{\"value\":1},\"top\":{\"field\":\"A_0\"},\"width\":{\"value\":0.8},\"x\":{\"field\":\"index\"}},\"id\":\"1407\",\"type\":\"VBar\"},{\"attributes\":{\"axis\":{\"id\":\"1382\"},\"dimension\":1,\"grid_line_color\":null,\"ticker\":null},\"id\":\"1385\",\"type\":\"Grid\"},{\"attributes\":{\"end\":77.0,\"reset_end\":77.0,\"reset_start\":0.0,\"tags\":[[[\"0\",\"0\",null]]]},\"id\":\"1368\",\"type\":\"Range1d\"},{\"attributes\":{},\"id\":\"1383\",\"type\":\"BasicTicker\"},{\"attributes\":{\"axis_label\":\"0\",\"formatter\":{\"id\":\"1412\"},\"major_label_policy\":{\"id\":\"1413\"},\"ticker\":{\"id\":\"1383\"}},\"id\":\"1382\",\"type\":\"LinearAxis\"},{\"attributes\":{\"children\":[{\"id\":\"1366\"},{\"id\":\"1370\"},{\"id\":\"1434\"}],\"margin\":[0,0,0,0],\"name\":\"Row02069\",\"tags\":[\"embedded\"]},\"id\":\"1365\",\"type\":\"Row\"},{\"attributes\":{},\"id\":\"1408\",\"type\":\"CategoricalTickFormatter\"},{\"attributes\":{\"bottom_units\":\"screen\",\"fill_alpha\":0.5,\"fill_color\":\"lightgrey\",\"left_units\":\"screen\",\"level\":\"overlay\",\"line_alpha\":1.0,\"line_color\":\"black\",\"line_dash\":[4,4],\"line_width\":2,\"right_units\":\"screen\",\"syncable\":false,\"top_units\":\"screen\"},\"id\":\"1391\",\"type\":\"BoxAnnotation\"},{\"attributes\":{\"margin\":[5,5,5,5],\"name\":\"HSpacer02073\",\"sizing_mode\":\"stretch_width\"},\"id\":\"1366\",\"type\":\"Spacer\"},{\"attributes\":{\"active_multi\":null,\"tools\":[{\"id\":\"1369\"},{\"id\":\"1386\"},{\"id\":\"1387\"},{\"id\":\"1388\"},{\"id\":\"1389\"},{\"id\":\"1390\"}]},\"id\":\"1392\",\"type\":\"Toolbar\"}],\"root_ids\":[\"1365\"]},\"title\":\"Bokeh Application\",\"version\":\"2.3.2\"}};\n",
       "    var render_items = [{\"docid\":\"425a5205-7467-4108-8ec4-9fa67d1fcffc\",\"root_ids\":[\"1365\"],\"roots\":{\"1365\":\"3b22cae9-e83f-44d2-af0f-617715118d89\"}}];\n",
       "    root.Bokeh.embed.embed_items_notebook(docs_json, render_items);\n",
       "  }\n",
       "  if (root.Bokeh !== undefined && root.Bokeh.Panel !== undefined) {\n",
       "    embed_document(root);\n",
       "  } else {\n",
       "    var attempts = 0;\n",
       "    var timer = setInterval(function(root) {\n",
       "      if (root.Bokeh !== undefined && root.Bokeh.Panel !== undefined) {\n",
       "        clearInterval(timer);\n",
       "        embed_document(root);\n",
       "      } else if (document.readyState == \"complete\") {\n",
       "        attempts++;\n",
       "        if (attempts > 100) {\n",
       "          clearInterval(timer);\n",
       "          console.log(\"Bokeh: ERROR: Unable to run BokehJS code because BokehJS library is missing\");\n",
       "        }\n",
       "      }\n",
       "    }, 10, root)\n",
       "  }\n",
       "})(window);</script>"
      ],
      "text/plain": [
       ":Bars   [index]   (0)"
      ]
     },
     "execution_count": 21,
     "metadata": {
      "application/vnd.holoviews_exec.v0+json": {
       "id": "1365"
      }
     },
     "output_type": "execute_result"
    }
   ],
   "source": [
    "flight_data_sort.hvplot.bar()"
   ]
  }
 ],
 "metadata": {
  "kernel_info": {
   "name": "python3"
  },
  "kernelspec": {
   "display_name": "Python 3",
   "language": "python",
   "name": "python3"
  },
  "language_info": {
   "codemirror_mode": {
    "name": "ipython",
    "version": 3
   },
   "file_extension": ".py",
   "mimetype": "text/x-python",
   "name": "python",
   "nbconvert_exporter": "python",
   "pygments_lexer": "ipython3",
   "version": "3.7.10"
  },
  "nteract": {
   "version": "0.12.3"
  }
 },
 "nbformat": 4,
 "nbformat_minor": 4
}
