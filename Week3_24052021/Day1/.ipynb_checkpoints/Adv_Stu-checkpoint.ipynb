{
 "cells": [
  {
   "cell_type": "code",
   "execution_count": 14,
   "metadata": {},
   "outputs": [],
   "source": [
    "from set_operations import hero1\n",
    "from set_operations import hero2"
   ]
  },
  {
   "cell_type": "code",
   "execution_count": 28,
   "metadata": {},
   "outputs": [
    {
     "name": "stdout",
     "output_type": "stream",
     "text": [
      "Hero1: {'rich', 'strong', 'armored', 'martial_artist', 'smart'}\n",
      "Type of hero1: <class 'set'>\n",
      "hero2: {'antigravity', 'strong', 'invulnerable', 'fast', 'smart'}\n",
      "Type of hero2: <class 'set'>\n"
     ]
    }
   ],
   "source": [
    "print(f\"Hero1: {hero1}\")\n",
    "print(f\"Type of hero1: {type(hero1)}\")\n",
    "print(f\"hero2: {hero2}\")\n",
    "print(f\"Type of hero2: {type(hero2)}\")"
   ]
  },
  {
   "cell_type": "code",
   "execution_count": 30,
   "metadata": {},
   "outputs": [
    {
     "name": "stdout",
     "output_type": "stream",
     "text": [
      "******************************\n",
      "Union Set Operation\n",
      "Union: {'rich', 'antigravity', 'strong', 'armored', 'invulnerable', 'fast', 'martial_artist', 'smart'}\n"
     ]
    }
   ],
   "source": [
    "# Attributes for both heros (union)\n",
    "print(\"*\"*30)\n",
    "print(\"Union Set Operation\")\n",
    "print(f\"Union: {hero1.union(hero2)}\")"
   ]
  },
  {
   "cell_type": "code",
   "execution_count": 33,
   "metadata": {},
   "outputs": [
    {
     "name": "stdout",
     "output_type": "stream",
     "text": [
      "******************************\n",
      "Intersection Set Operation\n",
      "Intersection: {'strong', 'smart'}\n"
     ]
    }
   ],
   "source": [
    "# Attributes common to both heros (intersection)\n",
    "print(\"*\"*30)\n",
    "print(\"Intersection Set Operation\")\n",
    "print(f\"Intersection: {hero1.intersection(hero2)}\")"
   ]
  },
  {
   "cell_type": "code",
   "execution_count": 36,
   "metadata": {},
   "outputs": [
    {
     "name": "stdout",
     "output_type": "stream",
     "text": [
      "******************************\n",
      "Difference Set Operation (elements in hero1 that are not in hero2)\n",
      "Difference: {'rich', 'martial_artist', 'armored'}\n"
     ]
    }
   ],
   "source": [
    "# Attributes in hero1 that are not in hero2 (difference)\n",
    "print(\"*\"*30)\n",
    "print(\"Difference Set Operation (elements in hero1 that are not in hero2)\")\n",
    "print(f\"Difference: {hero1.difference(hero2)}\")"
   ]
  },
  {
   "cell_type": "code",
   "execution_count": 38,
   "metadata": {},
   "outputs": [
    {
     "name": "stdout",
     "output_type": "stream",
     "text": [
      "******************************\n",
      "Difference Set Operation (elements in hero2 that are not in hero1)\n",
      "Difference: {'antigravity', 'invulnerable', 'fast'}\n"
     ]
    }
   ],
   "source": [
    "# Attributes in hero2 that are not in hero1 (difference)\n",
    "print(\"*\"*30)\n",
    "print(\"Difference Set Operation (elements in hero2 that are not in hero1)\")\n",
    "print(f\"Difference: {hero2.difference(hero1)}\")"
   ]
  },
  {
   "cell_type": "code",
   "execution_count": 39,
   "metadata": {},
   "outputs": [
    {
     "name": "stdout",
     "output_type": "stream",
     "text": [
      "******************************\n",
      "Symmetric Difference Set Operation\n",
      "Symmetric difference: {'antigravity', 'rich', 'fast', 'armored', 'invulnerable', 'martial_artist'}\n",
      "Symmetric difference: {'rich', 'antigravity', 'fast', 'armored', 'invulnerable', 'martial_artist'}\n"
     ]
    }
   ],
   "source": [
    "# Attributes for hero1 or hero2 but not both (symmetric difference: elements that are either in hero1 or hero2)\n",
    "print(\"*\"*30)\n",
    "print(\"Symmetric Difference Set Operation\")\n",
    "print(f\"Symmetric difference: {hero1.symmetric_difference(hero2)}\")\n",
    "print(f\"Symmetric difference: {hero2.symmetric_difference(hero1)}\")"
   ]
  }
 ],
 "metadata": {
  "kernelspec": {
   "display_name": "Python 3",
   "language": "python",
   "name": "python3"
  },
  "language_info": {
   "codemirror_mode": {
    "name": "ipython",
    "version": 3
   },
   "file_extension": ".py",
   "mimetype": "text/x-python",
   "name": "python",
   "nbconvert_exporter": "python",
   "pygments_lexer": "ipython3",
   "version": "3.7.1"
  }
 },
 "nbformat": 4,
 "nbformat_minor": 2
}
