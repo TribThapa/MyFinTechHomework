{
 "cells": [
  {
   "cell_type": "code",
   "execution_count": 13,
   "metadata": {},
   "outputs": [],
   "source": [
    "#Topic Strings\n",
    "# Create a variable named `subject` with no value (None). # Assign a value of \"Programmers to the variable `subject`.\n",
    "subject = 'Programmers'\n",
    "\n",
    "# Create a variable, `first_name`, and assign it a value of an empty string. # Assign a value of \"Ada\" to the variable `first_name`.\n",
    "first_name = 'Ada'\n",
    "\n",
    "# Create a variable, `last_name`, and assign it a value of a string, \"Lovelace\".\n",
    "last_name = 'Lovelace'\n",
    "\n",
    "# Create a variable, `full_name`, and assign it a value of the combination of `first_name` and `last_name` with a space.\n",
    "full_name = f'{first_name} {last_name}'\n",
    "#print(full_name)\n",
    "\n",
    "# Create a variable, `profession`, and assign it a value of a string, \"Computer Programmer\".\n",
    "profession = 'Computer Programmer'\n",
    "\n",
    "# Create a variable, `known_for`, and assign it a value of a string, \"First Computer Programmer\".\n",
    "known_for = 'First Computer Programmer'\n",
    "\n",
    "# Create a variable, `first_algorithm`, and assign it a value of a string, \"Analytical Engine\".\n",
    "first_algorithm = 'Analytical Engine'\n",
    "\n",
    "# Create a variable, `city_location`, and assign it a value of a string, \"London\".\n",
    "city_location = 'London'\n",
    "\n",
    "# Create a variable, `country_location`, and assign it a value of a string, \"England\".\n",
    "country_location = 'England'\n",
    "\n",
    "# Create a variable, `nationality`, and assign it a value of a string, \"British\".\n",
    "nationality = 'British'"
   ]
  },
  {
   "cell_type": "code",
   "execution_count": 14,
   "metadata": {},
   "outputs": [],
   "source": [
    "# Topic: Integers\n",
    "# Create a variable, `birth_year`, and assign it with an integer of 1815.\n",
    "birth_year = 1815\n",
    "#print(birth_year)\n",
    "\n",
    "# Create a variable, `death_year`, and assign it with an integer of 1852.\n",
    "death_year = 1852\n",
    "\n",
    "# Create a variable, `age_at_passing`, and assign it a value of death_year minus birth_year.\n",
    "age_at_passing = (death_year - birth_year)\n",
    "#print(age_at_passing)\n",
    "\n",
    "# Create a variable, `year_of_publish`, and assign it with an integer of 1842.\n",
    "year_of_publish = 1842"
   ]
  },
  {
   "cell_type": "code",
   "execution_count": 15,
   "metadata": {},
   "outputs": [
    {
     "name": "stdout",
     "output_type": "stream",
     "text": [
      "First Name: Ada\n",
      "Last Name: Lovelace\n",
      "Profession: Computer Programmer\n",
      "BirthYear: 1815\n"
     ]
    }
   ],
   "source": [
    "#Topic: Print\n",
    "# Print: \"First Name: \" and `first_name`.# Print: \"Last Name: \" and `last_name`. # Print: \"Profession: \" and `profession`. # Print: \"BirthYear: \" and `birth_year`.\n",
    "print(f'First Name: {first_name}')\n",
    "print(f'Last Name: {last_name}')\n",
    "print(f'Profession: {profession}')\n",
    "print(f'BirthYear: {birth_year}')"
   ]
  },
  {
   "cell_type": "code",
   "execution_count": 23,
   "metadata": {},
   "outputs": [
    {
     "name": "stdout",
     "output_type": "stream",
     "text": [
      "Progammers: Ada Lovelace is a British Computer Programmer born in 1815.\n",
      "She is commonly referred to as the First Computer Programmer.\n",
      "In 1842 she published the first algorithm, the Analytical Engine, at the age of 27.\n",
      "She was a British Citizen who lived in London, England until her passing in 1852 at the age of 37.\n"
     ]
    }
   ],
   "source": [
    "#Topic: Concat Values\n",
    "# Create and print a variable, `statement_one`, by assigning it a value of a concatenated string:\n",
    "# \"Programmers: Ada Lovelace is a British Computer Programmer born in 1815.\n",
    "statement_one = print(f\"Progammers: {first_name} {last_name} is a {nationality} {profession} born in {birth_year}.\")\n",
    "\n",
    "# Create and print a variable, `statement_two`, by assigning it a value of a concatenated string:\n",
    "# \"She is commonly referred to as the First Computer Programmer.\"\n",
    "\n",
    "statement_two = print(f\"She is commonly referred to as the {known_for}.\")\n",
    "\n",
    "# Create and print a variable, `statement_three`, by assigning it a value of a concatenated string:\n",
    "# \"In 1842 she published the first Algorithm, the Analytical Engine, at the age of 27.\"\n",
    "statement_three = print(f\"In {year_of_publish} she published the first algorithm, the {first_algorithm}, at the age of {year_of_publish - birth_year}.\")\n",
    "\n",
    "# Create and print a variable, `statement_four`, by assigning it a value of a concatenated string:\n",
    "# \"She was a British Citizen who lived in London, England until her passing in 1852 at the age of 37.\"\n",
    "statement_four = print(f\"She was a {nationality} Citizen who lived in {city_location}, {country_location} until her passing in {death_year} at the age of {death_year - birth_year}.\")"
   ]
  }
 ],
 "metadata": {
  "kernelspec": {
   "display_name": "Python 3",
   "language": "python",
   "name": "python3"
  },
  "language_info": {
   "codemirror_mode": {
    "name": "ipython",
    "version": 3
   },
   "file_extension": ".py",
   "mimetype": "text/x-python",
   "name": "python",
   "nbconvert_exporter": "python",
   "pygments_lexer": "ipython3",
   "version": "3.7.1"
  }
 },
 "nbformat": 4,
 "nbformat_minor": 2
}
