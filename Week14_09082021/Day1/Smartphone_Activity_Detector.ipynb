{
 "cells": [
  {
   "cell_type": "markdown",
   "metadata": {},
   "source": [
    "# Neural Network Smartphone Activity Detector\n",
    "\n",
    "In this activity, you will train a neural network to use smartphone data to predict the activity of the user. \n",
    "\n",
    "This dataset has already been separated into input features and target activities. Additional information on the dataset can be found here. \n",
    "\n",
    "http://archive.ics.uci.edu/ml/datasets/Smartphone-Based+Recognition+of+Human+Activities+and+Postural+Transitions"
   ]
  },
  {
   "cell_type": "markdown",
   "metadata": {},
   "source": [
    "### Data Pre-Processing\n",
    "\n",
    "Prepare the data for the neural network. This includes splitting the data into a training and testing dataset, Scaling the data, and encoding the categorical target values"
   ]
  },
  {
   "cell_type": "code",
   "execution_count": 19,
   "metadata": {},
   "outputs": [],
   "source": [
    "import numpy as np\n",
    "import pandas as pd\n",
    "\n",
    "from sklearn.model_selection import train_test_split\n",
    "from sklearn.preprocessing import StandardScaler, OneHotEncoder\n",
    "\n",
    "import tensorflow as tf\n",
    "from tensorflow.keras.models import Sequential\n",
    "from tensorflow.keras.layers import Dense"
   ]
  },
  {
   "cell_type": "code",
   "execution_count": 2,
   "metadata": {},
   "outputs": [
    {
     "data": {
      "text/html": [
       "<div>\n",
       "<style scoped>\n",
       "    .dataframe tbody tr th:only-of-type {\n",
       "        vertical-align: middle;\n",
       "    }\n",
       "\n",
       "    .dataframe tbody tr th {\n",
       "        vertical-align: top;\n",
       "    }\n",
       "\n",
       "    .dataframe thead th {\n",
       "        text-align: right;\n",
       "    }\n",
       "</style>\n",
       "<table border=\"1\" class=\"dataframe\">\n",
       "  <thead>\n",
       "    <tr style=\"text-align: right;\">\n",
       "      <th></th>\n",
       "      <th>0</th>\n",
       "      <th>1</th>\n",
       "      <th>2</th>\n",
       "      <th>3</th>\n",
       "      <th>4</th>\n",
       "      <th>5</th>\n",
       "      <th>6</th>\n",
       "      <th>7</th>\n",
       "      <th>8</th>\n",
       "      <th>9</th>\n",
       "      <th>...</th>\n",
       "      <th>551</th>\n",
       "      <th>552</th>\n",
       "      <th>553</th>\n",
       "      <th>554</th>\n",
       "      <th>555</th>\n",
       "      <th>556</th>\n",
       "      <th>557</th>\n",
       "      <th>558</th>\n",
       "      <th>559</th>\n",
       "      <th>560</th>\n",
       "    </tr>\n",
       "  </thead>\n",
       "  <tbody>\n",
       "    <tr>\n",
       "      <th>0</th>\n",
       "      <td>0.043580</td>\n",
       "      <td>-0.005970</td>\n",
       "      <td>-0.035054</td>\n",
       "      <td>-0.995381</td>\n",
       "      <td>-0.988366</td>\n",
       "      <td>-0.937382</td>\n",
       "      <td>-0.995007</td>\n",
       "      <td>-0.988816</td>\n",
       "      <td>-0.953325</td>\n",
       "      <td>-0.794796</td>\n",
       "      <td>...</td>\n",
       "      <td>-0.012236</td>\n",
       "      <td>-0.314848</td>\n",
       "      <td>-0.713308</td>\n",
       "      <td>-0.112754</td>\n",
       "      <td>0.030400</td>\n",
       "      <td>-0.464761</td>\n",
       "      <td>-0.018446</td>\n",
       "      <td>-0.841559</td>\n",
       "      <td>0.179913</td>\n",
       "      <td>-0.051718</td>\n",
       "    </tr>\n",
       "    <tr>\n",
       "      <th>1</th>\n",
       "      <td>0.039480</td>\n",
       "      <td>-0.002131</td>\n",
       "      <td>-0.029067</td>\n",
       "      <td>-0.998348</td>\n",
       "      <td>-0.982945</td>\n",
       "      <td>-0.971273</td>\n",
       "      <td>-0.998702</td>\n",
       "      <td>-0.983315</td>\n",
       "      <td>-0.974000</td>\n",
       "      <td>-0.802537</td>\n",
       "      <td>...</td>\n",
       "      <td>0.202804</td>\n",
       "      <td>-0.603199</td>\n",
       "      <td>-0.860677</td>\n",
       "      <td>0.053477</td>\n",
       "      <td>-0.007435</td>\n",
       "      <td>-0.732626</td>\n",
       "      <td>0.703511</td>\n",
       "      <td>-0.845092</td>\n",
       "      <td>0.180261</td>\n",
       "      <td>-0.047436</td>\n",
       "    </tr>\n",
       "    <tr>\n",
       "      <th>2</th>\n",
       "      <td>0.039978</td>\n",
       "      <td>-0.005153</td>\n",
       "      <td>-0.022651</td>\n",
       "      <td>-0.995482</td>\n",
       "      <td>-0.977314</td>\n",
       "      <td>-0.984760</td>\n",
       "      <td>-0.996415</td>\n",
       "      <td>-0.975835</td>\n",
       "      <td>-0.985973</td>\n",
       "      <td>-0.798477</td>\n",
       "      <td>...</td>\n",
       "      <td>0.440079</td>\n",
       "      <td>-0.404427</td>\n",
       "      <td>-0.761847</td>\n",
       "      <td>-0.118559</td>\n",
       "      <td>0.177899</td>\n",
       "      <td>0.100699</td>\n",
       "      <td>0.808529</td>\n",
       "      <td>-0.849230</td>\n",
       "      <td>0.180610</td>\n",
       "      <td>-0.042271</td>\n",
       "    </tr>\n",
       "    <tr>\n",
       "      <th>3</th>\n",
       "      <td>0.039785</td>\n",
       "      <td>-0.011809</td>\n",
       "      <td>-0.028916</td>\n",
       "      <td>-0.996194</td>\n",
       "      <td>-0.988569</td>\n",
       "      <td>-0.993256</td>\n",
       "      <td>-0.996994</td>\n",
       "      <td>-0.988526</td>\n",
       "      <td>-0.993135</td>\n",
       "      <td>-0.798477</td>\n",
       "      <td>...</td>\n",
       "      <td>0.430891</td>\n",
       "      <td>-0.138373</td>\n",
       "      <td>-0.491604</td>\n",
       "      <td>-0.036788</td>\n",
       "      <td>-0.012892</td>\n",
       "      <td>0.640011</td>\n",
       "      <td>-0.485366</td>\n",
       "      <td>-0.848947</td>\n",
       "      <td>0.181907</td>\n",
       "      <td>-0.040826</td>\n",
       "    </tr>\n",
       "    <tr>\n",
       "      <th>4</th>\n",
       "      <td>0.038758</td>\n",
       "      <td>-0.002289</td>\n",
       "      <td>-0.023863</td>\n",
       "      <td>-0.998241</td>\n",
       "      <td>-0.986774</td>\n",
       "      <td>-0.993115</td>\n",
       "      <td>-0.998216</td>\n",
       "      <td>-0.986479</td>\n",
       "      <td>-0.993825</td>\n",
       "      <td>-0.801982</td>\n",
       "      <td>...</td>\n",
       "      <td>0.137735</td>\n",
       "      <td>-0.366214</td>\n",
       "      <td>-0.702490</td>\n",
       "      <td>0.123320</td>\n",
       "      <td>0.122542</td>\n",
       "      <td>0.693578</td>\n",
       "      <td>-0.615971</td>\n",
       "      <td>-0.848164</td>\n",
       "      <td>0.185124</td>\n",
       "      <td>-0.037080</td>\n",
       "    </tr>\n",
       "  </tbody>\n",
       "</table>\n",
       "<p>5 rows × 561 columns</p>\n",
       "</div>"
      ],
      "text/plain": [
       "        0         1         2         3         4         5         6    \\\n",
       "0  0.043580 -0.005970 -0.035054 -0.995381 -0.988366 -0.937382 -0.995007   \n",
       "1  0.039480 -0.002131 -0.029067 -0.998348 -0.982945 -0.971273 -0.998702   \n",
       "2  0.039978 -0.005153 -0.022651 -0.995482 -0.977314 -0.984760 -0.996415   \n",
       "3  0.039785 -0.011809 -0.028916 -0.996194 -0.988569 -0.993256 -0.996994   \n",
       "4  0.038758 -0.002289 -0.023863 -0.998241 -0.986774 -0.993115 -0.998216   \n",
       "\n",
       "        7         8         9    ...       551       552       553       554  \\\n",
       "0 -0.988816 -0.953325 -0.794796  ... -0.012236 -0.314848 -0.713308 -0.112754   \n",
       "1 -0.983315 -0.974000 -0.802537  ...  0.202804 -0.603199 -0.860677  0.053477   \n",
       "2 -0.975835 -0.985973 -0.798477  ...  0.440079 -0.404427 -0.761847 -0.118559   \n",
       "3 -0.988526 -0.993135 -0.798477  ...  0.430891 -0.138373 -0.491604 -0.036788   \n",
       "4 -0.986479 -0.993825 -0.801982  ...  0.137735 -0.366214 -0.702490  0.123320   \n",
       "\n",
       "        555       556       557       558       559       560  \n",
       "0  0.030400 -0.464761 -0.018446 -0.841559  0.179913 -0.051718  \n",
       "1 -0.007435 -0.732626  0.703511 -0.845092  0.180261 -0.047436  \n",
       "2  0.177899  0.100699  0.808529 -0.849230  0.180610 -0.042271  \n",
       "3 -0.012892  0.640011 -0.485366 -0.848947  0.181907 -0.040826  \n",
       "4  0.122542  0.693578 -0.615971 -0.848164  0.185124 -0.037080  \n",
       "\n",
       "[5 rows x 561 columns]"
      ]
     },
     "execution_count": 2,
     "metadata": {},
     "output_type": "execute_result"
    }
   ],
   "source": [
    "# Read the input features into `X`\n",
    "X = pd.read_csv(r\"C:\\Users\\TribThapa\\Desktop\\Thapa\\ResearchFellow\\Courses\\FinTech_Bootcamp_MonashUni2021\\monu-mel-virt-fin-pt-05-2021-u-c\\Activities\\Week 14\\1\\05-Stu_Smartphone\\Resources\\features.csv\",                 \n",
    "                header=None)\n",
    "\n",
    "X.head()"
   ]
  },
  {
   "cell_type": "code",
   "execution_count": 3,
   "metadata": {},
   "outputs": [
    {
     "data": {
      "text/html": [
       "<div>\n",
       "<style scoped>\n",
       "    .dataframe tbody tr th:only-of-type {\n",
       "        vertical-align: middle;\n",
       "    }\n",
       "\n",
       "    .dataframe tbody tr th {\n",
       "        vertical-align: top;\n",
       "    }\n",
       "\n",
       "    .dataframe thead th {\n",
       "        text-align: right;\n",
       "    }\n",
       "</style>\n",
       "<table border=\"1\" class=\"dataframe\">\n",
       "  <thead>\n",
       "    <tr style=\"text-align: right;\">\n",
       "      <th></th>\n",
       "      <th>activity</th>\n",
       "    </tr>\n",
       "  </thead>\n",
       "  <tbody>\n",
       "    <tr>\n",
       "      <th>0</th>\n",
       "      <td>standing</td>\n",
       "    </tr>\n",
       "    <tr>\n",
       "      <th>1</th>\n",
       "      <td>standing</td>\n",
       "    </tr>\n",
       "    <tr>\n",
       "      <th>2</th>\n",
       "      <td>standing</td>\n",
       "    </tr>\n",
       "    <tr>\n",
       "      <th>3</th>\n",
       "      <td>standing</td>\n",
       "    </tr>\n",
       "    <tr>\n",
       "      <th>4</th>\n",
       "      <td>standing</td>\n",
       "    </tr>\n",
       "  </tbody>\n",
       "</table>\n",
       "</div>"
      ],
      "text/plain": [
       "   activity\n",
       "0  standing\n",
       "1  standing\n",
       "2  standing\n",
       "3  standing\n",
       "4  standing"
      ]
     },
     "execution_count": 3,
     "metadata": {},
     "output_type": "execute_result"
    }
   ],
   "source": [
    "# Read the target values into `y`\n",
    "y = pd.read_csv(r\"C:\\Users\\TribThapa\\Desktop\\Thapa\\ResearchFellow\\Courses\\FinTech_Bootcamp_MonashUni2021\\monu-mel-virt-fin-pt-05-2021-u-c\\Activities\\Week 14\\1\\05-Stu_Smartphone\\Resources\\target.csv\")\n",
    "                \n",
    "y.head()"
   ]
  },
  {
   "cell_type": "code",
   "execution_count": 4,
   "metadata": {},
   "outputs": [
    {
     "data": {
      "text/plain": [
       "standing              1423\n",
       "laying                1413\n",
       "sitting               1293\n",
       "walking               1226\n",
       "walking_upstairs      1073\n",
       "walking_downstairs     987\n",
       "stand_to_lie            90\n",
       "sit_to_lie              75\n",
       "lie_to_sit              60\n",
       "lie_to_stand            57\n",
       "stand_to_sit            47\n",
       "sit_to_stand            23\n",
       "Name: activity, dtype: int64"
      ]
     },
     "execution_count": 4,
     "metadata": {},
     "output_type": "execute_result"
    }
   ],
   "source": [
    "y.activity.value_counts()"
   ]
  },
  {
   "cell_type": "code",
   "execution_count": 5,
   "metadata": {},
   "outputs": [],
   "source": [
    "# Split the dataset into training and testing data\n",
    "X_train, X_test, y_train, y_test = train_test_split(X,\n",
    "                                                    y,\n",
    "                                                    random_state=78)"
   ]
  },
  {
   "cell_type": "code",
   "execution_count": 6,
   "metadata": {},
   "outputs": [
    {
     "data": {
      "text/plain": [
       "StandardScaler()"
      ]
     },
     "execution_count": 6,
     "metadata": {},
     "output_type": "execute_result"
    }
   ],
   "source": [
    "# Scale the training and testing input features using StandardScaler\n",
    "scaler = StandardScaler()\n",
    "\n",
    "scaler.fit(X_train)"
   ]
  },
  {
   "cell_type": "code",
   "execution_count": 7,
   "metadata": {},
   "outputs": [],
   "source": [
    "X_train_scaled = scaler.transform(X_train)\n",
    "\n",
    "X_test_scaled = scaler.transform(X_test)"
   ]
  },
  {
   "cell_type": "code",
   "execution_count": 8,
   "metadata": {},
   "outputs": [],
   "source": [
    "# Apply One-hot encoding to the target labels\n",
    "enc = OneHotEncoder()"
   ]
  },
  {
   "cell_type": "code",
   "execution_count": 22,
   "metadata": {},
   "outputs": [
    {
     "data": {
      "text/plain": [
       "OneHotEncoder()"
      ]
     },
     "execution_count": 22,
     "metadata": {},
     "output_type": "execute_result"
    }
   ],
   "source": [
    "enc.fit(y_train)"
   ]
  },
  {
   "cell_type": "code",
   "execution_count": 23,
   "metadata": {},
   "outputs": [],
   "source": [
    "y_train_enc = enc.transform(y_train).toarray()\n",
    "\n",
    "y_test_enc = enc.transform(y_test).toarray()"
   ]
  },
  {
   "cell_type": "code",
   "execution_count": 24,
   "metadata": {},
   "outputs": [
    {
     "data": {
      "text/plain": [
       "[array(['laying', 'lie_to_sit', 'lie_to_stand', 'sit_to_lie',\n",
       "        'sit_to_stand', 'sitting', 'stand_to_lie', 'stand_to_sit',\n",
       "        'standing', 'walking', 'walking_downstairs', 'walking_upstairs'],\n",
       "       dtype=object)]"
      ]
     },
     "execution_count": 24,
     "metadata": {},
     "output_type": "execute_result"
    }
   ],
   "source": [
    "enc.categories_"
   ]
  },
  {
   "cell_type": "markdown",
   "metadata": {},
   "source": [
    "# Build a Deep Neural Network"
   ]
  },
  {
   "cell_type": "code",
   "execution_count": 12,
   "metadata": {},
   "outputs": [],
   "source": [
    "# Create a sequential model\n",
    "neuron = Sequential()"
   ]
  },
  {
   "cell_type": "code",
   "execution_count": 13,
   "metadata": {},
   "outputs": [],
   "source": [
    "# Add the first layer where the input dimensions are the 561 columns of the training data\n",
    "number_hidden_nodes = 100\n",
    "\n",
    "number_inputs = 561 #no. of rows\n",
    "\n",
    "neuron.add(Dense(units=number_hidden_nodes,\n",
    "                 activation=\"relu\",\n",
    "                 input_dim=number_inputs))"
   ]
  },
  {
   "cell_type": "code",
   "execution_count": 14,
   "metadata": {},
   "outputs": [
    {
     "data": {
      "text/plain": [
       "laying                1082\n",
       "standing              1062\n",
       "sitting                938\n",
       "walking                921\n",
       "walking_upstairs       824\n",
       "walking_downstairs     743\n",
       "stand_to_lie            70\n",
       "sit_to_lie              57\n",
       "lie_to_stand            42\n",
       "lie_to_sit              39\n",
       "stand_to_sit            29\n",
       "sit_to_stand            18\n",
       "Name: activity, dtype: int64"
      ]
     },
     "execution_count": 14,
     "metadata": {},
     "output_type": "execute_result"
    }
   ],
   "source": [
    "# The output layer has 12 columns that are one-hot encoded\n",
    "y_train.activity.value_counts()"
   ]
  },
  {
   "cell_type": "code",
   "execution_count": 15,
   "metadata": {},
   "outputs": [],
   "source": [
    "# Add output layer using 12 output nodes. \n",
    "# HINT: Use `softmax` as the activation \n",
    "number_outputs = 12 #no of outputs possible i.e., your target variable\n",
    "\n",
    "neuron.add(Dense(units=number_outputs,\n",
    "                 activation=\"softmax\"))"
   ]
  },
  {
   "cell_type": "code",
   "execution_count": 16,
   "metadata": {},
   "outputs": [],
   "source": [
    "# Compile the model using categorical_crossentropy for the loss function, the adam optimizer,\n",
    "# and add accuracy to the training metrics\n",
    "neuron.compile(loss=\"categorical_crossentropy\",\n",
    "               optimizer=\"adam\",\n",
    "               metrics=[\"accuracy\"])"
   ]
  },
  {
   "cell_type": "code",
   "execution_count": 17,
   "metadata": {},
   "outputs": [
    {
     "name": "stdout",
     "output_type": "stream",
     "text": [
      "Model: \"sequential\"\n",
      "_________________________________________________________________\n",
      "Layer (type)                 Output Shape              Param #   \n",
      "=================================================================\n",
      "dense (Dense)                (None, 100)               56200     \n",
      "_________________________________________________________________\n",
      "dense_1 (Dense)              (None, 12)                1212      \n",
      "=================================================================\n",
      "Total params: 57,412\n",
      "Trainable params: 57,412\n",
      "Non-trainable params: 0\n",
      "_________________________________________________________________\n"
     ]
    }
   ],
   "source": [
    "# Print the model summary\n",
    "neuron.summary()"
   ]
  },
  {
   "cell_type": "code",
   "execution_count": 20,
   "metadata": {},
   "outputs": [
    {
     "data": {
      "text/plain": [
       "(5825, 561)"
      ]
     },
     "execution_count": 20,
     "metadata": {},
     "output_type": "execute_result"
    }
   ],
   "source": [
    "X_train_scaled.shape"
   ]
  },
  {
   "cell_type": "code",
   "execution_count": 25,
   "metadata": {},
   "outputs": [
    {
     "name": "stdout",
     "output_type": "stream",
     "text": [
      "Epoch 1/50\n",
      "183/183 [==============================] - 1s 3ms/step - loss: 0.3942 - accuracy: 0.8615\n",
      "Epoch 2/50\n",
      "183/183 [==============================] - 1s 4ms/step - loss: 0.1264 - accuracy: 0.9562\n",
      "Epoch 3/50\n",
      "183/183 [==============================] - 1s 4ms/step - loss: 0.0945 - accuracy: 0.9662: 0s - loss: 0\n",
      "Epoch 4/50\n",
      "183/183 [==============================] - 1s 5ms/step - loss: 0.0677 - accuracy: 0.9767\n",
      "Epoch 5/50\n",
      "183/183 [==============================] - ETA: 0s - loss: 0.0572 - accuracy: 0.98 - 1s 4ms/step - loss: 0.0575 - accuracy: 0.9803\n",
      "Epoch 6/50\n",
      "183/183 [==============================] - 1s 5ms/step - loss: 0.0467 - accuracy: 0.9856\n",
      "Epoch 7/50\n",
      "183/183 [==============================] - 1s 5ms/step - loss: 0.0421 - accuracy: 0.9844: 0s - loss: 0.0367  - ETA: 0s - loss: 0.0404 - accuracy - ETA: 0s - loss: 0.0422 - accuracy: 0.98\n",
      "Epoch 8/50\n",
      "183/183 [==============================] - 1s 4ms/step - loss: 0.0401 - accuracy: 0.9856\n",
      "Epoch 9/50\n",
      "183/183 [==============================] - 1s 3ms/step - loss: 0.0347 - accuracy: 0.9882\n",
      "Epoch 10/50\n",
      "183/183 [==============================] - 1s 3ms/step - loss: 0.0394 - accuracy: 0.9847\n",
      "Epoch 11/50\n",
      "183/183 [==============================] - 1s 3ms/step - loss: 0.0277 - accuracy: 0.9907\n",
      "Epoch 12/50\n",
      "183/183 [==============================] - 1s 3ms/step - loss: 0.0272 - accuracy: 0.9902\n",
      "Epoch 13/50\n",
      "183/183 [==============================] - 1s 3ms/step - loss: 0.0305 - accuracy: 0.9894\n",
      "Epoch 14/50\n",
      "183/183 [==============================] - 1s 3ms/step - loss: 0.0302 - accuracy: 0.9900\n",
      "Epoch 15/50\n",
      "183/183 [==============================] - 1s 3ms/step - loss: 0.0166 - accuracy: 0.9942\n",
      "Epoch 16/50\n",
      "183/183 [==============================] - 1s 4ms/step - loss: 0.0119 - accuracy: 0.9967\n",
      "Epoch 17/50\n",
      "183/183 [==============================] - 1s 4ms/step - loss: 0.0094 - accuracy: 0.9976: 0s - loss:\n",
      "Epoch 18/50\n",
      "183/183 [==============================] - ETA: 0s - loss: 0.0159 - accuracy: 0.99 - 1s 4ms/step - loss: 0.0152 - accuracy: 0.9943\n",
      "Epoch 19/50\n",
      "183/183 [==============================] - 1s 3ms/step - loss: 0.0114 - accuracy: 0.9955\n",
      "Epoch 20/50\n",
      "183/183 [==============================] - 1s 3ms/step - loss: 0.0080 - accuracy: 0.9976\n",
      "Epoch 21/50\n",
      "183/183 [==============================] - 1s 3ms/step - loss: 0.0047 - accuracy: 0.9995\n",
      "Epoch 22/50\n",
      "183/183 [==============================] - 1s 3ms/step - loss: 0.0063 - accuracy: 0.9978\n",
      "Epoch 23/50\n",
      "183/183 [==============================] - 1s 3ms/step - loss: 0.0046 - accuracy: 0.9990\n",
      "Epoch 24/50\n",
      "183/183 [==============================] - 1s 3ms/step - loss: 0.0067 - accuracy: 0.9981: 0s - loss: 0.0072 - accuracy\n",
      "Epoch 25/50\n",
      "183/183 [==============================] - 1s 3ms/step - loss: 0.0021 - accuracy: 0.9998\n",
      "Epoch 26/50\n",
      "183/183 [==============================] - 1s 3ms/step - loss: 0.0014 - accuracy: 1.0000\n",
      "Epoch 27/50\n",
      "183/183 [==============================] - 1s 4ms/step - loss: 0.0013 - accuracy: 1.0000: 0s - loss: 0.0011 \n",
      "Epoch 28/50\n",
      "183/183 [==============================] - 1s 4ms/step - loss: 0.0013 - accuracy: 1.0000 ETA: 0s - loss: 7.8533e-0\n",
      "Epoch 29/50\n",
      "183/183 [==============================] - 1s 4ms/step - loss: 0.0012 - accuracy: 1.0000\n",
      "Epoch 30/50\n",
      "183/183 [==============================] - 1s 3ms/step - loss: 8.2099e-04 - accuracy: 1.0000\n",
      "Epoch 31/50\n",
      "183/183 [==============================] - 1s 3ms/step - loss: 6.5466e-04 - accuracy: 1.0000: 0s - loss: 5.9408e-04 - accuracy: \n",
      "Epoch 32/50\n",
      "183/183 [==============================] - 1s 3ms/step - loss: 5.5753e-04 - accuracy: 1.0000\n",
      "Epoch 33/50\n",
      "183/183 [==============================] - 1s 3ms/step - loss: 5.6469e-04 - accuracy: 1.0000\n",
      "Epoch 34/50\n",
      "183/183 [==============================] - 1s 3ms/step - loss: 4.0844e-04 - accuracy: 1.0000\n",
      "Epoch 35/50\n",
      "183/183 [==============================] - 1s 3ms/step - loss: 3.3661e-04 - accuracy: 1.0000\n",
      "Epoch 36/50\n",
      "183/183 [==============================] - 1s 3ms/step - loss: 3.6259e-04 - accuracy: 1.0000\n",
      "Epoch 37/50\n",
      "183/183 [==============================] - 0s 2ms/step - loss: 2.9682e-04 - accuracy: 1.0000\n",
      "Epoch 38/50\n",
      "183/183 [==============================] - 1s 4ms/step - loss: 2.6043e-04 - accuracy: 1.0000\n",
      "Epoch 39/50\n",
      "183/183 [==============================] - 1s 4ms/step - loss: 0.0378 - accuracy: 0.9933 ETA: 0s - loss: 4.5156e-04 - ac\n",
      "Epoch 40/50\n",
      "183/183 [==============================] - 1s 4ms/step - loss: 0.1425 - accuracy: 0.9667\n",
      "Epoch 41/50\n",
      "183/183 [==============================] - 1s 4ms/step - loss: 0.0172 - accuracy: 0.9950\n",
      "Epoch 42/50\n",
      "183/183 [==============================] - 1s 4ms/step - loss: 0.0041 - accuracy: 0.9986: 0s - loss: 0.0053 - accura\n",
      "Epoch 43/50\n",
      "183/183 [==============================] - 1s 3ms/step - loss: 0.0010 - accuracy: 1.0000\n",
      "Epoch 44/50\n",
      "183/183 [==============================] - 1s 4ms/step - loss: 6.9159e-04 - accuracy: 1.0000\n",
      "Epoch 45/50\n",
      "183/183 [==============================] - 1s 4ms/step - loss: 5.7011e-04 - accuracy: 1.0000: 0s - loss: 5.6826e-04 - accuracy\n",
      "Epoch 46/50\n",
      "183/183 [==============================] - 1s 4ms/step - loss: 4.4311e-04 - accuracy: 1.0000\n",
      "Epoch 47/50\n",
      "183/183 [==============================] - 1s 3ms/step - loss: 4.0619e-04 - accuracy: 1.0000\n",
      "Epoch 48/50\n",
      "183/183 [==============================] - 1s 4ms/step - loss: 3.7865e-04 - accuracy: 1.0000\n",
      "Epoch 49/50\n",
      "183/183 [==============================] - 1s 4ms/step - loss: 3.4279e-04 - accuracy: 1.0000\n",
      "Epoch 50/50\n",
      "183/183 [==============================] - 1s 6ms/step - loss: 3.2700e-04 - accuracy: 1.0000\n"
     ]
    }
   ],
   "source": [
    "# Use the training data to fit (train) the model\n",
    "# @NOTE: Experiment with the number of training epochs to find the minimum iterations required to achieve a good accuracy\n",
    "model = neuron.fit(X_train_scaled,\n",
    "                   y_train_enc, \n",
    "                   epochs=50)"
   ]
  },
  {
   "cell_type": "markdown",
   "metadata": {},
   "source": [
    "# Evaluate the Model"
   ]
  },
  {
   "cell_type": "code",
   "execution_count": 27,
   "metadata": {},
   "outputs": [
    {
     "name": "stdout",
     "output_type": "stream",
     "text": [
      "61/61 - 0s - loss: 0.1521 - accuracy: 0.9619\n",
      "Loss: 0.15208066999912262 \n",
      " Accuracy: 0.9618949294090271\n"
     ]
    }
   ],
   "source": [
    "# Evaluate the model using the testing data\n",
    "model_loss, model_accuracy = neuron.evaluate(X_test_scaled,\n",
    "                                             y_test_enc,\n",
    "                                             verbose=2)\n",
    "\n",
    "print(f\"Loss: {model_loss} \\n\",\n",
    "      f\"Accuracy: {model_accuracy}\")"
   ]
  },
  {
   "cell_type": "code",
   "execution_count": 32,
   "metadata": {},
   "outputs": [
    {
     "data": {
      "text/html": [
       "<div>\n",
       "<style scoped>\n",
       "    .dataframe tbody tr th:only-of-type {\n",
       "        vertical-align: middle;\n",
       "    }\n",
       "\n",
       "    .dataframe tbody tr th {\n",
       "        vertical-align: top;\n",
       "    }\n",
       "\n",
       "    .dataframe thead th {\n",
       "        text-align: right;\n",
       "    }\n",
       "</style>\n",
       "<table border=\"1\" class=\"dataframe\">\n",
       "  <thead>\n",
       "    <tr style=\"text-align: right;\">\n",
       "      <th></th>\n",
       "      <th>Actual</th>\n",
       "      <th>Predicted</th>\n",
       "    </tr>\n",
       "  </thead>\n",
       "  <tbody>\n",
       "    <tr>\n",
       "      <th>0</th>\n",
       "      <td>walking_upstairs</td>\n",
       "      <td>walking_upstairs</td>\n",
       "    </tr>\n",
       "    <tr>\n",
       "      <th>1</th>\n",
       "      <td>walking</td>\n",
       "      <td>walking</td>\n",
       "    </tr>\n",
       "    <tr>\n",
       "      <th>2</th>\n",
       "      <td>walking_downstairs</td>\n",
       "      <td>walking_downstairs</td>\n",
       "    </tr>\n",
       "    <tr>\n",
       "      <th>3</th>\n",
       "      <td>laying</td>\n",
       "      <td>laying</td>\n",
       "    </tr>\n",
       "    <tr>\n",
       "      <th>4</th>\n",
       "      <td>walking_upstairs</td>\n",
       "      <td>walking_upstairs</td>\n",
       "    </tr>\n",
       "    <tr>\n",
       "      <th>5</th>\n",
       "      <td>sitting</td>\n",
       "      <td>sitting</td>\n",
       "    </tr>\n",
       "    <tr>\n",
       "      <th>6</th>\n",
       "      <td>standing</td>\n",
       "      <td>standing</td>\n",
       "    </tr>\n",
       "    <tr>\n",
       "      <th>7</th>\n",
       "      <td>walking_downstairs</td>\n",
       "      <td>walking_downstairs</td>\n",
       "    </tr>\n",
       "    <tr>\n",
       "      <th>8</th>\n",
       "      <td>walking_downstairs</td>\n",
       "      <td>walking_downstairs</td>\n",
       "    </tr>\n",
       "    <tr>\n",
       "      <th>9</th>\n",
       "      <td>walking_downstairs</td>\n",
       "      <td>walking_downstairs</td>\n",
       "    </tr>\n",
       "  </tbody>\n",
       "</table>\n",
       "</div>"
      ],
      "text/plain": [
       "               Actual           Predicted\n",
       "0    walking_upstairs    walking_upstairs\n",
       "1             walking             walking\n",
       "2  walking_downstairs  walking_downstairs\n",
       "3              laying              laying\n",
       "4    walking_upstairs    walking_upstairs\n",
       "5             sitting             sitting\n",
       "6            standing            standing\n",
       "7  walking_downstairs  walking_downstairs\n",
       "8  walking_downstairs  walking_downstairs\n",
       "9  walking_downstairs  walking_downstairs"
      ]
     },
     "execution_count": 32,
     "metadata": {},
     "output_type": "execute_result"
    }
   ],
   "source": [
    "# Make predictions\n",
    "predicted = neuron.predict(X_test_scaled)\n",
    "\n",
    "predicted = enc.inverse_transform(predicted).flatten().tolist()\n",
    "\n",
    "results = pd.DataFrame({\"Actual\": y_test.activity.values,\n",
    "                        \"Predicted\": predicted})\n",
    "\n",
    "results.head(10)"
   ]
  },
  {
   "cell_type": "code",
   "execution_count": 33,
   "metadata": {},
   "outputs": [
    {
     "name": "stdout",
     "output_type": "stream",
     "text": [
      "                    precision    recall  f1-score   support\n",
      "\n",
      "            laying       1.00      0.99      1.00       331\n",
      "        lie_to_sit       0.59      0.48      0.53        21\n",
      "      lie_to_stand       0.45      0.60      0.51        15\n",
      "        sit_to_lie       0.61      0.61      0.61        18\n",
      "      sit_to_stand       0.83      1.00      0.91         5\n",
      "           sitting       0.96      0.95      0.96       355\n",
      "      stand_to_lie       0.62      0.65      0.63        20\n",
      "      stand_to_sit       0.93      0.78      0.85        18\n",
      "          standing       0.95      0.96      0.96       361\n",
      "           walking       0.99      0.99      0.99       305\n",
      "walking_downstairs       0.99      1.00      0.99       244\n",
      "  walking_upstairs       1.00      0.98      0.99       249\n",
      "\n",
      "          accuracy                           0.96      1942\n",
      "         macro avg       0.83      0.83      0.83      1942\n",
      "      weighted avg       0.96      0.96      0.96      1942\n",
      "\n"
     ]
    }
   ],
   "source": [
    "# Print the Classification Report\n",
    "from sklearn.metrics import classification_report\n",
    "\n",
    "print(classification_report(results.Actual, \n",
    "                            results.Predicted))"
   ]
  }
 ],
 "metadata": {
  "anaconda-cloud": {},
  "kernelspec": {
   "display_name": "Python 3",
   "language": "python",
   "name": "python3"
  },
  "language_info": {
   "codemirror_mode": {
    "name": "ipython",
    "version": 3
   },
   "file_extension": ".py",
   "mimetype": "text/x-python",
   "name": "python",
   "nbconvert_exporter": "python",
   "pygments_lexer": "ipython3",
   "version": "3.7.10"
  },
  "varInspector": {
   "cols": {
    "lenName": 16,
    "lenType": 16,
    "lenVar": 40
   },
   "kernels_config": {
    "python": {
     "delete_cmd_postfix": "",
     "delete_cmd_prefix": "del ",
     "library": "var_list.py",
     "varRefreshCmd": "print(var_dic_list())"
    },
    "r": {
     "delete_cmd_postfix": ") ",
     "delete_cmd_prefix": "rm(",
     "library": "var_list.r",
     "varRefreshCmd": "cat(var_dic_list()) "
    }
   },
   "types_to_exclude": [
    "module",
    "function",
    "builtin_function_or_method",
    "instance",
    "_Feature"
   ],
   "window_display": false
  }
 },
 "nbformat": 4,
 "nbformat_minor": 4
}
