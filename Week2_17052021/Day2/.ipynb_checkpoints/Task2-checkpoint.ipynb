{
 "cells": [
  {
   "cell_type": "code",
   "execution_count": 2,
   "metadata": {},
   "outputs": [
    {
     "name": "stdout",
     "output_type": "stream",
     "text": [
      "---------------Summary Statistics--------------\n",
      "Total tips: 277\n",
      "Daily average: 39.57\n",
      "Count: 7\n"
     ]
    }
   ],
   "source": [
    "total = 0\n",
    "count = 0\n",
    "average = 0\n",
    "minimum = 0\n",
    "maximum = 0\n",
    "\n",
    "cash_tips = [22, 10, 30, 45, 54, 60, 56]\n",
    "\n",
    "for tip in cash_tips:\n",
    "    total += tip\n",
    "    count += 1\n",
    "    \n",
    "    if minimum == 0:\n",
    "        minimum = tip\n",
    "    elif tip < minimum:\n",
    "        minimum = tip \n",
    "    \n",
    "    if tip > maximum:\n",
    "        maximum = tip\n",
    "\n",
    "average = round(total/count, 2)\n",
    "\n",
    "print(\"---------------Summary Statistics--------------\")\n",
    "print(f\"Total tips: {total}\")\n",
    "print(f\"Daily average: {average}\")   \n",
    "print(f\"Count: {count}\")\n",
    "    "
   ]
  },
  {
   "cell_type": "code",
   "execution_count": 12,
   "metadata": {},
   "outputs": [
    {
     "name": "stdout",
     "output_type": "stream",
     "text": [
      "[352, 252, 354, 56, 123, 254, 325, 47, 321, 123, 133, 613, 232]\n",
      "[-224, -544, -650, -43, -123, -151, -311]\n",
      "13\n",
      "7\n"
     ]
    }
   ],
   "source": [
    "# Initialize the metric variables\n",
    "\n",
    "total = 0\n",
    "count = 0\n",
    "average = 0\n",
    "minimum = 0\n",
    "maximum = 0\n",
    "\n",
    "# Initialize lists to hold profitable and unprofitable day profits/losses\n",
    "ProfitableDays = []\n",
    "LossDays = []\n",
    "\n",
    "trading_pnl = [ -224,  352, 252, 354, -544,\n",
    "                -650,   56, 123, -43,  254,\n",
    "                 325, -123,  47, 321,  123,\n",
    "                 133, -151, 613, 232, -311 ]\n",
    "\n",
    "for trade in trading_pnl:\n",
    "    \n",
    "    total += trade\n",
    "    count += 1\n",
    "    \n",
    "    if trade > maximum:\n",
    "        maximum = trade\n",
    "    elif trade < minimum:\n",
    "        minimum = trade\n",
    "\n",
    "    if trade > 0:\n",
    "        ProfitableDays.append(int(trade))\n",
    "    elif trade < 0:\n",
    "        LossDays.append(int(trade))\n",
    "\n",
    "        \n",
    "average = round(total/count,2)\n",
    "\n",
    "print(ProfitableDays)\n",
    "print(LossDays)\n",
    "        \n",
    "print(len(ProfitableDays))\n",
    "print(len(LossDays))"
   ]
  },
  {
   "cell_type": "code",
   "execution_count": null,
   "metadata": {},
   "outputs": [],
   "source": [
    "trading_pnl = [ -224,  352, 252, 354, -544,\n",
    "                -650,   56, 123, -43,  254,\n",
    "                 325, -123,  47, 321,  123,\n",
    "                 133, -151, 613, 232, -311 ]\n",
    "profit_daylist = []\n",
    "loss_daylist = []\n",
    "total_sum = 0\n",
    "max_gain = 0\n",
    "worst_loss = 0\n",
    "profit_days = 0\n",
    "loss_days = 0\n",
    "maximum = 0\n",
    "minimum = 0\n",
    "print(\"Total number of trading days:\" + str(len(trading_pnl)))\n",
    "print(\"Total sum:\" + str(sum(trading_pnl)))\n",
    "print(\"Worst loss:\" + str(min(trading_pnl)))\n",
    "print(\"Best gain:\" + str(max(trading_pnl)))\n",
    "for trade in trading_pnl:\n",
    "    if trade > maximum:\n",
    "      maximum = trade\n",
    "    elif trade < minimum:\n",
    "      minimum = trade\n",
    "    if trade >= 0:\n",
    "        profit_days += 1\n",
    "        profit_daylist.append(trade)\n",
    "    else:\n",
    "        loss_days += 1\n",
    "        loss_daylist.append(trade)\n",
    "print(maximum, minimum)\n",
    "print(\"Number of profitable days:\" + str(profit_days))\n",
    "print(\"Number of unprofitable days:\" + str(loss_days))\n",
    "print(\"Percentage of profitable days:\" + str(profit_days/len(trading_pnl) *100))\n",
    "print(\"Percentage of unprofitable days:\" + str(loss_days/len(trading_pnl) *100))\n",
    "print(profit_daylist)\n",
    "print(loss_daylist)\n",
    "print(sum(trading_pnl)/len(trading_pnl))"
   ]
  }
 ],
 "metadata": {
  "kernelspec": {
   "display_name": "Python 3",
   "language": "python",
   "name": "python3"
  },
  "language_info": {
   "codemirror_mode": {
    "name": "ipython",
    "version": 3
   },
   "file_extension": ".py",
   "mimetype": "text/x-python",
   "name": "python",
   "nbconvert_exporter": "python",
   "pygments_lexer": "ipython3",
   "version": "3.7.1"
  }
 },
 "nbformat": 4,
 "nbformat_minor": 2
}
