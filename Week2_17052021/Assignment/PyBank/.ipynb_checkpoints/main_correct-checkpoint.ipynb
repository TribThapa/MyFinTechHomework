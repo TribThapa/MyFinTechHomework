{
 "cells": [
  {
   "cell_type": "code",
   "execution_count": 86,
   "metadata": {},
   "outputs": [],
   "source": [
    "# Import libraries\n",
    "from pathlib import Path\n",
    "import csv\n",
    "import pandas as pd\n",
    "import statistics "
   ]
  },
  {
   "cell_type": "code",
   "execution_count": 87,
   "metadata": {},
   "outputs": [
    {
     "name": "stdout",
     "output_type": "stream",
     "text": [
      "Financial Analysis\n",
      "-------------------------------------------\n",
      "Total months: 86\n",
      "Total: $38382578\n",
      "Average change: $-2315.1176470588234\n",
      "Greatest Increase in Profits: Sep-2016: ($1926159)]\n",
      "Greatest Decrease in Profits: Apr-2010: ($-2196167)]\n",
      "\n",
      "Average change using sum/no.of elements: $-2315.1176470588234\n",
      "Average change using statistics.mean(): $-2315.1176470588234\n"
     ]
    }
   ],
   "source": [
    "Budget_data = Path(r'C:\\Users\\TribThapa\\Desktop\\Thapa\\ResearchFellow\\Courses\\FinTech_Bootcamp_MonashUni2021\\monu-mel-virt-fin-pt-05-2021-u-c\\Homework\\Week 2\\Instructions\\PyBank\\Resources\\budget_data.csv')\n",
    "\n",
    "total_months = 0\n",
    "total_PL_list = 0\n",
    "previous_price = 0\n",
    "\n",
    "profit_loss = []\n",
    "price_difference = []\n",
    "price_difference_month = {}\n",
    "\n",
    "with open(Budget_data, 'r') as file:\n",
    "    Budget_data_file = csv.reader(file, delimiter=',')\n",
    "    \n",
    "    Budget_data_file_header = next(Budget_data_file)\n",
    "\n",
    "    for row in Budget_data_file:\n",
    "        months = row[0]\n",
    "        total_months += 1\n",
    "        price_list = int(row[1])\n",
    "        profit_loss.append(price_list)\n",
    "        #print(months)\n",
    "        \n",
    "        if previous_price == 0:\n",
    "            previous_price = price_list            \n",
    "            \n",
    "        else:\n",
    "            price_diff = price_list - previous_price\n",
    "            previous_price = price_list    \n",
    "            price_difference.append(price_diff)\n",
    "            price_difference_month[str(row[0])] = int(row[1])\n",
    "\n",
    "#print(price_difference_month)                           \n",
    "#print(profit_loss)     \n",
    "\n",
    "total_PL_list = sum(profit_loss)\n",
    "avg_change = sum(price_difference) / len(price_difference)\n",
    "grt_inc_amt = max(price_difference)\n",
    "grt_dec_amt = min(price_difference)\n",
    "grt_inc_mnth = max(price_difference_month)\n",
    "grt_dec_mnth = min(price_difference_month)    \n",
    "mean = statistics.mean(price_difference) \n",
    "\n",
    "print(f\"Financial Analysis\")\n",
    "print(\"-------------------------------------------\")\n",
    "print(f\"Total months: {total_months}\")\n",
    "print(f\"Total: ${total_PL_list}\")\n",
    "print(f\"Average change: ${avg_change}\")  \n",
    "print(f\"Greatest Increase in Profits: {grt_inc_mnth}: (${grt_inc_amt})]\")\n",
    "print(f\"Greatest Decrease in Profits: {grt_dec_mnth}: (${grt_dec_amt})]\")\n",
    "\n",
    "# print()\n",
    "# print(f\"Average change using sum/no.of elements: ${avg_change}\")  \n",
    "# print(f\"Average change using statistics.mean(): ${mean}\")  "
   ]
  },
  {
   "cell_type": "code",
   "execution_count": null,
   "metadata": {},
   "outputs": [],
   "source": []
  }
 ],
 "metadata": {
  "kernelspec": {
   "display_name": "Python 3",
   "language": "python",
   "name": "python3"
  },
  "language_info": {
   "codemirror_mode": {
    "name": "ipython",
    "version": 3
   },
   "file_extension": ".py",
   "mimetype": "text/x-python",
   "name": "python",
   "nbconvert_exporter": "python",
   "pygments_lexer": "ipython3",
   "version": "3.7.1"
  }
 },
 "nbformat": 4,
 "nbformat_minor": 2
}
