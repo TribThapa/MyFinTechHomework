{
 "cells": [
  {
   "cell_type": "markdown",
   "metadata": {},
   "source": [
    "# Correlating Returns"
   ]
  },
  {
   "cell_type": "code",
   "execution_count": 1,
   "metadata": {
    "scrolled": true
   },
   "outputs": [],
   "source": [
    "import os\n",
    "import pandas as pd\n",
    "from datetime import datetime, timedelta\n",
    "from dotenv import load_dotenv\n",
    "import alpaca_trade_api as tradeapi\n",
    "from newsapi.newsapi_client import NewsApiClient\n",
    "from nltk.sentiment.vader import SentimentIntensityAnalyzer"
   ]
  },
  {
   "cell_type": "markdown",
   "metadata": {},
   "source": [
    "## Load API Keys from Environment Variables"
   ]
  },
  {
   "cell_type": "code",
   "execution_count": 13,
   "metadata": {},
   "outputs": [
    {
     "name": "stdout",
     "output_type": "stream",
     "text": [
      "News API Key type: <class 'newsapi.newsapi_client.NewsApiClient'>\n",
      "News ALPACA Key type: <class 'str'>\n",
      "News ALPACA SECRET Key type: <class 'str'>\n"
     ]
    }
   ],
   "source": [
    "# Load .env enviroment variables\n",
    "load_dotenv()\n",
    "\n",
    "# Set News API Key\n",
    "newsapi = NewsApiClient(api_key=os.environ[\"NEWS_API_KEY\"])\n",
    "#newsapi = NewsApiClient(api_key=os.getenv(\"NEWS_API_KEY\"))\n",
    "\n",
    "# Set Alpaca API key and secret\n",
    "alpaca_api_key = os.getenv(\"ALPACA_API_KEY\")\n",
    "alpaca_secret_key = os.getenv(\"ALPACA_API_SECRET_KEY\")\n",
    "\n",
    "api = tradeapi.REST(alpaca_api_key, alpaca_secret_key, api_version='v2')\n",
    "\n",
    "print(f\"News API Key type: {type(newsapi)}\")\n",
    "print(f\"News ALPACA Key type: {type(alpaca_api_key)}\")\n",
    "print(f\"News ALPACA SECRET Key type: {type(alpaca_secret_key)}\")"
   ]
  },
  {
   "cell_type": "markdown",
   "metadata": {},
   "source": [
    "## Get AAPL Returns for Past Month"
   ]
  },
  {
   "cell_type": "code",
   "execution_count": 6,
   "metadata": {},
   "outputs": [
    {
     "data": {
      "text/html": [
       "<div>\n",
       "<style scoped>\n",
       "    .dataframe tbody tr th:only-of-type {\n",
       "        vertical-align: middle;\n",
       "    }\n",
       "\n",
       "    .dataframe tbody tr th {\n",
       "        vertical-align: top;\n",
       "    }\n",
       "\n",
       "    .dataframe thead tr th {\n",
       "        text-align: left;\n",
       "    }\n",
       "\n",
       "    .dataframe thead tr:last-of-type th {\n",
       "        text-align: right;\n",
       "    }\n",
       "</style>\n",
       "<table border=\"1\" class=\"dataframe\">\n",
       "  <thead>\n",
       "    <tr>\n",
       "      <th></th>\n",
       "      <th colspan=\"5\" halign=\"left\">AAPL</th>\n",
       "    </tr>\n",
       "    <tr>\n",
       "      <th></th>\n",
       "      <th>open</th>\n",
       "      <th>high</th>\n",
       "      <th>low</th>\n",
       "      <th>close</th>\n",
       "      <th>volume</th>\n",
       "    </tr>\n",
       "    <tr>\n",
       "      <th>time</th>\n",
       "      <th></th>\n",
       "      <th></th>\n",
       "      <th></th>\n",
       "      <th></th>\n",
       "      <th></th>\n",
       "    </tr>\n",
       "  </thead>\n",
       "  <tbody>\n",
       "    <tr>\n",
       "      <th>2021-06-30 00:00:00-04:00</th>\n",
       "      <td>136.17</td>\n",
       "      <td>137.41</td>\n",
       "      <td>135.870</td>\n",
       "      <td>136.94</td>\n",
       "      <td>51014239</td>\n",
       "    </tr>\n",
       "    <tr>\n",
       "      <th>2021-07-01 00:00:00-04:00</th>\n",
       "      <td>136.60</td>\n",
       "      <td>137.33</td>\n",
       "      <td>135.760</td>\n",
       "      <td>137.27</td>\n",
       "      <td>46267213</td>\n",
       "    </tr>\n",
       "    <tr>\n",
       "      <th>2021-07-02 00:00:00-04:00</th>\n",
       "      <td>137.92</td>\n",
       "      <td>140.00</td>\n",
       "      <td>137.745</td>\n",
       "      <td>139.96</td>\n",
       "      <td>69160944</td>\n",
       "    </tr>\n",
       "    <tr>\n",
       "      <th>2021-07-06 00:00:00-04:00</th>\n",
       "      <td>140.10</td>\n",
       "      <td>143.15</td>\n",
       "      <td>140.070</td>\n",
       "      <td>142.02</td>\n",
       "      <td>97272256</td>\n",
       "    </tr>\n",
       "    <tr>\n",
       "      <th>2021-07-07 00:00:00-04:00</th>\n",
       "      <td>143.54</td>\n",
       "      <td>144.89</td>\n",
       "      <td>142.660</td>\n",
       "      <td>144.59</td>\n",
       "      <td>93223232</td>\n",
       "    </tr>\n",
       "  </tbody>\n",
       "</table>\n",
       "</div>"
      ],
      "text/plain": [
       "                             AAPL                                   \n",
       "                             open    high      low   close    volume\n",
       "time                                                                \n",
       "2021-06-30 00:00:00-04:00  136.17  137.41  135.870  136.94  51014239\n",
       "2021-07-01 00:00:00-04:00  136.60  137.33  135.760  137.27  46267213\n",
       "2021-07-02 00:00:00-04:00  137.92  140.00  137.745  139.96  69160944\n",
       "2021-07-06 00:00:00-04:00  140.10  143.15  140.070  142.02  97272256\n",
       "2021-07-07 00:00:00-04:00  143.54  144.89  142.660  144.59  93223232"
      ]
     },
     "execution_count": 6,
     "metadata": {},
     "output_type": "execute_result"
    }
   ],
   "source": [
    "# Set the ticker\n",
    "ticker = \"AAPL\"\n",
    "\n",
    "# Set timeframe to '1D'\n",
    "timeframe = \"1D\"\n",
    "\n",
    "# Set current date and the date from one month ago using the ISO format\n",
    "current_date = pd.Timestamp(datetime.now(), tz=\"America/New_York\").isoformat()\n",
    "past_date = pd.Timestamp(datetime.now()- timedelta(30), tz=\"America/New_York\").isoformat()\n",
    "\n",
    "# Get 4 weeks worth of historical data for AAPL\n",
    "df = api.get_barset(ticker,\n",
    "                    timeframe,\n",
    "                    limit=None,\n",
    "                    start=past_date,\n",
    "                    end=current_date,\n",
    "                    after=None,\n",
    "                    until=None).df\n",
    "\n",
    "# Display data\n",
    "df.head()"
   ]
  },
  {
   "cell_type": "code",
   "execution_count": 7,
   "metadata": {},
   "outputs": [
    {
     "data": {
      "text/html": [
       "<div>\n",
       "<style scoped>\n",
       "    .dataframe tbody tr th:only-of-type {\n",
       "        vertical-align: middle;\n",
       "    }\n",
       "\n",
       "    .dataframe tbody tr th {\n",
       "        vertical-align: top;\n",
       "    }\n",
       "\n",
       "    .dataframe thead th {\n",
       "        text-align: right;\n",
       "    }\n",
       "</style>\n",
       "<table border=\"1\" class=\"dataframe\">\n",
       "  <thead>\n",
       "    <tr style=\"text-align: right;\">\n",
       "      <th></th>\n",
       "      <th>close</th>\n",
       "    </tr>\n",
       "  </thead>\n",
       "  <tbody>\n",
       "    <tr>\n",
       "      <th>2021-06-30</th>\n",
       "      <td>136.94</td>\n",
       "    </tr>\n",
       "    <tr>\n",
       "      <th>2021-07-01</th>\n",
       "      <td>137.27</td>\n",
       "    </tr>\n",
       "    <tr>\n",
       "      <th>2021-07-02</th>\n",
       "      <td>139.96</td>\n",
       "    </tr>\n",
       "    <tr>\n",
       "      <th>2021-07-06</th>\n",
       "      <td>142.02</td>\n",
       "    </tr>\n",
       "    <tr>\n",
       "      <th>2021-07-07</th>\n",
       "      <td>144.59</td>\n",
       "    </tr>\n",
       "  </tbody>\n",
       "</table>\n",
       "</div>"
      ],
      "text/plain": [
       "             close\n",
       "2021-06-30  136.94\n",
       "2021-07-01  137.27\n",
       "2021-07-02  139.96\n",
       "2021-07-06  142.02\n",
       "2021-07-07  144.59"
      ]
     },
     "execution_count": 7,
     "metadata": {},
     "output_type": "execute_result"
    }
   ],
   "source": [
    "# Drop Outer Table Level\n",
    "df = df.droplevel(axis=1, level=0)\n",
    "\n",
    "# Use the drop function to drop extra columns\n",
    "df = df.drop(columns=[\"open\", \"high\", \"low\", \"volume\"])\n",
    "\n",
    "# Since this is daily data, we can keep only the date (remove the time) component of the data\n",
    "df.index = df.index.date\n",
    "\n",
    "# Display sample data\n",
    "df.head()"
   ]
  },
  {
   "cell_type": "code",
   "execution_count": 8,
   "metadata": {},
   "outputs": [
    {
     "data": {
      "text/html": [
       "<div>\n",
       "<style scoped>\n",
       "    .dataframe tbody tr th:only-of-type {\n",
       "        vertical-align: middle;\n",
       "    }\n",
       "\n",
       "    .dataframe tbody tr th {\n",
       "        vertical-align: top;\n",
       "    }\n",
       "\n",
       "    .dataframe thead th {\n",
       "        text-align: right;\n",
       "    }\n",
       "</style>\n",
       "<table border=\"1\" class=\"dataframe\">\n",
       "  <thead>\n",
       "    <tr style=\"text-align: right;\">\n",
       "      <th></th>\n",
       "      <th>close</th>\n",
       "    </tr>\n",
       "  </thead>\n",
       "  <tbody>\n",
       "    <tr>\n",
       "      <th>2021-07-01</th>\n",
       "      <td>0.002410</td>\n",
       "    </tr>\n",
       "    <tr>\n",
       "      <th>2021-07-02</th>\n",
       "      <td>0.019596</td>\n",
       "    </tr>\n",
       "    <tr>\n",
       "      <th>2021-07-06</th>\n",
       "      <td>0.014718</td>\n",
       "    </tr>\n",
       "    <tr>\n",
       "      <th>2021-07-07</th>\n",
       "      <td>0.018096</td>\n",
       "    </tr>\n",
       "    <tr>\n",
       "      <th>2021-07-08</th>\n",
       "      <td>-0.008783</td>\n",
       "    </tr>\n",
       "  </tbody>\n",
       "</table>\n",
       "</div>"
      ],
      "text/plain": [
       "               close\n",
       "2021-07-01  0.002410\n",
       "2021-07-02  0.019596\n",
       "2021-07-06  0.014718\n",
       "2021-07-07  0.018096\n",
       "2021-07-08 -0.008783"
      ]
     },
     "execution_count": 8,
     "metadata": {},
     "output_type": "execute_result"
    }
   ],
   "source": [
    "# Use the `pct_change` function to calculate daily returns of AAPL\n",
    "aapl_returns = df.pct_change().dropna()\n",
    "\n",
    "# Display sample data\n",
    "aapl_returns.head()"
   ]
  },
  {
   "cell_type": "code",
   "execution_count": 9,
   "metadata": {},
   "outputs": [],
   "source": [
    "# Use newsapi client to get most relevant 20 headlines per day in the past month\n",
    "def get_headlines(keyword):\n",
    "    all_headlines = []\n",
    "    \n",
    "    all_dates = []    \n",
    "    \n",
    "    date = datetime.strptime(current_date[:10], \"%Y-%m-%d\")\n",
    "    \n",
    "    end_date = datetime.strptime(past_date[:10], \"%Y-%m-%d\")\n",
    "    \n",
    "    print(f\"Fetching news about '{keyword}'\")\n",
    "    \n",
    "    print(\"*\" * 30)\n",
    "    \n",
    "    while date > end_date:\n",
    "        \n",
    "        print(f\"retrieving news from: {date}\")\n",
    "        \n",
    "        articles = newsapi.get_everything(q=keyword,\n",
    "                                          from_param=str(date)[:10],\n",
    "                                          to=str(date)[:10],\n",
    "                                          language=\"en\",\n",
    "                                          sort_by=\"relevancy\",\n",
    "                                          page=1)\n",
    "        headlines = []\n",
    "        \n",
    "        for i in range(0, len(articles[\"articles\"])):\n",
    "            \n",
    "            headlines.append(articles[\"articles\"][i][\"title\"])\n",
    "            \n",
    "        all_headlines.append(headlines)\n",
    "        \n",
    "        all_dates.append(date)\n",
    "        \n",
    "        date = date - timedelta(days=1)\n",
    "        \n",
    "    return all_headlines, all_dates"
   ]
  },
  {
   "cell_type": "markdown",
   "metadata": {},
   "source": [
    "Note: Be aware that running the 3 requests below will only work once within a 24 hour period due to the request limits imposed by the API provider."
   ]
  },
  {
   "cell_type": "code",
   "execution_count": 14,
   "metadata": {},
   "outputs": [
    {
     "name": "stdout",
     "output_type": "stream",
     "text": [
      "Fetching news about 'apple'\n",
      "******************************\n",
      "retrieving news from: 2021-07-30 00:00:00\n",
      "retrieving news from: 2021-07-29 00:00:00\n",
      "retrieving news from: 2021-07-28 00:00:00\n",
      "retrieving news from: 2021-07-27 00:00:00\n",
      "retrieving news from: 2021-07-26 00:00:00\n",
      "retrieving news from: 2021-07-25 00:00:00\n",
      "retrieving news from: 2021-07-24 00:00:00\n",
      "retrieving news from: 2021-07-23 00:00:00\n",
      "retrieving news from: 2021-07-22 00:00:00\n",
      "retrieving news from: 2021-07-21 00:00:00\n",
      "retrieving news from: 2021-07-20 00:00:00\n",
      "retrieving news from: 2021-07-19 00:00:00\n",
      "retrieving news from: 2021-07-18 00:00:00\n",
      "retrieving news from: 2021-07-17 00:00:00\n",
      "retrieving news from: 2021-07-16 00:00:00\n",
      "retrieving news from: 2021-07-15 00:00:00\n",
      "retrieving news from: 2021-07-14 00:00:00\n",
      "retrieving news from: 2021-07-13 00:00:00\n",
      "retrieving news from: 2021-07-12 00:00:00\n",
      "retrieving news from: 2021-07-11 00:00:00\n",
      "retrieving news from: 2021-07-10 00:00:00\n",
      "retrieving news from: 2021-07-09 00:00:00\n",
      "retrieving news from: 2021-07-08 00:00:00\n",
      "retrieving news from: 2021-07-07 00:00:00\n",
      "retrieving news from: 2021-07-06 00:00:00\n",
      "retrieving news from: 2021-07-05 00:00:00\n",
      "retrieving news from: 2021-07-04 00:00:00\n",
      "retrieving news from: 2021-07-03 00:00:00\n",
      "retrieving news from: 2021-07-02 00:00:00\n",
      "retrieving news from: 2021-07-01 00:00:00\n"
     ]
    }
   ],
   "source": [
    "# Get first topic\n",
    "apple_news = get_headlines('apple')"
   ]
  },
  {
   "cell_type": "code",
   "execution_count": 15,
   "metadata": {},
   "outputs": [
    {
     "name": "stdout",
     "output_type": "stream",
     "text": [
      "Fetching news about 'trade'\n",
      "******************************\n",
      "retrieving news from: 2021-07-30 00:00:00\n",
      "retrieving news from: 2021-07-29 00:00:00\n",
      "retrieving news from: 2021-07-28 00:00:00\n",
      "retrieving news from: 2021-07-27 00:00:00\n",
      "retrieving news from: 2021-07-26 00:00:00\n",
      "retrieving news from: 2021-07-25 00:00:00\n",
      "retrieving news from: 2021-07-24 00:00:00\n",
      "retrieving news from: 2021-07-23 00:00:00\n",
      "retrieving news from: 2021-07-22 00:00:00\n",
      "retrieving news from: 2021-07-21 00:00:00\n",
      "retrieving news from: 2021-07-20 00:00:00\n",
      "retrieving news from: 2021-07-19 00:00:00\n",
      "retrieving news from: 2021-07-18 00:00:00\n",
      "retrieving news from: 2021-07-17 00:00:00\n",
      "retrieving news from: 2021-07-16 00:00:00\n",
      "retrieving news from: 2021-07-15 00:00:00\n",
      "retrieving news from: 2021-07-14 00:00:00\n",
      "retrieving news from: 2021-07-13 00:00:00\n",
      "retrieving news from: 2021-07-12 00:00:00\n",
      "retrieving news from: 2021-07-11 00:00:00\n",
      "retrieving news from: 2021-07-10 00:00:00\n",
      "retrieving news from: 2021-07-09 00:00:00\n",
      "retrieving news from: 2021-07-08 00:00:00\n",
      "retrieving news from: 2021-07-07 00:00:00\n",
      "retrieving news from: 2021-07-06 00:00:00\n",
      "retrieving news from: 2021-07-05 00:00:00\n",
      "retrieving news from: 2021-07-04 00:00:00\n",
      "retrieving news from: 2021-07-03 00:00:00\n",
      "retrieving news from: 2021-07-02 00:00:00\n",
      "retrieving news from: 2021-07-01 00:00:00\n"
     ]
    }
   ],
   "source": [
    "# Get second topic\n",
    "trade_news = get_headlines('trade')"
   ]
  },
  {
   "cell_type": "code",
   "execution_count": 16,
   "metadata": {},
   "outputs": [
    {
     "name": "stdout",
     "output_type": "stream",
     "text": [
      "Fetching news about 'economy'\n",
      "******************************\n",
      "retrieving news from: 2021-07-30 00:00:00\n",
      "retrieving news from: 2021-07-29 00:00:00\n",
      "retrieving news from: 2021-07-28 00:00:00\n",
      "retrieving news from: 2021-07-27 00:00:00\n",
      "retrieving news from: 2021-07-26 00:00:00\n",
      "retrieving news from: 2021-07-25 00:00:00\n",
      "retrieving news from: 2021-07-24 00:00:00\n",
      "retrieving news from: 2021-07-23 00:00:00\n",
      "retrieving news from: 2021-07-22 00:00:00\n",
      "retrieving news from: 2021-07-21 00:00:00\n",
      "retrieving news from: 2021-07-20 00:00:00\n",
      "retrieving news from: 2021-07-19 00:00:00\n",
      "retrieving news from: 2021-07-18 00:00:00\n",
      "retrieving news from: 2021-07-17 00:00:00\n",
      "retrieving news from: 2021-07-16 00:00:00\n",
      "retrieving news from: 2021-07-15 00:00:00\n",
      "retrieving news from: 2021-07-14 00:00:00\n",
      "retrieving news from: 2021-07-13 00:00:00\n"
     ]
    },
    {
     "ename": "NewsAPIException",
     "evalue": "{'status': 'error', 'code': 'rateLimited', 'message': 'You have made too many requests recently. Developer accounts are limited to 100 requests over a 24 hour period (50 requests available every 12 hours). Please upgrade to a paid plan if you need more requests.'}",
     "output_type": "error",
     "traceback": [
      "\u001b[1;31m---------------------------------------------------------------------------\u001b[0m",
      "\u001b[1;31mNewsAPIException\u001b[0m                          Traceback (most recent call last)",
      "\u001b[1;32m<ipython-input-16-b4c9ba18c58b>\u001b[0m in \u001b[0;36m<module>\u001b[1;34m\u001b[0m\n\u001b[0;32m      1\u001b[0m \u001b[1;31m# Get third topic\u001b[0m\u001b[1;33m\u001b[0m\u001b[1;33m\u001b[0m\u001b[1;33m\u001b[0m\u001b[0m\n\u001b[1;32m----> 2\u001b[1;33m \u001b[0meconomy_news\u001b[0m \u001b[1;33m=\u001b[0m \u001b[0mget_headlines\u001b[0m\u001b[1;33m(\u001b[0m\u001b[1;34m'economy'\u001b[0m\u001b[1;33m)\u001b[0m\u001b[1;33m\u001b[0m\u001b[1;33m\u001b[0m\u001b[0m\n\u001b[0m",
      "\u001b[1;32m<ipython-input-9-d2df5afd8907>\u001b[0m in \u001b[0;36mget_headlines\u001b[1;34m(keyword)\u001b[0m\n\u001b[0;32m     15\u001b[0m             \u001b[0mlanguage\u001b[0m\u001b[1;33m=\u001b[0m\u001b[1;34m\"en\"\u001b[0m\u001b[1;33m,\u001b[0m\u001b[1;33m\u001b[0m\u001b[1;33m\u001b[0m\u001b[0m\n\u001b[0;32m     16\u001b[0m             \u001b[0msort_by\u001b[0m\u001b[1;33m=\u001b[0m\u001b[1;34m\"relevancy\"\u001b[0m\u001b[1;33m,\u001b[0m\u001b[1;33m\u001b[0m\u001b[1;33m\u001b[0m\u001b[0m\n\u001b[1;32m---> 17\u001b[1;33m             \u001b[0mpage\u001b[0m\u001b[1;33m=\u001b[0m\u001b[1;36m1\u001b[0m\u001b[1;33m,\u001b[0m\u001b[1;33m\u001b[0m\u001b[1;33m\u001b[0m\u001b[0m\n\u001b[0m\u001b[0;32m     18\u001b[0m         )\n\u001b[0;32m     19\u001b[0m         \u001b[0mheadlines\u001b[0m \u001b[1;33m=\u001b[0m \u001b[1;33m[\u001b[0m\u001b[1;33m]\u001b[0m\u001b[1;33m\u001b[0m\u001b[1;33m\u001b[0m\u001b[0m\n",
      "\u001b[1;32m~\\anaconda3\\envs\\alpacaenv\\lib\\site-packages\\newsapi\\newsapi_client.py\u001b[0m in \u001b[0;36mget_everything\u001b[1;34m(self, q, sources, domains, exclude_domains, from_param, to, language, sort_by, page, page_size)\u001b[0m\n\u001b[0;32m    259\u001b[0m         \u001b[1;31m# Check Status of Request\u001b[0m\u001b[1;33m\u001b[0m\u001b[1;33m\u001b[0m\u001b[1;33m\u001b[0m\u001b[0m\n\u001b[0;32m    260\u001b[0m         \u001b[1;32mif\u001b[0m \u001b[0mr\u001b[0m\u001b[1;33m.\u001b[0m\u001b[0mstatus_code\u001b[0m \u001b[1;33m!=\u001b[0m \u001b[0mrequests\u001b[0m\u001b[1;33m.\u001b[0m\u001b[0mcodes\u001b[0m\u001b[1;33m.\u001b[0m\u001b[0mok\u001b[0m\u001b[1;33m:\u001b[0m\u001b[1;33m\u001b[0m\u001b[1;33m\u001b[0m\u001b[0m\n\u001b[1;32m--> 261\u001b[1;33m             \u001b[1;32mraise\u001b[0m \u001b[0mNewsAPIException\u001b[0m\u001b[1;33m(\u001b[0m\u001b[0mr\u001b[0m\u001b[1;33m.\u001b[0m\u001b[0mjson\u001b[0m\u001b[1;33m(\u001b[0m\u001b[1;33m)\u001b[0m\u001b[1;33m)\u001b[0m\u001b[1;33m\u001b[0m\u001b[1;33m\u001b[0m\u001b[0m\n\u001b[0m\u001b[0;32m    262\u001b[0m \u001b[1;33m\u001b[0m\u001b[0m\n\u001b[0;32m    263\u001b[0m         \u001b[1;32mreturn\u001b[0m \u001b[0mr\u001b[0m\u001b[1;33m.\u001b[0m\u001b[0mjson\u001b[0m\u001b[1;33m(\u001b[0m\u001b[1;33m)\u001b[0m\u001b[1;33m\u001b[0m\u001b[1;33m\u001b[0m\u001b[0m\n",
      "\u001b[1;31mNewsAPIException\u001b[0m: {'status': 'error', 'code': 'rateLimited', 'message': 'You have made too many requests recently. Developer accounts are limited to 100 requests over a 24 hour period (50 requests available every 12 hours). Please upgrade to a paid plan if you need more requests.'}"
     ]
    }
   ],
   "source": [
    "# Get third topic\n",
    "economy_news = get_headlines('economy')"
   ]
  },
  {
   "cell_type": "code",
   "execution_count": 17,
   "metadata": {},
   "outputs": [],
   "source": [
    "# Instantiate SentimentIntensityAnalyzer\n",
    "analyzer = SentimentIntensityAnalyzer()"
   ]
  },
  {
   "cell_type": "code",
   "execution_count": 43,
   "metadata": {},
   "outputs": [],
   "source": [
    "# Create function that computes average compound sentiment of headlines for each day\n",
    "def headline_sentiment_summarizer_avg(headlines):\n",
    "    sentiment = []\n",
    "    for day in headlines:\n",
    "        day_score = []\n",
    "        for h in day:\n",
    "            if h == None:\n",
    "                continue\n",
    "            else:\n",
    "                day_score.append(analyzer.polarity_scores(h)[\"compound\"])\n",
    "        sentiment.append(sum(day_score) / len(day_score))\n",
    "    return sentiment"
   ]
  },
  {
   "cell_type": "code",
   "execution_count": 60,
   "metadata": {},
   "outputs": [
    {
     "data": {
      "text/plain": [
       "0.10927499999999998"
      ]
     },
     "execution_count": 60,
     "metadata": {},
     "output_type": "execute_result"
    }
   ],
   "source": [
    "# Apple sentiment analysis - Compound score\n",
    "apple_headlines = apple_news[0][1:]\n",
    "\n",
    "apple_headlines[0]\n",
    "\n",
    "apple_sentiment= headline_sentiment_summarizer_avg(apple_headlines)\n",
    "\n",
    "apple_sentiment[0]"
   ]
  },
  {
   "cell_type": "code",
   "execution_count": 61,
   "metadata": {},
   "outputs": [
    {
     "data": {
      "text/plain": [
       "-0.04529"
      ]
     },
     "execution_count": 61,
     "metadata": {},
     "output_type": "execute_result"
    }
   ],
   "source": [
    "# Trade sentiment analysis - Compound score\n",
    "trade_headlines = trade_news[0][1:]\n",
    "\n",
    "trade_headlines[0]\n",
    "\n",
    "trade_sentiment= headline_sentiment_summarizer_avg(trade_headlines)\n",
    "\n",
    "trade_sentiment[0]"
   ]
  },
  {
   "cell_type": "code",
   "execution_count": 62,
   "metadata": {},
   "outputs": [
    {
     "ename": "NameError",
     "evalue": "name 'economy_news' is not defined",
     "output_type": "error",
     "traceback": [
      "\u001b[1;31m---------------------------------------------------------------------------\u001b[0m",
      "\u001b[1;31mNameError\u001b[0m                                 Traceback (most recent call last)",
      "\u001b[1;32m<ipython-input-62-5c5d375777dc>\u001b[0m in \u001b[0;36m<module>\u001b[1;34m\u001b[0m\n\u001b[0;32m      1\u001b[0m \u001b[1;31m# Trade sentiment analysis - Compound score\u001b[0m\u001b[1;33m\u001b[0m\u001b[1;33m\u001b[0m\u001b[1;33m\u001b[0m\u001b[0m\n\u001b[1;32m----> 2\u001b[1;33m \u001b[0meconomy_headlines\u001b[0m \u001b[1;33m=\u001b[0m \u001b[0meconomy_news\u001b[0m\u001b[1;33m[\u001b[0m\u001b[1;36m0\u001b[0m\u001b[1;33m]\u001b[0m\u001b[1;33m[\u001b[0m\u001b[1;36m1\u001b[0m\u001b[1;33m:\u001b[0m\u001b[1;33m]\u001b[0m\u001b[1;33m\u001b[0m\u001b[1;33m\u001b[0m\u001b[0m\n\u001b[0m\u001b[0;32m      3\u001b[0m \u001b[1;33m\u001b[0m\u001b[0m\n\u001b[0;32m      4\u001b[0m \u001b[0meconomy_headlines\u001b[0m\u001b[1;33m[\u001b[0m\u001b[1;36m0\u001b[0m\u001b[1;33m]\u001b[0m\u001b[1;33m\u001b[0m\u001b[1;33m\u001b[0m\u001b[0m\n\u001b[0;32m      5\u001b[0m \u001b[1;33m\u001b[0m\u001b[0m\n",
      "\u001b[1;31mNameError\u001b[0m: name 'economy_news' is not defined"
     ]
    }
   ],
   "source": [
    "# Trade sentiment analysis - Compound score\n",
    "economy_headlines = economy_news[0][1:]\n",
    "\n",
    "economy_headlines[0]\n",
    "\n",
    "economy_sentiment= headline_sentiment_summarizer_avg(economy_headlines)\n",
    "\n",
    "economy_sentiment[0]"
   ]
  },
  {
   "cell_type": "code",
   "execution_count": 79,
   "metadata": {},
   "outputs": [
    {
     "data": {
      "text/html": [
       "<div>\n",
       "<style scoped>\n",
       "    .dataframe tbody tr th:only-of-type {\n",
       "        vertical-align: middle;\n",
       "    }\n",
       "\n",
       "    .dataframe tbody tr th {\n",
       "        vertical-align: top;\n",
       "    }\n",
       "\n",
       "    .dataframe thead th {\n",
       "        text-align: right;\n",
       "    }\n",
       "</style>\n",
       "<table border=\"1\" class=\"dataframe\">\n",
       "  <thead>\n",
       "    <tr style=\"text-align: right;\">\n",
       "      <th></th>\n",
       "      <th>APPLE</th>\n",
       "      <th>TRADE</th>\n",
       "    </tr>\n",
       "  </thead>\n",
       "  <tbody>\n",
       "    <tr>\n",
       "      <th>0</th>\n",
       "      <td>0.109275</td>\n",
       "      <td>-0.045290</td>\n",
       "    </tr>\n",
       "    <tr>\n",
       "      <th>1</th>\n",
       "      <td>0.046710</td>\n",
       "      <td>-0.016005</td>\n",
       "    </tr>\n",
       "    <tr>\n",
       "      <th>2</th>\n",
       "      <td>0.102080</td>\n",
       "      <td>0.041450</td>\n",
       "    </tr>\n",
       "    <tr>\n",
       "      <th>3</th>\n",
       "      <td>0.104655</td>\n",
       "      <td>0.056595</td>\n",
       "    </tr>\n",
       "    <tr>\n",
       "      <th>4</th>\n",
       "      <td>0.087840</td>\n",
       "      <td>0.073835</td>\n",
       "    </tr>\n",
       "  </tbody>\n",
       "</table>\n",
       "</div>"
      ],
      "text/plain": [
       "      APPLE     TRADE\n",
       "0  0.109275 -0.045290\n",
       "1  0.046710 -0.016005\n",
       "2  0.102080  0.041450\n",
       "3  0.104655  0.056595\n",
       "4  0.087840  0.073835"
      ]
     },
     "execution_count": 79,
     "metadata": {},
     "output_type": "execute_result"
    }
   ],
   "source": [
    "# Combine Sentiment Averages into DataFrame\n",
    "comb_sents = list(zip(apple_sentiment, trade_sentiment))\n",
    "\n",
    "sentiment_df = pd.DataFrame(comb_sents,\n",
    "                            columns=[\"APPLE\", \"TRADE\"])\n",
    "\n",
    "sentiment_df.head()"
   ]
  },
  {
   "cell_type": "code",
   "execution_count": 80,
   "metadata": {
    "scrolled": true
   },
   "outputs": [
    {
     "data": {
      "text/html": [
       "<div>\n",
       "<style scoped>\n",
       "    .dataframe tbody tr th:only-of-type {\n",
       "        vertical-align: middle;\n",
       "    }\n",
       "\n",
       "    .dataframe tbody tr th {\n",
       "        vertical-align: top;\n",
       "    }\n",
       "\n",
       "    .dataframe thead th {\n",
       "        text-align: right;\n",
       "    }\n",
       "</style>\n",
       "<table border=\"1\" class=\"dataframe\">\n",
       "  <thead>\n",
       "    <tr style=\"text-align: right;\">\n",
       "      <th></th>\n",
       "      <th>APPLE</th>\n",
       "      <th>TRADE</th>\n",
       "    </tr>\n",
       "    <tr>\n",
       "      <th>DATES</th>\n",
       "      <th></th>\n",
       "      <th></th>\n",
       "    </tr>\n",
       "  </thead>\n",
       "  <tbody>\n",
       "    <tr>\n",
       "      <th>2021-07-29</th>\n",
       "      <td>0.109275</td>\n",
       "      <td>-0.045290</td>\n",
       "    </tr>\n",
       "    <tr>\n",
       "      <th>2021-07-28</th>\n",
       "      <td>0.046710</td>\n",
       "      <td>-0.016005</td>\n",
       "    </tr>\n",
       "    <tr>\n",
       "      <th>2021-07-27</th>\n",
       "      <td>0.102080</td>\n",
       "      <td>0.041450</td>\n",
       "    </tr>\n",
       "    <tr>\n",
       "      <th>2021-07-26</th>\n",
       "      <td>0.104655</td>\n",
       "      <td>0.056595</td>\n",
       "    </tr>\n",
       "    <tr>\n",
       "      <th>2021-07-25</th>\n",
       "      <td>0.087840</td>\n",
       "      <td>0.073835</td>\n",
       "    </tr>\n",
       "  </tbody>\n",
       "</table>\n",
       "</div>"
      ],
      "text/plain": [
       "               APPLE     TRADE\n",
       "DATES                         \n",
       "2021-07-29  0.109275 -0.045290\n",
       "2021-07-28  0.046710 -0.016005\n",
       "2021-07-27  0.102080  0.041450\n",
       "2021-07-26  0.104655  0.056595\n",
       "2021-07-25  0.087840  0.073835"
      ]
     },
     "execution_count": 80,
     "metadata": {},
     "output_type": "execute_result"
    }
   ],
   "source": [
    "# Set the index value of the sentiment averages DataFrame to be the series of dates.\n",
    "dates = apple_news[1][1:]\n",
    "\n",
    "sentiment_df[\"DATES\"] = dates\n",
    "\n",
    "sentiment_df.set_index(\"DATES\", inplace=True)\n",
    "\n",
    "sentiment_df.head()"
   ]
  },
  {
   "cell_type": "code",
   "execution_count": 83,
   "metadata": {},
   "outputs": [
    {
     "data": {
      "text/plain": [
       "(29, 2)"
      ]
     },
     "execution_count": 83,
     "metadata": {},
     "output_type": "execute_result"
    }
   ],
   "source": [
    "sentiment_df.shape"
   ]
  },
  {
   "cell_type": "code",
   "execution_count": 91,
   "metadata": {},
   "outputs": [
    {
     "data": {
      "text/html": [
       "<div>\n",
       "<style scoped>\n",
       "    .dataframe tbody tr th:only-of-type {\n",
       "        vertical-align: middle;\n",
       "    }\n",
       "\n",
       "    .dataframe tbody tr th {\n",
       "        vertical-align: top;\n",
       "    }\n",
       "\n",
       "    .dataframe thead th {\n",
       "        text-align: right;\n",
       "    }\n",
       "</style>\n",
       "<table border=\"1\" class=\"dataframe\">\n",
       "  <thead>\n",
       "    <tr style=\"text-align: right;\">\n",
       "      <th></th>\n",
       "      <th>close</th>\n",
       "      <th>APPLE</th>\n",
       "      <th>TRADE</th>\n",
       "    </tr>\n",
       "  </thead>\n",
       "  <tbody>\n",
       "    <tr>\n",
       "      <th>2021-07-01</th>\n",
       "      <td>0.002410</td>\n",
       "      <td>0.058520</td>\n",
       "      <td>-0.006305</td>\n",
       "    </tr>\n",
       "    <tr>\n",
       "      <th>2021-07-02</th>\n",
       "      <td>0.019596</td>\n",
       "      <td>0.083050</td>\n",
       "      <td>-0.013710</td>\n",
       "    </tr>\n",
       "    <tr>\n",
       "      <th>2021-07-06</th>\n",
       "      <td>0.014718</td>\n",
       "      <td>0.067530</td>\n",
       "      <td>-0.122905</td>\n",
       "    </tr>\n",
       "    <tr>\n",
       "      <th>2021-07-07</th>\n",
       "      <td>0.018096</td>\n",
       "      <td>-0.093715</td>\n",
       "      <td>0.008625</td>\n",
       "    </tr>\n",
       "    <tr>\n",
       "      <th>2021-07-08</th>\n",
       "      <td>-0.008783</td>\n",
       "      <td>0.040350</td>\n",
       "      <td>0.030665</td>\n",
       "    </tr>\n",
       "  </tbody>\n",
       "</table>\n",
       "</div>"
      ],
      "text/plain": [
       "               close     APPLE     TRADE\n",
       "2021-07-01  0.002410  0.058520 -0.006305\n",
       "2021-07-02  0.019596  0.083050 -0.013710\n",
       "2021-07-06  0.014718  0.067530 -0.122905\n",
       "2021-07-07  0.018096 -0.093715  0.008625\n",
       "2021-07-08 -0.008783  0.040350  0.030665"
      ]
     },
     "execution_count": 91,
     "metadata": {},
     "output_type": "execute_result"
    }
   ],
   "source": [
    "# Merge with AAPL returns\n",
    "merged_df = pd.concat([aapl_returns['close'], sentiment_df], axis=1)\n",
    "\n",
    "merged_final_df = merged_df.dropna()\n",
    "\n",
    "merged_final_df.head()"
   ]
  },
  {
   "cell_type": "code",
   "execution_count": 93,
   "metadata": {},
   "outputs": [
    {
     "data": {
      "text/plain": [
       "(20, 3)"
      ]
     },
     "execution_count": 93,
     "metadata": {},
     "output_type": "execute_result"
    }
   ],
   "source": [
    "merged_final_df.shape"
   ]
  },
  {
   "cell_type": "code",
   "execution_count": 96,
   "metadata": {},
   "outputs": [
    {
     "data": {
      "text/html": [
       "<div>\n",
       "<style scoped>\n",
       "    .dataframe tbody tr th:only-of-type {\n",
       "        vertical-align: middle;\n",
       "    }\n",
       "\n",
       "    .dataframe tbody tr th {\n",
       "        vertical-align: top;\n",
       "    }\n",
       "\n",
       "    .dataframe thead th {\n",
       "        text-align: right;\n",
       "    }\n",
       "</style>\n",
       "<table border=\"1\" class=\"dataframe\">\n",
       "  <thead>\n",
       "    <tr style=\"text-align: right;\">\n",
       "      <th></th>\n",
       "      <th>close</th>\n",
       "      <th>APPLE</th>\n",
       "      <th>TRADE</th>\n",
       "    </tr>\n",
       "  </thead>\n",
       "  <tbody>\n",
       "    <tr>\n",
       "      <th>close</th>\n",
       "      <td>1.000000</td>\n",
       "      <td>0.063790</td>\n",
       "      <td>-0.142225</td>\n",
       "    </tr>\n",
       "    <tr>\n",
       "      <th>APPLE</th>\n",
       "      <td>0.063790</td>\n",
       "      <td>1.000000</td>\n",
       "      <td>0.160219</td>\n",
       "    </tr>\n",
       "    <tr>\n",
       "      <th>TRADE</th>\n",
       "      <td>-0.142225</td>\n",
       "      <td>0.160219</td>\n",
       "      <td>1.000000</td>\n",
       "    </tr>\n",
       "  </tbody>\n",
       "</table>\n",
       "</div>"
      ],
      "text/plain": [
       "          close     APPLE     TRADE\n",
       "close  1.000000  0.063790 -0.142225\n",
       "APPLE  0.063790  1.000000  0.160219\n",
       "TRADE -0.142225  0.160219  1.000000"
      ]
     },
     "execution_count": 96,
     "metadata": {},
     "output_type": "execute_result"
    }
   ],
   "source": [
    "# Correlate the headlines' sentiment to returns\n",
    "correlation = merged_final_df.corr()\n",
    "\n",
    "correlation"
   ]
  },
  {
   "cell_type": "code",
   "execution_count": 16,
   "metadata": {},
   "outputs": [
    {
     "data": {
      "text/html": [
       "<style  type=\"text/css\" >\n",
       "    #T_f528495c_4c59_11eb_b972_c0b6f9140de7row0_col0 {\n",
       "            background-color:  #023858;\n",
       "            color:  #f1f1f1;\n",
       "        }    #T_f528495c_4c59_11eb_b972_c0b6f9140de7row0_col1 {\n",
       "            background-color:  #2081b9;\n",
       "            color:  #000000;\n",
       "        }    #T_f528495c_4c59_11eb_b972_c0b6f9140de7row0_col2 {\n",
       "            background-color:  #83afd3;\n",
       "            color:  #000000;\n",
       "        }    #T_f528495c_4c59_11eb_b972_c0b6f9140de7row0_col3 {\n",
       "            background-color:  #cccfe5;\n",
       "            color:  #000000;\n",
       "        }    #T_f528495c_4c59_11eb_b972_c0b6f9140de7row1_col0 {\n",
       "            background-color:  #509ac6;\n",
       "            color:  #000000;\n",
       "        }    #T_f528495c_4c59_11eb_b972_c0b6f9140de7row1_col1 {\n",
       "            background-color:  #023858;\n",
       "            color:  #f1f1f1;\n",
       "        }    #T_f528495c_4c59_11eb_b972_c0b6f9140de7row1_col2 {\n",
       "            background-color:  #fff7fb;\n",
       "            color:  #000000;\n",
       "        }    #T_f528495c_4c59_11eb_b972_c0b6f9140de7row1_col3 {\n",
       "            background-color:  #fff7fb;\n",
       "            color:  #000000;\n",
       "        }    #T_f528495c_4c59_11eb_b972_c0b6f9140de7row2_col0 {\n",
       "            background-color:  #7bacd1;\n",
       "            color:  #000000;\n",
       "        }    #T_f528495c_4c59_11eb_b972_c0b6f9140de7row2_col1 {\n",
       "            background-color:  #c2cbe2;\n",
       "            color:  #000000;\n",
       "        }    #T_f528495c_4c59_11eb_b972_c0b6f9140de7row2_col2 {\n",
       "            background-color:  #023858;\n",
       "            color:  #f1f1f1;\n",
       "        }    #T_f528495c_4c59_11eb_b972_c0b6f9140de7row2_col3 {\n",
       "            background-color:  #94b6d7;\n",
       "            color:  #000000;\n",
       "        }    #T_f528495c_4c59_11eb_b972_c0b6f9140de7row3_col0 {\n",
       "            background-color:  #fff7fb;\n",
       "            color:  #000000;\n",
       "        }    #T_f528495c_4c59_11eb_b972_c0b6f9140de7row3_col1 {\n",
       "            background-color:  #fff7fb;\n",
       "            color:  #000000;\n",
       "        }    #T_f528495c_4c59_11eb_b972_c0b6f9140de7row3_col2 {\n",
       "            background-color:  #e0dded;\n",
       "            color:  #000000;\n",
       "        }    #T_f528495c_4c59_11eb_b972_c0b6f9140de7row3_col3 {\n",
       "            background-color:  #023858;\n",
       "            color:  #f1f1f1;\n",
       "        }</style><table id=\"T_f528495c_4c59_11eb_b972_c0b6f9140de7\" ><thead>    <tr>        <th class=\"blank level0\" ></th>        <th class=\"col_heading level0 col0\" >close</th>        <th class=\"col_heading level0 col1\" >aapl_avg</th>        <th class=\"col_heading level0 col2\" >trade_avg</th>        <th class=\"col_heading level0 col3\" >economy_avg</th>    </tr></thead><tbody>\n",
       "                <tr>\n",
       "                        <th id=\"T_f528495c_4c59_11eb_b972_c0b6f9140de7level0_row0\" class=\"row_heading level0 row0\" >close</th>\n",
       "                        <td id=\"T_f528495c_4c59_11eb_b972_c0b6f9140de7row0_col0\" class=\"data row0 col0\" >1</td>\n",
       "                        <td id=\"T_f528495c_4c59_11eb_b972_c0b6f9140de7row0_col1\" class=\"data row0 col1\" >0.547862</td>\n",
       "                        <td id=\"T_f528495c_4c59_11eb_b972_c0b6f9140de7row0_col2\" class=\"data row0 col2\" >0.455142</td>\n",
       "                        <td id=\"T_f528495c_4c59_11eb_b972_c0b6f9140de7row0_col3\" class=\"data row0 col3\" >-0.0524333</td>\n",
       "            </tr>\n",
       "            <tr>\n",
       "                        <th id=\"T_f528495c_4c59_11eb_b972_c0b6f9140de7level0_row1\" class=\"row_heading level0 row1\" >aapl_avg</th>\n",
       "                        <td id=\"T_f528495c_4c59_11eb_b972_c0b6f9140de7row1_col0\" class=\"data row1 col0\" >0.547862</td>\n",
       "                        <td id=\"T_f528495c_4c59_11eb_b972_c0b6f9140de7row1_col1\" class=\"data row1 col1\" >1</td>\n",
       "                        <td id=\"T_f528495c_4c59_11eb_b972_c0b6f9140de7row1_col2\" class=\"data row1 col2\" >-0.0109107</td>\n",
       "                        <td id=\"T_f528495c_4c59_11eb_b972_c0b6f9140de7row1_col3\" class=\"data row1 col3\" >-0.425666</td>\n",
       "            </tr>\n",
       "            <tr>\n",
       "                        <th id=\"T_f528495c_4c59_11eb_b972_c0b6f9140de7level0_row2\" class=\"row_heading level0 row2\" >trade_avg</th>\n",
       "                        <td id=\"T_f528495c_4c59_11eb_b972_c0b6f9140de7row2_col0\" class=\"data row2 col0\" >0.455142</td>\n",
       "                        <td id=\"T_f528495c_4c59_11eb_b972_c0b6f9140de7row2_col1\" class=\"data row2 col1\" >-0.0109107</td>\n",
       "                        <td id=\"T_f528495c_4c59_11eb_b972_c0b6f9140de7row2_col2\" class=\"data row2 col2\" >1</td>\n",
       "                        <td id=\"T_f528495c_4c59_11eb_b972_c0b6f9140de7row2_col3\" class=\"data row2 col3\" >0.170973</td>\n",
       "            </tr>\n",
       "            <tr>\n",
       "                        <th id=\"T_f528495c_4c59_11eb_b972_c0b6f9140de7level0_row3\" class=\"row_heading level0 row3\" >economy_avg</th>\n",
       "                        <td id=\"T_f528495c_4c59_11eb_b972_c0b6f9140de7row3_col0\" class=\"data row3 col0\" >-0.0524333</td>\n",
       "                        <td id=\"T_f528495c_4c59_11eb_b972_c0b6f9140de7row3_col1\" class=\"data row3 col1\" >-0.425666</td>\n",
       "                        <td id=\"T_f528495c_4c59_11eb_b972_c0b6f9140de7row3_col2\" class=\"data row3 col2\" >0.170973</td>\n",
       "                        <td id=\"T_f528495c_4c59_11eb_b972_c0b6f9140de7row3_col3\" class=\"data row3 col3\" >1</td>\n",
       "            </tr>\n",
       "    </tbody></table>"
      ],
      "text/plain": [
       "<pandas.io.formats.style.Styler at 0x233db9fc588>"
      ]
     },
     "execution_count": 16,
     "metadata": {},
     "output_type": "execute_result"
    }
   ],
   "source": [
    "# Correlate the headlines' sentiment to returns\n",
    "# YOUR CODE HERE"
   ]
  }
 ],
 "metadata": {
  "file_extension": ".py",
  "kernelspec": {
   "display_name": "Python 3",
   "language": "python",
   "name": "python3"
  },
  "language_info": {
   "codemirror_mode": {
    "name": "ipython",
    "version": 3
   },
   "file_extension": ".py",
   "mimetype": "text/x-python",
   "name": "python",
   "nbconvert_exporter": "python",
   "pygments_lexer": "ipython3",
   "version": "3.7.10"
  },
  "mimetype": "text/x-python",
  "name": "python",
  "npconvert_exporter": "python",
  "pygments_lexer": "ipython3",
  "version": 3
 },
 "nbformat": 4,
 "nbformat_minor": 4
}
