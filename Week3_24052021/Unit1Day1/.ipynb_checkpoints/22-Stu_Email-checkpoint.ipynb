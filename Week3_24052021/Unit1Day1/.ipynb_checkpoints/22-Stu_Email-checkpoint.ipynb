{
 "cells": [
  {
   "cell_type": "code",
   "execution_count": 114,
   "metadata": {},
   "outputs": [],
   "source": [
    "import csv\n",
    "import pandas as pd"
   ]
  },
  {
   "cell_type": "code",
   "execution_count": 115,
   "metadata": {},
   "outputs": [
    {
     "data": {
      "text/html": [
       "<div>\n",
       "<style scoped>\n",
       "    .dataframe tbody tr th:only-of-type {\n",
       "        vertical-align: middle;\n",
       "    }\n",
       "\n",
       "    .dataframe tbody tr th {\n",
       "        vertical-align: top;\n",
       "    }\n",
       "\n",
       "    .dataframe thead th {\n",
       "        text-align: right;\n",
       "    }\n",
       "</style>\n",
       "<table border=\"1\" class=\"dataframe\">\n",
       "  <thead>\n",
       "    <tr style=\"text-align: right;\">\n",
       "      <th></th>\n",
       "      <th>first_name</th>\n",
       "      <th>last_name</th>\n",
       "      <th>ssn</th>\n",
       "    </tr>\n",
       "  </thead>\n",
       "  <tbody>\n",
       "    <tr>\n",
       "      <th>0</th>\n",
       "      <td>Tina</td>\n",
       "      <td>Fleming</td>\n",
       "      <td>619-16-7988</td>\n",
       "    </tr>\n",
       "    <tr>\n",
       "      <th>1</th>\n",
       "      <td>Erica</td>\n",
       "      <td>Shah</td>\n",
       "      <td>164-51-7615</td>\n",
       "    </tr>\n",
       "    <tr>\n",
       "      <th>2</th>\n",
       "      <td>Paula</td>\n",
       "      <td>Ortiz</td>\n",
       "      <td>051-83-3290</td>\n",
       "    </tr>\n",
       "    <tr>\n",
       "      <th>3</th>\n",
       "      <td>James</td>\n",
       "      <td>Hendricks</td>\n",
       "      <td>776-83-2884</td>\n",
       "    </tr>\n",
       "    <tr>\n",
       "      <th>4</th>\n",
       "      <td>Lauren</td>\n",
       "      <td>King</td>\n",
       "      <td>197-94-2398</td>\n",
       "    </tr>\n",
       "    <tr>\n",
       "      <th>5</th>\n",
       "      <td>David</td>\n",
       "      <td>Cowan</td>\n",
       "      <td>252-92-1832</td>\n",
       "    </tr>\n",
       "    <tr>\n",
       "      <th>6</th>\n",
       "      <td>Andrew</td>\n",
       "      <td>Burton</td>\n",
       "      <td>296-23-6842</td>\n",
       "    </tr>\n",
       "    <tr>\n",
       "      <th>7</th>\n",
       "      <td>Julian</td>\n",
       "      <td>Baker</td>\n",
       "      <td>337-40-7543</td>\n",
       "    </tr>\n",
       "    <tr>\n",
       "      <th>8</th>\n",
       "      <td>Scott</td>\n",
       "      <td>Castro</td>\n",
       "      <td>399-46-5595</td>\n",
       "    </tr>\n",
       "    <tr>\n",
       "      <th>9</th>\n",
       "      <td>Billy</td>\n",
       "      <td>Rodriguez</td>\n",
       "      <td>014-18-2503</td>\n",
       "    </tr>\n",
       "    <tr>\n",
       "      <th>10</th>\n",
       "      <td>Darrell</td>\n",
       "      <td>Leblanc</td>\n",
       "      <td>005-82-7918</td>\n",
       "    </tr>\n",
       "    <tr>\n",
       "      <th>11</th>\n",
       "      <td>David</td>\n",
       "      <td>Hammond</td>\n",
       "      <td>561-17-6312</td>\n",
       "    </tr>\n",
       "  </tbody>\n",
       "</table>\n",
       "</div>"
      ],
      "text/plain": [
       "   first_name  last_name          ssn\n",
       "0        Tina    Fleming  619-16-7988\n",
       "1       Erica       Shah  164-51-7615\n",
       "2       Paula      Ortiz  051-83-3290\n",
       "3       James  Hendricks  776-83-2884\n",
       "4      Lauren       King  197-94-2398\n",
       "5       David      Cowan  252-92-1832\n",
       "6      Andrew     Burton  296-23-6842\n",
       "7      Julian      Baker  337-40-7543\n",
       "8       Scott     Castro  399-46-5595\n",
       "9       Billy  Rodriguez  014-18-2503\n",
       "10    Darrell    Leblanc  005-82-7918\n",
       "11      David    Hammond  561-17-6312"
      ]
     },
     "execution_count": 115,
     "metadata": {},
     "output_type": "execute_result"
    }
   ],
   "source": [
    "data = r'C:\\Users\\TribThapa\\Desktop\\Thapa\\ResearchFellow\\Courses\\FinTech_Bootcamp_MonashUni2021\\monu-mel-virt-fin-pt-05-2021-u-c\\Activities\\Week 3\\1\\22-Stu_Email\\Resources\\employees.csv'\n",
    "\n",
    "data_df = pd.read_csv(data)\n",
    "data_df.head(13)"
   ]
  },
  {
   "cell_type": "code",
   "execution_count": 121,
   "metadata": {},
   "outputs": [
    {
     "name": "stdout",
     "output_type": "stream",
     "text": [
      "[{'first_name': 'David', 'last_name': 'Hammond', 'ssn': '561-17-6312', 'email address': 'David.Hammond@example.com'}, {'first_name': 'David', 'last_name': 'Hammond', 'ssn': '561-17-6312', 'email address': 'David.Hammond@example.com'}, {'first_name': 'David', 'last_name': 'Hammond', 'ssn': '561-17-6312', 'email address': 'David.Hammond@example.com'}, {'first_name': 'David', 'last_name': 'Hammond', 'ssn': '561-17-6312', 'email address': 'David.Hammond@example.com'}, {'first_name': 'David', 'last_name': 'Hammond', 'ssn': '561-17-6312', 'email address': 'David.Hammond@example.com'}, {'first_name': 'David', 'last_name': 'Hammond', 'ssn': '561-17-6312', 'email address': 'David.Hammond@example.com'}, {'first_name': 'David', 'last_name': 'Hammond', 'ssn': '561-17-6312', 'email address': 'David.Hammond@example.com'}, {'first_name': 'David', 'last_name': 'Hammond', 'ssn': '561-17-6312', 'email address': 'David.Hammond@example.com'}, {'first_name': 'David', 'last_name': 'Hammond', 'ssn': '561-17-6312', 'email address': 'David.Hammond@example.com'}, {'first_name': 'David', 'last_name': 'Hammond', 'ssn': '561-17-6312', 'email address': 'David.Hammond@example.com'}, {'first_name': 'David', 'last_name': 'Hammond', 'ssn': '561-17-6312', 'email address': 'David.Hammond@example.com'}, {'first_name': 'David', 'last_name': 'Hammond', 'ssn': '561-17-6312', 'email address': 'David.Hammond@example.com'}, {'first_name': 'David', 'last_name': 'Hammond', 'ssn': '561-17-6312', 'email address': 'David.Hammond@example.com'}]\n",
      "[{'first_name': 'David', 'last_name': 'Hammond', 'ssn': '561-17-6312', 'email address': 'David.Hammond@example.com'}]\n"
     ]
    }
   ],
   "source": [
    "new_dict_list = []\n",
    "new_dict = {}\n",
    "\n",
    "with open(data, 'r') as file:    \n",
    "    file_DictReader = csv.DictReader(file, ('first_name', 'last_name', 'ssn'))\n",
    "\n",
    "    for row in file_DictReader:\n",
    "        email = f\"{row['first_name']}.{row['last_name']}@example.com\"\n",
    "        new_dict['first_name'] = row['first_name']\n",
    "        new_dict['last_name'] = row['last_name']\n",
    "        new_dict['ssn'] = row['ssn']\n",
    "        new_dict['email address'] = email\n",
    "        new_dict_list.append(new_dict)\n",
    "        \n",
    "print(new_dict_list)\n",
    "\n",
    "new_employee_data = []\n",
    "new_employee_data.append(new_dict)\n",
    "print(new_employee_data)\n",
    "\n",
    "output = 'new_employee_data.csv'\n",
    "\n",
    "with open(output, 'w', newline='') as f:\n",
    "    fieldnames = ['first_name', 'last_name', 'ssn', 'email address']\n",
    "    \n",
    "    writer = csv.DictWriter(f, fieldnames, delimiter=',')\n",
    "    writer.writeheader()\n",
    "    for row in new_dict_list:\n",
    "        writer.writerow(row)\n"
   ]
  },
  {
   "cell_type": "code",
   "execution_count": 118,
   "metadata": {},
   "outputs": [
    {
     "ename": "SyntaxError",
     "evalue": "invalid syntax (<ipython-input-118-e4cb9f6d8f12>, line 5)",
     "output_type": "error",
     "traceback": [
      "\u001b[1;36m  File \u001b[1;32m\"<ipython-input-118-e4cb9f6d8f12>\"\u001b[1;36m, line \u001b[1;32m5\u001b[0m\n\u001b[1;33m    for row in file_DictReadePython\u001b[0m\n\u001b[1;37m                                   ^\u001b[0m\n\u001b[1;31mSyntaxError\u001b[0m\u001b[1;31m:\u001b[0m invalid syntax\n"
     ]
    }
   ],
   "source": [
    "# new_dict = {}\n",
    "# count = 0\n",
    "# with open(data, 'r') as file:\n",
    "#     file_DictReader = csv.DictReader(file, ('first_name', 'last_name', 'ssn'))\n",
    "#     for row in file_DictReadePython\n",
    "#         count += 1\n",
    "#         first_name = \"first_name_\" + str(count)\n",
    "#         last_name = \"last_name_\" + str(count)\n",
    "#         ssn = \"ssn_\" + str(count)\n",
    "#         email_address = \"email_address_\" + str(count)\n",
    "#         email = f\"{row['first_name']}.{row['last_name']}@example.com\"\n",
    "#         new_dict.update({first_name: row[\"first_name\"], last_name: row[\"last_name\"], ssn: row[\"ssn\"], email_address: email}) \n",
    "# print(new_dict)"
   ]
  },
  {
   "cell_type": "code",
   "execution_count": null,
   "metadata": {},
   "outputs": [],
   "source": []
  }
 ],
 "metadata": {
  "kernelspec": {
   "display_name": "Python 3",
   "language": "python",
   "name": "python3"
  },
  "language_info": {
   "codemirror_mode": {
    "name": "ipython",
    "version": 3
   },
   "file_extension": ".py",
   "mimetype": "text/x-python",
   "name": "python",
   "nbconvert_exporter": "python",
   "pygments_lexer": "ipython3",
   "version": "3.7.1"
  }
 },
 "nbformat": 4,
 "nbformat_minor": 2
}
