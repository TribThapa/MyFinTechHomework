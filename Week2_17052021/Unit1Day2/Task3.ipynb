{
 "cells": [
  {
   "cell_type": "code",
   "execution_count": 8,
   "metadata": {},
   "outputs": [
    {
     "name": "stdout",
     "output_type": "stream",
     "text": [
      "\n",
      "Dictionary: {'january': 'Karem', 'february': 'Harold', 'march': 'Sam'}\n"
     ]
    }
   ],
   "source": [
    "#Key-value: separated by a colon\n",
    "\n",
    "top_trades = {\n",
    "    \"january\": \"Karem\",\n",
    "    \"february\": \"Harold\",\n",
    "    \"march\": \"Sam\"\n",
    "}\n",
    "\n",
    "print()\n",
    "print(f\"Dictionary: {top_trades}\")"
   ]
  },
  {
   "cell_type": "code",
   "execution_count": 9,
   "metadata": {},
   "outputs": [],
   "source": [
    "# Initialize a dictionary\n",
    "trading_pnl = {\n",
    "    \"title\": \"Trading Log\",\n",
    "    \"03-18-2019\": -224,\n",
    "    \"03-19-2019\": 352,\n",
    "    \"03-20-2019\": 252,\n",
    "    \"03-21-2019\": 354,\n",
    "    \"03-22-2019\": -544,\n",
    "    \"03-23-2019\": -650,\n",
    "    \"03-24-2019\": 56,\n",
    "    \"03-25-2019\": 123,\n",
    "    \"03-26-2019\": -43,\n",
    "    \"03-27-2019\": 254,\n",
    "    \"03-28-2019\": 325,\n",
    "    \"03-29-2019\": -123,\n",
    "    \"03-30-2019\": 47,\n",
    "    \"03-31-2019\": 321,\n",
    "    \"04-01-2019\": 123,\n",
    "    \"04-02-2019\": 133,\n",
    "    \"04-03-2019\": -151,\n",
    "    \"04-04-2019\": 613,\n",
    "    \"04-05-2019\": 232,\n",
    "    \"04-06-2019\": -311\n",
    "}"
   ]
  },
  {
   "cell_type": "code",
   "execution_count": 10,
   "metadata": {},
   "outputs": [
    {
     "name": "stdout",
     "output_type": "stream",
     "text": [
      "\n",
      "Dictionary: {'title': 'Trading Log', '03-18-2019': -224, '03-19-2019': 352, '03-20-2019': 252, '03-21-2019': 354, '03-22-2019': -544, '03-23-2019': -650, '03-24-2019': 56, '03-25-2019': 123, '03-26-2019': -43, '03-27-2019': 254, '03-28-2019': 325, '03-29-2019': -123, '03-30-2019': 47, '03-31-2019': 321, '04-01-2019': 123, '04-02-2019': 133, '04-03-2019': -151, '04-04-2019': 613, '04-05-2019': 232, '04-06-2019': -311}\n",
      "\n",
      "03-31-2019: 321\n",
      "\n",
      "{'title': 'Trading Log', '03-18-2019': -224, '03-19-2019': 352, '03-20-2019': 252, '03-21-2019': 354, '03-22-2019': -544, '03-23-2019': -650, '03-24-2019': 56, '03-25-2019': 123, '03-26-2019': -43, '03-27-2019': 254, '03-28-2019': 325, '03-29-2019': -123, '03-30-2019': 47, '03-31-2019': 321, '04-01-2019': 123, '04-02-2019': 133, '04-03-2019': -151, '04-04-2019': 613, '04-05-2019': 232, '04-06-2019': -311, '04-07-2019': 413}\n",
      "\n",
      "{'title': 'Trading Log', '03-18-2019': -224, '03-19-2019': 352, '03-20-2019': 252, '03-21-2019': 354, '03-22-2019': -544, '03-23-2019': -650, '03-24-2019': 56, '03-25-2019': 123, '03-26-2019': -43, '03-27-2019': 254, '03-28-2019': 325, '03-29-2019': -123, '03-30-2019': 47, '03-31-2019': 321, '04-01-2019': 123, '04-02-2019': 133, '04-03-2019': -151, '04-04-2019': 613, '04-05-2019': 232, '04-06-2019': -311, '04-07-2019': 542}\n",
      "\n",
      "{'title': 'Trading Log', '03-18-2019': -224, '03-19-2019': 352, '03-20-2019': 252, '03-21-2019': 354, '03-22-2019': -544, '03-23-2019': -650, '03-24-2019': 56, '03-25-2019': 123, '03-26-2019': -43, '03-27-2019': 254, '03-28-2019': 325, '03-29-2019': -123, '03-30-2019': 47, '03-31-2019': 321, '04-01-2019': 123, '04-02-2019': 133, '04-03-2019': -151, '04-04-2019': 613, '04-05-2019': 232, '04-06-2019': -311}\n",
      "\n"
     ]
    }
   ],
   "source": [
    "print()\n",
    "print(f\"Dictionary: {trading_pnl}\")\n",
    "print()\n",
    "\n",
    "print(f\"03-31-2019: {trading_pnl['03-31-2019']}\")\n",
    "print()\n",
    "      \n",
    "trading_pnl[\"04-07-2019\"] = 413\n",
    "print(trading_pnl)\n",
    "print()\n",
    "      \n",
    "trading_pnl[\"04-07-2019\"] = 542\n",
    "print(trading_pnl)\n",
    "print()\n",
    "      \n",
    "del trading_pnl[\"04-07-2019\"]\n",
    "print(trading_pnl)\n",
    "print()\n",
    "    "
   ]
  },
  {
   "cell_type": "code",
   "execution_count": 11,
   "metadata": {},
   "outputs": [
    {
     "name": "stdout",
     "output_type": "stream",
     "text": [
      "Key: title\n",
      "Key: 03-18-2019\n",
      "Key: 03-19-2019\n",
      "Key: 03-20-2019\n",
      "Key: 03-21-2019\n",
      "Key: 03-22-2019\n",
      "Key: 03-23-2019\n",
      "Key: 03-24-2019\n",
      "Key: 03-25-2019\n",
      "Key: 03-26-2019\n",
      "Key: 03-27-2019\n",
      "Key: 03-28-2019\n",
      "Key: 03-29-2019\n",
      "Key: 03-30-2019\n",
      "Key: 03-31-2019\n",
      "Key: 04-01-2019\n",
      "Key: 04-02-2019\n",
      "Key: 04-03-2019\n",
      "Key: 04-04-2019\n",
      "Key: 04-05-2019\n",
      "Key: 04-06-2019\n"
     ]
    }
   ],
   "source": [
    "for key in trading_pnl:\n",
    "    print(f\"Key: {key}\")"
   ]
  },
  {
   "cell_type": "code",
   "execution_count": 12,
   "metadata": {},
   "outputs": [
    {
     "name": "stdout",
     "output_type": "stream",
     "text": [
      "Value: Trading Log\n",
      "Value: -224\n",
      "Value: 352\n",
      "Value: 252\n",
      "Value: 354\n",
      "Value: -544\n",
      "Value: -650\n",
      "Value: 56\n",
      "Value: 123\n",
      "Value: -43\n",
      "Value: 254\n",
      "Value: 325\n",
      "Value: -123\n",
      "Value: 47\n",
      "Value: 321\n",
      "Value: 123\n",
      "Value: 133\n",
      "Value: -151\n",
      "Value: 613\n",
      "Value: 232\n",
      "Value: -311\n"
     ]
    }
   ],
   "source": [
    "for key in trading_pnl:\n",
    "    print(f\"Value: {trading_pnl[key]}\")\n"
   ]
  },
  {
   "cell_type": "code",
   "execution_count": 16,
   "metadata": {},
   "outputs": [
    {
     "name": "stdout",
     "output_type": "stream",
     "text": [
      "Key is: title, and the value is: Trading Log\n",
      "Key is: 03-18-2019, and the value is: -224\n",
      "Key is: 03-19-2019, and the value is: 352\n",
      "Key is: 03-20-2019, and the value is: 252\n",
      "Key is: 03-21-2019, and the value is: 354\n",
      "Key is: 03-22-2019, and the value is: -544\n",
      "Key is: 03-23-2019, and the value is: -650\n",
      "Key is: 03-24-2019, and the value is: 56\n",
      "Key is: 03-25-2019, and the value is: 123\n",
      "Key is: 03-26-2019, and the value is: -43\n",
      "Key is: 03-27-2019, and the value is: 254\n",
      "Key is: 03-28-2019, and the value is: 325\n",
      "Key is: 03-29-2019, and the value is: -123\n",
      "Key is: 03-30-2019, and the value is: 47\n",
      "Key is: 03-31-2019, and the value is: 321\n",
      "Key is: 04-01-2019, and the value is: 123\n",
      "Key is: 04-02-2019, and the value is: 133\n",
      "Key is: 04-03-2019, and the value is: -151\n",
      "Key is: 04-04-2019, and the value is: 613\n",
      "Key is: 04-05-2019, and the value is: 232\n",
      "Key is: 04-06-2019, and the value is: -311\n"
     ]
    }
   ],
   "source": [
    "for key, value in trading_pnl.items():\n",
    "    print(f\"Key is: {key}, and the value is: {value}\")"
   ]
  },
  {
   "cell_type": "code",
   "execution_count": 26,
   "metadata": {},
   "outputs": [
    {
     "name": "stdout",
     "output_type": "stream",
     "text": [
      "{'title': 'Trading Log', '03-18-2019': -224, '03-19-2019': 352, '03-20-2019': 252, '03-21-2019': 354, '03-22-2019': -544, '03-23-2019': -650, '03-24-2019': 56, '03-25-2019': 123, '03-26-2019': -43, '03-27-2019': 254, '03-28-2019': 325, '03-29-2019': -123, '03-30-2019': 47, '03-31-2019': 321, '04-01-2019': 123, '04-02-2019': 133, '04-03-2019': -151, '04-04-2019': 613, '04-05-2019': 232, '04-06-2019': -311, 'MyName': 77777777}\n",
      "\n",
      "{'title': 'Trading Log', '03-18-2019': -224, '03-19-2019': 352, '03-20-2019': 252, '03-21-2019': 354, '03-22-2019': -544, '03-23-2019': -650, '03-24-2019': 56, '03-25-2019': 123, '03-26-2019': -43, '03-27-2019': 254, '03-28-2019': 325, '03-29-2019': -123, '03-30-2019': 47, '03-31-2019': 321, '04-01-2019': 123, '04-02-2019': 133, '04-03-2019': -151, '04-04-2019': 613, '04-05-2019': 232, '04-06-2019': -311}\n"
     ]
    }
   ],
   "source": [
    "trading_pnl[\"MyName\"] = 77777777\n",
    "print(trading_pnl)\n",
    "print()\n",
    "\n",
    "del trading_pnl[\"MyName\"]\n",
    "print(trading_pnl)"
   ]
  },
  {
   "cell_type": "code",
   "execution_count": 25,
   "metadata": {},
   "outputs": [
    {
     "name": "stdout",
     "output_type": "stream",
     "text": [
      "{'National Bank of Canada': 327, 'Toronto-Dominion Bank': 302, 'Royal Bank of Canada': 173, 'Wells Fargo': 273, 'Goldman Sachs': 87, 'Morgan Stanley': 72, 'Canadian Imperial Bank of Commerce': 83, 'TD Bank': 108, 'Bank of Montreal': 67, 'Capital One': 47, 'FNB Corporation': 4, 'Laurentian Bank of Canada': 3, 'Ally Financial': 12, 'Montreal Trust Company': 145, 'Canadian Western Bank': 0.97}\n",
      "\n",
      "{'National Bank of Canada': 327, 'Toronto-Dominion Bank': 302, 'Royal Bank of Canada': 999, 'Wells Fargo': 273, 'Goldman Sachs': 87, 'Morgan Stanley': 72, 'Canadian Imperial Bank of Commerce': 83, 'TD Bank': 108, 'Bank of Montreal': 67, 'Capital One': 47, 'FNB Corporation': 4, 'Laurentian Bank of Canada': 3, 'Ally Financial': 12, 'Montreal Trust Company': 145, 'Canadian Western Bank': 0.97}\n",
      "\n",
      "{'National Bank of Canada': 327, 'Toronto-Dominion Bank': 302, 'Royal Bank of Canada': 999, 'Wells Fargo': 273, 'Goldman Sachs': 87, 'Morgan Stanley': 72, 'Canadian Imperial Bank of Commerce': 83, 'TD Bank': 108, 'Bank of Montreal': 67, 'Capital One': 47, 'FNB Corporation': 4, 'Laurentian Bank of Canada': 3, 'Ally Financial': 12, 'Montreal Trust Company': 145, 'Canadian Western Bank': 0.97, 'Commonwealth Bank': 10000}\n",
      "\n",
      "{'National Bank of Canada': 327, 'Toronto-Dominion Bank': 302, 'Royal Bank of Canada': 999, 'Wells Fargo': 273, 'Goldman Sachs': 87, 'Morgan Stanley': 72, 'Canadian Imperial Bank of Commerce': 83, 'TD Bank': 108, 'Bank of Montreal': 67, 'Capital One': 47, 'FNB Corporation': 4, 'Laurentian Bank of Canada': 3, 'Montreal Trust Company': 145, 'Canadian Western Bank': 0.97, 'Commonwealth Bank': 10000}\n",
      "\n"
     ]
    }
   ],
   "source": [
    "# Activity \n",
    "\n",
    "Dictionary = {\n",
    "    \"National Bank of Canada\": 327,\n",
    "    \"Toronto-Dominion Bank\": 302,\n",
    "    \"Royal Bank of Canada\": 173,\n",
    "    \"Wells Fargo\": 273,\n",
    "    \"Goldman Sachs\": 87,\n",
    "    \"Morgan Stanley\": 72,\n",
    "    \"Canadian Imperial Bank of Commerce\": 83,\n",
    "    \"TD Bank\": 108,\n",
    "    \"Bank of Montreal\": 67,\n",
    "    \"Capital One\": 47,\n",
    "    \"FNB Corporation\": 4,\n",
    "    \"Laurentian Bank of Canada\": 3,\n",
    "    \"Ally Financial\": 12,\n",
    "    \"Montreal Trust Company\": 145,\n",
    "    \"Canadian Western Bank\": .97    \n",
    "}\n",
    "\n",
    "print(Dictionary)\n",
    "print()\n",
    "\n",
    "Dictionary[\"Royal Bank of Canada\"] = 999\n",
    "print(Dictionary)\n",
    "print()\n",
    "\n",
    "Dictionary[\"Commonwealth Bank\"] = 10000\n",
    "print(Dictionary)\n",
    "print()\n",
    "     \n",
    "del Dictionary[\"Ally Financial\"]    \n",
    "print(Dictionary)\n",
    "print()\n",
    "\n"
   ]
  },
  {
   "cell_type": "code",
   "execution_count": 32,
   "metadata": {},
   "outputs": [
    {
     "name": "stdout",
     "output_type": "stream",
     "text": [
      "dict_values([327, 302, 999, 273, 87, 72, 83, 108, 67, 47, 4, 3, 145, 0.97, 10000])\n"
     ]
    },
    {
     "data": {
      "text/plain": [
       "15"
      ]
     },
     "execution_count": 32,
     "metadata": {},
     "output_type": "execute_result"
    }
   ],
   "source": [
    "print(Dictionary.values())\n",
    "len(Dictionary)"
   ]
  },
  {
   "cell_type": "code",
   "execution_count": 34,
   "metadata": {},
   "outputs": [
    {
     "ename": "TypeError",
     "evalue": "'int' object is not iterable",
     "output_type": "error",
     "traceback": [
      "\u001b[1;31m---------------------------------------------------------------------------\u001b[0m",
      "\u001b[1;31mTypeError\u001b[0m                                 Traceback (most recent call last)",
      "\u001b[1;32m<ipython-input-34-d2f6302a4b55>\u001b[0m in \u001b[0;36m<module>\u001b[1;34m\u001b[0m\n\u001b[0;32m     12\u001b[0m \u001b[0mSmall_cap\u001b[0m \u001b[1;33m=\u001b[0m \u001b[1;33m[\u001b[0m\u001b[1;33m]\u001b[0m\u001b[1;33m\u001b[0m\u001b[1;33m\u001b[0m\u001b[0m\n\u001b[0;32m     13\u001b[0m \u001b[1;33m\u001b[0m\u001b[0m\n\u001b[1;32m---> 14\u001b[1;33m \u001b[1;32mfor\u001b[0m \u001b[0mbank\u001b[0m \u001b[1;32min\u001b[0m \u001b[0mlen\u001b[0m\u001b[1;33m(\u001b[0m\u001b[0mDictionary\u001b[0m\u001b[1;33m)\u001b[0m\u001b[1;33m:\u001b[0m\u001b[1;33m\u001b[0m\u001b[1;33m\u001b[0m\u001b[0m\n\u001b[0m\u001b[0;32m     15\u001b[0m \u001b[1;33m\u001b[0m\u001b[0m\n\u001b[0;32m     16\u001b[0m     \u001b[0mcount\u001b[0m \u001b[1;33m+=\u001b[0m \u001b[1;36m1\u001b[0m\u001b[1;33m\u001b[0m\u001b[1;33m\u001b[0m\u001b[0m\n",
      "\u001b[1;31mTypeError\u001b[0m: 'int' object is not iterable"
     ]
    }
   ],
   "source": [
    "total = 0\n",
    "count = 0\n",
    "average = 0\n",
    "minimum = 0\n",
    "maximum = 0\n",
    "\n",
    "minimum_KeyValue = []\n",
    "maximum_KeyValue = []\n",
    "Mega_cap = []\n",
    "Large_cap = []\n",
    "Mid_cap = []\n",
    "Small_cap = []\n",
    "\n",
    "for bank in len(Dictionary):\n",
    "    \n",
    "    count += 1\n",
    "    \n",
    "    if Dictionary.values() > 300:\n",
    "        Mega_cap.append(Dictionary.values)\n"
   ]
  },
  {
   "cell_type": "code",
   "execution_count": 46,
   "metadata": {},
   "outputs": [
    {
     "name": "stdout",
     "output_type": "stream",
     "text": [
      "327\n",
      "302\n",
      "170\n",
      "273\n",
      "87\n",
      "72\n",
      "83\n",
      "108\n",
      "67\n",
      "47\n",
      "4\n",
      "3\n",
      "12\n",
      "0.97\n",
      "33\n",
      "{'National Bank of Canada': 327, 'Toronto-Dominion Bank': 302, 'Royal Bank of Canada': 170, 'Wells Fargo': 273, 'Goldman Sachs': 87, 'Morgan Stanley': 72, 'Canadian Imperial Bank of Commerce': 83, 'TD Bank': 108, 'Bank of Montreal': 67, 'Capital One': 47, 'FNB Corporation': 4, 'Laurentian Bank of Canada': 3, 'Ally Financial': 12, 'Canadian Western Bank': 0.97, 'Scotiabank': 33}\n"
     ]
    }
   ],
   "source": [
    "market_caps = {\n",
    "    \"National Bank of Canada\": 327,\n",
    "    \"Toronto-Dominion Bank\": 302,\n",
    "    \"Royal Bank of Canada\": 173,\n",
    "    \"Wells Fargo\": 273,\n",
    "    \"Goldman Sachs\": 87,\n",
    "    \"Morgan Stanley\": 72,\n",
    "    \"Canadian Imperial Bank of Commerce\": 83,\n",
    "    \"TD Bank\": 108,\n",
    "    \"Bank of Montreal\": 67,\n",
    "    \"Capital One\": 47,\n",
    "    \"FNB Corporation\": 4,\n",
    "    \"Laurentian Bank of Canada\": 3,\n",
    "    \"Ally Financial\": 12,\n",
    "    \"Montreal Trust Company\": 145,\n",
    "    \"Canadian Western Bank\": .97    \n",
    "}\n",
    "\n",
    "#print(market_caps)\n",
    "\n",
    "market_caps[\"Royal Bank of Canada\"] = 170\n",
    "\n",
    "market_caps[\"Scotiabank\"] = 33\n",
    "\n",
    "market_caps.pop(\"Montreal Trust Company\")\n",
    "\n",
    "#print(market_caps)\n",
    "\n",
    "for bank_key in market_caps:\n",
    "    \n",
    "    print(market_caps[bank_key])\n",
    "    \n",
    "print(market_caps)"
   ]
  },
  {
   "cell_type": "code",
   "execution_count": null,
   "metadata": {},
   "outputs": [],
   "source": []
  }
 ],
 "metadata": {
  "kernelspec": {
   "display_name": "Python 3",
   "language": "python",
   "name": "python3"
  },
  "language_info": {
   "codemirror_mode": {
    "name": "ipython",
    "version": 3
   },
   "file_extension": ".py",
   "mimetype": "text/x-python",
   "name": "python",
   "nbconvert_exporter": "python",
   "pygments_lexer": "ipython3",
   "version": "3.7.1"
  }
 },
 "nbformat": 4,
 "nbformat_minor": 2
}
