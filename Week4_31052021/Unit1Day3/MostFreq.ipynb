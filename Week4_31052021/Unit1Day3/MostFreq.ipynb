{
 "cells": [
  {
   "cell_type": "code",
   "execution_count": 23,
   "metadata": {},
   "outputs": [
    {
     "name": "stdout",
     "output_type": "stream",
     "text": [
      "2\n"
     ]
    }
   ],
   "source": [
    "from statistics import mode\n",
    "\n",
    "num_list = [1, 2, 2, 3]\n",
    "\n",
    "def calc_freq(num_list):\n",
    "    a = mode(num_list)\n",
    "    \n",
    "    print(a)\n",
    "\n",
    "calc_freq(num_list)"
   ]
  },
  {
   "cell_type": "code",
   "execution_count": 22,
   "metadata": {},
   "outputs": [
    {
     "name": "stdout",
     "output_type": "stream",
     "text": [
      "The most frequently occureing number is 7 which occurs 8 times.\n"
     ]
    }
   ],
   "source": [
    "from collections import Counter\n",
    "\n",
    "num_list = [1, 2, 2, 3, 7, 7, 7, 10, 12, 12, 12, 99, 12, 50, 45, 12, 7, 7, 7, 7, 7]\n",
    "\n",
    "def calc_freq(num_list):\n",
    "    a = Counter(num_list)\n",
    "    \n",
    "    print(f\"The most frequently occureing number is {a.most_common(1)[0][0]} which occurs {a.most_common(1)[0][1]} times.\")\n",
    "\n",
    "calc_freq(num_list)"
   ]
  },
  {
   "cell_type": "code",
   "execution_count": null,
   "metadata": {},
   "outputs": [],
   "source": []
  },
  {
   "cell_type": "code",
   "execution_count": null,
   "metadata": {},
   "outputs": [],
   "source": [
    "Write a function that finds the most frequent element in an array.\n"
   ]
  }
 ],
 "metadata": {
  "kernelspec": {
   "display_name": "Python 3",
   "language": "python",
   "name": "python3"
  },
  "language_info": {
   "codemirror_mode": {
    "name": "ipython",
    "version": 3
   },
   "file_extension": ".py",
   "mimetype": "text/x-python",
   "name": "python",
   "nbconvert_exporter": "python",
   "pygments_lexer": "ipython3",
   "version": "3.7.1"
  }
 },
 "nbformat": 4,
 "nbformat_minor": 2
}
