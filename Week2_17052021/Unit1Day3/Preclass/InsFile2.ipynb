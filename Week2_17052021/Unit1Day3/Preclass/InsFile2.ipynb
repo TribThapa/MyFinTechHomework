{
 "cells": [
  {
   "cell_type": "code",
   "execution_count": 1,
   "metadata": {},
   "outputs": [],
   "source": [
    "from pathlib import Path"
   ]
  },
  {
   "cell_type": "code",
   "execution_count": 3,
   "metadata": {},
   "outputs": [
    {
     "name": "stdout",
     "output_type": "stream",
     "text": [
      "The current working directory is C:\\Users\\TribThapa\\Desktop\\Thapa\\ResearchFellow\\Courses\\FinTech_Bootcamp_MonashUni2021\\monu-mel-virt-fin-pt-05-2021-u-c\\MyFinTechHomework\\Week2_17052021\\Unit1Day3\\Preclass\n"
     ]
    }
   ],
   "source": [
    "print(f\"The current working directory is {Path.cwd()}\")"
   ]
  },
  {
   "cell_type": "code",
   "execution_count": 6,
   "metadata": {},
   "outputs": [],
   "source": [
    "file = Path(r'C:\\Users\\TribThapa\\Desktop\\Thapa\\ResearchFellow\\Courses\\FinTech_Bootcamp_MonashUni2021\\monu-mel-virt-fin-pt-05-2021-u-c\\Activities\\Week 2\\Day 3\\08-Stu_File_IO\\Resources\\customer_traffic.txt')\n",
    "\n",
    "# Initialise variables\n",
    "customer_total = 0\n",
    "day_count = 0\n",
    "\n",
    "# Open the file in \"read\" mode ('r') and store the contents in the variable 'file'\n",
    "with open(file, 'r') as file:\n",
    "    for line in file:\n",
    "        number = int(line) # Convert the number in the text file from string to int\n",
    "        customer_total += number\n",
    "        day_count += 1\n",
    "        "
   ]
  },
  {
   "cell_type": "code",
   "execution_count": 8,
   "metadata": {},
   "outputs": [
    {
     "name": "stdout",
     "output_type": "stream",
     "text": [
      "Customer total: 4945\n",
      "Day count: 100\n"
     ]
    }
   ],
   "source": [
    "print(f\"Customer total: {customer_total}\")\n",
    "print(f\"Day count: {day_count}\")"
   ]
  },
  {
   "cell_type": "code",
   "execution_count": 15,
   "metadata": {},
   "outputs": [
    {
     "name": "stdout",
     "output_type": "stream",
     "text": [
      "Daily average: 49.45\n"
     ]
    }
   ],
   "source": [
    "# Calculate the average\n",
    "daily_average = round(customer_total/day_count, 2)\n",
    "print(f\"Daily average: {daily_average}\")\n",
    "\n",
    "# Set output file name\n",
    "output_file = Path(r'C:\\Users\\TribThapa\\Desktop\\Thapa\\ResearchFellow\\Courses\\FinTech_Bootcamp_MonashUni2021\\monu-mel-virt-fin-pt-05-2021-u-c\\MyFinTechHomework\\Week2_17052021\\Unit1Day3\\Preclass\\customer_traffic_output')\n",
    "\n",
    "# Open the output path as a file object\n",
    "with open(output_file, 'w') as file:\n",
    "    file.write(f\"There were {customer_total} customers over the course of {day_count} days.\")\n",
    "    file.write(f\"The average daily customer traffic was {daily_average} customers per day.\")\n"
   ]
  },
  {
   "cell_type": "code",
   "execution_count": null,
   "metadata": {},
   "outputs": [],
   "source": []
  }
 ],
 "metadata": {
  "kernelspec": {
   "display_name": "Python 3",
   "language": "python",
   "name": "python3"
  },
  "language_info": {
   "codemirror_mode": {
    "name": "ipython",
    "version": 3
   },
   "file_extension": ".py",
   "mimetype": "text/x-python",
   "name": "python",
   "nbconvert_exporter": "python",
   "pygments_lexer": "ipython3",
   "version": "3.7.1"
  }
 },
 "nbformat": 4,
 "nbformat_minor": 2
}
