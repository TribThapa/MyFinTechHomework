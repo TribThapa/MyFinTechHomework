{
 "cells": [
  {
   "cell_type": "code",
   "execution_count": 27,
   "metadata": {},
   "outputs": [
    {
     "name": "stdout",
     "output_type": "stream",
     "text": [
      "Functions are FUN!\n",
      "The sum of 18 and 19 is 37.\n",
      "Hello Thapa\n"
     ]
    },
    {
     "name": "stdin",
     "output_type": "stream",
     "text": [
      "What is your name? Thapa\n"
     ]
    },
    {
     "name": "stdout",
     "output_type": "stream",
     "text": [
      "User name is Thapa\n"
     ]
    },
    {
     "name": "stdin",
     "output_type": "stream",
     "text": [
      "Are you having a nice day? Yes\n"
     ]
    },
    {
     "name": "stdout",
     "output_type": "stream",
     "text": [
      "Response: Yes\n",
      "Your average number is 9.0\n"
     ]
    }
   ],
   "source": [
    "# Define a function `having_fun` that prints \"Functions are FUN!\".\n",
    "def having_fun():\n",
    "    print(\"Functions are FUN!\")\n",
    "    return \n",
    "\n",
    "having_fun()\n",
    "\n",
    "# Define a function `thirty_seven` that prints the sum of 18 and 19.\n",
    "def thirty_seven():\n",
    "    print(f\"The sum of 18 and 19 is {18 + 19}.\")\n",
    "    return \n",
    "\n",
    "thirty_seven()\n",
    "\n",
    "# Define a function `hello` that takes in a string parameter and prints the parameter variable.\n",
    "def hello(string):\n",
    "    print(f'Hello {string}')\n",
    "    return\n",
    "\n",
    "string = 'Thapa'\n",
    "hello(string)\n",
    "\n",
    "# Define a function `user_input` that asks the user \"What is your name?\" and stores it in a variable called `user_name` and print the user's name.\n",
    "def user_input():\n",
    "    a = input('What is your name?')\n",
    "    user_name = print(f'User name is {a}')\n",
    "    return\n",
    "\n",
    "user_input()\n",
    "\n",
    "# Define a function `good_day` that creates an input dialogue asking the user \"Are you having a nice day?\" and prints the response.\n",
    "def good_day():\n",
    "    Q = input('Are you having a nice day?')\n",
    "    print(f\"Response: {Q}\")\n",
    "    return \n",
    "good_day()\n",
    "\n",
    "# Define a function `average` that calculates the average between two parameters and returns the average.\n",
    "def average(num1, num2):\n",
    "    print(f'Your average number is {(num1 + num2)/2}')\n",
    "    return\n",
    "\n",
    "num1 = 8\n",
    "num2 = 10\n",
    "average(num1, num2)"
   ]
  },
  {
   "cell_type": "code",
   "execution_count": null,
   "metadata": {},
   "outputs": [],
   "source": []
  },
  {
   "cell_type": "code",
   "execution_count": null,
   "metadata": {},
   "outputs": [],
   "source": []
  },
  {
   "cell_type": "code",
   "execution_count": null,
   "metadata": {},
   "outputs": [],
   "source": []
  }
 ],
 "metadata": {
  "kernelspec": {
   "display_name": "Python 3",
   "language": "python",
   "name": "python3"
  },
  "language_info": {
   "codemirror_mode": {
    "name": "ipython",
    "version": 3
   },
   "file_extension": ".py",
   "mimetype": "text/x-python",
   "name": "python",
   "nbconvert_exporter": "python",
   "pygments_lexer": "ipython3",
   "version": "3.7.1"
  }
 },
 "nbformat": 4,
 "nbformat_minor": 2
}
