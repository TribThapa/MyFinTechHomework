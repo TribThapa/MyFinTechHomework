{
 "cells": [
  {
   "cell_type": "code",
   "execution_count": 1,
   "metadata": {},
   "outputs": [],
   "source": [
    "import pandas as pd\n",
    "import numpy as np\n",
    "import seaborn as sns\n",
    "%matplotlib inline"
   ]
  },
  {
   "cell_type": "code",
   "execution_count": 2,
   "metadata": {},
   "outputs": [
    {
     "name": "stdout",
     "output_type": "stream",
     "text": [
      "If you were to invest $10000 at 1.1, then your return would be $11000.0. However, \n",
      "if you were to invest $10000 at 1.9, then your return woul dbe $19000.0.\n"
     ]
    }
   ],
   "source": [
    "initial_investment = 10000\n",
    "\n",
    "prices = [1.42, 1.32, 1.45, 1.20, 1.34, 1.74, 1.10, 1.89, 1.42, 1.90, 1.80, 1.85]\n",
    "minimum_stock_price = 0\n",
    "maximum_stock_price = 0\n",
    "\n",
    "def MaxProfit(list_of_stock_prices, amount_to_invest):    \n",
    "    MinPrice = min(list_of_stock_prices)\n",
    "    MaxPrice = max(list_of_stock_prices)\n",
    "    \n",
    "    MinProfit = MinPrice * amount_to_invest\n",
    "    MaxProfit = MaxPrice * amount_to_invest\n",
    "    \n",
    "    print(f\"If you were to invest ${amount_to_invest} at {MinPrice}, then your return would be ${MinProfit}. However, \\n\" \n",
    "          f\"if you were to invest ${amount_to_invest} at {MaxPrice}, then your return woul dbe ${MaxProfit}.\")\n",
    "    return \n",
    "\n",
    "MaxProfit(prices, initial_investment)\n",
    "    \n"
   ]
  },
  {
   "cell_type": "code",
   "execution_count": null,
   "metadata": {},
   "outputs": [],
   "source": []
  }
 ],
 "metadata": {
  "kernelspec": {
   "display_name": "Python 3",
   "language": "python",
   "name": "python3"
  },
  "language_info": {
   "codemirror_mode": {
    "name": "ipython",
    "version": 3
   },
   "file_extension": ".py",
   "mimetype": "text/x-python",
   "name": "python",
   "nbconvert_exporter": "python",
   "pygments_lexer": "ipython3",
   "version": "3.7.1"
  }
 },
 "nbformat": 4,
 "nbformat_minor": 2
}
