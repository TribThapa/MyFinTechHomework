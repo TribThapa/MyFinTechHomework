{
 "cells": [
  {
   "cell_type": "code",
   "execution_count": 8,
   "metadata": {},
   "outputs": [
    {
     "name": "stdout",
     "output_type": "stream",
     "text": [
      "Hello! Welcome to the sandwich shop, what do I call you?\n"
     ]
    },
    {
     "name": "stdin",
     "output_type": "stream",
     "text": [
      "Are you here for a sandwich? (Yes or No)?  Yes\n",
      "What kind of sandwich would you like? peanut butter jelly time\n"
     ]
    },
    {
     "name": "stdout",
     "output_type": "stream",
     "text": [
      "peanut butter jelly time\n",
      "Please wait 10-mins for your peanut butter jelly time\n"
     ]
    }
   ],
   "source": [
    "# Declare a variable `welcome_name` as an input with a string of \"Welcome to the sandwich shop, what do I call you? \".\n",
    "welcome_name = 'Welcome to the sandwich shop, what do I call you?'\n",
    "\n",
    "# Then print the string \"Hello\" concatenated with the variable `welcome_name`.\n",
    "print(f\"Hello! {welcome_name}\")\n",
    "\n",
    "# Declare a variable `question_sandwich` as an input with a string of \"Are you here for a sandwich? (Yes or No?) \".\n",
    "question_sandwich = input(\"Are you here for a sandwich? (Yes or No)? \")\n",
    "\n",
    "# If `question_sandwich` is equal to true declare a variable `food_prompt` as an input with a string of \"What kind of sandwich would you like?\".\n",
    "# Then print a string of \"Please wait 10 min for your \" concatenated with the variable `food_prompt`.\n",
    "# Else If `question_sandwich` is false, print a string of \"If you don't want a sandwich what are you here for?!\".\n",
    "# Else print a string of \"You did not write Yes or No!\"\n",
    "\n",
    "if question_sandwich == 'Yes':\n",
    "    food_prompt = input(\"What kind of sandwich would you like?\")\n",
    "    print(food_prompt)\n",
    "    print(f\"Please wait 10-mins for your {food_prompt}\")\n",
    "elif question_sandwich == 'No':\n",
    "    print(f\"If you don't want a sandwich what are you here for?!\")\n",
    "else: \n",
    "    print(f\"You did not write 'Yes' or 'No!'\")\n",
    "\n",
    "\n",
    "    "
   ]
  },
  {
   "cell_type": "code",
   "execution_count": null,
   "metadata": {},
   "outputs": [],
   "source": [
    "\n",
    "\n",
    "\n",
    "\n",
    "\n",
    "\n"
   ]
  }
 ],
 "metadata": {
  "kernelspec": {
   "display_name": "Python 3",
   "language": "python",
   "name": "python3"
  },
  "language_info": {
   "codemirror_mode": {
    "name": "ipython",
    "version": 3
   },
   "file_extension": ".py",
   "mimetype": "text/x-python",
   "name": "python",
   "nbconvert_exporter": "python",
   "pygments_lexer": "ipython3",
   "version": "3.7.1"
  }
 },
 "nbformat": 4,
 "nbformat_minor": 2
}
