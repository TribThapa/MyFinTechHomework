{
 "cells": [
  {
   "cell_type": "markdown",
   "metadata": {},
   "source": [
    "# The Voice of the Blockchain\n",
    "\n",
    "Canada lies at the frontier of the blockchain sector with increasing adoption rates and favorable regulations. In this activity you will retrieve news articles regarding blockchain in Canada for both English and French languages to capture the voice of the blockchain."
   ]
  },
  {
   "cell_type": "code",
   "execution_count": 15,
   "metadata": {},
   "outputs": [],
   "source": [
    "# Initial imports\n",
    "import pandas as pd\n",
    "from dotenv import load_dotenv\n",
    "import os\n",
    "from path import Path\n",
    "from newsapi import NewsApiClient\n",
    "\n",
    "import warnings\n",
    "warnings.filterwarnings('ignore')"
   ]
  },
  {
   "cell_type": "code",
   "execution_count": 16,
   "metadata": {},
   "outputs": [
    {
     "name": "stdout",
     "output_type": "stream",
     "text": [
      "NEWS API Key type: <class 'str'>\n"
     ]
    }
   ],
   "source": [
    "# Load environment variables and retrieve the News API key\n",
    "load_dotenv(\"./example.env\")\n",
    "\n",
    "api_key = os.getenv(\"NEWS_API_KEY\")\n",
    "\n",
    "print(f\"NEWS API Key type: {type(api_key)}\")"
   ]
  },
  {
   "cell_type": "code",
   "execution_count": 17,
   "metadata": {},
   "outputs": [],
   "source": [
    "# Create the newsapi client\n",
    "newsapi = NewsApiClient(api_key=api_key)"
   ]
  },
  {
   "cell_type": "markdown",
   "metadata": {},
   "source": [
    "## Getting News Articles in English\n",
    "\n",
    "In this section you have to fetch all the news articles using the News API with the keywords `blockchain`, `canada`, and `2020` in English.\n",
    "\n"
   ]
  },
  {
   "cell_type": "code",
   "execution_count": 28,
   "metadata": {},
   "outputs": [
    {
     "name": "stdout",
     "output_type": "stream",
     "text": [
      "Total number of news articles for Canada is 37793\n",
      "\n",
      "Total number of news articles for Blockchain is 4637\n",
      "\n",
      "Total number of news articles for 2020 is 179031\n"
     ]
    }
   ],
   "source": [
    "# Fetch news about Canada and Blockchain in 2020 in the English language\n",
    "query = [\"Canada\", \"Blockchain\", \"2020\"]\n",
    "\n",
    "query_articles_en = []\n",
    "\n",
    "for i in query:\n",
    "    \n",
    "    news_query = newsapi.get_everything(q=i,\n",
    "                                        language='en',\n",
    "                                        sort_by='relevancy')\n",
    "    query_articles_en.append(news_query)\n",
    "    \n",
    "\n",
    "# Show the total number of news\n",
    "print(f\"Total number of news articles for {query[0]} is {query_articles_en[0]['totalResults']}\")\n",
    "print()\n",
    "print(f\"Total number of news articles for {query[1]} is {query_articles_en[1]['totalResults']}\")\n",
    "print()\n",
    "print(f\"Total number of news articles for {query[2]} is {query_articles_en[2]['totalResults']}\")"
   ]
  },
  {
   "cell_type": "code",
   "execution_count": 34,
   "metadata": {},
   "outputs": [
    {
     "name": "stdout",
     "output_type": "stream",
     "text": [
      "Total number of news articles is 131\n"
     ]
    }
   ],
   "source": [
    "news_query = newsapi.get_everything(q=\"blockchain AND canada AND 2020\",\n",
    "                                    language='en',\n",
    "                                    sort_by='relevancy')\n",
    "\n",
    "\n",
    "print(f\"Total number of news articles is {news_query['totalResults']}\")"
   ]
  },
  {
   "cell_type": "markdown",
   "metadata": {},
   "source": [
    "## Getting News Articles in French\n",
    "\n",
    "Fetching news in French will require keywords on this language, so retrieve all the news articles using the News API using the keywords `blockchain`, `canada`, and `2020`."
   ]
  },
  {
   "cell_type": "code",
   "execution_count": 30,
   "metadata": {},
   "outputs": [
    {
     "name": "stdout",
     "output_type": "stream",
     "text": [
      "Total number of news articles for Canada is 1552\n",
      "\n",
      "Total number of news articles for Blockchain is 204\n",
      "\n",
      "Total number of news articles for 2020 is 16500\n"
     ]
    }
   ],
   "source": [
    "# Fetch news about Canada and Blockchain in 2020 in the English language\n",
    "query = [\"Canada\", \"Blockchain\", \"2020\"]\n",
    "\n",
    "query_articles_fr = []\n",
    "\n",
    "for i in query:\n",
    "    \n",
    "    news_query = newsapi.get_everything(q=i,\n",
    "                                        language='fr',\n",
    "                                        sort_by='relevancy')\n",
    "    \n",
    "    query_articles_fr.append(news_query)\n",
    "    \n",
    "\n",
    "# Show the total number of news\n",
    "print(f\"Total number of news articles for {query[0]} is {query_articles_fr[0]['totalResults']}\")\n",
    "print()\n",
    "print(f\"Total number of news articles for {query[1]} is {query_articles_fr[1]['totalResults']}\")\n",
    "print()\n",
    "print(f\"Total number of news articles for {query[2]} is {query_articles_fr[2]['totalResults']}\")"
   ]
  },
  {
   "cell_type": "markdown",
   "metadata": {},
   "source": [
    "## Create a DataFrame with All the Results\n",
    "\n",
    "The first task on this section is to create a function called `create_df(news, language)` that will transform the `articles` list in a DataFrame. This function will receive two parameters: `news` is the articles' list and `language` is a string to specify the language of the news articles.\n",
    "\n",
    "The resulting DataFrame should have the following columns:\n",
    "\n",
    "* Title: The article's title\n",
    "* Description: The article's description\n",
    "* Text: The article's content\n",
    "* Date: The date when the article was published, using the format `YYY-MM-DD` (eg. 2019-07-11)\n",
    "* Language: A string specifying the news language (`en` for English, `fr` for French)"
   ]
  },
  {
   "cell_type": "code",
   "execution_count": 31,
   "metadata": {},
   "outputs": [],
   "source": [
    "# Function to create a dataframe for english news and french news\n",
    "def create_df(news, language):\n",
    "\n",
    "    df = pd.json_normalize(news[\"articles\"])\n",
    "\n",
    "    df_new = df[[\"title\", \"description\", \"content\", \"publishedAt\"]]\n",
    "\n",
    "    df_new.columns = [\"Title\", \"Description\", \"Text\", \"Date\"]\n",
    "\n",
    "    language_list = []\n",
    "\n",
    "    for x in range(len(df_new)):\n",
    "\n",
    "        language_list.append(language)\n",
    "\n",
    "    df_new[\"Language\"] = language_list\n",
    "    \n",
    "    return df_new\n"
   ]
  },
  {
   "cell_type": "markdown",
   "metadata": {},
   "source": [
    "Use the create_df() function to create a DataFrame for the English news and another for the French news."
   ]
  },
  {
   "cell_type": "code",
   "execution_count": 32,
   "metadata": {},
   "outputs": [
    {
     "data": {
      "text/html": [
       "<div>\n",
       "<style scoped>\n",
       "    .dataframe tbody tr th:only-of-type {\n",
       "        vertical-align: middle;\n",
       "    }\n",
       "\n",
       "    .dataframe tbody tr th {\n",
       "        vertical-align: top;\n",
       "    }\n",
       "\n",
       "    .dataframe thead th {\n",
       "        text-align: right;\n",
       "    }\n",
       "</style>\n",
       "<table border=\"1\" class=\"dataframe\">\n",
       "  <thead>\n",
       "    <tr style=\"text-align: right;\">\n",
       "      <th></th>\n",
       "      <th>Title</th>\n",
       "      <th>Description</th>\n",
       "      <th>Text</th>\n",
       "      <th>Date</th>\n",
       "      <th>Language</th>\n",
       "    </tr>\n",
       "  </thead>\n",
       "  <tbody>\n",
       "    <tr>\n",
       "      <th>0</th>\n",
       "      <td>Ask HN: How aware are you about building decen...</td>\n",
       "      <td>Comments</td>\n",
       "      <td>The HN attitude about blockchain is overwhelmi...</td>\n",
       "      <td>2021-07-06T15:48:30Z</td>\n",
       "      <td>fr</td>\n",
       "    </tr>\n",
       "    <tr>\n",
       "      <th>1</th>\n",
       "      <td>Au Cambodge, la blockchain favorise l’inclusio...</td>\n",
       "      <td>La plateforme de paiement créée par la Banque ...</td>\n",
       "      <td>La plateforme de paiement créée par la Banque ...</td>\n",
       "      <td>2021-07-14T18:56:04Z</td>\n",
       "      <td>fr</td>\n",
       "    </tr>\n",
       "    <tr>\n",
       "      <th>2</th>\n",
       "      <td>Actualité : Amazon se cherche un spécialiste d...</td>\n",
       "      <td>Jusqu'à présent, l'ogre Amazon était resté à b...</td>\n",
       "      <td>Repérée par Business Insider, une offre d'empl...</td>\n",
       "      <td>2021-07-26T09:04:00Z</td>\n",
       "      <td>fr</td>\n",
       "    </tr>\n",
       "    <tr>\n",
       "      <th>3</th>\n",
       "      <td>Qu’est-ce qu'Axie Infinity (AXS), le jeu fondé...</td>\n",
       "      <td>Acheter, combattre et élever d’adorables monst...</td>\n",
       "      <td>Axie Infinity est un jeu dont le gameplay pour...</td>\n",
       "      <td>2021-07-28T11:30:00Z</td>\n",
       "      <td>fr</td>\n",
       "    </tr>\n",
       "    <tr>\n",
       "      <th>4</th>\n",
       "      <td>Avec la blockchain, il sera possible de deveni...</td>\n",
       "      <td>ENCHÈRES - Fillette au béret, une huile évalué...</td>\n",
       "      <td>ENCHÈRES - Fillette au béret, une huile évalué...</td>\n",
       "      <td>2021-07-19T04:00:29Z</td>\n",
       "      <td>fr</td>\n",
       "    </tr>\n",
       "  </tbody>\n",
       "</table>\n",
       "</div>"
      ],
      "text/plain": [
       "                                               Title  \\\n",
       "0  Ask HN: How aware are you about building decen...   \n",
       "1  Au Cambodge, la blockchain favorise l’inclusio...   \n",
       "2  Actualité : Amazon se cherche un spécialiste d...   \n",
       "3  Qu’est-ce qu'Axie Infinity (AXS), le jeu fondé...   \n",
       "4  Avec la blockchain, il sera possible de deveni...   \n",
       "\n",
       "                                         Description  \\\n",
       "0                                           Comments   \n",
       "1  La plateforme de paiement créée par la Banque ...   \n",
       "2  Jusqu'à présent, l'ogre Amazon était resté à b...   \n",
       "3  Acheter, combattre et élever d’adorables monst...   \n",
       "4  ENCHÈRES - Fillette au béret, une huile évalué...   \n",
       "\n",
       "                                                Text                  Date  \\\n",
       "0  The HN attitude about blockchain is overwhelmi...  2021-07-06T15:48:30Z   \n",
       "1  La plateforme de paiement créée par la Banque ...  2021-07-14T18:56:04Z   \n",
       "2  Repérée par Business Insider, une offre d'empl...  2021-07-26T09:04:00Z   \n",
       "3  Axie Infinity est un jeu dont le gameplay pour...  2021-07-28T11:30:00Z   \n",
       "4  ENCHÈRES - Fillette au béret, une huile évalué...  2021-07-19T04:00:29Z   \n",
       "\n",
       "  Language  \n",
       "0       fr  \n",
       "1       fr  \n",
       "2       fr  \n",
       "3       fr  \n",
       "4       fr  "
      ]
     },
     "execution_count": 32,
     "metadata": {},
     "output_type": "execute_result"
    }
   ],
   "source": [
    "# Create a DataFrame with the news in English\n",
    "en_df = create_df(query_articles_en[1], 'en') \n",
    "\n",
    "en_df.head()\n",
    "\n",
    "# Create a DataFrame with the news in French\n",
    "fr_df = create_df(query_articles_fr[1], 'fr') \n",
    "\n",
    "fr_df.head()"
   ]
  },
  {
   "cell_type": "markdown",
   "metadata": {},
   "source": [
    "Concatenate both DataFrames having the English news at the top and the French news at the bottom."
   ]
  },
  {
   "cell_type": "code",
   "execution_count": 22,
   "metadata": {},
   "outputs": [],
   "source": [
    "# Concatenate dataframes\n",
    "pd_concat = pd.concat([en_df, fr_df], axis=0)"
   ]
  },
  {
   "cell_type": "code",
   "execution_count": 23,
   "metadata": {},
   "outputs": [
    {
     "data": {
      "text/html": [
       "<div>\n",
       "<style scoped>\n",
       "    .dataframe tbody tr th:only-of-type {\n",
       "        vertical-align: middle;\n",
       "    }\n",
       "\n",
       "    .dataframe tbody tr th {\n",
       "        vertical-align: top;\n",
       "    }\n",
       "\n",
       "    .dataframe thead th {\n",
       "        text-align: right;\n",
       "    }\n",
       "</style>\n",
       "<table border=\"1\" class=\"dataframe\">\n",
       "  <thead>\n",
       "    <tr style=\"text-align: right;\">\n",
       "      <th></th>\n",
       "      <th>Title</th>\n",
       "      <th>Description</th>\n",
       "      <th>Text</th>\n",
       "      <th>Date</th>\n",
       "      <th>Language</th>\n",
       "    </tr>\n",
       "  </thead>\n",
       "  <tbody>\n",
       "    <tr>\n",
       "      <th>0</th>\n",
       "      <td>Nansen raises $12M from a16z to help investors...</td>\n",
       "      <td>While the ambitions of crypto investors have s...</td>\n",
       "      <td>While the ambitions of crypto investors have s...</td>\n",
       "      <td>2021-06-29T18:10:35Z</td>\n",
       "      <td>en</td>\n",
       "    </tr>\n",
       "    <tr>\n",
       "      <th>1</th>\n",
       "      <td>What we learned from selling a blockchain serv...</td>\n",
       "      <td>Africa is a smaller addressable market. If you...</td>\n",
       "      <td>A major attraction of Africa is its large popu...</td>\n",
       "      <td>2021-07-19T20:49:20Z</td>\n",
       "      <td>en</td>\n",
       "    </tr>\n",
       "    <tr>\n",
       "      <th>2</th>\n",
       "      <td>Crypto investors like Terraform Labs so much, ...</td>\n",
       "      <td>There are many blockchain platforms competing ...</td>\n",
       "      <td>There are many blockchain platforms competing ...</td>\n",
       "      <td>2021-07-16T16:00:55Z</td>\n",
       "      <td>en</td>\n",
       "    </tr>\n",
       "    <tr>\n",
       "      <th>3</th>\n",
       "      <td>Crypto startup Phantom banks funding from Andr...</td>\n",
       "      <td>While retail investors grew more comfortable b...</td>\n",
       "      <td>While retail investors grew more comfortable b...</td>\n",
       "      <td>2021-07-14T19:09:01Z</td>\n",
       "      <td>en</td>\n",
       "    </tr>\n",
       "    <tr>\n",
       "      <th>4</th>\n",
       "      <td>Shopify allows merchants to sell NFTs directly...</td>\n",
       "      <td>The NBA’s Chicago Bulls launched its first-eve...</td>\n",
       "      <td>Shopify has made it possible for eligible sell...</td>\n",
       "      <td>2021-07-27T16:43:40Z</td>\n",
       "      <td>en</td>\n",
       "    </tr>\n",
       "  </tbody>\n",
       "</table>\n",
       "</div>"
      ],
      "text/plain": [
       "                                               Title  \\\n",
       "0  Nansen raises $12M from a16z to help investors...   \n",
       "1  What we learned from selling a blockchain serv...   \n",
       "2  Crypto investors like Terraform Labs so much, ...   \n",
       "3  Crypto startup Phantom banks funding from Andr...   \n",
       "4  Shopify allows merchants to sell NFTs directly...   \n",
       "\n",
       "                                         Description  \\\n",
       "0  While the ambitions of crypto investors have s...   \n",
       "1  Africa is a smaller addressable market. If you...   \n",
       "2  There are many blockchain platforms competing ...   \n",
       "3  While retail investors grew more comfortable b...   \n",
       "4  The NBA’s Chicago Bulls launched its first-eve...   \n",
       "\n",
       "                                                Text                  Date  \\\n",
       "0  While the ambitions of crypto investors have s...  2021-06-29T18:10:35Z   \n",
       "1  A major attraction of Africa is its large popu...  2021-07-19T20:49:20Z   \n",
       "2  There are many blockchain platforms competing ...  2021-07-16T16:00:55Z   \n",
       "3  While retail investors grew more comfortable b...  2021-07-14T19:09:01Z   \n",
       "4  Shopify has made it possible for eligible sell...  2021-07-27T16:43:40Z   \n",
       "\n",
       "  Language  \n",
       "0       en  \n",
       "1       en  \n",
       "2       en  \n",
       "3       en  \n",
       "4       en  "
      ]
     },
     "execution_count": 23,
     "metadata": {},
     "output_type": "execute_result"
    }
   ],
   "source": [
    "# Show the head articles (they are in English)\n",
    "pd_concat.head()"
   ]
  },
  {
   "cell_type": "code",
   "execution_count": 24,
   "metadata": {},
   "outputs": [
    {
     "data": {
      "text/html": [
       "<div>\n",
       "<style scoped>\n",
       "    .dataframe tbody tr th:only-of-type {\n",
       "        vertical-align: middle;\n",
       "    }\n",
       "\n",
       "    .dataframe tbody tr th {\n",
       "        vertical-align: top;\n",
       "    }\n",
       "\n",
       "    .dataframe thead th {\n",
       "        text-align: right;\n",
       "    }\n",
       "</style>\n",
       "<table border=\"1\" class=\"dataframe\">\n",
       "  <thead>\n",
       "    <tr style=\"text-align: right;\">\n",
       "      <th></th>\n",
       "      <th>Title</th>\n",
       "      <th>Description</th>\n",
       "      <th>Text</th>\n",
       "      <th>Date</th>\n",
       "      <th>Language</th>\n",
       "    </tr>\n",
       "  </thead>\n",
       "  <tbody>\n",
       "    <tr>\n",
       "      <th>15</th>\n",
       "      <td>Cryptomonnaie : Coinbase mise sur un compte d’...</td>\n",
       "      <td>La nouvelle botte secrète de Coinbase, basé su...</td>\n",
       "      <td>Les plateformes dachat de cryptomonnaies doive...</td>\n",
       "      <td>2021-07-05T10:45:31Z</td>\n",
       "      <td>fr</td>\n",
       "    </tr>\n",
       "    <tr>\n",
       "      <th>16</th>\n",
       "      <td>Inquiet pour sa sécurité, l’un des co-fondateu...</td>\n",
       "      <td>Anthony Di Iorio, co-fondateur d’Ethereum (ETH...</td>\n",
       "      <td>Dans les semaines à venir, Anthony Di Iorio pr...</td>\n",
       "      <td>2021-07-19T12:40:00Z</td>\n",
       "      <td>fr</td>\n",
       "    </tr>\n",
       "    <tr>\n",
       "      <th>17</th>\n",
       "      <td>La police ukrainienne a saisi une ferme de cry...</td>\n",
       "      <td>Les autorités ukrainienne ont découvert un han...</td>\n",
       "      <td>Les autorités ukrainienne ont découvert un han...</td>\n",
       "      <td>2021-07-16T05:30:57Z</td>\n",
       "      <td>fr</td>\n",
       "    </tr>\n",
       "    <tr>\n",
       "      <th>18</th>\n",
       "      <td>Des milliers de PS4 Pro utilisées clandestinem...</td>\n",
       "      <td>Le Service de sécurité ukrainien (SBU) a réali...</td>\n",
       "      <td>Le Service de sécurité ukrainien (SBU) a réali...</td>\n",
       "      <td>2021-07-13T13:00:50Z</td>\n",
       "      <td>fr</td>\n",
       "    </tr>\n",
       "    <tr>\n",
       "      <th>19</th>\n",
       "      <td>La pie chanteuse est vendue sous forme de NFT ...</td>\n",
       "      <td>INTERNATIONAL - La pie chanteuse des Seychelle...</td>\n",
       "      <td>INTERNATIONAL - La pie chanteuse des Seychelle...</td>\n",
       "      <td>2021-07-20T15:36:58Z</td>\n",
       "      <td>fr</td>\n",
       "    </tr>\n",
       "  </tbody>\n",
       "</table>\n",
       "</div>"
      ],
      "text/plain": [
       "                                                Title  \\\n",
       "15  Cryptomonnaie : Coinbase mise sur un compte d’...   \n",
       "16  Inquiet pour sa sécurité, l’un des co-fondateu...   \n",
       "17  La police ukrainienne a saisi une ferme de cry...   \n",
       "18  Des milliers de PS4 Pro utilisées clandestinem...   \n",
       "19  La pie chanteuse est vendue sous forme de NFT ...   \n",
       "\n",
       "                                          Description  \\\n",
       "15  La nouvelle botte secrète de Coinbase, basé su...   \n",
       "16  Anthony Di Iorio, co-fondateur d’Ethereum (ETH...   \n",
       "17  Les autorités ukrainienne ont découvert un han...   \n",
       "18  Le Service de sécurité ukrainien (SBU) a réali...   \n",
       "19  INTERNATIONAL - La pie chanteuse des Seychelle...   \n",
       "\n",
       "                                                 Text                  Date  \\\n",
       "15  Les plateformes dachat de cryptomonnaies doive...  2021-07-05T10:45:31Z   \n",
       "16  Dans les semaines à venir, Anthony Di Iorio pr...  2021-07-19T12:40:00Z   \n",
       "17  Les autorités ukrainienne ont découvert un han...  2021-07-16T05:30:57Z   \n",
       "18  Le Service de sécurité ukrainien (SBU) a réali...  2021-07-13T13:00:50Z   \n",
       "19  INTERNATIONAL - La pie chanteuse des Seychelle...  2021-07-20T15:36:58Z   \n",
       "\n",
       "   Language  \n",
       "15       fr  \n",
       "16       fr  \n",
       "17       fr  \n",
       "18       fr  \n",
       "19       fr  "
      ]
     },
     "execution_count": 24,
     "metadata": {},
     "output_type": "execute_result"
    }
   ],
   "source": [
    "# Show the tail articles (they are in French)\n",
    "pd_concat.tail()"
   ]
  },
  {
   "cell_type": "markdown",
   "metadata": {},
   "source": [
    "Save tha final DataFrame as a CSV file for further analysis in the forthcoming activities."
   ]
  },
  {
   "cell_type": "code",
   "execution_count": 25,
   "metadata": {},
   "outputs": [],
   "source": [
    "# Save to CSV\n",
    "pd_concat.to_csv('Crypto_News_En_Fr.csv')"
   ]
  }
 ],
 "metadata": {
  "file_extension": ".py",
  "kernelspec": {
   "display_name": "Python 3",
   "language": "python",
   "name": "python3"
  },
  "language_info": {
   "codemirror_mode": {
    "name": "ipython",
    "version": 3
   },
   "file_extension": ".py",
   "mimetype": "text/x-python",
   "name": "python",
   "nbconvert_exporter": "python",
   "pygments_lexer": "ipython3",
   "version": "3.8.8"
  },
  "mimetype": "text/x-python",
  "name": "python",
  "npconvert_exporter": "python",
  "pygments_lexer": "ipython3",
  "version": 3
 },
 "nbformat": 4,
 "nbformat_minor": 4
}
