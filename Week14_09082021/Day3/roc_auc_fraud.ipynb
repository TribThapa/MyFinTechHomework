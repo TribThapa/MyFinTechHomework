{
 "cells": [
  {
   "cell_type": "markdown",
   "metadata": {},
   "source": [
    "# Instructor Do: Intro to the ROC Curve and AUC\n",
    "\n",
    "In this activity, students will learn how to measure the performance of a binary classification model by fetching metrics from Keras, as well as plotting and interpreting the ROC curve and AUC."
   ]
  },
  {
   "cell_type": "code",
   "execution_count": 1,
   "metadata": {},
   "outputs": [],
   "source": [
    "# Initial imports\n",
    "import pandas as pd\n",
    "import numpy as np\n",
    "import matplotlib.pyplot as plt\n",
    "import tensorflow as tf\n",
    "from pathlib import Path\n",
    "\n",
    "%matplotlib inline"
   ]
  },
  {
   "cell_type": "markdown",
   "metadata": {},
   "source": [
    "## The Dataset\n",
    "\n",
    "The data provided for this demo contains anonymous information about `284807` credit card transactions made by European credit cardholders in September 2013.\n",
    "\n",
    "The dataset is going to be used to create a binary classification model using a deep neural network to detect fraudulent transactions. It contains nine numerical variables, which are the result of PCA transformation to protect the confidentiality of credit cardholders. Only the transaction amount can be seen as is.\n",
    "\n",
    "This dataset is an abstract of the file shared by the [Machine Learning Group](http://mlg.ulb.ac.be) of the Université Libre de Bruxelles (ULB)."
   ]
  },
  {
   "cell_type": "code",
   "execution_count": 2,
   "metadata": {},
   "outputs": [
    {
     "data": {
      "text/html": [
       "<div>\n",
       "<style scoped>\n",
       "    .dataframe tbody tr th:only-of-type {\n",
       "        vertical-align: middle;\n",
       "    }\n",
       "\n",
       "    .dataframe tbody tr th {\n",
       "        vertical-align: top;\n",
       "    }\n",
       "\n",
       "    .dataframe thead th {\n",
       "        text-align: right;\n",
       "    }\n",
       "</style>\n",
       "<table border=\"1\" class=\"dataframe\">\n",
       "  <thead>\n",
       "    <tr style=\"text-align: right;\">\n",
       "      <th></th>\n",
       "      <th>V1</th>\n",
       "      <th>V2</th>\n",
       "      <th>V3</th>\n",
       "      <th>V4</th>\n",
       "      <th>V5</th>\n",
       "      <th>V6</th>\n",
       "      <th>V7</th>\n",
       "      <th>V8</th>\n",
       "      <th>V9</th>\n",
       "      <th>Amount</th>\n",
       "      <th>Class</th>\n",
       "    </tr>\n",
       "  </thead>\n",
       "  <tbody>\n",
       "    <tr>\n",
       "      <th>0</th>\n",
       "      <td>-1.359807</td>\n",
       "      <td>-0.072781</td>\n",
       "      <td>2.536347</td>\n",
       "      <td>1.378155</td>\n",
       "      <td>-0.338321</td>\n",
       "      <td>0.462388</td>\n",
       "      <td>0.239599</td>\n",
       "      <td>0.098698</td>\n",
       "      <td>0.363787</td>\n",
       "      <td>149.62</td>\n",
       "      <td>0</td>\n",
       "    </tr>\n",
       "    <tr>\n",
       "      <th>1</th>\n",
       "      <td>1.191857</td>\n",
       "      <td>0.266151</td>\n",
       "      <td>0.166480</td>\n",
       "      <td>0.448154</td>\n",
       "      <td>0.060018</td>\n",
       "      <td>-0.082361</td>\n",
       "      <td>-0.078803</td>\n",
       "      <td>0.085102</td>\n",
       "      <td>-0.255425</td>\n",
       "      <td>2.69</td>\n",
       "      <td>0</td>\n",
       "    </tr>\n",
       "    <tr>\n",
       "      <th>2</th>\n",
       "      <td>-1.358354</td>\n",
       "      <td>-1.340163</td>\n",
       "      <td>1.773209</td>\n",
       "      <td>0.379780</td>\n",
       "      <td>-0.503198</td>\n",
       "      <td>1.800499</td>\n",
       "      <td>0.791461</td>\n",
       "      <td>0.247676</td>\n",
       "      <td>-1.514654</td>\n",
       "      <td>378.66</td>\n",
       "      <td>0</td>\n",
       "    </tr>\n",
       "    <tr>\n",
       "      <th>3</th>\n",
       "      <td>-0.966272</td>\n",
       "      <td>-0.185226</td>\n",
       "      <td>1.792993</td>\n",
       "      <td>-0.863291</td>\n",
       "      <td>-0.010309</td>\n",
       "      <td>1.247203</td>\n",
       "      <td>0.237609</td>\n",
       "      <td>0.377436</td>\n",
       "      <td>-1.387024</td>\n",
       "      <td>123.50</td>\n",
       "      <td>0</td>\n",
       "    </tr>\n",
       "    <tr>\n",
       "      <th>4</th>\n",
       "      <td>-1.158233</td>\n",
       "      <td>0.877737</td>\n",
       "      <td>1.548718</td>\n",
       "      <td>0.403034</td>\n",
       "      <td>-0.407193</td>\n",
       "      <td>0.095921</td>\n",
       "      <td>0.592941</td>\n",
       "      <td>-0.270533</td>\n",
       "      <td>0.817739</td>\n",
       "      <td>69.99</td>\n",
       "      <td>0</td>\n",
       "    </tr>\n",
       "  </tbody>\n",
       "</table>\n",
       "</div>"
      ],
      "text/plain": [
       "         V1        V2        V3        V4        V5        V6        V7  \\\n",
       "0 -1.359807 -0.072781  2.536347  1.378155 -0.338321  0.462388  0.239599   \n",
       "1  1.191857  0.266151  0.166480  0.448154  0.060018 -0.082361 -0.078803   \n",
       "2 -1.358354 -1.340163  1.773209  0.379780 -0.503198  1.800499  0.791461   \n",
       "3 -0.966272 -0.185226  1.792993 -0.863291 -0.010309  1.247203  0.237609   \n",
       "4 -1.158233  0.877737  1.548718  0.403034 -0.407193  0.095921  0.592941   \n",
       "\n",
       "         V8        V9  Amount  Class  \n",
       "0  0.098698  0.363787  149.62      0  \n",
       "1  0.085102 -0.255425    2.69      0  \n",
       "2  0.247676 -1.514654  378.66      0  \n",
       "3  0.377436 -1.387024  123.50      0  \n",
       "4 -0.270533  0.817739   69.99      0  "
      ]
     },
     "execution_count": 2,
     "metadata": {},
     "output_type": "execute_result"
    }
   ],
   "source": [
    "# Import the dataset\n",
    "transactions_df = pd.read_csv(r\"C:\\Users\\TribThapa\\Desktop\\Thapa\\ResearchFellow\\Courses\\FinTech_Bootcamp_MonashUni2021\\monu-mel-virt-fin-pt-05-2021-u-c\\Activities\\Week 14\\3\\01-Evr_ROC_AUC\\Resources\\transactions.csv\")\n",
    "\n",
    "transactions_df.head()"
   ]
  },
  {
   "cell_type": "markdown",
   "metadata": {},
   "source": [
    "## Data Preprocessing"
   ]
  },
  {
   "cell_type": "code",
   "execution_count": 3,
   "metadata": {},
   "outputs": [],
   "source": [
    "# Creating the X and y sets\n",
    "X = transactions_df.iloc[:, 0:10].values\n",
    "\n",
    "y = transactions_df[\"Class\"].values"
   ]
  },
  {
   "cell_type": "code",
   "execution_count": 4,
   "metadata": {},
   "outputs": [
    {
     "name": "stdout",
     "output_type": "stream",
     "text": [
      "X: (284807, 10)\n",
      "Y: (284807,)\n"
     ]
    }
   ],
   "source": [
    "print(f\"X: {X.shape}\")\n",
    "\n",
    "print(f\"Y: {y.shape}\")"
   ]
  },
  {
   "cell_type": "code",
   "execution_count": 5,
   "metadata": {},
   "outputs": [],
   "source": [
    "# Import the StandardScaler from sklearn\n",
    "from sklearn.preprocessing import StandardScaler\n",
    "\n",
    "# Scale the data\n",
    "scaler = StandardScaler().fit(X)\n",
    "\n",
    "X = scaler.transform(X)"
   ]
  },
  {
   "cell_type": "markdown",
   "metadata": {},
   "source": [
    "Now that the data is scaled, the training, validation, and testing sets will be created."
   ]
  },
  {
   "cell_type": "code",
   "execution_count": 6,
   "metadata": {},
   "outputs": [],
   "source": [
    "# Creating training, validation, and testing sets\n",
    "from sklearn.model_selection import train_test_split\n",
    "\n",
    "X_train, X_test, y_train, y_test = train_test_split(X,\n",
    "                                                    y,\n",
    "                                                    random_state=78)"
   ]
  },
  {
   "cell_type": "code",
   "execution_count": 7,
   "metadata": {},
   "outputs": [],
   "source": [
    "X_train, X_val, y_train, y_val = train_test_split(X_train,\n",
    "                                                  y_train,\n",
    "                                                  random_state=78)"
   ]
  },
  {
   "cell_type": "markdown",
   "metadata": {},
   "source": [
    "## Build and Train the Deep Learning Model"
   ]
  },
  {
   "cell_type": "markdown",
   "metadata": {},
   "source": [
    " ### Importing the Keras Modules"
   ]
  },
  {
   "cell_type": "code",
   "execution_count": 8,
   "metadata": {},
   "outputs": [],
   "source": [
    "# Import Keras modules for model creation\n",
    "from tensorflow.keras.models import Sequential\n",
    "from tensorflow.keras.layers import Dense"
   ]
  },
  {
   "cell_type": "markdown",
   "metadata": {},
   "source": [
    " ### Setting Up the Model"
   ]
  },
  {
   "cell_type": "code",
   "execution_count": 9,
   "metadata": {},
   "outputs": [],
   "source": [
    "# Model set-up\n",
    "number_input_features = 10\n",
    "hidden_nodes_layer1 = 15\n",
    "hidden_nodes_layer2 = 5"
   ]
  },
  {
   "cell_type": "markdown",
   "metadata": {},
   "source": [
    " ### Defining the Model's Structure"
   ]
  },
  {
   "cell_type": "code",
   "execution_count": 10,
   "metadata": {},
   "outputs": [],
   "source": [
    "# Define the LSTM RNN model\n",
    "model = Sequential()\n",
    "\n",
    "# Layer 1\n",
    "model.add(Dense(units=hidden_nodes_layer1, \n",
    "                input_dim=number_input_features,\n",
    "                activation=\"relu\"))\n",
    "\n",
    "# Layer 2\n",
    "model.add(Dense(units=hidden_nodes_layer2,\n",
    "                activation=\"relu\"))\n",
    "\n",
    "# Output layer\n",
    "model.add(Dense(1,\n",
    "                activation=\"sigmoid\"))"
   ]
  },
  {
   "cell_type": "markdown",
   "metadata": {},
   "source": [
    " ### Compiling the Model"
   ]
  },
  {
   "cell_type": "code",
   "execution_count": 11,
   "metadata": {},
   "outputs": [],
   "source": [
    "# Compile the model\n",
    "model.compile(loss=\"binary_crossentropy\",\n",
    "              optimizer=\"adam\",\n",
    "              metrics=[\"accuracy\",\n",
    "                       tf.keras.metrics.TruePositives(name=\"tp\"),\n",
    "                       tf.keras.metrics.TrueNegatives(name=\"tn\"),\n",
    "                       tf.keras.metrics.FalsePositives(name=\"fp\"),\n",
    "                       tf.keras.metrics.FalseNegatives(name=\"fn\"),\n",
    "                       tf.keras.metrics.Precision(name=\"precision\"),\n",
    "                       tf.keras.metrics.Recall(name=\"recall\"),\n",
    "                       tf.keras.metrics.AUC(name=\"auc\"),])"
   ]
  },
  {
   "cell_type": "code",
   "execution_count": 12,
   "metadata": {},
   "outputs": [
    {
     "name": "stdout",
     "output_type": "stream",
     "text": [
      "Model: \"sequential\"\n",
      "_________________________________________________________________\n",
      "Layer (type)                 Output Shape              Param #   \n",
      "=================================================================\n",
      "dense (Dense)                (None, 15)                165       \n",
      "_________________________________________________________________\n",
      "dense_1 (Dense)              (None, 5)                 80        \n",
      "_________________________________________________________________\n",
      "dense_2 (Dense)              (None, 1)                 6         \n",
      "=================================================================\n",
      "Total params: 251\n",
      "Trainable params: 251\n",
      "Non-trainable params: 0\n",
      "_________________________________________________________________\n"
     ]
    }
   ],
   "source": [
    "# Summarize the model\n",
    "model.summary()"
   ]
  },
  {
   "cell_type": "markdown",
   "metadata": {},
   "source": [
    " ### Training the Model"
   ]
  },
  {
   "cell_type": "code",
   "execution_count": 13,
   "metadata": {},
   "outputs": [
    {
     "name": "stdout",
     "output_type": "stream",
     "text": [
      "Epoch 1/50\n",
      "161/161 [==============================] - 4s 10ms/step - loss: 0.3866 - accuracy: 0.9025 - tp: 12.0000 - tn: 144576.0000 - fp: 15370.0000 - fn: 245.0000 - precision: 7.8013e-04 - recall: 0.0467 - auc: 0.2471 - val_loss: 0.1204 - val_accuracy: 0.9980 - val_tp: 0.0000e+00 - val_tn: 53297.0000 - val_fp: 0.0000e+00 - val_fn: 105.0000 - val_precision: 0.0000e+00 - val_recall: 0.0000e+00 - val_auc: 0.1540\n",
      "Epoch 2/50\n",
      "161/161 [==============================] - 1s 5ms/step - loss: 0.0596 - accuracy: 0.9984 - tp: 0.0000e+00 - tn: 159946.0000 - fp: 0.0000e+00 - fn: 257.0000 - precision: 0.0000e+00 - recall: 0.0000e+00 - auc: 0.2467 - val_loss: 0.0307 - val_accuracy: 0.9980 - val_tp: 0.0000e+00 - val_tn: 53297.0000 - val_fp: 0.0000e+00 - val_fn: 105.0000 - val_precision: 0.0000e+00 - val_recall: 0.0000e+00 - val_auc: 0.3203\n",
      "Epoch 3/50\n",
      "161/161 [==============================] - 1s 5ms/step - loss: 0.0200 - accuracy: 0.9984 - tp: 0.0000e+00 - tn: 159946.0000 - fp: 0.0000e+00 - fn: 257.0000 - precision: 0.0000e+00 - recall: 0.0000e+00 - auc: 0.4990 - val_loss: 0.0154 - val_accuracy: 0.9980 - val_tp: 0.0000e+00 - val_tn: 53297.0000 - val_fp: 0.0000e+00 - val_fn: 105.0000 - val_precision: 0.0000e+00 - val_recall: 0.0000e+00 - val_auc: 0.7170\n",
      "Epoch 4/50\n",
      "161/161 [==============================] - 1s 6ms/step - loss: 0.0110 - accuracy: 0.9984 - tp: 0.0000e+00 - tn: 159946.0000 - fp: 0.0000e+00 - fn: 257.0000 - precision: 0.0000e+00 - recall: 0.0000e+00 - auc: 0.8091 - val_loss: 0.0106 - val_accuracy: 0.9980 - val_tp: 0.0000e+00 - val_tn: 53297.0000 - val_fp: 0.0000e+00 - val_fn: 105.0000 - val_precision: 0.0000e+00 - val_recall: 0.0000e+00 - val_auc: 0.8544\n",
      "Epoch 5/50\n",
      "161/161 [==============================] - 1s 6ms/step - loss: 0.0082 - accuracy: 0.9984 - tp: 0.0000e+00 - tn: 159946.0000 - fp: 0.0000e+00 - fn: 257.0000 - precision: 0.0000e+00 - recall: 0.0000e+00 - auc: 0.8589 - val_loss: 0.0088 - val_accuracy: 0.9980 - val_tp: 0.0000e+00 - val_tn: 53297.0000 - val_fp: 0.0000e+00 - val_fn: 105.0000 - val_precision: 0.0000e+00 - val_recall: 0.0000e+00 - val_auc: 0.8819\n",
      "Epoch 6/50\n",
      "161/161 [==============================] - 1s 5ms/step - loss: 0.0072 - accuracy: 0.9984 - tp: 0.0000e+00 - tn: 159946.0000 - fp: 0.0000e+00 - fn: 257.0000 - precision: 0.0000e+00 - recall: 0.0000e+00 - auc: 0.8781 - val_loss: 0.0081 - val_accuracy: 0.9980 - val_tp: 0.0000e+00 - val_tn: 53297.0000 - val_fp: 0.0000e+00 - val_fn: 105.0000 - val_precision: 0.0000e+00 - val_recall: 0.0000e+00 - val_auc: 0.8914\n",
      "Epoch 7/50\n",
      "161/161 [==============================] - 1s 4ms/step - loss: 0.0067 - accuracy: 0.9984 - tp: 0.0000e+00 - tn: 159946.0000 - fp: 0.0000e+00 - fn: 257.0000 - precision: 0.0000e+00 - recall: 0.0000e+00 - auc: 0.8932 - val_loss: 0.0076 - val_accuracy: 0.9980 - val_tp: 0.0000e+00 - val_tn: 53297.0000 - val_fp: 0.0000e+00 - val_fn: 105.0000 - val_precision: 0.0000e+00 - val_recall: 0.0000e+00 - val_auc: 0.9024\n",
      "Epoch 8/50\n",
      "161/161 [==============================] - 1s 5ms/step - loss: 0.0063 - accuracy: 0.9984 - tp: 2.0000 - tn: 159946.0000 - fp: 0.0000e+00 - fn: 255.0000 - precision: 1.0000 - recall: 0.0078 - auc: 0.8952 - val_loss: 0.0070 - val_accuracy: 0.9981 - val_tp: 1.0000 - val_tn: 53297.0000 - val_fp: 0.0000e+00 - val_fn: 104.0000 - val_precision: 1.0000 - val_recall: 0.0095 - val_auc: 0.9130\n",
      "Epoch 9/50\n",
      "161/161 [==============================] - 1s 5ms/step - loss: 0.0056 - accuracy: 0.9987 - tp: 57.0000 - tn: 159938.0000 - fp: 8.0000 - fn: 200.0000 - precision: 0.8769 - recall: 0.2218 - auc: 0.9017 - val_loss: 0.0063 - val_accuracy: 0.9985 - val_tp: 38.0000 - val_tn: 53285.0000 - val_fp: 12.0000 - val_fn: 67.0000 - val_precision: 0.7600 - val_recall: 0.3619 - val_auc: 0.9144\n",
      "Epoch 10/50\n",
      "161/161 [==============================] - 1s 6ms/step - loss: 0.0051 - accuracy: 0.9989 - tp: 102.0000 - tn: 159932.0000 - fp: 14.0000 - fn: 155.0000 - precision: 0.8793 - recall: 0.3969 - auc: 0.9103 - val_loss: 0.0060 - val_accuracy: 0.9987 - val_tp: 45.0000 - val_tn: 53285.0000 - val_fp: 12.0000 - val_fn: 60.0000 - val_precision: 0.7895 - val_recall: 0.4286 - val_auc: 0.9154\n",
      "Epoch 11/50\n",
      "161/161 [==============================] - 1s 4ms/step - loss: 0.0049 - accuracy: 0.9991 - tp: 120.0000 - tn: 159931.0000 - fp: 15.0000 - fn: 137.0000 - precision: 0.8889 - recall: 0.4669 - auc: 0.9167 - val_loss: 0.0057 - val_accuracy: 0.9987 - val_tp: 49.0000 - val_tn: 53283.0000 - val_fp: 14.0000 - val_fn: 56.0000 - val_precision: 0.7778 - val_recall: 0.4667 - val_auc: 0.9159\n",
      "Epoch 12/50\n",
      "161/161 [==============================] - 1s 6ms/step - loss: 0.0047 - accuracy: 0.9991 - tp: 129.0000 - tn: 159929.0000 - fp: 17.0000 - fn: 128.0000 - precision: 0.8836 - recall: 0.5019 - auc: 0.9152 - val_loss: 0.0056 - val_accuracy: 0.9988 - val_tp: 53.0000 - val_tn: 53283.0000 - val_fp: 14.0000 - val_fn: 52.0000 - val_precision: 0.7910 - val_recall: 0.5048 - val_auc: 0.9163\n",
      "Epoch 13/50\n",
      "161/161 [==============================] - 1s 4ms/step - loss: 0.0045 - accuracy: 0.9991 - tp: 133.0000 - tn: 159928.0000 - fp: 18.0000 - fn: 124.0000 - precision: 0.8808 - recall: 0.5175 - auc: 0.9174 - val_loss: 0.0054 - val_accuracy: 0.9988 - val_tp: 56.0000 - val_tn: 53283.0000 - val_fp: 14.0000 - val_fn: 49.0000 - val_precision: 0.8000 - val_recall: 0.5333 - val_auc: 0.9165\n",
      "Epoch 14/50\n",
      "161/161 [==============================] - 1s 5ms/step - loss: 0.0044 - accuracy: 0.9992 - tp: 139.0000 - tn: 159930.0000 - fp: 16.0000 - fn: 118.0000 - precision: 0.8968 - recall: 0.5409 - auc: 0.9196 - val_loss: 0.0053 - val_accuracy: 0.9988 - val_tp: 57.0000 - val_tn: 53283.0000 - val_fp: 14.0000 - val_fn: 48.0000 - val_precision: 0.8028 - val_recall: 0.5429 - val_auc: 0.9167\n",
      "Epoch 15/50\n",
      "161/161 [==============================] - 1s 5ms/step - loss: 0.0043 - accuracy: 0.9992 - tp: 141.0000 - tn: 159927.0000 - fp: 19.0000 - fn: 116.0000 - precision: 0.8813 - recall: 0.5486 - auc: 0.9198 - val_loss: 0.0051 - val_accuracy: 0.9989 - val_tp: 59.0000 - val_tn: 53283.0000 - val_fp: 14.0000 - val_fn: 46.0000 - val_precision: 0.8082 - val_recall: 0.5619 - val_auc: 0.9215\n",
      "Epoch 16/50\n",
      "161/161 [==============================] - 1s 5ms/step - loss: 0.0042 - accuracy: 0.9992 - tp: 147.0000 - tn: 159926.0000 - fp: 20.0000 - fn: 110.0000 - precision: 0.8802 - recall: 0.5720 - auc: 0.9218 - val_loss: 0.0050 - val_accuracy: 0.9989 - val_tp: 58.0000 - val_tn: 53284.0000 - val_fp: 13.0000 - val_fn: 47.0000 - val_precision: 0.8169 - val_recall: 0.5524 - val_auc: 0.9217\n",
      "Epoch 17/50\n",
      "161/161 [==============================] - 1s 5ms/step - loss: 0.0041 - accuracy: 0.9992 - tp: 149.0000 - tn: 159927.0000 - fp: 19.0000 - fn: 108.0000 - precision: 0.8869 - recall: 0.5798 - auc: 0.9219 - val_loss: 0.0050 - val_accuracy: 0.9989 - val_tp: 60.0000 - val_tn: 53283.0000 - val_fp: 14.0000 - val_fn: 45.0000 - val_precision: 0.8108 - val_recall: 0.5714 - val_auc: 0.9266\n",
      "Epoch 18/50\n",
      "161/161 [==============================] - 1s 5ms/step - loss: 0.0041 - accuracy: 0.9992 - tp: 147.0000 - tn: 159928.0000 - fp: 18.0000 - fn: 110.0000 - precision: 0.8909 - recall: 0.5720 - auc: 0.9202 - val_loss: 0.0049 - val_accuracy: 0.9990 - val_tp: 63.0000 - val_tn: 53283.0000 - val_fp: 14.0000 - val_fn: 42.0000 - val_precision: 0.8182 - val_recall: 0.6000 - val_auc: 0.9313\n",
      "Epoch 19/50\n",
      "161/161 [==============================] - 1s 5ms/step - loss: 0.0040 - accuracy: 0.9992 - tp: 150.0000 - tn: 159927.0000 - fp: 19.0000 - fn: 107.0000 - precision: 0.8876 - recall: 0.5837 - auc: 0.9221 - val_loss: 0.0048 - val_accuracy: 0.9990 - val_tp: 65.0000 - val_tn: 53283.0000 - val_fp: 14.0000 - val_fn: 40.0000 - val_precision: 0.8228 - val_recall: 0.6190 - val_auc: 0.9315\n",
      "Epoch 20/50\n",
      "161/161 [==============================] - 1s 5ms/step - loss: 0.0040 - accuracy: 0.9992 - tp: 152.0000 - tn: 159930.0000 - fp: 16.0000 - fn: 105.0000 - precision: 0.9048 - recall: 0.5914 - auc: 0.9222 - val_loss: 0.0048 - val_accuracy: 0.9990 - val_tp: 66.0000 - val_tn: 53281.0000 - val_fp: 16.0000 - val_fn: 39.0000 - val_precision: 0.8049 - val_recall: 0.6286 - val_auc: 0.9314\n",
      "Epoch 21/50\n",
      "161/161 [==============================] - 1s 4ms/step - loss: 0.0039 - accuracy: 0.9993 - tp: 158.0000 - tn: 159925.0000 - fp: 21.0000 - fn: 99.0000 - precision: 0.8827 - recall: 0.6148 - auc: 0.9280 - val_loss: 0.0047 - val_accuracy: 0.9990 - val_tp: 65.0000 - val_tn: 53283.0000 - val_fp: 14.0000 - val_fn: 40.0000 - val_precision: 0.8228 - val_recall: 0.6190 - val_auc: 0.9316\n",
      "Epoch 22/50\n",
      "161/161 [==============================] - 1s 5ms/step - loss: 0.0039 - accuracy: 0.9993 - tp: 157.0000 - tn: 159929.0000 - fp: 17.0000 - fn: 100.0000 - precision: 0.9023 - recall: 0.6109 - auc: 0.9282 - val_loss: 0.0047 - val_accuracy: 0.9990 - val_tp: 66.0000 - val_tn: 53283.0000 - val_fp: 14.0000 - val_fn: 39.0000 - val_precision: 0.8250 - val_recall: 0.6286 - val_auc: 0.9363\n",
      "Epoch 23/50\n",
      "161/161 [==============================] - 1s 5ms/step - loss: 0.0038 - accuracy: 0.9992 - tp: 154.0000 - tn: 159927.0000 - fp: 19.0000 - fn: 103.0000 - precision: 0.8902 - recall: 0.5992 - auc: 0.9301 - val_loss: 0.0046 - val_accuracy: 0.9990 - val_tp: 66.0000 - val_tn: 53281.0000 - val_fp: 16.0000 - val_fn: 39.0000 - val_precision: 0.8049 - val_recall: 0.6286 - val_auc: 0.9411\n",
      "Epoch 24/50\n",
      "161/161 [==============================] - 1s 5ms/step - loss: 0.0038 - accuracy: 0.9992 - tp: 157.0000 - tn: 159925.0000 - fp: 21.0000 - fn: 100.0000 - precision: 0.8820 - recall: 0.6109 - auc: 0.9282 - val_loss: 0.0046 - val_accuracy: 0.9990 - val_tp: 66.0000 - val_tn: 53283.0000 - val_fp: 14.0000 - val_fn: 39.0000 - val_precision: 0.8250 - val_recall: 0.6286 - val_auc: 0.9364\n",
      "Epoch 25/50\n",
      "161/161 [==============================] - 1s 5ms/step - loss: 0.0038 - accuracy: 0.9992 - tp: 156.0000 - tn: 159926.0000 - fp: 20.0000 - fn: 101.0000 - precision: 0.8864 - recall: 0.6070 - auc: 0.9282 - val_loss: 0.0046 - val_accuracy: 0.9990 - val_tp: 67.0000 - val_tn: 53281.0000 - val_fp: 16.0000 - val_fn: 38.0000 - val_precision: 0.8072 - val_recall: 0.6381 - val_auc: 0.9413\n",
      "Epoch 26/50\n",
      "161/161 [==============================] - 1s 5ms/step - loss: 0.0038 - accuracy: 0.9993 - tp: 161.0000 - tn: 159926.0000 - fp: 20.0000 - fn: 96.0000 - precision: 0.8895 - recall: 0.6265 - auc: 0.9302 - val_loss: 0.0045 - val_accuracy: 0.9990 - val_tp: 67.0000 - val_tn: 53284.0000 - val_fp: 13.0000 - val_fn: 38.0000 - val_precision: 0.8375 - val_recall: 0.6381 - val_auc: 0.9413\n",
      "Epoch 27/50\n",
      "161/161 [==============================] - 1s 6ms/step - loss: 0.0037 - accuracy: 0.9992 - tp: 156.0000 - tn: 159926.0000 - fp: 20.0000 - fn: 101.0000 - precision: 0.8864 - recall: 0.6070 - auc: 0.9302 - val_loss: 0.0045 - val_accuracy: 0.9990 - val_tp: 67.0000 - val_tn: 53280.0000 - val_fp: 17.0000 - val_fn: 38.0000 - val_precision: 0.7976 - val_recall: 0.6381 - val_auc: 0.9413\n",
      "Epoch 28/50\n",
      "161/161 [==============================] - 1s 5ms/step - loss: 0.0037 - accuracy: 0.9993 - tp: 161.0000 - tn: 159925.0000 - fp: 21.0000 - fn: 96.0000 - precision: 0.8846 - recall: 0.6265 - auc: 0.9302 - val_loss: 0.0045 - val_accuracy: 0.9990 - val_tp: 68.0000 - val_tn: 53282.0000 - val_fp: 15.0000 - val_fn: 37.0000 - val_precision: 0.8193 - val_recall: 0.6476 - val_auc: 0.9414\n",
      "Epoch 29/50\n",
      "161/161 [==============================] - 1s 5ms/step - loss: 0.0037 - accuracy: 0.9993 - tp: 162.0000 - tn: 159924.0000 - fp: 22.0000 - fn: 95.0000 - precision: 0.8804 - recall: 0.6304 - auc: 0.9303 - val_loss: 0.0044 - val_accuracy: 0.9990 - val_tp: 68.0000 - val_tn: 53283.0000 - val_fp: 14.0000 - val_fn: 37.0000 - val_precision: 0.8293 - val_recall: 0.6476 - val_auc: 0.9413\n",
      "Epoch 30/50\n",
      "161/161 [==============================] - 1s 5ms/step - loss: 0.0036 - accuracy: 0.9993 - tp: 162.0000 - tn: 159925.0000 - fp: 21.0000 - fn: 95.0000 - precision: 0.8852 - recall: 0.6304 - auc: 0.9303 - val_loss: 0.0044 - val_accuracy: 0.9990 - val_tp: 69.0000 - val_tn: 53281.0000 - val_fp: 16.0000 - val_fn: 36.0000 - val_precision: 0.8118 - val_recall: 0.6571 - val_auc: 0.9413\n",
      "Epoch 31/50\n",
      "161/161 [==============================] - 1s 5ms/step - loss: 0.0036 - accuracy: 0.9993 - tp: 164.0000 - tn: 159925.0000 - fp: 21.0000 - fn: 93.0000 - precision: 0.8865 - recall: 0.6381 - auc: 0.9322 - val_loss: 0.0044 - val_accuracy: 0.9990 - val_tp: 69.0000 - val_tn: 53280.0000 - val_fp: 17.0000 - val_fn: 36.0000 - val_precision: 0.8023 - val_recall: 0.6571 - val_auc: 0.9415\n",
      "Epoch 32/50\n",
      "161/161 [==============================] - 1s 5ms/step - loss: 0.0036 - accuracy: 0.9993 - tp: 163.0000 - tn: 159926.0000 - fp: 20.0000 - fn: 94.0000 - precision: 0.8907 - recall: 0.6342 - auc: 0.9303 - val_loss: 0.0043 - val_accuracy: 0.9990 - val_tp: 69.0000 - val_tn: 53280.0000 - val_fp: 17.0000 - val_fn: 36.0000 - val_precision: 0.8023 - val_recall: 0.6571 - val_auc: 0.9415\n",
      "Epoch 33/50\n",
      "161/161 [==============================] - 1s 5ms/step - loss: 0.0035 - accuracy: 0.9993 - tp: 166.0000 - tn: 159924.0000 - fp: 22.0000 - fn: 91.0000 - precision: 0.8830 - recall: 0.6459 - auc: 0.9305 - val_loss: 0.0043 - val_accuracy: 0.9990 - val_tp: 69.0000 - val_tn: 53280.0000 - val_fp: 17.0000 - val_fn: 36.0000 - val_precision: 0.8023 - val_recall: 0.6571 - val_auc: 0.9416\n",
      "Epoch 34/50\n",
      "161/161 [==============================] - 1s 6ms/step - loss: 0.0035 - accuracy: 0.9993 - tp: 164.0000 - tn: 159924.0000 - fp: 22.0000 - fn: 93.0000 - precision: 0.8817 - recall: 0.6381 - auc: 0.9324 - val_loss: 0.0042 - val_accuracy: 0.9990 - val_tp: 70.0000 - val_tn: 53280.0000 - val_fp: 17.0000 - val_fn: 35.0000 - val_precision: 0.8046 - val_recall: 0.6667 - val_auc: 0.9416\n",
      "Epoch 35/50\n",
      "161/161 [==============================] - 1s 5ms/step - loss: 0.0035 - accuracy: 0.9993 - tp: 163.0000 - tn: 159924.0000 - fp: 22.0000 - fn: 94.0000 - precision: 0.8811 - recall: 0.6342 - auc: 0.9324 - val_loss: 0.0042 - val_accuracy: 0.9990 - val_tp: 71.0000 - val_tn: 53280.0000 - val_fp: 17.0000 - val_fn: 34.0000 - val_precision: 0.8068 - val_recall: 0.6762 - val_auc: 0.9417\n",
      "Epoch 36/50\n",
      "161/161 [==============================] - 1s 4ms/step - loss: 0.0035 - accuracy: 0.9993 - tp: 166.0000 - tn: 159924.0000 - fp: 22.0000 - fn: 91.0000 - precision: 0.8830 - recall: 0.6459 - auc: 0.9305 - val_loss: 0.0041 - val_accuracy: 0.9990 - val_tp: 71.0000 - val_tn: 53279.0000 - val_fp: 18.0000 - val_fn: 34.0000 - val_precision: 0.7978 - val_recall: 0.6762 - val_auc: 0.9463\n",
      "Epoch 37/50\n",
      "161/161 [==============================] - 1s 5ms/step - loss: 0.0035 - accuracy: 0.9993 - tp: 165.0000 - tn: 159925.0000 - fp: 21.0000 - fn: 92.0000 - precision: 0.8871 - recall: 0.6420 - auc: 0.9344 - val_loss: 0.0042 - val_accuracy: 0.9990 - val_tp: 71.0000 - val_tn: 53279.0000 - val_fp: 18.0000 - val_fn: 34.0000 - val_precision: 0.7978 - val_recall: 0.6762 - val_auc: 0.9465\n",
      "Epoch 38/50\n",
      "161/161 [==============================] - 1s 5ms/step - loss: 0.0034 - accuracy: 0.9993 - tp: 167.0000 - tn: 159922.0000 - fp: 24.0000 - fn: 90.0000 - precision: 0.8743 - recall: 0.6498 - auc: 0.9287 - val_loss: 0.0041 - val_accuracy: 0.9990 - val_tp: 72.0000 - val_tn: 53279.0000 - val_fp: 18.0000 - val_fn: 33.0000 - val_precision: 0.8000 - val_recall: 0.6857 - val_auc: 0.9464\n",
      "Epoch 39/50\n",
      "161/161 [==============================] - 1s 6ms/step - loss: 0.0034 - accuracy: 0.9993 - tp: 167.0000 - tn: 159924.0000 - fp: 22.0000 - fn: 90.0000 - precision: 0.8836 - recall: 0.6498 - auc: 0.9344 - val_loss: 0.0041 - val_accuracy: 0.9991 - val_tp: 72.0000 - val_tn: 53280.0000 - val_fp: 17.0000 - val_fn: 33.0000 - val_precision: 0.8090 - val_recall: 0.6857 - val_auc: 0.9417\n",
      "Epoch 40/50\n",
      "161/161 [==============================] - 1s 5ms/step - loss: 0.0034 - accuracy: 0.9993 - tp: 167.0000 - tn: 159925.0000 - fp: 21.0000 - fn: 90.0000 - precision: 0.8883 - recall: 0.6498 - auc: 0.9306 - val_loss: 0.0041 - val_accuracy: 0.9991 - val_tp: 75.0000 - val_tn: 53279.0000 - val_fp: 18.0000 - val_fn: 30.0000 - val_precision: 0.8065 - val_recall: 0.7143 - val_auc: 0.9463\n",
      "Epoch 41/50\n",
      "161/161 [==============================] - 1s 6ms/step - loss: 0.0034 - accuracy: 0.9993 - tp: 171.0000 - tn: 159923.0000 - fp: 23.0000 - fn: 86.0000 - precision: 0.8814 - recall: 0.6654 - auc: 0.9363 - val_loss: 0.0041 - val_accuracy: 0.9991 - val_tp: 75.0000 - val_tn: 53279.0000 - val_fp: 18.0000 - val_fn: 30.0000 - val_precision: 0.8065 - val_recall: 0.7143 - val_auc: 0.9465\n",
      "Epoch 42/50\n",
      "161/161 [==============================] - 1s 5ms/step - loss: 0.0033 - accuracy: 0.9993 - tp: 171.0000 - tn: 159923.0000 - fp: 23.0000 - fn: 86.0000 - precision: 0.8814 - recall: 0.6654 - auc: 0.9326 - val_loss: 0.0041 - val_accuracy: 0.9990 - val_tp: 71.0000 - val_tn: 53280.0000 - val_fp: 17.0000 - val_fn: 34.0000 - val_precision: 0.8068 - val_recall: 0.6762 - val_auc: 0.9419\n",
      "Epoch 43/50\n",
      "161/161 [==============================] - 1s 5ms/step - loss: 0.0034 - accuracy: 0.9993 - tp: 167.0000 - tn: 159926.0000 - fp: 20.0000 - fn: 90.0000 - precision: 0.8930 - recall: 0.6498 - auc: 0.9345 - val_loss: 0.0041 - val_accuracy: 0.9991 - val_tp: 75.0000 - val_tn: 53280.0000 - val_fp: 17.0000 - val_fn: 30.0000 - val_precision: 0.8152 - val_recall: 0.7143 - val_auc: 0.9418\n",
      "Epoch 44/50\n",
      "161/161 [==============================] - 1s 5ms/step - loss: 0.0033 - accuracy: 0.9993 - tp: 170.0000 - tn: 159923.0000 - fp: 23.0000 - fn: 87.0000 - precision: 0.8808 - recall: 0.6615 - auc: 0.9365 - val_loss: 0.0041 - val_accuracy: 0.9991 - val_tp: 75.0000 - val_tn: 53279.0000 - val_fp: 18.0000 - val_fn: 30.0000 - val_precision: 0.8065 - val_recall: 0.7143 - val_auc: 0.9465\n",
      "Epoch 45/50\n",
      "161/161 [==============================] - 1s 5ms/step - loss: 0.0033 - accuracy: 0.9993 - tp: 168.0000 - tn: 159923.0000 - fp: 23.0000 - fn: 89.0000 - precision: 0.8796 - recall: 0.6537 - auc: 0.9383 - val_loss: 0.0041 - val_accuracy: 0.9991 - val_tp: 74.0000 - val_tn: 53280.0000 - val_fp: 17.0000 - val_fn: 31.0000 - val_precision: 0.8132 - val_recall: 0.7048 - val_auc: 0.9418\n",
      "Epoch 46/50\n",
      "161/161 [==============================] - 1s 5ms/step - loss: 0.0033 - accuracy: 0.9993 - tp: 171.0000 - tn: 159924.0000 - fp: 22.0000 - fn: 86.0000 - precision: 0.8860 - recall: 0.6654 - auc: 0.9365 - val_loss: 0.0040 - val_accuracy: 0.9991 - val_tp: 75.0000 - val_tn: 53279.0000 - val_fp: 18.0000 - val_fn: 30.0000 - val_precision: 0.8065 - val_recall: 0.7143 - val_auc: 0.9511\n",
      "Epoch 47/50\n",
      "161/161 [==============================] - 1s 5ms/step - loss: 0.0033 - accuracy: 0.9993 - tp: 167.0000 - tn: 159924.0000 - fp: 22.0000 - fn: 90.0000 - precision: 0.8836 - recall: 0.6498 - auc: 0.9403 - val_loss: 0.0040 - val_accuracy: 0.9991 - val_tp: 75.0000 - val_tn: 53279.0000 - val_fp: 18.0000 - val_fn: 30.0000 - val_precision: 0.8065 - val_recall: 0.7143 - val_auc: 0.9509\n",
      "Epoch 48/50\n",
      "161/161 [==============================] - 1s 6ms/step - loss: 0.0033 - accuracy: 0.9993 - tp: 171.0000 - tn: 159922.0000 - fp: 24.0000 - fn: 86.0000 - precision: 0.8769 - recall: 0.6654 - auc: 0.9364 - val_loss: 0.0040 - val_accuracy: 0.9991 - val_tp: 75.0000 - val_tn: 53280.0000 - val_fp: 17.0000 - val_fn: 30.0000 - val_precision: 0.8152 - val_recall: 0.7143 - val_auc: 0.9464\n",
      "Epoch 49/50\n",
      "161/161 [==============================] - 1s 5ms/step - loss: 0.0033 - accuracy: 0.9993 - tp: 172.0000 - tn: 159923.0000 - fp: 23.0000 - fn: 85.0000 - precision: 0.8821 - recall: 0.6693 - auc: 0.9364 - val_loss: 0.0039 - val_accuracy: 0.9991 - val_tp: 74.0000 - val_tn: 53280.0000 - val_fp: 17.0000 - val_fn: 31.0000 - val_precision: 0.8132 - val_recall: 0.7048 - val_auc: 0.9511\n",
      "Epoch 50/50\n",
      "161/161 [==============================] - 1s 5ms/step - loss: 0.0033 - accuracy: 0.9993 - tp: 167.0000 - tn: 159924.0000 - fp: 22.0000 - fn: 90.0000 - precision: 0.8836 - recall: 0.6498 - auc: 0.9384 - val_loss: 0.0040 - val_accuracy: 0.9991 - val_tp: 74.0000 - val_tn: 53280.0000 - val_fp: 17.0000 - val_fn: 31.0000 - val_precision: 0.8132 - val_recall: 0.7048 - val_auc: 0.9465\n"
     ]
    }
   ],
   "source": [
    "# Training the model\n",
    "batch_size = 1000\n",
    "epochs = 50\n",
    "\n",
    "training_history = model.fit(X_train,\n",
    "                             y_train,\n",
    "                             validation_data=(X_val, y_val),\n",
    "                             epochs=epochs,\n",
    "                             batch_size=batch_size,\n",
    "                             verbose=1)"
   ]
  },
  {
   "cell_type": "markdown",
   "metadata": {},
   "source": [
    "### Model Performance"
   ]
  },
  {
   "cell_type": "markdown",
   "metadata": {},
   "source": [
    "#### Checking Training History"
   ]
  },
  {
   "cell_type": "code",
   "execution_count": 14,
   "metadata": {},
   "outputs": [
    {
     "data": {
      "text/plain": [
       "<AxesSubplot:title={'center':'Loss'}, xlabel='Epoch'>"
      ]
     },
     "execution_count": 14,
     "metadata": {},
     "output_type": "execute_result"
    },
    {
     "data": {
      "image/png": "[encoded data removed]",
      "text/plain": [
       "<Figure size 432x288 with 1 Axes>"
      ]
     },
     "metadata": {
      "needs_background": "light"
     },
     "output_type": "display_data"
    }
   ],
   "source": [
    "# Plotting loss\n",
    "loss_df = pd.DataFrame({\"Epoch\": range(1, epochs + 1),\n",
    "                        \"Train\": training_history.history[\"loss\"],\n",
    "                        \"Val\": training_history.history[\"val_loss\"]})\n",
    "\n",
    "loss_df.set_index(\"Epoch\",\n",
    "                  inplace=True)\n",
    "\n",
    "loss_df.plot(title=\"Loss\")"
   ]
  },
  {
   "cell_type": "code",
   "execution_count": 15,
   "metadata": {},
   "outputs": [
    {
     "data": {
      "text/plain": [
       "<AxesSubplot:title={'center':'Accuracy'}, xlabel='Epoch'>"
      ]
     },
     "execution_count": 15,
     "metadata": {},
     "output_type": "execute_result"
    },
    {
     "data": {
      "image/png": "[encoded data removed]",
      "text/plain": [
       "<Figure size 432x288 with 1 Axes>"
      ]
     },
     "metadata": {
      "needs_background": "light"
     },
     "output_type": "display_data"
    }
   ],
   "source": [
    "# Plotting accuracy\n",
    "accuracy_df = pd.DataFrame({\"Epoch\": range(1, epochs + 1),\n",
    "                            \"Train\": training_history.history[\"accuracy\"],\n",
    "                            \"Val\": training_history.history[\"val_accuracy\"]})\n",
    "\n",
    "accuracy_df.set_index(\"Epoch\",\n",
    "                      inplace=True)\n",
    "\n",
    "accuracy_df.plot(title=\"Accuracy\")"
   ]
  },
  {
   "cell_type": "code",
   "execution_count": 16,
   "metadata": {},
   "outputs": [
    {
     "data": {
      "text/plain": [
       "<AxesSubplot:title={'center':'AUC'}, xlabel='Epoch'>"
      ]
     },
     "execution_count": 16,
     "metadata": {},
     "output_type": "execute_result"
    },
    {
     "data": {
      "image/png": "[encoded data removed]",
      "text/plain": [
       "<Figure size 432x288 with 1 Axes>"
      ]
     },
     "metadata": {
      "needs_background": "light"
     },
     "output_type": "display_data"
    }
   ],
   "source": [
    "# Plotting AUC\n",
    "auc_df = pd.DataFrame({\"Epoch\": range(1, epochs + 1),\n",
    "                       \"Train\": training_history.history[\"auc\"],\n",
    "                       \"Val\": training_history.history[\"val_auc\"]})\n",
    "\n",
    "auc_df.set_index(\"Epoch\", \n",
    "                 inplace=True)\n",
    "\n",
    "auc_df.plot(title=\"AUC\")"
   ]
  },
  {
   "cell_type": "markdown",
   "metadata": {},
   "source": [
    "#### Plotting the ROC Curve"
   ]
  },
  {
   "cell_type": "code",
   "execution_count": 17,
   "metadata": {},
   "outputs": [],
   "source": [
    "# Import the roc_curve and auc metrics from sklearn\n",
    "from sklearn.metrics import roc_curve, auc"
   ]
  },
  {
   "cell_type": "code",
   "execution_count": 18,
   "metadata": {},
   "outputs": [],
   "source": [
    "# Making predictions to feed the roc_curve module\n",
    "train_predictions = model.predict(X_train,\n",
    "                                  batch_size=1000)\n",
    "\n",
    "test_predictions = model.predict(X_test,\n",
    "                                 batch_size=1000)"
   ]
  },
  {
   "cell_type": "code",
   "execution_count": 20,
   "metadata": {},
   "outputs": [],
   "source": [
    "# Calculate the ROC curve and AUC for the training set\n",
    "fpr_train, tpr_train, thresholds_train = roc_curve(y_train, \n",
    "                                                   train_predictions)\n",
    "\n",
    "auc_train = auc(fpr_train,\n",
    "                tpr_train)\n",
    "\n",
    "auc_train = round(auc_train, 4)\n",
    "\n",
    "# Calculate the ROC curve and AUC for the testing set\n",
    "fpr_test, tpr_test, thresholds_test = roc_curve(y_test, \n",
    "                                                test_predictions)\n",
    "\n",
    "auc_test = auc(fpr_test,\n",
    "                tpr_test)\n",
    "\n",
    "auc_test = round(auc_test, 4)"
   ]
  },
  {
   "cell_type": "code",
   "execution_count": 21,
   "metadata": {},
   "outputs": [],
   "source": [
    "# Create a DataFrame with the fpr and tpr results\n",
    "roc_df_train = pd.DataFrame({\"FPR Train\": fpr_train,\n",
    "                             \"TPR Train\": tpr_train})\n",
    "\n",
    "roc_df_test = pd.DataFrame({\"FPR Test\": fpr_test,\n",
    "                            \"TPR Test\": tpr_test})"
   ]
  },
  {
   "cell_type": "code",
   "execution_count": 25,
   "metadata": {},
   "outputs": [
    {
     "data": {
      "text/plain": [
       "<AxesSubplot:title={'center':'Test ROC Curve (AUC=0.9769)'}, xlabel='FPR Test'>"
      ]
     },
     "execution_count": 25,
     "metadata": {},
     "output_type": "execute_result"
    },
    {
     "data": {
      "image/png": "[encoded data removed]",
      "text/plain": [
       "<Figure size 432x288 with 1 Axes>"
      ]
     },
     "metadata": {
      "needs_background": "light"
     },
     "output_type": "display_data"
    },
    {
     "data": {
      "image/png": "[encoded data removed]",
      "text/plain": [
       "<Figure size 432x288 with 1 Axes>"
      ]
     },
     "metadata": {
      "needs_background": "light"
     },
     "output_type": "display_data"
    }
   ],
   "source": [
    "# Plotting the ROC Curves\n",
    "roc_df_train.plot(x=\"FPR Train\",\n",
    "                  y=\"TPR Train\",\n",
    "                  xlim=([-0.5, 1.05]),\n",
    "                  title=f\"Train ROC Curve (AUC={auc_train})\")\n",
    "\n",
    "roc_df_test.plot(x=\"FPR Test\",\n",
    "                 y=\"TPR Test\",\n",
    "                 color=\"red\",\n",
    "                 style=\"--\",\n",
    "                 xlim=([-0.05, 1.05]),\n",
    "                 title=f\"Test ROC Curve (AUC={auc_test})\")"
   ]
  },
  {
   "cell_type": "markdown",
   "metadata": {},
   "source": [
    "#### Evaluate the Model"
   ]
  },
  {
   "cell_type": "code",
   "execution_count": 27,
   "metadata": {},
   "outputs": [
    {
     "data": {
      "text/plain": [
       "{'loss': 0.003484053071588278,\n",
       " 'accuracy': 0.9992135167121887,\n",
       " 'tp': 86.0,\n",
       " 'tn': 71060.0,\n",
       " 'fp': 12.0,\n",
       " 'fn': 44.0,\n",
       " 'precision': 0.8775510191917419,\n",
       " 'recall': 0.6615384817123413,\n",
       " 'auc': 0.9450849294662476}"
      ]
     },
     "metadata": {},
     "output_type": "display_data"
    }
   ],
   "source": [
    "# Evaluate the model\n",
    "scores = model.evaluate(X_test,\n",
    "                        y_test,\n",
    "                        verbose=0)\n",
    "\n",
    "# Define metrics dictionary\n",
    "metrics = {k: v for k, v in zip(model.metrics_names, scores)}\n",
    "\n",
    "# Display evaluation metrics results\n",
    "display(metrics)"
   ]
  },
  {
   "cell_type": "markdown",
   "metadata": {},
   "source": [
    "#### Confusion Matrix"
   ]
  },
  {
   "cell_type": "code",
   "execution_count": 31,
   "metadata": {},
   "outputs": [
    {
     "data": {
      "text/html": [
       "<div>\n",
       "<style scoped>\n",
       "    .dataframe tbody tr th:only-of-type {\n",
       "        vertical-align: middle;\n",
       "    }\n",
       "\n",
       "    .dataframe tbody tr th {\n",
       "        vertical-align: top;\n",
       "    }\n",
       "\n",
       "    .dataframe thead th {\n",
       "        text-align: right;\n",
       "    }\n",
       "</style>\n",
       "<table border=\"1\" class=\"dataframe\">\n",
       "  <thead>\n",
       "    <tr style=\"text-align: right;\">\n",
       "      <th>Predicted</th>\n",
       "      <th>Positive (1)</th>\n",
       "      <th>Negative (0)</th>\n",
       "    </tr>\n",
       "    <tr>\n",
       "      <th>Actual</th>\n",
       "      <th></th>\n",
       "      <th></th>\n",
       "    </tr>\n",
       "  </thead>\n",
       "  <tbody>\n",
       "    <tr>\n",
       "      <th>Positive(1)</th>\n",
       "      <td>TP=86.0</td>\n",
       "      <td>FN=12.0</td>\n",
       "    </tr>\n",
       "    <tr>\n",
       "      <th>Negative(0)</th>\n",
       "      <td>FP=44.0</td>\n",
       "      <td>TN=71060.0</td>\n",
       "    </tr>\n",
       "  </tbody>\n",
       "</table>\n",
       "</div>"
      ],
      "text/plain": [
       "Predicted   Positive (1) Negative (0)\n",
       "Actual                               \n",
       "Positive(1)      TP=86.0      FN=12.0\n",
       "Negative(0)      FP=44.0   TN=71060.0"
      ]
     },
     "execution_count": 31,
     "metadata": {},
     "output_type": "execute_result"
    }
   ],
   "source": [
    "# Define the confusion matrix data\n",
    "cm_df = pd.DataFrame({\"Positive (1)\": [f\"TP={metrics['tp']}\", f\"FP={metrics['fn']}\"],\n",
    "                      \"Negative (0)\": [f\"FN={metrics['fp']}\", f\"TN={metrics['tn']}\"]},\n",
    "                     index=[\"Positive(1)\", \"Negative(0)\"])\n",
    "\n",
    "cm_df.index.name = \"Actual\"\n",
    "cm_df.columns.name = \"Predicted\"\n",
    "\n",
    "# Show the confusion matrix\n",
    "cm_df"
   ]
  },
  {
   "cell_type": "markdown",
   "metadata": {},
   "source": [
    "#### Classification Report"
   ]
  },
  {
   "cell_type": "code",
   "execution_count": 33,
   "metadata": {},
   "outputs": [
    {
     "name": "stdout",
     "output_type": "stream",
     "text": [
      "              precision    recall  f1-score   support\n",
      "\n",
      "           0       1.00      1.00      1.00     71104\n",
      "           1       0.66      0.88      0.75        98\n",
      "\n",
      "    accuracy                           1.00     71202\n",
      "   macro avg       0.83      0.94      0.88     71202\n",
      "weighted avg       1.00      1.00      1.00     71202\n",
      "\n"
     ]
    }
   ],
   "source": [
    "# Import the classification_report method from sklearn\n",
    "from sklearn.metrics import classification_report\n",
    "\n",
    "# Predict classes using testing data\n",
    "y_predict_classes = model.predict_classes(X_test,\n",
    "                                          batch_size=1000)\n",
    "\n",
    "# Display classification report\n",
    "print(classification_report(y_predict_classes, y_test))"
   ]
  }
 ],
 "metadata": {
  "file_extension": ".py",
  "kernelspec": {
   "display_name": "Python 3",
   "language": "python",
   "name": "python3"
  },
  "language_info": {
   "codemirror_mode": {
    "name": "ipython",
    "version": 3
   },
   "file_extension": ".py",
   "mimetype": "text/x-python",
   "name": "python",
   "nbconvert_exporter": "python",
   "pygments_lexer": "ipython3",
   "version": "3.7.10"
  },
  "mimetype": "text/x-python",
  "name": "python",
  "npconvert_exporter": "python",
  "pygments_lexer": "ipython3",
  "version": 3
 },
 "nbformat": 4,
 "nbformat_minor": 4
}
