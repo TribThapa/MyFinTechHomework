{
 "cells": [
  {
   "cell_type": "markdown",
   "metadata": {},
   "source": [
    "# Instructor Do: Intro to the ROC Curve and AUC\n",
    "\n",
    "In this activity, students will learn how to measure the performance of a binary classification model by fetching metrics from Keras, as well as plotting and interpreting the ROC curve and AUC."
   ]
  },
  {
   "cell_type": "code",
   "execution_count": 1,
   "metadata": {},
   "outputs": [
    {
     "name": "stderr",
     "output_type": "stream",
     "text": [
      "\n",
      "Bad key \"text.kerning_factor\" on line 4 in\n",
      "C:\\Users\\TribThapa\\anaconda3\\envs\\mlenv\\lib\\site-packages\\matplotlib\\mpl-data\\stylelib\\_classic_test_patch.mplstyle.\n",
      "You probably need to get an updated matplotlibrc file from\n",
      "http://github.com/matplotlib/matplotlib/blob/master/matplotlibrc.template\n",
      "or from the matplotlib source distribution\n"
     ]
    }
   ],
   "source": [
    "# Initial imports\n",
    "import pandas as pd\n",
    "import numpy as np\n",
    "import matplotlib.pyplot as plt\n",
    "import tensorflow as tf\n",
    "from pathlib import Path\n",
    "\n",
    "%matplotlib inline"
   ]
  },
  {
   "cell_type": "markdown",
   "metadata": {},
   "source": [
    "## The Dataset\n",
    "\n",
    "The data provided for this demo contains anonymous information about `284807` credit card transactions made by European credit cardholders in September 2013.\n",
    "\n",
    "The dataset is going to be used to create a binary classification model using a deep neural network to detect fraudulent transactions. It contains nine numerical variables, which are the result of PCA transformation to protect the confidentiality of credit cardholders. Only the transaction amount can be seen as is.\n",
    "\n",
    "This dataset is an abstract of the file shared by the [Machine Learning Group](http://mlg.ulb.ac.be) of the Université Libre de Bruxelles (ULB)."
   ]
  },
  {
   "cell_type": "code",
   "execution_count": 2,
   "metadata": {},
   "outputs": [
    {
     "data": {
      "text/html": [
       "<div>\n",
       "<style scoped>\n",
       "    .dataframe tbody tr th:only-of-type {\n",
       "        vertical-align: middle;\n",
       "    }\n",
       "\n",
       "    .dataframe tbody tr th {\n",
       "        vertical-align: top;\n",
       "    }\n",
       "\n",
       "    .dataframe thead th {\n",
       "        text-align: right;\n",
       "    }\n",
       "</style>\n",
       "<table border=\"1\" class=\"dataframe\">\n",
       "  <thead>\n",
       "    <tr style=\"text-align: right;\">\n",
       "      <th></th>\n",
       "      <th>V1</th>\n",
       "      <th>V2</th>\n",
       "      <th>V3</th>\n",
       "      <th>V4</th>\n",
       "      <th>V5</th>\n",
       "      <th>V6</th>\n",
       "      <th>V7</th>\n",
       "      <th>V8</th>\n",
       "      <th>V9</th>\n",
       "      <th>Amount</th>\n",
       "      <th>Class</th>\n",
       "    </tr>\n",
       "  </thead>\n",
       "  <tbody>\n",
       "    <tr>\n",
       "      <th>0</th>\n",
       "      <td>-1.359807</td>\n",
       "      <td>-0.072781</td>\n",
       "      <td>2.536347</td>\n",
       "      <td>1.378155</td>\n",
       "      <td>-0.338321</td>\n",
       "      <td>0.462388</td>\n",
       "      <td>0.239599</td>\n",
       "      <td>0.098698</td>\n",
       "      <td>0.363787</td>\n",
       "      <td>149.62</td>\n",
       "      <td>0</td>\n",
       "    </tr>\n",
       "    <tr>\n",
       "      <th>1</th>\n",
       "      <td>1.191857</td>\n",
       "      <td>0.266151</td>\n",
       "      <td>0.166480</td>\n",
       "      <td>0.448154</td>\n",
       "      <td>0.060018</td>\n",
       "      <td>-0.082361</td>\n",
       "      <td>-0.078803</td>\n",
       "      <td>0.085102</td>\n",
       "      <td>-0.255425</td>\n",
       "      <td>2.69</td>\n",
       "      <td>0</td>\n",
       "    </tr>\n",
       "    <tr>\n",
       "      <th>2</th>\n",
       "      <td>-1.358354</td>\n",
       "      <td>-1.340163</td>\n",
       "      <td>1.773209</td>\n",
       "      <td>0.379780</td>\n",
       "      <td>-0.503198</td>\n",
       "      <td>1.800499</td>\n",
       "      <td>0.791461</td>\n",
       "      <td>0.247676</td>\n",
       "      <td>-1.514654</td>\n",
       "      <td>378.66</td>\n",
       "      <td>0</td>\n",
       "    </tr>\n",
       "    <tr>\n",
       "      <th>3</th>\n",
       "      <td>-0.966272</td>\n",
       "      <td>-0.185226</td>\n",
       "      <td>1.792993</td>\n",
       "      <td>-0.863291</td>\n",
       "      <td>-0.010309</td>\n",
       "      <td>1.247203</td>\n",
       "      <td>0.237609</td>\n",
       "      <td>0.377436</td>\n",
       "      <td>-1.387024</td>\n",
       "      <td>123.50</td>\n",
       "      <td>0</td>\n",
       "    </tr>\n",
       "    <tr>\n",
       "      <th>4</th>\n",
       "      <td>-1.158233</td>\n",
       "      <td>0.877737</td>\n",
       "      <td>1.548718</td>\n",
       "      <td>0.403034</td>\n",
       "      <td>-0.407193</td>\n",
       "      <td>0.095921</td>\n",
       "      <td>0.592941</td>\n",
       "      <td>-0.270533</td>\n",
       "      <td>0.817739</td>\n",
       "      <td>69.99</td>\n",
       "      <td>0</td>\n",
       "    </tr>\n",
       "  </tbody>\n",
       "</table>\n",
       "</div>"
      ],
      "text/plain": [
       "         V1        V2        V3        V4        V5        V6        V7  \\\n",
       "0 -1.359807 -0.072781  2.536347  1.378155 -0.338321  0.462388  0.239599   \n",
       "1  1.191857  0.266151  0.166480  0.448154  0.060018 -0.082361 -0.078803   \n",
       "2 -1.358354 -1.340163  1.773209  0.379780 -0.503198  1.800499  0.791461   \n",
       "3 -0.966272 -0.185226  1.792993 -0.863291 -0.010309  1.247203  0.237609   \n",
       "4 -1.158233  0.877737  1.548718  0.403034 -0.407193  0.095921  0.592941   \n",
       "\n",
       "         V8        V9  Amount  Class  \n",
       "0  0.098698  0.363787  149.62      0  \n",
       "1  0.085102 -0.255425    2.69      0  \n",
       "2  0.247676 -1.514654  378.66      0  \n",
       "3  0.377436 -1.387024  123.50      0  \n",
       "4 -0.270533  0.817739   69.99      0  "
      ]
     },
     "execution_count": 2,
     "metadata": {},
     "output_type": "execute_result"
    }
   ],
   "source": [
    "# Import the dataset\n",
    "transactions_df = pd.read_csv(r\"C:\\Users\\TribThapa\\Desktop\\Thapa\\ResearchFellow\\Courses\\FinTech_Bootcamp_MonashUni2021\\monu-mel-virt-fin-pt-05-2021-u-c\\Activities\\Week 14\\3\\01-Evr_ROC_AUC\\Resources\\transactions.csv\")\n",
    "\n",
    "transactions_df.head()"
   ]
  },
  {
   "cell_type": "markdown",
   "metadata": {},
   "source": [
    "## Data Preprocessing"
   ]
  },
  {
   "cell_type": "code",
   "execution_count": 3,
   "metadata": {},
   "outputs": [],
   "source": [
    "# Creating the X and y sets\n",
    "X = transactions_df.iloc[:, 0:10].values\n",
    "\n",
    "y = transactions_df[\"Class\"].values"
   ]
  },
  {
   "cell_type": "code",
   "execution_count": 4,
   "metadata": {},
   "outputs": [
    {
     "name": "stdout",
     "output_type": "stream",
     "text": [
      "X: (284807, 10)\n",
      "Y: (284807,)\n"
     ]
    }
   ],
   "source": [
    "print(f\"X: {X.shape}\")\n",
    "\n",
    "print(f\"Y: {y.shape}\")"
   ]
  },
  {
   "cell_type": "code",
   "execution_count": 5,
   "metadata": {},
   "outputs": [],
   "source": [
    "# Import the StandardScaler from sklearn\n",
    "from sklearn.preprocessing import StandardScaler\n",
    "\n",
    "# Scale the data\n",
    "scaler = StandardScaler().fit(X)\n",
    "\n",
    "X = scaler.transform(X)"
   ]
  },
  {
   "cell_type": "markdown",
   "metadata": {},
   "source": [
    "Now that the data is scaled, the training, validation, and testing sets will be created."
   ]
  },
  {
   "cell_type": "code",
   "execution_count": 6,
   "metadata": {},
   "outputs": [],
   "source": [
    "# Creating training, validation, and testing sets\n",
    "from sklearn.model_selection import train_test_split\n",
    "\n",
    "X_train, X_test, y_train, y_test = train_test_split(X,\n",
    "                                                    y,\n",
    "                                                    random_state=78)"
   ]
  },
  {
   "cell_type": "code",
   "execution_count": 7,
   "metadata": {},
   "outputs": [],
   "source": [
    "X_train, X_val, y_train, y_val = train_test_split(X_train,\n",
    "                                                  y_train,\n",
    "                                                  random_state=78)"
   ]
  },
  {
   "cell_type": "markdown",
   "metadata": {},
   "source": [
    "## Build and Train the Deep Learning Model"
   ]
  },
  {
   "cell_type": "markdown",
   "metadata": {},
   "source": [
    " ### Importing the Keras Modules"
   ]
  },
  {
   "cell_type": "code",
   "execution_count": 8,
   "metadata": {},
   "outputs": [],
   "source": [
    "# Import Keras modules for model creation\n",
    "from tensorflow.keras.models import Sequential\n",
    "from tensorflow.keras.layers import Dense"
   ]
  },
  {
   "cell_type": "markdown",
   "metadata": {},
   "source": [
    " ### Setting Up the Model"
   ]
  },
  {
   "cell_type": "code",
   "execution_count": 9,
   "metadata": {},
   "outputs": [],
   "source": [
    "# Model set-up\n",
    "number_input_features = 10\n",
    "hidden_nodes_layer1 = 15\n",
    "hidden_nodes_layer2 = 5"
   ]
  },
  {
   "cell_type": "markdown",
   "metadata": {},
   "source": [
    " ### Defining the Model's Structure"
   ]
  },
  {
   "cell_type": "code",
   "execution_count": 10,
   "metadata": {},
   "outputs": [],
   "source": [
    "# Define the LSTM RNN model\n",
    "model = Sequential()\n",
    "\n",
    "# Layer 1\n",
    "model.add(Dense(units=hidden_nodes_layer1, \n",
    "                input_dim=number_input_features,\n",
    "                activation=\"relu\"))\n",
    "\n",
    "# Layer 2\n",
    "model.add(Dense(units=hidden_nodes_layer2,\n",
    "                activation=\"relu\"))\n",
    "\n",
    "# Output layer\n",
    "model.add(Dense(1,\n",
    "                activation=\"sigmoid\"))"
   ]
  },
  {
   "cell_type": "markdown",
   "metadata": {},
   "source": [
    " ### Compiling the Model"
   ]
  },
  {
   "cell_type": "code",
   "execution_count": 11,
   "metadata": {},
   "outputs": [],
   "source": [
    "# Compile the model\n",
    "model.compile(loss=\"binary_crossentropy\",\n",
    "              optimizer=\"adam\",\n",
    "              metrics=[\"accuracy\",\n",
    "                       tf.keras.metrics.TruePositives(name=\"tp\"),\n",
    "                       tf.keras.metrics.TrueNegatives(name=\"tn\"),\n",
    "                       tf.keras.metrics.FalsePositives(name=\"fp\"),\n",
    "                       tf.keras.metrics.FalseNegatives(name=\"fn\"),\n",
    "                       tf.keras.metrics.Precision(name=\"precision\"),\n",
    "                       tf.keras.metrics.Recall(name=\"recall\"),\n",
    "                       tf.keras.metrics.AUC(name=\"auc\"),])"
   ]
  },
  {
   "cell_type": "code",
   "execution_count": 12,
   "metadata": {},
   "outputs": [
    {
     "name": "stdout",
     "output_type": "stream",
     "text": [
      "Model: \"sequential\"\n",
      "_________________________________________________________________\n",
      "Layer (type)                 Output Shape              Param #   \n",
      "=================================================================\n",
      "dense (Dense)                (None, 15)                165       \n",
      "_________________________________________________________________\n",
      "dense_1 (Dense)              (None, 5)                 80        \n",
      "_________________________________________________________________\n",
      "dense_2 (Dense)              (None, 1)                 6         \n",
      "=================================================================\n",
      "Total params: 251\n",
      "Trainable params: 251\n",
      "Non-trainable params: 0\n",
      "_________________________________________________________________\n"
     ]
    }
   ],
   "source": [
    "# Summarize the model\n",
    "model.summary()"
   ]
  },
  {
   "cell_type": "markdown",
   "metadata": {},
   "source": [
    " ### Training the Model"
   ]
  },
  {
   "cell_type": "code",
   "execution_count": 13,
   "metadata": {},
   "outputs": [
    {
     "name": "stdout",
     "output_type": "stream",
     "text": [
      "Epoch 1/50\n",
      "161/161 [==============================] - 24s 19ms/step - loss: 0.3475 - accuracy: 0.9368 - tp: 3.0000 - tn: 150070.0000 - fp: 9876.0000 - fn: 254.0000 - precision: 3.0367e-04 - recall: 0.0117 - auc: 0.1890 - val_loss: 0.1245 - val_accuracy: 0.9981 - val_tp: 1.0000 - val_tn: 53297.0000 - val_fp: 0.0000e+00 - val_fn: 104.0000 - val_precision: 1.0000 - val_recall: 0.0095 - val_auc: 0.1703\n",
      "Epoch 2/50\n",
      "161/161 [==============================] - 1s 6ms/step - loss: 0.0639 - accuracy: 0.9984 - tp: 1.0000 - tn: 159946.0000 - fp: 0.0000e+00 - fn: 256.0000 - precision: 1.0000 - recall: 0.0039 - auc: 0.2953 - val_loss: 0.0320 - val_accuracy: 0.9981 - val_tp: 3.0000 - val_tn: 53297.0000 - val_fp: 0.0000e+00 - val_fn: 102.0000 - val_precision: 1.0000 - val_recall: 0.0286 - val_auc: 0.6426\n",
      "Epoch 3/50\n",
      "161/161 [==============================] - 1s 8ms/step - loss: 0.0213 - accuracy: 0.9987 - tp: 50.0000 - tn: 159939.0000 - fp: 7.0000 - fn: 207.0000 - precision: 0.8772 - recall: 0.1946 - auc: 0.7544 - val_loss: 0.0161 - val_accuracy: 0.9984 - val_tp: 29.0000 - val_tn: 53288.0000 - val_fp: 9.0000 - val_fn: 76.0000 - val_precision: 0.7632 - val_recall: 0.2762 - val_auc: 0.8438\n",
      "Epoch 4/50\n",
      "161/161 [==============================] - 1s 5ms/step - loss: 0.0124 - accuracy: 0.9988 - tp: 78.0000 - tn: 159933.0000 - fp: 13.0000 - fn: 179.0000 - precision: 0.8571 - recall: 0.3035 - auc: 0.8367 - val_loss: 0.0113 - val_accuracy: 0.9985 - val_tp: 33.0000 - val_tn: 53287.0000 - val_fp: 10.0000 - val_fn: 72.0000 - val_precision: 0.7674 - val_recall: 0.3143 - val_auc: 0.8927\n",
      "Epoch 5/50\n",
      "161/161 [==============================] - 1s 6ms/step - loss: 0.0091 - accuracy: 0.9988 - tp: 87.0000 - tn: 159929.0000 - fp: 17.0000 - fn: 170.0000 - precision: 0.8365 - recall: 0.3385 - auc: 0.8762 - val_loss: 0.0092 - val_accuracy: 0.9985 - val_tp: 36.0000 - val_tn: 53284.0000 - val_fp: 13.0000 - val_fn: 69.0000 - val_precision: 0.7347 - val_recall: 0.3429 - val_auc: 0.9127\n",
      "Epoch 6/50\n",
      "161/161 [==============================] - 2s 9ms/step - loss: 0.0076 - accuracy: 0.9989 - tp: 96.0000 - tn: 159926.0000 - fp: 20.0000 - fn: 161.0000 - precision: 0.8276 - recall: 0.3735 - auc: 0.8851 - val_loss: 0.0080 - val_accuracy: 0.9985 - val_tp: 38.0000 - val_tn: 53283.0000 - val_fp: 14.0000 - val_fn: 67.0000 - val_precision: 0.7308 - val_recall: 0.3619 - val_auc: 0.9279\n",
      "Epoch 7/50\n",
      "161/161 [==============================] - 1s 8ms/step - loss: 0.0066 - accuracy: 0.9989 - tp: 106.0000 - tn: 159923.0000 - fp: 23.0000 - fn: 151.0000 - precision: 0.8217 - recall: 0.4125 - auc: 0.9040 - val_loss: 0.0073 - val_accuracy: 0.9985 - val_tp: 39.0000 - val_tn: 53282.0000 - val_fp: 15.0000 - val_fn: 66.0000 - val_precision: 0.7222 - val_recall: 0.3714 - val_auc: 0.9283\n",
      "Epoch 8/50\n",
      "161/161 [==============================] - 1s 8ms/step - loss: 0.0060 - accuracy: 0.9989 - tp: 110.0000 - tn: 159923.0000 - fp: 23.0000 - fn: 147.0000 - precision: 0.8271 - recall: 0.4280 - auc: 0.9054 - val_loss: 0.0067 - val_accuracy: 0.9987 - val_tp: 50.0000 - val_tn: 53282.0000 - val_fp: 15.0000 - val_fn: 55.0000 - val_precision: 0.7692 - val_recall: 0.4762 - val_auc: 0.9304\n",
      "Epoch 9/50\n",
      "161/161 [==============================] - 1s 8ms/step - loss: 0.0055 - accuracy: 0.9990 - tp: 118.0000 - tn: 159920.0000 - fp: 26.0000 - fn: 139.0000 - precision: 0.8194 - recall: 0.4591 - auc: 0.9116 - val_loss: 0.0062 - val_accuracy: 0.9988 - val_tp: 54.0000 - val_tn: 53282.0000 - val_fp: 15.0000 - val_fn: 51.0000 - val_precision: 0.7826 - val_recall: 0.5143 - val_auc: 0.9322\n",
      "Epoch 10/50\n",
      "161/161 [==============================] - 1s 8ms/step - loss: 0.0051 - accuracy: 0.9990 - tp: 127.0000 - tn: 159921.0000 - fp: 25.0000 - fn: 130.0000 - precision: 0.8355 - recall: 0.4942 - auc: 0.9112 - val_loss: 0.0058 - val_accuracy: 0.9988 - val_tp: 58.0000 - val_tn: 53282.0000 - val_fp: 15.0000 - val_fn: 47.0000 - val_precision: 0.7945 - val_recall: 0.5524 - val_auc: 0.9383\n",
      "Epoch 11/50\n",
      "161/161 [==============================] - 1s 5ms/step - loss: 0.0049 - accuracy: 0.9991 - tp: 135.0000 - tn: 159920.0000 - fp: 26.0000 - fn: 122.0000 - precision: 0.8385 - recall: 0.5253 - auc: 0.9140 - val_loss: 0.0056 - val_accuracy: 0.9989 - val_tp: 60.0000 - val_tn: 53283.0000 - val_fp: 14.0000 - val_fn: 45.0000 - val_precision: 0.8108 - val_recall: 0.5714 - val_auc: 0.9343\n",
      "Epoch 12/50\n",
      "161/161 [==============================] - 1s 7ms/step - loss: 0.0047 - accuracy: 0.9991 - tp: 134.0000 - tn: 159923.0000 - fp: 23.0000 - fn: 123.0000 - precision: 0.8535 - recall: 0.5214 - auc: 0.9166 - val_loss: 0.0054 - val_accuracy: 0.9989 - val_tp: 64.0000 - val_tn: 53281.0000 - val_fp: 16.0000 - val_fn: 41.0000 - val_precision: 0.8000 - val_recall: 0.6095 - val_auc: 0.9348\n",
      "Epoch 13/50\n",
      "161/161 [==============================] - 1s 7ms/step - loss: 0.0045 - accuracy: 0.9991 - tp: 141.0000 - tn: 159920.0000 - fp: 26.0000 - fn: 116.0000 - precision: 0.8443 - recall: 0.5486 - auc: 0.9151 - val_loss: 0.0051 - val_accuracy: 0.9990 - val_tp: 63.0000 - val_tn: 53283.0000 - val_fp: 14.0000 - val_fn: 42.0000 - val_precision: 0.8182 - val_recall: 0.6000 - val_auc: 0.9353\n",
      "Epoch 14/50\n",
      "161/161 [==============================] - 2s 12ms/step - loss: 0.0044 - accuracy: 0.9991 - tp: 142.0000 - tn: 159923.0000 - fp: 23.0000 - fn: 115.0000 - precision: 0.8606 - recall: 0.5525 - auc: 0.9116 - val_loss: 0.0051 - val_accuracy: 0.9990 - val_tp: 65.0000 - val_tn: 53282.0000 - val_fp: 15.0000 - val_fn: 40.0000 - val_precision: 0.8125 - val_recall: 0.6190 - val_auc: 0.9401\n",
      "Epoch 15/50\n",
      "161/161 [==============================] - 2s 10ms/step - loss: 0.0043 - accuracy: 0.9992 - tp: 148.0000 - tn: 159919.0000 - fp: 27.0000 - fn: 109.0000 - precision: 0.8457 - recall: 0.5759 - auc: 0.9195 - val_loss: 0.0049 - val_accuracy: 0.9990 - val_tp: 65.0000 - val_tn: 53283.0000 - val_fp: 14.0000 - val_fn: 40.0000 - val_precision: 0.8228 - val_recall: 0.6190 - val_auc: 0.9406\n",
      "Epoch 16/50\n",
      "161/161 [==============================] - 2s 12ms/step - loss: 0.0042 - accuracy: 0.9991 - tp: 141.0000 - tn: 159924.0000 - fp: 22.0000 - fn: 116.0000 - precision: 0.8650 - recall: 0.5486 - auc: 0.9159 - val_loss: 0.0049 - val_accuracy: 0.9990 - val_tp: 67.0000 - val_tn: 53281.0000 - val_fp: 16.0000 - val_fn: 38.0000 - val_precision: 0.8072 - val_recall: 0.6381 - val_auc: 0.9407\n",
      "Epoch 17/50\n",
      "161/161 [==============================] - 1s 7ms/step - loss: 0.0042 - accuracy: 0.9992 - tp: 147.0000 - tn: 159920.0000 - fp: 26.0000 - fn: 110.0000 - precision: 0.8497 - recall: 0.5720 - auc: 0.9179 - val_loss: 0.0048 - val_accuracy: 0.9990 - val_tp: 67.0000 - val_tn: 53281.0000 - val_fp: 16.0000 - val_fn: 38.0000 - val_precision: 0.8072 - val_recall: 0.6381 - val_auc: 0.9407\n",
      "Epoch 18/50\n",
      "161/161 [==============================] - 1s 7ms/step - loss: 0.0041 - accuracy: 0.9992 - tp: 148.0000 - tn: 159919.0000 - fp: 27.0000 - fn: 109.0000 - precision: 0.8457 - recall: 0.5759 - auc: 0.9200 - val_loss: 0.0047 - val_accuracy: 0.9990 - val_tp: 67.0000 - val_tn: 53283.0000 - val_fp: 14.0000 - val_fn: 38.0000 - val_precision: 0.8272 - val_recall: 0.6381 - val_auc: 0.9411\n",
      "Epoch 19/50\n",
      "161/161 [==============================] - 1s 8ms/step - loss: 0.0040 - accuracy: 0.9992 - tp: 150.0000 - tn: 159923.0000 - fp: 23.0000 - fn: 107.0000 - precision: 0.8671 - recall: 0.5837 - auc: 0.9221 - val_loss: 0.0047 - val_accuracy: 0.9990 - val_tp: 67.0000 - val_tn: 53283.0000 - val_fp: 14.0000 - val_fn: 38.0000 - val_precision: 0.8272 - val_recall: 0.6381 - val_auc: 0.9410\n",
      "Epoch 20/50\n",
      "161/161 [==============================] - 1s 9ms/step - loss: 0.0040 - accuracy: 0.9992 - tp: 151.0000 - tn: 159922.0000 - fp: 24.0000 - fn: 106.0000 - precision: 0.8629 - recall: 0.5875 - auc: 0.9221 - val_loss: 0.0046 - val_accuracy: 0.9990 - val_tp: 67.0000 - val_tn: 53283.0000 - val_fp: 14.0000 - val_fn: 38.0000 - val_precision: 0.8272 - val_recall: 0.6381 - val_auc: 0.9411\n",
      "Epoch 21/50\n",
      "161/161 [==============================] - 1s 7ms/step - loss: 0.0039 - accuracy: 0.9992 - tp: 150.0000 - tn: 159921.0000 - fp: 25.0000 - fn: 107.0000 - precision: 0.8571 - recall: 0.5837 - auc: 0.9203 - val_loss: 0.0046 - val_accuracy: 0.9990 - val_tp: 68.0000 - val_tn: 53283.0000 - val_fp: 14.0000 - val_fn: 37.0000 - val_precision: 0.8293 - val_recall: 0.6476 - val_auc: 0.9412\n",
      "Epoch 22/50\n",
      "161/161 [==============================] - 1s 5ms/step - loss: 0.0039 - accuracy: 0.9992 - tp: 152.0000 - tn: 159920.0000 - fp: 26.0000 - fn: 105.0000 - precision: 0.8539 - recall: 0.5914 - auc: 0.9223 - val_loss: 0.0046 - val_accuracy: 0.9990 - val_tp: 69.0000 - val_tn: 53282.0000 - val_fp: 15.0000 - val_fn: 36.0000 - val_precision: 0.8214 - val_recall: 0.6571 - val_auc: 0.9458\n",
      "Epoch 23/50\n",
      "161/161 [==============================] - 1s 5ms/step - loss: 0.0039 - accuracy: 0.9992 - tp: 150.0000 - tn: 159925.0000 - fp: 21.0000 - fn: 107.0000 - precision: 0.8772 - recall: 0.5837 - auc: 0.9204 - val_loss: 0.0045 - val_accuracy: 0.9990 - val_tp: 68.0000 - val_tn: 53283.0000 - val_fp: 14.0000 - val_fn: 37.0000 - val_precision: 0.8293 - val_recall: 0.6476 - val_auc: 0.9413\n",
      "Epoch 24/50\n",
      "161/161 [==============================] - 1s 7ms/step - loss: 0.0038 - accuracy: 0.9992 - tp: 152.0000 - tn: 159923.0000 - fp: 23.0000 - fn: 105.0000 - precision: 0.8686 - recall: 0.5914 - auc: 0.9205 - val_loss: 0.0044 - val_accuracy: 0.9990 - val_tp: 65.0000 - val_tn: 53284.0000 - val_fp: 13.0000 - val_fn: 40.0000 - val_precision: 0.8333 - val_recall: 0.6190 - val_auc: 0.9367\n",
      "Epoch 25/50\n",
      "161/161 [==============================] - 1s 8ms/step - loss: 0.0038 - accuracy: 0.9993 - tp: 156.0000 - tn: 159928.0000 - fp: 18.0000 - fn: 101.0000 - precision: 0.8966 - recall: 0.6070 - auc: 0.9225 - val_loss: 0.0044 - val_accuracy: 0.9991 - val_tp: 68.0000 - val_tn: 53284.0000 - val_fp: 13.0000 - val_fn: 37.0000 - val_precision: 0.8395 - val_recall: 0.6476 - val_auc: 0.9414\n",
      "Epoch 26/50\n",
      "161/161 [==============================] - 1s 8ms/step - loss: 0.0038 - accuracy: 0.9992 - tp: 152.0000 - tn: 159925.0000 - fp: 21.0000 - fn: 105.0000 - precision: 0.8786 - recall: 0.5914 - auc: 0.9206 - val_loss: 0.0044 - val_accuracy: 0.9991 - val_tp: 70.0000 - val_tn: 53284.0000 - val_fp: 13.0000 - val_fn: 35.0000 - val_precision: 0.8434 - val_recall: 0.6667 - val_auc: 0.9414\n",
      "Epoch 27/50\n",
      "161/161 [==============================] - 1s 7ms/step - loss: 0.0038 - accuracy: 0.9992 - tp: 157.0000 - tn: 159924.0000 - fp: 22.0000 - fn: 100.0000 - precision: 0.8771 - recall: 0.6109 - auc: 0.9245 - val_loss: 0.0044 - val_accuracy: 0.9991 - val_tp: 70.0000 - val_tn: 53284.0000 - val_fp: 13.0000 - val_fn: 35.0000 - val_precision: 0.8434 - val_recall: 0.6667 - val_auc: 0.9415\n",
      "Epoch 28/50\n",
      "161/161 [==============================] - 1s 6ms/step - loss: 0.0037 - accuracy: 0.9993 - tp: 158.0000 - tn: 159926.0000 - fp: 20.0000 - fn: 99.0000 - precision: 0.8876 - recall: 0.6148 - auc: 0.9227 - val_loss: 0.0043 - val_accuracy: 0.9991 - val_tp: 70.0000 - val_tn: 53284.0000 - val_fp: 13.0000 - val_fn: 35.0000 - val_precision: 0.8434 - val_recall: 0.6667 - val_auc: 0.9416\n",
      "Epoch 29/50\n",
      "161/161 [==============================] - 1s 7ms/step - loss: 0.0037 - accuracy: 0.9992 - tp: 156.0000 - tn: 159926.0000 - fp: 20.0000 - fn: 101.0000 - precision: 0.8864 - recall: 0.6070 - auc: 0.9227 - val_loss: 0.0042 - val_accuracy: 0.9991 - val_tp: 70.0000 - val_tn: 53284.0000 - val_fp: 13.0000 - val_fn: 35.0000 - val_precision: 0.8434 - val_recall: 0.6667 - val_auc: 0.9415\n",
      "Epoch 30/50\n",
      "161/161 [==============================] - 1s 7ms/step - loss: 0.0037 - accuracy: 0.9992 - tp: 154.0000 - tn: 159923.0000 - fp: 23.0000 - fn: 103.0000 - precision: 0.8701 - recall: 0.5992 - auc: 0.9264 - val_loss: 0.0043 - val_accuracy: 0.9991 - val_tp: 71.0000 - val_tn: 53281.0000 - val_fp: 16.0000 - val_fn: 34.0000 - val_precision: 0.8161 - val_recall: 0.6762 - val_auc: 0.9463\n",
      "Epoch 31/50\n",
      "161/161 [==============================] - 1s 5ms/step - loss: 0.0036 - accuracy: 0.9992 - tp: 158.0000 - tn: 159924.0000 - fp: 22.0000 - fn: 99.0000 - precision: 0.8778 - recall: 0.6148 - auc: 0.9266 - val_loss: 0.0042 - val_accuracy: 0.9991 - val_tp: 69.0000 - val_tn: 53284.0000 - val_fp: 13.0000 - val_fn: 36.0000 - val_precision: 0.8415 - val_recall: 0.6571 - val_auc: 0.9416\n",
      "Epoch 32/50\n",
      "161/161 [==============================] - 1s 7ms/step - loss: 0.0036 - accuracy: 0.9992 - tp: 157.0000 - tn: 159925.0000 - fp: 21.0000 - fn: 100.0000 - precision: 0.8820 - recall: 0.6109 - auc: 0.9266 - val_loss: 0.0042 - val_accuracy: 0.9991 - val_tp: 69.0000 - val_tn: 53284.0000 - val_fp: 13.0000 - val_fn: 36.0000 - val_precision: 0.8415 - val_recall: 0.6571 - val_auc: 0.9417\n",
      "Epoch 33/50\n",
      "161/161 [==============================] - 1s 7ms/step - loss: 0.0036 - accuracy: 0.9992 - tp: 157.0000 - tn: 159924.0000 - fp: 22.0000 - fn: 100.0000 - precision: 0.8771 - recall: 0.6109 - auc: 0.9267 - val_loss: 0.0041 - val_accuracy: 0.9991 - val_tp: 70.0000 - val_tn: 53284.0000 - val_fp: 13.0000 - val_fn: 35.0000 - val_precision: 0.8434 - val_recall: 0.6667 - val_auc: 0.9416\n",
      "Epoch 34/50\n",
      "161/161 [==============================] - 1s 6ms/step - loss: 0.0035 - accuracy: 0.9992 - tp: 159.0000 - tn: 159923.0000 - fp: 23.0000 - fn: 98.0000 - precision: 0.8736 - recall: 0.6187 - auc: 0.9305 - val_loss: 0.0042 - val_accuracy: 0.9991 - val_tp: 70.0000 - val_tn: 53283.0000 - val_fp: 14.0000 - val_fn: 35.0000 - val_precision: 0.8333 - val_recall: 0.6667 - val_auc: 0.9417\n",
      "Epoch 35/50\n",
      "161/161 [==============================] - 1s 7ms/step - loss: 0.0035 - accuracy: 0.9993 - tp: 160.0000 - tn: 159926.0000 - fp: 20.0000 - fn: 97.0000 - precision: 0.8889 - recall: 0.6226 - auc: 0.9267 - val_loss: 0.0041 - val_accuracy: 0.9991 - val_tp: 69.0000 - val_tn: 53284.0000 - val_fp: 13.0000 - val_fn: 36.0000 - val_precision: 0.8415 - val_recall: 0.6571 - val_auc: 0.9417\n",
      "Epoch 36/50\n",
      "161/161 [==============================] - 1s 6ms/step - loss: 0.0035 - accuracy: 0.9993 - tp: 158.0000 - tn: 159926.0000 - fp: 20.0000 - fn: 99.0000 - precision: 0.8876 - recall: 0.6148 - auc: 0.9287 - val_loss: 0.0042 - val_accuracy: 0.9991 - val_tp: 71.0000 - val_tn: 53281.0000 - val_fp: 16.0000 - val_fn: 34.0000 - val_precision: 0.8161 - val_recall: 0.6762 - val_auc: 0.9464\n",
      "Epoch 37/50\n",
      "161/161 [==============================] - 1s 5ms/step - loss: 0.0035 - accuracy: 0.9992 - tp: 156.0000 - tn: 159924.0000 - fp: 22.0000 - fn: 101.0000 - precision: 0.8764 - recall: 0.6070 - auc: 0.9325 - val_loss: 0.0042 - val_accuracy: 0.9991 - val_tp: 71.0000 - val_tn: 53281.0000 - val_fp: 16.0000 - val_fn: 34.0000 - val_precision: 0.8161 - val_recall: 0.6762 - val_auc: 0.9511\n",
      "Epoch 38/50\n",
      "161/161 [==============================] - 1s 8ms/step - loss: 0.0035 - accuracy: 0.9992 - tp: 155.0000 - tn: 159925.0000 - fp: 21.0000 - fn: 102.0000 - precision: 0.8807 - recall: 0.6031 - auc: 0.9326 - val_loss: 0.0041 - val_accuracy: 0.9991 - val_tp: 71.0000 - val_tn: 53281.0000 - val_fp: 16.0000 - val_fn: 34.0000 - val_precision: 0.8161 - val_recall: 0.6762 - val_auc: 0.9510\n",
      "Epoch 39/50\n",
      "161/161 [==============================] - 1s 8ms/step - loss: 0.0034 - accuracy: 0.9993 - tp: 162.0000 - tn: 159923.0000 - fp: 23.0000 - fn: 95.0000 - precision: 0.8757 - recall: 0.6304 - auc: 0.9326 - val_loss: 0.0041 - val_accuracy: 0.9991 - val_tp: 71.0000 - val_tn: 53283.0000 - val_fp: 14.0000 - val_fn: 34.0000 - val_precision: 0.8353 - val_recall: 0.6762 - val_auc: 0.9464\n",
      "Epoch 40/50\n",
      "161/161 [==============================] - 1s 6ms/step - loss: 0.0034 - accuracy: 0.9993 - tp: 160.0000 - tn: 159924.0000 - fp: 22.0000 - fn: 97.0000 - precision: 0.8791 - recall: 0.6226 - auc: 0.9326 - val_loss: 0.0042 - val_accuracy: 0.9991 - val_tp: 74.0000 - val_tn: 53280.0000 - val_fp: 17.0000 - val_fn: 31.0000 - val_precision: 0.8132 - val_recall: 0.7048 - val_auc: 0.9510\n",
      "Epoch 41/50\n",
      "161/161 [==============================] - 1s 9ms/step - loss: 0.0034 - accuracy: 0.9992 - tp: 159.0000 - tn: 159923.0000 - fp: 23.0000 - fn: 98.0000 - precision: 0.8736 - recall: 0.6187 - auc: 0.9326 - val_loss: 0.0040 - val_accuracy: 0.9990 - val_tp: 70.0000 - val_tn: 53281.0000 - val_fp: 16.0000 - val_fn: 35.0000 - val_precision: 0.8140 - val_recall: 0.6667 - val_auc: 0.9512\n",
      "Epoch 42/50\n",
      "161/161 [==============================] - 1s 8ms/step - loss: 0.0034 - accuracy: 0.9993 - tp: 161.0000 - tn: 159922.0000 - fp: 24.0000 - fn: 96.0000 - precision: 0.8703 - recall: 0.6265 - auc: 0.9326 - val_loss: 0.0040 - val_accuracy: 0.9991 - val_tp: 67.0000 - val_tn: 53285.0000 - val_fp: 12.0000 - val_fn: 38.0000 - val_precision: 0.8481 - val_recall: 0.6381 - val_auc: 0.9370\n",
      "Epoch 43/50\n",
      "161/161 [==============================] - 1s 8ms/step - loss: 0.0034 - accuracy: 0.9992 - tp: 161.0000 - tn: 159920.0000 - fp: 26.0000 - fn: 96.0000 - precision: 0.8610 - recall: 0.6265 - auc: 0.9327 - val_loss: 0.0041 - val_accuracy: 0.9991 - val_tp: 74.0000 - val_tn: 53280.0000 - val_fp: 17.0000 - val_fn: 31.0000 - val_precision: 0.8132 - val_recall: 0.7048 - val_auc: 0.9510\n",
      "Epoch 44/50\n",
      "161/161 [==============================] - 1s 9ms/step - loss: 0.0034 - accuracy: 0.9992 - tp: 160.0000 - tn: 159920.0000 - fp: 26.0000 - fn: 97.0000 - precision: 0.8602 - recall: 0.6226 - auc: 0.9365 - val_loss: 0.0040 - val_accuracy: 0.9991 - val_tp: 72.0000 - val_tn: 53284.0000 - val_fp: 13.0000 - val_fn: 33.0000 - val_precision: 0.8471 - val_recall: 0.6857 - val_auc: 0.9418\n",
      "Epoch 45/50\n",
      "161/161 [==============================] - 1s 8ms/step - loss: 0.0033 - accuracy: 0.9993 - tp: 164.0000 - tn: 159920.0000 - fp: 26.0000 - fn: 93.0000 - precision: 0.8632 - recall: 0.6381 - auc: 0.9326 - val_loss: 0.0040 - val_accuracy: 0.9991 - val_tp: 71.0000 - val_tn: 53284.0000 - val_fp: 13.0000 - val_fn: 34.0000 - val_precision: 0.8452 - val_recall: 0.6762 - val_auc: 0.9418\n",
      "Epoch 46/50\n",
      "161/161 [==============================] - 1s 5ms/step - loss: 0.0033 - accuracy: 0.9992 - tp: 161.0000 - tn: 159919.0000 - fp: 27.0000 - fn: 96.0000 - precision: 0.8564 - recall: 0.6265 - auc: 0.9307 - val_loss: 0.0040 - val_accuracy: 0.9991 - val_tp: 71.0000 - val_tn: 53284.0000 - val_fp: 13.0000 - val_fn: 34.0000 - val_precision: 0.8452 - val_recall: 0.6762 - val_auc: 0.9371\n",
      "Epoch 47/50\n",
      "161/161 [==============================] - 1s 8ms/step - loss: 0.0033 - accuracy: 0.9993 - tp: 161.0000 - tn: 159923.0000 - fp: 23.0000 - fn: 96.0000 - precision: 0.8750 - recall: 0.6265 - auc: 0.9327 - val_loss: 0.0041 - val_accuracy: 0.9991 - val_tp: 74.0000 - val_tn: 53281.0000 - val_fp: 16.0000 - val_fn: 31.0000 - val_precision: 0.8222 - val_recall: 0.7048 - val_auc: 0.9512\n",
      "Epoch 48/50\n",
      "161/161 [==============================] - 1s 8ms/step - loss: 0.0033 - accuracy: 0.9993 - tp: 166.0000 - tn: 159920.0000 - fp: 26.0000 - fn: 91.0000 - precision: 0.8646 - recall: 0.6459 - auc: 0.9326 - val_loss: 0.0041 - val_accuracy: 0.9991 - val_tp: 75.0000 - val_tn: 53281.0000 - val_fp: 16.0000 - val_fn: 30.0000 - val_precision: 0.8242 - val_recall: 0.7143 - val_auc: 0.9465\n",
      "Epoch 49/50\n",
      "161/161 [==============================] - 2s 11ms/step - loss: 0.0033 - accuracy: 0.9992 - tp: 163.0000 - tn: 159919.0000 - fp: 27.0000 - fn: 94.0000 - precision: 0.8579 - recall: 0.6342 - auc: 0.9327 - val_loss: 0.0041 - val_accuracy: 0.9991 - val_tp: 75.0000 - val_tn: 53281.0000 - val_fp: 16.0000 - val_fn: 30.0000 - val_precision: 0.8242 - val_recall: 0.7143 - val_auc: 0.9464\n",
      "Epoch 50/50\n",
      "161/161 [==============================] - 1s 7ms/step - loss: 0.0033 - accuracy: 0.9992 - tp: 164.0000 - tn: 159917.0000 - fp: 29.0000 - fn: 93.0000 - precision: 0.8497 - recall: 0.6381 - auc: 0.9326 - val_loss: 0.0040 - val_accuracy: 0.9991 - val_tp: 75.0000 - val_tn: 53281.0000 - val_fp: 16.0000 - val_fn: 30.0000 - val_precision: 0.8242 - val_recall: 0.7143 - val_auc: 0.9511\n"
     ]
    }
   ],
   "source": [
    "# Training the model\n",
    "batch_size = 1000\n",
    "epochs = 50\n",
    "\n",
    "training_history = model.fit(X_train,\n",
    "                             y_train,\n",
    "                             validation_data=(X_val, y_val),\n",
    "                             epochs=epochs,\n",
    "                             batch_size=batch_size,\n",
    "                             verbose=1)"
   ]
  },
  {
   "cell_type": "markdown",
   "metadata": {},
   "source": [
    "### Model Performance"
   ]
  },
  {
   "cell_type": "markdown",
   "metadata": {},
   "source": [
    "#### Checking Training History"
   ]
  },
  {
   "cell_type": "code",
   "execution_count": 14,
   "metadata": {},
   "outputs": [
    {
     "data": {
      "text/plain": [
       "<matplotlib.axes._subplots.AxesSubplot at 0x14109738ec8>"
      ]
     },
     "execution_count": 14,
     "metadata": {},
     "output_type": "execute_result"
    },
    {
     "data": {
      "image/png": "[encoded data removed]",
      "text/plain": [
       "<Figure size 432x288 with 1 Axes>"
      ]
     },
     "metadata": {
      "needs_background": "light"
     },
     "output_type": "display_data"
    }
   ],
   "source": [
    "# Plotting loss\n",
    "loss_df = pd.DataFrame({\"Epoch\": range(1, epochs + 1),\n",
    "                        \"Train\": training_history.history[\"loss\"],\n",
    "                        \"Val\": training_history.history[\"val_loss\"]})\n",
    "\n",
    "loss_df.set_index(\"Epoch\",\n",
    "                  inplace=True)\n",
    "\n",
    "loss_df.plot(title=\"Loss\")"
   ]
  },
  {
   "cell_type": "code",
   "execution_count": 15,
   "metadata": {},
   "outputs": [
    {
     "data": {
      "text/plain": [
       "<matplotlib.axes._subplots.AxesSubplot at 0x141088279c8>"
      ]
     },
     "execution_count": 15,
     "metadata": {},
     "output_type": "execute_result"
    },
    {
     "data": {
      "image/png": "[encoded data removed]",
      "text/plain": [
       "<Figure size 432x288 with 1 Axes>"
      ]
     },
     "metadata": {
      "needs_background": "light"
     },
     "output_type": "display_data"
    }
   ],
   "source": [
    "# Plotting accuracy\n",
    "accuracy_df = pd.DataFrame({\"Epoch\": range(1, epochs + 1),\n",
    "                            \"Train\": training_history.history[\"accuracy\"],\n",
    "                            \"Val\": training_history.history[\"val_accuracy\"]})\n",
    "\n",
    "accuracy_df.set_index(\"Epoch\",\n",
    "                      inplace=True)\n",
    "\n",
    "accuracy_df.plot(title=\"Accuracy\")"
   ]
  },
  {
   "cell_type": "code",
   "execution_count": 16,
   "metadata": {},
   "outputs": [
    {
     "data": {
      "text/plain": [
       "<matplotlib.axes._subplots.AxesSubplot at 0x141137e0cc8>"
      ]
     },
     "execution_count": 16,
     "metadata": {},
     "output_type": "execute_result"
    },
    {
     "data": {
      "image/png": "[encoded data removed]",
      "text/plain": [
       "<Figure size 432x288 with 1 Axes>"
      ]
     },
     "metadata": {
      "needs_background": "light"
     },
     "output_type": "display_data"
    }
   ],
   "source": [
    "# Plotting AUC\n",
    "auc_df = pd.DataFrame({\"Epoch\": range(1, epochs + 1),\n",
    "                       \"Train\": training_history.history[\"auc\"],\n",
    "                       \"Val\": training_history.history[\"val_auc\"]})\n",
    "\n",
    "auc_df.set_index(\"Epoch\", \n",
    "                 inplace=True)\n",
    "\n",
    "auc_df.plot(title=\"AUC\")"
   ]
  },
  {
   "cell_type": "markdown",
   "metadata": {},
   "source": [
    "#### Plotting the ROC Curve"
   ]
  },
  {
   "cell_type": "code",
   "execution_count": 17,
   "metadata": {},
   "outputs": [],
   "source": [
    "# Import the roc_curve and auc metrics from sklearn\n",
    "from sklearn.metrics import roc_curve, auc"
   ]
  },
  {
   "cell_type": "code",
   "execution_count": 18,
   "metadata": {},
   "outputs": [],
   "source": [
    "# Making predictions to feed the roc_curve module\n",
    "train_predictions = model.predict(X_train,\n",
    "                                  batch_size=1000)\n",
    "\n",
    "test_predictions = model.predict(X_test,\n",
    "                                 batch_size=1000)"
   ]
  },
  {
   "cell_type": "code",
   "execution_count": 19,
   "metadata": {},
   "outputs": [],
   "source": [
    "# Calculate the ROC curve and AUC for the training set\n",
    "fpr_train, tpr_train, thresholds_train = roc_curve(y_train, \n",
    "                                                   train_predictions)\n",
    "\n",
    "auc_train = auc(fpr_train,\n",
    "                tpr_train)\n",
    "\n",
    "auc_train = round(auc_train, 4)\n",
    "\n",
    "# Calculate the ROC curve and AUC for the testing set\n",
    "fpr_test, tpr_test, thresholds_test = roc_curve(y_test, \n",
    "                                                test_predictions)\n",
    "\n",
    "auc_test = auc(fpr_test,\n",
    "                tpr_test)\n",
    "\n",
    "auc_test = round(auc_test, 4)"
   ]
  },
  {
   "cell_type": "code",
   "execution_count": 20,
   "metadata": {},
   "outputs": [],
   "source": [
    "# Create a DataFrame with the fpr and tpr results\n",
    "roc_df_train = pd.DataFrame({\"FPR Train\": fpr_train,\n",
    "                             \"TPR Train\": tpr_train})\n",
    "\n",
    "roc_df_test = pd.DataFrame({\"FPR Test\": fpr_test,\n",
    "                            \"TPR Test\": tpr_test})"
   ]
  },
  {
   "cell_type": "code",
   "execution_count": 21,
   "metadata": {},
   "outputs": [
    {
     "data": {
      "text/plain": [
       "<matplotlib.axes._subplots.AxesSubplot at 0x1410aefd4c8>"
      ]
     },
     "execution_count": 21,
     "metadata": {},
     "output_type": "execute_result"
    },
    {
     "data": {
      "image/png": "[encoded data removed]",
      "text/plain": [
       "<Figure size 432x288 with 1 Axes>"
      ]
     },
     "metadata": {
      "needs_background": "light"
     },
     "output_type": "display_data"
    },
    {
     "data": {
      "image/png": "[encoded data removed]",
      "text/plain": [
       "<Figure size 432x288 with 1 Axes>"
      ]
     },
     "metadata": {
      "needs_background": "light"
     },
     "output_type": "display_data"
    }
   ],
   "source": [
    "# Plotting the ROC Curves\n",
    "roc_df_train.plot(x=\"FPR Train\",\n",
    "                  y=\"TPR Train\",\n",
    "                  xlim=([-0.5, 1.05]),\n",
    "                  title=f\"Train ROC Curve (AUC={auc_train})\")\n",
    "\n",
    "roc_df_test.plot(x=\"FPR Test\",\n",
    "                 y=\"TPR Test\",\n",
    "                 color=\"red\",\n",
    "                 style=\"--\",\n",
    "                 xlim=([-0.05, 1.05]),\n",
    "                 title=f\"Test ROC Curve (AUC={auc_test})\")"
   ]
  },
  {
   "cell_type": "markdown",
   "metadata": {},
   "source": [
    "#### Evaluate the Model"
   ]
  },
  {
   "cell_type": "code",
   "execution_count": 22,
   "metadata": {},
   "outputs": [
    {
     "data": {
      "text/plain": [
       "{'loss': 0.0034369290806353092,\n",
       " 'accuracy': 0.9992556571960449,\n",
       " 'tp': 94.0,\n",
       " 'tn': 71055.0,\n",
       " 'fp': 17.0,\n",
       " 'fn': 36.0,\n",
       " 'precision': 0.8468468189239502,\n",
       " 'recall': 0.7230769395828247,\n",
       " 'auc': 0.9526234269142151}"
      ]
     },
     "metadata": {},
     "output_type": "display_data"
    }
   ],
   "source": [
    "# Evaluate the model\n",
    "scores = model.evaluate(X_test,\n",
    "                        y_test,\n",
    "                        verbose=0)\n",
    "\n",
    "# Define metrics dictionary\n",
    "metrics = {k: v for k, v in zip(model.metrics_names, scores)}\n",
    "\n",
    "# Display evaluation metrics results\n",
    "display(metrics)"
   ]
  },
  {
   "cell_type": "markdown",
   "metadata": {},
   "source": [
    "#### Confusion Matrix"
   ]
  },
  {
   "cell_type": "code",
   "execution_count": 23,
   "metadata": {},
   "outputs": [
    {
     "data": {
      "text/html": [
       "<div>\n",
       "<style scoped>\n",
       "    .dataframe tbody tr th:only-of-type {\n",
       "        vertical-align: middle;\n",
       "    }\n",
       "\n",
       "    .dataframe tbody tr th {\n",
       "        vertical-align: top;\n",
       "    }\n",
       "\n",
       "    .dataframe thead th {\n",
       "        text-align: right;\n",
       "    }\n",
       "</style>\n",
       "<table border=\"1\" class=\"dataframe\">\n",
       "  <thead>\n",
       "    <tr style=\"text-align: right;\">\n",
       "      <th>Predicted</th>\n",
       "      <th>Positive (1)</th>\n",
       "      <th>Negative (0)</th>\n",
       "    </tr>\n",
       "    <tr>\n",
       "      <th>Actual</th>\n",
       "      <th></th>\n",
       "      <th></th>\n",
       "    </tr>\n",
       "  </thead>\n",
       "  <tbody>\n",
       "    <tr>\n",
       "      <th>Positive(1)</th>\n",
       "      <td>TP=94.0</td>\n",
       "      <td>FN=17.0</td>\n",
       "    </tr>\n",
       "    <tr>\n",
       "      <th>Negative(0)</th>\n",
       "      <td>FP=36.0</td>\n",
       "      <td>TN=71055.0</td>\n",
       "    </tr>\n",
       "  </tbody>\n",
       "</table>\n",
       "</div>"
      ],
      "text/plain": [
       "Predicted   Positive (1) Negative (0)\n",
       "Actual                               \n",
       "Positive(1)      TP=94.0      FN=17.0\n",
       "Negative(0)      FP=36.0   TN=71055.0"
      ]
     },
     "execution_count": 23,
     "metadata": {},
     "output_type": "execute_result"
    }
   ],
   "source": [
    "# Define the confusion matrix data\n",
    "cm_df = pd.DataFrame({\"Positive (1)\": [f\"TP={metrics['tp']}\", f\"FP={metrics['fn']}\"],\n",
    "                      \"Negative (0)\": [f\"FN={metrics['fp']}\", f\"TN={metrics['tn']}\"]},\n",
    "                     index=[\"Positive(1)\", \"Negative(0)\"])\n",
    "\n",
    "cm_df.index.name = \"Actual\"\n",
    "cm_df.columns.name = \"Predicted\"\n",
    "\n",
    "# Show the confusion matrix\n",
    "cm_df"
   ]
  },
  {
   "cell_type": "markdown",
   "metadata": {},
   "source": [
    "#### Classification Report"
   ]
  },
  {
   "cell_type": "code",
   "execution_count": 24,
   "metadata": {},
   "outputs": [
    {
     "name": "stderr",
     "output_type": "stream",
     "text": [
      "C:\\Users\\TribThapa\\anaconda3\\envs\\mlenv\\lib\\site-packages\\tensorflow\\python\\keras\\engine\\sequential.py:455: UserWarning: `model.predict_classes()` is deprecated and will be removed after 2021-01-01. Please use instead:* `np.argmax(model.predict(x), axis=-1)`,   if your model does multi-class classification   (e.g. if it uses a `softmax` last-layer activation).* `(model.predict(x) > 0.5).astype(\"int32\")`,   if your model does binary classification   (e.g. if it uses a `sigmoid` last-layer activation).\n",
      "  warnings.warn('`model.predict_classes()` is deprecated and '\n"
     ]
    },
    {
     "name": "stdout",
     "output_type": "stream",
     "text": [
      "              precision    recall  f1-score   support\n",
      "\n",
      "           0       1.00      1.00      1.00     71091\n",
      "           1       0.72      0.85      0.78       111\n",
      "\n",
      "    accuracy                           1.00     71202\n",
      "   macro avg       0.86      0.92      0.89     71202\n",
      "weighted avg       1.00      1.00      1.00     71202\n",
      "\n"
     ]
    }
   ],
   "source": [
    "# Import the classification_report method from sklearn\n",
    "from sklearn.metrics import classification_report\n",
    "\n",
    "# Predict classes using testing data\n",
    "y_predict_classes = model.predict_classes(X_test,\n",
    "                                          batch_size=1000)\n",
    "\n",
    "# Display classification report\n",
    "print(classification_report(y_predict_classes, y_test))"
   ]
  }
 ],
 "metadata": {
  "file_extension": ".py",
  "kernelspec": {
   "display_name": "Python 3",
   "language": "python",
   "name": "python3"
  },
  "language_info": {
   "codemirror_mode": {
    "name": "ipython",
    "version": 3
   },
   "file_extension": ".py",
   "mimetype": "text/x-python",
   "name": "python",
   "nbconvert_exporter": "python",
   "pygments_lexer": "ipython3",
   "version": "3.7.10"
  },
  "mimetype": "text/x-python",
  "name": "python",
  "npconvert_exporter": "python",
  "pygments_lexer": "ipython3",
  "version": 3
 },
 "nbformat": 4,
 "nbformat_minor": 4
}
