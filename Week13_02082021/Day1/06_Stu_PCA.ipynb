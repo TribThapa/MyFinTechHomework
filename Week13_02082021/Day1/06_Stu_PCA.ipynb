{
 "cells": [
  {
   "cell_type": "markdown",
   "metadata": {},
   "source": [
    "# Students Do: PCA in Action\n",
    "\n",
    "In this activity, you will use PCA to reduce the dimensions of the consumers shopping dataset from `4` to `2` features. After applying PCA, you will use the principal components data, to fit a K-Means means model with `k=6` and make some conclusions."
   ]
  },
  {
   "cell_type": "code",
   "execution_count": 13,
   "metadata": {},
   "outputs": [],
   "source": [
    "# Initial imports\n",
    "import pandas as pd\n",
    "from path import Path\n",
    "from sklearn.preprocessing import StandardScaler\n",
    "from sklearn.decomposition import PCA\n",
    "from sklearn.cluster import KMeans\n",
    "import plotly.express as px\n",
    "import hvplot.pandas\n"
   ]
  },
  {
   "cell_type": "markdown",
   "metadata": {},
   "source": [
    "## Instructions\n",
    "\n",
    "1. Import the preprocessed data from the customers shopping dataset into a DataFrame called `df_shopping`."
   ]
  },
  {
   "cell_type": "code",
   "execution_count": 14,
   "metadata": {},
   "outputs": [
    {
     "data": {
      "text/html": [
       "<div>\n",
       "<style scoped>\n",
       "    .dataframe tbody tr th:only-of-type {\n",
       "        vertical-align: middle;\n",
       "    }\n",
       "\n",
       "    .dataframe tbody tr th {\n",
       "        vertical-align: top;\n",
       "    }\n",
       "\n",
       "    .dataframe thead th {\n",
       "        text-align: right;\n",
       "    }\n",
       "</style>\n",
       "<table border=\"1\" class=\"dataframe\">\n",
       "  <thead>\n",
       "    <tr style=\"text-align: right;\">\n",
       "      <th></th>\n",
       "      <th>Genre</th>\n",
       "      <th>Age</th>\n",
       "      <th>Annual Income</th>\n",
       "      <th>Spending Score (1-100)</th>\n",
       "    </tr>\n",
       "  </thead>\n",
       "  <tbody>\n",
       "    <tr>\n",
       "      <th>0</th>\n",
       "      <td>1</td>\n",
       "      <td>19</td>\n",
       "      <td>15.0</td>\n",
       "      <td>39</td>\n",
       "    </tr>\n",
       "    <tr>\n",
       "      <th>1</th>\n",
       "      <td>1</td>\n",
       "      <td>21</td>\n",
       "      <td>15.0</td>\n",
       "      <td>81</td>\n",
       "    </tr>\n",
       "    <tr>\n",
       "      <th>2</th>\n",
       "      <td>0</td>\n",
       "      <td>20</td>\n",
       "      <td>16.0</td>\n",
       "      <td>6</td>\n",
       "    </tr>\n",
       "    <tr>\n",
       "      <th>3</th>\n",
       "      <td>0</td>\n",
       "      <td>23</td>\n",
       "      <td>16.0</td>\n",
       "      <td>77</td>\n",
       "    </tr>\n",
       "    <tr>\n",
       "      <th>4</th>\n",
       "      <td>0</td>\n",
       "      <td>31</td>\n",
       "      <td>17.0</td>\n",
       "      <td>40</td>\n",
       "    </tr>\n",
       "  </tbody>\n",
       "</table>\n",
       "</div>"
      ],
      "text/plain": [
       "   Genre  Age  Annual Income  Spending Score (1-100)\n",
       "0      1   19           15.0                      39\n",
       "1      1   21           15.0                      81\n",
       "2      0   20           16.0                       6\n",
       "3      0   23           16.0                      77\n",
       "4      0   31           17.0                      40"
      ]
     },
     "execution_count": 14,
     "metadata": {},
     "output_type": "execute_result"
    }
   ],
   "source": [
    "# Import data\n",
    "df_shopping = pd.read_csv(r\"C:\\Users\\TribThapa\\Desktop\\Thapa\\ResearchFellow\\Courses\\FinTech_Bootcamp_MonashUni2021\\monu-mel-virt-fin-pt-05-2021-u-c\\Activities\\Week 13\\1\\06-Stu_PCA\\Unsolved\\Data\\shopping_data_cleaned.csv\")\n",
    "\n",
    "df_shopping.head()"
   ]
  },
  {
   "cell_type": "markdown",
   "metadata": {},
   "source": [
    "2. Standardize the data of all the DataFrame features."
   ]
  },
  {
   "cell_type": "code",
   "execution_count": 15,
   "metadata": {},
   "outputs": [
    {
     "data": {
      "text/plain": [
       "array([[ 1.12815215, -1.42456879, -1.73899919, -0.43480148],\n",
       "       [ 1.12815215, -1.28103541, -1.73899919,  1.19570407],\n",
       "       [-0.88640526, -1.3528021 , -1.70082976, -1.71591298],\n",
       "       [-0.88640526, -1.13750203, -1.70082976,  1.04041783],\n",
       "       [-0.88640526, -0.56336851, -1.66266033, -0.39597992],\n",
       "       [-0.88640526, -1.20926872, -1.66266033,  1.00159627],\n",
       "       [-0.88640526, -0.27630176, -1.62449091, -1.71591298],\n",
       "       [-0.88640526, -1.13750203, -1.62449091,  1.70038436],\n",
       "       [ 1.12815215,  1.80493225, -1.58632148, -1.83237767],\n",
       "       [-0.88640526, -0.6351352 , -1.58632148,  0.84631002]])"
      ]
     },
     "execution_count": 15,
     "metadata": {},
     "output_type": "execute_result"
    }
   ],
   "source": [
    "# Standardize data\n",
    "df_shopping_scaled = StandardScaler().fit_transform(df_shopping)\n",
    "\n",
    "df_shopping_scaled[:10]"
   ]
  },
  {
   "cell_type": "markdown",
   "metadata": {},
   "source": [
    "3. Apply PCA to reduce dimensions from 4 to 2 and create a DataFrame with the principal components data."
   ]
  },
  {
   "cell_type": "code",
   "execution_count": 16,
   "metadata": {},
   "outputs": [
    {
     "data": {
      "text/plain": [
       "array([[-0.40638272, -0.52071363],\n",
       "       [-1.42767287, -0.3673102 ],\n",
       "       [ 0.05076057, -1.89406774],\n",
       "       [-1.6945131 , -1.63190805],\n",
       "       [-0.31310838, -1.81048272],\n",
       "       [-1.71744627, -1.59926418],\n",
       "       [ 0.79082112, -1.94727112],\n",
       "       [-2.14832159, -1.50537369],\n",
       "       [ 2.77428623, -0.88298767],\n",
       "       [-1.21629477, -1.61640464]])"
      ]
     },
     "execution_count": 16,
     "metadata": {},
     "output_type": "execute_result"
    }
   ],
   "source": [
    "# Initialize PCA model\n",
    "pca = PCA(n_components=2)\n",
    "\n",
    "# Get two principal components for the data.\n",
    "shopping_pca = pca.fit_transform(df_shopping_scaled)\n",
    "\n",
    "shopping_pca[:10]"
   ]
  },
  {
   "cell_type": "code",
   "execution_count": 17,
   "metadata": {},
   "outputs": [
    {
     "data": {
      "text/html": [
       "<div>\n",
       "<style scoped>\n",
       "    .dataframe tbody tr th:only-of-type {\n",
       "        vertical-align: middle;\n",
       "    }\n",
       "\n",
       "    .dataframe tbody tr th {\n",
       "        vertical-align: top;\n",
       "    }\n",
       "\n",
       "    .dataframe thead th {\n",
       "        text-align: right;\n",
       "    }\n",
       "</style>\n",
       "<table border=\"1\" class=\"dataframe\">\n",
       "  <thead>\n",
       "    <tr style=\"text-align: right;\">\n",
       "      <th></th>\n",
       "      <th>PCA1</th>\n",
       "      <th>PCA2</th>\n",
       "    </tr>\n",
       "  </thead>\n",
       "  <tbody>\n",
       "    <tr>\n",
       "      <th>0</th>\n",
       "      <td>-0.406383</td>\n",
       "      <td>-0.520714</td>\n",
       "    </tr>\n",
       "    <tr>\n",
       "      <th>1</th>\n",
       "      <td>-1.427673</td>\n",
       "      <td>-0.367310</td>\n",
       "    </tr>\n",
       "    <tr>\n",
       "      <th>2</th>\n",
       "      <td>0.050761</td>\n",
       "      <td>-1.894068</td>\n",
       "    </tr>\n",
       "    <tr>\n",
       "      <th>3</th>\n",
       "      <td>-1.694513</td>\n",
       "      <td>-1.631908</td>\n",
       "    </tr>\n",
       "    <tr>\n",
       "      <th>4</th>\n",
       "      <td>-0.313108</td>\n",
       "      <td>-1.810483</td>\n",
       "    </tr>\n",
       "  </tbody>\n",
       "</table>\n",
       "</div>"
      ],
      "text/plain": [
       "       PCA1      PCA2\n",
       "0 -0.406383 -0.520714\n",
       "1 -1.427673 -0.367310\n",
       "2  0.050761 -1.894068\n",
       "3 -1.694513 -1.631908\n",
       "4 -0.313108 -1.810483"
      ]
     },
     "execution_count": 17,
     "metadata": {},
     "output_type": "execute_result"
    }
   ],
   "source": [
    "# Transform PCA data to a DataFrame\n",
    "df_shopping_pca = pd.DataFrame(data=shopping_pca,\n",
    "                               columns=[\"PCA1\", \"PCA2\"])\n",
    "\n",
    "df_shopping_pca.head()"
   ]
  },
  {
   "cell_type": "markdown",
   "metadata": {},
   "source": [
    "4. Fetch the explained variance, analyze its value and answer the following question, are two principal components the best number of new dimensions?"
   ]
  },
  {
   "cell_type": "code",
   "execution_count": 18,
   "metadata": {},
   "outputs": [
    {
     "data": {
      "text/plain": [
       "array([0.33690046, 0.26230645])"
      ]
     },
     "execution_count": 18,
     "metadata": {},
     "output_type": "execute_result"
    }
   ],
   "source": [
    "# Fetch the explained variance\n",
    "pca.explained_variance_ratio_"
   ]
  },
  {
   "cell_type": "markdown",
   "metadata": {},
   "source": [
    "**Write Your Answer Here**\n",
    "\n",
    "The two components explain ~59% of the data.\n"
   ]
  },
  {
   "cell_type": "markdown",
   "metadata": {},
   "source": [
    "5. If you conclude that two principal components is the appropriate number of new dimensions, proceed to step 6, on the contrary, explore what happens if you modify the number of principal components. Once you finish, write your conclusions."
   ]
  },
  {
   "cell_type": "code",
   "execution_count": 19,
   "metadata": {},
   "outputs": [
    {
     "data": {
      "text/plain": [
       "array([[-0.40638272, -0.52071363, -2.07252663],\n",
       "       [-1.42767287, -0.3673102 , -2.27764369],\n",
       "       [ 0.05076057, -1.89406774, -0.36737523],\n",
       "       [-1.6945131 , -1.63190805, -0.71746669],\n",
       "       [-0.31310838, -1.81048272, -0.42645992],\n",
       "       [-1.71744627, -1.59926418, -0.69637942],\n",
       "       [ 0.79082112, -1.94727112, -0.18649159],\n",
       "       [-2.14832159, -1.50537369, -0.7584636 ],\n",
       "       [ 2.77428623, -0.88298767, -1.38814112],\n",
       "       [-1.21629477, -1.61640464, -0.5557697 ]])"
      ]
     },
     "execution_count": 19,
     "metadata": {},
     "output_type": "execute_result"
    }
   ],
   "source": [
    "# Initialize PCA model\n",
    "pca3 = PCA(n_components=3)\n",
    "\n",
    "shopping_pca3 = pca3.fit_transform(df_shopping_scaled)\n",
    "\n",
    "# Get three principal components for the iris data.\n",
    "shopping_pca3[:10]\n"
   ]
  },
  {
   "cell_type": "code",
   "execution_count": 20,
   "metadata": {},
   "outputs": [
    {
     "data": {
      "text/html": [
       "<div>\n",
       "<style scoped>\n",
       "    .dataframe tbody tr th:only-of-type {\n",
       "        vertical-align: middle;\n",
       "    }\n",
       "\n",
       "    .dataframe tbody tr th {\n",
       "        vertical-align: top;\n",
       "    }\n",
       "\n",
       "    .dataframe thead th {\n",
       "        text-align: right;\n",
       "    }\n",
       "</style>\n",
       "<table border=\"1\" class=\"dataframe\">\n",
       "  <thead>\n",
       "    <tr style=\"text-align: right;\">\n",
       "      <th></th>\n",
       "      <th>PCA1</th>\n",
       "      <th>PCA2</th>\n",
       "      <th>PCA3</th>\n",
       "    </tr>\n",
       "  </thead>\n",
       "  <tbody>\n",
       "    <tr>\n",
       "      <th>0</th>\n",
       "      <td>-0.406383</td>\n",
       "      <td>-0.520714</td>\n",
       "      <td>-2.072527</td>\n",
       "    </tr>\n",
       "    <tr>\n",
       "      <th>1</th>\n",
       "      <td>-1.427673</td>\n",
       "      <td>-0.367310</td>\n",
       "      <td>-2.277644</td>\n",
       "    </tr>\n",
       "    <tr>\n",
       "      <th>2</th>\n",
       "      <td>0.050761</td>\n",
       "      <td>-1.894068</td>\n",
       "      <td>-0.367375</td>\n",
       "    </tr>\n",
       "    <tr>\n",
       "      <th>3</th>\n",
       "      <td>-1.694513</td>\n",
       "      <td>-1.631908</td>\n",
       "      <td>-0.717467</td>\n",
       "    </tr>\n",
       "    <tr>\n",
       "      <th>4</th>\n",
       "      <td>-0.313108</td>\n",
       "      <td>-1.810483</td>\n",
       "      <td>-0.426460</td>\n",
       "    </tr>\n",
       "  </tbody>\n",
       "</table>\n",
       "</div>"
      ],
      "text/plain": [
       "       PCA1      PCA2      PCA3\n",
       "0 -0.406383 -0.520714 -2.072527\n",
       "1 -1.427673 -0.367310 -2.277644\n",
       "2  0.050761 -1.894068 -0.367375\n",
       "3 -1.694513 -1.631908 -0.717467\n",
       "4 -0.313108 -1.810483 -0.426460"
      ]
     },
     "execution_count": 20,
     "metadata": {},
     "output_type": "execute_result"
    }
   ],
   "source": [
    "# Transform PCA data to a DataFrame\n",
    "df_shopping_pca3 = pd.DataFrame(data=shopping_pca3,\n",
    "                                columns=[\"PCA1\", \"PCA2\", \"PCA3\"])\n",
    "\n",
    "df_shopping_pca3.head()"
   ]
  },
  {
   "cell_type": "code",
   "execution_count": 21,
   "metadata": {},
   "outputs": [
    {
     "data": {
      "text/plain": [
       "array([0.33690046, 0.26230645, 0.23260639])"
      ]
     },
     "execution_count": 21,
     "metadata": {},
     "output_type": "execute_result"
    }
   ],
   "source": [
    "# Fetch the explained variance\n",
    "pca3.explained_variance_ratio_"
   ]
  },
  {
   "cell_type": "markdown",
   "metadata": {},
   "source": [
    "The three components explain roughly 82% of the data.\n"
   ]
  },
  {
   "cell_type": "markdown",
   "metadata": {},
   "source": [
    "6. Fit the K-Means algorithm with `k=6` and the principal components data."
   ]
  },
  {
   "cell_type": "code",
   "execution_count": 22,
   "metadata": {},
   "outputs": [
    {
     "data": {
      "text/html": [
       "<div>\n",
       "<style scoped>\n",
       "    .dataframe tbody tr th:only-of-type {\n",
       "        vertical-align: middle;\n",
       "    }\n",
       "\n",
       "    .dataframe tbody tr th {\n",
       "        vertical-align: top;\n",
       "    }\n",
       "\n",
       "    .dataframe thead th {\n",
       "        text-align: right;\n",
       "    }\n",
       "</style>\n",
       "<table border=\"1\" class=\"dataframe\">\n",
       "  <thead>\n",
       "    <tr style=\"text-align: right;\">\n",
       "      <th></th>\n",
       "      <th>PCA1</th>\n",
       "      <th>PCA2</th>\n",
       "      <th>class</th>\n",
       "    </tr>\n",
       "  </thead>\n",
       "  <tbody>\n",
       "    <tr>\n",
       "      <th>0</th>\n",
       "      <td>-0.406383</td>\n",
       "      <td>-0.520714</td>\n",
       "      <td>5</td>\n",
       "    </tr>\n",
       "    <tr>\n",
       "      <th>1</th>\n",
       "      <td>-1.427673</td>\n",
       "      <td>-0.367310</td>\n",
       "      <td>0</td>\n",
       "    </tr>\n",
       "    <tr>\n",
       "      <th>2</th>\n",
       "      <td>0.050761</td>\n",
       "      <td>-1.894068</td>\n",
       "      <td>5</td>\n",
       "    </tr>\n",
       "    <tr>\n",
       "      <th>3</th>\n",
       "      <td>-1.694513</td>\n",
       "      <td>-1.631908</td>\n",
       "      <td>4</td>\n",
       "    </tr>\n",
       "    <tr>\n",
       "      <th>4</th>\n",
       "      <td>-0.313108</td>\n",
       "      <td>-1.810483</td>\n",
       "      <td>5</td>\n",
       "    </tr>\n",
       "  </tbody>\n",
       "</table>\n",
       "</div>"
      ],
      "text/plain": [
       "       PCA1      PCA2  class\n",
       "0 -0.406383 -0.520714      5\n",
       "1 -1.427673 -0.367310      0\n",
       "2  0.050761 -1.894068      5\n",
       "3 -1.694513 -1.631908      4\n",
       "4 -0.313108 -1.810483      5"
      ]
     },
     "execution_count": 22,
     "metadata": {},
     "output_type": "execute_result"
    }
   ],
   "source": [
    "# Initialize the K-Means model\n",
    "km = KMeans(n_clusters=6, random_state=0)\n",
    "\n",
    "# Fit the model\n",
    "km.fit(df_shopping_pca)\n",
    "\n",
    "# Predict clusters\n",
    "pred = km.predict(df_shopping_pca)\n",
    "\n",
    "# Add the predicted class columns\n",
    "df_shopping_pca[\"class\"] = km.labels_\n",
    "\n",
    "df_shopping_pca.head()"
   ]
  },
  {
   "cell_type": "markdown",
   "metadata": {},
   "source": [
    "7. Plot the resulting clusters, use the appropriate scatter plot depending on the number of dimensions you have."
   ]
  },
  {
   "cell_type": "code",
   "execution_count": 23,
   "metadata": {},
   "outputs": [
    {
     "data": {
      "text/plain": [
       "<AxesSubplot:xlabel='PCA1', ylabel='PCA2'>"
      ]
     },
     "execution_count": 23,
     "metadata": {},
     "output_type": "execute_result"
    },
    {
     "data": {
      "image/png": "[encoded data removed]",
      "text/plain": [
       "<Figure size 432x288 with 1 Axes>"
      ]
     },
     "metadata": {
      "needs_background": "light"
     },
     "output_type": "display_data"
    }
   ],
   "source": [
    "df_shopping_pca.plot.scatter(x=\"PCA1\",\n",
    "                             y=\"PCA2\")"
   ]
  },
  {
   "cell_type": "code",
   "execution_count": 24,
   "metadata": {},
   "outputs": [
    {
     "data": {},
     "metadata": {},
     "output_type": "display_data"
    },
    {
     "data": {
      "application/vnd.holoviews_exec.v0+json": "",
      "text/html": [
       "<div id='1481'>\n",
       "\n",
       "\n",
       "\n",
       "\n",
       "\n",
       "  <div class=\"bk-root\" id=\"705e29fa-d681-46d5-a15e-3d6c97c151af\" data-root-id=\"1481\"></div>\n",
       "</div>\n",
       "<script type=\"application/javascript\">(function(root) {\n",
       "  function embed_document(root) {\n",
       "    var docs_json = {\"447f6af2-d8a9-455b-a89d-1660badf896b\":{\"defs\":[{\"extends\":null,\"module\":null,\"name\":\"ReactiveHTML1\",\"overrides\":[],\"properties\":[]},{\"extends\":null,\"module\":null,\"name\":\"FlexBox1\",\"overrides\":[],\"properties\":[{\"default\":\"flex-start\",\"kind\":null,\"name\":\"align_content\"},{\"default\":\"flex-start\",\"kind\":null,\"name\":\"align_items\"},{\"default\":\"row\",\"kind\":null,\"name\":\"flex_direction\"},{\"default\":\"wrap\",\"kind\":null,\"name\":\"flex_wrap\"},{\"default\":\"flex-start\",\"kind\":null,\"name\":\"justify_content\"}]},{\"extends\":null,\"module\":null,\"name\":\"TemplateActions1\",\"overrides\":[],\"properties\":[{\"default\":0,\"kind\":null,\"name\":\"open_modal\"},{\"default\":0,\"kind\":null,\"name\":\"close_modal\"}]},{\"extends\":null,\"module\":null,\"name\":\"MaterialTemplateActions1\",\"overrides\":[],\"properties\":[{\"default\":0,\"kind\":null,\"name\":\"open_modal\"},{\"default\":0,\"kind\":null,\"name\":\"close_modal\"}]}],\"roots\":{\"references\":[{\"attributes\":{\"fill_color\":{\"value\":\"#fc4f30\"},\"line_color\":{\"value\":\"#fc4f30\"},\"size\":{\"value\":5.477225575051661},\"x\":{\"field\":\"PCA1\"},\"y\":{\"field\":\"PCA2\"}},\"id\":\"1551\",\"type\":\"Scatter\"},{\"attributes\":{},\"id\":\"1496\",\"type\":\"LinearScale\"},{\"attributes\":{},\"id\":\"1565\",\"type\":\"UnionRenderers\"},{\"attributes\":{},\"id\":\"1522\",\"type\":\"AllLabels\"},{\"attributes\":{},\"id\":\"1501\",\"type\":\"BasicTicker\"},{\"attributes\":{\"source\":{\"id\":\"1527\"}},\"id\":\"1534\",\"type\":\"CDSView\"},{\"attributes\":{\"data_source\":{\"id\":\"1527\"},\"glyph\":{\"id\":\"1530\"},\"hover_glyph\":null,\"muted_glyph\":{\"id\":\"1532\"},\"nonselection_glyph\":{\"id\":\"1531\"},\"selection_glyph\":{\"id\":\"1547\"},\"view\":{\"id\":\"1534\"}},\"id\":\"1533\",\"type\":\"GlyphRenderer\"},{\"attributes\":{},\"id\":\"1542\",\"type\":\"UnionRenderers\"},{\"attributes\":{\"axis\":{\"id\":\"1500\"},\"grid_line_color\":null,\"ticker\":null},\"id\":\"1503\",\"type\":\"Grid\"},{\"attributes\":{\"fill_alpha\":{\"value\":0.2},\"fill_color\":{\"value\":\"#30a2da\"},\"line_alpha\":{\"value\":0.2},\"line_color\":{\"value\":\"#30a2da\"},\"size\":{\"value\":5.477225575051661},\"x\":{\"field\":\"PCA1\"},\"y\":{\"field\":\"PCA2\"}},\"id\":\"1532\",\"type\":\"Scatter\"},{\"attributes\":{\"axis_label\":\"PCA2\",\"formatter\":{\"id\":\"1524\"},\"major_label_policy\":{\"id\":\"1525\"},\"ticker\":{\"id\":\"1505\"}},\"id\":\"1504\",\"type\":\"LinearAxis\"},{\"attributes\":{},\"id\":\"1649\",\"type\":\"Selection\"},{\"attributes\":{\"source\":{\"id\":\"1648\"}},\"id\":\"1655\",\"type\":\"CDSView\"},{\"attributes\":{\"axis_label\":\"PCA1\",\"formatter\":{\"id\":\"1521\"},\"major_label_policy\":{\"id\":\"1522\"},\"ticker\":{\"id\":\"1501\"}},\"id\":\"1500\",\"type\":\"LinearAxis\"},{\"attributes\":{\"fill_alpha\":{\"value\":0.2},\"fill_color\":{\"value\":\"#e5ae38\"},\"line_alpha\":{\"value\":0.2},\"line_color\":{\"value\":\"#e5ae38\"},\"size\":{\"value\":5.477225575051661},\"x\":{\"field\":\"PCA1\"},\"y\":{\"field\":\"PCA2\"}},\"id\":\"1575\",\"type\":\"Scatter\"},{\"attributes\":{\"fill_alpha\":{\"value\":0.1},\"fill_color\":{\"value\":\"#fc4f30\"},\"line_alpha\":{\"value\":0.1},\"line_color\":{\"value\":\"#fc4f30\"},\"size\":{\"value\":5.477225575051661},\"x\":{\"field\":\"PCA1\"},\"y\":{\"field\":\"PCA2\"}},\"id\":\"1552\",\"type\":\"Scatter\"},{\"attributes\":{\"label\":{\"value\":\"1\"},\"renderers\":[{\"id\":\"1554\"}]},\"id\":\"1568\",\"type\":\"LegendItem\"},{\"attributes\":{\"label\":{\"value\":\"0\"},\"renderers\":[{\"id\":\"1533\"}]},\"id\":\"1546\",\"type\":\"LegendItem\"},{\"attributes\":{},\"id\":\"1549\",\"type\":\"Selection\"},{\"attributes\":{\"margin\":[5,5,5,5],\"name\":\"HSpacer02831\",\"sizing_mode\":\"stretch_width\"},\"id\":\"1858\",\"type\":\"Spacer\"},{\"attributes\":{\"angle\":{\"value\":0.0},\"fill_alpha\":{\"value\":1.0},\"fill_color\":{\"value\":\"#fc4f30\"},\"hatch_alpha\":{\"value\":1.0},\"hatch_color\":{\"value\":\"black\"},\"hatch_scale\":{\"value\":12.0},\"hatch_weight\":{\"value\":1.0},\"line_alpha\":{\"value\":1.0},\"line_cap\":{\"value\":\"butt\"},\"line_color\":{\"value\":\"#fc4f30\"},\"line_dash\":{\"value\":[]},\"line_dash_offset\":{\"value\":0},\"line_join\":{\"value\":\"bevel\"},\"line_width\":{\"value\":1},\"marker\":{\"value\":\"circle\"},\"size\":{\"value\":5.477225575051661},\"x\":{\"field\":\"PCA1\"},\"y\":{\"field\":\"PCA2\"}},\"id\":\"1569\",\"type\":\"Scatter\"},{\"attributes\":{\"data\":{\"PCA1\":{\"__ndarray__\":\"gfC9xLkc+7/xn0jxqHr7vywtmjrDLwHAfbx5gPF187/fhjgXEgj7v3ZJnwxRVvq/IzSIHaWe+r/zCYBRYW3/v3kW5OKLCfu/CiJHvjt2/r/J0kSmb/Hzv4kmfrrftPy/Sx9bBXQa7L/KFSXfoUn1v6iGY+qie+a/moJluNko5r9vxsWk4fDpvw==\",\"dtype\":\"float64\",\"order\":\"little\",\"shape\":[17]},\"PCA2\":{\"__ndarray__\":\"DTyUnEsc+r/0f4MJlpb5vzQHQ7gCFvi/Z0H4HMvc+b8Ml8SKErr4vzBXSik2XPi/VKbgnOvr9r9RJunW12Tzv24h0DgClvO/pY61T8qr8b97HQ06xMnyvxfTErc3EfC/dEveHfxW8b+hBQ3I+T/wv1iOo6IwS/G/iniGz5vW77+0VwCAZHfsvw==\",\"dtype\":\"float64\",\"order\":\"little\",\"shape\":[17]},\"class\":{\"__ndarray__\":\"BAAAAAQAAAAEAAAABAAAAAQAAAAEAAAABAAAAAQAAAAEAAAABAAAAAQAAAAEAAAABAAAAAQAAAAEAAAABAAAAAQAAAA=\",\"dtype\":\"int32\",\"order\":\"little\",\"shape\":[17]}},\"selected\":{\"id\":\"1621\"},\"selection_policy\":{\"id\":\"1643\"}},\"id\":\"1620\",\"type\":\"ColumnDataSource\"},{\"attributes\":{\"below\":[{\"id\":\"1500\"}],\"center\":[{\"id\":\"1503\"},{\"id\":\"1507\"}],\"height\":300,\"left\":[{\"id\":\"1504\"}],\"margin\":[5,5,5,5],\"min_border_bottom\":10,\"min_border_left\":10,\"min_border_right\":10,\"min_border_top\":10,\"renderers\":[{\"id\":\"1533\"},{\"id\":\"1554\"},{\"id\":\"1576\"},{\"id\":\"1600\"},{\"id\":\"1626\"},{\"id\":\"1654\"}],\"right\":[{\"id\":\"1545\"}],\"sizing_mode\":\"fixed\",\"title\":{\"id\":\"1492\"},\"toolbar\":{\"id\":\"1514\"},\"width\":700,\"x_range\":{\"id\":\"1483\"},\"x_scale\":{\"id\":\"1496\"},\"y_range\":{\"id\":\"1484\"},\"y_scale\":{\"id\":\"1498\"}},\"id\":\"1491\",\"subtype\":\"Figure\",\"type\":\"Plot\"},{\"attributes\":{\"fill_alpha\":{\"value\":0.2},\"fill_color\":{\"value\":\"#fc4f30\"},\"line_alpha\":{\"value\":0.2},\"line_color\":{\"value\":\"#fc4f30\"},\"size\":{\"value\":5.477225575051661},\"x\":{\"field\":\"PCA1\"},\"y\":{\"field\":\"PCA2\"}},\"id\":\"1553\",\"type\":\"Scatter\"},{\"attributes\":{},\"id\":\"1505\",\"type\":\"BasicTicker\"},{\"attributes\":{\"axis\":{\"id\":\"1504\"},\"dimension\":1,\"grid_line_color\":null,\"ticker\":null},\"id\":\"1507\",\"type\":\"Grid\"},{\"attributes\":{\"fill_color\":{\"value\":\"#e5ae38\"},\"line_color\":{\"value\":\"#e5ae38\"},\"size\":{\"value\":5.477225575051661},\"x\":{\"field\":\"PCA1\"},\"y\":{\"field\":\"PCA2\"}},\"id\":\"1573\",\"type\":\"Scatter\"},{\"attributes\":{\"click_policy\":\"mute\",\"items\":[{\"id\":\"1546\"},{\"id\":\"1568\"},{\"id\":\"1592\"},{\"id\":\"1618\"},{\"id\":\"1646\"},{\"id\":\"1676\"}],\"location\":[0,0],\"title\":\"class\"},\"id\":\"1545\",\"type\":\"Legend\"},{\"attributes\":{},\"id\":\"1589\",\"type\":\"UnionRenderers\"},{\"attributes\":{\"source\":{\"id\":\"1548\"}},\"id\":\"1555\",\"type\":\"CDSView\"},{\"attributes\":{\"data\":{\"PCA1\":{\"__ndarray__\":\"nA8/L1ES3r9w407WG57gv6oerbqAiOC/9vWb7rpM5L8CcVG7qeXfv1DEmzd8V+O/ej7PW7+E3r+7ghGOHy/qv0PCcPZVCOy/llvWxgdA3L9DDZYELhfZvziIFhp06eW/xevm0zZ/879x7eY64l74vzeYtib0pfC/i29FH92w5784HRt1/Pbav7cZOHKyCu6/nUeyERfp77/r//vVRYLqv0+3n1MC1O+/Qps20GDf9r+5m3m/HCzov9vkHQqGlPS/3j5CqrTp8L+syOOi+5j1vx+KxZ2G3/K/EsMXFrUo57+drJNqTQrxvw==\",\"dtype\":\"float64\",\"order\":\"little\",\"shape\":[29]},\"PCA2\":{\"__ndarray__\":\"2tkuW/IL5D91V85xVPXoPzhMJ2vp3+k/FazSWJBg6z9GfofKBqfrPzyk8xDmCO4/gCT7ZKYb8D+YrNxBltvxP/5xFFQJ7vI/F+XtIcLi8T/6CF0zR8TxP8LNUgIZaPM/X3OIQp6f9T9YhZT9d0r3Pxxb5lJYmPY/Bm4kwh7f9T+dTizR8075PyWCAfvQjfo/mHXeOfqw+j/3LEBKd8H6P6rSSdN6fP0/P/lSHc6qAEDiud8S9FIAQIn7OWwMB+s/QNTmYbXt6T+GCWcFclXyP3+sxgxuMfU/ew1uw70eBkAYXGLCGRkJQA==\",\"dtype\":\"float64\",\"order\":\"little\",\"shape\":[29]},\"class\":{\"__ndarray__\":\"AwAAAAMAAAADAAAAAwAAAAMAAAADAAAAAwAAAAMAAAADAAAAAwAAAAMAAAADAAAAAwAAAAMAAAADAAAAAwAAAAMAAAADAAAAAwAAAAMAAAADAAAAAwAAAAMAAAADAAAAAwAAAAMAAAADAAAAAwAAAAMAAAA=\",\"dtype\":\"int32\",\"order\":\"little\",\"shape\":[29]}},\"selected\":{\"id\":\"1595\"},\"selection_policy\":{\"id\":\"1615\"}},\"id\":\"1594\",\"type\":\"ColumnDataSource\"},{\"attributes\":{\"callback\":null,\"renderers\":[{\"id\":\"1533\"},{\"id\":\"1554\"},{\"id\":\"1576\"},{\"id\":\"1600\"},{\"id\":\"1626\"},{\"id\":\"1654\"}],\"tags\":[\"hv_created\"],\"tooltips\":[[\"class\",\"@{class}\"],[\"PCA1\",\"@{PCA1}\"],[\"PCA2\",\"@{PCA2}\"]]},\"id\":\"1485\",\"type\":\"HoverTool\"},{\"attributes\":{\"fill_alpha\":{\"value\":0.1},\"fill_color\":{\"value\":\"#e5ae38\"},\"line_alpha\":{\"value\":0.1},\"line_color\":{\"value\":\"#e5ae38\"},\"size\":{\"value\":5.477225575051661},\"x\":{\"field\":\"PCA1\"},\"y\":{\"field\":\"PCA2\"}},\"id\":\"1574\",\"type\":\"Scatter\"},{\"attributes\":{\"label\":{\"value\":\"2\"},\"renderers\":[{\"id\":\"1576\"}]},\"id\":\"1592\",\"type\":\"LegendItem\"},{\"attributes\":{\"data_source\":{\"id\":\"1548\"},\"glyph\":{\"id\":\"1551\"},\"hover_glyph\":null,\"muted_glyph\":{\"id\":\"1553\"},\"nonselection_glyph\":{\"id\":\"1552\"},\"selection_glyph\":{\"id\":\"1569\"},\"view\":{\"id\":\"1555\"}},\"id\":\"1554\",\"type\":\"GlyphRenderer\"},{\"attributes\":{},\"id\":\"1524\",\"type\":\"BasicTickFormatter\"},{\"attributes\":{},\"id\":\"1508\",\"type\":\"SaveTool\"},{\"attributes\":{\"fill_color\":{\"value\":\"#6d904f\"},\"line_color\":{\"value\":\"#6d904f\"},\"size\":{\"value\":5.477225575051661},\"x\":{\"field\":\"PCA1\"},\"y\":{\"field\":\"PCA2\"}},\"id\":\"1597\",\"type\":\"Scatter\"},{\"attributes\":{},\"id\":\"1509\",\"type\":\"PanTool\"},{\"attributes\":{},\"id\":\"1498\",\"type\":\"LinearScale\"},{\"attributes\":{\"angle\":{\"value\":0.0},\"fill_alpha\":{\"value\":1.0},\"fill_color\":{\"value\":\"#e5ae38\"},\"hatch_alpha\":{\"value\":1.0},\"hatch_color\":{\"value\":\"black\"},\"hatch_scale\":{\"value\":12.0},\"hatch_weight\":{\"value\":1.0},\"line_alpha\":{\"value\":1.0},\"line_cap\":{\"value\":\"butt\"},\"line_color\":{\"value\":\"#e5ae38\"},\"line_dash\":{\"value\":[]},\"line_dash_offset\":{\"value\":0},\"line_join\":{\"value\":\"bevel\"},\"line_width\":{\"value\":1},\"marker\":{\"value\":\"circle\"},\"size\":{\"value\":5.477225575051661},\"x\":{\"field\":\"PCA1\"},\"y\":{\"field\":\"PCA2\"}},\"id\":\"1593\",\"type\":\"Scatter\"},{\"attributes\":{},\"id\":\"1512\",\"type\":\"ResetTool\"},{\"attributes\":{\"angle\":{\"value\":0.0},\"fill_alpha\":{\"value\":1.0},\"fill_color\":{\"value\":\"#30a2da\"},\"hatch_alpha\":{\"value\":1.0},\"hatch_color\":{\"value\":\"black\"},\"hatch_scale\":{\"value\":12.0},\"hatch_weight\":{\"value\":1.0},\"line_alpha\":{\"value\":1.0},\"line_cap\":{\"value\":\"butt\"},\"line_color\":{\"value\":\"#30a2da\"},\"line_dash\":{\"value\":[]},\"line_dash_offset\":{\"value\":0},\"line_join\":{\"value\":\"bevel\"},\"line_width\":{\"value\":1},\"marker\":{\"value\":\"circle\"},\"size\":{\"value\":5.477225575051661},\"x\":{\"field\":\"PCA1\"},\"y\":{\"field\":\"PCA2\"}},\"id\":\"1547\",\"type\":\"Scatter\"},{\"attributes\":{\"source\":{\"id\":\"1570\"}},\"id\":\"1577\",\"type\":\"CDSView\"},{\"attributes\":{},\"id\":\"1510\",\"type\":\"WheelZoomTool\"},{\"attributes\":{\"data_source\":{\"id\":\"1570\"},\"glyph\":{\"id\":\"1573\"},\"hover_glyph\":null,\"muted_glyph\":{\"id\":\"1575\"},\"nonselection_glyph\":{\"id\":\"1574\"},\"selection_glyph\":{\"id\":\"1593\"},\"view\":{\"id\":\"1577\"}},\"id\":\"1576\",\"type\":\"GlyphRenderer\"},{\"attributes\":{\"data\":{\"PCA1\":{\"__ndarray__\":\"GzEwxYUH8D+K8OBtp1DtP/8fU5WaQPE/LnESpK4C9z8Iol+BTdT6Px/9rhULifU/VydvIxhn2D/j2Adssz/yP5x89ozki7g/YhX6xh5q/j8Iyj/j3YvqP8sIIY0U8ec/S8jAbmPo7T9zybfPYrT2P6NN9/d9iOM/RyYBtqb68T80dkf0UFH+P7WSfpi+mvo/DIJnX50b+D+RW8EsdOjrP8PqRemQagJAHGkO8Ak1/D+EPlX6nyjhP8fQVY8CnNY/eLM6Me8N4z+bLWUCW3TxP7Gi+Zmym/U/hiG1GBey9z/I5gTHc1P1P1/K3m74Cd8/YfTzZ3dF9z84eCGiMILzP7uLNM3059A/zzDRMWvp9D9MIPaFQQjzP8pbySTrIgFAYGHbIkO8AUCHVsfgXsTGP0Q9trXGwfg/1j+iGR8XyD9KxUYuMazzP76WUvNCxOg/wRq54xAt0T+YIqhpWmvxP9NySX94fPE/PWPUXy2H5T8jFjxiDYzoPw==\",\"dtype\":\"float64\",\"order\":\"little\",\"shape\":[47]},\"PCA2\":{\"__ndarray__\":\"GsClecFotT8XiDOxuse4P6qOIQetdMQ/rVPYH/74xD93t7cyaRjEP3BtrQT5lNY/JweKpx3j3z9zUqG4Z4/YP5/Xh+U+UeE/oGNuU7g70T9xAbg1dJDbPzElNfhjxuM/FyKj0efP4z/0ftf/8WbiP4eRbdTCTeY/vxNqpADE5D8DH8nUFQzhPwmysBYgKuI/T+yIk2Hq4j+GHBK1wnPtP5GMrySfkOY/Se5osn8q6T+xzY1j2XnwP1VrZ64HYvE/5PNTSOUy8j9rs3O4vP/wP1w7bd7z1/A/8V9lNj6I8D9K9BcCr+PwP8Ir1BV1VfQ/k1pjF8nb8z8zCpjsy+T0P+xXNkYDi8I/4MBwtoMm9T+RwM8UM2/1P5OXpfBVmvM/blxvCKbB9T9niqvKdsXcP2TLEhSCtPk/2wgpqjgz4D9SDsJ04hnaP4e/cn85HuE/NYzw+uON4z9fTVG6PegAQPM1fqhuc+8/v7e6M3eJ8z+mD/yaO+UGQA==\",\"dtype\":\"float64\",\"order\":\"little\",\"shape\":[47]},\"class\":{\"__ndarray__\":\"AQAAAAEAAAABAAAAAQAAAAEAAAABAAAAAQAAAAEAAAABAAAAAQAAAAEAAAABAAAAAQAAAAEAAAABAAAAAQAAAAEAAAABAAAAAQAAAAEAAAABAAAAAQAAAAEAAAABAAAAAQAAAAEAAAABAAAAAQAAAAEAAAABAAAAAQAAAAEAAAABAAAAAQAAAAEAAAABAAAAAQAAAAEAAAABAAAAAQAAAAEAAAABAAAAAQAAAAEAAAABAAAAAQAAAAEAAAA=\",\"dtype\":\"int32\",\"order\":\"little\",\"shape\":[47]}},\"selected\":{\"id\":\"1549\"},\"selection_policy\":{\"id\":\"1565\"}},\"id\":\"1548\",\"type\":\"ColumnDataSource\"},{\"attributes\":{\"fill_alpha\":{\"value\":0.2},\"fill_color\":{\"value\":\"#6d904f\"},\"line_alpha\":{\"value\":0.2},\"line_color\":{\"value\":\"#6d904f\"},\"size\":{\"value\":5.477225575051661},\"x\":{\"field\":\"PCA1\"},\"y\":{\"field\":\"PCA2\"}},\"id\":\"1599\",\"type\":\"Scatter\"},{\"attributes\":{\"overlay\":{\"id\":\"1513\"}},\"id\":\"1511\",\"type\":\"BoxZoomTool\"},{\"attributes\":{},\"id\":\"1615\",\"type\":\"UnionRenderers\"},{\"attributes\":{\"fill_alpha\":{\"value\":0.1},\"fill_color\":{\"value\":\"#30a2da\"},\"line_alpha\":{\"value\":0.1},\"line_color\":{\"value\":\"#30a2da\"},\"size\":{\"value\":5.477225575051661},\"x\":{\"field\":\"PCA1\"},\"y\":{\"field\":\"PCA2\"}},\"id\":\"1531\",\"type\":\"Scatter\"},{\"attributes\":{},\"id\":\"1528\",\"type\":\"Selection\"},{\"attributes\":{\"fill_alpha\":{\"value\":0.1},\"fill_color\":{\"value\":\"#6d904f\"},\"line_alpha\":{\"value\":0.1},\"line_color\":{\"value\":\"#6d904f\"},\"size\":{\"value\":5.477225575051661},\"x\":{\"field\":\"PCA1\"},\"y\":{\"field\":\"PCA2\"}},\"id\":\"1598\",\"type\":\"Scatter\"},{\"attributes\":{\"fill_alpha\":{\"value\":0.1},\"fill_color\":{\"value\":\"#8b8b8b\"},\"line_alpha\":{\"value\":0.1},\"line_color\":{\"value\":\"#8b8b8b\"},\"size\":{\"value\":5.477225575051661},\"x\":{\"field\":\"PCA1\"},\"y\":{\"field\":\"PCA2\"}},\"id\":\"1624\",\"type\":\"Scatter\"},{\"attributes\":{\"data\":{\"PCA1\":{\"__ndarray__\":\"mNbQpSwC2r9dHLwdSv2pPw0o5L33CdS/rKBMGmhO6T8NB6U/5SyRP/UxUyTfPN8/ji98HLjX4j97aFA2YGTKvwpozH1MlNc/id67L+nb6j/Wu+KbDVvTP2LxmrtVfuw/2iaQtegZzD9Lf6Nl/Bzev6biIuFIy9e/h8ZzAn/2zz+WsLkGtxLfP/eg5SUtr9k/m2CTNhDC0z8DEF+HDEp2PwnqEM1ySd2/njHlxheg2j/WaQO4dt7rPxD0KvpA5eU/qGYJppBUlz/HV5dYY2/gP3HKX9lj+tM/mG7sjMt52D9oV41vviTdP1V2RW2ICL8/Ig+/h4Hu1L9JlmLvqu3RP8VceTrYgtY/BlsX4O5EoL9SusGaw4qtPwvmsocOpeI/Y02Hq9h4xD+vkmy76FyVP1WxU68SQdM/\",\"dtype\":\"float64\",\"order\":\"little\",\"shape\":[39]},\"PCA2\":{\"__ndarray__\":\"SDf7o6+p4L/oaVX6GU7+vzaGULu89/y/JO/kwwUo/7/5RotXJ+X7vzmx6bqeJdm/LX/ZWbQB+r9FJXQuDAHGv51ShQwTAvm/Nf3UxpjO9798cV7SFR31v/id3tY4mfW/69LwcfCE87/aV5fDNdrxvxUQuaArF/K/FgdXrmmo8r+/5DCwIsLyv1b/eELqFvK/pDAasbl38L/mui7YBInuv+qxhA/tTOy/az81WyuU778na7+GzWvwv7hy/7XW8e+/4QYZtcYE6b9uzdUgrmHrv7hjlbkmaeq/IfX9PWr057+ogYuaN17nv3hR8QT+4uO/nU4ITKm54b9691258qfkv3IG2Sl7IuO/Djw6bpfU3r+t/rU/JdfdvwxuO+44KN+/O2/61TsX278ue2DoMbzZv0IEXKHdh7+/\",\"dtype\":\"float64\",\"order\":\"little\",\"shape\":[39]},\"class\":{\"__ndarray__\":\"BQAAAAUAAAAFAAAABQAAAAUAAAAFAAAABQAAAAUAAAAFAAAABQAAAAUAAAAFAAAABQAAAAUAAAAFAAAABQAAAAUAAAAFAAAABQAAAAUAAAAFAAAABQAAAAUAAAAFAAAABQAAAAUAAAAFAAAABQAAAAUAAAAFAAAABQAAAAUAAAAFAAAABQAAAAUAAAAFAAAABQAAAAUAAAAFAAAA\",\"dtype\":\"int32\",\"order\":\"little\",\"shape\":[39]}},\"selected\":{\"id\":\"1649\"},\"selection_policy\":{\"id\":\"1673\"}},\"id\":\"1648\",\"type\":\"ColumnDataSource\"},{\"attributes\":{\"label\":{\"value\":\"3\"},\"renderers\":[{\"id\":\"1600\"}]},\"id\":\"1618\",\"type\":\"LegendItem\"},{\"attributes\":{},\"id\":\"1595\",\"type\":\"Selection\"},{\"attributes\":{},\"id\":\"1521\",\"type\":\"BasicTickFormatter\"},{\"attributes\":{\"data\":{\"PCA1\":{\"__ndarray__\":\"TloW+rwxBkCy2zTPSwgFQPqirwoh+fo/HdCMsX3K8j8b8IzdKM33PwppspIdvvU/2DquieY1+D9FXknid2EEQAmRJjNMnAFARRFQMBU+9D820v516ub3P7y0mlp9mPE/jg+Neujl/T8p9JIZ7Wn6P5MR4qPiMfI/GcfcbhCw9D+5objU/6jxP2DKz7XqMvI/QBTTZvvO8j/brP2nliHzP6pzWefoPv4/WV1y67Qh6z9+ZvCPaKTxP3SJY94DpPA/2nYKjKbV9j8=\",\"dtype\":\"float64\",\"order\":\"little\",\"shape\":[25]},\"PCA2\":{\"__ndarray__\":\"GaqdXG9B7L8j7cz8QI/rv30BJ/cJMQDAT5bZyfub478OODGtXFPiv/Ni1sw6Qv2/0eBL5HA7/L9JA/blquTgv3Swg44y2Ni/BiMmwdVM+b9AXqOsqYX3v9C7TiXdU6i/CR+8RV4Ykr9KZ5sOpciyP+sPNfrZdvK/0HwqoFZf8r+qcKLOzpDpv9CgTdjg/eW/vxqNNjNO5L/p+RfGtdbZv/GvhRfZzdy/X89fnfBQyr9Res55pTnPv6A5S/R6UMq/jr+oPv26Ub8=\",\"dtype\":\"float64\",\"order\":\"little\",\"shape\":[25]},\"class\":{\"__ndarray__\":\"AgAAAAIAAAACAAAAAgAAAAIAAAACAAAAAgAAAAIAAAACAAAAAgAAAAIAAAACAAAAAgAAAAIAAAACAAAAAgAAAAIAAAACAAAAAgAAAAIAAAACAAAAAgAAAAIAAAACAAAAAgAAAA==\",\"dtype\":\"int32\",\"order\":\"little\",\"shape\":[25]}},\"selected\":{\"id\":\"1571\"},\"selection_policy\":{\"id\":\"1589\"}},\"id\":\"1570\",\"type\":\"ColumnDataSource\"},{\"attributes\":{\"source\":{\"id\":\"1620\"}},\"id\":\"1627\",\"type\":\"CDSView\"},{\"attributes\":{\"angle\":{\"value\":0.0},\"fill_alpha\":{\"value\":1.0},\"fill_color\":{\"value\":\"#6d904f\"},\"hatch_alpha\":{\"value\":1.0},\"hatch_color\":{\"value\":\"black\"},\"hatch_scale\":{\"value\":12.0},\"hatch_weight\":{\"value\":1.0},\"line_alpha\":{\"value\":1.0},\"line_cap\":{\"value\":\"butt\"},\"line_color\":{\"value\":\"#6d904f\"},\"line_dash\":{\"value\":[]},\"line_dash_offset\":{\"value\":0},\"line_join\":{\"value\":\"bevel\"},\"line_width\":{\"value\":1},\"marker\":{\"value\":\"circle\"},\"size\":{\"value\":5.477225575051661},\"x\":{\"field\":\"PCA1\"},\"y\":{\"field\":\"PCA2\"}},\"id\":\"1619\",\"type\":\"Scatter\"},{\"attributes\":{\"source\":{\"id\":\"1594\"}},\"id\":\"1601\",\"type\":\"CDSView\"},{\"attributes\":{\"fill_color\":{\"value\":\"#30a2da\"},\"line_color\":{\"value\":\"#30a2da\"},\"size\":{\"value\":5.477225575051661},\"x\":{\"field\":\"PCA1\"},\"y\":{\"field\":\"PCA2\"}},\"id\":\"1530\",\"type\":\"Scatter\"},{\"attributes\":{},\"id\":\"1643\",\"type\":\"UnionRenderers\"},{\"attributes\":{\"data_source\":{\"id\":\"1594\"},\"glyph\":{\"id\":\"1597\"},\"hover_glyph\":null,\"muted_glyph\":{\"id\":\"1599\"},\"nonselection_glyph\":{\"id\":\"1598\"},\"selection_glyph\":{\"id\":\"1619\"},\"view\":{\"id\":\"1601\"}},\"id\":\"1600\",\"type\":\"GlyphRenderer\"},{\"attributes\":{\"end\":2.9852551324219343,\"reset_end\":2.9852551324219343,\"reset_start\":-2.359290494687464,\"start\":-2.359290494687464,\"tags\":[[[\"PCA1\",\"PCA1\",null]]]},\"id\":\"1483\",\"type\":\"Range1d\"},{\"attributes\":{\"label\":{\"value\":\"4\"},\"renderers\":[{\"id\":\"1626\"}]},\"id\":\"1646\",\"type\":\"LegendItem\"},{\"attributes\":{\"active_multi\":null,\"tools\":[{\"id\":\"1485\"},{\"id\":\"1508\"},{\"id\":\"1509\"},{\"id\":\"1510\"},{\"id\":\"1511\"},{\"id\":\"1512\"}]},\"id\":\"1514\",\"type\":\"Toolbar\"},{\"attributes\":{\"fill_alpha\":{\"value\":0.2},\"fill_color\":{\"value\":\"#17becf\"},\"line_alpha\":{\"value\":0.2},\"line_color\":{\"value\":\"#17becf\"},\"size\":{\"value\":5.477225575051661},\"x\":{\"field\":\"PCA1\"},\"y\":{\"field\":\"PCA2\"}},\"id\":\"1653\",\"type\":\"Scatter\"},{\"attributes\":{\"bottom_units\":\"screen\",\"fill_alpha\":0.5,\"fill_color\":\"lightgrey\",\"left_units\":\"screen\",\"level\":\"overlay\",\"line_alpha\":1.0,\"line_color\":\"black\",\"line_dash\":[4,4],\"line_width\":2,\"right_units\":\"screen\",\"syncable\":false,\"top_units\":\"screen\"},\"id\":\"1513\",\"type\":\"BoxAnnotation\"},{\"attributes\":{\"fill_alpha\":{\"value\":0.1},\"fill_color\":{\"value\":\"#17becf\"},\"line_alpha\":{\"value\":0.1},\"line_color\":{\"value\":\"#17becf\"},\"size\":{\"value\":5.477225575051661},\"x\":{\"field\":\"PCA1\"},\"y\":{\"field\":\"PCA2\"}},\"id\":\"1652\",\"type\":\"Scatter\"},{\"attributes\":{\"data_source\":{\"id\":\"1620\"},\"glyph\":{\"id\":\"1623\"},\"hover_glyph\":null,\"muted_glyph\":{\"id\":\"1625\"},\"nonselection_glyph\":{\"id\":\"1624\"},\"selection_glyph\":{\"id\":\"1647\"},\"view\":{\"id\":\"1627\"}},\"id\":\"1626\",\"type\":\"GlyphRenderer\"},{\"attributes\":{},\"id\":\"1621\",\"type\":\"Selection\"},{\"attributes\":{\"angle\":{\"value\":0.0},\"fill_alpha\":{\"value\":1.0},\"fill_color\":{\"value\":\"#8b8b8b\"},\"hatch_alpha\":{\"value\":1.0},\"hatch_color\":{\"value\":\"black\"},\"hatch_scale\":{\"value\":12.0},\"hatch_weight\":{\"value\":1.0},\"line_alpha\":{\"value\":1.0},\"line_cap\":{\"value\":\"butt\"},\"line_color\":{\"value\":\"#8b8b8b\"},\"line_dash\":{\"value\":[]},\"line_dash_offset\":{\"value\":0},\"line_join\":{\"value\":\"bevel\"},\"line_width\":{\"value\":1},\"marker\":{\"value\":\"circle\"},\"size\":{\"value\":5.477225575051661},\"x\":{\"field\":\"PCA1\"},\"y\":{\"field\":\"PCA2\"}},\"id\":\"1647\",\"type\":\"Scatter\"},{\"attributes\":{\"margin\":[5,5,5,5],\"name\":\"HSpacer02830\",\"sizing_mode\":\"stretch_width\"},\"id\":\"1482\",\"type\":\"Spacer\"},{\"attributes\":{\"fill_color\":{\"value\":\"#8b8b8b\"},\"line_color\":{\"value\":\"#8b8b8b\"},\"size\":{\"value\":5.477225575051661},\"x\":{\"field\":\"PCA1\"},\"y\":{\"field\":\"PCA2\"}},\"id\":\"1623\",\"type\":\"Scatter\"},{\"attributes\":{},\"id\":\"1571\",\"type\":\"Selection\"},{\"attributes\":{},\"id\":\"1525\",\"type\":\"AllLabels\"},{\"attributes\":{\"fill_color\":{\"value\":\"#17becf\"},\"line_color\":{\"value\":\"#17becf\"},\"size\":{\"value\":5.477225575051661},\"x\":{\"field\":\"PCA1\"},\"y\":{\"field\":\"PCA2\"}},\"id\":\"1651\",\"type\":\"Scatter\"},{\"attributes\":{\"data\":{\"PCA1\":{\"__ndarray__\":\"22/dgb/X9r9fpZfT1Df1vylxHRc6QfG/jVuODZ9N8L9qgpSwlyLnvzUz70aj//C/9Ur/OAb5/b8lnSy8gED5v1zDVe04BNK/Tmb+QWHj6r8r9J1sceXvvwHNfYsEUe6/48mntyCW8L9mrXATs0z0v7As8ojhqvK/abLsVdqm5r+uP5xLDDHpvwLWLgJt2Oe/4aKyKLzb67/5yiq9/qH0vzIZKd273vK/KYTc0Pru8r+vPil6mxjXv2czlWFGVNu/JY04el/+9L88YZo4xJLdv8zHpinmcPK/rv0gTSxH+78L3oHrW27vv+gWyYbuZN6/ExWkkyh++L+zuQn2IPPyv8w7EkqGIu6/yKvwBpVN/b8UOc0NbD32v7t8JJNGG/S/JGQiZ7sq+b/ya4xXgNz7v7wDzlYdP/C/Aos9AUon+7+Wwvbrw7D5v6TP1enlJPi/D+TlDfJe+78=\",\"dtype\":\"float64\",\"order\":\"little\",\"shape\":[43]},\"PCA2\":{\"__ndarray__\":\"bKSEogKC178kpHEm0EzOvwD78pXXUs+/YEt3M5lHxb/fDusqhUHHv8rSSGUtE6a/mxMmuA7IzD/2K8TnUuHUP9410M4hu88/HQA7j3m63D9Qe1CmDvzgPxbDLskYv+A/W9IgnHjo479VPzlabsrivyAXbnQxe+C/0jZxGVHD4b++YuV1iQTfvy5o1xeOrtu/PkZ10xB52r8KmMw+45LUv8kr95+55dG/MBqEulnc0b+sR8f7P1XSv1XZkI6hm8+/ZPwegV44vb//DKPRlHjHvzIN1+5ma7S/PIDZQYecoD8fEZaJEB6ovz83NcSkl7C/Q4KXPGT/tz/XUHmL9yOyP/nRaxtOPbA/tS3GK8BDyT9l9Fnx+cPAP0fUkqX/Zrw/hOEmSGwFyD8PnNKReVzRPzrbgdh319E/GQJIpr9E2j8tjBJKzyDdPwg6HqMFgOY/OwRMO9Vn6D8=\",\"dtype\":\"float64\",\"order\":\"little\",\"shape\":[43]},\"class\":{\"__ndarray__\":\"AAAAAAAAAAAAAAAAAAAAAAAAAAAAAAAAAAAAAAAAAAAAAAAAAAAAAAAAAAAAAAAAAAAAAAAAAAAAAAAAAAAAAAAAAAAAAAAAAAAAAAAAAAAAAAAAAAAAAAAAAAAAAAAAAAAAAAAAAAAAAAAAAAAAAAAAAAAAAAAAAAAAAAAAAAAAAAAAAAAAAAAAAAAAAAAAAAAAAAAAAAAAAAAAAAAAAAAAAAAAAAAAAAAAAA==\",\"dtype\":\"int32\",\"order\":\"little\",\"shape\":[43]}},\"selected\":{\"id\":\"1528\"},\"selection_policy\":{\"id\":\"1542\"}},\"id\":\"1527\",\"type\":\"ColumnDataSource\"},{\"attributes\":{\"fill_alpha\":{\"value\":0.2},\"fill_color\":{\"value\":\"#8b8b8b\"},\"line_alpha\":{\"value\":0.2},\"line_color\":{\"value\":\"#8b8b8b\"},\"size\":{\"value\":5.477225575051661},\"x\":{\"field\":\"PCA1\"},\"y\":{\"field\":\"PCA2\"}},\"id\":\"1625\",\"type\":\"Scatter\"},{\"attributes\":{\"data_source\":{\"id\":\"1648\"},\"glyph\":{\"id\":\"1651\"},\"hover_glyph\":null,\"muted_glyph\":{\"id\":\"1653\"},\"nonselection_glyph\":{\"id\":\"1652\"},\"selection_glyph\":{\"id\":\"1677\"},\"view\":{\"id\":\"1655\"}},\"id\":\"1654\",\"type\":\"GlyphRenderer\"},{\"attributes\":{},\"id\":\"1673\",\"type\":\"UnionRenderers\"},{\"attributes\":{\"children\":[{\"id\":\"1482\"},{\"id\":\"1491\"},{\"id\":\"1858\"}],\"margin\":[0,0,0,0],\"name\":\"Row02826\",\"tags\":[\"embedded\"]},\"id\":\"1481\",\"type\":\"Row\"},{\"attributes\":{\"label\":{\"value\":\"5\"},\"renderers\":[{\"id\":\"1654\"}]},\"id\":\"1676\",\"type\":\"LegendItem\"},{\"attributes\":{\"text_color\":\"black\",\"text_font_size\":\"12pt\"},\"id\":\"1492\",\"type\":\"Title\"},{\"attributes\":{\"end\":3.6533762584468437,\"reset_end\":3.6533762584468437,\"reset_start\":-2.5400648840220637,\"start\":-2.5400648840220637,\"tags\":[[[\"PCA2\",\"PCA2\",null]]]},\"id\":\"1484\",\"type\":\"Range1d\"},{\"attributes\":{\"angle\":{\"value\":0.0},\"fill_alpha\":{\"value\":1.0},\"fill_color\":{\"value\":\"#17becf\"},\"hatch_alpha\":{\"value\":1.0},\"hatch_color\":{\"value\":\"black\"},\"hatch_scale\":{\"value\":12.0},\"hatch_weight\":{\"value\":1.0},\"line_alpha\":{\"value\":1.0},\"line_cap\":{\"value\":\"butt\"},\"line_color\":{\"value\":\"#17becf\"},\"line_dash\":{\"value\":[]},\"line_dash_offset\":{\"value\":0},\"line_join\":{\"value\":\"bevel\"},\"line_width\":{\"value\":1},\"marker\":{\"value\":\"circle\"},\"size\":{\"value\":5.477225575051661},\"x\":{\"field\":\"PCA1\"},\"y\":{\"field\":\"PCA2\"}},\"id\":\"1677\",\"type\":\"Scatter\"}],\"root_ids\":[\"1481\"]},\"title\":\"Bokeh Application\",\"version\":\"2.3.2\"}};\n",
       "    var render_items = [{\"docid\":\"447f6af2-d8a9-455b-a89d-1660badf896b\",\"root_ids\":[\"1481\"],\"roots\":{\"1481\":\"705e29fa-d681-46d5-a15e-3d6c97c151af\"}}];\n",
       "    root.Bokeh.embed.embed_items_notebook(docs_json, render_items);\n",
       "  }\n",
       "  if (root.Bokeh !== undefined && root.Bokeh.Panel !== undefined) {\n",
       "    embed_document(root);\n",
       "  } else {\n",
       "    var attempts = 0;\n",
       "    var timer = setInterval(function(root) {\n",
       "      if (root.Bokeh !== undefined && root.Bokeh.Panel !== undefined) {\n",
       "        clearInterval(timer);\n",
       "        embed_document(root);\n",
       "      } else if (document.readyState == \"complete\") {\n",
       "        attempts++;\n",
       "        if (attempts > 200) {\n",
       "          clearInterval(timer);\n",
       "          console.log(\"Bokeh: ERROR: Unable to run BokehJS code because BokehJS library is missing\");\n",
       "        }\n",
       "      }\n",
       "    }, 25, root)\n",
       "  }\n",
       "})(window);</script>"
      ],
      "text/plain": [
       ":NdOverlay   [class]\n",
       "   :Scatter   [PCA1]   (PCA2,class)"
      ]
     },
     "execution_count": 24,
     "metadata": {
      "application/vnd.holoviews_exec.v0+json": {
       "id": "1481"
      }
     },
     "output_type": "execute_result"
    }
   ],
   "source": [
    "df_shopping_pca.hvplot.scatter(x=\"PCA1\",\n",
    "                               y=\"PCA2\",\n",
    "                               hover_cols=[\"class\"],\n",
    "                               by=\"class\")\n"
   ]
  }
 ],
 "metadata": {
  "file_extension": ".py",
  "kernel_info": {
   "name": "python3"
  },
  "kernelspec": {
   "display_name": "Python 3",
   "language": "python",
   "name": "python3"
  },
  "language_info": {
   "codemirror_mode": {
    "name": "ipython",
    "version": 3
   },
   "file_extension": ".py",
   "mimetype": "text/x-python",
   "name": "python",
   "nbconvert_exporter": "python",
   "pygments_lexer": "ipython3",
   "version": "3.7.10"
  },
  "mimetype": "text/x-python",
  "name": "python",
  "npconvert_exporter": "python",
  "nteract": {
   "version": "0.12.3"
  },
  "pygments_lexer": "ipython3",
  "version": 3
 },
 "nbformat": 4,
 "nbformat_minor": 4
}
