{
 "cells": [
  {
   "cell_type": "markdown",
   "metadata": {},
   "source": [
    "# Unit 5 - Financial Planning"
   ]
  },
  {
   "cell_type": "code",
   "execution_count": 2,
   "metadata": {},
   "outputs": [],
   "source": [
    "# Initial imports\n",
    "import os\n",
    "import json\n",
    "import requests\n",
    "import pandas as pd\n",
    "from dotenv import load_dotenv\n",
    "import alpaca_trade_api as tradeapi\n",
    "\n",
    "%matplotlib inline"
   ]
  },
  {
   "cell_type": "code",
   "execution_count": 3,
   "metadata": {},
   "outputs": [
    {
     "data": {
      "text/plain": [
       "True"
      ]
     },
     "execution_count": 3,
     "metadata": {},
     "output_type": "execute_result"
    }
   ],
   "source": [
    "# Load .env enviroment variables\n",
    "load_dotenv()"
   ]
  },
  {
   "cell_type": "code",
   "execution_count": 11,
   "metadata": {},
   "outputs": [],
   "source": [
    "# Set Alpaca API key and secret\n",
    "alpaca_key = os.getenv(\"ALPACA_API_KEY\")\n",
    "alpaca_secret_key = os.getenv(\"ALPACA_API_SECRET_KEY\")\n",
    "\n",
    "# Create the Alpaca API object\n",
    "api = tradeapi.REST(alpaca_key, alpaca_secret_key, api_version=\"V2\")"
   ]
  },
  {
   "cell_type": "code",
   "execution_count": 26,
   "metadata": {},
   "outputs": [
    {
     "data": {
      "text/plain": [
       "333.3333333333333"
      ]
     },
     "execution_count": 26,
     "metadata": {},
     "output_type": "execute_result"
    }
   ],
   "source": [
    "1000/3"
   ]
  },
  {
   "cell_type": "markdown",
   "metadata": {},
   "source": [
    "# 3 years = 252 * 3 = 756 days"
   ]
  },
  {
   "cell_type": "code",
   "execution_count": 24,
   "metadata": {},
   "outputs": [
    {
     "data": {
      "text/html": [
       "<div>\n",
       "<style scoped>\n",
       "    .dataframe tbody tr th:only-of-type {\n",
       "        vertical-align: middle;\n",
       "    }\n",
       "\n",
       "    .dataframe tbody tr th {\n",
       "        vertical-align: top;\n",
       "    }\n",
       "\n",
       "    .dataframe thead tr th {\n",
       "        text-align: left;\n",
       "    }\n",
       "\n",
       "    .dataframe thead tr:last-of-type th {\n",
       "        text-align: right;\n",
       "    }\n",
       "</style>\n",
       "<table border=\"1\" class=\"dataframe\">\n",
       "  <thead>\n",
       "    <tr>\n",
       "      <th></th>\n",
       "      <th colspan=\"5\" halign=\"left\">AGG</th>\n",
       "      <th colspan=\"5\" halign=\"left\">SPY</th>\n",
       "    </tr>\n",
       "    <tr>\n",
       "      <th></th>\n",
       "      <th>open</th>\n",
       "      <th>high</th>\n",
       "      <th>low</th>\n",
       "      <th>close</th>\n",
       "      <th>volume</th>\n",
       "      <th>open</th>\n",
       "      <th>high</th>\n",
       "      <th>low</th>\n",
       "      <th>close</th>\n",
       "      <th>volume</th>\n",
       "    </tr>\n",
       "    <tr>\n",
       "      <th>time</th>\n",
       "      <th></th>\n",
       "      <th></th>\n",
       "      <th></th>\n",
       "      <th></th>\n",
       "      <th></th>\n",
       "      <th></th>\n",
       "      <th></th>\n",
       "      <th></th>\n",
       "      <th></th>\n",
       "      <th></th>\n",
       "    </tr>\n",
       "  </thead>\n",
       "  <tbody>\n",
       "    <tr>\n",
       "      <th>2017-06-22 00:00:00-04:00</th>\n",
       "      <td>110.06</td>\n",
       "      <td>110.0947</td>\n",
       "      <td>109.9500</td>\n",
       "      <td>110.05</td>\n",
       "      <td>1295361.0</td>\n",
       "      <td>NaN</td>\n",
       "      <td>NaN</td>\n",
       "      <td>NaN</td>\n",
       "      <td>NaN</td>\n",
       "      <td>NaN</td>\n",
       "    </tr>\n",
       "    <tr>\n",
       "      <th>2017-06-23 00:00:00-04:00</th>\n",
       "      <td>110.01</td>\n",
       "      <td>110.1085</td>\n",
       "      <td>109.9800</td>\n",
       "      <td>110.07</td>\n",
       "      <td>1101304.0</td>\n",
       "      <td>242.91</td>\n",
       "      <td>243.510</td>\n",
       "      <td>242.470</td>\n",
       "      <td>243.16</td>\n",
       "      <td>45792641.0</td>\n",
       "    </tr>\n",
       "    <tr>\n",
       "      <th>2017-06-26 00:00:00-04:00</th>\n",
       "      <td>110.19</td>\n",
       "      <td>110.2400</td>\n",
       "      <td>110.1300</td>\n",
       "      <td>110.16</td>\n",
       "      <td>1364100.0</td>\n",
       "      <td>243.89</td>\n",
       "      <td>244.380</td>\n",
       "      <td>243.045</td>\n",
       "      <td>243.27</td>\n",
       "      <td>43153677.0</td>\n",
       "    </tr>\n",
       "    <tr>\n",
       "      <th>2017-06-27 00:00:00-04:00</th>\n",
       "      <td>109.93</td>\n",
       "      <td>109.9800</td>\n",
       "      <td>109.7901</td>\n",
       "      <td>109.83</td>\n",
       "      <td>2883305.0</td>\n",
       "      <td>243.04</td>\n",
       "      <td>243.380</td>\n",
       "      <td>241.310</td>\n",
       "      <td>241.36</td>\n",
       "      <td>60858189.0</td>\n",
       "    </tr>\n",
       "    <tr>\n",
       "      <th>2017-06-28 00:00:00-04:00</th>\n",
       "      <td>109.85</td>\n",
       "      <td>109.8800</td>\n",
       "      <td>109.6800</td>\n",
       "      <td>109.85</td>\n",
       "      <td>12016805.0</td>\n",
       "      <td>242.50</td>\n",
       "      <td>243.715</td>\n",
       "      <td>242.230</td>\n",
       "      <td>243.46</td>\n",
       "      <td>50076355.0</td>\n",
       "    </tr>\n",
       "  </tbody>\n",
       "</table>\n",
       "</div>"
      ],
      "text/plain": [
       "                              AGG                                          \\\n",
       "                             open      high       low   close      volume   \n",
       "time                                                                        \n",
       "2017-06-22 00:00:00-04:00  110.06  110.0947  109.9500  110.05   1295361.0   \n",
       "2017-06-23 00:00:00-04:00  110.01  110.1085  109.9800  110.07   1101304.0   \n",
       "2017-06-26 00:00:00-04:00  110.19  110.2400  110.1300  110.16   1364100.0   \n",
       "2017-06-27 00:00:00-04:00  109.93  109.9800  109.7901  109.83   2883305.0   \n",
       "2017-06-28 00:00:00-04:00  109.85  109.8800  109.6800  109.85  12016805.0   \n",
       "\n",
       "                              SPY                                        \n",
       "                             open     high      low   close      volume  \n",
       "time                                                                     \n",
       "2017-06-22 00:00:00-04:00     NaN      NaN      NaN     NaN         NaN  \n",
       "2017-06-23 00:00:00-04:00  242.91  243.510  242.470  243.16  45792641.0  \n",
       "2017-06-26 00:00:00-04:00  243.89  244.380  243.045  243.27  43153677.0  \n",
       "2017-06-27 00:00:00-04:00  243.04  243.380  241.310  241.36  60858189.0  \n",
       "2017-06-28 00:00:00-04:00  242.50  243.715  242.230  243.46  50076355.0  "
      ]
     },
     "execution_count": 24,
     "metadata": {},
     "output_type": "execute_result"
    }
   ],
   "source": [
    "# Format current date as ISO format\n",
    "start_date = pd.Timestamp('2021-6-15', tz='America/New_York')\n",
    "end_date = pd.Timestamp('2018-6-15', tz='America/New_York')\n",
    "\n",
    "\n",
    "# Set the tickers\n",
    "tickers = [\"TSLA\", \"AAPL\"]\n",
    "\n",
    "# Set timeframe to '1D' for Alpaca API\n",
    "timeframe = \"1D\"\n",
    "\n",
    "# Get current closing prices for SPY and AGG. Use a limit=1000 parameter to call the most recent 1000 days of data.\n",
    "df_stock_data = api.get_barset(sym, timeframe=tf, start=start_date, end=end_date, limit=1000).df\n",
    "\n",
    "# Preview DataFrame\n",
    "df_stock_data.head()"
   ]
  }
 ],
 "metadata": {
  "kernelspec": {
   "display_name": "Python [conda env:alpacaenv]",
   "language": "python",
   "name": "conda-env-alpacaenv-py"
  },
  "language_info": {
   "codemirror_mode": {
    "name": "ipython",
    "version": 3
   },
   "file_extension": ".py",
   "mimetype": "text/x-python",
   "name": "python",
   "nbconvert_exporter": "python",
   "pygments_lexer": "ipython3",
   "version": "3.7.10"
  },
  "nteract": {
   "version": "0.28.0"
  }
 },
 "nbformat": 4,
 "nbformat_minor": 4
}
