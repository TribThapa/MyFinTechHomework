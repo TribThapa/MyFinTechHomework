{
 "cells": [
  {
   "cell_type": "code",
   "execution_count": 22,
   "metadata": {},
   "outputs": [
    {
     "name": "stdout",
     "output_type": "stream",
     "text": [
      "Hello Tom Bell! Welcome to the Bronze club because your revenue is $0!\n",
      "Hello Maggie Johnson! Welcome to the Silver club because your revenue is $1032!\n",
      "Hello John Spectre! Welcome to the Gold club because your revenue is $2543!\n",
      "Hello Susy Simmons! Welcome to the Platinum club because your revenue is $5322!\n"
     ]
    }
   ],
   "source": [
    "# List of dicts\n",
    "customers = [\n",
    "    { \"first_name\": \"Tom\", \"last_name\": \"Bell\", \"revenue\": 0 },\n",
    "    { \"first_name\": \"Maggie\", \"last_name\": \"Johnson\", \"revenue\": 1032 },\n",
    "    { \"first_name\": \"John\", \"last_name\": \"Spectre\", \"revenue\": 2543 },\n",
    "    { \"first_name\": \"Susy\", \"last_name\": \"Simmons\", \"revenue\": 5322 }\n",
    "]\n",
    "\n",
    "# Use these ranges to determine the business tier (and corresponding message) for each customer.\n",
    "Platinum = 3000\n",
    "Gold = 2001-3000\n",
    "Silver = 1001-2000\n",
    "Bronze = 0-1000\n",
    "\n",
    "# @TODO Define a function that accepts a customer first_name, last_name, and revenue and returns a custom greeting with the full name.\n",
    "def greet_customer(first_name, last_name, revenue):\n",
    "    \n",
    "    if revenue >= 3000:\n",
    "        greeting = print(f\"Hello {first_name} {last_name}! Welcome to the Platinum club because your revenue is ${revenue}!\")\n",
    "    elif revenue<3000 and revenue>2000:\n",
    "        greeting = print(f\"Hello {first_name} {last_name}! Welcome to the Gold club because your revenue is ${revenue}!\")\n",
    "    elif revenue<2000 and revenue>1000:\n",
    "        greeting = print(f\"Hello {first_name} {last_name}! Welcome to the Silver club because your revenue is ${revenue}!\")\n",
    "    elif revenue < 1000:\n",
    "        greeting = print(f\"Hello {first_name} {last_name}! Welcome to the Bronze club because your revenue is ${revenue}!\")\n",
    "    \n",
    "    return greeting\n",
    "\n",
    "# @TODO: Loop through the list of customers and use your function to print custom greetings for each customer.\n",
    "for customer in customers:\n",
    "    greet_customer(customer['first_name'], customer['last_name'], customer['revenue'])\n"
   ]
  },
  {
   "cell_type": "code",
   "execution_count": null,
   "metadata": {},
   "outputs": [],
   "source": []
  }
 ],
 "metadata": {
  "kernelspec": {
   "display_name": "Python 3",
   "language": "python",
   "name": "python3"
  },
  "language_info": {
   "codemirror_mode": {
    "name": "ipython",
    "version": 3
   },
   "file_extension": ".py",
   "mimetype": "text/x-python",
   "name": "python",
   "nbconvert_exporter": "python",
   "pygments_lexer": "ipython3",
   "version": "3.7.1"
  }
 },
 "nbformat": 4,
 "nbformat_minor": 2
}
