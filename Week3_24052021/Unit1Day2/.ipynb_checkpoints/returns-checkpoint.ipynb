{
 "cells": [
  {
   "cell_type": "markdown",
   "metadata": {},
   "source": [
    "# Instructor Demo: Returns\n",
    "\n",
    "This program reads daily stock data from a CSV, trims extraneous columns, converts date strings to datetime objects, sets the datetimes as the index, and calculates and plots returns for a specified date range.\n",
    "\n",
    "Equation: $r=\\frac{{p_{t}} - {p_{0}}}{p_{0}}$\n",
    "\n",
    "Where $r$ is return on investment, ${p_{t}}$ is the price at time $t$, and ${p_{0}}$ is the initial price"
   ]
  },
  {
   "cell_type": "code",
   "execution_count": 6,
   "metadata": {},
   "outputs": [],
   "source": [
    "# Initial imports\n",
    "import pandas as pd\n",
    "%matplotlib inline"
   ]
  },
  {
   "cell_type": "markdown",
   "metadata": {},
   "source": [
    "### Calculating ROI"
   ]
  },
  {
   "cell_type": "code",
   "execution_count": 7,
   "metadata": {},
   "outputs": [
    {
     "name": "stdout",
     "output_type": "stream",
     "text": [
      "ROI for an initial investment of $100 now priced at $110 is 0.1 or 10.0%\n"
     ]
    }
   ],
   "source": [
    "# ROI = (Current Value of Investment - Cost of Investment) / Cost of Investment\n",
    "initial_investment = 100\n",
    "current_price = 110\n",
    "\n",
    "roi = (current_price - initial_investment) / initial_investment\n",
    "roi_pct = roi * 100\n",
    "print(f\"ROI for an initial investment of ${initial_investment} \"\n",
    "      f\"now priced at ${current_price} \"\n",
    "      f\"is {roi} or {roi_pct}%\")"
   ]
  },
  {
   "cell_type": "markdown",
   "metadata": {},
   "source": [
    "### Read CSV in as DataFrame"
   ]
  },
  {
   "cell_type": "code",
   "execution_count": 8,
   "metadata": {},
   "outputs": [
    {
     "data": {
      "text/html": [
       "<div>\n",
       "<style scoped>\n",
       "    .dataframe tbody tr th:only-of-type {\n",
       "        vertical-align: middle;\n",
       "    }\n",
       "\n",
       "    .dataframe tbody tr th {\n",
       "        vertical-align: top;\n",
       "    }\n",
       "\n",
       "    .dataframe thead th {\n",
       "        text-align: right;\n",
       "    }\n",
       "</style>\n",
       "<table border=\"1\" class=\"dataframe\">\n",
       "  <thead>\n",
       "    <tr style=\"text-align: right;\">\n",
       "      <th></th>\n",
       "      <th>Date</th>\n",
       "      <th>Open</th>\n",
       "      <th>High</th>\n",
       "      <th>Low</th>\n",
       "      <th>Close</th>\n",
       "      <th>Adj Close</th>\n",
       "      <th>Volume</th>\n",
       "    </tr>\n",
       "  </thead>\n",
       "  <tbody>\n",
       "    <tr>\n",
       "      <th>0</th>\n",
       "      <td>1/4/2010 16:00:00</td>\n",
       "      <td>11847.34</td>\n",
       "      <td>11872.15</td>\n",
       "      <td>11746.11</td>\n",
       "      <td>11866.90</td>\n",
       "      <td>11866.90</td>\n",
       "      <td>132670512</td>\n",
       "    </tr>\n",
       "    <tr>\n",
       "      <th>1</th>\n",
       "      <td>1/5/2010 16:00:00</td>\n",
       "      <td>11900.01</td>\n",
       "      <td>11935.24</td>\n",
       "      <td>11837.23</td>\n",
       "      <td>11888.08</td>\n",
       "      <td>11888.08</td>\n",
       "      <td>167798256</td>\n",
       "    </tr>\n",
       "    <tr>\n",
       "      <th>2</th>\n",
       "      <td>1/6/2010 16:00:00</td>\n",
       "      <td>11912.88</td>\n",
       "      <td>11971.62</td>\n",
       "      <td>11888.08</td>\n",
       "      <td>11944.54</td>\n",
       "      <td>11944.54</td>\n",
       "      <td>194400880</td>\n",
       "    </tr>\n",
       "    <tr>\n",
       "      <th>3</th>\n",
       "      <td>1/7/2010 16:00:00</td>\n",
       "      <td>11925.03</td>\n",
       "      <td>11944.54</td>\n",
       "      <td>11819.50</td>\n",
       "      <td>11887.51</td>\n",
       "      <td>11887.51</td>\n",
       "      <td>190573664</td>\n",
       "    </tr>\n",
       "    <tr>\n",
       "      <th>4</th>\n",
       "      <td>1/8/2010 16:00:00</td>\n",
       "      <td>11883.26</td>\n",
       "      <td>11953.83</td>\n",
       "      <td>11863.13</td>\n",
       "      <td>11953.83</td>\n",
       "      <td>11953.83</td>\n",
       "      <td>167761216</td>\n",
       "    </tr>\n",
       "  </tbody>\n",
       "</table>\n",
       "</div>"
      ],
      "text/plain": [
       "                Date      Open      High       Low     Close  Adj Close  \\\n",
       "0  1/4/2010 16:00:00  11847.34  11872.15  11746.11  11866.90   11866.90   \n",
       "1  1/5/2010 16:00:00  11900.01  11935.24  11837.23  11888.08   11888.08   \n",
       "2  1/6/2010 16:00:00  11912.88  11971.62  11888.08  11944.54   11944.54   \n",
       "3  1/7/2010 16:00:00  11925.03  11944.54  11819.50  11887.51   11887.51   \n",
       "4  1/8/2010 16:00:00  11883.26  11953.83  11863.13  11953.83   11953.83   \n",
       "\n",
       "      Volume  \n",
       "0  132670512  \n",
       "1  167798256  \n",
       "2  194400880  \n",
       "3  190573664  \n",
       "4  167761216  "
      ]
     },
     "execution_count": 8,
     "metadata": {},
     "output_type": "execute_result"
    }
   ],
   "source": [
    "# Read in the CSV as a DataFrame\n",
    "tsx_csv = pd.read_csv(r\"C:\\Users\\TribThapa\\Desktop\\Thapa\\ResearchFellow\\Courses\\FinTech_Bootcamp_MonashUni2021\\monu-mel-virt-fin-pt-05-2021-u-c\\Activities\\Week 3\\2\\10-Ins_Returns\\Resources\\TSX_Data.csv\")\n",
    "tsx_csv.head()"
   ]
  },
  {
   "cell_type": "markdown",
   "metadata": {},
   "source": [
    "### View Summary Statistics"
   ]
  },
  {
   "cell_type": "code",
   "execution_count": 9,
   "metadata": {},
   "outputs": [
    {
     "data": {
      "text/html": [
       "<div>\n",
       "<style scoped>\n",
       "    .dataframe tbody tr th:only-of-type {\n",
       "        vertical-align: middle;\n",
       "    }\n",
       "\n",
       "    .dataframe tbody tr th {\n",
       "        vertical-align: top;\n",
       "    }\n",
       "\n",
       "    .dataframe thead th {\n",
       "        text-align: right;\n",
       "    }\n",
       "</style>\n",
       "<table border=\"1\" class=\"dataframe\">\n",
       "  <thead>\n",
       "    <tr style=\"text-align: right;\">\n",
       "      <th></th>\n",
       "      <th>Date</th>\n",
       "      <th>Open</th>\n",
       "      <th>High</th>\n",
       "      <th>Low</th>\n",
       "      <th>Close</th>\n",
       "      <th>Adj Close</th>\n",
       "      <th>Volume</th>\n",
       "    </tr>\n",
       "  </thead>\n",
       "  <tbody>\n",
       "    <tr>\n",
       "      <th>count</th>\n",
       "      <td>2504</td>\n",
       "      <td>2504.000000</td>\n",
       "      <td>2504.000000</td>\n",
       "      <td>2504.000000</td>\n",
       "      <td>2504.000000</td>\n",
       "      <td>2504.000000</td>\n",
       "      <td>2.504000e+03</td>\n",
       "    </tr>\n",
       "    <tr>\n",
       "      <th>unique</th>\n",
       "      <td>2504</td>\n",
       "      <td>NaN</td>\n",
       "      <td>NaN</td>\n",
       "      <td>NaN</td>\n",
       "      <td>NaN</td>\n",
       "      <td>NaN</td>\n",
       "      <td>NaN</td>\n",
       "    </tr>\n",
       "    <tr>\n",
       "      <th>top</th>\n",
       "      <td>7/19/2012 16:00:00</td>\n",
       "      <td>NaN</td>\n",
       "      <td>NaN</td>\n",
       "      <td>NaN</td>\n",
       "      <td>NaN</td>\n",
       "      <td>NaN</td>\n",
       "      <td>NaN</td>\n",
       "    </tr>\n",
       "    <tr>\n",
       "      <th>freq</th>\n",
       "      <td>1</td>\n",
       "      <td>NaN</td>\n",
       "      <td>NaN</td>\n",
       "      <td>NaN</td>\n",
       "      <td>NaN</td>\n",
       "      <td>NaN</td>\n",
       "      <td>NaN</td>\n",
       "    </tr>\n",
       "    <tr>\n",
       "      <th>mean</th>\n",
       "      <td>NaN</td>\n",
       "      <td>14053.061605</td>\n",
       "      <td>14108.935847</td>\n",
       "      <td>13988.009397</td>\n",
       "      <td>14051.310635</td>\n",
       "      <td>14051.310635</td>\n",
       "      <td>2.007137e+08</td>\n",
       "    </tr>\n",
       "    <tr>\n",
       "      <th>std</th>\n",
       "      <td>NaN</td>\n",
       "      <td>1578.164466</td>\n",
       "      <td>1567.954329</td>\n",
       "      <td>1589.280565</td>\n",
       "      <td>1577.154815</td>\n",
       "      <td>1577.154815</td>\n",
       "      <td>6.436398e+07</td>\n",
       "    </tr>\n",
       "    <tr>\n",
       "      <th>min</th>\n",
       "      <td>NaN</td>\n",
       "      <td>11049.740000</td>\n",
       "      <td>11192.370000</td>\n",
       "      <td>10848.190000</td>\n",
       "      <td>11092.500000</td>\n",
       "      <td>11092.500000</td>\n",
       "      <td>0.000000e+00</td>\n",
       "    </tr>\n",
       "    <tr>\n",
       "      <th>25%</th>\n",
       "      <td>NaN</td>\n",
       "      <td>12572.700000</td>\n",
       "      <td>12636.362500</td>\n",
       "      <td>12506.995000</td>\n",
       "      <td>12579.027500</td>\n",
       "      <td>12579.027500</td>\n",
       "      <td>1.634933e+08</td>\n",
       "    </tr>\n",
       "    <tr>\n",
       "      <th>50%</th>\n",
       "      <td>NaN</td>\n",
       "      <td>14150.665000</td>\n",
       "      <td>14196.720000</td>\n",
       "      <td>14066.055000</td>\n",
       "      <td>14132.920000</td>\n",
       "      <td>14132.920000</td>\n",
       "      <td>1.920928e+08</td>\n",
       "    </tr>\n",
       "    <tr>\n",
       "      <th>75%</th>\n",
       "      <td>NaN</td>\n",
       "      <td>15371.687500</td>\n",
       "      <td>15421.482500</td>\n",
       "      <td>15313.100000</td>\n",
       "      <td>15367.960000</td>\n",
       "      <td>15367.960000</td>\n",
       "      <td>2.254997e+08</td>\n",
       "    </tr>\n",
       "    <tr>\n",
       "      <th>max</th>\n",
       "      <td>NaN</td>\n",
       "      <td>17216.160000</td>\n",
       "      <td>17230.580000</td>\n",
       "      <td>17145.020000</td>\n",
       "      <td>17180.150000</td>\n",
       "      <td>17180.150000</td>\n",
       "      <td>8.588881e+08</td>\n",
       "    </tr>\n",
       "  </tbody>\n",
       "</table>\n",
       "</div>"
      ],
      "text/plain": [
       "                      Date          Open          High           Low  \\\n",
       "count                 2504   2504.000000   2504.000000   2504.000000   \n",
       "unique                2504           NaN           NaN           NaN   \n",
       "top     7/19/2012 16:00:00           NaN           NaN           NaN   \n",
       "freq                     1           NaN           NaN           NaN   \n",
       "mean                   NaN  14053.061605  14108.935847  13988.009397   \n",
       "std                    NaN   1578.164466   1567.954329   1589.280565   \n",
       "min                    NaN  11049.740000  11192.370000  10848.190000   \n",
       "25%                    NaN  12572.700000  12636.362500  12506.995000   \n",
       "50%                    NaN  14150.665000  14196.720000  14066.055000   \n",
       "75%                    NaN  15371.687500  15421.482500  15313.100000   \n",
       "max                    NaN  17216.160000  17230.580000  17145.020000   \n",
       "\n",
       "               Close     Adj Close        Volume  \n",
       "count    2504.000000   2504.000000  2.504000e+03  \n",
       "unique           NaN           NaN           NaN  \n",
       "top              NaN           NaN           NaN  \n",
       "freq             NaN           NaN           NaN  \n",
       "mean    14051.310635  14051.310635  2.007137e+08  \n",
       "std      1577.154815   1577.154815  6.436398e+07  \n",
       "min     11092.500000  11092.500000  0.000000e+00  \n",
       "25%     12579.027500  12579.027500  1.634933e+08  \n",
       "50%     14132.920000  14132.920000  1.920928e+08  \n",
       "75%     15367.960000  15367.960000  2.254997e+08  \n",
       "max     17180.150000  17180.150000  8.588881e+08  "
      ]
     },
     "execution_count": 9,
     "metadata": {},
     "output_type": "execute_result"
    }
   ],
   "source": [
    "# Use the 'describe()' function\n",
    "tsx_csv.describe(include=\"all\")"
   ]
  },
  {
   "cell_type": "markdown",
   "metadata": {},
   "source": [
    "### Drop Extra Columns"
   ]
  },
  {
   "cell_type": "code",
   "execution_count": 10,
   "metadata": {},
   "outputs": [
    {
     "data": {
      "text/html": [
       "<div>\n",
       "<style scoped>\n",
       "    .dataframe tbody tr th:only-of-type {\n",
       "        vertical-align: middle;\n",
       "    }\n",
       "\n",
       "    .dataframe tbody tr th {\n",
       "        vertical-align: top;\n",
       "    }\n",
       "\n",
       "    .dataframe thead th {\n",
       "        text-align: right;\n",
       "    }\n",
       "</style>\n",
       "<table border=\"1\" class=\"dataframe\">\n",
       "  <thead>\n",
       "    <tr style=\"text-align: right;\">\n",
       "      <th></th>\n",
       "      <th>Date</th>\n",
       "      <th>Adj Close</th>\n",
       "    </tr>\n",
       "  </thead>\n",
       "  <tbody>\n",
       "    <tr>\n",
       "      <th>0</th>\n",
       "      <td>1/4/2010 16:00:00</td>\n",
       "      <td>11866.90</td>\n",
       "    </tr>\n",
       "    <tr>\n",
       "      <th>1</th>\n",
       "      <td>1/5/2010 16:00:00</td>\n",
       "      <td>11888.08</td>\n",
       "    </tr>\n",
       "    <tr>\n",
       "      <th>2</th>\n",
       "      <td>1/6/2010 16:00:00</td>\n",
       "      <td>11944.54</td>\n",
       "    </tr>\n",
       "    <tr>\n",
       "      <th>3</th>\n",
       "      <td>1/7/2010 16:00:00</td>\n",
       "      <td>11887.51</td>\n",
       "    </tr>\n",
       "    <tr>\n",
       "      <th>4</th>\n",
       "      <td>1/8/2010 16:00:00</td>\n",
       "      <td>11953.83</td>\n",
       "    </tr>\n",
       "  </tbody>\n",
       "</table>\n",
       "</div>"
      ],
      "text/plain": [
       "                Date  Adj Close\n",
       "0  1/4/2010 16:00:00   11866.90\n",
       "1  1/5/2010 16:00:00   11888.08\n",
       "2  1/6/2010 16:00:00   11944.54\n",
       "3  1/7/2010 16:00:00   11887.51\n",
       "4  1/8/2010 16:00:00   11953.83"
      ]
     },
     "execution_count": 10,
     "metadata": {},
     "output_type": "execute_result"
    }
   ],
   "source": [
    "# Drop unnecessary columns\n",
    "tsx_csv = tsx_csv.drop(columns=[\"Open\", \"High\", \"Low\", \"Close\", \"Volume\"])\n",
    "tsx_csv.head()"
   ]
  },
  {
   "cell_type": "markdown",
   "metadata": {},
   "source": [
    "### Set Date as Index"
   ]
  },
  {
   "cell_type": "code",
   "execution_count": 11,
   "metadata": {},
   "outputs": [
    {
     "data": {
      "text/html": [
       "<div>\n",
       "<style scoped>\n",
       "    .dataframe tbody tr th:only-of-type {\n",
       "        vertical-align: middle;\n",
       "    }\n",
       "\n",
       "    .dataframe tbody tr th {\n",
       "        vertical-align: top;\n",
       "    }\n",
       "\n",
       "    .dataframe thead th {\n",
       "        text-align: right;\n",
       "    }\n",
       "</style>\n",
       "<table border=\"1\" class=\"dataframe\">\n",
       "  <thead>\n",
       "    <tr style=\"text-align: right;\">\n",
       "      <th></th>\n",
       "      <th>Date</th>\n",
       "      <th>Adj Close</th>\n",
       "    </tr>\n",
       "    <tr>\n",
       "      <th>Date</th>\n",
       "      <th></th>\n",
       "      <th></th>\n",
       "    </tr>\n",
       "  </thead>\n",
       "  <tbody>\n",
       "    <tr>\n",
       "      <th>2010-01-04 16:00:00</th>\n",
       "      <td>1/4/2010 16:00:00</td>\n",
       "      <td>11866.90</td>\n",
       "    </tr>\n",
       "    <tr>\n",
       "      <th>2010-01-05 16:00:00</th>\n",
       "      <td>1/5/2010 16:00:00</td>\n",
       "      <td>11888.08</td>\n",
       "    </tr>\n",
       "    <tr>\n",
       "      <th>2010-01-06 16:00:00</th>\n",
       "      <td>1/6/2010 16:00:00</td>\n",
       "      <td>11944.54</td>\n",
       "    </tr>\n",
       "    <tr>\n",
       "      <th>2010-01-07 16:00:00</th>\n",
       "      <td>1/7/2010 16:00:00</td>\n",
       "      <td>11887.51</td>\n",
       "    </tr>\n",
       "    <tr>\n",
       "      <th>2010-01-08 16:00:00</th>\n",
       "      <td>1/8/2010 16:00:00</td>\n",
       "      <td>11953.83</td>\n",
       "    </tr>\n",
       "  </tbody>\n",
       "</table>\n",
       "</div>"
      ],
      "text/plain": [
       "                                  Date  Adj Close\n",
       "Date                                             \n",
       "2010-01-04 16:00:00  1/4/2010 16:00:00   11866.90\n",
       "2010-01-05 16:00:00  1/5/2010 16:00:00   11888.08\n",
       "2010-01-06 16:00:00  1/6/2010 16:00:00   11944.54\n",
       "2010-01-07 16:00:00  1/7/2010 16:00:00   11887.51\n",
       "2010-01-08 16:00:00  1/8/2010 16:00:00   11953.83"
      ]
     },
     "execution_count": 11,
     "metadata": {},
     "output_type": "execute_result"
    }
   ],
   "source": [
    "# Set the date as the index to the DataFrame\n",
    "tsx_csv = tsx_csv.set_index(pd.to_datetime(tsx_csv[\"Date\"], infer_datetime_format=True))\n",
    "tsx_csv.head()"
   ]
  },
  {
   "cell_type": "markdown",
   "metadata": {},
   "source": [
    "### Drop Extra Date Column"
   ]
  },
  {
   "cell_type": "code",
   "execution_count": 12,
   "metadata": {},
   "outputs": [
    {
     "data": {
      "text/html": [
       "<div>\n",
       "<style scoped>\n",
       "    .dataframe tbody tr th:only-of-type {\n",
       "        vertical-align: middle;\n",
       "    }\n",
       "\n",
       "    .dataframe tbody tr th {\n",
       "        vertical-align: top;\n",
       "    }\n",
       "\n",
       "    .dataframe thead th {\n",
       "        text-align: right;\n",
       "    }\n",
       "</style>\n",
       "<table border=\"1\" class=\"dataframe\">\n",
       "  <thead>\n",
       "    <tr style=\"text-align: right;\">\n",
       "      <th></th>\n",
       "      <th>Adj Close</th>\n",
       "    </tr>\n",
       "    <tr>\n",
       "      <th>Date</th>\n",
       "      <th></th>\n",
       "    </tr>\n",
       "  </thead>\n",
       "  <tbody>\n",
       "    <tr>\n",
       "      <th>2010-01-04 16:00:00</th>\n",
       "      <td>11866.90</td>\n",
       "    </tr>\n",
       "    <tr>\n",
       "      <th>2010-01-05 16:00:00</th>\n",
       "      <td>11888.08</td>\n",
       "    </tr>\n",
       "    <tr>\n",
       "      <th>2010-01-06 16:00:00</th>\n",
       "      <td>11944.54</td>\n",
       "    </tr>\n",
       "    <tr>\n",
       "      <th>2010-01-07 16:00:00</th>\n",
       "      <td>11887.51</td>\n",
       "    </tr>\n",
       "    <tr>\n",
       "      <th>2010-01-08 16:00:00</th>\n",
       "      <td>11953.83</td>\n",
       "    </tr>\n",
       "  </tbody>\n",
       "</table>\n",
       "</div>"
      ],
      "text/plain": [
       "                     Adj Close\n",
       "Date                          \n",
       "2010-01-04 16:00:00   11866.90\n",
       "2010-01-05 16:00:00   11888.08\n",
       "2010-01-06 16:00:00   11944.54\n",
       "2010-01-07 16:00:00   11887.51\n",
       "2010-01-08 16:00:00   11953.83"
      ]
     },
     "execution_count": 12,
     "metadata": {},
     "output_type": "execute_result"
    }
   ],
   "source": [
    "# Drop the extra date column\n",
    "tsx_csv = tsx_csv.drop(columns=[\"Date\"])\n",
    "tsx_csv.head()"
   ]
  },
  {
   "cell_type": "markdown",
   "metadata": {},
   "source": [
    "### Plot Daily Close"
   ]
  },
  {
   "cell_type": "code",
   "execution_count": 13,
   "metadata": {},
   "outputs": [
    {
     "data": {
      "text/plain": [
       "<matplotlib.axes._subplots.AxesSubplot at 0x192d4c88d30>"
      ]
     },
     "execution_count": 13,
     "metadata": {},
     "output_type": "execute_result"
    },
    {
     "data": {
      "image/png": "[encoded data removed]",
      "text/plain": [
       "<Figure size 432x288 with 1 Axes>"
      ]
     },
     "metadata": {
      "needs_background": "light"
     },
     "output_type": "display_data"
    }
   ],
   "source": [
    "# Plot the daily closing stock price of the S&P 500 over the last 5 years\n",
    "tsx_csv.plot()"
   ]
  },
  {
   "cell_type": "markdown",
   "metadata": {},
   "source": [
    "### Calculate Daily Returns (Method 1)\n",
    "\n",
    "Equation: $r=\\frac{{p_{t}} - {p_{t-1}}}{p_{t-1}}$\n",
    "\n",
    "Where $r$ is daily returns, ${p_{t}}$ is the price at time $t$, and ${p_{t-1}}$ is the price at $t-1$ (offset by 1)."
   ]
  },
  {
   "cell_type": "code",
   "execution_count": 14,
   "metadata": {},
   "outputs": [
    {
     "data": {
      "text/html": [
       "<div>\n",
       "<style scoped>\n",
       "    .dataframe tbody tr th:only-of-type {\n",
       "        vertical-align: middle;\n",
       "    }\n",
       "\n",
       "    .dataframe tbody tr th {\n",
       "        vertical-align: top;\n",
       "    }\n",
       "\n",
       "    .dataframe thead th {\n",
       "        text-align: right;\n",
       "    }\n",
       "</style>\n",
       "<table border=\"1\" class=\"dataframe\">\n",
       "  <thead>\n",
       "    <tr style=\"text-align: right;\">\n",
       "      <th></th>\n",
       "      <th>Adj Close</th>\n",
       "    </tr>\n",
       "    <tr>\n",
       "      <th>Date</th>\n",
       "      <th></th>\n",
       "    </tr>\n",
       "  </thead>\n",
       "  <tbody>\n",
       "    <tr>\n",
       "      <th>2010-01-04 16:00:00</th>\n",
       "      <td>NaN</td>\n",
       "    </tr>\n",
       "    <tr>\n",
       "      <th>2010-01-05 16:00:00</th>\n",
       "      <td>0.001785</td>\n",
       "    </tr>\n",
       "    <tr>\n",
       "      <th>2010-01-06 16:00:00</th>\n",
       "      <td>0.004749</td>\n",
       "    </tr>\n",
       "    <tr>\n",
       "      <th>2010-01-07 16:00:00</th>\n",
       "      <td>-0.004775</td>\n",
       "    </tr>\n",
       "    <tr>\n",
       "      <th>2010-01-08 16:00:00</th>\n",
       "      <td>0.005579</td>\n",
       "    </tr>\n",
       "  </tbody>\n",
       "</table>\n",
       "</div>"
      ],
      "text/plain": [
       "                     Adj Close\n",
       "Date                          \n",
       "2010-01-04 16:00:00        NaN\n",
       "2010-01-05 16:00:00   0.001785\n",
       "2010-01-06 16:00:00   0.004749\n",
       "2010-01-07 16:00:00  -0.004775\n",
       "2010-01-08 16:00:00   0.005579"
      ]
     },
     "execution_count": 14,
     "metadata": {},
     "output_type": "execute_result"
    }
   ],
   "source": [
    "# Calculate the daily return using the 'shift()' function\n",
    "daily_returns = (tsx_csv - tsx_csv.shift(1)) / tsx_csv.shift(1)\n",
    "daily_returns.head()"
   ]
  },
  {
   "cell_type": "markdown",
   "metadata": {},
   "source": [
    "### Calculate Daily Returns (Method 2)"
   ]
  },
  {
   "cell_type": "code",
   "execution_count": 15,
   "metadata": {},
   "outputs": [
    {
     "data": {
      "text/html": [
       "<div>\n",
       "<style scoped>\n",
       "    .dataframe tbody tr th:only-of-type {\n",
       "        vertical-align: middle;\n",
       "    }\n",
       "\n",
       "    .dataframe tbody tr th {\n",
       "        vertical-align: top;\n",
       "    }\n",
       "\n",
       "    .dataframe thead th {\n",
       "        text-align: right;\n",
       "    }\n",
       "</style>\n",
       "<table border=\"1\" class=\"dataframe\">\n",
       "  <thead>\n",
       "    <tr style=\"text-align: right;\">\n",
       "      <th></th>\n",
       "      <th>Adj Close</th>\n",
       "    </tr>\n",
       "    <tr>\n",
       "      <th>Date</th>\n",
       "      <th></th>\n",
       "    </tr>\n",
       "  </thead>\n",
       "  <tbody>\n",
       "    <tr>\n",
       "      <th>2010-01-04 16:00:00</th>\n",
       "      <td>NaN</td>\n",
       "    </tr>\n",
       "    <tr>\n",
       "      <th>2010-01-05 16:00:00</th>\n",
       "      <td>0.001785</td>\n",
       "    </tr>\n",
       "    <tr>\n",
       "      <th>2010-01-06 16:00:00</th>\n",
       "      <td>0.004749</td>\n",
       "    </tr>\n",
       "    <tr>\n",
       "      <th>2010-01-07 16:00:00</th>\n",
       "      <td>-0.004775</td>\n",
       "    </tr>\n",
       "    <tr>\n",
       "      <th>2010-01-08 16:00:00</th>\n",
       "      <td>0.005579</td>\n",
       "    </tr>\n",
       "  </tbody>\n",
       "</table>\n",
       "</div>"
      ],
      "text/plain": [
       "                     Adj Close\n",
       "Date                          \n",
       "2010-01-04 16:00:00        NaN\n",
       "2010-01-05 16:00:00   0.001785\n",
       "2010-01-06 16:00:00   0.004749\n",
       "2010-01-07 16:00:00  -0.004775\n",
       "2010-01-08 16:00:00   0.005579"
      ]
     },
     "execution_count": 15,
     "metadata": {},
     "output_type": "execute_result"
    }
   ],
   "source": [
    "# Calculate the daily return using the 'pct_change()' function\n",
    "daily_returns = tsx_csv.pct_change()\n",
    "daily_returns.head()"
   ]
  },
  {
   "cell_type": "markdown",
   "metadata": {},
   "source": [
    "### Plot Daily Returns"
   ]
  },
  {
   "cell_type": "code",
   "execution_count": 16,
   "metadata": {},
   "outputs": [
    {
     "data": {
      "text/plain": [
       "<matplotlib.axes._subplots.AxesSubplot at 0x192d4daf400>"
      ]
     },
     "execution_count": 16,
     "metadata": {},
     "output_type": "execute_result"
    },
    {
     "data": {
      "image/png": "[encoded data removed]",
      "text/plain": [
       "<Figure size 720x360 with 1 Axes>"
      ]
     },
     "metadata": {
      "needs_background": "light"
     },
     "output_type": "display_data"
    }
   ],
   "source": [
    "# Plot the daily returns of the S&P TSX Index over the last 5 years\n",
    "daily_returns.plot(figsize=(10,5))"
   ]
  },
  {
   "cell_type": "markdown",
   "metadata": {},
   "source": [
    "### Calculate Cumulative Returns"
   ]
  },
  {
   "cell_type": "code",
   "execution_count": 17,
   "metadata": {},
   "outputs": [
    {
     "data": {
      "text/html": [
       "<div>\n",
       "<style scoped>\n",
       "    .dataframe tbody tr th:only-of-type {\n",
       "        vertical-align: middle;\n",
       "    }\n",
       "\n",
       "    .dataframe tbody tr th {\n",
       "        vertical-align: top;\n",
       "    }\n",
       "\n",
       "    .dataframe thead th {\n",
       "        text-align: right;\n",
       "    }\n",
       "</style>\n",
       "<table border=\"1\" class=\"dataframe\">\n",
       "  <thead>\n",
       "    <tr style=\"text-align: right;\">\n",
       "      <th></th>\n",
       "      <th>Adj Close</th>\n",
       "    </tr>\n",
       "    <tr>\n",
       "      <th>Date</th>\n",
       "      <th></th>\n",
       "    </tr>\n",
       "  </thead>\n",
       "  <tbody>\n",
       "    <tr>\n",
       "      <th>2010-01-04 16:00:00</th>\n",
       "      <td>NaN</td>\n",
       "    </tr>\n",
       "    <tr>\n",
       "      <th>2010-01-05 16:00:00</th>\n",
       "      <td>1.001785</td>\n",
       "    </tr>\n",
       "    <tr>\n",
       "      <th>2010-01-06 16:00:00</th>\n",
       "      <td>1.006543</td>\n",
       "    </tr>\n",
       "    <tr>\n",
       "      <th>2010-01-07 16:00:00</th>\n",
       "      <td>1.001737</td>\n",
       "    </tr>\n",
       "    <tr>\n",
       "      <th>2010-01-08 16:00:00</th>\n",
       "      <td>1.007325</td>\n",
       "    </tr>\n",
       "  </tbody>\n",
       "</table>\n",
       "</div>"
      ],
      "text/plain": [
       "                     Adj Close\n",
       "Date                          \n",
       "2010-01-04 16:00:00        NaN\n",
       "2010-01-05 16:00:00   1.001785\n",
       "2010-01-06 16:00:00   1.006543\n",
       "2010-01-07 16:00:00   1.001737\n",
       "2010-01-08 16:00:00   1.007325"
      ]
     },
     "execution_count": 17,
     "metadata": {},
     "output_type": "execute_result"
    }
   ],
   "source": [
    "# Calculate the cumulative returns using the 'cumprod()' function\n",
    "cumulative_returns = (1 + daily_returns).cumprod()\n",
    "cumulative_returns.head()"
   ]
  },
  {
   "cell_type": "markdown",
   "metadata": {},
   "source": [
    "### Plot Cumulative Returns"
   ]
  },
  {
   "cell_type": "code",
   "execution_count": 18,
   "metadata": {},
   "outputs": [
    {
     "data": {
      "text/plain": [
       "<matplotlib.axes._subplots.AxesSubplot at 0x192d4d76d68>"
      ]
     },
     "execution_count": 18,
     "metadata": {},
     "output_type": "execute_result"
    },
    {
     "data": {
      "image/png": "[encoded data removed]",
      "text/plain": [
       "<Figure size 720x360 with 1 Axes>"
      ]
     },
     "metadata": {
      "needs_background": "light"
     },
     "output_type": "display_data"
    }
   ],
   "source": [
    "# Plot the daily returns of the S&P TSX Index over the last 5 years\n",
    "cumulative_returns.plot(figsize=(10,5))"
   ]
  }
 ],
 "metadata": {
  "kernelspec": {
   "display_name": "Python 3",
   "language": "python",
   "name": "python3"
  },
  "language_info": {
   "codemirror_mode": {
    "name": "ipython",
    "version": 3
   },
   "file_extension": ".py",
   "mimetype": "text/x-python",
   "name": "python",
   "nbconvert_exporter": "python",
   "pygments_lexer": "ipython3",
   "version": "3.7.1"
  }
 },
 "nbformat": 4,
 "nbformat_minor": 4
}
