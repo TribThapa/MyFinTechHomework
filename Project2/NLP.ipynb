{
 "cells": [
  {
   "cell_type": "code",
   "execution_count": 4,
   "id": "7cd3ba69-3251-48bc-aa34-2674d550a4ec",
   "metadata": {},
   "outputs": [
    {
     "name": "stderr",
     "output_type": "stream",
     "text": [
      "[nltk_data] Downloading package vader_lexicon to\n",
      "[nltk_data]     C:\\Users\\TribThapa\\AppData\\Roaming\\nltk_data...\n",
      "[nltk_data]   Package vader_lexicon is already up-to-date!\n"
     ]
    }
   ],
   "source": [
    "# Initial imports\n",
    "import os\n",
    "import pandas as pd\n",
    "from dotenv import load_dotenv\n",
    "import nltk as nltk\n",
    "nltk.download('vader_lexicon')\n",
    "from nltk.sentiment.vader import SentimentIntensityAnalyzer\n",
    "analyzer = SentimentIntensityAnalyzer()\n",
    "from newsapi.newsapi_client import NewsApiClient\n",
    "\n",
    "%matplotlib inline"
   ]
  },
  {
   "cell_type": "code",
   "execution_count": 5,
   "id": "2a4ec516-be8a-4c71-882a-c09363423c0e",
   "metadata": {},
   "outputs": [
    {
     "name": "stdout",
     "output_type": "stream",
     "text": [
      "News API Key type: <class 'str'>\n"
     ]
    }
   ],
   "source": [
    "# Read your api key environment variable\n",
    "news_api_key = os.getenv(\"NEWS_API_KEY\")\n",
    "\n",
    "print(f\"News API Key type: {type(news_api_key)}\")"
   ]
  },
  {
   "cell_type": "code",
   "execution_count": 7,
   "id": "f41da065-f972-4899-b322-40fc28696c70",
   "metadata": {},
   "outputs": [
    {
     "data": {
      "text/plain": [
       "<newsapi.newsapi_client.NewsApiClient at 0x1abccf5ce48>"
      ]
     },
     "execution_count": 7,
     "metadata": {},
     "output_type": "execute_result"
    }
   ],
   "source": [
    "# Create a newsapi client\n",
    "newsapi = NewsApiClient(api_key=news_api_key)\n",
    "\n",
    "newsapi"
   ]
  },
  {
   "cell_type": "code",
   "execution_count": 8,
   "id": "6d501c33-5754-474d-b828-c8ecbf5600b2",
   "metadata": {},
   "outputs": [
    {
     "name": "stdout",
     "output_type": "stream",
     "text": [
      "Total number of news articles for AMZN is 1022\n",
      "\n",
      "Total number of news articles for AAPL is 902\n",
      "\n",
      "Total number of news articles for COKE is 1013\n"
     ]
    }
   ],
   "source": [
    "# Fetch news about Canada and Blockchain in 2020 in the English language\n",
    "query = [\"AMZN\", \"AAPL\", \"COKE\"]\n",
    "\n",
    "query_articles_en = []\n",
    "\n",
    "for i in query:\n",
    "    \n",
    "    news_query = newsapi.get_everything(q=i,\n",
    "                                        language='en',\n",
    "                                        sort_by='relevancy')\n",
    "    query_articles_en.append(news_query)\n",
    "    \n",
    "\n",
    "# Show the total number of news\n",
    "print(f\"Total number of news articles for {query[0]} is {query_articles_en[0]['totalResults']}\")\n",
    "print()\n",
    "print(f\"Total number of news articles for {query[1]} is {query_articles_en[1]['totalResults']}\")\n",
    "print()\n",
    "print(f\"Total number of news articles for {query[2]} is {query_articles_en[2]['totalResults']}\")"
   ]
  },
  {
   "cell_type": "code",
   "execution_count": 9,
   "id": "2abe99a7-723c-472a-b650-55a52a77aa6c",
   "metadata": {},
   "outputs": [],
   "source": [
    "# Function to create a dataframe for english news and french news\n",
    "def create_df(news, language):\n",
    "\n",
    "    df = pd.json_normalize(news[\"articles\"])\n",
    "\n",
    "    df_new = df[[\"title\", \"description\", \"content\", \"publishedAt\"]]\n",
    "\n",
    "    df_new.columns = [\"Title\", \"Description\", \"Text\", \"Date\"]\n",
    "\n",
    "    language_list = []\n",
    "\n",
    "    for x in range(len(df_new)):\n",
    "\n",
    "        language_list.append(language)\n",
    "\n",
    "    df_new[\"Language\"] = language_list\n",
    "    \n",
    "    return df_new"
   ]
  },
  {
   "cell_type": "code",
   "execution_count": 10,
   "id": "4fd311c1-8124-4f19-b9ba-00f43d8fcce5",
   "metadata": {},
   "outputs": [
    {
     "name": "stderr",
     "output_type": "stream",
     "text": [
      "C:\\Users\\TribThapa\\anaconda3\\envs\\algotrading\\lib\\site-packages\\ipykernel_launcher.py:16: SettingWithCopyWarning: \n",
      "A value is trying to be set on a copy of a slice from a DataFrame.\n",
      "Try using .loc[row_indexer,col_indexer] = value instead\n",
      "\n",
      "See the caveats in the documentation: https://pandas.pydata.org/pandas-docs/stable/user_guide/indexing.html#returning-a-view-versus-a-copy\n",
      "  app.launch_new_instance()\n"
     ]
    },
    {
     "data": {
      "text/html": [
       "<div>\n",
       "<style scoped>\n",
       "    .dataframe tbody tr th:only-of-type {\n",
       "        vertical-align: middle;\n",
       "    }\n",
       "\n",
       "    .dataframe tbody tr th {\n",
       "        vertical-align: top;\n",
       "    }\n",
       "\n",
       "    .dataframe thead th {\n",
       "        text-align: right;\n",
       "    }\n",
       "</style>\n",
       "<table border=\"1\" class=\"dataframe\">\n",
       "  <thead>\n",
       "    <tr style=\"text-align: right;\">\n",
       "      <th></th>\n",
       "      <th>Title</th>\n",
       "      <th>Description</th>\n",
       "      <th>Text</th>\n",
       "      <th>Date</th>\n",
       "      <th>Language</th>\n",
       "    </tr>\n",
       "  </thead>\n",
       "  <tbody>\n",
       "    <tr>\n",
       "      <th>0</th>\n",
       "      <td>What’s Next for Apple as it Forms a Key Resist...</td>\n",
       "      <td>A resistance line has formed in the chart of A...</td>\n",
       "      <td>This story originally appeared on StockNews\\r\\...</td>\n",
       "      <td>2021-07-29T13:50:23Z</td>\n",
       "      <td>en</td>\n",
       "    </tr>\n",
       "    <tr>\n",
       "      <th>1</th>\n",
       "      <td>Are Shares of Apple a Buy Under $150?</td>\n",
       "      <td>Tech giant Apple (AAPL) achieved double-digit ...</td>\n",
       "      <td>August\\r\\n24, 2021\\r\\n5 min read\\r\\nThis story...</td>\n",
       "      <td>2021-08-24T13:01:42Z</td>\n",
       "      <td>en</td>\n",
       "    </tr>\n",
       "    <tr>\n",
       "      <th>2</th>\n",
       "      <td>Breaking: Apple (AAPL) reports Q3 earnings, EP...</td>\n",
       "      <td>&lt;ol&gt;&lt;li&gt;Breaking: Apple (AAPL) reports Q3 earn...</td>\n",
       "      <td>Information on these pages contains forward-lo...</td>\n",
       "      <td>2021-07-27T20:34:26Z</td>\n",
       "      <td>en</td>\n",
       "    </tr>\n",
       "    <tr>\n",
       "      <th>3</th>\n",
       "      <td>Amazon is delaying its return to office until ...</td>\n",
       "      <td>Amazon on Thursday pushed back its office retu...</td>\n",
       "      <td>(CNN Business)Amazon on Thursday pushed back i...</td>\n",
       "      <td>2021-08-05T19:20:19Z</td>\n",
       "      <td>en</td>\n",
       "    </tr>\n",
       "    <tr>\n",
       "      <th>4</th>\n",
       "      <td>New AAPL all-time high as it finally breaks $150</td>\n",
       "      <td>Yesterday’s close saw a new AAPL all-time high...</td>\n",
       "      <td>Yesterday’s close saw a new AAPL all-time high...</td>\n",
       "      <td>2021-08-17T12:01:43Z</td>\n",
       "      <td>en</td>\n",
       "    </tr>\n",
       "  </tbody>\n",
       "</table>\n",
       "</div>"
      ],
      "text/plain": [
       "                                               Title  \\\n",
       "0  What’s Next for Apple as it Forms a Key Resist...   \n",
       "1              Are Shares of Apple a Buy Under $150?   \n",
       "2  Breaking: Apple (AAPL) reports Q3 earnings, EP...   \n",
       "3  Amazon is delaying its return to office until ...   \n",
       "4   New AAPL all-time high as it finally breaks $150   \n",
       "\n",
       "                                         Description  \\\n",
       "0  A resistance line has formed in the chart of A...   \n",
       "1  Tech giant Apple (AAPL) achieved double-digit ...   \n",
       "2  <ol><li>Breaking: Apple (AAPL) reports Q3 earn...   \n",
       "3  Amazon on Thursday pushed back its office retu...   \n",
       "4  Yesterday’s close saw a new AAPL all-time high...   \n",
       "\n",
       "                                                Text                  Date  \\\n",
       "0  This story originally appeared on StockNews\\r\\...  2021-07-29T13:50:23Z   \n",
       "1  August\\r\\n24, 2021\\r\\n5 min read\\r\\nThis story...  2021-08-24T13:01:42Z   \n",
       "2  Information on these pages contains forward-lo...  2021-07-27T20:34:26Z   \n",
       "3  (CNN Business)Amazon on Thursday pushed back i...  2021-08-05T19:20:19Z   \n",
       "4  Yesterday’s close saw a new AAPL all-time high...  2021-08-17T12:01:43Z   \n",
       "\n",
       "  Language  \n",
       "0       en  \n",
       "1       en  \n",
       "2       en  \n",
       "3       en  \n",
       "4       en  "
      ]
     },
     "execution_count": 10,
     "metadata": {},
     "output_type": "execute_result"
    }
   ],
   "source": [
    "# Create a DataFrame with the news in English\n",
    "en_df = create_df(query_articles_en[1], 'en') \n",
    "\n",
    "en_df.head()"
   ]
  },
  {
   "cell_type": "code",
   "execution_count": 13,
   "id": "6eee8b88-8b67-421c-99de-7b84fbcf62d3",
   "metadata": {},
   "outputs": [],
   "source": [
    "import os\n",
    "import pandas as pd\n",
    "from datetime import datetime, timedelta\n",
    "from dotenv import load_dotenv\n",
    "import alpaca_trade_api as tradeapi\n",
    "from newsapi.newsapi_client import NewsApiClient\n",
    "from nltk.sentiment.vader import SentimentIntensityAnalyzer"
   ]
  },
  {
   "cell_type": "code",
   "execution_count": 14,
   "id": "203a6414-a922-4dc4-9044-dc3ba68ebca3",
   "metadata": {},
   "outputs": [],
   "source": [
    "# Use newsapi client to get most relevant 20 headlines per day in the past month\n",
    "def get_headlines(keyword):\n",
    "    all_headlines = []\n",
    "    \n",
    "    all_dates = []    \n",
    "    \n",
    "    date = datetime.strptime(current_date[:10], \"%Y-%m-%d\")\n",
    "    \n",
    "    end_date = datetime.strptime(past_date[:10], \"%Y-%m-%d\")\n",
    "    \n",
    "    print(f\"Fetching news about '{keyword}'\")\n",
    "    \n",
    "    print(\"*\" * 30)\n",
    "    \n",
    "    while date > end_date:\n",
    "        \n",
    "        print(f\"retrieving news from: {date}\")\n",
    "        \n",
    "        articles = newsapi.get_everything(q=keyword,\n",
    "                                          from_param=str(date)[:10],\n",
    "                                          to=str(date)[:10],\n",
    "                                          language=\"en\",\n",
    "                                          sort_by=\"relevancy\",\n",
    "                                          page=1)\n",
    "        headlines = []\n",
    "        \n",
    "        for i in range(0, len(articles[\"articles\"])):\n",
    "            \n",
    "            headlines.append(articles[\"articles\"][i][\"title\"])\n",
    "            \n",
    "        all_headlines.append(headlines)\n",
    "        \n",
    "        all_dates.append(date)\n",
    "        \n",
    "        date = date - timedelta(days=1)\n",
    "        \n",
    "    return all_headlines, all_dates"
   ]
  },
  {
   "cell_type": "code",
   "execution_count": 17,
   "id": "06ccc4e1-376e-4a9a-ae78-dea04c82a0d1",
   "metadata": {},
   "outputs": [
    {
     "name": "stdout",
     "output_type": "stream",
     "text": [
      "Fetching news about 'apple'\n",
      "******************************\n",
      "retrieving news from: 2021-08-26 00:00:00\n",
      "retrieving news from: 2021-08-25 00:00:00\n",
      "retrieving news from: 2021-08-24 00:00:00\n",
      "retrieving news from: 2021-08-23 00:00:00\n",
      "retrieving news from: 2021-08-22 00:00:00\n",
      "retrieving news from: 2021-08-21 00:00:00\n",
      "retrieving news from: 2021-08-20 00:00:00\n",
      "retrieving news from: 2021-08-19 00:00:00\n",
      "retrieving news from: 2021-08-18 00:00:00\n",
      "retrieving news from: 2021-08-17 00:00:00\n",
      "retrieving news from: 2021-08-16 00:00:00\n",
      "retrieving news from: 2021-08-15 00:00:00\n",
      "retrieving news from: 2021-08-14 00:00:00\n",
      "retrieving news from: 2021-08-13 00:00:00\n",
      "retrieving news from: 2021-08-12 00:00:00\n",
      "retrieving news from: 2021-08-11 00:00:00\n",
      "retrieving news from: 2021-08-10 00:00:00\n",
      "retrieving news from: 2021-08-09 00:00:00\n",
      "retrieving news from: 2021-08-08 00:00:00\n",
      "retrieving news from: 2021-08-07 00:00:00\n",
      "retrieving news from: 2021-08-06 00:00:00\n",
      "retrieving news from: 2021-08-05 00:00:00\n",
      "retrieving news from: 2021-08-04 00:00:00\n",
      "retrieving news from: 2021-08-03 00:00:00\n",
      "retrieving news from: 2021-08-02 00:00:00\n",
      "retrieving news from: 2021-08-01 00:00:00\n",
      "retrieving news from: 2021-07-31 00:00:00\n",
      "retrieving news from: 2021-07-30 00:00:00\n",
      "retrieving news from: 2021-07-29 00:00:00\n",
      "retrieving news from: 2021-07-28 00:00:00\n",
      "retrieving news from: 2021-07-27 00:00:00\n",
      "retrieving news from: 2021-07-26 00:00:00\n",
      "retrieving news from: 2021-07-25 00:00:00\n"
     ]
    },
    {
     "ename": "NewsAPIException",
     "evalue": "{'status': 'error', 'code': 'parameterInvalid', 'message': 'You are trying to request results too far in the past. Your plan permits you to request articles as far back as 2021-07-25, but you have requested 2021-07-25. You may need to upgrade to a paid plan.'}",
     "output_type": "error",
     "traceback": [
      "\u001b[1;31m---------------------------------------------------------------------------\u001b[0m",
      "\u001b[1;31mNewsAPIException\u001b[0m                          Traceback (most recent call last)",
      "\u001b[1;32m<ipython-input-17-60435a0f614b>\u001b[0m in \u001b[0;36m<module>\u001b[1;34m\u001b[0m\n\u001b[0;32m      3\u001b[0m \u001b[0mpast_date\u001b[0m \u001b[1;33m=\u001b[0m \u001b[1;34m'2016-01-01 00:00:00'\u001b[0m\u001b[1;33m\u001b[0m\u001b[1;33m\u001b[0m\u001b[0m\n\u001b[0;32m      4\u001b[0m \u001b[1;33m\u001b[0m\u001b[0m\n\u001b[1;32m----> 5\u001b[1;33m \u001b[0mapple_news\u001b[0m \u001b[1;33m=\u001b[0m \u001b[0mget_headlines\u001b[0m\u001b[1;33m(\u001b[0m\u001b[1;34m'apple'\u001b[0m\u001b[1;33m)\u001b[0m\u001b[1;33m\u001b[0m\u001b[1;33m\u001b[0m\u001b[0m\n\u001b[0m",
      "\u001b[1;32m<ipython-input-14-01f542879572>\u001b[0m in \u001b[0;36mget_headlines\u001b[1;34m(keyword)\u001b[0m\n\u001b[0;32m     22\u001b[0m                                           \u001b[0mlanguage\u001b[0m\u001b[1;33m=\u001b[0m\u001b[1;34m\"en\"\u001b[0m\u001b[1;33m,\u001b[0m\u001b[1;33m\u001b[0m\u001b[1;33m\u001b[0m\u001b[0m\n\u001b[0;32m     23\u001b[0m                                           \u001b[0msort_by\u001b[0m\u001b[1;33m=\u001b[0m\u001b[1;34m\"relevancy\"\u001b[0m\u001b[1;33m,\u001b[0m\u001b[1;33m\u001b[0m\u001b[1;33m\u001b[0m\u001b[0m\n\u001b[1;32m---> 24\u001b[1;33m                                           page=1)\n\u001b[0m\u001b[0;32m     25\u001b[0m         \u001b[0mheadlines\u001b[0m \u001b[1;33m=\u001b[0m \u001b[1;33m[\u001b[0m\u001b[1;33m]\u001b[0m\u001b[1;33m\u001b[0m\u001b[1;33m\u001b[0m\u001b[0m\n\u001b[0;32m     26\u001b[0m \u001b[1;33m\u001b[0m\u001b[0m\n",
      "\u001b[1;32m~\\anaconda3\\envs\\algotrading\\lib\\site-packages\\newsapi\\newsapi_client.py\u001b[0m in \u001b[0;36mget_everything\u001b[1;34m(self, q, sources, domains, exclude_domains, from_param, to, language, sort_by, page, page_size)\u001b[0m\n\u001b[0;32m    259\u001b[0m         \u001b[1;31m# Check Status of Request\u001b[0m\u001b[1;33m\u001b[0m\u001b[1;33m\u001b[0m\u001b[1;33m\u001b[0m\u001b[0m\n\u001b[0;32m    260\u001b[0m         \u001b[1;32mif\u001b[0m \u001b[0mr\u001b[0m\u001b[1;33m.\u001b[0m\u001b[0mstatus_code\u001b[0m \u001b[1;33m!=\u001b[0m \u001b[0mrequests\u001b[0m\u001b[1;33m.\u001b[0m\u001b[0mcodes\u001b[0m\u001b[1;33m.\u001b[0m\u001b[0mok\u001b[0m\u001b[1;33m:\u001b[0m\u001b[1;33m\u001b[0m\u001b[1;33m\u001b[0m\u001b[0m\n\u001b[1;32m--> 261\u001b[1;33m             \u001b[1;32mraise\u001b[0m \u001b[0mNewsAPIException\u001b[0m\u001b[1;33m(\u001b[0m\u001b[0mr\u001b[0m\u001b[1;33m.\u001b[0m\u001b[0mjson\u001b[0m\u001b[1;33m(\u001b[0m\u001b[1;33m)\u001b[0m\u001b[1;33m)\u001b[0m\u001b[1;33m\u001b[0m\u001b[1;33m\u001b[0m\u001b[0m\n\u001b[0m\u001b[0;32m    262\u001b[0m \u001b[1;33m\u001b[0m\u001b[0m\n\u001b[0;32m    263\u001b[0m         \u001b[1;32mreturn\u001b[0m \u001b[0mr\u001b[0m\u001b[1;33m.\u001b[0m\u001b[0mjson\u001b[0m\u001b[1;33m(\u001b[0m\u001b[1;33m)\u001b[0m\u001b[1;33m\u001b[0m\u001b[1;33m\u001b[0m\u001b[0m\n",
      "\u001b[1;31mNewsAPIException\u001b[0m: {'status': 'error', 'code': 'parameterInvalid', 'message': 'You are trying to request results too far in the past. Your plan permits you to request articles as far back as 2021-07-25, but you have requested 2021-07-25. You may need to upgrade to a paid plan.'}"
     ]
    }
   ],
   "source": [
    "# Get first topic\n",
    "current_date = '2021-08-26 00:00:00'\n",
    "past_date = '2016-01-01 00:00:00'\n",
    "\n",
    "apple_news = get_headlines('apple')"
   ]
  },
  {
   "cell_type": "code",
   "execution_count": null,
   "id": "50c4f331-4d92-4a5a-a448-49becb0aa903",
   "metadata": {},
   "outputs": [],
   "source": []
  }
 ],
 "metadata": {
  "kernelspec": {
   "display_name": "Python 3",
   "language": "python",
   "name": "python3"
  },
  "language_info": {
   "codemirror_mode": {
    "name": "ipython",
    "version": 3
   },
   "file_extension": ".py",
   "mimetype": "text/x-python",
   "name": "python",
   "nbconvert_exporter": "python",
   "pygments_lexer": "ipython3",
   "version": "3.7.10"
  }
 },
 "nbformat": 4,
 "nbformat_minor": 5
}
