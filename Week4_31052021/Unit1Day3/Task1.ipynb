{
 "cells": [
  {
   "cell_type": "code",
   "execution_count": 8,
   "metadata": {},
   "outputs": [
    {
     "name": "stdout",
     "output_type": "stream",
     "text": [
      "\n",
      "This is the min stock price 1.1.\n",
      "\n",
      "This is the min stock price 1.9.\n",
      "\n",
      "This is the min buy 110.0.\n",
      "\n",
      "This is the max sell 110.0.\n",
      "\n",
      "Profit is 80.0\n"
     ]
    }
   ],
   "source": [
    "inv_amt = 100\n",
    "\n",
    "# List of stock prices\n",
    "stock_price = [1.42, 1.32, 1.45, 1.20, 1.34, 1.74, 1.10, 1.89, 1.42, 1.90, 1.80, 1.85]\n",
    "\n",
    "#Find min\n",
    "min_stock_price = min(stock_price)\n",
    "print()\n",
    "print(f\"This is the min stock price {min_stock_price}.\")\n",
    "\n",
    "#Find max\n",
    "max_stock_price = max(stock_price)\n",
    "print()\n",
    "print(f\"This is the min stock price {max_stock_price}.\")\n",
    "\n",
    "#Determine min buy\n",
    "min_buy = round(inv_amt * min_stock_price, 2)\n",
    "print()\n",
    "print(f\"This is the min buy {min_buy}.\")\n",
    "\n",
    "#Determine max sell\n",
    "max_sell = round(inv_amt * max_stock_price, 2)\n",
    "print()\n",
    "print(f\"This is the max sell {min_buy}.\")\n",
    "\n",
    "#Calc profit\n",
    "profit = max_sell - min_buy  \n",
    "print()\n",
    "print(f\"Profit is {profit}\")\n",
    "    "
   ]
  },
  {
   "cell_type": "code",
   "execution_count": 26,
   "metadata": {},
   "outputs": [
    {
     "data": {
      "text/plain": [
       "8000.0"
      ]
     },
     "execution_count": 26,
     "metadata": {},
     "output_type": "execute_result"
    }
   ],
   "source": [
    "def calc_profit(shares, stock_price):\n",
    "    \n",
    "    min_price = 0\n",
    "    max_price = 0\n",
    "\n",
    "    # Find min and max price\n",
    "    for price in stock_price: \n",
    "        \n",
    "        if min_price == 0 and max_price == 0:\n",
    "            min_price = price\n",
    "            max_price = price \n",
    "        elif price < min_price:\n",
    "            min_price = price \n",
    "        elif price > max_price:\n",
    "            max_price = price\n",
    "     \n",
    "    # Calc profit\n",
    "    profit = round(((max_price - min_price) * shares), 2)\n",
    "    \n",
    "    return profit\n",
    "  \n",
    "# No. of shares to buy\n",
    "num_shares = 10000\n",
    "\n",
    "# List of stock prices\n",
    "stock_price = [1.42, 1.32, 1.45, 1.20, 1.34, 1.74, 1.10, 1.89, 1.42, 1.90, 1.80, 1.85]\n",
    "\n",
    "# Call function\n",
    "calc_profit(num_shares, stock_price)\n",
    "\n",
    "    \n",
    "    \n",
    "    \n",
    "    "
   ]
  }
 ],
 "metadata": {
  "kernelspec": {
   "display_name": "Python 3",
   "language": "python",
   "name": "python3"
  },
  "language_info": {
   "codemirror_mode": {
    "name": "ipython",
    "version": 3
   },
   "file_extension": ".py",
   "mimetype": "text/x-python",
   "name": "python",
   "nbconvert_exporter": "python",
   "pygments_lexer": "ipython3",
   "version": "3.7.1"
  }
 },
 "nbformat": 4,
 "nbformat_minor": 2
}
