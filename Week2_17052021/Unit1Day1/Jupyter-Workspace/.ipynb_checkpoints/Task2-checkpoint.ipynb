{
 "cells": [
  {
   "cell_type": "code",
   "execution_count": 6,
   "metadata": {},
   "outputs": [
    {
     "name": "stdout",
     "output_type": "stream",
     "text": [
      "Frankfurter\n",
      "23\n",
      "65.4\n",
      "True\n",
      "The data type of variable title is <class 'str'>\n",
      "The data type of variable years is <class 'int'>\n",
      "The data type of variable hourly wage is <class 'float'>\n",
      "The data type of variable expert status is <class 'bool'>\n"
     ]
    }
   ],
   "source": [
    "title = 'Frankfurter'\n",
    "years = 23\n",
    "hourly_wage = 65.40\n",
    "expert_status = True\n",
    "\n",
    "print(title)\n",
    "print(years)\n",
    "print(hourly_wage)\n",
    "print(expert_status)\n",
    "\n",
    "print(\"The data type of variable title is\", type(title))\n",
    "print(\"The data type of variable years is\", type(years))\n",
    "print(\"The data type of variable hourly wage is\", type(hourly_wage))\n",
    "print(\"The data type of variable expert status is\", type(expert_status))"
   ]
  },
  {
   "cell_type": "code",
   "execution_count": 17,
   "metadata": {},
   "outputs": [
    {
     "ename": "SyntaxError",
     "evalue": "invalid syntax (<ipython-input-17-fb4022c2929f>, line 12)",
     "output_type": "error",
     "traceback": [
      "\u001b[1;36m  File \u001b[1;32m\"<ipython-input-17-fb4022c2929f>\"\u001b[1;36m, line \u001b[1;32m12\u001b[0m\n\u001b[1;33m    print(percent_increase + str(%))\u001b[0m\n\u001b[1;37m                                 ^\u001b[0m\n\u001b[1;31mSyntaxError\u001b[0m\u001b[1;31m:\u001b[0m invalid syntax\n"
     ]
    }
   ],
   "source": [
    "original_price = 198.87\n",
    "\n",
    "current_price = 254.32\n",
    "\n",
    "increase = round(current_price - original_price, 2)\n",
    "\n",
    "percent_increase = round((increase/original_price) * 100, 2)\n",
    "\n",
    "print(f\"Apple's original stock price was ${original_price}.\")\n",
    "print(f\"Apple's current stock price is ${current_price}.\")\n",
    "print(f\"Apple's curent stock price increase by ${increase} i.e., the stock price went up by {percent_increase} %.\")\n"
   ]
  },
  {
   "cell_type": "code",
   "execution_count": null,
   "metadata": {},
   "outputs": [],
   "source": []
  }
 ],
 "metadata": {
  "kernelspec": {
   "display_name": "Python 3",
   "language": "python",
   "name": "python3"
  },
  "language_info": {
   "codemirror_mode": {
    "name": "ipython",
    "version": 3
   },
   "file_extension": ".py",
   "mimetype": "text/x-python",
   "name": "python",
   "nbconvert_exporter": "python",
   "pygments_lexer": "ipython3",
   "version": "3.7.1"
  }
 },
 "nbformat": 4,
 "nbformat_minor": 2
}
