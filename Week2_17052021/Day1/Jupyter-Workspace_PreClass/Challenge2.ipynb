{
 "cells": [
  {
   "cell_type": "code",
   "execution_count": 44,
   "metadata": {},
   "outputs": [
    {
     "name": "stdout",
     "output_type": "stream",
     "text": [
      "Netflix' original stock price was $360.\n",
      "Netflix stock price increased by 150.0% i.e., by $540.\n",
      "Threshold to buy is 20.05% of the current price.\n",
      "Threshold to sell is -10.5% of the current price.\n",
      "Portfolio is currenlty balanced at $4500.\n"
     ]
    }
   ],
   "source": [
    "OriginalPrice = 360\n",
    "print(f\"Netflix' original stock price was ${OriginalPrice}.\")\n",
    "\n",
    "CurrentPrice = 900\n",
    "\n",
    "Increase = CurrentPrice - OriginalPrice\n",
    "\n",
    "PercentIncrease = (Increase/OriginalPrice)*100\n",
    "print(f\"Netflix stock price increased by {PercentIncrease}% i.e., by ${Increase}.\")\n",
    "\n",
    "Threshold_to_buy = 20.05\n",
    "print(f\"Threshold to buy is {Threshold_to_buy}% of the current price.\")\n",
    "\n",
    "Threshold_to_sell = -10.50\n",
    "print(f\"Threshold to sell is {Threshold_to_sell}% of the current price.\")\n",
    "\n",
    "PortfolioBalance = 5 * CurrentPrice\n",
    "print(f\"Portfolio is currenlty balanced at ${PortfolioBalance}.\")\n",
    "\n",
    "recommendation = \"buy\"\n",
    "\n"
   ]
  },
  {
   "cell_type": "code",
   "execution_count": 34,
   "metadata": {},
   "outputs": [
    {
     "name": "stdout",
     "output_type": "stream",
     "text": [
      "Recommendation: Sell\n",
      "\n",
      "But wait a minute.... let's check your excess equity first.\n",
      "You currently have $1465.0 in excess equity available in your portfolio.\n"
     ]
    }
   ],
   "source": [
    "if PercentIncrease >= Threshold_to_buy:\n",
    "    print(f\"Recommendation: {recommendation}\")\n",
    "elif PercentIncrease <= Threshold_to_sell:\n",
    "    print('Recommendation: Sell')\n",
    "else:\n",
    "    print('Recommendation: Relax')\n",
    "    \n",
    "print()\n",
    "\n",
    "print(\"But wait a minute.... let's check your excess equity first.\")\n",
    "print(f\"You currently have ${float(PortfolioBalance)} in excess equity available in your portfolio.\")"
   ]
  },
  {
   "cell_type": "code",
   "execution_count": 45,
   "metadata": {},
   "outputs": [
    {
     "name": "stdout",
     "output_type": "stream",
     "text": [
      "Recommendation: buy\n"
     ]
    }
   ],
   "source": [
    "if (PercentIncrease > Threshold_to_buy) and (PercentIncrease < PortfolioBalance):\n",
    "    print(f\"Recommendation: {recommendation}\")\n",
    "elif(PercentIncrease > Threshold_to_buy) and (PercentIncrease > PortfolioBalance):\n",
    "    print(\"Recommendation: Do not buy, as you do not have enough funds.\")\n",
    "elif (PercentIncrease <= Threshold_to_sell):\n",
    "    print(\"Recommendation: sell your positions\")\n",
    "else:\n",
    "    print(\"Recommendation: relax\")"
   ]
  },
  {
   "cell_type": "code",
   "execution_count": null,
   "metadata": {},
   "outputs": [],
   "source": []
  }
 ],
 "metadata": {
  "kernelspec": {
   "display_name": "Python 3",
   "language": "python",
   "name": "python3"
  },
  "language_info": {
   "codemirror_mode": {
    "name": "ipython",
    "version": 3
   },
   "file_extension": ".py",
   "mimetype": "text/x-python",
   "name": "python",
   "nbconvert_exporter": "python",
   "pygments_lexer": "ipython3",
   "version": "3.7.1"
  }
 },
 "nbformat": 4,
 "nbformat_minor": 2
}
