{
 "cells": [
  {
   "cell_type": "code",
   "execution_count": null,
   "metadata": {},
   "outputs": [],
   "source": []
  },
  {
   "cell_type": "code",
   "execution_count": null,
   "metadata": {},
   "outputs": [],
   "source": [
    "# Define a function `calculate` that takes in two numbers and adds, subtracts, multiplies, or divides the two numbers.\n",
    "\n",
    "    # Create a variable `result` and set it to 0.\n",
    "\n",
    "\n",
    "    # Prompt the user \"What do you want to do: Add, Subtract, Multiply or Divide?\" and assign the answer to a variable `choice`.\n",
    "\n",
    "\n",
    "    # Create an if-else statement to perform the proper calculation with the two parameters based on the user's `choice`.\n",
    "\n",
    "\n",
    "\n",
    "\n",
    "\n",
    "\n",
    "\n",
    "\n",
    "\n",
    "\n",
    "\n",
    "    # Return the calculated `result` variable.\n",
    "\n",
    "\n",
    "# Call the `calculate` function and print the results."
   ]
  }
 ],
 "metadata": {
  "kernelspec": {
   "display_name": "Python 3",
   "language": "python",
   "name": "python3"
  },
  "language_info": {
   "codemirror_mode": {
    "name": "ipython",
    "version": 3
   },
   "file_extension": ".py",
   "mimetype": "text/x-python",
   "name": "python",
   "nbconvert_exporter": "python",
   "pygments_lexer": "ipython3",
   "version": "3.7.1"
  }
 },
 "nbformat": 4,
 "nbformat_minor": 2
}
