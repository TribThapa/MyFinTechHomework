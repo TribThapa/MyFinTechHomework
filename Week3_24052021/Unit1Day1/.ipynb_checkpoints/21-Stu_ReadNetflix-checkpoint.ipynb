{
 "cells": [
  {
   "cell_type": "code",
   "execution_count": 6,
   "metadata": {},
   "outputs": [],
   "source": [
    "import os\n",
    "import csv\n",
    "import pandas as pd"
   ]
  },
  {
   "cell_type": "code",
   "execution_count": 41,
   "metadata": {},
   "outputs": [
    {
     "name": "stdin",
     "output_type": "stream",
     "text": [
      "What video are you looking for?  Grey's Anatomy\n"
     ]
    },
    {
     "name": "stdout",
     "output_type": "stream",
     "text": [
      "Grey's Anatomy is rated TV-14 with a rating of 98. \n"
     ]
    }
   ],
   "source": [
    "data_file = r'C:\\Users\\TribThapa\\Desktop\\Thapa\\ResearchFellow\\Courses\\FinTech_Bootcamp_MonashUni2021\\monu-mel-virt-fin-pt-05-2021-u-c\\Activities\\Week 3\\1\\21-Stu_ReadNetFlix\\Resources\\netflix_ratings.csv'\n",
    "\n",
    "data_file_df = pd.read_csv(data_file)\n",
    "data_file_df.head(10)\n",
    "\n",
    "user_input = input('What video are you looking for? ')\n",
    "\n",
    "with open(data_file, 'r') as file:\n",
    "    file_reader = csv.reader(file, delimiter=',')\n",
    "    \n",
    "    header = next(file_reader)\n",
    "    \n",
    "    output= []\n",
    "    for row in file_reader:\n",
    "        if user_input == row[0]:\n",
    "            Title = user_input\n",
    "            Rating = row[1]\n",
    "            UserRating = row[5]\n",
    "            output.append(Title)\n",
    "            output.append(Rating)\n",
    "            output.append(UserRating)\n",
    "            #print(f\"Title:{user_input}, Rating:{row[1]}, User Rating: {row[5]}, \")\n",
    "        else:\n",
    "            pass\n",
    "            #print(f\"Sorry, we cannot find what you are looking for.\")\n",
    "            \n",
    "    print(f\"{output[0]} is rated {output[1]} with a rating of {output[2]}. \")"
   ]
  },
  {
   "cell_type": "code",
   "execution_count": null,
   "metadata": {},
   "outputs": [],
   "source": []
  }
 ],
 "metadata": {
  "kernelspec": {
   "display_name": "Python 3",
   "language": "python",
   "name": "python3"
  },
  "language_info": {
   "codemirror_mode": {
    "name": "ipython",
    "version": 3
   },
   "file_extension": ".py",
   "mimetype": "text/x-python",
   "name": "python",
   "nbconvert_exporter": "python",
   "pygments_lexer": "ipython3",
   "version": "3.7.1"
  }
 },
 "nbformat": 4,
 "nbformat_minor": 2
}
