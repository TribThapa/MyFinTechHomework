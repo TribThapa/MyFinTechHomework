{
 "cells": [
  {
   "cell_type": "code",
   "execution_count": 8,
   "metadata": {},
   "outputs": [],
   "source": [
    "from pathlib import Path\n",
    "import numpy as np\n",
    "import csv"
   ]
  },
  {
   "cell_type": "code",
   "execution_count": 42,
   "metadata": {},
   "outputs": [
    {
     "name": "stdout",
     "output_type": "stream",
     "text": [
      "['id', 'identifier', 'species_id', 'height', 'weight', 'base_experience', 'order', 'is_default']<------------------- Headers\n",
      "['snorlax', 'steelix', 'aggron', 'wailord', 'metagross', 'kyogre', 'groudon', 'torterra', 'probopass', 'dialga', 'palkia', 'heatran', 'regigigas', 'giratina-altered', 'arceus', 'golurk', 'reshiram', 'zekrom', 'kyurem', 'avalugg', 'zygarde', 'mudsdale', 'cosmoem', 'buzzwole', 'celesteela', 'guzzlord', 'stakataka']\n",
      "['onix', '88', 'gyarados', '65', 'steelix', '92', 'lugia', '52', 'wailord', '145', 'milotic', '62', 'rayquaza', '70', 'dialga', '54', 'yveltal', '58', 'celesteela', '92', 'guzzlord', '55', 'stakataka', '55']\n"
     ]
    }
   ],
   "source": [
    "# Set the path for the csv file\n",
    "csv_file_path = Path(r'C:\\Users\\TribThapa\\Desktop\\Thapa\\ResearchFellow\\Courses\\FinTech_Bootcamp_MonashUni2021\\monu-mel-virt-fin-pt-05-2021-u-c\\MyFinTechHomework\\Week3_24052021\\Unit1Day1\\pokemon.csv')\n",
    "                     \n",
    "# Create new lists to store data for heaviest and tallest pokemon\n",
    "heaviest = []\n",
    "tallest = []\n",
    "\n",
    "with open(csv_file_path, 'r') as csv_file:\n",
    "    csvreader = csv.reader(csv_file, delimiter=',')\n",
    "    \n",
    "    csvreader_header = next(csvreader)\n",
    "    print(f'{csvreader_header}<------------------- Headers')\n",
    "    \n",
    "    for row in csvreader:\n",
    "        # Print the name of the pokemon(identifier) and pokedex number(species id) at that number. For example, \"Pokemon No. 25 - pikachu\".\n",
    "        #print(row)\n",
    "        #print(row[0], row[1], row[2])\n",
    "        \n",
    "        # Iterate through the data and search for pokemon whose weight is greater than 3000. Append only the pokemon's name and weight to the 'heaviest' list.\n",
    "        if int(row[4]) > 3000:\n",
    "            heaviest.append(row[1])\n",
    "        else:\n",
    "            pass\n",
    "\n",
    "        # Iterate through the data and search for pokemon whose height is greater than 50. Append only the pokemon's name and height to the 'tallest' list.\n",
    "        if int(row[3]) > 50:\n",
    "            tallest.append(row[1])\n",
    "            tallest.append(row[3])\n",
    "        else:\n",
    "            pass\n",
    "\n",
    "    \n",
    "print(heaviest)    \n",
    "print(tallest)"
   ]
  },
  {
   "cell_type": "code",
   "execution_count": null,
   "metadata": {},
   "outputs": [],
   "source": []
  }
 ],
 "metadata": {
  "kernelspec": {
   "display_name": "Python 3",
   "language": "python",
   "name": "python3"
  },
  "language_info": {
   "codemirror_mode": {
    "name": "ipython",
    "version": 3
   },
   "file_extension": ".py",
   "mimetype": "text/x-python",
   "name": "python",
   "nbconvert_exporter": "python",
   "pygments_lexer": "ipython3",
   "version": "3.7.1"
  }
 },
 "nbformat": 4,
 "nbformat_minor": 2
}
