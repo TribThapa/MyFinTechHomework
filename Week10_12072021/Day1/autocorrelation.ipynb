{
 "cells": [
  {
   "cell_type": "code",
   "execution_count": 1,
   "metadata": {},
   "outputs": [],
   "source": [
    "# Import libraries and dependencies\n",
    "import pandas as pd\n",
    "import matplotlib.pyplot as plt\n",
    "%matplotlib inline"
   ]
  },
  {
   "cell_type": "code",
   "execution_count": 2,
   "metadata": {},
   "outputs": [
    {
     "data": {
      "text/html": [
       "<div>\n",
       "<style scoped>\n",
       "    .dataframe tbody tr th:only-of-type {\n",
       "        vertical-align: middle;\n",
       "    }\n",
       "\n",
       "    .dataframe tbody tr th {\n",
       "        vertical-align: top;\n",
       "    }\n",
       "\n",
       "    .dataframe thead th {\n",
       "        text-align: right;\n",
       "    }\n",
       "</style>\n",
       "<table border=\"1\" class=\"dataframe\">\n",
       "  <thead>\n",
       "    <tr style=\"text-align: right;\">\n",
       "      <th></th>\n",
       "      <th>Temperature</th>\n",
       "      <th>DewPoint</th>\n",
       "      <th>Pressure</th>\n",
       "    </tr>\n",
       "    <tr>\n",
       "      <th>Date</th>\n",
       "      <th></th>\n",
       "      <th></th>\n",
       "      <th></th>\n",
       "    </tr>\n",
       "  </thead>\n",
       "  <tbody>\n",
       "    <tr>\n",
       "      <th>2010-01-01 00:00:00</th>\n",
       "      <td>46.2</td>\n",
       "      <td>37.5</td>\n",
       "      <td>1.0</td>\n",
       "    </tr>\n",
       "    <tr>\n",
       "      <th>2010-01-01 01:00:00</th>\n",
       "      <td>44.6</td>\n",
       "      <td>37.1</td>\n",
       "      <td>1.0</td>\n",
       "    </tr>\n",
       "    <tr>\n",
       "      <th>2010-01-01 02:00:00</th>\n",
       "      <td>44.1</td>\n",
       "      <td>36.9</td>\n",
       "      <td>1.0</td>\n",
       "    </tr>\n",
       "    <tr>\n",
       "      <th>2010-01-01 03:00:00</th>\n",
       "      <td>43.8</td>\n",
       "      <td>36.9</td>\n",
       "      <td>1.0</td>\n",
       "    </tr>\n",
       "    <tr>\n",
       "      <th>2010-01-01 04:00:00</th>\n",
       "      <td>43.5</td>\n",
       "      <td>36.8</td>\n",
       "      <td>1.0</td>\n",
       "    </tr>\n",
       "  </tbody>\n",
       "</table>\n",
       "</div>"
      ],
      "text/plain": [
       "                     Temperature  DewPoint  Pressure\n",
       "Date                                                \n",
       "2010-01-01 00:00:00         46.2      37.5       1.0\n",
       "2010-01-01 01:00:00         44.6      37.1       1.0\n",
       "2010-01-01 02:00:00         44.1      36.9       1.0\n",
       "2010-01-01 03:00:00         43.8      36.9       1.0\n",
       "2010-01-01 04:00:00         43.5      36.8       1.0"
      ]
     },
     "execution_count": 2,
     "metadata": {},
     "output_type": "execute_result"
    }
   ],
   "source": [
    "# Read CSV, parse dates, and set index\n",
    "weather_df = pd.read_csv((r'C:\\Users\\TribThapa\\Desktop\\Thapa\\ResearchFellow\\Courses\\FinTech_Bootcamp_MonashUni2021\\monu-mel-virt-fin-pt-05-2021-u-c\\Activities\\Week 10\\1\\06-Ins_Auto_Correlation\\Resources\\weather.csv'),\n",
    "                         parse_dates=True, \n",
    "                         index_col='Date')\n",
    "\n",
    "weather_df.head()"
   ]
  },
  {
   "cell_type": "code",
   "execution_count": 3,
   "metadata": {},
   "outputs": [
    {
     "data": {
      "text/html": [
       "<div>\n",
       "<style scoped>\n",
       "    .dataframe tbody tr th:only-of-type {\n",
       "        vertical-align: middle;\n",
       "    }\n",
       "\n",
       "    .dataframe tbody tr th {\n",
       "        vertical-align: top;\n",
       "    }\n",
       "\n",
       "    .dataframe thead th {\n",
       "        text-align: right;\n",
       "    }\n",
       "</style>\n",
       "<table border=\"1\" class=\"dataframe\">\n",
       "  <thead>\n",
       "    <tr style=\"text-align: right;\">\n",
       "      <th></th>\n",
       "      <th>Temperature</th>\n",
       "      <th>DewPoint</th>\n",
       "      <th>Pressure</th>\n",
       "    </tr>\n",
       "    <tr>\n",
       "      <th>Date</th>\n",
       "      <th></th>\n",
       "      <th></th>\n",
       "      <th></th>\n",
       "    </tr>\n",
       "  </thead>\n",
       "  <tbody>\n",
       "    <tr>\n",
       "      <th>2010-01-01 00:00:00</th>\n",
       "      <td>46.2</td>\n",
       "      <td>37.5</td>\n",
       "      <td>1.0</td>\n",
       "    </tr>\n",
       "    <tr>\n",
       "      <th>2010-01-01 01:00:00</th>\n",
       "      <td>44.6</td>\n",
       "      <td>37.1</td>\n",
       "      <td>1.0</td>\n",
       "    </tr>\n",
       "    <tr>\n",
       "      <th>2010-01-01 02:00:00</th>\n",
       "      <td>44.1</td>\n",
       "      <td>36.9</td>\n",
       "      <td>1.0</td>\n",
       "    </tr>\n",
       "    <tr>\n",
       "      <th>2010-01-01 03:00:00</th>\n",
       "      <td>43.8</td>\n",
       "      <td>36.9</td>\n",
       "      <td>1.0</td>\n",
       "    </tr>\n",
       "    <tr>\n",
       "      <th>2010-01-01 04:00:00</th>\n",
       "      <td>43.5</td>\n",
       "      <td>36.8</td>\n",
       "      <td>1.0</td>\n",
       "    </tr>\n",
       "    <tr>\n",
       "      <th>2010-01-01 05:00:00</th>\n",
       "      <td>43.0</td>\n",
       "      <td>36.5</td>\n",
       "      <td>1.0</td>\n",
       "    </tr>\n",
       "    <tr>\n",
       "      <th>2010-01-01 06:00:00</th>\n",
       "      <td>43.1</td>\n",
       "      <td>36.3</td>\n",
       "      <td>1.0</td>\n",
       "    </tr>\n",
       "    <tr>\n",
       "      <th>2010-01-01 07:00:00</th>\n",
       "      <td>42.3</td>\n",
       "      <td>35.9</td>\n",
       "      <td>1.0</td>\n",
       "    </tr>\n",
       "    <tr>\n",
       "      <th>2010-01-01 08:00:00</th>\n",
       "      <td>42.5</td>\n",
       "      <td>36.2</td>\n",
       "      <td>1.0</td>\n",
       "    </tr>\n",
       "    <tr>\n",
       "      <th>2010-01-01 09:00:00</th>\n",
       "      <td>45.9</td>\n",
       "      <td>37.8</td>\n",
       "      <td>1.0</td>\n",
       "    </tr>\n",
       "    <tr>\n",
       "      <th>2010-01-01 10:00:00</th>\n",
       "      <td>49.4</td>\n",
       "      <td>38.3</td>\n",
       "      <td>1.0</td>\n",
       "    </tr>\n",
       "    <tr>\n",
       "      <th>2010-01-01 11:00:00</th>\n",
       "      <td>52.4</td>\n",
       "      <td>38.3</td>\n",
       "      <td>1.0</td>\n",
       "    </tr>\n",
       "    <tr>\n",
       "      <th>2010-01-01 12:00:00</th>\n",
       "      <td>54.9</td>\n",
       "      <td>38.2</td>\n",
       "      <td>1.0</td>\n",
       "    </tr>\n",
       "    <tr>\n",
       "      <th>2010-01-01 13:00:00</th>\n",
       "      <td>57.1</td>\n",
       "      <td>38.5</td>\n",
       "      <td>1.0</td>\n",
       "    </tr>\n",
       "    <tr>\n",
       "      <th>2010-01-01 14:00:00</th>\n",
       "      <td>58.4</td>\n",
       "      <td>38.2</td>\n",
       "      <td>1.0</td>\n",
       "    </tr>\n",
       "    <tr>\n",
       "      <th>2010-01-01 15:00:00</th>\n",
       "      <td>59.1</td>\n",
       "      <td>38.3</td>\n",
       "      <td>1.0</td>\n",
       "    </tr>\n",
       "    <tr>\n",
       "      <th>2010-01-01 16:00:00</th>\n",
       "      <td>59.1</td>\n",
       "      <td>38.3</td>\n",
       "      <td>1.0</td>\n",
       "    </tr>\n",
       "    <tr>\n",
       "      <th>2010-01-01 17:00:00</th>\n",
       "      <td>58.0</td>\n",
       "      <td>38.7</td>\n",
       "      <td>1.0</td>\n",
       "    </tr>\n",
       "    <tr>\n",
       "      <th>2010-01-01 18:00:00</th>\n",
       "      <td>54.5</td>\n",
       "      <td>38.2</td>\n",
       "      <td>1.0</td>\n",
       "    </tr>\n",
       "    <tr>\n",
       "      <th>2010-01-01 19:00:00</th>\n",
       "      <td>51.3</td>\n",
       "      <td>38.5</td>\n",
       "      <td>1.0</td>\n",
       "    </tr>\n",
       "    <tr>\n",
       "      <th>2010-01-01 20:00:00</th>\n",
       "      <td>49.2</td>\n",
       "      <td>38.4</td>\n",
       "      <td>1.0</td>\n",
       "    </tr>\n",
       "    <tr>\n",
       "      <th>2010-01-01 21:00:00</th>\n",
       "      <td>48.1</td>\n",
       "      <td>38.5</td>\n",
       "      <td>1.0</td>\n",
       "    </tr>\n",
       "    <tr>\n",
       "      <th>2010-01-01 22:00:00</th>\n",
       "      <td>47.2</td>\n",
       "      <td>38.5</td>\n",
       "      <td>1.0</td>\n",
       "    </tr>\n",
       "    <tr>\n",
       "      <th>2010-01-01 23:00:00</th>\n",
       "      <td>46.4</td>\n",
       "      <td>38.4</td>\n",
       "      <td>1.0</td>\n",
       "    </tr>\n",
       "  </tbody>\n",
       "</table>\n",
       "</div>"
      ],
      "text/plain": [
       "                     Temperature  DewPoint  Pressure\n",
       "Date                                                \n",
       "2010-01-01 00:00:00         46.2      37.5       1.0\n",
       "2010-01-01 01:00:00         44.6      37.1       1.0\n",
       "2010-01-01 02:00:00         44.1      36.9       1.0\n",
       "2010-01-01 03:00:00         43.8      36.9       1.0\n",
       "2010-01-01 04:00:00         43.5      36.8       1.0\n",
       "2010-01-01 05:00:00         43.0      36.5       1.0\n",
       "2010-01-01 06:00:00         43.1      36.3       1.0\n",
       "2010-01-01 07:00:00         42.3      35.9       1.0\n",
       "2010-01-01 08:00:00         42.5      36.2       1.0\n",
       "2010-01-01 09:00:00         45.9      37.8       1.0\n",
       "2010-01-01 10:00:00         49.4      38.3       1.0\n",
       "2010-01-01 11:00:00         52.4      38.3       1.0\n",
       "2010-01-01 12:00:00         54.9      38.2       1.0\n",
       "2010-01-01 13:00:00         57.1      38.5       1.0\n",
       "2010-01-01 14:00:00         58.4      38.2       1.0\n",
       "2010-01-01 15:00:00         59.1      38.3       1.0\n",
       "2010-01-01 16:00:00         59.1      38.3       1.0\n",
       "2010-01-01 17:00:00         58.0      38.7       1.0\n",
       "2010-01-01 18:00:00         54.5      38.2       1.0\n",
       "2010-01-01 19:00:00         51.3      38.5       1.0\n",
       "2010-01-01 20:00:00         49.2      38.4       1.0\n",
       "2010-01-01 21:00:00         48.1      38.5       1.0\n",
       "2010-01-01 22:00:00         47.2      38.5       1.0\n",
       "2010-01-01 23:00:00         46.4      38.4       1.0"
      ]
     },
     "execution_count": 3,
     "metadata": {},
     "output_type": "execute_result"
    }
   ],
   "source": [
    "# Temperature readings of the first 24 hours\n",
    "weather_df[:24]"
   ]
  },
  {
   "cell_type": "code",
   "execution_count": 4,
   "metadata": {},
   "outputs": [
    {
     "data": {
      "text/html": [
       "<div>\n",
       "<style scoped>\n",
       "    .dataframe tbody tr th:only-of-type {\n",
       "        vertical-align: middle;\n",
       "    }\n",
       "\n",
       "    .dataframe tbody tr th {\n",
       "        vertical-align: top;\n",
       "    }\n",
       "\n",
       "    .dataframe thead th {\n",
       "        text-align: right;\n",
       "    }\n",
       "</style>\n",
       "<table border=\"1\" class=\"dataframe\">\n",
       "  <thead>\n",
       "    <tr style=\"text-align: right;\">\n",
       "      <th></th>\n",
       "      <th>Temperature</th>\n",
       "      <th>DewPoint</th>\n",
       "      <th>Pressure</th>\n",
       "      <th>Lag_Temp</th>\n",
       "    </tr>\n",
       "    <tr>\n",
       "      <th>Date</th>\n",
       "      <th></th>\n",
       "      <th></th>\n",
       "      <th></th>\n",
       "      <th></th>\n",
       "    </tr>\n",
       "  </thead>\n",
       "  <tbody>\n",
       "    <tr>\n",
       "      <th>2010-01-01 00:00:00</th>\n",
       "      <td>46.2</td>\n",
       "      <td>37.5</td>\n",
       "      <td>1.0</td>\n",
       "      <td>NaN</td>\n",
       "    </tr>\n",
       "    <tr>\n",
       "      <th>2010-01-01 01:00:00</th>\n",
       "      <td>44.6</td>\n",
       "      <td>37.1</td>\n",
       "      <td>1.0</td>\n",
       "      <td>46.2</td>\n",
       "    </tr>\n",
       "    <tr>\n",
       "      <th>2010-01-01 02:00:00</th>\n",
       "      <td>44.1</td>\n",
       "      <td>36.9</td>\n",
       "      <td>1.0</td>\n",
       "      <td>44.6</td>\n",
       "    </tr>\n",
       "    <tr>\n",
       "      <th>2010-01-01 03:00:00</th>\n",
       "      <td>43.8</td>\n",
       "      <td>36.9</td>\n",
       "      <td>1.0</td>\n",
       "      <td>44.1</td>\n",
       "    </tr>\n",
       "    <tr>\n",
       "      <th>2010-01-01 04:00:00</th>\n",
       "      <td>43.5</td>\n",
       "      <td>36.8</td>\n",
       "      <td>1.0</td>\n",
       "      <td>43.8</td>\n",
       "    </tr>\n",
       "  </tbody>\n",
       "</table>\n",
       "</div>"
      ],
      "text/plain": [
       "                     Temperature  DewPoint  Pressure  Lag_Temp\n",
       "Date                                                          \n",
       "2010-01-01 00:00:00         46.2      37.5       1.0       NaN\n",
       "2010-01-01 01:00:00         44.6      37.1       1.0      46.2\n",
       "2010-01-01 02:00:00         44.1      36.9       1.0      44.6\n",
       "2010-01-01 03:00:00         43.8      36.9       1.0      44.1\n",
       "2010-01-01 04:00:00         43.5      36.8       1.0      43.8"
      ]
     },
     "execution_count": 4,
     "metadata": {},
     "output_type": "execute_result"
    }
   ],
   "source": [
    "# Shift and calculate diff\n",
    "weather_df['Lag_Temp'] = weather_df.Temperature.shift()\n",
    "weather_df.head()"
   ]
  },
  {
   "cell_type": "code",
   "execution_count": 5,
   "metadata": {},
   "outputs": [
    {
     "data": {
      "text/html": [
       "<div>\n",
       "<style scoped>\n",
       "    .dataframe tbody tr th:only-of-type {\n",
       "        vertical-align: middle;\n",
       "    }\n",
       "\n",
       "    .dataframe tbody tr th {\n",
       "        vertical-align: top;\n",
       "    }\n",
       "\n",
       "    .dataframe thead th {\n",
       "        text-align: right;\n",
       "    }\n",
       "</style>\n",
       "<table border=\"1\" class=\"dataframe\">\n",
       "  <thead>\n",
       "    <tr style=\"text-align: right;\">\n",
       "      <th></th>\n",
       "      <th>Temperature</th>\n",
       "      <th>DewPoint</th>\n",
       "      <th>Pressure</th>\n",
       "      <th>Lag_Temp</th>\n",
       "      <th>Temp_Diff</th>\n",
       "    </tr>\n",
       "    <tr>\n",
       "      <th>Date</th>\n",
       "      <th></th>\n",
       "      <th></th>\n",
       "      <th></th>\n",
       "      <th></th>\n",
       "      <th></th>\n",
       "    </tr>\n",
       "  </thead>\n",
       "  <tbody>\n",
       "    <tr>\n",
       "      <th>2010-01-01 00:00:00</th>\n",
       "      <td>46.2</td>\n",
       "      <td>37.5</td>\n",
       "      <td>1.0</td>\n",
       "      <td>NaN</td>\n",
       "      <td>NaN</td>\n",
       "    </tr>\n",
       "    <tr>\n",
       "      <th>2010-01-01 01:00:00</th>\n",
       "      <td>44.6</td>\n",
       "      <td>37.1</td>\n",
       "      <td>1.0</td>\n",
       "      <td>46.2</td>\n",
       "      <td>-1.6</td>\n",
       "    </tr>\n",
       "    <tr>\n",
       "      <th>2010-01-01 02:00:00</th>\n",
       "      <td>44.1</td>\n",
       "      <td>36.9</td>\n",
       "      <td>1.0</td>\n",
       "      <td>44.6</td>\n",
       "      <td>-0.5</td>\n",
       "    </tr>\n",
       "    <tr>\n",
       "      <th>2010-01-01 03:00:00</th>\n",
       "      <td>43.8</td>\n",
       "      <td>36.9</td>\n",
       "      <td>1.0</td>\n",
       "      <td>44.1</td>\n",
       "      <td>-0.3</td>\n",
       "    </tr>\n",
       "    <tr>\n",
       "      <th>2010-01-01 04:00:00</th>\n",
       "      <td>43.5</td>\n",
       "      <td>36.8</td>\n",
       "      <td>1.0</td>\n",
       "      <td>43.8</td>\n",
       "      <td>-0.3</td>\n",
       "    </tr>\n",
       "  </tbody>\n",
       "</table>\n",
       "</div>"
      ],
      "text/plain": [
       "                     Temperature  DewPoint  Pressure  Lag_Temp  Temp_Diff\n",
       "Date                                                                     \n",
       "2010-01-01 00:00:00         46.2      37.5       1.0       NaN        NaN\n",
       "2010-01-01 01:00:00         44.6      37.1       1.0      46.2       -1.6\n",
       "2010-01-01 02:00:00         44.1      36.9       1.0      44.6       -0.5\n",
       "2010-01-01 03:00:00         43.8      36.9       1.0      44.1       -0.3\n",
       "2010-01-01 04:00:00         43.5      36.8       1.0      43.8       -0.3"
      ]
     },
     "execution_count": 5,
     "metadata": {},
     "output_type": "execute_result"
    }
   ],
   "source": [
    "weather_df[\"Temp_Diff\"] = weather_df.Temperature.diff()\n",
    "weather_df.head()"
   ]
  },
  {
   "cell_type": "code",
   "execution_count": 6,
   "metadata": {},
   "outputs": [
    {
     "data": {
      "text/plain": [
       "Text(0.5, 1.0, 'Temp vs Lag Temp')"
      ]
     },
     "execution_count": 6,
     "metadata": {},
     "output_type": "execute_result"
    },
    {
     "data": {
      "image/png": "[encoded data removed]",
      "text/plain": [
       "<Figure size 432x288 with 1 Axes>"
      ]
     },
     "metadata": {
      "needs_background": "light"
     },
     "output_type": "display_data"
    }
   ],
   "source": [
    "# Scatter plot of lagged temperature vs temperature\n",
    "x = weather_df[\"Lag_Temp\"]\n",
    "y = weather_df[\"Temperature\"]\n",
    "\n",
    "plt.scatter(x, y)\n",
    "plt.xlabel('Lag Temperature')\n",
    "plt.ylabel('Temperature')\n",
    "plt.title('Temp vs Lag Temp')"
   ]
  },
  {
   "cell_type": "code",
   "execution_count": 7,
   "metadata": {},
   "outputs": [
    {
     "data": {
      "text/plain": [
       "<matplotlib.axes._subplots.AxesSubplot at 0x1de8504ef48>"
      ]
     },
     "execution_count": 7,
     "metadata": {},
     "output_type": "execute_result"
    },
    {
     "data": {
      "image/png": "[encoded data removed]",
      "text/plain": [
       "<Figure size 432x288 with 1 Axes>"
      ]
     },
     "metadata": {
      "needs_background": "light"
     },
     "output_type": "display_data"
    }
   ],
   "source": [
    "# Plot of the first 48 hours of temp\n",
    "weather_df[:48].Temperature.plot()"
   ]
  },
  {
   "cell_type": "code",
   "execution_count": 8,
   "metadata": {},
   "outputs": [
    {
     "data": {
      "text/plain": [
       "<matplotlib.axes._subplots.AxesSubplot at 0x1de8504ee48>"
      ]
     },
     "execution_count": 8,
     "metadata": {},
     "output_type": "execute_result"
    },
    {
     "data": {
      "image/png": "[encoded data removed]",
      "text/plain": [
       "<Figure size 432x288 with 1 Axes>"
      ]
     },
     "metadata": {
      "needs_background": "light"
     },
     "output_type": "display_data"
    }
   ],
   "source": [
    "weather_df.Temperature[:48].plot()"
   ]
  },
  {
   "cell_type": "code",
   "execution_count": 9,
   "metadata": {},
   "outputs": [
    {
     "data": {
      "text/plain": [
       "0.9909018726597643"
      ]
     },
     "execution_count": 9,
     "metadata": {},
     "output_type": "execute_result"
    }
   ],
   "source": [
    "# Autocorrelation\n",
    "weather_df.Temperature.autocorr(lag=1)"
   ]
  },
  {
   "cell_type": "code",
   "execution_count": 10,
   "metadata": {},
   "outputs": [
    {
     "data": {
      "text/plain": [
       "0.99979474523129"
      ]
     },
     "execution_count": 10,
     "metadata": {},
     "output_type": "execute_result"
    }
   ],
   "source": [
    "# Autocorrelation at lag of 24\n",
    "weather_df.Temperature.autocorr(lag=24)"
   ]
  },
  {
   "cell_type": "code",
   "execution_count": 11,
   "metadata": {},
   "outputs": [
    {
     "data": {
      "image/png": "[encoded data removed]",
      "text/plain": [
       "<Figure size 432x288 with 1 Axes>"
      ]
     },
     "metadata": {
      "needs_background": "light"
     },
     "output_type": "display_data"
    }
   ],
   "source": [
    "# Import plot_acf() and plot_pacf() from statsmodels:\n",
    "import statsmodels as sm\n",
    "from statsmodels.graphics.tsaplots import plot_acf, plot_pacf\n",
    "\n",
    "# plot_acf() measures autocorrelation at different lags\n",
    "# Highest autocorrelation at lag of 24 hours\n",
    "plot_acf(weather_df.Temperature,\n",
    "         lags=48);"
   ]
  },
  {
   "cell_type": "code",
   "execution_count": 12,
   "metadata": {},
   "outputs": [
    {
     "data": {
      "image/png": "[encoded data removed]",
      "text/plain": [
       "<Figure size 432x288 with 1 Axes>"
      ]
     },
     "metadata": {
      "needs_background": "light"
     },
     "output_type": "display_data"
    }
   ],
   "source": [
    "# Plot autocorrelation at lag of 26\n",
    "plot_acf(weather_df.Temperature,\n",
    "         lags=26);"
   ]
  },
  {
   "cell_type": "code",
   "execution_count": 13,
   "metadata": {},
   "outputs": [
    {
     "data": {
      "image/png": "[encoded data removed]",
      "text/plain": [
       "<Figure size 432x288 with 1 Axes>"
      ]
     },
     "metadata": {
      "needs_background": "light"
     },
     "output_type": "display_data"
    }
   ],
   "source": [
    "# Plot autocorrelation at lag of 26\n",
    "sm.graphics.tsaplots.plot_pacf(weather_df.Temperature,\n",
    "                               lags=26,\n",
    "                               zero=False);"
   ]
  }
 ],
 "metadata": {
  "file_extension": ".py",
  "kernelspec": {
   "display_name": "Python 3",
   "language": "python",
   "name": "python3"
  },
  "language_info": {
   "codemirror_mode": {
    "name": "ipython",
    "version": 3
   },
   "file_extension": ".py",
   "mimetype": "text/x-python",
   "name": "python",
   "nbconvert_exporter": "python",
   "pygments_lexer": "ipython3",
   "version": "3.7.10"
  },
  "mimetype": "text/x-python",
  "name": "python",
  "npconvert_exporter": "python",
  "pygments_lexer": "ipython3",
  "version": 3
 },
 "nbformat": 4,
 "nbformat_minor": 4
}
