{
 "cells": [
  {
   "cell_type": "markdown",
   "metadata": {},
   "source": [
    "## Exercise 1: Decisive Distributions\n",
    "\n",
    "### Import Dependencies"
   ]
  },
  {
   "cell_type": "code",
   "execution_count": 2,
   "metadata": {},
   "outputs": [],
   "source": [
    "# Import libraries and dependencies\n",
    "import os\n",
    "import pandas as pd\n",
    "import alpaca_trade_api as tradeapi\n",
    "from dotenv import load_dotenv\n",
    "load_dotenv()\n",
    "\n",
    "%matplotlib inline"
   ]
  },
  {
   "cell_type": "code",
   "execution_count": 6,
   "metadata": {
    "tags": []
   },
   "outputs": [
    {
     "name": "stdout",
     "output_type": "stream",
     "text": [
      "<class 'str'>\n",
      "<class 'str'>\n"
     ]
    }
   ],
   "source": [
    "# Setup Alpaca API environment\n",
    "alpaca_api_key = os.getenv(\"ALPACA_API_KEY\")\n",
    "alpaca_api_secret_key = os.getenv(\"ALPACA_API_SECRET_KEY\")\n",
    "\n",
    "print(type(alpaca_api_key))\n",
    "print(type(alpaca_api_secret_key))\n",
    "\n",
    "api = tradeapi.REST(alpaca_api_key, alpaca_api_secret_key, api_version=\"V2\")"
   ]
  },
  {
   "cell_type": "markdown",
   "metadata": {},
   "source": [
    "### Read in stock data using Alpaca API"
   ]
  },
  {
   "cell_type": "code",
   "execution_count": 21,
   "metadata": {},
   "outputs": [
    {
     "data": {
      "text/html": [
       "<div>\n",
       "<style scoped>\n",
       "    .dataframe tbody tr th:only-of-type {\n",
       "        vertical-align: middle;\n",
       "    }\n",
       "\n",
       "    .dataframe tbody tr th {\n",
       "        vertical-align: top;\n",
       "    }\n",
       "\n",
       "    .dataframe thead tr th {\n",
       "        text-align: left;\n",
       "    }\n",
       "\n",
       "    .dataframe thead tr:last-of-type th {\n",
       "        text-align: right;\n",
       "    }\n",
       "</style>\n",
       "<table border=\"1\" class=\"dataframe\">\n",
       "  <thead>\n",
       "    <tr>\n",
       "      <th></th>\n",
       "      <th colspan=\"5\" halign=\"left\">AAPL</th>\n",
       "      <th colspan=\"5\" halign=\"left\">DIS</th>\n",
       "      <th>...</th>\n",
       "      <th colspan=\"5\" halign=\"left\">SPY</th>\n",
       "      <th colspan=\"5\" halign=\"left\">WORK</th>\n",
       "    </tr>\n",
       "    <tr>\n",
       "      <th></th>\n",
       "      <th>open</th>\n",
       "      <th>high</th>\n",
       "      <th>low</th>\n",
       "      <th>close</th>\n",
       "      <th>volume</th>\n",
       "      <th>open</th>\n",
       "      <th>high</th>\n",
       "      <th>low</th>\n",
       "      <th>close</th>\n",
       "      <th>volume</th>\n",
       "      <th>...</th>\n",
       "      <th>open</th>\n",
       "      <th>high</th>\n",
       "      <th>low</th>\n",
       "      <th>close</th>\n",
       "      <th>volume</th>\n",
       "      <th>open</th>\n",
       "      <th>high</th>\n",
       "      <th>low</th>\n",
       "      <th>close</th>\n",
       "      <th>volume</th>\n",
       "    </tr>\n",
       "    <tr>\n",
       "      <th>time</th>\n",
       "      <th></th>\n",
       "      <th></th>\n",
       "      <th></th>\n",
       "      <th></th>\n",
       "      <th></th>\n",
       "      <th></th>\n",
       "      <th></th>\n",
       "      <th></th>\n",
       "      <th></th>\n",
       "      <th></th>\n",
       "      <th></th>\n",
       "      <th></th>\n",
       "      <th></th>\n",
       "      <th></th>\n",
       "      <th></th>\n",
       "      <th></th>\n",
       "      <th></th>\n",
       "      <th></th>\n",
       "      <th></th>\n",
       "      <th></th>\n",
       "      <th></th>\n",
       "    </tr>\n",
       "  </thead>\n",
       "  <tbody>\n",
       "    <tr>\n",
       "      <th>2020-05-29 00:00:00-04:00</th>\n",
       "      <td>319.250</td>\n",
       "      <td>321.15</td>\n",
       "      <td>316.47</td>\n",
       "      <td>318.76</td>\n",
       "      <td>56248101</td>\n",
       "      <td>116.19</td>\n",
       "      <td>117.7500</td>\n",
       "      <td>114.1200</td>\n",
       "      <td>117.26</td>\n",
       "      <td>15610366</td>\n",
       "      <td>...</td>\n",
       "      <td>302.46</td>\n",
       "      <td>304.960</td>\n",
       "      <td>299.47</td>\n",
       "      <td>304.1600</td>\n",
       "      <td>101356845</td>\n",
       "      <td>33.74</td>\n",
       "      <td>35.11</td>\n",
       "      <td>33.27</td>\n",
       "      <td>35.08</td>\n",
       "      <td>18548229</td>\n",
       "    </tr>\n",
       "    <tr>\n",
       "      <th>2020-06-01 00:00:00-04:00</th>\n",
       "      <td>317.750</td>\n",
       "      <td>322.35</td>\n",
       "      <td>317.21</td>\n",
       "      <td>321.76</td>\n",
       "      <td>37704502</td>\n",
       "      <td>117.26</td>\n",
       "      <td>119.6498</td>\n",
       "      <td>116.9300</td>\n",
       "      <td>118.79</td>\n",
       "      <td>10142973</td>\n",
       "      <td>...</td>\n",
       "      <td>303.62</td>\n",
       "      <td>306.205</td>\n",
       "      <td>303.06</td>\n",
       "      <td>305.5800</td>\n",
       "      <td>46186733</td>\n",
       "      <td>35.58</td>\n",
       "      <td>37.34</td>\n",
       "      <td>35.23</td>\n",
       "      <td>37.18</td>\n",
       "      <td>17899594</td>\n",
       "    </tr>\n",
       "    <tr>\n",
       "      <th>2020-06-02 00:00:00-04:00</th>\n",
       "      <td>320.745</td>\n",
       "      <td>323.44</td>\n",
       "      <td>318.93</td>\n",
       "      <td>323.42</td>\n",
       "      <td>37968664</td>\n",
       "      <td>119.00</td>\n",
       "      <td>119.8500</td>\n",
       "      <td>117.8300</td>\n",
       "      <td>118.75</td>\n",
       "      <td>9662211</td>\n",
       "      <td>...</td>\n",
       "      <td>306.55</td>\n",
       "      <td>308.130</td>\n",
       "      <td>305.10</td>\n",
       "      <td>308.1300</td>\n",
       "      <td>66042497</td>\n",
       "      <td>38.77</td>\n",
       "      <td>38.90</td>\n",
       "      <td>36.18</td>\n",
       "      <td>38.34</td>\n",
       "      <td>35713611</td>\n",
       "    </tr>\n",
       "    <tr>\n",
       "      <th>2020-06-03 00:00:00-04:00</th>\n",
       "      <td>324.660</td>\n",
       "      <td>326.10</td>\n",
       "      <td>322.30</td>\n",
       "      <td>325.09</td>\n",
       "      <td>45506089</td>\n",
       "      <td>119.99</td>\n",
       "      <td>122.4500</td>\n",
       "      <td>119.3201</td>\n",
       "      <td>122.16</td>\n",
       "      <td>11670886</td>\n",
       "      <td>...</td>\n",
       "      <td>310.24</td>\n",
       "      <td>313.220</td>\n",
       "      <td>309.94</td>\n",
       "      <td>312.2117</td>\n",
       "      <td>79223813</td>\n",
       "      <td>38.44</td>\n",
       "      <td>39.99</td>\n",
       "      <td>38.00</td>\n",
       "      <td>39.86</td>\n",
       "      <td>23688267</td>\n",
       "    </tr>\n",
       "    <tr>\n",
       "      <th>2020-06-04 00:00:00-04:00</th>\n",
       "      <td>324.390</td>\n",
       "      <td>325.62</td>\n",
       "      <td>320.78</td>\n",
       "      <td>322.25</td>\n",
       "      <td>38930216</td>\n",
       "      <td>121.95</td>\n",
       "      <td>124.5000</td>\n",
       "      <td>121.8500</td>\n",
       "      <td>123.69</td>\n",
       "      <td>13136485</td>\n",
       "      <td>...</td>\n",
       "      <td>311.11</td>\n",
       "      <td>313.000</td>\n",
       "      <td>309.08</td>\n",
       "      <td>311.3100</td>\n",
       "      <td>68304792</td>\n",
       "      <td>40.00</td>\n",
       "      <td>40.07</td>\n",
       "      <td>37.67</td>\n",
       "      <td>37.94</td>\n",
       "      <td>36764852</td>\n",
       "    </tr>\n",
       "  </tbody>\n",
       "</table>\n",
       "<p>5 rows × 30 columns</p>\n",
       "</div>"
      ],
      "text/plain": [
       "                              AAPL                                       DIS  \\\n",
       "                              open    high     low   close    volume    open   \n",
       "time                                                                           \n",
       "2020-05-29 00:00:00-04:00  319.250  321.15  316.47  318.76  56248101  116.19   \n",
       "2020-06-01 00:00:00-04:00  317.750  322.35  317.21  321.76  37704502  117.26   \n",
       "2020-06-02 00:00:00-04:00  320.745  323.44  318.93  323.42  37968664  119.00   \n",
       "2020-06-03 00:00:00-04:00  324.660  326.10  322.30  325.09  45506089  119.99   \n",
       "2020-06-04 00:00:00-04:00  324.390  325.62  320.78  322.25  38930216  121.95   \n",
       "\n",
       "                                                                 ...     SPY  \\\n",
       "                               high       low   close    volume  ...    open   \n",
       "time                                                             ...           \n",
       "2020-05-29 00:00:00-04:00  117.7500  114.1200  117.26  15610366  ...  302.46   \n",
       "2020-06-01 00:00:00-04:00  119.6498  116.9300  118.79  10142973  ...  303.62   \n",
       "2020-06-02 00:00:00-04:00  119.8500  117.8300  118.75   9662211  ...  306.55   \n",
       "2020-06-03 00:00:00-04:00  122.4500  119.3201  122.16  11670886  ...  310.24   \n",
       "2020-06-04 00:00:00-04:00  124.5000  121.8500  123.69  13136485  ...  311.11   \n",
       "\n",
       "                                                                  WORK         \\\n",
       "                              high     low     close     volume   open   high   \n",
       "time                                                                            \n",
       "2020-05-29 00:00:00-04:00  304.960  299.47  304.1600  101356845  33.74  35.11   \n",
       "2020-06-01 00:00:00-04:00  306.205  303.06  305.5800   46186733  35.58  37.34   \n",
       "2020-06-02 00:00:00-04:00  308.130  305.10  308.1300   66042497  38.77  38.90   \n",
       "2020-06-03 00:00:00-04:00  313.220  309.94  312.2117   79223813  38.44  39.99   \n",
       "2020-06-04 00:00:00-04:00  313.000  309.08  311.3100   68304792  40.00  40.07   \n",
       "\n",
       "                                                   \n",
       "                             low  close    volume  \n",
       "time                                               \n",
       "2020-05-29 00:00:00-04:00  33.27  35.08  18548229  \n",
       "2020-06-01 00:00:00-04:00  35.23  37.18  17899594  \n",
       "2020-06-02 00:00:00-04:00  36.18  38.34  35713611  \n",
       "2020-06-03 00:00:00-04:00  38.00  39.86  23688267  \n",
       "2020-06-04 00:00:00-04:00  37.67  37.94  36764852  \n",
       "\n",
       "[5 rows x 30 columns]"
      ]
     },
     "execution_count": 21,
     "metadata": {},
     "output_type": "execute_result"
    }
   ],
   "source": [
    "tickers = ['SPY', 'LUV', 'DIS', 'AAPL', 'SBUX', 'WORK']\n",
    "\n",
    "start_date = pd.Timestamp(\"2018-01-01\", tz=\"America/New_York\").isoformat()\n",
    "end_date = pd.Timestamp(\"2020-06-04\", tz=\"America/New_York\").isoformat()\n",
    "\n",
    "stock_data = api.get_barset(tickers, \"day\", start=start_date, end=end_date, limit=5).df\n",
    "stock_data.head()"
   ]
  },
  {
   "cell_type": "markdown",
   "metadata": {},
   "source": [
    "### Create a new DataFrame and store the closing prices of each stock."
   ]
  },
  {
   "cell_type": "code",
   "execution_count": 24,
   "metadata": {},
   "outputs": [
    {
     "ename": "AttributeError",
     "evalue": "'Index' object has no attribute 'date'",
     "output_type": "error",
     "traceback": [
      "\u001b[1;31m---------------------------------------------------------------------------\u001b[0m",
      "\u001b[1;31mAttributeError\u001b[0m                            Traceback (most recent call last)",
      "\u001b[1;32m<ipython-input-24-38da06a8d3b8>\u001b[0m in \u001b[0;36m<module>\u001b[1;34m\u001b[0m\n\u001b[0;32m     15\u001b[0m \u001b[1;33m\u001b[0m\u001b[0m\n\u001b[0;32m     16\u001b[0m \u001b[1;31m# Drop the time component of the date\u001b[0m\u001b[1;33m\u001b[0m\u001b[1;33m\u001b[0m\u001b[1;33m\u001b[0m\u001b[0m\n\u001b[1;32m---> 17\u001b[1;33m \u001b[0mclose_df\u001b[0m\u001b[1;33m.\u001b[0m\u001b[0mindex\u001b[0m \u001b[1;33m=\u001b[0m \u001b[0mclose_price_df\u001b[0m\u001b[1;33m.\u001b[0m\u001b[0mindex\u001b[0m\u001b[1;33m.\u001b[0m\u001b[0mdate\u001b[0m\u001b[1;33m\u001b[0m\u001b[1;33m\u001b[0m\u001b[0m\n\u001b[0m\u001b[0;32m     18\u001b[0m \u001b[1;33m\u001b[0m\u001b[0m\n\u001b[0;32m     19\u001b[0m \u001b[1;31m# Display sample data\u001b[0m\u001b[1;33m\u001b[0m\u001b[1;33m\u001b[0m\u001b[1;33m\u001b[0m\u001b[0m\n",
      "\u001b[1;31mAttributeError\u001b[0m: 'Index' object has no attribute 'date'"
     ]
    }
   ],
   "source": [
    "# Create and empty DataFrame for closing prices\n",
    "close_price_df = pd.DataFrame()\n",
    "close_df = pd.DataFrame()\n",
    "\n",
    "# Fetch the closing prices for all the tickers\n",
    "for ticker in tickers:\n",
    "    close_df[ticker] = stock_data[ticker]['close']\n",
    "\n",
    "# close_price_df['SPY'] = stock_data['SPY']['close']\n",
    "# close_price_df['LUV'] = stock_data['LUV']['close']\n",
    "# close_price_df['DIS'] = stock_data['DIS']['close']\n",
    "# close_price_df['AAPL'] = stock_data['AAPL']['close']\n",
    "# close_price_df['SBUX'] = stock_data['SBUX']['close']\n",
    "# close_price_df['WORK'] = stock_data['WORK']['close']\n",
    "\n",
    "# Drop the time component of the date\n",
    "close_df.index = close_price_df.index.date\n",
    "\n",
    "# Display sample data\n",
    "close_df.head()"
   ]
  },
  {
   "cell_type": "markdown",
   "metadata": {},
   "source": [
    "### Calculate the daily returns for each stock using the `pct_change()` function"
   ]
  },
  {
   "cell_type": "code",
   "execution_count": 19,
   "metadata": {},
   "outputs": [
    {
     "data": {
      "text/html": [
       "<div>\n",
       "<style scoped>\n",
       "    .dataframe tbody tr th:only-of-type {\n",
       "        vertical-align: middle;\n",
       "    }\n",
       "\n",
       "    .dataframe tbody tr th {\n",
       "        vertical-align: top;\n",
       "    }\n",
       "\n",
       "    .dataframe thead th {\n",
       "        text-align: right;\n",
       "    }\n",
       "</style>\n",
       "<table border=\"1\" class=\"dataframe\">\n",
       "  <thead>\n",
       "    <tr style=\"text-align: right;\">\n",
       "      <th></th>\n",
       "      <th>SPY</th>\n",
       "      <th>LUV</th>\n",
       "      <th>DIS</th>\n",
       "      <th>AAPL</th>\n",
       "      <th>SBUX</th>\n",
       "      <th>WORK</th>\n",
       "    </tr>\n",
       "  </thead>\n",
       "  <tbody>\n",
       "    <tr>\n",
       "      <th>2020-06-01</th>\n",
       "      <td>0.004669</td>\n",
       "      <td>0.047337</td>\n",
       "      <td>0.013048</td>\n",
       "      <td>0.009411</td>\n",
       "      <td>0.006036</td>\n",
       "      <td>0.059863</td>\n",
       "    </tr>\n",
       "    <tr>\n",
       "      <th>2020-06-02</th>\n",
       "      <td>0.008345</td>\n",
       "      <td>0.025275</td>\n",
       "      <td>-0.000337</td>\n",
       "      <td>0.005159</td>\n",
       "      <td>-0.007021</td>\n",
       "      <td>0.031200</td>\n",
       "    </tr>\n",
       "    <tr>\n",
       "      <th>2020-06-03</th>\n",
       "      <td>0.013247</td>\n",
       "      <td>0.056265</td>\n",
       "      <td>0.028716</td>\n",
       "      <td>0.005164</td>\n",
       "      <td>0.023139</td>\n",
       "      <td>0.039645</td>\n",
       "    </tr>\n",
       "    <tr>\n",
       "      <th>2020-06-04</th>\n",
       "      <td>-0.002888</td>\n",
       "      <td>0.051483</td>\n",
       "      <td>0.012525</td>\n",
       "      <td>-0.008736</td>\n",
       "      <td>-0.010680</td>\n",
       "      <td>-0.048169</td>\n",
       "    </tr>\n",
       "  </tbody>\n",
       "</table>\n",
       "</div>"
      ],
      "text/plain": [
       "                 SPY       LUV       DIS      AAPL      SBUX      WORK\n",
       "2020-06-01  0.004669  0.047337  0.013048  0.009411  0.006036  0.059863\n",
       "2020-06-02  0.008345  0.025275 -0.000337  0.005159 -0.007021  0.031200\n",
       "2020-06-03  0.013247  0.056265  0.028716  0.005164  0.023139  0.039645\n",
       "2020-06-04 -0.002888  0.051483  0.012525 -0.008736 -0.010680 -0.048169"
      ]
     },
     "execution_count": 19,
     "metadata": {},
     "output_type": "execute_result"
    }
   ],
   "source": [
    "# Compute daily returns\n",
    "daily_returns = close_price_df.pct_change().dropna()\n",
    "\n",
    "# Display sample data\n",
    "daily_returns"
   ]
  },
  {
   "cell_type": "markdown",
   "metadata": {},
   "source": [
    "### Plot Distributions"
   ]
  },
  {
   "cell_type": "code",
   "execution_count": 10,
   "metadata": {},
   "outputs": [
    {
     "data": {
      "image/png": "[encoded data removed]",
      "text/plain": [
       "<Figure size 432x288 with 1 Axes>"
      ]
     },
     "metadata": {
      "needs_background": "light"
     },
     "output_type": "display_data"
    }
   ],
   "source": [
    "# Visualize the distribution of daily returns across all stocks using a histogram plot\n",
    "# Hint: To make the plot easier to read, set the alpha arguement to 0.5\n",
    "axes = daily_returns.plot.hist(bins=12, alpha=0.5)"
   ]
  },
  {
   "cell_type": "code",
   "execution_count": 11,
   "metadata": {},
   "outputs": [
    {
     "data": {
      "text/plain": [
       "<AxesSubplot:ylabel='Density'>"
      ]
     },
     "execution_count": 11,
     "metadata": {},
     "output_type": "execute_result"
    },
    {
     "data": {
      "image/png": "[encoded data removed]",
      "text/plain": [
       "<Figure size 432x288 with 1 Axes>"
      ]
     },
     "metadata": {
      "needs_background": "light"
     },
     "output_type": "display_data"
    }
   ],
   "source": [
    "# Visualize the distribution of daily returns across all stocks using a density plot\n",
    "daily_returns.plot.kde(bw_method=0.3)"
   ]
  },
  {
   "cell_type": "code",
   "execution_count": null,
   "metadata": {},
   "outputs": [],
   "source": []
  }
 ],
 "metadata": {
  "kernel_info": {
   "name": "python3"
  },
  "kernelspec": {
   "display_name": "Python 3",
   "language": "python",
   "name": "python3"
  },
  "language_info": {
   "codemirror_mode": {
    "name": "ipython",
    "version": 3
   },
   "file_extension": ".py",
   "mimetype": "text/x-python",
   "name": "python",
   "nbconvert_exporter": "python",
   "pygments_lexer": "ipython3",
   "version": "3.7.1"
  },
  "nteract": {
   "version": "0.12.3"
  }
 },
 "nbformat": 4,
 "nbformat_minor": 4
}
