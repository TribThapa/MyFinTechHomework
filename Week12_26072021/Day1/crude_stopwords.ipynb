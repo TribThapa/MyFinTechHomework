{
 "cells": [
  {
   "cell_type": "markdown",
   "metadata": {},
   "source": [
    "# Students Do: Crude Stopwords\n",
    "For this activity, create a function that takes in an article and outputs a list of words that is free of stopwords and any non-letter characters. After looking at the results, define your own list of stopwords to add to the NLTK default set. "
   ]
  },
  {
   "cell_type": "code",
   "execution_count": 4,
   "metadata": {},
   "outputs": [
    {
     "name": "stderr",
     "output_type": "stream",
     "text": [
      "[nltk_data] Downloading package stopwords to\n",
      "[nltk_data]     C:\\Users\\TribThapa\\AppData\\Roaming\\nltk_data...\n",
      "[nltk_data]   Package stopwords is already up-to-date!\n"
     ]
    }
   ],
   "source": [
    "from nltk.corpus import reuters, stopwords\n",
    "from nltk.tokenize import word_tokenize\n",
    "import nltk\n",
    "nltk.download('stopwords')\n",
    "import re"
   ]
  },
  {
   "cell_type": "code",
   "execution_count": 2,
   "metadata": {},
   "outputs": [],
   "source": [
    "crude_article = reuters.raw(fileids=reuters.fileids(categories='crude')[2])"
   ]
  },
  {
   "cell_type": "code",
   "execution_count": 3,
   "metadata": {},
   "outputs": [
    {
     "name": "stdout",
     "output_type": "stream",
     "text": [
      "TURKEY CALLS FOR DIALOGUE TO SOLVE DISPUTE\n",
      "  Turkey said today its disputes with\n",
      "  Greece, including rights on the continental shelf in the Aegean\n",
      "  Sea, should be solved through negotiations.\n",
      "      A Foreign Ministry statement said the latest crisis between\n",
      "  the two NATO members stemmed from the continental shelf dispute\n",
      "  and an agreement on this issue would effect the security,\n",
      "  economy and other rights of both countries.\n",
      "      \"As the issue is basicly political, a solution can only be\n",
      "  found by bilateral negotiations,\" the statement said. Greece has\n",
      "  repeatedly said the issue was legal and could be solved at the\n",
      "  International Court of Justice.\n",
      "      The two countries approached armed confrontation last month\n",
      "  after Greece announced it planned oil exploration work in the\n",
      "  Aegean and Turkey said it would also search for oil.\n",
      "      A face-off was averted when Turkey confined its research to\n",
      "  territorrial waters. \"The latest crises created an historic\n",
      "  opportunity to solve the disputes between the two countries,\"\n",
      "  the Foreign Ministry statement said.\n",
      "      Turkey's ambassador in Athens, Nazmi Akiman, was due to\n",
      "  meet Prime Minister Andreas Papandreou today for the Greek\n",
      "  reply to a message sent last week by Turkish Prime Minister\n",
      "  Turgut Ozal. The contents of the message were not disclosed.\n",
      "  \n",
      "\n",
      "\n"
     ]
    }
   ],
   "source": [
    "print(crude_article)"
   ]
  },
  {
   "cell_type": "code",
   "execution_count": 28,
   "metadata": {},
   "outputs": [],
   "source": [
    "# Define stopwording and regex \n",
    "# Complete a function called clean_text that takes in a document and returns a list of words that does not include stopwords or any non-letter characters. \n",
    "\n",
    "def clean_text(article):\n",
    "\n",
    "    regex = re.compile(\"[^a-zA-Z ]\") # removing spaces \n",
    "    \n",
    "    sw = set(stopwords.words('english')) # removing The, If, When, it\n",
    "    \n",
    "    re_clean = regex.sub('', article) # replace characters above with spaces\n",
    "    \n",
    "    words = word_tokenize(re_clean)\n",
    "\n",
    "    result = [word.lower() for word in words if word.lower() not in sw]\n",
    "    \n",
    "    return result\n"
   ]
  },
  {
   "cell_type": "code",
   "execution_count": 30,
   "metadata": {},
   "outputs": [],
   "source": [
    "# Store result of running clean_text\n",
    "clean_test_result = clean_text(crude_article)\n",
    "\n",
    "#clean_test_result"
   ]
  },
  {
   "cell_type": "code",
   "execution_count": 33,
   "metadata": {},
   "outputs": [
    {
     "name": "stdout",
     "output_type": "stream",
     "text": [
      "124\n",
      "\n",
      "{'disputes', 'ambassador', 'also', 'opportunity', 'reply', 'rights', 'legal', 'crises', 'ministry', 'nato', 'due', 'sent', 'latest', 'two', 'search', 'waters', 'announced', 'turgut', 'could', 'negotiations', 'akiman', 'created', 'found', 'international', 'approached', 'territorrial', 'week', 'nazmi', 'faceoff', 'confined', 'andreas', 'aegean', 'oil', 'papandreou', 'continental', 'economy', 'turkeys', 'minister', 'solution', 'foreign', 'last', 'political', 'athens', 'countries', 'work', 'today', 'crisis', 'repeatedly', 'court', 'exploration', 'ozal', 'justice', 'meet', 'security', 'historic', 'stemmed', 'effect', 'planned', 'greece', 'issue', 'calls', 'bilateral', 'including', 'message', 'agreement', 'prime', 'greek', 'confrontation', 'solved', 'solve', 'turkish', 'shelf', 'month', 'would', 'averted', 'members', 'dialogue', 'basicly', 'turkey', 'research', 'disclosed', 'sea', 'armed', 'contents', 'dispute', 'said', 'statement'}\n"
     ]
    }
   ],
   "source": [
    "# Print unique words (a set of the result)\n",
    "print(len(clean_test_result))\n",
    "print()\n",
    "print(set(clean_test_result))\n"
   ]
  },
  {
   "cell_type": "code",
   "execution_count": 71,
   "metadata": {},
   "outputs": [],
   "source": [
    "# Second iteration, with custom stopwords\n",
    "def clean_text(article):\n",
    "    regex2 = re.compile(\"turk \")\n",
    "    \n",
    "    sw = set(stopwords.words('english'))\n",
    "    \n",
    "    clean = regex2.sub('', article)\n",
    "    \n",
    "    words2 = word_tokenize(clean)\n",
    "    \n",
    "    result = [word.lower() for word in words2 if word.lower() not in sw]\n",
    "    \n",
    "    return result\n"
   ]
  },
  {
   "cell_type": "code",
   "execution_count": 72,
   "metadata": {},
   "outputs": [
    {
     "data": {
      "text/plain": [
       "{\"''\",\n",
       " \"'s\",\n",
       " ',',\n",
       " '.',\n",
       " '``',\n",
       " 'aegean',\n",
       " 'agreement',\n",
       " 'akiman',\n",
       " 'also',\n",
       " 'ambassador',\n",
       " 'andreas',\n",
       " 'announced',\n",
       " 'approached',\n",
       " 'armed',\n",
       " 'athens',\n",
       " 'averted',\n",
       " 'basicly',\n",
       " 'bilateral',\n",
       " 'calls',\n",
       " 'confined',\n",
       " 'confrontation',\n",
       " 'contents',\n",
       " 'continental',\n",
       " 'could',\n",
       " 'countries',\n",
       " 'court',\n",
       " 'created',\n",
       " 'crises',\n",
       " 'crisis',\n",
       " 'dialogue',\n",
       " 'disclosed',\n",
       " 'dispute',\n",
       " 'disputes',\n",
       " 'due',\n",
       " 'economy',\n",
       " 'effect',\n",
       " 'exploration',\n",
       " 'face-off',\n",
       " 'foreign',\n",
       " 'found',\n",
       " 'greece',\n",
       " 'greek',\n",
       " 'historic',\n",
       " 'including',\n",
       " 'international',\n",
       " 'issue',\n",
       " 'justice',\n",
       " 'last',\n",
       " 'latest',\n",
       " 'legal',\n",
       " 'meet',\n",
       " 'members',\n",
       " 'message',\n",
       " 'minister',\n",
       " 'ministry',\n",
       " 'month',\n",
       " 'nato',\n",
       " 'nazmi',\n",
       " 'negotiations',\n",
       " 'oil',\n",
       " 'opportunity',\n",
       " 'ozal',\n",
       " 'papandreou',\n",
       " 'planned',\n",
       " 'political',\n",
       " 'prime',\n",
       " 'repeatedly',\n",
       " 'reply',\n",
       " 'research',\n",
       " 'rights',\n",
       " 'said',\n",
       " 'sea',\n",
       " 'search',\n",
       " 'security',\n",
       " 'sent',\n",
       " 'shelf',\n",
       " 'solution',\n",
       " 'solve',\n",
       " 'solved',\n",
       " 'statement',\n",
       " 'stemmed',\n",
       " 'territorrial',\n",
       " 'today',\n",
       " 'turgut',\n",
       " 'turkey',\n",
       " 'turkish',\n",
       " 'two',\n",
       " 'waters',\n",
       " 'week',\n",
       " 'work',\n",
       " 'would'}"
      ]
     },
     "execution_count": 72,
     "metadata": {},
     "output_type": "execute_result"
    }
   ],
   "source": [
    "# Store result of running clean_text\n",
    "clean_text_2 = clean_text(crude_article)\n",
    "\n",
    "# Print unique words (a set of the result)\n",
    "set(clean_text_2)"
   ]
  }
 ],
 "metadata": {
  "file_extension": ".py",
  "kernelspec": {
   "display_name": "Python 3",
   "language": "python",
   "name": "python3"
  },
  "language_info": {
   "codemirror_mode": {
    "name": "ipython",
    "version": 3
   },
   "file_extension": ".py",
   "mimetype": "text/x-python",
   "name": "python",
   "nbconvert_exporter": "python",
   "pygments_lexer": "ipython3",
   "version": "3.8.8"
  },
  "mimetype": "text/x-python",
  "name": "python",
  "npconvert_exporter": "python",
  "pygments_lexer": "ipython3",
  "version": 3
 },
 "nbformat": 4,
 "nbformat_minor": 4
}
