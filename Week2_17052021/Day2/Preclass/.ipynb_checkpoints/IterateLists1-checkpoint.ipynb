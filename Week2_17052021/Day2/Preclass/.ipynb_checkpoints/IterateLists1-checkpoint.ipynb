{
 "cells": [
  {
   "cell_type": "code",
   "execution_count": 23,
   "metadata": {},
   "outputs": [
    {
     "name": "stdout",
     "output_type": "stream",
     "text": [
      "22\n",
      "10\n",
      "30\n",
      "45\n",
      "54\n",
      "60\n",
      "56\n"
     ]
    }
   ],
   "source": [
    "# Initialise the metric variables\n",
    "count = 0\n",
    "total = 0\n",
    "average = 0\n",
    "minimum = 0\n",
    "maximum = 0\n",
    "\n",
    "#List of daily tips\n",
    "cash_tips = [22, 10, 30, 45, 54, 60, 56]\n",
    "\n",
    "#Showcase every tip in the list\n",
    "for tip in cash_tips:\n",
    "    print(tip)"
   ]
  },
  {
   "cell_type": "code",
   "execution_count": 24,
   "metadata": {},
   "outputs": [
    {
     "name": "stdout",
     "output_type": "stream",
     "text": [
      "22\n",
      "1\n",
      "32\n",
      "2\n",
      "62\n",
      "3\n",
      "107\n",
      "4\n",
      "161\n",
      "5\n",
      "221\n",
      "6\n",
      "277\n",
      "7\n",
      "---------Summary statistics---------------\n",
      "Number of Days = 7\n",
      "Total tips = 277\n",
      "Daily Average = 39.57\n",
      "Least amount of Tips = 10\n",
      "Maximum amount of Tips = 56\n"
     ]
    }
   ],
   "source": [
    "#Iterate over each element of the list to determine metrics\n",
    "for tip in cash_tips:\n",
    "    \n",
    "    #Cumulatively sum up the total and count of tips\n",
    "    total += tip\n",
    "    print(total)\n",
    "    count += 1\n",
    "    print(count)\n",
    "    \n",
    "    #Logic to determine minimum and maximum values\n",
    "    if minimum == 0:\n",
    "        minimum = tip\n",
    "    elif tip < minimum:\n",
    "        minimum = tip\n",
    "    elif tip > minimum:\n",
    "        maximum = tip\n",
    "\n",
    "#Calculate the average\n",
    "average = round(total/count, 2)\n",
    "\n",
    "#Print out the summary statistics\n",
    "print(\"---------Summary statistics---------------\")\n",
    "print(f\"Number of Days = {count}\")\n",
    "print(f\"Total tips = {total}\")\n",
    "print(f\"Daily Average = {average}\")\n",
    "print(f\"Least amount of Tips = {minimum}\")\n",
    "print(f\"Maximum amount of Tips = {maximum}\")"
   ]
  },
  {
   "cell_type": "code",
   "execution_count": null,
   "metadata": {},
   "outputs": [],
   "source": []
  },
  {
   "cell_type": "code",
   "execution_count": null,
   "metadata": {},
   "outputs": [],
   "source": []
  }
 ],
 "metadata": {
  "kernelspec": {
   "display_name": "Python 3",
   "language": "python",
   "name": "python3"
  },
  "language_info": {
   "codemirror_mode": {
    "name": "ipython",
    "version": 3
   },
   "file_extension": ".py",
   "mimetype": "text/x-python",
   "name": "python",
   "nbconvert_exporter": "python",
   "pygments_lexer": "ipython3",
   "version": "3.7.1"
  }
 },
 "nbformat": 4,
 "nbformat_minor": 2
}
