{
 "cells": [
  {
   "cell_type": "markdown",
   "metadata": {},
   "source": [
    "# Activating Your First Artificial Neuron"
   ]
  },
  {
   "cell_type": "code",
   "execution_count": 1,
   "metadata": {},
   "outputs": [],
   "source": [
    "# Initial imports\n",
    "import pandas as pd\n",
    "import numpy as np\n",
    "from sklearn.datasets import make_blobs, make_moons\n",
    "from sklearn.model_selection import train_test_split\n",
    "from sklearn.preprocessing import StandardScaler\n",
    "from tensorflow.keras.models import Sequential\n",
    "from tensorflow.keras.layers import Dense\n",
    "\n",
    "%matplotlib inline"
   ]
  },
  {
   "cell_type": "code",
   "execution_count": 40,
   "metadata": {},
   "outputs": [
    {
     "name": "stdout",
     "output_type": "stream",
     "text": [
      "1.19.5\n"
     ]
    }
   ],
   "source": [
    "print (np.version.version)"
   ]
  },
  {
   "cell_type": "markdown",
   "metadata": {},
   "source": [
    "## Using a Single Neuron for Binary Classification\n",
    "\n",
    "### Creating Dummy Data"
   ]
  },
  {
   "cell_type": "code",
   "execution_count": 2,
   "metadata": {},
   "outputs": [],
   "source": [
    "# Generate 1000 demo data samples with 2 features and two centers\n",
    "X, y = make_blobs(n_samples=1000,\n",
    "                  centers=2,\n",
    "                  n_features=2,\n",
    "                  random_state=78)"
   ]
  },
  {
   "cell_type": "code",
   "execution_count": 3,
   "metadata": {},
   "outputs": [
    {
     "data": {
      "text/plain": [
       "(1000, 1)"
      ]
     },
     "execution_count": 3,
     "metadata": {},
     "output_type": "execute_result"
    }
   ],
   "source": [
    "# Transforming y to a vertical vector\n",
    "y = y.reshape(-1, 1)\n",
    "\n",
    "y.shape"
   ]
  },
  {
   "cell_type": "code",
   "execution_count": 4,
   "metadata": {},
   "outputs": [
    {
     "data": {
      "text/html": [
       "<div>\n",
       "<style scoped>\n",
       "    .dataframe tbody tr th:only-of-type {\n",
       "        vertical-align: middle;\n",
       "    }\n",
       "\n",
       "    .dataframe tbody tr th {\n",
       "        vertical-align: top;\n",
       "    }\n",
       "\n",
       "    .dataframe thead th {\n",
       "        text-align: right;\n",
       "    }\n",
       "</style>\n",
       "<table border=\"1\" class=\"dataframe\">\n",
       "  <thead>\n",
       "    <tr style=\"text-align: right;\">\n",
       "      <th></th>\n",
       "      <th>Feature 1</th>\n",
       "      <th>Feature 2</th>\n",
       "      <th>Target</th>\n",
       "    </tr>\n",
       "  </thead>\n",
       "  <tbody>\n",
       "    <tr>\n",
       "      <th>0</th>\n",
       "      <td>5.478098</td>\n",
       "      <td>7.203714</td>\n",
       "      <td>1</td>\n",
       "    </tr>\n",
       "    <tr>\n",
       "      <th>1</th>\n",
       "      <td>-8.428483</td>\n",
       "      <td>4.121889</td>\n",
       "      <td>0</td>\n",
       "    </tr>\n",
       "    <tr>\n",
       "      <th>2</th>\n",
       "      <td>-7.905447</td>\n",
       "      <td>3.323639</td>\n",
       "      <td>0</td>\n",
       "    </tr>\n",
       "    <tr>\n",
       "      <th>3</th>\n",
       "      <td>6.411041</td>\n",
       "      <td>5.523013</td>\n",
       "      <td>1</td>\n",
       "    </tr>\n",
       "    <tr>\n",
       "      <th>4</th>\n",
       "      <td>7.288599</td>\n",
       "      <td>6.171226</td>\n",
       "      <td>1</td>\n",
       "    </tr>\n",
       "  </tbody>\n",
       "</table>\n",
       "</div>"
      ],
      "text/plain": [
       "   Feature 1  Feature 2  Target\n",
       "0   5.478098   7.203714       1\n",
       "1  -8.428483   4.121889       0\n",
       "2  -7.905447   3.323639       0\n",
       "3   6.411041   5.523013       1\n",
       "4   7.288599   6.171226       1"
      ]
     },
     "execution_count": 4,
     "metadata": {},
     "output_type": "execute_result"
    }
   ],
   "source": [
    "# Creating a DataFrame with the dummy data\n",
    "df = pd.DataFrame(X,\n",
    "                  columns=[\"Feature 1\", \"Feature 2\"])\n",
    "\n",
    "df[\"Target\"] = y\n",
    "\n",
    "df.head()"
   ]
  },
  {
   "cell_type": "code",
   "execution_count": 5,
   "metadata": {},
   "outputs": [
    {
     "data": {
      "text/plain": [
       "<AxesSubplot:xlabel='Feature 1', ylabel='Feature 2'>"
      ]
     },
     "execution_count": 5,
     "metadata": {},
     "output_type": "execute_result"
    },
    {
     "data": {
      "image/png": "[encoded data removed]",
      "text/plain": [
       "<Figure size 432x288 with 2 Axes>"
      ]
     },
     "metadata": {
      "needs_background": "light"
     },
     "output_type": "display_data"
    }
   ],
   "source": [
    "# Plotting the dummy data\n",
    "df.plot.scatter(x=\"Feature 1\",\n",
    "                y=\"Feature 2\",\n",
    "                c=\"Target\",\n",
    "                colormap=\"winter\")"
   ]
  },
  {
   "cell_type": "markdown",
   "metadata": {},
   "source": [
    " ### Data Preprocessing\n",
    "\n",
    " Use `train_test_split` to create training and testing data."
   ]
  },
  {
   "cell_type": "code",
   "execution_count": 6,
   "metadata": {},
   "outputs": [],
   "source": [
    "# Create training and testing datasets\n",
    "X_train, X_test, y_train, y_test = train_test_split(X,\n",
    "                                                    y,\n",
    "                                                    random_state=78)"
   ]
  },
  {
   "cell_type": "markdown",
   "metadata": {},
   "source": [
    " Scale the data using the `StandarScaler`."
   ]
  },
  {
   "cell_type": "code",
   "execution_count": 7,
   "metadata": {},
   "outputs": [],
   "source": [
    "# Create scaler instance\n",
    "X_scaler = StandardScaler()"
   ]
  },
  {
   "cell_type": "code",
   "execution_count": 8,
   "metadata": {},
   "outputs": [
    {
     "data": {
      "text/plain": [
       "StandardScaler()"
      ]
     },
     "execution_count": 8,
     "metadata": {},
     "output_type": "execute_result"
    }
   ],
   "source": [
    "# Fit the scaler\n",
    "X_scaler.fit(X_train)"
   ]
  },
  {
   "cell_type": "code",
   "execution_count": 9,
   "metadata": {},
   "outputs": [],
   "source": [
    "# Scale the data\n",
    "X_train_scaled = X_scaler.transform(X_train)\n",
    "X_test_scaled = X_scaler.transform(X_test)"
   ]
  },
  {
   "cell_type": "markdown",
   "metadata": {},
   "source": [
    " ### Neural Network Model Creation"
   ]
  },
  {
   "cell_type": "code",
   "execution_count": 10,
   "metadata": {},
   "outputs": [],
   "source": [
    "# Create a sequential model\n",
    "neuron = Sequential()"
   ]
  },
  {
   "cell_type": "markdown",
   "metadata": {},
   "source": [
    "The initial step is to add the first layer of our neural network.\n",
    "\n",
    "![First Layer](tensorflow-neuron-layer-1.png)"
   ]
  },
  {
   "cell_type": "code",
   "execution_count": 11,
   "metadata": {},
   "outputs": [],
   "source": [
    "# First layer\n",
    "number_input = 2\n",
    "\n",
    "number_hidden_nodes = 1\n",
    "\n",
    "neuron.add(Dense(units=number_hidden_nodes,\n",
    "                 activation=\"relu\",\n",
    "                 input_dim=number_input))"
   ]
  },
  {
   "cell_type": "markdown",
   "metadata": {},
   "source": [
    "We finish creating our neural network by adding the output layer.\n",
    "\n",
    "![Output layer](tensorflow-neuron-output-layer.png)"
   ]
  },
  {
   "cell_type": "code",
   "execution_count": 12,
   "metadata": {},
   "outputs": [],
   "source": [
    "# Output layer\n",
    "number_classes = 1\n",
    "\n",
    "neuron.add(Dense(units=number_classes,\n",
    "                 activation=\"sigmoid\"))"
   ]
  },
  {
   "cell_type": "code",
   "execution_count": 13,
   "metadata": {},
   "outputs": [
    {
     "name": "stdout",
     "output_type": "stream",
     "text": [
      "Model: \"sequential\"\n",
      "_________________________________________________________________\n",
      "Layer (type)                 Output Shape              Param #   \n",
      "=================================================================\n",
      "dense (Dense)                (None, 1)                 3         \n",
      "_________________________________________________________________\n",
      "dense_1 (Dense)              (None, 1)                 2         \n",
      "=================================================================\n",
      "Total params: 5\n",
      "Trainable params: 5\n",
      "Non-trainable params: 0\n",
      "_________________________________________________________________\n"
     ]
    }
   ],
   "source": [
    "# Model summary\n",
    "neuron.summary()"
   ]
  },
  {
   "cell_type": "markdown",
   "metadata": {},
   "source": [
    " ### Compile the Model"
   ]
  },
  {
   "cell_type": "code",
   "execution_count": 14,
   "metadata": {},
   "outputs": [],
   "source": [
    "# Compile model\n",
    "neuron.compile(loss=\"binary_crossentropy\",\n",
    "               optimizer=\"adam\",\n",
    "               metrics=[\"accuracy\"])"
   ]
  },
  {
   "cell_type": "markdown",
   "metadata": {},
   "source": [
    " ### Fit the Model"
   ]
  },
  {
   "cell_type": "code",
   "execution_count": 15,
   "metadata": {},
   "outputs": [
    {
     "name": "stdout",
     "output_type": "stream",
     "text": [
      "Epoch 1/100\n",
      "24/24 [==============================] - 5s 8ms/step - loss: 0.7546 - accuracy: 0.2747\n",
      "Epoch 2/100\n",
      "24/24 [==============================] - 0s 4ms/step - loss: 0.7444 - accuracy: 0.2747\n",
      "Epoch 3/100\n",
      "24/24 [==============================] - 0s 3ms/step - loss: 0.7359 - accuracy: 0.2973\n",
      "Epoch 4/100\n",
      "24/24 [==============================] - 0s 4ms/step - loss: 0.7286 - accuracy: 0.3053\n",
      "Epoch 5/100\n",
      "24/24 [==============================] - 0s 7ms/step - loss: 0.7221 - accuracy: 0.3240\n",
      "Epoch 6/100\n",
      "24/24 [==============================] - 0s 4ms/step - loss: 0.7169 - accuracy: 0.3387\n",
      "Epoch 7/100\n",
      "24/24 [==============================] - 0s 5ms/step - loss: 0.7123 - accuracy: 0.3560\n",
      "Epoch 8/100\n",
      "24/24 [==============================] - 0s 4ms/step - loss: 0.7084 - accuracy: 0.3760\n",
      "Epoch 9/100\n",
      "24/24 [==============================] - 0s 3ms/step - loss: 0.7050 - accuracy: 0.3973\n",
      "Epoch 10/100\n",
      "24/24 [==============================] - 0s 4ms/step - loss: 0.7021 - accuracy: 0.4187\n",
      "Epoch 11/100\n",
      "24/24 [==============================] - 0s 4ms/step - loss: 0.6996 - accuracy: 0.4520\n",
      "Epoch 12/100\n",
      "24/24 [==============================] - 0s 3ms/step - loss: 0.6974 - accuracy: 0.4773\n",
      "Epoch 13/100\n",
      "24/24 [==============================] - 0s 2ms/step - loss: 0.6954 - accuracy: 0.4907\n",
      "Epoch 14/100\n",
      "24/24 [==============================] - 0s 3ms/step - loss: 0.6937 - accuracy: 0.5187\n",
      "Epoch 15/100\n",
      "24/24 [==============================] - 0s 4ms/step - loss: 0.6919 - accuracy: 0.5333\n",
      "Epoch 16/100\n",
      "24/24 [==============================] - 0s 3ms/step - loss: 0.6901 - accuracy: 0.5547\n",
      "Epoch 17/100\n",
      "24/24 [==============================] - 0s 4ms/step - loss: 0.6884 - accuracy: 0.5787: 0s - loss: 0.6875 - accuracy: 0.58\n",
      "Epoch 18/100\n",
      "24/24 [==============================] - 0s 4ms/step - loss: 0.6863 - accuracy: 0.6080\n",
      "Epoch 19/100\n",
      "24/24 [==============================] - 0s 3ms/step - loss: 0.6840 - accuracy: 0.6267\n",
      "Epoch 20/100\n",
      "24/24 [==============================] - 0s 3ms/step - loss: 0.6811 - accuracy: 0.6613\n",
      "Epoch 21/100\n",
      "24/24 [==============================] - 0s 3ms/step - loss: 0.6774 - accuracy: 0.7053\n",
      "Epoch 22/100\n",
      "24/24 [==============================] - 0s 2ms/step - loss: 0.6727 - accuracy: 0.7453\n",
      "Epoch 23/100\n",
      "24/24 [==============================] - 0s 3ms/step - loss: 0.6661 - accuracy: 0.8053\n",
      "Epoch 24/100\n",
      "24/24 [==============================] - 0s 4ms/step - loss: 0.6573 - accuracy: 0.8627\n",
      "Epoch 25/100\n",
      "24/24 [==============================] - 0s 2ms/step - loss: 0.6457 - accuracy: 0.9093\n",
      "Epoch 26/100\n",
      "24/24 [==============================] - 0s 3ms/step - loss: 0.6310 - accuracy: 0.9533\n",
      "Epoch 27/100\n",
      "24/24 [==============================] - 0s 3ms/step - loss: 0.6140 - accuracy: 0.9720\n",
      "Epoch 28/100\n",
      "24/24 [==============================] - 0s 4ms/step - loss: 0.5950 - accuracy: 0.9867\n",
      "Epoch 29/100\n",
      "24/24 [==============================] - 0s 4ms/step - loss: 0.5748 - accuracy: 0.9947\n",
      "Epoch 30/100\n",
      "24/24 [==============================] - 0s 3ms/step - loss: 0.5539 - accuracy: 0.9973\n",
      "Epoch 31/100\n",
      "24/24 [==============================] - 0s 3ms/step - loss: 0.5332 - accuracy: 0.9973\n",
      "Epoch 32/100\n",
      "24/24 [==============================] - 0s 4ms/step - loss: 0.5124 - accuracy: 0.9987\n",
      "Epoch 33/100\n",
      "24/24 [==============================] - 0s 4ms/step - loss: 0.4922 - accuracy: 1.0000\n",
      "Epoch 34/100\n",
      "24/24 [==============================] - 0s 3ms/step - loss: 0.4724 - accuracy: 1.0000\n",
      "Epoch 35/100\n",
      "24/24 [==============================] - 0s 4ms/step - loss: 0.4535 - accuracy: 1.0000\n",
      "Epoch 36/100\n",
      "24/24 [==============================] - 0s 5ms/step - loss: 0.4356 - accuracy: 1.0000\n",
      "Epoch 37/100\n",
      "24/24 [==============================] - 0s 3ms/step - loss: 0.4185 - accuracy: 1.0000\n",
      "Epoch 38/100\n",
      "24/24 [==============================] - 0s 5ms/step - loss: 0.4023 - accuracy: 1.0000\n",
      "Epoch 39/100\n",
      "24/24 [==============================] - 0s 3ms/step - loss: 0.3870 - accuracy: 1.0000\n",
      "Epoch 40/100\n",
      "24/24 [==============================] - 0s 3ms/step - loss: 0.3726 - accuracy: 1.0000\n",
      "Epoch 41/100\n",
      "24/24 [==============================] - 0s 2ms/step - loss: 0.3590 - accuracy: 1.0000\n",
      "Epoch 42/100\n",
      "24/24 [==============================] - 0s 3ms/step - loss: 0.3462 - accuracy: 1.0000\n",
      "Epoch 43/100\n",
      "24/24 [==============================] - 0s 3ms/step - loss: 0.3342 - accuracy: 1.0000\n",
      "Epoch 44/100\n",
      "24/24 [==============================] - 0s 3ms/step - loss: 0.3228 - accuracy: 1.0000\n",
      "Epoch 45/100\n",
      "24/24 [==============================] - 0s 2ms/step - loss: 0.3121 - accuracy: 1.0000\n",
      "Epoch 46/100\n",
      "24/24 [==============================] - 0s 3ms/step - loss: 0.3020 - accuracy: 1.0000\n",
      "Epoch 47/100\n",
      "24/24 [==============================] - 0s 3ms/step - loss: 0.2925 - accuracy: 1.0000\n",
      "Epoch 48/100\n",
      "24/24 [==============================] - 0s 3ms/step - loss: 0.2834 - accuracy: 1.0000\n",
      "Epoch 49/100\n",
      "24/24 [==============================] - 0s 5ms/step - loss: 0.2748 - accuracy: 1.0000\n",
      "Epoch 50/100\n",
      "24/24 [==============================] - 0s 4ms/step - loss: 0.2667 - accuracy: 1.0000\n",
      "Epoch 51/100\n",
      "24/24 [==============================] - 0s 3ms/step - loss: 0.2590 - accuracy: 1.0000\n",
      "Epoch 52/100\n",
      "24/24 [==============================] - 0s 5ms/step - loss: 0.2517 - accuracy: 1.0000\n",
      "Epoch 53/100\n",
      "24/24 [==============================] - 0s 6ms/step - loss: 0.2447 - accuracy: 1.0000\n",
      "Epoch 54/100\n",
      "24/24 [==============================] - 0s 4ms/step - loss: 0.2380 - accuracy: 1.0000\n",
      "Epoch 55/100\n",
      "24/24 [==============================] - 0s 4ms/step - loss: 0.2317 - accuracy: 1.0000\n",
      "Epoch 56/100\n",
      "24/24 [==============================] - 0s 4ms/step - loss: 0.2257 - accuracy: 1.0000\n",
      "Epoch 57/100\n",
      "24/24 [==============================] - 0s 4ms/step - loss: 0.2199 - accuracy: 1.0000\n",
      "Epoch 58/100\n",
      "24/24 [==============================] - 0s 6ms/step - loss: 0.2143 - accuracy: 1.0000\n",
      "Epoch 59/100\n",
      "24/24 [==============================] - 0s 7ms/step - loss: 0.2090 - accuracy: 1.0000\n",
      "Epoch 60/100\n",
      "24/24 [==============================] - 0s 3ms/step - loss: 0.2039 - accuracy: 1.0000\n",
      "Epoch 61/100\n",
      "24/24 [==============================] - 0s 4ms/step - loss: 0.1991 - accuracy: 1.0000\n",
      "Epoch 62/100\n",
      "24/24 [==============================] - 0s 5ms/step - loss: 0.1944 - accuracy: 1.0000\n",
      "Epoch 63/100\n",
      "24/24 [==============================] - 0s 4ms/step - loss: 0.1898 - accuracy: 1.0000\n",
      "Epoch 64/100\n",
      "24/24 [==============================] - 0s 4ms/step - loss: 0.1855 - accuracy: 1.0000\n",
      "Epoch 65/100\n",
      "24/24 [==============================] - 0s 4ms/step - loss: 0.1813 - accuracy: 1.0000\n",
      "Epoch 66/100\n",
      "24/24 [==============================] - 0s 2ms/step - loss: 0.1773 - accuracy: 1.0000\n",
      "Epoch 67/100\n",
      "24/24 [==============================] - 0s 2ms/step - loss: 0.1734 - accuracy: 1.0000\n",
      "Epoch 68/100\n",
      "24/24 [==============================] - 0s 4ms/step - loss: 0.1696 - accuracy: 1.0000\n",
      "Epoch 69/100\n",
      "24/24 [==============================] - 0s 2ms/step - loss: 0.1660 - accuracy: 1.0000\n",
      "Epoch 70/100\n",
      "24/24 [==============================] - 0s 3ms/step - loss: 0.1625 - accuracy: 1.0000\n",
      "Epoch 71/100\n",
      "24/24 [==============================] - 0s 2ms/step - loss: 0.1591 - accuracy: 1.0000\n",
      "Epoch 72/100\n",
      "24/24 [==============================] - 0s 2ms/step - loss: 0.1558 - accuracy: 1.0000\n",
      "Epoch 73/100\n",
      "24/24 [==============================] - 0s 3ms/step - loss: 0.1526 - accuracy: 1.0000\n",
      "Epoch 74/100\n",
      "24/24 [==============================] - 0s 2ms/step - loss: 0.1495 - accuracy: 1.0000\n",
      "Epoch 75/100\n",
      "24/24 [==============================] - 0s 2ms/step - loss: 0.1465 - accuracy: 1.0000\n",
      "Epoch 76/100\n",
      "24/24 [==============================] - 0s 2ms/step - loss: 0.1436 - accuracy: 1.0000\n",
      "Epoch 77/100\n",
      "24/24 [==============================] - 0s 3ms/step - loss: 0.1408 - accuracy: 1.0000\n",
      "Epoch 78/100\n",
      "24/24 [==============================] - 0s 2ms/step - loss: 0.1381 - accuracy: 1.0000\n",
      "Epoch 79/100\n",
      "24/24 [==============================] - 0s 3ms/step - loss: 0.1355 - accuracy: 1.0000\n",
      "Epoch 80/100\n",
      "24/24 [==============================] - 0s 3ms/step - loss: 0.1329 - accuracy: 1.0000\n",
      "Epoch 81/100\n",
      "24/24 [==============================] - 0s 3ms/step - loss: 0.1304 - accuracy: 1.0000\n",
      "Epoch 82/100\n",
      "24/24 [==============================] - 0s 2ms/step - loss: 0.1280 - accuracy: 1.0000\n",
      "Epoch 83/100\n",
      "24/24 [==============================] - 0s 2ms/step - loss: 0.1256 - accuracy: 1.0000\n",
      "Epoch 84/100\n",
      "24/24 [==============================] - 0s 2ms/step - loss: 0.1233 - accuracy: 1.0000\n",
      "Epoch 85/100\n",
      "24/24 [==============================] - 0s 4ms/step - loss: 0.1211 - accuracy: 1.0000\n",
      "Epoch 86/100\n",
      "24/24 [==============================] - 0s 3ms/step - loss: 0.1189 - accuracy: 1.0000\n",
      "Epoch 87/100\n",
      "24/24 [==============================] - 0s 3ms/step - loss: 0.1168 - accuracy: 1.0000\n",
      "Epoch 88/100\n",
      "24/24 [==============================] - 0s 2ms/step - loss: 0.1147 - accuracy: 1.0000\n",
      "Epoch 89/100\n",
      "24/24 [==============================] - 0s 7ms/step - loss: 0.1128 - accuracy: 1.0000\n",
      "Epoch 90/100\n",
      "24/24 [==============================] - 0s 2ms/step - loss: 0.1108 - accuracy: 1.0000\n",
      "Epoch 91/100\n",
      "24/24 [==============================] - 0s 3ms/step - loss: 0.1089 - accuracy: 1.0000\n",
      "Epoch 92/100\n",
      "24/24 [==============================] - 0s 3ms/step - loss: 0.1071 - accuracy: 1.0000\n",
      "Epoch 93/100\n",
      "24/24 [==============================] - 0s 2ms/step - loss: 0.1052 - accuracy: 1.0000\n",
      "Epoch 94/100\n",
      "24/24 [==============================] - 0s 3ms/step - loss: 0.1035 - accuracy: 1.0000\n",
      "Epoch 95/100\n",
      "24/24 [==============================] - 0s 2ms/step - loss: 0.1017 - accuracy: 1.0000\n",
      "Epoch 96/100\n",
      "24/24 [==============================] - 0s 3ms/step - loss: 0.1000 - accuracy: 1.0000\n",
      "Epoch 97/100\n",
      "24/24 [==============================] - 0s 2ms/step - loss: 0.0984 - accuracy: 1.0000\n",
      "Epoch 98/100\n",
      "24/24 [==============================] - 0s 2ms/step - loss: 0.0968 - accuracy: 1.0000\n",
      "Epoch 99/100\n",
      "24/24 [==============================] - 0s 2ms/step - loss: 0.0952 - accuracy: 1.0000\n",
      "Epoch 100/100\n",
      "24/24 [==============================] - 0s 2ms/step - loss: 0.0936 - accuracy: 1.0000\n"
     ]
    }
   ],
   "source": [
    "# Fitting the model with linear dummy data\n",
    "model = neuron.fit(X_train_scaled,\n",
    "                   y_train,\n",
    "                   epochs=100)"
   ]
  },
  {
   "cell_type": "markdown",
   "metadata": {},
   "source": [
    " ### Evaluate the Model\n",
    "\n",
    " #### Plotting the Loss Function and Accuracy"
   ]
  },
  {
   "cell_type": "code",
   "execution_count": 16,
   "metadata": {},
   "outputs": [
    {
     "data": {
      "text/html": [
       "<div>\n",
       "<style scoped>\n",
       "    .dataframe tbody tr th:only-of-type {\n",
       "        vertical-align: middle;\n",
       "    }\n",
       "\n",
       "    .dataframe tbody tr th {\n",
       "        vertical-align: top;\n",
       "    }\n",
       "\n",
       "    .dataframe thead th {\n",
       "        text-align: right;\n",
       "    }\n",
       "</style>\n",
       "<table border=\"1\" class=\"dataframe\">\n",
       "  <thead>\n",
       "    <tr style=\"text-align: right;\">\n",
       "      <th></th>\n",
       "      <th>loss</th>\n",
       "      <th>accuracy</th>\n",
       "    </tr>\n",
       "  </thead>\n",
       "  <tbody>\n",
       "    <tr>\n",
       "      <th>1</th>\n",
       "      <td>0.754559</td>\n",
       "      <td>0.274667</td>\n",
       "    </tr>\n",
       "    <tr>\n",
       "      <th>2</th>\n",
       "      <td>0.744416</td>\n",
       "      <td>0.274667</td>\n",
       "    </tr>\n",
       "    <tr>\n",
       "      <th>3</th>\n",
       "      <td>0.735852</td>\n",
       "      <td>0.297333</td>\n",
       "    </tr>\n",
       "    <tr>\n",
       "      <th>4</th>\n",
       "      <td>0.728566</td>\n",
       "      <td>0.305333</td>\n",
       "    </tr>\n",
       "    <tr>\n",
       "      <th>5</th>\n",
       "      <td>0.722110</td>\n",
       "      <td>0.324000</td>\n",
       "    </tr>\n",
       "  </tbody>\n",
       "</table>\n",
       "</div>"
      ],
      "text/plain": [
       "       loss  accuracy\n",
       "1  0.754559  0.274667\n",
       "2  0.744416  0.274667\n",
       "3  0.735852  0.297333\n",
       "4  0.728566  0.305333\n",
       "5  0.722110  0.324000"
      ]
     },
     "execution_count": 16,
     "metadata": {},
     "output_type": "execute_result"
    }
   ],
   "source": [
    "# Create a dataframe with the history dictionary\n",
    "df = pd.DataFrame(model.history,\n",
    "                  index=range(1, len(model.history[\"loss\"]) + 1))\n",
    "\n",
    "df.head()"
   ]
  },
  {
   "cell_type": "code",
   "execution_count": 17,
   "metadata": {},
   "outputs": [
    {
     "data": {
      "text/plain": [
       "<AxesSubplot:>"
      ]
     },
     "execution_count": 17,
     "metadata": {},
     "output_type": "execute_result"
    },
    {
     "data": {
      "image/png": "[encoded data removed]",
      "text/plain": [
       "<Figure size 432x288 with 1 Axes>"
      ]
     },
     "metadata": {
      "needs_background": "light"
     },
     "output_type": "display_data"
    }
   ],
   "source": [
    "# Plot the loss\n",
    "df.plot(y=\"loss\")"
   ]
  },
  {
   "cell_type": "code",
   "execution_count": 18,
   "metadata": {},
   "outputs": [
    {
     "data": {
      "text/plain": [
       "<AxesSubplot:>"
      ]
     },
     "execution_count": 18,
     "metadata": {},
     "output_type": "execute_result"
    },
    {
     "data": {
      "image/png": "[encoded data removed]",
      "text/plain": [
       "<Figure size 432x288 with 1 Axes>"
      ]
     },
     "metadata": {
      "needs_background": "light"
     },
     "output_type": "display_data"
    }
   ],
   "source": [
    "# Plot the accuracy\n",
    "df.plot(y=\"accuracy\")"
   ]
  },
  {
   "cell_type": "markdown",
   "metadata": {},
   "source": [
    " #### Evaluating the Model Using Testing Data"
   ]
  },
  {
   "cell_type": "code",
   "execution_count": 19,
   "metadata": {},
   "outputs": [
    {
     "name": "stdout",
     "output_type": "stream",
     "text": [
      "8/8 - 1s - loss: 0.0961 - accuracy: 1.0000\n",
      "Loss: 0.09608772397041321, Accuracy: 1.0\n"
     ]
    }
   ],
   "source": [
    "# Evaluate the model fit with linear dummy data\n",
    "model_loss, model_accuracy = neuron.evaluate(X_test_scaled,\n",
    "                                             y_test,\n",
    "                                             verbose=2)\n",
    "\n",
    "print(f\"Loss: {model_loss}, Accuracy: {model_accuracy}\")"
   ]
  },
  {
   "cell_type": "markdown",
   "metadata": {},
   "source": [
    " ### Making Predictions with New Data"
   ]
  },
  {
   "cell_type": "code",
   "execution_count": 20,
   "metadata": {},
   "outputs": [],
   "source": [
    "# Create 10 new samples of dummy data\n",
    "new_x, new_y = make_blobs(n_samples=10,\n",
    "                          centers=2,\n",
    "                          n_features=2,\n",
    "                          random_state=78)"
   ]
  },
  {
   "cell_type": "code",
   "execution_count": 21,
   "metadata": {},
   "outputs": [
    {
     "name": "stderr",
     "output_type": "stream",
     "text": [
      "C:\\Users\\TribThapa\\anaconda3\\envs\\mlenv\\lib\\site-packages\\tensorflow\\python\\keras\\engine\\sequential.py:455: UserWarning: `model.predict_classes()` is deprecated and will be removed after 2021-01-01. Please use instead:* `np.argmax(model.predict(x), axis=-1)`,   if your model does multi-class classification   (e.g. if it uses a `softmax` last-layer activation).* `(model.predict(x) > 0.5).astype(\"int32\")`,   if your model does binary classification   (e.g. if it uses a `sigmoid` last-layer activation).\n",
      "  warnings.warn('`model.predict_classes()` is deprecated and '\n"
     ]
    },
    {
     "data": {
      "text/html": [
       "<div>\n",
       "<style scoped>\n",
       "    .dataframe tbody tr th:only-of-type {\n",
       "        vertical-align: middle;\n",
       "    }\n",
       "\n",
       "    .dataframe tbody tr th {\n",
       "        vertical-align: top;\n",
       "    }\n",
       "\n",
       "    .dataframe thead th {\n",
       "        text-align: right;\n",
       "    }\n",
       "</style>\n",
       "<table border=\"1\" class=\"dataframe\">\n",
       "  <thead>\n",
       "    <tr style=\"text-align: right;\">\n",
       "      <th></th>\n",
       "      <th>predictions</th>\n",
       "      <th>actual</th>\n",
       "    </tr>\n",
       "  </thead>\n",
       "  <tbody>\n",
       "    <tr>\n",
       "      <th>0</th>\n",
       "      <td>0</td>\n",
       "      <td>0</td>\n",
       "    </tr>\n",
       "    <tr>\n",
       "      <th>1</th>\n",
       "      <td>1</td>\n",
       "      <td>1</td>\n",
       "    </tr>\n",
       "    <tr>\n",
       "      <th>2</th>\n",
       "      <td>0</td>\n",
       "      <td>0</td>\n",
       "    </tr>\n",
       "    <tr>\n",
       "      <th>3</th>\n",
       "      <td>1</td>\n",
       "      <td>1</td>\n",
       "    </tr>\n",
       "    <tr>\n",
       "      <th>4</th>\n",
       "      <td>0</td>\n",
       "      <td>0</td>\n",
       "    </tr>\n",
       "  </tbody>\n",
       "</table>\n",
       "</div>"
      ],
      "text/plain": [
       "   predictions  actual\n",
       "0            0       0\n",
       "1            1       1\n",
       "2            0       0\n",
       "3            1       1\n",
       "4            0       0"
      ]
     },
     "execution_count": 21,
     "metadata": {},
     "output_type": "execute_result"
    }
   ],
   "source": [
    "# Making predictions\n",
    "predictions = neuron.predict_classes(new_x)\n",
    "\n",
    "results = pd.DataFrame({\"predictions\": predictions.ravel(),\n",
    "                        \"actual\": new_y})\n",
    "\n",
    "results.head()"
   ]
  },
  {
   "cell_type": "markdown",
   "metadata": {},
   "source": [
    " ## Using a Single Neuron for Non-Linear Data\n",
    "\n",
    " ### Creating Demo Data"
   ]
  },
  {
   "cell_type": "code",
   "execution_count": 22,
   "metadata": {},
   "outputs": [],
   "source": [
    "# Creating dummy non-linear data\n",
    "X_moons, y_moons = make_moons(n_samples=1000,\n",
    "                              noise=0.08,\n",
    "                              random_state=78)"
   ]
  },
  {
   "cell_type": "code",
   "execution_count": 23,
   "metadata": {},
   "outputs": [],
   "source": [
    "# Transforming y_moons to a vertical vector\n",
    "y_moons = y_moons.reshape(-1, 1)"
   ]
  },
  {
   "cell_type": "code",
   "execution_count": 24,
   "metadata": {},
   "outputs": [
    {
     "data": {
      "text/html": [
       "<div>\n",
       "<style scoped>\n",
       "    .dataframe tbody tr th:only-of-type {\n",
       "        vertical-align: middle;\n",
       "    }\n",
       "\n",
       "    .dataframe tbody tr th {\n",
       "        vertical-align: top;\n",
       "    }\n",
       "\n",
       "    .dataframe thead th {\n",
       "        text-align: right;\n",
       "    }\n",
       "</style>\n",
       "<table border=\"1\" class=\"dataframe\">\n",
       "  <thead>\n",
       "    <tr style=\"text-align: right;\">\n",
       "      <th></th>\n",
       "      <th>Feature 1</th>\n",
       "      <th>Feature 2</th>\n",
       "      <th>Target</th>\n",
       "    </tr>\n",
       "  </thead>\n",
       "  <tbody>\n",
       "    <tr>\n",
       "      <th>0</th>\n",
       "      <td>0.676217</td>\n",
       "      <td>0.815220</td>\n",
       "      <td>0</td>\n",
       "    </tr>\n",
       "    <tr>\n",
       "      <th>1</th>\n",
       "      <td>1.487143</td>\n",
       "      <td>-0.210519</td>\n",
       "      <td>1</td>\n",
       "    </tr>\n",
       "    <tr>\n",
       "      <th>2</th>\n",
       "      <td>-1.027709</td>\n",
       "      <td>0.354966</td>\n",
       "      <td>0</td>\n",
       "    </tr>\n",
       "    <tr>\n",
       "      <th>3</th>\n",
       "      <td>0.236012</td>\n",
       "      <td>1.025531</td>\n",
       "      <td>0</td>\n",
       "    </tr>\n",
       "    <tr>\n",
       "      <th>4</th>\n",
       "      <td>1.856695</td>\n",
       "      <td>-0.042783</td>\n",
       "      <td>1</td>\n",
       "    </tr>\n",
       "  </tbody>\n",
       "</table>\n",
       "</div>"
      ],
      "text/plain": [
       "   Feature 1  Feature 2  Target\n",
       "0   0.676217   0.815220       0\n",
       "1   1.487143  -0.210519       1\n",
       "2  -1.027709   0.354966       0\n",
       "3   0.236012   1.025531       0\n",
       "4   1.856695  -0.042783       1"
      ]
     },
     "execution_count": 24,
     "metadata": {},
     "output_type": "execute_result"
    }
   ],
   "source": [
    "# Creating a DataFrame to plot the non-linear dummy data\n",
    "df_moons = pd.DataFrame(X_moons,\n",
    "                        columns=[\"Feature 1\", \"Feature 2\"])\n",
    "\n",
    "df_moons[\"Target\"] = y_moons\n",
    "\n",
    "df_moons.head()"
   ]
  },
  {
   "cell_type": "code",
   "execution_count": 25,
   "metadata": {},
   "outputs": [
    {
     "data": {
      "text/plain": [
       "<AxesSubplot:xlabel='Feature 1', ylabel='Feature 2'>"
      ]
     },
     "execution_count": 25,
     "metadata": {},
     "output_type": "execute_result"
    },
    {
     "data": {
      "image/png": "[encoded data removed]",
      "text/plain": [
       "<Figure size 432x288 with 2 Axes>"
      ]
     },
     "metadata": {
      "needs_background": "light"
     },
     "output_type": "display_data"
    }
   ],
   "source": [
    "# Plotting the non-linear dummy data\n",
    "df_moons.plot.scatter(x=\"Feature 1\",\n",
    "                      y=\"Feature 2\",\n",
    "                      c=\"Target\",\n",
    "                      colormap=\"winter\")"
   ]
  },
  {
   "cell_type": "markdown",
   "metadata": {},
   "source": [
    " ### Data Preprocessing\n",
    "\n",
    " Use `train_test_split` to create training and testing data."
   ]
  },
  {
   "cell_type": "code",
   "execution_count": 26,
   "metadata": {},
   "outputs": [],
   "source": [
    "# Create training and testing sets\n",
    "X_moon_train, X_moon_test, y_moon_train, y_moon_test = train_test_split(X_moons,\n",
    "                                                                        y_moons, \n",
    "                                                                        random_state=78)"
   ]
  },
  {
   "cell_type": "markdown",
   "metadata": {},
   "source": [
    " Scale the data"
   ]
  },
  {
   "cell_type": "code",
   "execution_count": 27,
   "metadata": {},
   "outputs": [],
   "source": [
    "# Create the scaler instance\n",
    "X_moon_scaler = StandardScaler()"
   ]
  },
  {
   "cell_type": "code",
   "execution_count": 28,
   "metadata": {},
   "outputs": [
    {
     "data": {
      "text/plain": [
       "StandardScaler()"
      ]
     },
     "execution_count": 28,
     "metadata": {},
     "output_type": "execute_result"
    }
   ],
   "source": [
    "# Fit the scaler\n",
    "X_moon_scaler.fit(X_moon_train)"
   ]
  },
  {
   "cell_type": "code",
   "execution_count": 29,
   "metadata": {},
   "outputs": [],
   "source": [
    "# Scale the data\n",
    "X_moon_train_scaled = X_moon_scaler.transform(X_moon_train)\n",
    "\n",
    "X_moon_test_scaled = X_moon_scaler.transform(X_moon_test)"
   ]
  },
  {
   "cell_type": "markdown",
   "metadata": {},
   "source": [
    " ### Fit the Model"
   ]
  },
  {
   "cell_type": "code",
   "execution_count": 30,
   "metadata": {},
   "outputs": [
    {
     "name": "stdout",
     "output_type": "stream",
     "text": [
      "Epoch 1/100\n",
      "24/24 [==============================] - 1s 4ms/step - loss: 0.7768 - accuracy: 0.5933\n",
      "Epoch 2/100\n",
      "24/24 [==============================] - 0s 5ms/step - loss: 0.6993 - accuracy: 0.6093\n",
      "Epoch 3/100\n",
      "24/24 [==============================] - 0s 7ms/step - loss: 0.6421 - accuracy: 0.6293\n",
      "Epoch 4/100\n",
      "24/24 [==============================] - 0s 5ms/step - loss: 0.6024 - accuracy: 0.6480\n",
      "Epoch 5/100\n",
      "24/24 [==============================] - 0s 6ms/step - loss: 0.5717 - accuracy: 0.6680: 0s - loss: 0.5679 - accuracy: 0.66\n",
      "Epoch 6/100\n",
      "24/24 [==============================] - 0s 7ms/step - loss: 0.5470 - accuracy: 0.6760\n",
      "Epoch 7/100\n",
      "24/24 [==============================] - 0s 4ms/step - loss: 0.5261 - accuracy: 0.6867\n",
      "Epoch 8/100\n",
      "24/24 [==============================] - 0s 4ms/step - loss: 0.5081 - accuracy: 0.7013\n",
      "Epoch 9/100\n",
      "24/24 [==============================] - 0s 4ms/step - loss: 0.4925 - accuracy: 0.7093\n",
      "Epoch 10/100\n",
      "24/24 [==============================] - 0s 4ms/step - loss: 0.4787 - accuracy: 0.7147\n",
      "Epoch 11/100\n",
      "24/24 [==============================] - 0s 4ms/step - loss: 0.4661 - accuracy: 0.7280\n",
      "Epoch 12/100\n",
      "24/24 [==============================] - 0s 4ms/step - loss: 0.4545 - accuracy: 0.7333\n",
      "Epoch 13/100\n",
      "24/24 [==============================] - 0s 4ms/step - loss: 0.4439 - accuracy: 0.7413\n",
      "Epoch 14/100\n",
      "24/24 [==============================] - 0s 4ms/step - loss: 0.4342 - accuracy: 0.7533\n",
      "Epoch 15/100\n",
      "24/24 [==============================] - 0s 4ms/step - loss: 0.4250 - accuracy: 0.7627\n",
      "Epoch 16/100\n",
      "24/24 [==============================] - 0s 4ms/step - loss: 0.4164 - accuracy: 0.7747\n",
      "Epoch 17/100\n",
      "24/24 [==============================] - 0s 4ms/step - loss: 0.4085 - accuracy: 0.7773\n",
      "Epoch 18/100\n",
      "24/24 [==============================] - 0s 4ms/step - loss: 0.4008 - accuracy: 0.7813\n",
      "Epoch 19/100\n",
      "24/24 [==============================] - ETA: 0s - loss: 0.3969 - accuracy: 0.78 - 0s 4ms/step - loss: 0.3937 - accuracy: 0.7840\n",
      "Epoch 20/100\n",
      "24/24 [==============================] - 0s 5ms/step - loss: 0.3868 - accuracy: 0.7893\n",
      "Epoch 21/100\n",
      "24/24 [==============================] - 0s 4ms/step - loss: 0.3802 - accuracy: 0.7920\n",
      "Epoch 22/100\n",
      "24/24 [==============================] - 0s 4ms/step - loss: 0.3739 - accuracy: 0.7960\n",
      "Epoch 23/100\n",
      "24/24 [==============================] - 0s 5ms/step - loss: 0.3679 - accuracy: 0.8040\n",
      "Epoch 24/100\n",
      "24/24 [==============================] - 0s 4ms/step - loss: 0.3622 - accuracy: 0.8093\n",
      "Epoch 25/100\n",
      "24/24 [==============================] - 0s 6ms/step - loss: 0.3568 - accuracy: 0.8133\n",
      "Epoch 26/100\n",
      "24/24 [==============================] - 0s 3ms/step - loss: 0.3516 - accuracy: 0.8187\n",
      "Epoch 27/100\n",
      "24/24 [==============================] - 0s 5ms/step - loss: 0.3467 - accuracy: 0.8213\n",
      "Epoch 28/100\n",
      "24/24 [==============================] - 0s 4ms/step - loss: 0.3420 - accuracy: 0.8227\n",
      "Epoch 29/100\n",
      "24/24 [==============================] - 0s 4ms/step - loss: 0.3378 - accuracy: 0.8253\n",
      "Epoch 30/100\n",
      "24/24 [==============================] - 0s 6ms/step - loss: 0.3336 - accuracy: 0.8307\n",
      "Epoch 31/100\n",
      "24/24 [==============================] - 0s 5ms/step - loss: 0.3298 - accuracy: 0.8307\n",
      "Epoch 32/100\n",
      "24/24 [==============================] - 0s 6ms/step - loss: 0.3263 - accuracy: 0.8307\n",
      "Epoch 33/100\n",
      "24/24 [==============================] - 0s 8ms/step - loss: 0.3230 - accuracy: 0.8333\n",
      "Epoch 34/100\n",
      "24/24 [==============================] - 0s 8ms/step - loss: 0.3198 - accuracy: 0.8360\n",
      "Epoch 35/100\n",
      "24/24 [==============================] - 0s 4ms/step - loss: 0.3168 - accuracy: 0.8387\n",
      "Epoch 36/100\n",
      "24/24 [==============================] - 0s 8ms/step - loss: 0.3141 - accuracy: 0.8387\n",
      "Epoch 37/100\n",
      "24/24 [==============================] - 0s 6ms/step - loss: 0.3114 - accuracy: 0.8453\n",
      "Epoch 38/100\n",
      "24/24 [==============================] - 0s 6ms/step - loss: 0.3089 - accuracy: 0.8480\n",
      "Epoch 39/100\n",
      "24/24 [==============================] - 0s 5ms/step - loss: 0.3067 - accuracy: 0.8507\n",
      "Epoch 40/100\n",
      "24/24 [==============================] - 0s 5ms/step - loss: 0.3046 - accuracy: 0.8533\n",
      "Epoch 41/100\n",
      "24/24 [==============================] - 0s 7ms/step - loss: 0.3024 - accuracy: 0.8587\n",
      "Epoch 42/100\n",
      "24/24 [==============================] - 0s 6ms/step - loss: 0.3005 - accuracy: 0.8640\n",
      "Epoch 43/100\n",
      "24/24 [==============================] - 0s 5ms/step - loss: 0.2987 - accuracy: 0.8640\n",
      "Epoch 44/100\n",
      "24/24 [==============================] - 0s 8ms/step - loss: 0.2970 - accuracy: 0.8653\n",
      "Epoch 45/100\n",
      "24/24 [==============================] - 0s 6ms/step - loss: 0.2953 - accuracy: 0.8667\n",
      "Epoch 46/100\n",
      "24/24 [==============================] - 0s 5ms/step - loss: 0.2938 - accuracy: 0.8667\n",
      "Epoch 47/100\n",
      "24/24 [==============================] - 0s 7ms/step - loss: 0.2922 - accuracy: 0.8680\n",
      "Epoch 48/100\n",
      "24/24 [==============================] - 0s 6ms/step - loss: 0.2908 - accuracy: 0.8680\n",
      "Epoch 49/100\n",
      "24/24 [==============================] - 0s 5ms/step - loss: 0.2894 - accuracy: 0.8680\n",
      "Epoch 50/100\n",
      "24/24 [==============================] - 0s 4ms/step - loss: 0.2880 - accuracy: 0.8693\n",
      "Epoch 51/100\n",
      "24/24 [==============================] - 0s 4ms/step - loss: 0.2868 - accuracy: 0.8707\n",
      "Epoch 52/100\n",
      "24/24 [==============================] - 0s 5ms/step - loss: 0.2856 - accuracy: 0.8733\n",
      "Epoch 53/100\n",
      "24/24 [==============================] - 0s 5ms/step - loss: 0.2844 - accuracy: 0.8747\n",
      "Epoch 54/100\n",
      "24/24 [==============================] - 0s 5ms/step - loss: 0.2833 - accuracy: 0.8760\n",
      "Epoch 55/100\n",
      "24/24 [==============================] - 0s 3ms/step - loss: 0.2823 - accuracy: 0.8773\n",
      "Epoch 56/100\n",
      "24/24 [==============================] - 0s 3ms/step - loss: 0.2813 - accuracy: 0.8787\n",
      "Epoch 57/100\n",
      "24/24 [==============================] - 0s 4ms/step - loss: 0.2804 - accuracy: 0.8787\n",
      "Epoch 58/100\n",
      "24/24 [==============================] - 0s 4ms/step - loss: 0.2794 - accuracy: 0.8800\n",
      "Epoch 59/100\n",
      "24/24 [==============================] - 0s 5ms/step - loss: 0.2785 - accuracy: 0.8800\n",
      "Epoch 60/100\n",
      "24/24 [==============================] - ETA: 0s - loss: 0.2776 - accuracy: 0.88 - 0s 7ms/step - loss: 0.2776 - accuracy: 0.8813\n",
      "Epoch 61/100\n",
      "24/24 [==============================] - 0s 6ms/step - loss: 0.2767 - accuracy: 0.8813\n",
      "Epoch 62/100\n",
      "24/24 [==============================] - 0s 5ms/step - loss: 0.2759 - accuracy: 0.8827\n",
      "Epoch 63/100\n",
      "24/24 [==============================] - 0s 5ms/step - loss: 0.2752 - accuracy: 0.8840\n",
      "Epoch 64/100\n",
      "24/24 [==============================] - 0s 6ms/step - loss: 0.2745 - accuracy: 0.8853\n",
      "Epoch 65/100\n",
      "24/24 [==============================] - 0s 6ms/step - loss: 0.2738 - accuracy: 0.8840\n",
      "Epoch 66/100\n",
      "24/24 [==============================] - 0s 4ms/step - loss: 0.2731 - accuracy: 0.8840: 0s - loss: 0.2860 - accuracy: 0.87\n",
      "Epoch 67/100\n",
      "24/24 [==============================] - 0s 5ms/step - loss: 0.2724 - accuracy: 0.8840\n",
      "Epoch 68/100\n",
      "24/24 [==============================] - 0s 4ms/step - loss: 0.2718 - accuracy: 0.8867\n",
      "Epoch 69/100\n",
      "24/24 [==============================] - 0s 5ms/step - loss: 0.2712 - accuracy: 0.8853\n",
      "Epoch 70/100\n",
      "24/24 [==============================] - 0s 4ms/step - loss: 0.2706 - accuracy: 0.8867\n",
      "Epoch 71/100\n",
      "24/24 [==============================] - 0s 4ms/step - loss: 0.2700 - accuracy: 0.8853\n",
      "Epoch 72/100\n",
      "24/24 [==============================] - 0s 4ms/step - loss: 0.2695 - accuracy: 0.8853\n",
      "Epoch 73/100\n",
      "24/24 [==============================] - 0s 6ms/step - loss: 0.2690 - accuracy: 0.8840\n",
      "Epoch 74/100\n",
      "24/24 [==============================] - 0s 4ms/step - loss: 0.2685 - accuracy: 0.8867\n",
      "Epoch 75/100\n",
      "24/24 [==============================] - 0s 5ms/step - loss: 0.2680 - accuracy: 0.8853\n",
      "Epoch 76/100\n",
      "24/24 [==============================] - 0s 5ms/step - loss: 0.2675 - accuracy: 0.8853\n",
      "Epoch 77/100\n",
      "24/24 [==============================] - 0s 5ms/step - loss: 0.2671 - accuracy: 0.8853: 0s - loss: 0.2671 - accuracy: 0.88\n",
      "Epoch 78/100\n",
      "24/24 [==============================] - 0s 8ms/step - loss: 0.2666 - accuracy: 0.8880\n",
      "Epoch 79/100\n",
      "24/24 [==============================] - 0s 6ms/step - loss: 0.2662 - accuracy: 0.8867\n",
      "Epoch 80/100\n",
      "24/24 [==============================] - 0s 4ms/step - loss: 0.2658 - accuracy: 0.8867\n",
      "Epoch 81/100\n",
      "24/24 [==============================] - 0s 5ms/step - loss: 0.2654 - accuracy: 0.8880\n",
      "Epoch 82/100\n",
      "24/24 [==============================] - 0s 8ms/step - loss: 0.2650 - accuracy: 0.8880\n",
      "Epoch 83/100\n",
      "24/24 [==============================] - 0s 9ms/step - loss: 0.2646 - accuracy: 0.8893\n",
      "Epoch 84/100\n",
      "24/24 [==============================] - 0s 6ms/step - loss: 0.2643 - accuracy: 0.8893\n",
      "Epoch 85/100\n",
      "24/24 [==============================] - 0s 5ms/step - loss: 0.2639 - accuracy: 0.8893\n",
      "Epoch 86/100\n",
      "24/24 [==============================] - 0s 4ms/step - loss: 0.2636 - accuracy: 0.8893\n",
      "Epoch 87/100\n",
      "24/24 [==============================] - 0s 5ms/step - loss: 0.2633 - accuracy: 0.8907\n",
      "Epoch 88/100\n",
      "24/24 [==============================] - 0s 5ms/step - loss: 0.2630 - accuracy: 0.8907\n",
      "Epoch 89/100\n",
      "24/24 [==============================] - 0s 4ms/step - loss: 0.2627 - accuracy: 0.8893\n",
      "Epoch 90/100\n",
      "24/24 [==============================] - 0s 6ms/step - loss: 0.2624 - accuracy: 0.8907\n",
      "Epoch 91/100\n",
      "24/24 [==============================] - 0s 4ms/step - loss: 0.2621 - accuracy: 0.8893\n",
      "Epoch 92/100\n",
      "24/24 [==============================] - 0s 6ms/step - loss: 0.2618 - accuracy: 0.8893\n",
      "Epoch 93/100\n",
      "24/24 [==============================] - 0s 4ms/step - loss: 0.2616 - accuracy: 0.8893\n",
      "Epoch 94/100\n",
      "24/24 [==============================] - 0s 4ms/step - loss: 0.2614 - accuracy: 0.8893\n",
      "Epoch 95/100\n",
      "24/24 [==============================] - 0s 5ms/step - loss: 0.2611 - accuracy: 0.8907\n",
      "Epoch 96/100\n",
      "24/24 [==============================] - 0s 4ms/step - loss: 0.2608 - accuracy: 0.8893\n",
      "Epoch 97/100\n",
      "24/24 [==============================] - 0s 4ms/step - loss: 0.2606 - accuracy: 0.8920\n",
      "Epoch 98/100\n",
      "24/24 [==============================] - 0s 3ms/step - loss: 0.2604 - accuracy: 0.8907\n",
      "Epoch 99/100\n",
      "24/24 [==============================] - 0s 4ms/step - loss: 0.2601 - accuracy: 0.8920\n",
      "Epoch 100/100\n",
      "24/24 [==============================] - 0s 3ms/step - loss: 0.2599 - accuracy: 0.8920\n"
     ]
    }
   ],
   "source": [
    "# Training the model with the non-linear data\n",
    "model_moon = neuron.fit(X_moon_train_scaled,\n",
    "                        y_moon_train,\n",
    "                        epochs=100)"
   ]
  },
  {
   "cell_type": "markdown",
   "metadata": {},
   "source": [
    " ### Evaluate the Model\n",
    "\n",
    " #### Plotting the Loss Function and Accuracy"
   ]
  },
  {
   "cell_type": "code",
   "execution_count": 31,
   "metadata": {},
   "outputs": [
    {
     "data": {
      "text/html": [
       "<div>\n",
       "<style scoped>\n",
       "    .dataframe tbody tr th:only-of-type {\n",
       "        vertical-align: middle;\n",
       "    }\n",
       "\n",
       "    .dataframe tbody tr th {\n",
       "        vertical-align: top;\n",
       "    }\n",
       "\n",
       "    .dataframe thead th {\n",
       "        text-align: right;\n",
       "    }\n",
       "</style>\n",
       "<table border=\"1\" class=\"dataframe\">\n",
       "  <thead>\n",
       "    <tr style=\"text-align: right;\">\n",
       "      <th></th>\n",
       "      <th>loss</th>\n",
       "      <th>accuracy</th>\n",
       "    </tr>\n",
       "  </thead>\n",
       "  <tbody>\n",
       "    <tr>\n",
       "      <th>1</th>\n",
       "      <td>0.776771</td>\n",
       "      <td>0.593333</td>\n",
       "    </tr>\n",
       "    <tr>\n",
       "      <th>2</th>\n",
       "      <td>0.699333</td>\n",
       "      <td>0.609333</td>\n",
       "    </tr>\n",
       "    <tr>\n",
       "      <th>3</th>\n",
       "      <td>0.642132</td>\n",
       "      <td>0.629333</td>\n",
       "    </tr>\n",
       "    <tr>\n",
       "      <th>4</th>\n",
       "      <td>0.602439</td>\n",
       "      <td>0.648000</td>\n",
       "    </tr>\n",
       "    <tr>\n",
       "      <th>5</th>\n",
       "      <td>0.571717</td>\n",
       "      <td>0.668000</td>\n",
       "    </tr>\n",
       "  </tbody>\n",
       "</table>\n",
       "</div>"
      ],
      "text/plain": [
       "       loss  accuracy\n",
       "1  0.776771  0.593333\n",
       "2  0.699333  0.609333\n",
       "3  0.642132  0.629333\n",
       "4  0.602439  0.648000\n",
       "5  0.571717  0.668000"
      ]
     },
     "execution_count": 31,
     "metadata": {},
     "output_type": "execute_result"
    }
   ],
   "source": [
    "# Create a dataframe with the history dictionary\n",
    "df_moon = pd.DataFrame(model_moon.history,\n",
    "                       index=range(1, len(model_moon.history[\"loss\"]) + 1))\n",
    "\n",
    "df_moon.head()"
   ]
  },
  {
   "cell_type": "code",
   "execution_count": 32,
   "metadata": {},
   "outputs": [
    {
     "data": {
      "text/plain": [
       "<AxesSubplot:>"
      ]
     },
     "execution_count": 32,
     "metadata": {},
     "output_type": "execute_result"
    },
    {
     "data": {
      "image/png": "[encoded data removed]",
      "text/plain": [
       "<Figure size 432x288 with 1 Axes>"
      ]
     },
     "metadata": {
      "needs_background": "light"
     },
     "output_type": "display_data"
    }
   ],
   "source": [
    "# Plot the loss\n",
    "df_moon.plot(y=\"loss\")"
   ]
  },
  {
   "cell_type": "code",
   "execution_count": 33,
   "metadata": {},
   "outputs": [
    {
     "data": {
      "text/plain": [
       "<AxesSubplot:>"
      ]
     },
     "execution_count": 33,
     "metadata": {},
     "output_type": "execute_result"
    },
    {
     "data": {
      "image/png": "[encoded data removed]",
      "text/plain": [
       "<Figure size 432x288 with 1 Axes>"
      ]
     },
     "metadata": {
      "needs_background": "light"
     },
     "output_type": "display_data"
    }
   ],
   "source": [
    "# Plot the accuracy\n",
    "df_moon.plot(y=\"accuracy\")"
   ]
  },
  {
   "cell_type": "markdown",
   "metadata": {},
   "source": [
    " #### Evaluating the Model Using Testing Data"
   ]
  },
  {
   "cell_type": "code",
   "execution_count": 34,
   "metadata": {},
   "outputs": [
    {
     "name": "stdout",
     "output_type": "stream",
     "text": [
      "8/8 - 0s - loss: 0.2783 - accuracy: 0.8600\n",
      "Loss: 0.27825069427490234, Accuracy: 0.8600000143051147\n"
     ]
    }
   ],
   "source": [
    "# Evaluate the model using non-linear data\n",
    "model_moon_loss, model_moon_accuracy = neuron.evaluate(X_moon_test_scaled,\n",
    "                                                       y_moon_test,\n",
    "                                                       verbose=2)\n",
    "\n",
    "print(f\"Loss: {model_moon_loss}, Accuracy: {model_moon_accuracy}\")"
   ]
  },
  {
   "cell_type": "markdown",
   "metadata": {},
   "source": [
    " ### Making Predictions"
   ]
  },
  {
   "cell_type": "code",
   "execution_count": 35,
   "metadata": {},
   "outputs": [],
   "source": [
    "# Create demo data\n",
    "X_new_moons, y_new_moons = make_moons(n_samples=10,\n",
    "                                      noise=0.08,\n",
    "                                      random_state=78)"
   ]
  },
  {
   "cell_type": "code",
   "execution_count": 36,
   "metadata": {},
   "outputs": [
    {
     "name": "stderr",
     "output_type": "stream",
     "text": [
      "C:\\Users\\TribThapa\\anaconda3\\envs\\mlenv\\lib\\site-packages\\tensorflow\\python\\keras\\engine\\sequential.py:455: UserWarning: `model.predict_classes()` is deprecated and will be removed after 2021-01-01. Please use instead:* `np.argmax(model.predict(x), axis=-1)`,   if your model does multi-class classification   (e.g. if it uses a `softmax` last-layer activation).* `(model.predict(x) > 0.5).astype(\"int32\")`,   if your model does binary classification   (e.g. if it uses a `sigmoid` last-layer activation).\n",
      "  warnings.warn('`model.predict_classes()` is deprecated and '\n"
     ]
    },
    {
     "data": {
      "text/html": [
       "<div>\n",
       "<style scoped>\n",
       "    .dataframe tbody tr th:only-of-type {\n",
       "        vertical-align: middle;\n",
       "    }\n",
       "\n",
       "    .dataframe tbody tr th {\n",
       "        vertical-align: top;\n",
       "    }\n",
       "\n",
       "    .dataframe thead th {\n",
       "        text-align: right;\n",
       "    }\n",
       "</style>\n",
       "<table border=\"1\" class=\"dataframe\">\n",
       "  <thead>\n",
       "    <tr style=\"text-align: right;\">\n",
       "      <th></th>\n",
       "      <th>Predictions</th>\n",
       "      <th>Actual</th>\n",
       "    </tr>\n",
       "  </thead>\n",
       "  <tbody>\n",
       "    <tr>\n",
       "      <th>0</th>\n",
       "      <td>0</td>\n",
       "      <td>0</td>\n",
       "    </tr>\n",
       "    <tr>\n",
       "      <th>1</th>\n",
       "      <td>0</td>\n",
       "      <td>0</td>\n",
       "    </tr>\n",
       "    <tr>\n",
       "      <th>2</th>\n",
       "      <td>0</td>\n",
       "      <td>0</td>\n",
       "    </tr>\n",
       "    <tr>\n",
       "      <th>3</th>\n",
       "      <td>1</td>\n",
       "      <td>1</td>\n",
       "    </tr>\n",
       "    <tr>\n",
       "      <th>4</th>\n",
       "      <td>1</td>\n",
       "      <td>1</td>\n",
       "    </tr>\n",
       "    <tr>\n",
       "      <th>5</th>\n",
       "      <td>0</td>\n",
       "      <td>0</td>\n",
       "    </tr>\n",
       "    <tr>\n",
       "      <th>6</th>\n",
       "      <td>1</td>\n",
       "      <td>0</td>\n",
       "    </tr>\n",
       "    <tr>\n",
       "      <th>7</th>\n",
       "      <td>1</td>\n",
       "      <td>1</td>\n",
       "    </tr>\n",
       "    <tr>\n",
       "      <th>8</th>\n",
       "      <td>1</td>\n",
       "      <td>1</td>\n",
       "    </tr>\n",
       "    <tr>\n",
       "      <th>9</th>\n",
       "      <td>0</td>\n",
       "      <td>1</td>\n",
       "    </tr>\n",
       "  </tbody>\n",
       "</table>\n",
       "</div>"
      ],
      "text/plain": [
       "   Predictions  Actual\n",
       "0            0       0\n",
       "1            0       0\n",
       "2            0       0\n",
       "3            1       1\n",
       "4            1       1\n",
       "5            0       0\n",
       "6            1       0\n",
       "7            1       1\n",
       "8            1       1\n",
       "9            0       1"
      ]
     },
     "execution_count": 36,
     "metadata": {},
     "output_type": "execute_result"
    }
   ],
   "source": [
    "# Making predictions\n",
    "# @NOTE: ravel is needed to flatten the data again. You can read more about that at https://numpy.org/doc/stable/reference/generated/numpy.ravel.html\n",
    "predictions_moon = neuron.predict_classes(X_new_moons)\n",
    "\n",
    "results = pd.DataFrame({\"Predictions\": predictions_moon.ravel(),\n",
    "                        \"Actual\": y_new_moons})\n",
    "\n",
    "results.head(10)"
   ]
  }
 ],
 "metadata": {
  "file_extension": ".py",
  "kernelspec": {
   "display_name": "Python 3",
   "language": "python",
   "name": "python3"
  },
  "language_info": {
   "codemirror_mode": {
    "name": "ipython",
    "version": 3
   },
   "file_extension": ".py",
   "mimetype": "text/x-python",
   "name": "python",
   "nbconvert_exporter": "python",
   "pygments_lexer": "ipython3",
   "version": "3.7.10"
  },
  "mimetype": "text/x-python",
  "name": "python",
  "npconvert_exporter": "python",
  "pygments_lexer": "ipython3",
  "version": 3
 },
 "nbformat": 4,
 "nbformat_minor": 4
}
