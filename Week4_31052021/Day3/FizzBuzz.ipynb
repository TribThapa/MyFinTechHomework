{
 "cells": [
  {
   "cell_type": "code",
   "execution_count": 9,
   "metadata": {},
   "outputs": [
    {
     "name": "stdout",
     "output_type": "stream",
     "text": [
      "10: Buzz\n",
      "5: Buzz\n",
      "9: Fizz\n",
      "6: Fizz\n",
      "3: Fizz\n",
      "15: Fizz\n",
      "81: Fizz\n"
     ]
    }
   ],
   "source": [
    "#num = list(range(1, 101))\n",
    "num = [10, 5, 9, 6, 3, 15, 81]\n",
    "\n",
    "for i in num:\n",
    "    if i % 3 == 0:\n",
    "        print(f'{i}: Fizz')\n",
    "    elif i % 5 == 0:\n",
    "        print(f'{i}: Buzz')\n",
    "    elif (i % 3 == 0) & (i % 5 == 0):\n",
    "        print(f'{i}: FizzBuzz')\n",
    "    else:\n",
    "        print(f'{i}')"
   ]
  }
 ],
 "metadata": {
  "kernelspec": {
   "display_name": "Python 3",
   "language": "python",
   "name": "python3"
  },
  "language_info": {
   "codemirror_mode": {
    "name": "ipython",
    "version": 3
   },
   "file_extension": ".py",
   "mimetype": "text/x-python",
   "name": "python",
   "nbconvert_exporter": "python",
   "pygments_lexer": "ipython3",
   "version": "3.7.1"
  }
 },
 "nbformat": 4,
 "nbformat_minor": 2
}
