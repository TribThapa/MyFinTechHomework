{
 "cells": [
  {
   "cell_type": "markdown",
   "metadata": {},
   "source": [
    "# Student Activity: Financial Forecasting\n",
    "\n",
    "In this activity, Harold's manager wants Harold to take a look at one year's worth of `TSLA` stock prices and plot a potential stock trajectory for where `TSLA` stock prices could go in the next `3` years. In addition, he would like to know how a $10,000 investment would perform given the simulated results.\n",
    "\n",
    "Help Harold by creating a Monte Carlo simulation that simulates the next `252 * 3` trading days using three years worth of `TSLA` stock data. Plot the simulated results of `TSLA` daily returns over the next `3` years as well as the corresponding simulated outcomes."
   ]
  },
  {
   "cell_type": "markdown",
   "metadata": {},
   "source": [
    "## Import Dependencies and Create Alpaca API Environment"
   ]
  },
  {
   "cell_type": "code",
   "execution_count": 3,
   "metadata": {},
   "outputs": [],
   "source": [
    "# Import libraries and dependencies\n",
    "import os\n",
    "import pandas as pd\n",
    "import numpy as np\n",
    "import matplotlib.pyplot as plt\n",
    "import alpaca_trade_api as tradeapi\n",
    "from MCForecastTools import MCSimulation\n",
    "from dotenv import load_dotenv\n",
    "\n",
    "%matplotlib inline"
   ]
  },
  {
   "cell_type": "code",
   "execution_count": 6,
   "metadata": {},
   "outputs": [
    {
     "name": "stdout",
     "output_type": "stream",
     "text": [
      "Your alpaca key is <class 'str'>.\n",
      "Your alpaca secret key is <class 'str'>.\n"
     ]
    }
   ],
   "source": [
    "# Load .env enviroment variables\n",
    "load_dotenv()\n",
    "\n",
    "# Set Alpaca API key and secret\n",
    "alpaca_key = os.getenv(\"ALPACA_API_KEY\")\n",
    "alpaca_secret_key = os.getenv(\"ALPACA_API_SECRET_KEY\")\n",
    "\n",
    "print(f\"Your alpaca key is {type(alpaca_key)}.\")\n",
    "print(f\"Your alpaca secret key is {type(alpaca_secret_key)}.\")\n",
    "\n",
    "api = tradeapi.REST(alpaca_key, alpaca_secret_key, api_version='V2')"
   ]
  },
  {
   "cell_type": "markdown",
   "metadata": {},
   "source": [
    "### Get 3 Years Worth of `TSLA` Stock Data via API Call and Read in as DataFrame "
   ]
  },
  {
   "cell_type": "code",
   "execution_count": 8,
   "metadata": {},
   "outputs": [
    {
     "data": {
      "text/html": [
       "<div>\n",
       "<style scoped>\n",
       "    .dataframe tbody tr th:only-of-type {\n",
       "        vertical-align: middle;\n",
       "    }\n",
       "\n",
       "    .dataframe tbody tr th {\n",
       "        vertical-align: top;\n",
       "    }\n",
       "\n",
       "    .dataframe thead tr th {\n",
       "        text-align: left;\n",
       "    }\n",
       "\n",
       "    .dataframe thead tr:last-of-type th {\n",
       "        text-align: right;\n",
       "    }\n",
       "</style>\n",
       "<table border=\"1\" class=\"dataframe\">\n",
       "  <thead>\n",
       "    <tr>\n",
       "      <th></th>\n",
       "      <th colspan=\"5\" halign=\"left\">KO</th>\n",
       "      <th colspan=\"5\" halign=\"left\">NKE</th>\n",
       "      <th colspan=\"5\" halign=\"left\">SBUX</th>\n",
       "    </tr>\n",
       "    <tr>\n",
       "      <th></th>\n",
       "      <th>open</th>\n",
       "      <th>high</th>\n",
       "      <th>low</th>\n",
       "      <th>close</th>\n",
       "      <th>volume</th>\n",
       "      <th>open</th>\n",
       "      <th>high</th>\n",
       "      <th>low</th>\n",
       "      <th>close</th>\n",
       "      <th>volume</th>\n",
       "      <th>open</th>\n",
       "      <th>high</th>\n",
       "      <th>low</th>\n",
       "      <th>close</th>\n",
       "      <th>volume</th>\n",
       "    </tr>\n",
       "    <tr>\n",
       "      <th>time</th>\n",
       "      <th></th>\n",
       "      <th></th>\n",
       "      <th></th>\n",
       "      <th></th>\n",
       "      <th></th>\n",
       "      <th></th>\n",
       "      <th></th>\n",
       "      <th></th>\n",
       "      <th></th>\n",
       "      <th></th>\n",
       "      <th></th>\n",
       "      <th></th>\n",
       "      <th></th>\n",
       "      <th></th>\n",
       "      <th></th>\n",
       "    </tr>\n",
       "  </thead>\n",
       "  <tbody>\n",
       "    <tr>\n",
       "      <th>2018-01-02 00:00:00-05:00</th>\n",
       "      <td>45.91</td>\n",
       "      <td>45.940</td>\n",
       "      <td>45.505</td>\n",
       "      <td>45.55</td>\n",
       "      <td>8059230</td>\n",
       "      <td>62.85</td>\n",
       "      <td>63.49</td>\n",
       "      <td>62.8500</td>\n",
       "      <td>63.49</td>\n",
       "      <td>4341886</td>\n",
       "      <td>57.95</td>\n",
       "      <td>58.21</td>\n",
       "      <td>57.48</td>\n",
       "      <td>57.63</td>\n",
       "      <td>5759477</td>\n",
       "    </tr>\n",
       "    <tr>\n",
       "      <th>2018-01-03 00:00:00-05:00</th>\n",
       "      <td>45.49</td>\n",
       "      <td>45.690</td>\n",
       "      <td>45.340</td>\n",
       "      <td>45.42</td>\n",
       "      <td>7324413</td>\n",
       "      <td>63.48</td>\n",
       "      <td>63.66</td>\n",
       "      <td>62.7600</td>\n",
       "      <td>63.47</td>\n",
       "      <td>4834564</td>\n",
       "      <td>57.92</td>\n",
       "      <td>58.96</td>\n",
       "      <td>57.80</td>\n",
       "      <td>58.72</td>\n",
       "      <td>5967040</td>\n",
       "    </tr>\n",
       "    <tr>\n",
       "      <th>2018-01-04 00:00:00-05:00</th>\n",
       "      <td>45.56</td>\n",
       "      <td>46.215</td>\n",
       "      <td>45.450</td>\n",
       "      <td>46.08</td>\n",
       "      <td>9368841</td>\n",
       "      <td>63.40</td>\n",
       "      <td>63.55</td>\n",
       "      <td>62.5500</td>\n",
       "      <td>63.44</td>\n",
       "      <td>4789509</td>\n",
       "      <td>58.99</td>\n",
       "      <td>59.41</td>\n",
       "      <td>58.73</td>\n",
       "      <td>58.94</td>\n",
       "      <td>4693409</td>\n",
       "    </tr>\n",
       "    <tr>\n",
       "      <th>2018-01-05 00:00:00-05:00</th>\n",
       "      <td>46.02</td>\n",
       "      <td>46.200</td>\n",
       "      <td>45.790</td>\n",
       "      <td>46.04</td>\n",
       "      <td>8376423</td>\n",
       "      <td>63.70</td>\n",
       "      <td>64.30</td>\n",
       "      <td>63.4701</td>\n",
       "      <td>63.97</td>\n",
       "      <td>6485377</td>\n",
       "      <td>59.13</td>\n",
       "      <td>59.69</td>\n",
       "      <td>59.07</td>\n",
       "      <td>59.58</td>\n",
       "      <td>4635754</td>\n",
       "    </tr>\n",
       "    <tr>\n",
       "      <th>2018-01-08 00:00:00-05:00</th>\n",
       "      <td>45.95</td>\n",
       "      <td>46.100</td>\n",
       "      <td>45.880</td>\n",
       "      <td>46.00</td>\n",
       "      <td>5210266</td>\n",
       "      <td>64.15</td>\n",
       "      <td>64.71</td>\n",
       "      <td>63.9800</td>\n",
       "      <td>64.55</td>\n",
       "      <td>9204706</td>\n",
       "      <td>59.48</td>\n",
       "      <td>59.67</td>\n",
       "      <td>58.56</td>\n",
       "      <td>59.28</td>\n",
       "      <td>4911992</td>\n",
       "    </tr>\n",
       "  </tbody>\n",
       "</table>\n",
       "</div>"
      ],
      "text/plain": [
       "                              KO                                    NKE  \\\n",
       "                            open    high     low  close   volume   open   \n",
       "time                                                                      \n",
       "2018-01-02 00:00:00-05:00  45.91  45.940  45.505  45.55  8059230  62.85   \n",
       "2018-01-03 00:00:00-05:00  45.49  45.690  45.340  45.42  7324413  63.48   \n",
       "2018-01-04 00:00:00-05:00  45.56  46.215  45.450  46.08  9368841  63.40   \n",
       "2018-01-05 00:00:00-05:00  46.02  46.200  45.790  46.04  8376423  63.70   \n",
       "2018-01-08 00:00:00-05:00  45.95  46.100  45.880  46.00  5210266  64.15   \n",
       "\n",
       "                                                            SBUX         \\\n",
       "                            high      low  close   volume   open   high   \n",
       "time                                                                      \n",
       "2018-01-02 00:00:00-05:00  63.49  62.8500  63.49  4341886  57.95  58.21   \n",
       "2018-01-03 00:00:00-05:00  63.66  62.7600  63.47  4834564  57.92  58.96   \n",
       "2018-01-04 00:00:00-05:00  63.55  62.5500  63.44  4789509  58.99  59.41   \n",
       "2018-01-05 00:00:00-05:00  64.30  63.4701  63.97  6485377  59.13  59.69   \n",
       "2018-01-08 00:00:00-05:00  64.71  63.9800  64.55  9204706  59.48  59.67   \n",
       "\n",
       "                                                  \n",
       "                             low  close   volume  \n",
       "time                                              \n",
       "2018-01-02 00:00:00-05:00  57.48  57.63  5759477  \n",
       "2018-01-03 00:00:00-05:00  57.80  58.72  5967040  \n",
       "2018-01-04 00:00:00-05:00  58.73  58.94  4693409  \n",
       "2018-01-05 00:00:00-05:00  59.07  59.58  4635754  \n",
       "2018-01-08 00:00:00-05:00  58.56  59.28  4911992  "
      ]
     },
     "execution_count": 8,
     "metadata": {},
     "output_type": "execute_result"
    }
   ],
   "source": [
    "# Set the ticker\n",
    "tsla_ticker = ['KO', 'SBUX', 'NKE']\n",
    "\n",
    "# Set timeframe to '1D'\n",
    "tsla_timeframe = '1D'\n",
    "\n",
    "# Set start and end datetimes of 3 years from Today\n",
    "tsla_start_date = pd.Timestamp('2018-1-1', tz='America/New_York').isoformat()\n",
    "tsla_end_date = pd.Timestamp('2021-1-1', tz='America/New_York').isoformat()\n",
    "\n",
    "# Get 3 years worth of historical data for TSLA\n",
    "tsla_df = api.get_barset(tsla_ticker, timeframe=tsla_timeframe, start=tsla_start_date, end=tsla_end_date, limit=1000).df\n",
    "\n",
    "tsla_df.head()"
   ]
  },
  {
   "cell_type": "markdown",
   "metadata": {},
   "source": [
    "### Run the Monte Carlo Simulation"
   ]
  },
  {
   "cell_type": "code",
   "execution_count": 13,
   "metadata": {},
   "outputs": [
    {
     "data": {
      "text/plain": [
       "(756, 18)"
      ]
     },
     "execution_count": 13,
     "metadata": {},
     "output_type": "execute_result"
    }
   ],
   "source": [
    "# Set number of simulations\n",
    "num_of_sim = 50\n",
    "\n",
    "wt = [0.6, 0.2, 0.2]\n",
    "\n",
    "# Configure a Monte Carlo simulation to forecast three years daily returns\n",
    "tsla_mc = MCSimulation(portfolio_data=tsla_df, weights=wt, num_simulation=num_of_sim, num_trading_days=252*3)\n",
    "\n",
    "tsla_mc.portfolio_data.shape"
   ]
  },
  {
   "cell_type": "code",
   "execution_count": 15,
   "metadata": {},
   "outputs": [
    {
     "name": "stdout",
     "output_type": "stream",
     "text": [
      "Running Monte Carlo simulation number 0.\n",
      "Running Monte Carlo simulation number 10.\n",
      "Running Monte Carlo simulation number 20.\n",
      "Running Monte Carlo simulation number 30.\n",
      "Running Monte Carlo simulation number 40.\n"
     ]
    },
    {
     "data": {
      "text/html": [
       "<div>\n",
       "<style scoped>\n",
       "    .dataframe tbody tr th:only-of-type {\n",
       "        vertical-align: middle;\n",
       "    }\n",
       "\n",
       "    .dataframe tbody tr th {\n",
       "        vertical-align: top;\n",
       "    }\n",
       "\n",
       "    .dataframe thead th {\n",
       "        text-align: right;\n",
       "    }\n",
       "</style>\n",
       "<table border=\"1\" class=\"dataframe\">\n",
       "  <thead>\n",
       "    <tr style=\"text-align: right;\">\n",
       "      <th></th>\n",
       "      <th>0</th>\n",
       "      <th>1</th>\n",
       "      <th>2</th>\n",
       "      <th>3</th>\n",
       "      <th>4</th>\n",
       "      <th>5</th>\n",
       "      <th>6</th>\n",
       "      <th>7</th>\n",
       "      <th>8</th>\n",
       "      <th>9</th>\n",
       "      <th>...</th>\n",
       "      <th>40</th>\n",
       "      <th>41</th>\n",
       "      <th>42</th>\n",
       "      <th>43</th>\n",
       "      <th>44</th>\n",
       "      <th>45</th>\n",
       "      <th>46</th>\n",
       "      <th>47</th>\n",
       "      <th>48</th>\n",
       "      <th>49</th>\n",
       "    </tr>\n",
       "  </thead>\n",
       "  <tbody>\n",
       "    <tr>\n",
       "      <th>0</th>\n",
       "      <td>1.000000</td>\n",
       "      <td>1.000000</td>\n",
       "      <td>1.000000</td>\n",
       "      <td>1.000000</td>\n",
       "      <td>1.000000</td>\n",
       "      <td>1.000000</td>\n",
       "      <td>1.000000</td>\n",
       "      <td>1.000000</td>\n",
       "      <td>1.000000</td>\n",
       "      <td>1.000000</td>\n",
       "      <td>...</td>\n",
       "      <td>1.000000</td>\n",
       "      <td>1.000000</td>\n",
       "      <td>1.000000</td>\n",
       "      <td>1.000000</td>\n",
       "      <td>1.000000</td>\n",
       "      <td>1.000000</td>\n",
       "      <td>1.000000</td>\n",
       "      <td>1.000000</td>\n",
       "      <td>1.000000</td>\n",
       "      <td>1.000000</td>\n",
       "    </tr>\n",
       "    <tr>\n",
       "      <th>1</th>\n",
       "      <td>0.988240</td>\n",
       "      <td>1.000642</td>\n",
       "      <td>0.998815</td>\n",
       "      <td>0.986588</td>\n",
       "      <td>0.991108</td>\n",
       "      <td>1.003068</td>\n",
       "      <td>0.989302</td>\n",
       "      <td>0.986856</td>\n",
       "      <td>0.994187</td>\n",
       "      <td>0.999901</td>\n",
       "      <td>...</td>\n",
       "      <td>1.009160</td>\n",
       "      <td>1.008680</td>\n",
       "      <td>1.012306</td>\n",
       "      <td>0.982301</td>\n",
       "      <td>0.998394</td>\n",
       "      <td>1.013597</td>\n",
       "      <td>1.003273</td>\n",
       "      <td>0.990750</td>\n",
       "      <td>1.009791</td>\n",
       "      <td>1.000373</td>\n",
       "    </tr>\n",
       "    <tr>\n",
       "      <th>2</th>\n",
       "      <td>0.993940</td>\n",
       "      <td>1.007634</td>\n",
       "      <td>0.995548</td>\n",
       "      <td>0.993834</td>\n",
       "      <td>0.983102</td>\n",
       "      <td>0.990086</td>\n",
       "      <td>0.989163</td>\n",
       "      <td>0.976262</td>\n",
       "      <td>0.989290</td>\n",
       "      <td>1.014820</td>\n",
       "      <td>...</td>\n",
       "      <td>1.023376</td>\n",
       "      <td>1.006830</td>\n",
       "      <td>1.000607</td>\n",
       "      <td>0.972931</td>\n",
       "      <td>0.996909</td>\n",
       "      <td>1.029591</td>\n",
       "      <td>1.005978</td>\n",
       "      <td>1.006302</td>\n",
       "      <td>1.012164</td>\n",
       "      <td>1.002994</td>\n",
       "    </tr>\n",
       "    <tr>\n",
       "      <th>3</th>\n",
       "      <td>0.995977</td>\n",
       "      <td>1.006588</td>\n",
       "      <td>1.012763</td>\n",
       "      <td>1.001516</td>\n",
       "      <td>0.968923</td>\n",
       "      <td>0.996335</td>\n",
       "      <td>0.983060</td>\n",
       "      <td>0.964818</td>\n",
       "      <td>0.982706</td>\n",
       "      <td>0.998516</td>\n",
       "      <td>...</td>\n",
       "      <td>1.024111</td>\n",
       "      <td>1.004666</td>\n",
       "      <td>0.990628</td>\n",
       "      <td>0.977216</td>\n",
       "      <td>0.985482</td>\n",
       "      <td>1.038347</td>\n",
       "      <td>1.004379</td>\n",
       "      <td>0.994240</td>\n",
       "      <td>1.023121</td>\n",
       "      <td>1.006612</td>\n",
       "    </tr>\n",
       "    <tr>\n",
       "      <th>4</th>\n",
       "      <td>0.977130</td>\n",
       "      <td>1.013656</td>\n",
       "      <td>1.037857</td>\n",
       "      <td>1.011690</td>\n",
       "      <td>0.972430</td>\n",
       "      <td>0.997323</td>\n",
       "      <td>0.978599</td>\n",
       "      <td>0.947475</td>\n",
       "      <td>0.988049</td>\n",
       "      <td>1.012759</td>\n",
       "      <td>...</td>\n",
       "      <td>1.040381</td>\n",
       "      <td>1.000551</td>\n",
       "      <td>0.980000</td>\n",
       "      <td>0.968458</td>\n",
       "      <td>0.974552</td>\n",
       "      <td>1.033195</td>\n",
       "      <td>0.984736</td>\n",
       "      <td>1.003451</td>\n",
       "      <td>1.032593</td>\n",
       "      <td>1.005895</td>\n",
       "    </tr>\n",
       "    <tr>\n",
       "      <th>...</th>\n",
       "      <td>...</td>\n",
       "      <td>...</td>\n",
       "      <td>...</td>\n",
       "      <td>...</td>\n",
       "      <td>...</td>\n",
       "      <td>...</td>\n",
       "      <td>...</td>\n",
       "      <td>...</td>\n",
       "      <td>...</td>\n",
       "      <td>...</td>\n",
       "      <td>...</td>\n",
       "      <td>...</td>\n",
       "      <td>...</td>\n",
       "      <td>...</td>\n",
       "      <td>...</td>\n",
       "      <td>...</td>\n",
       "      <td>...</td>\n",
       "      <td>...</td>\n",
       "      <td>...</td>\n",
       "      <td>...</td>\n",
       "      <td>...</td>\n",
       "    </tr>\n",
       "    <tr>\n",
       "      <th>752</th>\n",
       "      <td>2.485181</td>\n",
       "      <td>1.151900</td>\n",
       "      <td>1.123280</td>\n",
       "      <td>1.634324</td>\n",
       "      <td>1.578795</td>\n",
       "      <td>1.553537</td>\n",
       "      <td>1.792429</td>\n",
       "      <td>2.900526</td>\n",
       "      <td>2.127208</td>\n",
       "      <td>2.045050</td>\n",
       "      <td>...</td>\n",
       "      <td>2.273671</td>\n",
       "      <td>1.006125</td>\n",
       "      <td>1.740421</td>\n",
       "      <td>1.034631</td>\n",
       "      <td>1.694218</td>\n",
       "      <td>1.770205</td>\n",
       "      <td>0.985072</td>\n",
       "      <td>1.076969</td>\n",
       "      <td>1.090284</td>\n",
       "      <td>2.511620</td>\n",
       "    </tr>\n",
       "    <tr>\n",
       "      <th>753</th>\n",
       "      <td>2.466234</td>\n",
       "      <td>1.112713</td>\n",
       "      <td>1.127427</td>\n",
       "      <td>1.630069</td>\n",
       "      <td>1.589455</td>\n",
       "      <td>1.582823</td>\n",
       "      <td>1.807976</td>\n",
       "      <td>2.819212</td>\n",
       "      <td>2.095654</td>\n",
       "      <td>2.010690</td>\n",
       "      <td>...</td>\n",
       "      <td>2.255955</td>\n",
       "      <td>1.029489</td>\n",
       "      <td>1.764175</td>\n",
       "      <td>1.035898</td>\n",
       "      <td>1.643700</td>\n",
       "      <td>1.756081</td>\n",
       "      <td>0.991341</td>\n",
       "      <td>1.081100</td>\n",
       "      <td>1.090306</td>\n",
       "      <td>2.505557</td>\n",
       "    </tr>\n",
       "    <tr>\n",
       "      <th>754</th>\n",
       "      <td>2.445857</td>\n",
       "      <td>1.115687</td>\n",
       "      <td>1.126738</td>\n",
       "      <td>1.621526</td>\n",
       "      <td>1.593911</td>\n",
       "      <td>1.591956</td>\n",
       "      <td>1.809552</td>\n",
       "      <td>2.826837</td>\n",
       "      <td>2.104147</td>\n",
       "      <td>2.048117</td>\n",
       "      <td>...</td>\n",
       "      <td>2.247882</td>\n",
       "      <td>1.041283</td>\n",
       "      <td>1.741778</td>\n",
       "      <td>1.055095</td>\n",
       "      <td>1.653724</td>\n",
       "      <td>1.760989</td>\n",
       "      <td>0.982500</td>\n",
       "      <td>1.085973</td>\n",
       "      <td>1.079494</td>\n",
       "      <td>2.490262</td>\n",
       "    </tr>\n",
       "    <tr>\n",
       "      <th>755</th>\n",
       "      <td>2.448917</td>\n",
       "      <td>1.121375</td>\n",
       "      <td>1.124918</td>\n",
       "      <td>1.655168</td>\n",
       "      <td>1.616982</td>\n",
       "      <td>1.587524</td>\n",
       "      <td>1.826953</td>\n",
       "      <td>2.835289</td>\n",
       "      <td>2.103278</td>\n",
       "      <td>2.057457</td>\n",
       "      <td>...</td>\n",
       "      <td>2.256918</td>\n",
       "      <td>1.058706</td>\n",
       "      <td>1.767112</td>\n",
       "      <td>1.061656</td>\n",
       "      <td>1.643346</td>\n",
       "      <td>1.733192</td>\n",
       "      <td>0.969117</td>\n",
       "      <td>1.077523</td>\n",
       "      <td>1.089469</td>\n",
       "      <td>2.516243</td>\n",
       "    </tr>\n",
       "    <tr>\n",
       "      <th>756</th>\n",
       "      <td>2.479397</td>\n",
       "      <td>1.130557</td>\n",
       "      <td>1.129629</td>\n",
       "      <td>1.669282</td>\n",
       "      <td>1.617124</td>\n",
       "      <td>1.599736</td>\n",
       "      <td>1.867891</td>\n",
       "      <td>2.844809</td>\n",
       "      <td>2.066937</td>\n",
       "      <td>2.063339</td>\n",
       "      <td>...</td>\n",
       "      <td>2.272515</td>\n",
       "      <td>1.056672</td>\n",
       "      <td>1.800163</td>\n",
       "      <td>1.047701</td>\n",
       "      <td>1.655877</td>\n",
       "      <td>1.737905</td>\n",
       "      <td>0.964101</td>\n",
       "      <td>1.053688</td>\n",
       "      <td>1.083742</td>\n",
       "      <td>2.504380</td>\n",
       "    </tr>\n",
       "  </tbody>\n",
       "</table>\n",
       "<p>757 rows × 50 columns</p>\n",
       "</div>"
      ],
      "text/plain": [
       "           0         1         2         3         4         5         6   \\\n",
       "0    1.000000  1.000000  1.000000  1.000000  1.000000  1.000000  1.000000   \n",
       "1    0.988240  1.000642  0.998815  0.986588  0.991108  1.003068  0.989302   \n",
       "2    0.993940  1.007634  0.995548  0.993834  0.983102  0.990086  0.989163   \n",
       "3    0.995977  1.006588  1.012763  1.001516  0.968923  0.996335  0.983060   \n",
       "4    0.977130  1.013656  1.037857  1.011690  0.972430  0.997323  0.978599   \n",
       "..        ...       ...       ...       ...       ...       ...       ...   \n",
       "752  2.485181  1.151900  1.123280  1.634324  1.578795  1.553537  1.792429   \n",
       "753  2.466234  1.112713  1.127427  1.630069  1.589455  1.582823  1.807976   \n",
       "754  2.445857  1.115687  1.126738  1.621526  1.593911  1.591956  1.809552   \n",
       "755  2.448917  1.121375  1.124918  1.655168  1.616982  1.587524  1.826953   \n",
       "756  2.479397  1.130557  1.129629  1.669282  1.617124  1.599736  1.867891   \n",
       "\n",
       "           7         8         9   ...        40        41        42  \\\n",
       "0    1.000000  1.000000  1.000000  ...  1.000000  1.000000  1.000000   \n",
       "1    0.986856  0.994187  0.999901  ...  1.009160  1.008680  1.012306   \n",
       "2    0.976262  0.989290  1.014820  ...  1.023376  1.006830  1.000607   \n",
       "3    0.964818  0.982706  0.998516  ...  1.024111  1.004666  0.990628   \n",
       "4    0.947475  0.988049  1.012759  ...  1.040381  1.000551  0.980000   \n",
       "..        ...       ...       ...  ...       ...       ...       ...   \n",
       "752  2.900526  2.127208  2.045050  ...  2.273671  1.006125  1.740421   \n",
       "753  2.819212  2.095654  2.010690  ...  2.255955  1.029489  1.764175   \n",
       "754  2.826837  2.104147  2.048117  ...  2.247882  1.041283  1.741778   \n",
       "755  2.835289  2.103278  2.057457  ...  2.256918  1.058706  1.767112   \n",
       "756  2.844809  2.066937  2.063339  ...  2.272515  1.056672  1.800163   \n",
       "\n",
       "           43        44        45        46        47        48        49  \n",
       "0    1.000000  1.000000  1.000000  1.000000  1.000000  1.000000  1.000000  \n",
       "1    0.982301  0.998394  1.013597  1.003273  0.990750  1.009791  1.000373  \n",
       "2    0.972931  0.996909  1.029591  1.005978  1.006302  1.012164  1.002994  \n",
       "3    0.977216  0.985482  1.038347  1.004379  0.994240  1.023121  1.006612  \n",
       "4    0.968458  0.974552  1.033195  0.984736  1.003451  1.032593  1.005895  \n",
       "..        ...       ...       ...       ...       ...       ...       ...  \n",
       "752  1.034631  1.694218  1.770205  0.985072  1.076969  1.090284  2.511620  \n",
       "753  1.035898  1.643700  1.756081  0.991341  1.081100  1.090306  2.505557  \n",
       "754  1.055095  1.653724  1.760989  0.982500  1.085973  1.079494  2.490262  \n",
       "755  1.061656  1.643346  1.733192  0.969117  1.077523  1.089469  2.516243  \n",
       "756  1.047701  1.655877  1.737905  0.964101  1.053688  1.083742  2.504380  \n",
       "\n",
       "[757 rows x 50 columns]"
      ]
     },
     "execution_count": 15,
     "metadata": {},
     "output_type": "execute_result"
    }
   ],
   "source": [
    "# Run Monte Carlo simulations to forecast three years daily returns\n",
    "tsla_mc.calc_cumulative_return()"
   ]
  },
  {
   "cell_type": "code",
   "execution_count": 25,
   "metadata": {},
   "outputs": [
    {
     "data": {
      "image/png": "[encoded data removed]",
      "text/plain": [
       "<Figure size 432x288 with 1 Axes>"
      ]
     },
     "metadata": {
      "needs_background": "light"
     },
     "output_type": "display_data"
    }
   ],
   "source": [
    "tsla_line_plot = tsla_mc.plot_simulation()"
   ]
  },
  {
   "cell_type": "code",
   "execution_count": 17,
   "metadata": {},
   "outputs": [
    {
     "data": {
      "image/png": "[encoded data removed]",
      "text/plain": [
       "<Figure size 432x288 with 1 Axes>"
      ]
     },
     "metadata": {
      "needs_background": "light"
     },
     "output_type": "display_data"
    }
   ],
   "source": [
    "tsla_dist_plot = tsla_mc.plot_distribution()"
   ]
  },
  {
   "cell_type": "markdown",
   "metadata": {},
   "source": [
    "### Create a new DataFrame to hold the summary statistics for the simulated daily returns."
   ]
  },
  {
   "cell_type": "code",
   "execution_count": 18,
   "metadata": {},
   "outputs": [
    {
     "name": "stdout",
     "output_type": "stream",
     "text": [
      "count           50.000000\n",
      "mean             1.735369\n",
      "std              0.593777\n",
      "min              0.959525\n",
      "25%              1.306639\n",
      "50%              1.662579\n",
      "75%              1.960766\n",
      "max              4.095541\n",
      "95% CI Lower     0.982911\n",
      "95% CI Upper     2.796380\n",
      "Name: 756, dtype: float64\n",
      "\n"
     ]
    },
    {
     "data": {
      "text/html": [
       "<div>\n",
       "<style scoped>\n",
       "    .dataframe tbody tr th:only-of-type {\n",
       "        vertical-align: middle;\n",
       "    }\n",
       "\n",
       "    .dataframe tbody tr th {\n",
       "        vertical-align: top;\n",
       "    }\n",
       "\n",
       "    .dataframe thead th {\n",
       "        text-align: right;\n",
       "    }\n",
       "</style>\n",
       "<table border=\"1\" class=\"dataframe\">\n",
       "  <thead>\n",
       "    <tr style=\"text-align: right;\">\n",
       "      <th></th>\n",
       "      <th>mean</th>\n",
       "      <th>median</th>\n",
       "      <th>max</th>\n",
       "      <th>min</th>\n",
       "    </tr>\n",
       "  </thead>\n",
       "  <tbody>\n",
       "    <tr>\n",
       "      <th>752</th>\n",
       "      <td>1.728624</td>\n",
       "      <td>1.643405</td>\n",
       "      <td>3.995166</td>\n",
       "      <td>0.966343</td>\n",
       "    </tr>\n",
       "    <tr>\n",
       "      <th>753</th>\n",
       "      <td>1.728970</td>\n",
       "      <td>1.639034</td>\n",
       "      <td>4.098531</td>\n",
       "      <td>0.962296</td>\n",
       "    </tr>\n",
       "    <tr>\n",
       "      <th>754</th>\n",
       "      <td>1.730169</td>\n",
       "      <td>1.638951</td>\n",
       "      <td>4.082004</td>\n",
       "      <td>0.970856</td>\n",
       "    </tr>\n",
       "    <tr>\n",
       "      <th>755</th>\n",
       "      <td>1.732092</td>\n",
       "      <td>1.649257</td>\n",
       "      <td>4.066672</td>\n",
       "      <td>0.958872</td>\n",
       "    </tr>\n",
       "    <tr>\n",
       "      <th>756</th>\n",
       "      <td>1.735369</td>\n",
       "      <td>1.662579</td>\n",
       "      <td>4.095541</td>\n",
       "      <td>0.959525</td>\n",
       "    </tr>\n",
       "  </tbody>\n",
       "</table>\n",
       "</div>"
      ],
      "text/plain": [
       "         mean    median       max       min\n",
       "752  1.728624  1.643405  3.995166  0.966343\n",
       "753  1.728970  1.639034  4.098531  0.962296\n",
       "754  1.730169  1.638951  4.082004  0.970856\n",
       "755  1.732092  1.649257  4.066672  0.958872\n",
       "756  1.735369  1.662579  4.095541  0.959525"
      ]
     },
     "execution_count": 18,
     "metadata": {},
     "output_type": "execute_result"
    }
   ],
   "source": [
    "# Compute summary statistics from the simulated daily returns\n",
    "tsla_summary = tsla_mc.summarize_cumulative_return()\n",
    "print(tsla_summary)\n",
    "\n",
    "# Create a DataFrame with the summary statistics\n",
    "tsla_summary = {\n",
    "    'mean': list(tsla_mc.simulated_return.mean(axis=1)),\n",
    "    'median': list(tsla_mc.simulated_return.median(axis=1)),\n",
    "    'max': list(tsla_mc.simulated_return.max(axis=1)),\n",
    "    'min': list(tsla_mc.simulated_return.min(axis=1))\n",
    "}\n",
    "\n",
    "tsla_summary_df = pd.DataFrame(tsla_summary)\n",
    "\n",
    "# Display sample data\n",
    "print()\n",
    "tsla_summary_df.tail()"
   ]
  },
  {
   "cell_type": "markdown",
   "metadata": {},
   "source": [
    "### Generate a line plot to visualize the summary statistics for the simulated daily returns"
   ]
  },
  {
   "cell_type": "code",
   "execution_count": 19,
   "metadata": {},
   "outputs": [
    {
     "data": {
      "text/plain": [
       "<AxesSubplot:title={'center':'Simulated daily returns for TSLA over 3 years'}>"
      ]
     },
     "execution_count": 19,
     "metadata": {},
     "output_type": "execute_result"
    },
    {
     "data": {
      "image/png": "[encoded data removed]",
      "text/plain": [
       "<Figure size 432x288 with 1 Axes>"
      ]
     },
     "metadata": {
      "needs_background": "light"
     },
     "output_type": "display_data"
    }
   ],
   "source": [
    "# Use the `plot` function to visually analyze the trajectory of TSLA stock daily returns on the next three years of trading days simulation\n",
    "tsla_summary_df.plot(title='Simulated daily returns for TSLA over 3 years')"
   ]
  },
  {
   "cell_type": "markdown",
   "metadata": {},
   "source": [
    "### Create a new DataFrame to hold the summary statistics for the simulated daily returns assuming an initial investment of `$10,000`"
   ]
  },
  {
   "cell_type": "code",
   "execution_count": 20,
   "metadata": {},
   "outputs": [
    {
     "data": {
      "text/html": [
       "<div>\n",
       "<style scoped>\n",
       "    .dataframe tbody tr th:only-of-type {\n",
       "        vertical-align: middle;\n",
       "    }\n",
       "\n",
       "    .dataframe tbody tr th {\n",
       "        vertical-align: top;\n",
       "    }\n",
       "\n",
       "    .dataframe thead th {\n",
       "        text-align: right;\n",
       "    }\n",
       "</style>\n",
       "<table border=\"1\" class=\"dataframe\">\n",
       "  <thead>\n",
       "    <tr style=\"text-align: right;\">\n",
       "      <th></th>\n",
       "      <th>mean</th>\n",
       "      <th>median</th>\n",
       "      <th>max</th>\n",
       "      <th>min</th>\n",
       "    </tr>\n",
       "  </thead>\n",
       "  <tbody>\n",
       "    <tr>\n",
       "      <th>0</th>\n",
       "      <td>10000.000000</td>\n",
       "      <td>10000.000000</td>\n",
       "      <td>10000.000000</td>\n",
       "      <td>10000.000000</td>\n",
       "    </tr>\n",
       "    <tr>\n",
       "      <th>1</th>\n",
       "      <td>10010.026340</td>\n",
       "      <td>10000.334195</td>\n",
       "      <td>10308.201768</td>\n",
       "      <td>9822.428921</td>\n",
       "    </tr>\n",
       "    <tr>\n",
       "      <th>2</th>\n",
       "      <td>10009.176888</td>\n",
       "      <td>10023.642746</td>\n",
       "      <td>10419.787860</td>\n",
       "      <td>9729.309784</td>\n",
       "    </tr>\n",
       "    <tr>\n",
       "      <th>3</th>\n",
       "      <td>10026.708710</td>\n",
       "      <td>10027.662942</td>\n",
       "      <td>10513.519895</td>\n",
       "      <td>9648.175735</td>\n",
       "    </tr>\n",
       "    <tr>\n",
       "      <th>4</th>\n",
       "      <td>10028.876873</td>\n",
       "      <td>9995.905246</td>\n",
       "      <td>10647.787405</td>\n",
       "      <td>9474.752841</td>\n",
       "    </tr>\n",
       "  </tbody>\n",
       "</table>\n",
       "</div>"
      ],
      "text/plain": [
       "           mean        median           max           min\n",
       "0  10000.000000  10000.000000  10000.000000  10000.000000\n",
       "1  10010.026340  10000.334195  10308.201768   9822.428921\n",
       "2  10009.176888  10023.642746  10419.787860   9729.309784\n",
       "3  10026.708710  10027.662942  10513.519895   9648.175735\n",
       "4  10028.876873   9995.905246  10647.787405   9474.752841"
      ]
     },
     "execution_count": 20,
     "metadata": {},
     "output_type": "execute_result"
    }
   ],
   "source": [
    "# Set initial investment\n",
    "initial_investment = 10000\n",
    "\n",
    "# Multiply an initial investment by the daily returns of simulated stock prices to return the progression of daily returns in terms of money\n",
    "projected_simulated_daily_returns = initial_investment * tsla_summary_df\n",
    "\n",
    "# Display sample data\n",
    "projected_simulated_daily_returns.head()"
   ]
  },
  {
   "cell_type": "markdown",
   "metadata": {},
   "source": [
    "### Generate a line plot to visualize the updated summary statistics for simulated daily returns using a `$10,000` initial investment"
   ]
  },
  {
   "cell_type": "code",
   "execution_count": 21,
   "metadata": {},
   "outputs": [
    {
     "data": {
      "text/plain": [
       "<AxesSubplot:title={'center':'Simulated returns'}>"
      ]
     },
     "execution_count": 21,
     "metadata": {},
     "output_type": "execute_result"
    },
    {
     "data": {
      "image/png": "[encoded data removed]",
      "text/plain": [
       "<Figure size 720x504 with 1 Axes>"
      ]
     },
     "metadata": {
      "needs_background": "light"
     },
     "output_type": "display_data"
    }
   ],
   "source": [
    "# Use the 'plot' function to create a chart of the simulated profits/losses\n",
    "projected_simulated_daily_returns.plot(title='Simulated returns', figsize=(10, 7))"
   ]
  },
  {
   "cell_type": "markdown",
   "metadata": {},
   "source": [
    "### Calculate the range of possible outcomes for our $10,000 investment with a `95%` confidence interval"
   ]
  },
  {
   "cell_type": "code",
   "execution_count": 22,
   "metadata": {},
   "outputs": [
    {
     "name": "stdout",
     "output_type": "stream",
     "text": [
      "count           50.000000\n",
      "mean             1.735369\n",
      "std              0.593777\n",
      "min              0.959525\n",
      "25%              1.306639\n",
      "50%              1.662579\n",
      "75%              1.960766\n",
      "max              4.095541\n",
      "95% CI Lower     0.982911\n",
      "95% CI Upper     2.796380\n",
      "Name: 756, dtype: float64\n"
     ]
    }
   ],
   "source": [
    "# Fetch summary statistics from the Monte Carlo simulation results\n",
    "tbl = tsla_mc.summarize_cumulative_return()\n",
    "\n",
    "# Print summary statistics\n",
    "print(tbl)"
   ]
  },
  {
   "cell_type": "code",
   "execution_count": 23,
   "metadata": {},
   "outputs": [
    {
     "name": "stdout",
     "output_type": "stream",
     "text": [
      "There is a 95% chance that an initial investment of $10,000 in the portfolio over the next 3 years will end within the range of $9829.113971968423 and $27963.801086009702.\n"
     ]
    }
   ],
   "source": [
    "# Use the lower and upper `95%` confidence intervals to calculate the range of the possible outcomes of our $10,000 investments in TSLA stocks\n",
    "ci_lower = tbl[8] * 10000\n",
    "ci_upper = tbl[9] * 10000\n",
    "\n",
    "# Print results\n",
    "print(f\"There is a 95% chance that an initial investment of $10,000 in the portfolio\"\n",
    "      f\" over the next 3 years will end within the range of\"\n",
    "      f\" ${ci_lower} and ${ci_upper}.\")"
   ]
  },
  {
   "cell_type": "code",
   "execution_count": null,
   "metadata": {},
   "outputs": [],
   "source": []
  }
 ],
 "metadata": {
  "kernel_info": {
   "name": "python3"
  },
  "kernelspec": {
   "display_name": "Python 3",
   "language": "python",
   "name": "python3"
  },
  "language_info": {
   "codemirror_mode": {
    "name": "ipython",
    "version": 3
   },
   "file_extension": ".py",
   "mimetype": "text/x-python",
   "name": "python",
   "nbconvert_exporter": "python",
   "pygments_lexer": "ipython3",
   "version": "3.7.1"
  },
  "nteract": {
   "version": "0.12.3"
  }
 },
 "nbformat": 4,
 "nbformat_minor": 4
}
