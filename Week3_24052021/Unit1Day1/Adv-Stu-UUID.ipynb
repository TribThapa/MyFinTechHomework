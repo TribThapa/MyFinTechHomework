{
 "cells": [
  {
   "cell_type": "code",
   "execution_count": 2,
   "metadata": {},
   "outputs": [],
   "source": [
    "import random\n",
    "import string"
   ]
  },
  {
   "cell_type": "code",
   "execution_count": 77,
   "metadata": {},
   "outputs": [
    {
     "name": "stdout",
     "output_type": "stream",
     "text": [
      "5y3OUQEGfD\n"
     ]
    }
   ],
   "source": [
    "def return_UUID(param):\n",
    "    if len(param) >= 4 and type(param) == str:\n",
    "        print(param)\n",
    "    else:\n",
    "        print('bad')\n",
    "    return\n",
    "\n",
    "length >= 2\n",
    "\n",
    "random_str = ''.join(random.sample(string.ascii_letters+string.digits,length))\n",
    "\n",
    "# print(random_str)\n",
    "# print(f\"length: {len(random_str)}\")\n",
    "# print(f\"data type: {type(random_str)}\")\n",
    "           \n",
    "return_UUID(random_str)"
   ]
  }
 ],
 "metadata": {
  "kernelspec": {
   "display_name": "Python 3",
   "language": "python",
   "name": "python3"
  },
  "language_info": {
   "codemirror_mode": {
    "name": "ipython",
    "version": 3
   },
   "file_extension": ".py",
   "mimetype": "text/x-python",
   "name": "python",
   "nbconvert_exporter": "python",
   "pygments_lexer": "ipython3",
   "version": "3.7.1"
  }
 },
 "nbformat": 4,
 "nbformat_minor": 2
}
