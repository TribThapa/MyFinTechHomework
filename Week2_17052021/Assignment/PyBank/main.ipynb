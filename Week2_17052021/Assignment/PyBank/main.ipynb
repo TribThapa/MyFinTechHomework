{
 "cells": [
  {
   "cell_type": "code",
   "execution_count": 94,
   "metadata": {},
   "outputs": [],
   "source": [
    "# Import libraries\n",
    "from pathlib import Path\n",
    "import csv\n",
    "import pandas as pd"
   ]
  },
  {
   "cell_type": "code",
   "execution_count": 96,
   "metadata": {},
   "outputs": [
    {
     "name": "stdout",
     "output_type": "stream",
     "text": [
      "Financial Analysis\n",
      "-------------------------------------------\n",
      "Total months: 86\n",
      "Total: $38382578\n",
      "Average change: $446309.05\n",
      "Greatest Increase in Profits: ['Feb-2012', '1170593']\n",
      "Greatest Decrease in Profits: ['Sep-2013', '-1196225']\n"
     ]
    }
   ],
   "source": [
    "Budget_data = Path(r'C:\\Users\\TribThapa\\Desktop\\Thapa\\ResearchFellow\\Courses\\FinTech_Bootcamp_MonashUni2021\\monu-mel-virt-fin-pt-05-2021-u-c\\Homework\\Week 2\\Instructions\\PyBank\\Resources\\budget_data.csv')\n",
    "\n",
    "total_months = 0\n",
    "total_PL_list = 0\n",
    "price = []\n",
    "\n",
    "with open(Budget_data, 'r') as file:\n",
    "    Budget_data_file = csv.reader(file, delimiter=',')\n",
    "    \n",
    "    Budget_data_file_header = next(Budget_data_file)\n",
    "    #print(Budget_data_file_header)\n",
    "\n",
    "    for row in Budget_data_file:\n",
    "        total_months += 1\n",
    "        #print(row[1])\n",
    "                     \n",
    "        split_rows = row[1].rsplit(',', 0)[0]\n",
    "        #print(split_rows)        \n",
    "        total_PL_list += int(split_rows)  \n",
    "        \n",
    "        price.append(int(row[1]))               \n",
    "        \n",
    "avg_change = round(total_PL_list/total_months, 2)\n",
    "#print(avg_change)\n",
    "\n",
    "grt_inc = max(price)\n",
    "#print(grt_inc)\n",
    "    \n",
    "grt_dec = min(price)\n",
    "#print(grt_dec)\n",
    "\n",
    "grt_inc_month_amt = []\n",
    "grt_dec_month_amt = []\n",
    "none = []\n",
    "\n",
    "with open(Budget_data, 'r') as file2:\n",
    "    Budget_data_file2 = csv.reader(file2, delimiter=',')\n",
    "    \n",
    "    Budget_data_file_header2 = next(Budget_data_file2)\n",
    "\n",
    "    for row in Budget_data_file2:\n",
    "        if row[1] == str(grt_inc): \n",
    "            grt_inc_month_amt.append(row)\n",
    "        elif row[1] == str(grt_dec):\n",
    "            grt_dec_month_amt.append(row)\n",
    "        else:\n",
    "            none.append(row)\n",
    "       \n",
    "print(f\"Financial Analysis\")\n",
    "print(\"-------------------------------------------\")\n",
    "print(f\"Total months: {total_months}\")\n",
    "print(f\"Total: ${total_PL_list}\")\n",
    "print(f\"Average change: ${avg_change}\")  \n",
    "print(f\"Greatest Increase in Profits: {grt_inc_month_amt[0]}\")\n",
    "print(f\"Greatest Decrease in Profits: {grt_dec_month_amt[0]}\")"
   ]
  },
  {
   "cell_type": "code",
   "execution_count": null,
   "metadata": {},
   "outputs": [],
   "source": []
  }
 ],
 "metadata": {
  "kernelspec": {
   "display_name": "Python 3",
   "language": "python",
   "name": "python3"
  },
  "language_info": {
   "codemirror_mode": {
    "name": "ipython",
    "version": 3
   },
   "file_extension": ".py",
   "mimetype": "text/x-python",
   "name": "python",
   "nbconvert_exporter": "python",
   "pygments_lexer": "ipython3",
   "version": "3.7.1"
  }
 },
 "nbformat": 4,
 "nbformat_minor": 2
}
