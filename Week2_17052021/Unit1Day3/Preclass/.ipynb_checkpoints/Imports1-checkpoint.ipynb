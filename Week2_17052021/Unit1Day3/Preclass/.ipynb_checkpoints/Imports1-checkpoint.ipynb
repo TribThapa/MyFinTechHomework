{
 "cells": [
  {
   "cell_type": "code",
   "execution_count": 14,
   "metadata": {},
   "outputs": [
    {
     "name": "stdout",
     "output_type": "stream",
     "text": [
      "Hello!\n",
      "Goodbye!\n"
     ]
    }
   ],
   "source": [
    "def print_hello():\n",
    "    print(\"Hello!\")\n",
    "    return \n",
    "\n",
    "print_hello()\n",
    "\n",
    "def print_goodbye():\n",
    "    print(\"Goodbye!\")\n",
    "    return \n",
    "\n",
    "print_goodbye()"
   ]
  },
  {
   "cell_type": "code",
   "execution_count": 6,
   "metadata": {},
   "outputs": [
    {
     "name": "stdout",
     "output_type": "stream",
     "text": [
      "hello!\n",
      "goodbye!\n"
     ]
    }
   ],
   "source": [
    "import functions\n",
    "functions.print_hello()\n",
    "functions.print_goodbye()"
   ]
  },
  {
   "cell_type": "code",
   "execution_count": 7,
   "metadata": {},
   "outputs": [
    {
     "name": "stdout",
     "output_type": "stream",
     "text": [
      "hello!\n"
     ]
    }
   ],
   "source": [
    "from functions import print_hello\n",
    "print_hello()"
   ]
  },
  {
   "cell_type": "code",
   "execution_count": 12,
   "metadata": {},
   "outputs": [
    {
     "name": "stdout",
     "output_type": "stream",
     "text": [
      "NOV = 267.94617853971704\n"
     ]
    },
    {
     "name": "stderr",
     "output_type": "stream",
     "text": [
      "C:\\Users\\TribThapa\\Anaconda3\\lib\\site-packages\\ipykernel_launcher.py:8: DeprecationWarning: numpy.npv is deprecated and will be removed from NumPy 1.20. Use numpy_financial.npv instead (https://pypi.org/project/numpy-financial/).\n",
      "  \n"
     ]
    }
   ],
   "source": [
    "import numpy\n",
    "import sys\n",
    "\n",
    "interest_rate = 0.1\n",
    "cash_flows = [-1000, 400, 400, 400, 400]\n",
    "\n",
    "#Call the NPV function from the NumPy library\n",
    "net_present_value = numpy.npv(interest_rate, cash_flows)\n",
    "print(f\"NOV = {net_present_value}\")"
   ]
  }
 ],
 "metadata": {
  "kernelspec": {
   "display_name": "Python 3",
   "language": "python",
   "name": "python3"
  },
  "language_info": {
   "codemirror_mode": {
    "name": "ipython",
    "version": 3
   },
   "file_extension": ".py",
   "mimetype": "text/x-python",
   "name": "python",
   "nbconvert_exporter": "python",
   "pygments_lexer": "ipython3",
   "version": "3.7.1"
  }
 },
 "nbformat": 4,
 "nbformat_minor": 2
}
