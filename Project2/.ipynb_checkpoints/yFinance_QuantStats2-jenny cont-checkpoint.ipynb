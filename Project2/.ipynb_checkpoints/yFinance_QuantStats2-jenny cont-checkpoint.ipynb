{
 "cells": [
  {
   "cell_type": "markdown",
   "id": "e8427c4e-f63f-4b97-8257-2db5e6dbac97",
   "metadata": {},
   "source": [
    "# Get stock market data & clean data"
   ]
  },
  {
   "cell_type": "code",
   "execution_count": 1,
   "id": "e4a91f39-ca16-4ed6-bae3-f6f399a36bc1",
   "metadata": {},
   "outputs": [],
   "source": [
    "%matplotlib inline\n",
    "import yfinance as yf\n",
    "import quantstats as qs\n",
    "import numpy as np\n",
    "import pandas as pd\n",
    "\n",
    "\n",
    "import warnings\n",
    "warnings.filterwarnings('ignore')\n",
    "\n",
    "# extend pandas functionality with metrics, etc.\n",
    "qs.extend_pandas()"
   ]
  },
  {
   "cell_type": "code",
   "execution_count": 2,
   "id": "cab98709-0abb-4170-b3c5-e7e3f8fb90e1",
   "metadata": {},
   "outputs": [],
   "source": [
    "# Names of intersted stocks\n",
    "stock_names = {'BHP.AX',\n",
    "               'FMG.AX',\n",
    "               'ABBV',\n",
    "               'PFE',\n",
    "               'BAC',\n",
    "               'COKE',\n",
    "               'SQ',\n",
    "               'AAPL',\n",
    "               'AMD',\n",
    "               'FDX',\n",
    "               'EBAY',\n",
    "               'AMZN',\n",
    "               'C',\n",
    "               'F',\n",
    "               'GDX',\n",
    "               'USO'}"
   ]
  },
  {
   "cell_type": "code",
   "execution_count": 3,
   "id": "a2c32d16-c855-4adc-81b0-03c914f0cc2c",
   "metadata": {},
   "outputs": [
    {
     "data": {
      "text/html": [
       "<div>\n",
       "<style scoped>\n",
       "    .dataframe tbody tr th:only-of-type {\n",
       "        vertical-align: middle;\n",
       "    }\n",
       "\n",
       "    .dataframe tbody tr th {\n",
       "        vertical-align: top;\n",
       "    }\n",
       "\n",
       "    .dataframe thead th {\n",
       "        text-align: right;\n",
       "    }\n",
       "</style>\n",
       "<table border=\"1\" class=\"dataframe\">\n",
       "  <thead>\n",
       "    <tr style=\"text-align: right;\">\n",
       "      <th></th>\n",
       "      <th>ABBV</th>\n",
       "      <th>AMZN</th>\n",
       "      <th>GDX</th>\n",
       "      <th>PFE</th>\n",
       "      <th>AAPL</th>\n",
       "      <th>FDX</th>\n",
       "      <th>EBAY</th>\n",
       "      <th>AMD</th>\n",
       "      <th>FMG.AX</th>\n",
       "      <th>COKE</th>\n",
       "      <th>SQ</th>\n",
       "      <th>C</th>\n",
       "      <th>BHP.AX</th>\n",
       "      <th>F</th>\n",
       "      <th>BAC</th>\n",
       "      <th>USO</th>\n",
       "    </tr>\n",
       "    <tr>\n",
       "      <th>Date</th>\n",
       "      <th></th>\n",
       "      <th></th>\n",
       "      <th></th>\n",
       "      <th></th>\n",
       "      <th></th>\n",
       "      <th></th>\n",
       "      <th></th>\n",
       "      <th></th>\n",
       "      <th></th>\n",
       "      <th></th>\n",
       "      <th></th>\n",
       "      <th></th>\n",
       "      <th></th>\n",
       "      <th></th>\n",
       "      <th></th>\n",
       "      <th></th>\n",
       "    </tr>\n",
       "  </thead>\n",
       "  <tbody>\n",
       "    <tr>\n",
       "      <th>2011-01-03</th>\n",
       "      <td>NaN</td>\n",
       "      <td>0.023444</td>\n",
       "      <td>-0.011388</td>\n",
       "      <td>0.009709</td>\n",
       "      <td>0.021732</td>\n",
       "      <td>0.001935</td>\n",
       "      <td>0.030543</td>\n",
       "      <td>0.035452</td>\n",
       "      <td>NaN</td>\n",
       "      <td>0.024649</td>\n",
       "      <td>NaN</td>\n",
       "      <td>0.035941</td>\n",
       "      <td>NaN</td>\n",
       "      <td>0.027397</td>\n",
       "      <td>0.063718</td>\n",
       "      <td>0.001282</td>\n",
       "    </tr>\n",
       "    <tr>\n",
       "      <th>2011-01-04</th>\n",
       "      <td>NaN</td>\n",
       "      <td>0.004288</td>\n",
       "      <td>-0.028797</td>\n",
       "      <td>0.017534</td>\n",
       "      <td>0.005219</td>\n",
       "      <td>-0.000751</td>\n",
       "      <td>-0.007322</td>\n",
       "      <td>0.035419</td>\n",
       "      <td>-0.013761</td>\n",
       "      <td>-0.008955</td>\n",
       "      <td>NaN</td>\n",
       "      <td>0.000000</td>\n",
       "      <td>0.009282</td>\n",
       "      <td>0.007536</td>\n",
       "      <td>0.003524</td>\n",
       "      <td>-0.024840</td>\n",
       "    </tr>\n",
       "    <tr>\n",
       "      <th>2011-01-05</th>\n",
       "      <td>NaN</td>\n",
       "      <td>0.013026</td>\n",
       "      <td>-0.013555</td>\n",
       "      <td>0.006670</td>\n",
       "      <td>0.008180</td>\n",
       "      <td>0.008054</td>\n",
       "      <td>0.009133</td>\n",
       "      <td>0.015963</td>\n",
       "      <td>-0.007752</td>\n",
       "      <td>0.004607</td>\n",
       "      <td>NaN</td>\n",
       "      <td>0.014285</td>\n",
       "      <td>-0.014452</td>\n",
       "      <td>0.029344</td>\n",
       "      <td>0.018258</td>\n",
       "      <td>0.011555</td>\n",
       "    </tr>\n",
       "    <tr>\n",
       "      <th>2011-01-06</th>\n",
       "      <td>NaN</td>\n",
       "      <td>-0.008324</td>\n",
       "      <td>-0.025421</td>\n",
       "      <td>0.003865</td>\n",
       "      <td>-0.000808</td>\n",
       "      <td>-0.008203</td>\n",
       "      <td>-0.010790</td>\n",
       "      <td>-0.024691</td>\n",
       "      <td>0.032812</td>\n",
       "      <td>-0.011287</td>\n",
       "      <td>NaN</td>\n",
       "      <td>-0.004024</td>\n",
       "      <td>0.002888</td>\n",
       "      <td>0.018446</td>\n",
       "      <td>-0.004138</td>\n",
       "      <td>-0.021807</td>\n",
       "    </tr>\n",
       "    <tr>\n",
       "      <th>2011-01-07</th>\n",
       "      <td>NaN</td>\n",
       "      <td>-0.001991</td>\n",
       "      <td>0.000000</td>\n",
       "      <td>0.008801</td>\n",
       "      <td>0.007161</td>\n",
       "      <td>0.000537</td>\n",
       "      <td>-0.025334</td>\n",
       "      <td>0.016111</td>\n",
       "      <td>-0.006051</td>\n",
       "      <td>-0.001070</td>\n",
       "      <td>NaN</td>\n",
       "      <td>-0.002020</td>\n",
       "      <td>-0.011520</td>\n",
       "      <td>0.002744</td>\n",
       "      <td>-0.013158</td>\n",
       "      <td>-0.000265</td>\n",
       "    </tr>\n",
       "    <tr>\n",
       "      <th>...</th>\n",
       "      <td>...</td>\n",
       "      <td>...</td>\n",
       "      <td>...</td>\n",
       "      <td>...</td>\n",
       "      <td>...</td>\n",
       "      <td>...</td>\n",
       "      <td>...</td>\n",
       "      <td>...</td>\n",
       "      <td>...</td>\n",
       "      <td>...</td>\n",
       "      <td>...</td>\n",
       "      <td>...</td>\n",
       "      <td>...</td>\n",
       "      <td>...</td>\n",
       "      <td>...</td>\n",
       "      <td>...</td>\n",
       "    </tr>\n",
       "    <tr>\n",
       "      <th>2021-08-20</th>\n",
       "      <td>0.007547</td>\n",
       "      <td>0.003827</td>\n",
       "      <td>-0.003553</td>\n",
       "      <td>-0.001639</td>\n",
       "      <td>0.010157</td>\n",
       "      <td>-0.003775</td>\n",
       "      <td>0.007277</td>\n",
       "      <td>0.009161</td>\n",
       "      <td>0.011426</td>\n",
       "      <td>0.010712</td>\n",
       "      <td>0.022149</td>\n",
       "      <td>0.005871</td>\n",
       "      <td>-0.007387</td>\n",
       "      <td>-0.007893</td>\n",
       "      <td>0.004479</td>\n",
       "      <td>-0.029931</td>\n",
       "    </tr>\n",
       "    <tr>\n",
       "      <th>2021-08-23</th>\n",
       "      <td>0.004545</td>\n",
       "      <td>0.020600</td>\n",
       "      <td>0.041167</td>\n",
       "      <td>0.024836</td>\n",
       "      <td>0.010257</td>\n",
       "      <td>0.001313</td>\n",
       "      <td>-0.002181</td>\n",
       "      <td>0.039369</td>\n",
       "      <td>-0.042731</td>\n",
       "      <td>-0.002494</td>\n",
       "      <td>0.028094</td>\n",
       "      <td>0.009110</td>\n",
       "      <td>0.002706</td>\n",
       "      <td>0.012729</td>\n",
       "      <td>0.013376</td>\n",
       "      <td>0.055722</td>\n",
       "    </tr>\n",
       "    <tr>\n",
       "      <th>2021-08-24</th>\n",
       "      <td>0.002681</td>\n",
       "      <td>0.012220</td>\n",
       "      <td>-0.000311</td>\n",
       "      <td>-0.031043</td>\n",
       "      <td>-0.000601</td>\n",
       "      <td>0.003410</td>\n",
       "      <td>-0.004918</td>\n",
       "      <td>-0.010297</td>\n",
       "      <td>0.013853</td>\n",
       "      <td>-0.006050</td>\n",
       "      <td>-0.000998</td>\n",
       "      <td>0.016222</td>\n",
       "      <td>0.010346</td>\n",
       "      <td>0.027494</td>\n",
       "      <td>0.013933</td>\n",
       "      <td>0.033152</td>\n",
       "    </tr>\n",
       "    <tr>\n",
       "      <th>2021-08-25</th>\n",
       "      <td>0.006016</td>\n",
       "      <td>-0.001997</td>\n",
       "      <td>-0.013391</td>\n",
       "      <td>-0.017983</td>\n",
       "      <td>-0.008421</td>\n",
       "      <td>0.009559</td>\n",
       "      <td>0.018122</td>\n",
       "      <td>0.006038</td>\n",
       "      <td>0.026316</td>\n",
       "      <td>-0.003949</td>\n",
       "      <td>-0.009624</td>\n",
       "      <td>0.015825</td>\n",
       "      <td>0.012467</td>\n",
       "      <td>0.006881</td>\n",
       "      <td>0.016152</td>\n",
       "      <td>0.009289</td>\n",
       "    </tr>\n",
       "    <tr>\n",
       "      <th>2021-08-26</th>\n",
       "      <td>NaN</td>\n",
       "      <td>NaN</td>\n",
       "      <td>NaN</td>\n",
       "      <td>NaN</td>\n",
       "      <td>NaN</td>\n",
       "      <td>NaN</td>\n",
       "      <td>NaN</td>\n",
       "      <td>NaN</td>\n",
       "      <td>-0.011341</td>\n",
       "      <td>NaN</td>\n",
       "      <td>NaN</td>\n",
       "      <td>NaN</td>\n",
       "      <td>-0.009235</td>\n",
       "      <td>NaN</td>\n",
       "      <td>NaN</td>\n",
       "      <td>NaN</td>\n",
       "    </tr>\n",
       "  </tbody>\n",
       "</table>\n",
       "<p>2748 rows × 16 columns</p>\n",
       "</div>"
      ],
      "text/plain": [
       "                ABBV      AMZN       GDX       PFE      AAPL       FDX  \\\n",
       "Date                                                                     \n",
       "2011-01-03       NaN  0.023444 -0.011388  0.009709  0.021732  0.001935   \n",
       "2011-01-04       NaN  0.004288 -0.028797  0.017534  0.005219 -0.000751   \n",
       "2011-01-05       NaN  0.013026 -0.013555  0.006670  0.008180  0.008054   \n",
       "2011-01-06       NaN -0.008324 -0.025421  0.003865 -0.000808 -0.008203   \n",
       "2011-01-07       NaN -0.001991  0.000000  0.008801  0.007161  0.000537   \n",
       "...              ...       ...       ...       ...       ...       ...   \n",
       "2021-08-20  0.007547  0.003827 -0.003553 -0.001639  0.010157 -0.003775   \n",
       "2021-08-23  0.004545  0.020600  0.041167  0.024836  0.010257  0.001313   \n",
       "2021-08-24  0.002681  0.012220 -0.000311 -0.031043 -0.000601  0.003410   \n",
       "2021-08-25  0.006016 -0.001997 -0.013391 -0.017983 -0.008421  0.009559   \n",
       "2021-08-26       NaN       NaN       NaN       NaN       NaN       NaN   \n",
       "\n",
       "                EBAY       AMD    FMG.AX      COKE        SQ         C  \\\n",
       "Date                                                                     \n",
       "2011-01-03  0.030543  0.035452       NaN  0.024649       NaN  0.035941   \n",
       "2011-01-04 -0.007322  0.035419 -0.013761 -0.008955       NaN  0.000000   \n",
       "2011-01-05  0.009133  0.015963 -0.007752  0.004607       NaN  0.014285   \n",
       "2011-01-06 -0.010790 -0.024691  0.032812 -0.011287       NaN -0.004024   \n",
       "2011-01-07 -0.025334  0.016111 -0.006051 -0.001070       NaN -0.002020   \n",
       "...              ...       ...       ...       ...       ...       ...   \n",
       "2021-08-20  0.007277  0.009161  0.011426  0.010712  0.022149  0.005871   \n",
       "2021-08-23 -0.002181  0.039369 -0.042731 -0.002494  0.028094  0.009110   \n",
       "2021-08-24 -0.004918 -0.010297  0.013853 -0.006050 -0.000998  0.016222   \n",
       "2021-08-25  0.018122  0.006038  0.026316 -0.003949 -0.009624  0.015825   \n",
       "2021-08-26       NaN       NaN -0.011341       NaN       NaN       NaN   \n",
       "\n",
       "              BHP.AX         F       BAC       USO  \n",
       "Date                                                \n",
       "2011-01-03       NaN  0.027397  0.063718  0.001282  \n",
       "2011-01-04  0.009282  0.007536  0.003524 -0.024840  \n",
       "2011-01-05 -0.014452  0.029344  0.018258  0.011555  \n",
       "2011-01-06  0.002888  0.018446 -0.004138 -0.021807  \n",
       "2011-01-07 -0.011520  0.002744 -0.013158 -0.000265  \n",
       "...              ...       ...       ...       ...  \n",
       "2021-08-20 -0.007387 -0.007893  0.004479 -0.029931  \n",
       "2021-08-23  0.002706  0.012729  0.013376  0.055722  \n",
       "2021-08-24  0.010346  0.027494  0.013933  0.033152  \n",
       "2021-08-25  0.012467  0.006881  0.016152  0.009289  \n",
       "2021-08-26 -0.009235       NaN       NaN       NaN  \n",
       "\n",
       "[2748 rows x 16 columns]"
      ]
     },
     "metadata": {},
     "output_type": "display_data"
    }
   ],
   "source": [
    "# Get a list of all closing prices\n",
    "stock_list = {}\n",
    "\n",
    "for stock in stock_names:\n",
    "    \n",
    "    stock_list[stock] = qs.utils.download_returns(stock)\n",
    "\n",
    "    \n",
    "\n",
    "    \n",
    "# Limit all close prices to the last 10 years \n",
    "close_all = []\n",
    "\n",
    "for name in stock_names:\n",
    "    \n",
    "    close_new = stock_list[name].loc[\"2011-01-01\" :]\n",
    "    \n",
    "    close_all.append(close_new)\n",
    "    \n",
    "    \n",
    "    \n",
    "    \n",
    "# Convert close prices to dataframe\n",
    "df = pd.DataFrame(close_all[:]).T\n",
    "df.columns = stock_names\n",
    "\n",
    "display(df)"
   ]
  },
  {
   "cell_type": "code",
   "execution_count": 4,
   "id": "e4882ed9-74d7-4ccc-9fb4-222d3bab2de4",
   "metadata": {},
   "outputs": [],
   "source": [
    "# Drop NA\n",
    "df = df.dropna()"
   ]
  },
  {
   "cell_type": "code",
   "execution_count": 5,
   "id": "a09100f9-b724-4e65-a8d9-0f2ec488d20c",
   "metadata": {},
   "outputs": [
    {
     "data": {
      "text/plain": [
       "<AxesSubplot:xlabel='Date'>"
      ]
     },
     "execution_count": 5,
     "metadata": {},
     "output_type": "execute_result"
    },
    {
     "data": {
      "image/png": "[encoded data removed]",
      "text/plain": [
       "<Figure size 432x288 with 1 Axes>"
      ]
     },
     "metadata": {
      "needs_background": "light"
     },
     "output_type": "display_data"
    }
   ],
   "source": [
    "df.plot()"
   ]
  },
  {
   "cell_type": "code",
   "execution_count": 6,
   "id": "aa3802a9-b882-4bd4-aef5-4031f2325df4",
   "metadata": {},
   "outputs": [
    {
     "data": {
      "text/plain": [
       "<AxesSubplot:ylabel='Frequency'>"
      ]
     },
     "execution_count": 6,
     "metadata": {},
     "output_type": "execute_result"
    },
    {
     "data": {
      "image/png": "[encoded data removed]",
      "text/plain": [
       "<Figure size 432x288 with 1 Axes>"
      ]
     },
     "metadata": {
      "needs_background": "light"
     },
     "output_type": "display_data"
    }
   ],
   "source": [
    "df[\"AMZN\"].plot.hist()"
   ]
  },
  {
   "cell_type": "code",
   "execution_count": 7,
   "id": "ff5b3116-e3a3-4fa4-ae39-7e658e9ef07c",
   "metadata": {},
   "outputs": [],
   "source": [
    "# Get a list of all closing prices\n",
    "sharpe_ratio = []\n",
    "expected_return = []\n",
    "sortino_ratio = []\n",
    "\n",
    "for ticker in stock_names: \n",
    "    \n",
    "    stk = qs.utils.download_returns(ticker)  \n",
    "    \n",
    "    # Get Sharpe Ratio\n",
    "    sharpe = stk.sharpe()  \n",
    "    sharpe_ratio.append(sharpe)\n",
    "    \n",
    "    # Expected return\n",
    "    expt_rtrn = stk.expected_return()\n",
    "    expected_return.append(expt_rtrn)\n",
    "    \n",
    "    #Sortino\n",
    "    sortino = stk.sortino()\n",
    "    sortino_ratio.append(sortino)\n",
    "    \n",
    "    \n",
    "\n",
    "    "
   ]
  },
  {
   "cell_type": "code",
   "execution_count": 8,
   "id": "a83fe642-387e-4fa2-81fd-471f5eaad138",
   "metadata": {},
   "outputs": [
    {
     "data": {
      "text/html": [
       "<div>\n",
       "<style scoped>\n",
       "    .dataframe tbody tr th:only-of-type {\n",
       "        vertical-align: middle;\n",
       "    }\n",
       "\n",
       "    .dataframe tbody tr th {\n",
       "        vertical-align: top;\n",
       "    }\n",
       "\n",
       "    .dataframe thead th {\n",
       "        text-align: right;\n",
       "    }\n",
       "</style>\n",
       "<table border=\"1\" class=\"dataframe\">\n",
       "  <thead>\n",
       "    <tr style=\"text-align: right;\">\n",
       "      <th></th>\n",
       "      <th>SharpeRatio</th>\n",
       "      <th>ExpectedReturn</th>\n",
       "      <th>SortinoRatio</th>\n",
       "    </tr>\n",
       "  </thead>\n",
       "  <tbody>\n",
       "    <tr>\n",
       "      <th>0</th>\n",
       "      <td>0.801119</td>\n",
       "      <td>0.000731</td>\n",
       "      <td>1.134397</td>\n",
       "    </tr>\n",
       "    <tr>\n",
       "      <th>1</th>\n",
       "      <td>0.812525</td>\n",
       "      <td>0.001216</td>\n",
       "      <td>1.295767</td>\n",
       "    </tr>\n",
       "    <tr>\n",
       "      <th>2</th>\n",
       "      <td>0.201982</td>\n",
       "      <td>-0.000017</td>\n",
       "      <td>0.293456</td>\n",
       "    </tr>\n",
       "    <tr>\n",
       "      <th>3</th>\n",
       "      <td>0.547229</td>\n",
       "      <td>0.000448</td>\n",
       "      <td>0.802902</td>\n",
       "    </tr>\n",
       "    <tr>\n",
       "      <th>4</th>\n",
       "      <td>0.626335</td>\n",
       "      <td>0.000711</td>\n",
       "      <td>0.913839</td>\n",
       "    </tr>\n",
       "    <tr>\n",
       "      <th>5</th>\n",
       "      <td>0.562782</td>\n",
       "      <td>0.000529</td>\n",
       "      <td>0.838519</td>\n",
       "    </tr>\n",
       "    <tr>\n",
       "      <th>6</th>\n",
       "      <td>0.634048</td>\n",
       "      <td>0.000785</td>\n",
       "      <td>1.018055</td>\n",
       "    </tr>\n",
       "    <tr>\n",
       "      <th>7</th>\n",
       "      <td>0.441621</td>\n",
       "      <td>0.000339</td>\n",
       "      <td>0.654500</td>\n",
       "    </tr>\n",
       "    <tr>\n",
       "      <th>8</th>\n",
       "      <td>0.877586</td>\n",
       "      <td>0.001600</td>\n",
       "      <td>1.481251</td>\n",
       "    </tr>\n",
       "    <tr>\n",
       "      <th>9</th>\n",
       "      <td>0.438432</td>\n",
       "      <td>0.000365</td>\n",
       "      <td>0.655544</td>\n",
       "    </tr>\n",
       "    <tr>\n",
       "      <th>10</th>\n",
       "      <td>1.250215</td>\n",
       "      <td>0.002083</td>\n",
       "      <td>1.802328</td>\n",
       "    </tr>\n",
       "    <tr>\n",
       "      <th>11</th>\n",
       "      <td>0.325599</td>\n",
       "      <td>0.000199</td>\n",
       "      <td>0.480435</td>\n",
       "    </tr>\n",
       "    <tr>\n",
       "      <th>12</th>\n",
       "      <td>0.701318</td>\n",
       "      <td>0.000707</td>\n",
       "      <td>1.048335</td>\n",
       "    </tr>\n",
       "    <tr>\n",
       "      <th>13</th>\n",
       "      <td>0.397499</td>\n",
       "      <td>0.000311</td>\n",
       "      <td>0.594860</td>\n",
       "    </tr>\n",
       "    <tr>\n",
       "      <th>14</th>\n",
       "      <td>0.364576</td>\n",
       "      <td>0.000264</td>\n",
       "      <td>0.539878</td>\n",
       "    </tr>\n",
       "    <tr>\n",
       "      <th>15</th>\n",
       "      <td>-0.237043</td>\n",
       "      <td>-0.000628</td>\n",
       "      <td>-0.320462</td>\n",
       "    </tr>\n",
       "  </tbody>\n",
       "</table>\n",
       "</div>"
      ],
      "text/plain": [
       "    SharpeRatio  ExpectedReturn  SortinoRatio\n",
       "0      0.801119        0.000731      1.134397\n",
       "1      0.812525        0.001216      1.295767\n",
       "2      0.201982       -0.000017      0.293456\n",
       "3      0.547229        0.000448      0.802902\n",
       "4      0.626335        0.000711      0.913839\n",
       "5      0.562782        0.000529      0.838519\n",
       "6      0.634048        0.000785      1.018055\n",
       "7      0.441621        0.000339      0.654500\n",
       "8      0.877586        0.001600      1.481251\n",
       "9      0.438432        0.000365      0.655544\n",
       "10     1.250215        0.002083      1.802328\n",
       "11     0.325599        0.000199      0.480435\n",
       "12     0.701318        0.000707      1.048335\n",
       "13     0.397499        0.000311      0.594860\n",
       "14     0.364576        0.000264      0.539878\n",
       "15    -0.237043       -0.000628     -0.320462"
      ]
     },
     "execution_count": 8,
     "metadata": {},
     "output_type": "execute_result"
    }
   ],
   "source": [
    "metrics_df = pd.DataFrame({\"SharpeRatio\": sharpe_ratio,\n",
    "                           \"ExpectedReturn\": expected_return,\n",
    "                           \"SortinoRatio\": sortino_ratio})\n",
    "\n",
    "metrics_df.head(20)"
   ]
  },
  {
   "cell_type": "markdown",
   "id": "0f628731-f787-4ce1-873c-c6120f9af3f9",
   "metadata": {},
   "source": [
    "# ARIMA "
   ]
  },
  {
   "cell_type": "code",
   "execution_count": 9,
   "id": "dcb24875-a290-4585-8cc6-36b53060b137",
   "metadata": {},
   "outputs": [],
   "source": [
    "# Import ACF and PACF plots\n",
    "from statsmodels.graphics.tsaplots import plot_acf, plot_pacf"
   ]
  },
  {
   "cell_type": "code",
   "execution_count": 10,
   "id": "dc5e741d-3047-447d-98fe-61a2f7697f29",
   "metadata": {},
   "outputs": [
    {
     "data": {
      "image/png": "[encoded data removed]",
      "text/plain": [
       "<Figure size 432x288 with 1 Axes>"
      ]
     },
     "metadata": {
      "needs_background": "light"
     },
     "output_type": "display_data"
    }
   ],
   "source": [
    "# Plot ACF\n",
    "from statsmodels.graphics.tsaplots import plot_acf, plot_pacf\n",
    "\n",
    "plot_acf(df.AMZN, lags=40);"
   ]
  },
  {
   "cell_type": "code",
   "execution_count": 11,
   "id": "14f8cc30-5bf3-4910-a5a7-33c3a69d834f",
   "metadata": {},
   "outputs": [
    {
     "data": {
      "image/png": "[encoded data removed]",
      "text/plain": [
       "<Figure size 432x288 with 1 Axes>"
      ]
     },
     "metadata": {
      "needs_background": "light"
     },
     "output_type": "display_data"
    }
   ],
   "source": [
    "# Plot PACF\n",
    "plot_pacf(df.AMZN, zero=False, lags=20);"
   ]
  },
  {
   "cell_type": "code",
   "execution_count": 12,
   "id": "f746af13-4826-4763-b447-7e0b409ec62a",
   "metadata": {},
   "outputs": [
    {
     "data": {
      "text/plain": [
       "(-39.779182479102296,\n",
       " 0.0,\n",
       " 0,\n",
       " 1422,\n",
       " {'1%': -3.4349569928153607,\n",
       "  '5%': -2.863574667579351,\n",
       "  '10%': -2.5678532457009697},\n",
       " -7183.534342486491)"
      ]
     },
     "execution_count": 12,
     "metadata": {},
     "output_type": "execute_result"
    }
   ],
   "source": [
    "from statsmodels.tsa.stattools import adfuller\n",
    "adfuller(df.AMZN)"
   ]
  },
  {
   "cell_type": "code",
   "execution_count": 27,
   "id": "2a14f510-ce24-44a0-ade4-1deff5414d22",
   "metadata": {},
   "outputs": [],
   "source": [
    "# Run ARIMA model\n",
    "from statsmodels.tsa.arima_model import ARIMA\n",
    "\n",
    "# Create the ARIMA model using the return values and the order\n",
    "# For the order parameter, the first 1 indicates the number of AR lags\n",
    "# For the order parameter, the second 1 indicates the number of MA lags\n",
    "\n",
    "model = ARIMA(df['AMZN'].values, order=(1,1,1))\n"
   ]
  },
  {
   "cell_type": "code",
   "execution_count": 28,
   "id": "b30732b6-8030-47bd-aeb4-0db2c2699e9a",
   "metadata": {},
   "outputs": [],
   "source": [
    "# Fit the model to the data\n",
    "result_ARMA = model.fit()"
   ]
  },
  {
   "cell_type": "code",
   "execution_count": 29,
   "id": "20e4a31a-ae64-47a3-8fb6-afd7a05be6c2",
   "metadata": {},
   "outputs": [
    {
     "data": {
      "text/html": [
       "<table class=\"simpletable\">\n",
       "<caption>ARIMA Model Results</caption>\n",
       "<tr>\n",
       "  <th>Dep. Variable:</th>        <td>D.y</td>       <th>  No. Observations:  </th>   <td>1422</td>   \n",
       "</tr>\n",
       "<tr>\n",
       "  <th>Model:</th>          <td>ARIMA(1, 1, 1)</td>  <th>  Log Likelihood     </th> <td>3650.104</td> \n",
       "</tr>\n",
       "<tr>\n",
       "  <th>Method:</th>             <td>css-mle</td>     <th>  S.D. of innovations</th>   <td>0.019</td>  \n",
       "</tr>\n",
       "<tr>\n",
       "  <th>Date:</th>          <td>Thu, 26 Aug 2021</td> <th>  AIC                </th> <td>-7292.208</td>\n",
       "</tr>\n",
       "<tr>\n",
       "  <th>Time:</th>              <td>15:59:10</td>     <th>  BIC                </th> <td>-7271.169</td>\n",
       "</tr>\n",
       "<tr>\n",
       "  <th>Sample:</th>                <td>1</td>        <th>  HQIC               </th> <td>-7284.349</td>\n",
       "</tr>\n",
       "<tr>\n",
       "  <th></th>                       <td> </td>        <th>                     </th>     <td> </td>    \n",
       "</tr>\n",
       "</table>\n",
       "<table class=\"simpletable\">\n",
       "<tr>\n",
       "      <td></td>         <th>coef</th>     <th>std err</th>      <th>z</th>      <th>P>|z|</th>  <th>[0.025</th>    <th>0.975]</th>  \n",
       "</tr>\n",
       "<tr>\n",
       "  <th>const</th>     <td> 2.718e-07</td> <td> 1.02e-05</td> <td>    0.027</td> <td> 0.979</td> <td>-1.97e-05</td> <td> 2.02e-05</td>\n",
       "</tr>\n",
       "<tr>\n",
       "  <th>ar.L1.D.y</th> <td>   -0.0528</td> <td>    0.027</td> <td>   -1.925</td> <td> 0.054</td> <td>   -0.106</td> <td>    0.001</td>\n",
       "</tr>\n",
       "<tr>\n",
       "  <th>ma.L1.D.y</th> <td>   -0.9790</td> <td>    0.017</td> <td>  -58.847</td> <td> 0.000</td> <td>   -1.012</td> <td>   -0.946</td>\n",
       "</tr>\n",
       "</table>\n",
       "<table class=\"simpletable\">\n",
       "<caption>Roots</caption>\n",
       "<tr>\n",
       "    <td></td>   <th>            Real</th>  <th>         Imaginary</th> <th>         Modulus</th>  <th>        Frequency</th>\n",
       "</tr>\n",
       "<tr>\n",
       "  <th>AR.1</th> <td>         -18.9510</td> <td>          +0.0000j</td> <td>          18.9510</td> <td>           0.5000</td>\n",
       "</tr>\n",
       "<tr>\n",
       "  <th>MA.1</th> <td>           1.0215</td> <td>          +0.0000j</td> <td>           1.0215</td> <td>           0.0000</td>\n",
       "</tr>\n",
       "</table>"
      ],
      "text/plain": [
       "<class 'statsmodels.iolib.summary.Summary'>\n",
       "\"\"\"\n",
       "                             ARIMA Model Results                              \n",
       "==============================================================================\n",
       "Dep. Variable:                    D.y   No. Observations:                 1422\n",
       "Model:                 ARIMA(1, 1, 1)   Log Likelihood                3650.104\n",
       "Method:                       css-mle   S.D. of innovations              0.019\n",
       "Date:                Thu, 26 Aug 2021   AIC                          -7292.208\n",
       "Time:                        15:59:10   BIC                          -7271.169\n",
       "Sample:                             1   HQIC                         -7284.349\n",
       "                                                                              \n",
       "==============================================================================\n",
       "                 coef    std err          z      P>|z|      [0.025      0.975]\n",
       "------------------------------------------------------------------------------\n",
       "const       2.718e-07   1.02e-05      0.027      0.979   -1.97e-05    2.02e-05\n",
       "ar.L1.D.y     -0.0528      0.027     -1.925      0.054      -0.106       0.001\n",
       "ma.L1.D.y     -0.9790      0.017    -58.847      0.000      -1.012      -0.946\n",
       "                                    Roots                                    \n",
       "=============================================================================\n",
       "                  Real          Imaginary           Modulus         Frequency\n",
       "-----------------------------------------------------------------------------\n",
       "AR.1          -18.9510           +0.0000j           18.9510            0.5000\n",
       "MA.1            1.0215           +0.0000j            1.0215            0.0000\n",
       "-----------------------------------------------------------------------------\n",
       "\"\"\""
      ]
     },
     "execution_count": 29,
     "metadata": {},
     "output_type": "execute_result"
    }
   ],
   "source": [
    "# Display model summary\n",
    "result_ARMA.summary()"
   ]
  },
  {
   "cell_type": "code",
   "execution_count": 30,
   "id": "393cbd66-bb71-4780-9bd9-073be6b24f54",
   "metadata": {},
   "outputs": [
    {
     "data": {
      "text/plain": [
       "<AxesSubplot:title={'center':'30 Days Forecast'}>"
      ]
     },
     "execution_count": 30,
     "metadata": {},
     "output_type": "execute_result"
    },
    {
     "data": {
      "image/png": "[encoded data removed]",
      "text/plain": [
       "<Figure size 432x288 with 1 Axes>"
      ]
     },
     "metadata": {
      "needs_background": "light"
     },
     "output_type": "display_data"
    }
   ],
   "source": [
    "pd.DataFrame(results.forecast(steps=30)[0]).plot(title=\"30 Days Forecast\")"
   ]
  },
  {
   "cell_type": "markdown",
   "id": "b982d6ec-f144-4673-8ea9-2ea62cf37d15",
   "metadata": {},
   "source": [
    "# GARCH\n"
   ]
  },
  {
   "cell_type": "code",
   "execution_count": 31,
   "id": "cc1f11db-be19-458e-b3b0-25b885c7f7ba",
   "metadata": {},
   "outputs": [],
   "source": [
    "import arch as arch\n",
    "from arch import arch_model"
   ]
  },
  {
   "cell_type": "code",
   "execution_count": 18,
   "id": "5deded3a-d8ff-483c-a8bf-3c434e9efbe2",
   "metadata": {},
   "outputs": [],
   "source": [
    "#!pip install arch"
   ]
  },
  {
   "cell_type": "code",
   "execution_count": 32,
   "id": "b69a9861-fc63-4207-b92a-e9340941114c",
   "metadata": {},
   "outputs": [],
   "source": [
    "# 'p' and 'q'  are akin to the 'p' and 'q' of an ARMA model.\n",
    "# 'vol=\"GARCH\"' means that we're using a GARCH model.\n",
    "# The 'mean=\"Zero\"' means that we're estimating a GARCH.\n",
    "\n",
    "model = arch_model(df['AMZN'], vol=\"GARCH\", p=1, q=1)\n"
   ]
  },
  {
   "cell_type": "code",
   "execution_count": 33,
   "id": "c12b40a1-1f4a-4dcf-b8bc-cb679c715e61",
   "metadata": {},
   "outputs": [],
   "source": [
    "# Fit the GARCH Model\n",
    "result_GARCH = model.fit(disp=\"off\")"
   ]
  },
  {
   "cell_type": "code",
   "execution_count": 34,
   "id": "60a5bf33-8064-4c7f-ae19-82642facd35e",
   "metadata": {},
   "outputs": [
    {
     "data": {
      "text/html": [
       "<table class=\"simpletable\">\n",
       "<caption>Constant Mean - GARCH Model Results</caption>\n",
       "<tr>\n",
       "  <th>Dep. Variable:</th>        <td>AMZN</td>        <th>  R-squared:         </th>  <td>   0.000</td> \n",
       "</tr>\n",
       "<tr>\n",
       "  <th>Mean Model:</th>       <td>Constant Mean</td>   <th>  Adj. R-squared:    </th>  <td>   0.000</td> \n",
       "</tr>\n",
       "<tr>\n",
       "  <th>Vol Model:</th>            <td>GARCH</td>       <th>  Log-Likelihood:    </th> <td>   3788.80</td>\n",
       "</tr>\n",
       "<tr>\n",
       "  <th>Distribution:</th>        <td>Normal</td>       <th>  AIC:               </th> <td>  -7569.61</td>\n",
       "</tr>\n",
       "<tr>\n",
       "  <th>Method:</th>        <td>Maximum Likelihood</td> <th>  BIC:               </th> <td>  -7548.57</td>\n",
       "</tr>\n",
       "<tr>\n",
       "  <th></th>                        <td></td>          <th>  No. Observations:  </th>    <td>1423</td>   \n",
       "</tr>\n",
       "<tr>\n",
       "  <th>Date:</th>           <td>Thu, Aug 26 2021</td>  <th>  Df Residuals:      </th>    <td>1422</td>   \n",
       "</tr>\n",
       "<tr>\n",
       "  <th>Time:</th>               <td>15:59:35</td>      <th>  Df Model:          </th>      <td>1</td>    \n",
       "</tr>\n",
       "</table>\n",
       "<table class=\"simpletable\">\n",
       "<caption>Mean Model</caption>\n",
       "<tr>\n",
       "   <td></td>     <th>coef</th>     <th>std err</th>      <th>t</th>       <th>P>|t|</th>     <th>95.0% Conf. Int.</th>   \n",
       "</tr>\n",
       "<tr>\n",
       "  <th>mu</th> <td>2.0021e-03</td> <td>5.192e-04</td> <td>    3.856</td> <td>1.151e-04</td> <td>[9.846e-04,3.020e-03]</td>\n",
       "</tr>\n",
       "</table>\n",
       "<table class=\"simpletable\">\n",
       "<caption>Volatility Model</caption>\n",
       "<tr>\n",
       "      <td></td>        <th>coef</th>     <th>std err</th>      <th>t</th>       <th>P>|t|</th>     <th>95.0% Conf. Int.</th>   \n",
       "</tr>\n",
       "<tr>\n",
       "  <th>omega</th>    <td>3.4094e-05</td> <td>3.465e-06</td> <td>    9.840</td> <td>7.597e-23</td> <td>[2.730e-05,4.088e-05]</td>\n",
       "</tr>\n",
       "<tr>\n",
       "  <th>alpha[1]</th> <td>    0.2000</td> <td>4.189e-02</td> <td>    4.774</td> <td>1.803e-06</td>   <td>[  0.118,  0.282]</td>  \n",
       "</tr>\n",
       "<tr>\n",
       "  <th>beta[1]</th>  <td>    0.7000</td> <td>3.755e-02</td> <td>   18.643</td> <td>1.445e-77</td>   <td>[  0.626,  0.774]</td>  \n",
       "</tr>\n",
       "</table><br/><br/>Covariance estimator: robust"
      ],
      "text/plain": [
       "<class 'statsmodels.iolib.summary.Summary'>\n",
       "\"\"\"\n",
       "                     Constant Mean - GARCH Model Results                      \n",
       "==============================================================================\n",
       "Dep. Variable:                   AMZN   R-squared:                       0.000\n",
       "Mean Model:             Constant Mean   Adj. R-squared:                  0.000\n",
       "Vol Model:                      GARCH   Log-Likelihood:                3788.80\n",
       "Distribution:                  Normal   AIC:                          -7569.61\n",
       "Method:            Maximum Likelihood   BIC:                          -7548.57\n",
       "                                        No. Observations:                 1423\n",
       "Date:                Thu, Aug 26 2021   Df Residuals:                     1422\n",
       "Time:                        15:59:35   Df Model:                            1\n",
       "                                 Mean Model                                 \n",
       "============================================================================\n",
       "                 coef    std err          t      P>|t|      95.0% Conf. Int.\n",
       "----------------------------------------------------------------------------\n",
       "mu         2.0021e-03  5.192e-04      3.856  1.151e-04 [9.846e-04,3.020e-03]\n",
       "                              Volatility Model                              \n",
       "============================================================================\n",
       "                 coef    std err          t      P>|t|      95.0% Conf. Int.\n",
       "----------------------------------------------------------------------------\n",
       "omega      3.4094e-05  3.465e-06      9.840  7.597e-23 [2.730e-05,4.088e-05]\n",
       "alpha[1]       0.2000  4.189e-02      4.774  1.803e-06     [  0.118,  0.282]\n",
       "beta[1]        0.7000  3.755e-02     18.643  1.445e-77     [  0.626,  0.774]\n",
       "============================================================================\n",
       "\n",
       "Covariance estimator: robust\n",
       "\"\"\""
      ]
     },
     "execution_count": 34,
     "metadata": {},
     "output_type": "execute_result"
    }
   ],
   "source": [
    "# Output the model summary\n",
    "result_GARCH.summary()"
   ]
  },
  {
   "cell_type": "code",
   "execution_count": 35,
   "id": "42135396-aae0-4ccd-bf57-88e1081d27c4",
   "metadata": {},
   "outputs": [
    {
     "data": {
      "text/plain": [
       "'2021-08-25'"
      ]
     },
     "execution_count": 35,
     "metadata": {},
     "output_type": "execute_result"
    }
   ],
   "source": [
    "# Find the last day of the dataset\n",
    "last_day = df.index.max().strftime('%Y-%m-%d')\n",
    "last_day"
   ]
  },
  {
   "cell_type": "code",
   "execution_count": 36,
   "id": "e4fdcf92-a47b-4d1e-bf7e-f21ad36fd08a",
   "metadata": {},
   "outputs": [],
   "source": [
    "# Create a 30 day forecast \n",
    "forecast_horizon = 30\n",
    "forecasts = result_GARCH.forecast(start=last_day, horizon=forecast_horizon)"
   ]
  },
  {
   "cell_type": "code",
   "execution_count": 37,
   "id": "346a97bf-f06b-494a-bc69-ec83e6d5fa23",
   "metadata": {},
   "outputs": [
    {
     "data": {
      "text/html": [
       "<div>\n",
       "<style scoped>\n",
       "    .dataframe tbody tr th:only-of-type {\n",
       "        vertical-align: middle;\n",
       "    }\n",
       "\n",
       "    .dataframe tbody tr th {\n",
       "        vertical-align: top;\n",
       "    }\n",
       "\n",
       "    .dataframe thead th {\n",
       "        text-align: right;\n",
       "    }\n",
       "</style>\n",
       "<table border=\"1\" class=\"dataframe\">\n",
       "  <thead>\n",
       "    <tr style=\"text-align: right;\">\n",
       "      <th></th>\n",
       "      <th>h.01</th>\n",
       "      <th>h.02</th>\n",
       "      <th>h.03</th>\n",
       "      <th>h.04</th>\n",
       "      <th>h.05</th>\n",
       "      <th>h.06</th>\n",
       "      <th>h.07</th>\n",
       "      <th>h.08</th>\n",
       "      <th>h.09</th>\n",
       "      <th>h.10</th>\n",
       "      <th>...</th>\n",
       "      <th>h.21</th>\n",
       "      <th>h.22</th>\n",
       "      <th>h.23</th>\n",
       "      <th>h.24</th>\n",
       "      <th>h.25</th>\n",
       "      <th>h.26</th>\n",
       "      <th>h.27</th>\n",
       "      <th>h.28</th>\n",
       "      <th>h.29</th>\n",
       "      <th>h.30</th>\n",
       "    </tr>\n",
       "    <tr>\n",
       "      <th>Date</th>\n",
       "      <th></th>\n",
       "      <th></th>\n",
       "      <th></th>\n",
       "      <th></th>\n",
       "      <th></th>\n",
       "      <th></th>\n",
       "      <th></th>\n",
       "      <th></th>\n",
       "      <th></th>\n",
       "      <th></th>\n",
       "      <th></th>\n",
       "      <th></th>\n",
       "      <th></th>\n",
       "      <th></th>\n",
       "      <th></th>\n",
       "      <th></th>\n",
       "      <th></th>\n",
       "      <th></th>\n",
       "      <th></th>\n",
       "      <th></th>\n",
       "      <th></th>\n",
       "    </tr>\n",
       "  </thead>\n",
       "  <tbody>\n",
       "    <tr>\n",
       "      <th>2021-08-25</th>\n",
       "      <td>0.217061</td>\n",
       "      <td>0.225822</td>\n",
       "      <td>0.233426</td>\n",
       "      <td>0.240063</td>\n",
       "      <td>0.245884</td>\n",
       "      <td>0.251007</td>\n",
       "      <td>0.25553</td>\n",
       "      <td>0.259534</td>\n",
       "      <td>0.263085</td>\n",
       "      <td>0.26624</td>\n",
       "      <td>...</td>\n",
       "      <td>0.284954</td>\n",
       "      <td>0.28578</td>\n",
       "      <td>0.286522</td>\n",
       "      <td>0.287188</td>\n",
       "      <td>0.287786</td>\n",
       "      <td>0.288324</td>\n",
       "      <td>0.288806</td>\n",
       "      <td>0.28924</td>\n",
       "      <td>0.28963</td>\n",
       "      <td>0.28998</td>\n",
       "    </tr>\n",
       "  </tbody>\n",
       "</table>\n",
       "<p>1 rows × 30 columns</p>\n",
       "</div>"
      ],
      "text/plain": [
       "                h.01      h.02      h.03      h.04      h.05      h.06  \\\n",
       "Date                                                                     \n",
       "2021-08-25  0.217061  0.225822  0.233426  0.240063  0.245884  0.251007   \n",
       "\n",
       "               h.07      h.08      h.09     h.10  ...      h.21     h.22  \\\n",
       "Date                                              ...                      \n",
       "2021-08-25  0.25553  0.259534  0.263085  0.26624  ...  0.284954  0.28578   \n",
       "\n",
       "                h.23      h.24      h.25      h.26      h.27     h.28  \\\n",
       "Date                                                                    \n",
       "2021-08-25  0.286522  0.287188  0.287786  0.288324  0.288806  0.28924   \n",
       "\n",
       "               h.29     h.30  \n",
       "Date                          \n",
       "2021-08-25  0.28963  0.28998  \n",
       "\n",
       "[1 rows x 30 columns]"
      ]
     },
     "execution_count": 37,
     "metadata": {},
     "output_type": "execute_result"
    }
   ],
   "source": [
    "# Annualize the forecast\n",
    "intermediate = np.sqrt(forecasts.variance.dropna() * 252)\n",
    "intermediate.head()"
   ]
  },
  {
   "cell_type": "code",
   "execution_count": 38,
   "id": "59710164-09c7-4d08-9ae3-b5cf03907873",
   "metadata": {},
   "outputs": [
    {
     "data": {
      "text/html": [
       "<div>\n",
       "<style scoped>\n",
       "    .dataframe tbody tr th:only-of-type {\n",
       "        vertical-align: middle;\n",
       "    }\n",
       "\n",
       "    .dataframe tbody tr th {\n",
       "        vertical-align: top;\n",
       "    }\n",
       "\n",
       "    .dataframe thead th {\n",
       "        text-align: right;\n",
       "    }\n",
       "</style>\n",
       "<table border=\"1\" class=\"dataframe\">\n",
       "  <thead>\n",
       "    <tr style=\"text-align: right;\">\n",
       "      <th>Date</th>\n",
       "      <th>2021-08-25</th>\n",
       "    </tr>\n",
       "  </thead>\n",
       "  <tbody>\n",
       "    <tr>\n",
       "      <th>h.01</th>\n",
       "      <td>0.217061</td>\n",
       "    </tr>\n",
       "    <tr>\n",
       "      <th>h.02</th>\n",
       "      <td>0.225822</td>\n",
       "    </tr>\n",
       "    <tr>\n",
       "      <th>h.03</th>\n",
       "      <td>0.233426</td>\n",
       "    </tr>\n",
       "    <tr>\n",
       "      <th>h.04</th>\n",
       "      <td>0.240063</td>\n",
       "    </tr>\n",
       "    <tr>\n",
       "      <th>h.05</th>\n",
       "      <td>0.245884</td>\n",
       "    </tr>\n",
       "  </tbody>\n",
       "</table>\n",
       "</div>"
      ],
      "text/plain": [
       "Date  2021-08-25\n",
       "h.01    0.217061\n",
       "h.02    0.225822\n",
       "h.03    0.233426\n",
       "h.04    0.240063\n",
       "h.05    0.245884"
      ]
     },
     "execution_count": 38,
     "metadata": {},
     "output_type": "execute_result"
    }
   ],
   "source": [
    "# Transpose the forecast so that it is easier to plot\n",
    "final = intermediate.dropna().T\n",
    "final.head()"
   ]
  },
  {
   "cell_type": "code",
   "execution_count": 39,
   "id": "65a851f9-004a-45b0-a7c2-5254a4a982be",
   "metadata": {},
   "outputs": [
    {
     "data": {
      "text/plain": [
       "<AxesSubplot:title={'center':'30 Day Forecast for AMZN'}>"
      ]
     },
     "execution_count": 39,
     "metadata": {},
     "output_type": "execute_result"
    },
    {
     "data": {
      "image/png": "[encoded data removed]",
      "text/plain": [
       "<Figure size 432x288 with 1 Axes>"
      ]
     },
     "metadata": {
      "needs_background": "light"
     },
     "output_type": "display_data"
    }
   ],
   "source": [
    "# Plot the final forecast\n",
    "final.plot(title=\"30 Day Forecast for AMZN\")"
   ]
  },
  {
   "cell_type": "code",
   "execution_count": null,
   "id": "ece715e8-8bdb-4e81-9b43-3b4ae6fae7b9",
   "metadata": {},
   "outputs": [],
   "source": []
  },
  {
   "cell_type": "code",
   "execution_count": null,
   "id": "3571ac3f-3664-4cbc-a416-09fbc12e2e3c",
   "metadata": {},
   "outputs": [],
   "source": []
  }
 ],
 "metadata": {
  "kernelspec": {
   "display_name": "Python 3",
   "language": "python",
   "name": "python3"
  },
  "language_info": {
   "codemirror_mode": {
    "name": "ipython",
    "version": 3
   },
   "file_extension": ".py",
   "mimetype": "text/x-python",
   "name": "python",
   "nbconvert_exporter": "python",
   "pygments_lexer": "ipython3",
   "version": "3.7.10"
  }
 },
 "nbformat": 4,
 "nbformat_minor": 5
}
