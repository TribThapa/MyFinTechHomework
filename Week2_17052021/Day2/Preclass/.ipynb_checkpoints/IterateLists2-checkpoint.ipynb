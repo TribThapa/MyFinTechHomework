{
 "cells": [
  {
   "cell_type": "code",
   "execution_count": 23,
   "metadata": {},
   "outputs": [
    {
     "name": "stdout",
     "output_type": "stream",
     "text": [
      "This -224 was a loss day\n",
      "This 352 was a profit day\n",
      "This 252 was a profit day\n",
      "This 354 was a profit day\n",
      "This -544 was a loss day\n",
      "This -650 was a loss day\n",
      "This 56 was a profit day\n",
      "This 123 was a profit day\n",
      "This -43 was a loss day\n",
      "This 254 was a profit day\n",
      "This 325 was a profit day\n",
      "This -123 was a loss day\n",
      "This 47 was a profit day\n",
      "This 321 was a profit day\n",
      "This 123 was a profit day\n",
      "This 133 was a profit day\n",
      "This -151 was a loss day\n",
      "This 613 was a profit day\n",
      "This 232 was a profit day\n",
      "This -311 was a loss day\n",
      "The average is 56.95\n",
      "20 trades were made, which was worth $1139\n",
      "The total profit made was 5.0%\n",
      "-------------Summary statistics----------------\n",
      "Total number of trades made: 20\n",
      "Total amount traded: $1139 \n",
      "Average amount made across 20 trades: 56.95\n",
      "There was 5.0% profit made acoss 20 trades\n"
     ]
    }
   ],
   "source": [
    "# Initialize the metric variables\n",
    "count = 0\n",
    "total = 0\n",
    "average = 0\n",
    "minimum = 0\n",
    "maximum = 0\n",
    "\n",
    "# Initialize lists to hold profitable and unprofitable day profits/losses\n",
    "profits = 0\n",
    "losses = 0\n",
    "\n",
    "# List of trading profits/losses\n",
    "trading_pnl = [ -224, 352, 252, 354, -544,\n",
    "                -650,  56, 123, -43,  254,\n",
    "                 325, -123,  47, 321,  123,\n",
    "                 133, -151, 613, 232, -311 ]\n",
    "\n",
    "# Iterate over each element of the list\n",
    "for trade in trading_pnl:\n",
    "    \n",
    "    total += trade\n",
    "    #print(total)\n",
    "    count += 1\n",
    "    #print(count)\n",
    "\n",
    "    #Logic to determine minimum and maximum values\n",
    "    if trade == 0:\n",
    "        minimum = trade\n",
    "    elif trade < 0:\n",
    "        minimum = trade\n",
    "    elif trade > minimum:\n",
    "        maximum = trade\n",
    "\n",
    "    #Logic to determine profitable vs unprofitable days\n",
    "    if trade <= 0:\n",
    "        print(f\"This {trade} was a loss day\")\n",
    "    elif trade > 0:\n",
    "        print(f\"This {trade} was a profit day\")\n",
    "    \n",
    "\n",
    "    \n",
    "# Calculate the average\n",
    "average = total/count\n",
    "print(f\"The average is {average}\")\n",
    "\n",
    "# Calculate count metrics\n",
    "print(f\"{count} trades were made, which was worth ${total}\")\n",
    "\n",
    "ProfitMade = average/total*100\n",
    "print(f\"The total profit made was {ProfitMade}%\")\n",
    "()\n",
    "\n",
    "print(\"-------------Summary statistics----------------\")\n",
    "print(f\"Total number of trades made: {count}\")\n",
    "print(f\"Total amount traded: ${total} \")\n",
    "print(f\"Average amount made across {count} trades: {average}\")\n",
    "print(f\"There was {ProfitMade}% profit made acoss {count} trades\")"
   ]
  },
  {
   "cell_type": "code",
   "execution_count": 19,
   "metadata": {},
   "outputs": [],
   "source": [
    "\n",
    "\n",
    "# @TODO: Print out the summary statistics"
   ]
  },
  {
   "cell_type": "code",
   "execution_count": null,
   "metadata": {},
   "outputs": [],
   "source": []
  }
 ],
 "metadata": {
  "kernelspec": {
   "display_name": "Python 3",
   "language": "python",
   "name": "python3"
  },
  "language_info": {
   "codemirror_mode": {
    "name": "ipython",
    "version": 3
   },
   "file_extension": ".py",
   "mimetype": "text/x-python",
   "name": "python",
   "nbconvert_exporter": "python",
   "pygments_lexer": "ipython3",
   "version": "3.7.1"
  }
 },
 "nbformat": 4,
 "nbformat_minor": 2
}
