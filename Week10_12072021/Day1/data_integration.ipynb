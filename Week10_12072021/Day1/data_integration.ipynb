{
 "cells": [
  {
   "cell_type": "code",
   "execution_count": 1,
   "id": "bc9f00df",
   "metadata": {},
   "outputs": [],
   "source": [
    "#Imports\n",
    "import ccxt\n",
    "import os\n",
    "# import pandas as pd\n",
    "import requests\n",
    "from Historic_Crypto import HistoricalData\n",
    "from Historic_Crypto import LiveCryptoData\n",
    "from Historic_Crypto import Cryptocurrencies\n",
    "from pytrends.request import TrendReq\n",
    "from dotenv import load_dotenv\n",
    "from tqdm import tqdm_notebook as tqdm"
   ]
  },
  {
   "cell_type": "code",
   "execution_count": 2,
   "id": "cb9bac6f",
   "metadata": {},
   "outputs": [],
   "source": [
    "load_dotenv()\n",
    "#Telegram Bot and channel information\n",
    "bot_token = os.getenv(\"bot_api_token\")\n",
    "telegram_channel_id = os.getenv(\"telegram_channel_id\")\n",
    "\n",
    "# Preparing ccxt engine\n",
    "exchange_id = 'coinbasepro'\n",
    "\n",
    "exchange_class = getattr(ccxt, exchange_id)\n",
    "\n",
    "exchange = exchange_class({'timeout': 30000,\n",
    "                           'enableRateLimit': True})\n"
   ]
  },
  {
   "cell_type": "code",
   "execution_count": 3,
   "id": "e87e416d",
   "metadata": {},
   "outputs": [],
   "source": [
    "#Google Trends - Interest over time\n",
    "def get_trend_data(kw):\n",
    "    try:\n",
    "        pytrends = TrendReq(hl='en-US', \n",
    "                            tz=600)\n",
    "        \n",
    "        pytrends.build_payload([kw], \n",
    "                               cat=0, \n",
    "                               timeframe='now 1-H', \n",
    "                               geo='', \n",
    "                               gprop='')\n",
    "        \n",
    "        df = pytrends.interest_over_time()\n",
    "        \n",
    "        return df.iloc[-1][0]\n",
    "    except:\n",
    "        return 0\n",
    "\n",
    "# Function is to get OHLCV data for a ticker over 1 day period. It uses ccxt library to get the data.\n",
    "# product - Crypto asset to get the data for. Eg. BTC/USD\n",
    "# time - Current time in epoch\n",
    "def retrieve_ohlcv(product):\n",
    "    \n",
    "    return exchange.fetch_ohlcv(product, '1m')\n",
    "\n",
    "def get_current_price(product):\n",
    "    price = retrieve_ohlcv(product)[-1][4]\n",
    "    return price\n",
    "\n",
    "# Function is to get historical data for a ticker as far back as the start date provided at the interval of 1 day. It uses Historic_Crypto library to get the data.\n",
    "# product - Crypto asset to get the data for. Eg. BTC-USD\n",
    "# start_date -  Start date as a string in the format YYYY-MM-DD-HH-MM (str)\n",
    "def retrieve_historical_data(product,start_date):\n",
    "    df = HistoricalData(product, 86400, start_date).retrieve_data()\n",
    "    return df\n",
    "\n",
    "#Sending message to Telegram channel\n",
    "def telegram_bot_sendtext(bot_message):\n",
    "    send_text = 'https://api.telegram.org/bot' + bot_token + '/sendMessage?chat_id=' + telegram_channel_id + '&parse_mode=Markdown&text=' + bot_message\n",
    "    response = requests.get(send_text)\n",
    "\n",
    "    return response.json()"
   ]
  }
 ],
 "metadata": {
  "kernelspec": {
   "display_name": "Python 3",
   "language": "python",
   "name": "python3"
  },
  "language_info": {
   "codemirror_mode": {
    "name": "ipython",
    "version": 3
   },
   "file_extension": ".py",
   "mimetype": "text/x-python",
   "name": "python",
   "nbconvert_exporter": "python",
   "pygments_lexer": "ipython3",
   "version": "3.7.10"
  }
 },
 "nbformat": 4,
 "nbformat_minor": 5
}
