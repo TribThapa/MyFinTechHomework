{
 "cells": [
  {
   "cell_type": "markdown",
   "metadata": {},
   "source": [
    "# Cleaning Data in Pandas DataFrames"
   ]
  },
  {
   "cell_type": "markdown",
   "metadata": {},
   "source": [
    "## 1. Import libraries and dependencies"
   ]
  },
  {
   "cell_type": "code",
   "execution_count": 126,
   "metadata": {},
   "outputs": [],
   "source": [
    "# Import the pandas and pathlib libraries\n",
    "import pandas as pd\n",
    "import numpy as np\n",
    "from pathlib import Path"
   ]
  },
  {
   "cell_type": "markdown",
   "metadata": {},
   "source": [
    "## 2. Create a Path to the File Using Pathlib"
   ]
  },
  {
   "cell_type": "code",
   "execution_count": 127,
   "metadata": {},
   "outputs": [],
   "source": [
    "# Use the Pathlib libary to set the path to the CSV\n",
    "data1 = Path(r'C:\\Users\\TribThapa\\Desktop\\Thapa\\ResearchFellow\\Courses\\FinTech_Bootcamp_MonashUni2021\\monu-mel-virt-fin-pt-05-2021-u-c\\Activities\\Week 4\\2\\03-data-cleaning-01\\Resources\\people_cleansed.csv')\n",
    "data2 = Path(r'C:\\Users\\TribThapa\\Desktop\\Thapa\\ResearchFellow\\Courses\\FinTech_Bootcamp_MonashUni2021\\monu-mel-virt-fin-pt-05-2021-u-c\\Activities\\Week 4\\2\\03-data-cleaning-01\\Resources\\people_reordered.csv')"
   ]
  },
  {
   "cell_type": "markdown",
   "metadata": {},
   "source": [
    "## 3. Read the CSV into a Pandas DataFrame"
   ]
  },
  {
   "cell_type": "code",
   "execution_count": 155,
   "metadata": {},
   "outputs": [
    {
     "data": {
      "text/html": [
       "<div>\n",
       "<style scoped>\n",
       "    .dataframe tbody tr th:only-of-type {\n",
       "        vertical-align: middle;\n",
       "    }\n",
       "\n",
       "    .dataframe tbody tr th {\n",
       "        vertical-align: top;\n",
       "    }\n",
       "\n",
       "    .dataframe thead th {\n",
       "        text-align: right;\n",
       "    }\n",
       "</style>\n",
       "<table border=\"1\" class=\"dataframe\">\n",
       "  <thead>\n",
       "    <tr style=\"text-align: right;\">\n",
       "      <th></th>\n",
       "      <th>Person_ID</th>\n",
       "      <th>Last_Name</th>\n",
       "      <th>First_Name</th>\n",
       "      <th>Gender</th>\n",
       "      <th>University</th>\n",
       "      <th>Occupation</th>\n",
       "      <th>Salary</th>\n",
       "      <th>Email</th>\n",
       "      <th>Age</th>\n",
       "    </tr>\n",
       "  </thead>\n",
       "  <tbody>\n",
       "    <tr>\n",
       "      <th>0</th>\n",
       "      <td>1</td>\n",
       "      <td>Lenormand</td>\n",
       "      <td>Keriann</td>\n",
       "      <td>Female</td>\n",
       "      <td>Aurora University</td>\n",
       "      <td>Nurse Practicioner</td>\n",
       "      <td>58135.0</td>\n",
       "      <td>klenormand0@businessinsider.com</td>\n",
       "      <td>27</td>\n",
       "    </tr>\n",
       "    <tr>\n",
       "      <th>1</th>\n",
       "      <td>2</td>\n",
       "      <td>Rupke</td>\n",
       "      <td>Huntley</td>\n",
       "      <td>Male</td>\n",
       "      <td>Osaka University of Economics</td>\n",
       "      <td>Project Manager</td>\n",
       "      <td>96053.0</td>\n",
       "      <td>hrupke1@reuters.com</td>\n",
       "      <td>22</td>\n",
       "    </tr>\n",
       "    <tr>\n",
       "      <th>2</th>\n",
       "      <td>3</td>\n",
       "      <td>Dalgarnowch</td>\n",
       "      <td>Gorden</td>\n",
       "      <td>Male</td>\n",
       "      <td>Ludong University</td>\n",
       "      <td>Environmental Tech</td>\n",
       "      <td>59196.0</td>\n",
       "      <td>gdalgarnowch2@microsoft.com</td>\n",
       "      <td>40</td>\n",
       "    </tr>\n",
       "    <tr>\n",
       "      <th>3</th>\n",
       "      <td>4</td>\n",
       "      <td>Unnamed</td>\n",
       "      <td>Cullie</td>\n",
       "      <td>Male</td>\n",
       "      <td>Université des Sciences et de la Technologie d...</td>\n",
       "      <td>Legal Assistant</td>\n",
       "      <td>88493.0</td>\n",
       "      <td>cputten3@nymag.com</td>\n",
       "      <td>62</td>\n",
       "    </tr>\n",
       "    <tr>\n",
       "      <th>4</th>\n",
       "      <td>5</td>\n",
       "      <td>Strangman</td>\n",
       "      <td>Ariel</td>\n",
       "      <td>Female</td>\n",
       "      <td>Boise State University</td>\n",
       "      <td>Project Manager</td>\n",
       "      <td>89073.0</td>\n",
       "      <td>astrangman4@bravesites.com</td>\n",
       "      <td>47</td>\n",
       "    </tr>\n",
       "  </tbody>\n",
       "</table>\n",
       "</div>"
      ],
      "text/plain": [
       "   Person_ID    Last_Name First_Name  Gender  \\\n",
       "0          1    Lenormand    Keriann  Female   \n",
       "1          2        Rupke    Huntley    Male   \n",
       "2          3  Dalgarnowch     Gorden    Male   \n",
       "3          4      Unnamed     Cullie    Male   \n",
       "4          5    Strangman      Ariel  Female   \n",
       "\n",
       "                                          University          Occupation  \\\n",
       "0                                  Aurora University  Nurse Practicioner   \n",
       "1                      Osaka University of Economics     Project Manager   \n",
       "2                                  Ludong University  Environmental Tech   \n",
       "3  Université des Sciences et de la Technologie d...     Legal Assistant   \n",
       "4                             Boise State University     Project Manager   \n",
       "\n",
       "    Salary                            Email  Age  \n",
       "0  58135.0  klenormand0@businessinsider.com   27  \n",
       "1  96053.0              hrupke1@reuters.com   22  \n",
       "2  59196.0      gdalgarnowch2@microsoft.com   40  \n",
       "3  88493.0               cputten3@nymag.com   62  \n",
       "4  89073.0       astrangman4@bravesites.com   47  "
      ]
     },
     "execution_count": 155,
     "metadata": {},
     "output_type": "execute_result"
    }
   ],
   "source": [
    "# Use the file path to read the CSV into a DataFrame and display a few rows\n",
    "data1_df = pd.read_csv(data1)\n",
    "data1_df.head()"
   ]
  },
  {
   "cell_type": "code",
   "execution_count": 129,
   "metadata": {},
   "outputs": [
    {
     "data": {
      "text/html": [
       "<div>\n",
       "<style scoped>\n",
       "    .dataframe tbody tr th:only-of-type {\n",
       "        vertical-align: middle;\n",
       "    }\n",
       "\n",
       "    .dataframe tbody tr th {\n",
       "        vertical-align: top;\n",
       "    }\n",
       "\n",
       "    .dataframe thead th {\n",
       "        text-align: right;\n",
       "    }\n",
       "</style>\n",
       "<table border=\"1\" class=\"dataframe\">\n",
       "  <thead>\n",
       "    <tr style=\"text-align: right;\">\n",
       "      <th></th>\n",
       "      <th>Unnamed: 0</th>\n",
       "      <th>Person_ID</th>\n",
       "      <th>Last_Name</th>\n",
       "      <th>First_Name</th>\n",
       "      <th>Gender</th>\n",
       "      <th>University</th>\n",
       "      <th>Occupation</th>\n",
       "      <th>Salary</th>\n",
       "      <th>Email</th>\n",
       "      <th>Age</th>\n",
       "    </tr>\n",
       "  </thead>\n",
       "  <tbody>\n",
       "    <tr>\n",
       "      <th>0</th>\n",
       "      <td>0</td>\n",
       "      <td>1.0</td>\n",
       "      <td>Lenormand</td>\n",
       "      <td>Keriann</td>\n",
       "      <td>Female</td>\n",
       "      <td>Aurora University</td>\n",
       "      <td>Nurse Practicioner</td>\n",
       "      <td>58135.0</td>\n",
       "      <td>klenormand0@businessinsider.com</td>\n",
       "      <td>27</td>\n",
       "    </tr>\n",
       "    <tr>\n",
       "      <th>1</th>\n",
       "      <td>1</td>\n",
       "      <td>2.0</td>\n",
       "      <td>Rupke</td>\n",
       "      <td>Huntley</td>\n",
       "      <td>Male</td>\n",
       "      <td>Osaka University of Economics</td>\n",
       "      <td>Project Manager</td>\n",
       "      <td>96053.0</td>\n",
       "      <td>hrupke1@reuters.com</td>\n",
       "      <td>22</td>\n",
       "    </tr>\n",
       "    <tr>\n",
       "      <th>2</th>\n",
       "      <td>2</td>\n",
       "      <td>3.0</td>\n",
       "      <td>Dalgarnowch</td>\n",
       "      <td>Gorden</td>\n",
       "      <td>Male</td>\n",
       "      <td>Ludong University</td>\n",
       "      <td>Environmental Tech</td>\n",
       "      <td>59196.0</td>\n",
       "      <td>gdalgarnowch2@microsoft.com</td>\n",
       "      <td>40</td>\n",
       "    </tr>\n",
       "    <tr>\n",
       "      <th>3</th>\n",
       "      <td>3</td>\n",
       "      <td>4.0</td>\n",
       "      <td>NaN</td>\n",
       "      <td>Cullie</td>\n",
       "      <td>Male</td>\n",
       "      <td>Université des Sciences et de la Technologie d...</td>\n",
       "      <td>Legal Assistant</td>\n",
       "      <td>88493.0</td>\n",
       "      <td>cputten3@nymag.com</td>\n",
       "      <td>62</td>\n",
       "    </tr>\n",
       "    <tr>\n",
       "      <th>4</th>\n",
       "      <td>4</td>\n",
       "      <td>5.0</td>\n",
       "      <td>Strangman</td>\n",
       "      <td>Ariel</td>\n",
       "      <td>Female</td>\n",
       "      <td>Boise State University</td>\n",
       "      <td>Project Manager</td>\n",
       "      <td>89073.0</td>\n",
       "      <td>astrangman4@bravesites.com</td>\n",
       "      <td>47</td>\n",
       "    </tr>\n",
       "    <tr>\n",
       "      <th>...</th>\n",
       "      <td>...</td>\n",
       "      <td>...</td>\n",
       "      <td>...</td>\n",
       "      <td>...</td>\n",
       "      <td>...</td>\n",
       "      <td>...</td>\n",
       "      <td>...</td>\n",
       "      <td>...</td>\n",
       "      <td>...</td>\n",
       "      <td>...</td>\n",
       "    </tr>\n",
       "    <tr>\n",
       "      <th>995</th>\n",
       "      <td>995</td>\n",
       "      <td>996.0</td>\n",
       "      <td>Crumpton</td>\n",
       "      <td>Meta</td>\n",
       "      <td>Female</td>\n",
       "      <td>ECAM - Institut Supérieur Industriel</td>\n",
       "      <td>Registered Nurse</td>\n",
       "      <td>57060.0</td>\n",
       "      <td>mcrumptonrn@qq.com</td>\n",
       "      <td>52</td>\n",
       "    </tr>\n",
       "    <tr>\n",
       "      <th>996</th>\n",
       "      <td>996</td>\n",
       "      <td>997.0</td>\n",
       "      <td>Gilford</td>\n",
       "      <td>Gunar</td>\n",
       "      <td>Male</td>\n",
       "      <td>Smolny University</td>\n",
       "      <td>Marketing Manager</td>\n",
       "      <td>76109.0</td>\n",
       "      <td>ggilfordro@yandex.ru</td>\n",
       "      <td>32</td>\n",
       "    </tr>\n",
       "    <tr>\n",
       "      <th>997</th>\n",
       "      <td>997</td>\n",
       "      <td>998.0</td>\n",
       "      <td>Gurling</td>\n",
       "      <td>Lucretia</td>\n",
       "      <td>Female</td>\n",
       "      <td>Institut Teknologi Telkom</td>\n",
       "      <td>Software Engineer III</td>\n",
       "      <td>92115.0</td>\n",
       "      <td>lgurlingrp@de.vu</td>\n",
       "      <td>48</td>\n",
       "    </tr>\n",
       "    <tr>\n",
       "      <th>998</th>\n",
       "      <td>998</td>\n",
       "      <td>999.0</td>\n",
       "      <td>Yang</td>\n",
       "      <td>Andrew</td>\n",
       "      <td>Male</td>\n",
       "      <td>Rutgers University School of Business</td>\n",
       "      <td>Curriculum Engineer</td>\n",
       "      <td>60000.0</td>\n",
       "      <td>ayang@codedrills.com</td>\n",
       "      <td>53</td>\n",
       "    </tr>\n",
       "    <tr>\n",
       "      <th>999</th>\n",
       "      <td>999</td>\n",
       "      <td>999.0</td>\n",
       "      <td>Yang</td>\n",
       "      <td>Andrew</td>\n",
       "      <td>Male</td>\n",
       "      <td>Rutgers University School of Business</td>\n",
       "      <td>Curriculum Engineer</td>\n",
       "      <td>60000.0</td>\n",
       "      <td>ayang@codedrills.com</td>\n",
       "      <td>53</td>\n",
       "    </tr>\n",
       "  </tbody>\n",
       "</table>\n",
       "<p>1000 rows × 10 columns</p>\n",
       "</div>"
      ],
      "text/plain": [
       "     Unnamed: 0  Person_ID    Last_Name First_Name  Gender  \\\n",
       "0             0        1.0    Lenormand    Keriann  Female   \n",
       "1             1        2.0        Rupke    Huntley    Male   \n",
       "2             2        3.0  Dalgarnowch     Gorden    Male   \n",
       "3             3        4.0          NaN     Cullie    Male   \n",
       "4             4        5.0    Strangman      Ariel  Female   \n",
       "..          ...        ...          ...        ...     ...   \n",
       "995         995      996.0     Crumpton       Meta  Female   \n",
       "996         996      997.0      Gilford      Gunar    Male   \n",
       "997         997      998.0      Gurling   Lucretia  Female   \n",
       "998         998      999.0         Yang     Andrew    Male   \n",
       "999         999      999.0         Yang     Andrew    Male   \n",
       "\n",
       "                                            University             Occupation  \\\n",
       "0                                    Aurora University     Nurse Practicioner   \n",
       "1                        Osaka University of Economics        Project Manager   \n",
       "2                                    Ludong University     Environmental Tech   \n",
       "3    Université des Sciences et de la Technologie d...        Legal Assistant   \n",
       "4                               Boise State University        Project Manager   \n",
       "..                                                 ...                    ...   \n",
       "995               ECAM - Institut Supérieur Industriel       Registered Nurse   \n",
       "996                                  Smolny University      Marketing Manager   \n",
       "997                          Institut Teknologi Telkom  Software Engineer III   \n",
       "998              Rutgers University School of Business    Curriculum Engineer   \n",
       "999              Rutgers University School of Business    Curriculum Engineer   \n",
       "\n",
       "      Salary                            Email  Age  \n",
       "0    58135.0  klenormand0@businessinsider.com   27  \n",
       "1    96053.0              hrupke1@reuters.com   22  \n",
       "2    59196.0      gdalgarnowch2@microsoft.com   40  \n",
       "3    88493.0               cputten3@nymag.com   62  \n",
       "4    89073.0       astrangman4@bravesites.com   47  \n",
       "..       ...                              ...  ...  \n",
       "995  57060.0               mcrumptonrn@qq.com   52  \n",
       "996  76109.0             ggilfordro@yandex.ru   32  \n",
       "997  92115.0                 lgurlingrp@de.vu   48  \n",
       "998  60000.0             ayang@codedrills.com   53  \n",
       "999  60000.0             ayang@codedrills.com   53  \n",
       "\n",
       "[1000 rows x 10 columns]"
      ]
     },
     "execution_count": 129,
     "metadata": {},
     "output_type": "execute_result"
    }
   ],
   "source": [
    "data2_df = pd.read_csv(data2)\n",
    "data2_df"
   ]
  },
  {
   "cell_type": "markdown",
   "metadata": {},
   "source": [
    "## 4. View Column Data Types"
   ]
  },
  {
   "cell_type": "code",
   "execution_count": 130,
   "metadata": {},
   "outputs": [
    {
     "data": {
      "text/plain": [
       "Person_ID       int64\n",
       "Last_Name      object\n",
       "First_Name     object\n",
       "Gender         object\n",
       "University     object\n",
       "Occupation     object\n",
       "Salary        float64\n",
       "Email          object\n",
       "Age             int64\n",
       "dtype: object"
      ]
     },
     "execution_count": 130,
     "metadata": {},
     "output_type": "execute_result"
    }
   ],
   "source": [
    "# Use the `dtypes` attribute to list the column data types\n",
    "data1_df.dtypes"
   ]
  },
  {
   "cell_type": "code",
   "execution_count": 131,
   "metadata": {},
   "outputs": [
    {
     "data": {
      "text/plain": [
       "Unnamed: 0      int64\n",
       "Person_ID     float64\n",
       "Last_Name      object\n",
       "First_Name     object\n",
       "Gender         object\n",
       "University     object\n",
       "Occupation     object\n",
       "Salary        float64\n",
       "Email          object\n",
       "Age             int64\n",
       "dtype: object"
      ]
     },
     "execution_count": 131,
     "metadata": {},
     "output_type": "execute_result"
    }
   ],
   "source": [
    "data2_df.dtypes"
   ]
  },
  {
   "cell_type": "markdown",
   "metadata": {},
   "source": [
    "## 5. Drop Extraneous Columns"
   ]
  },
  {
   "cell_type": "code",
   "execution_count": 132,
   "metadata": {},
   "outputs": [
    {
     "data": {
      "text/html": [
       "<div>\n",
       "<style scoped>\n",
       "    .dataframe tbody tr th:only-of-type {\n",
       "        vertical-align: middle;\n",
       "    }\n",
       "\n",
       "    .dataframe tbody tr th {\n",
       "        vertical-align: top;\n",
       "    }\n",
       "\n",
       "    .dataframe thead th {\n",
       "        text-align: right;\n",
       "    }\n",
       "</style>\n",
       "<table border=\"1\" class=\"dataframe\">\n",
       "  <thead>\n",
       "    <tr style=\"text-align: right;\">\n",
       "      <th></th>\n",
       "      <th>Person_ID</th>\n",
       "      <th>Last_Name</th>\n",
       "      <th>First_Name</th>\n",
       "      <th>Gender</th>\n",
       "      <th>University</th>\n",
       "      <th>Occupation</th>\n",
       "      <th>Salary</th>\n",
       "      <th>Email</th>\n",
       "      <th>Age</th>\n",
       "    </tr>\n",
       "  </thead>\n",
       "  <tbody>\n",
       "    <tr>\n",
       "      <th>0</th>\n",
       "      <td>1.0</td>\n",
       "      <td>Lenormand</td>\n",
       "      <td>Keriann</td>\n",
       "      <td>Female</td>\n",
       "      <td>Aurora University</td>\n",
       "      <td>Nurse Practicioner</td>\n",
       "      <td>58135.0</td>\n",
       "      <td>klenormand0@businessinsider.com</td>\n",
       "      <td>27</td>\n",
       "    </tr>\n",
       "    <tr>\n",
       "      <th>1</th>\n",
       "      <td>2.0</td>\n",
       "      <td>Rupke</td>\n",
       "      <td>Huntley</td>\n",
       "      <td>Male</td>\n",
       "      <td>Osaka University of Economics</td>\n",
       "      <td>Project Manager</td>\n",
       "      <td>96053.0</td>\n",
       "      <td>hrupke1@reuters.com</td>\n",
       "      <td>22</td>\n",
       "    </tr>\n",
       "    <tr>\n",
       "      <th>2</th>\n",
       "      <td>3.0</td>\n",
       "      <td>Dalgarnowch</td>\n",
       "      <td>Gorden</td>\n",
       "      <td>Male</td>\n",
       "      <td>Ludong University</td>\n",
       "      <td>Environmental Tech</td>\n",
       "      <td>59196.0</td>\n",
       "      <td>gdalgarnowch2@microsoft.com</td>\n",
       "      <td>40</td>\n",
       "    </tr>\n",
       "    <tr>\n",
       "      <th>3</th>\n",
       "      <td>4.0</td>\n",
       "      <td>NaN</td>\n",
       "      <td>Cullie</td>\n",
       "      <td>Male</td>\n",
       "      <td>Université des Sciences et de la Technologie d...</td>\n",
       "      <td>Legal Assistant</td>\n",
       "      <td>88493.0</td>\n",
       "      <td>cputten3@nymag.com</td>\n",
       "      <td>62</td>\n",
       "    </tr>\n",
       "    <tr>\n",
       "      <th>4</th>\n",
       "      <td>5.0</td>\n",
       "      <td>Strangman</td>\n",
       "      <td>Ariel</td>\n",
       "      <td>Female</td>\n",
       "      <td>Boise State University</td>\n",
       "      <td>Project Manager</td>\n",
       "      <td>89073.0</td>\n",
       "      <td>astrangman4@bravesites.com</td>\n",
       "      <td>47</td>\n",
       "    </tr>\n",
       "    <tr>\n",
       "      <th>...</th>\n",
       "      <td>...</td>\n",
       "      <td>...</td>\n",
       "      <td>...</td>\n",
       "      <td>...</td>\n",
       "      <td>...</td>\n",
       "      <td>...</td>\n",
       "      <td>...</td>\n",
       "      <td>...</td>\n",
       "      <td>...</td>\n",
       "    </tr>\n",
       "    <tr>\n",
       "      <th>995</th>\n",
       "      <td>996.0</td>\n",
       "      <td>Crumpton</td>\n",
       "      <td>Meta</td>\n",
       "      <td>Female</td>\n",
       "      <td>ECAM - Institut Supérieur Industriel</td>\n",
       "      <td>Registered Nurse</td>\n",
       "      <td>57060.0</td>\n",
       "      <td>mcrumptonrn@qq.com</td>\n",
       "      <td>52</td>\n",
       "    </tr>\n",
       "    <tr>\n",
       "      <th>996</th>\n",
       "      <td>997.0</td>\n",
       "      <td>Gilford</td>\n",
       "      <td>Gunar</td>\n",
       "      <td>Male</td>\n",
       "      <td>Smolny University</td>\n",
       "      <td>Marketing Manager</td>\n",
       "      <td>76109.0</td>\n",
       "      <td>ggilfordro@yandex.ru</td>\n",
       "      <td>32</td>\n",
       "    </tr>\n",
       "    <tr>\n",
       "      <th>997</th>\n",
       "      <td>998.0</td>\n",
       "      <td>Gurling</td>\n",
       "      <td>Lucretia</td>\n",
       "      <td>Female</td>\n",
       "      <td>Institut Teknologi Telkom</td>\n",
       "      <td>Software Engineer III</td>\n",
       "      <td>92115.0</td>\n",
       "      <td>lgurlingrp@de.vu</td>\n",
       "      <td>48</td>\n",
       "    </tr>\n",
       "    <tr>\n",
       "      <th>998</th>\n",
       "      <td>999.0</td>\n",
       "      <td>Yang</td>\n",
       "      <td>Andrew</td>\n",
       "      <td>Male</td>\n",
       "      <td>Rutgers University School of Business</td>\n",
       "      <td>Curriculum Engineer</td>\n",
       "      <td>60000.0</td>\n",
       "      <td>ayang@codedrills.com</td>\n",
       "      <td>53</td>\n",
       "    </tr>\n",
       "    <tr>\n",
       "      <th>999</th>\n",
       "      <td>999.0</td>\n",
       "      <td>Yang</td>\n",
       "      <td>Andrew</td>\n",
       "      <td>Male</td>\n",
       "      <td>Rutgers University School of Business</td>\n",
       "      <td>Curriculum Engineer</td>\n",
       "      <td>60000.0</td>\n",
       "      <td>ayang@codedrills.com</td>\n",
       "      <td>53</td>\n",
       "    </tr>\n",
       "  </tbody>\n",
       "</table>\n",
       "<p>1000 rows × 9 columns</p>\n",
       "</div>"
      ],
      "text/plain": [
       "     Person_ID    Last_Name First_Name  Gender  \\\n",
       "0          1.0    Lenormand    Keriann  Female   \n",
       "1          2.0        Rupke    Huntley    Male   \n",
       "2          3.0  Dalgarnowch     Gorden    Male   \n",
       "3          4.0          NaN     Cullie    Male   \n",
       "4          5.0    Strangman      Ariel  Female   \n",
       "..         ...          ...        ...     ...   \n",
       "995      996.0     Crumpton       Meta  Female   \n",
       "996      997.0      Gilford      Gunar    Male   \n",
       "997      998.0      Gurling   Lucretia  Female   \n",
       "998      999.0         Yang     Andrew    Male   \n",
       "999      999.0         Yang     Andrew    Male   \n",
       "\n",
       "                                            University             Occupation  \\\n",
       "0                                    Aurora University     Nurse Practicioner   \n",
       "1                        Osaka University of Economics        Project Manager   \n",
       "2                                    Ludong University     Environmental Tech   \n",
       "3    Université des Sciences et de la Technologie d...        Legal Assistant   \n",
       "4                               Boise State University        Project Manager   \n",
       "..                                                 ...                    ...   \n",
       "995               ECAM - Institut Supérieur Industriel       Registered Nurse   \n",
       "996                                  Smolny University      Marketing Manager   \n",
       "997                          Institut Teknologi Telkom  Software Engineer III   \n",
       "998              Rutgers University School of Business    Curriculum Engineer   \n",
       "999              Rutgers University School of Business    Curriculum Engineer   \n",
       "\n",
       "      Salary                            Email  Age  \n",
       "0    58135.0  klenormand0@businessinsider.com   27  \n",
       "1    96053.0              hrupke1@reuters.com   22  \n",
       "2    59196.0      gdalgarnowch2@microsoft.com   40  \n",
       "3    88493.0               cputten3@nymag.com   62  \n",
       "4    89073.0       astrangman4@bravesites.com   47  \n",
       "..       ...                              ...  ...  \n",
       "995  57060.0               mcrumptonrn@qq.com   52  \n",
       "996  76109.0             ggilfordro@yandex.ru   32  \n",
       "997  92115.0                 lgurlingrp@de.vu   48  \n",
       "998  60000.0             ayang@codedrills.com   53  \n",
       "999  60000.0             ayang@codedrills.com   53  \n",
       "\n",
       "[1000 rows x 9 columns]"
      ]
     },
     "execution_count": 132,
     "metadata": {},
     "output_type": "execute_result"
    }
   ],
   "source": [
    "# Use the `drop` function to drop specific columns\n",
    "data2_drop_df = data2_df.drop(columns=('Unnamed: 0'))\n",
    "data2_drop_df"
   ]
  },
  {
   "cell_type": "markdown",
   "metadata": {},
   "source": [
    "---"
   ]
  },
  {
   "cell_type": "markdown",
   "metadata": {},
   "source": [
    "## 6. Identify Data Quality Issues"
   ]
  },
  {
   "cell_type": "markdown",
   "metadata": {},
   "source": [
    "### 1. Identify the Number of Rows"
   ]
  },
  {
   "cell_type": "code",
   "execution_count": 133,
   "metadata": {},
   "outputs": [
    {
     "data": {
      "text/plain": [
       "Person_ID     973\n",
       "Last_Name     973\n",
       "First_Name    973\n",
       "Gender        973\n",
       "University    973\n",
       "Occupation    973\n",
       "Salary        973\n",
       "Email         973\n",
       "Age           973\n",
       "dtype: int64"
      ]
     },
     "execution_count": 133,
     "metadata": {},
     "output_type": "execute_result"
    }
   ],
   "source": [
    "# Use the `count` function to view count of non-null values for each column. Count = counts True-s and False\n",
    "data1_df.notnull().count()"
   ]
  },
  {
   "cell_type": "code",
   "execution_count": 134,
   "metadata": {},
   "outputs": [
    {
     "data": {
      "text/plain": [
       "Person_ID     973\n",
       "Last_Name     973\n",
       "First_Name    973\n",
       "Gender        973\n",
       "University    973\n",
       "Occupation    973\n",
       "Salary        973\n",
       "Email         973\n",
       "Age           973\n",
       "dtype: int64"
      ]
     },
     "execution_count": 134,
     "metadata": {},
     "output_type": "execute_result"
    }
   ],
   "source": [
    "data1_df.notnull().sum()"
   ]
  },
  {
   "cell_type": "code",
   "execution_count": 135,
   "metadata": {},
   "outputs": [
    {
     "data": {
      "text/plain": [
       "Person_ID     0\n",
       "Last_Name     0\n",
       "First_Name    0\n",
       "Gender        0\n",
       "University    0\n",
       "Occupation    0\n",
       "Salary        0\n",
       "Email         0\n",
       "Age           0\n",
       "dtype: int64"
      ]
     },
     "execution_count": 135,
     "metadata": {},
     "output_type": "execute_result"
    }
   ],
   "source": [
    "data1_df.isnull().sum()"
   ]
  },
  {
   "cell_type": "markdown",
   "metadata": {},
   "source": [
    "### 2. Identify Frequency Counts of the `first_name` Column"
   ]
  },
  {
   "cell_type": "code",
   "execution_count": 136,
   "metadata": {},
   "outputs": [
    {
     "data": {
      "text/plain": [
       "Unnamed     0.006166\n",
       "Ailbert     0.003083\n",
       "Israel      0.003083\n",
       "Sasha       0.002055\n",
       "Joey        0.002055\n",
       "              ...   \n",
       "Tom         0.001028\n",
       "Jordan      0.001028\n",
       "Sadie       0.001028\n",
       "Osbourne    0.001028\n",
       "Bordie      0.001028\n",
       "Name: First_Name, Length: 895, dtype: float64"
      ]
     },
     "execution_count": 136,
     "metadata": {},
     "output_type": "execute_result"
    }
   ],
   "source": [
    "# Identifying frequency counts of the `first_name` column\n",
    "data1_df['First_Name'].value_counts(10)"
   ]
  },
  {
   "cell_type": "markdown",
   "metadata": {},
   "source": [
    "### 3. Identify Null Values"
   ]
  },
  {
   "cell_type": "code",
   "execution_count": 137,
   "metadata": {},
   "outputs": [
    {
     "data": {
      "text/plain": [
       "Person_ID     0\n",
       "Last_Name     0\n",
       "First_Name    0\n",
       "Gender        0\n",
       "University    0\n",
       "Occupation    0\n",
       "Salary        0\n",
       "Email         0\n",
       "Age           0\n",
       "dtype: int64"
      ]
     },
     "execution_count": 137,
     "metadata": {},
     "output_type": "execute_result"
    }
   ],
   "source": [
    "# Checking for null\n",
    "data1_df.isna().sum()"
   ]
  },
  {
   "cell_type": "markdown",
   "metadata": {},
   "source": [
    "### 4. Determine the Number of Nulls"
   ]
  },
  {
   "cell_type": "code",
   "execution_count": 138,
   "metadata": {},
   "outputs": [
    {
     "data": {
      "text/plain": [
       "Person_ID     0\n",
       "Last_Name     0\n",
       "First_Name    0\n",
       "Gender        0\n",
       "University    0\n",
       "Occupation    0\n",
       "Salary        0\n",
       "Email         0\n",
       "Age           0\n",
       "dtype: int64"
      ]
     },
     "execution_count": 138,
     "metadata": {},
     "output_type": "execute_result"
    }
   ],
   "source": [
    "# Determining number of nulls\n",
    "data1_df.isnull().sum()"
   ]
  },
  {
   "cell_type": "markdown",
   "metadata": {},
   "source": [
    "### 5. Determining the Percentage of Nulls for each Column"
   ]
  },
  {
   "cell_type": "code",
   "execution_count": 139,
   "metadata": {},
   "outputs": [
    {
     "data": {
      "text/plain": [
       "Person_ID     0.0\n",
       "Last_Name     0.0\n",
       "First_Name    0.0\n",
       "Gender        0.0\n",
       "University    0.0\n",
       "Occupation    0.0\n",
       "Salary        0.0\n",
       "Email         0.0\n",
       "Age           0.0\n",
       "dtype: float64"
      ]
     },
     "execution_count": 139,
     "metadata": {},
     "output_type": "execute_result"
    }
   ],
   "source": [
    "# Determining percentage of nulls\n",
    "(data1_df.isna().sum()) / (len(data1_df))* 100"
   ]
  },
  {
   "cell_type": "markdown",
   "metadata": {},
   "source": [
    "### 6. Check for Duplicate Rows"
   ]
  },
  {
   "cell_type": "code",
   "execution_count": 140,
   "metadata": {},
   "outputs": [
    {
     "data": {
      "text/plain": [
       "0      False\n",
       "1      False\n",
       "2      False\n",
       "3      False\n",
       "4      False\n",
       "       ...  \n",
       "968    False\n",
       "969    False\n",
       "970    False\n",
       "971    False\n",
       "972     True\n",
       "Length: 973, dtype: bool"
      ]
     },
     "execution_count": 140,
     "metadata": {},
     "output_type": "execute_result"
    }
   ],
   "source": [
    "# Use the `duplicated` function to determine the existance of duplicate rows: True or False\n",
    "data1_df.duplicated()"
   ]
  },
  {
   "cell_type": "markdown",
   "metadata": {},
   "source": [
    "### 7. Check for Duplicate `first_name` and `last_name Values"
   ]
  },
  {
   "cell_type": "code",
   "execution_count": 141,
   "metadata": {},
   "outputs": [
    {
     "data": {
      "text/html": [
       "<div>\n",
       "<style scoped>\n",
       "    .dataframe tbody tr th:only-of-type {\n",
       "        vertical-align: middle;\n",
       "    }\n",
       "\n",
       "    .dataframe tbody tr th {\n",
       "        vertical-align: top;\n",
       "    }\n",
       "\n",
       "    .dataframe thead th {\n",
       "        text-align: right;\n",
       "    }\n",
       "</style>\n",
       "<table border=\"1\" class=\"dataframe\">\n",
       "  <thead>\n",
       "    <tr style=\"text-align: right;\">\n",
       "      <th></th>\n",
       "      <th>Person_ID</th>\n",
       "      <th>Last_Name</th>\n",
       "      <th>First_Name</th>\n",
       "      <th>Gender</th>\n",
       "      <th>University</th>\n",
       "      <th>Occupation</th>\n",
       "      <th>Salary</th>\n",
       "      <th>Email</th>\n",
       "      <th>Age</th>\n",
       "    </tr>\n",
       "  </thead>\n",
       "  <tbody>\n",
       "    <tr>\n",
       "      <th>972</th>\n",
       "      <td>999</td>\n",
       "      <td>Yang</td>\n",
       "      <td>Andrew</td>\n",
       "      <td>Male</td>\n",
       "      <td>Rutgers University School of Business</td>\n",
       "      <td>Curriculum Engineer</td>\n",
       "      <td>60000.0</td>\n",
       "      <td>ayang@codedrills.com</td>\n",
       "      <td>53</td>\n",
       "    </tr>\n",
       "  </tbody>\n",
       "</table>\n",
       "</div>"
      ],
      "text/plain": [
       "     Person_ID Last_Name First_Name Gender  \\\n",
       "972        999      Yang     Andrew   Male   \n",
       "\n",
       "                                University           Occupation   Salary  \\\n",
       "972  Rutgers University School of Business  Curriculum Engineer  60000.0   \n",
       "\n",
       "                    Email  Age  \n",
       "972  ayang@codedrills.com   53  "
      ]
     },
     "execution_count": 141,
     "metadata": {},
     "output_type": "execute_result"
    }
   ],
   "source": [
    "# Use the `duplicated` function in conjunction with a list of columns to determine the existence of duplicate rows based on the selected columns\n",
    "data1_df[data1_df.duplicated(['First_Name', 'Last_Name'])]"
   ]
  },
  {
   "cell_type": "code",
   "execution_count": 142,
   "metadata": {},
   "outputs": [
    {
     "data": {
      "text/html": [
       "<div>\n",
       "<style scoped>\n",
       "    .dataframe tbody tr th:only-of-type {\n",
       "        vertical-align: middle;\n",
       "    }\n",
       "\n",
       "    .dataframe tbody tr th {\n",
       "        vertical-align: top;\n",
       "    }\n",
       "\n",
       "    .dataframe thead th {\n",
       "        text-align: right;\n",
       "    }\n",
       "</style>\n",
       "<table border=\"1\" class=\"dataframe\">\n",
       "  <thead>\n",
       "    <tr style=\"text-align: right;\">\n",
       "      <th></th>\n",
       "      <th>Person_ID</th>\n",
       "      <th>Last_Name</th>\n",
       "      <th>First_Name</th>\n",
       "      <th>Gender</th>\n",
       "      <th>University</th>\n",
       "      <th>Occupation</th>\n",
       "      <th>Salary</th>\n",
       "      <th>Email</th>\n",
       "      <th>Age</th>\n",
       "    </tr>\n",
       "  </thead>\n",
       "  <tbody>\n",
       "    <tr>\n",
       "      <th>999</th>\n",
       "      <td>999.0</td>\n",
       "      <td>Yang</td>\n",
       "      <td>Andrew</td>\n",
       "      <td>Male</td>\n",
       "      <td>Rutgers University School of Business</td>\n",
       "      <td>Curriculum Engineer</td>\n",
       "      <td>60000.0</td>\n",
       "      <td>ayang@codedrills.com</td>\n",
       "      <td>53</td>\n",
       "    </tr>\n",
       "  </tbody>\n",
       "</table>\n",
       "</div>"
      ],
      "text/plain": [
       "     Person_ID Last_Name First_Name Gender  \\\n",
       "999      999.0      Yang     Andrew   Male   \n",
       "\n",
       "                                University           Occupation   Salary  \\\n",
       "999  Rutgers University School of Business  Curriculum Engineer  60000.0   \n",
       "\n",
       "                    Email  Age  \n",
       "999  ayang@codedrills.com   53  "
      ]
     },
     "execution_count": 142,
     "metadata": {},
     "output_type": "execute_result"
    }
   ],
   "source": [
    "data2_drop_df[data2_drop_df.duplicated(['First_Name', 'Last_Name'])]"
   ]
  },
  {
   "cell_type": "markdown",
   "metadata": {},
   "source": [
    "---"
   ]
  },
  {
   "cell_type": "markdown",
   "metadata": {},
   "source": [
    "## 7. Resolve Data Quality Issues"
   ]
  },
  {
   "cell_type": "markdown",
   "metadata": {},
   "source": [
    "### 1. Fill First_Name and Last_Name Null Values with Default Value \"Unnamed\""
   ]
  },
  {
   "cell_type": "code",
   "execution_count": 143,
   "metadata": {},
   "outputs": [
    {
     "data": {
      "text/plain": [
       "(1000, 9)"
      ]
     },
     "execution_count": 143,
     "metadata": {},
     "output_type": "execute_result"
    }
   ],
   "source": [
    "# Cleanse nulls from DataFrame by filling na\n",
    "data2_fill = data2_drop_df.fillna('Unknown')\n",
    "data2_fill.shape"
   ]
  },
  {
   "cell_type": "code",
   "execution_count": 144,
   "metadata": {},
   "outputs": [
    {
     "data": {
      "text/html": [
       "<div>\n",
       "<style scoped>\n",
       "    .dataframe tbody tr th:only-of-type {\n",
       "        vertical-align: middle;\n",
       "    }\n",
       "\n",
       "    .dataframe tbody tr th {\n",
       "        vertical-align: top;\n",
       "    }\n",
       "\n",
       "    .dataframe thead th {\n",
       "        text-align: right;\n",
       "    }\n",
       "</style>\n",
       "<table border=\"1\" class=\"dataframe\">\n",
       "  <thead>\n",
       "    <tr style=\"text-align: right;\">\n",
       "      <th></th>\n",
       "      <th>Person_ID</th>\n",
       "      <th>Last_Name</th>\n",
       "      <th>First_Name</th>\n",
       "      <th>Gender</th>\n",
       "      <th>University</th>\n",
       "      <th>Occupation</th>\n",
       "      <th>Salary</th>\n",
       "      <th>Email</th>\n",
       "      <th>Age</th>\n",
       "    </tr>\n",
       "  </thead>\n",
       "  <tbody>\n",
       "    <tr>\n",
       "      <th>3</th>\n",
       "      <td>4.0</td>\n",
       "      <td>Unknown</td>\n",
       "      <td>Cullie</td>\n",
       "      <td>Male</td>\n",
       "      <td>Université des Sciences et de la Technologie d...</td>\n",
       "      <td>Legal Assistant</td>\n",
       "      <td>88493.0</td>\n",
       "      <td>cputten3@nymag.com</td>\n",
       "      <td>62</td>\n",
       "    </tr>\n",
       "    <tr>\n",
       "      <th>110</th>\n",
       "      <td>111.0</td>\n",
       "      <td>Unknown</td>\n",
       "      <td>Marie</td>\n",
       "      <td>Female</td>\n",
       "      <td>Imperial College School of Medicine</td>\n",
       "      <td>Technical Writer</td>\n",
       "      <td>87405.0</td>\n",
       "      <td>mdewi32@desdev.cn</td>\n",
       "      <td>41</td>\n",
       "    </tr>\n",
       "    <tr>\n",
       "      <th>236</th>\n",
       "      <td>237.0</td>\n",
       "      <td>Unknown</td>\n",
       "      <td>Kennan</td>\n",
       "      <td>Male</td>\n",
       "      <td>Northeast Normal University</td>\n",
       "      <td>Nurse Practicioner</td>\n",
       "      <td>54396.0</td>\n",
       "      <td>ktolworth6k@kickstarter.com</td>\n",
       "      <td>34</td>\n",
       "    </tr>\n",
       "    <tr>\n",
       "      <th>267</th>\n",
       "      <td>268.0</td>\n",
       "      <td>Unknown</td>\n",
       "      <td>Granthem</td>\n",
       "      <td>Male</td>\n",
       "      <td>Les Roches International School of Hotel Manag...</td>\n",
       "      <td>Budget/Accounting Analyst II</td>\n",
       "      <td>94363.0</td>\n",
       "      <td>gbewsey7f@stanford.edu</td>\n",
       "      <td>38</td>\n",
       "    </tr>\n",
       "    <tr>\n",
       "      <th>481</th>\n",
       "      <td>482.0</td>\n",
       "      <td>Unknown</td>\n",
       "      <td>Mikey</td>\n",
       "      <td>Male</td>\n",
       "      <td>Madhya Pradesh Bhoj (Open) University</td>\n",
       "      <td>Structural Analysis Engineer</td>\n",
       "      <td>51799.0</td>\n",
       "      <td>mhandsdd@adobe.com</td>\n",
       "      <td>60</td>\n",
       "    </tr>\n",
       "    <tr>\n",
       "      <th>498</th>\n",
       "      <td>499.0</td>\n",
       "      <td>Unknown</td>\n",
       "      <td>Dita</td>\n",
       "      <td>Female</td>\n",
       "      <td>Columbus State University</td>\n",
       "      <td>Systems Administrator I</td>\n",
       "      <td>104632.0</td>\n",
       "      <td>dpettmandu@fc2.com</td>\n",
       "      <td>22</td>\n",
       "    </tr>\n",
       "    <tr>\n",
       "      <th>545</th>\n",
       "      <td>546.0</td>\n",
       "      <td>Unknown</td>\n",
       "      <td>Kizzie</td>\n",
       "      <td>Female</td>\n",
       "      <td>Iceland University of Education</td>\n",
       "      <td>Sales Associate</td>\n",
       "      <td>98394.0</td>\n",
       "      <td>kmcellenf5@chicagotribune.com</td>\n",
       "      <td>55</td>\n",
       "    </tr>\n",
       "    <tr>\n",
       "      <th>852</th>\n",
       "      <td>853.0</td>\n",
       "      <td>Unknown</td>\n",
       "      <td>Ailbert</td>\n",
       "      <td>Male</td>\n",
       "      <td>Hampshire College</td>\n",
       "      <td>Help Desk Operator</td>\n",
       "      <td>106064.0</td>\n",
       "      <td>acamiliono@seattletimes.com</td>\n",
       "      <td>55</td>\n",
       "    </tr>\n",
       "    <tr>\n",
       "      <th>952</th>\n",
       "      <td>953.0</td>\n",
       "      <td>Unknown</td>\n",
       "      <td>Perren</td>\n",
       "      <td>Male</td>\n",
       "      <td>Marymount Manhattan College</td>\n",
       "      <td>Geologist IV</td>\n",
       "      <td>111209.0</td>\n",
       "      <td>pmaidensqg@usnews.com</td>\n",
       "      <td>25</td>\n",
       "    </tr>\n",
       "    <tr>\n",
       "      <th>989</th>\n",
       "      <td>990.0</td>\n",
       "      <td>Unknown</td>\n",
       "      <td>Urson</td>\n",
       "      <td>Male</td>\n",
       "      <td>Wilberforce University</td>\n",
       "      <td>Librarian</td>\n",
       "      <td>79603.0</td>\n",
       "      <td>uenrdigorh@gmpg.org</td>\n",
       "      <td>48</td>\n",
       "    </tr>\n",
       "  </tbody>\n",
       "</table>\n",
       "</div>"
      ],
      "text/plain": [
       "    Person_ID Last_Name First_Name  Gender  \\\n",
       "3         4.0   Unknown     Cullie    Male   \n",
       "110     111.0   Unknown      Marie  Female   \n",
       "236     237.0   Unknown     Kennan    Male   \n",
       "267     268.0   Unknown   Granthem    Male   \n",
       "481     482.0   Unknown      Mikey    Male   \n",
       "498     499.0   Unknown       Dita  Female   \n",
       "545     546.0   Unknown     Kizzie  Female   \n",
       "852     853.0   Unknown    Ailbert    Male   \n",
       "952     953.0   Unknown     Perren    Male   \n",
       "989     990.0   Unknown      Urson    Male   \n",
       "\n",
       "                                            University  \\\n",
       "3    Université des Sciences et de la Technologie d...   \n",
       "110                Imperial College School of Medicine   \n",
       "236                        Northeast Normal University   \n",
       "267  Les Roches International School of Hotel Manag...   \n",
       "481              Madhya Pradesh Bhoj (Open) University   \n",
       "498                          Columbus State University   \n",
       "545                    Iceland University of Education   \n",
       "852                                  Hampshire College   \n",
       "952                        Marymount Manhattan College   \n",
       "989                             Wilberforce University   \n",
       "\n",
       "                       Occupation    Salary                          Email  \\\n",
       "3                 Legal Assistant   88493.0             cputten3@nymag.com   \n",
       "110              Technical Writer   87405.0              mdewi32@desdev.cn   \n",
       "236            Nurse Practicioner   54396.0    ktolworth6k@kickstarter.com   \n",
       "267  Budget/Accounting Analyst II   94363.0         gbewsey7f@stanford.edu   \n",
       "481  Structural Analysis Engineer   51799.0             mhandsdd@adobe.com   \n",
       "498       Systems Administrator I  104632.0             dpettmandu@fc2.com   \n",
       "545               Sales Associate   98394.0  kmcellenf5@chicagotribune.com   \n",
       "852            Help Desk Operator  106064.0    acamiliono@seattletimes.com   \n",
       "952                  Geologist IV  111209.0          pmaidensqg@usnews.com   \n",
       "989                     Librarian   79603.0            uenrdigorh@gmpg.org   \n",
       "\n",
       "     Age  \n",
       "3     62  \n",
       "110   41  \n",
       "236   34  \n",
       "267   38  \n",
       "481   60  \n",
       "498   22  \n",
       "545   55  \n",
       "852   55  \n",
       "952   25  \n",
       "989   48  "
      ]
     },
     "execution_count": 144,
     "metadata": {},
     "output_type": "execute_result"
    }
   ],
   "source": [
    "data2_fill.loc[data2_fill['Last_Name'] == 'Unknown']"
   ]
  },
  {
   "cell_type": "markdown",
   "metadata": {},
   "source": [
    "### 2. Drop Remaining Records with Nulls from DataFrame"
   ]
  },
  {
   "cell_type": "code",
   "execution_count": 145,
   "metadata": {},
   "outputs": [
    {
     "data": {
      "text/html": [
       "<div>\n",
       "<style scoped>\n",
       "    .dataframe tbody tr th:only-of-type {\n",
       "        vertical-align: middle;\n",
       "    }\n",
       "\n",
       "    .dataframe tbody tr th {\n",
       "        vertical-align: top;\n",
       "    }\n",
       "\n",
       "    .dataframe thead th {\n",
       "        text-align: right;\n",
       "    }\n",
       "</style>\n",
       "<table border=\"1\" class=\"dataframe\">\n",
       "  <thead>\n",
       "    <tr style=\"text-align: right;\">\n",
       "      <th></th>\n",
       "      <th>Person_ID</th>\n",
       "      <th>Last_Name</th>\n",
       "      <th>First_Name</th>\n",
       "      <th>Gender</th>\n",
       "      <th>University</th>\n",
       "      <th>Occupation</th>\n",
       "      <th>Salary</th>\n",
       "      <th>Email</th>\n",
       "      <th>Age</th>\n",
       "    </tr>\n",
       "  </thead>\n",
       "  <tbody>\n",
       "    <tr>\n",
       "      <th>0</th>\n",
       "      <td>1.0</td>\n",
       "      <td>Lenormand</td>\n",
       "      <td>Keriann</td>\n",
       "      <td>Female</td>\n",
       "      <td>Aurora University</td>\n",
       "      <td>Nurse Practicioner</td>\n",
       "      <td>58135.0</td>\n",
       "      <td>klenormand0@businessinsider.com</td>\n",
       "      <td>27</td>\n",
       "    </tr>\n",
       "    <tr>\n",
       "      <th>1</th>\n",
       "      <td>2.0</td>\n",
       "      <td>Rupke</td>\n",
       "      <td>Huntley</td>\n",
       "      <td>Male</td>\n",
       "      <td>Osaka University of Economics</td>\n",
       "      <td>Project Manager</td>\n",
       "      <td>96053.0</td>\n",
       "      <td>hrupke1@reuters.com</td>\n",
       "      <td>22</td>\n",
       "    </tr>\n",
       "    <tr>\n",
       "      <th>2</th>\n",
       "      <td>3.0</td>\n",
       "      <td>Dalgarnowch</td>\n",
       "      <td>Gorden</td>\n",
       "      <td>Male</td>\n",
       "      <td>Ludong University</td>\n",
       "      <td>Environmental Tech</td>\n",
       "      <td>59196.0</td>\n",
       "      <td>gdalgarnowch2@microsoft.com</td>\n",
       "      <td>40</td>\n",
       "    </tr>\n",
       "    <tr>\n",
       "      <th>3</th>\n",
       "      <td>4.0</td>\n",
       "      <td>Unknown</td>\n",
       "      <td>Cullie</td>\n",
       "      <td>Male</td>\n",
       "      <td>Université des Sciences et de la Technologie d...</td>\n",
       "      <td>Legal Assistant</td>\n",
       "      <td>88493.0</td>\n",
       "      <td>cputten3@nymag.com</td>\n",
       "      <td>62</td>\n",
       "    </tr>\n",
       "    <tr>\n",
       "      <th>4</th>\n",
       "      <td>5.0</td>\n",
       "      <td>Strangman</td>\n",
       "      <td>Ariel</td>\n",
       "      <td>Female</td>\n",
       "      <td>Boise State University</td>\n",
       "      <td>Project Manager</td>\n",
       "      <td>89073.0</td>\n",
       "      <td>astrangman4@bravesites.com</td>\n",
       "      <td>47</td>\n",
       "    </tr>\n",
       "    <tr>\n",
       "      <th>...</th>\n",
       "      <td>...</td>\n",
       "      <td>...</td>\n",
       "      <td>...</td>\n",
       "      <td>...</td>\n",
       "      <td>...</td>\n",
       "      <td>...</td>\n",
       "      <td>...</td>\n",
       "      <td>...</td>\n",
       "      <td>...</td>\n",
       "    </tr>\n",
       "    <tr>\n",
       "      <th>995</th>\n",
       "      <td>996.0</td>\n",
       "      <td>Crumpton</td>\n",
       "      <td>Meta</td>\n",
       "      <td>Female</td>\n",
       "      <td>ECAM - Institut Supérieur Industriel</td>\n",
       "      <td>Registered Nurse</td>\n",
       "      <td>57060.0</td>\n",
       "      <td>mcrumptonrn@qq.com</td>\n",
       "      <td>52</td>\n",
       "    </tr>\n",
       "    <tr>\n",
       "      <th>996</th>\n",
       "      <td>997.0</td>\n",
       "      <td>Gilford</td>\n",
       "      <td>Gunar</td>\n",
       "      <td>Male</td>\n",
       "      <td>Smolny University</td>\n",
       "      <td>Marketing Manager</td>\n",
       "      <td>76109.0</td>\n",
       "      <td>ggilfordro@yandex.ru</td>\n",
       "      <td>32</td>\n",
       "    </tr>\n",
       "    <tr>\n",
       "      <th>997</th>\n",
       "      <td>998.0</td>\n",
       "      <td>Gurling</td>\n",
       "      <td>Lucretia</td>\n",
       "      <td>Female</td>\n",
       "      <td>Institut Teknologi Telkom</td>\n",
       "      <td>Software Engineer III</td>\n",
       "      <td>92115.0</td>\n",
       "      <td>lgurlingrp@de.vu</td>\n",
       "      <td>48</td>\n",
       "    </tr>\n",
       "    <tr>\n",
       "      <th>998</th>\n",
       "      <td>999.0</td>\n",
       "      <td>Yang</td>\n",
       "      <td>Andrew</td>\n",
       "      <td>Male</td>\n",
       "      <td>Rutgers University School of Business</td>\n",
       "      <td>Curriculum Engineer</td>\n",
       "      <td>60000.0</td>\n",
       "      <td>ayang@codedrills.com</td>\n",
       "      <td>53</td>\n",
       "    </tr>\n",
       "    <tr>\n",
       "      <th>999</th>\n",
       "      <td>999.0</td>\n",
       "      <td>Yang</td>\n",
       "      <td>Andrew</td>\n",
       "      <td>Male</td>\n",
       "      <td>Rutgers University School of Business</td>\n",
       "      <td>Curriculum Engineer</td>\n",
       "      <td>60000.0</td>\n",
       "      <td>ayang@codedrills.com</td>\n",
       "      <td>53</td>\n",
       "    </tr>\n",
       "  </tbody>\n",
       "</table>\n",
       "<p>1000 rows × 9 columns</p>\n",
       "</div>"
      ],
      "text/plain": [
       "    Person_ID    Last_Name First_Name  Gender  \\\n",
       "0         1.0    Lenormand    Keriann  Female   \n",
       "1         2.0        Rupke    Huntley    Male   \n",
       "2         3.0  Dalgarnowch     Gorden    Male   \n",
       "3         4.0      Unknown     Cullie    Male   \n",
       "4         5.0    Strangman      Ariel  Female   \n",
       "..        ...          ...        ...     ...   \n",
       "995     996.0     Crumpton       Meta  Female   \n",
       "996     997.0      Gilford      Gunar    Male   \n",
       "997     998.0      Gurling   Lucretia  Female   \n",
       "998     999.0         Yang     Andrew    Male   \n",
       "999     999.0         Yang     Andrew    Male   \n",
       "\n",
       "                                            University             Occupation  \\\n",
       "0                                    Aurora University     Nurse Practicioner   \n",
       "1                        Osaka University of Economics        Project Manager   \n",
       "2                                    Ludong University     Environmental Tech   \n",
       "3    Université des Sciences et de la Technologie d...        Legal Assistant   \n",
       "4                               Boise State University        Project Manager   \n",
       "..                                                 ...                    ...   \n",
       "995               ECAM - Institut Supérieur Industriel       Registered Nurse   \n",
       "996                                  Smolny University      Marketing Manager   \n",
       "997                          Institut Teknologi Telkom  Software Engineer III   \n",
       "998              Rutgers University School of Business    Curriculum Engineer   \n",
       "999              Rutgers University School of Business    Curriculum Engineer   \n",
       "\n",
       "      Salary                            Email  Age  \n",
       "0    58135.0  klenormand0@businessinsider.com   27  \n",
       "1    96053.0              hrupke1@reuters.com   22  \n",
       "2    59196.0      gdalgarnowch2@microsoft.com   40  \n",
       "3    88493.0               cputten3@nymag.com   62  \n",
       "4    89073.0       astrangman4@bravesites.com   47  \n",
       "..       ...                              ...  ...  \n",
       "995  57060.0               mcrumptonrn@qq.com   52  \n",
       "996  76109.0             ggilfordro@yandex.ru   32  \n",
       "997  92115.0                 lgurlingrp@de.vu   48  \n",
       "998  60000.0             ayang@codedrills.com   53  \n",
       "999  60000.0             ayang@codedrills.com   53  \n",
       "\n",
       "[1000 rows x 9 columns]"
      ]
     },
     "execution_count": 145,
     "metadata": {},
     "output_type": "execute_result"
    }
   ],
   "source": [
    "# Use the `dropna` function to drop whole records that have at least one null value\n",
    "data2_fill.dropna()"
   ]
  },
  {
   "cell_type": "markdown",
   "metadata": {},
   "source": [
    "### 3. Check Null Counts for Each Column (Again)"
   ]
  },
  {
   "cell_type": "code",
   "execution_count": 146,
   "metadata": {},
   "outputs": [
    {
     "data": {
      "text/plain": [
       "Person_ID     0\n",
       "Last_Name     0\n",
       "First_Name    0\n",
       "Gender        0\n",
       "University    0\n",
       "Occupation    0\n",
       "Salary        0\n",
       "Email         0\n",
       "Age           0\n",
       "dtype: int64"
      ]
     },
     "execution_count": 146,
     "metadata": {},
     "output_type": "execute_result"
    }
   ],
   "source": [
    "# Use the `isnull` function in conjunction with the `sum` function to count the number of null values for each column\n",
    "data2_fill.isnull().sum()"
   ]
  },
  {
   "cell_type": "markdown",
   "metadata": {},
   "source": [
    "### 4. Cleanse data by Dropping Duplicates"
   ]
  },
  {
   "cell_type": "code",
   "execution_count": 147,
   "metadata": {},
   "outputs": [
    {
     "data": {
      "text/plain": [
       "(975, 9)"
      ]
     },
     "execution_count": 147,
     "metadata": {},
     "output_type": "execute_result"
    }
   ],
   "source": [
    "# Use the `drop_duplicates` function with the `subset` parameter to drop duplicates based on a selection of columns\n",
    "data2_fill_drop = data2_fill.drop_duplicates(subset='Last_Name')\n",
    "data2_fill_drop.shape"
   ]
  },
  {
   "cell_type": "markdown",
   "metadata": {},
   "source": [
    "### 5. Convert Columns to Different DataTypes"
   ]
  },
  {
   "cell_type": "code",
   "execution_count": 148,
   "metadata": {},
   "outputs": [
    {
     "data": {
      "text/plain": [
       "Person_ID       int64\n",
       "Last_Name      object\n",
       "First_Name     object\n",
       "Gender         object\n",
       "University     object\n",
       "Occupation     object\n",
       "Salary        float64\n",
       "Email          object\n",
       "Age             int64\n",
       "dtype: object"
      ]
     },
     "execution_count": 148,
     "metadata": {},
     "output_type": "execute_result"
    }
   ],
   "source": [
    "# Use the `as_type` function to convert `Person_ID` from `float` to `int`\n",
    "data1_df.dtypes"
   ]
  },
  {
   "cell_type": "code",
   "execution_count": 149,
   "metadata": {},
   "outputs": [],
   "source": [
    "df_new = data1_df['Person_ID'].astype('float')"
   ]
  },
  {
   "cell_type": "code",
   "execution_count": 152,
   "metadata": {},
   "outputs": [
    {
     "data": {
      "text/plain": [
       "Person_ID       int64\n",
       "Last_Name      object\n",
       "First_Name     object\n",
       "Gender         object\n",
       "University     object\n",
       "Occupation     object\n",
       "Salary        float64\n",
       "Email          object\n",
       "Age             int64\n",
       "dtype: object"
      ]
     },
     "execution_count": 152,
     "metadata": {},
     "output_type": "execute_result"
    }
   ],
   "source": [
    "data1_df.dtypes"
   ]
  },
  {
   "cell_type": "code",
   "execution_count": null,
   "metadata": {},
   "outputs": [],
   "source": []
  },
  {
   "cell_type": "markdown",
   "metadata": {},
   "source": [
    "## 8. Save Cleansed Data to New CSV"
   ]
  },
  {
   "cell_type": "code",
   "execution_count": 154,
   "metadata": {},
   "outputs": [],
   "source": [
    "# Save modified DataFrame to the Resources folder. Use the `index` parameter set to `False` to exclude saving the index.\n",
    "data1_df.to_csv('Task3.csv')"
   ]
  },
  {
   "cell_type": "code",
   "execution_count": null,
   "metadata": {},
   "outputs": [],
   "source": []
  }
 ],
 "metadata": {
  "kernelspec": {
   "display_name": "Python 3",
   "language": "python",
   "name": "python3"
  },
  "language_info": {
   "codemirror_mode": {
    "name": "ipython",
    "version": 3
   },
   "file_extension": ".py",
   "mimetype": "text/x-python",
   "name": "python",
   "nbconvert_exporter": "python",
   "pygments_lexer": "ipython3",
   "version": "3.7.1"
  }
 },
 "nbformat": 4,
 "nbformat_minor": 4
}
