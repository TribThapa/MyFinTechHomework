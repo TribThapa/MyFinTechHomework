{
 "cells": [
  {
   "cell_type": "markdown",
   "metadata": {},
   "source": [
    "## Exercise 1: Decisive Distributions\n",
    "\n",
    "### Import Dependencies"
   ]
  },
  {
   "cell_type": "code",
   "execution_count": 7,
   "metadata": {
    "tags": []
   },
   "outputs": [],
   "source": [
    "# Import libraries and dependencies\n",
    "import os\n",
    "import pandas as pd\n",
    "import alpaca_trade_api as tradeapi\n",
    "\n",
    "# Load .env enviroment variables\n",
    "from dotenv import load_dotenv\n",
    "load_dotenv()\n",
    "\n",
    "%matplotlib inline"
   ]
  },
  {
   "cell_type": "code",
   "execution_count": 8,
   "metadata": {
    "tags": []
   },
   "outputs": [],
   "source": [
    "# Setup Alpaca API environment\n",
    "alpaca_api_key = os.getenv(\"KEY\")\n",
    "alpaca_secret_key = os.getenv(\"SECRET\")\n",
    "\n",
    "api = tradeapi.REST(\n",
    "    alpaca_api_key,\n",
    "    alpaca_secret_key,\n",
    "    api_version=\"v2\"\n",
    ")"
   ]
  },
  {
   "cell_type": "markdown",
   "metadata": {},
   "source": [
    "### Read in stock data using Alpaca API"
   ]
  },
  {
   "cell_type": "code",
   "execution_count": 10,
   "metadata": {},
   "outputs": [
    {
     "data": {
      "text/html": [
       "<div>\n",
       "<style scoped>\n",
       "    .dataframe tbody tr th:only-of-type {\n",
       "        vertical-align: middle;\n",
       "    }\n",
       "\n",
       "    .dataframe tbody tr th {\n",
       "        vertical-align: top;\n",
       "    }\n",
       "\n",
       "    .dataframe thead tr th {\n",
       "        text-align: left;\n",
       "    }\n",
       "\n",
       "    .dataframe thead tr:last-of-type th {\n",
       "        text-align: right;\n",
       "    }\n",
       "</style>\n",
       "<table border=\"1\" class=\"dataframe\">\n",
       "  <thead>\n",
       "    <tr>\n",
       "      <th></th>\n",
       "      <th colspan=\"5\" halign=\"left\">AAPL</th>\n",
       "      <th colspan=\"5\" halign=\"left\">AMZN</th>\n",
       "      <th colspan=\"5\" halign=\"left\">FB</th>\n",
       "      <th colspan=\"5\" halign=\"left\">GOOG</th>\n",
       "    </tr>\n",
       "    <tr>\n",
       "      <th></th>\n",
       "      <th>open</th>\n",
       "      <th>high</th>\n",
       "      <th>low</th>\n",
       "      <th>close</th>\n",
       "      <th>volume</th>\n",
       "      <th>open</th>\n",
       "      <th>high</th>\n",
       "      <th>low</th>\n",
       "      <th>close</th>\n",
       "      <th>volume</th>\n",
       "      <th>open</th>\n",
       "      <th>high</th>\n",
       "      <th>low</th>\n",
       "      <th>close</th>\n",
       "      <th>volume</th>\n",
       "      <th>open</th>\n",
       "      <th>high</th>\n",
       "      <th>low</th>\n",
       "      <th>close</th>\n",
       "      <th>volume</th>\n",
       "    </tr>\n",
       "    <tr>\n",
       "      <th>time</th>\n",
       "      <th></th>\n",
       "      <th></th>\n",
       "      <th></th>\n",
       "      <th></th>\n",
       "      <th></th>\n",
       "      <th></th>\n",
       "      <th></th>\n",
       "      <th></th>\n",
       "      <th></th>\n",
       "      <th></th>\n",
       "      <th></th>\n",
       "      <th></th>\n",
       "      <th></th>\n",
       "      <th></th>\n",
       "      <th></th>\n",
       "      <th></th>\n",
       "      <th></th>\n",
       "      <th></th>\n",
       "      <th></th>\n",
       "      <th></th>\n",
       "    </tr>\n",
       "  </thead>\n",
       "  <tbody>\n",
       "    <tr>\n",
       "      <th>2020-05-29 00:00:00-04:00</th>\n",
       "      <td>319.250</td>\n",
       "      <td>321.15</td>\n",
       "      <td>316.47</td>\n",
       "      <td>318.76</td>\n",
       "      <td>56248101</td>\n",
       "      <td>2415.94</td>\n",
       "      <td>2439.00</td>\n",
       "      <td>2398.1973</td>\n",
       "      <td>2436.53</td>\n",
       "      <td>5483326</td>\n",
       "      <td>225.20</td>\n",
       "      <td>227.49</td>\n",
       "      <td>222.88</td>\n",
       "      <td>224.21</td>\n",
       "      <td>18706304</td>\n",
       "      <td>1416.94</td>\n",
       "      <td>1432.5700</td>\n",
       "      <td>1413.3500</td>\n",
       "      <td>1427.92</td>\n",
       "      <td>1372379</td>\n",
       "    </tr>\n",
       "    <tr>\n",
       "      <th>2020-06-01 00:00:00-04:00</th>\n",
       "      <td>317.750</td>\n",
       "      <td>322.35</td>\n",
       "      <td>317.21</td>\n",
       "      <td>321.76</td>\n",
       "      <td>37704502</td>\n",
       "      <td>2448.00</td>\n",
       "      <td>2476.93</td>\n",
       "      <td>2444.1700</td>\n",
       "      <td>2470.12</td>\n",
       "      <td>5441594</td>\n",
       "      <td>224.59</td>\n",
       "      <td>232.44</td>\n",
       "      <td>223.50</td>\n",
       "      <td>231.94</td>\n",
       "      <td>33886754</td>\n",
       "      <td>1418.39</td>\n",
       "      <td>1437.9600</td>\n",
       "      <td>1418.0000</td>\n",
       "      <td>1431.36</td>\n",
       "      <td>1033558</td>\n",
       "    </tr>\n",
       "    <tr>\n",
       "      <th>2020-06-02 00:00:00-04:00</th>\n",
       "      <td>320.745</td>\n",
       "      <td>323.44</td>\n",
       "      <td>318.93</td>\n",
       "      <td>323.42</td>\n",
       "      <td>37968664</td>\n",
       "      <td>2467.00</td>\n",
       "      <td>2473.53</td>\n",
       "      <td>2445.3100</td>\n",
       "      <td>2473.30</td>\n",
       "      <td>4430214</td>\n",
       "      <td>230.94</td>\n",
       "      <td>233.00</td>\n",
       "      <td>226.56</td>\n",
       "      <td>232.83</td>\n",
       "      <td>36197240</td>\n",
       "      <td>1430.55</td>\n",
       "      <td>1439.4700</td>\n",
       "      <td>1418.8300</td>\n",
       "      <td>1439.47</td>\n",
       "      <td>2130734</td>\n",
       "    </tr>\n",
       "    <tr>\n",
       "      <th>2020-06-03 00:00:00-04:00</th>\n",
       "      <td>324.660</td>\n",
       "      <td>326.10</td>\n",
       "      <td>322.30</td>\n",
       "      <td>325.09</td>\n",
       "      <td>45506089</td>\n",
       "      <td>2468.01</td>\n",
       "      <td>2488.00</td>\n",
       "      <td>2461.1700</td>\n",
       "      <td>2478.40</td>\n",
       "      <td>4700140</td>\n",
       "      <td>232.11</td>\n",
       "      <td>232.65</td>\n",
       "      <td>228.53</td>\n",
       "      <td>230.06</td>\n",
       "      <td>28224941</td>\n",
       "      <td>1438.30</td>\n",
       "      <td>1446.5522</td>\n",
       "      <td>1429.7772</td>\n",
       "      <td>1435.32</td>\n",
       "      <td>1062233</td>\n",
       "    </tr>\n",
       "    <tr>\n",
       "      <th>2020-06-04 00:00:00-04:00</th>\n",
       "      <td>324.390</td>\n",
       "      <td>325.62</td>\n",
       "      <td>320.78</td>\n",
       "      <td>322.25</td>\n",
       "      <td>38930216</td>\n",
       "      <td>2477.43</td>\n",
       "      <td>2507.54</td>\n",
       "      <td>2450.0100</td>\n",
       "      <td>2460.60</td>\n",
       "      <td>5957350</td>\n",
       "      <td>229.56</td>\n",
       "      <td>231.63</td>\n",
       "      <td>224.61</td>\n",
       "      <td>226.29</td>\n",
       "      <td>15405418</td>\n",
       "      <td>1430.40</td>\n",
       "      <td>1438.9600</td>\n",
       "      <td>1404.7300</td>\n",
       "      <td>1412.73</td>\n",
       "      <td>2675444</td>\n",
       "    </tr>\n",
       "  </tbody>\n",
       "</table>\n",
       "</div>"
      ],
      "text/plain": [
       "                              AAPL                                       AMZN  \\\n",
       "                              open    high     low   close    volume     open   \n",
       "time                                                                            \n",
       "2020-05-29 00:00:00-04:00  319.250  321.15  316.47  318.76  56248101  2415.94   \n",
       "2020-06-01 00:00:00-04:00  317.750  322.35  317.21  321.76  37704502  2448.00   \n",
       "2020-06-02 00:00:00-04:00  320.745  323.44  318.93  323.42  37968664  2467.00   \n",
       "2020-06-03 00:00:00-04:00  324.660  326.10  322.30  325.09  45506089  2468.01   \n",
       "2020-06-04 00:00:00-04:00  324.390  325.62  320.78  322.25  38930216  2477.43   \n",
       "\n",
       "                                                                     FB  \\\n",
       "                              high        low    close   volume    open   \n",
       "time                                                                      \n",
       "2020-05-29 00:00:00-04:00  2439.00  2398.1973  2436.53  5483326  225.20   \n",
       "2020-06-01 00:00:00-04:00  2476.93  2444.1700  2470.12  5441594  224.59   \n",
       "2020-06-02 00:00:00-04:00  2473.53  2445.3100  2473.30  4430214  230.94   \n",
       "2020-06-03 00:00:00-04:00  2488.00  2461.1700  2478.40  4700140  232.11   \n",
       "2020-06-04 00:00:00-04:00  2507.54  2450.0100  2460.60  5957350  229.56   \n",
       "\n",
       "                                                                GOOG  \\\n",
       "                             high     low   close    volume     open   \n",
       "time                                                                   \n",
       "2020-05-29 00:00:00-04:00  227.49  222.88  224.21  18706304  1416.94   \n",
       "2020-06-01 00:00:00-04:00  232.44  223.50  231.94  33886754  1418.39   \n",
       "2020-06-02 00:00:00-04:00  233.00  226.56  232.83  36197240  1430.55   \n",
       "2020-06-03 00:00:00-04:00  232.65  228.53  230.06  28224941  1438.30   \n",
       "2020-06-04 00:00:00-04:00  231.63  224.61  226.29  15405418  1430.40   \n",
       "\n",
       "                                                                   \n",
       "                                high        low    close   volume  \n",
       "time                                                               \n",
       "2020-05-29 00:00:00-04:00  1432.5700  1413.3500  1427.92  1372379  \n",
       "2020-06-01 00:00:00-04:00  1437.9600  1418.0000  1431.36  1033558  \n",
       "2020-06-02 00:00:00-04:00  1439.4700  1418.8300  1439.47  2130734  \n",
       "2020-06-03 00:00:00-04:00  1446.5522  1429.7772  1435.32  1062233  \n",
       "2020-06-04 00:00:00-04:00  1438.9600  1404.7300  1412.73  2675444  "
      ]
     },
     "execution_count": 10,
     "metadata": {},
     "output_type": "execute_result"
    }
   ],
   "source": [
    "tickers = ['AAPL', 'GOOG', 'FB', 'AMZN']\n",
    "\n",
    "start_date = pd.Timestamp(\"2018-01-01\", tz=\"America/New_York\").isoformat()\n",
    "end_date = pd.Timestamp(\"2020-06-04\", tz=\"America/New_York\").isoformat()\n",
    "\n",
    "stocks_df = pd.DataFrame()\n",
    "close_price = []\n",
    "\n",
    "stock_data = api.get_barset(tickers, \"day\", start=start_date, end=end_date, limit=5).df\n",
    "stock_data.head()"
   ]
  },
  {
   "cell_type": "markdown",
   "metadata": {},
   "source": [
    "### Create a new DataFrame and store the closing prices of each stock."
   ]
  },
  {
   "cell_type": "code",
   "execution_count": 12,
   "metadata": {},
   "outputs": [
    {
     "data": {
      "text/html": [
       "<div>\n",
       "<style scoped>\n",
       "    .dataframe tbody tr th:only-of-type {\n",
       "        vertical-align: middle;\n",
       "    }\n",
       "\n",
       "    .dataframe tbody tr th {\n",
       "        vertical-align: top;\n",
       "    }\n",
       "\n",
       "    .dataframe thead th {\n",
       "        text-align: right;\n",
       "    }\n",
       "</style>\n",
       "<table border=\"1\" class=\"dataframe\">\n",
       "  <thead>\n",
       "    <tr style=\"text-align: right;\">\n",
       "      <th></th>\n",
       "      <th>AAPL</th>\n",
       "      <th>AMZN</th>\n",
       "      <th>FB</th>\n",
       "      <th>GOOG</th>\n",
       "    </tr>\n",
       "  </thead>\n",
       "  <tbody>\n",
       "    <tr>\n",
       "      <th>2020-05-29</th>\n",
       "      <td>318.76</td>\n",
       "      <td>2436.53</td>\n",
       "      <td>224.21</td>\n",
       "      <td>1427.92</td>\n",
       "    </tr>\n",
       "    <tr>\n",
       "      <th>2020-06-01</th>\n",
       "      <td>321.76</td>\n",
       "      <td>2470.12</td>\n",
       "      <td>231.94</td>\n",
       "      <td>1431.36</td>\n",
       "    </tr>\n",
       "    <tr>\n",
       "      <th>2020-06-02</th>\n",
       "      <td>323.42</td>\n",
       "      <td>2473.30</td>\n",
       "      <td>232.83</td>\n",
       "      <td>1439.47</td>\n",
       "    </tr>\n",
       "    <tr>\n",
       "      <th>2020-06-03</th>\n",
       "      <td>325.09</td>\n",
       "      <td>2478.40</td>\n",
       "      <td>230.06</td>\n",
       "      <td>1435.32</td>\n",
       "    </tr>\n",
       "    <tr>\n",
       "      <th>2020-06-04</th>\n",
       "      <td>322.25</td>\n",
       "      <td>2460.60</td>\n",
       "      <td>226.29</td>\n",
       "      <td>1412.73</td>\n",
       "    </tr>\n",
       "  </tbody>\n",
       "</table>\n",
       "</div>"
      ],
      "text/plain": [
       "              AAPL     AMZN      FB     GOOG\n",
       "2020-05-29  318.76  2436.53  224.21  1427.92\n",
       "2020-06-01  321.76  2470.12  231.94  1431.36\n",
       "2020-06-02  323.42  2473.30  232.83  1439.47\n",
       "2020-06-03  325.09  2478.40  230.06  1435.32\n",
       "2020-06-04  322.25  2460.60  226.29  1412.73"
      ]
     },
     "execution_count": 12,
     "metadata": {},
     "output_type": "execute_result"
    }
   ],
   "source": [
    "# Create and empty DataFrame for closing prices\n",
    "close_price_df = pd.DataFrame()\n",
    "\n",
    "# Fetch the closing prices for all the tickers\n",
    "close_price_df['AAPL'] = stock_data['AAPL']['close']\n",
    "close_price_df['AMZN'] = stock_data['AMZN']['close']\n",
    "close_price_df['FB'] = stock_data['FB']['close']\n",
    "close_price_df['GOOG'] = stock_data['GOOG']['close']\n",
    "\n",
    "# Drop the time component of the date\n",
    "close_price_df.index = close_price_df.index.date\n",
    "\n",
    "# Display sample data\n",
    "close_price_df.head()"
   ]
  },
  {
   "cell_type": "markdown",
   "metadata": {},
   "source": [
    "### Calculate the daily returns for each stock using the `pct_change()` function"
   ]
  },
  {
   "cell_type": "code",
   "execution_count": 16,
   "metadata": {},
   "outputs": [
    {
     "data": {
      "text/html": [
       "<div>\n",
       "<style scoped>\n",
       "    .dataframe tbody tr th:only-of-type {\n",
       "        vertical-align: middle;\n",
       "    }\n",
       "\n",
       "    .dataframe tbody tr th {\n",
       "        vertical-align: top;\n",
       "    }\n",
       "\n",
       "    .dataframe thead th {\n",
       "        text-align: right;\n",
       "    }\n",
       "</style>\n",
       "<table border=\"1\" class=\"dataframe\">\n",
       "  <thead>\n",
       "    <tr style=\"text-align: right;\">\n",
       "      <th></th>\n",
       "      <th>AAPL</th>\n",
       "      <th>AMZN</th>\n",
       "      <th>FB</th>\n",
       "      <th>GOOG</th>\n",
       "    </tr>\n",
       "  </thead>\n",
       "  <tbody>\n",
       "    <tr>\n",
       "      <th>2020-06-01</th>\n",
       "      <td>0.009411</td>\n",
       "      <td>0.013786</td>\n",
       "      <td>0.034477</td>\n",
       "      <td>0.002409</td>\n",
       "    </tr>\n",
       "    <tr>\n",
       "      <th>2020-06-02</th>\n",
       "      <td>0.005159</td>\n",
       "      <td>0.001287</td>\n",
       "      <td>0.003837</td>\n",
       "      <td>0.005666</td>\n",
       "    </tr>\n",
       "    <tr>\n",
       "      <th>2020-06-03</th>\n",
       "      <td>0.005164</td>\n",
       "      <td>0.002062</td>\n",
       "      <td>-0.011897</td>\n",
       "      <td>-0.002883</td>\n",
       "    </tr>\n",
       "    <tr>\n",
       "      <th>2020-06-04</th>\n",
       "      <td>-0.008736</td>\n",
       "      <td>-0.007182</td>\n",
       "      <td>-0.016387</td>\n",
       "      <td>-0.015739</td>\n",
       "    </tr>\n",
       "  </tbody>\n",
       "</table>\n",
       "</div>"
      ],
      "text/plain": [
       "                AAPL      AMZN        FB      GOOG\n",
       "2020-06-01  0.009411  0.013786  0.034477  0.002409\n",
       "2020-06-02  0.005159  0.001287  0.003837  0.005666\n",
       "2020-06-03  0.005164  0.002062 -0.011897 -0.002883\n",
       "2020-06-04 -0.008736 -0.007182 -0.016387 -0.015739"
      ]
     },
     "execution_count": 16,
     "metadata": {},
     "output_type": "execute_result"
    }
   ],
   "source": [
    "# Compute daily returns\n",
    "daily_returns = close_price_df.pct_change().dropna()\n",
    "\n",
    "# Display sample data\n",
    "daily_returns"
   ]
  },
  {
   "cell_type": "markdown",
   "metadata": {},
   "source": [
    "### Plot Distributions"
   ]
  },
  {
   "cell_type": "code",
   "execution_count": 17,
   "metadata": {},
   "outputs": [
    {
     "data": {
      "image/png": "[encoded data removed]",
      "text/plain": [
       "<Figure size 432x288 with 1 Axes>"
      ]
     },
     "metadata": {
      "needs_background": "light"
     },
     "output_type": "display_data"
    }
   ],
   "source": [
    "# Visualize the distribution of daily returns across all stocks using a histogram plot\n",
    "# Hint: To make the plot easier to read, set the alpha arguement to 0.5\n",
    "axes = daily_returns.plot.hist(bins=12, alpha=0.5)"
   ]
  },
  {
   "cell_type": "code",
   "execution_count": 19,
   "metadata": {},
   "outputs": [
    {
     "data": {
      "text/plain": [
       "<matplotlib.axes._subplots.AxesSubplot at 0x1fe13034588>"
      ]
     },
     "execution_count": 19,
     "metadata": {},
     "output_type": "execute_result"
    },
    {
     "data": {
      "image/png": "[encoded data removed]",
      "text/plain": [
       "<Figure size 432x288 with 1 Axes>"
      ]
     },
     "metadata": {
      "needs_background": "light"
     },
     "output_type": "display_data"
    }
   ],
   "source": [
    "# Visualize the distribution of daily returns across all stocks using a density plot\n",
    "daily_returns.plot.kde(bw_method=0.3)"
   ]
  },
  {
   "cell_type": "code",
   "execution_count": null,
   "metadata": {},
   "outputs": [],
   "source": []
  }
 ],
 "metadata": {
  "kernel_info": {
   "name": "python3"
  },
  "kernelspec": {
   "display_name": "Python 3",
   "language": "python",
   "name": "python3"
  },
  "language_info": {
   "codemirror_mode": {
    "name": "ipython",
    "version": 3
   },
   "file_extension": ".py",
   "mimetype": "text/x-python",
   "name": "python",
   "nbconvert_exporter": "python",
   "pygments_lexer": "ipython3",
   "version": "3.7.1"
  },
  "nteract": {
   "version": "0.12.3"
  }
 },
 "nbformat": 4,
 "nbformat_minor": 4
}
