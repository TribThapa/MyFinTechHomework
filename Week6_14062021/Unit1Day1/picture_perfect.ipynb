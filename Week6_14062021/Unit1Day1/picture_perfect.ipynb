{
 "cells": [
  {
   "cell_type": "markdown",
   "metadata": {},
   "source": [
    "# Picture Perfect"
   ]
  },
  {
   "cell_type": "markdown",
   "metadata": {},
   "source": [
    "Perfect your visualizations by adding in some finishing touches. Use the hvPlot options and customization attributes to change the look and feel of each visualization, paying particular attention to the legibility of axis labels and the availability of titles and labels."
   ]
  },
  {
   "cell_type": "code",
   "execution_count": 18,
   "metadata": {},
   "outputs": [],
   "source": [
    "import pandas as pd\n",
    "import hvplot.pandas\n",
    "from pathlib import Path"
   ]
  },
  {
   "cell_type": "markdown",
   "metadata": {},
   "source": [
    "### Prep the data"
   ]
  },
  {
   "cell_type": "code",
   "execution_count": 2,
   "metadata": {},
   "outputs": [
    {
     "data": {
      "text/html": [
       "<div>\n",
       "<style scoped>\n",
       "    .dataframe tbody tr th:only-of-type {\n",
       "        vertical-align: middle;\n",
       "    }\n",
       "\n",
       "    .dataframe tbody tr th {\n",
       "        vertical-align: top;\n",
       "    }\n",
       "\n",
       "    .dataframe thead th {\n",
       "        text-align: right;\n",
       "    }\n",
       "</style>\n",
       "<table border=\"1\" class=\"dataframe\">\n",
       "  <thead>\n",
       "    <tr style=\"text-align: right;\">\n",
       "      <th></th>\n",
       "      <th>Total Active Loans</th>\n",
       "      <th>Total Average Loan Amount</th>\n",
       "      <th>2015 - 2016</th>\n",
       "      <th>2010 - 2014</th>\n",
       "      <th>Self Help Loan</th>\n",
       "      <th>Leveraged Loan</th>\n",
       "    </tr>\n",
       "    <tr>\n",
       "      <th>State Code</th>\n",
       "      <th></th>\n",
       "      <th></th>\n",
       "      <th></th>\n",
       "      <th></th>\n",
       "      <th></th>\n",
       "      <th></th>\n",
       "    </tr>\n",
       "  </thead>\n",
       "  <tbody>\n",
       "    <tr>\n",
       "      <th>AK</th>\n",
       "      <td>897</td>\n",
       "      <td>148811.39</td>\n",
       "      <td>189583.49</td>\n",
       "      <td>172371.39</td>\n",
       "      <td>96</td>\n",
       "      <td>450</td>\n",
       "    </tr>\n",
       "    <tr>\n",
       "      <th>AL</th>\n",
       "      <td>7455</td>\n",
       "      <td>435054.53</td>\n",
       "      <td>686066.79</td>\n",
       "      <td>648663.44</td>\n",
       "      <td>18</td>\n",
       "      <td>605</td>\n",
       "    </tr>\n",
       "    <tr>\n",
       "      <th>AR</th>\n",
       "      <td>6186</td>\n",
       "      <td>263212.27</td>\n",
       "      <td>355445.70</td>\n",
       "      <td>351562.42</td>\n",
       "      <td>861</td>\n",
       "      <td>567</td>\n",
       "    </tr>\n",
       "    <tr>\n",
       "      <th>AZ</th>\n",
       "      <td>3982</td>\n",
       "      <td>597591.94</td>\n",
       "      <td>507532.91</td>\n",
       "      <td>599688.64</td>\n",
       "      <td>1718</td>\n",
       "      <td>1057</td>\n",
       "    </tr>\n",
       "    <tr>\n",
       "      <th>CA</th>\n",
       "      <td>8875</td>\n",
       "      <td>2805653.85</td>\n",
       "      <td>3008866.40</td>\n",
       "      <td>2881741.23</td>\n",
       "      <td>4134</td>\n",
       "      <td>2231</td>\n",
       "    </tr>\n",
       "  </tbody>\n",
       "</table>\n",
       "</div>"
      ],
      "text/plain": [
       "            Total Active Loans  Total Average Loan Amount  2015 - 2016  \\\n",
       "State Code                                                               \n",
       "AK                         897                  148811.39    189583.49   \n",
       "AL                        7455                  435054.53    686066.79   \n",
       "AR                        6186                  263212.27    355445.70   \n",
       "AZ                        3982                  597591.94    507532.91   \n",
       "CA                        8875                 2805653.85   3008866.40   \n",
       "\n",
       "            2010 - 2014  Self Help Loan  Leveraged Loan  \n",
       "State Code                                               \n",
       "AK            172371.39              96             450  \n",
       "AL            648663.44              18             605  \n",
       "AR            351562.42             861             567  \n",
       "AZ            599688.64            1718            1057  \n",
       "CA           2881741.23            4134            2231  "
      ]
     },
     "execution_count": 2,
     "metadata": {},
     "output_type": "execute_result"
    }
   ],
   "source": [
    "# Read in loan data\n",
    "loan_data = pd.read_csv(r\"C:\\Users\\TribThapa\\Desktop\\Thapa\\ResearchFellow\\Courses\\FinTech_Bootcamp_MonashUni2021\\monu-mel-virt-fin-pt-05-2021-u-c\\Activities\\Week 6\\1\\08-Stu_Picture_Perfect\\Resources\\state_loan_data.csv\")\n",
    "\n",
    "# Group data by state for state-level analysis\n",
    "loan_data = loan_data.groupby('State Code').sum()\n",
    "loan_data.head()"
   ]
  },
  {
   "cell_type": "markdown",
   "metadata": {},
   "source": [
    "### Rotate x axis labels and format y axis values using yformatter"
   ]
  },
  {
   "cell_type": "code",
   "execution_count": 4,
   "metadata": {},
   "outputs": [
    {
     "data": {},
     "metadata": {},
     "output_type": "display_data"
    },
    {
     "data": {
      "application/vnd.holoviews_exec.v0+json": "",
      "text/html": [
       "<div id='1123'>\n",
       "\n",
       "\n",
       "\n",
       "\n",
       "\n",
       "  <div class=\"bk-root\" id=\"95eb3d9d-3311-4b8f-adb7-ecaeaf553641\" data-root-id=\"1123\"></div>\n",
       "</div>\n",
       "<script type=\"application/javascript\">(function(root) {\n",
       "  function embed_document(root) {\n",
       "    var docs_json = {\"5ad24b05-43c5-47c5-a4bc-bc24c81504bd\":{\"defs\":[],\"roots\":{\"references\":[{\"attributes\":{\"callback\":null,\"renderers\":[{\"id\":\"1163\"}],\"tags\":[\"hv_created\"],\"tooltips\":[[\"State Code\",\"@{State_Code}\"],[\"Total Average Loan Amount\",\"@{Total_Average_Loan_Amount}\"]]},\"id\":\"1127\",\"type\":\"HoverTool\"},{\"attributes\":{},\"id\":\"1141\",\"type\":\"BasicTicker\"},{\"attributes\":{\"axis_label\":\"\",\"formatter\":{\"id\":\"1166\"},\"major_label_policy\":{\"id\":\"1172\"},\"ticker\":{\"id\":\"1141\"}},\"id\":\"1140\",\"type\":\"LinearAxis\"},{\"attributes\":{\"margin\":[5,5,5,5],\"name\":\"HSpacer01822\",\"sizing_mode\":\"stretch_width\"},\"id\":\"1193\",\"type\":\"Spacer\"},{\"attributes\":{\"axis_label\":\"State Code\",\"formatter\":{\"id\":\"1169\"},\"major_label_orientation\":1.5707963267948966,\"major_label_policy\":{\"id\":\"1168\"},\"ticker\":{\"id\":\"1138\"}},\"id\":\"1137\",\"type\":\"CategoricalAxis\"},{\"attributes\":{\"active_multi\":null,\"tools\":[{\"id\":\"1127\"},{\"id\":\"1144\"},{\"id\":\"1145\"},{\"id\":\"1146\"},{\"id\":\"1147\"},{\"id\":\"1148\"}]},\"id\":\"1150\",\"type\":\"Toolbar\"},{\"attributes\":{\"bottom_units\":\"screen\",\"fill_alpha\":0.5,\"fill_color\":\"lightgrey\",\"left_units\":\"screen\",\"level\":\"overlay\",\"line_alpha\":1.0,\"line_color\":\"black\",\"line_dash\":[4,4],\"line_width\":2,\"right_units\":\"screen\",\"syncable\":false,\"top_units\":\"screen\"},\"id\":\"1149\",\"type\":\"BoxAnnotation\"},{\"attributes\":{\"text\":\"2019 Total Average Amount\",\"text_color\":\"black\",\"text_font_size\":\"12pt\"},\"id\":\"1129\",\"type\":\"Title\"},{\"attributes\":{},\"id\":\"1158\",\"type\":\"Selection\"},{\"attributes\":{\"fill_color\":{\"value\":\"#30a2da\"},\"top\":{\"field\":\"Total_Average_Loan_Amount\"},\"width\":{\"value\":0.8},\"x\":{\"field\":\"State_Code\"}},\"id\":\"1160\",\"type\":\"VBar\"},{\"attributes\":{\"source\":{\"id\":\"1157\"}},\"id\":\"1164\",\"type\":\"CDSView\"},{\"attributes\":{\"below\":[{\"id\":\"1137\"}],\"center\":[{\"id\":\"1139\"},{\"id\":\"1143\"}],\"height\":300,\"left\":[{\"id\":\"1140\"}],\"margin\":[5,5,5,5],\"min_border_bottom\":10,\"min_border_left\":10,\"min_border_right\":10,\"min_border_top\":10,\"renderers\":[{\"id\":\"1163\"}],\"sizing_mode\":\"fixed\",\"title\":{\"id\":\"1129\"},\"toolbar\":{\"id\":\"1150\"},\"width\":700,\"x_range\":{\"id\":\"1125\"},\"x_scale\":{\"id\":\"1133\"},\"y_range\":{\"id\":\"1126\"},\"y_scale\":{\"id\":\"1135\"}},\"id\":\"1128\",\"subtype\":\"Figure\",\"type\":\"Plot\"},{\"attributes\":{},\"id\":\"1144\",\"type\":\"SaveTool\"},{\"attributes\":{\"fill_alpha\":{\"value\":0.1},\"fill_color\":{\"value\":\"#30a2da\"},\"line_alpha\":{\"value\":0.1},\"top\":{\"field\":\"Total_Average_Loan_Amount\"},\"width\":{\"value\":0.8},\"x\":{\"field\":\"State_Code\"}},\"id\":\"1161\",\"type\":\"VBar\"},{\"attributes\":{},\"id\":\"1145\",\"type\":\"PanTool\"},{\"attributes\":{\"end\":3081895.235000001,\"reset_end\":3081895.235000001,\"reset_start\":0.0,\"tags\":[[[\"Total Average Loan Amount\",\"Total Average Loan Amount\",null]]]},\"id\":\"1126\",\"type\":\"Range1d\"},{\"attributes\":{},\"id\":\"1168\",\"type\":\"AllLabels\"},{\"attributes\":{},\"id\":\"1148\",\"type\":\"ResetTool\"},{\"attributes\":{\"fill_alpha\":{\"value\":0.2},\"fill_color\":{\"value\":\"#30a2da\"},\"line_alpha\":{\"value\":0.2},\"top\":{\"field\":\"Total_Average_Loan_Amount\"},\"width\":{\"value\":0.8},\"x\":{\"field\":\"State_Code\"}},\"id\":\"1162\",\"type\":\"VBar\"},{\"attributes\":{},\"id\":\"1146\",\"type\":\"WheelZoomTool\"},{\"attributes\":{},\"id\":\"1172\",\"type\":\"AllLabels\"},{\"attributes\":{\"children\":[{\"id\":\"1124\"},{\"id\":\"1128\"},{\"id\":\"1193\"}],\"margin\":[0,0,0,0],\"name\":\"Row01817\",\"tags\":[\"embedded\"]},\"id\":\"1123\",\"type\":\"Row\"},{\"attributes\":{},\"id\":\"1133\",\"type\":\"CategoricalScale\"},{\"attributes\":{\"overlay\":{\"id\":\"1149\"}},\"id\":\"1147\",\"type\":\"BoxZoomTool\"},{\"attributes\":{\"bottom\":{\"value\":0},\"fill_alpha\":{\"value\":1.0},\"fill_color\":{\"value\":\"#30a2da\"},\"hatch_alpha\":{\"value\":1.0},\"hatch_color\":{\"value\":\"black\"},\"hatch_scale\":{\"value\":12.0},\"hatch_weight\":{\"value\":1.0},\"line_alpha\":{\"value\":1.0},\"line_cap\":{\"value\":\"butt\"},\"line_color\":{\"value\":\"black\"},\"line_dash\":{\"value\":[]},\"line_dash_offset\":{\"value\":0},\"line_join\":{\"value\":\"bevel\"},\"line_width\":{\"value\":1},\"top\":{\"field\":\"Total_Average_Loan_Amount\"},\"width\":{\"value\":0.8},\"x\":{\"field\":\"State_Code\"}},\"id\":\"1165\",\"type\":\"VBar\"},{\"attributes\":{\"data_source\":{\"id\":\"1157\"},\"glyph\":{\"id\":\"1160\"},\"hover_glyph\":null,\"muted_glyph\":{\"id\":\"1162\"},\"nonselection_glyph\":{\"id\":\"1161\"},\"selection_glyph\":{\"id\":\"1165\"},\"view\":{\"id\":\"1164\"}},\"id\":\"1163\",\"type\":\"GlyphRenderer\"},{\"attributes\":{\"margin\":[5,5,5,5],\"name\":\"HSpacer01821\",\"sizing_mode\":\"stretch_width\"},\"id\":\"1124\",\"type\":\"Spacer\"},{\"attributes\":{\"axis\":{\"id\":\"1137\"},\"grid_line_color\":null,\"ticker\":null},\"id\":\"1139\",\"type\":\"Grid\"},{\"attributes\":{\"factors\":[\"MP\",\"PR\",\"ND\",\"SD\",\"VI\",\"WY\",\"VT\",\"MT\",\"DE\",\"AK\",\"GU\",\"MS\",\"WV\",\"ID\",\"ME\",\"NM\",\"NE\",\"NH\",\"AR\",\"IA\",\"KS\",\"HI\",\"RI\",\"OK\",\"NV\",\"AL\",\"LA\",\"KY\",\"SC\",\"CT\",\"MO\",\"CO\",\"AZ\",\"UT\",\"OR\",\"TN\",\"IN\",\"WI\",\"MD\",\"MN\",\"VA\",\"IL\",\"NY\",\"GA\",\"MA\",\"MI\",\"NC\",\"NJ\",\"WA\",\"OH\",\"FL\",\"PA\",\"TX\",\"CA\"],\"tags\":[[[\"State Code\",\"State Code\",null]]]},\"id\":\"1125\",\"type\":\"FactorRange\"},{\"attributes\":{},\"id\":\"1135\",\"type\":\"LinearScale\"},{\"attributes\":{},\"id\":\"1181\",\"type\":\"UnionRenderers\"},{\"attributes\":{},\"id\":\"1138\",\"type\":\"CategoricalTicker\"},{\"attributes\":{\"data\":{\"State_Code\":[\"MP\",\"PR\",\"ND\",\"SD\",\"VI\",\"WY\",\"VT\",\"MT\",\"DE\",\"AK\",\"GU\",\"MS\",\"WV\",\"ID\",\"ME\",\"NM\",\"NE\",\"NH\",\"AR\",\"IA\",\"KS\",\"HI\",\"RI\",\"OK\",\"NV\",\"AL\",\"LA\",\"KY\",\"SC\",\"CT\",\"MO\",\"CO\",\"AZ\",\"UT\",\"OR\",\"TN\",\"IN\",\"WI\",\"MD\",\"MN\",\"VA\",\"IL\",\"NY\",\"GA\",\"MA\",\"MI\",\"NC\",\"NJ\",\"WA\",\"OH\",\"FL\",\"PA\",\"TX\",\"CA\"],\"Total_Average_Loan_Amount\":{\"__ndarray__\":\"AAAAAAAd5UAAAAAAwFTsQB+F61Hs6PJArkfhelhS9UAAAAAAUEz3QAAAAAAwJPlA7FG4HmFD+UA9CtejDLn5QFK4HoX7dABB7FG4HlsqAkEAAAAAaEMGQa5H4Xr2bQdBAAAAAAi+CEGamZmZNUkJQRSuR+FaWAlBwvUoXLdjC0HD9Shc8eQLQcL1KFw/PQ5BSOF6FLEQEEEfhetRDdwSQRSuR+E0thNBrkfhem+WFEGQwvUoPlcVQWZmZmby+RVB7FG4HoasF0HrUbgeuo0aQeF6FK5i2BxBexSuR6tbHUEzMzMzaUggQR+F61HQZiBBmZmZGceBIUH2KFwP7PkhQRWuR+GvPCJBkML1KOZQIkG4HoVrQdYiQfYoXI9MiSRBwvUoXOn3JEEAAAAAUF8lQShcj0JNKyhBw/Uo3BUSKUFI4XqUXjQpQVS4HgX9tylB4noULhp5MEHC9SjcrLUwQSlcj8J1EzFBXI/CtTRDMUGamZnZk9ExQRSuR6EWtzJBkML1KE+jM0GjcD3K+6E1QfYoXE887TdBXI/CdS94OUFPuB5FM4xDQc7MzOzKZ0VB\",\"dtype\":\"float64\",\"order\":\"little\",\"shape\":[54]}},\"selected\":{\"id\":\"1158\"},\"selection_policy\":{\"id\":\"1181\"}},\"id\":\"1157\",\"type\":\"ColumnDataSource\"},{\"attributes\":{\"format\":\"%.0f\"},\"id\":\"1166\",\"type\":\"PrintfTickFormatter\"},{\"attributes\":{},\"id\":\"1169\",\"type\":\"CategoricalTickFormatter\"},{\"attributes\":{\"axis\":{\"id\":\"1140\"},\"dimension\":1,\"grid_line_color\":null,\"ticker\":null},\"id\":\"1143\",\"type\":\"Grid\"}],\"root_ids\":[\"1123\"]},\"title\":\"Bokeh Application\",\"version\":\"2.3.2\"}};\n",
       "    var render_items = [{\"docid\":\"5ad24b05-43c5-47c5-a4bc-bc24c81504bd\",\"root_ids\":[\"1123\"],\"roots\":{\"1123\":\"95eb3d9d-3311-4b8f-adb7-ecaeaf553641\"}}];\n",
       "    root.Bokeh.embed.embed_items_notebook(docs_json, render_items);\n",
       "  }\n",
       "  if (root.Bokeh !== undefined && root.Bokeh.Panel !== undefined) {\n",
       "    embed_document(root);\n",
       "  } else {\n",
       "    var attempts = 0;\n",
       "    var timer = setInterval(function(root) {\n",
       "      if (root.Bokeh !== undefined && root.Bokeh.Panel !== undefined) {\n",
       "        clearInterval(timer);\n",
       "        embed_document(root);\n",
       "      } else if (document.readyState == \"complete\") {\n",
       "        attempts++;\n",
       "        if (attempts > 100) {\n",
       "          clearInterval(timer);\n",
       "          console.log(\"Bokeh: ERROR: Unable to run BokehJS code because BokehJS library is missing\");\n",
       "        }\n",
       "      }\n",
       "    }, 10, root)\n",
       "  }\n",
       "})(window);</script>"
      ],
      "text/plain": [
       ":Bars   [State Code]   (Total Average Loan Amount)"
      ]
     },
     "execution_count": 4,
     "metadata": {
      "application/vnd.holoviews_exec.v0+json": {
       "id": "1123"
      }
     },
     "output_type": "execute_result"
    }
   ],
   "source": [
    "# Slice for Total Average Loan Amount\n",
    "loan_data_state = loan_data['Total Average Loan Amount']\n",
    "loan_data_avg_grp = loan_data_state.sort_values()\n",
    "\n",
    "# Use rot and yformatter attributes/options\n",
    "plot_state_avgs = loan_data_avg_grp.hvplot.bar(label='2019 Total Average Amount', rot=90).opts(yformatter=\"%.0f\")\n",
    "plot_state_avgs"
   ]
  },
  {
   "cell_type": "code",
   "execution_count": 49,
   "metadata": {},
   "outputs": [
    {
     "data": {},
     "metadata": {},
     "output_type": "display_data"
    },
    {
     "data": {
      "application/vnd.holoviews_exec.v0+json": "",
      "text/html": [
       "<div id='6512'>\n",
       "\n",
       "\n",
       "\n",
       "\n",
       "\n",
       "  <div class=\"bk-root\" id=\"c6d8b042-4c0a-4065-95f6-e75a06c8cb68\" data-root-id=\"6512\"></div>\n",
       "</div>\n",
       "<script type=\"application/javascript\">(function(root) {\n",
       "  function embed_document(root) {\n",
       "    var docs_json = {\"28c9c1f5-b2f4-4b91-b0f4-557feacdec0c\":{\"defs\":[],\"roots\":{\"references\":[{\"attributes\":{},\"id\":\"6537\",\"type\":\"ResetTool\"},{\"attributes\":{\"text\":\"2010 - 2014\",\"text_color\":\"black\",\"text_font_size\":\"12pt\"},\"id\":\"6568\",\"type\":\"Title\"},{\"attributes\":{\"margin\":[5,5,5,5],\"name\":\"HSpacer13775\",\"sizing_mode\":\"stretch_width\"},\"id\":\"6513\",\"type\":\"Spacer\"},{\"attributes\":{\"overlay\":{\"id\":\"6538\"}},\"id\":\"6536\",\"type\":\"BoxZoomTool\"},{\"attributes\":{\"axis_label\":\"State Code\",\"formatter\":{\"id\":\"6608\"},\"major_label_orientation\":1.5707963267948966,\"major_label_policy\":{\"id\":\"6607\"},\"ticker\":{\"id\":\"6577\"}},\"id\":\"6576\",\"type\":\"CategoricalAxis\"},{\"attributes\":{},\"id\":\"6608\",\"type\":\"CategoricalTickFormatter\"},{\"attributes\":{\"toolbar\":{\"id\":\"6635\"},\"toolbar_location\":\"above\"},\"id\":\"6636\",\"type\":\"ToolbarBox\"},{\"attributes\":{\"axis\":{\"id\":\"6576\"},\"grid_line_color\":null,\"ticker\":null},\"id\":\"6578\",\"type\":\"Grid\"},{\"attributes\":{},\"id\":\"6580\",\"type\":\"BasicTicker\"},{\"attributes\":{\"factors\":[\"MP\",\"PR\",\"VI\",\"SD\",\"ND\",\"VT\",\"MT\",\"WY\",\"DE\",\"AK\",\"GU\",\"ID\",\"NE\",\"WV\",\"ME\",\"NH\",\"NM\",\"MS\",\"AR\",\"IA\",\"KS\",\"RI\",\"HI\",\"NV\",\"OK\",\"AZ\",\"KY\",\"MO\",\"MN\",\"AL\",\"CT\",\"UT\",\"LA\",\"IL\",\"CO\",\"WI\",\"SC\",\"OR\",\"IN\",\"TN\",\"MD\",\"MA\",\"GA\",\"NY\",\"NJ\",\"MI\",\"VA\",\"WA\",\"NC\",\"OH\",\"PA\",\"FL\",\"TX\",\"CA\"],\"tags\":[[[\"State Code\",\"State Code\",null]]]},\"id\":\"6514\",\"type\":\"FactorRange\"},{\"attributes\":{},\"id\":\"6574\",\"type\":\"LinearScale\"},{\"attributes\":{\"data_source\":{\"id\":\"6596\"},\"glyph\":{\"id\":\"6599\"},\"hover_glyph\":null,\"muted_glyph\":{\"id\":\"6601\"},\"nonselection_glyph\":{\"id\":\"6600\"},\"selection_glyph\":{\"id\":\"6604\"},\"view\":{\"id\":\"6603\"}},\"id\":\"6602\",\"type\":\"GlyphRenderer\"},{\"attributes\":{\"callback\":null,\"renderers\":[{\"id\":\"6552\"}],\"tags\":[\"hv_created\"],\"tooltips\":[[\"State Code\",\"@{State_Code}\"],[\"2015 - 2016\",\"@{A_2015_hyphen_minus_2016}\"]]},\"id\":\"6516\",\"type\":\"HoverTool\"},{\"attributes\":{},\"id\":\"6577\",\"type\":\"CategoricalTicker\"},{\"attributes\":{\"data\":{\"2015 - 2016\":{\"__ndarray__\":\"AAAAAAAAAAAAAAAAUPD0QAAAAABgcftAw/UoXPMY/EDhehSuE2L+QFyPwvVOhgBBCtejcB8CAkEAAAAACB8EQdejcD3MJARBuB6F63skB0EAAAAASBwLQXA9Cteh7A9BwvUoXBn8D0EAAAAANF8QQSlcj8IRhhBBAAAAAGQhEUE+CtejIWwTQXsUrkePoRNBzczMzNaxFUEK16NwlBsWQdejcD2v0hlBwvUoXGyYGkEUrkfhyLwbQeJ6FK5ztR5BmZmZmejvHkE9CtejM/oeQfYoXA+1hSJBuB6Fa8CYIkGPwvWor6skQUfhepTl7yRBexSux6iuJUHsUbieBhMmQYXrUThBLiZBSOF6FJwtJ0GF61E4vrwnQQAAAACoOihBPgrXoy6qKEE9CtcjGfooQTQzMzMDyCpBmZmZGXbBLkFwPQpXcMwuQZDC9ahaVS9BNDMzM0B2L0GkcD2KaAUyQcL1KBwDeDJB9ihcD2bZMkGG61E4USY0Qc3MzMz7STdBXI/C9eiLOEGjcD1KxHU5QQAAAMDJvTxBZmZmhqCgQEFmZmamd19GQTMzMzOx9EZB\",\"dtype\":\"float64\",\"order\":\"little\",\"shape\":[54]},\"A_2015_hyphen_minus_2016\":{\"__ndarray__\":\"AAAAAAAAAAAAAAAAUPD0QAAAAABgcftAw/UoXPMY/EDhehSuE2L+QFyPwvVOhgBBCtejcB8CAkEAAAAACB8EQdejcD3MJARBuB6F63skB0EAAAAASBwLQXA9Cteh7A9BwvUoXBn8D0EAAAAANF8QQSlcj8IRhhBBAAAAAGQhEUE+CtejIWwTQXsUrkePoRNBzczMzNaxFUEK16NwlBsWQdejcD2v0hlBwvUoXGyYGkEUrkfhyLwbQeJ6FK5ztR5BmZmZmejvHkE9CtejM/oeQfYoXA+1hSJBuB6Fa8CYIkGPwvWor6skQUfhepTl7yRBexSux6iuJUHsUbieBhMmQYXrUThBLiZBSOF6FJwtJ0GF61E4vrwnQQAAAACoOihBPgrXoy6qKEE9CtcjGfooQTQzMzMDyCpBmZmZGXbBLkFwPQpXcMwuQZDC9ahaVS9BNDMzM0B2L0GkcD2KaAUyQcL1KBwDeDJB9ihcD2bZMkGG61E4USY0Qc3MzMz7STdBXI/C9eiLOEGjcD1KxHU5QQAAAMDJvTxBZmZmhqCgQEFmZmamd19GQTMzMzOx9EZB\",\"dtype\":\"float64\",\"order\":\"little\",\"shape\":[54]},\"State Code\":[\"MP\",\"PR\",\"VI\",\"SD\",\"ND\",\"VT\",\"MT\",\"WY\",\"DE\",\"AK\",\"GU\",\"ID\",\"NE\",\"WV\",\"ME\",\"NH\",\"NM\",\"MS\",\"AR\",\"IA\",\"KS\",\"RI\",\"HI\",\"NV\",\"OK\",\"AZ\",\"KY\",\"MO\",\"MN\",\"AL\",\"CT\",\"UT\",\"LA\",\"IL\",\"CO\",\"WI\",\"SC\",\"OR\",\"IN\",\"TN\",\"MD\",\"MA\",\"GA\",\"NY\",\"NJ\",\"MI\",\"VA\",\"WA\",\"NC\",\"OH\",\"PA\",\"FL\",\"TX\",\"CA\"],\"State_Code\":[\"MP\",\"PR\",\"VI\",\"SD\",\"ND\",\"VT\",\"MT\",\"WY\",\"DE\",\"AK\",\"GU\",\"ID\",\"NE\",\"WV\",\"ME\",\"NH\",\"NM\",\"MS\",\"AR\",\"IA\",\"KS\",\"RI\",\"HI\",\"NV\",\"OK\",\"AZ\",\"KY\",\"MO\",\"MN\",\"AL\",\"CT\",\"UT\",\"LA\",\"IL\",\"CO\",\"WI\",\"SC\",\"OR\",\"IN\",\"TN\",\"MD\",\"MA\",\"GA\",\"NY\",\"NJ\",\"MI\",\"VA\",\"WA\",\"NC\",\"OH\",\"PA\",\"FL\",\"TX\",\"CA\"]},\"selected\":{\"id\":\"6547\"},\"selection_policy\":{\"id\":\"6620\"}},\"id\":\"6546\",\"type\":\"ColumnDataSource\"},{\"attributes\":{\"active_multi\":null,\"tools\":[{\"id\":\"6516\"},{\"id\":\"6533\"},{\"id\":\"6534\"},{\"id\":\"6535\"},{\"id\":\"6536\"},{\"id\":\"6537\"}]},\"id\":\"6539\",\"type\":\"Toolbar\"},{\"attributes\":{\"axis_label\":\"\",\"formatter\":{\"id\":\"6605\"},\"major_label_policy\":{\"id\":\"6611\"},\"ticker\":{\"id\":\"6580\"}},\"id\":\"6579\",\"type\":\"LinearAxis\"},{\"attributes\":{\"below\":[{\"id\":\"6576\"}],\"center\":[{\"id\":\"6578\"},{\"id\":\"6582\"}],\"height\":300,\"left\":[{\"id\":\"6579\"}],\"margin\":null,\"min_border_bottom\":10,\"min_border_left\":10,\"min_border_right\":10,\"min_border_top\":10,\"renderers\":[{\"id\":\"6602\"}],\"sizing_mode\":\"fixed\",\"title\":{\"id\":\"6568\"},\"toolbar\":{\"id\":\"6589\"},\"toolbar_location\":null,\"width\":700,\"x_range\":{\"id\":\"6514\"},\"x_scale\":{\"id\":\"6572\"},\"y_range\":{\"id\":\"6565\"},\"y_scale\":{\"id\":\"6574\"}},\"id\":\"6567\",\"subtype\":\"Figure\",\"type\":\"Plot\"},{\"attributes\":{\"line_color\":\"#30a2da\",\"line_width\":2,\"x\":{\"field\":\"State Code\"},\"y\":{\"field\":\"2010 - 2014\"}},\"id\":\"6604\",\"type\":\"Line\"},{\"attributes\":{\"axis_label\":\"State Code\",\"formatter\":{\"id\":\"6558\"},\"major_label_orientation\":1.5707963267948966,\"major_label_policy\":{\"id\":\"6557\"},\"ticker\":{\"id\":\"6527\"}},\"id\":\"6526\",\"type\":\"CategoricalAxis\"},{\"attributes\":{\"axis\":{\"id\":\"6579\"},\"dimension\":1,\"grid_line_color\":null,\"ticker\":null},\"id\":\"6582\",\"type\":\"Grid\"},{\"attributes\":{},\"id\":\"6611\",\"type\":\"AllLabels\"},{\"attributes\":{\"bottom_units\":\"screen\",\"fill_alpha\":0.5,\"fill_color\":\"lightgrey\",\"left_units\":\"screen\",\"level\":\"overlay\",\"line_alpha\":1.0,\"line_color\":\"black\",\"line_dash\":[4,4],\"line_width\":2,\"right_units\":\"screen\",\"syncable\":false,\"top_units\":\"screen\"},\"id\":\"6538\",\"type\":\"BoxAnnotation\"},{\"attributes\":{\"end\":3309753.04,\"reset_end\":3309753.04,\"reset_start\":-300886.64,\"start\":-300886.64,\"tags\":[[[\"2015 - 2016\",\"2015 - 2016\",null]]]},\"id\":\"6515\",\"type\":\"Range1d\"},{\"attributes\":{\"toolbars\":[{\"id\":\"6539\"},{\"id\":\"6589\"}],\"tools\":[{\"id\":\"6516\"},{\"id\":\"6533\"},{\"id\":\"6534\"},{\"id\":\"6535\"},{\"id\":\"6536\"},{\"id\":\"6537\"},{\"id\":\"6566\"},{\"id\":\"6583\"},{\"id\":\"6584\"},{\"id\":\"6585\"},{\"id\":\"6586\"},{\"id\":\"6587\"}]},\"id\":\"6635\",\"type\":\"ProxyToolbar\"},{\"attributes\":{},\"id\":\"6557\",\"type\":\"AllLabels\"},{\"attributes\":{\"line_color\":\"#30a2da\",\"line_width\":2,\"x\":{\"field\":\"State Code\"},\"y\":{\"field\":\"2015 - 2016\"}},\"id\":\"6554\",\"type\":\"Line\"},{\"attributes\":{\"children\":[{\"id\":\"6636\"},{\"id\":\"6634\"}]},\"id\":\"6637\",\"type\":\"Column\"},{\"attributes\":{\"format\":\"%.0f\"},\"id\":\"6555\",\"type\":\"PrintfTickFormatter\"},{\"attributes\":{},\"id\":\"6583\",\"type\":\"SaveTool\"},{\"attributes\":{},\"id\":\"6584\",\"type\":\"PanTool\"},{\"attributes\":{\"end\":3523678.784,\"reset_end\":3523678.784,\"reset_start\":-290429.34400000004,\"start\":-290429.34400000004,\"tags\":[[[\"2010 - 2014\",\"2010 - 2014\",null]]]},\"id\":\"6565\",\"type\":\"Range1d\"},{\"attributes\":{},\"id\":\"6587\",\"type\":\"ResetTool\"},{\"attributes\":{},\"id\":\"6607\",\"type\":\"AllLabels\"},{\"attributes\":{\"below\":[{\"id\":\"6526\"}],\"center\":[{\"id\":\"6528\"},{\"id\":\"6532\"}],\"height\":300,\"left\":[{\"id\":\"6529\"}],\"margin\":null,\"min_border_bottom\":10,\"min_border_left\":10,\"min_border_right\":10,\"min_border_top\":10,\"renderers\":[{\"id\":\"6552\"}],\"sizing_mode\":\"fixed\",\"title\":{\"id\":\"6518\"},\"toolbar\":{\"id\":\"6539\"},\"toolbar_location\":null,\"width\":700,\"x_range\":{\"id\":\"6514\"},\"x_scale\":{\"id\":\"6522\"},\"y_range\":{\"id\":\"6515\"},\"y_scale\":{\"id\":\"6524\"}},\"id\":\"6517\",\"subtype\":\"Figure\",\"type\":\"Plot\"},{\"attributes\":{},\"id\":\"6585\",\"type\":\"WheelZoomTool\"},{\"attributes\":{\"line_color\":\"#30a2da\",\"line_width\":2,\"x\":{\"field\":\"State Code\"},\"y\":{\"field\":\"2015 - 2016\"}},\"id\":\"6549\",\"type\":\"Line\"},{\"attributes\":{\"line_alpha\":0.1,\"line_color\":\"#30a2da\",\"line_width\":2,\"x\":{\"field\":\"State Code\"},\"y\":{\"field\":\"2015 - 2016\"}},\"id\":\"6550\",\"type\":\"Line\"},{\"attributes\":{},\"id\":\"6561\",\"type\":\"AllLabels\"},{\"attributes\":{\"overlay\":{\"id\":\"6588\"}},\"id\":\"6586\",\"type\":\"BoxZoomTool\"},{\"attributes\":{},\"id\":\"6558\",\"type\":\"CategoricalTickFormatter\"},{\"attributes\":{\"children\":[[{\"id\":\"6517\"},0,0],[{\"id\":\"6567\"},0,1]]},\"id\":\"6634\",\"type\":\"GridBox\"},{\"attributes\":{\"text\":\"Loan Amount\",\"text_color\":\"black\",\"text_font_size\":\"12pt\"},\"id\":\"6518\",\"type\":\"Title\"},{\"attributes\":{\"source\":{\"id\":\"6546\"}},\"id\":\"6553\",\"type\":\"CDSView\"},{\"attributes\":{\"line_alpha\":0.1,\"line_color\":\"#30a2da\",\"line_width\":2,\"x\":{\"field\":\"State Code\"},\"y\":{\"field\":\"2010 - 2014\"}},\"id\":\"6600\",\"type\":\"Line\"},{\"attributes\":{\"line_alpha\":0.2,\"line_color\":\"#30a2da\",\"line_width\":2,\"x\":{\"field\":\"State Code\"},\"y\":{\"field\":\"2015 - 2016\"}},\"id\":\"6551\",\"type\":\"Line\"},{\"attributes\":{\"format\":\"%.0f\"},\"id\":\"6605\",\"type\":\"PrintfTickFormatter\"},{\"attributes\":{},\"id\":\"6522\",\"type\":\"CategoricalScale\"},{\"attributes\":{},\"id\":\"6620\",\"type\":\"UnionRenderers\"},{\"attributes\":{},\"id\":\"6547\",\"type\":\"Selection\"},{\"attributes\":{},\"id\":\"6530\",\"type\":\"BasicTicker\"},{\"attributes\":{\"line_color\":\"#30a2da\",\"line_width\":2,\"x\":{\"field\":\"State Code\"},\"y\":{\"field\":\"2010 - 2014\"}},\"id\":\"6599\",\"type\":\"Line\"},{\"attributes\":{\"axis\":{\"id\":\"6526\"},\"grid_line_color\":null,\"ticker\":null},\"id\":\"6528\",\"type\":\"Grid\"},{\"attributes\":{},\"id\":\"6524\",\"type\":\"LinearScale\"},{\"attributes\":{\"data_source\":{\"id\":\"6546\"},\"glyph\":{\"id\":\"6549\"},\"hover_glyph\":null,\"muted_glyph\":{\"id\":\"6551\"},\"nonselection_glyph\":{\"id\":\"6550\"},\"selection_glyph\":{\"id\":\"6554\"},\"view\":{\"id\":\"6553\"}},\"id\":\"6552\",\"type\":\"GlyphRenderer\"},{\"attributes\":{\"active_multi\":null,\"tools\":[{\"id\":\"6566\"},{\"id\":\"6583\"},{\"id\":\"6584\"},{\"id\":\"6585\"},{\"id\":\"6586\"},{\"id\":\"6587\"}]},\"id\":\"6589\",\"type\":\"Toolbar\"},{\"attributes\":{},\"id\":\"6527\",\"type\":\"CategoricalTicker\"},{\"attributes\":{\"axis_label\":\"\",\"formatter\":{\"id\":\"6555\"},\"major_label_policy\":{\"id\":\"6561\"},\"ticker\":{\"id\":\"6530\"}},\"id\":\"6529\",\"type\":\"LinearAxis\"},{\"attributes\":{\"axis\":{\"id\":\"6529\"},\"dimension\":1,\"grid_line_color\":null,\"ticker\":null},\"id\":\"6532\",\"type\":\"Grid\"},{\"attributes\":{\"bottom_units\":\"screen\",\"fill_alpha\":0.5,\"fill_color\":\"lightgrey\",\"left_units\":\"screen\",\"level\":\"overlay\",\"line_alpha\":1.0,\"line_color\":\"black\",\"line_dash\":[4,4],\"line_width\":2,\"right_units\":\"screen\",\"syncable\":false,\"top_units\":\"screen\"},\"id\":\"6588\",\"type\":\"BoxAnnotation\"},{\"attributes\":{\"callback\":null,\"renderers\":[{\"id\":\"6602\"}],\"tags\":[\"hv_created\"],\"tooltips\":[[\"State Code\",\"@{State_Code}\"],[\"2010 - 2014\",\"@{A_2010_hyphen_minus_2014}\"]]},\"id\":\"6566\",\"type\":\"HoverTool\"},{\"attributes\":{},\"id\":\"6535\",\"type\":\"WheelZoomTool\"},{\"attributes\":{\"margin\":[5,5,5,5],\"name\":\"HSpacer13776\",\"sizing_mode\":\"stretch_width\"},\"id\":\"6800\",\"type\":\"Spacer\"},{\"attributes\":{},\"id\":\"6533\",\"type\":\"SaveTool\"},{\"attributes\":{},\"id\":\"6597\",\"type\":\"Selection\"},{\"attributes\":{},\"id\":\"6572\",\"type\":\"CategoricalScale\"},{\"attributes\":{\"line_alpha\":0.2,\"line_color\":\"#30a2da\",\"line_width\":2,\"x\":{\"field\":\"State Code\"},\"y\":{\"field\":\"2010 - 2014\"}},\"id\":\"6601\",\"type\":\"Line\"},{\"attributes\":{\"children\":[{\"id\":\"6513\"},{\"id\":\"6637\"},{\"id\":\"6800\"}],\"margin\":[0,0,0,0],\"name\":\"Row13771\",\"tags\":[\"embedded\"]},\"id\":\"6512\",\"type\":\"Row\"},{\"attributes\":{},\"id\":\"6534\",\"type\":\"PanTool\"},{\"attributes\":{\"source\":{\"id\":\"6596\"}},\"id\":\"6603\",\"type\":\"CDSView\"},{\"attributes\":{\"data\":{\"2010 - 2014\":{\"__ndarray__\":\"AAAAAEDF2kAAAAAAULzzQPYoXI+yuvlAAAAAACA8/EDXo3A9eh79QFK4HoUDQgBBAAAAAEhJAEEfhetRii8BQR+F61HK1gNB7FG4HpsKBUEAAAAA8M0HQexRuB6nnA5BehSuRytREEEAAAAA0JkQQRSuR+HbvxBBHoXrUQ+UEUEAAAAA4tMRQT4K16PIeRJB4XoUril1FUFnZmZmhZMVQSpcj8K/RxhBXI/C9SBjGEHhehSuMNkYQR+F61GBGxpBKVyPwqpwHEFcj8J1LjYhQfYoXA9pNSJBexSuRxFNIkHsUbiebfYiQRWuR+GuyyNBuB6FazdGJEFwPQrXCiclQVK4HoWcQCVBwvUoXDaVJUEAAACAShInQaRwPQrxaCdBZWZmZtumKEEAAAAAmD0pQSCF61Gd3ilB7FG4HsPlKUEoXI9C7tErQa1H4bqQkjFBZ2ZmZq+ZMUFxPQoXCE8yQWdmZiaJWDJBC9ej8HJLNEE+CtfjgGY0QRWuR2FODzZBZmZmZoAGN0GQwvWoFhA3QRWuRyGWpD1BAAAAwKYZP0HXo3CdZvxFQYXrUThmdUhB\",\"dtype\":\"float64\",\"order\":\"little\",\"shape\":[54]},\"A_2010_hyphen_minus_2014\":{\"__ndarray__\":\"AAAAAEDF2kAAAAAAULzzQPYoXI+yuvlAAAAAACA8/EDXo3A9eh79QFK4HoUDQgBBAAAAAEhJAEEfhetRii8BQR+F61HK1gNB7FG4HpsKBUEAAAAA8M0HQexRuB6nnA5BehSuRytREEEAAAAA0JkQQRSuR+HbvxBBHoXrUQ+UEUEAAAAA4tMRQT4K16PIeRJB4XoUril1FUFnZmZmhZMVQSpcj8K/RxhBXI/C9SBjGEHhehSuMNkYQR+F61GBGxpBKVyPwqpwHEFcj8J1LjYhQfYoXA9pNSJBexSuRxFNIkHsUbiebfYiQRWuR+GuyyNBuB6FazdGJEFwPQrXCiclQVK4HoWcQCVBwvUoXDaVJUEAAACAShInQaRwPQrxaCdBZWZmZtumKEEAAAAAmD0pQSCF61Gd3ilB7FG4HsPlKUEoXI9C7tErQa1H4bqQkjFBZ2ZmZq+ZMUFxPQoXCE8yQWdmZiaJWDJBC9ej8HJLNEE+CtfjgGY0QRWuR2FODzZBZmZmZoAGN0GQwvWoFhA3QRWuRyGWpD1BAAAAwKYZP0HXo3CdZvxFQYXrUThmdUhB\",\"dtype\":\"float64\",\"order\":\"little\",\"shape\":[54]},\"State Code\":[\"MP\",\"PR\",\"SD\",\"VI\",\"ND\",\"VT\",\"WY\",\"MT\",\"DE\",\"AK\",\"GU\",\"ID\",\"NE\",\"WV\",\"ME\",\"NH\",\"MS\",\"NM\",\"AR\",\"IA\",\"NV\",\"RI\",\"KS\",\"HI\",\"OK\",\"MO\",\"KY\",\"AZ\",\"MN\",\"AL\",\"UT\",\"LA\",\"CT\",\"CO\",\"SC\",\"OR\",\"IN\",\"WI\",\"MD\",\"IL\",\"TN\",\"GA\",\"MI\",\"VA\",\"NY\",\"NJ\",\"MA\",\"OH\",\"NC\",\"WA\",\"FL\",\"PA\",\"CA\",\"TX\"],\"State_Code\":[\"MP\",\"PR\",\"SD\",\"VI\",\"ND\",\"VT\",\"WY\",\"MT\",\"DE\",\"AK\",\"GU\",\"ID\",\"NE\",\"WV\",\"ME\",\"NH\",\"MS\",\"NM\",\"AR\",\"IA\",\"NV\",\"RI\",\"KS\",\"HI\",\"OK\",\"MO\",\"KY\",\"AZ\",\"MN\",\"AL\",\"UT\",\"LA\",\"CT\",\"CO\",\"SC\",\"OR\",\"IN\",\"WI\",\"MD\",\"IL\",\"TN\",\"GA\",\"MI\",\"VA\",\"NY\",\"NJ\",\"MA\",\"OH\",\"NC\",\"WA\",\"FL\",\"PA\",\"CA\",\"TX\"]},\"selected\":{\"id\":\"6597\"},\"selection_policy\":{\"id\":\"6630\"}},\"id\":\"6596\",\"type\":\"ColumnDataSource\"},{\"attributes\":{},\"id\":\"6630\",\"type\":\"UnionRenderers\"}],\"root_ids\":[\"6512\"]},\"title\":\"Bokeh Application\",\"version\":\"2.3.2\"}};\n",
       "    var render_items = [{\"docid\":\"28c9c1f5-b2f4-4b91-b0f4-557feacdec0c\",\"root_ids\":[\"6512\"],\"roots\":{\"6512\":\"c6d8b042-4c0a-4065-95f6-e75a06c8cb68\"}}];\n",
       "    root.Bokeh.embed.embed_items_notebook(docs_json, render_items);\n",
       "  }\n",
       "  if (root.Bokeh !== undefined && root.Bokeh.Panel !== undefined) {\n",
       "    embed_document(root);\n",
       "  } else {\n",
       "    var attempts = 0;\n",
       "    var timer = setInterval(function(root) {\n",
       "      if (root.Bokeh !== undefined && root.Bokeh.Panel !== undefined) {\n",
       "        clearInterval(timer);\n",
       "        embed_document(root);\n",
       "      } else if (document.readyState == \"complete\") {\n",
       "        attempts++;\n",
       "        if (attempts > 100) {\n",
       "          clearInterval(timer);\n",
       "          console.log(\"Bokeh: ERROR: Unable to run BokehJS code because BokehJS library is missing\");\n",
       "        }\n",
       "      }\n",
       "    }, 10, root)\n",
       "  }\n",
       "})(window);</script>"
      ],
      "text/plain": [
       ":Layout\n",
       "   .Curve.A_2015_hyphen_minus_2016 :Curve   [State Code]   (2015 - 2016)\n",
       "   .Curve.A_2010_hyphen_minus_2014 :Curve   [State Code]   (2010 - 2014)"
      ]
     },
     "execution_count": 49,
     "metadata": {
      "application/vnd.holoviews_exec.v0+json": {
       "id": "6512"
      }
     },
     "output_type": "execute_result"
    }
   ],
   "source": [
    "# Slice data for Total Average Loan Amount by 2015-2016 and 2010-2014 date ranges\n",
    "loan_data_range_1 = loan_data['2015 - 2016']\n",
    "loan_data_range_2 = loan_data['2010 - 2014']\n",
    "loan_data_range_grp = loan_data_range_1.sort_values()\n",
    "loan_data_range_grp_2 = loan_data_range_2.sort_values()\n",
    "\n",
    "# Use rot argument and yformatter option to customize formatting\n",
    "plot_2015_2016 = loan_data_range_grp.hvplot(label='2015 - 2016', rot=90).opts(yformatter=\"%.0f\", title=\"Loan Amount\")\n",
    "plot_2010_2014 = loan_data_range_grp_2.hvplot(label='2010 - 2014', rot=90).opts(yformatter=\"%.0f\")\n",
    "plot_2015_2016 + plot_2010_2014"
   ]
  },
  {
   "cell_type": "markdown",
   "metadata": {},
   "source": [
    "### Use title option to customize title"
   ]
  },
  {
   "cell_type": "code",
   "execution_count": 10,
   "metadata": {},
   "outputs": [
    {
     "data": {},
     "metadata": {},
     "output_type": "display_data"
    },
    {
     "data": {
      "application/vnd.holoviews_exec.v0+json": "",
      "text/html": [
       "<div id='2590'>\n",
       "\n",
       "\n",
       "\n",
       "\n",
       "\n",
       "  <div class=\"bk-root\" id=\"0a5376ac-5b4f-4a42-befa-5f6bbf4745f6\" data-root-id=\"2590\"></div>\n",
       "</div>\n",
       "<script type=\"application/javascript\">(function(root) {\n",
       "  function embed_document(root) {\n",
       "    var docs_json = {\"cbaf8347-b1fc-49f1-b698-6fda9b6bbd23\":{\"defs\":[],\"roots\":{\"references\":[{\"attributes\":{\"axis\":{\"id\":\"2609\"},\"dimension\":1,\"grid_line_color\":null,\"ticker\":null},\"id\":\"2612\",\"type\":\"Grid\"},{\"attributes\":{},\"id\":\"2631\",\"type\":\"CategoricalTickFormatter\"},{\"attributes\":{\"label\":{\"value\":\"2019 Total Average Amount\"},\"renderers\":[{\"id\":\"2643\"}]},\"id\":\"2655\",\"type\":\"LegendItem\"},{\"attributes\":{\"line_color\":\"#fc4f30\",\"line_width\":2,\"x\":{\"field\":\"State Code\"},\"y\":{\"field\":\"2010 - 2014\"}},\"id\":\"2700\",\"type\":\"Line\"},{\"attributes\":{\"bottom_units\":\"screen\",\"fill_alpha\":0.5,\"fill_color\":\"lightgrey\",\"left_units\":\"screen\",\"level\":\"overlay\",\"line_alpha\":1.0,\"line_color\":\"black\",\"line_dash\":[4,4],\"line_width\":2,\"right_units\":\"screen\",\"syncable\":false,\"top_units\":\"screen\"},\"id\":\"2618\",\"type\":\"BoxAnnotation\"},{\"attributes\":{\"line_color\":\"#30a2da\",\"line_width\":2,\"x\":{\"field\":\"State Code\"},\"y\":{\"field\":\"2015 - 2016\"}},\"id\":\"2677\",\"type\":\"Line\"},{\"attributes\":{\"source\":{\"id\":\"2678\"}},\"id\":\"2685\",\"type\":\"CDSView\"},{\"attributes\":{},\"id\":\"2602\",\"type\":\"CategoricalScale\"},{\"attributes\":{\"data\":{\"State_Code\":[\"MP\",\"PR\",\"ND\",\"SD\",\"VI\",\"WY\",\"VT\",\"MT\",\"DE\",\"AK\",\"GU\",\"MS\",\"WV\",\"ID\",\"ME\",\"NM\",\"NE\",\"NH\",\"AR\",\"IA\",\"KS\",\"HI\",\"RI\",\"OK\",\"NV\",\"AL\",\"LA\",\"KY\",\"SC\",\"CT\",\"MO\",\"CO\",\"AZ\",\"UT\",\"OR\",\"TN\",\"IN\",\"WI\",\"MD\",\"MN\",\"VA\",\"IL\",\"NY\",\"GA\",\"MA\",\"MI\",\"NC\",\"NJ\",\"WA\",\"OH\",\"FL\",\"PA\",\"TX\",\"CA\"],\"Total_Average_Loan_Amount\":{\"__ndarray__\":\"AAAAAAAd5UAAAAAAwFTsQB+F61Hs6PJArkfhelhS9UAAAAAAUEz3QAAAAAAwJPlA7FG4HmFD+UA9CtejDLn5QFK4HoX7dABB7FG4HlsqAkEAAAAAaEMGQa5H4Xr2bQdBAAAAAAi+CEGamZmZNUkJQRSuR+FaWAlBwvUoXLdjC0HD9Shc8eQLQcL1KFw/PQ5BSOF6FLEQEEEfhetRDdwSQRSuR+E0thNBrkfhem+WFEGQwvUoPlcVQWZmZmby+RVB7FG4HoasF0HrUbgeuo0aQeF6FK5i2BxBexSuR6tbHUEzMzMzaUggQR+F61HQZiBBmZmZGceBIUH2KFwP7PkhQRWuR+GvPCJBkML1KOZQIkG4HoVrQdYiQfYoXI9MiSRBwvUoXOn3JEEAAAAAUF8lQShcj0JNKyhBw/Uo3BUSKUFI4XqUXjQpQVS4HgX9tylB4noULhp5MEHC9SjcrLUwQSlcj8J1EzFBXI/CtTRDMUGamZnZk9ExQRSuR6EWtzJBkML1KE+jM0GjcD3K+6E1QfYoXE887TdBXI/CdS94OUFPuB5FM4xDQc7MzOzKZ0VB\",\"dtype\":\"float64\",\"order\":\"little\",\"shape\":[54]}},\"selected\":{\"id\":\"2638\"},\"selection_policy\":{\"id\":\"2651\"}},\"id\":\"2637\",\"type\":\"ColumnDataSource\"},{\"attributes\":{},\"id\":\"2634\",\"type\":\"AllLabels\"},{\"attributes\":{\"data_source\":{\"id\":\"2637\"},\"glyph\":{\"id\":\"2640\"},\"hover_glyph\":null,\"muted_glyph\":{\"id\":\"2642\"},\"nonselection_glyph\":{\"id\":\"2641\"},\"selection_glyph\":{\"id\":\"2656\"},\"view\":{\"id\":\"2644\"}},\"id\":\"2643\",\"type\":\"GlyphRenderer\"},{\"attributes\":{\"line_color\":\"#fc4f30\",\"line_width\":2,\"x\":{\"field\":\"State Code\"},\"y\":{\"field\":\"2010 - 2014\"}},\"id\":\"2681\",\"type\":\"Line\"},{\"attributes\":{},\"id\":\"2673\",\"type\":\"UnionRenderers\"},{\"attributes\":{\"data_source\":{\"id\":\"2657\"},\"glyph\":{\"id\":\"2660\"},\"hover_glyph\":null,\"muted_glyph\":{\"id\":\"2662\"},\"nonselection_glyph\":{\"id\":\"2661\"},\"selection_glyph\":{\"id\":\"2677\"},\"view\":{\"id\":\"2664\"}},\"id\":\"2663\",\"type\":\"GlyphRenderer\"},{\"attributes\":{\"axis_label\":\"\",\"formatter\":{\"id\":\"2628\"},\"major_label_policy\":{\"id\":\"2634\"},\"ticker\":{\"id\":\"2610\"}},\"id\":\"2609\",\"type\":\"LinearAxis\"},{\"attributes\":{\"line_alpha\":0.1,\"line_color\":\"#30a2da\",\"line_width\":2,\"x\":{\"field\":\"State Code\"},\"y\":{\"field\":\"2015 - 2016\"}},\"id\":\"2661\",\"type\":\"Line\"},{\"attributes\":{},\"id\":\"2630\",\"type\":\"AllLabels\"},{\"attributes\":{\"source\":{\"id\":\"2657\"}},\"id\":\"2664\",\"type\":\"CDSView\"},{\"attributes\":{\"line_alpha\":0.2,\"line_color\":\"#30a2da\",\"line_width\":2,\"x\":{\"field\":\"State Code\"},\"y\":{\"field\":\"2015 - 2016\"}},\"id\":\"2662\",\"type\":\"Line\"},{\"attributes\":{},\"id\":\"2613\",\"type\":\"SaveTool\"},{\"attributes\":{},\"id\":\"2614\",\"type\":\"PanTool\"},{\"attributes\":{\"format\":\"%.0f\"},\"id\":\"2628\",\"type\":\"PrintfTickFormatter\"},{\"attributes\":{},\"id\":\"2696\",\"type\":\"UnionRenderers\"},{\"attributes\":{\"data_source\":{\"id\":\"2678\"},\"glyph\":{\"id\":\"2681\"},\"hover_glyph\":null,\"muted_glyph\":{\"id\":\"2683\"},\"nonselection_glyph\":{\"id\":\"2682\"},\"selection_glyph\":{\"id\":\"2700\"},\"view\":{\"id\":\"2685\"}},\"id\":\"2684\",\"type\":\"GlyphRenderer\"},{\"attributes\":{},\"id\":\"2615\",\"type\":\"WheelZoomTool\"},{\"attributes\":{},\"id\":\"2658\",\"type\":\"Selection\"},{\"attributes\":{\"callback\":null,\"renderers\":[{\"id\":\"2663\"}],\"tags\":[\"hv_created\"],\"tooltips\":[[\"State Code\",\"@{State_Code}\"],[\"2015 - 2016\",\"@{A_2015_hyphen_minus_2016}\"]]},\"id\":\"2595\",\"type\":\"HoverTool\"},{\"attributes\":{},\"id\":\"2651\",\"type\":\"UnionRenderers\"},{\"attributes\":{\"click_policy\":\"mute\",\"items\":[{\"id\":\"2655\"},{\"id\":\"2676\"},{\"id\":\"2699\"}],\"location\":[0,0]},\"id\":\"2654\",\"type\":\"Legend\"},{\"attributes\":{\"margin\":[5,5,5,5],\"name\":\"HSpacer04248\",\"sizing_mode\":\"stretch_width\"},\"id\":\"2818\",\"type\":\"Spacer\"},{\"attributes\":{\"fill_alpha\":{\"value\":0.1},\"fill_color\":{\"value\":\"#30a2da\"},\"line_alpha\":{\"value\":0.1},\"top\":{\"field\":\"Total_Average_Loan_Amount\"},\"width\":{\"value\":0.8},\"x\":{\"field\":\"State_Code\"}},\"id\":\"2641\",\"type\":\"VBar\"},{\"attributes\":{\"callback\":null,\"renderers\":[{\"id\":\"2684\"}],\"tags\":[\"hv_created\"],\"tooltips\":[[\"State Code\",\"@{State_Code}\"],[\"2010 - 2014\",\"@{A_2010_hyphen_minus_2014}\"]]},\"id\":\"2596\",\"type\":\"HoverTool\"},{\"attributes\":{\"line_color\":\"#30a2da\",\"line_width\":2,\"x\":{\"field\":\"State Code\"},\"y\":{\"field\":\"2015 - 2016\"}},\"id\":\"2660\",\"type\":\"Line\"},{\"attributes\":{\"line_alpha\":0.1,\"line_color\":\"#fc4f30\",\"line_width\":2,\"x\":{\"field\":\"State Code\"},\"y\":{\"field\":\"2010 - 2014\"}},\"id\":\"2682\",\"type\":\"Line\"},{\"attributes\":{\"axis_label\":\"State Code\",\"formatter\":{\"id\":\"2631\"},\"major_label_orientation\":1.5707963267948966,\"major_label_policy\":{\"id\":\"2630\"},\"ticker\":{\"id\":\"2607\"}},\"id\":\"2606\",\"type\":\"CategoricalAxis\"},{\"attributes\":{\"text\":\"Loan Amount across years\",\"text_color\":\"black\",\"text_font_size\":\"12pt\"},\"id\":\"2598\",\"type\":\"Title\"},{\"attributes\":{\"callback\":null,\"renderers\":[{\"id\":\"2643\"}],\"tags\":[\"hv_created\"],\"tooltips\":[[\"State Code\",\"@{State_Code}\"],[\"Total Average Loan Amount\",\"@{Total_Average_Loan_Amount}\"]]},\"id\":\"2594\",\"type\":\"HoverTool\"},{\"attributes\":{\"overlay\":{\"id\":\"2618\"}},\"id\":\"2616\",\"type\":\"BoxZoomTool\"},{\"attributes\":{\"fill_alpha\":{\"value\":0.2},\"fill_color\":{\"value\":\"#30a2da\"},\"line_alpha\":{\"value\":0.2},\"top\":{\"field\":\"Total_Average_Loan_Amount\"},\"width\":{\"value\":0.8},\"x\":{\"field\":\"State_Code\"}},\"id\":\"2642\",\"type\":\"VBar\"},{\"attributes\":{},\"id\":\"2617\",\"type\":\"ResetTool\"},{\"attributes\":{\"fill_color\":{\"value\":\"#30a2da\"},\"top\":{\"field\":\"Total_Average_Loan_Amount\"},\"width\":{\"value\":0.8},\"x\":{\"field\":\"State_Code\"}},\"id\":\"2640\",\"type\":\"VBar\"},{\"attributes\":{\"line_alpha\":0.2,\"line_color\":\"#fc4f30\",\"line_width\":2,\"x\":{\"field\":\"State Code\"},\"y\":{\"field\":\"2010 - 2014\"}},\"id\":\"2683\",\"type\":\"Line\"},{\"attributes\":{\"label\":{\"value\":\"2015 - 2016\"},\"renderers\":[{\"id\":\"2663\"}]},\"id\":\"2676\",\"type\":\"LegendItem\"},{\"attributes\":{\"label\":{\"value\":\"2010 - 2014\"},\"renderers\":[{\"id\":\"2684\"}]},\"id\":\"2699\",\"type\":\"LegendItem\"},{\"attributes\":{},\"id\":\"2610\",\"type\":\"BasicTicker\"},{\"attributes\":{\"below\":[{\"id\":\"2606\"}],\"center\":[{\"id\":\"2608\"},{\"id\":\"2612\"}],\"height\":300,\"left\":[{\"id\":\"2609\"}],\"margin\":[5,5,5,5],\"min_border_bottom\":10,\"min_border_left\":10,\"min_border_right\":10,\"min_border_top\":10,\"renderers\":[{\"id\":\"2643\"},{\"id\":\"2663\"},{\"id\":\"2684\"}],\"right\":[{\"id\":\"2654\"}],\"sizing_mode\":\"fixed\",\"title\":{\"id\":\"2598\"},\"toolbar\":{\"id\":\"2619\"},\"width\":1000,\"x_range\":{\"id\":\"2592\"},\"x_scale\":{\"id\":\"2602\"},\"y_range\":{\"id\":\"2593\"},\"y_scale\":{\"id\":\"2604\"}},\"id\":\"2597\",\"subtype\":\"Figure\",\"type\":\"Plot\"},{\"attributes\":{},\"id\":\"2604\",\"type\":\"LinearScale\"},{\"attributes\":{\"margin\":[5,5,5,5],\"name\":\"HSpacer04247\",\"sizing_mode\":\"stretch_width\"},\"id\":\"2591\",\"type\":\"Spacer\"},{\"attributes\":{\"source\":{\"id\":\"2637\"}},\"id\":\"2644\",\"type\":\"CDSView\"},{\"attributes\":{\"bottom\":{\"value\":0},\"fill_alpha\":{\"value\":1.0},\"fill_color\":{\"value\":\"#30a2da\"},\"hatch_alpha\":{\"value\":1.0},\"hatch_color\":{\"value\":\"black\"},\"hatch_scale\":{\"value\":12.0},\"hatch_weight\":{\"value\":1.0},\"line_alpha\":{\"value\":1.0},\"line_cap\":{\"value\":\"butt\"},\"line_color\":{\"value\":\"black\"},\"line_dash\":{\"value\":[]},\"line_dash_offset\":{\"value\":0},\"line_join\":{\"value\":\"bevel\"},\"line_width\":{\"value\":1},\"top\":{\"field\":\"Total_Average_Loan_Amount\"},\"width\":{\"value\":0.8},\"x\":{\"field\":\"State_Code\"}},\"id\":\"2656\",\"type\":\"VBar\"},{\"attributes\":{},\"id\":\"2679\",\"type\":\"Selection\"},{\"attributes\":{\"active_multi\":null,\"tools\":[{\"id\":\"2594\"},{\"id\":\"2595\"},{\"id\":\"2596\"},{\"id\":\"2613\"},{\"id\":\"2614\"},{\"id\":\"2615\"},{\"id\":\"2616\"},{\"id\":\"2617\"}]},\"id\":\"2619\",\"type\":\"Toolbar\"},{\"attributes\":{\"data\":{\"2010 - 2014\":{\"__ndarray__\":\"AAAAAEDF2kAAAAAAULzzQPYoXI+yuvlAAAAAACA8/EDXo3A9eh79QFK4HoUDQgBBAAAAAEhJAEEfhetRii8BQR+F61HK1gNB7FG4HpsKBUEAAAAA8M0HQexRuB6nnA5BehSuRytREEEAAAAA0JkQQRSuR+HbvxBBHoXrUQ+UEUEAAAAA4tMRQT4K16PIeRJB4XoUril1FUFnZmZmhZMVQSpcj8K/RxhBXI/C9SBjGEHhehSuMNkYQR+F61GBGxpBKVyPwqpwHEFcj8J1LjYhQfYoXA9pNSJBexSuRxFNIkHsUbiebfYiQRWuR+GuyyNBuB6FazdGJEFwPQrXCiclQVK4HoWcQCVBwvUoXDaVJUEAAACAShInQaRwPQrxaCdBZWZmZtumKEEAAAAAmD0pQSCF61Gd3ilB7FG4HsPlKUEoXI9C7tErQa1H4bqQkjFBZ2ZmZq+ZMUFxPQoXCE8yQWdmZiaJWDJBC9ej8HJLNEE+CtfjgGY0QRWuR2FODzZBZmZmZoAGN0GQwvWoFhA3QRWuRyGWpD1BAAAAwKYZP0HXo3CdZvxFQYXrUThmdUhB\",\"dtype\":\"float64\",\"order\":\"little\",\"shape\":[54]},\"A_2010_hyphen_minus_2014\":{\"__ndarray__\":\"AAAAAEDF2kAAAAAAULzzQPYoXI+yuvlAAAAAACA8/EDXo3A9eh79QFK4HoUDQgBBAAAAAEhJAEEfhetRii8BQR+F61HK1gNB7FG4HpsKBUEAAAAA8M0HQexRuB6nnA5BehSuRytREEEAAAAA0JkQQRSuR+HbvxBBHoXrUQ+UEUEAAAAA4tMRQT4K16PIeRJB4XoUril1FUFnZmZmhZMVQSpcj8K/RxhBXI/C9SBjGEHhehSuMNkYQR+F61GBGxpBKVyPwqpwHEFcj8J1LjYhQfYoXA9pNSJBexSuRxFNIkHsUbiebfYiQRWuR+GuyyNBuB6FazdGJEFwPQrXCiclQVK4HoWcQCVBwvUoXDaVJUEAAACAShInQaRwPQrxaCdBZWZmZtumKEEAAAAAmD0pQSCF61Gd3ilB7FG4HsPlKUEoXI9C7tErQa1H4bqQkjFBZ2ZmZq+ZMUFxPQoXCE8yQWdmZiaJWDJBC9ej8HJLNEE+CtfjgGY0QRWuR2FODzZBZmZmZoAGN0GQwvWoFhA3QRWuRyGWpD1BAAAAwKYZP0HXo3CdZvxFQYXrUThmdUhB\",\"dtype\":\"float64\",\"order\":\"little\",\"shape\":[54]},\"State Code\":[\"MP\",\"PR\",\"SD\",\"VI\",\"ND\",\"VT\",\"WY\",\"MT\",\"DE\",\"AK\",\"GU\",\"ID\",\"NE\",\"WV\",\"ME\",\"NH\",\"MS\",\"NM\",\"AR\",\"IA\",\"NV\",\"RI\",\"KS\",\"HI\",\"OK\",\"MO\",\"KY\",\"AZ\",\"MN\",\"AL\",\"UT\",\"LA\",\"CT\",\"CO\",\"SC\",\"OR\",\"IN\",\"WI\",\"MD\",\"IL\",\"TN\",\"GA\",\"MI\",\"VA\",\"NY\",\"NJ\",\"MA\",\"OH\",\"NC\",\"WA\",\"FL\",\"PA\",\"CA\",\"TX\"],\"State_Code\":[\"MP\",\"PR\",\"SD\",\"VI\",\"ND\",\"VT\",\"WY\",\"MT\",\"DE\",\"AK\",\"GU\",\"ID\",\"NE\",\"WV\",\"ME\",\"NH\",\"MS\",\"NM\",\"AR\",\"IA\",\"NV\",\"RI\",\"KS\",\"HI\",\"OK\",\"MO\",\"KY\",\"AZ\",\"MN\",\"AL\",\"UT\",\"LA\",\"CT\",\"CO\",\"SC\",\"OR\",\"IN\",\"WI\",\"MD\",\"IL\",\"TN\",\"GA\",\"MI\",\"VA\",\"NY\",\"NJ\",\"MA\",\"OH\",\"NC\",\"WA\",\"FL\",\"PA\",\"CA\",\"TX\"]},\"selected\":{\"id\":\"2679\"},\"selection_policy\":{\"id\":\"2696\"}},\"id\":\"2678\",\"type\":\"ColumnDataSource\"},{\"attributes\":{\"end\":3526420.084,\"reset_end\":3526420.084,\"reset_start\":0.0,\"tags\":[[[\"Total Average Loan Amount\",\"Total Average Loan Amount\",null]]]},\"id\":\"2593\",\"type\":\"Range1d\"},{\"attributes\":{\"data\":{\"2015 - 2016\":{\"__ndarray__\":\"AAAAAAAAAAAAAAAAUPD0QAAAAABgcftAw/UoXPMY/EDhehSuE2L+QFyPwvVOhgBBCtejcB8CAkEAAAAACB8EQdejcD3MJARBuB6F63skB0EAAAAASBwLQXA9Cteh7A9BwvUoXBn8D0EAAAAANF8QQSlcj8IRhhBBAAAAAGQhEUE+CtejIWwTQXsUrkePoRNBzczMzNaxFUEK16NwlBsWQdejcD2v0hlBwvUoXGyYGkEUrkfhyLwbQeJ6FK5ztR5BmZmZmejvHkE9CtejM/oeQfYoXA+1hSJBuB6Fa8CYIkGPwvWor6skQUfhepTl7yRBexSux6iuJUHsUbieBhMmQYXrUThBLiZBSOF6FJwtJ0GF61E4vrwnQQAAAACoOihBPgrXoy6qKEE9CtcjGfooQTQzMzMDyCpBmZmZGXbBLkFwPQpXcMwuQZDC9ahaVS9BNDMzM0B2L0GkcD2KaAUyQcL1KBwDeDJB9ihcD2bZMkGG61E4USY0Qc3MzMz7STdBXI/C9eiLOEGjcD1KxHU5QQAAAMDJvTxBZmZmhqCgQEFmZmamd19GQTMzMzOx9EZB\",\"dtype\":\"float64\",\"order\":\"little\",\"shape\":[54]},\"A_2015_hyphen_minus_2016\":{\"__ndarray__\":\"AAAAAAAAAAAAAAAAUPD0QAAAAABgcftAw/UoXPMY/EDhehSuE2L+QFyPwvVOhgBBCtejcB8CAkEAAAAACB8EQdejcD3MJARBuB6F63skB0EAAAAASBwLQXA9Cteh7A9BwvUoXBn8D0EAAAAANF8QQSlcj8IRhhBBAAAAAGQhEUE+CtejIWwTQXsUrkePoRNBzczMzNaxFUEK16NwlBsWQdejcD2v0hlBwvUoXGyYGkEUrkfhyLwbQeJ6FK5ztR5BmZmZmejvHkE9CtejM/oeQfYoXA+1hSJBuB6Fa8CYIkGPwvWor6skQUfhepTl7yRBexSux6iuJUHsUbieBhMmQYXrUThBLiZBSOF6FJwtJ0GF61E4vrwnQQAAAACoOihBPgrXoy6qKEE9CtcjGfooQTQzMzMDyCpBmZmZGXbBLkFwPQpXcMwuQZDC9ahaVS9BNDMzM0B2L0GkcD2KaAUyQcL1KBwDeDJB9ihcD2bZMkGG61E4USY0Qc3MzMz7STdBXI/C9eiLOEGjcD1KxHU5QQAAAMDJvTxBZmZmhqCgQEFmZmamd19GQTMzMzOx9EZB\",\"dtype\":\"float64\",\"order\":\"little\",\"shape\":[54]},\"State Code\":[\"MP\",\"PR\",\"VI\",\"SD\",\"ND\",\"VT\",\"MT\",\"WY\",\"DE\",\"AK\",\"GU\",\"ID\",\"NE\",\"WV\",\"ME\",\"NH\",\"NM\",\"MS\",\"AR\",\"IA\",\"KS\",\"RI\",\"HI\",\"NV\",\"OK\",\"AZ\",\"KY\",\"MO\",\"MN\",\"AL\",\"CT\",\"UT\",\"LA\",\"IL\",\"CO\",\"WI\",\"SC\",\"OR\",\"IN\",\"TN\",\"MD\",\"MA\",\"GA\",\"NY\",\"NJ\",\"MI\",\"VA\",\"WA\",\"NC\",\"OH\",\"PA\",\"FL\",\"TX\",\"CA\"],\"State_Code\":[\"MP\",\"PR\",\"VI\",\"SD\",\"ND\",\"VT\",\"MT\",\"WY\",\"DE\",\"AK\",\"GU\",\"ID\",\"NE\",\"WV\",\"ME\",\"NH\",\"NM\",\"MS\",\"AR\",\"IA\",\"KS\",\"RI\",\"HI\",\"NV\",\"OK\",\"AZ\",\"KY\",\"MO\",\"MN\",\"AL\",\"CT\",\"UT\",\"LA\",\"IL\",\"CO\",\"WI\",\"SC\",\"OR\",\"IN\",\"TN\",\"MD\",\"MA\",\"GA\",\"NY\",\"NJ\",\"MI\",\"VA\",\"WA\",\"NC\",\"OH\",\"PA\",\"FL\",\"TX\",\"CA\"]},\"selected\":{\"id\":\"2658\"},\"selection_policy\":{\"id\":\"2673\"}},\"id\":\"2657\",\"type\":\"ColumnDataSource\"},{\"attributes\":{\"children\":[{\"id\":\"2591\"},{\"id\":\"2597\"},{\"id\":\"2818\"}],\"margin\":[0,0,0,0],\"name\":\"Row04243\",\"tags\":[\"embedded\"]},\"id\":\"2590\",\"type\":\"Row\"},{\"attributes\":{},\"id\":\"2638\",\"type\":\"Selection\"},{\"attributes\":{\"axis\":{\"id\":\"2606\"},\"grid_line_color\":null,\"ticker\":null},\"id\":\"2608\",\"type\":\"Grid\"},{\"attributes\":{\"factors\":[\"MP\",\"PR\",\"ND\",\"SD\",\"VI\",\"WY\",\"VT\",\"MT\",\"DE\",\"AK\",\"GU\",\"MS\",\"WV\",\"ID\",\"ME\",\"NM\",\"NE\",\"NH\",\"AR\",\"IA\",\"KS\",\"HI\",\"RI\",\"OK\",\"NV\",\"AL\",\"LA\",\"KY\",\"SC\",\"CT\",\"MO\",\"CO\",\"AZ\",\"UT\",\"OR\",\"TN\",\"IN\",\"WI\",\"MD\",\"MN\",\"VA\",\"IL\",\"NY\",\"GA\",\"MA\",\"MI\",\"NC\",\"NJ\",\"WA\",\"OH\",\"FL\",\"PA\",\"TX\",\"CA\"],\"tags\":[[[\"State Code\",\"State Code\",null]]]},\"id\":\"2592\",\"type\":\"FactorRange\"},{\"attributes\":{},\"id\":\"2607\",\"type\":\"CategoricalTicker\"}],\"root_ids\":[\"2590\"]},\"title\":\"Bokeh Application\",\"version\":\"2.3.2\"}};\n",
       "    var render_items = [{\"docid\":\"cbaf8347-b1fc-49f1-b698-6fda9b6bbd23\",\"root_ids\":[\"2590\"],\"roots\":{\"2590\":\"0a5376ac-5b4f-4a42-befa-5f6bbf4745f6\"}}];\n",
       "    root.Bokeh.embed.embed_items_notebook(docs_json, render_items);\n",
       "  }\n",
       "  if (root.Bokeh !== undefined && root.Bokeh.Panel !== undefined) {\n",
       "    embed_document(root);\n",
       "  } else {\n",
       "    var attempts = 0;\n",
       "    var timer = setInterval(function(root) {\n",
       "      if (root.Bokeh !== undefined && root.Bokeh.Panel !== undefined) {\n",
       "        clearInterval(timer);\n",
       "        embed_document(root);\n",
       "      } else if (document.readyState == \"complete\") {\n",
       "        attempts++;\n",
       "        if (attempts > 100) {\n",
       "          clearInterval(timer);\n",
       "          console.log(\"Bokeh: ERROR: Unable to run BokehJS code because BokehJS library is missing\");\n",
       "        }\n",
       "      }\n",
       "    }, 10, root)\n",
       "  }\n",
       "})(window);</script>"
      ],
      "text/plain": [
       ":Overlay\n",
       "   .Bars.A_2019_Total_Average_Amount :Bars   [State Code]   (Total Average Loan Amount)\n",
       "   .Curve.A_2015_hyphen_minus_2016   :Curve   [State Code]   (2015 - 2016)\n",
       "   .Curve.A_2010_hyphen_minus_2014   :Curve   [State Code]   (2010 - 2014)"
      ]
     },
     "execution_count": 10,
     "metadata": {
      "application/vnd.holoviews_exec.v0+json": {
       "id": "2590"
      }
     },
     "output_type": "execute_result"
    }
   ],
   "source": [
    "# Use opts function to customize title and width\n",
    "(plot_state_avgs * plot_2015_2016 * plot_2010_2014).opts(width=1000, title='Loan Amount across years')"
   ]
  },
  {
   "cell_type": "markdown",
   "metadata": {},
   "source": [
    "### Use the bgcolor option to change background color"
   ]
  },
  {
   "cell_type": "code",
   "execution_count": 11,
   "metadata": {},
   "outputs": [
    {
     "data": {},
     "metadata": {},
     "output_type": "display_data"
    },
    {
     "data": {
      "application/vnd.holoviews_exec.v0+json": "",
      "text/html": [
       "<div id='2885'>\n",
       "\n",
       "\n",
       "\n",
       "\n",
       "\n",
       "  <div class=\"bk-root\" id=\"3a5eb7cb-0742-42c7-a55c-fd7172a92561\" data-root-id=\"2885\"></div>\n",
       "</div>\n",
       "<script type=\"application/javascript\">(function(root) {\n",
       "  function embed_document(root) {\n",
       "    var docs_json = {\"1bc21f67-eaee-4dad-90c0-8cffdeffd826\":{\"defs\":[],\"roots\":{\"references\":[{\"attributes\":{\"line_alpha\":0.1,\"line_color\":\"#30a2da\",\"line_width\":2,\"x\":{\"field\":\"State Code\"},\"y\":{\"field\":\"2015 - 2016\"}},\"id\":\"2956\",\"type\":\"Line\"},{\"attributes\":{},\"id\":\"2926\",\"type\":\"CategoricalTickFormatter\"},{\"attributes\":{\"line_color\":\"#30a2da\",\"line_width\":2,\"x\":{\"field\":\"State Code\"},\"y\":{\"field\":\"2015 - 2016\"}},\"id\":\"2955\",\"type\":\"Line\"},{\"attributes\":{},\"id\":\"2905\",\"type\":\"BasicTicker\"},{\"attributes\":{\"axis\":{\"id\":\"2904\"},\"dimension\":1,\"grid_line_color\":null,\"ticker\":null},\"id\":\"2907\",\"type\":\"Grid\"},{\"attributes\":{\"bottom\":{\"value\":0},\"fill_alpha\":{\"value\":1.0},\"fill_color\":{\"value\":\"#30a2da\"},\"hatch_alpha\":{\"value\":1.0},\"hatch_color\":{\"value\":\"black\"},\"hatch_scale\":{\"value\":12.0},\"hatch_weight\":{\"value\":1.0},\"line_alpha\":{\"value\":1.0},\"line_cap\":{\"value\":\"butt\"},\"line_color\":{\"value\":\"black\"},\"line_dash\":{\"value\":[]},\"line_dash_offset\":{\"value\":0},\"line_join\":{\"value\":\"bevel\"},\"line_width\":{\"value\":1},\"top\":{\"field\":\"Total_Average_Loan_Amount\"},\"width\":{\"value\":0.8},\"x\":{\"field\":\"State_Code\"}},\"id\":\"2951\",\"type\":\"VBar\"},{\"attributes\":{},\"id\":\"2946\",\"type\":\"UnionRenderers\"},{\"attributes\":{},\"id\":\"2933\",\"type\":\"Selection\"},{\"attributes\":{\"background_fill_color\":\"lightgray\",\"below\":[{\"id\":\"2901\"}],\"center\":[{\"id\":\"2903\"},{\"id\":\"2907\"}],\"height\":300,\"left\":[{\"id\":\"2904\"}],\"margin\":[5,5,5,5],\"min_border_bottom\":10,\"min_border_left\":10,\"min_border_right\":10,\"min_border_top\":10,\"renderers\":[{\"id\":\"2938\"},{\"id\":\"2958\"},{\"id\":\"2979\"}],\"right\":[{\"id\":\"2949\"}],\"sizing_mode\":\"fixed\",\"title\":{\"id\":\"2893\"},\"toolbar\":{\"id\":\"2914\"},\"width\":1000,\"x_range\":{\"id\":\"2887\"},\"x_scale\":{\"id\":\"2897\"},\"y_range\":{\"id\":\"2888\"},\"y_scale\":{\"id\":\"2899\"}},\"id\":\"2892\",\"subtype\":\"Figure\",\"type\":\"Plot\"},{\"attributes\":{\"fill_color\":{\"value\":\"#30a2da\"},\"top\":{\"field\":\"Total_Average_Loan_Amount\"},\"width\":{\"value\":0.8},\"x\":{\"field\":\"State_Code\"}},\"id\":\"2935\",\"type\":\"VBar\"},{\"attributes\":{\"line_color\":\"#fc4f30\",\"line_width\":2,\"x\":{\"field\":\"State Code\"},\"y\":{\"field\":\"2010 - 2014\"}},\"id\":\"2995\",\"type\":\"Line\"},{\"attributes\":{\"callback\":null,\"renderers\":[{\"id\":\"2938\"}],\"tags\":[\"hv_created\"],\"tooltips\":[[\"State Code\",\"@{State_Code}\"],[\"Total Average Loan Amount\",\"@{Total_Average_Loan_Amount}\"]]},\"id\":\"2889\",\"type\":\"HoverTool\"},{\"attributes\":{\"line_color\":\"#30a2da\",\"line_width\":2,\"x\":{\"field\":\"State Code\"},\"y\":{\"field\":\"2015 - 2016\"}},\"id\":\"2972\",\"type\":\"Line\"},{\"attributes\":{\"line_color\":\"#fc4f30\",\"line_width\":2,\"x\":{\"field\":\"State Code\"},\"y\":{\"field\":\"2010 - 2014\"}},\"id\":\"2976\",\"type\":\"Line\"},{\"attributes\":{},\"id\":\"2929\",\"type\":\"AllLabels\"},{\"attributes\":{},\"id\":\"2968\",\"type\":\"UnionRenderers\"},{\"attributes\":{\"callback\":null,\"renderers\":[{\"id\":\"2958\"}],\"tags\":[\"hv_created\"],\"tooltips\":[[\"State Code\",\"@{State_Code}\"],[\"2015 - 2016\",\"@{A_2015_hyphen_minus_2016}\"]]},\"id\":\"2890\",\"type\":\"HoverTool\"},{\"attributes\":{\"bottom_units\":\"screen\",\"fill_alpha\":0.5,\"fill_color\":\"lightgrey\",\"left_units\":\"screen\",\"level\":\"overlay\",\"line_alpha\":1.0,\"line_color\":\"black\",\"line_dash\":[4,4],\"line_width\":2,\"right_units\":\"screen\",\"syncable\":false,\"top_units\":\"screen\"},\"id\":\"2913\",\"type\":\"BoxAnnotation\"},{\"attributes\":{\"source\":{\"id\":\"2952\"}},\"id\":\"2959\",\"type\":\"CDSView\"},{\"attributes\":{\"line_alpha\":0.2,\"line_color\":\"#fc4f30\",\"line_width\":2,\"x\":{\"field\":\"State Code\"},\"y\":{\"field\":\"2010 - 2014\"}},\"id\":\"2978\",\"type\":\"Line\"},{\"attributes\":{\"callback\":null,\"renderers\":[{\"id\":\"2979\"}],\"tags\":[\"hv_created\"],\"tooltips\":[[\"State Code\",\"@{State_Code}\"],[\"2010 - 2014\",\"@{A_2010_hyphen_minus_2014}\"]]},\"id\":\"2891\",\"type\":\"HoverTool\"},{\"attributes\":{\"fill_alpha\":{\"value\":0.1},\"fill_color\":{\"value\":\"#30a2da\"},\"line_alpha\":{\"value\":0.1},\"top\":{\"field\":\"Total_Average_Loan_Amount\"},\"width\":{\"value\":0.8},\"x\":{\"field\":\"State_Code\"}},\"id\":\"2936\",\"type\":\"VBar\"},{\"attributes\":{\"label\":{\"value\":\"2019 Total Average Amount\"},\"renderers\":[{\"id\":\"2938\"}]},\"id\":\"2950\",\"type\":\"LegendItem\"},{\"attributes\":{},\"id\":\"2953\",\"type\":\"Selection\"},{\"attributes\":{\"text\":\"Loan Amount across years\",\"text_color\":\"black\",\"text_font_size\":\"12pt\"},\"id\":\"2893\",\"type\":\"Title\"},{\"attributes\":{\"data_source\":{\"id\":\"2952\"},\"glyph\":{\"id\":\"2955\"},\"hover_glyph\":null,\"muted_glyph\":{\"id\":\"2957\"},\"nonselection_glyph\":{\"id\":\"2956\"},\"selection_glyph\":{\"id\":\"2972\"},\"view\":{\"id\":\"2959\"}},\"id\":\"2958\",\"type\":\"GlyphRenderer\"},{\"attributes\":{\"active_multi\":null,\"tools\":[{\"id\":\"2889\"},{\"id\":\"2890\"},{\"id\":\"2891\"},{\"id\":\"2908\"},{\"id\":\"2909\"},{\"id\":\"2910\"},{\"id\":\"2911\"},{\"id\":\"2912\"}]},\"id\":\"2914\",\"type\":\"Toolbar\"},{\"attributes\":{},\"id\":\"2908\",\"type\":\"SaveTool\"},{\"attributes\":{\"data\":{\"State_Code\":[\"MP\",\"PR\",\"ND\",\"SD\",\"VI\",\"WY\",\"VT\",\"MT\",\"DE\",\"AK\",\"GU\",\"MS\",\"WV\",\"ID\",\"ME\",\"NM\",\"NE\",\"NH\",\"AR\",\"IA\",\"KS\",\"HI\",\"RI\",\"OK\",\"NV\",\"AL\",\"LA\",\"KY\",\"SC\",\"CT\",\"MO\",\"CO\",\"AZ\",\"UT\",\"OR\",\"TN\",\"IN\",\"WI\",\"MD\",\"MN\",\"VA\",\"IL\",\"NY\",\"GA\",\"MA\",\"MI\",\"NC\",\"NJ\",\"WA\",\"OH\",\"FL\",\"PA\",\"TX\",\"CA\"],\"Total_Average_Loan_Amount\":{\"__ndarray__\":\"AAAAAAAd5UAAAAAAwFTsQB+F61Hs6PJArkfhelhS9UAAAAAAUEz3QAAAAAAwJPlA7FG4HmFD+UA9CtejDLn5QFK4HoX7dABB7FG4HlsqAkEAAAAAaEMGQa5H4Xr2bQdBAAAAAAi+CEGamZmZNUkJQRSuR+FaWAlBwvUoXLdjC0HD9Shc8eQLQcL1KFw/PQ5BSOF6FLEQEEEfhetRDdwSQRSuR+E0thNBrkfhem+WFEGQwvUoPlcVQWZmZmby+RVB7FG4HoasF0HrUbgeuo0aQeF6FK5i2BxBexSuR6tbHUEzMzMzaUggQR+F61HQZiBBmZmZGceBIUH2KFwP7PkhQRWuR+GvPCJBkML1KOZQIkG4HoVrQdYiQfYoXI9MiSRBwvUoXOn3JEEAAAAAUF8lQShcj0JNKyhBw/Uo3BUSKUFI4XqUXjQpQVS4HgX9tylB4noULhp5MEHC9SjcrLUwQSlcj8J1EzFBXI/CtTRDMUGamZnZk9ExQRSuR6EWtzJBkML1KE+jM0GjcD3K+6E1QfYoXE887TdBXI/CdS94OUFPuB5FM4xDQc7MzOzKZ0VB\",\"dtype\":\"float64\",\"order\":\"little\",\"shape\":[54]}},\"selected\":{\"id\":\"2933\"},\"selection_policy\":{\"id\":\"2946\"}},\"id\":\"2932\",\"type\":\"ColumnDataSource\"},{\"attributes\":{},\"id\":\"2909\",\"type\":\"PanTool\"},{\"attributes\":{},\"id\":\"2910\",\"type\":\"WheelZoomTool\"},{\"attributes\":{\"data_source\":{\"id\":\"2973\"},\"glyph\":{\"id\":\"2976\"},\"hover_glyph\":null,\"muted_glyph\":{\"id\":\"2978\"},\"nonselection_glyph\":{\"id\":\"2977\"},\"selection_glyph\":{\"id\":\"2995\"},\"view\":{\"id\":\"2980\"}},\"id\":\"2979\",\"type\":\"GlyphRenderer\"},{\"attributes\":{\"axis_label\":\"State Code\",\"formatter\":{\"id\":\"2926\"},\"major_label_orientation\":1.5707963267948966,\"major_label_policy\":{\"id\":\"2925\"},\"ticker\":{\"id\":\"2902\"}},\"id\":\"2901\",\"type\":\"CategoricalAxis\"},{\"attributes\":{},\"id\":\"2974\",\"type\":\"Selection\"},{\"attributes\":{\"children\":[{\"id\":\"2886\"},{\"id\":\"2892\"},{\"id\":\"3113\"}],\"margin\":[0,0,0,0],\"name\":\"Row04898\",\"tags\":[\"embedded\"]},\"id\":\"2885\",\"type\":\"Row\"},{\"attributes\":{\"label\":{\"value\":\"2010 - 2014\"},\"renderers\":[{\"id\":\"2979\"}]},\"id\":\"2994\",\"type\":\"LegendItem\"},{\"attributes\":{},\"id\":\"2897\",\"type\":\"CategoricalScale\"},{\"attributes\":{\"overlay\":{\"id\":\"2913\"}},\"id\":\"2911\",\"type\":\"BoxZoomTool\"},{\"attributes\":{\"source\":{\"id\":\"2973\"}},\"id\":\"2980\",\"type\":\"CDSView\"},{\"attributes\":{},\"id\":\"2912\",\"type\":\"ResetTool\"},{\"attributes\":{\"factors\":[\"MP\",\"PR\",\"ND\",\"SD\",\"VI\",\"WY\",\"VT\",\"MT\",\"DE\",\"AK\",\"GU\",\"MS\",\"WV\",\"ID\",\"ME\",\"NM\",\"NE\",\"NH\",\"AR\",\"IA\",\"KS\",\"HI\",\"RI\",\"OK\",\"NV\",\"AL\",\"LA\",\"KY\",\"SC\",\"CT\",\"MO\",\"CO\",\"AZ\",\"UT\",\"OR\",\"TN\",\"IN\",\"WI\",\"MD\",\"MN\",\"VA\",\"IL\",\"NY\",\"GA\",\"MA\",\"MI\",\"NC\",\"NJ\",\"WA\",\"OH\",\"FL\",\"PA\",\"TX\",\"CA\"],\"tags\":[[[\"State Code\",\"State Code\",null]]]},\"id\":\"2887\",\"type\":\"FactorRange\"},{\"attributes\":{\"fill_alpha\":{\"value\":0.2},\"fill_color\":{\"value\":\"#30a2da\"},\"line_alpha\":{\"value\":0.2},\"top\":{\"field\":\"Total_Average_Loan_Amount\"},\"width\":{\"value\":0.8},\"x\":{\"field\":\"State_Code\"}},\"id\":\"2937\",\"type\":\"VBar\"},{\"attributes\":{\"margin\":[5,5,5,5],\"name\":\"HSpacer04902\",\"sizing_mode\":\"stretch_width\"},\"id\":\"2886\",\"type\":\"Spacer\"},{\"attributes\":{},\"id\":\"2925\",\"type\":\"AllLabels\"},{\"attributes\":{\"line_alpha\":0.2,\"line_color\":\"#30a2da\",\"line_width\":2,\"x\":{\"field\":\"State Code\"},\"y\":{\"field\":\"2015 - 2016\"}},\"id\":\"2957\",\"type\":\"Line\"},{\"attributes\":{\"click_policy\":\"mute\",\"items\":[{\"id\":\"2950\"},{\"id\":\"2971\"},{\"id\":\"2994\"}],\"location\":[0,0]},\"id\":\"2949\",\"type\":\"Legend\"},{\"attributes\":{\"axis\":{\"id\":\"2901\"},\"grid_line_color\":null,\"ticker\":null},\"id\":\"2903\",\"type\":\"Grid\"},{\"attributes\":{\"line_alpha\":0.1,\"line_color\":\"#fc4f30\",\"line_width\":2,\"x\":{\"field\":\"State Code\"},\"y\":{\"field\":\"2010 - 2014\"}},\"id\":\"2977\",\"type\":\"Line\"},{\"attributes\":{\"margin\":[5,5,5,5],\"name\":\"HSpacer04903\",\"sizing_mode\":\"stretch_width\"},\"id\":\"3113\",\"type\":\"Spacer\"},{\"attributes\":{},\"id\":\"2899\",\"type\":\"LinearScale\"},{\"attributes\":{\"data\":{\"2010 - 2014\":{\"__ndarray__\":\"AAAAAEDF2kAAAAAAULzzQPYoXI+yuvlAAAAAACA8/EDXo3A9eh79QFK4HoUDQgBBAAAAAEhJAEEfhetRii8BQR+F61HK1gNB7FG4HpsKBUEAAAAA8M0HQexRuB6nnA5BehSuRytREEEAAAAA0JkQQRSuR+HbvxBBHoXrUQ+UEUEAAAAA4tMRQT4K16PIeRJB4XoUril1FUFnZmZmhZMVQSpcj8K/RxhBXI/C9SBjGEHhehSuMNkYQR+F61GBGxpBKVyPwqpwHEFcj8J1LjYhQfYoXA9pNSJBexSuRxFNIkHsUbiebfYiQRWuR+GuyyNBuB6FazdGJEFwPQrXCiclQVK4HoWcQCVBwvUoXDaVJUEAAACAShInQaRwPQrxaCdBZWZmZtumKEEAAAAAmD0pQSCF61Gd3ilB7FG4HsPlKUEoXI9C7tErQa1H4bqQkjFBZ2ZmZq+ZMUFxPQoXCE8yQWdmZiaJWDJBC9ej8HJLNEE+CtfjgGY0QRWuR2FODzZBZmZmZoAGN0GQwvWoFhA3QRWuRyGWpD1BAAAAwKYZP0HXo3CdZvxFQYXrUThmdUhB\",\"dtype\":\"float64\",\"order\":\"little\",\"shape\":[54]},\"A_2010_hyphen_minus_2014\":{\"__ndarray__\":\"AAAAAEDF2kAAAAAAULzzQPYoXI+yuvlAAAAAACA8/EDXo3A9eh79QFK4HoUDQgBBAAAAAEhJAEEfhetRii8BQR+F61HK1gNB7FG4HpsKBUEAAAAA8M0HQexRuB6nnA5BehSuRytREEEAAAAA0JkQQRSuR+HbvxBBHoXrUQ+UEUEAAAAA4tMRQT4K16PIeRJB4XoUril1FUFnZmZmhZMVQSpcj8K/RxhBXI/C9SBjGEHhehSuMNkYQR+F61GBGxpBKVyPwqpwHEFcj8J1LjYhQfYoXA9pNSJBexSuRxFNIkHsUbiebfYiQRWuR+GuyyNBuB6FazdGJEFwPQrXCiclQVK4HoWcQCVBwvUoXDaVJUEAAACAShInQaRwPQrxaCdBZWZmZtumKEEAAAAAmD0pQSCF61Gd3ilB7FG4HsPlKUEoXI9C7tErQa1H4bqQkjFBZ2ZmZq+ZMUFxPQoXCE8yQWdmZiaJWDJBC9ej8HJLNEE+CtfjgGY0QRWuR2FODzZBZmZmZoAGN0GQwvWoFhA3QRWuRyGWpD1BAAAAwKYZP0HXo3CdZvxFQYXrUThmdUhB\",\"dtype\":\"float64\",\"order\":\"little\",\"shape\":[54]},\"State Code\":[\"MP\",\"PR\",\"SD\",\"VI\",\"ND\",\"VT\",\"WY\",\"MT\",\"DE\",\"AK\",\"GU\",\"ID\",\"NE\",\"WV\",\"ME\",\"NH\",\"MS\",\"NM\",\"AR\",\"IA\",\"NV\",\"RI\",\"KS\",\"HI\",\"OK\",\"MO\",\"KY\",\"AZ\",\"MN\",\"AL\",\"UT\",\"LA\",\"CT\",\"CO\",\"SC\",\"OR\",\"IN\",\"WI\",\"MD\",\"IL\",\"TN\",\"GA\",\"MI\",\"VA\",\"NY\",\"NJ\",\"MA\",\"OH\",\"NC\",\"WA\",\"FL\",\"PA\",\"CA\",\"TX\"],\"State_Code\":[\"MP\",\"PR\",\"SD\",\"VI\",\"ND\",\"VT\",\"WY\",\"MT\",\"DE\",\"AK\",\"GU\",\"ID\",\"NE\",\"WV\",\"ME\",\"NH\",\"MS\",\"NM\",\"AR\",\"IA\",\"NV\",\"RI\",\"KS\",\"HI\",\"OK\",\"MO\",\"KY\",\"AZ\",\"MN\",\"AL\",\"UT\",\"LA\",\"CT\",\"CO\",\"SC\",\"OR\",\"IN\",\"WI\",\"MD\",\"IL\",\"TN\",\"GA\",\"MI\",\"VA\",\"NY\",\"NJ\",\"MA\",\"OH\",\"NC\",\"WA\",\"FL\",\"PA\",\"CA\",\"TX\"]},\"selected\":{\"id\":\"2974\"},\"selection_policy\":{\"id\":\"2991\"}},\"id\":\"2973\",\"type\":\"ColumnDataSource\"},{\"attributes\":{},\"id\":\"2991\",\"type\":\"UnionRenderers\"},{\"attributes\":{\"source\":{\"id\":\"2932\"}},\"id\":\"2939\",\"type\":\"CDSView\"},{\"attributes\":{},\"id\":\"2902\",\"type\":\"CategoricalTicker\"},{\"attributes\":{\"data\":{\"2015 - 2016\":{\"__ndarray__\":\"AAAAAAAAAAAAAAAAUPD0QAAAAABgcftAw/UoXPMY/EDhehSuE2L+QFyPwvVOhgBBCtejcB8CAkEAAAAACB8EQdejcD3MJARBuB6F63skB0EAAAAASBwLQXA9Cteh7A9BwvUoXBn8D0EAAAAANF8QQSlcj8IRhhBBAAAAAGQhEUE+CtejIWwTQXsUrkePoRNBzczMzNaxFUEK16NwlBsWQdejcD2v0hlBwvUoXGyYGkEUrkfhyLwbQeJ6FK5ztR5BmZmZmejvHkE9CtejM/oeQfYoXA+1hSJBuB6Fa8CYIkGPwvWor6skQUfhepTl7yRBexSux6iuJUHsUbieBhMmQYXrUThBLiZBSOF6FJwtJ0GF61E4vrwnQQAAAACoOihBPgrXoy6qKEE9CtcjGfooQTQzMzMDyCpBmZmZGXbBLkFwPQpXcMwuQZDC9ahaVS9BNDMzM0B2L0GkcD2KaAUyQcL1KBwDeDJB9ihcD2bZMkGG61E4USY0Qc3MzMz7STdBXI/C9eiLOEGjcD1KxHU5QQAAAMDJvTxBZmZmhqCgQEFmZmamd19GQTMzMzOx9EZB\",\"dtype\":\"float64\",\"order\":\"little\",\"shape\":[54]},\"A_2015_hyphen_minus_2016\":{\"__ndarray__\":\"AAAAAAAAAAAAAAAAUPD0QAAAAABgcftAw/UoXPMY/EDhehSuE2L+QFyPwvVOhgBBCtejcB8CAkEAAAAACB8EQdejcD3MJARBuB6F63skB0EAAAAASBwLQXA9Cteh7A9BwvUoXBn8D0EAAAAANF8QQSlcj8IRhhBBAAAAAGQhEUE+CtejIWwTQXsUrkePoRNBzczMzNaxFUEK16NwlBsWQdejcD2v0hlBwvUoXGyYGkEUrkfhyLwbQeJ6FK5ztR5BmZmZmejvHkE9CtejM/oeQfYoXA+1hSJBuB6Fa8CYIkGPwvWor6skQUfhepTl7yRBexSux6iuJUHsUbieBhMmQYXrUThBLiZBSOF6FJwtJ0GF61E4vrwnQQAAAACoOihBPgrXoy6qKEE9CtcjGfooQTQzMzMDyCpBmZmZGXbBLkFwPQpXcMwuQZDC9ahaVS9BNDMzM0B2L0GkcD2KaAUyQcL1KBwDeDJB9ihcD2bZMkGG61E4USY0Qc3MzMz7STdBXI/C9eiLOEGjcD1KxHU5QQAAAMDJvTxBZmZmhqCgQEFmZmamd19GQTMzMzOx9EZB\",\"dtype\":\"float64\",\"order\":\"little\",\"shape\":[54]},\"State Code\":[\"MP\",\"PR\",\"VI\",\"SD\",\"ND\",\"VT\",\"MT\",\"WY\",\"DE\",\"AK\",\"GU\",\"ID\",\"NE\",\"WV\",\"ME\",\"NH\",\"NM\",\"MS\",\"AR\",\"IA\",\"KS\",\"RI\",\"HI\",\"NV\",\"OK\",\"AZ\",\"KY\",\"MO\",\"MN\",\"AL\",\"CT\",\"UT\",\"LA\",\"IL\",\"CO\",\"WI\",\"SC\",\"OR\",\"IN\",\"TN\",\"MD\",\"MA\",\"GA\",\"NY\",\"NJ\",\"MI\",\"VA\",\"WA\",\"NC\",\"OH\",\"PA\",\"FL\",\"TX\",\"CA\"],\"State_Code\":[\"MP\",\"PR\",\"VI\",\"SD\",\"ND\",\"VT\",\"MT\",\"WY\",\"DE\",\"AK\",\"GU\",\"ID\",\"NE\",\"WV\",\"ME\",\"NH\",\"NM\",\"MS\",\"AR\",\"IA\",\"KS\",\"RI\",\"HI\",\"NV\",\"OK\",\"AZ\",\"KY\",\"MO\",\"MN\",\"AL\",\"CT\",\"UT\",\"LA\",\"IL\",\"CO\",\"WI\",\"SC\",\"OR\",\"IN\",\"TN\",\"MD\",\"MA\",\"GA\",\"NY\",\"NJ\",\"MI\",\"VA\",\"WA\",\"NC\",\"OH\",\"PA\",\"FL\",\"TX\",\"CA\"]},\"selected\":{\"id\":\"2953\"},\"selection_policy\":{\"id\":\"2968\"}},\"id\":\"2952\",\"type\":\"ColumnDataSource\"},{\"attributes\":{\"data_source\":{\"id\":\"2932\"},\"glyph\":{\"id\":\"2935\"},\"hover_glyph\":null,\"muted_glyph\":{\"id\":\"2937\"},\"nonselection_glyph\":{\"id\":\"2936\"},\"selection_glyph\":{\"id\":\"2951\"},\"view\":{\"id\":\"2939\"}},\"id\":\"2938\",\"type\":\"GlyphRenderer\"},{\"attributes\":{\"label\":{\"value\":\"2015 - 2016\"},\"renderers\":[{\"id\":\"2958\"}]},\"id\":\"2971\",\"type\":\"LegendItem\"},{\"attributes\":{\"format\":\"%.0f\"},\"id\":\"2923\",\"type\":\"PrintfTickFormatter\"},{\"attributes\":{\"axis_label\":\"\",\"formatter\":{\"id\":\"2923\"},\"major_label_policy\":{\"id\":\"2929\"},\"ticker\":{\"id\":\"2905\"}},\"id\":\"2904\",\"type\":\"LinearAxis\"},{\"attributes\":{\"end\":3526420.084,\"reset_end\":3526420.084,\"reset_start\":0.0,\"tags\":[[[\"Total Average Loan Amount\",\"Total Average Loan Amount\",null]]]},\"id\":\"2888\",\"type\":\"Range1d\"}],\"root_ids\":[\"2885\"]},\"title\":\"Bokeh Application\",\"version\":\"2.3.2\"}};\n",
       "    var render_items = [{\"docid\":\"1bc21f67-eaee-4dad-90c0-8cffdeffd826\",\"root_ids\":[\"2885\"],\"roots\":{\"2885\":\"3a5eb7cb-0742-42c7-a55c-fd7172a92561\"}}];\n",
       "    root.Bokeh.embed.embed_items_notebook(docs_json, render_items);\n",
       "  }\n",
       "  if (root.Bokeh !== undefined && root.Bokeh.Panel !== undefined) {\n",
       "    embed_document(root);\n",
       "  } else {\n",
       "    var attempts = 0;\n",
       "    var timer = setInterval(function(root) {\n",
       "      if (root.Bokeh !== undefined && root.Bokeh.Panel !== undefined) {\n",
       "        clearInterval(timer);\n",
       "        embed_document(root);\n",
       "      } else if (document.readyState == \"complete\") {\n",
       "        attempts++;\n",
       "        if (attempts > 100) {\n",
       "          clearInterval(timer);\n",
       "          console.log(\"Bokeh: ERROR: Unable to run BokehJS code because BokehJS library is missing\");\n",
       "        }\n",
       "      }\n",
       "    }, 10, root)\n",
       "  }\n",
       "})(window);</script>"
      ],
      "text/plain": [
       ":Overlay\n",
       "   .Bars.A_2019_Total_Average_Amount :Bars   [State Code]   (Total Average Loan Amount)\n",
       "   .Curve.A_2015_hyphen_minus_2016   :Curve   [State Code]   (2015 - 2016)\n",
       "   .Curve.A_2010_hyphen_minus_2014   :Curve   [State Code]   (2010 - 2014)"
      ]
     },
     "execution_count": 11,
     "metadata": {
      "application/vnd.holoviews_exec.v0+json": {
       "id": "2885"
      }
     },
     "output_type": "execute_result"
    }
   ],
   "source": [
    "# Use bgcolor option to change plot background\n",
    "(plot_state_avgs * plot_2015_2016 * plot_2010_2014).opts(width=1000, title='Loan Amount across years', bgcolor='lightgray')"
   ]
  },
  {
   "cell_type": "markdown",
   "metadata": {},
   "source": [
    "### Use the hover_line_color option to change data point color when hovering"
   ]
  },
  {
   "cell_type": "code",
   "execution_count": 44,
   "metadata": {},
   "outputs": [
    {
     "data": {},
     "metadata": {},
     "output_type": "display_data"
    },
    {
     "data": {
      "application/vnd.holoviews_exec.v0+json": "",
      "text/html": [
       "<div id='5780'>\n",
       "\n",
       "\n",
       "\n",
       "\n",
       "\n",
       "  <div class=\"bk-root\" id=\"7f877960-605f-4cd6-a380-9c8fc33934ba\" data-root-id=\"5780\"></div>\n",
       "</div>\n",
       "<script type=\"application/javascript\">(function(root) {\n",
       "  function embed_document(root) {\n",
       "    var docs_json = {\"d9d8623c-b740-40d7-a639-a5f8bfbd2e24\":{\"defs\":[],\"roots\":{\"references\":[{\"attributes\":{\"data_source\":{\"id\":\"5814\"},\"glyph\":{\"id\":\"5817\"},\"hover_glyph\":{\"id\":\"5819\"},\"muted_glyph\":{\"id\":\"5820\"},\"nonselection_glyph\":{\"id\":\"5818\"},\"selection_glyph\":{\"id\":\"5823\"},\"view\":{\"id\":\"5822\"}},\"id\":\"5821\",\"type\":\"GlyphRenderer\"},{\"attributes\":{\"margin\":[5,5,5,5],\"name\":\"HSpacer12280\",\"sizing_mode\":\"stretch_width\"},\"id\":\"5851\",\"type\":\"Spacer\"},{\"attributes\":{\"fill_alpha\":{\"value\":0.2},\"fill_color\":{\"value\":\"#30a2da\"},\"line_alpha\":{\"value\":0.2},\"top\":{\"field\":\"Total_Average_Loan_Amount\"},\"width\":{\"value\":0.8},\"x\":{\"field\":\"State_Code\"}},\"id\":\"5820\",\"type\":\"VBar\"},{\"attributes\":{\"format\":\"%.0f\"},\"id\":\"5824\",\"type\":\"PrintfTickFormatter\"},{\"attributes\":{\"source\":{\"id\":\"5814\"}},\"id\":\"5822\",\"type\":\"CDSView\"},{\"attributes\":{\"text\":\"2019 Total Average Amount\",\"text_color\":\"black\",\"text_font_size\":\"12pt\"},\"id\":\"5786\",\"type\":\"Title\"},{\"attributes\":{},\"id\":\"5827\",\"type\":\"CategoricalTickFormatter\"},{\"attributes\":{\"fill_color\":{\"value\":\"#30a2da\"},\"line_color\":{\"value\":\"red\"},\"top\":{\"field\":\"Total_Average_Loan_Amount\"},\"width\":{\"value\":0.8},\"x\":{\"field\":\"State_Code\"}},\"id\":\"5819\",\"type\":\"VBar\"},{\"attributes\":{},\"id\":\"5801\",\"type\":\"SaveTool\"},{\"attributes\":{},\"id\":\"5815\",\"type\":\"Selection\"},{\"attributes\":{\"bottom\":{\"value\":0},\"fill_alpha\":{\"value\":1.0},\"fill_color\":{\"value\":\"#30a2da\"},\"hatch_alpha\":{\"value\":1.0},\"hatch_color\":{\"value\":\"black\"},\"hatch_scale\":{\"value\":12.0},\"hatch_weight\":{\"value\":1.0},\"line_alpha\":{\"value\":1.0},\"line_cap\":{\"value\":\"butt\"},\"line_color\":{\"value\":\"black\"},\"line_dash\":{\"value\":[]},\"line_dash_offset\":{\"value\":0},\"line_join\":{\"value\":\"bevel\"},\"line_width\":{\"value\":1},\"top\":{\"field\":\"Total_Average_Loan_Amount\"},\"width\":{\"value\":0.8},\"x\":{\"field\":\"State_Code\"}},\"id\":\"5823\",\"type\":\"VBar\"},{\"attributes\":{},\"id\":\"5802\",\"type\":\"PanTool\"},{\"attributes\":{\"below\":[{\"id\":\"5794\"}],\"center\":[{\"id\":\"5796\"},{\"id\":\"5800\"}],\"height\":300,\"left\":[{\"id\":\"5797\"}],\"margin\":[5,5,5,5],\"min_border_bottom\":10,\"min_border_left\":10,\"min_border_right\":10,\"min_border_top\":10,\"renderers\":[{\"id\":\"5821\"}],\"sizing_mode\":\"fixed\",\"title\":{\"id\":\"5786\"},\"toolbar\":{\"id\":\"5807\"},\"width\":700,\"x_range\":{\"id\":\"5782\"},\"x_scale\":{\"id\":\"5790\"},\"y_range\":{\"id\":\"5783\"},\"y_scale\":{\"id\":\"5792\"}},\"id\":\"5785\",\"subtype\":\"Figure\",\"type\":\"Plot\"},{\"attributes\":{},\"id\":\"5805\",\"type\":\"ResetTool\"},{\"attributes\":{\"fill_color\":{\"value\":\"#30a2da\"},\"top\":{\"field\":\"Total_Average_Loan_Amount\"},\"width\":{\"value\":0.8},\"x\":{\"field\":\"State_Code\"}},\"id\":\"5817\",\"type\":\"VBar\"},{\"attributes\":{},\"id\":\"5803\",\"type\":\"WheelZoomTool\"},{\"attributes\":{},\"id\":\"5790\",\"type\":\"CategoricalScale\"},{\"attributes\":{},\"id\":\"5830\",\"type\":\"AllLabels\"},{\"attributes\":{\"overlay\":{\"id\":\"5806\"}},\"id\":\"5804\",\"type\":\"BoxZoomTool\"},{\"attributes\":{},\"id\":\"5839\",\"type\":\"UnionRenderers\"},{\"attributes\":{},\"id\":\"5792\",\"type\":\"LinearScale\"},{\"attributes\":{\"children\":[{\"id\":\"5781\"},{\"id\":\"5785\"},{\"id\":\"5851\"}],\"margin\":[0,0,0,0],\"name\":\"Row12275\",\"tags\":[\"embedded\"]},\"id\":\"5780\",\"type\":\"Row\"},{\"attributes\":{\"axis_label\":\"State Code\",\"formatter\":{\"id\":\"5827\"},\"major_label_orientation\":1.5707963267948966,\"major_label_policy\":{\"id\":\"5826\"},\"ticker\":{\"id\":\"5795\"}},\"id\":\"5794\",\"type\":\"CategoricalAxis\"},{\"attributes\":{\"factors\":[\"MP\",\"PR\",\"ND\",\"SD\",\"VI\",\"WY\",\"VT\",\"MT\",\"DE\",\"AK\",\"GU\",\"MS\",\"WV\",\"ID\",\"ME\",\"NM\",\"NE\",\"NH\",\"AR\",\"IA\",\"KS\",\"HI\",\"RI\",\"OK\",\"NV\",\"AL\",\"LA\",\"KY\",\"SC\",\"CT\",\"MO\",\"CO\",\"AZ\",\"UT\",\"OR\",\"TN\",\"IN\",\"WI\",\"MD\",\"MN\",\"VA\",\"IL\",\"NY\",\"GA\",\"MA\",\"MI\",\"NC\",\"NJ\",\"WA\",\"OH\",\"FL\",\"PA\",\"TX\",\"CA\"],\"tags\":[[[\"State Code\",\"State Code\",null]]]},\"id\":\"5782\",\"type\":\"FactorRange\"},{\"attributes\":{},\"id\":\"5795\",\"type\":\"CategoricalTicker\"},{\"attributes\":{\"fill_alpha\":{\"value\":0.1},\"fill_color\":{\"value\":\"#30a2da\"},\"line_alpha\":{\"value\":0.1},\"top\":{\"field\":\"Total_Average_Loan_Amount\"},\"width\":{\"value\":0.8},\"x\":{\"field\":\"State_Code\"}},\"id\":\"5818\",\"type\":\"VBar\"},{\"attributes\":{\"margin\":[5,5,5,5],\"name\":\"HSpacer12279\",\"sizing_mode\":\"stretch_width\"},\"id\":\"5781\",\"type\":\"Spacer\"},{\"attributes\":{\"axis\":{\"id\":\"5797\"},\"dimension\":1,\"grid_line_color\":null,\"ticker\":null},\"id\":\"5800\",\"type\":\"Grid\"},{\"attributes\":{},\"id\":\"5826\",\"type\":\"AllLabels\"},{\"attributes\":{\"callback\":null,\"renderers\":[{\"id\":\"5821\"}],\"tags\":[\"hv_created\"],\"tooltips\":[[\"State Code\",\"@{State_Code}\"],[\"Total Average Loan Amount\",\"@{Total_Average_Loan_Amount}\"]]},\"id\":\"5784\",\"type\":\"HoverTool\"},{\"attributes\":{},\"id\":\"5798\",\"type\":\"BasicTicker\"},{\"attributes\":{\"active_multi\":null,\"tools\":[{\"id\":\"5784\"},{\"id\":\"5801\"},{\"id\":\"5802\"},{\"id\":\"5803\"},{\"id\":\"5804\"},{\"id\":\"5805\"}]},\"id\":\"5807\",\"type\":\"Toolbar\"},{\"attributes\":{\"axis_label\":\"\",\"formatter\":{\"id\":\"5824\"},\"major_label_policy\":{\"id\":\"5830\"},\"ticker\":{\"id\":\"5798\"}},\"id\":\"5797\",\"type\":\"LinearAxis\"},{\"attributes\":{\"end\":3081895.235000001,\"reset_end\":3081895.235000001,\"reset_start\":0.0,\"tags\":[[[\"Total Average Loan Amount\",\"Total Average Loan Amount\",null]]]},\"id\":\"5783\",\"type\":\"Range1d\"},{\"attributes\":{\"data\":{\"State_Code\":[\"MP\",\"PR\",\"ND\",\"SD\",\"VI\",\"WY\",\"VT\",\"MT\",\"DE\",\"AK\",\"GU\",\"MS\",\"WV\",\"ID\",\"ME\",\"NM\",\"NE\",\"NH\",\"AR\",\"IA\",\"KS\",\"HI\",\"RI\",\"OK\",\"NV\",\"AL\",\"LA\",\"KY\",\"SC\",\"CT\",\"MO\",\"CO\",\"AZ\",\"UT\",\"OR\",\"TN\",\"IN\",\"WI\",\"MD\",\"MN\",\"VA\",\"IL\",\"NY\",\"GA\",\"MA\",\"MI\",\"NC\",\"NJ\",\"WA\",\"OH\",\"FL\",\"PA\",\"TX\",\"CA\"],\"Total_Average_Loan_Amount\":{\"__ndarray__\":\"AAAAAAAd5UAAAAAAwFTsQB+F61Hs6PJArkfhelhS9UAAAAAAUEz3QAAAAAAwJPlA7FG4HmFD+UA9CtejDLn5QFK4HoX7dABB7FG4HlsqAkEAAAAAaEMGQa5H4Xr2bQdBAAAAAAi+CEGamZmZNUkJQRSuR+FaWAlBwvUoXLdjC0HD9Shc8eQLQcL1KFw/PQ5BSOF6FLEQEEEfhetRDdwSQRSuR+E0thNBrkfhem+WFEGQwvUoPlcVQWZmZmby+RVB7FG4HoasF0HrUbgeuo0aQeF6FK5i2BxBexSuR6tbHUEzMzMzaUggQR+F61HQZiBBmZmZGceBIUH2KFwP7PkhQRWuR+GvPCJBkML1KOZQIkG4HoVrQdYiQfYoXI9MiSRBwvUoXOn3JEEAAAAAUF8lQShcj0JNKyhBw/Uo3BUSKUFI4XqUXjQpQVS4HgX9tylB4noULhp5MEHC9SjcrLUwQSlcj8J1EzFBXI/CtTRDMUGamZnZk9ExQRSuR6EWtzJBkML1KE+jM0GjcD3K+6E1QfYoXE887TdBXI/CdS94OUFPuB5FM4xDQc7MzOzKZ0VB\",\"dtype\":\"float64\",\"order\":\"little\",\"shape\":[54]}},\"selected\":{\"id\":\"5815\"},\"selection_policy\":{\"id\":\"5839\"}},\"id\":\"5814\",\"type\":\"ColumnDataSource\"},{\"attributes\":{\"axis\":{\"id\":\"5794\"},\"grid_line_color\":null,\"ticker\":null},\"id\":\"5796\",\"type\":\"Grid\"},{\"attributes\":{\"bottom_units\":\"screen\",\"fill_alpha\":0.5,\"fill_color\":\"lightgrey\",\"left_units\":\"screen\",\"level\":\"overlay\",\"line_alpha\":1.0,\"line_color\":\"black\",\"line_dash\":[4,4],\"line_width\":2,\"right_units\":\"screen\",\"syncable\":false,\"top_units\":\"screen\"},\"id\":\"5806\",\"type\":\"BoxAnnotation\"}],\"root_ids\":[\"5780\"]},\"title\":\"Bokeh Application\",\"version\":\"2.3.2\"}};\n",
       "    var render_items = [{\"docid\":\"d9d8623c-b740-40d7-a639-a5f8bfbd2e24\",\"root_ids\":[\"5780\"],\"roots\":{\"5780\":\"7f877960-605f-4cd6-a380-9c8fc33934ba\"}}];\n",
       "    root.Bokeh.embed.embed_items_notebook(docs_json, render_items);\n",
       "  }\n",
       "  if (root.Bokeh !== undefined && root.Bokeh.Panel !== undefined) {\n",
       "    embed_document(root);\n",
       "  } else {\n",
       "    var attempts = 0;\n",
       "    var timer = setInterval(function(root) {\n",
       "      if (root.Bokeh !== undefined && root.Bokeh.Panel !== undefined) {\n",
       "        clearInterval(timer);\n",
       "        embed_document(root);\n",
       "      } else if (document.readyState == \"complete\") {\n",
       "        attempts++;\n",
       "        if (attempts > 100) {\n",
       "          clearInterval(timer);\n",
       "          console.log(\"Bokeh: ERROR: Unable to run BokehJS code because BokehJS library is missing\");\n",
       "        }\n",
       "      }\n",
       "    }, 10, root)\n",
       "  }\n",
       "})(window);</script>"
      ],
      "text/plain": [
       ":Bars   [State Code]   (Total Average Loan Amount)"
      ]
     },
     "execution_count": 44,
     "metadata": {
      "application/vnd.holoviews_exec.v0+json": {
       "id": "5780"
      }
     },
     "output_type": "execute_result"
    }
   ],
   "source": [
    "# Add color changing hover effect wit hover_line_color option\n",
    "plot_state_avgs = loan_data_avg_grp.hvplot.bar(label='2019 Total Average Amount', rot=90).opts(yformatter=\"%.0f\", hover_line_color='red')\n",
    "plot_state_avgs"
   ]
  },
  {
   "cell_type": "markdown",
   "metadata": {},
   "source": [
    "### Use the line_color option to change line color or bar outline color"
   ]
  },
  {
   "cell_type": "code",
   "execution_count": 45,
   "metadata": {},
   "outputs": [
    {
     "data": {},
     "metadata": {},
     "output_type": "display_data"
    },
    {
     "data": {
      "application/vnd.holoviews_exec.v0+json": "",
      "text/html": [
       "<div id='5898'>\n",
       "\n",
       "\n",
       "\n",
       "\n",
       "\n",
       "  <div class=\"bk-root\" id=\"5f953609-387b-425e-b64b-ad3091e3a513\" data-root-id=\"5898\"></div>\n",
       "</div>\n",
       "<script type=\"application/javascript\">(function(root) {\n",
       "  function embed_document(root) {\n",
       "    var docs_json = {\"c8348f6c-c92f-4d6f-9195-0c93a7e386e4\":{\"defs\":[],\"roots\":{\"references\":[{\"attributes\":{\"margin\":[5,5,5,5],\"name\":\"HSpacer12473\",\"sizing_mode\":\"stretch_width\"},\"id\":\"5968\",\"type\":\"Spacer\"},{\"attributes\":{\"data\":{\"State_Code\":[\"MP\",\"PR\",\"ND\",\"SD\",\"VI\",\"WY\",\"VT\",\"MT\",\"DE\",\"AK\",\"GU\",\"MS\",\"WV\",\"ID\",\"ME\",\"NM\",\"NE\",\"NH\",\"AR\",\"IA\",\"KS\",\"HI\",\"RI\",\"OK\",\"NV\",\"AL\",\"LA\",\"KY\",\"SC\",\"CT\",\"MO\",\"CO\",\"AZ\",\"UT\",\"OR\",\"TN\",\"IN\",\"WI\",\"MD\",\"MN\",\"VA\",\"IL\",\"NY\",\"GA\",\"MA\",\"MI\",\"NC\",\"NJ\",\"WA\",\"OH\",\"FL\",\"PA\",\"TX\",\"CA\"],\"Total_Average_Loan_Amount\":{\"__ndarray__\":\"AAAAAAAd5UAAAAAAwFTsQB+F61Hs6PJArkfhelhS9UAAAAAAUEz3QAAAAAAwJPlA7FG4HmFD+UA9CtejDLn5QFK4HoX7dABB7FG4HlsqAkEAAAAAaEMGQa5H4Xr2bQdBAAAAAAi+CEGamZmZNUkJQRSuR+FaWAlBwvUoXLdjC0HD9Shc8eQLQcL1KFw/PQ5BSOF6FLEQEEEfhetRDdwSQRSuR+E0thNBrkfhem+WFEGQwvUoPlcVQWZmZmby+RVB7FG4HoasF0HrUbgeuo0aQeF6FK5i2BxBexSuR6tbHUEzMzMzaUggQR+F61HQZiBBmZmZGceBIUH2KFwP7PkhQRWuR+GvPCJBkML1KOZQIkG4HoVrQdYiQfYoXI9MiSRBwvUoXOn3JEEAAAAAUF8lQShcj0JNKyhBw/Uo3BUSKUFI4XqUXjQpQVS4HgX9tylB4noULhp5MEHC9SjcrLUwQSlcj8J1EzFBXI/CtTRDMUGamZnZk9ExQRSuR6EWtzJBkML1KE+jM0GjcD3K+6E1QfYoXE887TdBXI/CdS94OUFPuB5FM4xDQc7MzOzKZ0VB\",\"dtype\":\"float64\",\"order\":\"little\",\"shape\":[54]}},\"selected\":{\"id\":\"5933\"},\"selection_policy\":{\"id\":\"5956\"}},\"id\":\"5932\",\"type\":\"ColumnDataSource\"},{\"attributes\":{\"bottom\":{\"value\":0},\"fill_alpha\":{\"value\":1.0},\"fill_color\":{\"value\":\"#30a2da\"},\"hatch_alpha\":{\"value\":1.0},\"hatch_color\":{\"value\":\"black\"},\"hatch_scale\":{\"value\":12.0},\"hatch_weight\":{\"value\":1.0},\"line_alpha\":{\"value\":1.0},\"line_cap\":{\"value\":\"butt\"},\"line_color\":{\"value\":\"red\"},\"line_dash\":{\"value\":[]},\"line_dash_offset\":{\"value\":0},\"line_join\":{\"value\":\"bevel\"},\"line_width\":{\"value\":1},\"top\":{\"field\":\"Total_Average_Loan_Amount\"},\"width\":{\"value\":0.8},\"x\":{\"field\":\"State_Code\"}},\"id\":\"5940\",\"type\":\"VBar\"},{\"attributes\":{\"bottom_units\":\"screen\",\"fill_alpha\":0.5,\"fill_color\":\"lightgrey\",\"left_units\":\"screen\",\"level\":\"overlay\",\"line_alpha\":1.0,\"line_color\":\"black\",\"line_dash\":[4,4],\"line_width\":2,\"right_units\":\"screen\",\"syncable\":false,\"top_units\":\"screen\"},\"id\":\"5924\",\"type\":\"BoxAnnotation\"},{\"attributes\":{\"active_multi\":null,\"tools\":[{\"id\":\"5902\"},{\"id\":\"5919\"},{\"id\":\"5920\"},{\"id\":\"5921\"},{\"id\":\"5922\"},{\"id\":\"5923\"}]},\"id\":\"5925\",\"type\":\"Toolbar\"},{\"attributes\":{\"source\":{\"id\":\"5932\"}},\"id\":\"5939\",\"type\":\"CDSView\"},{\"attributes\":{\"data_source\":{\"id\":\"5932\"},\"glyph\":{\"id\":\"5935\"},\"hover_glyph\":null,\"muted_glyph\":{\"id\":\"5937\"},\"nonselection_glyph\":{\"id\":\"5936\"},\"selection_glyph\":{\"id\":\"5940\"},\"view\":{\"id\":\"5939\"}},\"id\":\"5938\",\"type\":\"GlyphRenderer\"},{\"attributes\":{\"fill_color\":{\"value\":\"#30a2da\"},\"line_color\":{\"value\":\"red\"},\"top\":{\"field\":\"Total_Average_Loan_Amount\"},\"width\":{\"value\":0.8},\"x\":{\"field\":\"State_Code\"}},\"id\":\"5935\",\"type\":\"VBar\"},{\"attributes\":{},\"id\":\"5933\",\"type\":\"Selection\"},{\"attributes\":{},\"id\":\"5944\",\"type\":\"CategoricalTickFormatter\"},{\"attributes\":{\"fill_alpha\":{\"value\":0.1},\"fill_color\":{\"value\":\"#30a2da\"},\"line_alpha\":{\"value\":0.1},\"line_color\":{\"value\":\"red\"},\"top\":{\"field\":\"Total_Average_Loan_Amount\"},\"width\":{\"value\":0.8},\"x\":{\"field\":\"State_Code\"}},\"id\":\"5936\",\"type\":\"VBar\"},{\"attributes\":{},\"id\":\"5919\",\"type\":\"SaveTool\"},{\"attributes\":{\"below\":[{\"id\":\"5912\"}],\"center\":[{\"id\":\"5914\"},{\"id\":\"5918\"}],\"height\":300,\"left\":[{\"id\":\"5915\"}],\"margin\":[5,5,5,5],\"min_border_bottom\":10,\"min_border_left\":10,\"min_border_right\":10,\"min_border_top\":10,\"renderers\":[{\"id\":\"5938\"}],\"sizing_mode\":\"fixed\",\"title\":{\"id\":\"5904\"},\"toolbar\":{\"id\":\"5925\"},\"width\":700,\"x_range\":{\"id\":\"5900\"},\"x_scale\":{\"id\":\"5908\"},\"y_range\":{\"id\":\"5901\"},\"y_scale\":{\"id\":\"5910\"}},\"id\":\"5903\",\"subtype\":\"Figure\",\"type\":\"Plot\"},{\"attributes\":{\"fill_alpha\":{\"value\":0.2},\"fill_color\":{\"value\":\"#30a2da\"},\"line_alpha\":{\"value\":0.2},\"line_color\":{\"value\":\"red\"},\"top\":{\"field\":\"Total_Average_Loan_Amount\"},\"width\":{\"value\":0.8},\"x\":{\"field\":\"State_Code\"}},\"id\":\"5937\",\"type\":\"VBar\"},{\"attributes\":{},\"id\":\"5920\",\"type\":\"PanTool\"},{\"attributes\":{},\"id\":\"5923\",\"type\":\"ResetTool\"},{\"attributes\":{},\"id\":\"5921\",\"type\":\"WheelZoomTool\"},{\"attributes\":{},\"id\":\"5943\",\"type\":\"AllLabels\"},{\"attributes\":{\"overlay\":{\"id\":\"5924\"}},\"id\":\"5922\",\"type\":\"BoxZoomTool\"},{\"attributes\":{\"end\":3081895.235000001,\"reset_end\":3081895.235000001,\"reset_start\":0.0,\"tags\":[[[\"Total Average Loan Amount\",\"Total Average Loan Amount\",null]]]},\"id\":\"5901\",\"type\":\"Range1d\"},{\"attributes\":{\"axis_label\":\"State Code\",\"formatter\":{\"id\":\"5944\"},\"major_label_orientation\":1.5707963267948966,\"major_label_policy\":{\"id\":\"5943\"},\"ticker\":{\"id\":\"5913\"}},\"id\":\"5912\",\"type\":\"CategoricalAxis\"},{\"attributes\":{\"text\":\"2019 Total Average Amount\",\"text_color\":\"black\",\"text_font_size\":\"12pt\"},\"id\":\"5904\",\"type\":\"Title\"},{\"attributes\":{\"children\":[{\"id\":\"5899\"},{\"id\":\"5903\"},{\"id\":\"5968\"}],\"margin\":[0,0,0,0],\"name\":\"Row12468\",\"tags\":[\"embedded\"]},\"id\":\"5898\",\"type\":\"Row\"},{\"attributes\":{\"axis\":{\"id\":\"5912\"},\"grid_line_color\":null,\"ticker\":null},\"id\":\"5914\",\"type\":\"Grid\"},{\"attributes\":{},\"id\":\"5947\",\"type\":\"AllLabels\"},{\"attributes\":{},\"id\":\"5956\",\"type\":\"UnionRenderers\"},{\"attributes\":{},\"id\":\"5910\",\"type\":\"LinearScale\"},{\"attributes\":{\"format\":\"%.0f\"},\"id\":\"5941\",\"type\":\"PrintfTickFormatter\"},{\"attributes\":{\"margin\":[5,5,5,5],\"name\":\"HSpacer12472\",\"sizing_mode\":\"stretch_width\"},\"id\":\"5899\",\"type\":\"Spacer\"},{\"attributes\":{},\"id\":\"5913\",\"type\":\"CategoricalTicker\"},{\"attributes\":{\"axis\":{\"id\":\"5915\"},\"dimension\":1,\"grid_line_color\":null,\"ticker\":null},\"id\":\"5918\",\"type\":\"Grid\"},{\"attributes\":{\"callback\":null,\"renderers\":[{\"id\":\"5938\"}],\"tags\":[\"hv_created\"],\"tooltips\":[[\"State Code\",\"@{State_Code}\"],[\"Total Average Loan Amount\",\"@{Total_Average_Loan_Amount}\"]]},\"id\":\"5902\",\"type\":\"HoverTool\"},{\"attributes\":{\"factors\":[\"MP\",\"PR\",\"ND\",\"SD\",\"VI\",\"WY\",\"VT\",\"MT\",\"DE\",\"AK\",\"GU\",\"MS\",\"WV\",\"ID\",\"ME\",\"NM\",\"NE\",\"NH\",\"AR\",\"IA\",\"KS\",\"HI\",\"RI\",\"OK\",\"NV\",\"AL\",\"LA\",\"KY\",\"SC\",\"CT\",\"MO\",\"CO\",\"AZ\",\"UT\",\"OR\",\"TN\",\"IN\",\"WI\",\"MD\",\"MN\",\"VA\",\"IL\",\"NY\",\"GA\",\"MA\",\"MI\",\"NC\",\"NJ\",\"WA\",\"OH\",\"FL\",\"PA\",\"TX\",\"CA\"],\"tags\":[[[\"State Code\",\"State Code\",null]]]},\"id\":\"5900\",\"type\":\"FactorRange\"},{\"attributes\":{},\"id\":\"5916\",\"type\":\"BasicTicker\"},{\"attributes\":{\"axis_label\":\"\",\"formatter\":{\"id\":\"5941\"},\"major_label_policy\":{\"id\":\"5947\"},\"ticker\":{\"id\":\"5916\"}},\"id\":\"5915\",\"type\":\"LinearAxis\"},{\"attributes\":{},\"id\":\"5908\",\"type\":\"CategoricalScale\"}],\"root_ids\":[\"5898\"]},\"title\":\"Bokeh Application\",\"version\":\"2.3.2\"}};\n",
       "    var render_items = [{\"docid\":\"c8348f6c-c92f-4d6f-9195-0c93a7e386e4\",\"root_ids\":[\"5898\"],\"roots\":{\"5898\":\"5f953609-387b-425e-b64b-ad3091e3a513\"}}];\n",
       "    root.Bokeh.embed.embed_items_notebook(docs_json, render_items);\n",
       "  }\n",
       "  if (root.Bokeh !== undefined && root.Bokeh.Panel !== undefined) {\n",
       "    embed_document(root);\n",
       "  } else {\n",
       "    var attempts = 0;\n",
       "    var timer = setInterval(function(root) {\n",
       "      if (root.Bokeh !== undefined && root.Bokeh.Panel !== undefined) {\n",
       "        clearInterval(timer);\n",
       "        embed_document(root);\n",
       "      } else if (document.readyState == \"complete\") {\n",
       "        attempts++;\n",
       "        if (attempts > 100) {\n",
       "          clearInterval(timer);\n",
       "          console.log(\"Bokeh: ERROR: Unable to run BokehJS code because BokehJS library is missing\");\n",
       "        }\n",
       "      }\n",
       "    }, 10, root)\n",
       "  }\n",
       "})(window);</script>"
      ],
      "text/plain": [
       ":Bars   [State Code]   (Total Average Loan Amount)"
      ]
     },
     "execution_count": 45,
     "metadata": {
      "application/vnd.holoviews_exec.v0+json": {
       "id": "5898"
      }
     },
     "output_type": "execute_result"
    }
   ],
   "source": [
    "# Customize bar chart with bar outline color\n",
    "plot_state_avgs = loan_data_avg_grp.hvplot.bar(label='2019 Total Average Amount', rot=90).opts(yformatter=\"%.0f\", line_color='red')\n",
    "plot_state_avgs"
   ]
  },
  {
   "cell_type": "markdown",
   "metadata": {},
   "source": [
    "### Change color of line chart to green"
   ]
  },
  {
   "cell_type": "code",
   "execution_count": 47,
   "metadata": {},
   "outputs": [
    {
     "name": "stderr",
     "output_type": "stream",
     "text": [
      "WARNING:param.main: lable option not found for line plot; similar options include: ['ylabel', 'xlabel', 'clabel']\n"
     ]
    },
    {
     "data": {},
     "metadata": {},
     "output_type": "display_data"
    },
    {
     "data": {
      "application/vnd.holoviews_exec.v0+json": "",
      "text/html": [
       "<div id='6015'>\n",
       "\n",
       "\n",
       "\n",
       "\n",
       "\n",
       "  <div class=\"bk-root\" id=\"2f86cd4a-ec62-4ad0-9924-f604e538ff1a\" data-root-id=\"6015\"></div>\n",
       "</div>\n",
       "<script type=\"application/javascript\">(function(root) {\n",
       "  function embed_document(root) {\n",
       "    var docs_json = {\"d188415f-1adc-41fe-a73b-69fb33d746d7\":{\"defs\":[],\"roots\":{\"references\":[{\"attributes\":{\"axis_label\":\"State Code\",\"formatter\":{\"id\":\"6061\"},\"major_label_orientation\":1.5707963267948966,\"major_label_policy\":{\"id\":\"6060\"},\"ticker\":{\"id\":\"6030\"}},\"id\":\"6029\",\"type\":\"CategoricalAxis\"},{\"attributes\":{\"line_alpha\":0.1,\"line_color\":\"green\",\"line_width\":2,\"x\":{\"field\":\"State Code\"},\"y\":{\"field\":\"2015 - 2016\"}},\"id\":\"6053\",\"type\":\"Line\"},{\"attributes\":{\"text\":\"Loan Amount\",\"text_color\":\"black\",\"text_font_size\":\"12pt\"},\"id\":\"6021\",\"type\":\"Title\"},{\"attributes\":{\"below\":[{\"id\":\"6029\"}],\"center\":[{\"id\":\"6031\"},{\"id\":\"6035\"}],\"height\":300,\"left\":[{\"id\":\"6032\"}],\"margin\":[5,5,5,5],\"min_border_bottom\":10,\"min_border_left\":10,\"min_border_right\":10,\"min_border_top\":10,\"renderers\":[{\"id\":\"6055\"}],\"sizing_mode\":\"fixed\",\"title\":{\"id\":\"6021\"},\"toolbar\":{\"id\":\"6042\"},\"width\":700,\"x_range\":{\"id\":\"6017\"},\"x_scale\":{\"id\":\"6025\"},\"y_range\":{\"id\":\"6018\"},\"y_scale\":{\"id\":\"6027\"}},\"id\":\"6020\",\"subtype\":\"Figure\",\"type\":\"Plot\"},{\"attributes\":{\"end\":3309753.04,\"reset_end\":3309753.04,\"reset_start\":-300886.64,\"start\":-300886.64,\"tags\":[[[\"2015 - 2016\",\"2015 - 2016\",null]]]},\"id\":\"6018\",\"type\":\"Range1d\"},{\"attributes\":{\"children\":[{\"id\":\"6016\"},{\"id\":\"6020\"},{\"id\":\"6085\"}],\"margin\":[0,0,0,0],\"name\":\"Row12895\",\"tags\":[\"embedded\"]},\"id\":\"6015\",\"type\":\"Row\"},{\"attributes\":{\"active_multi\":null,\"tools\":[{\"id\":\"6019\"},{\"id\":\"6036\"},{\"id\":\"6037\"},{\"id\":\"6038\"},{\"id\":\"6039\"},{\"id\":\"6040\"}]},\"id\":\"6042\",\"type\":\"Toolbar\"},{\"attributes\":{\"line_color\":\"green\",\"line_width\":2,\"x\":{\"field\":\"State Code\"},\"y\":{\"field\":\"2015 - 2016\"}},\"id\":\"6052\",\"type\":\"Line\"},{\"attributes\":{\"data_source\":{\"id\":\"6049\"},\"glyph\":{\"id\":\"6052\"},\"hover_glyph\":null,\"muted_glyph\":{\"id\":\"6054\"},\"nonselection_glyph\":{\"id\":\"6053\"},\"selection_glyph\":{\"id\":\"6057\"},\"view\":{\"id\":\"6056\"}},\"id\":\"6055\",\"type\":\"GlyphRenderer\"},{\"attributes\":{\"overlay\":{\"id\":\"6041\"}},\"id\":\"6039\",\"type\":\"BoxZoomTool\"},{\"attributes\":{\"line_alpha\":0.2,\"line_color\":\"green\",\"line_width\":2,\"x\":{\"field\":\"State Code\"},\"y\":{\"field\":\"2015 - 2016\"}},\"id\":\"6054\",\"type\":\"Line\"},{\"attributes\":{},\"id\":\"6073\",\"type\":\"UnionRenderers\"},{\"attributes\":{},\"id\":\"6050\",\"type\":\"Selection\"},{\"attributes\":{\"margin\":[5,5,5,5],\"name\":\"HSpacer12899\",\"sizing_mode\":\"stretch_width\"},\"id\":\"6016\",\"type\":\"Spacer\"},{\"attributes\":{},\"id\":\"6037\",\"type\":\"PanTool\"},{\"attributes\":{},\"id\":\"6038\",\"type\":\"WheelZoomTool\"},{\"attributes\":{\"axis\":{\"id\":\"6032\"},\"dimension\":1,\"grid_line_color\":null,\"ticker\":null},\"id\":\"6035\",\"type\":\"Grid\"},{\"attributes\":{},\"id\":\"6061\",\"type\":\"CategoricalTickFormatter\"},{\"attributes\":{},\"id\":\"6025\",\"type\":\"CategoricalScale\"},{\"attributes\":{\"line_color\":\"green\",\"line_width\":2,\"x\":{\"field\":\"State Code\"},\"y\":{\"field\":\"2015 - 2016\"}},\"id\":\"6057\",\"type\":\"Line\"},{\"attributes\":{\"callback\":null,\"renderers\":[{\"id\":\"6055\"}],\"tags\":[\"hv_created\"],\"tooltips\":[[\"State Code\",\"@{State_Code}\"],[\"2015 - 2016\",\"@{A_2015_hyphen_minus_2016}\"]]},\"id\":\"6019\",\"type\":\"HoverTool\"},{\"attributes\":{},\"id\":\"6036\",\"type\":\"SaveTool\"},{\"attributes\":{\"bottom_units\":\"screen\",\"fill_alpha\":0.5,\"fill_color\":\"lightgrey\",\"left_units\":\"screen\",\"level\":\"overlay\",\"line_alpha\":1.0,\"line_color\":\"black\",\"line_dash\":[4,4],\"line_width\":2,\"right_units\":\"screen\",\"syncable\":false,\"top_units\":\"screen\"},\"id\":\"6041\",\"type\":\"BoxAnnotation\"},{\"attributes\":{\"data\":{\"2015 - 2016\":{\"__ndarray__\":\"AAAAAAAAAAAAAAAAUPD0QAAAAABgcftAw/UoXPMY/EDhehSuE2L+QFyPwvVOhgBBCtejcB8CAkEAAAAACB8EQdejcD3MJARBuB6F63skB0EAAAAASBwLQXA9Cteh7A9BwvUoXBn8D0EAAAAANF8QQSlcj8IRhhBBAAAAAGQhEUE+CtejIWwTQXsUrkePoRNBzczMzNaxFUEK16NwlBsWQdejcD2v0hlBwvUoXGyYGkEUrkfhyLwbQeJ6FK5ztR5BmZmZmejvHkE9CtejM/oeQfYoXA+1hSJBuB6Fa8CYIkGPwvWor6skQUfhepTl7yRBexSux6iuJUHsUbieBhMmQYXrUThBLiZBSOF6FJwtJ0GF61E4vrwnQQAAAACoOihBPgrXoy6qKEE9CtcjGfooQTQzMzMDyCpBmZmZGXbBLkFwPQpXcMwuQZDC9ahaVS9BNDMzM0B2L0GkcD2KaAUyQcL1KBwDeDJB9ihcD2bZMkGG61E4USY0Qc3MzMz7STdBXI/C9eiLOEGjcD1KxHU5QQAAAMDJvTxBZmZmhqCgQEFmZmamd19GQTMzMzOx9EZB\",\"dtype\":\"float64\",\"order\":\"little\",\"shape\":[54]},\"A_2015_hyphen_minus_2016\":{\"__ndarray__\":\"AAAAAAAAAAAAAAAAUPD0QAAAAABgcftAw/UoXPMY/EDhehSuE2L+QFyPwvVOhgBBCtejcB8CAkEAAAAACB8EQdejcD3MJARBuB6F63skB0EAAAAASBwLQXA9Cteh7A9BwvUoXBn8D0EAAAAANF8QQSlcj8IRhhBBAAAAAGQhEUE+CtejIWwTQXsUrkePoRNBzczMzNaxFUEK16NwlBsWQdejcD2v0hlBwvUoXGyYGkEUrkfhyLwbQeJ6FK5ztR5BmZmZmejvHkE9CtejM/oeQfYoXA+1hSJBuB6Fa8CYIkGPwvWor6skQUfhepTl7yRBexSux6iuJUHsUbieBhMmQYXrUThBLiZBSOF6FJwtJ0GF61E4vrwnQQAAAACoOihBPgrXoy6qKEE9CtcjGfooQTQzMzMDyCpBmZmZGXbBLkFwPQpXcMwuQZDC9ahaVS9BNDMzM0B2L0GkcD2KaAUyQcL1KBwDeDJB9ihcD2bZMkGG61E4USY0Qc3MzMz7STdBXI/C9eiLOEGjcD1KxHU5QQAAAMDJvTxBZmZmhqCgQEFmZmamd19GQTMzMzOx9EZB\",\"dtype\":\"float64\",\"order\":\"little\",\"shape\":[54]},\"State Code\":[\"MP\",\"PR\",\"VI\",\"SD\",\"ND\",\"VT\",\"MT\",\"WY\",\"DE\",\"AK\",\"GU\",\"ID\",\"NE\",\"WV\",\"ME\",\"NH\",\"NM\",\"MS\",\"AR\",\"IA\",\"KS\",\"RI\",\"HI\",\"NV\",\"OK\",\"AZ\",\"KY\",\"MO\",\"MN\",\"AL\",\"CT\",\"UT\",\"LA\",\"IL\",\"CO\",\"WI\",\"SC\",\"OR\",\"IN\",\"TN\",\"MD\",\"MA\",\"GA\",\"NY\",\"NJ\",\"MI\",\"VA\",\"WA\",\"NC\",\"OH\",\"PA\",\"FL\",\"TX\",\"CA\"],\"State_Code\":[\"MP\",\"PR\",\"VI\",\"SD\",\"ND\",\"VT\",\"MT\",\"WY\",\"DE\",\"AK\",\"GU\",\"ID\",\"NE\",\"WV\",\"ME\",\"NH\",\"NM\",\"MS\",\"AR\",\"IA\",\"KS\",\"RI\",\"HI\",\"NV\",\"OK\",\"AZ\",\"KY\",\"MO\",\"MN\",\"AL\",\"CT\",\"UT\",\"LA\",\"IL\",\"CO\",\"WI\",\"SC\",\"OR\",\"IN\",\"TN\",\"MD\",\"MA\",\"GA\",\"NY\",\"NJ\",\"MI\",\"VA\",\"WA\",\"NC\",\"OH\",\"PA\",\"FL\",\"TX\",\"CA\"]},\"selected\":{\"id\":\"6050\"},\"selection_policy\":{\"id\":\"6073\"}},\"id\":\"6049\",\"type\":\"ColumnDataSource\"},{\"attributes\":{\"factors\":[\"MP\",\"PR\",\"VI\",\"SD\",\"ND\",\"VT\",\"MT\",\"WY\",\"DE\",\"AK\",\"GU\",\"ID\",\"NE\",\"WV\",\"ME\",\"NH\",\"NM\",\"MS\",\"AR\",\"IA\",\"KS\",\"RI\",\"HI\",\"NV\",\"OK\",\"AZ\",\"KY\",\"MO\",\"MN\",\"AL\",\"CT\",\"UT\",\"LA\",\"IL\",\"CO\",\"WI\",\"SC\",\"OR\",\"IN\",\"TN\",\"MD\",\"MA\",\"GA\",\"NY\",\"NJ\",\"MI\",\"VA\",\"WA\",\"NC\",\"OH\",\"PA\",\"FL\",\"TX\",\"CA\"],\"tags\":[[[\"State Code\",\"State Code\",null]]]},\"id\":\"6017\",\"type\":\"FactorRange\"},{\"attributes\":{},\"id\":\"6040\",\"type\":\"ResetTool\"},{\"attributes\":{\"axis\":{\"id\":\"6029\"},\"grid_line_color\":null,\"ticker\":null},\"id\":\"6031\",\"type\":\"Grid\"},{\"attributes\":{\"source\":{\"id\":\"6049\"}},\"id\":\"6056\",\"type\":\"CDSView\"},{\"attributes\":{},\"id\":\"6064\",\"type\":\"AllLabels\"},{\"attributes\":{},\"id\":\"6027\",\"type\":\"LinearScale\"},{\"attributes\":{\"margin\":[5,5,5,5],\"name\":\"HSpacer12900\",\"sizing_mode\":\"stretch_width\"},\"id\":\"6085\",\"type\":\"Spacer\"},{\"attributes\":{},\"id\":\"6060\",\"type\":\"AllLabels\"},{\"attributes\":{\"format\":\"%.0f\"},\"id\":\"6058\",\"type\":\"PrintfTickFormatter\"},{\"attributes\":{},\"id\":\"6030\",\"type\":\"CategoricalTicker\"},{\"attributes\":{\"axis_label\":\"\",\"formatter\":{\"id\":\"6058\"},\"major_label_policy\":{\"id\":\"6064\"},\"ticker\":{\"id\":\"6033\"}},\"id\":\"6032\",\"type\":\"LinearAxis\"},{\"attributes\":{},\"id\":\"6033\",\"type\":\"BasicTicker\"}],\"root_ids\":[\"6015\"]},\"title\":\"Bokeh Application\",\"version\":\"2.3.2\"}};\n",
       "    var render_items = [{\"docid\":\"d188415f-1adc-41fe-a73b-69fb33d746d7\",\"root_ids\":[\"6015\"],\"roots\":{\"6015\":\"2f86cd4a-ec62-4ad0-9924-f604e538ff1a\"}}];\n",
       "    root.Bokeh.embed.embed_items_notebook(docs_json, render_items);\n",
       "  }\n",
       "  if (root.Bokeh !== undefined && root.Bokeh.Panel !== undefined) {\n",
       "    embed_document(root);\n",
       "  } else {\n",
       "    var attempts = 0;\n",
       "    var timer = setInterval(function(root) {\n",
       "      if (root.Bokeh !== undefined && root.Bokeh.Panel !== undefined) {\n",
       "        clearInterval(timer);\n",
       "        embed_document(root);\n",
       "      } else if (document.readyState == \"complete\") {\n",
       "        attempts++;\n",
       "        if (attempts > 100) {\n",
       "          clearInterval(timer);\n",
       "          console.log(\"Bokeh: ERROR: Unable to run BokehJS code because BokehJS library is missing\");\n",
       "        }\n",
       "      }\n",
       "    }, 10, root)\n",
       "  }\n",
       "})(window);</script>"
      ],
      "text/plain": [
       ":Curve   [State Code]   (2015 - 2016)"
      ]
     },
     "execution_count": 47,
     "metadata": {
      "application/vnd.holoviews_exec.v0+json": {
       "id": "6015"
      }
     },
     "output_type": "execute_result"
    }
   ],
   "source": [
    "# Customize line chart line color using line_color option\n",
    "plot_2015_2016 = loan_data_range_grp.hvplot(lable='2015 - 2016', rot=90).opts(yformatter=\"%.0f\", title=\"Loan Amount\", line_color='green')\n",
    "plot_2015_2016"
   ]
  },
  {
   "cell_type": "code",
   "execution_count": null,
   "metadata": {},
   "outputs": [],
   "source": []
  }
 ],
 "metadata": {
  "kernel_info": {
   "name": "python3"
  },
  "kernelspec": {
   "display_name": "Python [conda env:pyvizenv] *",
   "language": "python",
   "name": "conda-env-pyvizenv-py"
  },
  "language_info": {
   "codemirror_mode": {
    "name": "ipython",
    "version": 3
   },
   "file_extension": ".py",
   "mimetype": "text/x-python",
   "name": "python",
   "nbconvert_exporter": "python",
   "pygments_lexer": "ipython3",
   "version": "3.7.10"
  },
  "nteract": {
   "version": "0.12.3"
  }
 },
 "nbformat": 4,
 "nbformat_minor": 4
}
