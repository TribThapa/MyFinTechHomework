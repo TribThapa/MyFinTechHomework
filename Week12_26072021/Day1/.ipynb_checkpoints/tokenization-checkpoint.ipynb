{
 "cells": [
  {
   "cell_type": "code",
   "execution_count": 2,
   "metadata": {},
   "outputs": [],
   "source": [
    "from nltk.corpus import reuters\n",
    "from nltk.tokenize import sent_tokenize, word_tokenize"
   ]
  },
  {
   "cell_type": "markdown",
   "metadata": {},
   "source": [
    "## The NLTK Reuters corpus"
   ]
  },
  {
   "cell_type": "code",
   "execution_count": 6,
   "metadata": {},
   "outputs": [
    {
     "name": "stderr",
     "output_type": "stream",
     "text": [
      "[nltk_data] Downloading package reuters to\n",
      "[nltk_data]     C:\\Users\\TribThapa\\AppData\\Roaming\\nltk_data...\n"
     ]
    },
    {
     "name": "stdout",
     "output_type": "stream",
     "text": [
      "['acq', 'alum', 'barley', 'bop', 'carcass', 'castor-oil', 'cocoa', 'coconut', 'coconut-oil', 'coffee', 'copper', 'copra-cake', 'corn', 'cotton', 'cotton-oil', 'cpi', 'cpu', 'crude', 'dfl', 'dlr', 'dmk', 'earn', 'fuel', 'gas', 'gnp', 'gold', 'grain', 'groundnut', 'groundnut-oil', 'heat', 'hog', 'housing', 'income', 'instal-debt', 'interest', 'ipi', 'iron-steel', 'jet', 'jobs', 'l-cattle', 'lead', 'lei', 'lin-oil', 'livestock', 'lumber', 'meal-feed', 'money-fx', 'money-supply', 'naphtha', 'nat-gas', 'nickel', 'nkr', 'nzdlr', 'oat', 'oilseed', 'orange', 'palladium', 'palm-oil', 'palmkernel', 'pet-chem', 'platinum', 'potato', 'propane', 'rand', 'rape-oil', 'rapeseed', 'reserves', 'retail', 'rice', 'rubber', 'rye', 'ship', 'silver', 'sorghum', 'soy-meal', 'soy-oil', 'soybean', 'strategic-metal', 'sugar', 'sun-meal', 'sun-oil', 'sunseed', 'tea', 'tin', 'trade', 'veg-oil', 'wheat', 'wpi', 'yen', 'zinc']\n"
     ]
    }
   ],
   "source": [
    "# The reuters corpus includes over 10,000 news articles, many of which are about financial markets\n",
    "# These articles are tagged by topic, or category\n",
    "import nltk\n",
    "nltk.download('reuters')\n",
    "\n",
    "print(reuters.categories())"
   ]
  },
  {
   "cell_type": "code",
   "execution_count": 19,
   "metadata": {},
   "outputs": [
    {
     "data": {
      "text/plain": [
       "'test/14829'"
      ]
     },
     "execution_count": 19,
     "metadata": {},
     "output_type": "execute_result"
    }
   ],
   "source": [
    "# We'll find the first article about crude oil\n",
    "oil_article1 = reuters.fileids(categories='crude')[0]\n",
    "\n",
    "oil_article1"
   ]
  },
  {
   "cell_type": "code",
   "execution_count": 17,
   "metadata": {},
   "outputs": [
    {
     "data": {
      "text/plain": [
       "'test/15063'"
      ]
     },
     "execution_count": 17,
     "metadata": {},
     "output_type": "execute_result"
    }
   ],
   "source": [
    "oil_article2 = reuters.fileids(categories='crude')[1]\n",
    "\n",
    "oil_article2"
   ]
  },
  {
   "cell_type": "code",
   "execution_count": 20,
   "metadata": {},
   "outputs": [
    {
     "name": "stdout",
     "output_type": "stream",
     "text": [
      "JAPAN TO REVISE LONG-TERM ENERGY DEMAND DOWNWARDS\n",
      "  The Ministry of International Trade and\n",
      "  Industry (MITI) will revise its long-term energy supply/demand\n",
      "  outlook by August to meet a forecast downtrend in Japanese\n",
      "  energy demand, ministry officials said.\n",
      "      MITI is expected to lower the projection for primary energy\n",
      "  supplies in the year 2000 to 550 mln kilolitres (kl) from 600\n",
      "  mln, they said.\n",
      "      The decision follows the emergence of structural changes in\n",
      "  Japanese industry following the rise in the value of the yen\n",
      "  and a decline in domestic electric power demand.\n",
      "      MITI is planning to work out a revised energy supply/demand\n",
      "  outlook through deliberations of committee meetings of the\n",
      "  Agency of Natural Resources and Energy, the officials said.\n",
      "      They said MITI will also review the breakdown of energy\n",
      "  supply sources, including oil, nuclear, coal and natural gas.\n",
      "      Nuclear energy provided the bulk of Japan's electric power\n",
      "  in the fiscal year ended March 31, supplying an estimated 27\n",
      "  pct on a kilowatt/hour basis, followed by oil (23 pct) and\n",
      "  liquefied natural gas (21 pct), they noted.\n",
      "  \n",
      "\n",
      "\n"
     ]
    }
   ],
   "source": [
    "article1 = reuters.raw(oil_article1)\n",
    "\n",
    "print(article1)"
   ]
  },
  {
   "cell_type": "code",
   "execution_count": 21,
   "metadata": {},
   "outputs": [
    {
     "name": "stdout",
     "output_type": "stream",
     "text": [
      "ENERGY/U.S. PETROCHEMICAL INDUSTRY\n",
      "  Cheap oil feedstocks, the weakened U.S.\n",
      "  dollar and a plant utilization rate approaching 90 pct will\n",
      "  propel the streamlined U.S. petrochemical industry to record\n",
      "  profits this year, with growth expected through at least 1990,\n",
      "  major company executives predicted.\n",
      "      This bullish outlook for chemical manufacturing and an\n",
      "  industrywide move to shed unrelated businesses has prompted GAF\n",
      "  Corp &lt;GAF>, privately-held Cain Chemical Inc, and other firms\n",
      "  to aggressively seek acquisitions of petrochemical plants.\n",
      "      Oil companies such as Ashland Oil Inc &lt;ASH>, the\n",
      "  Kentucky-based oil refiner and marketer, are also shopping for\n",
      "  money-making petrochemical businesses to buy.\n",
      "      \"I see us poised at the threshold of a golden period,\" said\n",
      "  Paul Oreffice, chairman of giant Dow Chemical Co &lt;DOW>, adding,\n",
      "  \"There's no major plant capacity being added around the world\n",
      "  now. The whole game is bringing out new products and improving\n",
      "  the old ones.\"\n",
      "      Analysts say the chemical industry's biggest customers,\n",
      "  automobile manufacturers and home builders that use a lot of\n",
      "  paints and plastics, are expected to buy quantities this year.\n",
      "      U.S. petrochemical plants are currently operating at about\n",
      "  90 pct capacity, reflecting tighter supply that could hike\n",
      "  product prices by 30 to 40 pct this year, said John Dosher,\n",
      "  managing director of Pace Consultants Inc of Houston. Demand\n",
      "  for some products such as styrene could push profit margins up\n",
      "  by as much as 300 pct, he said.\n",
      "      Oreffice, speaking at a meeting of chemical engineers in\n",
      "  Houston, said Dow would easily top the 741 mln dlrs it earned\n",
      "  last year and predicted it would have the best year in its\n",
      "  history.\n",
      "      In 1985, when oil prices were still above 25 dlrs a barrel\n",
      "  and chemical exports were adversely affected by the strong U.S.\n",
      "  dollar, Dow had profits of 58 mln dlrs. \"I believe the entire\n",
      "  chemical industry is headed for a record year or close to it,\"\n",
      "  Oreffice said.\n",
      "      GAF chairman Samuel Heyman estimated that the U.S. chemical\n",
      "  industry would report a 20 pct gain in profits during 1987.\n",
      "  Last year, the domestic industry earned a total of 13 billion\n",
      "  dlrs, a 54 pct leap from 1985.\n",
      "      The turn in the fortunes of the once-sickly chemical\n",
      "  industry has been brought about by a combination of luck and\n",
      "  planning, said Pace's John Dosher.\n",
      "      Dosher said last year's fall in oil prices made feedstocks\n",
      "  dramatically cheaper and at the same time the American dollar\n",
      "  was weakening against foreign currencies. That helped boost\n",
      "  U.S. chemical exports.\n",
      "      Also helping to bring supply and demand into balance has\n",
      "  been the gradual market absorption of the extra chemical\n",
      "  manufacturing capacity created by Middle Eastern oil producers\n",
      "  in the early 1980s.\n",
      "      Finally, virtually all major U.S. chemical manufacturers\n",
      "  have embarked on an extensive corporate restructuring program\n",
      "  to mothball inefficient plants, trim the payroll and eliminate\n",
      "  unrelated businesses. The restructuring touched off a flurry of\n",
      "  friendly and hostile takeover attempts.\n",
      "      GAF, which made an unsuccessful attempt in 1985 to acquire\n",
      "  Union Carbide Corp &lt;UK>, recently offered three billion dlrs\n",
      "  for Borg Warner Corp &lt;BOR>, a Chicago manufacturer of plastics\n",
      "  and chemicals. Another industry powerhouse, W.R. Grace &lt;GRA> \n",
      "  has divested its retailing, restaurant and fertilizer\n",
      "  businesses to raise cash for chemical acquisitions.\n",
      "      But some experts worry that the chemical industry may be\n",
      "  headed for trouble if companies continue turning their back on\n",
      "  the manufacturing of staple petrochemical commodities, such as\n",
      "  ethylene, in favor of more profitable specialty chemicals that\n",
      "  are custom-designed for a small group of buyers.\n",
      "      \"Companies like DuPont &lt;DD> and Monsanto Co &lt;MTC> spent the\n",
      "  past two or three years trying to get out of the commodity\n",
      "  chemical business in reaction to how badly the market had\n",
      "  deteriorated,\" Dosher said. \"But I think they will eventually\n",
      "  kill the margins on the profitable chemicals in the niche\n",
      "  market.\" Some top chemical executives share the concern.\n",
      "      \"The challenge for our industry is to keep from getting\n",
      "  carried away and repeating past mistakes,\" GAF's Heyman\n",
      "  cautioned. \"The shift from commodity chemicals may be\n",
      "  ill-advised. Specialty businesses do not stay special long.\"\n",
      "      Houston-based Cain Chemical, created this month by the\n",
      "  Sterling investment banking group, believes it can generate 700\n",
      "  mln dlrs in annual sales by bucking the industry trend.\n",
      "      Chairman Gordon Cain, who previously led a leveraged buyout\n",
      "  of Dupont's Conoco Inc's chemical business, has spent 1.1\n",
      "  billion dlrs since January to buy seven petrochemical plants\n",
      "  along the Texas Gulf Coast.\n",
      "      The plants produce only basic commodity petrochemicals that\n",
      "  are the building blocks of specialty products.\n",
      "      \"This kind of commodity chemical business will never be a\n",
      "  glamorous, high-margin business,\" Cain said, adding that demand\n",
      "  is expected to grow by about three pct annually.\n",
      "      Garo Armen, an analyst with Dean Witter Reynolds, said\n",
      "  chemical makers have also benefitted by increasing demand for\n",
      "  plastics as prices become more competitive with aluminum, wood\n",
      "  and steel products. Armen estimated the upturn in the chemical\n",
      "  business could last as long as four or five years, provided the\n",
      "  U.S. economy continues its modest rate of growth.\n",
      "  \n",
      "\n",
      "\n"
     ]
    }
   ],
   "source": [
    "article2 = reuters.raw(oil_article2)\n",
    "\n",
    "print(article2)"
   ]
  },
  {
   "cell_type": "markdown",
   "metadata": {},
   "source": [
    "## Tokenizing with string splits"
   ]
  },
  {
   "cell_type": "code",
   "execution_count": 22,
   "metadata": {},
   "outputs": [
    {
     "data": {
      "text/plain": [
       "['JAPAN TO REVISE LONG-TERM ENERGY DEMAND DOWNWARDS\\n  The Ministry of International Trade and\\n  Industry (MITI) will revise its long-term energy supply/demand\\n  outlook by August to meet a forecast downtrend in Japanese\\n  energy demand, ministry officials said',\n",
       " '\\n      MITI is expected to lower the projection for primary energy\\n  supplies in the year 2000 to 550 mln kilolitres (kl) from 600\\n  mln, they said',\n",
       " '\\n      The decision follows the emergence of structural changes in\\n  Japanese industry following the rise in the value of the yen\\n  and a decline in domestic electric power demand',\n",
       " '\\n      MITI is planning to work out a revised energy supply/demand\\n  outlook through deliberations of committee meetings of the\\n  Agency of Natural Resources and Energy, the officials said',\n",
       " '\\n      They said MITI will also review the breakdown of energy\\n  supply sources, including oil, nuclear, coal and natural gas',\n",
       " \"\\n      Nuclear energy provided the bulk of Japan's electric power\\n  in the fiscal year ended March 31, supplying an estimated 27\\n  pct on a kilowatt/hour basis, followed by oil (23 pct) and\\n  liquefied natural gas (21 pct), they noted\",\n",
       " '\\n  \\n\\n']"
      ]
     },
     "execution_count": 22,
     "metadata": {},
     "output_type": "execute_result"
    }
   ],
   "source": [
    "# Simple sentence tokenizing with string split\n",
    "\n",
    "article1.split('.')"
   ]
  },
  {
   "cell_type": "code",
   "execution_count": 25,
   "metadata": {},
   "outputs": [
    {
     "name": "stdout",
     "output_type": "stream",
     "text": [
      "['JAPAN', 'TO', 'REVISE', 'LONG-TERM', 'ENERGY', 'DEMAND', 'DOWNWARDS\\n', '', 'The', 'Ministry', 'of', 'International', 'Trade', 'and\\n', '', 'Industry', '(MITI)', 'will', 'revise', 'its', 'long-term', 'energy', 'supply/demand\\n', '', 'outlook', 'by', 'August', 'to', 'meet', 'a', 'forecast', 'downtrend', 'in', 'Japanese\\n', '', 'energy', 'demand,', 'ministry', 'officials', 'said']\n"
     ]
    }
   ],
   "source": [
    "# Word tokenizing with string split\n",
    "\n",
    "sent = article1.split('.')[0]\n",
    "\n",
    "print(sent.split(' '))"
   ]
  },
  {
   "cell_type": "code",
   "execution_count": 24,
   "metadata": {},
   "outputs": [
    {
     "name": "stdout",
     "output_type": "stream",
     "text": [
      "['\\n', '', '', '', '', '', 'MITI', 'is', 'expected', 'to', 'lower', 'the', 'projection', 'for', 'primary', 'energy\\n', '', 'supplies', 'in', 'the', 'year', '2000', 'to', '550', 'mln', 'kilolitres', '(kl)', 'from', '600\\n', '', 'mln,', 'they', 'said']\n"
     ]
    }
   ],
   "source": [
    "sent = article1.split('.')[1]\n",
    "\n",
    "print(sent.split(' '))"
   ]
  },
  {
   "cell_type": "markdown",
   "metadata": {},
   "source": [
    "## NLTK tokenization"
   ]
  },
  {
   "cell_type": "code",
   "execution_count": 27,
   "metadata": {},
   "outputs": [
    {
     "name": "stderr",
     "output_type": "stream",
     "text": [
      "[nltk_data] Downloading package punkt to\n",
      "[nltk_data]     C:\\Users\\TribThapa\\AppData\\Roaming\\nltk_data...\n",
      "[nltk_data]   Unzipping tokenizers\\punkt.zip.\n"
     ]
    },
    {
     "data": {
      "text/plain": [
       "['JAPAN TO REVISE LONG-TERM ENERGY DEMAND DOWNWARDS\\n  The Ministry of International Trade and\\n  Industry (MITI) will revise its long-term energy supply/demand\\n  outlook by August to meet a forecast downtrend in Japanese\\n  energy demand, ministry officials said.',\n",
       " 'MITI is expected to lower the projection for primary energy\\n  supplies in the year 2000 to 550 mln kilolitres (kl) from 600\\n  mln, they said.',\n",
       " 'The decision follows the emergence of structural changes in\\n  Japanese industry following the rise in the value of the yen\\n  and a decline in domestic electric power demand.',\n",
       " 'MITI is planning to work out a revised energy supply/demand\\n  outlook through deliberations of committee meetings of the\\n  Agency of Natural Resources and Energy, the officials said.',\n",
       " 'They said MITI will also review the breakdown of energy\\n  supply sources, including oil, nuclear, coal and natural gas.',\n",
       " \"Nuclear energy provided the bulk of Japan's electric power\\n  in the fiscal year ended March 31, supplying an estimated 27\\n  pct on a kilowatt/hour basis, followed by oil (23 pct) and\\n  liquefied natural gas (21 pct), they noted.\"]"
      ]
     },
     "execution_count": 27,
     "metadata": {},
     "output_type": "execute_result"
    }
   ],
   "source": [
    "# Now using NLTK's sent_tokenize function\n",
    "nltk.download('punkt')\n",
    "\n",
    "sent_tokenize(article1)"
   ]
  },
  {
   "cell_type": "code",
   "execution_count": 28,
   "metadata": {},
   "outputs": [
    {
     "name": "stdout",
     "output_type": "stream",
     "text": [
      "['JAPAN', 'TO', 'REVISE', 'LONG-TERM', 'ENERGY', 'DEMAND', 'DOWNWARDS', 'The', 'Ministry', 'of', 'International', 'Trade', 'and', 'Industry', '(', 'MITI', ')', 'will', 'revise', 'its', 'long-term', 'energy', 'supply/demand', 'outlook', 'by', 'August', 'to', 'meet', 'a', 'forecast', 'downtrend', 'in', 'Japanese', 'energy', 'demand', ',', 'ministry', 'officials', 'said']\n"
     ]
    }
   ],
   "source": [
    "#...and word_tokenize function\n",
    "print(word_tokenize(sent))"
   ]
  }
 ],
 "metadata": {
  "kernelspec": {
   "display_name": "Python 3",
   "language": "python",
   "name": "python3"
  },
  "language_info": {
   "codemirror_mode": {
    "name": "ipython",
    "version": 3
   },
   "file_extension": ".py",
   "mimetype": "text/x-python",
   "name": "python",
   "nbconvert_exporter": "python",
   "pygments_lexer": "ipython3",
   "version": "3.8.8"
  }
 },
 "nbformat": 4,
 "nbformat_minor": 4
}
