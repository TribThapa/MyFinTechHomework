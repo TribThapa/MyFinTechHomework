{
 "cells": [
  {
   "cell_type": "code",
   "execution_count": 7,
   "metadata": {},
   "outputs": [
    {
     "name": "stdout",
     "output_type": "stream",
     "text": [
      "620.92\n",
      "The bond is selling at $450 and is valued at $620.92.\n",
      "A discount of $170.92 exists, therefore you want to buy the bond. \n"
     ]
    }
   ],
   "source": [
    "# This script will calculate the present value of zero-coupon bonds, compare the present value to the price of the bond, and determine the corresponding action (buy, not buy, neutral).\n",
    "\n",
    "\n",
    "def calculate_present_value (future_value, discount_rate, compounding_rate, years):\n",
    "    present_value = future_value / ((1+(discount_rate / compounding_rate)) ** (compounding_rate * years))\n",
    "    present_value_formatted = round(present_value, 2)\n",
    "    return present_value_formatted\n",
    "\n",
    "price = 450\n",
    "future_value = 1000\n",
    "discount_rate = 0.1\n",
    "compounding_rate = 1\n",
    "years = 5\n",
    "\n",
    "\n",
    "# Call the calculate_present_value() function\n",
    "bond_value = calculate_present_value(future_value, discount_rate, compounding_rate, years)\n",
    "print(bond_value)\n",
    "\n",
    "# Determine if the bond is worth it\n",
    "if bond_value > price:\n",
    "    discount = round(bond_value - price, 2)\n",
    "    print(f\"The bond is selling at ${price} and is valued at ${bond_value}.\")\n",
    "    print(f\"A discount of ${discount} exists, therefore you want to buy the bond. \")\n",
    "elif bond_value < price:\n",
    "    premium = round(price - bond_value, 2)\n",
    "    print(f\"The bond is selling at ${price}, and is valued at ${bond_value}.\")\n",
    "    print(f\"If you buy, you will pay a premium of ${premium}. Therefore, would recommend: not buy.\")\n",
    "else:\n",
    "    print(f\"The bond is selling at a price of ${price} and is valued at ${bond_value}\")\n",
    "    print(f\"If the bond is selling at its present value, you are neutral. \")"
   ]
  },
  {
   "cell_type": "code",
   "execution_count": null,
   "metadata": {},
   "outputs": [],
   "source": []
  }
 ],
 "metadata": {
  "kernelspec": {
   "display_name": "Python 3",
   "language": "python",
   "name": "python3"
  },
  "language_info": {
   "codemirror_mode": {
    "name": "ipython",
    "version": 3
   },
   "file_extension": ".py",
   "mimetype": "text/x-python",
   "name": "python",
   "nbconvert_exporter": "python",
   "pygments_lexer": "ipython3",
   "version": "3.7.1"
  }
 },
 "nbformat": 4,
 "nbformat_minor": 2
}
