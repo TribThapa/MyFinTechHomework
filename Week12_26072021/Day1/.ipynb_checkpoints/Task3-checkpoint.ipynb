{
 "cells": [
  {
   "cell_type": "code",
   "execution_count": 1,
   "id": "ef9aaf9d-7331-44b6-aea9-4bb948cc8f16",
   "metadata": {},
   "outputs": [
    {
     "name": "stderr",
     "output_type": "stream",
     "text": [
      "[nltk_data] Downloading package wordnet to\n",
      "[nltk_data]     C:\\Users\\TribThapa\\AppData\\Roaming\\nltk_data...\n",
      "[nltk_data]   Package wordnet is already up-to-date!\n",
      "[nltk_data] Downloading package punkt to\n",
      "[nltk_data]     C:\\Users\\TribThapa\\AppData\\Roaming\\nltk_data...\n",
      "[nltk_data]   Package punkt is already up-to-date!\n"
     ]
    },
    {
     "data": {
      "text/plain": [
       "True"
      ]
     },
     "execution_count": 1,
     "metadata": {},
     "output_type": "execute_result"
    }
   ],
   "source": [
    "from nltk.stem import WordNetLemmatizer \n",
    "from nltk.tokenize import word_tokenize\n",
    "from nltk.corpus import reuters\n",
    "import nltk\n",
    "nltk.download('wordnet')\n",
    "nltk.download('punkt')"
   ]
  },
  {
   "cell_type": "code",
   "execution_count": 2,
   "id": "aa25ba0c-b69b-4f87-ac53-38e8fd3f8577",
   "metadata": {},
   "outputs": [],
   "source": [
    "lemmatizer = WordNetLemmatizer()"
   ]
  },
  {
   "cell_type": "code",
   "execution_count": 3,
   "id": "26b9f7ef-1ee1-4171-b797-70f78465c4f4",
   "metadata": {},
   "outputs": [
    {
     "data": {
      "text/plain": [
       "'box'"
      ]
     },
     "execution_count": 3,
     "metadata": {},
     "output_type": "execute_result"
    }
   ],
   "source": [
    "lemmatizer.lemmatize('boxes')"
   ]
  },
  {
   "cell_type": "code",
   "execution_count": 4,
   "id": "688d20f7-fe48-48ed-a11d-da53740ce305",
   "metadata": {},
   "outputs": [
    {
     "data": {
      "text/plain": [
       "'goose'"
      ]
     },
     "execution_count": 4,
     "metadata": {},
     "output_type": "execute_result"
    }
   ],
   "source": [
    "lemmatizer.lemmatize('geese')"
   ]
  },
  {
   "cell_type": "code",
   "execution_count": 5,
   "id": "04a0613e-4f3c-42bf-848a-531eaf13957a",
   "metadata": {},
   "outputs": [
    {
     "data": {
      "text/plain": [
       "'Monday'"
      ]
     },
     "execution_count": 5,
     "metadata": {},
     "output_type": "execute_result"
    }
   ],
   "source": [
    "lemmatizer.lemmatize('Monday')"
   ]
  },
  {
   "cell_type": "code",
   "execution_count": 6,
   "id": "25f7ca2e-9987-40ea-b69a-75df208140ac",
   "metadata": {},
   "outputs": [
    {
     "data": {
      "text/plain": [
       "'greater'"
      ]
     },
     "execution_count": 6,
     "metadata": {},
     "output_type": "execute_result"
    }
   ],
   "source": [
    "lemmatizer.lemmatize('greater')"
   ]
  },
  {
   "cell_type": "code",
   "execution_count": 8,
   "id": "ecac0668-2d99-4347-8dff-5a7ee1c836eb",
   "metadata": {},
   "outputs": [
    {
     "data": {
      "text/plain": [
       "'great'"
      ]
     },
     "execution_count": 8,
     "metadata": {},
     "output_type": "execute_result"
    }
   ],
   "source": [
    "lemmatizer.lemmatize('greater', pos='a)"
   ]
  },
  {
   "cell_type": "code",
   "execution_count": 9,
   "id": "85686d57-6045-4a70-a940-cae02c8eacca",
   "metadata": {},
   "outputs": [
    {
     "name": "stdout",
     "output_type": "stream",
     "text": [
      "['The', 'foxes', 'walk', 'into', 'the', 'boxes', '.']\n"
     ]
    }
   ],
   "source": [
    "sentence = 'The foxes walk into the boxes.'\n",
    "\n",
    "words = word_tokenize(sentence)\n",
    "\n",
    "print(words)"
   ]
  },
  {
   "cell_type": "code",
   "execution_count": 11,
   "id": "4a748df7-d53a-4c2e-909c-a6475493e98e",
   "metadata": {},
   "outputs": [
    {
     "name": "stdout",
     "output_type": "stream",
     "text": [
      "['The', 'fox', 'walk', 'into', 'the', 'box', '.']\n"
     ]
    }
   ],
   "source": [
    "result = [lemmatizer.lemmatize(word) for word in words]\n",
    "\n",
    "print(result)"
   ]
  },
  {
   "cell_type": "code",
   "execution_count": 13,
   "id": "eeed03e7-8da9-483b-867a-ba0463fdfeab",
   "metadata": {},
   "outputs": [
    {
     "data": {
      "text/plain": [
       "['The', 'fox', 'walk', 'into', 'the', 'box', '.']"
      ]
     },
     "execution_count": 13,
     "metadata": {},
     "output_type": "execute_result"
    }
   ],
   "source": [
    "new_list = []\n",
    "\n",
    "for i in words:\n",
    "    \n",
    "    lem = lemmatizer.lemmatize(i)\n",
    "    \n",
    "    new_list.append(lem)\n",
    "\n",
    "new_list"
   ]
  },
  {
   "cell_type": "markdown",
   "id": "c62c31d5-061c-40bd-bf29-6ce992dabab6",
   "metadata": {},
   "source": [
    "# Task 3"
   ]
  },
  {
   "cell_type": "code",
   "execution_count": 14,
   "id": "c6f77c6e-d54c-4b10-9482-97347c11a1ad",
   "metadata": {},
   "outputs": [],
   "source": [
    "from nltk.stem import WordNetLemmatizer \n",
    "from nltk.tokenize import word_tokenize\n",
    "from nltk.corpus import reuters, stopwords\n",
    "import re\n",
    "\n",
    "lemmatizer = WordNetLemmatizer()"
   ]
  },
  {
   "cell_type": "code",
   "execution_count": 27,
   "id": "a1571ae0-197a-4d15-a4a4-297f8b7a28d3",
   "metadata": {},
   "outputs": [
    {
     "name": "stdout",
     "output_type": "stream",
     "text": [
      "HUNGARY RAISES PRICES IN EFFORT TO CURB DEFICIT\n",
      "  Hungary has announced sharp price\n",
      "  increases for a range of food and consumer products as part of\n",
      "  its efforts to curb a soaring budget deficit.\n",
      "      The official MTI news agency said the government decided\n",
      "  consumer price subsidies had to be cut to reduce state\n",
      "  spending. From today the price of meat will rise by an average\n",
      "  18 pct and that of beer and spirits by 10 pct, MTI said.\n",
      "      MTI said consumer goods will also become more expensive,\n",
      "  with the price of refrigerators rising some five pct. It also\n",
      "  announced a number of measures to ease hardship, including\n",
      "  higher pensions and family allowances.\n",
      "      Statistics indicate the budget deficit tripled in 1986 to\n",
      "  47 billion forints. Central banker Janos Fekete has said the\n",
      "  Finance Ministry is trying to cut the 1987 shortfall to between\n",
      "  30 and 35 billion from a planned 43.8 billion.\n",
      "      A major tax reform, including the introduction of a\n",
      "  Western-style valued added tax, is planned for January 1988 in\n",
      "  an effort to cure problems in state spending.\n",
      "      But diplomats said the latest announcement shows the\n",
      "  authorities were forced to act quickly to keep this year's\n",
      "  deficit under control.\n",
      "      The measures are also aimed at cooling an overheated\n",
      "  economy, and could help dampen Hungarians' appetite for\n",
      "  imported Western goods which consume increasingly expensive\n",
      "  hard currency, the diplomats said.\n",
      "      The diplomats also said, however, that they did not expect\n",
      "  the kind of social unrest that followed sharp price rises in\n",
      "  other East Bloc states, notably Poland.\n",
      "  \n",
      "\n",
      "\n"
     ]
    },
    {
     "data": {
      "text/plain": [
       "str"
      ]
     },
     "execution_count": 27,
     "metadata": {},
     "output_type": "execute_result"
    }
   ],
   "source": [
    "article = reuters.raw(fileids=reuters.fileids(categories='cpi')[2])\n",
    "\n",
    "print(article)\n",
    "\n",
    "type(article)"
   ]
  },
  {
   "cell_type": "code",
   "execution_count": 40,
   "id": "aebdc454-52b6-4d50-8266-fbf89e8432a0",
   "metadata": {},
   "outputs": [],
   "source": [
    "def clean_text(article):\n",
    "    \n",
    "    regex = re.compile(\"[^a-aA-Z ]\") \n",
    "    \n",
    "    sw = set(stopwords.words(\"english\")) \n",
    "    \n",
    "    re_clean = regex.sub('', article) \n",
    "    \n",
    "    words_tok = word_tokenize(re_clean)\n",
    "    \n",
    "    lem = [lemmatizer.lemmatize(word) for word in words_tok]\n",
    "    \n",
    "    result = [word.lower() for word in lem if word.lower() not in sw]\n",
    "            \n",
    "    return result"
   ]
  },
  {
   "cell_type": "code",
   "execution_count": 41,
   "id": "79a19319-aca5-4278-8646-2fa80c6cda9c",
   "metadata": {},
   "outputs": [
    {
     "name": "stdout",
     "output_type": "stream",
     "text": [
      "['hungary', 'raises', 'prices', 'effort', 'curb', 'deficit', 'ha', 'mti', 'f', 'aa', 'mti', 'mti', 'aa', 'sa', 'ca', 'ja', 'f', 'fa', 'w', 'jaa', 'b', 'haa', 'w', 'ea', 'b', 'pa']\n"
     ]
    }
   ],
   "source": [
    "res = clean_text(article)\n",
    "\n",
    "print(res)"
   ]
  },
  {
   "cell_type": "code",
   "execution_count": null,
   "id": "c530c30c-a9a2-4fac-aa11-df99c386cbe2",
   "metadata": {},
   "outputs": [],
   "source": []
  }
 ],
 "metadata": {
  "kernelspec": {
   "display_name": "Python 3",
   "language": "python",
   "name": "python3"
  },
  "language_info": {
   "codemirror_mode": {
    "name": "ipython",
    "version": 3
   },
   "file_extension": ".py",
   "mimetype": "text/x-python",
   "name": "python",
   "nbconvert_exporter": "python",
   "pygments_lexer": "ipython3",
   "version": "3.8.8"
  }
 },
 "nbformat": 4,
 "nbformat_minor": 5
}
