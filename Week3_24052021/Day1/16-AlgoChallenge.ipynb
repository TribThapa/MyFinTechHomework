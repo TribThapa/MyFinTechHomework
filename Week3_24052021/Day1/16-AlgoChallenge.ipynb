{
 "cells": [
  {
   "cell_type": "code",
   "execution_count": 34,
   "metadata": {},
   "outputs": [
    {
     "name": "stdin",
     "output_type": "stream",
     "text": [
      "Input your password:  11Tha\n"
     ]
    },
    {
     "name": "stdout",
     "output_type": "stream",
     "text": [
      "11Tha\n",
      "Your password is of average strength\n"
     ]
    }
   ],
   "source": [
    "import string\n",
    "\n",
    "new_string = 'Thapa'\n",
    "\n",
    "def check_strength(password):\n",
    "    contains_number = False\n",
    "    contains_letter = False    \n",
    "    count = 0\n",
    "    \n",
    "    for char in password:\n",
    "        count += 1   \n",
    "        if char.isdigit():\n",
    "            contains_number = True\n",
    "        elif char.isupper():\n",
    "            contains_letter = True\n",
    "        elif char.islower():\n",
    "            contains_letter = True       \n",
    "        else:\n",
    "            False\n",
    "        \n",
    "    #print(count)\n",
    "    \n",
    "    if count <= 6 and contains_letter == False:\n",
    "        print('Your password is too weak.')\n",
    "    elif count >=6 and contains_letter == True and contains_number == True:\n",
    "        print('Your password is a strong password.')\n",
    "    else:\n",
    "        print('Your password is of average strength')\n",
    "        \n",
    "    return\n",
    "\n",
    "user_input_password = input('Input your password: ')\n",
    "print(user_input_password)\n",
    "\n",
    "check_strength(user_input_password)"
   ]
  }
 ],
 "metadata": {
  "kernelspec": {
   "display_name": "Python 3",
   "language": "python",
   "name": "python3"
  },
  "language_info": {
   "codemirror_mode": {
    "name": "ipython",
    "version": 3
   },
   "file_extension": ".py",
   "mimetype": "text/x-python",
   "name": "python",
   "nbconvert_exporter": "python",
   "pygments_lexer": "ipython3",
   "version": "3.7.1"
  }
 },
 "nbformat": 4,
 "nbformat_minor": 2
}
