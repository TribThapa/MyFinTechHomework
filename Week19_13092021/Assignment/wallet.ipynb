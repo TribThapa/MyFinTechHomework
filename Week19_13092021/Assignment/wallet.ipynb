{
 "cells": [
  {
   "cell_type": "code",
   "execution_count": 1,
   "id": "2ec15a61-3f16-45f8-9c3e-e164feadc81b",
   "metadata": {},
   "outputs": [
    {
     "data": {
      "text/plain": [
       "True"
      ]
     },
     "execution_count": 1,
     "metadata": {},
     "output_type": "execute_result"
    }
   ],
   "source": [
    "# Import dependencies\n",
    "import subprocess\n",
    "import json\n",
    "from dotenv import load_dotenv\n",
    "\n",
    "import os \n",
    "from dotenv import load_dotenv\n",
    "from pathlib import Path\n",
    "\n",
    "from constants import *\n",
    "from web3 import Web3\n",
    "from eth_account import Account \n",
    "\n",
    "from web3.middleware import geth_poa_middleware\n",
    "from bit import PrivateKeyTestnet\n",
    "from bit.network import NetworkAPI\n",
    "\n",
    "load_dotenv()"
   ]
  },
  {
   "cell_type": "code",
   "execution_count": 4,
   "id": "035a3f6d-9f09-43ac-8d10-9e658cbc1592",
   "metadata": {},
   "outputs": [
    {
     "name": "stdout",
     "output_type": "stream",
     "text": [
      "<class 'str'>\n"
     ]
    }
   ],
   "source": [
    "#mnemonic = os.getenv('mnemonic')\n",
    "\n",
    "mnemonic = os.getenv('MNEMONIC','mass dentist model lounge congress lesson caught exotic lava select silent divert')\n",
    "\n",
    "print(type(mnemonic))\n",
    "\n",
    "coins = {BTC, ETH, BTCTEST}"
   ]
  },
  {
   "cell_type": "code",
   "execution_count": 12,
   "id": "d4243c1a-a58e-4581-9676-a01aaeed4e40",
   "metadata": {},
   "outputs": [],
   "source": [
    "def derive_wallets(mnemonic, coin, numderive):\n",
    "    command = f\"php./hd-wallet-derive/hd-wallet-derive.php -g --mnemonic='{mnemonic}' --coin='{coin}'  --numderive='{numderive}' --cols=path,address,privkey,pubkey --format=json\"\n",
    "\n",
    "    p = subprocess.Popen(command, stdout=subprocess.PIPE, shell=True)\n",
    "    output, err = p.communicate()\n",
    "    p_status = p.wait()\n",
    "\n",
    "    keys = json.loads(output)\n",
    "    \n",
    "    return print(keys)\n",
    "\n",
    "\n",
    "\n",
    "\n",
    "def coins():\n",
    "    coin_dict = {}\n",
    "    \n",
    "    for i in coins:\n",
    "        \n",
    "        coin_dict[i] = derive_wallets(mnemonic, i, 3)\n",
    "        \n",
    "    return coin_dict\n",
    "\n",
    "\n",
    "\n",
    "\n",
    "\n",
    "\n",
    "def priv_key_to_account(coin, priv_key):\n",
    "    if coin == ETH:\n",
    "        private_key = Account.privateKeyToAccount(priv_key)\n",
    "    elif coin == BTCTEST:\n",
    "        private_key = PrivateKeyTestnet(priv_key)\n",
    "    return private_key\n",
    "\n",
    "\n",
    "\n",
    "\n",
    "\n",
    "\n",
    "def create_tx(coin, account, to, amount):\n",
    "    if coin=='eth':\n",
    "        gasEstimate = w3.eth.estimateGas({\"from\": account.address, \"to\": to, \"value\": amount})\n",
    "        return { \"from\": account.address,\n",
    "                \"to\": to,\n",
    "                \"value\": amount,\n",
    "                \"gas\": gasEstimate,\n",
    "                \"gasPrice\": w3.eth.gasPrice,\n",
    "                \"nonce\": w3.eth.getTransactionCount(account.address)}\n",
    "    \n",
    "    elif coin=='btc-test':        \n",
    "        return PrivateKeyTestnet.prepare_transaction(account.address, [(to, amount, BTC)])\n",
    "    \n",
    "    \n",
    "    \n",
    "    \n",
    "    \n",
    "def send_tx(coin, account, to, amount):\n",
    "    \n",
    "    tx = create_tx(coin, account, to, amount)\n",
    "    \n",
    "    signed_tx = account.sign_transaction(tx)\n",
    "    \n",
    "    if coin=='eth':\n",
    "        result = w3.eth.sendRawTransaction(signed_tx.rawTransaction)\n",
    "        \n",
    "        return result.hex()\n",
    "    \n",
    "    elif coin=='btc-test':\n",
    "        \n",
    "        return NetworkAPI.broadcast_tx_testnet(signed_tx) \n",
    "    "
   ]
  },
  {
   "cell_type": "code",
   "execution_count": 3,
   "id": "c038aea7-a6e6-476c-98b7-a2a79503f73b",
   "metadata": {},
   "outputs": [],
   "source": [
    "\n"
   ]
  },
  {
   "cell_type": "code",
   "execution_count": null,
   "id": "8a3d28e0-31f9-4058-b14b-a544a4533c55",
   "metadata": {},
   "outputs": [],
   "source": []
  }
 ],
 "metadata": {
  "kernelspec": {
   "display_name": "Python 3",
   "language": "python",
   "name": "python3"
  },
  "language_info": {
   "codemirror_mode": {
    "name": "ipython",
    "version": 3
   },
   "file_extension": ".py",
   "mimetype": "text/x-python",
   "name": "python",
   "nbconvert_exporter": "python",
   "pygments_lexer": "ipython3",
   "version": "3.7.10"
  }
 },
 "nbformat": 4,
 "nbformat_minor": 5
}
