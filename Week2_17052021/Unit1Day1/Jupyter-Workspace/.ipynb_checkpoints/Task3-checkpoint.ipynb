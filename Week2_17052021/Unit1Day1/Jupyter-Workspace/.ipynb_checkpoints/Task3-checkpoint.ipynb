{
 "cells": [
  {
   "cell_type": "code",
   "execution_count": 9,
   "metadata": {},
   "outputs": [
    {
     "name": "stdout",
     "output_type": "stream",
     "text": [
      "When 48 miles was converted to kilometers the value was 77.25 kms.\n",
      "When 48 miles was converted to kilometers the value was 77.248536 kms.\n",
      "<class 'int'>\n",
      "<class 'str'>\n"
     ]
    }
   ],
   "source": [
    "miles = 48\n",
    "\n",
    "kilometers = round((miles / 0.621371), 2)\n",
    "\n",
    "kilometers2 = (miles / 0.621371)\n",
    "\n",
    "message = print(f\"When {miles} miles was converted to kilometers the value was {kilometers} kms.\")\n",
    "\n",
    "message = print(f\"When {miles} miles was converted to kilometers the value was {kilometers2:2f} kms.\")\n",
    "\n",
    "print(type(miles))\n",
    "\n",
    "a = str(miles)\n",
    "print(type(a))"
   ]
  },
  {
   "cell_type": "code",
   "execution_count": 18,
   "metadata": {},
   "outputs": [
    {
     "name": "stdout",
     "output_type": "stream",
     "text": [
      "bring umberella\n"
     ]
    }
   ],
   "source": [
    "is_raining = True\n",
    "\n",
    "if is_raining:\n",
    "    print('bring umberella')\n",
    "else:\n",
    "    print('no umberella needed ')"
   ]
  },
  {
   "cell_type": "code",
   "execution_count": 22,
   "metadata": {},
   "outputs": [
    {
     "name": "stdout",
     "output_type": "stream",
     "text": [
      "x (5) and y (10) are not equal. \n"
     ]
    }
   ],
   "source": [
    "x = 5 \n",
    "y = 10 \n",
    "\n",
    "if x == y:\n",
    "    print(f\"x and y have equal values, which are {x} and {y}\")\n",
    "else:\n",
    "    print(f\"x ({x}) and y ({y}) are not equal. \")"
   ]
  },
  {
   "cell_type": "code",
   "execution_count": 24,
   "metadata": {},
   "outputs": [
    {
     "name": "stdout",
     "output_type": "stream",
     "text": [
      "Insurance premium will increase. True or False? \n",
      "Prediction: False\n"
     ]
    }
   ],
   "source": [
    "accident = True\n",
    "at_fault = False\n",
    "accident_forgiveness = True\n",
    "elite_status = True\n",
    "\n",
    "increase_insurance_premium = True\n",
    "\n",
    "print(\"Insurance premium will increase. True or False? \")\n",
    "\n",
    "if accident:\n",
    "    if at_fault and accident_forgiveness:\n",
    "        increase_insurance_premium = False\n",
    "    elif at_fault and not accident_forgiveness and not elite_status:\n",
    "        increase_insurance_premium = True\n",
    "    else:\n",
    "        increase_insurance_premium = False\n",
    "elif not accident and elite_status:\n",
    "    increase_insurance_premium = False\n",
    "else:\n",
    "    increase_insurance_premium = True\n",
    "    \n",
    "print(f\"Prediction: {increase_insurance_premium}\")"
   ]
  },
  {
   "cell_type": "code",
   "execution_count": null,
   "metadata": {},
   "outputs": [],
   "source": []
  }
 ],
 "metadata": {
  "kernelspec": {
   "display_name": "Python 3",
   "language": "python",
   "name": "python3"
  },
  "language_info": {
   "codemirror_mode": {
    "name": "ipython",
    "version": 3
   },
   "file_extension": ".py",
   "mimetype": "text/x-python",
   "name": "python",
   "nbconvert_exporter": "python",
   "pygments_lexer": "ipython3",
   "version": "3.7.1"
  }
 },
 "nbformat": 4,
 "nbformat_minor": 2
}
