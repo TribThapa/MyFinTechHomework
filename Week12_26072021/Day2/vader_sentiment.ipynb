{
 "cells": [
  {
   "cell_type": "markdown",
   "metadata": {},
   "source": [
    "# Instructor Do: Intro to VADER Sentiment"
   ]
  },
  {
   "cell_type": "code",
   "execution_count": 21,
   "metadata": {},
   "outputs": [],
   "source": [
    "# Initial imports\n",
    "import os\n",
    "from path import Path\n",
    "import pandas as pd\n",
    "from newsapi import NewsApiClient\n",
    "import nltk\n",
    "from dotenv import load_dotenv\n",
    "from nltk.sentiment.vader import SentimentIntensityAnalyzer"
   ]
  },
  {
   "cell_type": "code",
   "execution_count": 22,
   "metadata": {},
   "outputs": [
    {
     "name": "stderr",
     "output_type": "stream",
     "text": [
      "[nltk_data] Downloading package vader_lexicon to\n",
      "[nltk_data]     C:\\Users\\TribThapa\\AppData\\Roaming\\nltk_data...\n",
      "[nltk_data]   Package vader_lexicon is already up-to-date!\n"
     ]
    }
   ],
   "source": [
    "# Download/Update the VADER Lexicon\n",
    "nltk.download('vader_lexicon')\n",
    "\n",
    "# Initialize the VADER sentiment analyzer\n",
    "analyzer = SentimentIntensityAnalyzer()"
   ]
  },
  {
   "cell_type": "code",
   "execution_count": 23,
   "metadata": {},
   "outputs": [
    {
     "data": {
      "text/plain": [
       "str"
      ]
     },
     "execution_count": 23,
     "metadata": {},
     "output_type": "execute_result"
    }
   ],
   "source": [
    "# Load environment variables and read the News API key enviroment variable\n",
    "load_dotenv()\n",
    "api_key = os.getenv(\"NEWS_API_KEY\")\n",
    "\n",
    "type(api_key)"
   ]
  },
  {
   "cell_type": "code",
   "execution_count": 24,
   "metadata": {},
   "outputs": [],
   "source": [
    "# Create a newsapi client\n",
    "newsapi = NewsApiClient(api_key=api_key)"
   ]
  },
  {
   "cell_type": "code",
   "execution_count": 25,
   "metadata": {},
   "outputs": [
    {
     "name": "stdout",
     "output_type": "stream",
     "text": [
      "Total articles about Facebook Libra: 67\n"
     ]
    },
    {
     "data": {
      "text/plain": [
       "{'source': {'id': 'the-verge', 'name': 'The Verge'},\n",
       " 'author': 'Richard Lawler',\n",
       " 'title': 'Facebook’s payment system extends to online retailers in August',\n",
       " 'description': 'Starting in August, Facebook Pay will be available for third-party retailers, joining buttons for PayPal, Amazon, Google, and others. It keeps your credit card information secure, but will provide information about your purchases to Facebook.',\n",
       " 'url': 'https://www.theverge.com/2021/7/15/22578676/facebook-pay-button-shopify-online-payments',\n",
       " 'urlToImage': 'https://cdn.vox-cdn.com/thumbor/RKYjLazuTxjNs5ZezTDCT-j5kVA=/0x146:2040x1214/fit-in/1200x630/cdn.vox-cdn.com/uploads/chorus_asset/file/12742497/acastro_180828_1777_facebook_0002.jpg',\n",
       " 'publishedAt': '2021-07-15T19:48:15Z',\n",
       " 'content': 'Shopify stores are up first\\r\\nIllustration by Alex Castro / The Verge\\r\\nOnline shoppers will eventually see another option listed next to the usual payment methods, now that Facebook Pay will expand be… [+1769 chars]'}"
      ]
     },
     "execution_count": 25,
     "metadata": {},
     "output_type": "execute_result"
    }
   ],
   "source": [
    "# Fetch all the news about Facebook Libra\n",
    "libra_headlines = newsapi.get_everything(q=\"facebook AND Libra\",\n",
    "                                         language='en',\n",
    "                                         page_size=100,\n",
    "                                         sort_by='relevancy')\n",
    "\n",
    "# Print total articles\n",
    "print(f\"Total articles about Facebook Libra: {libra_headlines['totalResults']}\")\n",
    "\n",
    "# Show sample article\n",
    "libra_headlines[\"articles\"][0]"
   ]
  },
  {
   "cell_type": "code",
   "execution_count": 26,
   "metadata": {},
   "outputs": [
    {
     "name": "stdout",
     "output_type": "stream",
     "text": [
      "{'neg': 0.039, 'neu': 0.896, 'pos': 0.064, 'compound': 0.2263}\n",
      "{'neg': 0.0, 'neu': 1.0, 'pos': 0.0, 'compound': 0.0}\n",
      "{'neg': 0.071, 'neu': 0.929, 'pos': 0.0, 'compound': -0.25}\n",
      "{'neg': 0.061, 'neu': 0.939, 'pos': 0.0, 'compound': -0.25}\n",
      "{'neg': 0.0, 'neu': 0.878, 'pos': 0.122, 'compound': 0.4404}\n",
      "{'neg': 0.059, 'neu': 0.847, 'pos': 0.094, 'compound': 0.3612}\n",
      "{'neg': 0.06, 'neu': 0.778, 'pos': 0.162, 'compound': 0.5267}\n",
      "{'neg': 0.0, 'neu': 0.952, 'pos': 0.048, 'compound': 0.1779}\n",
      "{'neg': 0.231, 'neu': 0.636, 'pos': 0.133, 'compound': -0.7992}\n",
      "{'neg': 0.038, 'neu': 0.797, 'pos': 0.165, 'compound': 0.5574}\n",
      "{'neg': 0.183, 'neu': 0.719, 'pos': 0.097, 'compound': -0.4019}\n",
      "{'neg': 0.0, 'neu': 0.874, 'pos': 0.126, 'compound': 0.7227}\n",
      "{'neg': 0.0, 'neu': 1.0, 'pos': 0.0, 'compound': 0.0}\n",
      "{'neg': 0.071, 'neu': 0.89, 'pos': 0.039, 'compound': -0.2732}\n",
      "{'neg': 0.034, 'neu': 0.846, 'pos': 0.12, 'compound': 0.5542}\n",
      "{'neg': 0.064, 'neu': 0.936, 'pos': 0.0, 'compound': -0.3252}\n",
      "{'neg': 0.062, 'neu': 0.814, 'pos': 0.124, 'compound': 0.2263}\n",
      "{'neg': 0.0, 'neu': 0.874, 'pos': 0.126, 'compound': 0.5994}\n",
      "{'neg': 0.064, 'neu': 0.936, 'pos': 0.0, 'compound': -0.3252}\n",
      "{'neg': 0.06, 'neu': 0.652, 'pos': 0.288, 'compound': 0.8126}\n",
      "{'neg': 0.0, 'neu': 0.909, 'pos': 0.091, 'compound': 0.4215}\n",
      "{'neg': 0.0, 'neu': 0.952, 'pos': 0.048, 'compound': 0.1779}\n",
      "{'neg': 0.0, 'neu': 0.752, 'pos': 0.248, 'compound': 0.872}\n",
      "{'neg': 0.0, 'neu': 0.954, 'pos': 0.046, 'compound': 0.1779}\n",
      "{'neg': 0.06, 'neu': 0.652, 'pos': 0.288, 'compound': 0.8126}\n",
      "{'neg': 0.05, 'neu': 0.767, 'pos': 0.183, 'compound': 0.6369}\n",
      "{'neg': 0.0, 'neu': 0.858, 'pos': 0.142, 'compound': 0.5859}\n",
      "{'neg': 0.071, 'neu': 0.929, 'pos': 0.0, 'compound': -0.25}\n",
      "{'neg': 0.0, 'neu': 1.0, 'pos': 0.0, 'compound': 0.0}\n",
      "{'neg': 0.0, 'neu': 0.942, 'pos': 0.058, 'compound': 0.2732}\n",
      "{'neg': 0.0, 'neu': 1.0, 'pos': 0.0, 'compound': 0.0}\n",
      "{'neg': 0.137, 'neu': 0.863, 'pos': 0.0, 'compound': -0.5801}\n",
      "{'neg': 0.0, 'neu': 0.942, 'pos': 0.058, 'compound': 0.2732}\n",
      "{'neg': 0.05, 'neu': 0.767, 'pos': 0.183, 'compound': 0.6369}\n",
      "{'neg': 0.0, 'neu': 0.873, 'pos': 0.127, 'compound': 0.4939}\n",
      "{'neg': 0.112, 'neu': 0.888, 'pos': 0.0, 'compound': -0.4404}\n",
      "{'neg': 0.0, 'neu': 0.954, 'pos': 0.046, 'compound': 0.1154}\n",
      "{'neg': 0.0, 'neu': 0.752, 'pos': 0.248, 'compound': 0.872}\n",
      "{'neg': 0.244, 'neu': 0.756, 'pos': 0.0, 'compound': -0.875}\n",
      "{'neg': 0.071, 'neu': 0.929, 'pos': 0.0, 'compound': -0.25}\n",
      "{'neg': 0.0, 'neu': 0.925, 'pos': 0.075, 'compound': 0.2716}\n",
      "{'neg': 0.0, 'neu': 0.831, 'pos': 0.169, 'compound': 0.6705}\n",
      "{'neg': 0.0, 'neu': 0.865, 'pos': 0.135, 'compound': 0.5719}\n",
      "{'neg': 0.163, 'neu': 0.837, 'pos': 0.0, 'compound': -0.6808}\n",
      "{'neg': 0.0, 'neu': 0.915, 'pos': 0.085, 'compound': 0.4019}\n",
      "{'neg': 0.0, 'neu': 0.758, 'pos': 0.242, 'compound': 0.872}\n",
      "{'neg': 0.0, 'neu': 1.0, 'pos': 0.0, 'compound': 0.0}\n",
      "{'neg': 0.06, 'neu': 0.652, 'pos': 0.288, 'compound': 0.8126}\n",
      "{'neg': 0.0, 'neu': 0.962, 'pos': 0.038, 'compound': 0.0772}\n",
      "{'neg': 0.0, 'neu': 0.861, 'pos': 0.139, 'compound': 0.5173}\n",
      "{'neg': 0.0, 'neu': 1.0, 'pos': 0.0, 'compound': 0.0}\n",
      "{'neg': 0.0, 'neu': 0.954, 'pos': 0.046, 'compound': 0.1154}\n",
      "{'neg': 0.0, 'neu': 0.846, 'pos': 0.154, 'compound': 0.5994}\n",
      "{'neg': 0.0, 'neu': 1.0, 'pos': 0.0, 'compound': 0.0}\n",
      "{'neg': 0.0, 'neu': 0.938, 'pos': 0.062, 'compound': 0.2732}\n",
      "{'neg': 0.096, 'neu': 0.904, 'pos': 0.0, 'compound': -0.5106}\n",
      "{'neg': 0.0, 'neu': 0.843, 'pos': 0.157, 'compound': 0.6808}\n",
      "{'neg': 0.0, 'neu': 1.0, 'pos': 0.0, 'compound': 0.0}\n",
      "{'neg': 0.0, 'neu': 0.894, 'pos': 0.106, 'compound': 0.4215}\n",
      "{'neg': 0.064, 'neu': 0.936, 'pos': 0.0, 'compound': -0.2263}\n",
      "{'neg': 0.0, 'neu': 1.0, 'pos': 0.0, 'compound': 0.0}\n",
      "{'neg': 0.0, 'neu': 0.752, 'pos': 0.248, 'compound': 0.872}\n",
      "{'neg': 0.0, 'neu': 0.752, 'pos': 0.248, 'compound': 0.872}\n",
      "{'neg': 0.0, 'neu': 0.752, 'pos': 0.248, 'compound': 0.872}\n",
      "{'neg': 0.0, 'neu': 0.752, 'pos': 0.248, 'compound': 0.872}\n",
      "{'neg': 0.0, 'neu': 0.88, 'pos': 0.12, 'compound': 0.5423}\n",
      "{'neg': 0.0, 'neu': 0.776, 'pos': 0.224, 'compound': 0.7944}\n"
     ]
    }
   ],
   "source": [
    "# Create the Facebook Libra sentiment scores DataFrame\n",
    "libra_sentiments = []\n",
    "\n",
    "for article in libra_headlines[\"articles\"]:\n",
    "    try:\n",
    "        text = article[\"content\"]\n",
    "        date = article[\"publishedAt\"][:10]\n",
    "        sentiment = analyzer.polarity_scores(text)\n",
    "        print(sentiment)\n",
    "        compound = sentiment[\"compound\"]\n",
    "        pos = sentiment[\"pos\"]\n",
    "        neu = sentiment[\"neu\"]\n",
    "        neg = sentiment[\"neg\"]\n",
    "        \n",
    "        libra_sentiments.append({\"text\": text,\n",
    "                                 \"date\": date,\n",
    "                                 \"compound\": compound,\n",
    "                                 \"positive\": pos,\n",
    "                                 \"neutral\": neu,\n",
    "                                 \"negative\": neg})\n",
    "    except AttributeError:\n",
    "        pass"
   ]
  },
  {
   "cell_type": "code",
   "execution_count": 27,
   "metadata": {},
   "outputs": [
    {
     "data": {
      "text/html": [
       "<div>\n",
       "<style scoped>\n",
       "    .dataframe tbody tr th:only-of-type {\n",
       "        vertical-align: middle;\n",
       "    }\n",
       "\n",
       "    .dataframe tbody tr th {\n",
       "        vertical-align: top;\n",
       "    }\n",
       "\n",
       "    .dataframe thead th {\n",
       "        text-align: right;\n",
       "    }\n",
       "</style>\n",
       "<table border=\"1\" class=\"dataframe\">\n",
       "  <thead>\n",
       "    <tr style=\"text-align: right;\">\n",
       "      <th></th>\n",
       "      <th>date</th>\n",
       "      <th>text</th>\n",
       "      <th>compound</th>\n",
       "      <th>positive</th>\n",
       "      <th>negative</th>\n",
       "      <th>neutral</th>\n",
       "    </tr>\n",
       "  </thead>\n",
       "  <tbody>\n",
       "    <tr>\n",
       "      <th>0</th>\n",
       "      <td>2021-07-15</td>\n",
       "      <td>Shopify stores are up first\\r\\nIllustration by...</td>\n",
       "      <td>0.2263</td>\n",
       "      <td>0.064</td>\n",
       "      <td>0.039</td>\n",
       "      <td>0.896</td>\n",
       "    </tr>\n",
       "    <tr>\n",
       "      <th>1</th>\n",
       "      <td>2021-07-28</td>\n",
       "      <td>The entrance sign to Facebook headquarters is ...</td>\n",
       "      <td>0.0000</td>\n",
       "      <td>0.000</td>\n",
       "      <td>0.000</td>\n",
       "      <td>1.000</td>\n",
       "    </tr>\n",
       "    <tr>\n",
       "      <th>2</th>\n",
       "      <td>2021-07-14</td>\n",
       "      <td>LONDON (Reuters) - Regulators are getting anxi...</td>\n",
       "      <td>-0.2500</td>\n",
       "      <td>0.000</td>\n",
       "      <td>0.071</td>\n",
       "      <td>0.929</td>\n",
       "    </tr>\n",
       "    <tr>\n",
       "      <th>3</th>\n",
       "      <td>2021-07-14</td>\n",
       "      <td>(The author is editor-at-large for finance and...</td>\n",
       "      <td>-0.2500</td>\n",
       "      <td>0.000</td>\n",
       "      <td>0.061</td>\n",
       "      <td>0.939</td>\n",
       "    </tr>\n",
       "    <tr>\n",
       "      <th>4</th>\n",
       "      <td>2021-07-26</td>\n",
       "      <td>Amazon may soon start taking bitcoin as paymen...</td>\n",
       "      <td>0.4404</td>\n",
       "      <td>0.122</td>\n",
       "      <td>0.000</td>\n",
       "      <td>0.878</td>\n",
       "    </tr>\n",
       "  </tbody>\n",
       "</table>\n",
       "</div>"
      ],
      "text/plain": [
       "         date                                               text  compound  \\\n",
       "0  2021-07-15  Shopify stores are up first\\r\\nIllustration by...    0.2263   \n",
       "1  2021-07-28  The entrance sign to Facebook headquarters is ...    0.0000   \n",
       "2  2021-07-14  LONDON (Reuters) - Regulators are getting anxi...   -0.2500   \n",
       "3  2021-07-14  (The author is editor-at-large for finance and...   -0.2500   \n",
       "4  2021-07-26  Amazon may soon start taking bitcoin as paymen...    0.4404   \n",
       "\n",
       "   positive  negative  neutral  \n",
       "0     0.064     0.039    0.896  \n",
       "1     0.000     0.000    1.000  \n",
       "2     0.000     0.071    0.929  \n",
       "3     0.000     0.061    0.939  \n",
       "4     0.122     0.000    0.878  "
      ]
     },
     "execution_count": 27,
     "metadata": {},
     "output_type": "execute_result"
    }
   ],
   "source": [
    "# Create DataFrame\n",
    "libra_df = pd.DataFrame(libra_sentiments)\n",
    "\n",
    "# Reorder DataFrame columns\n",
    "cols = [\"date\", \"text\", \"compound\", \"positive\", \"negative\", \"neutral\"]\n",
    "\n",
    "libra_df = libra_df[cols]\n",
    "\n",
    "libra_df.head()"
   ]
  },
  {
   "cell_type": "code",
   "execution_count": 28,
   "metadata": {},
   "outputs": [
    {
     "data": {
      "text/html": [
       "<div>\n",
       "<style scoped>\n",
       "    .dataframe tbody tr th:only-of-type {\n",
       "        vertical-align: middle;\n",
       "    }\n",
       "\n",
       "    .dataframe tbody tr th {\n",
       "        vertical-align: top;\n",
       "    }\n",
       "\n",
       "    .dataframe thead th {\n",
       "        text-align: right;\n",
       "    }\n",
       "</style>\n",
       "<table border=\"1\" class=\"dataframe\">\n",
       "  <thead>\n",
       "    <tr style=\"text-align: right;\">\n",
       "      <th></th>\n",
       "      <th>compound</th>\n",
       "      <th>positive</th>\n",
       "      <th>negative</th>\n",
       "      <th>neutral</th>\n",
       "    </tr>\n",
       "  </thead>\n",
       "  <tbody>\n",
       "    <tr>\n",
       "      <th>count</th>\n",
       "      <td>67.000000</td>\n",
       "      <td>67.000000</td>\n",
       "      <td>67.000000</td>\n",
       "      <td>67.000000</td>\n",
       "    </tr>\n",
       "    <tr>\n",
       "      <th>mean</th>\n",
       "      <td>0.242187</td>\n",
       "      <td>0.097104</td>\n",
       "      <td>0.033955</td>\n",
       "      <td>0.868910</td>\n",
       "    </tr>\n",
       "    <tr>\n",
       "      <th>std</th>\n",
       "      <td>0.462505</td>\n",
       "      <td>0.091598</td>\n",
       "      <td>0.055494</td>\n",
       "      <td>0.097684</td>\n",
       "    </tr>\n",
       "    <tr>\n",
       "      <th>min</th>\n",
       "      <td>-0.875000</td>\n",
       "      <td>0.000000</td>\n",
       "      <td>0.000000</td>\n",
       "      <td>0.636000</td>\n",
       "    </tr>\n",
       "    <tr>\n",
       "      <th>25%</th>\n",
       "      <td>0.000000</td>\n",
       "      <td>0.000000</td>\n",
       "      <td>0.000000</td>\n",
       "      <td>0.787500</td>\n",
       "    </tr>\n",
       "    <tr>\n",
       "      <th>50%</th>\n",
       "      <td>0.273200</td>\n",
       "      <td>0.085000</td>\n",
       "      <td>0.000000</td>\n",
       "      <td>0.880000</td>\n",
       "    </tr>\n",
       "    <tr>\n",
       "      <th>75%</th>\n",
       "      <td>0.599400</td>\n",
       "      <td>0.155500</td>\n",
       "      <td>0.060000</td>\n",
       "      <td>0.940500</td>\n",
       "    </tr>\n",
       "    <tr>\n",
       "      <th>max</th>\n",
       "      <td>0.872000</td>\n",
       "      <td>0.288000</td>\n",
       "      <td>0.244000</td>\n",
       "      <td>1.000000</td>\n",
       "    </tr>\n",
       "  </tbody>\n",
       "</table>\n",
       "</div>"
      ],
      "text/plain": [
       "        compound   positive   negative    neutral\n",
       "count  67.000000  67.000000  67.000000  67.000000\n",
       "mean    0.242187   0.097104   0.033955   0.868910\n",
       "std     0.462505   0.091598   0.055494   0.097684\n",
       "min    -0.875000   0.000000   0.000000   0.636000\n",
       "25%     0.000000   0.000000   0.000000   0.787500\n",
       "50%     0.273200   0.085000   0.000000   0.880000\n",
       "75%     0.599400   0.155500   0.060000   0.940500\n",
       "max     0.872000   0.288000   0.244000   1.000000"
      ]
     },
     "execution_count": 28,
     "metadata": {},
     "output_type": "execute_result"
    }
   ],
   "source": [
    "libra_df.describe()"
   ]
  }
 ],
 "metadata": {
  "kernelspec": {
   "display_name": "Python 3",
   "language": "python",
   "name": "python3"
  },
  "language_info": {
   "codemirror_mode": {
    "name": "ipython",
    "version": 3
   },
   "file_extension": ".py",
   "mimetype": "text/x-python",
   "name": "python",
   "nbconvert_exporter": "python",
   "pygments_lexer": "ipython3",
   "version": "3.8.8"
  }
 },
 "nbformat": 4,
 "nbformat_minor": 4
}
