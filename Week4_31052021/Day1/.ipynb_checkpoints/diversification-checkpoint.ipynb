{
 "cells": [
  {
   "cell_type": "markdown",
   "metadata": {},
   "source": [
    "# Diversification\n",
    "\n",
    "Harold's company wants to build a diversified stock portfolio. So far, it has added `BMO` (Bank of Montreal) and `CNQ` (Canadian Natural Resources Limited), which reside within the Financial Services and Energy sectors in [the S&P TSX 60 index](https://en.wikipedia.org/wiki/S%26P/TSX_60), respectively. Now they want to add a third energy sector stock to the mix.\n",
    "\n",
    "Harold's manager has asked him to research a set of five energy stocks to add to the existing portfolio. To create a diversified portfolio that tends to minimize long-term volatility/risk, stocks within the portfolio should be as uncorrelated as possible so as to create a counterbalance effect (i.e, when some stocks fall in price, others may rise in price).\n",
    "\n",
    "Use the Pandas library to help Harold analyze five energy stocks—`CVE`, `ENB`, `IMO`, `IPL`, and `TRP`—and choose the stock with the least correlation to `BMO` and `CNQ`.\n",
    "\n",
    "## Instructions\n",
    "\n",
    "## Import libraries and dependencies"
   ]
  },
  {
   "cell_type": "code",
   "execution_count": 27,
   "metadata": {},
   "outputs": [],
   "source": [
    "# Import libraries and dependencies\n",
    "import pandas as pd\n",
    "from pathlib import Path\n",
    "import seaborn as sns\n",
    "\n",
    "%matplotlib inline"
   ]
  },
  {
   "cell_type": "markdown",
   "metadata": {},
   "source": [
    "### Read CSV in as DataFrame"
   ]
  },
  {
   "cell_type": "code",
   "execution_count": 28,
   "metadata": {},
   "outputs": [
    {
     "data": {
      "text/html": [
       "<div>\n",
       "<style scoped>\n",
       "    .dataframe tbody tr th:only-of-type {\n",
       "        vertical-align: middle;\n",
       "    }\n",
       "\n",
       "    .dataframe tbody tr th {\n",
       "        vertical-align: top;\n",
       "    }\n",
       "\n",
       "    .dataframe thead th {\n",
       "        text-align: right;\n",
       "    }\n",
       "</style>\n",
       "<table border=\"1\" class=\"dataframe\">\n",
       "  <thead>\n",
       "    <tr style=\"text-align: right;\">\n",
       "      <th></th>\n",
       "      <th>CNQ</th>\n",
       "    </tr>\n",
       "    <tr>\n",
       "      <th>date</th>\n",
       "      <th></th>\n",
       "    </tr>\n",
       "  </thead>\n",
       "  <tbody>\n",
       "    <tr>\n",
       "      <th>2019-05-14</th>\n",
       "      <td>191.62</td>\n",
       "    </tr>\n",
       "    <tr>\n",
       "      <th>2019-05-13</th>\n",
       "      <td>190.34</td>\n",
       "    </tr>\n",
       "    <tr>\n",
       "      <th>2019-05-10</th>\n",
       "      <td>194.58</td>\n",
       "    </tr>\n",
       "    <tr>\n",
       "      <th>2019-05-09</th>\n",
       "      <td>194.58</td>\n",
       "    </tr>\n",
       "    <tr>\n",
       "      <th>2019-05-08</th>\n",
       "      <td>195.17</td>\n",
       "    </tr>\n",
       "  </tbody>\n",
       "</table>\n",
       "</div>"
      ],
      "text/plain": [
       "               CNQ\n",
       "date              \n",
       "2019-05-14  191.62\n",
       "2019-05-13  190.34\n",
       "2019-05-10  194.58\n",
       "2019-05-09  194.58\n",
       "2019-05-08  195.17"
      ]
     },
     "execution_count": 28,
     "metadata": {},
     "output_type": "execute_result"
    }
   ],
   "source": [
    "# Set file paths\n",
    "BMO = (r'C:\\Users\\TribThapa\\Desktop\\Thapa\\ResearchFellow\\Courses\\FinTech_Bootcamp_MonashUni2021\\monu-mel-virt-fin-pt-05-2021-u-c\\Activities\\Week 4\\1\\02-Stu_Correlation\\Resources\\BMO.csv')\n",
    "CNQ = (r'C:\\Users\\TribThapa\\Desktop\\Thapa\\ResearchFellow\\Courses\\FinTech_Bootcamp_MonashUni2021\\monu-mel-virt-fin-pt-05-2021-u-c\\Activities\\Week 4\\1\\02-Stu_Correlation\\Resources\\CNQ.csv')\n",
    "CVE = (r'C:\\Users\\TribThapa\\Desktop\\Thapa\\ResearchFellow\\Courses\\FinTech_Bootcamp_MonashUni2021\\monu-mel-virt-fin-pt-05-2021-u-c\\Activities\\Week 4\\1\\02-Stu_Correlation\\Resources\\CVE.csv')\n",
    "ENB = (r'C:\\Users\\TribThapa\\Desktop\\Thapa\\ResearchFellow\\Courses\\FinTech_Bootcamp_MonashUni2021\\monu-mel-virt-fin-pt-05-2021-u-c\\Activities\\Week 4\\1\\02-Stu_Correlation\\Resources\\ENB.csv')\n",
    "IMO = (r'C:\\Users\\TribThapa\\Desktop\\Thapa\\ResearchFellow\\Courses\\FinTech_Bootcamp_MonashUni2021\\monu-mel-virt-fin-pt-05-2021-u-c\\Activities\\Week 4\\1\\02-Stu_Correlation\\Resources\\IMO.csv')\n",
    "IPL = (r'C:\\Users\\TribThapa\\Desktop\\Thapa\\ResearchFellow\\Courses\\FinTech_Bootcamp_MonashUni2021\\monu-mel-virt-fin-pt-05-2021-u-c\\Activities\\Week 4\\1\\02-Stu_Correlation\\Resources\\IPL.csv')\n",
    "TRP = (r'C:\\Users\\TribThapa\\Desktop\\Thapa\\ResearchFellow\\Courses\\FinTech_Bootcamp_MonashUni2021\\monu-mel-virt-fin-pt-05-2021-u-c\\Activities\\Week 4\\1\\02-Stu_Correlation\\Resources\\TRP.csv')\n",
    "\n",
    "# Read the individual CSV datasets\n",
    "bmo_df = pd.read_csv(BMO, infer_datetime_format=True, parse_dates=True, index_col='date')\n",
    "cnq_df = pd.read_csv(CNQ, infer_datetime_format=True, parse_dates=True, index_col='date')\n",
    "cve_df = pd.read_csv(CVE, infer_datetime_format=True, parse_dates=True, index_col='date')\n",
    "enb_df = pd.read_csv(ENB, infer_datetime_format=True, parse_dates=True, index_col='date')\n",
    "imo_df = pd.read_csv(IMO, infer_datetime_format=True, parse_dates=True, index_col='date')\n",
    "ipl_df = pd.read_csv(IPL, infer_datetime_format=True, parse_dates=True, index_col='date')\n",
    "trp_df = pd.read_csv(TRP, infer_datetime_format=True, parse_dates=True, index_col='date')\n",
    "\n",
    "# Display sample data from `BMO` (all files have the same structure)\n",
    "cnq_df.head()"
   ]
  },
  {
   "cell_type": "markdown",
   "metadata": {},
   "source": [
    "### Combine the DataFrames"
   ]
  },
  {
   "cell_type": "code",
   "execution_count": 29,
   "metadata": {},
   "outputs": [
    {
     "data": {
      "text/html": [
       "<div>\n",
       "<style scoped>\n",
       "    .dataframe tbody tr th:only-of-type {\n",
       "        vertical-align: middle;\n",
       "    }\n",
       "\n",
       "    .dataframe tbody tr th {\n",
       "        vertical-align: top;\n",
       "    }\n",
       "\n",
       "    .dataframe thead th {\n",
       "        text-align: right;\n",
       "    }\n",
       "</style>\n",
       "<table border=\"1\" class=\"dataframe\">\n",
       "  <thead>\n",
       "    <tr style=\"text-align: right;\">\n",
       "      <th></th>\n",
       "      <th>BMO</th>\n",
       "      <th>CNQ</th>\n",
       "      <th>CVE</th>\n",
       "      <th>ENB</th>\n",
       "      <th>IMO</th>\n",
       "      <th>IPL</th>\n",
       "      <th>TRP</th>\n",
       "    </tr>\n",
       "    <tr>\n",
       "      <th>date</th>\n",
       "      <th></th>\n",
       "      <th></th>\n",
       "      <th></th>\n",
       "      <th></th>\n",
       "      <th></th>\n",
       "      <th></th>\n",
       "      <th></th>\n",
       "    </tr>\n",
       "  </thead>\n",
       "  <tbody>\n",
       "    <tr>\n",
       "      <th>2019-05-14</th>\n",
       "      <td>66.9700</td>\n",
       "      <td>191.62</td>\n",
       "      <td>45.17</td>\n",
       "      <td>27.32</td>\n",
       "      <td>38.51</td>\n",
       "      <td>162.04</td>\n",
       "      <td>41.9700</td>\n",
       "    </tr>\n",
       "    <tr>\n",
       "      <th>2019-05-13</th>\n",
       "      <td>66.4900</td>\n",
       "      <td>190.34</td>\n",
       "      <td>44.76</td>\n",
       "      <td>26.24</td>\n",
       "      <td>37.38</td>\n",
       "      <td>158.45</td>\n",
       "      <td>40.9900</td>\n",
       "    </tr>\n",
       "    <tr>\n",
       "      <th>2019-05-10</th>\n",
       "      <td>67.2200</td>\n",
       "      <td>194.58</td>\n",
       "      <td>46.20</td>\n",
       "      <td>27.96</td>\n",
       "      <td>38.94</td>\n",
       "      <td>168.82</td>\n",
       "      <td>42.8300</td>\n",
       "    </tr>\n",
       "    <tr>\n",
       "      <th>2019-05-09</th>\n",
       "      <td>66.0400</td>\n",
       "      <td>194.58</td>\n",
       "      <td>46.62</td>\n",
       "      <td>27.21</td>\n",
       "      <td>39.27</td>\n",
       "      <td>170.19</td>\n",
       "      <td>43.2500</td>\n",
       "    </tr>\n",
       "    <tr>\n",
       "      <th>2019-05-08</th>\n",
       "      <td>66.0200</td>\n",
       "      <td>195.17</td>\n",
       "      <td>49.24</td>\n",
       "      <td>27.09</td>\n",
       "      <td>39.75</td>\n",
       "      <td>173.92</td>\n",
       "      <td>43.7000</td>\n",
       "    </tr>\n",
       "    <tr>\n",
       "      <th>...</th>\n",
       "      <td>...</td>\n",
       "      <td>...</td>\n",
       "      <td>...</td>\n",
       "      <td>...</td>\n",
       "      <td>...</td>\n",
       "      <td>...</td>\n",
       "      <td>...</td>\n",
       "    </tr>\n",
       "    <tr>\n",
       "      <th>2009-05-20</th>\n",
       "      <td>12.3299</td>\n",
       "      <td>23.83</td>\n",
       "      <td>15.58</td>\n",
       "      <td>4.50</td>\n",
       "      <td>4.80</td>\n",
       "      <td>9.73</td>\n",
       "      <td>10.4677</td>\n",
       "    </tr>\n",
       "    <tr>\n",
       "      <th>2009-05-19</th>\n",
       "      <td>12.3875</td>\n",
       "      <td>24.63</td>\n",
       "      <td>15.65</td>\n",
       "      <td>4.39</td>\n",
       "      <td>4.85</td>\n",
       "      <td>9.45</td>\n",
       "      <td>10.5871</td>\n",
       "    </tr>\n",
       "    <tr>\n",
       "      <th>2009-05-18</th>\n",
       "      <td>12.1925</td>\n",
       "      <td>26.02</td>\n",
       "      <td>15.52</td>\n",
       "      <td>4.14</td>\n",
       "      <td>4.68</td>\n",
       "      <td>9.27</td>\n",
       "      <td>10.4975</td>\n",
       "    </tr>\n",
       "    <tr>\n",
       "      <th>2009-05-15</th>\n",
       "      <td>11.7316</td>\n",
       "      <td>24.40</td>\n",
       "      <td>15.19</td>\n",
       "      <td>4.01</td>\n",
       "      <td>4.24</td>\n",
       "      <td>8.74</td>\n",
       "      <td>9.9701</td>\n",
       "    </tr>\n",
       "    <tr>\n",
       "      <th>2009-05-14</th>\n",
       "      <td>11.9665</td>\n",
       "      <td>24.53</td>\n",
       "      <td>15.54</td>\n",
       "      <td>4.24</td>\n",
       "      <td>4.55</td>\n",
       "      <td>8.52</td>\n",
       "      <td>10.2488</td>\n",
       "    </tr>\n",
       "  </tbody>\n",
       "</table>\n",
       "<p>2517 rows × 7 columns</p>\n",
       "</div>"
      ],
      "text/plain": [
       "                BMO     CNQ    CVE    ENB    IMO     IPL      TRP\n",
       "date                                                             \n",
       "2019-05-14  66.9700  191.62  45.17  27.32  38.51  162.04  41.9700\n",
       "2019-05-13  66.4900  190.34  44.76  26.24  37.38  158.45  40.9900\n",
       "2019-05-10  67.2200  194.58  46.20  27.96  38.94  168.82  42.8300\n",
       "2019-05-09  66.0400  194.58  46.62  27.21  39.27  170.19  43.2500\n",
       "2019-05-08  66.0200  195.17  49.24  27.09  39.75  173.92  43.7000\n",
       "...             ...     ...    ...    ...    ...     ...      ...\n",
       "2009-05-20  12.3299   23.83  15.58   4.50   4.80    9.73  10.4677\n",
       "2009-05-19  12.3875   24.63  15.65   4.39   4.85    9.45  10.5871\n",
       "2009-05-18  12.1925   26.02  15.52   4.14   4.68    9.27  10.4975\n",
       "2009-05-15  11.7316   24.40  15.19   4.01   4.24    8.74   9.9701\n",
       "2009-05-14  11.9665   24.53  15.54   4.24   4.55    8.52  10.2488\n",
       "\n",
       "[2517 rows x 7 columns]"
      ]
     },
     "execution_count": 29,
     "metadata": {},
     "output_type": "execute_result"
    }
   ],
   "source": [
    "# Use the `concat` function to combine the DataFrames by matching indexes (or in this case `date`)\n",
    "combined_df = pd.concat([bmo_df, cnq_df, cve_df, enb_df, imo_df, ipl_df, trp_df], axis='columns', join='inner')\n",
    "combined_df"
   ]
  },
  {
   "cell_type": "markdown",
   "metadata": {},
   "source": [
    "### Calculate Daily Returns"
   ]
  },
  {
   "cell_type": "code",
   "execution_count": 30,
   "metadata": {},
   "outputs": [
    {
     "data": {
      "text/plain": [
       "<bound method NDFrame.pct_change of                 BMO     CNQ    CVE    ENB    IMO     IPL      TRP\n",
       "date                                                             \n",
       "2019-05-14  66.9700  191.62  45.17  27.32  38.51  162.04  41.9700\n",
       "2019-05-13  66.4900  190.34  44.76  26.24  37.38  158.45  40.9900\n",
       "2019-05-10  67.2200  194.58  46.20  27.96  38.94  168.82  42.8300\n",
       "2019-05-09  66.0400  194.58  46.62  27.21  39.27  170.19  43.2500\n",
       "2019-05-08  66.0200  195.17  49.24  27.09  39.75  173.92  43.7000\n",
       "...             ...     ...    ...    ...    ...     ...      ...\n",
       "2009-05-20  12.3299   23.83  15.58   4.50   4.80    9.73  10.4677\n",
       "2009-05-19  12.3875   24.63  15.65   4.39   4.85    9.45  10.5871\n",
       "2009-05-18  12.1925   26.02  15.52   4.14   4.68    9.27  10.4975\n",
       "2009-05-15  11.7316   24.40  15.19   4.01   4.24    8.74   9.9701\n",
       "2009-05-14  11.9665   24.53  15.54   4.24   4.55    8.52  10.2488\n",
       "\n",
       "[2517 rows x 7 columns]>"
      ]
     },
     "execution_count": 30,
     "metadata": {},
     "output_type": "execute_result"
    }
   ],
   "source": [
    "# Use the `pct_change` function to calculate daily returns for each stock\n",
    "daily_returns = combined_df.pct_change\n",
    "daily_returns"
   ]
  },
  {
   "cell_type": "markdown",
   "metadata": {},
   "source": [
    "### Calculate Correlation"
   ]
  },
  {
   "cell_type": "code",
   "execution_count": 31,
   "metadata": {},
   "outputs": [
    {
     "data": {
      "text/html": [
       "<div>\n",
       "<style scoped>\n",
       "    .dataframe tbody tr th:only-of-type {\n",
       "        vertical-align: middle;\n",
       "    }\n",
       "\n",
       "    .dataframe tbody tr th {\n",
       "        vertical-align: top;\n",
       "    }\n",
       "\n",
       "    .dataframe thead th {\n",
       "        text-align: right;\n",
       "    }\n",
       "</style>\n",
       "<table border=\"1\" class=\"dataframe\">\n",
       "  <thead>\n",
       "    <tr style=\"text-align: right;\">\n",
       "      <th></th>\n",
       "      <th>BMO</th>\n",
       "      <th>CNQ</th>\n",
       "      <th>CVE</th>\n",
       "      <th>ENB</th>\n",
       "      <th>IMO</th>\n",
       "      <th>IPL</th>\n",
       "      <th>TRP</th>\n",
       "    </tr>\n",
       "  </thead>\n",
       "  <tbody>\n",
       "    <tr>\n",
       "      <th>BMO</th>\n",
       "      <td>1.000000</td>\n",
       "      <td>0.746358</td>\n",
       "      <td>0.758800</td>\n",
       "      <td>0.457306</td>\n",
       "      <td>0.806984</td>\n",
       "      <td>0.626053</td>\n",
       "      <td>0.764274</td>\n",
       "    </tr>\n",
       "    <tr>\n",
       "      <th>CNQ</th>\n",
       "      <td>0.746358</td>\n",
       "      <td>1.000000</td>\n",
       "      <td>0.933007</td>\n",
       "      <td>0.587748</td>\n",
       "      <td>0.840312</td>\n",
       "      <td>0.849410</td>\n",
       "      <td>0.974018</td>\n",
       "    </tr>\n",
       "    <tr>\n",
       "      <th>CVE</th>\n",
       "      <td>0.758800</td>\n",
       "      <td>0.933007</td>\n",
       "      <td>1.000000</td>\n",
       "      <td>0.666676</td>\n",
       "      <td>0.893173</td>\n",
       "      <td>0.866886</td>\n",
       "      <td>0.935083</td>\n",
       "    </tr>\n",
       "    <tr>\n",
       "      <th>ENB</th>\n",
       "      <td>0.457306</td>\n",
       "      <td>0.587748</td>\n",
       "      <td>0.666676</td>\n",
       "      <td>1.000000</td>\n",
       "      <td>0.588189</td>\n",
       "      <td>0.791445</td>\n",
       "      <td>0.652670</td>\n",
       "    </tr>\n",
       "    <tr>\n",
       "      <th>IMO</th>\n",
       "      <td>0.806984</td>\n",
       "      <td>0.840312</td>\n",
       "      <td>0.893173</td>\n",
       "      <td>0.588189</td>\n",
       "      <td>1.000000</td>\n",
       "      <td>0.843455</td>\n",
       "      <td>0.868179</td>\n",
       "    </tr>\n",
       "    <tr>\n",
       "      <th>IPL</th>\n",
       "      <td>0.626053</td>\n",
       "      <td>0.849410</td>\n",
       "      <td>0.866886</td>\n",
       "      <td>0.791445</td>\n",
       "      <td>0.843455</td>\n",
       "      <td>1.000000</td>\n",
       "      <td>0.904970</td>\n",
       "    </tr>\n",
       "    <tr>\n",
       "      <th>TRP</th>\n",
       "      <td>0.764274</td>\n",
       "      <td>0.974018</td>\n",
       "      <td>0.935083</td>\n",
       "      <td>0.652670</td>\n",
       "      <td>0.868179</td>\n",
       "      <td>0.904970</td>\n",
       "      <td>1.000000</td>\n",
       "    </tr>\n",
       "  </tbody>\n",
       "</table>\n",
       "</div>"
      ],
      "text/plain": [
       "          BMO       CNQ       CVE       ENB       IMO       IPL       TRP\n",
       "BMO  1.000000  0.746358  0.758800  0.457306  0.806984  0.626053  0.764274\n",
       "CNQ  0.746358  1.000000  0.933007  0.587748  0.840312  0.849410  0.974018\n",
       "CVE  0.758800  0.933007  1.000000  0.666676  0.893173  0.866886  0.935083\n",
       "ENB  0.457306  0.587748  0.666676  1.000000  0.588189  0.791445  0.652670\n",
       "IMO  0.806984  0.840312  0.893173  0.588189  1.000000  0.843455  0.868179\n",
       "IPL  0.626053  0.849410  0.866886  0.791445  0.843455  1.000000  0.904970\n",
       "TRP  0.764274  0.974018  0.935083  0.652670  0.868179  0.904970  1.000000"
      ]
     },
     "execution_count": 31,
     "metadata": {},
     "output_type": "execute_result"
    }
   ],
   "source": [
    "# Use the `corr` function to calculate correlations for each stock pair\n",
    "correlation = combined_df.corr()\n",
    "correlation"
   ]
  },
  {
   "cell_type": "markdown",
   "metadata": {},
   "source": [
    "### Plot Correlation"
   ]
  },
  {
   "cell_type": "code",
   "execution_count": 32,
   "metadata": {},
   "outputs": [
    {
     "data": {
      "text/plain": [
       "<matplotlib.axes._subplots.AxesSubplot at 0x1c3e9b42dd8>"
      ]
     },
     "execution_count": 32,
     "metadata": {},
     "output_type": "execute_result"
    },
    {
     "data": {
      "image/png": "[encoded data removed]",
      "text/plain": [
       "<Figure size 432x288 with 2 Axes>"
      ]
     },
     "metadata": {
      "needs_background": "light"
     },
     "output_type": "display_data"
    }
   ],
   "source": [
    "# Create a heatmap from the correlation values\n",
    "sns.heatmap(correlation, vmin=0, vmax=1)"
   ]
  },
  {
   "cell_type": "code",
   "execution_count": 33,
   "metadata": {},
   "outputs": [
    {
     "data": {
      "text/plain": [
       "<matplotlib.axes._subplots.AxesSubplot at 0x1c3e9967400>"
      ]
     },
     "execution_count": 33,
     "metadata": {},
     "output_type": "execute_result"
    },
    {
     "data": {
      "image/png": "[encoded data removed]",
      "text/plain": [
       "<Figure size 432x288 with 2 Axes>"
      ]
     },
     "metadata": {
      "needs_background": "light"
     },
     "output_type": "display_data"
    }
   ],
   "source": [
    "sns.heatmap(correlation, vmin=0, vmax=1, annot=True)"
   ]
  },
  {
   "cell_type": "code",
   "execution_count": 34,
   "metadata": {},
   "outputs": [
    {
     "data": {
      "text/plain": [
       "<matplotlib.axes._subplots.AxesSubplot at 0x1c3e9a9be10>"
      ]
     },
     "execution_count": 34,
     "metadata": {},
     "output_type": "execute_result"
    },
    {
     "data": {
      "image/png": "[encoded data removed]",
      "text/plain": [
       "<Figure size 432x288 with 2 Axes>"
      ]
     },
     "metadata": {
      "needs_background": "light"
     },
     "output_type": "display_data"
    }
   ],
   "source": [
    "sns.heatmap(correlation, vmin=0, vmax=1, annot=True, linewidths=0.5, cmap=\"YlGnBu\")"
   ]
  },
  {
   "cell_type": "code",
   "execution_count": 35,
   "metadata": {},
   "outputs": [
    {
     "data": {
      "text/plain": [
       "<matplotlib.axes._subplots.AxesSubplot at 0x1c3e7d559e8>"
      ]
     },
     "execution_count": 35,
     "metadata": {},
     "output_type": "execute_result"
    },
    {
     "data": {
      "image/png": "[encoded data removed]",
      "text/plain": [
       "<Figure size 432x288 with 2 Axes>"
      ]
     },
     "metadata": {
      "needs_background": "light"
     },
     "output_type": "display_data"
    }
   ],
   "source": [
    "# Create a heatmap from the correlation values and adjust the scale\n",
    "sns.heatmap(correlation, vmin=0, vmax=100, annot=True, linewidths=0.5)"
   ]
  },
  {
   "cell_type": "markdown",
   "metadata": {},
   "source": [
    "### Which energy stock would be the best candidate to add to the existing portfolio?"
   ]
  },
  {
   "cell_type": "markdown",
   "metadata": {},
   "source": [
    "**ENB**"
   ]
  },
  {
   "cell_type": "code",
   "execution_count": null,
   "metadata": {},
   "outputs": [],
   "source": []
  }
 ],
 "metadata": {
  "kernelspec": {
   "display_name": "Python 3",
   "language": "python",
   "name": "python3"
  },
  "language_info": {
   "codemirror_mode": {
    "name": "ipython",
    "version": 3
   },
   "file_extension": ".py",
   "mimetype": "text/x-python",
   "name": "python",
   "nbconvert_exporter": "python",
   "pygments_lexer": "ipython3",
   "version": "3.7.1"
  }
 },
 "nbformat": 4,
 "nbformat_minor": 4
}
