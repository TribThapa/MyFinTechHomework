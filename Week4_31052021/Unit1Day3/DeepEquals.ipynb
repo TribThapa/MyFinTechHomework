{
 "cells": [
  {
   "cell_type": "code",
   "execution_count": 9,
   "metadata": {},
   "outputs": [
    {
     "name": "stdout",
     "output_type": "stream",
     "text": [
      "[1, 2, 3] and [1, 2, 3] are equal\n"
     ]
    }
   ],
   "source": [
    "list_first = [1, 2, 3]\n",
    "\n",
    "list_second = [3, 2, 1]\n",
    "\n",
    "def check_equality(list1, list2):\n",
    "    list1 = sorted(list1)\n",
    "    list2 = sorted(list2)\n",
    "    \n",
    "    if list1==list2:\n",
    "        print(f\"{list1} and {list2} are equal\")\n",
    "    else:\n",
    "        print(f\"The two lists {list1} and {list2} aren't equal.\")\n",
    "    return\n",
    "\n",
    "check_equality(list_first, list_second)\n",
    "    "
   ]
  },
  {
   "cell_type": "code",
   "execution_count": 11,
   "metadata": {},
   "outputs": [
    {
     "data": {
      "text/plain": [
       "True"
      ]
     },
     "execution_count": 11,
     "metadata": {},
     "output_type": "execute_result"
    }
   ],
   "source": [
    "list_first = [1, 2, 3]\n",
    "\n",
    "list_second = [3, 2, 1]\n",
    "\n",
    "def check_equality(list1, list2):\n",
    "    list1 = sorted(list1)\n",
    "    list2 = sorted(list2)\n",
    "    \n",
    "    return list1==list2 \n",
    "\n",
    "check_equality(list_first, list_second)"
   ]
  },
  {
   "cell_type": "code",
   "execution_count": null,
   "metadata": {},
   "outputs": [],
   "source": []
  }
 ],
 "metadata": {
  "kernelspec": {
   "display_name": "Python 3",
   "language": "python",
   "name": "python3"
  },
  "language_info": {
   "codemirror_mode": {
    "name": "ipython",
    "version": 3
   },
   "file_extension": ".py",
   "mimetype": "text/x-python",
   "name": "python",
   "nbconvert_exporter": "python",
   "pygments_lexer": "ipython3",
   "version": "3.7.1"
  }
 },
 "nbformat": 4,
 "nbformat_minor": 2
}
