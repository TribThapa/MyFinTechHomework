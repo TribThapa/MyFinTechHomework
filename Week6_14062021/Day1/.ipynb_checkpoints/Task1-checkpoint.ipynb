{
 "cells": [
  {
   "cell_type": "markdown",
   "metadata": {},
   "source": [
    "## Plotting a Visual Takeover\n",
    "\n",
    "Your company has recently adopted a new digital dashboard initiative that is aiming to convert all existing company reports to reports that include interactive hvPlot visualizations. The CIO firmly believes that adding interactive visualizations will help users of the report glean more insight from the data they're working with.\n",
    "\n",
    "The CIO also believes the company is falling behind in terms of reporting paradigms; while there are new and flashy visualization technologies out there, the company has mostly been using Matplotlib. It's time for an upgrade."
   ]
  },
  {
   "cell_type": "code",
   "execution_count": 36,
   "metadata": {},
   "outputs": [],
   "source": [
    "# Import libraries and dependencies\n",
    "import pandas as pd\n",
    "from pathlib import Path"
   ]
  },
  {
   "cell_type": "code",
   "execution_count": 37,
   "metadata": {},
   "outputs": [],
   "source": [
    "# Import hvplot\n",
    "import hvplot.pandas"
   ]
  },
  {
   "cell_type": "markdown",
   "metadata": {},
   "source": [
    "### Prepare Data"
   ]
  },
  {
   "cell_type": "code",
   "execution_count": 38,
   "metadata": {},
   "outputs": [],
   "source": [
    "# Set the path\n",
    "file_path = (r'C:\\Users\\TribThapa\\Desktop\\Thapa\\ResearchFellow\\Courses\\FinTech_Bootcamp_MonashUni2021\\monu-mel-virt-fin-pt-05-2021-u-c\\Activities\\Week 6\\1\\02-Stu_Plotting_Visual_Takeover\\Resources\\sp500_companies.csv')\n",
    "\n",
    "# Read in the CSV as a DataFrame\n",
    "sp500_companies_csv = pd.read_csv(file_path)\n",
    "\n",
    "sector_count = sp500_companies_csv['Sector'].value_counts()\n",
    "\n",
    "# Count the frequency of each sector from the list of companies\n",
    "sector_count = sp500_companies_csv['Sector'].value_counts()\n",
    "\n",
    "# Grab the `Symbol` and `Market Cap` columns\n",
    "market_cap = sp500_companies_csv.loc[:, ['Symbol', 'Market Cap']]\n",
    "\n",
    "# Set the 'Symbol' as the index\n",
    "market_cap.set_index(market_cap['Symbol'], inplace=True)\n",
    "\n",
    "# Drop the extra 'Symbol' column\n",
    "market_cap.drop(columns=['Symbol'], inplace=True)\n",
    "\n",
    "# Filter down to 20 companies with the largest market caps\n",
    "top_20_market_cap = market_cap.nlargest(20, 'Market Cap')"
   ]
  },
  {
   "cell_type": "code",
   "execution_count": 39,
   "metadata": {},
   "outputs": [
    {
     "data": {
      "text/html": [
       "<div>\n",
       "<style scoped>\n",
       "    .dataframe tbody tr th:only-of-type {\n",
       "        vertical-align: middle;\n",
       "    }\n",
       "\n",
       "    .dataframe tbody tr th {\n",
       "        vertical-align: top;\n",
       "    }\n",
       "\n",
       "    .dataframe thead th {\n",
       "        text-align: right;\n",
       "    }\n",
       "</style>\n",
       "<table border=\"1\" class=\"dataframe\">\n",
       "  <thead>\n",
       "    <tr style=\"text-align: right;\">\n",
       "      <th></th>\n",
       "      <th>Market Cap</th>\n",
       "    </tr>\n",
       "    <tr>\n",
       "      <th>Symbol</th>\n",
       "      <th></th>\n",
       "    </tr>\n",
       "  </thead>\n",
       "  <tbody>\n",
       "    <tr>\n",
       "      <th>AAPL</th>\n",
       "      <td>809508034020</td>\n",
       "    </tr>\n",
       "    <tr>\n",
       "      <th>GOOGL</th>\n",
       "      <td>733823966137</td>\n",
       "    </tr>\n",
       "    <tr>\n",
       "      <th>GOOG</th>\n",
       "      <td>728535558140</td>\n",
       "    </tr>\n",
       "    <tr>\n",
       "      <th>MSFT</th>\n",
       "      <td>689978437468</td>\n",
       "    </tr>\n",
       "    <tr>\n",
       "      <th>AMZN</th>\n",
       "      <td>685873374731</td>\n",
       "    </tr>\n",
       "  </tbody>\n",
       "</table>\n",
       "</div>"
      ],
      "text/plain": [
       "          Market Cap\n",
       "Symbol              \n",
       "AAPL    809508034020\n",
       "GOOGL   733823966137\n",
       "GOOG    728535558140\n",
       "MSFT    689978437468\n",
       "AMZN    685873374731"
      ]
     },
     "execution_count": 39,
     "metadata": {},
     "output_type": "execute_result"
    }
   ],
   "source": [
    "top_20_market_cap.head()"
   ]
  },
  {
   "cell_type": "markdown",
   "metadata": {},
   "source": [
    "### Create Plot Using hvplot()"
   ]
  },
  {
   "cell_type": "code",
   "execution_count": 40,
   "metadata": {},
   "outputs": [
    {
     "data": {},
     "metadata": {},
     "output_type": "display_data"
    },
    {
     "data": {
      "application/vnd.holoviews_exec.v0+json": "",
      "text/html": [
       "<div id='5466'>\n",
       "\n",
       "\n",
       "\n",
       "\n",
       "\n",
       "  <div class=\"bk-root\" id=\"41710a00-0a6b-48bc-aa30-50a7dba810c2\" data-root-id=\"5466\"></div>\n",
       "</div>\n",
       "<script type=\"application/javascript\">(function(root) {\n",
       "  function embed_document(root) {\n",
       "    var docs_json = {\"deecd7cd-2f93-4a7e-8fe5-3469b428e38a\":{\"defs\":[],\"roots\":{\"references\":[{\"attributes\":{\"bottom_units\":\"screen\",\"fill_alpha\":0.5,\"fill_color\":\"lightgrey\",\"left_units\":\"screen\",\"level\":\"overlay\",\"line_alpha\":1.0,\"line_color\":\"black\",\"line_dash\":[4,4],\"line_width\":2,\"right_units\":\"screen\",\"syncable\":false,\"top_units\":\"screen\"},\"id\":\"5492\",\"type\":\"BoxAnnotation\"},{\"attributes\":{\"active_multi\":null,\"tools\":[{\"id\":\"5470\"},{\"id\":\"5487\"},{\"id\":\"5488\"},{\"id\":\"5489\"},{\"id\":\"5490\"},{\"id\":\"5491\"}]},\"id\":\"5493\",\"type\":\"Toolbar\"},{\"attributes\":{\"data_source\":{\"id\":\"5500\"},\"glyph\":{\"id\":\"5503\"},\"hover_glyph\":null,\"muted_glyph\":{\"id\":\"5505\"},\"nonselection_glyph\":{\"id\":\"5504\"},\"selection_glyph\":{\"id\":\"5508\"},\"view\":{\"id\":\"5507\"}},\"id\":\"5506\",\"type\":\"GlyphRenderer\"},{\"attributes\":{\"margin\":[5,5,5,5],\"name\":\"HSpacer08013\",\"sizing_mode\":\"stretch_width\"},\"id\":\"5467\",\"type\":\"Spacer\"},{\"attributes\":{\"line_color\":\"#30a2da\",\"line_width\":2,\"x\":{\"field\":\"Symbol\"},\"y\":{\"field\":\"Market Cap\"}},\"id\":\"5503\",\"type\":\"Line\"},{\"attributes\":{\"line_alpha\":0.2,\"line_color\":\"#30a2da\",\"line_width\":2,\"x\":{\"field\":\"Symbol\"},\"y\":{\"field\":\"Market Cap\"}},\"id\":\"5505\",\"type\":\"Line\"},{\"attributes\":{\"text_color\":\"black\",\"text_font_size\":\"12pt\"},\"id\":\"5472\",\"type\":\"Title\"},{\"attributes\":{},\"id\":\"5487\",\"type\":\"SaveTool\"},{\"attributes\":{},\"id\":\"5501\",\"type\":\"Selection\"},{\"attributes\":{},\"id\":\"5488\",\"type\":\"PanTool\"},{\"attributes\":{\"source\":{\"id\":\"5500\"}},\"id\":\"5507\",\"type\":\"CDSView\"},{\"attributes\":{},\"id\":\"5491\",\"type\":\"ResetTool\"},{\"attributes\":{\"below\":[{\"id\":\"5480\"}],\"center\":[{\"id\":\"5482\"},{\"id\":\"5486\"}],\"height\":300,\"left\":[{\"id\":\"5483\"}],\"margin\":[5,5,5,5],\"min_border_bottom\":10,\"min_border_left\":10,\"min_border_right\":10,\"min_border_top\":10,\"renderers\":[{\"id\":\"5506\"}],\"sizing_mode\":\"fixed\",\"title\":{\"id\":\"5472\"},\"toolbar\":{\"id\":\"5493\"},\"width\":700,\"x_range\":{\"id\":\"5468\"},\"x_scale\":{\"id\":\"5476\"},\"y_range\":{\"id\":\"5469\"},\"y_scale\":{\"id\":\"5478\"}},\"id\":\"5471\",\"subtype\":\"Figure\",\"type\":\"Plot\"},{\"attributes\":{},\"id\":\"5489\",\"type\":\"WheelZoomTool\"},{\"attributes\":{\"axis_label\":\"Symbol\",\"formatter\":{\"id\":\"5511\"},\"major_label_policy\":{\"id\":\"5510\"},\"ticker\":{\"id\":\"5481\"}},\"id\":\"5480\",\"type\":\"CategoricalAxis\"},{\"attributes\":{\"overlay\":{\"id\":\"5492\"}},\"id\":\"5490\",\"type\":\"BoxZoomTool\"},{\"attributes\":{\"axis\":{\"id\":\"5480\"},\"grid_line_color\":null,\"ticker\":null},\"id\":\"5482\",\"type\":\"Grid\"},{\"attributes\":{\"factors\":[\"AAPL\",\"GOOGL\",\"GOOG\",\"MSFT\",\"AMZN\",\"FB\",\"JPM\",\"JNJ\",\"XOM\",\"BAC\",\"WMT\",\"WFC\",\"V\",\"BRK.B\",\"T\",\"HD\",\"CVX\",\"UNH\",\"INTC\",\"PFE\"],\"tags\":[[[\"Symbol\",\"Symbol\",null]]]},\"id\":\"5468\",\"type\":\"FactorRange\"},{\"attributes\":{\"line_color\":\"#30a2da\",\"line_width\":2,\"x\":{\"field\":\"Symbol\"},\"y\":{\"field\":\"Market Cap\"}},\"id\":\"5508\",\"type\":\"Line\"},{\"attributes\":{},\"id\":\"5510\",\"type\":\"AllLabels\"},{\"attributes\":{},\"id\":\"5476\",\"type\":\"CategoricalScale\"},{\"attributes\":{\"data\":{\"Market Cap\":[809508034020,733823966137,728535558140,689978437468,685873374731,523423036576,386613611000,353062464971,326148660000,321478200969,304680931618,281463620775,270038723213,261401203633,226713270000,223378633329,218978820159,218834811333,211536000000,208505541949],\"Market_Cap\":[809508034020,733823966137,728535558140,689978437468,685873374731,523423036576,386613611000,353062464971,326148660000,321478200969,304680931618,281463620775,270038723213,261401203633,226713270000,223378633329,218978820159,218834811333,211536000000,208505541949],\"Symbol\":[\"AAPL\",\"GOOGL\",\"GOOG\",\"MSFT\",\"AMZN\",\"FB\",\"JPM\",\"JNJ\",\"XOM\",\"BAC\",\"WMT\",\"WFC\",\"V\",\"BRK.B\",\"T\",\"HD\",\"CVX\",\"UNH\",\"INTC\",\"PFE\"]},\"selected\":{\"id\":\"5501\"},\"selection_policy\":{\"id\":\"5522\"}},\"id\":\"5500\",\"type\":\"ColumnDataSource\"},{\"attributes\":{\"callback\":null,\"renderers\":[{\"id\":\"5506\"}],\"tags\":[\"hv_created\"],\"tooltips\":[[\"Symbol\",\"@{Symbol}\"],[\"Market Cap\",\"@{Market_Cap}\"]]},\"id\":\"5470\",\"type\":\"HoverTool\"},{\"attributes\":{},\"id\":\"5478\",\"type\":\"LinearScale\"},{\"attributes\":{\"margin\":[5,5,5,5],\"name\":\"HSpacer08014\",\"sizing_mode\":\"stretch_width\"},\"id\":\"5535\",\"type\":\"Spacer\"},{\"attributes\":{},\"id\":\"5514\",\"type\":\"AllLabels\"},{\"attributes\":{},\"id\":\"5481\",\"type\":\"CategoricalTicker\"},{\"attributes\":{\"end\":869608283227.1,\"reset_end\":869608283227.1,\"reset_start\":148405292741.9,\"start\":148405292741.9,\"tags\":[[[\"Market Cap\",\"Market Cap\",null]]]},\"id\":\"5469\",\"type\":\"Range1d\"},{\"attributes\":{},\"id\":\"5522\",\"type\":\"UnionRenderers\"},{\"attributes\":{\"axis\":{\"id\":\"5483\"},\"dimension\":1,\"grid_line_color\":null,\"ticker\":null},\"id\":\"5486\",\"type\":\"Grid\"},{\"attributes\":{},\"id\":\"5511\",\"type\":\"CategoricalTickFormatter\"},{\"attributes\":{},\"id\":\"5513\",\"type\":\"BasicTickFormatter\"},{\"attributes\":{},\"id\":\"5484\",\"type\":\"BasicTicker\"},{\"attributes\":{\"axis_label\":\"Market Cap\",\"formatter\":{\"id\":\"5513\"},\"major_label_policy\":{\"id\":\"5514\"},\"ticker\":{\"id\":\"5484\"}},\"id\":\"5483\",\"type\":\"LinearAxis\"},{\"attributes\":{\"line_alpha\":0.1,\"line_color\":\"#30a2da\",\"line_width\":2,\"x\":{\"field\":\"Symbol\"},\"y\":{\"field\":\"Market Cap\"}},\"id\":\"5504\",\"type\":\"Line\"},{\"attributes\":{\"children\":[{\"id\":\"5467\"},{\"id\":\"5471\"},{\"id\":\"5535\"}],\"margin\":[0,0,0,0],\"name\":\"Row08009\",\"tags\":[\"embedded\"]},\"id\":\"5466\",\"type\":\"Row\"}],\"root_ids\":[\"5466\"]},\"title\":\"Bokeh Application\",\"version\":\"2.3.2\"}};\n",
       "    var render_items = [{\"docid\":\"deecd7cd-2f93-4a7e-8fe5-3469b428e38a\",\"root_ids\":[\"5466\"],\"roots\":{\"5466\":\"41710a00-0a6b-48bc-aa30-50a7dba810c2\"}}];\n",
       "    root.Bokeh.embed.embed_items_notebook(docs_json, render_items);\n",
       "  }\n",
       "  if (root.Bokeh !== undefined && root.Bokeh.Panel !== undefined) {\n",
       "    embed_document(root);\n",
       "  } else {\n",
       "    var attempts = 0;\n",
       "    var timer = setInterval(function(root) {\n",
       "      if (root.Bokeh !== undefined && root.Bokeh.Panel !== undefined) {\n",
       "        clearInterval(timer);\n",
       "        embed_document(root);\n",
       "      } else if (document.readyState == \"complete\") {\n",
       "        attempts++;\n",
       "        if (attempts > 100) {\n",
       "          clearInterval(timer);\n",
       "          console.log(\"Bokeh: ERROR: Unable to run BokehJS code because BokehJS library is missing\");\n",
       "        }\n",
       "      }\n",
       "    }, 10, root)\n",
       "  }\n",
       "})(window);</script>"
      ],
      "text/plain": [
       ":Curve   [Symbol]   (Market Cap)"
      ]
     },
     "execution_count": 40,
     "metadata": {
      "application/vnd.holoviews_exec.v0+json": {
       "id": "5466"
      }
     },
     "output_type": "execute_result"
    }
   ],
   "source": [
    "# Generate standard hvplot\n",
    "top_20_market_cap.hvplot()"
   ]
  },
  {
   "cell_type": "markdown",
   "metadata": {},
   "source": [
    "### Create Line Plot Using hvplot.line()"
   ]
  },
  {
   "cell_type": "code",
   "execution_count": 41,
   "metadata": {},
   "outputs": [
    {
     "data": {},
     "metadata": {},
     "output_type": "display_data"
    },
    {
     "data": {
      "application/vnd.holoviews_exec.v0+json": "",
      "text/html": [
       "<div id='5587'>\n",
       "\n",
       "\n",
       "\n",
       "\n",
       "\n",
       "  <div class=\"bk-root\" id=\"9ea6beb4-8967-4595-82ad-345d6f61bcf3\" data-root-id=\"5587\"></div>\n",
       "</div>\n",
       "<script type=\"application/javascript\">(function(root) {\n",
       "  function embed_document(root) {\n",
       "    var docs_json = {\"7577a64e-4a0f-4009-9324-8ee4faeabb7e\":{\"defs\":[],\"roots\":{\"references\":[{\"attributes\":{\"data_source\":{\"id\":\"5621\"},\"glyph\":{\"id\":\"5624\"},\"hover_glyph\":null,\"muted_glyph\":{\"id\":\"5626\"},\"nonselection_glyph\":{\"id\":\"5625\"},\"selection_glyph\":{\"id\":\"5629\"},\"view\":{\"id\":\"5628\"}},\"id\":\"5627\",\"type\":\"GlyphRenderer\"},{\"attributes\":{},\"id\":\"5609\",\"type\":\"PanTool\"},{\"attributes\":{\"below\":[{\"id\":\"5601\"}],\"center\":[{\"id\":\"5603\"},{\"id\":\"5607\"}],\"height\":300,\"left\":[{\"id\":\"5604\"}],\"margin\":[5,5,5,5],\"min_border_bottom\":10,\"min_border_left\":10,\"min_border_right\":10,\"min_border_top\":10,\"renderers\":[{\"id\":\"5627\"}],\"sizing_mode\":\"fixed\",\"title\":{\"id\":\"5593\"},\"toolbar\":{\"id\":\"5614\"},\"width\":700,\"x_range\":{\"id\":\"5589\"},\"x_scale\":{\"id\":\"5597\"},\"y_range\":{\"id\":\"5590\"},\"y_scale\":{\"id\":\"5599\"}},\"id\":\"5592\",\"subtype\":\"Figure\",\"type\":\"Plot\"},{\"attributes\":{},\"id\":\"5612\",\"type\":\"ResetTool\"},{\"attributes\":{},\"id\":\"5610\",\"type\":\"WheelZoomTool\"},{\"attributes\":{\"axis_label\":\"Symbol\",\"formatter\":{\"id\":\"5632\"},\"major_label_policy\":{\"id\":\"5631\"},\"ticker\":{\"id\":\"5602\"}},\"id\":\"5601\",\"type\":\"CategoricalAxis\"},{\"attributes\":{\"line_color\":\"#30a2da\",\"line_width\":2,\"x\":{\"field\":\"Symbol\"},\"y\":{\"field\":\"Market Cap\"}},\"id\":\"5629\",\"type\":\"Line\"},{\"attributes\":{\"axis\":{\"id\":\"5601\"},\"grid_line_color\":null,\"ticker\":null},\"id\":\"5603\",\"type\":\"Grid\"},{\"attributes\":{\"overlay\":{\"id\":\"5613\"}},\"id\":\"5611\",\"type\":\"BoxZoomTool\"},{\"attributes\":{\"margin\":[5,5,5,5],\"name\":\"HSpacer08194\",\"sizing_mode\":\"stretch_width\"},\"id\":\"5656\",\"type\":\"Spacer\"},{\"attributes\":{\"source\":{\"id\":\"5621\"}},\"id\":\"5628\",\"type\":\"CDSView\"},{\"attributes\":{},\"id\":\"5597\",\"type\":\"CategoricalScale\"},{\"attributes\":{},\"id\":\"5635\",\"type\":\"AllLabels\"},{\"attributes\":{\"callback\":null,\"renderers\":[{\"id\":\"5627\"}],\"tags\":[\"hv_created\"],\"tooltips\":[[\"Symbol\",\"@{Symbol}\"],[\"Market Cap\",\"@{Market_Cap}\"]]},\"id\":\"5591\",\"type\":\"HoverTool\"},{\"attributes\":{},\"id\":\"5599\",\"type\":\"LinearScale\"},{\"attributes\":{},\"id\":\"5631\",\"type\":\"AllLabels\"},{\"attributes\":{},\"id\":\"5602\",\"type\":\"CategoricalTicker\"},{\"attributes\":{\"axis\":{\"id\":\"5604\"},\"dimension\":1,\"grid_line_color\":null,\"ticker\":null},\"id\":\"5607\",\"type\":\"Grid\"},{\"attributes\":{},\"id\":\"5632\",\"type\":\"CategoricalTickFormatter\"},{\"attributes\":{\"end\":869608283227.1,\"reset_end\":869608283227.1,\"reset_start\":148405292741.9,\"start\":148405292741.9,\"tags\":[[[\"Market Cap\",\"Market Cap\",null]]]},\"id\":\"5590\",\"type\":\"Range1d\"},{\"attributes\":{},\"id\":\"5634\",\"type\":\"BasicTickFormatter\"},{\"attributes\":{},\"id\":\"5605\",\"type\":\"BasicTicker\"},{\"attributes\":{\"axis_label\":\"Market Cap\",\"formatter\":{\"id\":\"5634\"},\"major_label_policy\":{\"id\":\"5635\"},\"ticker\":{\"id\":\"5605\"}},\"id\":\"5604\",\"type\":\"LinearAxis\"},{\"attributes\":{\"line_alpha\":0.1,\"line_color\":\"#30a2da\",\"line_width\":2,\"x\":{\"field\":\"Symbol\"},\"y\":{\"field\":\"Market Cap\"}},\"id\":\"5625\",\"type\":\"Line\"},{\"attributes\":{\"children\":[{\"id\":\"5588\"},{\"id\":\"5592\"},{\"id\":\"5656\"}],\"margin\":[0,0,0,0],\"name\":\"Row08189\",\"tags\":[\"embedded\"]},\"id\":\"5587\",\"type\":\"Row\"},{\"attributes\":{\"active_multi\":null,\"tools\":[{\"id\":\"5591\"},{\"id\":\"5608\"},{\"id\":\"5609\"},{\"id\":\"5610\"},{\"id\":\"5611\"},{\"id\":\"5612\"}]},\"id\":\"5614\",\"type\":\"Toolbar\"},{\"attributes\":{},\"id\":\"5622\",\"type\":\"Selection\"},{\"attributes\":{\"bottom_units\":\"screen\",\"fill_alpha\":0.5,\"fill_color\":\"lightgrey\",\"left_units\":\"screen\",\"level\":\"overlay\",\"line_alpha\":1.0,\"line_color\":\"black\",\"line_dash\":[4,4],\"line_width\":2,\"right_units\":\"screen\",\"syncable\":false,\"top_units\":\"screen\"},\"id\":\"5613\",\"type\":\"BoxAnnotation\"},{\"attributes\":{},\"id\":\"5643\",\"type\":\"UnionRenderers\"},{\"attributes\":{\"margin\":[5,5,5,5],\"name\":\"HSpacer08193\",\"sizing_mode\":\"stretch_width\"},\"id\":\"5588\",\"type\":\"Spacer\"},{\"attributes\":{\"factors\":[\"AAPL\",\"GOOGL\",\"GOOG\",\"MSFT\",\"AMZN\",\"FB\",\"JPM\",\"JNJ\",\"XOM\",\"BAC\",\"WMT\",\"WFC\",\"V\",\"BRK.B\",\"T\",\"HD\",\"CVX\",\"UNH\",\"INTC\",\"PFE\"],\"tags\":[[[\"Symbol\",\"Symbol\",null]]]},\"id\":\"5589\",\"type\":\"FactorRange\"},{\"attributes\":{\"line_color\":\"#30a2da\",\"line_width\":2,\"x\":{\"field\":\"Symbol\"},\"y\":{\"field\":\"Market Cap\"}},\"id\":\"5624\",\"type\":\"Line\"},{\"attributes\":{\"line_alpha\":0.2,\"line_color\":\"#30a2da\",\"line_width\":2,\"x\":{\"field\":\"Symbol\"},\"y\":{\"field\":\"Market Cap\"}},\"id\":\"5626\",\"type\":\"Line\"},{\"attributes\":{\"data\":{\"Market Cap\":[809508034020,733823966137,728535558140,689978437468,685873374731,523423036576,386613611000,353062464971,326148660000,321478200969,304680931618,281463620775,270038723213,261401203633,226713270000,223378633329,218978820159,218834811333,211536000000,208505541949],\"Market_Cap\":[809508034020,733823966137,728535558140,689978437468,685873374731,523423036576,386613611000,353062464971,326148660000,321478200969,304680931618,281463620775,270038723213,261401203633,226713270000,223378633329,218978820159,218834811333,211536000000,208505541949],\"Symbol\":[\"AAPL\",\"GOOGL\",\"GOOG\",\"MSFT\",\"AMZN\",\"FB\",\"JPM\",\"JNJ\",\"XOM\",\"BAC\",\"WMT\",\"WFC\",\"V\",\"BRK.B\",\"T\",\"HD\",\"CVX\",\"UNH\",\"INTC\",\"PFE\"]},\"selected\":{\"id\":\"5622\"},\"selection_policy\":{\"id\":\"5643\"}},\"id\":\"5621\",\"type\":\"ColumnDataSource\"},{\"attributes\":{\"text\":\"Top 20 market caps\",\"text_color\":\"black\",\"text_font_size\":\"12pt\"},\"id\":\"5593\",\"type\":\"Title\"},{\"attributes\":{},\"id\":\"5608\",\"type\":\"SaveTool\"}],\"root_ids\":[\"5587\"]},\"title\":\"Bokeh Application\",\"version\":\"2.3.2\"}};\n",
       "    var render_items = [{\"docid\":\"7577a64e-4a0f-4009-9324-8ee4faeabb7e\",\"root_ids\":[\"5587\"],\"roots\":{\"5587\":\"9ea6beb4-8967-4595-82ad-345d6f61bcf3\"}}];\n",
       "    root.Bokeh.embed.embed_items_notebook(docs_json, render_items);\n",
       "  }\n",
       "  if (root.Bokeh !== undefined && root.Bokeh.Panel !== undefined) {\n",
       "    embed_document(root);\n",
       "  } else {\n",
       "    var attempts = 0;\n",
       "    var timer = setInterval(function(root) {\n",
       "      if (root.Bokeh !== undefined && root.Bokeh.Panel !== undefined) {\n",
       "        clearInterval(timer);\n",
       "        embed_document(root);\n",
       "      } else if (document.readyState == \"complete\") {\n",
       "        attempts++;\n",
       "        if (attempts > 100) {\n",
       "          clearInterval(timer);\n",
       "          console.log(\"Bokeh: ERROR: Unable to run BokehJS code because BokehJS library is missing\");\n",
       "        }\n",
       "      }\n",
       "    }, 10, root)\n",
       "  }\n",
       "})(window);</script>"
      ],
      "text/plain": [
       ":Curve   [Symbol]   (Market Cap)"
      ]
     },
     "execution_count": 41,
     "metadata": {
      "application/vnd.holoviews_exec.v0+json": {
       "id": "5587"
      }
     },
     "output_type": "execute_result"
    }
   ],
   "source": [
    "# Plot a hvplot line plot of the top 20 market cap companies\n",
    "top_20_market_cap.hvplot.line(title=\"Top 20 market caps\")"
   ]
  },
  {
   "cell_type": "markdown",
   "metadata": {},
   "source": [
    "### Create Bar Plot Using hvplot.bar()"
   ]
  },
  {
   "cell_type": "code",
   "execution_count": 42,
   "metadata": {},
   "outputs": [
    {
     "data": {},
     "metadata": {},
     "output_type": "display_data"
    },
    {
     "data": {
      "application/vnd.holoviews_exec.v0+json": "",
      "text/html": [
       "<div id='5708'>\n",
       "\n",
       "\n",
       "\n",
       "\n",
       "\n",
       "  <div class=\"bk-root\" id=\"fe26ee8d-19aa-4fca-b7b2-455758e06564\" data-root-id=\"5708\"></div>\n",
       "</div>\n",
       "<script type=\"application/javascript\">(function(root) {\n",
       "  function embed_document(root) {\n",
       "    var docs_json = {\"62d03e4f-07d5-4376-a261-5a465adada99\":{\"defs\":[],\"roots\":{\"references\":[{\"attributes\":{\"data_source\":{\"id\":\"5742\"},\"glyph\":{\"id\":\"5745\"},\"hover_glyph\":null,\"muted_glyph\":{\"id\":\"5747\"},\"nonselection_glyph\":{\"id\":\"5746\"},\"selection_glyph\":{\"id\":\"5750\"},\"view\":{\"id\":\"5749\"}},\"id\":\"5748\",\"type\":\"GlyphRenderer\"},{\"attributes\":{},\"id\":\"5726\",\"type\":\"BasicTicker\"},{\"attributes\":{\"axis_label\":\"Market Cap\",\"formatter\":{\"id\":\"5755\"},\"major_label_policy\":{\"id\":\"5756\"},\"ticker\":{\"id\":\"5726\"}},\"id\":\"5725\",\"type\":\"LinearAxis\"},{\"attributes\":{\"margin\":[5,5,5,5],\"name\":\"HSpacer08374\",\"sizing_mode\":\"stretch_width\"},\"id\":\"5777\",\"type\":\"Spacer\"},{\"attributes\":{\"fill_color\":{\"value\":\"#30a2da\"},\"top\":{\"field\":\"Market_Cap\"},\"width\":{\"value\":0.8},\"x\":{\"field\":\"Symbol\"}},\"id\":\"5745\",\"type\":\"VBar\"},{\"attributes\":{\"callback\":null,\"renderers\":[{\"id\":\"5748\"}],\"tags\":[\"hv_created\"],\"tooltips\":[[\"Symbol\",\"@{Symbol}\"],[\"Market Cap\",\"@{Market_Cap}\"]]},\"id\":\"5712\",\"type\":\"HoverTool\"},{\"attributes\":{\"source\":{\"id\":\"5742\"}},\"id\":\"5749\",\"type\":\"CDSView\"},{\"attributes\":{\"factors\":[\"AAPL\",\"GOOGL\",\"GOOG\",\"MSFT\",\"AMZN\",\"FB\",\"JPM\",\"JNJ\",\"XOM\",\"BAC\",\"WMT\",\"WFC\",\"V\",\"BRK.B\",\"T\",\"HD\",\"CVX\",\"UNH\",\"INTC\",\"PFE\"],\"tags\":[[[\"Symbol\",\"Symbol\",null]]]},\"id\":\"5710\",\"type\":\"FactorRange\"},{\"attributes\":{\"bottom_units\":\"screen\",\"fill_alpha\":0.5,\"fill_color\":\"lightgrey\",\"left_units\":\"screen\",\"level\":\"overlay\",\"line_alpha\":1.0,\"line_color\":\"black\",\"line_dash\":[4,4],\"line_width\":2,\"right_units\":\"screen\",\"syncable\":false,\"top_units\":\"screen\"},\"id\":\"5734\",\"type\":\"BoxAnnotation\"},{\"attributes\":{\"children\":[{\"id\":\"5709\"},{\"id\":\"5713\"},{\"id\":\"5777\"}],\"margin\":[0,0,0,0],\"name\":\"Row08369\",\"tags\":[\"embedded\"]},\"id\":\"5708\",\"type\":\"Row\"},{\"attributes\":{\"data\":{\"Market_Cap\":[809508034020,733823966137,728535558140,689978437468,685873374731,523423036576,386613611000,353062464971,326148660000,321478200969,304680931618,281463620775,270038723213,261401203633,226713270000,223378633329,218978820159,218834811333,211536000000,208505541949],\"Symbol\":[\"AAPL\",\"GOOGL\",\"GOOG\",\"MSFT\",\"AMZN\",\"FB\",\"JPM\",\"JNJ\",\"XOM\",\"BAC\",\"WMT\",\"WFC\",\"V\",\"BRK.B\",\"T\",\"HD\",\"CVX\",\"UNH\",\"INTC\",\"PFE\"]},\"selected\":{\"id\":\"5743\"},\"selection_policy\":{\"id\":\"5764\"}},\"id\":\"5742\",\"type\":\"ColumnDataSource\"},{\"attributes\":{},\"id\":\"5756\",\"type\":\"AllLabels\"},{\"attributes\":{\"bottom\":{\"value\":0},\"fill_alpha\":{\"value\":1.0},\"fill_color\":{\"value\":\"#30a2da\"},\"hatch_alpha\":{\"value\":1.0},\"hatch_color\":{\"value\":\"black\"},\"hatch_scale\":{\"value\":12.0},\"hatch_weight\":{\"value\":1.0},\"line_alpha\":{\"value\":1.0},\"line_cap\":{\"value\":\"butt\"},\"line_color\":{\"value\":\"black\"},\"line_dash\":{\"value\":[]},\"line_dash_offset\":{\"value\":0},\"line_join\":{\"value\":\"bevel\"},\"line_width\":{\"value\":1},\"top\":{\"field\":\"Market_Cap\"},\"width\":{\"value\":0.8},\"x\":{\"field\":\"Symbol\"}},\"id\":\"5750\",\"type\":\"VBar\"},{\"attributes\":{\"below\":[{\"id\":\"5722\"}],\"center\":[{\"id\":\"5724\"},{\"id\":\"5728\"}],\"height\":300,\"left\":[{\"id\":\"5725\"}],\"margin\":[5,5,5,5],\"min_border_bottom\":10,\"min_border_left\":10,\"min_border_right\":10,\"min_border_top\":10,\"renderers\":[{\"id\":\"5748\"}],\"sizing_mode\":\"fixed\",\"title\":{\"id\":\"5714\"},\"toolbar\":{\"id\":\"5735\"},\"width\":700,\"x_range\":{\"id\":\"5710\"},\"x_scale\":{\"id\":\"5718\"},\"y_range\":{\"id\":\"5711\"},\"y_scale\":{\"id\":\"5720\"}},\"id\":\"5713\",\"subtype\":\"Figure\",\"type\":\"Plot\"},{\"attributes\":{\"fill_alpha\":{\"value\":0.2},\"fill_color\":{\"value\":\"#30a2da\"},\"line_alpha\":{\"value\":0.2},\"top\":{\"field\":\"Market_Cap\"},\"width\":{\"value\":0.8},\"x\":{\"field\":\"Symbol\"}},\"id\":\"5747\",\"type\":\"VBar\"},{\"attributes\":{},\"id\":\"5729\",\"type\":\"SaveTool\"},{\"attributes\":{\"text\":\"Top 20 market caps\",\"text_color\":\"black\",\"text_font_size\":\"12pt\"},\"id\":\"5714\",\"type\":\"Title\"},{\"attributes\":{},\"id\":\"5730\",\"type\":\"PanTool\"},{\"attributes\":{},\"id\":\"5733\",\"type\":\"ResetTool\"},{\"attributes\":{},\"id\":\"5731\",\"type\":\"WheelZoomTool\"},{\"attributes\":{},\"id\":\"5720\",\"type\":\"LinearScale\"},{\"attributes\":{\"active_multi\":null,\"tools\":[{\"id\":\"5712\"},{\"id\":\"5729\"},{\"id\":\"5730\"},{\"id\":\"5731\"},{\"id\":\"5732\"},{\"id\":\"5733\"}]},\"id\":\"5735\",\"type\":\"Toolbar\"},{\"attributes\":{\"overlay\":{\"id\":\"5734\"}},\"id\":\"5732\",\"type\":\"BoxZoomTool\"},{\"attributes\":{\"margin\":[5,5,5,5],\"name\":\"HSpacer08373\",\"sizing_mode\":\"stretch_width\"},\"id\":\"5709\",\"type\":\"Spacer\"},{\"attributes\":{\"axis_label\":\"Symbol\",\"formatter\":{\"id\":\"5753\"},\"major_label_policy\":{\"id\":\"5752\"},\"ticker\":{\"id\":\"5723\"}},\"id\":\"5722\",\"type\":\"CategoricalAxis\"},{\"attributes\":{},\"id\":\"5743\",\"type\":\"Selection\"},{\"attributes\":{\"axis\":{\"id\":\"5722\"},\"grid_line_color\":null,\"ticker\":null},\"id\":\"5724\",\"type\":\"Grid\"},{\"attributes\":{},\"id\":\"5718\",\"type\":\"CategoricalScale\"},{\"attributes\":{},\"id\":\"5753\",\"type\":\"CategoricalTickFormatter\"},{\"attributes\":{},\"id\":\"5755\",\"type\":\"BasicTickFormatter\"},{\"attributes\":{},\"id\":\"5752\",\"type\":\"AllLabels\"},{\"attributes\":{\"fill_alpha\":{\"value\":0.1},\"fill_color\":{\"value\":\"#30a2da\"},\"line_alpha\":{\"value\":0.1},\"top\":{\"field\":\"Market_Cap\"},\"width\":{\"value\":0.8},\"x\":{\"field\":\"Symbol\"}},\"id\":\"5746\",\"type\":\"VBar\"},{\"attributes\":{},\"id\":\"5723\",\"type\":\"CategoricalTicker\"},{\"attributes\":{},\"id\":\"5764\",\"type\":\"UnionRenderers\"},{\"attributes\":{\"end\":869608283227.1,\"reset_end\":869608283227.1,\"reset_start\":0.0,\"tags\":[[[\"Market Cap\",\"Market Cap\",null]]]},\"id\":\"5711\",\"type\":\"Range1d\"},{\"attributes\":{\"axis\":{\"id\":\"5725\"},\"dimension\":1,\"grid_line_color\":null,\"ticker\":null},\"id\":\"5728\",\"type\":\"Grid\"}],\"root_ids\":[\"5708\"]},\"title\":\"Bokeh Application\",\"version\":\"2.3.2\"}};\n",
       "    var render_items = [{\"docid\":\"62d03e4f-07d5-4376-a261-5a465adada99\",\"root_ids\":[\"5708\"],\"roots\":{\"5708\":\"fe26ee8d-19aa-4fca-b7b2-455758e06564\"}}];\n",
       "    root.Bokeh.embed.embed_items_notebook(docs_json, render_items);\n",
       "  }\n",
       "  if (root.Bokeh !== undefined && root.Bokeh.Panel !== undefined) {\n",
       "    embed_document(root);\n",
       "  } else {\n",
       "    var attempts = 0;\n",
       "    var timer = setInterval(function(root) {\n",
       "      if (root.Bokeh !== undefined && root.Bokeh.Panel !== undefined) {\n",
       "        clearInterval(timer);\n",
       "        embed_document(root);\n",
       "      } else if (document.readyState == \"complete\") {\n",
       "        attempts++;\n",
       "        if (attempts > 100) {\n",
       "          clearInterval(timer);\n",
       "          console.log(\"Bokeh: ERROR: Unable to run BokehJS code because BokehJS library is missing\");\n",
       "        }\n",
       "      }\n",
       "    }, 10, root)\n",
       "  }\n",
       "})(window);</script>"
      ],
      "text/plain": [
       ":Bars   [Symbol]   (Market Cap)"
      ]
     },
     "execution_count": 42,
     "metadata": {
      "application/vnd.holoviews_exec.v0+json": {
       "id": "5708"
      }
     },
     "output_type": "execute_result"
    }
   ],
   "source": [
    "# Plot a hvplot bar chart of the top 20 market cap companies\n",
    "top_20_market_cap.hvplot.bar(title=\"Top 20 market caps\",\n",
    "                             width=700,\n",
    "                             height=300)"
   ]
  },
  {
   "cell_type": "markdown",
   "metadata": {},
   "source": [
    "## Challenge  \n",
    "### Create Scatter Plot Using hvplot(kind=)"
   ]
  },
  {
   "cell_type": "code",
   "execution_count": 43,
   "metadata": {},
   "outputs": [
    {
     "data": {
      "text/html": [
       "<div>\n",
       "<style scoped>\n",
       "    .dataframe tbody tr th:only-of-type {\n",
       "        vertical-align: middle;\n",
       "    }\n",
       "\n",
       "    .dataframe tbody tr th {\n",
       "        vertical-align: top;\n",
       "    }\n",
       "\n",
       "    .dataframe thead th {\n",
       "        text-align: right;\n",
       "    }\n",
       "</style>\n",
       "<table border=\"1\" class=\"dataframe\">\n",
       "  <thead>\n",
       "    <tr style=\"text-align: right;\">\n",
       "      <th></th>\n",
       "      <th>Symbol</th>\n",
       "      <th>Name</th>\n",
       "      <th>Sector</th>\n",
       "      <th>Price</th>\n",
       "      <th>Price/Earnings</th>\n",
       "      <th>Dividend Yield</th>\n",
       "      <th>Earnings/Share</th>\n",
       "      <th>52 Week Low</th>\n",
       "      <th>52 Week High</th>\n",
       "      <th>Market Cap</th>\n",
       "      <th>EBITDA</th>\n",
       "      <th>Price/Sales</th>\n",
       "      <th>Price/Book</th>\n",
       "      <th>SEC Filings</th>\n",
       "    </tr>\n",
       "  </thead>\n",
       "  <tbody>\n",
       "    <tr>\n",
       "      <th>0</th>\n",
       "      <td>MMM</td>\n",
       "      <td>3M Company</td>\n",
       "      <td>Industrials</td>\n",
       "      <td>222.89</td>\n",
       "      <td>24.31</td>\n",
       "      <td>2.332862</td>\n",
       "      <td>7.92</td>\n",
       "      <td>259.77</td>\n",
       "      <td>175.490</td>\n",
       "      <td>138721055226</td>\n",
       "      <td>9.048000e+09</td>\n",
       "      <td>4.390271</td>\n",
       "      <td>11.34</td>\n",
       "      <td>http://www.sec.gov/cgi-bin/browse-edgar?action...</td>\n",
       "    </tr>\n",
       "    <tr>\n",
       "      <th>1</th>\n",
       "      <td>AOS</td>\n",
       "      <td>A.O. Smith Corp</td>\n",
       "      <td>Industrials</td>\n",
       "      <td>60.24</td>\n",
       "      <td>27.76</td>\n",
       "      <td>1.147959</td>\n",
       "      <td>1.70</td>\n",
       "      <td>68.39</td>\n",
       "      <td>48.925</td>\n",
       "      <td>10783419933</td>\n",
       "      <td>6.010000e+08</td>\n",
       "      <td>3.575483</td>\n",
       "      <td>6.35</td>\n",
       "      <td>http://www.sec.gov/cgi-bin/browse-edgar?action...</td>\n",
       "    </tr>\n",
       "    <tr>\n",
       "      <th>2</th>\n",
       "      <td>ABT</td>\n",
       "      <td>Abbott Laboratories</td>\n",
       "      <td>Health Care</td>\n",
       "      <td>56.27</td>\n",
       "      <td>22.51</td>\n",
       "      <td>1.908982</td>\n",
       "      <td>0.26</td>\n",
       "      <td>64.60</td>\n",
       "      <td>42.280</td>\n",
       "      <td>102121042306</td>\n",
       "      <td>5.744000e+09</td>\n",
       "      <td>3.740480</td>\n",
       "      <td>3.19</td>\n",
       "      <td>http://www.sec.gov/cgi-bin/browse-edgar?action...</td>\n",
       "    </tr>\n",
       "    <tr>\n",
       "      <th>3</th>\n",
       "      <td>ABBV</td>\n",
       "      <td>AbbVie Inc.</td>\n",
       "      <td>Health Care</td>\n",
       "      <td>108.48</td>\n",
       "      <td>19.41</td>\n",
       "      <td>2.499560</td>\n",
       "      <td>3.29</td>\n",
       "      <td>125.86</td>\n",
       "      <td>60.050</td>\n",
       "      <td>181386347059</td>\n",
       "      <td>1.031000e+10</td>\n",
       "      <td>6.291571</td>\n",
       "      <td>26.14</td>\n",
       "      <td>http://www.sec.gov/cgi-bin/browse-edgar?action...</td>\n",
       "    </tr>\n",
       "    <tr>\n",
       "      <th>4</th>\n",
       "      <td>ACN</td>\n",
       "      <td>Accenture plc</td>\n",
       "      <td>Information Technology</td>\n",
       "      <td>150.51</td>\n",
       "      <td>25.47</td>\n",
       "      <td>1.714470</td>\n",
       "      <td>5.44</td>\n",
       "      <td>162.60</td>\n",
       "      <td>114.820</td>\n",
       "      <td>98765855553</td>\n",
       "      <td>5.643228e+09</td>\n",
       "      <td>2.604117</td>\n",
       "      <td>10.62</td>\n",
       "      <td>http://www.sec.gov/cgi-bin/browse-edgar?action...</td>\n",
       "    </tr>\n",
       "  </tbody>\n",
       "</table>\n",
       "</div>"
      ],
      "text/plain": [
       "  Symbol                 Name                  Sector   Price  Price/Earnings  \\\n",
       "0    MMM           3M Company             Industrials  222.89           24.31   \n",
       "1    AOS      A.O. Smith Corp             Industrials   60.24           27.76   \n",
       "2    ABT  Abbott Laboratories             Health Care   56.27           22.51   \n",
       "3   ABBV          AbbVie Inc.             Health Care  108.48           19.41   \n",
       "4    ACN        Accenture plc  Information Technology  150.51           25.47   \n",
       "\n",
       "   Dividend Yield  Earnings/Share  52 Week Low  52 Week High    Market Cap  \\\n",
       "0        2.332862            7.92       259.77       175.490  138721055226   \n",
       "1        1.147959            1.70        68.39        48.925   10783419933   \n",
       "2        1.908982            0.26        64.60        42.280  102121042306   \n",
       "3        2.499560            3.29       125.86        60.050  181386347059   \n",
       "4        1.714470            5.44       162.60       114.820   98765855553   \n",
       "\n",
       "         EBITDA  Price/Sales  Price/Book  \\\n",
       "0  9.048000e+09     4.390271       11.34   \n",
       "1  6.010000e+08     3.575483        6.35   \n",
       "2  5.744000e+09     3.740480        3.19   \n",
       "3  1.031000e+10     6.291571       26.14   \n",
       "4  5.643228e+09     2.604117       10.62   \n",
       "\n",
       "                                         SEC Filings  \n",
       "0  http://www.sec.gov/cgi-bin/browse-edgar?action...  \n",
       "1  http://www.sec.gov/cgi-bin/browse-edgar?action...  \n",
       "2  http://www.sec.gov/cgi-bin/browse-edgar?action...  \n",
       "3  http://www.sec.gov/cgi-bin/browse-edgar?action...  \n",
       "4  http://www.sec.gov/cgi-bin/browse-edgar?action...  "
      ]
     },
     "execution_count": 43,
     "metadata": {},
     "output_type": "execute_result"
    }
   ],
   "source": [
    "# Plot a scatter plot using hvplot function to display the relationship between price vs. earnings/share\n",
    "sp500_companies_csv.head()"
   ]
  },
  {
   "cell_type": "code",
   "execution_count": 55,
   "metadata": {},
   "outputs": [
    {
     "data": {
      "text/plain": [
       "(505, 2)"
      ]
     },
     "execution_count": 55,
     "metadata": {},
     "output_type": "execute_result"
    }
   ],
   "source": [
    "price_earnings = sp500_companies_csv[['Price', 'Price/Earnings']]\n",
    "price_earnings.shape"
   ]
  },
  {
   "cell_type": "code",
   "execution_count": 52,
   "metadata": {},
   "outputs": [
    {
     "data": {},
     "metadata": {},
     "output_type": "display_data"
    },
    {
     "data": {
      "application/vnd.holoviews_exec.v0+json": "",
      "text/html": [
       "<div id='7363'>\n",
       "\n",
       "\n",
       "\n",
       "\n",
       "\n",
       "  <div class=\"bk-root\" id=\"71e4c006-bdaa-4a49-80e4-45ebbde7834d\" data-root-id=\"7363\"></div>\n",
       "</div>\n",
       "<script type=\"application/javascript\">(function(root) {\n",
       "  function embed_document(root) {\n",
       "    var docs_json = {\"2a6a0580-73b2-4dae-85b9-9aa286b28ce5\":{\"defs\":[],\"roots\":{\"references\":[{\"attributes\":{},\"id\":\"7387\",\"type\":\"PanTool\"},{\"attributes\":{\"fill_alpha\":{\"value\":0.2},\"fill_color\":{\"value\":\"#fc4f30\"},\"line_alpha\":{\"value\":0.2},\"line_color\":{\"value\":\"#fc4f30\"},\"size\":{\"value\":5.477225575051661},\"x\":{\"field\":\"index\"},\"y\":{\"field\":\"value\"}},\"id\":\"7433\",\"type\":\"Scatter\"},{\"attributes\":{\"label\":{\"value\":\"Price/Earnings\"},\"renderers\":[{\"id\":\"7434\"}]},\"id\":\"7447\",\"type\":\"LegendItem\"},{\"attributes\":{},\"id\":\"7390\",\"type\":\"ResetTool\"},{\"attributes\":{},\"id\":\"7422\",\"type\":\"UnionRenderers\"},{\"attributes\":{},\"id\":\"7379\",\"type\":\"BasicTicker\"},{\"attributes\":{},\"id\":\"7388\",\"type\":\"WheelZoomTool\"},{\"attributes\":{},\"id\":\"7429\",\"type\":\"Selection\"},{\"attributes\":{\"axis\":{\"id\":\"7378\"},\"grid_line_color\":null,\"ticker\":null},\"id\":\"7381\",\"type\":\"Grid\"},{\"attributes\":{\"overlay\":{\"id\":\"7391\"}},\"id\":\"7389\",\"type\":\"BoxZoomTool\"},{\"attributes\":{\"text\":\"Price & Price/Earnings\",\"text_color\":\"black\",\"text_font_size\":\"12pt\"},\"id\":\"7370\",\"type\":\"Title\"},{\"attributes\":{\"angle\":{\"value\":0.0},\"fill_alpha\":{\"value\":1.0},\"fill_color\":{\"value\":\"#fc4f30\"},\"hatch_alpha\":{\"value\":1.0},\"hatch_color\":{\"value\":\"black\"},\"hatch_scale\":{\"value\":12.0},\"hatch_weight\":{\"value\":1.0},\"line_alpha\":{\"value\":1.0},\"line_cap\":{\"value\":\"butt\"},\"line_color\":{\"value\":\"#fc4f30\"},\"line_dash\":{\"value\":[]},\"line_dash_offset\":{\"value\":0},\"line_join\":{\"value\":\"bevel\"},\"line_width\":{\"value\":1},\"marker\":{\"value\":\"circle\"},\"size\":{\"value\":5.477225575051661},\"x\":{\"field\":\"index\"},\"y\":{\"field\":\"value\"}},\"id\":\"7448\",\"type\":\"Scatter\"},{\"attributes\":{\"source\":{\"id\":\"7428\"}},\"id\":\"7435\",\"type\":\"CDSView\"},{\"attributes\":{\"source\":{\"id\":\"7408\"}},\"id\":\"7415\",\"type\":\"CDSView\"},{\"attributes\":{\"fill_color\":{\"value\":\"#30a2da\"},\"line_color\":{\"value\":\"#30a2da\"},\"size\":{\"value\":5.477225575051661},\"x\":{\"field\":\"index\"},\"y\":{\"field\":\"value\"}},\"id\":\"7411\",\"type\":\"Scatter\"},{\"attributes\":{},\"id\":\"7374\",\"type\":\"LinearScale\"},{\"attributes\":{\"fill_alpha\":{\"value\":0.1},\"fill_color\":{\"value\":\"#fc4f30\"},\"line_alpha\":{\"value\":0.1},\"line_color\":{\"value\":\"#fc4f30\"},\"size\":{\"value\":5.477225575051661},\"x\":{\"field\":\"index\"},\"y\":{\"field\":\"value\"}},\"id\":\"7432\",\"type\":\"Scatter\"},{\"attributes\":{\"children\":[{\"id\":\"7364\"},{\"id\":\"7369\"},{\"id\":\"7548\"}],\"margin\":[0,0,0,0],\"name\":\"Row10654\",\"tags\":[\"embedded\"]},\"id\":\"7363\",\"type\":\"Row\"},{\"attributes\":{\"fill_color\":{\"value\":\"#fc4f30\"},\"line_color\":{\"value\":\"#fc4f30\"},\"size\":{\"value\":5.477225575051661},\"x\":{\"field\":\"index\"},\"y\":{\"field\":\"value\"}},\"id\":\"7431\",\"type\":\"Scatter\"},{\"attributes\":{\"end\":2011.819,\"reset_end\":2011.819,\"reset_start\":-457.289,\"start\":-457.289,\"tags\":[[[\"value\",\"value\",null]]]},\"id\":\"7366\",\"type\":\"Range1d\"},{\"attributes\":{\"format\":\"%.0f\"},\"id\":\"7399\",\"type\":\"PrintfTickFormatter\"},{\"attributes\":{\"end\":529.2,\"reset_end\":529.2,\"reset_start\":-25.200000000000003,\"start\":-25.200000000000003,\"tags\":[[[\"index\",\"index\",null]]]},\"id\":\"7365\",\"type\":\"Range1d\"},{\"attributes\":{},\"id\":\"7376\",\"type\":\"LinearScale\"},{\"attributes\":{\"margin\":[5,5,5,5],\"name\":\"HSpacer10658\",\"sizing_mode\":\"stretch_width\"},\"id\":\"7364\",\"type\":\"Spacer\"},{\"attributes\":{\"axis_label\":\"\",\"formatter\":{\"id\":\"7399\"},\"major_label_policy\":{\"id\":\"7405\"},\"ticker\":{\"id\":\"7383\"}},\"id\":\"7382\",\"type\":\"LinearAxis\"},{\"attributes\":{\"data_source\":{\"id\":\"7408\"},\"glyph\":{\"id\":\"7411\"},\"hover_glyph\":null,\"muted_glyph\":{\"id\":\"7413\"},\"nonselection_glyph\":{\"id\":\"7412\"},\"selection_glyph\":{\"id\":\"7427\"},\"view\":{\"id\":\"7415\"}},\"id\":\"7414\",\"type\":\"GlyphRenderer\"},{\"attributes\":{\"axis_label\":\"\",\"formatter\":{\"id\":\"7401\"},\"major_label_policy\":{\"id\":\"7402\"},\"ticker\":{\"id\":\"7379\"}},\"id\":\"7378\",\"type\":\"LinearAxis\"},{\"attributes\":{\"fill_alpha\":{\"value\":0.2},\"fill_color\":{\"value\":\"#30a2da\"},\"line_alpha\":{\"value\":0.2},\"line_color\":{\"value\":\"#30a2da\"},\"size\":{\"value\":5.477225575051661},\"x\":{\"field\":\"index\"},\"y\":{\"field\":\"value\"}},\"id\":\"7413\",\"type\":\"Scatter\"},{\"attributes\":{\"margin\":[5,5,5,5],\"name\":\"HSpacer10659\",\"sizing_mode\":\"stretch_width\"},\"id\":\"7548\",\"type\":\"Spacer\"},{\"attributes\":{\"angle\":{\"value\":0.0},\"fill_alpha\":{\"value\":1.0},\"fill_color\":{\"value\":\"#30a2da\"},\"hatch_alpha\":{\"value\":1.0},\"hatch_color\":{\"value\":\"black\"},\"hatch_scale\":{\"value\":12.0},\"hatch_weight\":{\"value\":1.0},\"line_alpha\":{\"value\":1.0},\"line_cap\":{\"value\":\"butt\"},\"line_color\":{\"value\":\"#30a2da\"},\"line_dash\":{\"value\":[]},\"line_dash_offset\":{\"value\":0},\"line_join\":{\"value\":\"bevel\"},\"line_width\":{\"value\":1},\"marker\":{\"value\":\"circle\"},\"size\":{\"value\":5.477225575051661},\"x\":{\"field\":\"index\"},\"y\":{\"field\":\"value\"}},\"id\":\"7427\",\"type\":\"Scatter\"},{\"attributes\":{},\"id\":\"7405\",\"type\":\"AllLabels\"},{\"attributes\":{\"data\":{\"Variable\":[\"Price\",\"Price\",\"Price\",\"Price\",\"Price\",\"Price\",\"Price\",\"Price\",\"Price\",\"Price\",\"Price\",\"Price\",\"Price\",\"Price\",\"Price\",\"Price\",\"Price\",\"Price\",\"Price\",\"Price\",\"Price\",\"Price\",\"Price\",\"Price\",\"Price\",\"Price\",\"Price\",\"Price\",\"Price\",\"Price\",\"Price\",\"Price\",\"Price\",\"Price\",\"Price\",\"Price\",\"Price\",\"Price\",\"Price\",\"Price\",\"Price\",\"Price\",\"Price\",\"Price\",\"Price\",\"Price\",\"Price\",\"Price\",\"Price\",\"Price\",\"Price\",\"Price\",\"Price\",\"Price\",\"Price\",\"Price\",\"Price\",\"Price\",\"Price\",\"Price\",\"Price\",\"Price\",\"Price\",\"Price\",\"Price\",\"Price\",\"Price\",\"Price\",\"Price\",\"Price\",\"Price\",\"Price\",\"Price\",\"Price\",\"Price\",\"Price\",\"Price\",\"Price\",\"Price\",\"Price\",\"Price\",\"Price\",\"Price\",\"Price\",\"Price\",\"Price\",\"Price\",\"Price\",\"Price\",\"Price\",\"Price\",\"Price\",\"Price\",\"Price\",\"Price\",\"Price\",\"Price\",\"Price\",\"Price\",\"Price\",\"Price\",\"Price\",\"Price\",\"Price\",\"Price\",\"Price\",\"Price\",\"Price\",\"Price\",\"Price\",\"Price\",\"Price\",\"Price\",\"Price\",\"Price\",\"Price\",\"Price\",\"Price\",\"Price\",\"Price\",\"Price\",\"Price\",\"Price\",\"Price\",\"Price\",\"Price\",\"Price\",\"Price\",\"Price\",\"Price\",\"Price\",\"Price\",\"Price\",\"Price\",\"Price\",\"Price\",\"Price\",\"Price\",\"Price\",\"Price\",\"Price\",\"Price\",\"Price\",\"Price\",\"Price\",\"Price\",\"Price\",\"Price\",\"Price\",\"Price\",\"Price\",\"Price\",\"Price\",\"Price\",\"Price\",\"Price\",\"Price\",\"Price\",\"Price\",\"Price\",\"Price\",\"Price\",\"Price\",\"Price\",\"Price\",\"Price\",\"Price\",\"Price\",\"Price\",\"Price\",\"Price\",\"Price\",\"Price\",\"Price\",\"Price\",\"Price\",\"Price\",\"Price\",\"Price\",\"Price\",\"Price\",\"Price\",\"Price\",\"Price\",\"Price\",\"Price\",\"Price\",\"Price\",\"Price\",\"Price\",\"Price\",\"Price\",\"Price\",\"Price\",\"Price\",\"Price\",\"Price\",\"Price\",\"Price\",\"Price\",\"Price\",\"Price\",\"Price\",\"Price\",\"Price\",\"Price\",\"Price\",\"Price\",\"Price\",\"Price\",\"Price\",\"Price\",\"Price\",\"Price\",\"Price\",\"Price\",\"Price\",\"Price\",\"Price\",\"Price\",\"Price\",\"Price\",\"Price\",\"Price\",\"Price\",\"Price\",\"Price\",\"Price\",\"Price\",\"Price\",\"Price\",\"Price\",\"Price\",\"Price\",\"Price\",\"Price\",\"Price\",\"Price\",\"Price\",\"Price\",\"Price\",\"Price\",\"Price\",\"Price\",\"Price\",\"Price\",\"Price\",\"Price\",\"Price\",\"Price\",\"Price\",\"Price\",\"Price\",\"Price\",\"Price\",\"Price\",\"Price\",\"Price\",\"Price\",\"Price\",\"Price\",\"Price\",\"Price\",\"Price\",\"Price\",\"Price\",\"Price\",\"Price\",\"Price\",\"Price\",\"Price\",\"Price\",\"Price\",\"Price\",\"Price\",\"Price\",\"Price\",\"Price\",\"Price\",\"Price\",\"Price\",\"Price\",\"Price\",\"Price\",\"Price\",\"Price\",\"Price\",\"Price\",\"Price\",\"Price\",\"Price\",\"Price\",\"Price\",\"Price\",\"Price\",\"Price\",\"Price\",\"Price\",\"Price\",\"Price\",\"Price\",\"Price\",\"Price\",\"Price\",\"Price\",\"Price\",\"Price\",\"Price\",\"Price\",\"Price\",\"Price\",\"Price\",\"Price\",\"Price\",\"Price\",\"Price\",\"Price\",\"Price\",\"Price\",\"Price\",\"Price\",\"Price\",\"Price\",\"Price\",\"Price\",\"Price\",\"Price\",\"Price\",\"Price\",\"Price\",\"Price\",\"Price\",\"Price\",\"Price\",\"Price\",\"Price\",\"Price\",\"Price\",\"Price\",\"Price\",\"Price\",\"Price\",\"Price\",\"Price\",\"Price\",\"Price\",\"Price\",\"Price\",\"Price\",\"Price\",\"Price\",\"Price\",\"Price\",\"Price\",\"Price\",\"Price\",\"Price\",\"Price\",\"Price\",\"Price\",\"Price\",\"Price\",\"Price\",\"Price\",\"Price\",\"Price\",\"Price\",\"Price\",\"Price\",\"Price\",\"Price\",\"Price\",\"Price\",\"Price\",\"Price\",\"Price\",\"Price\",\"Price\",\"Price\",\"Price\",\"Price\",\"Price\",\"Price\",\"Price\",\"Price\",\"Price\",\"Price\",\"Price\",\"Price\",\"Price\",\"Price\",\"Price\",\"Price\",\"Price\",\"Price\",\"Price\",\"Price\",\"Price\",\"Price\",\"Price\",\"Price\",\"Price\",\"Price\",\"Price\",\"Price\",\"Price\",\"Price\",\"Price\",\"Price\",\"Price\",\"Price\",\"Price\",\"Price\",\"Price\",\"Price\",\"Price\",\"Price\",\"Price\",\"Price\",\"Price\",\"Price\",\"Price\",\"Price\",\"Price\",\"Price\",\"Price\",\"Price\",\"Price\",\"Price\",\"Price\",\"Price\",\"Price\",\"Price\",\"Price\",\"Price\",\"Price\",\"Price\",\"Price\",\"Price\",\"Price\",\"Price\",\"Price\",\"Price\",\"Price\",\"Price\",\"Price\",\"Price\",\"Price\",\"Price\",\"Price\",\"Price\",\"Price\",\"Price\",\"Price\",\"Price\",\"Price\",\"Price\",\"Price\",\"Price\",\"Price\",\"Price\",\"Price\",\"Price\",\"Price\",\"Price\",\"Price\",\"Price\",\"Price\",\"Price\",\"Price\",\"Price\",\"Price\",\"Price\",\"Price\",\"Price\",\"Price\",\"Price\",\"Price\",\"Price\",\"Price\",\"Price\",\"Price\",\"Price\",\"Price\",\"Price\",\"Price\",\"Price\",\"Price\",\"Price\",\"Price\",\"Price\",\"Price\",\"Price\",\"Price\",\"Price\",\"Price\",\"Price\",\"Price\",\"Price\",\"Price\",\"Price\",\"Price\",\"Price\",\"Price\",\"Price\"],\"index\":[0,1,2,3,4,5,6,7,8,9,10,11,12,13,14,15,16,17,18,19,20,21,22,23,24,25,26,27,28,29,30,31,32,33,34,35,36,37,38,39,40,41,42,43,44,45,46,47,48,49,50,51,52,53,54,55,56,57,58,59,60,61,62,63,64,65,66,67,68,69,70,71,72,73,74,75,76,77,78,79,80,81,82,83,84,85,86,87,88,89,90,91,92,93,94,95,96,97,98,99,100,101,102,103,104,105,106,107,108,109,110,111,112,113,114,115,116,117,118,119,120,121,122,123,124,125,126,127,128,129,130,131,132,133,134,135,136,137,138,139,140,141,142,143,144,145,146,147,148,149,150,151,152,153,154,155,156,157,158,159,160,161,162,163,164,165,166,167,168,169,170,171,172,173,174,175,176,177,178,179,180,181,182,183,184,185,186,187,188,189,190,191,192,193,194,195,196,197,198,199,200,201,202,203,204,205,206,207,208,209,210,211,212,213,214,215,216,217,218,219,220,221,222,223,224,225,226,227,228,229,230,231,232,233,234,235,236,237,238,239,240,241,242,243,244,245,246,247,248,249,250,251,252,253,254,255,256,257,258,259,260,261,262,263,264,265,266,267,268,269,270,271,272,273,274,275,276,277,278,279,280,281,282,283,284,285,286,287,288,289,290,291,292,293,294,295,296,297,298,299,300,301,302,303,304,305,306,307,308,309,310,311,312,313,314,315,316,317,318,319,320,321,322,323,324,325,326,327,328,329,330,331,332,333,334,335,336,337,338,339,340,341,342,343,344,345,346,347,348,349,350,351,352,353,354,355,356,357,358,359,360,361,362,363,364,365,366,367,368,369,370,371,372,373,374,375,376,377,378,379,380,381,382,383,384,385,386,387,388,389,390,391,392,393,394,395,396,397,398,399,400,401,402,403,404,405,406,407,408,409,410,411,412,413,414,415,416,417,418,419,420,421,422,423,424,425,426,427,428,429,430,431,432,433,434,435,436,437,438,439,440,441,442,443,444,445,446,447,448,449,450,451,452,453,454,455,456,457,458,459,460,461,462,463,464,465,466,467,468,469,470,471,472,473,474,475,476,477,478,479,480,481,482,483,484,485,486,487,488,489,490,491,492,493,494,495,496,497,498,499,500,501,502,503,504],\"value\":{\"__ndarray__\":\"FK5H4Xrca0AfhetRuB5OQMP1KFyPIkxAH4XrUbgeW0C4HoXrUdBiQIXrUbgedVBAhetRuB4tYkCF61G4HiVnQLgehetRaFtAcT0K16NwJkAfhetRuB4kQAAAAAAAQGZA7FG4HoVjZkAAAAAAANBUQDMzMzMzQ1BAmpmZmZkZY0AfhetRuD5PQMP1KFyPAlBA7FG4HoVLWkCF61G4HqVcQK5H4XoUHltAH4XrUbiWa0AUrkfhelRTQGZmZmZmhmRAMzMzMzMTbkBSuB6F65FCQKRwPQrXg1ZASOF6FK59j0Bcj8L1KEyPQDMzMzMzA1BAAAAAAAAalUDsUbgehUtKQM3MzMzMTEhAcT0K16OwT0D2KFyPwhVWQKRwPQrXI01ACtejcD2yYECkcD0K1wNTQAAAAAAAEGNAMzMzMzPjVkAzMzMzMwNSQKRwPQrXo2VAXI/C9SgcVUCamZmZmRlMQOxRuB6Fq1RAmpmZmZk5WEB7FK5H4ZpiQArXo3A90mxAmpmZmZkBYUA9CtejcN1CQHsUrkfhGkNAzczMzMxkY0AAAAAAAOBGQOF6FK5HUVZAzczMzMysREAzMzMzM3M4QJqZmZmZGVBACtejcD1KVUApXI/C9chBQKRwPQrXM1pAAAAAAAAQW0DD9Shcj3SGQK5H4XoUXmNA4XoUrkexW0AAAAAAAIA7QLgehetROENAPQrXo3C9PUBI4XoUrkdPQClcj8L1iElArkfhehRuakA9CtejcO1nQMP1KFyPMlFAcT0K16N8c0CuR+F6FNZ/QHE9CtejMDlAw/UoXI+adEC4HoXrUfhJQPYoXI/CBVxAMzMzMzMzOUC4HoXrUbhLQLgehetRWE9ACtejcD2ybEAK16NwPapPQK5H4XoUnlZAFK5H4XpUQEDD9ShcjwI3QClcj8L1aEJACtejcD1qRkAzMzMzM/NWQLgehetRqFBA9ihcj8IVUEBxPQrXo7BQQEjhehSuP2JAmpmZmZnJW0D2KFyPwvVEQGZmZmZm5klA4XoUrkfBVkDXo3A9ChdZQJqZmZmZ2TlAMzMzMzMzMEBcj8L1KJxOQHsUrkfhukJAMzMzMzNzSEBmZmZmZsp1QI/C9ShcjwZAMzMzMzMTXEBcj8L1KKBwQBSuR+F6jGFAcT0K16OwR0BxPQrXo6hnQFyPwvUoDFlA9ihcj8KVUUAK16NwPapiQMP1KFyPYkNASOF6FK73UUC4HoXrURhFQFK4HoXrIVVA4XoUrkchY0DD9Shcj+JEQM3MzMzMjEVACtejcD3KUkDNzMzMzDxRQLgehetRGENA7FG4HoVLVkAfhetRuL5BQHsUrkfhgmFAH4XrUbieSkAfhetRuK5SQI/C9ShcF2pAMzMzMzNzPEDsUbgehVNmQPYoXI/C9TNApHA9CtfzWUCamZmZmdk+QFyPwvUoPElAj8L1KFy3ZEAzMzMzM6NRQGZmZmZmRkZACtejcD0KV0CF61G4HtVWQArXo3A9+lFAhetRuB41Y0A9CtejcJ1JQM3MzMzMbExAuB6F61F4QUA9CtejcL1YQJqZmZmZGVJAH4XrUbjeNkAUrkfhepQ1QMP1KFyP4kVAZmZmZmbGV0CF61G4HmVZQKRwPQrXU1JAzczMzMwMWEA9CtejcA1RQOxRuB6FO11Aj8L1KFyfWEAUrkfhepRSQIXrUbgehThAexSuR+H6VkA9CtejcD1IQBSuR+F6ZFdACtejcD3aU0DD9Shcj4JEQHE9Ctej8F9AKVyPwvUITUBSuB6F6/FeQMP1KFyPIl1AmpmZmZmZUEDhehSuRwFSQOxRuB6Fq0FAw/UoXI9CWUAAAAAAACBHQAAAAAAAgFxASOF6FK6feUDhehSuR6FLQClcj8L1SGtAH4XrUbhuYEBSuB6F6yFuQK5H4XoUDkxAPQrXo3D9QUBSuB6F68FeQK5H4XoULk5AZmZmZmZWUkCkcD0K12NTQBSuR+F6BFNAAAAAAAAoYUDD9Shcj3JlQDMzMzMzE0pA16NwPQoHW0BxPQrXo+htQI/C9ShcL1dAmpmZmZkZP0CkcD0K16M+QJqZmZmZoWBAexSuR+E6R0ApXI/C9WhEQEjhehSup0tASOF6FK43VEBxPQrXo/BGQFyPwvUo3CRAKVyPwvVIUUC4HoXrUThPQAAAAAAAAENAKVyPwvUoMUDsUbgehSs/QHE9CtejkE5AcT0K16OQXECamZmZmcFpQGZmZmZm5ixAH4XrUbieNUAfhetRuP5KQAAAAAAAYERApHA9CtcTWECuR+F6FI5TQPYoXI/CJVlAMzMzMzPLbkAAAAAAAMA+QJqZmZmZKXBAFK5H4Xq0R0BSuB6F65EzQIXrUbgexUdAexSuR+G6YkDsUbgehatKQB+F61G4HlhArkfhehT+V0CkcD0K16M2QEjhehSuN1BAZmZmZma2UUAAAAAAAIBFQBSuR+F6FC5ACtejcD2qU0BmZmZmZmZDQNejcD0Kp2ZAcT0K16NAYkB7FK5H4RpAQAAAAAAAwDJA7FG4HoXrM0BSuB6F62VwQDMzMzMzMy5ApHA9CtcrbEApXI/C9ShlQD0K16Nw3UVAzczMzMyEY0DhehSuRzFqQHsUrkfh+lRAZmZmZmbmVUAAAAAAAGBFQAAAAAAAwFBAexSuR+FyYkBmZmZmZgZMQNejcD0KVzVAAAAAAABAYUAAAAAAABhjQFK4HoXr3XdA7FG4HoXrP0AfhetRuM5XQClcj8L1CEBApHA9CtezXEApXI/C9WhPQEjhehSul11A16NwPQqXX0BmZmZmZkZCQLgehetR+FpAKVyPwvWoOEBSuB6F6+FZQB+F61G4flBAFK5H4XoUNEBcj8L1KOxbQIXrUbgeBSxAzczMzMzMMEDD9Shcj6JYQOxRuB6FK05AhetRuB7lUUBSuB6F65E7QMP1KFyP4kdA4XoUrkfZaEAfhetRuK5kQI/C9ShcR2RAH4XrUbj+RUCuR+F6FI5NQFyPwvUo3DdAPQrXo3CNUkDXo3A9CndSQK5H4XoUbkNAzczMzMzkdEBmZmZmZgZHQHE9CtejwFdAw/UoXI9yWkAzMzMzM0tmQK5H4XoULk1AAAAAAAAAOEBcj8L1KFwvQIXrUbgeZU9AXI/C9Si8YECkcD0K19NTQD0K16NwDWpAmpmZmZlZRECkcD0K1xNkQAAAAAAAADBA16NwPQpXWUDXo3A9Ct9jQI/C9Shcx2JAuB6F61GYU0A9CtejcF1LQKRwPQrXI0ZAAAAAAADIgkAAAAAAAMBAQKRwPQrXA05AmpmZmZn5U0AAAAAAAABEQHE9CtejQFVAKVyPwvVYVUCF61G4HglwQHE9CtejoFJA16NwPQpXRUCF61G4HsVdQB+F61G4/k5AFK5H4XoEY0CF61G4HuVJQI/C9Shcr1hAAAAAAACgQ0A9CtejcM1SQFK4HoXrUUBAw/UoXI/CKkDNzMzMzOxLQDMzMzMzQ29AKVyPwvXoO0DhehSuR2E6QK5H4XoUTkJAzczMzMxML0AzMzMzM7MvQOF6FK5HKWJAMzMzMzPzQEAfhetRuD5PQMP1KFyPgjZArkfhehRuOUA9CtejcJ1HQBSuR+F6HGFAzczMzMwMWEBcj8L1KEB0QOF6FK5HAUxAAAAAAAAAOEBxPQrXozBOQHE9CtejMGtA16NwPQqHb0CuR+F6FB5RQArXo3A9+lJAMzMzMzMzS0DsUbgehWtHQB+F61G4vlBAzczMzMz8W0C4HoXrUdBlQHE9CtejcEBArkfhehTuTkAUrkfhehRSQHsUrkfhqlBAj8L1KFyPMkCamZmZmYlbQKRwPQrXA1JAXI/C9SgcVUBxPQrXo9BAQB+F61G4HkNAKVyPwvUYWUBcj8L1KBxXQPYoXI/ClVJAhetRuB4lZUBcj8L1KKxiQBSuR+F6VFlAMzMzMzOTW0CF61G4HoU9QArXo3A9AmJACtejcD04nEBxPQrXozBOQK5H4XoUDlRAKVyPwvWISUAK16NwPSpNQLgehetR2FlAPQrXo3BdR0BI4XoUro9mQOxRuB6FqzxA9ihcj8LVYUBmZmZmZjZTQPYoXI/CNU9A4XoUrkfBQEB7FK5H4RpYQKRwPQrXoylApHA9CteDVUBI4XoUrtdoQEjhehSux0dAmpmZmZkpX0AK16NwPcpLQFK4HoXrKXRAZmZmZmbmMUBcj8L1KFxPQHE9CtejUFZA4XoUrkchSkCPwvUoXFdmQFK4HoXrqWBAZmZmZmY2cECkcD0K18NSQM3MzMzMnF5AUrgeheupZUBSuB6F6wFaQDMzMzMz+2NAzczMzMzMQUCamZmZmdlQQD0K16NwnVVAuB6F61G4R0CPwvUoXE9FQNejcD0K11lAZmZmZmY6eEBxPQrXo7BIQPYoXI/CBWNAw/UoXI/CWEDXo3A9CqdWQNejcD0Kl2NAMzMzMzOzRUBxPQrXo9BLQOxRuB6FG2NAw/UoXI/iSkDD9Shcj6JYQDMzMzMzo1FAuB6F61GAYkAzMzMzM3NQQNejcD0KlzlAPQrXo3B9QUBI4XoUrqdUQAAAAAAAgExAj8L1KFx/WUDNzMzMzGxIQNejcD0Kx1FA4XoUrkfRV0CamZmZmRk9QArXo3A9alhAhetRuB7FS0CF61G4HqVKQHE9Ctej8F9APQrXo3Dla0CamZmZmWlYQOF6FK5HIThAuB6F61HgYEBmZmZmZlZZQI/C9Shc12hASOF6FK7nWEDhehSuR0FXQNejcD0Kl1JA4XoUrkchVEB7FK5H4UpUQFyPwvUofFBAAAAAAACwcUBmZmZmZgZEQEjhehSuR0FA7FG4HoULQUB7FK5H4XpSQDMzMzMzU0pA9ihcj8J1QEB7FK5H4SJqQEjhehSuRypAZmZmZmbmJ0DXo3A9CjdfQI/C9Shcr09AH4XrUbgOa0BSuB6F61FbQEjhehSuP2RAH4XrUbjeX0BI4XoUrrdcQI/C9Shc70dAAAAAAACwU0DhehSuR7FVQBSuR+F6NFxA9ihcj8J1SUBI4XoUrmdaQFK4HoXrEVdAhetRuB6FSEAzMzMzM/NiQHsUrkfhWkBA16NwPQp3XEDsUbgehYtQQK5H4XoUXl5A4XoUrkcBWUCuR+F6FA5RQEjhehSux1NA4XoUrkf5Z0AAAAAAAMBNQDMzMzMzs0tA9ihcj8JVS0D2KFyPwgVUQI/C9ShczzJA16NwPQp3TkDNzMzMzMxAQGZmZmZmnmRAj8L1KFyPPEDsUbgehQtjQKRwPQrXY1xAKVyPwvUoZUC4HoXrUThFQM3MzMzMzD1AKVyPwvVoT0DhehSuR6FEQI/C9Shcj1FAMzMzMzMTU0BSuB6F6+FcQHsUrkfhWklAcT0K16PgUUA=\",\"dtype\":\"float64\",\"order\":\"little\",\"shape\":[505]}},\"selected\":{\"id\":\"7409\"},\"selection_policy\":{\"id\":\"7422\"}},\"id\":\"7408\",\"type\":\"ColumnDataSource\"},{\"attributes\":{},\"id\":\"7383\",\"type\":\"BasicTicker\"},{\"attributes\":{},\"id\":\"7401\",\"type\":\"BasicTickFormatter\"},{\"attributes\":{\"axis\":{\"id\":\"7382\"},\"dimension\":1,\"grid_line_color\":null,\"ticker\":null},\"id\":\"7385\",\"type\":\"Grid\"},{\"attributes\":{\"data\":{\"Variable\":[\"Price/Earnings\",\"Price/Earnings\",\"Price/Earnings\",\"Price/Earnings\",\"Price/Earnings\",\"Price/Earnings\",\"Price/Earnings\",\"Price/Earnings\",\"Price/Earnings\",\"Price/Earnings\",\"Price/Earnings\",\"Price/Earnings\",\"Price/Earnings\",\"Price/Earnings\",\"Price/Earnings\",\"Price/Earnings\",\"Price/Earnings\",\"Price/Earnings\",\"Price/Earnings\",\"Price/Earnings\",\"Price/Earnings\",\"Price/Earnings\",\"Price/Earnings\",\"Price/Earnings\",\"Price/Earnings\",\"Price/Earnings\",\"Price/Earnings\",\"Price/Earnings\",\"Price/Earnings\",\"Price/Earnings\",\"Price/Earnings\",\"Price/Earnings\",\"Price/Earnings\",\"Price/Earnings\",\"Price/Earnings\",\"Price/Earnings\",\"Price/Earnings\",\"Price/Earnings\",\"Price/Earnings\",\"Price/Earnings\",\"Price/Earnings\",\"Price/Earnings\",\"Price/Earnings\",\"Price/Earnings\",\"Price/Earnings\",\"Price/Earnings\",\"Price/Earnings\",\"Price/Earnings\",\"Price/Earnings\",\"Price/Earnings\",\"Price/Earnings\",\"Price/Earnings\",\"Price/Earnings\",\"Price/Earnings\",\"Price/Earnings\",\"Price/Earnings\",\"Price/Earnings\",\"Price/Earnings\",\"Price/Earnings\",\"Price/Earnings\",\"Price/Earnings\",\"Price/Earnings\",\"Price/Earnings\",\"Price/Earnings\",\"Price/Earnings\",\"Price/Earnings\",\"Price/Earnings\",\"Price/Earnings\",\"Price/Earnings\",\"Price/Earnings\",\"Price/Earnings\",\"Price/Earnings\",\"Price/Earnings\",\"Price/Earnings\",\"Price/Earnings\",\"Price/Earnings\",\"Price/Earnings\",\"Price/Earnings\",\"Price/Earnings\",\"Price/Earnings\",\"Price/Earnings\",\"Price/Earnings\",\"Price/Earnings\",\"Price/Earnings\",\"Price/Earnings\",\"Price/Earnings\",\"Price/Earnings\",\"Price/Earnings\",\"Price/Earnings\",\"Price/Earnings\",\"Price/Earnings\",\"Price/Earnings\",\"Price/Earnings\",\"Price/Earnings\",\"Price/Earnings\",\"Price/Earnings\",\"Price/Earnings\",\"Price/Earnings\",\"Price/Earnings\",\"Price/Earnings\",\"Price/Earnings\",\"Price/Earnings\",\"Price/Earnings\",\"Price/Earnings\",\"Price/Earnings\",\"Price/Earnings\",\"Price/Earnings\",\"Price/Earnings\",\"Price/Earnings\",\"Price/Earnings\",\"Price/Earnings\",\"Price/Earnings\",\"Price/Earnings\",\"Price/Earnings\",\"Price/Earnings\",\"Price/Earnings\",\"Price/Earnings\",\"Price/Earnings\",\"Price/Earnings\",\"Price/Earnings\",\"Price/Earnings\",\"Price/Earnings\",\"Price/Earnings\",\"Price/Earnings\",\"Price/Earnings\",\"Price/Earnings\",\"Price/Earnings\",\"Price/Earnings\",\"Price/Earnings\",\"Price/Earnings\",\"Price/Earnings\",\"Price/Earnings\",\"Price/Earnings\",\"Price/Earnings\",\"Price/Earnings\",\"Price/Earnings\",\"Price/Earnings\",\"Price/Earnings\",\"Price/Earnings\",\"Price/Earnings\",\"Price/Earnings\",\"Price/Earnings\",\"Price/Earnings\",\"Price/Earnings\",\"Price/Earnings\",\"Price/Earnings\",\"Price/Earnings\",\"Price/Earnings\",\"Price/Earnings\",\"Price/Earnings\",\"Price/Earnings\",\"Price/Earnings\",\"Price/Earnings\",\"Price/Earnings\",\"Price/Earnings\",\"Price/Earnings\",\"Price/Earnings\",\"Price/Earnings\",\"Price/Earnings\",\"Price/Earnings\",\"Price/Earnings\",\"Price/Earnings\",\"Price/Earnings\",\"Price/Earnings\",\"Price/Earnings\",\"Price/Earnings\",\"Price/Earnings\",\"Price/Earnings\",\"Price/Earnings\",\"Price/Earnings\",\"Price/Earnings\",\"Price/Earnings\",\"Price/Earnings\",\"Price/Earnings\",\"Price/Earnings\",\"Price/Earnings\",\"Price/Earnings\",\"Price/Earnings\",\"Price/Earnings\",\"Price/Earnings\",\"Price/Earnings\",\"Price/Earnings\",\"Price/Earnings\",\"Price/Earnings\",\"Price/Earnings\",\"Price/Earnings\",\"Price/Earnings\",\"Price/Earnings\",\"Price/Earnings\",\"Price/Earnings\",\"Price/Earnings\",\"Price/Earnings\",\"Price/Earnings\",\"Price/Earnings\",\"Price/Earnings\",\"Price/Earnings\",\"Price/Earnings\",\"Price/Earnings\",\"Price/Earnings\",\"Price/Earnings\",\"Price/Earnings\",\"Price/Earnings\",\"Price/Earnings\",\"Price/Earnings\",\"Price/Earnings\",\"Price/Earnings\",\"Price/Earnings\",\"Price/Earnings\",\"Price/Earnings\",\"Price/Earnings\",\"Price/Earnings\",\"Price/Earnings\",\"Price/Earnings\",\"Price/Earnings\",\"Price/Earnings\",\"Price/Earnings\",\"Price/Earnings\",\"Price/Earnings\",\"Price/Earnings\",\"Price/Earnings\",\"Price/Earnings\",\"Price/Earnings\",\"Price/Earnings\",\"Price/Earnings\",\"Price/Earnings\",\"Price/Earnings\",\"Price/Earnings\",\"Price/Earnings\",\"Price/Earnings\",\"Price/Earnings\",\"Price/Earnings\",\"Price/Earnings\",\"Price/Earnings\",\"Price/Earnings\",\"Price/Earnings\",\"Price/Earnings\",\"Price/Earnings\",\"Price/Earnings\",\"Price/Earnings\",\"Price/Earnings\",\"Price/Earnings\",\"Price/Earnings\",\"Price/Earnings\",\"Price/Earnings\",\"Price/Earnings\",\"Price/Earnings\",\"Price/Earnings\",\"Price/Earnings\",\"Price/Earnings\",\"Price/Earnings\",\"Price/Earnings\",\"Price/Earnings\",\"Price/Earnings\",\"Price/Earnings\",\"Price/Earnings\",\"Price/Earnings\",\"Price/Earnings\",\"Price/Earnings\",\"Price/Earnings\",\"Price/Earnings\",\"Price/Earnings\",\"Price/Earnings\",\"Price/Earnings\",\"Price/Earnings\",\"Price/Earnings\",\"Price/Earnings\",\"Price/Earnings\",\"Price/Earnings\",\"Price/Earnings\",\"Price/Earnings\",\"Price/Earnings\",\"Price/Earnings\",\"Price/Earnings\",\"Price/Earnings\",\"Price/Earnings\",\"Price/Earnings\",\"Price/Earnings\",\"Price/Earnings\",\"Price/Earnings\",\"Price/Earnings\",\"Price/Earnings\",\"Price/Earnings\",\"Price/Earnings\",\"Price/Earnings\",\"Price/Earnings\",\"Price/Earnings\",\"Price/Earnings\",\"Price/Earnings\",\"Price/Earnings\",\"Price/Earnings\",\"Price/Earnings\",\"Price/Earnings\",\"Price/Earnings\",\"Price/Earnings\",\"Price/Earnings\",\"Price/Earnings\",\"Price/Earnings\",\"Price/Earnings\",\"Price/Earnings\",\"Price/Earnings\",\"Price/Earnings\",\"Price/Earnings\",\"Price/Earnings\",\"Price/Earnings\",\"Price/Earnings\",\"Price/Earnings\",\"Price/Earnings\",\"Price/Earnings\",\"Price/Earnings\",\"Price/Earnings\",\"Price/Earnings\",\"Price/Earnings\",\"Price/Earnings\",\"Price/Earnings\",\"Price/Earnings\",\"Price/Earnings\",\"Price/Earnings\",\"Price/Earnings\",\"Price/Earnings\",\"Price/Earnings\",\"Price/Earnings\",\"Price/Earnings\",\"Price/Earnings\",\"Price/Earnings\",\"Price/Earnings\",\"Price/Earnings\",\"Price/Earnings\",\"Price/Earnings\",\"Price/Earnings\",\"Price/Earnings\",\"Price/Earnings\",\"Price/Earnings\",\"Price/Earnings\",\"Price/Earnings\",\"Price/Earnings\",\"Price/Earnings\",\"Price/Earnings\",\"Price/Earnings\",\"Price/Earnings\",\"Price/Earnings\",\"Price/Earnings\",\"Price/Earnings\",\"Price/Earnings\",\"Price/Earnings\",\"Price/Earnings\",\"Price/Earnings\",\"Price/Earnings\",\"Price/Earnings\",\"Price/Earnings\",\"Price/Earnings\",\"Price/Earnings\",\"Price/Earnings\",\"Price/Earnings\",\"Price/Earnings\",\"Price/Earnings\",\"Price/Earnings\",\"Price/Earnings\",\"Price/Earnings\",\"Price/Earnings\",\"Price/Earnings\",\"Price/Earnings\",\"Price/Earnings\",\"Price/Earnings\",\"Price/Earnings\",\"Price/Earnings\",\"Price/Earnings\",\"Price/Earnings\",\"Price/Earnings\",\"Price/Earnings\",\"Price/Earnings\",\"Price/Earnings\",\"Price/Earnings\",\"Price/Earnings\",\"Price/Earnings\",\"Price/Earnings\",\"Price/Earnings\",\"Price/Earnings\",\"Price/Earnings\",\"Price/Earnings\",\"Price/Earnings\",\"Price/Earnings\",\"Price/Earnings\",\"Price/Earnings\",\"Price/Earnings\",\"Price/Earnings\",\"Price/Earnings\",\"Price/Earnings\",\"Price/Earnings\",\"Price/Earnings\",\"Price/Earnings\",\"Price/Earnings\",\"Price/Earnings\",\"Price/Earnings\",\"Price/Earnings\",\"Price/Earnings\",\"Price/Earnings\",\"Price/Earnings\",\"Price/Earnings\",\"Price/Earnings\",\"Price/Earnings\",\"Price/Earnings\",\"Price/Earnings\",\"Price/Earnings\",\"Price/Earnings\",\"Price/Earnings\",\"Price/Earnings\",\"Price/Earnings\",\"Price/Earnings\",\"Price/Earnings\",\"Price/Earnings\",\"Price/Earnings\",\"Price/Earnings\",\"Price/Earnings\",\"Price/Earnings\",\"Price/Earnings\",\"Price/Earnings\",\"Price/Earnings\",\"Price/Earnings\",\"Price/Earnings\",\"Price/Earnings\",\"Price/Earnings\",\"Price/Earnings\",\"Price/Earnings\",\"Price/Earnings\",\"Price/Earnings\",\"Price/Earnings\",\"Price/Earnings\",\"Price/Earnings\",\"Price/Earnings\",\"Price/Earnings\",\"Price/Earnings\",\"Price/Earnings\",\"Price/Earnings\",\"Price/Earnings\",\"Price/Earnings\",\"Price/Earnings\",\"Price/Earnings\",\"Price/Earnings\",\"Price/Earnings\",\"Price/Earnings\",\"Price/Earnings\",\"Price/Earnings\",\"Price/Earnings\",\"Price/Earnings\",\"Price/Earnings\",\"Price/Earnings\",\"Price/Earnings\",\"Price/Earnings\",\"Price/Earnings\",\"Price/Earnings\",\"Price/Earnings\",\"Price/Earnings\",\"Price/Earnings\",\"Price/Earnings\",\"Price/Earnings\",\"Price/Earnings\",\"Price/Earnings\",\"Price/Earnings\",\"Price/Earnings\",\"Price/Earnings\",\"Price/Earnings\",\"Price/Earnings\",\"Price/Earnings\",\"Price/Earnings\",\"Price/Earnings\",\"Price/Earnings\",\"Price/Earnings\",\"Price/Earnings\",\"Price/Earnings\",\"Price/Earnings\",\"Price/Earnings\",\"Price/Earnings\",\"Price/Earnings\",\"Price/Earnings\",\"Price/Earnings\",\"Price/Earnings\",\"Price/Earnings\",\"Price/Earnings\",\"Price/Earnings\",\"Price/Earnings\",\"Price/Earnings\",\"Price/Earnings\",\"Price/Earnings\",\"Price/Earnings\",\"Price/Earnings\",\"Price/Earnings\",\"Price/Earnings\",\"Price/Earnings\",\"Price/Earnings\",\"Price/Earnings\",\"Price/Earnings\",\"Price/Earnings\",\"Price/Earnings\",\"Price/Earnings\",\"Price/Earnings\",\"Price/Earnings\",\"Price/Earnings\",\"Price/Earnings\",\"Price/Earnings\",\"Price/Earnings\",\"Price/Earnings\",\"Price/Earnings\",\"Price/Earnings\",\"Price/Earnings\",\"Price/Earnings\"],\"index\":[0,1,2,3,4,5,6,7,8,9,10,11,12,13,14,15,16,17,18,19,20,21,22,23,24,25,26,27,28,29,30,31,32,33,34,35,36,37,38,39,40,41,42,43,44,45,46,47,48,49,50,51,52,53,54,55,56,57,58,59,60,61,62,63,64,65,66,67,68,69,70,71,72,73,74,75,76,77,78,79,80,81,82,83,84,85,86,87,88,89,90,91,92,93,94,95,96,97,98,99,100,101,102,103,104,105,106,107,108,109,110,111,112,113,114,115,116,117,118,119,120,121,122,123,124,125,126,127,128,129,130,131,132,133,134,135,136,137,138,139,140,141,142,143,144,145,146,147,148,149,150,151,152,153,154,155,156,157,158,159,160,161,162,163,164,165,166,167,168,169,170,171,172,173,174,175,176,177,178,179,180,181,182,183,184,185,186,187,188,189,190,191,192,193,194,195,196,197,198,199,200,201,202,203,204,205,206,207,208,209,210,211,212,213,214,215,216,217,218,219,220,221,222,223,224,225,226,227,228,229,230,231,232,233,234,235,236,237,238,239,240,241,242,243,244,245,246,247,248,249,250,251,252,253,254,255,256,257,258,259,260,261,262,263,264,265,266,267,268,269,270,271,272,273,274,275,276,277,278,279,280,281,282,283,284,285,286,287,288,289,290,291,292,293,294,295,296,297,298,299,300,301,302,303,304,305,306,307,308,309,310,311,312,313,314,315,316,317,318,319,320,321,322,323,324,325,326,327,328,329,330,331,332,333,334,335,336,337,338,339,340,341,342,343,344,345,346,347,348,349,350,351,352,353,354,355,356,357,358,359,360,361,362,363,364,365,366,367,368,369,370,371,372,373,374,375,376,377,378,379,380,381,382,383,384,385,386,387,388,389,390,391,392,393,394,395,396,397,398,399,400,401,402,403,404,405,406,407,408,409,410,411,412,413,414,415,416,417,418,419,420,421,422,423,424,425,426,427,428,429,430,431,432,433,434,435,436,437,438,439,440,441,442,443,444,445,446,447,448,449,450,451,452,453,454,455,456,457,458,459,460,461,462,463,464,465,466,467,468,469,470,471,472,473,474,475,476,477,478,479,480,481,482,483,484,485,486,487,488,489,490,491,492,493,494,495,496,497,498,499,500,501,502,503,504],\"value\":{\"__ndarray__\":\"j8L1KFxPOEDD9Shcj8I7QMP1KFyPgjZAKVyPwvVoM0C4HoXrUXg5QM3MzMzMzD9AuB6F61E4MkBI4XoUridKQArXo3A9ijNAAAAAAABgZ0DsUbgehesjQFyPwvUoHDJAexSuR+F6KEB7FK5H4XooQDMzMzMzcztAuB6F61E4OEBmZmZmZkZAQFK4HoXrUSNASOF6FK4HOkBI4XoUrgczQK5H4XoULjZA7FG4HoVLTEBSuB6F6xE1QM3MzMzMTCVACtejcD0KKkBcj8L1KNwzQIXrUbgehSpAexSuR+F6P0CF61G4HiVEQKRwPQrX4zJAw/UoXI+CckDhehSuR2E0QNejcD0K1yNAUrgehetRMUAAAAAAAAAuQLgehetRODdArkfhehSuNEB7FK5H4To6QFK4HoXr0ShAFK5H4XoUL0Bcj8L1KJw7QIXrUbgehStAZmZmZmbmOUAK16NwPUo1wOxRuB6FqzFASOF6FK7HMkCkcD0K10NFQHsUrkfhOjNAzczMzMzMNEApXI/C9XBvwDMzMzMzMy9AXI/C9SjcMEApXI/C9SgsQI/C9Shcb1FAMzMzMzNzMUD2KFyPwjU0QM3MzMzMDDVAw/UoXI+iQEBI4XoUrkcoQBSuR+F6RFPA16NwPQpXPUCPwvUoXE8wQLgehetR+DFAXI/C9SgcNkApXI/C9RhzQI/C9ShcjzRA16NwPQpXMEAfhetRuB45QMP1KFyPQjBASOF6FK5HNkCuR+F6FG4+QLgehetRODNAmpmZmZmZLEA9CtejcH02QBSuR+F6lChACtejcD1KO0DNzMzMzEwsQM3MzMzMDDJAAAAAAAAANEDhehSuR6E2QBSuR+F61DRA4XoUrkfhL0CF61G4HoVCQAAAAAAAADpApHA9CtejLEBmZmZmZkZOQOxRuB6FC0FArkfhehSuLUAzMzMzM7MnQBSuR+F6lChAcT0K16NwM0B7FK5H4XoxQLgehetRODVASOF6FK6HQUCkcD0K16MvQJqZmZmZGShACtejcD2KKkAfhetRuB4zQHsUrkfhujNAMzMzMzOzIEDXo3A9Chc7QHsUrkfhuk3AUrgehevRPUA9CtejcF1kQM3MzMzMzBJAhetRuB6FO0CuR+F6FO5GQAAAAAAAgDFA7FG4HoVrOEBcj8L1KBwyQB+F61G4XjpAexSuR+F6O0AAAAAAAGBAQB+F61G43jFA9ihcj8L1KkAK16NwPQowQB+F61G4XjRAMzMzMzMTQEDsUbgehWs1QM3MzMzMzDZAcT0K16NwNkCF61G4HgU4QArXo3A9ijJApHA9CtfjMkAzMzMzMzMyQClcj8L1GFVA7FG4HoU7UkCkcD0K16MyQOxRuB6F6z5AMzMzMzNzMEBxPQrXo7A+QKRwPQrXozhAMzMzMzNzNUA9CtejcD0uQHE9Ctej8DVAFK5H4XrUMEC4HoXrUbgoQFK4HoXrUTBAH4XrUbjeNkC4HoXrUbg2QM3MzMzMjDRApHA9CtcjN0A9CtejcL0kQGZmZmZmpjZArkfhehTuN0DNzMzMzIwwQMP1KFyPQihAAAAAAAAAJkA9CtejcL0kQNejcD0KFzBArkfhehQuNUApXI/C9ag6QOxRuB6FazRAH4XrUbjeN0DXo3A9CrdIQFK4HoXrkTpAH4XrUbgeM0AzMzMzM7MwQIXrUbgexTNA7FG4HoX7U0CkcD0K1yM2QI/C9ShcjyhAFK5H4XoUMUBcj8L1KNw4QBSuR+F6FDxA9ihcj8J1KkApXI/C9UhAQD0K16NwPUFAPQrXo3C9OUDNzMzMzEwlQFK4HoXr0SVArkfhehTObkAUrkfhepRKQEjhehSuBzNAj8L1KFwPN0CamZmZmZkxQClcj8L1qDJApHA9CtfjQkA9CtejcD07QLgehetRODJAhetRuB4FLUA9CtejcP0+QMP1KFyPQjlAcT0K16NwJUAfhetRuB4yQB+F61G4XjVA9ihcj8I1NUBmZmZmZuY7QIXrUbgeBTtAmpmZmZlZMkAzMzMzM3MzQBSuR+F6FDZAZmZmZmbmMEBcj8L1KFwmQFK4HoXrUTtASOF6FK6HOUDsUbgehSs6QGZmZmZm5jNAPQrXo3A9QEAAAAAAAAAjQI/C9ShcjxdAzczMzMwMOUCF61G4HkU0QNejcD0KVylA16NwPQpXLUAzMzMzM7MuQHsUrkfhOjVArkfhehRuQkD2KFyPwrU0QIXrUbgehStAuB6F61G4K0BI4XoUrocxQFK4HoXrURpA7FG4HoUrNUBSuB6F61EgQFyPwvUo3DtA4XoUrkfhKEDXo3A9CtcjQFK4HoXrkTZArkfhehRuQ0AUrkfhehQkQGZmZmZmZitA4XoUrkdhOkCuR+F6FK4sQFK4HoXrkTRApHA9CtcjLEB7FK5H4folQOF6FK5HQUvAmpmZmZnZM0ApXI/C9agiwKRwPQrXIydA9ihcj8I1QkD2KFyPwjUzQJqZmZmZGTxArkfhehSuNECkcD0K12M0QPYoXI/CdSZApHA9CtcjKECkcD0K12M2QFK4HoXr0S5AAAAAAADAMkApXI/C9chKQHE9CtejMDpAH4XrUbieN0AAAAAAACBKQClcj8L1+F3A4XoUrkdhM0CkcD0K16MoQDMzMzMz8zZA16NwPQpXJUCkcD0K1yMvQOxRuB6F6y5A7FG4HoUrOEDD9Shcj0JEQArXo3A9SkhAPQrXo3C9J0A9CtejcL01QNejcD0K1y5AH4XrUbiePkAzMzMzM3MzQDMzMzMzsy5Aj8L1KFxPMUAAAAAAAAAsQFyPwvUo3C5ArkfhehQuLEDNzMzMzMwzQAAAAAAAgDBAUrgehetRLUCuR+F6FO4xQI/C9ShcjyJAUrgehesROUDXo3A9CpcwQMP1KFyPAjBAXI/C9SgcNECkcD0K1yMqQArXo3A9iilApHA9CtcjN0AK16NwPcoxQArXo3A9SjBA4XoUrkfhMUAzMzMzM7MuQEjhehSuxy5A16NwPQpXMUB7FK5H4foiQJqZmZmZWTVASOF6FK5HOEB7FK5H4fovQB+F61G43jdAMzMzMzOzJEApXI/C9egyQB+F61G4ni1ArkfhehSuHkAAAAAAAABAwI/C9ShcDzBAPQrXo3BdQEB7FK5H4To0QOF6FK5HYT5AH4XrUbgeNkAfhetRuH5BQFyPwvUoXC3AKVyPwvXoN0AUrkfhetQ3QFyPwvUoXCdACtejcD0KMUAAAAAAAIArQArXo3A9CiFASOF6FK7HQUBmZmZmZqY9QBSuR+F6lCxAhetRuB7FNUCF61G4HgUiQMP1KFyPwjlAw/UoXI/CLEAUrkfhehQzQClcj8L1qDFAmpmZmZnZM0BI4XoUroc1QPYoXI/CFUVAzczMzMyMOkD2KFyPwnUsQEjhehSuBzNAMzMzMzOzIEBI4XoUrscxQD0K16NwbVPAPQrXo3A9HkCamZmZmRk6QMP1KFyPAmlAcT0K16NwI0A9CtejcD0qQNejcD0KVzpAXI/C9Si8RUCkcD0K1wNGQGZmZmZmpjVAexSuR+G6MkBmZmZmZuY4QFK4HoXrkTNAPQrXo3B9WkAUrkfhehQuQGZmZmZmpjRA9ihcj8L1M0BmZmZmZmY4QDMzMzMzsy5ASOF6FK7HMUDD9ShcjwIxQIXrUbgehVRAKVyPwvXoNUBcj8L1KHRoQArXo3A9ii5AAAAAAAAAQUCPwvUoXM8yQHE9CtejcC9AUrgeheuRMkCamZmZmZk1QJqZmZmZGSxAPQrXo3B9O0CkcD0K18NIQKRwPQrX4zJAhetRuB4FMkDD9Shcj4I1QK5H4XoUrjhAAAAAAAAA+H/hehSuR2EpQAAAAAAAgCFAXI/C9ShcNkBcj8L1KBw1QI/C9ShcDzBAw/UoXI+SXUDNzMzMzIwxQD0K16NwvTFAexSuR+G6MkApXI/C9agpQOF6FK5HoThAw/UoXI9COEDsUbgehesnQPYoXI/CdTRAw/UoXI/CNEDD9Shcj8I0QHsUrkfh+iNAXI/C9SgcMED2KFyPwjUyQLgehetRuClAexSuR+H6NED2KFyPwrUzQMP1KFyPgjBACtejcD2KMUBSuB6F6xExQK5H4XoUzkFAcT0K16PwMEBI4XoUrsc5QBSuR+F6FC9AmpmZmZn5U0AK16NwPYouQK5H4XoU7jtAZmZmZmbmMUDhehSuRyE6QArXo3A9ij9ArkfhehQuNEB7FK5H4Xo6QArXo3A9SjZAUrgeheuRO0CF61G4HoU6QMP1KFyPQjBA4XoUrkdhO0AzMzMzM0GAQFK4HoXr+WhAAAAAAACAIUDXo3A9CndGQArXo3A9CjBAhetRuB4FJ0CPwvUoXE81QKRwPQrXIzNAAAAAAADAOkCamZmZmZkaQB+F61G4HitAMzMzMzNzMECkcD0K1yMsQB+F61G4ni9Aj8L1KFyPL0BI4XoUrscvQFK4HoXrkTRAexSuR+H6OUAzMzMzM7MuQMP1KFyPQjBA9ihcj8J1N0AAAAAAAEAwQI/C9Shcr0NAMzMzMzOzKkCuR+F6FO5QQHsUrkfh+jZA7FG4HoXrM0AAAAAAAAD4f+F6FK5HYSxAuB6F61G4M0CF61G4HsUyQM3MzMzMDDhA4XoUrkchNkCF61G4HoUtQHE9CtejcDdA9ihcj8L1NkDD9Shcj4I0QClcj8L1qDdAexSuR+F6MEBI4XoUrscxQNejcD0K1zVAAAAAAAAAO0AzMzMzM7MuQMP1KFyPAjVAhetRuB4FMUCamZmZmdk5QFK4HoXrkTNAw/UoXI/CN0CF61G4HgVNQI/C9ShczzFAUrgeheuRMUDXo3A9CtcrQDMzMzMzsy5ACtejcD3KMUApXI/C9QhAQGZmZmZmBkBAZmZmZmYmPUCPwvUoXA82QDMzMzMzsyFAuB6F61F4NUCF61G4HkUyQBSuR+F6VDBAw/UoXI9CM0C4HoXrUbguQIXrUbgeBSdAZmZmZmbmOUA9CtejcL0yQK5H4XoU7j1A7FG4HoVrKEAAAAAAAIA9QNejcD0K1zxAKVyPwvUoKkA9CtejcJVvQFyPwvUoXCFAXI/C9ShcQEC4HoXrUTgwQDMzMzMzc0RAmpmZmZkZN0DD9Shcj8IqQFyPwvUoXDlApHA9CtejOkBSuB6F65EzQClcj8L1KCtAexSuR+F6KUDhehSuR2EkQNejcD0KVyRAw/UoXI9CN0CF61G4HiVBQArXo3A9iidAFK5H4Xo0SEDsUbgehasyQIXrUbgexTJAMzMzMzOzP0CkcD0K1yMyQD0K16NwvSFAcT0K16MwO0CuR+F6FO4zwHE9Ctej8D5AAAAAAABAO0CkcD0K16MsQHsUrkfhujFAZmZmZmZmQEA=\",\"dtype\":\"float64\",\"order\":\"little\",\"shape\":[505]}},\"selected\":{\"id\":\"7429\"},\"selection_policy\":{\"id\":\"7444\"}},\"id\":\"7428\",\"type\":\"ColumnDataSource\"},{\"attributes\":{\"callback\":null,\"renderers\":[{\"id\":\"7414\"},{\"id\":\"7434\"}],\"tags\":[\"hv_created\"],\"tooltips\":[[\"Variable\",\"@{Variable}\"],[\"index\",\"@{index}\"],[\"value\",\"@{value}\"]]},\"id\":\"7367\",\"type\":\"HoverTool\"},{\"attributes\":{\"click_policy\":\"mute\",\"items\":[{\"id\":\"7426\"},{\"id\":\"7447\"}],\"location\":[0,0],\"title\":\"Variable\"},\"id\":\"7425\",\"type\":\"Legend\"},{\"attributes\":{\"bottom_units\":\"screen\",\"fill_alpha\":0.5,\"fill_color\":\"lightgrey\",\"left_units\":\"screen\",\"level\":\"overlay\",\"line_alpha\":1.0,\"line_color\":\"black\",\"line_dash\":[4,4],\"line_width\":2,\"right_units\":\"screen\",\"syncable\":false,\"top_units\":\"screen\"},\"id\":\"7391\",\"type\":\"BoxAnnotation\"},{\"attributes\":{\"active_multi\":null,\"tools\":[{\"id\":\"7367\"},{\"id\":\"7386\"},{\"id\":\"7387\"},{\"id\":\"7388\"},{\"id\":\"7389\"},{\"id\":\"7390\"}]},\"id\":\"7392\",\"type\":\"Toolbar\"},{\"attributes\":{\"data_source\":{\"id\":\"7428\"},\"glyph\":{\"id\":\"7431\"},\"hover_glyph\":null,\"muted_glyph\":{\"id\":\"7433\"},\"nonselection_glyph\":{\"id\":\"7432\"},\"selection_glyph\":{\"id\":\"7448\"},\"view\":{\"id\":\"7435\"}},\"id\":\"7434\",\"type\":\"GlyphRenderer\"},{\"attributes\":{},\"id\":\"7409\",\"type\":\"Selection\"},{\"attributes\":{},\"id\":\"7444\",\"type\":\"UnionRenderers\"},{\"attributes\":{\"fill_alpha\":{\"value\":0.1},\"fill_color\":{\"value\":\"#30a2da\"},\"line_alpha\":{\"value\":0.1},\"line_color\":{\"value\":\"#30a2da\"},\"size\":{\"value\":5.477225575051661},\"x\":{\"field\":\"index\"},\"y\":{\"field\":\"value\"}},\"id\":\"7412\",\"type\":\"Scatter\"},{\"attributes\":{},\"id\":\"7402\",\"type\":\"AllLabels\"},{\"attributes\":{\"label\":{\"value\":\"Price\"},\"renderers\":[{\"id\":\"7414\"}]},\"id\":\"7426\",\"type\":\"LegendItem\"},{\"attributes\":{\"below\":[{\"id\":\"7378\"}],\"center\":[{\"id\":\"7381\"},{\"id\":\"7385\"}],\"height\":350,\"left\":[{\"id\":\"7382\"}],\"margin\":[5,5,5,5],\"min_border_bottom\":10,\"min_border_left\":10,\"min_border_right\":10,\"min_border_top\":10,\"renderers\":[{\"id\":\"7414\"},{\"id\":\"7434\"}],\"right\":[{\"id\":\"7425\"}],\"sizing_mode\":\"fixed\",\"title\":{\"id\":\"7370\"},\"toolbar\":{\"id\":\"7392\"},\"width\":700,\"x_range\":{\"id\":\"7365\"},\"x_scale\":{\"id\":\"7374\"},\"y_range\":{\"id\":\"7366\"},\"y_scale\":{\"id\":\"7376\"}},\"id\":\"7369\",\"subtype\":\"Figure\",\"type\":\"Plot\"},{\"attributes\":{},\"id\":\"7386\",\"type\":\"SaveTool\"}],\"root_ids\":[\"7363\"]},\"title\":\"Bokeh Application\",\"version\":\"2.3.2\"}};\n",
       "    var render_items = [{\"docid\":\"2a6a0580-73b2-4dae-85b9-9aa286b28ce5\",\"root_ids\":[\"7363\"],\"roots\":{\"7363\":\"71e4c006-bdaa-4a49-80e4-45ebbde7834d\"}}];\n",
       "    root.Bokeh.embed.embed_items_notebook(docs_json, render_items);\n",
       "  }\n",
       "  if (root.Bokeh !== undefined && root.Bokeh.Panel !== undefined) {\n",
       "    embed_document(root);\n",
       "  } else {\n",
       "    var attempts = 0;\n",
       "    var timer = setInterval(function(root) {\n",
       "      if (root.Bokeh !== undefined && root.Bokeh.Panel !== undefined) {\n",
       "        clearInterval(timer);\n",
       "        embed_document(root);\n",
       "      } else if (document.readyState == \"complete\") {\n",
       "        attempts++;\n",
       "        if (attempts > 100) {\n",
       "          clearInterval(timer);\n",
       "          console.log(\"Bokeh: ERROR: Unable to run BokehJS code because BokehJS library is missing\");\n",
       "        }\n",
       "      }\n",
       "    }, 10, root)\n",
       "  }\n",
       "})(window);</script>"
      ],
      "text/plain": [
       ":NdOverlay   [Variable]\n",
       "   :Scatter   [index]   (value)"
      ]
     },
     "execution_count": 52,
     "metadata": {
      "application/vnd.holoviews_exec.v0+json": {
       "id": "7363"
      }
     },
     "output_type": "execute_result"
    }
   ],
   "source": [
    "price_earnings.hvplot.scatter(title=\"Price & Price/Earnings\",\n",
    "                              width=700,\n",
    "                              height=350,\n",
    "                              yformatter='%.0f')"
   ]
  },
  {
   "cell_type": "code",
   "execution_count": 54,
   "metadata": {},
   "outputs": [
    {
     "data": {},
     "metadata": {},
     "output_type": "display_data"
    },
    {
     "data": {
      "application/vnd.holoviews_exec.v0+json": "",
      "text/html": [
       "<div id='7605'>\n",
       "\n",
       "\n",
       "\n",
       "\n",
       "\n",
       "  <div class=\"bk-root\" id=\"364ddbad-37c3-4483-89b3-58e3fc021828\" data-root-id=\"7605\"></div>\n",
       "</div>\n",
       "<script type=\"application/javascript\">(function(root) {\n",
       "  function embed_document(root) {\n",
       "    var docs_json = {\"5e8b8db6-f58c-414c-b054-666b9618c480\":{\"defs\":[],\"roots\":{\"references\":[{\"attributes\":{\"margin\":[5,5,5,5],\"name\":\"HSpacer11081\",\"sizing_mode\":\"stretch_width\"},\"id\":\"7606\",\"type\":\"Spacer\"},{\"attributes\":{\"axis_label\":\"Price/Earnings\",\"formatter\":{\"id\":\"7649\"},\"major_label_policy\":{\"id\":\"7655\"},\"ticker\":{\"id\":\"7624\"}},\"id\":\"7623\",\"type\":\"LinearAxis\"},{\"attributes\":{},\"id\":\"7628\",\"type\":\"PanTool\"},{\"attributes\":{\"bottom_units\":\"screen\",\"fill_alpha\":0.5,\"fill_color\":\"lightgrey\",\"left_units\":\"screen\",\"level\":\"overlay\",\"line_alpha\":1.0,\"line_color\":\"black\",\"line_dash\":[4,4],\"line_width\":2,\"right_units\":\"screen\",\"syncable\":false,\"top_units\":\"screen\"},\"id\":\"7632\",\"type\":\"BoxAnnotation\"},{\"attributes\":{\"fill_alpha\":{\"value\":0.1},\"fill_color\":{\"value\":\"#30a2da\"},\"line_alpha\":{\"value\":0.1},\"line_color\":{\"value\":\"#30a2da\"},\"size\":{\"value\":5.477225575051661},\"x\":{\"field\":\"Price\"},\"y\":{\"field\":\"Price/Earnings\"}},\"id\":\"7644\",\"type\":\"Scatter\"},{\"attributes\":{},\"id\":\"7655\",\"type\":\"AllLabels\"},{\"attributes\":{},\"id\":\"7615\",\"type\":\"LinearScale\"},{\"attributes\":{\"source\":{\"id\":\"7640\"}},\"id\":\"7647\",\"type\":\"CDSView\"},{\"attributes\":{\"end\":1896.222,\"reset_end\":1896.222,\"reset_start\":-87.34200000000001,\"start\":-87.34200000000001,\"tags\":[[[\"Price\",\"Price\",null]]]},\"id\":\"7607\",\"type\":\"Range1d\"},{\"attributes\":{},\"id\":\"7624\",\"type\":\"BasicTicker\"},{\"attributes\":{\"overlay\":{\"id\":\"7632\"}},\"id\":\"7630\",\"type\":\"BoxZoomTool\"},{\"attributes\":{},\"id\":\"7641\",\"type\":\"Selection\"},{\"attributes\":{},\"id\":\"7620\",\"type\":\"BasicTicker\"},{\"attributes\":{\"fill_alpha\":{\"value\":0.2},\"fill_color\":{\"value\":\"#30a2da\"},\"line_alpha\":{\"value\":0.2},\"line_color\":{\"value\":\"#30a2da\"},\"size\":{\"value\":5.477225575051661},\"x\":{\"field\":\"Price\"},\"y\":{\"field\":\"Price/Earnings\"}},\"id\":\"7645\",\"type\":\"Scatter\"},{\"attributes\":{},\"id\":\"7627\",\"type\":\"SaveTool\"},{\"attributes\":{},\"id\":\"7617\",\"type\":\"LinearScale\"},{\"attributes\":{\"active_multi\":null,\"tools\":[{\"id\":\"7609\"},{\"id\":\"7627\"},{\"id\":\"7628\"},{\"id\":\"7629\"},{\"id\":\"7630\"},{\"id\":\"7631\"}]},\"id\":\"7633\",\"type\":\"Toolbar\"},{\"attributes\":{},\"id\":\"7631\",\"type\":\"ResetTool\"},{\"attributes\":{\"angle\":{\"value\":0.0},\"fill_alpha\":{\"value\":1.0},\"fill_color\":{\"value\":\"#30a2da\"},\"hatch_alpha\":{\"value\":1.0},\"hatch_color\":{\"value\":\"black\"},\"hatch_scale\":{\"value\":12.0},\"hatch_weight\":{\"value\":1.0},\"line_alpha\":{\"value\":1.0},\"line_cap\":{\"value\":\"butt\"},\"line_color\":{\"value\":\"#30a2da\"},\"line_dash\":{\"value\":[]},\"line_dash_offset\":{\"value\":0},\"line_join\":{\"value\":\"bevel\"},\"line_width\":{\"value\":1},\"marker\":{\"value\":\"circle\"},\"size\":{\"value\":5.477225575051661},\"x\":{\"field\":\"Price\"},\"y\":{\"field\":\"Price/Earnings\"}},\"id\":\"7648\",\"type\":\"Scatter\"},{\"attributes\":{},\"id\":\"7629\",\"type\":\"WheelZoomTool\"},{\"attributes\":{\"margin\":[5,5,5,5],\"name\":\"HSpacer11082\",\"sizing_mode\":\"stretch_width\"},\"id\":\"7676\",\"type\":\"Spacer\"},{\"attributes\":{\"data_source\":{\"id\":\"7640\"},\"glyph\":{\"id\":\"7643\"},\"hover_glyph\":null,\"muted_glyph\":{\"id\":\"7645\"},\"nonselection_glyph\":{\"id\":\"7644\"},\"selection_glyph\":{\"id\":\"7648\"},\"view\":{\"id\":\"7647\"}},\"id\":\"7646\",\"type\":\"GlyphRenderer\"},{\"attributes\":{\"axis\":{\"id\":\"7619\"},\"grid_line_color\":null,\"ticker\":null},\"id\":\"7622\",\"type\":\"Grid\"},{\"attributes\":{\"axis\":{\"id\":\"7623\"},\"dimension\":1,\"grid_line_color\":null,\"ticker\":null},\"id\":\"7626\",\"type\":\"Grid\"},{\"attributes\":{\"text\":\"Price & Price/Earnings\",\"text_color\":\"black\",\"text_font_size\":\"12pt\"},\"id\":\"7611\",\"type\":\"Title\"},{\"attributes\":{},\"id\":\"7652\",\"type\":\"AllLabels\"},{\"attributes\":{\"axis_label\":\"Price\",\"formatter\":{\"id\":\"7651\"},\"major_label_policy\":{\"id\":\"7652\"},\"ticker\":{\"id\":\"7620\"}},\"id\":\"7619\",\"type\":\"LinearAxis\"},{\"attributes\":{\"format\":\"%.0f\"},\"id\":\"7649\",\"type\":\"PrintfTickFormatter\"},{\"attributes\":{\"fill_color\":{\"value\":\"#30a2da\"},\"line_color\":{\"value\":\"#30a2da\"},\"size\":{\"value\":5.477225575051661},\"x\":{\"field\":\"Price\"},\"y\":{\"field\":\"Price/Earnings\"}},\"id\":\"7643\",\"type\":\"Scatter\"},{\"attributes\":{\"data\":{\"Price\":{\"__ndarray__\":\"FK5H4Xrca0AfhetRuB5OQMP1KFyPIkxAH4XrUbgeW0C4HoXrUdBiQIXrUbgedVBAhetRuB4tYkCF61G4HiVnQLgehetRaFtAcT0K16NwJkAfhetRuB4kQAAAAAAAQGZA7FG4HoVjZkAAAAAAANBUQDMzMzMzQ1BAmpmZmZkZY0AfhetRuD5PQMP1KFyPAlBA7FG4HoVLWkCF61G4HqVcQK5H4XoUHltAH4XrUbiWa0AUrkfhelRTQGZmZmZmhmRAMzMzMzMTbkBSuB6F65FCQKRwPQrXg1ZASOF6FK59j0Bcj8L1KEyPQDMzMzMzA1BAAAAAAAAalUDsUbgehUtKQM3MzMzMTEhAcT0K16OwT0D2KFyPwhVWQKRwPQrXI01ACtejcD2yYECkcD0K1wNTQAAAAAAAEGNAMzMzMzPjVkAzMzMzMwNSQKRwPQrXo2VAXI/C9SgcVUCamZmZmRlMQOxRuB6Fq1RAmpmZmZk5WEB7FK5H4ZpiQArXo3A90mxAmpmZmZkBYUA9CtejcN1CQHsUrkfhGkNAzczMzMxkY0AAAAAAAOBGQOF6FK5HUVZAzczMzMysREAzMzMzM3M4QJqZmZmZGVBACtejcD1KVUApXI/C9chBQKRwPQrXM1pAAAAAAAAQW0DD9Shcj3SGQK5H4XoUXmNA4XoUrkexW0AAAAAAAIA7QLgehetROENAPQrXo3C9PUBI4XoUrkdPQClcj8L1iElArkfhehRuakA9CtejcO1nQMP1KFyPMlFAcT0K16N8c0CuR+F6FNZ/QHE9CtejMDlAw/UoXI+adEC4HoXrUfhJQPYoXI/CBVxAMzMzMzMzOUC4HoXrUbhLQLgehetRWE9ACtejcD2ybEAK16NwPapPQK5H4XoUnlZAFK5H4XpUQEDD9ShcjwI3QClcj8L1aEJACtejcD1qRkAzMzMzM/NWQLgehetRqFBA9ihcj8IVUEBxPQrXo7BQQEjhehSuP2JAmpmZmZnJW0D2KFyPwvVEQGZmZmZm5klA4XoUrkfBVkDXo3A9ChdZQJqZmZmZ2TlAMzMzMzMzMEBcj8L1KJxOQHsUrkfhukJAMzMzMzNzSEBmZmZmZsp1QI/C9ShcjwZAMzMzMzMTXEBcj8L1KKBwQBSuR+F6jGFAcT0K16OwR0BxPQrXo6hnQFyPwvUoDFlA9ihcj8KVUUAK16NwPapiQMP1KFyPYkNASOF6FK73UUC4HoXrURhFQFK4HoXrIVVA4XoUrkchY0DD9Shcj+JEQM3MzMzMjEVACtejcD3KUkDNzMzMzDxRQLgehetRGENA7FG4HoVLVkAfhetRuL5BQHsUrkfhgmFAH4XrUbieSkAfhetRuK5SQI/C9ShcF2pAMzMzMzNzPEDsUbgehVNmQPYoXI/C9TNApHA9CtfzWUCamZmZmdk+QFyPwvUoPElAj8L1KFy3ZEAzMzMzM6NRQGZmZmZmRkZACtejcD0KV0CF61G4HtVWQArXo3A9+lFAhetRuB41Y0A9CtejcJ1JQM3MzMzMbExAuB6F61F4QUA9CtejcL1YQJqZmZmZGVJAH4XrUbjeNkAUrkfhepQ1QMP1KFyP4kVAZmZmZmbGV0CF61G4HmVZQKRwPQrXU1JAzczMzMwMWEA9CtejcA1RQOxRuB6FO11Aj8L1KFyfWEAUrkfhepRSQIXrUbgehThAexSuR+H6VkA9CtejcD1IQBSuR+F6ZFdACtejcD3aU0DD9Shcj4JEQHE9Ctej8F9AKVyPwvUITUBSuB6F6/FeQMP1KFyPIl1AmpmZmZmZUEDhehSuRwFSQOxRuB6Fq0FAw/UoXI9CWUAAAAAAACBHQAAAAAAAgFxASOF6FK6feUDhehSuR6FLQClcj8L1SGtAH4XrUbhuYEBSuB6F6yFuQK5H4XoUDkxAPQrXo3D9QUBSuB6F68FeQK5H4XoULk5AZmZmZmZWUkCkcD0K12NTQBSuR+F6BFNAAAAAAAAoYUDD9Shcj3JlQDMzMzMzE0pA16NwPQoHW0BxPQrXo+htQI/C9ShcL1dAmpmZmZkZP0CkcD0K16M+QJqZmZmZoWBAexSuR+E6R0ApXI/C9WhEQEjhehSup0tASOF6FK43VEBxPQrXo/BGQFyPwvUo3CRAKVyPwvVIUUC4HoXrUThPQAAAAAAAAENAKVyPwvUoMUDsUbgehSs/QHE9CtejkE5AcT0K16OQXECamZmZmcFpQGZmZmZm5ixAH4XrUbieNUAfhetRuP5KQAAAAAAAYERApHA9CtcTWECuR+F6FI5TQPYoXI/CJVlAMzMzMzPLbkAAAAAAAMA+QJqZmZmZKXBAFK5H4Xq0R0BSuB6F65EzQIXrUbgexUdAexSuR+G6YkDsUbgehatKQB+F61G4HlhArkfhehT+V0CkcD0K16M2QEjhehSuN1BAZmZmZma2UUAAAAAAAIBFQBSuR+F6FC5ACtejcD2qU0BmZmZmZmZDQNejcD0Kp2ZAcT0K16NAYkB7FK5H4RpAQAAAAAAAwDJA7FG4HoXrM0BSuB6F62VwQDMzMzMzMy5ApHA9CtcrbEApXI/C9ShlQD0K16Nw3UVAzczMzMyEY0DhehSuRzFqQHsUrkfh+lRAZmZmZmbmVUAAAAAAAGBFQAAAAAAAwFBAexSuR+FyYkBmZmZmZgZMQNejcD0KVzVAAAAAAABAYUAAAAAAABhjQFK4HoXr3XdA7FG4HoXrP0AfhetRuM5XQClcj8L1CEBApHA9CtezXEApXI/C9WhPQEjhehSul11A16NwPQqXX0BmZmZmZkZCQLgehetR+FpAKVyPwvWoOEBSuB6F6+FZQB+F61G4flBAFK5H4XoUNEBcj8L1KOxbQIXrUbgeBSxAzczMzMzMMEDD9Shcj6JYQOxRuB6FK05AhetRuB7lUUBSuB6F65E7QMP1KFyP4kdA4XoUrkfZaEAfhetRuK5kQI/C9ShcR2RAH4XrUbj+RUCuR+F6FI5NQFyPwvUo3DdAPQrXo3CNUkDXo3A9CndSQK5H4XoUbkNAzczMzMzkdEBmZmZmZgZHQHE9CtejwFdAw/UoXI9yWkAzMzMzM0tmQK5H4XoULk1AAAAAAAAAOEBcj8L1KFwvQIXrUbgeZU9AXI/C9Si8YECkcD0K19NTQD0K16NwDWpAmpmZmZlZRECkcD0K1xNkQAAAAAAAADBA16NwPQpXWUDXo3A9Ct9jQI/C9Shcx2JAuB6F61GYU0A9CtejcF1LQKRwPQrXI0ZAAAAAAADIgkAAAAAAAMBAQKRwPQrXA05AmpmZmZn5U0AAAAAAAABEQHE9CtejQFVAKVyPwvVYVUCF61G4HglwQHE9CtejoFJA16NwPQpXRUCF61G4HsVdQB+F61G4/k5AFK5H4XoEY0CF61G4HuVJQI/C9Shcr1hAAAAAAACgQ0A9CtejcM1SQFK4HoXrUUBAw/UoXI/CKkDNzMzMzOxLQDMzMzMzQ29AKVyPwvXoO0DhehSuR2E6QK5H4XoUTkJAzczMzMxML0AzMzMzM7MvQOF6FK5HKWJAMzMzMzPzQEAfhetRuD5PQMP1KFyPgjZArkfhehRuOUA9CtejcJ1HQBSuR+F6HGFAzczMzMwMWEBcj8L1KEB0QOF6FK5HAUxAAAAAAAAAOEBxPQrXozBOQHE9CtejMGtA16NwPQqHb0CuR+F6FB5RQArXo3A9+lJAMzMzMzMzS0DsUbgehWtHQB+F61G4vlBAzczMzMz8W0C4HoXrUdBlQHE9CtejcEBArkfhehTuTkAUrkfhehRSQHsUrkfhqlBAj8L1KFyPMkCamZmZmYlbQKRwPQrXA1JAXI/C9SgcVUBxPQrXo9BAQB+F61G4HkNAKVyPwvUYWUBcj8L1KBxXQPYoXI/ClVJAhetRuB4lZUBcj8L1KKxiQBSuR+F6VFlAMzMzMzOTW0CF61G4HoU9QArXo3A9AmJACtejcD04nEBxPQrXozBOQK5H4XoUDlRAKVyPwvWISUAK16NwPSpNQLgehetR2FlAPQrXo3BdR0BI4XoUro9mQOxRuB6FqzxA9ihcj8LVYUBmZmZmZjZTQPYoXI/CNU9A4XoUrkfBQEB7FK5H4RpYQKRwPQrXoylApHA9CteDVUBI4XoUrtdoQEjhehSux0dAmpmZmZkpX0AK16NwPcpLQFK4HoXrKXRAZmZmZmbmMUBcj8L1KFxPQHE9CtejUFZA4XoUrkchSkCPwvUoXFdmQFK4HoXrqWBAZmZmZmY2cECkcD0K18NSQM3MzMzMnF5AUrgeheupZUBSuB6F6wFaQDMzMzMz+2NAzczMzMzMQUCamZmZmdlQQD0K16NwnVVAuB6F61G4R0CPwvUoXE9FQNejcD0K11lAZmZmZmY6eEBxPQrXo7BIQPYoXI/CBWNAw/UoXI/CWEDXo3A9CqdWQNejcD0Kl2NAMzMzMzOzRUBxPQrXo9BLQOxRuB6FG2NAw/UoXI/iSkDD9Shcj6JYQDMzMzMzo1FAuB6F61GAYkAzMzMzM3NQQNejcD0KlzlAPQrXo3B9QUBI4XoUrqdUQAAAAAAAgExAj8L1KFx/WUDNzMzMzGxIQNejcD0Kx1FA4XoUrkfRV0CamZmZmRk9QArXo3A9alhAhetRuB7FS0CF61G4HqVKQHE9Ctej8F9APQrXo3Dla0CamZmZmWlYQOF6FK5HIThAuB6F61HgYEBmZmZmZlZZQI/C9Shc12hASOF6FK7nWEDhehSuR0FXQNejcD0Kl1JA4XoUrkchVEB7FK5H4UpUQFyPwvUofFBAAAAAAACwcUBmZmZmZgZEQEjhehSuR0FA7FG4HoULQUB7FK5H4XpSQDMzMzMzU0pA9ihcj8J1QEB7FK5H4SJqQEjhehSuRypAZmZmZmbmJ0DXo3A9CjdfQI/C9Shcr09AH4XrUbgOa0BSuB6F61FbQEjhehSuP2RAH4XrUbjeX0BI4XoUrrdcQI/C9Shc70dAAAAAAACwU0DhehSuR7FVQBSuR+F6NFxA9ihcj8J1SUBI4XoUrmdaQFK4HoXrEVdAhetRuB6FSEAzMzMzM/NiQHsUrkfhWkBA16NwPQp3XEDsUbgehYtQQK5H4XoUXl5A4XoUrkcBWUCuR+F6FA5RQEjhehSux1NA4XoUrkf5Z0AAAAAAAMBNQDMzMzMzs0tA9ihcj8JVS0D2KFyPwgVUQI/C9ShczzJA16NwPQp3TkDNzMzMzMxAQGZmZmZmnmRAj8L1KFyPPEDsUbgehQtjQKRwPQrXY1xAKVyPwvUoZUC4HoXrUThFQM3MzMzMzD1AKVyPwvVoT0DhehSuR6FEQI/C9Shcj1FAMzMzMzMTU0BSuB6F6+FcQHsUrkfhWklAcT0K16PgUUA=\",\"dtype\":\"float64\",\"order\":\"little\",\"shape\":[505]},\"Price/Earnings\":{\"__ndarray__\":\"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\",\"dtype\":\"float64\",\"order\":\"little\",\"shape\":[505]},\"Price_over_Earnings\":{\"__ndarray__\":\"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\",\"dtype\":\"float64\",\"order\":\"little\",\"shape\":[505]}},\"selected\":{\"id\":\"7641\"},\"selection_policy\":{\"id\":\"7664\"}},\"id\":\"7640\",\"type\":\"ColumnDataSource\"},{\"attributes\":{},\"id\":\"7664\",\"type\":\"UnionRenderers\"},{\"attributes\":{\"children\":[{\"id\":\"7606\"},{\"id\":\"7610\"},{\"id\":\"7676\"}],\"margin\":[0,0,0,0],\"name\":\"Row11077\",\"tags\":[\"embedded\"]},\"id\":\"7605\",\"type\":\"Row\"},{\"attributes\":{\"callback\":null,\"renderers\":[{\"id\":\"7646\"}],\"tags\":[\"hv_created\"],\"tooltips\":[[\"Price\",\"@{Price}\"],[\"Price/Earnings\",\"@{Price_over_Earnings}\"]]},\"id\":\"7609\",\"type\":\"HoverTool\"},{\"attributes\":{\"below\":[{\"id\":\"7619\"}],\"center\":[{\"id\":\"7622\"},{\"id\":\"7626\"}],\"height\":350,\"left\":[{\"id\":\"7623\"}],\"margin\":[5,5,5,5],\"min_border_bottom\":10,\"min_border_left\":10,\"min_border_right\":10,\"min_border_top\":10,\"renderers\":[{\"id\":\"7646\"}],\"sizing_mode\":\"fixed\",\"title\":{\"id\":\"7611\"},\"toolbar\":{\"id\":\"7633\"},\"width\":700,\"x_range\":{\"id\":\"7607\"},\"x_scale\":{\"id\":\"7615\"},\"y_range\":{\"id\":\"7608\"},\"y_scale\":{\"id\":\"7617\"}},\"id\":\"7610\",\"subtype\":\"Figure\",\"type\":\"Plot\"},{\"attributes\":{},\"id\":\"7651\",\"type\":\"BasicTickFormatter\"},{\"attributes\":{\"end\":597.318,\"reset_end\":597.318,\"reset_start\":-328.698,\"start\":-328.698,\"tags\":[[[\"Price/Earnings\",\"Price/Earnings\",null]]]},\"id\":\"7608\",\"type\":\"Range1d\"}],\"root_ids\":[\"7605\"]},\"title\":\"Bokeh Application\",\"version\":\"2.3.2\"}};\n",
       "    var render_items = [{\"docid\":\"5e8b8db6-f58c-414c-b054-666b9618c480\",\"root_ids\":[\"7605\"],\"roots\":{\"7605\":\"364ddbad-37c3-4483-89b3-58e3fc021828\"}}];\n",
       "    root.Bokeh.embed.embed_items_notebook(docs_json, render_items);\n",
       "  }\n",
       "  if (root.Bokeh !== undefined && root.Bokeh.Panel !== undefined) {\n",
       "    embed_document(root);\n",
       "  } else {\n",
       "    var attempts = 0;\n",
       "    var timer = setInterval(function(root) {\n",
       "      if (root.Bokeh !== undefined && root.Bokeh.Panel !== undefined) {\n",
       "        clearInterval(timer);\n",
       "        embed_document(root);\n",
       "      } else if (document.readyState == \"complete\") {\n",
       "        attempts++;\n",
       "        if (attempts > 100) {\n",
       "          clearInterval(timer);\n",
       "          console.log(\"Bokeh: ERROR: Unable to run BokehJS code because BokehJS library is missing\");\n",
       "        }\n",
       "      }\n",
       "    }, 10, root)\n",
       "  }\n",
       "})(window);</script>"
      ],
      "text/plain": [
       ":Scatter   [Price]   (Price/Earnings)"
      ]
     },
     "execution_count": 54,
     "metadata": {
      "application/vnd.holoviews_exec.v0+json": {
       "id": "7605"
      }
     },
     "output_type": "execute_result"
    }
   ],
   "source": [
    "price_earnings.hvplot(x='Price',\n",
    "                      y='Price/Earnings',\n",
    "                      kind='scatter',\n",
    "                      title=\"Price & Price/Earnings\",\n",
    "                      width=700,\n",
    "                      height=350,\n",
    "                      yformatter='%.0f')"
   ]
  },
  {
   "cell_type": "code",
   "execution_count": 46,
   "metadata": {},
   "outputs": [],
   "source": [
    "import numpy as np\n",
    "import pandas as pd\n",
    "import hvplot.pandas"
   ]
  },
  {
   "cell_type": "code",
   "execution_count": 47,
   "metadata": {},
   "outputs": [
    {
     "data": {
      "text/html": [
       "<div>\n",
       "<style scoped>\n",
       "    .dataframe tbody tr th:only-of-type {\n",
       "        vertical-align: middle;\n",
       "    }\n",
       "\n",
       "    .dataframe tbody tr th {\n",
       "        vertical-align: top;\n",
       "    }\n",
       "\n",
       "    .dataframe thead th {\n",
       "        text-align: right;\n",
       "    }\n",
       "</style>\n",
       "<table border=\"1\" class=\"dataframe\">\n",
       "  <thead>\n",
       "    <tr style=\"text-align: right;\">\n",
       "      <th></th>\n",
       "      <th>APPL</th>\n",
       "      <th>GOGLE</th>\n",
       "      <th>AMMD</th>\n",
       "      <th>BCOIN</th>\n",
       "    </tr>\n",
       "  </thead>\n",
       "  <tbody>\n",
       "    <tr>\n",
       "      <th>2018-01-01</th>\n",
       "      <td>NaN</td>\n",
       "      <td>NaN</td>\n",
       "      <td>NaN</td>\n",
       "      <td>NaN</td>\n",
       "    </tr>\n",
       "    <tr>\n",
       "      <th>2018-01-02</th>\n",
       "      <td>-0.676159</td>\n",
       "      <td>2.578339</td>\n",
       "      <td>-1.572775</td>\n",
       "      <td>7.420122</td>\n",
       "    </tr>\n",
       "    <tr>\n",
       "      <th>2018-01-03</th>\n",
       "      <td>-1.083241</td>\n",
       "      <td>-0.870240</td>\n",
       "      <td>-1.480765</td>\n",
       "      <td>-9.222314</td>\n",
       "    </tr>\n",
       "    <tr>\n",
       "      <th>2018-01-04</th>\n",
       "      <td>-4.714242</td>\n",
       "      <td>-1.144578</td>\n",
       "      <td>-1.016997</td>\n",
       "      <td>-1.002849</td>\n",
       "    </tr>\n",
       "    <tr>\n",
       "      <th>2018-01-05</th>\n",
       "      <td>6.151867</td>\n",
       "      <td>-44.590709</td>\n",
       "      <td>78.670115</td>\n",
       "      <td>141.869431</td>\n",
       "    </tr>\n",
       "  </tbody>\n",
       "</table>\n",
       "</div>"
      ],
      "text/plain": [
       "                APPL      GOGLE       AMMD       BCOIN\n",
       "2018-01-01       NaN        NaN        NaN         NaN\n",
       "2018-01-02 -0.676159   2.578339  -1.572775    7.420122\n",
       "2018-01-03 -1.083241  -0.870240  -1.480765   -9.222314\n",
       "2018-01-04 -4.714242  -1.144578  -1.016997   -1.002849\n",
       "2018-01-05  6.151867 -44.590709  78.670115  141.869431"
      ]
     },
     "execution_count": 47,
     "metadata": {},
     "output_type": "execute_result"
    }
   ],
   "source": [
    "# Data Prep\n",
    "df_idx = pd.date_range(\"1/1/2018\", periods=52)\n",
    "\n",
    "df = pd.DataFrame(np.random.randn(52, 4), \n",
    "                  index=df_idx, \n",
    "                  columns=(\"APPL\", \"GOGLE\", \"AMMD\", \"BCOIN\")).pct_change()\n",
    "\n",
    "df.head()"
   ]
  },
  {
   "cell_type": "code",
   "execution_count": 48,
   "metadata": {},
   "outputs": [
    {
     "data": {},
     "metadata": {},
     "output_type": "display_data"
    },
    {
     "data": {
      "application/vnd.holoviews_exec.v0+json": "",
      "text/html": [
       "<div id='6084'>\n",
       "\n",
       "\n",
       "\n",
       "\n",
       "\n",
       "  <div class=\"bk-root\" id=\"fdc16a0d-a4a5-41ed-a347-4d9190c13049\" data-root-id=\"6084\"></div>\n",
       "</div>\n",
       "<script type=\"application/javascript\">(function(root) {\n",
       "  function embed_document(root) {\n",
       "    var docs_json = {\"e8629487-d1d4-4e46-a550-100b10ecbff0\":{\"defs\":[],\"roots\":{\"references\":[{\"attributes\":{},\"id\":\"6113\",\"type\":\"ResetTool\"},{\"attributes\":{\"base\":60,\"mantissas\":[1,2,5,10,15,20,30],\"max_interval\":1800000.0,\"min_interval\":1000.0,\"num_minor_ticks\":0},\"id\":\"6146\",\"type\":\"AdaptiveTicker\"},{\"attributes\":{\"months\":[0,4,8]},\"id\":\"6154\",\"type\":\"MonthsTicker\"},{\"attributes\":{\"months\":[0,6]},\"id\":\"6155\",\"type\":\"MonthsTicker\"},{\"attributes\":{\"days\":[1,2,3,4,5,6,7,8,9,10,11,12,13,14,15,16,17,18,19,20,21,22,23,24,25,26,27,28,29,30,31]},\"id\":\"6148\",\"type\":\"DaysTicker\"},{\"attributes\":{\"line_color\":\"#e5ae38\",\"line_width\":2,\"x\":{\"field\":\"index\"},\"y\":{\"field\":\"value\"}},\"id\":\"6230\",\"type\":\"Line\"},{\"attributes\":{\"line_alpha\":0.1,\"line_color\":\"#30a2da\",\"line_width\":2,\"x\":{\"field\":\"index\"},\"y\":{\"field\":\"value\"}},\"id\":\"6132\",\"type\":\"Line\"},{\"attributes\":{},\"id\":\"6143\",\"type\":\"UnionRenderers\"},{\"attributes\":{},\"id\":\"6156\",\"type\":\"YearsTicker\"},{\"attributes\":{\"source\":{\"id\":\"6128\"}},\"id\":\"6135\",\"type\":\"CDSView\"},{\"attributes\":{\"click_policy\":\"mute\",\"items\":[{\"id\":\"6159\"},{\"id\":\"6193\"},{\"id\":\"6229\"},{\"id\":\"6267\"}],\"location\":[0,0],\"title\":\"Variable\"},\"id\":\"6158\",\"type\":\"Legend\"},{\"attributes\":{\"line_color\":\"#e5ae38\",\"line_width\":2,\"x\":{\"field\":\"index\"},\"y\":{\"field\":\"value\"}},\"id\":\"6198\",\"type\":\"Line\"},{\"attributes\":{\"data_source\":{\"id\":\"6128\"},\"glyph\":{\"id\":\"6131\"},\"hover_glyph\":null,\"muted_glyph\":{\"id\":\"6133\"},\"nonselection_glyph\":{\"id\":\"6132\"},\"selection_glyph\":{\"id\":\"6160\"},\"view\":{\"id\":\"6135\"}},\"id\":\"6134\",\"type\":\"GlyphRenderer\"},{\"attributes\":{\"line_color\":\"#30a2da\",\"line_width\":2,\"x\":{\"field\":\"index\"},\"y\":{\"field\":\"value\"}},\"id\":\"6131\",\"type\":\"Line\"},{\"attributes\":{},\"id\":\"6162\",\"type\":\"Selection\"},{\"attributes\":{\"children\":[{\"id\":\"6085\"},{\"id\":\"6092\"},{\"id\":\"6521\"}],\"margin\":[0,0,0,0],\"name\":\"Row09034\",\"tags\":[\"embedded\"]},\"id\":\"6084\",\"type\":\"Row\"},{\"attributes\":{\"active_multi\":null,\"tools\":[{\"id\":\"6088\"},{\"id\":\"6109\"},{\"id\":\"6110\"},{\"id\":\"6111\"},{\"id\":\"6112\"},{\"id\":\"6113\"}]},\"id\":\"6115\",\"type\":\"Toolbar\"},{\"attributes\":{\"days\":[1,4,7,10,13,16,19,22,25,28]},\"id\":\"6149\",\"type\":\"DaysTicker\"},{\"attributes\":{\"line_alpha\":0.2,\"line_color\":\"#30a2da\",\"line_width\":2,\"x\":{\"field\":\"index\"},\"y\":{\"field\":\"value\"}},\"id\":\"6133\",\"type\":\"Line\"},{\"attributes\":{\"label\":{\"value\":\"APPL\"},\"renderers\":[{\"id\":\"6134\"}]},\"id\":\"6159\",\"type\":\"LegendItem\"},{\"attributes\":{\"line_color\":\"#6d904f\",\"line_width\":2,\"x\":{\"field\":\"index\"},\"y\":{\"field\":\"value\"}},\"id\":\"6268\",\"type\":\"Line\"},{\"attributes\":{\"data\":{\"Variable\":[\"APPL\",\"APPL\",\"APPL\",\"APPL\",\"APPL\",\"APPL\",\"APPL\",\"APPL\",\"APPL\",\"APPL\",\"APPL\",\"APPL\",\"APPL\",\"APPL\",\"APPL\",\"APPL\",\"APPL\",\"APPL\",\"APPL\",\"APPL\",\"APPL\",\"APPL\",\"APPL\",\"APPL\",\"APPL\",\"APPL\",\"APPL\",\"APPL\",\"APPL\",\"APPL\",\"APPL\",\"APPL\",\"APPL\",\"APPL\",\"APPL\",\"APPL\",\"APPL\",\"APPL\",\"APPL\",\"APPL\",\"APPL\",\"APPL\",\"APPL\",\"APPL\",\"APPL\",\"APPL\",\"APPL\",\"APPL\",\"APPL\",\"APPL\",\"APPL\",\"APPL\"],\"index\":{\"__ndarray__\":\"AAAASfAKdkIAAMCuQgt2QgAAgBSVC3ZCAABAeucLdkIAAADgOQx2QgAAwEWMDHZCAACAq94MdkIAAEARMQ12QgAAAHeDDXZCAADA3NUNdkIAAIBCKA52QgAAQKh6DnZCAAAADs0OdkIAAMBzHw92QgAAgNlxD3ZCAABAP8QPdkIAAAClFhB2QgAAwAppEHZCAACAcLsQdkIAAEDWDRF2QgAAADxgEXZCAADAobIRdkIAAIAHBRJ2QgAAQG1XEnZCAAAA06kSdkIAAMA4/BJ2QgAAgJ5OE3ZCAABABKETdkIAAABq8xN2QgAAwM9FFHZCAACANZgUdkIAAECb6hR2QgAAAAE9FXZCAADAZo8VdkIAAIDM4RV2QgAAQDI0FnZCAAAAmIYWdkIAAMD92BZ2QgAAgGMrF3ZCAABAyX0XdkIAAAAv0Bd2QgAAwJQiGHZCAACA+nQYdkIAAEBgxxh2QgAAAMYZGXZCAADAK2wZdkIAAICRvhl2QgAAQPcQGnZCAAAAXWMadkIAAMDCtRp2QgAAgCgIG3ZCAABAjlobdkI=\",\"dtype\":\"float64\",\"order\":\"little\",\"shape\":[52]},\"value\":{\"__ndarray__\":\"AAAAAAAA+H86OYH4GKPlv6NhQgn0VPG/aByRRWLbEsDSM3UFg5sYQDA8sBV3l8e/hCVNi/x05b88yclxUh7Dv6ZtBPD1ggFAgdR06c4s87/DMkBAThsQwPIpCfyIgtC/kMFhPWNO9D9/yLE/uDLlv+mIo6Q01/a/i0CK0nfxFsAgS9fC1tiUv5D/2rsSPe6/Jlk6R6aNDkDWrlwkgO75v64pbSSUQyDA9u9pjwrIBsAPIRdBn+3/v3pdxgw+kOe/4EB08xK1+L9R+S86yQoRQEDcDQ/jeqA/Kq/nJLyf8r/iXfa05K/vP5CxWhR55QZABnVM5jGb97+2TSv/z8rtvzvgonMiyBFAfP1/B5to/T/SoAi8jB39v5mJw08zAwzAC7aAYpLG7b/hdRSEAuoRQLwft3iIgQnAtIXK5NgM+b9VwA9G+EQEwKiR9SvN6fW/9orZ4EaDD0CAihcKalvBv3XKoVYREu+/x0g3mQNBJMAtNg7AXykQwCbdRzg5F/G/eDUtbAFstb+j6HDO9RMjwAqFvt5C8PC/KvtzeqzwHMA=\",\"dtype\":\"float64\",\"order\":\"little\",\"shape\":[52]}},\"selected\":{\"id\":\"6129\"},\"selection_policy\":{\"id\":\"6143\"}},\"id\":\"6128\",\"type\":\"ColumnDataSource\"},{\"attributes\":{\"bottom_units\":\"screen\",\"fill_alpha\":0.5,\"fill_color\":\"lightgrey\",\"left_units\":\"screen\",\"level\":\"overlay\",\"line_alpha\":1.0,\"line_color\":\"black\",\"line_dash\":[4,4],\"line_width\":2,\"right_units\":\"screen\",\"syncable\":false,\"top_units\":\"screen\"},\"id\":\"6114\",\"type\":\"BoxAnnotation\"},{\"attributes\":{\"margin\":[5,5,5,5],\"name\":\"HSpacer09038\",\"sizing_mode\":\"stretch_width\"},\"id\":\"6085\",\"type\":\"Spacer\"},{\"attributes\":{\"base\":24,\"mantissas\":[1,2,4,6,8,12],\"max_interval\":43200000.0,\"min_interval\":3600000.0,\"num_minor_ticks\":0},\"id\":\"6147\",\"type\":\"AdaptiveTicker\"},{\"attributes\":{\"end\":172.82564297486994,\"reset_end\":172.82564297486994,\"reset_start\":-198.64889628667305,\"start\":-198.64889628667305,\"tags\":[[[\"value\",\"value\",null]]]},\"id\":\"6087\",\"type\":\"Range1d\"},{\"attributes\":{\"mantissas\":[1,2,5],\"max_interval\":500.0,\"num_minor_ticks\":0},\"id\":\"6145\",\"type\":\"AdaptiveTicker\"},{\"attributes\":{},\"id\":\"6126\",\"type\":\"BasicTickFormatter\"},{\"attributes\":{\"line_alpha\":0.2,\"line_color\":\"#fc4f30\",\"line_width\":2,\"x\":{\"field\":\"index\"},\"y\":{\"field\":\"value\"}},\"id\":\"6166\",\"type\":\"Line\"},{\"attributes\":{\"line_color\":\"#30a2da\",\"line_width\":2,\"x\":{\"field\":\"index\"},\"y\":{\"field\":\"value\"}},\"id\":\"6160\",\"type\":\"Line\"},{\"attributes\":{},\"id\":\"6214\",\"type\":\"UnionRenderers\"},{\"attributes\":{\"label\":{\"value\":\"GOGLE\"},\"renderers\":[{\"id\":\"6167\"}]},\"id\":\"6193\",\"type\":\"LegendItem\"},{\"attributes\":{},\"id\":\"6232\",\"type\":\"Selection\"},{\"attributes\":{\"months\":[0,1,2,3,4,5,6,7,8,9,10,11]},\"id\":\"6152\",\"type\":\"MonthsTicker\"},{\"attributes\":{},\"id\":\"6123\",\"type\":\"DatetimeTickFormatter\"},{\"attributes\":{\"text_color\":\"black\",\"text_font_size\":\"12pt\"},\"id\":\"6093\",\"type\":\"Title\"},{\"attributes\":{},\"id\":\"6252\",\"type\":\"UnionRenderers\"},{\"attributes\":{\"line_alpha\":0.2,\"line_color\":\"#e5ae38\",\"line_width\":2,\"x\":{\"field\":\"index\"},\"y\":{\"field\":\"value\"}},\"id\":\"6200\",\"type\":\"Line\"},{\"attributes\":{\"source\":{\"id\":\"6231\"}},\"id\":\"6238\",\"type\":\"CDSView\"},{\"attributes\":{},\"id\":\"6127\",\"type\":\"AllLabels\"},{\"attributes\":{},\"id\":\"6097\",\"type\":\"LinearScale\"},{\"attributes\":{\"data_source\":{\"id\":\"6161\"},\"glyph\":{\"id\":\"6164\"},\"hover_glyph\":null,\"muted_glyph\":{\"id\":\"6166\"},\"nonselection_glyph\":{\"id\":\"6165\"},\"selection_glyph\":{\"id\":\"6194\"},\"view\":{\"id\":\"6168\"}},\"id\":\"6167\",\"type\":\"GlyphRenderer\"},{\"attributes\":{\"line_color\":\"#6d904f\",\"line_width\":2,\"x\":{\"field\":\"index\"},\"y\":{\"field\":\"value\"}},\"id\":\"6234\",\"type\":\"Line\"},{\"attributes\":{},\"id\":\"6124\",\"type\":\"AllLabels\"},{\"attributes\":{\"label\":{\"value\":\"BCOIN\"},\"renderers\":[{\"id\":\"6237\"}]},\"id\":\"6267\",\"type\":\"LegendItem\"},{\"attributes\":{},\"id\":\"6129\",\"type\":\"Selection\"},{\"attributes\":{\"axis_label\":\"\",\"formatter\":{\"id\":\"6123\"},\"major_label_policy\":{\"id\":\"6124\"},\"ticker\":{\"id\":\"6102\"}},\"id\":\"6101\",\"type\":\"DatetimeAxis\"},{\"attributes\":{\"num_minor_ticks\":5,\"tickers\":[{\"id\":\"6145\"},{\"id\":\"6146\"},{\"id\":\"6147\"},{\"id\":\"6148\"},{\"id\":\"6149\"},{\"id\":\"6150\"},{\"id\":\"6151\"},{\"id\":\"6152\"},{\"id\":\"6153\"},{\"id\":\"6154\"},{\"id\":\"6155\"},{\"id\":\"6156\"}]},\"id\":\"6102\",\"type\":\"DatetimeTicker\"},{\"attributes\":{\"source\":{\"id\":\"6195\"}},\"id\":\"6202\",\"type\":\"CDSView\"},{\"attributes\":{\"callback\":null,\"formatters\":{\"@{index}\":\"datetime\"},\"renderers\":[{\"id\":\"6134\"},{\"id\":\"6167\"},{\"id\":\"6201\"},{\"id\":\"6237\"}],\"tags\":[\"hv_created\"],\"tooltips\":[[\"Variable\",\"@{Variable}\"],[\"index\",\"@{index}{%F %T}\"],[\"value\",\"@{value}\"]]},\"id\":\"6088\",\"type\":\"HoverTool\"},{\"attributes\":{},\"id\":\"6178\",\"type\":\"UnionRenderers\"},{\"attributes\":{},\"id\":\"6099\",\"type\":\"LinearScale\"},{\"attributes\":{\"data\":{\"Variable\":[\"GOGLE\",\"GOGLE\",\"GOGLE\",\"GOGLE\",\"GOGLE\",\"GOGLE\",\"GOGLE\",\"GOGLE\",\"GOGLE\",\"GOGLE\",\"GOGLE\",\"GOGLE\",\"GOGLE\",\"GOGLE\",\"GOGLE\",\"GOGLE\",\"GOGLE\",\"GOGLE\",\"GOGLE\",\"GOGLE\",\"GOGLE\",\"GOGLE\",\"GOGLE\",\"GOGLE\",\"GOGLE\",\"GOGLE\",\"GOGLE\",\"GOGLE\",\"GOGLE\",\"GOGLE\",\"GOGLE\",\"GOGLE\",\"GOGLE\",\"GOGLE\",\"GOGLE\",\"GOGLE\",\"GOGLE\",\"GOGLE\",\"GOGLE\",\"GOGLE\",\"GOGLE\",\"GOGLE\",\"GOGLE\",\"GOGLE\",\"GOGLE\",\"GOGLE\",\"GOGLE\",\"GOGLE\",\"GOGLE\",\"GOGLE\",\"GOGLE\",\"GOGLE\"],\"index\":{\"__ndarray__\":\"AAAASfAKdkIAAMCuQgt2QgAAgBSVC3ZCAABAeucLdkIAAADgOQx2QgAAwEWMDHZCAACAq94MdkIAAEARMQ12QgAAAHeDDXZCAADA3NUNdkIAAIBCKA52QgAAQKh6DnZCAAAADs0OdkIAAMBzHw92QgAAgNlxD3ZCAABAP8QPdkIAAAClFhB2QgAAwAppEHZCAACAcLsQdkIAAEDWDRF2QgAAADxgEXZCAADAobIRdkIAAIAHBRJ2QgAAQG1XEnZCAAAA06kSdkIAAMA4/BJ2QgAAgJ5OE3ZCAABABKETdkIAAABq8xN2QgAAwM9FFHZCAACANZgUdkIAAECb6hR2QgAAAAE9FXZCAADAZo8VdkIAAIDM4RV2QgAAQDI0FnZCAAAAmIYWdkIAAMD92BZ2QgAAgGMrF3ZCAABAyX0XdkIAAAAv0Bd2QgAAwJQiGHZCAACA+nQYdkIAAEBgxxh2QgAAAMYZGXZCAADAK2wZdkIAAICRvhl2QgAAQPcQGnZCAAAAXWMadkIAAMDCtRp2QgAAgCgIG3ZCAABAjlobdkI=\",\"dtype\":\"float64\",\"order\":\"little\",\"shape\":[52]},\"value\":{\"__ndarray__\":\"AAAAAAAA+H/cj+BNcKAEQF1DxlcB2eu/UPP3GTFQ8r+oDmFdnEtGwCXs0hp1w+S/u4ZTfhdvDMDcNrRWP1rNv9d7rxvcgvG/dM53kMjwKUCGLbr6XVcAwKpcsXZzPtu/4NU1TxB3/r8wQZxjmoPwv5ne8KRxO0DAfeOnCbbS879eScHKfYUawOCPRtjlk/Q/4DzzfBgAob9+QpTz/4HuvxTj9gIpRxRAaoc+I7E51L9wDUsljFT8vxbXeFV+Wvg/iQvCNgo//r8MmYCP4WXIv4jYbwIPswDAEPq8D5kxpr+15G6ioE70v8SUypiUXArAgDn/spe95b9mVRiLHRsQwAT1EapUH92/ScMnW4zC9b9BlmGrFNUowGo7ouR2eAjAVV6UFHN867+A7hW9JeryP3kbcgeGGgDA7yjUVqruAsAc/0frCSz8vyKQne6B5N2/buv2Ur/g97+BV0kGZVYJwOajqRAn0ghAUCV15hOEwb+NAwFKPMXuvyMshpHzsjVAB/kMjU+p979N6HKgrkj7v/R+xRWW1vI/nptEBZg9BcA=\",\"dtype\":\"float64\",\"order\":\"little\",\"shape\":[52]}},\"selected\":{\"id\":\"6162\"},\"selection_policy\":{\"id\":\"6178\"}},\"id\":\"6161\",\"type\":\"ColumnDataSource\"},{\"attributes\":{\"axis_label\":\"\",\"formatter\":{\"id\":\"6126\"},\"major_label_policy\":{\"id\":\"6127\"},\"ticker\":{\"id\":\"6106\"}},\"id\":\"6105\",\"type\":\"LinearAxis\"},{\"attributes\":{\"axis\":{\"id\":\"6101\"},\"grid_line_color\":null,\"ticker\":null},\"id\":\"6104\",\"type\":\"Grid\"},{\"attributes\":{\"line_alpha\":0.2,\"line_color\":\"#6d904f\",\"line_width\":2,\"x\":{\"field\":\"index\"},\"y\":{\"field\":\"value\"}},\"id\":\"6236\",\"type\":\"Line\"},{\"attributes\":{},\"id\":\"6106\",\"type\":\"BasicTicker\"},{\"attributes\":{\"line_color\":\"#fc4f30\",\"line_width\":2,\"x\":{\"field\":\"index\"},\"y\":{\"field\":\"value\"}},\"id\":\"6164\",\"type\":\"Line\"},{\"attributes\":{\"axis\":{\"id\":\"6105\"},\"dimension\":1,\"grid_line_color\":null,\"ticker\":null},\"id\":\"6108\",\"type\":\"Grid\"},{\"attributes\":{\"line_alpha\":0.1,\"line_color\":\"#e5ae38\",\"line_width\":2,\"x\":{\"field\":\"index\"},\"y\":{\"field\":\"value\"}},\"id\":\"6199\",\"type\":\"Line\"},{\"attributes\":{\"source\":{\"id\":\"6161\"}},\"id\":\"6168\",\"type\":\"CDSView\"},{\"attributes\":{\"data\":{\"Variable\":[\"BCOIN\",\"BCOIN\",\"BCOIN\",\"BCOIN\",\"BCOIN\",\"BCOIN\",\"BCOIN\",\"BCOIN\",\"BCOIN\",\"BCOIN\",\"BCOIN\",\"BCOIN\",\"BCOIN\",\"BCOIN\",\"BCOIN\",\"BCOIN\",\"BCOIN\",\"BCOIN\",\"BCOIN\",\"BCOIN\",\"BCOIN\",\"BCOIN\",\"BCOIN\",\"BCOIN\",\"BCOIN\",\"BCOIN\",\"BCOIN\",\"BCOIN\",\"BCOIN\",\"BCOIN\",\"BCOIN\",\"BCOIN\",\"BCOIN\",\"BCOIN\",\"BCOIN\",\"BCOIN\",\"BCOIN\",\"BCOIN\",\"BCOIN\",\"BCOIN\",\"BCOIN\",\"BCOIN\",\"BCOIN\",\"BCOIN\",\"BCOIN\",\"BCOIN\",\"BCOIN\",\"BCOIN\",\"BCOIN\",\"BCOIN\",\"BCOIN\",\"BCOIN\"],\"index\":{\"__ndarray__\":\"AAAASfAKdkIAAMCuQgt2QgAAgBSVC3ZCAABAeucLdkIAAADgOQx2QgAAwEWMDHZCAACAq94MdkIAAEARMQ12QgAAAHeDDXZCAADA3NUNdkIAAIBCKA52QgAAQKh6DnZCAAAADs0OdkIAAMBzHw92QgAAgNlxD3ZCAABAP8QPdkIAAAClFhB2QgAAwAppEHZCAACAcLsQdkIAAEDWDRF2QgAAADxgEXZCAADAobIRdkIAAIAHBRJ2QgAAQG1XEnZCAAAA06kSdkIAAMA4/BJ2QgAAgJ5OE3ZCAABABKETdkIAAABq8xN2QgAAwM9FFHZCAACANZgUdkIAAECb6hR2QgAAAAE9FXZCAADAZo8VdkIAAIDM4RV2QgAAQDI0FnZCAAAAmIYWdkIAAMD92BZ2QgAAgGMrF3ZCAABAyX0XdkIAAAAv0Bd2QgAAwJQiGHZCAACA+nQYdkIAAEBgxxh2QgAAAMYZGXZCAADAK2wZdkIAAICRvhl2QgAAQPcQGnZCAAAAXWMadkIAAMDCtRp2QgAAgCgIG3ZCAABAjlobdkI=\",\"dtype\":\"float64\",\"order\":\"little\",\"shape\":[52]},\"value\":{\"__ndarray__\":\"AAAAAAAA+H9uNkloNK4dQCIiqxXTcSLA5TDF0asL8L/7ZLxh0rthQIL1rND7Wu8/7On7XQHY7L+NYFCSrWAwQFfvMHJhFOa/TjfA9Zi/A0A/AN5T96vwvycpxeCqkB/Aha9TTpWc7b8oovU6r6ZDwHT/1lBC5P2//+m/VVYs8L+W4/U4ySwXQHlkve7APwBAmfuruGdoAsB5uut2aLjivxb8ofQaswvA13YXVaaeCMBK+PTG947rv++x5C1Z1iPAdtSrUUp2BMDzMSh4fXXwv9UtEqVAEzJA7ouTKKeS5b9w6KRwiqnQP8LcpY4w8vi/gDYGuW/MnT9BF26+kPQNwGSbIr7+29c/l+V2OoNABcC/gd1c9dX5v+PFc+LVVAjAGnRtJJ2e8b9ewXycNaseQBzQ8V7jcdA/paG1syG68b9D9inQrK8EQMiJIxi6Qu6/95cc5RSJAkCcx/axCw0MQJ+ouIFjrQRAwO37MdYoxz++Bvrd+8LZvyQ0qqVHVsG/TmbcrCou4b/8tBJJrmoAwKI2joA8s9e/yupIag0PF8A=\",\"dtype\":\"float64\",\"order\":\"little\",\"shape\":[52]}},\"selected\":{\"id\":\"6232\"},\"selection_policy\":{\"id\":\"6252\"}},\"id\":\"6231\",\"type\":\"ColumnDataSource\"},{\"attributes\":{\"line_color\":\"#fc4f30\",\"line_width\":2,\"x\":{\"field\":\"index\"},\"y\":{\"field\":\"value\"}},\"id\":\"6194\",\"type\":\"Line\"},{\"attributes\":{\"data_source\":{\"id\":\"6195\"},\"glyph\":{\"id\":\"6198\"},\"hover_glyph\":null,\"muted_glyph\":{\"id\":\"6200\"},\"nonselection_glyph\":{\"id\":\"6199\"},\"selection_glyph\":{\"id\":\"6230\"},\"view\":{\"id\":\"6202\"}},\"id\":\"6201\",\"type\":\"GlyphRenderer\"},{\"attributes\":{\"data_source\":{\"id\":\"6231\"},\"glyph\":{\"id\":\"6234\"},\"hover_glyph\":null,\"muted_glyph\":{\"id\":\"6236\"},\"nonselection_glyph\":{\"id\":\"6235\"},\"selection_glyph\":{\"id\":\"6268\"},\"view\":{\"id\":\"6238\"}},\"id\":\"6237\",\"type\":\"GlyphRenderer\"},{\"attributes\":{\"below\":[{\"id\":\"6101\"}],\"center\":[{\"id\":\"6104\"},{\"id\":\"6108\"}],\"height\":300,\"left\":[{\"id\":\"6105\"}],\"margin\":[5,5,5,5],\"min_border_bottom\":10,\"min_border_left\":10,\"min_border_right\":10,\"min_border_top\":10,\"renderers\":[{\"id\":\"6134\"},{\"id\":\"6167\"},{\"id\":\"6201\"},{\"id\":\"6237\"}],\"right\":[{\"id\":\"6158\"}],\"sizing_mode\":\"fixed\",\"title\":{\"id\":\"6093\"},\"toolbar\":{\"id\":\"6115\"},\"width\":700,\"x_range\":{\"id\":\"6086\"},\"x_scale\":{\"id\":\"6097\"},\"y_range\":{\"id\":\"6087\"},\"y_scale\":{\"id\":\"6099\"}},\"id\":\"6092\",\"subtype\":\"Figure\",\"type\":\"Plot\"},{\"attributes\":{\"line_alpha\":0.1,\"line_color\":\"#6d904f\",\"line_width\":2,\"x\":{\"field\":\"index\"},\"y\":{\"field\":\"value\"}},\"id\":\"6235\",\"type\":\"Line\"},{\"attributes\":{\"end\":1519171200000.0,\"reset_end\":1519171200000.0,\"reset_start\":1514764800000.0,\"start\":1514764800000.0,\"tags\":[[[\"index\",\"index\",null]]]},\"id\":\"6086\",\"type\":\"Range1d\"},{\"attributes\":{\"line_alpha\":0.1,\"line_color\":\"#fc4f30\",\"line_width\":2,\"x\":{\"field\":\"index\"},\"y\":{\"field\":\"value\"}},\"id\":\"6165\",\"type\":\"Line\"},{\"attributes\":{\"margin\":[5,5,5,5],\"name\":\"HSpacer09039\",\"sizing_mode\":\"stretch_width\"},\"id\":\"6521\",\"type\":\"Spacer\"},{\"attributes\":{\"days\":[1,8,15,22]},\"id\":\"6150\",\"type\":\"DaysTicker\"},{\"attributes\":{},\"id\":\"6109\",\"type\":\"SaveTool\"},{\"attributes\":{\"days\":[1,15]},\"id\":\"6151\",\"type\":\"DaysTicker\"},{\"attributes\":{},\"id\":\"6110\",\"type\":\"PanTool\"},{\"attributes\":{},\"id\":\"6111\",\"type\":\"WheelZoomTool\"},{\"attributes\":{\"months\":[0,2,4,6,8,10]},\"id\":\"6153\",\"type\":\"MonthsTicker\"},{\"attributes\":{\"overlay\":{\"id\":\"6114\"}},\"id\":\"6112\",\"type\":\"BoxZoomTool\"},{\"attributes\":{\"label\":{\"value\":\"AMMD\"},\"renderers\":[{\"id\":\"6201\"}]},\"id\":\"6229\",\"type\":\"LegendItem\"},{\"attributes\":{\"data\":{\"Variable\":[\"AMMD\",\"AMMD\",\"AMMD\",\"AMMD\",\"AMMD\",\"AMMD\",\"AMMD\",\"AMMD\",\"AMMD\",\"AMMD\",\"AMMD\",\"AMMD\",\"AMMD\",\"AMMD\",\"AMMD\",\"AMMD\",\"AMMD\",\"AMMD\",\"AMMD\",\"AMMD\",\"AMMD\",\"AMMD\",\"AMMD\",\"AMMD\",\"AMMD\",\"AMMD\",\"AMMD\",\"AMMD\",\"AMMD\",\"AMMD\",\"AMMD\",\"AMMD\",\"AMMD\",\"AMMD\",\"AMMD\",\"AMMD\",\"AMMD\",\"AMMD\",\"AMMD\",\"AMMD\",\"AMMD\",\"AMMD\",\"AMMD\",\"AMMD\",\"AMMD\",\"AMMD\",\"AMMD\",\"AMMD\",\"AMMD\",\"AMMD\",\"AMMD\",\"AMMD\"],\"index\":{\"__ndarray__\":\"AAAASfAKdkIAAMCuQgt2QgAAgBSVC3ZCAABAeucLdkIAAADgOQx2QgAAwEWMDHZCAACAq94MdkIAAEARMQ12QgAAAHeDDXZCAADA3NUNdkIAAIBCKA52QgAAQKh6DnZCAAAADs0OdkIAAMBzHw92QgAAgNlxD3ZCAABAP8QPdkIAAAClFhB2QgAAwAppEHZCAACAcLsQdkIAAEDWDRF2QgAAADxgEXZCAADAobIRdkIAAIAHBRJ2QgAAQG1XEnZCAAAA06kSdkIAAMA4/BJ2QgAAgJ5OE3ZCAABABKETdkIAAABq8xN2QgAAwM9FFHZCAACANZgUdkIAAECb6hR2QgAAAAE9FXZCAADAZo8VdkIAAIDM4RV2QgAAQDI0FnZCAAAAmIYWdkIAAMD92BZ2QgAAgGMrF3ZCAABAyX0XdkIAAAAv0Bd2QgAAwJQiGHZCAACA+nQYdkIAAEBgxxh2QgAAAMYZGXZCAADAK2wZdkIAAICRvhl2QgAAQPcQGnZCAAAAXWMadkIAAMDCtRp2QgAAgCgIG3ZCAABAjlobdkI=\",\"dtype\":\"float64\",\"order\":\"little\",\"shape\":[52]},\"value\":{\"__ndarray__\":\"AAAAAAAA+H/k/bPtFSr5v3gULoA2sfe/cFrcoZ5F8L/Zk2Mp46pTQOjV/dSEZbu/D7hbW0Ob4L/cPNklI/D1v2EbvtpBEwvAptqo9vo/+r/zpurfIOApQOgwxEz1vPi/1P1DtyhA+b+Q/+qrwrXUP1/PeIaBUfe//n3JqUEUCMD1KftDlocAwJK8TuDCGADAwiAf1Xq04z/pP2bcsnr7v+Ba6xXSrfC/KpK7JUQPEsAmMpp5JM0AwJacrLAnsw5AYvAGa1xN5T8ymGQ6bsTmv0wlQr2m/hFAD31s1RjR6r+8qpLSZh4FwHzzFkxnG9S/n4BOdodWA8AGl++humrdv/JGxBbS0fi/8/EqNB7NGsCoIbDgz7/Wv9yulGgXo++/j7UQeSr2ZMBAb2uTjML+vxwe5O7bisq/zRpPFTW47b9uVGR1AbQHwOS/YhvaaeU/WGvqeMr62b/TNVJGbO0aQBQxACkxTQPAIrWjloeX0r+QFB0vSmyjv/3asjodaQjAIpYq1Mwy9b/Y23JC+Q3IPyAowLJfEQXAjs/koJHL9L8=\",\"dtype\":\"float64\",\"order\":\"little\",\"shape\":[52]}},\"selected\":{\"id\":\"6196\"},\"selection_policy\":{\"id\":\"6214\"}},\"id\":\"6195\",\"type\":\"ColumnDataSource\"},{\"attributes\":{},\"id\":\"6196\",\"type\":\"Selection\"}],\"root_ids\":[\"6084\"]},\"title\":\"Bokeh Application\",\"version\":\"2.3.2\"}};\n",
       "    var render_items = [{\"docid\":\"e8629487-d1d4-4e46-a550-100b10ecbff0\",\"root_ids\":[\"6084\"],\"roots\":{\"6084\":\"fdc16a0d-a4a5-41ed-a347-4d9190c13049\"}}];\n",
       "    root.Bokeh.embed.embed_items_notebook(docs_json, render_items);\n",
       "  }\n",
       "  if (root.Bokeh !== undefined && root.Bokeh.Panel !== undefined) {\n",
       "    embed_document(root);\n",
       "  } else {\n",
       "    var attempts = 0;\n",
       "    var timer = setInterval(function(root) {\n",
       "      if (root.Bokeh !== undefined && root.Bokeh.Panel !== undefined) {\n",
       "        clearInterval(timer);\n",
       "        embed_document(root);\n",
       "      } else if (document.readyState == \"complete\") {\n",
       "        attempts++;\n",
       "        if (attempts > 100) {\n",
       "          clearInterval(timer);\n",
       "          console.log(\"Bokeh: ERROR: Unable to run BokehJS code because BokehJS library is missing\");\n",
       "        }\n",
       "      }\n",
       "    }, 10, root)\n",
       "  }\n",
       "})(window);</script>"
      ],
      "text/plain": [
       ":NdOverlay   [Variable]\n",
       "   :Curve   [index]   (value)"
      ]
     },
     "execution_count": 48,
     "metadata": {
      "application/vnd.holoviews_exec.v0+json": {
       "id": "6084"
      }
     },
     "output_type": "execute_result"
    }
   ],
   "source": [
    "df.hvplot()"
   ]
  },
  {
   "cell_type": "code",
   "execution_count": 49,
   "metadata": {},
   "outputs": [
    {
     "data": {},
     "metadata": {},
     "output_type": "display_data"
    },
    {
     "data": {
      "application/vnd.holoviews_exec.v0+json": "",
      "text/html": [
       "<div id='6663'>\n",
       "\n",
       "\n",
       "\n",
       "\n",
       "\n",
       "  <div class=\"bk-root\" id=\"1cd5a3ad-c9da-4177-b852-5ea6079a60cb\" data-root-id=\"6663\"></div>\n",
       "</div>\n",
       "<script type=\"application/javascript\">(function(root) {\n",
       "  function embed_document(root) {\n",
       "    var docs_json = {\"26c16403-5ee4-4853-8eb9-ebc740eccd65\":{\"defs\":[],\"roots\":{\"references\":[{\"attributes\":{\"line_color\":\"#6d904f\",\"line_width\":2,\"x\":{\"field\":\"index\"},\"y\":{\"field\":\"value\"}},\"id\":\"6847\",\"type\":\"Line\"},{\"attributes\":{},\"id\":\"6831\",\"type\":\"UnionRenderers\"},{\"attributes\":{},\"id\":\"6708\",\"type\":\"Selection\"},{\"attributes\":{},\"id\":\"6775\",\"type\":\"Selection\"},{\"attributes\":{},\"id\":\"6706\",\"type\":\"AllLabels\"},{\"attributes\":{},\"id\":\"6793\",\"type\":\"UnionRenderers\"},{\"attributes\":{\"data\":{\"Variable\":[\"APPL\",\"APPL\",\"APPL\",\"APPL\",\"APPL\",\"APPL\",\"APPL\",\"APPL\",\"APPL\",\"APPL\",\"APPL\",\"APPL\",\"APPL\",\"APPL\",\"APPL\",\"APPL\",\"APPL\",\"APPL\",\"APPL\",\"APPL\",\"APPL\",\"APPL\",\"APPL\",\"APPL\",\"APPL\",\"APPL\",\"APPL\",\"APPL\",\"APPL\",\"APPL\",\"APPL\",\"APPL\",\"APPL\",\"APPL\",\"APPL\",\"APPL\",\"APPL\",\"APPL\",\"APPL\",\"APPL\",\"APPL\",\"APPL\",\"APPL\",\"APPL\",\"APPL\",\"APPL\",\"APPL\",\"APPL\",\"APPL\",\"APPL\",\"APPL\",\"APPL\"],\"index\":{\"__ndarray__\":\"AAAASfAKdkIAAMCuQgt2QgAAgBSVC3ZCAABAeucLdkIAAADgOQx2QgAAwEWMDHZCAACAq94MdkIAAEARMQ12QgAAAHeDDXZCAADA3NUNdkIAAIBCKA52QgAAQKh6DnZCAAAADs0OdkIAAMBzHw92QgAAgNlxD3ZCAABAP8QPdkIAAAClFhB2QgAAwAppEHZCAACAcLsQdkIAAEDWDRF2QgAAADxgEXZCAADAobIRdkIAAIAHBRJ2QgAAQG1XEnZCAAAA06kSdkIAAMA4/BJ2QgAAgJ5OE3ZCAABABKETdkIAAABq8xN2QgAAwM9FFHZCAACANZgUdkIAAECb6hR2QgAAAAE9FXZCAADAZo8VdkIAAIDM4RV2QgAAQDI0FnZCAAAAmIYWdkIAAMD92BZ2QgAAgGMrF3ZCAABAyX0XdkIAAAAv0Bd2QgAAwJQiGHZCAACA+nQYdkIAAEBgxxh2QgAAAMYZGXZCAADAK2wZdkIAAICRvhl2QgAAQPcQGnZCAAAAXWMadkIAAMDCtRp2QgAAgCgIG3ZCAABAjlobdkI=\",\"dtype\":\"float64\",\"order\":\"little\",\"shape\":[52]},\"value\":{\"__ndarray__\":\"AAAAAAAA+H86OYH4GKPlv6NhQgn0VPG/aByRRWLbEsDSM3UFg5sYQDA8sBV3l8e/hCVNi/x05b88yclxUh7Dv6ZtBPD1ggFAgdR06c4s87/DMkBAThsQwPIpCfyIgtC/kMFhPWNO9D9/yLE/uDLlv+mIo6Q01/a/i0CK0nfxFsAgS9fC1tiUv5D/2rsSPe6/Jlk6R6aNDkDWrlwkgO75v64pbSSUQyDA9u9pjwrIBsAPIRdBn+3/v3pdxgw+kOe/4EB08xK1+L9R+S86yQoRQEDcDQ/jeqA/Kq/nJLyf8r/iXfa05K/vP5CxWhR55QZABnVM5jGb97+2TSv/z8rtvzvgonMiyBFAfP1/B5to/T/SoAi8jB39v5mJw08zAwzAC7aAYpLG7b/hdRSEAuoRQLwft3iIgQnAtIXK5NgM+b9VwA9G+EQEwKiR9SvN6fW/9orZ4EaDD0CAihcKalvBv3XKoVYREu+/x0g3mQNBJMAtNg7AXykQwCbdRzg5F/G/eDUtbAFstb+j6HDO9RMjwAqFvt5C8PC/KvtzeqzwHMA=\",\"dtype\":\"float64\",\"order\":\"little\",\"shape\":[52]}},\"selected\":{\"id\":\"6708\"},\"selection_policy\":{\"id\":\"6722\"}},\"id\":\"6707\",\"type\":\"ColumnDataSource\"},{\"attributes\":{\"source\":{\"id\":\"6774\"}},\"id\":\"6781\",\"type\":\"CDSView\"},{\"attributes\":{\"margin\":[5,5,5,5],\"name\":\"HSpacer09798\",\"sizing_mode\":\"stretch_width\"},\"id\":\"7100\",\"type\":\"Spacer\"},{\"attributes\":{\"line_color\":\"#e5ae38\",\"line_width\":2,\"x\":{\"field\":\"index\"},\"y\":{\"field\":\"value\"}},\"id\":\"6777\",\"type\":\"Line\"},{\"attributes\":{\"data\":{\"Variable\":[\"BCOIN\",\"BCOIN\",\"BCOIN\",\"BCOIN\",\"BCOIN\",\"BCOIN\",\"BCOIN\",\"BCOIN\",\"BCOIN\",\"BCOIN\",\"BCOIN\",\"BCOIN\",\"BCOIN\",\"BCOIN\",\"BCOIN\",\"BCOIN\",\"BCOIN\",\"BCOIN\",\"BCOIN\",\"BCOIN\",\"BCOIN\",\"BCOIN\",\"BCOIN\",\"BCOIN\",\"BCOIN\",\"BCOIN\",\"BCOIN\",\"BCOIN\",\"BCOIN\",\"BCOIN\",\"BCOIN\",\"BCOIN\",\"BCOIN\",\"BCOIN\",\"BCOIN\",\"BCOIN\",\"BCOIN\",\"BCOIN\",\"BCOIN\",\"BCOIN\",\"BCOIN\",\"BCOIN\",\"BCOIN\",\"BCOIN\",\"BCOIN\",\"BCOIN\",\"BCOIN\",\"BCOIN\",\"BCOIN\",\"BCOIN\",\"BCOIN\",\"BCOIN\"],\"index\":{\"__ndarray__\":\"AAAASfAKdkIAAMCuQgt2QgAAgBSVC3ZCAABAeucLdkIAAADgOQx2QgAAwEWMDHZCAACAq94MdkIAAEARMQ12QgAAAHeDDXZCAADA3NUNdkIAAIBCKA52QgAAQKh6DnZCAAAADs0OdkIAAMBzHw92QgAAgNlxD3ZCAABAP8QPdkIAAAClFhB2QgAAwAppEHZCAACAcLsQdkIAAEDWDRF2QgAAADxgEXZCAADAobIRdkIAAIAHBRJ2QgAAQG1XEnZCAAAA06kSdkIAAMA4/BJ2QgAAgJ5OE3ZCAABABKETdkIAAABq8xN2QgAAwM9FFHZCAACANZgUdkIAAECb6hR2QgAAAAE9FXZCAADAZo8VdkIAAIDM4RV2QgAAQDI0FnZCAAAAmIYWdkIAAMD92BZ2QgAAgGMrF3ZCAABAyX0XdkIAAAAv0Bd2QgAAwJQiGHZCAACA+nQYdkIAAEBgxxh2QgAAAMYZGXZCAADAK2wZdkIAAICRvhl2QgAAQPcQGnZCAAAAXWMadkIAAMDCtRp2QgAAgCgIG3ZCAABAjlobdkI=\",\"dtype\":\"float64\",\"order\":\"little\",\"shape\":[52]},\"value\":{\"__ndarray__\":\"AAAAAAAA+H9uNkloNK4dQCIiqxXTcSLA5TDF0asL8L/7ZLxh0rthQIL1rND7Wu8/7On7XQHY7L+NYFCSrWAwQFfvMHJhFOa/TjfA9Zi/A0A/AN5T96vwvycpxeCqkB/Aha9TTpWc7b8oovU6r6ZDwHT/1lBC5P2//+m/VVYs8L+W4/U4ySwXQHlkve7APwBAmfuruGdoAsB5uut2aLjivxb8ofQaswvA13YXVaaeCMBK+PTG947rv++x5C1Z1iPAdtSrUUp2BMDzMSh4fXXwv9UtEqVAEzJA7ouTKKeS5b9w6KRwiqnQP8LcpY4w8vi/gDYGuW/MnT9BF26+kPQNwGSbIr7+29c/l+V2OoNABcC/gd1c9dX5v+PFc+LVVAjAGnRtJJ2e8b9ewXycNaseQBzQ8V7jcdA/paG1syG68b9D9inQrK8EQMiJIxi6Qu6/95cc5RSJAkCcx/axCw0MQJ+ouIFjrQRAwO37MdYoxz++Bvrd+8LZvyQ0qqVHVsG/TmbcrCou4b/8tBJJrmoAwKI2joA8s9e/yupIag0PF8A=\",\"dtype\":\"float64\",\"order\":\"little\",\"shape\":[52]}},\"selected\":{\"id\":\"6811\"},\"selection_policy\":{\"id\":\"6831\"}},\"id\":\"6810\",\"type\":\"ColumnDataSource\"},{\"attributes\":{\"source\":{\"id\":\"6810\"}},\"id\":\"6817\",\"type\":\"CDSView\"},{\"attributes\":{\"axis_label\":\"year\",\"formatter\":{\"id\":\"6702\"},\"major_label_policy\":{\"id\":\"6703\"},\"ticker\":{\"id\":\"6681\"}},\"id\":\"6680\",\"type\":\"DatetimeAxis\"},{\"attributes\":{},\"id\":\"6676\",\"type\":\"LinearScale\"},{\"attributes\":{\"line_color\":\"#6d904f\",\"line_width\":2,\"x\":{\"field\":\"index\"},\"y\":{\"field\":\"value\"}},\"id\":\"6813\",\"type\":\"Line\"},{\"attributes\":{\"source\":{\"id\":\"6740\"}},\"id\":\"6747\",\"type\":\"CDSView\"},{\"attributes\":{\"num_minor_ticks\":5,\"tickers\":[{\"id\":\"6724\"},{\"id\":\"6725\"},{\"id\":\"6726\"},{\"id\":\"6727\"},{\"id\":\"6728\"},{\"id\":\"6729\"},{\"id\":\"6730\"},{\"id\":\"6731\"},{\"id\":\"6732\"},{\"id\":\"6733\"},{\"id\":\"6734\"},{\"id\":\"6735\"}]},\"id\":\"6681\",\"type\":\"DatetimeTicker\"},{\"attributes\":{\"data_source\":{\"id\":\"6740\"},\"glyph\":{\"id\":\"6743\"},\"hover_glyph\":null,\"muted_glyph\":{\"id\":\"6745\"},\"nonselection_glyph\":{\"id\":\"6744\"},\"selection_glyph\":{\"id\":\"6773\"},\"view\":{\"id\":\"6747\"}},\"id\":\"6746\",\"type\":\"GlyphRenderer\"},{\"attributes\":{\"active_multi\":null,\"tools\":[{\"id\":\"6667\"},{\"id\":\"6688\"},{\"id\":\"6689\"},{\"id\":\"6690\"},{\"id\":\"6691\"},{\"id\":\"6692\"}]},\"id\":\"6694\",\"type\":\"Toolbar\"},{\"attributes\":{},\"id\":\"6678\",\"type\":\"LinearScale\"},{\"attributes\":{\"axis_label\":\"Daily returns\",\"formatter\":{\"id\":\"6705\"},\"major_label_policy\":{\"id\":\"6706\"},\"ticker\":{\"id\":\"6685\"}},\"id\":\"6684\",\"type\":\"LinearAxis\"},{\"attributes\":{\"days\":[1,2,3,4,5,6,7,8,9,10,11,12,13,14,15,16,17,18,19,20,21,22,23,24,25,26,27,28,29,30,31]},\"id\":\"6727\",\"type\":\"DaysTicker\"},{\"attributes\":{\"axis\":{\"id\":\"6680\"},\"grid_line_color\":null,\"ticker\":null},\"id\":\"6683\",\"type\":\"Grid\"},{\"attributes\":{\"line_alpha\":0.2,\"line_color\":\"#e5ae38\",\"line_width\":2,\"x\":{\"field\":\"index\"},\"y\":{\"field\":\"value\"}},\"id\":\"6779\",\"type\":\"Line\"},{\"attributes\":{\"base\":60,\"mantissas\":[1,2,5,10,15,20,30],\"max_interval\":1800000.0,\"min_interval\":1000.0,\"num_minor_ticks\":0},\"id\":\"6725\",\"type\":\"AdaptiveTicker\"},{\"attributes\":{},\"id\":\"6757\",\"type\":\"UnionRenderers\"},{\"attributes\":{\"mantissas\":[1,2,5],\"max_interval\":500.0,\"num_minor_ticks\":0},\"id\":\"6724\",\"type\":\"AdaptiveTicker\"},{\"attributes\":{},\"id\":\"6811\",\"type\":\"Selection\"},{\"attributes\":{\"base\":24,\"mantissas\":[1,2,4,6,8,12],\"max_interval\":43200000.0,\"min_interval\":3600000.0,\"num_minor_ticks\":0},\"id\":\"6726\",\"type\":\"AdaptiveTicker\"},{\"attributes\":{\"line_alpha\":0.2,\"line_color\":\"#6d904f\",\"line_width\":2,\"x\":{\"field\":\"index\"},\"y\":{\"field\":\"value\"}},\"id\":\"6815\",\"type\":\"Line\"},{\"attributes\":{},\"id\":\"6685\",\"type\":\"BasicTicker\"},{\"attributes\":{\"axis\":{\"id\":\"6684\"},\"dimension\":1,\"grid_line_color\":null,\"ticker\":null},\"id\":\"6687\",\"type\":\"Grid\"},{\"attributes\":{\"line_color\":\"#30a2da\",\"line_width\":2,\"x\":{\"field\":\"index\"},\"y\":{\"field\":\"value\"}},\"id\":\"6710\",\"type\":\"Line\"},{\"attributes\":{\"days\":[1,4,7,10,13,16,19,22,25,28]},\"id\":\"6728\",\"type\":\"DaysTicker\"},{\"attributes\":{\"source\":{\"id\":\"6707\"}},\"id\":\"6714\",\"type\":\"CDSView\"},{\"attributes\":{},\"id\":\"6702\",\"type\":\"DatetimeTickFormatter\"},{\"attributes\":{\"data\":{\"Variable\":[\"AMMD\",\"AMMD\",\"AMMD\",\"AMMD\",\"AMMD\",\"AMMD\",\"AMMD\",\"AMMD\",\"AMMD\",\"AMMD\",\"AMMD\",\"AMMD\",\"AMMD\",\"AMMD\",\"AMMD\",\"AMMD\",\"AMMD\",\"AMMD\",\"AMMD\",\"AMMD\",\"AMMD\",\"AMMD\",\"AMMD\",\"AMMD\",\"AMMD\",\"AMMD\",\"AMMD\",\"AMMD\",\"AMMD\",\"AMMD\",\"AMMD\",\"AMMD\",\"AMMD\",\"AMMD\",\"AMMD\",\"AMMD\",\"AMMD\",\"AMMD\",\"AMMD\",\"AMMD\",\"AMMD\",\"AMMD\",\"AMMD\",\"AMMD\",\"AMMD\",\"AMMD\",\"AMMD\",\"AMMD\",\"AMMD\",\"AMMD\",\"AMMD\",\"AMMD\"],\"index\":{\"__ndarray__\":\"AAAASfAKdkIAAMCuQgt2QgAAgBSVC3ZCAABAeucLdkIAAADgOQx2QgAAwEWMDHZCAACAq94MdkIAAEARMQ12QgAAAHeDDXZCAADA3NUNdkIAAIBCKA52QgAAQKh6DnZCAAAADs0OdkIAAMBzHw92QgAAgNlxD3ZCAABAP8QPdkIAAAClFhB2QgAAwAppEHZCAACAcLsQdkIAAEDWDRF2QgAAADxgEXZCAADAobIRdkIAAIAHBRJ2QgAAQG1XEnZCAAAA06kSdkIAAMA4/BJ2QgAAgJ5OE3ZCAABABKETdkIAAABq8xN2QgAAwM9FFHZCAACANZgUdkIAAECb6hR2QgAAAAE9FXZCAADAZo8VdkIAAIDM4RV2QgAAQDI0FnZCAAAAmIYWdkIAAMD92BZ2QgAAgGMrF3ZCAABAyX0XdkIAAAAv0Bd2QgAAwJQiGHZCAACA+nQYdkIAAEBgxxh2QgAAAMYZGXZCAADAK2wZdkIAAICRvhl2QgAAQPcQGnZCAAAAXWMadkIAAMDCtRp2QgAAgCgIG3ZCAABAjlobdkI=\",\"dtype\":\"float64\",\"order\":\"little\",\"shape\":[52]},\"value\":{\"__ndarray__\":\"AAAAAAAA+H/k/bPtFSr5v3gULoA2sfe/cFrcoZ5F8L/Zk2Mp46pTQOjV/dSEZbu/D7hbW0Ob4L/cPNklI/D1v2EbvtpBEwvAptqo9vo/+r/zpurfIOApQOgwxEz1vPi/1P1DtyhA+b+Q/+qrwrXUP1/PeIaBUfe//n3JqUEUCMD1KftDlocAwJK8TuDCGADAwiAf1Xq04z/pP2bcsnr7v+Ba6xXSrfC/KpK7JUQPEsAmMpp5JM0AwJacrLAnsw5AYvAGa1xN5T8ymGQ6bsTmv0wlQr2m/hFAD31s1RjR6r+8qpLSZh4FwHzzFkxnG9S/n4BOdodWA8AGl++humrdv/JGxBbS0fi/8/EqNB7NGsCoIbDgz7/Wv9yulGgXo++/j7UQeSr2ZMBAb2uTjML+vxwe5O7bisq/zRpPFTW47b9uVGR1AbQHwOS/YhvaaeU/WGvqeMr62b/TNVJGbO0aQBQxACkxTQPAIrWjloeX0r+QFB0vSmyjv/3asjodaQjAIpYq1Mwy9b/Y23JC+Q3IPyAowLJfEQXAjs/koJHL9L8=\",\"dtype\":\"float64\",\"order\":\"little\",\"shape\":[52]}},\"selected\":{\"id\":\"6775\"},\"selection_policy\":{\"id\":\"6793\"}},\"id\":\"6774\",\"type\":\"ColumnDataSource\"},{\"attributes\":{\"line_color\":\"#fc4f30\",\"line_width\":2,\"x\":{\"field\":\"index\"},\"y\":{\"field\":\"value\"}},\"id\":\"6743\",\"type\":\"Line\"},{\"attributes\":{\"months\":[0,1,2,3,4,5,6,7,8,9,10,11]},\"id\":\"6731\",\"type\":\"MonthsTicker\"},{\"attributes\":{\"below\":[{\"id\":\"6680\"}],\"center\":[{\"id\":\"6683\"},{\"id\":\"6687\"}],\"height\":300,\"left\":[{\"id\":\"6684\"}],\"margin\":[5,5,5,5],\"min_border_bottom\":10,\"min_border_left\":10,\"min_border_right\":10,\"min_border_top\":10,\"renderers\":[{\"id\":\"6713\"},{\"id\":\"6746\"},{\"id\":\"6780\"},{\"id\":\"6816\"}],\"right\":[{\"id\":\"6737\"}],\"sizing_mode\":\"fixed\",\"title\":{\"id\":\"6672\"},\"toolbar\":{\"id\":\"6694\"},\"width\":700,\"x_range\":{\"id\":\"6665\"},\"x_scale\":{\"id\":\"6676\"},\"y_range\":{\"id\":\"6666\"},\"y_scale\":{\"id\":\"6678\"}},\"id\":\"6671\",\"subtype\":\"Figure\",\"type\":\"Plot\"},{\"attributes\":{\"data_source\":{\"id\":\"6774\"},\"glyph\":{\"id\":\"6777\"},\"hover_glyph\":null,\"muted_glyph\":{\"id\":\"6779\"},\"nonselection_glyph\":{\"id\":\"6778\"},\"selection_glyph\":{\"id\":\"6809\"},\"view\":{\"id\":\"6781\"}},\"id\":\"6780\",\"type\":\"GlyphRenderer\"},{\"attributes\":{\"label\":{\"value\":\"APPL\"},\"renderers\":[{\"id\":\"6713\"}]},\"id\":\"6738\",\"type\":\"LegendItem\"},{\"attributes\":{\"days\":[1,8,15,22]},\"id\":\"6729\",\"type\":\"DaysTicker\"},{\"attributes\":{\"end\":1519171200000.0,\"reset_end\":1519171200000.0,\"reset_start\":1514764800000.0,\"start\":1514764800000.0,\"tags\":[[[\"index\",\"index\",null]]]},\"id\":\"6665\",\"type\":\"Range1d\"},{\"attributes\":{\"line_alpha\":0.1,\"line_color\":\"#e5ae38\",\"line_width\":2,\"x\":{\"field\":\"index\"},\"y\":{\"field\":\"value\"}},\"id\":\"6778\",\"type\":\"Line\"},{\"attributes\":{\"days\":[1,15]},\"id\":\"6730\",\"type\":\"DaysTicker\"},{\"attributes\":{\"data_source\":{\"id\":\"6810\"},\"glyph\":{\"id\":\"6813\"},\"hover_glyph\":null,\"muted_glyph\":{\"id\":\"6815\"},\"nonselection_glyph\":{\"id\":\"6814\"},\"selection_glyph\":{\"id\":\"6847\"},\"view\":{\"id\":\"6817\"}},\"id\":\"6816\",\"type\":\"GlyphRenderer\"},{\"attributes\":{\"line_color\":\"#e5ae38\",\"line_width\":2,\"x\":{\"field\":\"index\"},\"y\":{\"field\":\"value\"}},\"id\":\"6809\",\"type\":\"Line\"},{\"attributes\":{\"data\":{\"Variable\":[\"GOGLE\",\"GOGLE\",\"GOGLE\",\"GOGLE\",\"GOGLE\",\"GOGLE\",\"GOGLE\",\"GOGLE\",\"GOGLE\",\"GOGLE\",\"GOGLE\",\"GOGLE\",\"GOGLE\",\"GOGLE\",\"GOGLE\",\"GOGLE\",\"GOGLE\",\"GOGLE\",\"GOGLE\",\"GOGLE\",\"GOGLE\",\"GOGLE\",\"GOGLE\",\"GOGLE\",\"GOGLE\",\"GOGLE\",\"GOGLE\",\"GOGLE\",\"GOGLE\",\"GOGLE\",\"GOGLE\",\"GOGLE\",\"GOGLE\",\"GOGLE\",\"GOGLE\",\"GOGLE\",\"GOGLE\",\"GOGLE\",\"GOGLE\",\"GOGLE\",\"GOGLE\",\"GOGLE\",\"GOGLE\",\"GOGLE\",\"GOGLE\",\"GOGLE\",\"GOGLE\",\"GOGLE\",\"GOGLE\",\"GOGLE\",\"GOGLE\",\"GOGLE\"],\"index\":{\"__ndarray__\":\"AAAASfAKdkIAAMCuQgt2QgAAgBSVC3ZCAABAeucLdkIAAADgOQx2QgAAwEWMDHZCAACAq94MdkIAAEARMQ12QgAAAHeDDXZCAADA3NUNdkIAAIBCKA52QgAAQKh6DnZCAAAADs0OdkIAAMBzHw92QgAAgNlxD3ZCAABAP8QPdkIAAAClFhB2QgAAwAppEHZCAACAcLsQdkIAAEDWDRF2QgAAADxgEXZCAADAobIRdkIAAIAHBRJ2QgAAQG1XEnZCAAAA06kSdkIAAMA4/BJ2QgAAgJ5OE3ZCAABABKETdkIAAABq8xN2QgAAwM9FFHZCAACANZgUdkIAAECb6hR2QgAAAAE9FXZCAADAZo8VdkIAAIDM4RV2QgAAQDI0FnZCAAAAmIYWdkIAAMD92BZ2QgAAgGMrF3ZCAABAyX0XdkIAAAAv0Bd2QgAAwJQiGHZCAACA+nQYdkIAAEBgxxh2QgAAAMYZGXZCAADAK2wZdkIAAICRvhl2QgAAQPcQGnZCAAAAXWMadkIAAMDCtRp2QgAAgCgIG3ZCAABAjlobdkI=\",\"dtype\":\"float64\",\"order\":\"little\",\"shape\":[52]},\"value\":{\"__ndarray__\":\"AAAAAAAA+H/cj+BNcKAEQF1DxlcB2eu/UPP3GTFQ8r+oDmFdnEtGwCXs0hp1w+S/u4ZTfhdvDMDcNrRWP1rNv9d7rxvcgvG/dM53kMjwKUCGLbr6XVcAwKpcsXZzPtu/4NU1TxB3/r8wQZxjmoPwv5ne8KRxO0DAfeOnCbbS879eScHKfYUawOCPRtjlk/Q/4DzzfBgAob9+QpTz/4HuvxTj9gIpRxRAaoc+I7E51L9wDUsljFT8vxbXeFV+Wvg/iQvCNgo//r8MmYCP4WXIv4jYbwIPswDAEPq8D5kxpr+15G6ioE70v8SUypiUXArAgDn/spe95b9mVRiLHRsQwAT1EapUH92/ScMnW4zC9b9BlmGrFNUowGo7ouR2eAjAVV6UFHN867+A7hW9JeryP3kbcgeGGgDA7yjUVqruAsAc/0frCSz8vyKQne6B5N2/buv2Ur/g97+BV0kGZVYJwOajqRAn0ghAUCV15hOEwb+NAwFKPMXuvyMshpHzsjVAB/kMjU+p979N6HKgrkj7v/R+xRWW1vI/nptEBZg9BcA=\",\"dtype\":\"float64\",\"order\":\"little\",\"shape\":[52]}},\"selected\":{\"id\":\"6741\"},\"selection_policy\":{\"id\":\"6757\"}},\"id\":\"6740\",\"type\":\"ColumnDataSource\"},{\"attributes\":{\"label\":{\"value\":\"BCOIN\"},\"renderers\":[{\"id\":\"6816\"}]},\"id\":\"6846\",\"type\":\"LegendItem\"},{\"attributes\":{\"line_color\":\"#30a2da\",\"line_width\":2,\"x\":{\"field\":\"index\"},\"y\":{\"field\":\"value\"}},\"id\":\"6739\",\"type\":\"Line\"},{\"attributes\":{\"line_alpha\":0.1,\"line_color\":\"#fc4f30\",\"line_width\":2,\"x\":{\"field\":\"index\"},\"y\":{\"field\":\"value\"}},\"id\":\"6744\",\"type\":\"Line\"},{\"attributes\":{\"line_alpha\":0.1,\"line_color\":\"#6d904f\",\"line_width\":2,\"x\":{\"field\":\"index\"},\"y\":{\"field\":\"value\"}},\"id\":\"6814\",\"type\":\"Line\"},{\"attributes\":{\"end\":172.82564297486994,\"reset_end\":172.82564297486994,\"reset_start\":-198.64889628667305,\"start\":-198.64889628667305,\"tags\":[[[\"value\",\"value\",null]]]},\"id\":\"6666\",\"type\":\"Range1d\"},{\"attributes\":{},\"id\":\"6688\",\"type\":\"SaveTool\"},{\"attributes\":{\"months\":[0,2,4,6,8,10]},\"id\":\"6732\",\"type\":\"MonthsTicker\"},{\"attributes\":{},\"id\":\"6689\",\"type\":\"PanTool\"},{\"attributes\":{},\"id\":\"6692\",\"type\":\"ResetTool\"},{\"attributes\":{\"children\":[{\"id\":\"6664\"},{\"id\":\"6671\"},{\"id\":\"7100\"}],\"margin\":[0,0,0,0],\"name\":\"Row09793\",\"tags\":[\"embedded\"]},\"id\":\"6663\",\"type\":\"Row\"},{\"attributes\":{},\"id\":\"6690\",\"type\":\"WheelZoomTool\"},{\"attributes\":{\"months\":[0,4,8]},\"id\":\"6733\",\"type\":\"MonthsTicker\"},{\"attributes\":{\"label\":{\"value\":\"GOGLE\"},\"renderers\":[{\"id\":\"6746\"}]},\"id\":\"6772\",\"type\":\"LegendItem\"},{\"attributes\":{\"overlay\":{\"id\":\"6693\"}},\"id\":\"6691\",\"type\":\"BoxZoomTool\"},{\"attributes\":{\"months\":[0,6]},\"id\":\"6734\",\"type\":\"MonthsTicker\"},{\"attributes\":{},\"id\":\"6703\",\"type\":\"AllLabels\"},{\"attributes\":{\"line_alpha\":0.2,\"line_color\":\"#30a2da\",\"line_width\":2,\"x\":{\"field\":\"index\"},\"y\":{\"field\":\"value\"}},\"id\":\"6712\",\"type\":\"Line\"},{\"attributes\":{\"margin\":[5,5,5,5],\"name\":\"HSpacer09797\",\"sizing_mode\":\"stretch_width\"},\"id\":\"6664\",\"type\":\"Spacer\"},{\"attributes\":{\"click_policy\":\"mute\",\"items\":[{\"id\":\"6738\"},{\"id\":\"6772\"},{\"id\":\"6808\"},{\"id\":\"6846\"}],\"location\":[0,0],\"title\":\"Variable\"},\"id\":\"6737\",\"type\":\"Legend\"},{\"attributes\":{\"line_alpha\":0.2,\"line_color\":\"#fc4f30\",\"line_width\":2,\"x\":{\"field\":\"index\"},\"y\":{\"field\":\"value\"}},\"id\":\"6745\",\"type\":\"Line\"},{\"attributes\":{\"data_source\":{\"id\":\"6707\"},\"glyph\":{\"id\":\"6710\"},\"hover_glyph\":null,\"muted_glyph\":{\"id\":\"6712\"},\"nonselection_glyph\":{\"id\":\"6711\"},\"selection_glyph\":{\"id\":\"6739\"},\"view\":{\"id\":\"6714\"}},\"id\":\"6713\",\"type\":\"GlyphRenderer\"},{\"attributes\":{},\"id\":\"6735\",\"type\":\"YearsTicker\"},{\"attributes\":{\"text_color\":\"black\",\"text_font_size\":\"12pt\"},\"id\":\"6672\",\"type\":\"Title\"},{\"attributes\":{\"label\":{\"value\":\"AMMD\"},\"renderers\":[{\"id\":\"6780\"}]},\"id\":\"6808\",\"type\":\"LegendItem\"},{\"attributes\":{\"line_alpha\":0.1,\"line_color\":\"#30a2da\",\"line_width\":2,\"x\":{\"field\":\"index\"},\"y\":{\"field\":\"value\"}},\"id\":\"6711\",\"type\":\"Line\"},{\"attributes\":{},\"id\":\"6705\",\"type\":\"BasicTickFormatter\"},{\"attributes\":{\"callback\":null,\"formatters\":{\"@{index}\":\"datetime\"},\"renderers\":[{\"id\":\"6713\"},{\"id\":\"6746\"},{\"id\":\"6780\"},{\"id\":\"6816\"}],\"tags\":[\"hv_created\"],\"tooltips\":[[\"Variable\",\"@{Variable}\"],[\"index\",\"@{index}{%F %T}\"],[\"value\",\"@{value}\"]]},\"id\":\"6667\",\"type\":\"HoverTool\"},{\"attributes\":{\"line_color\":\"#fc4f30\",\"line_width\":2,\"x\":{\"field\":\"index\"},\"y\":{\"field\":\"value\"}},\"id\":\"6773\",\"type\":\"Line\"},{\"attributes\":{},\"id\":\"6741\",\"type\":\"Selection\"},{\"attributes\":{\"bottom_units\":\"screen\",\"fill_alpha\":0.5,\"fill_color\":\"lightgrey\",\"left_units\":\"screen\",\"level\":\"overlay\",\"line_alpha\":1.0,\"line_color\":\"black\",\"line_dash\":[4,4],\"line_width\":2,\"right_units\":\"screen\",\"syncable\":false,\"top_units\":\"screen\"},\"id\":\"6693\",\"type\":\"BoxAnnotation\"},{\"attributes\":{},\"id\":\"6722\",\"type\":\"UnionRenderers\"}],\"root_ids\":[\"6663\"]},\"title\":\"Bokeh Application\",\"version\":\"2.3.2\"}};\n",
       "    var render_items = [{\"docid\":\"26c16403-5ee4-4853-8eb9-ebc740eccd65\",\"root_ids\":[\"6663\"],\"roots\":{\"6663\":\"1cd5a3ad-c9da-4177-b852-5ea6079a60cb\"}}];\n",
       "    root.Bokeh.embed.embed_items_notebook(docs_json, render_items);\n",
       "  }\n",
       "  if (root.Bokeh !== undefined && root.Bokeh.Panel !== undefined) {\n",
       "    embed_document(root);\n",
       "  } else {\n",
       "    var attempts = 0;\n",
       "    var timer = setInterval(function(root) {\n",
       "      if (root.Bokeh !== undefined && root.Bokeh.Panel !== undefined) {\n",
       "        clearInterval(timer);\n",
       "        embed_document(root);\n",
       "      } else if (document.readyState == \"complete\") {\n",
       "        attempts++;\n",
       "        if (attempts > 100) {\n",
       "          clearInterval(timer);\n",
       "          console.log(\"Bokeh: ERROR: Unable to run BokehJS code because BokehJS library is missing\");\n",
       "        }\n",
       "      }\n",
       "    }, 10, root)\n",
       "  }\n",
       "})(window);</script>"
      ],
      "text/plain": [
       ":NdOverlay   [Variable]\n",
       "   :Curve   [index]   (value)"
      ]
     },
     "execution_count": 49,
     "metadata": {
      "application/vnd.holoviews_exec.v0+json": {
       "id": "6663"
      }
     },
     "output_type": "execute_result"
    }
   ],
   "source": [
    "df.hvplot.line(xlabel='year', ylabel=\"Daily returns\")"
   ]
  },
  {
   "cell_type": "code",
   "execution_count": 50,
   "metadata": {},
   "outputs": [],
   "source": [
    "# Data Prep\n",
    "df = pd.DataFrame({\n",
    "        \"ticker\": [\"APPL\", \"GOGLE\", \"AMMD\", \"BCOIN\"],\n",
    "        \"daily_return\": (4.50, 10, 33.0, 55.25)})"
   ]
  },
  {
   "cell_type": "code",
   "execution_count": 51,
   "metadata": {},
   "outputs": [
    {
     "data": {},
     "metadata": {},
     "output_type": "display_data"
    },
    {
     "data": {
      "application/vnd.holoviews_exec.v0+json": "",
      "text/html": [
       "<div id='7242'>\n",
       "\n",
       "\n",
       "\n",
       "\n",
       "\n",
       "  <div class=\"bk-root\" id=\"25116591-f456-479f-bbda-000291f41614\" data-root-id=\"7242\"></div>\n",
       "</div>\n",
       "<script type=\"application/javascript\">(function(root) {\n",
       "  function embed_document(root) {\n",
       "    var docs_json = {\"708a42cc-bbf8-4ea1-913e-f8dfb42919ca\":{\"defs\":[],\"roots\":{\"references\":[{\"attributes\":{\"source\":{\"id\":\"7276\"}},\"id\":\"7283\",\"type\":\"CDSView\"},{\"attributes\":{\"axis\":{\"id\":\"7256\"},\"grid_line_color\":null,\"ticker\":null},\"id\":\"7258\",\"type\":\"Grid\"},{\"attributes\":{},\"id\":\"7289\",\"type\":\"BasicTickFormatter\"},{\"attributes\":{\"bottom\":{\"value\":0},\"fill_alpha\":{\"value\":1.0},\"fill_color\":{\"value\":\"#30a2da\"},\"hatch_alpha\":{\"value\":1.0},\"hatch_color\":{\"value\":\"black\"},\"hatch_scale\":{\"value\":12.0},\"hatch_weight\":{\"value\":1.0},\"line_alpha\":{\"value\":1.0},\"line_cap\":{\"value\":\"butt\"},\"line_color\":{\"value\":\"black\"},\"line_dash\":{\"value\":[]},\"line_dash_offset\":{\"value\":0},\"line_join\":{\"value\":\"bevel\"},\"line_width\":{\"value\":1},\"top\":{\"field\":\"daily_return\"},\"width\":{\"value\":0.8},\"x\":{\"field\":\"ticker\"}},\"id\":\"7284\",\"type\":\"VBar\"},{\"attributes\":{\"axis_label\":\"Tikcer\",\"formatter\":{\"id\":\"7287\"},\"major_label_orientation\":0.7853981633974483,\"major_label_policy\":{\"id\":\"7286\"},\"ticker\":{\"id\":\"7257\"}},\"id\":\"7256\",\"type\":\"CategoricalAxis\"},{\"attributes\":{},\"id\":\"7277\",\"type\":\"Selection\"},{\"attributes\":{},\"id\":\"7287\",\"type\":\"CategoricalTickFormatter\"},{\"attributes\":{},\"id\":\"7254\",\"type\":\"LinearScale\"},{\"attributes\":{\"callback\":null,\"renderers\":[{\"id\":\"7282\"}],\"tags\":[\"hv_created\"],\"tooltips\":[[\"ticker\",\"@{ticker}\"],[\"daily_return\",\"@{daily_return}\"]]},\"id\":\"7246\",\"type\":\"HoverTool\"},{\"attributes\":{},\"id\":\"7257\",\"type\":\"CategoricalTicker\"},{\"attributes\":{\"factors\":[\"APPL\",\"GOGLE\",\"AMMD\",\"BCOIN\"],\"tags\":[[[\"ticker\",\"ticker\",null]]]},\"id\":\"7244\",\"type\":\"FactorRange\"},{\"attributes\":{\"axis\":{\"id\":\"7259\"},\"dimension\":1,\"grid_line_color\":null,\"ticker\":null},\"id\":\"7262\",\"type\":\"Grid\"},{\"attributes\":{\"end\":60.325,\"reset_end\":60.325,\"reset_start\":0.0,\"tags\":[[[\"daily_return\",\"daily_return\",null]]]},\"id\":\"7245\",\"type\":\"Range1d\"},{\"attributes\":{},\"id\":\"7290\",\"type\":\"AllLabels\"},{\"attributes\":{\"margin\":[5,5,5,5],\"name\":\"HSpacer10486\",\"sizing_mode\":\"stretch_width\"},\"id\":\"7243\",\"type\":\"Spacer\"},{\"attributes\":{},\"id\":\"7260\",\"type\":\"BasicTicker\"},{\"attributes\":{\"axis_label\":\"Daily return\",\"formatter\":{\"id\":\"7289\"},\"major_label_policy\":{\"id\":\"7290\"},\"ticker\":{\"id\":\"7260\"}},\"id\":\"7259\",\"type\":\"LinearAxis\"},{\"attributes\":{\"active_multi\":null,\"tools\":[{\"id\":\"7246\"},{\"id\":\"7263\"},{\"id\":\"7264\"},{\"id\":\"7265\"},{\"id\":\"7266\"},{\"id\":\"7267\"}]},\"id\":\"7269\",\"type\":\"Toolbar\"},{\"attributes\":{\"fill_alpha\":{\"value\":0.1},\"fill_color\":{\"value\":\"#30a2da\"},\"line_alpha\":{\"value\":0.1},\"top\":{\"field\":\"daily_return\"},\"width\":{\"value\":0.8},\"x\":{\"field\":\"ticker\"}},\"id\":\"7280\",\"type\":\"VBar\"},{\"attributes\":{\"children\":[{\"id\":\"7243\"},{\"id\":\"7247\"},{\"id\":\"7311\"}],\"margin\":[0,0,0,0],\"name\":\"Row10482\",\"tags\":[\"embedded\"]},\"id\":\"7242\",\"type\":\"Row\"},{\"attributes\":{\"bottom_units\":\"screen\",\"fill_alpha\":0.5,\"fill_color\":\"lightgrey\",\"left_units\":\"screen\",\"level\":\"overlay\",\"line_alpha\":1.0,\"line_color\":\"black\",\"line_dash\":[4,4],\"line_width\":2,\"right_units\":\"screen\",\"syncable\":false,\"top_units\":\"screen\"},\"id\":\"7268\",\"type\":\"BoxAnnotation\"},{\"attributes\":{},\"id\":\"7298\",\"type\":\"UnionRenderers\"},{\"attributes\":{},\"id\":\"7286\",\"type\":\"AllLabels\"},{\"attributes\":{\"data_source\":{\"id\":\"7276\"},\"glyph\":{\"id\":\"7279\"},\"hover_glyph\":null,\"muted_glyph\":{\"id\":\"7281\"},\"nonselection_glyph\":{\"id\":\"7280\"},\"selection_glyph\":{\"id\":\"7284\"},\"view\":{\"id\":\"7283\"}},\"id\":\"7282\",\"type\":\"GlyphRenderer\"},{\"attributes\":{\"fill_alpha\":{\"value\":0.2},\"fill_color\":{\"value\":\"#30a2da\"},\"line_alpha\":{\"value\":0.2},\"top\":{\"field\":\"daily_return\"},\"width\":{\"value\":0.8},\"x\":{\"field\":\"ticker\"}},\"id\":\"7281\",\"type\":\"VBar\"},{\"attributes\":{\"below\":[{\"id\":\"7256\"}],\"center\":[{\"id\":\"7258\"},{\"id\":\"7262\"}],\"height\":300,\"left\":[{\"id\":\"7259\"}],\"margin\":[5,5,5,5],\"min_border_bottom\":10,\"min_border_left\":10,\"min_border_right\":10,\"min_border_top\":10,\"renderers\":[{\"id\":\"7282\"}],\"sizing_mode\":\"fixed\",\"title\":{\"id\":\"7248\"},\"toolbar\":{\"id\":\"7269\"},\"width\":700,\"x_range\":{\"id\":\"7244\"},\"x_scale\":{\"id\":\"7252\"},\"y_range\":{\"id\":\"7245\"},\"y_scale\":{\"id\":\"7254\"}},\"id\":\"7247\",\"subtype\":\"Figure\",\"type\":\"Plot\"},{\"attributes\":{\"text_color\":\"black\",\"text_font_size\":\"12pt\"},\"id\":\"7248\",\"type\":\"Title\"},{\"attributes\":{\"fill_color\":{\"value\":\"#30a2da\"},\"top\":{\"field\":\"daily_return\"},\"width\":{\"value\":0.8},\"x\":{\"field\":\"ticker\"}},\"id\":\"7279\",\"type\":\"VBar\"},{\"attributes\":{},\"id\":\"7263\",\"type\":\"SaveTool\"},{\"attributes\":{\"margin\":[5,5,5,5],\"name\":\"HSpacer10487\",\"sizing_mode\":\"stretch_width\"},\"id\":\"7311\",\"type\":\"Spacer\"},{\"attributes\":{},\"id\":\"7264\",\"type\":\"PanTool\"},{\"attributes\":{\"data\":{\"daily_return\":{\"__ndarray__\":\"AAAAAAAAEkAAAAAAAAAkQAAAAAAAgEBAAAAAAACgS0A=\",\"dtype\":\"float64\",\"order\":\"little\",\"shape\":[4]},\"ticker\":[\"APPL\",\"GOGLE\",\"AMMD\",\"BCOIN\"]},\"selected\":{\"id\":\"7277\"},\"selection_policy\":{\"id\":\"7298\"}},\"id\":\"7276\",\"type\":\"ColumnDataSource\"},{\"attributes\":{},\"id\":\"7267\",\"type\":\"ResetTool\"},{\"attributes\":{},\"id\":\"7265\",\"type\":\"WheelZoomTool\"},{\"attributes\":{},\"id\":\"7252\",\"type\":\"CategoricalScale\"},{\"attributes\":{\"overlay\":{\"id\":\"7268\"}},\"id\":\"7266\",\"type\":\"BoxZoomTool\"}],\"root_ids\":[\"7242\"]},\"title\":\"Bokeh Application\",\"version\":\"2.3.2\"}};\n",
       "    var render_items = [{\"docid\":\"708a42cc-bbf8-4ea1-913e-f8dfb42919ca\",\"root_ids\":[\"7242\"],\"roots\":{\"7242\":\"25116591-f456-479f-bbda-000291f41614\"}}];\n",
       "    root.Bokeh.embed.embed_items_notebook(docs_json, render_items);\n",
       "  }\n",
       "  if (root.Bokeh !== undefined && root.Bokeh.Panel !== undefined) {\n",
       "    embed_document(root);\n",
       "  } else {\n",
       "    var attempts = 0;\n",
       "    var timer = setInterval(function(root) {\n",
       "      if (root.Bokeh !== undefined && root.Bokeh.Panel !== undefined) {\n",
       "        clearInterval(timer);\n",
       "        embed_document(root);\n",
       "      } else if (document.readyState == \"complete\") {\n",
       "        attempts++;\n",
       "        if (attempts > 100) {\n",
       "          clearInterval(timer);\n",
       "          console.log(\"Bokeh: ERROR: Unable to run BokehJS code because BokehJS library is missing\");\n",
       "        }\n",
       "      }\n",
       "    }, 10, root)\n",
       "  }\n",
       "})(window);</script>"
      ],
      "text/plain": [
       ":Bars   [ticker]   (daily_return)"
      ]
     },
     "execution_count": 51,
     "metadata": {
      "application/vnd.holoviews_exec.v0+json": {
       "id": "7242"
      }
     },
     "output_type": "execute_result"
    }
   ],
   "source": [
    "df.hvplot.bar(x=\"ticker\",\n",
    "              y=\"daily_return\",\n",
    "              xlabel=\"Tikcer\",\n",
    "              ylabel=\"Daily return\",\n",
    "              rot=45)"
   ]
  }
 ],
 "metadata": {
  "kernelspec": {
   "display_name": "Python [conda env:pyvizenv] *",
   "language": "python",
   "name": "conda-env-pyvizenv-py"
  },
  "language_info": {
   "codemirror_mode": {
    "name": "ipython",
    "version": 3
   },
   "file_extension": ".py",
   "mimetype": "text/x-python",
   "name": "python",
   "nbconvert_exporter": "python",
   "pygments_lexer": "ipython3",
   "version": "3.7.10"
  }
 },
 "nbformat": 4,
 "nbformat_minor": 4
}
