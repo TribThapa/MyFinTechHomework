{
 "cells": [
  {
   "cell_type": "code",
   "execution_count": 1,
   "metadata": {},
   "outputs": [
    {
     "name": "stdout",
     "output_type": "stream",
     "text": [
      "something\n"
     ]
    }
   ],
   "source": [
    "if True:\n",
    "    # Do something\n",
    "    print(\"something\")\n",
    "else:\n",
    "    # Do something else\n",
    "    print(\"something else\")"
   ]
  },
  {
   "cell_type": "code",
   "execution_count": 4,
   "metadata": {},
   "outputs": [
    {
     "name": "stdout",
     "output_type": "stream",
     "text": [
      "Bring an umbrella\n"
     ]
    }
   ],
   "source": [
    "# Demonstrate the conditionals with the print statement\n",
    "is_raining = True\n",
    "\n",
    "if is_raining:\n",
    "    print(\"Bring an umbrella\")\n",
    "else:\n",
    "    print(\"Leave the umbrella at home!\")"
   ]
  },
  {
   "cell_type": "code",
   "execution_count": 7,
   "metadata": {},
   "outputs": [
    {
     "name": "stdout",
     "output_type": "stream",
     "text": [
      "x is equal to 1\n"
     ]
    }
   ],
   "source": [
    "# Demonstrate equality\n",
    "x = 1\n",
    "\n",
    "if x == 1:\n",
    "    print('x is equal to 1')\n",
    "else:\n",
    "    print('The valye of x is different to 1')"
   ]
  },
  {
   "cell_type": "code",
   "execution_count": 10,
   "metadata": {},
   "outputs": [
    {
     "name": "stdout",
     "output_type": "stream",
     "text": [
      "x is euqal to y\n"
     ]
    }
   ],
   "source": [
    "# Demonstrate using variables to store conditions\n",
    "x = 5\n",
    "y = 5\n",
    "\n",
    "if x == y:\n",
    "    print('x is euqal to y')\n",
    "else:\n",
    "    print('x and y have different values')"
   ]
  },
  {
   "cell_type": "code",
   "execution_count": 14,
   "metadata": {},
   "outputs": [
    {
     "name": "stdout",
     "output_type": "stream",
     "text": [
      "y is not equal to 1\n"
     ]
    }
   ],
   "source": [
    "# Check inequality\n",
    "y = 5\n",
    "\n",
    "if y != 1:\n",
    "    print('y is not equal to 1')\n",
    "else:\n",
    "    print('y is equal to 1')"
   ]
  },
  {
   "cell_type": "code",
   "execution_count": 38,
   "metadata": {},
   "outputs": [],
   "source": [
    "# Declare variables and values for evaluation\n",
    "x = 1\n",
    "y = 9"
   ]
  },
  {
   "cell_type": "code",
   "execution_count": 18,
   "metadata": {},
   "outputs": [
    {
     "name": "stdout",
     "output_type": "stream",
     "text": [
      "x is euqal to y\n"
     ]
    }
   ],
   "source": [
    "# Check if one values is equal to another\n",
    "if x == y:\n",
    "    print('x is euqal to y')\n",
    "else:\n",
    "    print('x and y have different values')"
   ]
  },
  {
   "cell_type": "code",
   "execution_count": 21,
   "metadata": {},
   "outputs": [
    {
     "name": "stdout",
     "output_type": "stream",
     "text": [
      "x is not euqal to y\n"
     ]
    }
   ],
   "source": [
    "#Check if one values is NOT EQUAL to another\n",
    "if x != y:\n",
    "    print('x is not equal to y')\n",
    "else:\n",
    "    print('x and y have equal value')"
   ]
  },
  {
   "cell_type": "code",
   "execution_count": 24,
   "metadata": {},
   "outputs": [
    {
     "name": "stdout",
     "output_type": "stream",
     "text": [
      "The value of x is greater than that of y\n"
     ]
    }
   ],
   "source": [
    "# Check if one values is less than another\n",
    "if x < y:\n",
    "    print('The value of x is less than that of y')\n",
    "else:\n",
    "    print('The value of x is greater than that of y')"
   ]
  },
  {
   "cell_type": "code",
   "execution_count": 27,
   "metadata": {},
   "outputs": [
    {
     "name": "stdout",
     "output_type": "stream",
     "text": [
      "The value of x is less than that of y\n"
     ]
    }
   ],
   "source": [
    "# Check if one values is greater than another\n",
    "\n",
    "if x > y:\n",
    "    print('The value of x is greater than that of y')\n",
    "else:\n",
    "    print('The value of x is less than that of y')\n"
   ]
  },
  {
   "cell_type": "code",
   "execution_count": 30,
   "metadata": {},
   "outputs": [
    {
     "name": "stdout",
     "output_type": "stream",
     "text": [
      "The value of y is less than that of x\n"
     ]
    }
   ],
   "source": [
    "# Check if a value is less than or equal to another\n",
    "if x <= y :\n",
    "    print('The value of x is less than or equal to that of y')\n",
    "else:\n",
    "    print('The value of y is less than that of x')"
   ]
  },
  {
   "cell_type": "code",
   "execution_count": 35,
   "metadata": {},
   "outputs": [
    {
     "name": "stdout",
     "output_type": "stream",
     "text": [
      "Both values returned true\n"
     ]
    }
   ],
   "source": [
    "#Check for two conditions to be met using 'and'\n",
    "if x == 1 and y == 10:\n",
    "    print('Both values returned true')\n",
    "else:\n",
    "    print('Both values returned false')\n"
   ]
  },
  {
   "cell_type": "code",
   "execution_count": 39,
   "metadata": {},
   "outputs": [
    {
     "name": "stdout",
     "output_type": "stream",
     "text": [
      "Both values returned true\n"
     ]
    }
   ],
   "source": [
    "#Check for two conditions to be met using 'and'\n",
    "if x == 1 and y < 10:\n",
    "    print('Both values returned true')\n",
    "else:\n",
    "    print('Both values returned false')"
   ]
  },
  {
   "cell_type": "code",
   "execution_count": 40,
   "metadata": {},
   "outputs": [
    {
     "name": "stdout",
     "output_type": "stream",
     "text": [
      "One or more of the statements are true\n"
     ]
    }
   ],
   "source": [
    "#Check either of the two conditions are met\n",
    "if x < 45 or y < 5:\n",
    "    print('One or more of the statements are true')"
   ]
  },
  {
   "cell_type": "code",
   "execution_count": 47,
   "metadata": {},
   "outputs": [
    {
     "name": "stdout",
     "output_type": "stream",
     "text": [
      "x is less than 10 and y is greater than 10\n"
     ]
    }
   ],
   "source": [
    "#Nested if statements:\n",
    "\n",
    "x = 1\n",
    "y = 50\n",
    "\n",
    "if x == 100:\n",
    "    if y < 5:\n",
    "        print('x is less than 10 and y is less than 5')\n",
    "    elif y == 5:\n",
    "        print('x is less than 10 but y is equal to 5')\n",
    "    else:\n",
    "        print('x is less than 10 and y is greater than 10')\n",
    "        "
   ]
  },
  {
   "cell_type": "code",
   "execution_count": 57,
   "metadata": {},
   "outputs": [
    {
     "name": "stdout",
     "output_type": "stream",
     "text": [
      "Insurance premium will increase. True or False?\n"
     ]
    }
   ],
   "source": [
    "# Nested if statements with insruance premium provider \n",
    "accident = True\n",
    "at_fault = True\n",
    "accident_forgiveness = False\n",
    "elite_status = False\n",
    "\n",
    "increase_insurance_premium = True\n",
    "print(\"Insurance premium will increase. True or False?\")"
   ]
  },
  {
   "cell_type": "code",
   "execution_count": 58,
   "metadata": {},
   "outputs": [
    {
     "name": "stdout",
     "output_type": "stream",
     "text": [
      "Prediction: True\n"
     ]
    }
   ],
   "source": [
    "# Nested conditional statements\n",
    "if accident:\n",
    "    if at_fault and accident_forgiveness:\n",
    "        increase_insurance_premium = False\n",
    "    elif at_fault and not accident_forgiveness and not elite_status:\n",
    "        increase_insurance_premium = True\n",
    "    else:\n",
    "        increase_insurance_premium = False\n",
    "elif not accident and elite_status:\n",
    "    increase_insurance_premium = False\n",
    "else:\n",
    "    increase_insurance_premium = True\n",
    "\n",
    "    \n",
    "print(f'Prediction: {increase_insurance_premium}')\n"
   ]
  },
  {
   "cell_type": "code",
   "execution_count": null,
   "metadata": {},
   "outputs": [],
   "source": []
  }
 ],
 "metadata": {
  "kernelspec": {
   "display_name": "Python 3",
   "language": "python",
   "name": "python3"
  },
  "language_info": {
   "codemirror_mode": {
    "name": "ipython",
    "version": 3
   },
   "file_extension": ".py",
   "mimetype": "text/x-python",
   "name": "python",
   "nbconvert_exporter": "python",
   "pygments_lexer": "ipython3",
   "version": "3.7.1"
  }
 },
 "nbformat": 4,
 "nbformat_minor": 2
}
