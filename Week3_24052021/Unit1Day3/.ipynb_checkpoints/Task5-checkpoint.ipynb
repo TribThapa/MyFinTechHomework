{
 "cells": [
  {
   "cell_type": "markdown",
   "metadata": {},
   "source": [
    "# Instructor Do: Sharpe Ratios\n",
    "\n",
    "### Import Libraries and Dependencies"
   ]
  },
  {
   "cell_type": "code",
   "execution_count": 30,
   "metadata": {},
   "outputs": [],
   "source": [
    "import pandas as pd\n",
    "import numpy as np\n",
    "from pathlib import Path\n",
    "\n",
    "%matplotlib inline"
   ]
  },
  {
   "cell_type": "markdown",
   "metadata": {},
   "source": [
    "### Read Data"
   ]
  },
  {
   "cell_type": "code",
   "execution_count": 31,
   "metadata": {},
   "outputs": [],
   "source": [
    "portfolio_a_path = Path(r\"C:\\Users\\TribThapa\\Desktop\\Thapa\\ResearchFellow\\Courses\\FinTech_Bootcamp_MonashUni2021\\monu-mel-virt-fin-pt-05-2021-u-c\\Activities\\Week 3\\3\\10-Ins_Sharpe_Ratios\\Resources\\tech_stocks_2018_a.csv\")\n",
    "portfolio_b_path = Path(r\"C:\\Users\\TribThapa\\Desktop\\Thapa\\ResearchFellow\\Courses\\FinTech_Bootcamp_MonashUni2021\\monu-mel-virt-fin-pt-05-2021-u-c\\Activities\\Week 3\\3\\10-Ins_Sharpe_Ratios\\Resources\\tech_stocks_2018_b.csv\")\n",
    "riskfreerate_path= Path(r\"C:\\Users\\TribThapa\\Desktop\\Thapa\\ResearchFellow\\Courses\\FinTech_Bootcamp_MonashUni2021\\monu-mel-virt-fin-pt-05-2021-u-c\\Activities\\Week 3\\3\\10-Ins_Sharpe_Ratios\\Resources\\risk_free_rate.csv\")\n",
    "\n",
    "portfolio_a = pd.read_csv(portfolio_a_path, index_col=\"Date\", parse_dates=True, infer_datetime_format=True)\n",
    "portfolio_b = pd.read_csv(portfolio_b_path, index_col=\"Date\", parse_dates=True, infer_datetime_format=True)\n",
    "risk_free_rate = pd.read_csv(riskfreerate_path, index_col='Date', parse_dates=True, infer_datetime_format=True)"
   ]
  },
  {
   "cell_type": "markdown",
   "metadata": {},
   "source": [
    "### Display Sample Data"
   ]
  },
  {
   "cell_type": "code",
   "execution_count": 32,
   "metadata": {},
   "outputs": [
    {
     "data": {
      "text/html": [
       "<div>\n",
       "<style scoped>\n",
       "    .dataframe tbody tr th:only-of-type {\n",
       "        vertical-align: middle;\n",
       "    }\n",
       "\n",
       "    .dataframe tbody tr th {\n",
       "        vertical-align: top;\n",
       "    }\n",
       "\n",
       "    .dataframe thead th {\n",
       "        text-align: right;\n",
       "    }\n",
       "</style>\n",
       "<table border=\"1\" class=\"dataframe\">\n",
       "  <thead>\n",
       "    <tr style=\"text-align: right;\">\n",
       "      <th></th>\n",
       "      <th>AAPL</th>\n",
       "      <th>MSFT</th>\n",
       "      <th>GOOG</th>\n",
       "      <th>FB</th>\n",
       "      <th>AMZN</th>\n",
       "    </tr>\n",
       "    <tr>\n",
       "      <th>Date</th>\n",
       "      <th></th>\n",
       "      <th></th>\n",
       "      <th></th>\n",
       "      <th></th>\n",
       "      <th></th>\n",
       "    </tr>\n",
       "  </thead>\n",
       "  <tbody>\n",
       "    <tr>\n",
       "      <th>2019-08-23</th>\n",
       "      <td>202.64</td>\n",
       "      <td>133.39</td>\n",
       "      <td>1151.29</td>\n",
       "      <td>177.75</td>\n",
       "      <td>1749.62</td>\n",
       "    </tr>\n",
       "    <tr>\n",
       "      <th>2019-08-22</th>\n",
       "      <td>212.46</td>\n",
       "      <td>137.78</td>\n",
       "      <td>1189.53</td>\n",
       "      <td>182.04</td>\n",
       "      <td>1805.60</td>\n",
       "    </tr>\n",
       "    <tr>\n",
       "      <th>2019-08-21</th>\n",
       "      <td>212.64</td>\n",
       "      <td>138.79</td>\n",
       "      <td>1191.25</td>\n",
       "      <td>183.55</td>\n",
       "      <td>1823.54</td>\n",
       "    </tr>\n",
       "    <tr>\n",
       "      <th>2019-08-20</th>\n",
       "      <td>210.36</td>\n",
       "      <td>137.26</td>\n",
       "      <td>1182.69</td>\n",
       "      <td>183.81</td>\n",
       "      <td>1801.38</td>\n",
       "    </tr>\n",
       "    <tr>\n",
       "      <th>2019-08-19</th>\n",
       "      <td>210.35</td>\n",
       "      <td>138.41</td>\n",
       "      <td>1198.45</td>\n",
       "      <td>186.17</td>\n",
       "      <td>1816.12</td>\n",
       "    </tr>\n",
       "  </tbody>\n",
       "</table>\n",
       "</div>"
      ],
      "text/plain": [
       "              AAPL    MSFT     GOOG      FB     AMZN\n",
       "Date                                                \n",
       "2019-08-23  202.64  133.39  1151.29  177.75  1749.62\n",
       "2019-08-22  212.46  137.78  1189.53  182.04  1805.60\n",
       "2019-08-21  212.64  138.79  1191.25  183.55  1823.54\n",
       "2019-08-20  210.36  137.26  1182.69  183.81  1801.38\n",
       "2019-08-19  210.35  138.41  1198.45  186.17  1816.12"
      ]
     },
     "execution_count": 32,
     "metadata": {},
     "output_type": "execute_result"
    }
   ],
   "source": [
    "portfolio_a.head()"
   ]
  },
  {
   "cell_type": "code",
   "execution_count": 33,
   "metadata": {},
   "outputs": [
    {
     "data": {
      "text/html": [
       "<div>\n",
       "<style scoped>\n",
       "    .dataframe tbody tr th:only-of-type {\n",
       "        vertical-align: middle;\n",
       "    }\n",
       "\n",
       "    .dataframe tbody tr th {\n",
       "        vertical-align: top;\n",
       "    }\n",
       "\n",
       "    .dataframe thead th {\n",
       "        text-align: right;\n",
       "    }\n",
       "</style>\n",
       "<table border=\"1\" class=\"dataframe\">\n",
       "  <thead>\n",
       "    <tr style=\"text-align: right;\">\n",
       "      <th></th>\n",
       "      <th>SNE</th>\n",
       "      <th>AMD</th>\n",
       "      <th>TWTR</th>\n",
       "      <th>IBM</th>\n",
       "      <th>MU</th>\n",
       "    </tr>\n",
       "    <tr>\n",
       "      <th>Date</th>\n",
       "      <th></th>\n",
       "      <th></th>\n",
       "      <th></th>\n",
       "      <th></th>\n",
       "      <th></th>\n",
       "    </tr>\n",
       "  </thead>\n",
       "  <tbody>\n",
       "    <tr>\n",
       "      <th>2019-08-23</th>\n",
       "      <td>202.64</td>\n",
       "      <td>133.39</td>\n",
       "      <td>1151.29</td>\n",
       "      <td>177.75</td>\n",
       "      <td>42.96</td>\n",
       "    </tr>\n",
       "    <tr>\n",
       "      <th>2019-08-22</th>\n",
       "      <td>54.77</td>\n",
       "      <td>31.90</td>\n",
       "      <td>42.18</td>\n",
       "      <td>134.32</td>\n",
       "      <td>44.78</td>\n",
       "    </tr>\n",
       "    <tr>\n",
       "      <th>2019-08-21</th>\n",
       "      <td>56.65</td>\n",
       "      <td>31.70</td>\n",
       "      <td>42.80</td>\n",
       "      <td>134.25</td>\n",
       "      <td>44.17</td>\n",
       "    </tr>\n",
       "    <tr>\n",
       "      <th>2019-08-20</th>\n",
       "      <td>55.66</td>\n",
       "      <td>30.72</td>\n",
       "      <td>42.29</td>\n",
       "      <td>133.00</td>\n",
       "      <td>44.23</td>\n",
       "    </tr>\n",
       "    <tr>\n",
       "      <th>2019-08-19</th>\n",
       "      <td>55.72</td>\n",
       "      <td>31.48</td>\n",
       "      <td>41.70</td>\n",
       "      <td>135.04</td>\n",
       "      <td>45.01</td>\n",
       "    </tr>\n",
       "  </tbody>\n",
       "</table>\n",
       "</div>"
      ],
      "text/plain": [
       "               SNE     AMD     TWTR     IBM     MU\n",
       "Date                                              \n",
       "2019-08-23  202.64  133.39  1151.29  177.75  42.96\n",
       "2019-08-22   54.77   31.90    42.18  134.32  44.78\n",
       "2019-08-21   56.65   31.70    42.80  134.25  44.17\n",
       "2019-08-20   55.66   30.72    42.29  133.00  44.23\n",
       "2019-08-19   55.72   31.48    41.70  135.04  45.01"
      ]
     },
     "execution_count": 33,
     "metadata": {},
     "output_type": "execute_result"
    }
   ],
   "source": [
    "portfolio_b.head()"
   ]
  },
  {
   "cell_type": "markdown",
   "metadata": {},
   "source": [
    "### Calculate Annualized Std Dev"
   ]
  },
  {
   "cell_type": "code",
   "execution_count": 34,
   "metadata": {},
   "outputs": [],
   "source": [
    "# Calculate daily returns\n",
    "daily_returns_portfolio_a = portfolio_a.pct_change().dropna()\n",
    "daily_returns_portfolio_b = portfolio_b.pct_change().dropna()"
   ]
  },
  {
   "cell_type": "code",
   "execution_count": 35,
   "metadata": {},
   "outputs": [],
   "source": [
    "daily_returns_portfolio_a_sd = daily_returns_portfolio_a.std()\n",
    "daily_returns_portfolio_b_sd = daily_returns_portfolio_b.std()"
   ]
  },
  {
   "cell_type": "code",
   "execution_count": 36,
   "metadata": {},
   "outputs": [],
   "source": [
    "annualised_portfolio_a = daily_returns_portfolio_a_sd * np.sqrt(252)\n",
    "annualised_portfolio_b = daily_returns_portfolio_b_sd * np.sqrt(252)"
   ]
  },
  {
   "cell_type": "code",
   "execution_count": 37,
   "metadata": {},
   "outputs": [
    {
     "data": {
      "text/plain": [
       "AAPL    0.325024\n",
       "MSFT    0.268894\n",
       "GOOG    0.292822\n",
       "FB      0.333166\n",
       "AMZN    0.357235\n",
       "dtype: float64"
      ]
     },
     "execution_count": 37,
     "metadata": {},
     "output_type": "execute_result"
    }
   ],
   "source": [
    "annualised_portfolio_a"
   ]
  },
  {
   "cell_type": "code",
   "execution_count": 38,
   "metadata": {},
   "outputs": [
    {
     "data": {
      "text/plain": [
       "SNE     0.794742\n",
       "AMD     1.030402\n",
       "TWTR    1.071151\n",
       "IBM     0.347615\n",
       "MU      0.480622\n",
       "dtype: float64"
      ]
     },
     "execution_count": 38,
     "metadata": {},
     "output_type": "execute_result"
    }
   ],
   "source": [
    "annualised_portfolio_b"
   ]
  },
  {
   "cell_type": "code",
   "execution_count": 39,
   "metadata": {},
   "outputs": [
    {
     "data": {
      "text/html": [
       "<div>\n",
       "<style scoped>\n",
       "    .dataframe tbody tr th:only-of-type {\n",
       "        vertical-align: middle;\n",
       "    }\n",
       "\n",
       "    .dataframe tbody tr th {\n",
       "        vertical-align: top;\n",
       "    }\n",
       "\n",
       "    .dataframe thead th {\n",
       "        text-align: right;\n",
       "    }\n",
       "</style>\n",
       "<table border=\"1\" class=\"dataframe\">\n",
       "  <thead>\n",
       "    <tr style=\"text-align: right;\">\n",
       "      <th></th>\n",
       "      <th>AAPL</th>\n",
       "      <th>MSFT</th>\n",
       "      <th>GOOG</th>\n",
       "      <th>FB</th>\n",
       "      <th>AMZN</th>\n",
       "      <th>SNE</th>\n",
       "      <th>AMD</th>\n",
       "      <th>TWTR</th>\n",
       "      <th>IBM</th>\n",
       "      <th>MU</th>\n",
       "      <th>rf_rate</th>\n",
       "    </tr>\n",
       "    <tr>\n",
       "      <th>Date</th>\n",
       "      <th></th>\n",
       "      <th></th>\n",
       "      <th></th>\n",
       "      <th></th>\n",
       "      <th></th>\n",
       "      <th></th>\n",
       "      <th></th>\n",
       "      <th></th>\n",
       "      <th></th>\n",
       "      <th></th>\n",
       "      <th></th>\n",
       "    </tr>\n",
       "  </thead>\n",
       "  <tbody>\n",
       "    <tr>\n",
       "      <th>2019-08-22</th>\n",
       "      <td>0.048460</td>\n",
       "      <td>0.032911</td>\n",
       "      <td>0.033215</td>\n",
       "      <td>0.024135</td>\n",
       "      <td>0.031996</td>\n",
       "      <td>-0.729718</td>\n",
       "      <td>-0.760852</td>\n",
       "      <td>-0.963363</td>\n",
       "      <td>-0.244332</td>\n",
       "      <td>0.042365</td>\n",
       "      <td>0.000218</td>\n",
       "    </tr>\n",
       "    <tr>\n",
       "      <th>2019-08-21</th>\n",
       "      <td>0.000847</td>\n",
       "      <td>0.007331</td>\n",
       "      <td>0.001446</td>\n",
       "      <td>0.008295</td>\n",
       "      <td>0.009936</td>\n",
       "      <td>0.034325</td>\n",
       "      <td>-0.006270</td>\n",
       "      <td>0.014699</td>\n",
       "      <td>-0.000521</td>\n",
       "      <td>-0.013622</td>\n",
       "      <td>0.000214</td>\n",
       "    </tr>\n",
       "    <tr>\n",
       "      <th>2019-08-20</th>\n",
       "      <td>-0.010722</td>\n",
       "      <td>-0.011024</td>\n",
       "      <td>-0.007186</td>\n",
       "      <td>0.001417</td>\n",
       "      <td>-0.012152</td>\n",
       "      <td>-0.017476</td>\n",
       "      <td>-0.030915</td>\n",
       "      <td>-0.011916</td>\n",
       "      <td>-0.009311</td>\n",
       "      <td>0.001358</td>\n",
       "      <td>0.000211</td>\n",
       "    </tr>\n",
       "    <tr>\n",
       "      <th>2019-08-19</th>\n",
       "      <td>-0.000048</td>\n",
       "      <td>0.008378</td>\n",
       "      <td>0.013326</td>\n",
       "      <td>0.012839</td>\n",
       "      <td>0.008183</td>\n",
       "      <td>0.001078</td>\n",
       "      <td>0.024740</td>\n",
       "      <td>-0.013951</td>\n",
       "      <td>0.015338</td>\n",
       "      <td>0.017635</td>\n",
       "      <td>0.000211</td>\n",
       "    </tr>\n",
       "    <tr>\n",
       "      <th>2019-08-16</th>\n",
       "      <td>-0.018303</td>\n",
       "      <td>-0.016473</td>\n",
       "      <td>-0.017397</td>\n",
       "      <td>-0.013267</td>\n",
       "      <td>-0.012967</td>\n",
       "      <td>0.000179</td>\n",
       "      <td>-0.009530</td>\n",
       "      <td>-0.026859</td>\n",
       "      <td>-0.009479</td>\n",
       "      <td>-0.032437</td>\n",
       "      <td>0.000203</td>\n",
       "    </tr>\n",
       "    <tr>\n",
       "      <th>...</th>\n",
       "      <td>...</td>\n",
       "      <td>...</td>\n",
       "      <td>...</td>\n",
       "      <td>...</td>\n",
       "      <td>...</td>\n",
       "      <td>...</td>\n",
       "      <td>...</td>\n",
       "      <td>...</td>\n",
       "      <td>...</td>\n",
       "      <td>...</td>\n",
       "      <td>...</td>\n",
       "    </tr>\n",
       "    <tr>\n",
       "      <th>2018-08-28</th>\n",
       "      <td>-0.014710</td>\n",
       "      <td>-0.015711</td>\n",
       "      <td>-0.014528</td>\n",
       "      <td>0.002047</td>\n",
       "      <td>-0.032671</td>\n",
       "      <td>-0.022779</td>\n",
       "      <td>-0.005952</td>\n",
       "      <td>0.003960</td>\n",
       "      <td>-0.006439</td>\n",
       "      <td>0.009840</td>\n",
       "      <td>0.000232</td>\n",
       "    </tr>\n",
       "    <tr>\n",
       "      <th>2018-08-27</th>\n",
       "      <td>-0.008011</td>\n",
       "      <td>-0.005986</td>\n",
       "      <td>0.008667</td>\n",
       "      <td>0.006808</td>\n",
       "      <td>-0.002659</td>\n",
       "      <td>0.004483</td>\n",
       "      <td>0.008383</td>\n",
       "      <td>0.011271</td>\n",
       "      <td>0.000682</td>\n",
       "      <td>-0.005159</td>\n",
       "      <td>0.000231</td>\n",
       "    </tr>\n",
       "    <tr>\n",
       "      <th>2018-08-24</th>\n",
       "      <td>-0.008167</td>\n",
       "      <td>-0.010949</td>\n",
       "      <td>-0.017048</td>\n",
       "      <td>-0.015863</td>\n",
       "      <td>-0.011563</td>\n",
       "      <td>-0.026419</td>\n",
       "      <td>-0.050673</td>\n",
       "      <td>-0.044859</td>\n",
       "      <td>-0.004431</td>\n",
       "      <td>-0.026311</td>\n",
       "      <td>0.000228</td>\n",
       "    </tr>\n",
       "    <tr>\n",
       "      <th>2018-08-23</th>\n",
       "      <td>-0.003100</td>\n",
       "      <td>-0.007749</td>\n",
       "      <td>-0.012510</td>\n",
       "      <td>-0.009992</td>\n",
       "      <td>-0.001307</td>\n",
       "      <td>-0.002384</td>\n",
       "      <td>-0.070475</td>\n",
       "      <td>-0.011669</td>\n",
       "      <td>-0.004588</td>\n",
       "      <td>-0.019724</td>\n",
       "      <td>0.000227</td>\n",
       "    </tr>\n",
       "    <tr>\n",
       "      <th>2018-08-22</th>\n",
       "      <td>-0.002042</td>\n",
       "      <td>-0.004649</td>\n",
       "      <td>0.001618</td>\n",
       "      <td>0.004280</td>\n",
       "      <td>0.001051</td>\n",
       "      <td>0.003860</td>\n",
       "      <td>-0.062360</td>\n",
       "      <td>-0.002066</td>\n",
       "      <td>-0.000894</td>\n",
       "      <td>0.010865</td>\n",
       "      <td>0.000228</td>\n",
       "    </tr>\n",
       "  </tbody>\n",
       "</table>\n",
       "<p>250 rows × 11 columns</p>\n",
       "</div>"
      ],
      "text/plain": [
       "                AAPL      MSFT      GOOG        FB      AMZN       SNE  \\\n",
       "Date                                                                     \n",
       "2019-08-22  0.048460  0.032911  0.033215  0.024135  0.031996 -0.729718   \n",
       "2019-08-21  0.000847  0.007331  0.001446  0.008295  0.009936  0.034325   \n",
       "2019-08-20 -0.010722 -0.011024 -0.007186  0.001417 -0.012152 -0.017476   \n",
       "2019-08-19 -0.000048  0.008378  0.013326  0.012839  0.008183  0.001078   \n",
       "2019-08-16 -0.018303 -0.016473 -0.017397 -0.013267 -0.012967  0.000179   \n",
       "...              ...       ...       ...       ...       ...       ...   \n",
       "2018-08-28 -0.014710 -0.015711 -0.014528  0.002047 -0.032671 -0.022779   \n",
       "2018-08-27 -0.008011 -0.005986  0.008667  0.006808 -0.002659  0.004483   \n",
       "2018-08-24 -0.008167 -0.010949 -0.017048 -0.015863 -0.011563 -0.026419   \n",
       "2018-08-23 -0.003100 -0.007749 -0.012510 -0.009992 -0.001307 -0.002384   \n",
       "2018-08-22 -0.002042 -0.004649  0.001618  0.004280  0.001051  0.003860   \n",
       "\n",
       "                 AMD      TWTR       IBM        MU   rf_rate  \n",
       "Date                                                          \n",
       "2019-08-22 -0.760852 -0.963363 -0.244332  0.042365  0.000218  \n",
       "2019-08-21 -0.006270  0.014699 -0.000521 -0.013622  0.000214  \n",
       "2019-08-20 -0.030915 -0.011916 -0.009311  0.001358  0.000211  \n",
       "2019-08-19  0.024740 -0.013951  0.015338  0.017635  0.000211  \n",
       "2019-08-16 -0.009530 -0.026859 -0.009479 -0.032437  0.000203  \n",
       "...              ...       ...       ...       ...       ...  \n",
       "2018-08-28 -0.005952  0.003960 -0.006439  0.009840  0.000232  \n",
       "2018-08-27  0.008383  0.011271  0.000682 -0.005159  0.000231  \n",
       "2018-08-24 -0.050673 -0.044859 -0.004431 -0.026311  0.000228  \n",
       "2018-08-23 -0.070475 -0.011669 -0.004588 -0.019724  0.000227  \n",
       "2018-08-22 -0.062360 -0.002066 -0.000894  0.010865  0.000228  \n",
       "\n",
       "[250 rows x 11 columns]"
      ]
     },
     "execution_count": 39,
     "metadata": {},
     "output_type": "execute_result"
    }
   ],
   "source": [
    "# Concatenate returns and risk-free rate into one DataFrame\n",
    "cat_retrn_risk = pd.concat([daily_returns_portfolio_a, daily_returns_portfolio_b, risk_free_rate], axis='columns', join='inner')\n",
    "cat_retrn_risk"
   ]
  },
  {
   "cell_type": "code",
   "execution_count": 40,
   "metadata": {},
   "outputs": [
    {
     "data": {
      "text/plain": [
       "AAPL       0.161304\n",
       "MSFT      -0.872791\n",
       "GOOG       0.054654\n",
       "FB        -0.068155\n",
       "AMZN       0.239453\n",
       "SNE       -0.930438\n",
       "AMD       -0.923004\n",
       "TWTR      -1.026140\n",
       "IBM       -0.598469\n",
       "MU         0.419254\n",
       "rf_rate    0.000000\n",
       "dtype: float64"
      ]
     },
     "execution_count": 40,
     "metadata": {},
     "output_type": "execute_result"
    }
   ],
   "source": [
    "# Calculate Sharpe Ratio\n",
    "sharpe_ratio = ((cat_retrn_risk.mean() - cat_retrn_risk['rf_rate'].mean())*252) / (cat_retrn_risk.std() * np.sqrt(252))\n",
    "sharpe_ratio"
   ]
  },
  {
   "cell_type": "markdown",
   "metadata": {},
   "source": [
    "### Plot sharpe ratios"
   ]
  },
  {
   "cell_type": "code",
   "execution_count": 41,
   "metadata": {},
   "outputs": [
    {
     "data": {
      "text/plain": [
       "<matplotlib.axes._subplots.AxesSubplot at 0x22bc7d3ea20>"
      ]
     },
     "execution_count": 41,
     "metadata": {},
     "output_type": "execute_result"
    },
    {
     "data": {
      "image/png": "[encoded data removed]",
      "text/plain": [
       "<Figure size 432x288 with 1 Axes>"
      ]
     },
     "metadata": {
      "needs_background": "light"
     },
     "output_type": "display_data"
    }
   ],
   "source": [
    "# Plot sharpe ratios \n",
    "sharpe_ratio.plot()"
   ]
  },
  {
   "cell_type": "code",
   "execution_count": 44,
   "metadata": {},
   "outputs": [
    {
     "data": {
      "text/plain": [
       "<matplotlib.axes._subplots.AxesSubplot at 0x22bc62c9b00>"
      ]
     },
     "execution_count": 44,
     "metadata": {},
     "output_type": "execute_result"
    },
    {
     "data": {
      "image/png": "[encoded data removed]",
      "text/plain": [
       "<Figure size 432x288 with 1 Axes>"
      ]
     },
     "metadata": {
      "needs_background": "light"
     },
     "output_type": "display_data"
    }
   ],
   "source": [
    "sharpe_ratio.plot(kind='bar', title='Sharpe Ratios', color='red')"
   ]
  },
  {
   "cell_type": "code",
   "execution_count": null,
   "metadata": {},
   "outputs": [],
   "source": []
  }
 ],
 "metadata": {
  "kernelspec": {
   "display_name": "Python 3",
   "language": "python",
   "name": "python3"
  },
  "language_info": {
   "codemirror_mode": {
    "name": "ipython",
    "version": 3
   },
   "file_extension": ".py",
   "mimetype": "text/x-python",
   "name": "python",
   "nbconvert_exporter": "python",
   "pygments_lexer": "ipython3",
   "version": "3.7.1"
  }
 },
 "nbformat": 4,
 "nbformat_minor": 4
}
