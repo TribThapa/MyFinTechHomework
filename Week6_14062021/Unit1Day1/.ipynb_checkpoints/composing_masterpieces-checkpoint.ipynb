{
 "cells": [
  {
   "cell_type": "markdown",
   "metadata": {},
   "source": [
    "# Composing Masterpieces"
   ]
  },
  {
   "cell_type": "markdown",
   "metadata": {},
   "source": [
    "You've been offered the opportunity to interview with REMAX, an international real estate company. The interview is for a Data Analyst role, which requires both development and visualization skills. All applicants are required to present a portfolio upon interview. You currently do not have a portfolio, so use the provided state loan data to come up with some snazzy visualizations to showcase in the interview."
   ]
  },
  {
   "cell_type": "code",
   "execution_count": 50,
   "metadata": {},
   "outputs": [],
   "source": [
    "import pandas as pd\n",
    "import hvplot.pandas\n",
    "from pathlib import Path"
   ]
  },
  {
   "cell_type": "markdown",
   "metadata": {},
   "source": [
    "### Prep the data"
   ]
  },
  {
   "cell_type": "code",
   "execution_count": 51,
   "metadata": {},
   "outputs": [
    {
     "data": {
      "text/html": [
       "<div>\n",
       "<style scoped>\n",
       "    .dataframe tbody tr th:only-of-type {\n",
       "        vertical-align: middle;\n",
       "    }\n",
       "\n",
       "    .dataframe tbody tr th {\n",
       "        vertical-align: top;\n",
       "    }\n",
       "\n",
       "    .dataframe thead th {\n",
       "        text-align: right;\n",
       "    }\n",
       "</style>\n",
       "<table border=\"1\" class=\"dataframe\">\n",
       "  <thead>\n",
       "    <tr style=\"text-align: right;\">\n",
       "      <th></th>\n",
       "      <th>Total Active Loans</th>\n",
       "      <th>Total Average Loan Amount</th>\n",
       "      <th>2015 - 2016</th>\n",
       "      <th>2010 - 2014</th>\n",
       "      <th>Self Help Loan</th>\n",
       "      <th>Leveraged Loan</th>\n",
       "    </tr>\n",
       "    <tr>\n",
       "      <th>State Code</th>\n",
       "      <th></th>\n",
       "      <th></th>\n",
       "      <th></th>\n",
       "      <th></th>\n",
       "      <th></th>\n",
       "      <th></th>\n",
       "    </tr>\n",
       "  </thead>\n",
       "  <tbody>\n",
       "    <tr>\n",
       "      <th>AK</th>\n",
       "      <td>897</td>\n",
       "      <td>148811.39</td>\n",
       "      <td>189583.49</td>\n",
       "      <td>172371.39</td>\n",
       "      <td>96</td>\n",
       "      <td>450</td>\n",
       "    </tr>\n",
       "    <tr>\n",
       "      <th>AL</th>\n",
       "      <td>7455</td>\n",
       "      <td>435054.53</td>\n",
       "      <td>686066.79</td>\n",
       "      <td>648663.44</td>\n",
       "      <td>18</td>\n",
       "      <td>605</td>\n",
       "    </tr>\n",
       "    <tr>\n",
       "      <th>AR</th>\n",
       "      <td>6186</td>\n",
       "      <td>263212.27</td>\n",
       "      <td>355445.70</td>\n",
       "      <td>351562.42</td>\n",
       "      <td>861</td>\n",
       "      <td>567</td>\n",
       "    </tr>\n",
       "    <tr>\n",
       "      <th>AZ</th>\n",
       "      <td>3982</td>\n",
       "      <td>597591.94</td>\n",
       "      <td>507532.91</td>\n",
       "      <td>599688.64</td>\n",
       "      <td>1718</td>\n",
       "      <td>1057</td>\n",
       "    </tr>\n",
       "    <tr>\n",
       "      <th>CA</th>\n",
       "      <td>8875</td>\n",
       "      <td>2805653.85</td>\n",
       "      <td>3008866.40</td>\n",
       "      <td>2881741.23</td>\n",
       "      <td>4134</td>\n",
       "      <td>2231</td>\n",
       "    </tr>\n",
       "  </tbody>\n",
       "</table>\n",
       "</div>"
      ],
      "text/plain": [
       "            Total Active Loans  Total Average Loan Amount  2015 - 2016  \\\n",
       "State Code                                                               \n",
       "AK                         897                  148811.39    189583.49   \n",
       "AL                        7455                  435054.53    686066.79   \n",
       "AR                        6186                  263212.27    355445.70   \n",
       "AZ                        3982                  597591.94    507532.91   \n",
       "CA                        8875                 2805653.85   3008866.40   \n",
       "\n",
       "            2010 - 2014  Self Help Loan  Leveraged Loan  \n",
       "State Code                                               \n",
       "AK            172371.39              96             450  \n",
       "AL            648663.44              18             605  \n",
       "AR            351562.42             861             567  \n",
       "AZ            599688.64            1718            1057  \n",
       "CA           2881741.23            4134            2231  "
      ]
     },
     "execution_count": 51,
     "metadata": {},
     "output_type": "execute_result"
    }
   ],
   "source": [
    "# Read in loan data\n",
    "loan_data = pd.read_csv(r\"C:\\Users\\TribThapa\\Desktop\\Thapa\\ResearchFellow\\Courses\\FinTech_Bootcamp_MonashUni2021\\monu-mel-virt-fin-pt-05-2021-u-c\\Activities\\Week 6\\1\\06-Stu_Composing_Masterpieces\\Resources\\state_loan_data.csv\")\n",
    "\n",
    "# Group data by state for state-level analysis\n",
    "loan_data = loan_data.groupby('State Code').sum()\n",
    "loan_data.head()"
   ]
  },
  {
   "cell_type": "markdown",
   "metadata": {},
   "source": [
    "### Plot Total Average Loan Amount"
   ]
  },
  {
   "cell_type": "code",
   "execution_count": 52,
   "metadata": {},
   "outputs": [
    {
     "data": {},
     "metadata": {},
     "output_type": "display_data"
    },
    {
     "data": {
      "application/vnd.holoviews_exec.v0+json": "",
      "text/html": [
       "<div id='7201'>\n",
       "\n",
       "\n",
       "\n",
       "\n",
       "\n",
       "  <div class=\"bk-root\" id=\"619ceea2-17a3-4afe-90ed-09d91db3419e\" data-root-id=\"7201\"></div>\n",
       "</div>\n",
       "<script type=\"application/javascript\">(function(root) {\n",
       "  function embed_document(root) {\n",
       "    var docs_json = {\"1292a52c-da71-4da4-93d8-cff279b02cdb\":{\"defs\":[],\"roots\":{\"references\":[{\"attributes\":{\"line_alpha\":0.1,\"line_color\":\"#30a2da\",\"line_width\":2,\"x\":{\"field\":\"State Code\"},\"y\":{\"field\":\"Total Average Loan Amount\"}},\"id\":\"7239\",\"type\":\"Line\"},{\"attributes\":{},\"id\":\"7216\",\"type\":\"CategoricalTicker\"},{\"attributes\":{\"factors\":[\"AK\",\"AL\",\"AR\",\"AZ\",\"CA\",\"CO\",\"CT\",\"DE\",\"FL\",\"GA\",\"GU\",\"HI\",\"IA\",\"ID\",\"IL\",\"IN\",\"KS\",\"KY\",\"LA\",\"MA\",\"MD\",\"ME\",\"MI\",\"MN\",\"MO\",\"MP\",\"MS\",\"MT\",\"NC\",\"ND\",\"NE\",\"NH\",\"NJ\",\"NM\",\"NV\",\"NY\",\"OH\",\"OK\",\"OR\",\"PA\",\"PR\",\"RI\",\"SC\",\"SD\",\"TN\",\"TX\",\"UT\",\"VA\",\"VI\",\"VT\",\"WA\",\"WI\",\"WV\",\"WY\"],\"tags\":[[[\"State Code\",\"State Code\",null]]]},\"id\":\"7203\",\"type\":\"FactorRange\"},{\"attributes\":{\"text_color\":\"black\",\"text_font_size\":\"12pt\"},\"id\":\"7207\",\"type\":\"Title\"},{\"attributes\":{},\"id\":\"7249\",\"type\":\"BasicTickFormatter\"},{\"attributes\":{\"data\":{\"State Code\":[\"AK\",\"AL\",\"AR\",\"AZ\",\"CA\",\"CO\",\"CT\",\"DE\",\"FL\",\"GA\",\"GU\",\"HI\",\"IA\",\"ID\",\"IL\",\"IN\",\"KS\",\"KY\",\"LA\",\"MA\",\"MD\",\"ME\",\"MI\",\"MN\",\"MO\",\"MP\",\"MS\",\"MT\",\"NC\",\"ND\",\"NE\",\"NH\",\"NJ\",\"NM\",\"NV\",\"NY\",\"OH\",\"OK\",\"OR\",\"PA\",\"PR\",\"RI\",\"SC\",\"SD\",\"TN\",\"TX\",\"UT\",\"VA\",\"VI\",\"VT\",\"WA\",\"WI\",\"WV\",\"WY\"],\"State_Code\":[\"AK\",\"AL\",\"AR\",\"AZ\",\"CA\",\"CO\",\"CT\",\"DE\",\"FL\",\"GA\",\"GU\",\"HI\",\"IA\",\"ID\",\"IL\",\"IN\",\"KS\",\"KY\",\"LA\",\"MA\",\"MD\",\"ME\",\"MI\",\"MN\",\"MO\",\"MP\",\"MS\",\"MT\",\"NC\",\"ND\",\"NE\",\"NH\",\"NJ\",\"NM\",\"NV\",\"NY\",\"OH\",\"OK\",\"OR\",\"PA\",\"PR\",\"RI\",\"SC\",\"SD\",\"TN\",\"TX\",\"UT\",\"VA\",\"VI\",\"VT\",\"WA\",\"WI\",\"WV\",\"WY\"],\"Total Average Loan Amount\":{\"__ndarray__\":\"7FG4HlsqAkHrUbgeuo0aQUjhehSxEBBBFa5H4a88IkHOzMzsymdFQfYoXA/s+SFBH4XrUdBmIEFSuB6F+3QAQfYoXE887TdBwvUo3Ky1MEEAAAAAaEMGQa5H4XpvlhRBH4XrUQ3cEkGamZmZNUkJQVS4HgX9tylBwvUoXOn3JEEUrkfhNLYTQXsUrkerWx1B4XoUrmLYHEEpXI/CdRMxQShcj0JNKyhBFK5H4VpYCUFcj8K1NEMxQcP1KNwVEilBmZmZGceBIUEAAAAAAB3lQK5H4Xr2bQdBPQrXowy5+UCamZnZk9ExQR+F61Hs6PJAw/UoXPHkC0HC9ShcPz0OQRSuR6EWtzJBwvUoXLdjC0HsUbgehqwXQeJ6FC4aeTBBo3A9yvuhNUFmZmZm8vkVQbgehWtB1iJBXI/CdS94OUEAAAAAwFTsQJDC9Sg+VxVBMzMzM2lIIEGuR+F6WFL1QPYoXI9MiSRBT7geRTOMQ0GQwvUo5lAiQUjhepReNClBAAAAAFBM90DsUbgeYUP5QJDC9ShPozNBAAAAAFBfJUEAAAAACL4IQQAAAAAwJPlA\",\"dtype\":\"float64\",\"order\":\"little\",\"shape\":[54]},\"Total_Average_Loan_Amount\":{\"__ndarray__\":\"7FG4HlsqAkHrUbgeuo0aQUjhehSxEBBBFa5H4a88IkHOzMzsymdFQfYoXA/s+SFBH4XrUdBmIEFSuB6F+3QAQfYoXE887TdBwvUo3Ky1MEEAAAAAaEMGQa5H4XpvlhRBH4XrUQ3cEkGamZmZNUkJQVS4HgX9tylBwvUoXOn3JEEUrkfhNLYTQXsUrkerWx1B4XoUrmLYHEEpXI/CdRMxQShcj0JNKyhBFK5H4VpYCUFcj8K1NEMxQcP1KNwVEilBmZmZGceBIUEAAAAAAB3lQK5H4Xr2bQdBPQrXowy5+UCamZnZk9ExQR+F61Hs6PJAw/UoXPHkC0HC9ShcPz0OQRSuR6EWtzJBwvUoXLdjC0HsUbgehqwXQeJ6FC4aeTBBo3A9yvuhNUFmZmZm8vkVQbgehWtB1iJBXI/CdS94OUEAAAAAwFTsQJDC9Sg+VxVBMzMzM2lIIEGuR+F6WFL1QPYoXI9MiSRBT7geRTOMQ0GQwvUo5lAiQUjhepReNClBAAAAAFBM90DsUbgeYUP5QJDC9ShPozNBAAAAAFBfJUEAAAAACL4IQQAAAAAwJPlA\",\"dtype\":\"float64\",\"order\":\"little\",\"shape\":[54]}},\"selected\":{\"id\":\"7236\"},\"selection_policy\":{\"id\":\"7259\"}},\"id\":\"7235\",\"type\":\"ColumnDataSource\"},{\"attributes\":{},\"id\":\"7236\",\"type\":\"Selection\"},{\"attributes\":{\"children\":[{\"id\":\"7202\"},{\"id\":\"7206\"},{\"id\":\"7270\"}],\"margin\":[0,0,0,0],\"name\":\"Row13210\",\"tags\":[\"embedded\"]},\"id\":\"7201\",\"type\":\"Row\"},{\"attributes\":{},\"id\":\"7211\",\"type\":\"CategoricalScale\"},{\"attributes\":{},\"id\":\"7223\",\"type\":\"PanTool\"},{\"attributes\":{\"line_alpha\":0.2,\"line_color\":\"#30a2da\",\"line_width\":2,\"x\":{\"field\":\"State Code\"},\"y\":{\"field\":\"Total Average Loan Amount\"}},\"id\":\"7240\",\"type\":\"Line\"},{\"attributes\":{},\"id\":\"7222\",\"type\":\"SaveTool\"},{\"attributes\":{\"callback\":null,\"renderers\":[{\"id\":\"7241\"}],\"tags\":[\"hv_created\"],\"tooltips\":[[\"State Code\",\"@{State_Code}\"],[\"Total Average Loan Amount\",\"@{Total_Average_Loan_Amount}\"]]},\"id\":\"7205\",\"type\":\"HoverTool\"},{\"attributes\":{\"line_color\":\"#30a2da\",\"line_width\":2,\"x\":{\"field\":\"State Code\"},\"y\":{\"field\":\"Total Average Loan Amount\"}},\"id\":\"7238\",\"type\":\"Line\"},{\"attributes\":{},\"id\":\"7244\",\"type\":\"AllLabels\"},{\"attributes\":{},\"id\":\"7259\",\"type\":\"UnionRenderers\"},{\"attributes\":{\"axis\":{\"id\":\"7215\"},\"grid_line_color\":null,\"ticker\":null},\"id\":\"7217\",\"type\":\"Grid\"},{\"attributes\":{\"active_multi\":null,\"tools\":[{\"id\":\"7205\"},{\"id\":\"7222\"},{\"id\":\"7223\"},{\"id\":\"7224\"},{\"id\":\"7225\"},{\"id\":\"7226\"}]},\"id\":\"7228\",\"type\":\"Toolbar\"},{\"attributes\":{\"margin\":[5,5,5,5],\"name\":\"HSpacer13214\",\"sizing_mode\":\"stretch_width\"},\"id\":\"7202\",\"type\":\"Spacer\"},{\"attributes\":{\"bottom_units\":\"screen\",\"fill_alpha\":0.5,\"fill_color\":\"lightgrey\",\"left_units\":\"screen\",\"level\":\"overlay\",\"line_alpha\":1.0,\"line_color\":\"black\",\"line_dash\":[4,4],\"line_width\":2,\"right_units\":\"screen\",\"syncable\":false,\"top_units\":\"screen\"},\"id\":\"7227\",\"type\":\"BoxAnnotation\"},{\"attributes\":{\"axis_label\":\"Total Average Loan Amount\",\"formatter\":{\"id\":\"7249\"},\"major_label_policy\":{\"id\":\"7247\"},\"ticker\":{\"id\":\"7219\"}},\"id\":\"7218\",\"type\":\"LinearAxis\"},{\"attributes\":{},\"id\":\"7224\",\"type\":\"WheelZoomTool\"},{\"attributes\":{\"axis\":{\"id\":\"7218\"},\"dimension\":1,\"grid_line_color\":null,\"ticker\":null},\"id\":\"7221\",\"type\":\"Grid\"},{\"attributes\":{\"data_source\":{\"id\":\"7235\"},\"glyph\":{\"id\":\"7238\"},\"hover_glyph\":null,\"muted_glyph\":{\"id\":\"7240\"},\"nonselection_glyph\":{\"id\":\"7239\"},\"selection_glyph\":{\"id\":\"7243\"},\"view\":{\"id\":\"7242\"}},\"id\":\"7241\",\"type\":\"GlyphRenderer\"},{\"attributes\":{\"margin\":[5,5,5,5],\"name\":\"HSpacer13215\",\"sizing_mode\":\"stretch_width\"},\"id\":\"7270\",\"type\":\"Spacer\"},{\"attributes\":{},\"id\":\"7226\",\"type\":\"ResetTool\"},{\"attributes\":{\"source\":{\"id\":\"7235\"}},\"id\":\"7242\",\"type\":\"CDSView\"},{\"attributes\":{\"axis_label\":\"State Code\",\"formatter\":{\"id\":\"7246\"},\"major_label_policy\":{\"id\":\"7244\"},\"ticker\":{\"id\":\"7216\"}},\"id\":\"7215\",\"type\":\"CategoricalAxis\"},{\"attributes\":{\"overlay\":{\"id\":\"7227\"}},\"id\":\"7225\",\"type\":\"BoxZoomTool\"},{\"attributes\":{},\"id\":\"7246\",\"type\":\"CategoricalTickFormatter\"},{\"attributes\":{},\"id\":\"7213\",\"type\":\"LinearScale\"},{\"attributes\":{},\"id\":\"7247\",\"type\":\"AllLabels\"},{\"attributes\":{},\"id\":\"7219\",\"type\":\"BasicTicker\"},{\"attributes\":{\"below\":[{\"id\":\"7215\"}],\"center\":[{\"id\":\"7217\"},{\"id\":\"7221\"}],\"height\":300,\"left\":[{\"id\":\"7218\"}],\"margin\":[5,5,5,5],\"min_border_bottom\":10,\"min_border_left\":10,\"min_border_right\":10,\"min_border_top\":10,\"renderers\":[{\"id\":\"7241\"}],\"sizing_mode\":\"fixed\",\"title\":{\"id\":\"7207\"},\"toolbar\":{\"id\":\"7228\"},\"width\":700,\"x_range\":{\"id\":\"7203\"},\"x_scale\":{\"id\":\"7211\"},\"y_range\":{\"id\":\"7204\"},\"y_scale\":{\"id\":\"7213\"}},\"id\":\"7206\",\"subtype\":\"Figure\",\"type\":\"Plot\"},{\"attributes\":{\"end\":3081895.235000001,\"reset_end\":3081895.235000001,\"reset_start\":-233001.38500000007,\"start\":-233001.38500000007,\"tags\":[[[\"Total Average Loan Amount\",\"Total Average Loan Amount\",null]]]},\"id\":\"7204\",\"type\":\"Range1d\"},{\"attributes\":{\"line_color\":\"#30a2da\",\"line_width\":2,\"x\":{\"field\":\"State Code\"},\"y\":{\"field\":\"Total Average Loan Amount\"}},\"id\":\"7243\",\"type\":\"Line\"}],\"root_ids\":[\"7201\"]},\"title\":\"Bokeh Application\",\"version\":\"2.3.2\"}};\n",
       "    var render_items = [{\"docid\":\"1292a52c-da71-4da4-93d8-cff279b02cdb\",\"root_ids\":[\"7201\"],\"roots\":{\"7201\":\"619ceea2-17a3-4afe-90ed-09d91db3419e\"}}];\n",
       "    root.Bokeh.embed.embed_items_notebook(docs_json, render_items);\n",
       "  }\n",
       "  if (root.Bokeh !== undefined && root.Bokeh.Panel !== undefined) {\n",
       "    embed_document(root);\n",
       "  } else {\n",
       "    var attempts = 0;\n",
       "    var timer = setInterval(function(root) {\n",
       "      if (root.Bokeh !== undefined && root.Bokeh.Panel !== undefined) {\n",
       "        clearInterval(timer);\n",
       "        embed_document(root);\n",
       "      } else if (document.readyState == \"complete\") {\n",
       "        attempts++;\n",
       "        if (attempts > 100) {\n",
       "          clearInterval(timer);\n",
       "          console.log(\"Bokeh: ERROR: Unable to run BokehJS code because BokehJS library is missing\");\n",
       "        }\n",
       "      }\n",
       "    }, 10, root)\n",
       "  }\n",
       "})(window);</script>"
      ],
      "text/plain": [
       ":Curve   [State Code]   (Total Average Loan Amount)"
      ]
     },
     "execution_count": 52,
     "metadata": {
      "application/vnd.holoviews_exec.v0+json": {
       "id": "7201"
      }
     },
     "output_type": "execute_result"
    }
   ],
   "source": [
    "# Slice for Total Average Loan Amount\n",
    "total_avg_loan_amt = loan_data[['Total Average Loan Amount']]\n",
    "total_avg_loan_amt.head()\n",
    "\n",
    "# Plot Total Average Loan Amount\n",
    "total_avg_loan_amt.hvplot()"
   ]
  },
  {
   "cell_type": "markdown",
   "metadata": {},
   "source": [
    "### Plot Total Average Loan Amount for 2015 - 2016 and 2010 - 2014"
   ]
  },
  {
   "cell_type": "code",
   "execution_count": 53,
   "metadata": {},
   "outputs": [
    {
     "data": {},
     "metadata": {},
     "output_type": "display_data"
    },
    {
     "data": {
      "application/vnd.holoviews_exec.v0+json": "",
      "text/html": [
       "<div id='7322'>\n",
       "\n",
       "\n",
       "\n",
       "\n",
       "\n",
       "  <div class=\"bk-root\" id=\"fe6ec70c-484e-416e-9937-c8a54f8b94e0\" data-root-id=\"7322\"></div>\n",
       "</div>\n",
       "<script type=\"application/javascript\">(function(root) {\n",
       "  function embed_document(root) {\n",
       "    var docs_json = {\"1828074c-cf1d-42ef-a921-292f48687724\":{\"defs\":[],\"roots\":{\"references\":[{\"attributes\":{\"text_color\":\"black\",\"text_font_size\":\"12pt\"},\"id\":\"7328\",\"type\":\"Title\"},{\"attributes\":{\"line_color\":\"#30a2da\",\"line_width\":2,\"x\":{\"field\":\"State Code\"},\"y\":{\"field\":\"2010 - 2014\"}},\"id\":\"7364\",\"type\":\"Line\"},{\"attributes\":{\"line_color\":\"#30a2da\",\"line_width\":2,\"x\":{\"field\":\"State Code\"},\"y\":{\"field\":\"2010 - 2014\"}},\"id\":\"7359\",\"type\":\"Line\"},{\"attributes\":{\"source\":{\"id\":\"7356\"}},\"id\":\"7363\",\"type\":\"CDSView\"},{\"attributes\":{\"below\":[{\"id\":\"7383\"}],\"center\":[{\"id\":\"7385\"},{\"id\":\"7389\"}],\"height\":300,\"left\":[{\"id\":\"7386\"}],\"margin\":null,\"min_border_bottom\":10,\"min_border_left\":10,\"min_border_right\":10,\"min_border_top\":10,\"renderers\":[{\"id\":\"7409\"}],\"sizing_mode\":\"fixed\",\"title\":{\"id\":\"7375\"},\"toolbar\":{\"id\":\"7396\"},\"toolbar_location\":null,\"width\":700,\"x_range\":{\"id\":\"7324\"},\"x_scale\":{\"id\":\"7379\"},\"y_range\":{\"id\":\"7372\"},\"y_scale\":{\"id\":\"7381\"}},\"id\":\"7374\",\"subtype\":\"Figure\",\"type\":\"Plot\"},{\"attributes\":{\"below\":[{\"id\":\"7336\"}],\"center\":[{\"id\":\"7338\"},{\"id\":\"7342\"}],\"height\":300,\"left\":[{\"id\":\"7339\"}],\"margin\":null,\"min_border_bottom\":10,\"min_border_left\":10,\"min_border_right\":10,\"min_border_top\":10,\"renderers\":[{\"id\":\"7362\"}],\"sizing_mode\":\"fixed\",\"title\":{\"id\":\"7328\"},\"toolbar\":{\"id\":\"7349\"},\"toolbar_location\":null,\"width\":700,\"x_range\":{\"id\":\"7324\"},\"x_scale\":{\"id\":\"7332\"},\"y_range\":{\"id\":\"7325\"},\"y_scale\":{\"id\":\"7334\"}},\"id\":\"7327\",\"subtype\":\"Figure\",\"type\":\"Plot\"},{\"attributes\":{\"toolbars\":[{\"id\":\"7349\"},{\"id\":\"7396\"}],\"tools\":[{\"id\":\"7326\"},{\"id\":\"7343\"},{\"id\":\"7344\"},{\"id\":\"7345\"},{\"id\":\"7346\"},{\"id\":\"7347\"},{\"id\":\"7373\"},{\"id\":\"7390\"},{\"id\":\"7391\"},{\"id\":\"7392\"},{\"id\":\"7393\"},{\"id\":\"7394\"}]},\"id\":\"7441\",\"type\":\"ProxyToolbar\"},{\"attributes\":{\"active_multi\":null,\"tools\":[{\"id\":\"7373\"},{\"id\":\"7390\"},{\"id\":\"7391\"},{\"id\":\"7392\"},{\"id\":\"7393\"},{\"id\":\"7394\"}]},\"id\":\"7396\",\"type\":\"Toolbar\"},{\"attributes\":{},\"id\":\"7332\",\"type\":\"CategoricalScale\"},{\"attributes\":{},\"id\":\"7368\",\"type\":\"AllLabels\"},{\"attributes\":{\"axis_label\":\"State Code\",\"formatter\":{\"id\":\"7367\"},\"major_label_policy\":{\"id\":\"7365\"},\"ticker\":{\"id\":\"7337\"}},\"id\":\"7336\",\"type\":\"CategoricalAxis\"},{\"attributes\":{\"data\":{\"2015 - 2016\":{\"__ndarray__\":\"uB6F63skB0FH4XqU5e8kQc3MzMzWsRVBPQrXozP6HkEzMzMzsfRGQYXrUTi+vCdBexSux6iuJUHXo3A9zCQEQWZmZoagoEBBNDMzM0B2L0EAAAAASBwLQRSuR+HIvBtBCtejcJQbFkFwPQrXoewPQUjhehScLSdBNDMzMwPIKkHXo3A9r9IZQfYoXA+1hSJBhetROEEuJkGQwvWoWlUvQXA9CldwzC5BKVyPwhGGEEH2KFwPZtkyQY/C9aivqyRBuB6Fa8CYIkEAAAAAAAAAAHsUrkePoRNBCtejcB8CAkFcj8L16Is4QeF6FK4TYv5AwvUoXBn8D0EAAAAAZCERQcL1KBwDeDJBPgrXoyFsE0HiehSuc7UeQaRwPYpoBTJBo3A9SsR1OUGZmZmZ6O8eQT0K1yMZ+ihBAAAAwMm9PEEAAAAAUPD0QML1KFxsmBpBPgrXoy6qKEHD9Shc8xj8QJmZmRl2wS5BZmZmpndfRkHsUbieBhMmQYbrUThRJjRBAAAAAGBx+0Bcj8L1ToYAQc3MzMz7STdBAAAAAKg6KEEAAAAANF8QQQAAAAAIHwRB\",\"dtype\":\"float64\",\"order\":\"little\",\"shape\":[54]},\"A_2015_hyphen_minus_2016\":{\"__ndarray__\":\"uB6F63skB0FH4XqU5e8kQc3MzMzWsRVBPQrXozP6HkEzMzMzsfRGQYXrUTi+vCdBexSux6iuJUHXo3A9zCQEQWZmZoagoEBBNDMzM0B2L0EAAAAASBwLQRSuR+HIvBtBCtejcJQbFkFwPQrXoewPQUjhehScLSdBNDMzMwPIKkHXo3A9r9IZQfYoXA+1hSJBhetROEEuJkGQwvWoWlUvQXA9CldwzC5BKVyPwhGGEEH2KFwPZtkyQY/C9aivqyRBuB6Fa8CYIkEAAAAAAAAAAHsUrkePoRNBCtejcB8CAkFcj8L16Is4QeF6FK4TYv5AwvUoXBn8D0EAAAAAZCERQcL1KBwDeDJBPgrXoyFsE0HiehSuc7UeQaRwPYpoBTJBo3A9SsR1OUGZmZmZ6O8eQT0K1yMZ+ihBAAAAwMm9PEEAAAAAUPD0QML1KFxsmBpBPgrXoy6qKEHD9Shc8xj8QJmZmRl2wS5BZmZmpndfRkHsUbieBhMmQYbrUThRJjRBAAAAAGBx+0Bcj8L1ToYAQc3MzMz7STdBAAAAAKg6KEEAAAAANF8QQQAAAAAIHwRB\",\"dtype\":\"float64\",\"order\":\"little\",\"shape\":[54]},\"State Code\":[\"AK\",\"AL\",\"AR\",\"AZ\",\"CA\",\"CO\",\"CT\",\"DE\",\"FL\",\"GA\",\"GU\",\"HI\",\"IA\",\"ID\",\"IL\",\"IN\",\"KS\",\"KY\",\"LA\",\"MA\",\"MD\",\"ME\",\"MI\",\"MN\",\"MO\",\"MP\",\"MS\",\"MT\",\"NC\",\"ND\",\"NE\",\"NH\",\"NJ\",\"NM\",\"NV\",\"NY\",\"OH\",\"OK\",\"OR\",\"PA\",\"PR\",\"RI\",\"SC\",\"SD\",\"TN\",\"TX\",\"UT\",\"VA\",\"VI\",\"VT\",\"WA\",\"WI\",\"WV\",\"WY\"],\"State_Code\":[\"AK\",\"AL\",\"AR\",\"AZ\",\"CA\",\"CO\",\"CT\",\"DE\",\"FL\",\"GA\",\"GU\",\"HI\",\"IA\",\"ID\",\"IL\",\"IN\",\"KS\",\"KY\",\"LA\",\"MA\",\"MD\",\"ME\",\"MI\",\"MN\",\"MO\",\"MP\",\"MS\",\"MT\",\"NC\",\"ND\",\"NE\",\"NH\",\"NJ\",\"NM\",\"NV\",\"NY\",\"OH\",\"OK\",\"OR\",\"PA\",\"PR\",\"RI\",\"SC\",\"SD\",\"TN\",\"TX\",\"UT\",\"VA\",\"VI\",\"VT\",\"WA\",\"WI\",\"WV\",\"WY\"]},\"selected\":{\"id\":\"7404\"},\"selection_policy\":{\"id\":\"7438\"}},\"id\":\"7403\",\"type\":\"ColumnDataSource\"},{\"attributes\":{},\"id\":\"7370\",\"type\":\"BasicTickFormatter\"},{\"attributes\":{\"axis\":{\"id\":\"7336\"},\"grid_line_color\":null,\"ticker\":null},\"id\":\"7338\",\"type\":\"Grid\"},{\"attributes\":{\"bottom_units\":\"screen\",\"fill_alpha\":0.5,\"fill_color\":\"lightgrey\",\"left_units\":\"screen\",\"level\":\"overlay\",\"line_alpha\":1.0,\"line_color\":\"black\",\"line_dash\":[4,4],\"line_width\":2,\"right_units\":\"screen\",\"syncable\":false,\"top_units\":\"screen\"},\"id\":\"7395\",\"type\":\"BoxAnnotation\"},{\"attributes\":{},\"id\":\"7414\",\"type\":\"CategoricalTickFormatter\"},{\"attributes\":{\"children\":[[{\"id\":\"7327\"},0,0],[{\"id\":\"7374\"},0,1]]},\"id\":\"7440\",\"type\":\"GridBox\"},{\"attributes\":{},\"id\":\"7334\",\"type\":\"LinearScale\"},{\"attributes\":{\"toolbar\":{\"id\":\"7441\"},\"toolbar_location\":\"above\"},\"id\":\"7442\",\"type\":\"ToolbarBox\"},{\"attributes\":{\"line_color\":\"#30a2da\",\"line_width\":2,\"x\":{\"field\":\"State Code\"},\"y\":{\"field\":\"2015 - 2016\"}},\"id\":\"7406\",\"type\":\"Line\"},{\"attributes\":{},\"id\":\"7337\",\"type\":\"CategoricalTicker\"},{\"attributes\":{\"line_color\":\"#30a2da\",\"line_width\":2,\"x\":{\"field\":\"State Code\"},\"y\":{\"field\":\"2015 - 2016\"}},\"id\":\"7411\",\"type\":\"Line\"},{\"attributes\":{\"axis\":{\"id\":\"7339\"},\"dimension\":1,\"grid_line_color\":null,\"ticker\":null},\"id\":\"7342\",\"type\":\"Grid\"},{\"attributes\":{},\"id\":\"7427\",\"type\":\"UnionRenderers\"},{\"attributes\":{\"children\":[{\"id\":\"7323\"},{\"id\":\"7443\"},{\"id\":\"7624\"}],\"margin\":[0,0,0,0],\"name\":\"Row13467\",\"tags\":[\"embedded\"]},\"id\":\"7322\",\"type\":\"Row\"},{\"attributes\":{},\"id\":\"7340\",\"type\":\"BasicTicker\"},{\"attributes\":{\"axis_label\":\"2010 - 2014\",\"formatter\":{\"id\":\"7370\"},\"major_label_policy\":{\"id\":\"7368\"},\"ticker\":{\"id\":\"7340\"}},\"id\":\"7339\",\"type\":\"LinearAxis\"},{\"attributes\":{},\"id\":\"7415\",\"type\":\"AllLabels\"},{\"attributes\":{\"end\":3309753.04,\"reset_end\":3309753.04,\"reset_start\":-300886.64,\"start\":-300886.64,\"tags\":[[[\"2015 - 2016\",\"2015 - 2016\",null]]]},\"id\":\"7372\",\"type\":\"Range1d\"},{\"attributes\":{\"line_alpha\":0.2,\"line_color\":\"#30a2da\",\"line_width\":2,\"x\":{\"field\":\"State Code\"},\"y\":{\"field\":\"2010 - 2014\"}},\"id\":\"7361\",\"type\":\"Line\"},{\"attributes\":{\"line_alpha\":0.1,\"line_color\":\"#30a2da\",\"line_width\":2,\"x\":{\"field\":\"State Code\"},\"y\":{\"field\":\"2010 - 2014\"}},\"id\":\"7360\",\"type\":\"Line\"},{\"attributes\":{\"margin\":[5,5,5,5],\"name\":\"HSpacer13471\",\"sizing_mode\":\"stretch_width\"},\"id\":\"7323\",\"type\":\"Spacer\"},{\"attributes\":{},\"id\":\"7417\",\"type\":\"BasicTickFormatter\"},{\"attributes\":{},\"id\":\"7387\",\"type\":\"BasicTicker\"},{\"attributes\":{\"data_source\":{\"id\":\"7356\"},\"glyph\":{\"id\":\"7359\"},\"hover_glyph\":null,\"muted_glyph\":{\"id\":\"7361\"},\"nonselection_glyph\":{\"id\":\"7360\"},\"selection_glyph\":{\"id\":\"7364\"},\"view\":{\"id\":\"7363\"}},\"id\":\"7362\",\"type\":\"GlyphRenderer\"},{\"attributes\":{\"text_color\":\"black\",\"text_font_size\":\"12pt\"},\"id\":\"7375\",\"type\":\"Title\"},{\"attributes\":{},\"id\":\"7367\",\"type\":\"CategoricalTickFormatter\"},{\"attributes\":{},\"id\":\"7412\",\"type\":\"AllLabels\"},{\"attributes\":{\"line_alpha\":0.2,\"line_color\":\"#30a2da\",\"line_width\":2,\"x\":{\"field\":\"State Code\"},\"y\":{\"field\":\"2015 - 2016\"}},\"id\":\"7408\",\"type\":\"Line\"},{\"attributes\":{},\"id\":\"7343\",\"type\":\"SaveTool\"},{\"attributes\":{},\"id\":\"7365\",\"type\":\"AllLabels\"},{\"attributes\":{\"line_alpha\":0.1,\"line_color\":\"#30a2da\",\"line_width\":2,\"x\":{\"field\":\"State Code\"},\"y\":{\"field\":\"2015 - 2016\"}},\"id\":\"7407\",\"type\":\"Line\"},{\"attributes\":{},\"id\":\"7344\",\"type\":\"PanTool\"},{\"attributes\":{},\"id\":\"7404\",\"type\":\"Selection\"},{\"attributes\":{},\"id\":\"7347\",\"type\":\"ResetTool\"},{\"attributes\":{},\"id\":\"7392\",\"type\":\"WheelZoomTool\"},{\"attributes\":{},\"id\":\"7345\",\"type\":\"WheelZoomTool\"},{\"attributes\":{\"overlay\":{\"id\":\"7348\"}},\"id\":\"7346\",\"type\":\"BoxZoomTool\"},{\"attributes\":{},\"id\":\"7379\",\"type\":\"CategoricalScale\"},{\"attributes\":{\"axis_label\":\"State Code\",\"formatter\":{\"id\":\"7414\"},\"major_label_policy\":{\"id\":\"7412\"},\"ticker\":{\"id\":\"7384\"}},\"id\":\"7383\",\"type\":\"CategoricalAxis\"},{\"attributes\":{\"children\":[{\"id\":\"7442\"},{\"id\":\"7440\"}]},\"id\":\"7443\",\"type\":\"Column\"},{\"attributes\":{},\"id\":\"7357\",\"type\":\"Selection\"},{\"attributes\":{\"axis\":{\"id\":\"7383\"},\"grid_line_color\":null,\"ticker\":null},\"id\":\"7385\",\"type\":\"Grid\"},{\"attributes\":{\"data\":{\"2010 - 2014\":{\"__ndarray__\":\"7FG4HpsKBUEVrkfhrssjQeF6FK4pdRVBexSuRxFNIkHXo3CdZvxFQcL1KFw2lSVBUrgehZxAJUEfhetRytYDQRWuRyGWpD1BrUfhupCSMUEAAAAA8M0HQR+F61GBGxpBZ2ZmZoWTFUHsUbgep5wOQexRuB7D5SlBZWZmZtumKEHhehSuMNkYQfYoXA9pNSJBcD0K1wonJUE+CtfjgGY0QSCF61Gd3ilBFK5H4du/EEFnZmZmr5kxQexRuJ5t9iJBXI/CdS42IUEAAAAAQMXaQAAAAADi0xFBH4XrUYovAUFmZmZmgAY3QdejcD16Hv1AehSuRytREEEehetRD5QRQQvXo/BySzRBPgrXo8h5EkEqXI/Cv0cYQWdmZiaJWDJBFa5HYU4PNkEpXI/CqnAcQaRwPQrxaCdBAAAAwKYZP0EAAAAAULzzQFyPwvUgYxhBAAAAgEoSJ0H2KFyPsrr5QChcj0Lu0StBhetROGZ1SEG4HoVrN0YkQXE9ChcITzJBAAAAACA8/EBSuB6FA0IAQZDC9agWEDdBAAAAAJg9KUEAAAAA0JkQQQAAAABISQBB\",\"dtype\":\"float64\",\"order\":\"little\",\"shape\":[54]},\"A_2010_hyphen_minus_2014\":{\"__ndarray__\":\"7FG4HpsKBUEVrkfhrssjQeF6FK4pdRVBexSuRxFNIkHXo3CdZvxFQcL1KFw2lSVBUrgehZxAJUEfhetRytYDQRWuRyGWpD1BrUfhupCSMUEAAAAA8M0HQR+F61GBGxpBZ2ZmZoWTFUHsUbgep5wOQexRuB7D5SlBZWZmZtumKEHhehSuMNkYQfYoXA9pNSJBcD0K1wonJUE+CtfjgGY0QSCF61Gd3ilBFK5H4du/EEFnZmZmr5kxQexRuJ5t9iJBXI/CdS42IUEAAAAAQMXaQAAAAADi0xFBH4XrUYovAUFmZmZmgAY3QdejcD16Hv1AehSuRytREEEehetRD5QRQQvXo/BySzRBPgrXo8h5EkEqXI/Cv0cYQWdmZiaJWDJBFa5HYU4PNkEpXI/CqnAcQaRwPQrxaCdBAAAAwKYZP0EAAAAAULzzQFyPwvUgYxhBAAAAgEoSJ0H2KFyPsrr5QChcj0Lu0StBhetROGZ1SEG4HoVrN0YkQXE9ChcITzJBAAAAACA8/EBSuB6FA0IAQZDC9agWEDdBAAAAAJg9KUEAAAAA0JkQQQAAAABISQBB\",\"dtype\":\"float64\",\"order\":\"little\",\"shape\":[54]},\"State Code\":[\"AK\",\"AL\",\"AR\",\"AZ\",\"CA\",\"CO\",\"CT\",\"DE\",\"FL\",\"GA\",\"GU\",\"HI\",\"IA\",\"ID\",\"IL\",\"IN\",\"KS\",\"KY\",\"LA\",\"MA\",\"MD\",\"ME\",\"MI\",\"MN\",\"MO\",\"MP\",\"MS\",\"MT\",\"NC\",\"ND\",\"NE\",\"NH\",\"NJ\",\"NM\",\"NV\",\"NY\",\"OH\",\"OK\",\"OR\",\"PA\",\"PR\",\"RI\",\"SC\",\"SD\",\"TN\",\"TX\",\"UT\",\"VA\",\"VI\",\"VT\",\"WA\",\"WI\",\"WV\",\"WY\"],\"State_Code\":[\"AK\",\"AL\",\"AR\",\"AZ\",\"CA\",\"CO\",\"CT\",\"DE\",\"FL\",\"GA\",\"GU\",\"HI\",\"IA\",\"ID\",\"IL\",\"IN\",\"KS\",\"KY\",\"LA\",\"MA\",\"MD\",\"ME\",\"MI\",\"MN\",\"MO\",\"MP\",\"MS\",\"MT\",\"NC\",\"ND\",\"NE\",\"NH\",\"NJ\",\"NM\",\"NV\",\"NY\",\"OH\",\"OK\",\"OR\",\"PA\",\"PR\",\"RI\",\"SC\",\"SD\",\"TN\",\"TX\",\"UT\",\"VA\",\"VI\",\"VT\",\"WA\",\"WI\",\"WV\",\"WY\"]},\"selected\":{\"id\":\"7357\"},\"selection_policy\":{\"id\":\"7427\"}},\"id\":\"7356\",\"type\":\"ColumnDataSource\"},{\"attributes\":{},\"id\":\"7381\",\"type\":\"LinearScale\"},{\"attributes\":{},\"id\":\"7438\",\"type\":\"UnionRenderers\"},{\"attributes\":{},\"id\":\"7391\",\"type\":\"PanTool\"},{\"attributes\":{\"factors\":[\"AK\",\"AL\",\"AR\",\"AZ\",\"CA\",\"CO\",\"CT\",\"DE\",\"FL\",\"GA\",\"GU\",\"HI\",\"IA\",\"ID\",\"IL\",\"IN\",\"KS\",\"KY\",\"LA\",\"MA\",\"MD\",\"ME\",\"MI\",\"MN\",\"MO\",\"MP\",\"MS\",\"MT\",\"NC\",\"ND\",\"NE\",\"NH\",\"NJ\",\"NM\",\"NV\",\"NY\",\"OH\",\"OK\",\"OR\",\"PA\",\"PR\",\"RI\",\"SC\",\"SD\",\"TN\",\"TX\",\"UT\",\"VA\",\"VI\",\"VT\",\"WA\",\"WI\",\"WV\",\"WY\"],\"tags\":[[[\"State Code\",\"State Code\",null]]]},\"id\":\"7324\",\"type\":\"FactorRange\"},{\"attributes\":{},\"id\":\"7384\",\"type\":\"CategoricalTicker\"},{\"attributes\":{\"source\":{\"id\":\"7403\"}},\"id\":\"7410\",\"type\":\"CDSView\"},{\"attributes\":{\"margin\":[5,5,5,5],\"name\":\"HSpacer13472\",\"sizing_mode\":\"stretch_width\"},\"id\":\"7624\",\"type\":\"Spacer\"},{\"attributes\":{\"end\":3523678.784,\"reset_end\":3523678.784,\"reset_start\":-290429.34400000004,\"start\":-290429.34400000004,\"tags\":[[[\"2010 - 2014\",\"2010 - 2014\",null]]]},\"id\":\"7325\",\"type\":\"Range1d\"},{\"attributes\":{\"axis_label\":\"2015 - 2016\",\"formatter\":{\"id\":\"7417\"},\"major_label_policy\":{\"id\":\"7415\"},\"ticker\":{\"id\":\"7387\"}},\"id\":\"7386\",\"type\":\"LinearAxis\"},{\"attributes\":{\"data_source\":{\"id\":\"7403\"},\"glyph\":{\"id\":\"7406\"},\"hover_glyph\":null,\"muted_glyph\":{\"id\":\"7408\"},\"nonselection_glyph\":{\"id\":\"7407\"},\"selection_glyph\":{\"id\":\"7411\"},\"view\":{\"id\":\"7410\"}},\"id\":\"7409\",\"type\":\"GlyphRenderer\"},{\"attributes\":{\"callback\":null,\"renderers\":[{\"id\":\"7362\"}],\"tags\":[\"hv_created\"],\"tooltips\":[[\"State Code\",\"@{State_Code}\"],[\"2010 - 2014\",\"@{A_2010_hyphen_minus_2014}\"]]},\"id\":\"7326\",\"type\":\"HoverTool\"},{\"attributes\":{},\"id\":\"7394\",\"type\":\"ResetTool\"},{\"attributes\":{\"active_multi\":null,\"tools\":[{\"id\":\"7326\"},{\"id\":\"7343\"},{\"id\":\"7344\"},{\"id\":\"7345\"},{\"id\":\"7346\"},{\"id\":\"7347\"}]},\"id\":\"7349\",\"type\":\"Toolbar\"},{\"attributes\":{\"callback\":null,\"renderers\":[{\"id\":\"7409\"}],\"tags\":[\"hv_created\"],\"tooltips\":[[\"State Code\",\"@{State_Code}\"],[\"2015 - 2016\",\"@{A_2015_hyphen_minus_2016}\"]]},\"id\":\"7373\",\"type\":\"HoverTool\"},{\"attributes\":{\"overlay\":{\"id\":\"7395\"}},\"id\":\"7393\",\"type\":\"BoxZoomTool\"},{\"attributes\":{},\"id\":\"7390\",\"type\":\"SaveTool\"},{\"attributes\":{\"bottom_units\":\"screen\",\"fill_alpha\":0.5,\"fill_color\":\"lightgrey\",\"left_units\":\"screen\",\"level\":\"overlay\",\"line_alpha\":1.0,\"line_color\":\"black\",\"line_dash\":[4,4],\"line_width\":2,\"right_units\":\"screen\",\"syncable\":false,\"top_units\":\"screen\"},\"id\":\"7348\",\"type\":\"BoxAnnotation\"},{\"attributes\":{\"axis\":{\"id\":\"7386\"},\"dimension\":1,\"grid_line_color\":null,\"ticker\":null},\"id\":\"7389\",\"type\":\"Grid\"}],\"root_ids\":[\"7322\"]},\"title\":\"Bokeh Application\",\"version\":\"2.3.2\"}};\n",
       "    var render_items = [{\"docid\":\"1828074c-cf1d-42ef-a921-292f48687724\",\"root_ids\":[\"7322\"],\"roots\":{\"7322\":\"fe6ec70c-484e-416e-9937-c8a54f8b94e0\"}}];\n",
       "    root.Bokeh.embed.embed_items_notebook(docs_json, render_items);\n",
       "  }\n",
       "  if (root.Bokeh !== undefined && root.Bokeh.Panel !== undefined) {\n",
       "    embed_document(root);\n",
       "  } else {\n",
       "    var attempts = 0;\n",
       "    var timer = setInterval(function(root) {\n",
       "      if (root.Bokeh !== undefined && root.Bokeh.Panel !== undefined) {\n",
       "        clearInterval(timer);\n",
       "        embed_document(root);\n",
       "      } else if (document.readyState == \"complete\") {\n",
       "        attempts++;\n",
       "        if (attempts > 100) {\n",
       "          clearInterval(timer);\n",
       "          console.log(\"Bokeh: ERROR: Unable to run BokehJS code because BokehJS library is missing\");\n",
       "        }\n",
       "      }\n",
       "    }, 10, root)\n",
       "  }\n",
       "})(window);</script>"
      ],
      "text/plain": [
       ":Layout\n",
       "   .Curve.I  :Curve   [State Code]   (2010 - 2014)\n",
       "   .Curve.II :Curve   [State Code]   (2015 - 2016)"
      ]
     },
     "execution_count": 53,
     "metadata": {
      "application/vnd.holoviews_exec.v0+json": {
       "id": "7322"
      }
     },
     "output_type": "execute_result"
    }
   ],
   "source": [
    "# Slice data for Total Average Loan Amount by 2015-2016 and 2010-2014 date ranges\n",
    "total_avg_loan_amt_15_16 = loan_data[[\"2015 - 2016\"]]\n",
    "total_avg_loan_amt_10_14 = loan_data[[\"2010 - 2014\"]]\n",
    "\n",
    "# Plot data for date ranges\n",
    "total_avg_loan_amt_10_14.hvplot() + total_avg_loan_amt_15_16.hvplot()"
   ]
  },
  {
   "cell_type": "markdown",
   "metadata": {},
   "source": [
    "### Compose plots for 2015 - 2016 and 2010 - 2014 using `+` operator"
   ]
  },
  {
   "cell_type": "code",
   "execution_count": 54,
   "metadata": {},
   "outputs": [
    {
     "data": {},
     "metadata": {},
     "output_type": "display_data"
    },
    {
     "data": {
      "application/vnd.holoviews_exec.v0+json": "",
      "text/html": [
       "<div id='7726'>\n",
       "\n",
       "\n",
       "\n",
       "\n",
       "\n",
       "  <div class=\"bk-root\" id=\"ba0fbd4d-c947-40b7-b56f-ead3baef4c26\" data-root-id=\"7726\"></div>\n",
       "</div>\n",
       "<script type=\"application/javascript\">(function(root) {\n",
       "  function embed_document(root) {\n",
       "    var docs_json = {\"45d81675-ec33-46e0-a32f-0948a0ad5e0f\":{\"defs\":[],\"roots\":{\"references\":[{\"attributes\":{\"callback\":null,\"renderers\":[{\"id\":\"7766\"}],\"tags\":[\"hv_created\"],\"tooltips\":[[\"State Code\",\"@{State_Code}\"],[\"2010 - 2014\",\"@{A_2010_hyphen_minus_2014}\"]]},\"id\":\"7730\",\"type\":\"HoverTool\"},{\"attributes\":{},\"id\":\"7798\",\"type\":\"ResetTool\"},{\"attributes\":{},\"id\":\"7761\",\"type\":\"Selection\"},{\"attributes\":{\"below\":[{\"id\":\"7787\"}],\"center\":[{\"id\":\"7789\"},{\"id\":\"7793\"}],\"height\":300,\"left\":[{\"id\":\"7790\"}],\"margin\":null,\"min_border_bottom\":10,\"min_border_left\":10,\"min_border_right\":10,\"min_border_top\":10,\"renderers\":[{\"id\":\"7813\"}],\"sizing_mode\":\"fixed\",\"title\":{\"id\":\"7779\"},\"toolbar\":{\"id\":\"7800\"},\"toolbar_location\":null,\"width\":700,\"x_range\":{\"id\":\"7728\"},\"x_scale\":{\"id\":\"7783\"},\"y_range\":{\"id\":\"7776\"},\"y_scale\":{\"id\":\"7785\"}},\"id\":\"7778\",\"subtype\":\"Figure\",\"type\":\"Plot\"},{\"attributes\":{\"active_multi\":null,\"tools\":[{\"id\":\"7730\"},{\"id\":\"7747\"},{\"id\":\"7748\"},{\"id\":\"7749\"},{\"id\":\"7750\"},{\"id\":\"7751\"}]},\"id\":\"7753\",\"type\":\"Toolbar\"},{\"attributes\":{},\"id\":\"7808\",\"type\":\"Selection\"},{\"attributes\":{\"line_color\":\"#30a2da\",\"line_width\":2,\"x\":{\"field\":\"State Code\"},\"y\":{\"field\":\"2010 - 2014\"}},\"id\":\"7763\",\"type\":\"Line\"},{\"attributes\":{\"bottom_units\":\"screen\",\"fill_alpha\":0.5,\"fill_color\":\"lightgrey\",\"left_units\":\"screen\",\"level\":\"overlay\",\"line_alpha\":1.0,\"line_color\":\"black\",\"line_dash\":[4,4],\"line_width\":2,\"right_units\":\"screen\",\"syncable\":false,\"top_units\":\"screen\"},\"id\":\"7752\",\"type\":\"BoxAnnotation\"},{\"attributes\":{\"below\":[{\"id\":\"7740\"}],\"center\":[{\"id\":\"7742\"},{\"id\":\"7746\"}],\"height\":300,\"left\":[{\"id\":\"7743\"}],\"margin\":null,\"min_border_bottom\":10,\"min_border_left\":10,\"min_border_right\":10,\"min_border_top\":10,\"renderers\":[{\"id\":\"7766\"}],\"sizing_mode\":\"fixed\",\"title\":{\"id\":\"7732\"},\"toolbar\":{\"id\":\"7753\"},\"toolbar_location\":null,\"width\":700,\"x_range\":{\"id\":\"7728\"},\"x_scale\":{\"id\":\"7736\"},\"y_range\":{\"id\":\"7729\"},\"y_scale\":{\"id\":\"7738\"}},\"id\":\"7731\",\"subtype\":\"Figure\",\"type\":\"Plot\"},{\"attributes\":{},\"id\":\"7771\",\"type\":\"CategoricalTickFormatter\"},{\"attributes\":{\"text_color\":\"black\",\"text_font_size\":\"12pt\"},\"id\":\"7732\",\"type\":\"Title\"},{\"attributes\":{\"line_color\":\"#30a2da\",\"line_width\":2,\"x\":{\"field\":\"State Code\"},\"y\":{\"field\":\"2010 - 2014\"}},\"id\":\"7768\",\"type\":\"Line\"},{\"attributes\":{\"source\":{\"id\":\"7760\"}},\"id\":\"7767\",\"type\":\"CDSView\"},{\"attributes\":{\"active_multi\":null,\"tools\":[{\"id\":\"7777\"},{\"id\":\"7794\"},{\"id\":\"7795\"},{\"id\":\"7796\"},{\"id\":\"7797\"},{\"id\":\"7798\"}]},\"id\":\"7800\",\"type\":\"Toolbar\"},{\"attributes\":{\"text_color\":\"black\",\"text_font_size\":\"12pt\"},\"id\":\"7779\",\"type\":\"Title\"},{\"attributes\":{},\"id\":\"7772\",\"type\":\"AllLabels\"},{\"attributes\":{\"bottom_units\":\"screen\",\"fill_alpha\":0.5,\"fill_color\":\"lightgrey\",\"left_units\":\"screen\",\"level\":\"overlay\",\"line_alpha\":1.0,\"line_color\":\"black\",\"line_dash\":[4,4],\"line_width\":2,\"right_units\":\"screen\",\"syncable\":false,\"top_units\":\"screen\"},\"id\":\"7799\",\"type\":\"BoxAnnotation\"},{\"attributes\":{},\"id\":\"7831\",\"type\":\"UnionRenderers\"},{\"attributes\":{},\"id\":\"7736\",\"type\":\"CategoricalScale\"},{\"attributes\":{\"axis_label\":\"State Code\",\"formatter\":{\"id\":\"7771\"},\"major_label_policy\":{\"id\":\"7769\"},\"ticker\":{\"id\":\"7741\"}},\"id\":\"7740\",\"type\":\"CategoricalAxis\"},{\"attributes\":{},\"id\":\"7774\",\"type\":\"BasicTickFormatter\"},{\"attributes\":{},\"id\":\"7842\",\"type\":\"UnionRenderers\"},{\"attributes\":{\"axis\":{\"id\":\"7740\"},\"grid_line_color\":null,\"ticker\":null},\"id\":\"7742\",\"type\":\"Grid\"},{\"attributes\":{\"line_color\":\"#30a2da\",\"line_width\":2,\"x\":{\"field\":\"State Code\"},\"y\":{\"field\":\"2015 - 2016\"}},\"id\":\"7815\",\"type\":\"Line\"},{\"attributes\":{\"line_color\":\"#30a2da\",\"line_width\":2,\"x\":{\"field\":\"State Code\"},\"y\":{\"field\":\"2015 - 2016\"}},\"id\":\"7810\",\"type\":\"Line\"},{\"attributes\":{\"children\":[[{\"id\":\"7731\"},0,0],[{\"id\":\"7778\"},0,1]]},\"id\":\"7844\",\"type\":\"GridBox\"},{\"attributes\":{\"children\":[{\"id\":\"7727\"},{\"id\":\"7847\"},{\"id\":\"8028\"}],\"margin\":[0,0,0,0],\"name\":\"Row13910\",\"tags\":[\"embedded\"]},\"id\":\"7726\",\"type\":\"Row\"},{\"attributes\":{},\"id\":\"7791\",\"type\":\"BasicTicker\"},{\"attributes\":{},\"id\":\"7738\",\"type\":\"LinearScale\"},{\"attributes\":{},\"id\":\"7818\",\"type\":\"CategoricalTickFormatter\"},{\"attributes\":{},\"id\":\"7819\",\"type\":\"AllLabels\"},{\"attributes\":{},\"id\":\"7741\",\"type\":\"CategoricalTicker\"},{\"attributes\":{\"source\":{\"id\":\"7807\"}},\"id\":\"7814\",\"type\":\"CDSView\"},{\"attributes\":{\"callback\":null,\"renderers\":[{\"id\":\"7813\"}],\"tags\":[\"hv_created\"],\"tooltips\":[[\"State Code\",\"@{State_Code}\"],[\"2015 - 2016\",\"@{A_2015_hyphen_minus_2016}\"]]},\"id\":\"7777\",\"type\":\"HoverTool\"},{\"attributes\":{},\"id\":\"7783\",\"type\":\"CategoricalScale\"},{\"attributes\":{\"axis\":{\"id\":\"7743\"},\"dimension\":1,\"grid_line_color\":null,\"ticker\":null},\"id\":\"7746\",\"type\":\"Grid\"},{\"attributes\":{\"axis\":{\"id\":\"7787\"},\"grid_line_color\":null,\"ticker\":null},\"id\":\"7789\",\"type\":\"Grid\"},{\"attributes\":{\"axis_label\":\"State Code\",\"formatter\":{\"id\":\"7818\"},\"major_label_policy\":{\"id\":\"7816\"},\"ticker\":{\"id\":\"7788\"}},\"id\":\"7787\",\"type\":\"CategoricalAxis\"},{\"attributes\":{},\"id\":\"7744\",\"type\":\"BasicTicker\"},{\"attributes\":{\"margin\":[5,5,5,5],\"name\":\"HSpacer13914\",\"sizing_mode\":\"stretch_width\"},\"id\":\"7727\",\"type\":\"Spacer\"},{\"attributes\":{\"axis_label\":\"2010 - 2014\",\"formatter\":{\"id\":\"7774\"},\"major_label_policy\":{\"id\":\"7772\"},\"ticker\":{\"id\":\"7744\"}},\"id\":\"7743\",\"type\":\"LinearAxis\"},{\"attributes\":{},\"id\":\"7785\",\"type\":\"LinearScale\"},{\"attributes\":{\"line_alpha\":0.2,\"line_color\":\"#30a2da\",\"line_width\":2,\"x\":{\"field\":\"State Code\"},\"y\":{\"field\":\"2010 - 2014\"}},\"id\":\"7765\",\"type\":\"Line\"},{\"attributes\":{},\"id\":\"7821\",\"type\":\"BasicTickFormatter\"},{\"attributes\":{\"line_alpha\":0.1,\"line_color\":\"#30a2da\",\"line_width\":2,\"x\":{\"field\":\"State Code\"},\"y\":{\"field\":\"2010 - 2014\"}},\"id\":\"7764\",\"type\":\"Line\"},{\"attributes\":{},\"id\":\"7788\",\"type\":\"CategoricalTicker\"},{\"attributes\":{\"data_source\":{\"id\":\"7760\"},\"glyph\":{\"id\":\"7763\"},\"hover_glyph\":null,\"muted_glyph\":{\"id\":\"7765\"},\"nonselection_glyph\":{\"id\":\"7764\"},\"selection_glyph\":{\"id\":\"7768\"},\"view\":{\"id\":\"7767\"}},\"id\":\"7766\",\"type\":\"GlyphRenderer\"},{\"attributes\":{\"toolbar\":{\"id\":\"7845\"},\"toolbar_location\":\"above\"},\"id\":\"7846\",\"type\":\"ToolbarBox\"},{\"attributes\":{\"axis_label\":\"2015 - 2016\",\"formatter\":{\"id\":\"7821\"},\"major_label_policy\":{\"id\":\"7819\"},\"ticker\":{\"id\":\"7791\"}},\"id\":\"7790\",\"type\":\"LinearAxis\"},{\"attributes\":{\"data\":{\"2015 - 2016\":{\"__ndarray__\":\"uB6F63skB0FH4XqU5e8kQc3MzMzWsRVBPQrXozP6HkEzMzMzsfRGQYXrUTi+vCdBexSux6iuJUHXo3A9zCQEQWZmZoagoEBBNDMzM0B2L0EAAAAASBwLQRSuR+HIvBtBCtejcJQbFkFwPQrXoewPQUjhehScLSdBNDMzMwPIKkHXo3A9r9IZQfYoXA+1hSJBhetROEEuJkGQwvWoWlUvQXA9CldwzC5BKVyPwhGGEEH2KFwPZtkyQY/C9aivqyRBuB6Fa8CYIkEAAAAAAAAAAHsUrkePoRNBCtejcB8CAkFcj8L16Is4QeF6FK4TYv5AwvUoXBn8D0EAAAAAZCERQcL1KBwDeDJBPgrXoyFsE0HiehSuc7UeQaRwPYpoBTJBo3A9SsR1OUGZmZmZ6O8eQT0K1yMZ+ihBAAAAwMm9PEEAAAAAUPD0QML1KFxsmBpBPgrXoy6qKEHD9Shc8xj8QJmZmRl2wS5BZmZmpndfRkHsUbieBhMmQYbrUThRJjRBAAAAAGBx+0Bcj8L1ToYAQc3MzMz7STdBAAAAAKg6KEEAAAAANF8QQQAAAAAIHwRB\",\"dtype\":\"float64\",\"order\":\"little\",\"shape\":[54]},\"A_2015_hyphen_minus_2016\":{\"__ndarray__\":\"uB6F63skB0FH4XqU5e8kQc3MzMzWsRVBPQrXozP6HkEzMzMzsfRGQYXrUTi+vCdBexSux6iuJUHXo3A9zCQEQWZmZoagoEBBNDMzM0B2L0EAAAAASBwLQRSuR+HIvBtBCtejcJQbFkFwPQrXoewPQUjhehScLSdBNDMzMwPIKkHXo3A9r9IZQfYoXA+1hSJBhetROEEuJkGQwvWoWlUvQXA9CldwzC5BKVyPwhGGEEH2KFwPZtkyQY/C9aivqyRBuB6Fa8CYIkEAAAAAAAAAAHsUrkePoRNBCtejcB8CAkFcj8L16Is4QeF6FK4TYv5AwvUoXBn8D0EAAAAAZCERQcL1KBwDeDJBPgrXoyFsE0HiehSuc7UeQaRwPYpoBTJBo3A9SsR1OUGZmZmZ6O8eQT0K1yMZ+ihBAAAAwMm9PEEAAAAAUPD0QML1KFxsmBpBPgrXoy6qKEHD9Shc8xj8QJmZmRl2wS5BZmZmpndfRkHsUbieBhMmQYbrUThRJjRBAAAAAGBx+0Bcj8L1ToYAQc3MzMz7STdBAAAAAKg6KEEAAAAANF8QQQAAAAAIHwRB\",\"dtype\":\"float64\",\"order\":\"little\",\"shape\":[54]},\"State Code\":[\"AK\",\"AL\",\"AR\",\"AZ\",\"CA\",\"CO\",\"CT\",\"DE\",\"FL\",\"GA\",\"GU\",\"HI\",\"IA\",\"ID\",\"IL\",\"IN\",\"KS\",\"KY\",\"LA\",\"MA\",\"MD\",\"ME\",\"MI\",\"MN\",\"MO\",\"MP\",\"MS\",\"MT\",\"NC\",\"ND\",\"NE\",\"NH\",\"NJ\",\"NM\",\"NV\",\"NY\",\"OH\",\"OK\",\"OR\",\"PA\",\"PR\",\"RI\",\"SC\",\"SD\",\"TN\",\"TX\",\"UT\",\"VA\",\"VI\",\"VT\",\"WA\",\"WI\",\"WV\",\"WY\"],\"State_Code\":[\"AK\",\"AL\",\"AR\",\"AZ\",\"CA\",\"CO\",\"CT\",\"DE\",\"FL\",\"GA\",\"GU\",\"HI\",\"IA\",\"ID\",\"IL\",\"IN\",\"KS\",\"KY\",\"LA\",\"MA\",\"MD\",\"ME\",\"MI\",\"MN\",\"MO\",\"MP\",\"MS\",\"MT\",\"NC\",\"ND\",\"NE\",\"NH\",\"NJ\",\"NM\",\"NV\",\"NY\",\"OH\",\"OK\",\"OR\",\"PA\",\"PR\",\"RI\",\"SC\",\"SD\",\"TN\",\"TX\",\"UT\",\"VA\",\"VI\",\"VT\",\"WA\",\"WI\",\"WV\",\"WY\"]},\"selected\":{\"id\":\"7808\"},\"selection_policy\":{\"id\":\"7842\"}},\"id\":\"7807\",\"type\":\"ColumnDataSource\"},{\"attributes\":{\"end\":3309753.04,\"reset_end\":3309753.04,\"reset_start\":-300886.64,\"start\":-300886.64,\"tags\":[[[\"2015 - 2016\",\"2015 - 2016\",null]]]},\"id\":\"7776\",\"type\":\"Range1d\"},{\"attributes\":{},\"id\":\"7747\",\"type\":\"SaveTool\"},{\"attributes\":{\"axis\":{\"id\":\"7790\"},\"dimension\":1,\"grid_line_color\":null,\"ticker\":null},\"id\":\"7793\",\"type\":\"Grid\"},{\"attributes\":{},\"id\":\"7748\",\"type\":\"PanTool\"},{\"attributes\":{},\"id\":\"7751\",\"type\":\"ResetTool\"},{\"attributes\":{\"factors\":[\"AK\",\"AL\",\"AR\",\"AZ\",\"CA\",\"CO\",\"CT\",\"DE\",\"FL\",\"GA\",\"GU\",\"HI\",\"IA\",\"ID\",\"IL\",\"IN\",\"KS\",\"KY\",\"LA\",\"MA\",\"MD\",\"ME\",\"MI\",\"MN\",\"MO\",\"MP\",\"MS\",\"MT\",\"NC\",\"ND\",\"NE\",\"NH\",\"NJ\",\"NM\",\"NV\",\"NY\",\"OH\",\"OK\",\"OR\",\"PA\",\"PR\",\"RI\",\"SC\",\"SD\",\"TN\",\"TX\",\"UT\",\"VA\",\"VI\",\"VT\",\"WA\",\"WI\",\"WV\",\"WY\"],\"tags\":[[[\"State Code\",\"State Code\",null]]]},\"id\":\"7728\",\"type\":\"FactorRange\"},{\"attributes\":{},\"id\":\"7749\",\"type\":\"WheelZoomTool\"},{\"attributes\":{\"line_alpha\":0.2,\"line_color\":\"#30a2da\",\"line_width\":2,\"x\":{\"field\":\"State Code\"},\"y\":{\"field\":\"2015 - 2016\"}},\"id\":\"7812\",\"type\":\"Line\"},{\"attributes\":{\"overlay\":{\"id\":\"7752\"}},\"id\":\"7750\",\"type\":\"BoxZoomTool\"},{\"attributes\":{\"data\":{\"2010 - 2014\":{\"__ndarray__\":\"7FG4HpsKBUEVrkfhrssjQeF6FK4pdRVBexSuRxFNIkHXo3CdZvxFQcL1KFw2lSVBUrgehZxAJUEfhetRytYDQRWuRyGWpD1BrUfhupCSMUEAAAAA8M0HQR+F61GBGxpBZ2ZmZoWTFUHsUbgep5wOQexRuB7D5SlBZWZmZtumKEHhehSuMNkYQfYoXA9pNSJBcD0K1wonJUE+CtfjgGY0QSCF61Gd3ilBFK5H4du/EEFnZmZmr5kxQexRuJ5t9iJBXI/CdS42IUEAAAAAQMXaQAAAAADi0xFBH4XrUYovAUFmZmZmgAY3QdejcD16Hv1AehSuRytREEEehetRD5QRQQvXo/BySzRBPgrXo8h5EkEqXI/Cv0cYQWdmZiaJWDJBFa5HYU4PNkEpXI/CqnAcQaRwPQrxaCdBAAAAwKYZP0EAAAAAULzzQFyPwvUgYxhBAAAAgEoSJ0H2KFyPsrr5QChcj0Lu0StBhetROGZ1SEG4HoVrN0YkQXE9ChcITzJBAAAAACA8/EBSuB6FA0IAQZDC9agWEDdBAAAAAJg9KUEAAAAA0JkQQQAAAABISQBB\",\"dtype\":\"float64\",\"order\":\"little\",\"shape\":[54]},\"A_2010_hyphen_minus_2014\":{\"__ndarray__\":\"7FG4HpsKBUEVrkfhrssjQeF6FK4pdRVBexSuRxFNIkHXo3CdZvxFQcL1KFw2lSVBUrgehZxAJUEfhetRytYDQRWuRyGWpD1BrUfhupCSMUEAAAAA8M0HQR+F61GBGxpBZ2ZmZoWTFUHsUbgep5wOQexRuB7D5SlBZWZmZtumKEHhehSuMNkYQfYoXA9pNSJBcD0K1wonJUE+CtfjgGY0QSCF61Gd3ilBFK5H4du/EEFnZmZmr5kxQexRuJ5t9iJBXI/CdS42IUEAAAAAQMXaQAAAAADi0xFBH4XrUYovAUFmZmZmgAY3QdejcD16Hv1AehSuRytREEEehetRD5QRQQvXo/BySzRBPgrXo8h5EkEqXI/Cv0cYQWdmZiaJWDJBFa5HYU4PNkEpXI/CqnAcQaRwPQrxaCdBAAAAwKYZP0EAAAAAULzzQFyPwvUgYxhBAAAAgEoSJ0H2KFyPsrr5QChcj0Lu0StBhetROGZ1SEG4HoVrN0YkQXE9ChcITzJBAAAAACA8/EBSuB6FA0IAQZDC9agWEDdBAAAAAJg9KUEAAAAA0JkQQQAAAABISQBB\",\"dtype\":\"float64\",\"order\":\"little\",\"shape\":[54]},\"State Code\":[\"AK\",\"AL\",\"AR\",\"AZ\",\"CA\",\"CO\",\"CT\",\"DE\",\"FL\",\"GA\",\"GU\",\"HI\",\"IA\",\"ID\",\"IL\",\"IN\",\"KS\",\"KY\",\"LA\",\"MA\",\"MD\",\"ME\",\"MI\",\"MN\",\"MO\",\"MP\",\"MS\",\"MT\",\"NC\",\"ND\",\"NE\",\"NH\",\"NJ\",\"NM\",\"NV\",\"NY\",\"OH\",\"OK\",\"OR\",\"PA\",\"PR\",\"RI\",\"SC\",\"SD\",\"TN\",\"TX\",\"UT\",\"VA\",\"VI\",\"VT\",\"WA\",\"WI\",\"WV\",\"WY\"],\"State_Code\":[\"AK\",\"AL\",\"AR\",\"AZ\",\"CA\",\"CO\",\"CT\",\"DE\",\"FL\",\"GA\",\"GU\",\"HI\",\"IA\",\"ID\",\"IL\",\"IN\",\"KS\",\"KY\",\"LA\",\"MA\",\"MD\",\"ME\",\"MI\",\"MN\",\"MO\",\"MP\",\"MS\",\"MT\",\"NC\",\"ND\",\"NE\",\"NH\",\"NJ\",\"NM\",\"NV\",\"NY\",\"OH\",\"OK\",\"OR\",\"PA\",\"PR\",\"RI\",\"SC\",\"SD\",\"TN\",\"TX\",\"UT\",\"VA\",\"VI\",\"VT\",\"WA\",\"WI\",\"WV\",\"WY\"]},\"selected\":{\"id\":\"7761\"},\"selection_policy\":{\"id\":\"7831\"}},\"id\":\"7760\",\"type\":\"ColumnDataSource\"},{\"attributes\":{\"line_alpha\":0.1,\"line_color\":\"#30a2da\",\"line_width\":2,\"x\":{\"field\":\"State Code\"},\"y\":{\"field\":\"2015 - 2016\"}},\"id\":\"7811\",\"type\":\"Line\"},{\"attributes\":{\"margin\":[5,5,5,5],\"name\":\"HSpacer13915\",\"sizing_mode\":\"stretch_width\"},\"id\":\"8028\",\"type\":\"Spacer\"},{\"attributes\":{\"data_source\":{\"id\":\"7807\"},\"glyph\":{\"id\":\"7810\"},\"hover_glyph\":null,\"muted_glyph\":{\"id\":\"7812\"},\"nonselection_glyph\":{\"id\":\"7811\"},\"selection_glyph\":{\"id\":\"7815\"},\"view\":{\"id\":\"7814\"}},\"id\":\"7813\",\"type\":\"GlyphRenderer\"},{\"attributes\":{},\"id\":\"7769\",\"type\":\"AllLabels\"},{\"attributes\":{\"children\":[{\"id\":\"7846\"},{\"id\":\"7844\"}]},\"id\":\"7847\",\"type\":\"Column\"},{\"attributes\":{\"toolbars\":[{\"id\":\"7753\"},{\"id\":\"7800\"}],\"tools\":[{\"id\":\"7730\"},{\"id\":\"7747\"},{\"id\":\"7748\"},{\"id\":\"7749\"},{\"id\":\"7750\"},{\"id\":\"7751\"},{\"id\":\"7777\"},{\"id\":\"7794\"},{\"id\":\"7795\"},{\"id\":\"7796\"},{\"id\":\"7797\"},{\"id\":\"7798\"}]},\"id\":\"7845\",\"type\":\"ProxyToolbar\"},{\"attributes\":{},\"id\":\"7794\",\"type\":\"SaveTool\"},{\"attributes\":{},\"id\":\"7795\",\"type\":\"PanTool\"},{\"attributes\":{},\"id\":\"7796\",\"type\":\"WheelZoomTool\"},{\"attributes\":{\"end\":3523678.784,\"reset_end\":3523678.784,\"reset_start\":-290429.34400000004,\"start\":-290429.34400000004,\"tags\":[[[\"2010 - 2014\",\"2010 - 2014\",null]]]},\"id\":\"7729\",\"type\":\"Range1d\"},{\"attributes\":{\"overlay\":{\"id\":\"7799\"}},\"id\":\"7797\",\"type\":\"BoxZoomTool\"},{\"attributes\":{},\"id\":\"7816\",\"type\":\"AllLabels\"}],\"root_ids\":[\"7726\"]},\"title\":\"Bokeh Application\",\"version\":\"2.3.2\"}};\n",
       "    var render_items = [{\"docid\":\"45d81675-ec33-46e0-a32f-0948a0ad5e0f\",\"root_ids\":[\"7726\"],\"roots\":{\"7726\":\"ba0fbd4d-c947-40b7-b56f-ead3baef4c26\"}}];\n",
       "    root.Bokeh.embed.embed_items_notebook(docs_json, render_items);\n",
       "  }\n",
       "  if (root.Bokeh !== undefined && root.Bokeh.Panel !== undefined) {\n",
       "    embed_document(root);\n",
       "  } else {\n",
       "    var attempts = 0;\n",
       "    var timer = setInterval(function(root) {\n",
       "      if (root.Bokeh !== undefined && root.Bokeh.Panel !== undefined) {\n",
       "        clearInterval(timer);\n",
       "        embed_document(root);\n",
       "      } else if (document.readyState == \"complete\") {\n",
       "        attempts++;\n",
       "        if (attempts > 100) {\n",
       "          clearInterval(timer);\n",
       "          console.log(\"Bokeh: ERROR: Unable to run BokehJS code because BokehJS library is missing\");\n",
       "        }\n",
       "      }\n",
       "    }, 10, root)\n",
       "  }\n",
       "})(window);</script>"
      ],
      "text/plain": [
       ":Layout\n",
       "   .Curve.I  :Curve   [State Code]   (2010 - 2014)\n",
       "   .Curve.II :Curve   [State Code]   (2015 - 2016)"
      ]
     },
     "execution_count": 54,
     "metadata": {
      "application/vnd.holoviews_exec.v0+json": {
       "id": "7726"
      }
     },
     "output_type": "execute_result"
    }
   ],
   "source": [
    "# Compose plots\n",
    "total_avg_loan_amt_10_14.hvplot() + total_avg_loan_amt_15_16.hvplot()"
   ]
  },
  {
   "cell_type": "markdown",
   "metadata": {},
   "source": [
    "### Compose plots for state averages, 2015 - 2016, and 2010 2014 using `+` operator"
   ]
  },
  {
   "cell_type": "code",
   "execution_count": 55,
   "metadata": {},
   "outputs": [
    {
     "data": {},
     "metadata": {},
     "output_type": "display_data"
    },
    {
     "data": {
      "application/vnd.holoviews_exec.v0+json": "",
      "text/html": [
       "<div id='8130'>\n",
       "\n",
       "\n",
       "\n",
       "\n",
       "\n",
       "  <div class=\"bk-root\" id=\"4417d150-6b33-424b-ac50-a55d0317b723\" data-root-id=\"8130\"></div>\n",
       "</div>\n",
       "<script type=\"application/javascript\">(function(root) {\n",
       "  function embed_document(root) {\n",
       "    var docs_json = {\"caefc789-ee51-4c18-8b9b-b444819267b7\":{\"defs\":[],\"roots\":{\"references\":[{\"attributes\":{\"callback\":null,\"renderers\":[{\"id\":\"8264\"}],\"tags\":[\"hv_created\"],\"tooltips\":[[\"State Code\",\"@{State_Code}\"],[\"2015 - 2016\",\"@{A_2015_hyphen_minus_2016}\"]]},\"id\":\"8228\",\"type\":\"HoverTool\"},{\"attributes\":{},\"id\":\"8249\",\"type\":\"ResetTool\"},{\"attributes\":{\"factors\":[\"AK\",\"AL\",\"AR\",\"AZ\",\"CA\",\"CO\",\"CT\",\"DE\",\"FL\",\"GA\",\"GU\",\"HI\",\"IA\",\"ID\",\"IL\",\"IN\",\"KS\",\"KY\",\"LA\",\"MA\",\"MD\",\"ME\",\"MI\",\"MN\",\"MO\",\"MP\",\"MS\",\"MT\",\"NC\",\"ND\",\"NE\",\"NH\",\"NJ\",\"NM\",\"NV\",\"NY\",\"OH\",\"OK\",\"OR\",\"PA\",\"PR\",\"RI\",\"SC\",\"SD\",\"TN\",\"TX\",\"UT\",\"VA\",\"VI\",\"VT\",\"WA\",\"WI\",\"WV\",\"WY\"],\"tags\":[[[\"State Code\",\"State Code\",null]]]},\"id\":\"8132\",\"type\":\"FactorRange\"},{\"attributes\":{},\"id\":\"8178\",\"type\":\"BasicTickFormatter\"},{\"attributes\":{\"source\":{\"id\":\"8211\"}},\"id\":\"8218\",\"type\":\"CDSView\"},{\"attributes\":{\"text_color\":\"black\",\"text_font_size\":\"12pt\"},\"id\":\"8136\",\"type\":\"Title\"},{\"attributes\":{},\"id\":\"8148\",\"type\":\"BasicTicker\"},{\"attributes\":{\"margin\":[5,5,5,5],\"name\":\"HSpacer14432\",\"sizing_mode\":\"stretch_width\"},\"id\":\"8131\",\"type\":\"Spacer\"},{\"attributes\":{},\"id\":\"8195\",\"type\":\"BasicTicker\"},{\"attributes\":{\"line_alpha\":0.1,\"line_color\":\"#30a2da\",\"line_width\":2,\"x\":{\"field\":\"State Code\"},\"y\":{\"field\":\"2010 - 2014\"}},\"id\":\"8215\",\"type\":\"Line\"},{\"attributes\":{\"below\":[{\"id\":\"8238\"}],\"center\":[{\"id\":\"8240\"},{\"id\":\"8244\"}],\"height\":300,\"left\":[{\"id\":\"8241\"}],\"margin\":null,\"min_border_bottom\":10,\"min_border_left\":10,\"min_border_right\":10,\"min_border_top\":10,\"renderers\":[{\"id\":\"8264\"}],\"sizing_mode\":\"fixed\",\"title\":{\"id\":\"8230\"},\"toolbar\":{\"id\":\"8251\"},\"toolbar_location\":null,\"width\":700,\"x_range\":{\"id\":\"8132\"},\"x_scale\":{\"id\":\"8234\"},\"y_range\":{\"id\":\"8227\"},\"y_scale\":{\"id\":\"8236\"}},\"id\":\"8229\",\"subtype\":\"Figure\",\"type\":\"Plot\"},{\"attributes\":{\"line_alpha\":0.2,\"line_color\":\"#30a2da\",\"line_width\":2,\"x\":{\"field\":\"State Code\"},\"y\":{\"field\":\"Total Average Loan Amount\"}},\"id\":\"8169\",\"type\":\"Line\"},{\"attributes\":{\"children\":[{\"id\":\"8131\"},{\"id\":\"8309\"},{\"id\":\"8580\"}],\"margin\":[0,0,0,0],\"name\":\"Row14428\",\"tags\":[\"embedded\"]},\"id\":\"8130\",\"type\":\"Row\"},{\"attributes\":{\"below\":[{\"id\":\"8191\"}],\"center\":[{\"id\":\"8193\"},{\"id\":\"8197\"}],\"height\":300,\"left\":[{\"id\":\"8194\"}],\"margin\":null,\"min_border_bottom\":10,\"min_border_left\":10,\"min_border_right\":10,\"min_border_top\":10,\"renderers\":[{\"id\":\"8217\"}],\"sizing_mode\":\"fixed\",\"title\":{\"id\":\"8183\"},\"toolbar\":{\"id\":\"8204\"},\"toolbar_location\":null,\"width\":700,\"x_range\":{\"id\":\"8132\"},\"x_scale\":{\"id\":\"8187\"},\"y_range\":{\"id\":\"8180\"},\"y_scale\":{\"id\":\"8189\"}},\"id\":\"8182\",\"subtype\":\"Figure\",\"type\":\"Plot\"},{\"attributes\":{},\"id\":\"8259\",\"type\":\"Selection\"},{\"attributes\":{\"axis_label\":\"2010 - 2014\",\"formatter\":{\"id\":\"8225\"},\"major_label_policy\":{\"id\":\"8223\"},\"ticker\":{\"id\":\"8195\"}},\"id\":\"8194\",\"type\":\"LinearAxis\"},{\"attributes\":{\"text_color\":\"black\",\"text_font_size\":\"12pt\"},\"id\":\"8183\",\"type\":\"Title\"},{\"attributes\":{\"line_color\":\"#30a2da\",\"line_width\":2,\"x\":{\"field\":\"State Code\"},\"y\":{\"field\":\"Total Average Loan Amount\"}},\"id\":\"8172\",\"type\":\"Line\"},{\"attributes\":{\"axis\":{\"id\":\"8191\"},\"grid_line_color\":null,\"ticker\":null},\"id\":\"8193\",\"type\":\"Grid\"},{\"attributes\":{\"margin\":[5,5,5,5],\"name\":\"HSpacer14433\",\"sizing_mode\":\"stretch_width\"},\"id\":\"8580\",\"type\":\"Spacer\"},{\"attributes\":{\"axis_label\":\"State Code\",\"formatter\":{\"id\":\"8175\"},\"major_label_policy\":{\"id\":\"8173\"},\"ticker\":{\"id\":\"8145\"}},\"id\":\"8144\",\"type\":\"CategoricalAxis\"},{\"attributes\":{},\"id\":\"8242\",\"type\":\"BasicTicker\"},{\"attributes\":{\"axis_label\":\"2015 - 2016\",\"formatter\":{\"id\":\"8272\"},\"major_label_policy\":{\"id\":\"8270\"},\"ticker\":{\"id\":\"8242\"}},\"id\":\"8241\",\"type\":\"LinearAxis\"},{\"attributes\":{\"toolbars\":[{\"id\":\"8157\"},{\"id\":\"8204\"},{\"id\":\"8251\"}],\"tools\":[{\"id\":\"8134\"},{\"id\":\"8151\"},{\"id\":\"8152\"},{\"id\":\"8153\"},{\"id\":\"8154\"},{\"id\":\"8155\"},{\"id\":\"8181\"},{\"id\":\"8198\"},{\"id\":\"8199\"},{\"id\":\"8200\"},{\"id\":\"8201\"},{\"id\":\"8202\"},{\"id\":\"8228\"},{\"id\":\"8245\"},{\"id\":\"8246\"},{\"id\":\"8247\"},{\"id\":\"8248\"},{\"id\":\"8249\"}]},\"id\":\"8307\",\"type\":\"ProxyToolbar\"},{\"attributes\":{\"source\":{\"id\":\"8258\"}},\"id\":\"8265\",\"type\":\"CDSView\"},{\"attributes\":{\"axis\":{\"id\":\"8144\"},\"grid_line_color\":null,\"ticker\":null},\"id\":\"8146\",\"type\":\"Grid\"},{\"attributes\":{\"text_color\":\"black\",\"text_font_size\":\"12pt\"},\"id\":\"8230\",\"type\":\"Title\"},{\"attributes\":{\"data_source\":{\"id\":\"8211\"},\"glyph\":{\"id\":\"8214\"},\"hover_glyph\":null,\"muted_glyph\":{\"id\":\"8216\"},\"nonselection_glyph\":{\"id\":\"8215\"},\"selection_glyph\":{\"id\":\"8219\"},\"view\":{\"id\":\"8218\"}},\"id\":\"8217\",\"type\":\"GlyphRenderer\"},{\"attributes\":{\"end\":3309753.04,\"reset_end\":3309753.04,\"reset_start\":-300886.64,\"start\":-300886.64,\"tags\":[[[\"2015 - 2016\",\"2015 - 2016\",null]]]},\"id\":\"8227\",\"type\":\"Range1d\"},{\"attributes\":{},\"id\":\"8192\",\"type\":\"CategoricalTicker\"},{\"attributes\":{\"axis\":{\"id\":\"8241\"},\"dimension\":1,\"grid_line_color\":null,\"ticker\":null},\"id\":\"8244\",\"type\":\"Grid\"},{\"attributes\":{},\"id\":\"8267\",\"type\":\"AllLabels\"},{\"attributes\":{\"data\":{\"2010 - 2014\":{\"__ndarray__\":\"7FG4HpsKBUEVrkfhrssjQeF6FK4pdRVBexSuRxFNIkHXo3CdZvxFQcL1KFw2lSVBUrgehZxAJUEfhetRytYDQRWuRyGWpD1BrUfhupCSMUEAAAAA8M0HQR+F61GBGxpBZ2ZmZoWTFUHsUbgep5wOQexRuB7D5SlBZWZmZtumKEHhehSuMNkYQfYoXA9pNSJBcD0K1wonJUE+CtfjgGY0QSCF61Gd3ilBFK5H4du/EEFnZmZmr5kxQexRuJ5t9iJBXI/CdS42IUEAAAAAQMXaQAAAAADi0xFBH4XrUYovAUFmZmZmgAY3QdejcD16Hv1AehSuRytREEEehetRD5QRQQvXo/BySzRBPgrXo8h5EkEqXI/Cv0cYQWdmZiaJWDJBFa5HYU4PNkEpXI/CqnAcQaRwPQrxaCdBAAAAwKYZP0EAAAAAULzzQFyPwvUgYxhBAAAAgEoSJ0H2KFyPsrr5QChcj0Lu0StBhetROGZ1SEG4HoVrN0YkQXE9ChcITzJBAAAAACA8/EBSuB6FA0IAQZDC9agWEDdBAAAAAJg9KUEAAAAA0JkQQQAAAABISQBB\",\"dtype\":\"float64\",\"order\":\"little\",\"shape\":[54]},\"A_2010_hyphen_minus_2014\":{\"__ndarray__\":\"7FG4HpsKBUEVrkfhrssjQeF6FK4pdRVBexSuRxFNIkHXo3CdZvxFQcL1KFw2lSVBUrgehZxAJUEfhetRytYDQRWuRyGWpD1BrUfhupCSMUEAAAAA8M0HQR+F61GBGxpBZ2ZmZoWTFUHsUbgep5wOQexRuB7D5SlBZWZmZtumKEHhehSuMNkYQfYoXA9pNSJBcD0K1wonJUE+CtfjgGY0QSCF61Gd3ilBFK5H4du/EEFnZmZmr5kxQexRuJ5t9iJBXI/CdS42IUEAAAAAQMXaQAAAAADi0xFBH4XrUYovAUFmZmZmgAY3QdejcD16Hv1AehSuRytREEEehetRD5QRQQvXo/BySzRBPgrXo8h5EkEqXI/Cv0cYQWdmZiaJWDJBFa5HYU4PNkEpXI/CqnAcQaRwPQrxaCdBAAAAwKYZP0EAAAAAULzzQFyPwvUgYxhBAAAAgEoSJ0H2KFyPsrr5QChcj0Lu0StBhetROGZ1SEG4HoVrN0YkQXE9ChcITzJBAAAAACA8/EBSuB6FA0IAQZDC9agWEDdBAAAAAJg9KUEAAAAA0JkQQQAAAABISQBB\",\"dtype\":\"float64\",\"order\":\"little\",\"shape\":[54]},\"State Code\":[\"AK\",\"AL\",\"AR\",\"AZ\",\"CA\",\"CO\",\"CT\",\"DE\",\"FL\",\"GA\",\"GU\",\"HI\",\"IA\",\"ID\",\"IL\",\"IN\",\"KS\",\"KY\",\"LA\",\"MA\",\"MD\",\"ME\",\"MI\",\"MN\",\"MO\",\"MP\",\"MS\",\"MT\",\"NC\",\"ND\",\"NE\",\"NH\",\"NJ\",\"NM\",\"NV\",\"NY\",\"OH\",\"OK\",\"OR\",\"PA\",\"PR\",\"RI\",\"SC\",\"SD\",\"TN\",\"TX\",\"UT\",\"VA\",\"VI\",\"VT\",\"WA\",\"WI\",\"WV\",\"WY\"],\"State_Code\":[\"AK\",\"AL\",\"AR\",\"AZ\",\"CA\",\"CO\",\"CT\",\"DE\",\"FL\",\"GA\",\"GU\",\"HI\",\"IA\",\"ID\",\"IL\",\"IN\",\"KS\",\"KY\",\"LA\",\"MA\",\"MD\",\"ME\",\"MI\",\"MN\",\"MO\",\"MP\",\"MS\",\"MT\",\"NC\",\"ND\",\"NE\",\"NH\",\"NJ\",\"NM\",\"NV\",\"NY\",\"OH\",\"OK\",\"OR\",\"PA\",\"PR\",\"RI\",\"SC\",\"SD\",\"TN\",\"TX\",\"UT\",\"VA\",\"VI\",\"VT\",\"WA\",\"WI\",\"WV\",\"WY\"]},\"selected\":{\"id\":\"8212\"},\"selection_policy\":{\"id\":\"8293\"}},\"id\":\"8211\",\"type\":\"ColumnDataSource\"},{\"attributes\":{},\"id\":\"8145\",\"type\":\"CategoricalTicker\"},{\"attributes\":{\"line_alpha\":0.1,\"line_color\":\"#30a2da\",\"line_width\":2,\"x\":{\"field\":\"State Code\"},\"y\":{\"field\":\"2015 - 2016\"}},\"id\":\"8262\",\"type\":\"Line\"},{\"attributes\":{\"data_source\":{\"id\":\"8164\"},\"glyph\":{\"id\":\"8167\"},\"hover_glyph\":null,\"muted_glyph\":{\"id\":\"8169\"},\"nonselection_glyph\":{\"id\":\"8168\"},\"selection_glyph\":{\"id\":\"8172\"},\"view\":{\"id\":\"8171\"}},\"id\":\"8170\",\"type\":\"GlyphRenderer\"},{\"attributes\":{\"axis_label\":\"State Code\",\"formatter\":{\"id\":\"8222\"},\"major_label_policy\":{\"id\":\"8220\"},\"ticker\":{\"id\":\"8192\"}},\"id\":\"8191\",\"type\":\"CategoricalAxis\"},{\"attributes\":{\"toolbar\":{\"id\":\"8307\"},\"toolbar_location\":\"above\"},\"id\":\"8308\",\"type\":\"ToolbarBox\"},{\"attributes\":{},\"id\":\"8189\",\"type\":\"LinearScale\"},{\"attributes\":{\"line_color\":\"#30a2da\",\"line_width\":2,\"x\":{\"field\":\"State Code\"},\"y\":{\"field\":\"2015 - 2016\"}},\"id\":\"8261\",\"type\":\"Line\"},{\"attributes\":{},\"id\":\"8212\",\"type\":\"Selection\"},{\"attributes\":{\"overlay\":{\"id\":\"8250\"}},\"id\":\"8248\",\"type\":\"BoxZoomTool\"},{\"attributes\":{\"data_source\":{\"id\":\"8258\"},\"glyph\":{\"id\":\"8261\"},\"hover_glyph\":null,\"muted_glyph\":{\"id\":\"8263\"},\"nonselection_glyph\":{\"id\":\"8262\"},\"selection_glyph\":{\"id\":\"8266\"},\"view\":{\"id\":\"8265\"}},\"id\":\"8264\",\"type\":\"GlyphRenderer\"},{\"attributes\":{\"children\":[{\"id\":\"8308\"},{\"id\":\"8306\"}]},\"id\":\"8309\",\"type\":\"Column\"},{\"attributes\":{\"axis_label\":\"Total Average Loan Amount\",\"formatter\":{\"id\":\"8178\"},\"major_label_policy\":{\"id\":\"8176\"},\"ticker\":{\"id\":\"8148\"}},\"id\":\"8147\",\"type\":\"LinearAxis\"},{\"attributes\":{},\"id\":\"8199\",\"type\":\"PanTool\"},{\"attributes\":{\"axis\":{\"id\":\"8147\"},\"dimension\":1,\"grid_line_color\":null,\"ticker\":null},\"id\":\"8150\",\"type\":\"Grid\"},{\"attributes\":{\"axis_label\":\"State Code\",\"formatter\":{\"id\":\"8269\"},\"major_label_policy\":{\"id\":\"8267\"},\"ticker\":{\"id\":\"8239\"}},\"id\":\"8238\",\"type\":\"CategoricalAxis\"},{\"attributes\":{\"line_color\":\"#30a2da\",\"line_width\":2,\"x\":{\"field\":\"State Code\"},\"y\":{\"field\":\"2010 - 2014\"}},\"id\":\"8214\",\"type\":\"Line\"},{\"attributes\":{},\"id\":\"8175\",\"type\":\"CategoricalTickFormatter\"},{\"attributes\":{},\"id\":\"8140\",\"type\":\"CategoricalScale\"},{\"attributes\":{},\"id\":\"8236\",\"type\":\"LinearScale\"},{\"attributes\":{\"axis\":{\"id\":\"8194\"},\"dimension\":1,\"grid_line_color\":null,\"ticker\":null},\"id\":\"8197\",\"type\":\"Grid\"},{\"attributes\":{\"data\":{\"State Code\":[\"AK\",\"AL\",\"AR\",\"AZ\",\"CA\",\"CO\",\"CT\",\"DE\",\"FL\",\"GA\",\"GU\",\"HI\",\"IA\",\"ID\",\"IL\",\"IN\",\"KS\",\"KY\",\"LA\",\"MA\",\"MD\",\"ME\",\"MI\",\"MN\",\"MO\",\"MP\",\"MS\",\"MT\",\"NC\",\"ND\",\"NE\",\"NH\",\"NJ\",\"NM\",\"NV\",\"NY\",\"OH\",\"OK\",\"OR\",\"PA\",\"PR\",\"RI\",\"SC\",\"SD\",\"TN\",\"TX\",\"UT\",\"VA\",\"VI\",\"VT\",\"WA\",\"WI\",\"WV\",\"WY\"],\"State_Code\":[\"AK\",\"AL\",\"AR\",\"AZ\",\"CA\",\"CO\",\"CT\",\"DE\",\"FL\",\"GA\",\"GU\",\"HI\",\"IA\",\"ID\",\"IL\",\"IN\",\"KS\",\"KY\",\"LA\",\"MA\",\"MD\",\"ME\",\"MI\",\"MN\",\"MO\",\"MP\",\"MS\",\"MT\",\"NC\",\"ND\",\"NE\",\"NH\",\"NJ\",\"NM\",\"NV\",\"NY\",\"OH\",\"OK\",\"OR\",\"PA\",\"PR\",\"RI\",\"SC\",\"SD\",\"TN\",\"TX\",\"UT\",\"VA\",\"VI\",\"VT\",\"WA\",\"WI\",\"WV\",\"WY\"],\"Total Average Loan Amount\":{\"__ndarray__\":\"7FG4HlsqAkHrUbgeuo0aQUjhehSxEBBBFa5H4a88IkHOzMzsymdFQfYoXA/s+SFBH4XrUdBmIEFSuB6F+3QAQfYoXE887TdBwvUo3Ky1MEEAAAAAaEMGQa5H4XpvlhRBH4XrUQ3cEkGamZmZNUkJQVS4HgX9tylBwvUoXOn3JEEUrkfhNLYTQXsUrkerWx1B4XoUrmLYHEEpXI/CdRMxQShcj0JNKyhBFK5H4VpYCUFcj8K1NEMxQcP1KNwVEilBmZmZGceBIUEAAAAAAB3lQK5H4Xr2bQdBPQrXowy5+UCamZnZk9ExQR+F61Hs6PJAw/UoXPHkC0HC9ShcPz0OQRSuR6EWtzJBwvUoXLdjC0HsUbgehqwXQeJ6FC4aeTBBo3A9yvuhNUFmZmZm8vkVQbgehWtB1iJBXI/CdS94OUEAAAAAwFTsQJDC9Sg+VxVBMzMzM2lIIEGuR+F6WFL1QPYoXI9MiSRBT7geRTOMQ0GQwvUo5lAiQUjhepReNClBAAAAAFBM90DsUbgeYUP5QJDC9ShPozNBAAAAAFBfJUEAAAAACL4IQQAAAAAwJPlA\",\"dtype\":\"float64\",\"order\":\"little\",\"shape\":[54]},\"Total_Average_Loan_Amount\":{\"__ndarray__\":\"7FG4HlsqAkHrUbgeuo0aQUjhehSxEBBBFa5H4a88IkHOzMzsymdFQfYoXA/s+SFBH4XrUdBmIEFSuB6F+3QAQfYoXE887TdBwvUo3Ky1MEEAAAAAaEMGQa5H4XpvlhRBH4XrUQ3cEkGamZmZNUkJQVS4HgX9tylBwvUoXOn3JEEUrkfhNLYTQXsUrkerWx1B4XoUrmLYHEEpXI/CdRMxQShcj0JNKyhBFK5H4VpYCUFcj8K1NEMxQcP1KNwVEilBmZmZGceBIUEAAAAAAB3lQK5H4Xr2bQdBPQrXowy5+UCamZnZk9ExQR+F61Hs6PJAw/UoXPHkC0HC9ShcPz0OQRSuR6EWtzJBwvUoXLdjC0HsUbgehqwXQeJ6FC4aeTBBo3A9yvuhNUFmZmZm8vkVQbgehWtB1iJBXI/CdS94OUEAAAAAwFTsQJDC9Sg+VxVBMzMzM2lIIEGuR+F6WFL1QPYoXI9MiSRBT7geRTOMQ0GQwvUo5lAiQUjhepReNClBAAAAAFBM90DsUbgeYUP5QJDC9ShPozNBAAAAAFBfJUEAAAAACL4IQQAAAAAwJPlA\",\"dtype\":\"float64\",\"order\":\"little\",\"shape\":[54]}},\"selected\":{\"id\":\"8165\"},\"selection_policy\":{\"id\":\"8282\"}},\"id\":\"8164\",\"type\":\"ColumnDataSource\"},{\"attributes\":{},\"id\":\"8234\",\"type\":\"CategoricalScale\"},{\"attributes\":{},\"id\":\"8198\",\"type\":\"SaveTool\"},{\"attributes\":{\"callback\":null,\"renderers\":[{\"id\":\"8217\"}],\"tags\":[\"hv_created\"],\"tooltips\":[[\"State Code\",\"@{State_Code}\"],[\"2010 - 2014\",\"@{A_2010_hyphen_minus_2014}\"]]},\"id\":\"8181\",\"type\":\"HoverTool\"},{\"attributes\":{},\"id\":\"8222\",\"type\":\"CategoricalTickFormatter\"},{\"attributes\":{},\"id\":\"8142\",\"type\":\"LinearScale\"},{\"attributes\":{},\"id\":\"8200\",\"type\":\"WheelZoomTool\"},{\"attributes\":{},\"id\":\"8173\",\"type\":\"AllLabels\"},{\"attributes\":{},\"id\":\"8220\",\"type\":\"AllLabels\"},{\"attributes\":{},\"id\":\"8152\",\"type\":\"PanTool\"},{\"attributes\":{},\"id\":\"8176\",\"type\":\"AllLabels\"},{\"attributes\":{\"data\":{\"2015 - 2016\":{\"__ndarray__\":\"uB6F63skB0FH4XqU5e8kQc3MzMzWsRVBPQrXozP6HkEzMzMzsfRGQYXrUTi+vCdBexSux6iuJUHXo3A9zCQEQWZmZoagoEBBNDMzM0B2L0EAAAAASBwLQRSuR+HIvBtBCtejcJQbFkFwPQrXoewPQUjhehScLSdBNDMzMwPIKkHXo3A9r9IZQfYoXA+1hSJBhetROEEuJkGQwvWoWlUvQXA9CldwzC5BKVyPwhGGEEH2KFwPZtkyQY/C9aivqyRBuB6Fa8CYIkEAAAAAAAAAAHsUrkePoRNBCtejcB8CAkFcj8L16Is4QeF6FK4TYv5AwvUoXBn8D0EAAAAAZCERQcL1KBwDeDJBPgrXoyFsE0HiehSuc7UeQaRwPYpoBTJBo3A9SsR1OUGZmZmZ6O8eQT0K1yMZ+ihBAAAAwMm9PEEAAAAAUPD0QML1KFxsmBpBPgrXoy6qKEHD9Shc8xj8QJmZmRl2wS5BZmZmpndfRkHsUbieBhMmQYbrUThRJjRBAAAAAGBx+0Bcj8L1ToYAQc3MzMz7STdBAAAAAKg6KEEAAAAANF8QQQAAAAAIHwRB\",\"dtype\":\"float64\",\"order\":\"little\",\"shape\":[54]},\"A_2015_hyphen_minus_2016\":{\"__ndarray__\":\"uB6F63skB0FH4XqU5e8kQc3MzMzWsRVBPQrXozP6HkEzMzMzsfRGQYXrUTi+vCdBexSux6iuJUHXo3A9zCQEQWZmZoagoEBBNDMzM0B2L0EAAAAASBwLQRSuR+HIvBtBCtejcJQbFkFwPQrXoewPQUjhehScLSdBNDMzMwPIKkHXo3A9r9IZQfYoXA+1hSJBhetROEEuJkGQwvWoWlUvQXA9CldwzC5BKVyPwhGGEEH2KFwPZtkyQY/C9aivqyRBuB6Fa8CYIkEAAAAAAAAAAHsUrkePoRNBCtejcB8CAkFcj8L16Is4QeF6FK4TYv5AwvUoXBn8D0EAAAAAZCERQcL1KBwDeDJBPgrXoyFsE0HiehSuc7UeQaRwPYpoBTJBo3A9SsR1OUGZmZmZ6O8eQT0K1yMZ+ihBAAAAwMm9PEEAAAAAUPD0QML1KFxsmBpBPgrXoy6qKEHD9Shc8xj8QJmZmRl2wS5BZmZmpndfRkHsUbieBhMmQYbrUThRJjRBAAAAAGBx+0Bcj8L1ToYAQc3MzMz7STdBAAAAAKg6KEEAAAAANF8QQQAAAAAIHwRB\",\"dtype\":\"float64\",\"order\":\"little\",\"shape\":[54]},\"State Code\":[\"AK\",\"AL\",\"AR\",\"AZ\",\"CA\",\"CO\",\"CT\",\"DE\",\"FL\",\"GA\",\"GU\",\"HI\",\"IA\",\"ID\",\"IL\",\"IN\",\"KS\",\"KY\",\"LA\",\"MA\",\"MD\",\"ME\",\"MI\",\"MN\",\"MO\",\"MP\",\"MS\",\"MT\",\"NC\",\"ND\",\"NE\",\"NH\",\"NJ\",\"NM\",\"NV\",\"NY\",\"OH\",\"OK\",\"OR\",\"PA\",\"PR\",\"RI\",\"SC\",\"SD\",\"TN\",\"TX\",\"UT\",\"VA\",\"VI\",\"VT\",\"WA\",\"WI\",\"WV\",\"WY\"],\"State_Code\":[\"AK\",\"AL\",\"AR\",\"AZ\",\"CA\",\"CO\",\"CT\",\"DE\",\"FL\",\"GA\",\"GU\",\"HI\",\"IA\",\"ID\",\"IL\",\"IN\",\"KS\",\"KY\",\"LA\",\"MA\",\"MD\",\"ME\",\"MI\",\"MN\",\"MO\",\"MP\",\"MS\",\"MT\",\"NC\",\"ND\",\"NE\",\"NH\",\"NJ\",\"NM\",\"NV\",\"NY\",\"OH\",\"OK\",\"OR\",\"PA\",\"PR\",\"RI\",\"SC\",\"SD\",\"TN\",\"TX\",\"UT\",\"VA\",\"VI\",\"VT\",\"WA\",\"WI\",\"WV\",\"WY\"]},\"selected\":{\"id\":\"8259\"},\"selection_policy\":{\"id\":\"8304\"}},\"id\":\"8258\",\"type\":\"ColumnDataSource\"},{\"attributes\":{},\"id\":\"8153\",\"type\":\"WheelZoomTool\"},{\"attributes\":{},\"id\":\"8245\",\"type\":\"SaveTool\"},{\"attributes\":{\"children\":[[{\"id\":\"8135\"},0,0],[{\"id\":\"8182\"},0,1],[{\"id\":\"8229\"},0,2]]},\"id\":\"8306\",\"type\":\"GridBox\"},{\"attributes\":{\"callback\":null,\"renderers\":[{\"id\":\"8170\"}],\"tags\":[\"hv_created\"],\"tooltips\":[[\"State Code\",\"@{State_Code}\"],[\"Total Average Loan Amount\",\"@{Total_Average_Loan_Amount}\"]]},\"id\":\"8134\",\"type\":\"HoverTool\"},{\"attributes\":{},\"id\":\"8151\",\"type\":\"SaveTool\"},{\"attributes\":{\"active_multi\":null,\"tools\":[{\"id\":\"8228\"},{\"id\":\"8245\"},{\"id\":\"8246\"},{\"id\":\"8247\"},{\"id\":\"8248\"},{\"id\":\"8249\"}]},\"id\":\"8251\",\"type\":\"Toolbar\"},{\"attributes\":{\"overlay\":{\"id\":\"8156\"}},\"id\":\"8154\",\"type\":\"BoxZoomTool\"},{\"attributes\":{\"end\":3523678.784,\"reset_end\":3523678.784,\"reset_start\":-290429.34400000004,\"start\":-290429.34400000004,\"tags\":[[[\"2010 - 2014\",\"2010 - 2014\",null]]]},\"id\":\"8180\",\"type\":\"Range1d\"},{\"attributes\":{},\"id\":\"8155\",\"type\":\"ResetTool\"},{\"attributes\":{\"line_alpha\":0.1,\"line_color\":\"#30a2da\",\"line_width\":2,\"x\":{\"field\":\"State Code\"},\"y\":{\"field\":\"Total Average Loan Amount\"}},\"id\":\"8168\",\"type\":\"Line\"},{\"attributes\":{\"bottom_units\":\"screen\",\"fill_alpha\":0.5,\"fill_color\":\"lightgrey\",\"left_units\":\"screen\",\"level\":\"overlay\",\"line_alpha\":1.0,\"line_color\":\"black\",\"line_dash\":[4,4],\"line_width\":2,\"right_units\":\"screen\",\"syncable\":false,\"top_units\":\"screen\"},\"id\":\"8250\",\"type\":\"BoxAnnotation\"},{\"attributes\":{},\"id\":\"8187\",\"type\":\"CategoricalScale\"},{\"attributes\":{\"bottom_units\":\"screen\",\"fill_alpha\":0.5,\"fill_color\":\"lightgrey\",\"left_units\":\"screen\",\"level\":\"overlay\",\"line_alpha\":1.0,\"line_color\":\"black\",\"line_dash\":[4,4],\"line_width\":2,\"right_units\":\"screen\",\"syncable\":false,\"top_units\":\"screen\"},\"id\":\"8203\",\"type\":\"BoxAnnotation\"},{\"attributes\":{},\"id\":\"8282\",\"type\":\"UnionRenderers\"},{\"attributes\":{},\"id\":\"8165\",\"type\":\"Selection\"},{\"attributes\":{},\"id\":\"8225\",\"type\":\"BasicTickFormatter\"},{\"attributes\":{\"below\":[{\"id\":\"8144\"}],\"center\":[{\"id\":\"8146\"},{\"id\":\"8150\"}],\"height\":300,\"left\":[{\"id\":\"8147\"}],\"margin\":null,\"min_border_bottom\":10,\"min_border_left\":10,\"min_border_right\":10,\"min_border_top\":10,\"renderers\":[{\"id\":\"8170\"}],\"sizing_mode\":\"fixed\",\"title\":{\"id\":\"8136\"},\"toolbar\":{\"id\":\"8157\"},\"toolbar_location\":null,\"width\":700,\"x_range\":{\"id\":\"8132\"},\"x_scale\":{\"id\":\"8140\"},\"y_range\":{\"id\":\"8133\"},\"y_scale\":{\"id\":\"8142\"}},\"id\":\"8135\",\"subtype\":\"Figure\",\"type\":\"Plot\"},{\"attributes\":{},\"id\":\"8293\",\"type\":\"UnionRenderers\"},{\"attributes\":{},\"id\":\"8239\",\"type\":\"CategoricalTicker\"},{\"attributes\":{\"active_multi\":null,\"tools\":[{\"id\":\"8181\"},{\"id\":\"8198\"},{\"id\":\"8199\"},{\"id\":\"8200\"},{\"id\":\"8201\"},{\"id\":\"8202\"}]},\"id\":\"8204\",\"type\":\"Toolbar\"},{\"attributes\":{\"axis\":{\"id\":\"8238\"},\"grid_line_color\":null,\"ticker\":null},\"id\":\"8240\",\"type\":\"Grid\"},{\"attributes\":{},\"id\":\"8223\",\"type\":\"AllLabels\"},{\"attributes\":{},\"id\":\"8269\",\"type\":\"CategoricalTickFormatter\"},{\"attributes\":{\"overlay\":{\"id\":\"8203\"}},\"id\":\"8201\",\"type\":\"BoxZoomTool\"},{\"attributes\":{\"line_color\":\"#30a2da\",\"line_width\":2,\"x\":{\"field\":\"State Code\"},\"y\":{\"field\":\"2015 - 2016\"}},\"id\":\"8266\",\"type\":\"Line\"},{\"attributes\":{},\"id\":\"8247\",\"type\":\"WheelZoomTool\"},{\"attributes\":{\"active_multi\":null,\"tools\":[{\"id\":\"8134\"},{\"id\":\"8151\"},{\"id\":\"8152\"},{\"id\":\"8153\"},{\"id\":\"8154\"},{\"id\":\"8155\"}]},\"id\":\"8157\",\"type\":\"Toolbar\"},{\"attributes\":{},\"id\":\"8270\",\"type\":\"AllLabels\"},{\"attributes\":{\"line_alpha\":0.2,\"line_color\":\"#30a2da\",\"line_width\":2,\"x\":{\"field\":\"State Code\"},\"y\":{\"field\":\"2010 - 2014\"}},\"id\":\"8216\",\"type\":\"Line\"},{\"attributes\":{\"line_color\":\"#30a2da\",\"line_width\":2,\"x\":{\"field\":\"State Code\"},\"y\":{\"field\":\"2010 - 2014\"}},\"id\":\"8219\",\"type\":\"Line\"},{\"attributes\":{},\"id\":\"8202\",\"type\":\"ResetTool\"},{\"attributes\":{\"line_color\":\"#30a2da\",\"line_width\":2,\"x\":{\"field\":\"State Code\"},\"y\":{\"field\":\"Total Average Loan Amount\"}},\"id\":\"8167\",\"type\":\"Line\"},{\"attributes\":{\"source\":{\"id\":\"8164\"}},\"id\":\"8171\",\"type\":\"CDSView\"},{\"attributes\":{},\"id\":\"8246\",\"type\":\"PanTool\"},{\"attributes\":{\"end\":3081895.235000001,\"reset_end\":3081895.235000001,\"reset_start\":-233001.38500000007,\"start\":-233001.38500000007,\"tags\":[[[\"Total Average Loan Amount\",\"Total Average Loan Amount\",null]]]},\"id\":\"8133\",\"type\":\"Range1d\"},{\"attributes\":{},\"id\":\"8304\",\"type\":\"UnionRenderers\"},{\"attributes\":{},\"id\":\"8272\",\"type\":\"BasicTickFormatter\"},{\"attributes\":{\"line_alpha\":0.2,\"line_color\":\"#30a2da\",\"line_width\":2,\"x\":{\"field\":\"State Code\"},\"y\":{\"field\":\"2015 - 2016\"}},\"id\":\"8263\",\"type\":\"Line\"},{\"attributes\":{\"bottom_units\":\"screen\",\"fill_alpha\":0.5,\"fill_color\":\"lightgrey\",\"left_units\":\"screen\",\"level\":\"overlay\",\"line_alpha\":1.0,\"line_color\":\"black\",\"line_dash\":[4,4],\"line_width\":2,\"right_units\":\"screen\",\"syncable\":false,\"top_units\":\"screen\"},\"id\":\"8156\",\"type\":\"BoxAnnotation\"}],\"root_ids\":[\"8130\"]},\"title\":\"Bokeh Application\",\"version\":\"2.3.2\"}};\n",
       "    var render_items = [{\"docid\":\"caefc789-ee51-4c18-8b9b-b444819267b7\",\"root_ids\":[\"8130\"],\"roots\":{\"8130\":\"4417d150-6b33-424b-ac50-a55d0317b723\"}}];\n",
       "    root.Bokeh.embed.embed_items_notebook(docs_json, render_items);\n",
       "  }\n",
       "  if (root.Bokeh !== undefined && root.Bokeh.Panel !== undefined) {\n",
       "    embed_document(root);\n",
       "  } else {\n",
       "    var attempts = 0;\n",
       "    var timer = setInterval(function(root) {\n",
       "      if (root.Bokeh !== undefined && root.Bokeh.Panel !== undefined) {\n",
       "        clearInterval(timer);\n",
       "        embed_document(root);\n",
       "      } else if (document.readyState == \"complete\") {\n",
       "        attempts++;\n",
       "        if (attempts > 100) {\n",
       "          clearInterval(timer);\n",
       "          console.log(\"Bokeh: ERROR: Unable to run BokehJS code because BokehJS library is missing\");\n",
       "        }\n",
       "      }\n",
       "    }, 10, root)\n",
       "  }\n",
       "})(window);</script>"
      ],
      "text/plain": [
       ":Layout\n",
       "   .Curve.I   :Curve   [State Code]   (Total Average Loan Amount)\n",
       "   .Curve.II  :Curve   [State Code]   (2010 - 2014)\n",
       "   .Curve.III :Curve   [State Code]   (2015 - 2016)"
      ]
     },
     "execution_count": 55,
     "metadata": {
      "application/vnd.holoviews_exec.v0+json": {
       "id": "8130"
      }
     },
     "output_type": "execute_result"
    }
   ],
   "source": [
    "# Compose plots\n",
    "total_avg_loan_amt.hvplot() + total_avg_loan_amt_10_14.hvplot() + total_avg_loan_amt_15_16.hvplot()"
   ]
  },
  {
   "cell_type": "code",
   "execution_count": 56,
   "metadata": {},
   "outputs": [
    {
     "data": {},
     "metadata": {},
     "output_type": "display_data"
    },
    {
     "data": {
      "application/vnd.holoviews_exec.v0+json": "",
      "text/html": [
       "<div id='8732'>\n",
       "\n",
       "\n",
       "\n",
       "\n",
       "\n",
       "  <div class=\"bk-root\" id=\"9647fcfd-61fb-4c4d-8cba-57c6a8c3a59a\" data-root-id=\"8732\"></div>\n",
       "</div>\n",
       "<script type=\"application/javascript\">(function(root) {\n",
       "  function embed_document(root) {\n",
       "    var docs_json = {\"2533187b-d313-4bfe-a3fd-75c6c90bbb67\":{\"defs\":[],\"roots\":{\"references\":[{\"attributes\":{},\"id\":\"8820\",\"type\":\"Selection\"},{\"attributes\":{\"axis\":{\"id\":\"8748\"},\"grid_line_color\":null,\"ticker\":null},\"id\":\"8750\",\"type\":\"Grid\"},{\"attributes\":{},\"id\":\"8777\",\"type\":\"Selection\"},{\"attributes\":{},\"id\":\"8840\",\"type\":\"UnionRenderers\"},{\"attributes\":{\"active_multi\":null,\"tools\":[{\"id\":\"8736\"},{\"id\":\"8737\"},{\"id\":\"8738\"},{\"id\":\"8755\"},{\"id\":\"8756\"},{\"id\":\"8757\"},{\"id\":\"8758\"},{\"id\":\"8759\"}]},\"id\":\"8761\",\"type\":\"Toolbar\"},{\"attributes\":{\"axis_label\":\"State Code\",\"formatter\":{\"id\":\"8772\"},\"major_label_policy\":{\"id\":\"8770\"},\"ticker\":{\"id\":\"8749\"}},\"id\":\"8748\",\"type\":\"CategoricalAxis\"},{\"attributes\":{},\"id\":\"8757\",\"type\":\"WheelZoomTool\"},{\"attributes\":{},\"id\":\"8773\",\"type\":\"AllLabels\"},{\"attributes\":{\"data\":{\"State Code\":[\"AK\",\"AL\",\"AR\",\"AZ\",\"CA\",\"CO\",\"CT\",\"DE\",\"FL\",\"GA\",\"GU\",\"HI\",\"IA\",\"ID\",\"IL\",\"IN\",\"KS\",\"KY\",\"LA\",\"MA\",\"MD\",\"ME\",\"MI\",\"MN\",\"MO\",\"MP\",\"MS\",\"MT\",\"NC\",\"ND\",\"NE\",\"NH\",\"NJ\",\"NM\",\"NV\",\"NY\",\"OH\",\"OK\",\"OR\",\"PA\",\"PR\",\"RI\",\"SC\",\"SD\",\"TN\",\"TX\",\"UT\",\"VA\",\"VI\",\"VT\",\"WA\",\"WI\",\"WV\",\"WY\"],\"State_Code\":[\"AK\",\"AL\",\"AR\",\"AZ\",\"CA\",\"CO\",\"CT\",\"DE\",\"FL\",\"GA\",\"GU\",\"HI\",\"IA\",\"ID\",\"IL\",\"IN\",\"KS\",\"KY\",\"LA\",\"MA\",\"MD\",\"ME\",\"MI\",\"MN\",\"MO\",\"MP\",\"MS\",\"MT\",\"NC\",\"ND\",\"NE\",\"NH\",\"NJ\",\"NM\",\"NV\",\"NY\",\"OH\",\"OK\",\"OR\",\"PA\",\"PR\",\"RI\",\"SC\",\"SD\",\"TN\",\"TX\",\"UT\",\"VA\",\"VI\",\"VT\",\"WA\",\"WI\",\"WV\",\"WY\"],\"Total Average Loan Amount\":{\"__ndarray__\":\"7FG4HlsqAkHrUbgeuo0aQUjhehSxEBBBFa5H4a88IkHOzMzsymdFQfYoXA/s+SFBH4XrUdBmIEFSuB6F+3QAQfYoXE887TdBwvUo3Ky1MEEAAAAAaEMGQa5H4XpvlhRBH4XrUQ3cEkGamZmZNUkJQVS4HgX9tylBwvUoXOn3JEEUrkfhNLYTQXsUrkerWx1B4XoUrmLYHEEpXI/CdRMxQShcj0JNKyhBFK5H4VpYCUFcj8K1NEMxQcP1KNwVEilBmZmZGceBIUEAAAAAAB3lQK5H4Xr2bQdBPQrXowy5+UCamZnZk9ExQR+F61Hs6PJAw/UoXPHkC0HC9ShcPz0OQRSuR6EWtzJBwvUoXLdjC0HsUbgehqwXQeJ6FC4aeTBBo3A9yvuhNUFmZmZm8vkVQbgehWtB1iJBXI/CdS94OUEAAAAAwFTsQJDC9Sg+VxVBMzMzM2lIIEGuR+F6WFL1QPYoXI9MiSRBT7geRTOMQ0GQwvUo5lAiQUjhepReNClBAAAAAFBM90DsUbgeYUP5QJDC9ShPozNBAAAAAFBfJUEAAAAACL4IQQAAAAAwJPlA\",\"dtype\":\"float64\",\"order\":\"little\",\"shape\":[54]},\"Total_Average_Loan_Amount\":{\"__ndarray__\":\"7FG4HlsqAkHrUbgeuo0aQUjhehSxEBBBFa5H4a88IkHOzMzsymdFQfYoXA/s+SFBH4XrUdBmIEFSuB6F+3QAQfYoXE887TdBwvUo3Ky1MEEAAAAAaEMGQa5H4XpvlhRBH4XrUQ3cEkGamZmZNUkJQVS4HgX9tylBwvUoXOn3JEEUrkfhNLYTQXsUrkerWx1B4XoUrmLYHEEpXI/CdRMxQShcj0JNKyhBFK5H4VpYCUFcj8K1NEMxQcP1KNwVEilBmZmZGceBIUEAAAAAAB3lQK5H4Xr2bQdBPQrXowy5+UCamZnZk9ExQR+F61Hs6PJAw/UoXPHkC0HC9ShcPz0OQRSuR6EWtzJBwvUoXLdjC0HsUbgehqwXQeJ6FC4aeTBBo3A9yvuhNUFmZmZm8vkVQbgehWtB1iJBXI/CdS94OUEAAAAAwFTsQJDC9Sg+VxVBMzMzM2lIIEGuR+F6WFL1QPYoXI9MiSRBT7geRTOMQ0GQwvUo5lAiQUjhepReNClBAAAAAFBM90DsUbgeYUP5QJDC9ShPozNBAAAAAFBfJUEAAAAACL4IQQAAAAAwJPlA\",\"dtype\":\"float64\",\"order\":\"little\",\"shape\":[54]}},\"selected\":{\"id\":\"8777\"},\"selection_policy\":{\"id\":\"8793\"}},\"id\":\"8776\",\"type\":\"ColumnDataSource\"},{\"attributes\":{\"margin\":[5,5,5,5],\"name\":\"HSpacer15085\",\"sizing_mode\":\"stretch_width\"},\"id\":\"8969\",\"type\":\"Spacer\"},{\"attributes\":{},\"id\":\"8755\",\"type\":\"SaveTool\"},{\"attributes\":{\"line_alpha\":0.2,\"line_color\":\"blue\",\"line_width\":2,\"x\":{\"field\":\"State Code\"},\"y\":{\"field\":\"2015 - 2016\"}},\"id\":\"8824\",\"type\":\"Line\"},{\"attributes\":{},\"id\":\"8772\",\"type\":\"CategoricalTickFormatter\"},{\"attributes\":{\"line_alpha\":0.2,\"line_color\":\"red\",\"line_width\":2,\"x\":{\"field\":\"State Code\"},\"y\":{\"field\":\"2010 - 2014\"}},\"id\":\"8802\",\"type\":\"Line\"},{\"attributes\":{\"end\":3526420.084,\"reset_end\":3526420.084,\"reset_start\":-320583.64400000003,\"start\":-320583.64400000003,\"tags\":[[[\"Total Average Loan Amount\",\"Total Average Loan Amount\",null]]]},\"id\":\"8735\",\"type\":\"Range1d\"},{\"attributes\":{},\"id\":\"8744\",\"type\":\"CategoricalScale\"},{\"attributes\":{\"source\":{\"id\":\"8819\"}},\"id\":\"8826\",\"type\":\"CDSView\"},{\"attributes\":{},\"id\":\"8798\",\"type\":\"Selection\"},{\"attributes\":{\"below\":[{\"id\":\"8748\"}],\"center\":[{\"id\":\"8750\"},{\"id\":\"8754\"},{\"id\":\"8794\"}],\"height\":500,\"left\":[{\"id\":\"8751\"}],\"margin\":[5,5,5,5],\"min_border_bottom\":10,\"min_border_left\":10,\"min_border_right\":10,\"min_border_top\":10,\"renderers\":[{\"id\":\"8782\"},{\"id\":\"8803\"},{\"id\":\"8825\"}],\"sizing_mode\":\"fixed\",\"title\":{\"id\":\"8740\"},\"toolbar\":{\"id\":\"8761\"},\"width\":1000,\"x_range\":{\"id\":\"8734\"},\"x_scale\":{\"id\":\"8744\"},\"y_range\":{\"id\":\"8735\"},\"y_scale\":{\"id\":\"8746\"}},\"id\":\"8739\",\"subtype\":\"Figure\",\"type\":\"Plot\"},{\"attributes\":{\"factors\":[\"AK\",\"AL\",\"AR\",\"AZ\",\"CA\",\"CO\",\"CT\",\"DE\",\"FL\",\"GA\",\"GU\",\"HI\",\"IA\",\"ID\",\"IL\",\"IN\",\"KS\",\"KY\",\"LA\",\"MA\",\"MD\",\"ME\",\"MI\",\"MN\",\"MO\",\"MP\",\"MS\",\"MT\",\"NC\",\"ND\",\"NE\",\"NH\",\"NJ\",\"NM\",\"NV\",\"NY\",\"OH\",\"OK\",\"OR\",\"PA\",\"PR\",\"RI\",\"SC\",\"SD\",\"TN\",\"TX\",\"UT\",\"VA\",\"VI\",\"VT\",\"WA\",\"WI\",\"WV\",\"WY\"],\"tags\":[[[\"State Code\",\"State Code\",null]]]},\"id\":\"8734\",\"type\":\"FactorRange\"},{\"attributes\":{\"click_policy\":\"mute\",\"items\":[{\"id\":\"8795\"},{\"id\":\"8817\"},{\"id\":\"8841\"}]},\"id\":\"8794\",\"type\":\"Legend\"},{\"attributes\":{},\"id\":\"8816\",\"type\":\"UnionRenderers\"},{\"attributes\":{\"callback\":null,\"renderers\":[{\"id\":\"8825\"}],\"tags\":[\"hv_created\"],\"tooltips\":[[\"State Code\",\"@{State_Code}\"],[\"2015 - 2016\",\"@{A_2015_hyphen_minus_2016}\"]]},\"id\":\"8738\",\"type\":\"HoverTool\"},{\"attributes\":{\"overlay\":{\"id\":\"8760\"}},\"id\":\"8758\",\"type\":\"BoxZoomTool\"},{\"attributes\":{\"line_alpha\":0.2,\"line_dash\":[2,4],\"line_width\":2,\"x\":{\"field\":\"State Code\"},\"y\":{\"field\":\"Total Average Loan Amount\"}},\"id\":\"8781\",\"type\":\"Line\"},{\"attributes\":{\"label\":{\"value\":\"State avg\"},\"renderers\":[{\"id\":\"8782\"}]},\"id\":\"8795\",\"type\":\"LegendItem\"},{\"attributes\":{},\"id\":\"8746\",\"type\":\"LinearScale\"},{\"attributes\":{\"text_color\":\"black\",\"text_font_size\":\"12pt\"},\"id\":\"8740\",\"type\":\"Title\"},{\"attributes\":{},\"id\":\"8775\",\"type\":\"BasicTickFormatter\"},{\"attributes\":{\"label\":{\"value\":\"2015-16\"},\"renderers\":[{\"id\":\"8825\"}]},\"id\":\"8841\",\"type\":\"LegendItem\"},{\"attributes\":{\"data_source\":{\"id\":\"8797\"},\"glyph\":{\"id\":\"8800\"},\"hover_glyph\":null,\"muted_glyph\":{\"id\":\"8802\"},\"nonselection_glyph\":{\"id\":\"8801\"},\"selection_glyph\":{\"id\":\"8818\"},\"view\":{\"id\":\"8804\"}},\"id\":\"8803\",\"type\":\"GlyphRenderer\"},{\"attributes\":{\"data_source\":{\"id\":\"8819\"},\"glyph\":{\"id\":\"8822\"},\"hover_glyph\":null,\"muted_glyph\":{\"id\":\"8824\"},\"nonselection_glyph\":{\"id\":\"8823\"},\"selection_glyph\":{\"id\":\"8842\"},\"view\":{\"id\":\"8826\"}},\"id\":\"8825\",\"type\":\"GlyphRenderer\"},{\"attributes\":{\"data\":{\"2010 - 2014\":{\"__ndarray__\":\"7FG4HpsKBUEVrkfhrssjQeF6FK4pdRVBexSuRxFNIkHXo3CdZvxFQcL1KFw2lSVBUrgehZxAJUEfhetRytYDQRWuRyGWpD1BrUfhupCSMUEAAAAA8M0HQR+F61GBGxpBZ2ZmZoWTFUHsUbgep5wOQexRuB7D5SlBZWZmZtumKEHhehSuMNkYQfYoXA9pNSJBcD0K1wonJUE+CtfjgGY0QSCF61Gd3ilBFK5H4du/EEFnZmZmr5kxQexRuJ5t9iJBXI/CdS42IUEAAAAAQMXaQAAAAADi0xFBH4XrUYovAUFmZmZmgAY3QdejcD16Hv1AehSuRytREEEehetRD5QRQQvXo/BySzRBPgrXo8h5EkEqXI/Cv0cYQWdmZiaJWDJBFa5HYU4PNkEpXI/CqnAcQaRwPQrxaCdBAAAAwKYZP0EAAAAAULzzQFyPwvUgYxhBAAAAgEoSJ0H2KFyPsrr5QChcj0Lu0StBhetROGZ1SEG4HoVrN0YkQXE9ChcITzJBAAAAACA8/EBSuB6FA0IAQZDC9agWEDdBAAAAAJg9KUEAAAAA0JkQQQAAAABISQBB\",\"dtype\":\"float64\",\"order\":\"little\",\"shape\":[54]},\"A_2010_hyphen_minus_2014\":{\"__ndarray__\":\"7FG4HpsKBUEVrkfhrssjQeF6FK4pdRVBexSuRxFNIkHXo3CdZvxFQcL1KFw2lSVBUrgehZxAJUEfhetRytYDQRWuRyGWpD1BrUfhupCSMUEAAAAA8M0HQR+F61GBGxpBZ2ZmZoWTFUHsUbgep5wOQexRuB7D5SlBZWZmZtumKEHhehSuMNkYQfYoXA9pNSJBcD0K1wonJUE+CtfjgGY0QSCF61Gd3ilBFK5H4du/EEFnZmZmr5kxQexRuJ5t9iJBXI/CdS42IUEAAAAAQMXaQAAAAADi0xFBH4XrUYovAUFmZmZmgAY3QdejcD16Hv1AehSuRytREEEehetRD5QRQQvXo/BySzRBPgrXo8h5EkEqXI/Cv0cYQWdmZiaJWDJBFa5HYU4PNkEpXI/CqnAcQaRwPQrxaCdBAAAAwKYZP0EAAAAAULzzQFyPwvUgYxhBAAAAgEoSJ0H2KFyPsrr5QChcj0Lu0StBhetROGZ1SEG4HoVrN0YkQXE9ChcITzJBAAAAACA8/EBSuB6FA0IAQZDC9agWEDdBAAAAAJg9KUEAAAAA0JkQQQAAAABISQBB\",\"dtype\":\"float64\",\"order\":\"little\",\"shape\":[54]},\"State Code\":[\"AK\",\"AL\",\"AR\",\"AZ\",\"CA\",\"CO\",\"CT\",\"DE\",\"FL\",\"GA\",\"GU\",\"HI\",\"IA\",\"ID\",\"IL\",\"IN\",\"KS\",\"KY\",\"LA\",\"MA\",\"MD\",\"ME\",\"MI\",\"MN\",\"MO\",\"MP\",\"MS\",\"MT\",\"NC\",\"ND\",\"NE\",\"NH\",\"NJ\",\"NM\",\"NV\",\"NY\",\"OH\",\"OK\",\"OR\",\"PA\",\"PR\",\"RI\",\"SC\",\"SD\",\"TN\",\"TX\",\"UT\",\"VA\",\"VI\",\"VT\",\"WA\",\"WI\",\"WV\",\"WY\"],\"State_Code\":[\"AK\",\"AL\",\"AR\",\"AZ\",\"CA\",\"CO\",\"CT\",\"DE\",\"FL\",\"GA\",\"GU\",\"HI\",\"IA\",\"ID\",\"IL\",\"IN\",\"KS\",\"KY\",\"LA\",\"MA\",\"MD\",\"ME\",\"MI\",\"MN\",\"MO\",\"MP\",\"MS\",\"MT\",\"NC\",\"ND\",\"NE\",\"NH\",\"NJ\",\"NM\",\"NV\",\"NY\",\"OH\",\"OK\",\"OR\",\"PA\",\"PR\",\"RI\",\"SC\",\"SD\",\"TN\",\"TX\",\"UT\",\"VA\",\"VI\",\"VT\",\"WA\",\"WI\",\"WV\",\"WY\"]},\"selected\":{\"id\":\"8798\"},\"selection_policy\":{\"id\":\"8816\"}},\"id\":\"8797\",\"type\":\"ColumnDataSource\"},{\"attributes\":{\"axis_label\":\"Total Average Loan Amount\",\"formatter\":{\"id\":\"8775\"},\"major_label_policy\":{\"id\":\"8773\"},\"ticker\":{\"id\":\"8752\"}},\"id\":\"8751\",\"type\":\"LinearAxis\"},{\"attributes\":{\"callback\":null,\"renderers\":[{\"id\":\"8803\"}],\"tags\":[\"hv_created\"],\"tooltips\":[[\"State Code\",\"@{State_Code}\"],[\"2010 - 2014\",\"@{A_2010_hyphen_minus_2014}\"]]},\"id\":\"8737\",\"type\":\"HoverTool\"},{\"attributes\":{},\"id\":\"8759\",\"type\":\"ResetTool\"},{\"attributes\":{\"line_alpha\":0.5,\"line_color\":\"red\",\"line_width\":2,\"x\":{\"field\":\"State Code\"},\"y\":{\"field\":\"2010 - 2014\"}},\"id\":\"8801\",\"type\":\"Line\"},{\"attributes\":{\"bottom_units\":\"screen\",\"fill_alpha\":0.5,\"fill_color\":\"lightgrey\",\"left_units\":\"screen\",\"level\":\"overlay\",\"line_alpha\":1.0,\"line_color\":\"black\",\"line_dash\":[4,4],\"line_width\":2,\"right_units\":\"screen\",\"syncable\":false,\"top_units\":\"screen\"},\"id\":\"8760\",\"type\":\"BoxAnnotation\"},{\"attributes\":{\"line_alpha\":0.7,\"line_dash\":[2,4],\"line_width\":2,\"x\":{\"field\":\"State Code\"},\"y\":{\"field\":\"Total Average Loan Amount\"}},\"id\":\"8796\",\"type\":\"Line\"},{\"attributes\":{\"source\":{\"id\":\"8797\"}},\"id\":\"8804\",\"type\":\"CDSView\"},{\"attributes\":{\"line_alpha\":0.3,\"line_color\":\"blue\",\"line_width\":2,\"x\":{\"field\":\"State Code\"},\"y\":{\"field\":\"2015 - 2016\"}},\"id\":\"8823\",\"type\":\"Line\"},{\"attributes\":{},\"id\":\"8793\",\"type\":\"UnionRenderers\"},{\"attributes\":{\"margin\":[5,5,5,5],\"name\":\"HSpacer15084\",\"sizing_mode\":\"stretch_width\"},\"id\":\"8733\",\"type\":\"Spacer\"},{\"attributes\":{},\"id\":\"8756\",\"type\":\"PanTool\"},{\"attributes\":{\"label\":{\"value\":\"2010-14\"},\"renderers\":[{\"id\":\"8803\"}]},\"id\":\"8817\",\"type\":\"LegendItem\"},{\"attributes\":{\"children\":[{\"id\":\"8733\"},{\"id\":\"8739\"},{\"id\":\"8969\"}],\"margin\":[0,0,0,0],\"name\":\"Row15080\",\"tags\":[\"embedded\"]},\"id\":\"8732\",\"type\":\"Row\"},{\"attributes\":{},\"id\":\"8770\",\"type\":\"AllLabels\"},{\"attributes\":{\"line_alpha\":0.5,\"line_color\":\"red\",\"line_width\":2,\"x\":{\"field\":\"State Code\"},\"y\":{\"field\":\"2010 - 2014\"}},\"id\":\"8800\",\"type\":\"Line\"},{\"attributes\":{},\"id\":\"8752\",\"type\":\"BasicTicker\"},{\"attributes\":{\"source\":{\"id\":\"8776\"}},\"id\":\"8783\",\"type\":\"CDSView\"},{\"attributes\":{\"line_alpha\":0.5,\"line_color\":\"red\",\"line_width\":2,\"x\":{\"field\":\"State Code\"},\"y\":{\"field\":\"2010 - 2014\"}},\"id\":\"8818\",\"type\":\"Line\"},{\"attributes\":{\"axis\":{\"id\":\"8751\"},\"dimension\":1,\"grid_line_color\":null,\"ticker\":null},\"id\":\"8754\",\"type\":\"Grid\"},{\"attributes\":{\"line_alpha\":0.3,\"line_color\":\"blue\",\"line_width\":2,\"x\":{\"field\":\"State Code\"},\"y\":{\"field\":\"2015 - 2016\"}},\"id\":\"8842\",\"type\":\"Line\"},{\"attributes\":{\"line_alpha\":0.3,\"line_color\":\"blue\",\"line_width\":2,\"x\":{\"field\":\"State Code\"},\"y\":{\"field\":\"2015 - 2016\"}},\"id\":\"8822\",\"type\":\"Line\"},{\"attributes\":{\"data\":{\"2015 - 2016\":{\"__ndarray__\":\"uB6F63skB0FH4XqU5e8kQc3MzMzWsRVBPQrXozP6HkEzMzMzsfRGQYXrUTi+vCdBexSux6iuJUHXo3A9zCQEQWZmZoagoEBBNDMzM0B2L0EAAAAASBwLQRSuR+HIvBtBCtejcJQbFkFwPQrXoewPQUjhehScLSdBNDMzMwPIKkHXo3A9r9IZQfYoXA+1hSJBhetROEEuJkGQwvWoWlUvQXA9CldwzC5BKVyPwhGGEEH2KFwPZtkyQY/C9aivqyRBuB6Fa8CYIkEAAAAAAAAAAHsUrkePoRNBCtejcB8CAkFcj8L16Is4QeF6FK4TYv5AwvUoXBn8D0EAAAAAZCERQcL1KBwDeDJBPgrXoyFsE0HiehSuc7UeQaRwPYpoBTJBo3A9SsR1OUGZmZmZ6O8eQT0K1yMZ+ihBAAAAwMm9PEEAAAAAUPD0QML1KFxsmBpBPgrXoy6qKEHD9Shc8xj8QJmZmRl2wS5BZmZmpndfRkHsUbieBhMmQYbrUThRJjRBAAAAAGBx+0Bcj8L1ToYAQc3MzMz7STdBAAAAAKg6KEEAAAAANF8QQQAAAAAIHwRB\",\"dtype\":\"float64\",\"order\":\"little\",\"shape\":[54]},\"A_2015_hyphen_minus_2016\":{\"__ndarray__\":\"uB6F63skB0FH4XqU5e8kQc3MzMzWsRVBPQrXozP6HkEzMzMzsfRGQYXrUTi+vCdBexSux6iuJUHXo3A9zCQEQWZmZoagoEBBNDMzM0B2L0EAAAAASBwLQRSuR+HIvBtBCtejcJQbFkFwPQrXoewPQUjhehScLSdBNDMzMwPIKkHXo3A9r9IZQfYoXA+1hSJBhetROEEuJkGQwvWoWlUvQXA9CldwzC5BKVyPwhGGEEH2KFwPZtkyQY/C9aivqyRBuB6Fa8CYIkEAAAAAAAAAAHsUrkePoRNBCtejcB8CAkFcj8L16Is4QeF6FK4TYv5AwvUoXBn8D0EAAAAAZCERQcL1KBwDeDJBPgrXoyFsE0HiehSuc7UeQaRwPYpoBTJBo3A9SsR1OUGZmZmZ6O8eQT0K1yMZ+ihBAAAAwMm9PEEAAAAAUPD0QML1KFxsmBpBPgrXoy6qKEHD9Shc8xj8QJmZmRl2wS5BZmZmpndfRkHsUbieBhMmQYbrUThRJjRBAAAAAGBx+0Bcj8L1ToYAQc3MzMz7STdBAAAAAKg6KEEAAAAANF8QQQAAAAAIHwRB\",\"dtype\":\"float64\",\"order\":\"little\",\"shape\":[54]},\"State Code\":[\"AK\",\"AL\",\"AR\",\"AZ\",\"CA\",\"CO\",\"CT\",\"DE\",\"FL\",\"GA\",\"GU\",\"HI\",\"IA\",\"ID\",\"IL\",\"IN\",\"KS\",\"KY\",\"LA\",\"MA\",\"MD\",\"ME\",\"MI\",\"MN\",\"MO\",\"MP\",\"MS\",\"MT\",\"NC\",\"ND\",\"NE\",\"NH\",\"NJ\",\"NM\",\"NV\",\"NY\",\"OH\",\"OK\",\"OR\",\"PA\",\"PR\",\"RI\",\"SC\",\"SD\",\"TN\",\"TX\",\"UT\",\"VA\",\"VI\",\"VT\",\"WA\",\"WI\",\"WV\",\"WY\"],\"State_Code\":[\"AK\",\"AL\",\"AR\",\"AZ\",\"CA\",\"CO\",\"CT\",\"DE\",\"FL\",\"GA\",\"GU\",\"HI\",\"IA\",\"ID\",\"IL\",\"IN\",\"KS\",\"KY\",\"LA\",\"MA\",\"MD\",\"ME\",\"MI\",\"MN\",\"MO\",\"MP\",\"MS\",\"MT\",\"NC\",\"ND\",\"NE\",\"NH\",\"NJ\",\"NM\",\"NV\",\"NY\",\"OH\",\"OK\",\"OR\",\"PA\",\"PR\",\"RI\",\"SC\",\"SD\",\"TN\",\"TX\",\"UT\",\"VA\",\"VI\",\"VT\",\"WA\",\"WI\",\"WV\",\"WY\"]},\"selected\":{\"id\":\"8820\"},\"selection_policy\":{\"id\":\"8840\"}},\"id\":\"8819\",\"type\":\"ColumnDataSource\"},{\"attributes\":{\"line_alpha\":0.7,\"line_dash\":[2,4],\"line_width\":2,\"x\":{\"field\":\"State Code\"},\"y\":{\"field\":\"Total Average Loan Amount\"}},\"id\":\"8779\",\"type\":\"Line\"},{\"attributes\":{\"line_alpha\":0.7,\"line_dash\":[2,4],\"line_width\":2,\"x\":{\"field\":\"State Code\"},\"y\":{\"field\":\"Total Average Loan Amount\"}},\"id\":\"8780\",\"type\":\"Line\"},{\"attributes\":{},\"id\":\"8749\",\"type\":\"CategoricalTicker\"},{\"attributes\":{\"data_source\":{\"id\":\"8776\"},\"glyph\":{\"id\":\"8779\"},\"hover_glyph\":null,\"muted_glyph\":{\"id\":\"8781\"},\"nonselection_glyph\":{\"id\":\"8780\"},\"selection_glyph\":{\"id\":\"8796\"},\"view\":{\"id\":\"8783\"}},\"id\":\"8782\",\"type\":\"GlyphRenderer\"},{\"attributes\":{\"callback\":null,\"renderers\":[{\"id\":\"8782\"}],\"tags\":[\"hv_created\"],\"tooltips\":[[\"State Code\",\"@{State_Code}\"],[\"Total Average Loan Amount\",\"@{Total_Average_Loan_Amount}\"]]},\"id\":\"8736\",\"type\":\"HoverTool\"}],\"root_ids\":[\"8732\"]},\"title\":\"Bokeh Application\",\"version\":\"2.3.2\"}};\n",
       "    var render_items = [{\"docid\":\"2533187b-d313-4bfe-a3fd-75c6c90bbb67\",\"root_ids\":[\"8732\"],\"roots\":{\"8732\":\"9647fcfd-61fb-4c4d-8cba-57c6a8c3a59a\"}}];\n",
       "    root.Bokeh.embed.embed_items_notebook(docs_json, render_items);\n",
       "  }\n",
       "  if (root.Bokeh !== undefined && root.Bokeh.Panel !== undefined) {\n",
       "    embed_document(root);\n",
       "  } else {\n",
       "    var attempts = 0;\n",
       "    var timer = setInterval(function(root) {\n",
       "      if (root.Bokeh !== undefined && root.Bokeh.Panel !== undefined) {\n",
       "        clearInterval(timer);\n",
       "        embed_document(root);\n",
       "      } else if (document.readyState == \"complete\") {\n",
       "        attempts++;\n",
       "        if (attempts > 100) {\n",
       "          clearInterval(timer);\n",
       "          console.log(\"Bokeh: ERROR: Unable to run BokehJS code because BokehJS library is missing\");\n",
       "        }\n",
       "      }\n",
       "    }, 10, root)\n",
       "  }\n",
       "})(window);</script>"
      ],
      "text/plain": [
       ":Overlay\n",
       "   .Curve.State_avg              :Curve   [State Code]   (Total Average Loan Amount)\n",
       "   .Curve.A_2010_hyphen_minus_14 :Curve   [State Code]   (2010 - 2014)\n",
       "   .Curve.A_2015_hyphen_minus_16 :Curve   [State Code]   (2015 - 2016)"
      ]
     },
     "execution_count": 56,
     "metadata": {
      "application/vnd.holoviews_exec.v0+json": {
       "id": "8732"
      }
     },
     "output_type": "execute_result"
    }
   ],
   "source": [
    "total_avg_loan_amt.hvplot(label='State avg', width=1000, height=500, color='black', alpha=0.7, line_dash='dotted') * total_avg_loan_amt_10_14.hvplot(label=\"2010-14\", color='red', alpha=0.5) * total_avg_loan_amt_15_16.hvplot(label=\"2015-16\", color='blue', alpha=0.3)"
   ]
  },
  {
   "cell_type": "code",
   "execution_count": 57,
   "metadata": {},
   "outputs": [
    {
     "data": {
      "text/html": [
       "<div>\n",
       "<style scoped>\n",
       "    .dataframe tbody tr th:only-of-type {\n",
       "        vertical-align: middle;\n",
       "    }\n",
       "\n",
       "    .dataframe tbody tr th {\n",
       "        vertical-align: top;\n",
       "    }\n",
       "\n",
       "    .dataframe thead th {\n",
       "        text-align: right;\n",
       "    }\n",
       "</style>\n",
       "<table border=\"1\" class=\"dataframe\">\n",
       "  <thead>\n",
       "    <tr style=\"text-align: right;\">\n",
       "      <th></th>\n",
       "      <th>Total Active Loans</th>\n",
       "      <th>Total Average Loan Amount</th>\n",
       "      <th>2015 - 2016</th>\n",
       "      <th>2010 - 2014</th>\n",
       "      <th>Self Help Loan</th>\n",
       "      <th>Leveraged Loan</th>\n",
       "    </tr>\n",
       "    <tr>\n",
       "      <th>State Code</th>\n",
       "      <th></th>\n",
       "      <th></th>\n",
       "      <th></th>\n",
       "      <th></th>\n",
       "      <th></th>\n",
       "      <th></th>\n",
       "    </tr>\n",
       "  </thead>\n",
       "  <tbody>\n",
       "    <tr>\n",
       "      <th>AK</th>\n",
       "      <td>897</td>\n",
       "      <td>148811.39</td>\n",
       "      <td>189583.49</td>\n",
       "      <td>172371.39</td>\n",
       "      <td>96</td>\n",
       "      <td>450</td>\n",
       "    </tr>\n",
       "    <tr>\n",
       "      <th>AL</th>\n",
       "      <td>7455</td>\n",
       "      <td>435054.53</td>\n",
       "      <td>686066.79</td>\n",
       "      <td>648663.44</td>\n",
       "      <td>18</td>\n",
       "      <td>605</td>\n",
       "    </tr>\n",
       "    <tr>\n",
       "      <th>AR</th>\n",
       "      <td>6186</td>\n",
       "      <td>263212.27</td>\n",
       "      <td>355445.70</td>\n",
       "      <td>351562.42</td>\n",
       "      <td>861</td>\n",
       "      <td>567</td>\n",
       "    </tr>\n",
       "    <tr>\n",
       "      <th>AZ</th>\n",
       "      <td>3982</td>\n",
       "      <td>597591.94</td>\n",
       "      <td>507532.91</td>\n",
       "      <td>599688.64</td>\n",
       "      <td>1718</td>\n",
       "      <td>1057</td>\n",
       "    </tr>\n",
       "    <tr>\n",
       "      <th>CA</th>\n",
       "      <td>8875</td>\n",
       "      <td>2805653.85</td>\n",
       "      <td>3008866.40</td>\n",
       "      <td>2881741.23</td>\n",
       "      <td>4134</td>\n",
       "      <td>2231</td>\n",
       "    </tr>\n",
       "  </tbody>\n",
       "</table>\n",
       "</div>"
      ],
      "text/plain": [
       "            Total Active Loans  Total Average Loan Amount  2015 - 2016  \\\n",
       "State Code                                                               \n",
       "AK                         897                  148811.39    189583.49   \n",
       "AL                        7455                  435054.53    686066.79   \n",
       "AR                        6186                  263212.27    355445.70   \n",
       "AZ                        3982                  597591.94    507532.91   \n",
       "CA                        8875                 2805653.85   3008866.40   \n",
       "\n",
       "            2010 - 2014  Self Help Loan  Leveraged Loan  \n",
       "State Code                                               \n",
       "AK            172371.39              96             450  \n",
       "AL            648663.44              18             605  \n",
       "AR            351562.42             861             567  \n",
       "AZ            599688.64            1718            1057  \n",
       "CA           2881741.23            4134            2231  "
      ]
     },
     "execution_count": 57,
     "metadata": {},
     "output_type": "execute_result"
    }
   ],
   "source": [
    "loan_data.head()"
   ]
  },
  {
   "cell_type": "code",
   "execution_count": 66,
   "metadata": {},
   "outputs": [
    {
     "data": {},
     "metadata": {},
     "output_type": "display_data"
    },
    {
     "data": {
      "application/vnd.holoviews_exec.v0+json": "",
      "text/html": [
       "<div id='10644'>\n",
       "\n",
       "\n",
       "\n",
       "\n",
       "\n",
       "  <div class=\"bk-root\" id=\"fc9562ad-d7d9-402f-b4d8-b01e2a9f906c\" data-root-id=\"10644\"></div>\n",
       "</div>\n",
       "<script type=\"application/javascript\">(function(root) {\n",
       "  function embed_document(root) {\n",
       "    var docs_json = {\"72d7cdd2-7f6e-4df1-8309-d48db20a9748\":{\"defs\":[],\"roots\":{\"references\":[{\"attributes\":{\"below\":[{\"id\":\"10660\"}],\"center\":[{\"id\":\"10662\"},{\"id\":\"10666\"}],\"height\":500,\"left\":[{\"id\":\"10663\"}],\"margin\":[5,5,5,5],\"min_border_bottom\":10,\"min_border_left\":10,\"min_border_right\":10,\"min_border_top\":10,\"renderers\":[{\"id\":\"10692\"},{\"id\":\"10713\"},{\"id\":\"10735\"}],\"right\":[{\"id\":\"10704\"}],\"sizing_mode\":\"fixed\",\"title\":{\"id\":\"10652\"},\"toolbar\":{\"id\":\"10673\"},\"width\":1000,\"x_range\":{\"id\":\"10646\"},\"x_scale\":{\"id\":\"10656\"},\"y_range\":{\"id\":\"10647\"},\"y_scale\":{\"id\":\"10658\"}},\"id\":\"10651\",\"subtype\":\"Figure\",\"type\":\"Plot\"},{\"attributes\":{\"data\":{\"State Code\":[\"AK\",\"AL\",\"AR\",\"AZ\",\"CA\",\"CO\",\"CT\",\"DE\",\"FL\",\"GA\",\"GU\",\"HI\",\"IA\",\"ID\",\"IL\",\"IN\",\"KS\",\"KY\",\"LA\",\"MA\",\"MD\",\"ME\",\"MI\",\"MN\",\"MO\",\"MP\",\"MS\",\"MT\",\"NC\",\"ND\",\"NE\",\"NH\",\"NJ\",\"NM\",\"NV\",\"NY\",\"OH\",\"OK\",\"OR\",\"PA\",\"PR\",\"RI\",\"SC\",\"SD\",\"TN\",\"TX\",\"UT\",\"VA\",\"VI\",\"VT\",\"WA\",\"WI\",\"WV\",\"WY\"],\"State_Code\":[\"AK\",\"AL\",\"AR\",\"AZ\",\"CA\",\"CO\",\"CT\",\"DE\",\"FL\",\"GA\",\"GU\",\"HI\",\"IA\",\"ID\",\"IL\",\"IN\",\"KS\",\"KY\",\"LA\",\"MA\",\"MD\",\"ME\",\"MI\",\"MN\",\"MO\",\"MP\",\"MS\",\"MT\",\"NC\",\"ND\",\"NE\",\"NH\",\"NJ\",\"NM\",\"NV\",\"NY\",\"OH\",\"OK\",\"OR\",\"PA\",\"PR\",\"RI\",\"SC\",\"SD\",\"TN\",\"TX\",\"UT\",\"VA\",\"VI\",\"VT\",\"WA\",\"WI\",\"WV\",\"WY\"],\"Variable\":[\"2010 - 2014\",\"2010 - 2014\",\"2010 - 2014\",\"2010 - 2014\",\"2010 - 2014\",\"2010 - 2014\",\"2010 - 2014\",\"2010 - 2014\",\"2010 - 2014\",\"2010 - 2014\",\"2010 - 2014\",\"2010 - 2014\",\"2010 - 2014\",\"2010 - 2014\",\"2010 - 2014\",\"2010 - 2014\",\"2010 - 2014\",\"2010 - 2014\",\"2010 - 2014\",\"2010 - 2014\",\"2010 - 2014\",\"2010 - 2014\",\"2010 - 2014\",\"2010 - 2014\",\"2010 - 2014\",\"2010 - 2014\",\"2010 - 2014\",\"2010 - 2014\",\"2010 - 2014\",\"2010 - 2014\",\"2010 - 2014\",\"2010 - 2014\",\"2010 - 2014\",\"2010 - 2014\",\"2010 - 2014\",\"2010 - 2014\",\"2010 - 2014\",\"2010 - 2014\",\"2010 - 2014\",\"2010 - 2014\",\"2010 - 2014\",\"2010 - 2014\",\"2010 - 2014\",\"2010 - 2014\",\"2010 - 2014\",\"2010 - 2014\",\"2010 - 2014\",\"2010 - 2014\",\"2010 - 2014\",\"2010 - 2014\",\"2010 - 2014\",\"2010 - 2014\",\"2010 - 2014\",\"2010 - 2014\"],\"value\":{\"__ndarray__\":\"7FG4HpsKBUEVrkfhrssjQeF6FK4pdRVBexSuRxFNIkHXo3CdZvxFQcL1KFw2lSVBUrgehZxAJUEfhetRytYDQRWuRyGWpD1BrUfhupCSMUEAAAAA8M0HQR+F61GBGxpBZ2ZmZoWTFUHsUbgep5wOQexRuB7D5SlBZWZmZtumKEHhehSuMNkYQfYoXA9pNSJBcD0K1wonJUE+CtfjgGY0QSCF61Gd3ilBFK5H4du/EEFnZmZmr5kxQexRuJ5t9iJBXI/CdS42IUEAAAAAQMXaQAAAAADi0xFBH4XrUYovAUFmZmZmgAY3QdejcD16Hv1AehSuRytREEEehetRD5QRQQvXo/BySzRBPgrXo8h5EkEqXI/Cv0cYQWdmZiaJWDJBFa5HYU4PNkEpXI/CqnAcQaRwPQrxaCdBAAAAwKYZP0EAAAAAULzzQFyPwvUgYxhBAAAAgEoSJ0H2KFyPsrr5QChcj0Lu0StBhetROGZ1SEG4HoVrN0YkQXE9ChcITzJBAAAAACA8/EBSuB6FA0IAQZDC9agWEDdBAAAAAJg9KUEAAAAA0JkQQQAAAABISQBB\",\"dtype\":\"float64\",\"order\":\"little\",\"shape\":[54]}},\"selected\":{\"id\":\"10730\"},\"selection_policy\":{\"id\":\"10750\"}},\"id\":\"10729\",\"type\":\"ColumnDataSource\"},{\"attributes\":{},\"id\":\"10664\",\"type\":\"BasicTicker\"},{\"attributes\":{},\"id\":\"10680\",\"type\":\"AllLabels\"},{\"attributes\":{\"factors\":[\"AK\",\"AL\",\"AR\",\"AZ\",\"CA\",\"CO\",\"CT\",\"DE\",\"FL\",\"GA\",\"GU\",\"HI\",\"IA\",\"ID\",\"IL\",\"IN\",\"KS\",\"KY\",\"LA\",\"MA\",\"MD\",\"ME\",\"MI\",\"MN\",\"MO\",\"MP\",\"MS\",\"MT\",\"NC\",\"ND\",\"NE\",\"NH\",\"NJ\",\"NM\",\"NV\",\"NY\",\"OH\",\"OK\",\"OR\",\"PA\",\"PR\",\"RI\",\"SC\",\"SD\",\"TN\",\"TX\",\"UT\",\"VA\",\"VI\",\"VT\",\"WA\",\"WI\",\"WV\",\"WY\"],\"tags\":[[[\"State Code\",\"State Code\",null]]]},\"id\":\"10646\",\"type\":\"FactorRange\"},{\"attributes\":{\"formatter\":{\"id\":\"10682\"},\"major_label_policy\":{\"id\":\"10680\"},\"ticker\":{\"id\":\"10661\"}},\"id\":\"10660\",\"type\":\"CategoricalAxis\"},{\"attributes\":{},\"id\":\"10682\",\"type\":\"CategoricalTickFormatter\"},{\"attributes\":{\"line_color\":\"#30a2da\",\"line_width\":2,\"x\":{\"field\":\"State Code\"},\"y\":{\"field\":\"value\"}},\"id\":\"10689\",\"type\":\"Line\"},{\"attributes\":{\"axis\":{\"id\":\"10660\"},\"grid_line_color\":null,\"ticker\":null},\"id\":\"10662\",\"type\":\"Grid\"},{\"attributes\":{},\"id\":\"10656\",\"type\":\"CategoricalScale\"},{\"attributes\":{\"line_alpha\":0.1,\"line_color\":\"#fc4f30\",\"line_width\":2,\"x\":{\"field\":\"State Code\"},\"y\":{\"field\":\"value\"}},\"id\":\"10711\",\"type\":\"Line\"},{\"attributes\":{\"label\":{\"value\":\"2015 - 2016\"},\"renderers\":[{\"id\":\"10713\"}]},\"id\":\"10727\",\"type\":\"LegendItem\"},{\"attributes\":{\"data_source\":{\"id\":\"10707\"},\"glyph\":{\"id\":\"10710\"},\"hover_glyph\":null,\"muted_glyph\":{\"id\":\"10712\"},\"nonselection_glyph\":{\"id\":\"10711\"},\"selection_glyph\":{\"id\":\"10728\"},\"view\":{\"id\":\"10714\"}},\"id\":\"10713\",\"type\":\"GlyphRenderer\"},{\"attributes\":{},\"id\":\"10683\",\"type\":\"AllLabels\"},{\"attributes\":{\"line_alpha\":0.2,\"line_color\":\"#30a2da\",\"line_width\":2,\"x\":{\"field\":\"State Code\"},\"y\":{\"field\":\"value\"}},\"id\":\"10691\",\"type\":\"Line\"},{\"attributes\":{\"label\":{\"value\":\"2010 - 2014\"},\"renderers\":[{\"id\":\"10735\"}]},\"id\":\"10751\",\"type\":\"LegendItem\"},{\"attributes\":{},\"id\":\"10726\",\"type\":\"UnionRenderers\"},{\"attributes\":{},\"id\":\"10658\",\"type\":\"LinearScale\"},{\"attributes\":{\"data_source\":{\"id\":\"10729\"},\"glyph\":{\"id\":\"10732\"},\"hover_glyph\":null,\"muted_glyph\":{\"id\":\"10734\"},\"nonselection_glyph\":{\"id\":\"10733\"},\"selection_glyph\":{\"id\":\"10752\"},\"view\":{\"id\":\"10736\"}},\"id\":\"10735\",\"type\":\"GlyphRenderer\"},{\"attributes\":{\"line_color\":\"#fc4f30\",\"line_width\":2,\"x\":{\"field\":\"State Code\"},\"y\":{\"field\":\"value\"}},\"id\":\"10728\",\"type\":\"Line\"},{\"attributes\":{\"data\":{\"State Code\":[\"AK\",\"AL\",\"AR\",\"AZ\",\"CA\",\"CO\",\"CT\",\"DE\",\"FL\",\"GA\",\"GU\",\"HI\",\"IA\",\"ID\",\"IL\",\"IN\",\"KS\",\"KY\",\"LA\",\"MA\",\"MD\",\"ME\",\"MI\",\"MN\",\"MO\",\"MP\",\"MS\",\"MT\",\"NC\",\"ND\",\"NE\",\"NH\",\"NJ\",\"NM\",\"NV\",\"NY\",\"OH\",\"OK\",\"OR\",\"PA\",\"PR\",\"RI\",\"SC\",\"SD\",\"TN\",\"TX\",\"UT\",\"VA\",\"VI\",\"VT\",\"WA\",\"WI\",\"WV\",\"WY\"],\"State_Code\":[\"AK\",\"AL\",\"AR\",\"AZ\",\"CA\",\"CO\",\"CT\",\"DE\",\"FL\",\"GA\",\"GU\",\"HI\",\"IA\",\"ID\",\"IL\",\"IN\",\"KS\",\"KY\",\"LA\",\"MA\",\"MD\",\"ME\",\"MI\",\"MN\",\"MO\",\"MP\",\"MS\",\"MT\",\"NC\",\"ND\",\"NE\",\"NH\",\"NJ\",\"NM\",\"NV\",\"NY\",\"OH\",\"OK\",\"OR\",\"PA\",\"PR\",\"RI\",\"SC\",\"SD\",\"TN\",\"TX\",\"UT\",\"VA\",\"VI\",\"VT\",\"WA\",\"WI\",\"WV\",\"WY\"],\"Variable\":[\"Total Average Loan Amount\",\"Total Average Loan Amount\",\"Total Average Loan Amount\",\"Total Average Loan Amount\",\"Total Average Loan Amount\",\"Total Average Loan Amount\",\"Total Average Loan Amount\",\"Total Average Loan Amount\",\"Total Average Loan Amount\",\"Total Average Loan Amount\",\"Total Average Loan Amount\",\"Total Average Loan Amount\",\"Total Average Loan Amount\",\"Total Average Loan Amount\",\"Total Average Loan Amount\",\"Total Average Loan Amount\",\"Total Average Loan Amount\",\"Total Average Loan Amount\",\"Total Average Loan Amount\",\"Total Average Loan Amount\",\"Total Average Loan Amount\",\"Total Average Loan Amount\",\"Total Average Loan Amount\",\"Total Average Loan Amount\",\"Total Average Loan Amount\",\"Total Average Loan Amount\",\"Total Average Loan Amount\",\"Total Average Loan Amount\",\"Total Average Loan Amount\",\"Total Average Loan Amount\",\"Total Average Loan Amount\",\"Total Average Loan Amount\",\"Total Average Loan Amount\",\"Total Average Loan Amount\",\"Total Average Loan Amount\",\"Total Average Loan Amount\",\"Total Average Loan Amount\",\"Total Average Loan Amount\",\"Total Average Loan Amount\",\"Total Average Loan Amount\",\"Total Average Loan Amount\",\"Total Average Loan Amount\",\"Total Average Loan Amount\",\"Total Average Loan Amount\",\"Total Average Loan Amount\",\"Total Average Loan Amount\",\"Total Average Loan Amount\",\"Total Average Loan Amount\",\"Total Average Loan Amount\",\"Total Average Loan Amount\",\"Total Average Loan Amount\",\"Total Average Loan Amount\",\"Total Average Loan Amount\",\"Total Average Loan Amount\"],\"value\":{\"__ndarray__\":\"7FG4HlsqAkHrUbgeuo0aQUjhehSxEBBBFa5H4a88IkHOzMzsymdFQfYoXA/s+SFBH4XrUdBmIEFSuB6F+3QAQfYoXE887TdBwvUo3Ky1MEEAAAAAaEMGQa5H4XpvlhRBH4XrUQ3cEkGamZmZNUkJQVS4HgX9tylBwvUoXOn3JEEUrkfhNLYTQXsUrkerWx1B4XoUrmLYHEEpXI/CdRMxQShcj0JNKyhBFK5H4VpYCUFcj8K1NEMxQcP1KNwVEilBmZmZGceBIUEAAAAAAB3lQK5H4Xr2bQdBPQrXowy5+UCamZnZk9ExQR+F61Hs6PJAw/UoXPHkC0HC9ShcPz0OQRSuR6EWtzJBwvUoXLdjC0HsUbgehqwXQeJ6FC4aeTBBo3A9yvuhNUFmZmZm8vkVQbgehWtB1iJBXI/CdS94OUEAAAAAwFTsQJDC9Sg+VxVBMzMzM2lIIEGuR+F6WFL1QPYoXI9MiSRBT7geRTOMQ0GQwvUo5lAiQUjhepReNClBAAAAAFBM90DsUbgeYUP5QJDC9ShPozNBAAAAAFBfJUEAAAAACL4IQQAAAAAwJPlA\",\"dtype\":\"float64\",\"order\":\"little\",\"shape\":[54]}},\"selected\":{\"id\":\"10687\"},\"selection_policy\":{\"id\":\"10703\"}},\"id\":\"10686\",\"type\":\"ColumnDataSource\"},{\"attributes\":{},\"id\":\"10661\",\"type\":\"CategoricalTicker\"},{\"attributes\":{\"label\":{\"value\":\"Total Average Loan Amount\"},\"renderers\":[{\"id\":\"10692\"}]},\"id\":\"10705\",\"type\":\"LegendItem\"},{\"attributes\":{\"line_color\":\"#30a2da\",\"line_width\":2,\"x\":{\"field\":\"State Code\"},\"y\":{\"field\":\"value\"}},\"id\":\"10706\",\"type\":\"Line\"},{\"attributes\":{\"axis_label\":\"loan amt\",\"formatter\":{\"id\":\"10685\"},\"major_label_policy\":{\"id\":\"10683\"},\"ticker\":{\"id\":\"10664\"}},\"id\":\"10663\",\"type\":\"LinearAxis\"},{\"attributes\":{},\"id\":\"10685\",\"type\":\"BasicTickFormatter\"},{\"attributes\":{\"data\":{\"State Code\":[\"AK\",\"AL\",\"AR\",\"AZ\",\"CA\",\"CO\",\"CT\",\"DE\",\"FL\",\"GA\",\"GU\",\"HI\",\"IA\",\"ID\",\"IL\",\"IN\",\"KS\",\"KY\",\"LA\",\"MA\",\"MD\",\"ME\",\"MI\",\"MN\",\"MO\",\"MP\",\"MS\",\"MT\",\"NC\",\"ND\",\"NE\",\"NH\",\"NJ\",\"NM\",\"NV\",\"NY\",\"OH\",\"OK\",\"OR\",\"PA\",\"PR\",\"RI\",\"SC\",\"SD\",\"TN\",\"TX\",\"UT\",\"VA\",\"VI\",\"VT\",\"WA\",\"WI\",\"WV\",\"WY\"],\"State_Code\":[\"AK\",\"AL\",\"AR\",\"AZ\",\"CA\",\"CO\",\"CT\",\"DE\",\"FL\",\"GA\",\"GU\",\"HI\",\"IA\",\"ID\",\"IL\",\"IN\",\"KS\",\"KY\",\"LA\",\"MA\",\"MD\",\"ME\",\"MI\",\"MN\",\"MO\",\"MP\",\"MS\",\"MT\",\"NC\",\"ND\",\"NE\",\"NH\",\"NJ\",\"NM\",\"NV\",\"NY\",\"OH\",\"OK\",\"OR\",\"PA\",\"PR\",\"RI\",\"SC\",\"SD\",\"TN\",\"TX\",\"UT\",\"VA\",\"VI\",\"VT\",\"WA\",\"WI\",\"WV\",\"WY\"],\"Variable\":[\"2015 - 2016\",\"2015 - 2016\",\"2015 - 2016\",\"2015 - 2016\",\"2015 - 2016\",\"2015 - 2016\",\"2015 - 2016\",\"2015 - 2016\",\"2015 - 2016\",\"2015 - 2016\",\"2015 - 2016\",\"2015 - 2016\",\"2015 - 2016\",\"2015 - 2016\",\"2015 - 2016\",\"2015 - 2016\",\"2015 - 2016\",\"2015 - 2016\",\"2015 - 2016\",\"2015 - 2016\",\"2015 - 2016\",\"2015 - 2016\",\"2015 - 2016\",\"2015 - 2016\",\"2015 - 2016\",\"2015 - 2016\",\"2015 - 2016\",\"2015 - 2016\",\"2015 - 2016\",\"2015 - 2016\",\"2015 - 2016\",\"2015 - 2016\",\"2015 - 2016\",\"2015 - 2016\",\"2015 - 2016\",\"2015 - 2016\",\"2015 - 2016\",\"2015 - 2016\",\"2015 - 2016\",\"2015 - 2016\",\"2015 - 2016\",\"2015 - 2016\",\"2015 - 2016\",\"2015 - 2016\",\"2015 - 2016\",\"2015 - 2016\",\"2015 - 2016\",\"2015 - 2016\",\"2015 - 2016\",\"2015 - 2016\",\"2015 - 2016\",\"2015 - 2016\",\"2015 - 2016\",\"2015 - 2016\"],\"value\":{\"__ndarray__\":\"uB6F63skB0FH4XqU5e8kQc3MzMzWsRVBPQrXozP6HkEzMzMzsfRGQYXrUTi+vCdBexSux6iuJUHXo3A9zCQEQWZmZoagoEBBNDMzM0B2L0EAAAAASBwLQRSuR+HIvBtBCtejcJQbFkFwPQrXoewPQUjhehScLSdBNDMzMwPIKkHXo3A9r9IZQfYoXA+1hSJBhetROEEuJkGQwvWoWlUvQXA9CldwzC5BKVyPwhGGEEH2KFwPZtkyQY/C9aivqyRBuB6Fa8CYIkEAAAAAAAAAAHsUrkePoRNBCtejcB8CAkFcj8L16Is4QeF6FK4TYv5AwvUoXBn8D0EAAAAAZCERQcL1KBwDeDJBPgrXoyFsE0HiehSuc7UeQaRwPYpoBTJBo3A9SsR1OUGZmZmZ6O8eQT0K1yMZ+ihBAAAAwMm9PEEAAAAAUPD0QML1KFxsmBpBPgrXoy6qKEHD9Shc8xj8QJmZmRl2wS5BZmZmpndfRkHsUbieBhMmQYbrUThRJjRBAAAAAGBx+0Bcj8L1ToYAQc3MzMz7STdBAAAAAKg6KEEAAAAANF8QQQAAAAAIHwRB\",\"dtype\":\"float64\",\"order\":\"little\",\"shape\":[54]}},\"selected\":{\"id\":\"10708\"},\"selection_policy\":{\"id\":\"10726\"}},\"id\":\"10707\",\"type\":\"ColumnDataSource\"},{\"attributes\":{\"active_multi\":null,\"tools\":[{\"id\":\"10648\"},{\"id\":\"10667\"},{\"id\":\"10668\"},{\"id\":\"10669\"},{\"id\":\"10670\"},{\"id\":\"10671\"}]},\"id\":\"10673\",\"type\":\"Toolbar\"},{\"attributes\":{\"line_color\":\"#fc4f30\",\"line_width\":2,\"x\":{\"field\":\"State Code\"},\"y\":{\"field\":\"value\"}},\"id\":\"10710\",\"type\":\"Line\"},{\"attributes\":{\"line_alpha\":0.2,\"line_color\":\"#e5ae38\",\"line_width\":2,\"x\":{\"field\":\"State Code\"},\"y\":{\"field\":\"value\"}},\"id\":\"10734\",\"type\":\"Line\"},{\"attributes\":{},\"id\":\"10750\",\"type\":\"UnionRenderers\"},{\"attributes\":{\"click_policy\":\"mute\",\"items\":[{\"id\":\"10705\"},{\"id\":\"10727\"},{\"id\":\"10751\"}],\"location\":[0,0],\"title\":\"Variable\"},\"id\":\"10704\",\"type\":\"Legend\"},{\"attributes\":{\"end\":3526420.084,\"reset_end\":3526420.084,\"reset_start\":-320583.64400000003,\"start\":-320583.64400000003,\"tags\":[[[\"value\",\"value\",null]]]},\"id\":\"10647\",\"type\":\"Range1d\"},{\"attributes\":{\"axis\":{\"id\":\"10663\"},\"dimension\":1,\"grid_line_color\":null,\"ticker\":null},\"id\":\"10666\",\"type\":\"Grid\"},{\"attributes\":{\"line_alpha\":0.1,\"line_color\":\"#30a2da\",\"line_width\":2,\"x\":{\"field\":\"State Code\"},\"y\":{\"field\":\"value\"}},\"id\":\"10690\",\"type\":\"Line\"},{\"attributes\":{\"line_alpha\":0.1,\"line_color\":\"#e5ae38\",\"line_width\":2,\"x\":{\"field\":\"State Code\"},\"y\":{\"field\":\"value\"}},\"id\":\"10733\",\"type\":\"Line\"},{\"attributes\":{\"source\":{\"id\":\"10686\"}},\"id\":\"10693\",\"type\":\"CDSView\"},{\"attributes\":{\"line_alpha\":0.2,\"line_color\":\"#fc4f30\",\"line_width\":2,\"x\":{\"field\":\"State Code\"},\"y\":{\"field\":\"value\"}},\"id\":\"10712\",\"type\":\"Line\"},{\"attributes\":{\"source\":{\"id\":\"10729\"}},\"id\":\"10736\",\"type\":\"CDSView\"},{\"attributes\":{\"bottom_units\":\"screen\",\"fill_alpha\":0.5,\"fill_color\":\"lightgrey\",\"left_units\":\"screen\",\"level\":\"overlay\",\"line_alpha\":1.0,\"line_color\":\"black\",\"line_dash\":[4,4],\"line_width\":2,\"right_units\":\"screen\",\"syncable\":false,\"top_units\":\"screen\"},\"id\":\"10672\",\"type\":\"BoxAnnotation\"},{\"attributes\":{\"margin\":[5,5,5,5],\"name\":\"HSpacer18792\",\"sizing_mode\":\"stretch_width\"},\"id\":\"10879\",\"type\":\"Spacer\"},{\"attributes\":{\"line_color\":\"#e5ae38\",\"line_width\":2,\"x\":{\"field\":\"State Code\"},\"y\":{\"field\":\"value\"}},\"id\":\"10752\",\"type\":\"Line\"},{\"attributes\":{\"children\":[{\"id\":\"10645\"},{\"id\":\"10651\"},{\"id\":\"10879\"}],\"margin\":[0,0,0,0],\"name\":\"Row18787\",\"tags\":[\"embedded\"]},\"id\":\"10644\",\"type\":\"Row\"},{\"attributes\":{\"text_color\":\"black\",\"text_font_size\":\"12pt\"},\"id\":\"10652\",\"type\":\"Title\"},{\"attributes\":{\"data_source\":{\"id\":\"10686\"},\"glyph\":{\"id\":\"10689\"},\"hover_glyph\":null,\"muted_glyph\":{\"id\":\"10691\"},\"nonselection_glyph\":{\"id\":\"10690\"},\"selection_glyph\":{\"id\":\"10706\"},\"view\":{\"id\":\"10693\"}},\"id\":\"10692\",\"type\":\"GlyphRenderer\"},{\"attributes\":{\"source\":{\"id\":\"10707\"}},\"id\":\"10714\",\"type\":\"CDSView\"},{\"attributes\":{},\"id\":\"10730\",\"type\":\"Selection\"},{\"attributes\":{},\"id\":\"10687\",\"type\":\"Selection\"},{\"attributes\":{\"margin\":[5,5,5,5],\"name\":\"HSpacer18791\",\"sizing_mode\":\"stretch_width\"},\"id\":\"10645\",\"type\":\"Spacer\"},{\"attributes\":{},\"id\":\"10667\",\"type\":\"SaveTool\"},{\"attributes\":{},\"id\":\"10668\",\"type\":\"PanTool\"},{\"attributes\":{},\"id\":\"10708\",\"type\":\"Selection\"},{\"attributes\":{},\"id\":\"10671\",\"type\":\"ResetTool\"},{\"attributes\":{\"line_color\":\"#e5ae38\",\"line_width\":2,\"x\":{\"field\":\"State Code\"},\"y\":{\"field\":\"value\"}},\"id\":\"10732\",\"type\":\"Line\"},{\"attributes\":{\"callback\":null,\"renderers\":[{\"id\":\"10692\"},{\"id\":\"10713\"},{\"id\":\"10735\"}],\"tags\":[\"hv_created\"],\"tooltips\":[[\"Variable\",\"@{Variable}\"],[\"State Code\",\"@{State_Code}\"],[\"value\",\"@{value}\"]]},\"id\":\"10648\",\"type\":\"HoverTool\"},{\"attributes\":{},\"id\":\"10669\",\"type\":\"WheelZoomTool\"},{\"attributes\":{},\"id\":\"10703\",\"type\":\"UnionRenderers\"},{\"attributes\":{\"overlay\":{\"id\":\"10672\"}},\"id\":\"10670\",\"type\":\"BoxZoomTool\"}],\"root_ids\":[\"10644\"]},\"title\":\"Bokeh Application\",\"version\":\"2.3.2\"}};\n",
       "    var render_items = [{\"docid\":\"72d7cdd2-7f6e-4df1-8309-d48db20a9748\",\"root_ids\":[\"10644\"],\"roots\":{\"10644\":\"fc9562ad-d7d9-402f-b4d8-b01e2a9f906c\"}}];\n",
       "    root.Bokeh.embed.embed_items_notebook(docs_json, render_items);\n",
       "  }\n",
       "  if (root.Bokeh !== undefined && root.Bokeh.Panel !== undefined) {\n",
       "    embed_document(root);\n",
       "  } else {\n",
       "    var attempts = 0;\n",
       "    var timer = setInterval(function(root) {\n",
       "      if (root.Bokeh !== undefined && root.Bokeh.Panel !== undefined) {\n",
       "        clearInterval(timer);\n",
       "        embed_document(root);\n",
       "      } else if (document.readyState == \"complete\") {\n",
       "        attempts++;\n",
       "        if (attempts > 100) {\n",
       "          clearInterval(timer);\n",
       "          console.log(\"Bokeh: ERROR: Unable to run BokehJS code because BokehJS library is missing\");\n",
       "        }\n",
       "      }\n",
       "    }, 10, root)\n",
       "  }\n",
       "})(window);</script>"
      ],
      "text/plain": [
       ":NdOverlay   [Variable]\n",
       "   :Curve   [State Code]   (value)"
      ]
     },
     "execution_count": 66,
     "metadata": {
      "application/vnd.holoviews_exec.v0+json": {
       "id": "10644"
      }
     },
     "output_type": "execute_result"
    }
   ],
   "source": [
    "loan_data[['Total Average Loan Amount', '2015 - 2016', '2010 - 2014']].hvplot(width=1000, height=500, ylabel='loan amt', xlabel='')"
   ]
  },
  {
   "cell_type": "markdown",
   "metadata": {},
   "source": [
    "### Compose plots for state averages, 2015 - 2016, and 2010 2014 using `*` operator"
   ]
  },
  {
   "cell_type": "code",
   "execution_count": 37,
   "metadata": {},
   "outputs": [
    {
     "data": {},
     "metadata": {},
     "output_type": "display_data"
    },
    {
     "data": {
      "application/vnd.holoviews_exec.v0+json": "",
      "text/html": [
       "<div id='4100'>\n",
       "\n",
       "\n",
       "\n",
       "\n",
       "\n",
       "  <div class=\"bk-root\" id=\"079fa6a0-39b3-4b40-952f-609eddc7f89f\" data-root-id=\"4100\"></div>\n",
       "</div>\n",
       "<script type=\"application/javascript\">(function(root) {\n",
       "  function embed_document(root) {\n",
       "    var docs_json = {\"bc6ede9c-360b-4643-868e-31dd61ac2938\":{\"defs\":[],\"roots\":{\"references\":[{\"attributes\":{\"data_source\":{\"id\":\"4163\"},\"glyph\":{\"id\":\"4166\"},\"hover_glyph\":null,\"muted_glyph\":{\"id\":\"4168\"},\"nonselection_glyph\":{\"id\":\"4167\"},\"selection_glyph\":{\"id\":\"4184\"},\"view\":{\"id\":\"4170\"}},\"id\":\"4169\",\"type\":\"GlyphRenderer\"},{\"attributes\":{},\"id\":\"4119\",\"type\":\"BasicTicker\"},{\"attributes\":{\"factors\":[\"AK\",\"AL\",\"AR\",\"AZ\",\"CA\",\"CO\",\"CT\",\"DE\",\"FL\",\"GA\",\"GU\",\"HI\",\"IA\",\"ID\",\"IL\",\"IN\",\"KS\",\"KY\",\"LA\",\"MA\",\"MD\",\"ME\",\"MI\",\"MN\",\"MO\",\"MP\",\"MS\",\"MT\",\"NC\",\"ND\",\"NE\",\"NH\",\"NJ\",\"NM\",\"NV\",\"NY\",\"OH\",\"OK\",\"OR\",\"PA\",\"PR\",\"RI\",\"SC\",\"SD\",\"TN\",\"TX\",\"UT\",\"VA\",\"VI\",\"VT\",\"WA\",\"WI\",\"WV\",\"WY\"],\"tags\":[[[\"State Code\",\"State Code\",null]]]},\"id\":\"4102\",\"type\":\"FactorRange\"},{\"attributes\":{\"end\":3526420.084,\"reset_end\":3526420.084,\"reset_start\":-320583.64400000003,\"start\":-320583.64400000003,\"tags\":[[[\"2010 - 2014\",\"2010 - 2014\",null]]]},\"id\":\"4103\",\"type\":\"Range1d\"},{\"attributes\":{\"callback\":null,\"renderers\":[{\"id\":\"4169\"}],\"tags\":[\"hv_created\"],\"tooltips\":[[\"State Code\",\"@{State_Code}\"],[\"2015 - 2016\",\"@{A_2015_hyphen_minus_2016}\"]]},\"id\":\"4105\",\"type\":\"HoverTool\"},{\"attributes\":{},\"id\":\"4122\",\"type\":\"SaveTool\"},{\"attributes\":{\"line_color\":\"blue\",\"line_dash\":[2,4],\"line_width\":2,\"x\":{\"field\":\"State Code\"},\"y\":{\"field\":\"2010 - 2014\"}},\"id\":\"4162\",\"type\":\"Line\"},{\"attributes\":{},\"id\":\"4123\",\"type\":\"PanTool\"},{\"attributes\":{\"overlay\":{\"id\":\"4127\"}},\"id\":\"4125\",\"type\":\"BoxZoomTool\"},{\"attributes\":{},\"id\":\"4138\",\"type\":\"CategoricalTickFormatter\"},{\"attributes\":{},\"id\":\"4124\",\"type\":\"WheelZoomTool\"},{\"attributes\":{},\"id\":\"4143\",\"type\":\"Selection\"},{\"attributes\":{},\"id\":\"4141\",\"type\":\"BasicTickFormatter\"},{\"attributes\":{\"label\":{\"value\":\"2010-14\"},\"renderers\":[{\"id\":\"4148\"}]},\"id\":\"4161\",\"type\":\"LegendItem\"},{\"attributes\":{\"callback\":null,\"renderers\":[{\"id\":\"4148\"}],\"tags\":[\"hv_created\"],\"tooltips\":[[\"State Code\",\"@{State_Code}\"],[\"2010 - 2014\",\"@{A_2010_hyphen_minus_2014}\"]]},\"id\":\"4104\",\"type\":\"HoverTool\"},{\"attributes\":{},\"id\":\"4126\",\"type\":\"ResetTool\"},{\"attributes\":{\"line_alpha\":0.6,\"line_color\":\"#fc4f30\",\"line_width\":2,\"x\":{\"field\":\"State Code\"},\"y\":{\"field\":\"2015 - 2016\"}},\"id\":\"4184\",\"type\":\"Line\"},{\"attributes\":{\"label\":{\"value\":\"2015-16\"},\"renderers\":[{\"id\":\"4169\"}]},\"id\":\"4183\",\"type\":\"LegendItem\"},{\"attributes\":{\"line_alpha\":0.6,\"line_color\":\"#fc4f30\",\"line_width\":2,\"x\":{\"field\":\"State Code\"},\"y\":{\"field\":\"2015 - 2016\"}},\"id\":\"4167\",\"type\":\"Line\"},{\"attributes\":{\"axis_label\":\"State Code\",\"formatter\":{\"id\":\"4138\"},\"major_label_policy\":{\"id\":\"4136\"},\"ticker\":{\"id\":\"4116\"}},\"id\":\"4115\",\"type\":\"CategoricalAxis\"},{\"attributes\":{\"axis\":{\"id\":\"4115\"},\"grid_line_color\":null,\"ticker\":null},\"id\":\"4117\",\"type\":\"Grid\"},{\"attributes\":{\"text_color\":\"black\",\"text_font_size\":\"12pt\"},\"id\":\"4107\",\"type\":\"Title\"},{\"attributes\":{\"source\":{\"id\":\"4163\"}},\"id\":\"4170\",\"type\":\"CDSView\"},{\"attributes\":{\"margin\":[5,5,5,5],\"name\":\"HSpacer07024\",\"sizing_mode\":\"stretch_width\"},\"id\":\"4101\",\"type\":\"Spacer\"},{\"attributes\":{\"axis_label\":\"2010 - 2014\",\"formatter\":{\"id\":\"4141\"},\"major_label_policy\":{\"id\":\"4139\"},\"ticker\":{\"id\":\"4119\"}},\"id\":\"4118\",\"type\":\"LinearAxis\"},{\"attributes\":{},\"id\":\"4111\",\"type\":\"CategoricalScale\"},{\"attributes\":{\"children\":[{\"id\":\"4101\"},{\"id\":\"4106\"},{\"id\":\"4293\"}],\"margin\":[0,0,0,0],\"name\":\"Row07020\",\"tags\":[\"embedded\"]},\"id\":\"4100\",\"type\":\"Row\"},{\"attributes\":{\"margin\":[5,5,5,5],\"name\":\"HSpacer07025\",\"sizing_mode\":\"stretch_width\"},\"id\":\"4293\",\"type\":\"Spacer\"},{\"attributes\":{},\"id\":\"4113\",\"type\":\"LinearScale\"},{\"attributes\":{},\"id\":\"4136\",\"type\":\"AllLabels\"},{\"attributes\":{\"axis\":{\"id\":\"4118\"},\"dimension\":1,\"grid_line_color\":null,\"ticker\":null},\"id\":\"4121\",\"type\":\"Grid\"},{\"attributes\":{\"line_alpha\":0.2,\"line_color\":\"blue\",\"line_dash\":[2,4],\"line_width\":2,\"x\":{\"field\":\"State Code\"},\"y\":{\"field\":\"2010 - 2014\"}},\"id\":\"4147\",\"type\":\"Line\"},{\"attributes\":{\"active_multi\":null,\"tools\":[{\"id\":\"4104\"},{\"id\":\"4105\"},{\"id\":\"4122\"},{\"id\":\"4123\"},{\"id\":\"4124\"},{\"id\":\"4125\"},{\"id\":\"4126\"}]},\"id\":\"4128\",\"type\":\"Toolbar\"},{\"attributes\":{},\"id\":\"4116\",\"type\":\"CategoricalTicker\"},{\"attributes\":{},\"id\":\"4159\",\"type\":\"UnionRenderers\"},{\"attributes\":{\"line_alpha\":0.1,\"line_color\":\"blue\",\"line_dash\":[2,4],\"line_width\":2,\"x\":{\"field\":\"State Code\"},\"y\":{\"field\":\"2010 - 2014\"}},\"id\":\"4146\",\"type\":\"Line\"},{\"attributes\":{\"line_alpha\":0.6,\"line_color\":\"#fc4f30\",\"line_width\":2,\"x\":{\"field\":\"State Code\"},\"y\":{\"field\":\"2015 - 2016\"}},\"id\":\"4166\",\"type\":\"Line\"},{\"attributes\":{\"bottom_units\":\"screen\",\"fill_alpha\":0.5,\"fill_color\":\"lightgrey\",\"left_units\":\"screen\",\"level\":\"overlay\",\"line_alpha\":1.0,\"line_color\":\"black\",\"line_dash\":[4,4],\"line_width\":2,\"right_units\":\"screen\",\"syncable\":false,\"top_units\":\"screen\"},\"id\":\"4127\",\"type\":\"BoxAnnotation\"},{\"attributes\":{\"below\":[{\"id\":\"4115\"}],\"center\":[{\"id\":\"4117\"},{\"id\":\"4121\"},{\"id\":\"4160\"}],\"height\":500,\"left\":[{\"id\":\"4118\"}],\"margin\":[5,5,5,5],\"min_border_bottom\":10,\"min_border_left\":10,\"min_border_right\":10,\"min_border_top\":10,\"renderers\":[{\"id\":\"4148\"},{\"id\":\"4169\"}],\"sizing_mode\":\"fixed\",\"title\":{\"id\":\"4107\"},\"toolbar\":{\"id\":\"4128\"},\"width\":1000,\"x_range\":{\"id\":\"4102\"},\"x_scale\":{\"id\":\"4111\"},\"y_range\":{\"id\":\"4103\"},\"y_scale\":{\"id\":\"4113\"}},\"id\":\"4106\",\"subtype\":\"Figure\",\"type\":\"Plot\"},{\"attributes\":{\"source\":{\"id\":\"4142\"}},\"id\":\"4149\",\"type\":\"CDSView\"},{\"attributes\":{\"data\":{\"2015 - 2016\":{\"__ndarray__\":\"uB6F63skB0FH4XqU5e8kQc3MzMzWsRVBPQrXozP6HkEzMzMzsfRGQYXrUTi+vCdBexSux6iuJUHXo3A9zCQEQWZmZoagoEBBNDMzM0B2L0EAAAAASBwLQRSuR+HIvBtBCtejcJQbFkFwPQrXoewPQUjhehScLSdBNDMzMwPIKkHXo3A9r9IZQfYoXA+1hSJBhetROEEuJkGQwvWoWlUvQXA9CldwzC5BKVyPwhGGEEH2KFwPZtkyQY/C9aivqyRBuB6Fa8CYIkEAAAAAAAAAAHsUrkePoRNBCtejcB8CAkFcj8L16Is4QeF6FK4TYv5AwvUoXBn8D0EAAAAAZCERQcL1KBwDeDJBPgrXoyFsE0HiehSuc7UeQaRwPYpoBTJBo3A9SsR1OUGZmZmZ6O8eQT0K1yMZ+ihBAAAAwMm9PEEAAAAAUPD0QML1KFxsmBpBPgrXoy6qKEHD9Shc8xj8QJmZmRl2wS5BZmZmpndfRkHsUbieBhMmQYbrUThRJjRBAAAAAGBx+0Bcj8L1ToYAQc3MzMz7STdBAAAAAKg6KEEAAAAANF8QQQAAAAAIHwRB\",\"dtype\":\"float64\",\"order\":\"little\",\"shape\":[54]},\"A_2015_hyphen_minus_2016\":{\"__ndarray__\":\"uB6F63skB0FH4XqU5e8kQc3MzMzWsRVBPQrXozP6HkEzMzMzsfRGQYXrUTi+vCdBexSux6iuJUHXo3A9zCQEQWZmZoagoEBBNDMzM0B2L0EAAAAASBwLQRSuR+HIvBtBCtejcJQbFkFwPQrXoewPQUjhehScLSdBNDMzMwPIKkHXo3A9r9IZQfYoXA+1hSJBhetROEEuJkGQwvWoWlUvQXA9CldwzC5BKVyPwhGGEEH2KFwPZtkyQY/C9aivqyRBuB6Fa8CYIkEAAAAAAAAAAHsUrkePoRNBCtejcB8CAkFcj8L16Is4QeF6FK4TYv5AwvUoXBn8D0EAAAAAZCERQcL1KBwDeDJBPgrXoyFsE0HiehSuc7UeQaRwPYpoBTJBo3A9SsR1OUGZmZmZ6O8eQT0K1yMZ+ihBAAAAwMm9PEEAAAAAUPD0QML1KFxsmBpBPgrXoy6qKEHD9Shc8xj8QJmZmRl2wS5BZmZmpndfRkHsUbieBhMmQYbrUThRJjRBAAAAAGBx+0Bcj8L1ToYAQc3MzMz7STdBAAAAAKg6KEEAAAAANF8QQQAAAAAIHwRB\",\"dtype\":\"float64\",\"order\":\"little\",\"shape\":[54]},\"State Code\":[\"AK\",\"AL\",\"AR\",\"AZ\",\"CA\",\"CO\",\"CT\",\"DE\",\"FL\",\"GA\",\"GU\",\"HI\",\"IA\",\"ID\",\"IL\",\"IN\",\"KS\",\"KY\",\"LA\",\"MA\",\"MD\",\"ME\",\"MI\",\"MN\",\"MO\",\"MP\",\"MS\",\"MT\",\"NC\",\"ND\",\"NE\",\"NH\",\"NJ\",\"NM\",\"NV\",\"NY\",\"OH\",\"OK\",\"OR\",\"PA\",\"PR\",\"RI\",\"SC\",\"SD\",\"TN\",\"TX\",\"UT\",\"VA\",\"VI\",\"VT\",\"WA\",\"WI\",\"WV\",\"WY\"],\"State_Code\":[\"AK\",\"AL\",\"AR\",\"AZ\",\"CA\",\"CO\",\"CT\",\"DE\",\"FL\",\"GA\",\"GU\",\"HI\",\"IA\",\"ID\",\"IL\",\"IN\",\"KS\",\"KY\",\"LA\",\"MA\",\"MD\",\"ME\",\"MI\",\"MN\",\"MO\",\"MP\",\"MS\",\"MT\",\"NC\",\"ND\",\"NE\",\"NH\",\"NJ\",\"NM\",\"NV\",\"NY\",\"OH\",\"OK\",\"OR\",\"PA\",\"PR\",\"RI\",\"SC\",\"SD\",\"TN\",\"TX\",\"UT\",\"VA\",\"VI\",\"VT\",\"WA\",\"WI\",\"WV\",\"WY\"]},\"selected\":{\"id\":\"4164\"},\"selection_policy\":{\"id\":\"4182\"}},\"id\":\"4163\",\"type\":\"ColumnDataSource\"},{\"attributes\":{},\"id\":\"4164\",\"type\":\"Selection\"},{\"attributes\":{\"data_source\":{\"id\":\"4142\"},\"glyph\":{\"id\":\"4145\"},\"hover_glyph\":null,\"muted_glyph\":{\"id\":\"4147\"},\"nonselection_glyph\":{\"id\":\"4146\"},\"selection_glyph\":{\"id\":\"4162\"},\"view\":{\"id\":\"4149\"}},\"id\":\"4148\",\"type\":\"GlyphRenderer\"},{\"attributes\":{},\"id\":\"4139\",\"type\":\"AllLabels\"},{\"attributes\":{\"line_color\":\"blue\",\"line_dash\":[2,4],\"line_width\":2,\"x\":{\"field\":\"State Code\"},\"y\":{\"field\":\"2010 - 2014\"}},\"id\":\"4145\",\"type\":\"Line\"},{\"attributes\":{\"data\":{\"2010 - 2014\":{\"__ndarray__\":\"7FG4HpsKBUEVrkfhrssjQeF6FK4pdRVBexSuRxFNIkHXo3CdZvxFQcL1KFw2lSVBUrgehZxAJUEfhetRytYDQRWuRyGWpD1BrUfhupCSMUEAAAAA8M0HQR+F61GBGxpBZ2ZmZoWTFUHsUbgep5wOQexRuB7D5SlBZWZmZtumKEHhehSuMNkYQfYoXA9pNSJBcD0K1wonJUE+CtfjgGY0QSCF61Gd3ilBFK5H4du/EEFnZmZmr5kxQexRuJ5t9iJBXI/CdS42IUEAAAAAQMXaQAAAAADi0xFBH4XrUYovAUFmZmZmgAY3QdejcD16Hv1AehSuRytREEEehetRD5QRQQvXo/BySzRBPgrXo8h5EkEqXI/Cv0cYQWdmZiaJWDJBFa5HYU4PNkEpXI/CqnAcQaRwPQrxaCdBAAAAwKYZP0EAAAAAULzzQFyPwvUgYxhBAAAAgEoSJ0H2KFyPsrr5QChcj0Lu0StBhetROGZ1SEG4HoVrN0YkQXE9ChcITzJBAAAAACA8/EBSuB6FA0IAQZDC9agWEDdBAAAAAJg9KUEAAAAA0JkQQQAAAABISQBB\",\"dtype\":\"float64\",\"order\":\"little\",\"shape\":[54]},\"A_2010_hyphen_minus_2014\":{\"__ndarray__\":\"7FG4HpsKBUEVrkfhrssjQeF6FK4pdRVBexSuRxFNIkHXo3CdZvxFQcL1KFw2lSVBUrgehZxAJUEfhetRytYDQRWuRyGWpD1BrUfhupCSMUEAAAAA8M0HQR+F61GBGxpBZ2ZmZoWTFUHsUbgep5wOQexRuB7D5SlBZWZmZtumKEHhehSuMNkYQfYoXA9pNSJBcD0K1wonJUE+CtfjgGY0QSCF61Gd3ilBFK5H4du/EEFnZmZmr5kxQexRuJ5t9iJBXI/CdS42IUEAAAAAQMXaQAAAAADi0xFBH4XrUYovAUFmZmZmgAY3QdejcD16Hv1AehSuRytREEEehetRD5QRQQvXo/BySzRBPgrXo8h5EkEqXI/Cv0cYQWdmZiaJWDJBFa5HYU4PNkEpXI/CqnAcQaRwPQrxaCdBAAAAwKYZP0EAAAAAULzzQFyPwvUgYxhBAAAAgEoSJ0H2KFyPsrr5QChcj0Lu0StBhetROGZ1SEG4HoVrN0YkQXE9ChcITzJBAAAAACA8/EBSuB6FA0IAQZDC9agWEDdBAAAAAJg9KUEAAAAA0JkQQQAAAABISQBB\",\"dtype\":\"float64\",\"order\":\"little\",\"shape\":[54]},\"State Code\":[\"AK\",\"AL\",\"AR\",\"AZ\",\"CA\",\"CO\",\"CT\",\"DE\",\"FL\",\"GA\",\"GU\",\"HI\",\"IA\",\"ID\",\"IL\",\"IN\",\"KS\",\"KY\",\"LA\",\"MA\",\"MD\",\"ME\",\"MI\",\"MN\",\"MO\",\"MP\",\"MS\",\"MT\",\"NC\",\"ND\",\"NE\",\"NH\",\"NJ\",\"NM\",\"NV\",\"NY\",\"OH\",\"OK\",\"OR\",\"PA\",\"PR\",\"RI\",\"SC\",\"SD\",\"TN\",\"TX\",\"UT\",\"VA\",\"VI\",\"VT\",\"WA\",\"WI\",\"WV\",\"WY\"],\"State_Code\":[\"AK\",\"AL\",\"AR\",\"AZ\",\"CA\",\"CO\",\"CT\",\"DE\",\"FL\",\"GA\",\"GU\",\"HI\",\"IA\",\"ID\",\"IL\",\"IN\",\"KS\",\"KY\",\"LA\",\"MA\",\"MD\",\"ME\",\"MI\",\"MN\",\"MO\",\"MP\",\"MS\",\"MT\",\"NC\",\"ND\",\"NE\",\"NH\",\"NJ\",\"NM\",\"NV\",\"NY\",\"OH\",\"OK\",\"OR\",\"PA\",\"PR\",\"RI\",\"SC\",\"SD\",\"TN\",\"TX\",\"UT\",\"VA\",\"VI\",\"VT\",\"WA\",\"WI\",\"WV\",\"WY\"]},\"selected\":{\"id\":\"4143\"},\"selection_policy\":{\"id\":\"4159\"}},\"id\":\"4142\",\"type\":\"ColumnDataSource\"},{\"attributes\":{\"line_alpha\":0.2,\"line_color\":\"#fc4f30\",\"line_width\":2,\"x\":{\"field\":\"State Code\"},\"y\":{\"field\":\"2015 - 2016\"}},\"id\":\"4168\",\"type\":\"Line\"},{\"attributes\":{},\"id\":\"4182\",\"type\":\"UnionRenderers\"},{\"attributes\":{\"click_policy\":\"mute\",\"items\":[{\"id\":\"4161\"},{\"id\":\"4183\"}]},\"id\":\"4160\",\"type\":\"Legend\"}],\"root_ids\":[\"4100\"]},\"title\":\"Bokeh Application\",\"version\":\"2.3.2\"}};\n",
       "    var render_items = [{\"docid\":\"bc6ede9c-360b-4643-868e-31dd61ac2938\",\"root_ids\":[\"4100\"],\"roots\":{\"4100\":\"079fa6a0-39b3-4b40-952f-609eddc7f89f\"}}];\n",
       "    root.Bokeh.embed.embed_items_notebook(docs_json, render_items);\n",
       "  }\n",
       "  if (root.Bokeh !== undefined && root.Bokeh.Panel !== undefined) {\n",
       "    embed_document(root);\n",
       "  } else {\n",
       "    var attempts = 0;\n",
       "    var timer = setInterval(function(root) {\n",
       "      if (root.Bokeh !== undefined && root.Bokeh.Panel !== undefined) {\n",
       "        clearInterval(timer);\n",
       "        embed_document(root);\n",
       "      } else if (document.readyState == \"complete\") {\n",
       "        attempts++;\n",
       "        if (attempts > 100) {\n",
       "          clearInterval(timer);\n",
       "          console.log(\"Bokeh: ERROR: Unable to run BokehJS code because BokehJS library is missing\");\n",
       "        }\n",
       "      }\n",
       "    }, 10, root)\n",
       "  }\n",
       "})(window);</script>"
      ],
      "text/plain": [
       ":Overlay\n",
       "   .Curve.A_2010_hyphen_minus_14 :Curve   [State Code]   (2010 - 2014)\n",
       "   .Curve.A_2015_hyphen_minus_16 :Curve   [State Code]   (2015 - 2016)"
      ]
     },
     "execution_count": 37,
     "metadata": {
      "application/vnd.holoviews_exec.v0+json": {
       "id": "4100"
      }
     },
     "output_type": "execute_result"
    }
   ],
   "source": [
    "# Overlay plots\n",
    "total_avg_loan_amt_10_14.hvplot(line_dash='dotted', color='blue', label='2010-14', width=1000, height=500) * total_avg_loan_amt_15_16.hvplot(label='2015-16', alpha=0.6)"
   ]
  },
  {
   "cell_type": "code",
   "execution_count": null,
   "metadata": {},
   "outputs": [],
   "source": []
  }
 ],
 "metadata": {
  "kernel_info": {
   "name": "python3"
  },
  "kernelspec": {
   "display_name": "Python 3",
   "language": "python",
   "name": "python3"
  },
  "language_info": {
   "codemirror_mode": {
    "name": "ipython",
    "version": 3
   },
   "file_extension": ".py",
   "mimetype": "text/x-python",
   "name": "python",
   "nbconvert_exporter": "python",
   "pygments_lexer": "ipython3",
   "version": "3.7.10"
  },
  "nteract": {
   "version": "0.12.3"
  }
 },
 "nbformat": 4,
 "nbformat_minor": 4
}
