{
 "cells": [
  {
   "cell_type": "code",
   "execution_count": 12,
   "metadata": {},
   "outputs": [],
   "source": [
    "#Create a variable nameed cheer\n",
    "cheer = 'Python'\n",
    "\n",
    "#Below strings can be used to add fun\n",
    "cheer_symbol1 = \"*\\O/*\"\n",
    "cheer_symbol2 = \"ヘ( ^o^)ノ＼(^_^ )\"\n"
   ]
  },
  {
   "cell_type": "code",
   "execution_count": 13,
   "metadata": {},
   "outputs": [
    {
     "name": "stdout",
     "output_type": "stream",
     "text": [
      "Give me a P!\n",
      "P!\n",
      "Give me a y!\n",
      "y!\n",
      "Give me a t!\n",
      "t!\n",
      "Give me a h!\n",
      "h!\n",
      "Give me a o!\n",
      "o!\n",
      "Give me a n!\n",
      "n!\n"
     ]
    }
   ],
   "source": [
    "#Loop through string\n",
    "for x in cheer:\n",
    "    print(\"Give me a \" + x + \"!\")\n",
    "    print(x + \"!\")\n"
   ]
  },
  {
   "cell_type": "code",
   "execution_count": 15,
   "metadata": {},
   "outputs": [
    {
     "name": "stdout",
     "output_type": "stream",
     "text": [
      "\n",
      "What does that spell?!\n",
      "Python!\n",
      "Woohoo! Go Python!\n",
      "*\\O/**\\O/**\\O/*\n",
      "ヘ( ^o^)ノ＼(^_^ )\n"
     ]
    }
   ],
   "source": [
    "# Print excitement to white screen\n",
    "print(\"\\nWhat does that spell?!\")\n",
    "print(cheer + \"!\\nWoohoo! Go \" + cheer + \"!\")\n",
    "print(cheer_symbol1 * 3)\n",
    "print(cheer_symbol2)"
   ]
  },
  {
   "cell_type": "code",
   "execution_count": 36,
   "metadata": {},
   "outputs": [
    {
     "name": "stdout",
     "output_type": "stream",
     "text": [
      "The simple interest interest for this purchase would be 1600.0.\n"
     ]
    }
   ],
   "source": [
    "# Declare floats for principal, interest_rate, and time_period\n",
    "principal = 20000.00\n",
    "interest_rate = 0.02\n",
    "time_period = 4.0\n",
    "\n",
    "#Compute simple interest\n",
    "simple_interest = principal * interest_rate * time_period\n",
    "print(f\"The simple interest interest for this purchase would be {simple_interest}.\")\n",
    "\n"
   ]
  },
  {
   "cell_type": "code",
   "execution_count": 37,
   "metadata": {},
   "outputs": [
    {
     "name": "stdout",
     "output_type": "stream",
     "text": [
      "I highly recommend you get this line of credit. Total simple interest paid is less than $2,000.\n"
     ]
    }
   ],
   "source": [
    "# Determine if credit should be accepted\n",
    "if simple_interest <= 2000.0:\n",
    "    print(\"I highly recommend you get this line of credit. Total simple interest paid is less than $2,000.\")\n",
    "elif (simple_interest > 2000.0) and (simple_interest <= 4000.0):\n",
    "    print('This is an okay deal. You might find better deals elsewhere. Total simple interest will be between $2,000 and $4,000.')\n",
    "else:\n",
    "    print(\"Total simple interest paid will be over $4,000. Do not accept this line of credit.\")\n"
   ]
  },
  {
   "cell_type": "code",
   "execution_count": null,
   "metadata": {},
   "outputs": [],
   "source": []
  }
 ],
 "metadata": {
  "kernelspec": {
   "display_name": "Python 3",
   "language": "python",
   "name": "python3"
  },
  "language_info": {
   "codemirror_mode": {
    "name": "ipython",
    "version": 3
   },
   "file_extension": ".py",
   "mimetype": "text/x-python",
   "name": "python",
   "nbconvert_exporter": "python",
   "pygments_lexer": "ipython3",
   "version": "3.7.1"
  }
 },
 "nbformat": 4,
 "nbformat_minor": 2
}
