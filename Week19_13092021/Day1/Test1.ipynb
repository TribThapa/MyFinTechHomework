{
 "cells": [
  {
   "cell_type": "code",
   "execution_count": 3,
   "id": "8cb47469-878e-4da3-89ca-1795851915ad",
   "metadata": {},
   "outputs": [
    {
     "data": {
      "text/plain": [
       "True"
      ]
     },
     "execution_count": 3,
     "metadata": {},
     "output_type": "execute_result"
    }
   ],
   "source": [
    "import os\n",
    "from web3 import Web3\n",
    "from dotenv import load_dotenv\n",
    "\n",
    "load_dotenv()"
   ]
  },
  {
   "cell_type": "code",
   "execution_count": 5,
   "id": "15a155fb-b1f1-4349-8e53-4a5075af5aad",
   "metadata": {},
   "outputs": [
    {
     "data": {
      "text/plain": [
       "904625697166532766746648320380374280103671755200116906558252270061821322790"
      ]
     },
     "execution_count": 5,
     "metadata": {},
     "output_type": "execute_result"
    }
   ],
   "source": [
    "w3 = Web3(Web3.HTTPProvider(\"http://127.0.0.1:8545\"))\n",
    "\n",
    "w3.eth.getBalance(\"0xcC7EbAAaA14dFb82eEE14aEd6D9B7139f601941D\")\n",
    "\n",
    "# w3 = Web3(Web3.HTTPProvider(\"http://127.0.0.1:8545\"))\n",
    "# w3.middleware_onion.inject(geth_poa_middleware, layer=0)\n",
    "\n",
    "# private_key = os.getenv('web3_private_key')\n",
    "# print(type(private_key))\n",
    "\n",
    "# account_one = Account.from_key(private_key)"
   ]
  }
 ],
 "metadata": {
  "kernelspec": {
   "display_name": "Python 3",
   "language": "python",
   "name": "python3"
  },
  "language_info": {
   "codemirror_mode": {
    "name": "ipython",
    "version": 3
   },
   "file_extension": ".py",
   "mimetype": "text/x-python",
   "name": "python",
   "nbconvert_exporter": "python",
   "pygments_lexer": "ipython3",
   "version": "3.7.10"
  }
 },
 "nbformat": 4,
 "nbformat_minor": 5
}
