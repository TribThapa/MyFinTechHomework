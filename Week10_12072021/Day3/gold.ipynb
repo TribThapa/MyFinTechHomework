{
 "cells": [
  {
   "cell_type": "code",
   "execution_count": 1,
   "metadata": {},
   "outputs": [],
   "source": [
    "# Import libraries and dependencies\n",
    "import pandas as pd\n",
    "import numpy as np\n",
    "from sklearn.linear_model import LinearRegression\n",
    "from sklearn.metrics import mean_squared_error, r2_score\n",
    "%matplotlib inline"
   ]
  },
  {
   "cell_type": "code",
   "execution_count": 2,
   "metadata": {},
   "outputs": [
    {
     "data": {
      "text/html": [
       "<div>\n",
       "<style scoped>\n",
       "    .dataframe tbody tr th:only-of-type {\n",
       "        vertical-align: middle;\n",
       "    }\n",
       "\n",
       "    .dataframe tbody tr th {\n",
       "        vertical-align: top;\n",
       "    }\n",
       "\n",
       "    .dataframe thead th {\n",
       "        text-align: right;\n",
       "    }\n",
       "</style>\n",
       "<table border=\"1\" class=\"dataframe\">\n",
       "  <thead>\n",
       "    <tr style=\"text-align: right;\">\n",
       "      <th></th>\n",
       "      <th>Open</th>\n",
       "      <th>High</th>\n",
       "      <th>Low</th>\n",
       "      <th>Close</th>\n",
       "    </tr>\n",
       "    <tr>\n",
       "      <th>Date</th>\n",
       "      <th></th>\n",
       "      <th></th>\n",
       "      <th></th>\n",
       "      <th></th>\n",
       "    </tr>\n",
       "  </thead>\n",
       "  <tbody>\n",
       "    <tr>\n",
       "      <th>2001-01-02</th>\n",
       "      <td>400.90</td>\n",
       "      <td>400.90</td>\n",
       "      <td>400.90</td>\n",
       "      <td>400.90</td>\n",
       "    </tr>\n",
       "    <tr>\n",
       "      <th>2001-01-03</th>\n",
       "      <td>401.68</td>\n",
       "      <td>401.68</td>\n",
       "      <td>401.68</td>\n",
       "      <td>401.68</td>\n",
       "    </tr>\n",
       "    <tr>\n",
       "      <th>2001-01-04</th>\n",
       "      <td>400.51</td>\n",
       "      <td>400.51</td>\n",
       "      <td>400.51</td>\n",
       "      <td>400.51</td>\n",
       "    </tr>\n",
       "    <tr>\n",
       "      <th>2001-01-05</th>\n",
       "      <td>401.92</td>\n",
       "      <td>401.92</td>\n",
       "      <td>401.92</td>\n",
       "      <td>401.92</td>\n",
       "    </tr>\n",
       "    <tr>\n",
       "      <th>2001-01-08</th>\n",
       "      <td>400.42</td>\n",
       "      <td>400.42</td>\n",
       "      <td>400.42</td>\n",
       "      <td>400.42</td>\n",
       "    </tr>\n",
       "  </tbody>\n",
       "</table>\n",
       "</div>"
      ],
      "text/plain": [
       "              Open    High     Low   Close\n",
       "Date                                      \n",
       "2001-01-02  400.90  400.90  400.90  400.90\n",
       "2001-01-03  401.68  401.68  401.68  401.68\n",
       "2001-01-04  400.51  400.51  400.51  400.51\n",
       "2001-01-05  401.92  401.92  401.92  401.92\n",
       "2001-01-08  400.42  400.42  400.42  400.42"
      ]
     },
     "execution_count": 2,
     "metadata": {},
     "output_type": "execute_result"
    }
   ],
   "source": [
    "# Read CSV, parse dates, set index\n",
    "df = pd.read_csv((r'C:\\Users\\TribThapa\\Desktop\\Thapa\\ResearchFellow\\Courses\\FinTech_Bootcamp_MonashUni2021\\monu-mel-virt-fin-pt-05-2021-u-c\\Activities\\Week 10\\3\\08-Stu_Rolled_Gold\\Resources\\gold_cad.csv'),\n",
    "                 parse_dates=True,\n",
    "                 index_col='Date')\n",
    "\n",
    "df.head()"
   ]
  },
  {
   "cell_type": "code",
   "execution_count": 3,
   "metadata": {},
   "outputs": [
    {
     "data": {
      "text/html": [
       "<div>\n",
       "<style scoped>\n",
       "    .dataframe tbody tr th:only-of-type {\n",
       "        vertical-align: middle;\n",
       "    }\n",
       "\n",
       "    .dataframe tbody tr th {\n",
       "        vertical-align: top;\n",
       "    }\n",
       "\n",
       "    .dataframe thead th {\n",
       "        text-align: right;\n",
       "    }\n",
       "</style>\n",
       "<table border=\"1\" class=\"dataframe\">\n",
       "  <thead>\n",
       "    <tr style=\"text-align: right;\">\n",
       "      <th></th>\n",
       "      <th>Open</th>\n",
       "      <th>High</th>\n",
       "      <th>Low</th>\n",
       "      <th>Close</th>\n",
       "      <th>Return</th>\n",
       "      <th>Lagged_Return</th>\n",
       "    </tr>\n",
       "    <tr>\n",
       "      <th>Date</th>\n",
       "      <th></th>\n",
       "      <th></th>\n",
       "      <th></th>\n",
       "      <th></th>\n",
       "      <th></th>\n",
       "      <th></th>\n",
       "    </tr>\n",
       "  </thead>\n",
       "  <tbody>\n",
       "    <tr>\n",
       "      <th>2001-01-02</th>\n",
       "      <td>400.90</td>\n",
       "      <td>400.90</td>\n",
       "      <td>400.90</td>\n",
       "      <td>400.90</td>\n",
       "      <td>NaN</td>\n",
       "      <td>NaN</td>\n",
       "    </tr>\n",
       "    <tr>\n",
       "      <th>2001-01-03</th>\n",
       "      <td>401.68</td>\n",
       "      <td>401.68</td>\n",
       "      <td>401.68</td>\n",
       "      <td>401.68</td>\n",
       "      <td>0.194562</td>\n",
       "      <td>NaN</td>\n",
       "    </tr>\n",
       "    <tr>\n",
       "      <th>2001-01-04</th>\n",
       "      <td>400.51</td>\n",
       "      <td>400.51</td>\n",
       "      <td>400.51</td>\n",
       "      <td>400.51</td>\n",
       "      <td>-0.291277</td>\n",
       "      <td>0.194562</td>\n",
       "    </tr>\n",
       "    <tr>\n",
       "      <th>2001-01-05</th>\n",
       "      <td>401.92</td>\n",
       "      <td>401.92</td>\n",
       "      <td>401.92</td>\n",
       "      <td>401.92</td>\n",
       "      <td>0.352051</td>\n",
       "      <td>-0.291277</td>\n",
       "    </tr>\n",
       "    <tr>\n",
       "      <th>2001-01-08</th>\n",
       "      <td>400.42</td>\n",
       "      <td>400.42</td>\n",
       "      <td>400.42</td>\n",
       "      <td>400.42</td>\n",
       "      <td>-0.373209</td>\n",
       "      <td>0.352051</td>\n",
       "    </tr>\n",
       "  </tbody>\n",
       "</table>\n",
       "</div>"
      ],
      "text/plain": [
       "              Open    High     Low   Close    Return  Lagged_Return\n",
       "Date                                                               \n",
       "2001-01-02  400.90  400.90  400.90  400.90       NaN            NaN\n",
       "2001-01-03  401.68  401.68  401.68  401.68  0.194562            NaN\n",
       "2001-01-04  400.51  400.51  400.51  400.51 -0.291277       0.194562\n",
       "2001-01-05  401.92  401.92  401.92  401.92  0.352051      -0.291277\n",
       "2001-01-08  400.42  400.42  400.42  400.42 -0.373209       0.352051"
      ]
     },
     "execution_count": 3,
     "metadata": {},
     "output_type": "execute_result"
    }
   ],
   "source": [
    "# Calculate return and lagged return\n",
    "df[\"Return\"] = df[\"Close\"].pct_change()*100\n",
    "df[\"Lagged_Return\"] = df[\"Return\"].shift()\n",
    "\n",
    "df.head()"
   ]
  },
  {
   "cell_type": "code",
   "execution_count": 4,
   "metadata": {},
   "outputs": [
    {
     "data": {
      "text/html": [
       "<div>\n",
       "<style scoped>\n",
       "    .dataframe tbody tr th:only-of-type {\n",
       "        vertical-align: middle;\n",
       "    }\n",
       "\n",
       "    .dataframe tbody tr th {\n",
       "        vertical-align: top;\n",
       "    }\n",
       "\n",
       "    .dataframe thead th {\n",
       "        text-align: right;\n",
       "    }\n",
       "</style>\n",
       "<table border=\"1\" class=\"dataframe\">\n",
       "  <thead>\n",
       "    <tr style=\"text-align: right;\">\n",
       "      <th></th>\n",
       "      <th>Open</th>\n",
       "      <th>High</th>\n",
       "      <th>Low</th>\n",
       "      <th>Close</th>\n",
       "      <th>Return</th>\n",
       "      <th>Lagged_Return</th>\n",
       "    </tr>\n",
       "    <tr>\n",
       "      <th>Date</th>\n",
       "      <th></th>\n",
       "      <th></th>\n",
       "      <th></th>\n",
       "      <th></th>\n",
       "      <th></th>\n",
       "      <th></th>\n",
       "    </tr>\n",
       "  </thead>\n",
       "  <tbody>\n",
       "    <tr>\n",
       "      <th>2001-01-04</th>\n",
       "      <td>400.51</td>\n",
       "      <td>400.51</td>\n",
       "      <td>400.51</td>\n",
       "      <td>400.51</td>\n",
       "      <td>-0.291277</td>\n",
       "      <td>0.194562</td>\n",
       "    </tr>\n",
       "    <tr>\n",
       "      <th>2001-01-05</th>\n",
       "      <td>401.92</td>\n",
       "      <td>401.92</td>\n",
       "      <td>401.92</td>\n",
       "      <td>401.92</td>\n",
       "      <td>0.352051</td>\n",
       "      <td>-0.291277</td>\n",
       "    </tr>\n",
       "    <tr>\n",
       "      <th>2001-01-08</th>\n",
       "      <td>400.42</td>\n",
       "      <td>400.42</td>\n",
       "      <td>400.42</td>\n",
       "      <td>400.42</td>\n",
       "      <td>-0.373209</td>\n",
       "      <td>0.352051</td>\n",
       "    </tr>\n",
       "    <tr>\n",
       "      <th>2001-01-09</th>\n",
       "      <td>399.73</td>\n",
       "      <td>399.73</td>\n",
       "      <td>399.73</td>\n",
       "      <td>399.73</td>\n",
       "      <td>-0.172319</td>\n",
       "      <td>-0.373209</td>\n",
       "    </tr>\n",
       "    <tr>\n",
       "      <th>2001-01-10</th>\n",
       "      <td>395.55</td>\n",
       "      <td>395.55</td>\n",
       "      <td>395.55</td>\n",
       "      <td>395.55</td>\n",
       "      <td>-1.045706</td>\n",
       "      <td>-0.172319</td>\n",
       "    </tr>\n",
       "  </tbody>\n",
       "</table>\n",
       "</div>"
      ],
      "text/plain": [
       "              Open    High     Low   Close    Return  Lagged_Return\n",
       "Date                                                               \n",
       "2001-01-04  400.51  400.51  400.51  400.51 -0.291277       0.194562\n",
       "2001-01-05  401.92  401.92  401.92  401.92  0.352051      -0.291277\n",
       "2001-01-08  400.42  400.42  400.42  400.42 -0.373209       0.352051\n",
       "2001-01-09  399.73  399.73  399.73  399.73 -0.172319      -0.373209\n",
       "2001-01-10  395.55  395.55  395.55  395.55 -1.045706      -0.172319"
      ]
     },
     "execution_count": 4,
     "metadata": {},
     "output_type": "execute_result"
    }
   ],
   "source": [
    "# Clean df\n",
    "df = df.dropna()\n",
    "df.head()"
   ]
  },
  {
   "cell_type": "code",
   "execution_count": 5,
   "metadata": {},
   "outputs": [
    {
     "data": {
      "text/plain": [
       "<matplotlib.axes._subplots.AxesSubplot at 0x24f9d2390c8>"
      ]
     },
     "execution_count": 5,
     "metadata": {},
     "output_type": "execute_result"
    },
    {
     "data": {
      "image/png": "[encoded data removed]",
      "text/plain": [
       "<Figure size 432x288 with 1 Axes>"
      ]
     },
     "metadata": {
      "needs_background": "light"
     },
     "output_type": "display_data"
    }
   ],
   "source": [
    "# Plot closing price\n",
    "df[\"Close\"].plot()"
   ]
  },
  {
   "cell_type": "markdown",
   "metadata": {},
   "source": [
    "# Train Test Split Predictions\n",
    "\n",
    "Training Period: 2001-2018\n",
    "Testing Period: 2019"
   ]
  },
  {
   "cell_type": "code",
   "execution_count": 6,
   "metadata": {},
   "outputs": [],
   "source": [
    "# Create a train/test split for the data using 2001-2018 for training and 2019 for testing\n",
    "train_period = df.loc[\"2001\":\"2018\"]\n",
    "test_period = df.loc[\"2019\"]"
   ]
  },
  {
   "cell_type": "code",
   "execution_count": 7,
   "metadata": {},
   "outputs": [],
   "source": [
    "# Create train and test sets for dependent and independent variables\n",
    "X_train = train_period[\"Lagged_Return\"].to_frame()\n",
    "X_test = test_period[\"Lagged_Return\"].to_frame()\n",
    "y_train = train_period[\"Return\"]\n",
    "y_test = test_period[\"Return\"]"
   ]
  },
  {
   "cell_type": "code",
   "execution_count": 8,
   "metadata": {},
   "outputs": [
    {
     "data": {
      "text/plain": [
       "LinearRegression()"
      ]
     },
     "execution_count": 8,
     "metadata": {},
     "output_type": "execute_result"
    }
   ],
   "source": [
    "# Create and fit model to the data, make predictions\n",
    "model = LinearRegression()\n",
    "\n",
    "model.fit(X_train, y_train)"
   ]
  },
  {
   "cell_type": "code",
   "execution_count": 9,
   "metadata": {},
   "outputs": [],
   "source": [
    "# Create and fit model to the data, make predictions\n",
    "predictions = model.predict(X_test)"
   ]
  },
  {
   "cell_type": "code",
   "execution_count": 10,
   "metadata": {},
   "outputs": [
    {
     "data": {
      "text/html": [
       "<div>\n",
       "<style scoped>\n",
       "    .dataframe tbody tr th:only-of-type {\n",
       "        vertical-align: middle;\n",
       "    }\n",
       "\n",
       "    .dataframe tbody tr th {\n",
       "        vertical-align: top;\n",
       "    }\n",
       "\n",
       "    .dataframe thead th {\n",
       "        text-align: right;\n",
       "    }\n",
       "</style>\n",
       "<table border=\"1\" class=\"dataframe\">\n",
       "  <thead>\n",
       "    <tr style=\"text-align: right;\">\n",
       "      <th></th>\n",
       "      <th>Return</th>\n",
       "      <th>Predictions_Return</th>\n",
       "    </tr>\n",
       "    <tr>\n",
       "      <th>Date</th>\n",
       "      <th></th>\n",
       "      <th></th>\n",
       "    </tr>\n",
       "  </thead>\n",
       "  <tbody>\n",
       "    <tr>\n",
       "      <th>2019-01-01</th>\n",
       "      <td>-3.522136</td>\n",
       "      <td>0.061023</td>\n",
       "    </tr>\n",
       "    <tr>\n",
       "      <th>2019-01-02</th>\n",
       "      <td>3.387913</td>\n",
       "      <td>0.544240</td>\n",
       "    </tr>\n",
       "    <tr>\n",
       "      <th>2019-01-03</th>\n",
       "      <td>0.157490</td>\n",
       "      <td>-0.428728</td>\n",
       "    </tr>\n",
       "    <tr>\n",
       "      <th>2019-01-04</th>\n",
       "      <td>-1.505112</td>\n",
       "      <td>0.026131</td>\n",
       "    </tr>\n",
       "    <tr>\n",
       "      <th>2019-01-07</th>\n",
       "      <td>-0.258793</td>\n",
       "      <td>0.260234</td>\n",
       "    </tr>\n",
       "  </tbody>\n",
       "</table>\n",
       "</div>"
      ],
      "text/plain": [
       "              Return  Predictions_Return\n",
       "Date                                    \n",
       "2019-01-01 -3.522136            0.061023\n",
       "2019-01-02  3.387913            0.544240\n",
       "2019-01-03  0.157490           -0.428728\n",
       "2019-01-04 -1.505112            0.026131\n",
       "2019-01-07 -0.258793            0.260234"
      ]
     },
     "execution_count": 10,
     "metadata": {},
     "output_type": "execute_result"
    }
   ],
   "source": [
    "Results = y_test.to_frame()\n",
    "Results[\"Predictions_Return\"] = predictions\n",
    "\n",
    "Results.head()"
   ]
  },
  {
   "cell_type": "code",
   "execution_count": 11,
   "metadata": {},
   "outputs": [
    {
     "data": {
      "text/plain": [
       "array([<matplotlib.axes._subplots.AxesSubplot object at 0x0000024FA00252C8>,\n",
       "       <matplotlib.axes._subplots.AxesSubplot object at 0x0000024F9FB2E488>],\n",
       "      dtype=object)"
      ]
     },
     "execution_count": 11,
     "metadata": {},
     "output_type": "execute_result"
    },
    {
     "data": {
      "image/png": "[encoded data removed]",
      "text/plain": [
       "<Figure size 432x288 with 2 Axes>"
      ]
     },
     "metadata": {
      "needs_background": "light"
     },
     "output_type": "display_data"
    }
   ],
   "source": [
    "# Plot the out-of-sample results for 2019\n",
    "Results.plot(subplots=True)"
   ]
  },
  {
   "cell_type": "code",
   "execution_count": 12,
   "metadata": {},
   "outputs": [
    {
     "name": "stdout",
     "output_type": "stream",
     "text": [
      "MSE is 0.9239739241945416\n",
      "Out-of-sample Root Mean Squared Error (RMSE): 0.9612356236607867\n"
     ]
    }
   ],
   "source": [
    "# Calculate out-of-sample mean_squared_error (for comparison to out-of-sample)\n",
    "out_of_sample_mse = mean_squared_error(Results[\"Return\"],\n",
    "                                       Results[\"Predictions_Return\"])\n",
    "\n",
    "print(f\"MSE is {out_of_sample_mse}\")\n",
    "# Calculate out-of-sample root mean_squared_error (for comparison to out-of-sample)\n",
    "out_of_sample_rmse = np.sqrt(out_of_sample_mse)\n",
    "\n",
    "print(f\"Out-of-sample Root Mean Squared Error (RMSE): {out_of_sample_rmse}\")"
   ]
  },
  {
   "cell_type": "markdown",
   "metadata": {},
   "source": [
    "---"
   ]
  },
  {
   "cell_type": "markdown",
   "metadata": {},
   "source": [
    "# Rolling Out-of-Sample Predictions"
   ]
  },
  {
   "cell_type": "code",
   "execution_count": 13,
   "metadata": {},
   "outputs": [
    {
     "data": {
      "text/html": [
       "<div>\n",
       "<style scoped>\n",
       "    .dataframe tbody tr th:only-of-type {\n",
       "        vertical-align: middle;\n",
       "    }\n",
       "\n",
       "    .dataframe tbody tr th {\n",
       "        vertical-align: top;\n",
       "    }\n",
       "\n",
       "    .dataframe thead th {\n",
       "        text-align: right;\n",
       "    }\n",
       "</style>\n",
       "<table border=\"1\" class=\"dataframe\">\n",
       "  <thead>\n",
       "    <tr style=\"text-align: right;\">\n",
       "      <th></th>\n",
       "      <th>Open</th>\n",
       "      <th>High</th>\n",
       "      <th>Low</th>\n",
       "      <th>Close</th>\n",
       "      <th>Return</th>\n",
       "      <th>Lagged_Return</th>\n",
       "    </tr>\n",
       "    <tr>\n",
       "      <th>Date</th>\n",
       "      <th></th>\n",
       "      <th></th>\n",
       "      <th></th>\n",
       "      <th></th>\n",
       "      <th></th>\n",
       "      <th></th>\n",
       "    </tr>\n",
       "  </thead>\n",
       "  <tbody>\n",
       "    <tr>\n",
       "      <th>2001-01-04</th>\n",
       "      <td>400.51</td>\n",
       "      <td>400.51</td>\n",
       "      <td>400.51</td>\n",
       "      <td>400.51</td>\n",
       "      <td>-0.291277</td>\n",
       "      <td>0.194562</td>\n",
       "    </tr>\n",
       "    <tr>\n",
       "      <th>2001-01-05</th>\n",
       "      <td>401.92</td>\n",
       "      <td>401.92</td>\n",
       "      <td>401.92</td>\n",
       "      <td>401.92</td>\n",
       "      <td>0.352051</td>\n",
       "      <td>-0.291277</td>\n",
       "    </tr>\n",
       "    <tr>\n",
       "      <th>2001-01-08</th>\n",
       "      <td>400.42</td>\n",
       "      <td>400.42</td>\n",
       "      <td>400.42</td>\n",
       "      <td>400.42</td>\n",
       "      <td>-0.373209</td>\n",
       "      <td>0.352051</td>\n",
       "    </tr>\n",
       "    <tr>\n",
       "      <th>2001-01-09</th>\n",
       "      <td>399.73</td>\n",
       "      <td>399.73</td>\n",
       "      <td>399.73</td>\n",
       "      <td>399.73</td>\n",
       "      <td>-0.172319</td>\n",
       "      <td>-0.373209</td>\n",
       "    </tr>\n",
       "    <tr>\n",
       "      <th>2001-01-10</th>\n",
       "      <td>395.55</td>\n",
       "      <td>395.55</td>\n",
       "      <td>395.55</td>\n",
       "      <td>395.55</td>\n",
       "      <td>-1.045706</td>\n",
       "      <td>-0.172319</td>\n",
       "    </tr>\n",
       "  </tbody>\n",
       "</table>\n",
       "</div>"
      ],
      "text/plain": [
       "              Open    High     Low   Close    Return  Lagged_Return\n",
       "Date                                                               \n",
       "2001-01-04  400.51  400.51  400.51  400.51 -0.291277       0.194562\n",
       "2001-01-05  401.92  401.92  401.92  401.92  0.352051      -0.291277\n",
       "2001-01-08  400.42  400.42  400.42  400.42 -0.373209       0.352051\n",
       "2001-01-09  399.73  399.73  399.73  399.73 -0.172319      -0.373209\n",
       "2001-01-10  395.55  395.55  395.55  395.55 -1.045706      -0.172319"
      ]
     },
     "execution_count": 13,
     "metadata": {},
     "output_type": "execute_result"
    }
   ],
   "source": [
    "df.head()"
   ]
  },
  {
   "cell_type": "code",
   "execution_count": 14,
   "metadata": {},
   "outputs": [
    {
     "name": "stdout",
     "output_type": "stream",
     "text": [
      "2001-01-01/2001-01-07\n",
      "\n",
      "Total no. of weeks is 1014.\n"
     ]
    }
   ],
   "source": [
    "# Split the index into weekly periods\n",
    "weeks = df.index.to_period(\"W\").unique()\n",
    "print(weeks[0])\n",
    "print()\n",
    "print(f\"Total no. of weeks is {len(weeks)}.\")"
   ]
  },
  {
   "cell_type": "code",
   "execution_count": 15,
   "metadata": {},
   "outputs": [
    {
     "name": "stdout",
     "output_type": "stream",
     "text": [
      "Training window: 12\n",
      "\n",
      "No of weeks: 1014\n",
      "\n",
      "Timeframe: 1014 - 12 - 1 = 1001\n",
      "\n",
      "Start_train: 2001-01-01\n",
      "End_train: 2001-04-01\n",
      "\n",
      "Test week: PeriodIndex(['2001-04-02/2001-04-08', '2001-04-09/2001-04-15',\n",
      "             '2001-04-16/2001-04-22', '2001-04-23/2001-04-29',\n",
      "             '2001-04-30/2001-05-06', '2001-05-07/2001-05-13',\n",
      "             '2001-05-14/2001-05-20', '2001-05-21/2001-05-27',\n",
      "             '2001-05-28/2001-06-03', '2001-06-04/2001-06-10',\n",
      "             ...\n",
      "             '2020-03-23/2020-03-29', '2020-03-30/2020-04-05',\n",
      "             '2020-04-06/2020-04-12', '2020-04-13/2020-04-19',\n",
      "             '2020-04-20/2020-04-26', '2020-04-27/2020-05-03',\n",
      "             '2020-05-04/2020-05-10', '2020-05-11/2020-05-17',\n",
      "             '2020-05-18/2020-05-24', '2020-05-25/2020-05-31'],\n",
      "            dtype='period[W-SUN]', name='Date', length=1000, freq='W-SUN')\n",
      "\n",
      "Start_test: 2001-04-02\n",
      "End_test: 2020-05-31\n"
     ]
    }
   ],
   "source": [
    "# Declare the training window of 12 weeks. Define the timeframe of rolling windows\n",
    "training_window = 12\n",
    "print(f\"Training window: {training_window}\")\n",
    "len_weeks = len(weeks)\n",
    "print()\n",
    "print(f\"No of weeks: {len_weeks}\")\n",
    "\n",
    "timeframe = len_weeks - training_window - 1\n",
    "print()\n",
    "print(f\"Timeframe: {len_weeks} - {training_window} - 1 = {timeframe}\")\n",
    "print()\n",
    "\n",
    "# Start of training window\n",
    "start_of_training_period = weeks[0].start_time.strftime(format=\"%Y-%m-%d\")\n",
    "\n",
    "# End of training window\n",
    "end_of_training_period = weeks[training_window + 0].end_time.strftime(format=\"%Y-%m-%d\")\n",
    "\n",
    "print(f\"Start_train: {start_of_training_period}\")\n",
    "print(f\"End_train: {end_of_training_period}\")\n",
    "\n",
    "\n",
    "# Start of testing window\n",
    "test_week = weeks[training_window + 1:-1]\n",
    "\n",
    "start_of_testing_period = test_week.start_time[0].strftime(\"%Y-%m-%d\")\n",
    "\n",
    "# End of testing window\n",
    "end_of_testing_period = test_week.end_time[-1].strftime(\"%Y-%m-%d\")\n",
    "\n",
    "print()\n",
    "print(f\"Test week: {test_week}\")\n",
    "print()\n",
    "print(f\"Start_test: {start_of_testing_period}\")\n",
    "print(f\"End_test: {end_of_testing_period}\")"
   ]
  },
  {
   "cell_type": "code",
   "execution_count": 16,
   "metadata": {},
   "outputs": [
    {
     "data": {
      "text/html": [
       "<div>\n",
       "<style scoped>\n",
       "    .dataframe tbody tr th:only-of-type {\n",
       "        vertical-align: middle;\n",
       "    }\n",
       "\n",
       "    .dataframe tbody tr th {\n",
       "        vertical-align: top;\n",
       "    }\n",
       "\n",
       "    .dataframe thead th {\n",
       "        text-align: right;\n",
       "    }\n",
       "</style>\n",
       "<table border=\"1\" class=\"dataframe\">\n",
       "  <thead>\n",
       "    <tr style=\"text-align: right;\">\n",
       "      <th></th>\n",
       "      <th>Open</th>\n",
       "      <th>High</th>\n",
       "      <th>Low</th>\n",
       "      <th>Close</th>\n",
       "      <th>Return</th>\n",
       "      <th>Lagged_Return</th>\n",
       "    </tr>\n",
       "    <tr>\n",
       "      <th>Date</th>\n",
       "      <th></th>\n",
       "      <th></th>\n",
       "      <th></th>\n",
       "      <th></th>\n",
       "      <th></th>\n",
       "      <th></th>\n",
       "    </tr>\n",
       "  </thead>\n",
       "  <tbody>\n",
       "    <tr>\n",
       "      <th>2001-03-26</th>\n",
       "      <td>407.82</td>\n",
       "      <td>407.82</td>\n",
       "      <td>407.82</td>\n",
       "      <td>407.82</td>\n",
       "      <td>-0.329936</td>\n",
       "      <td>-0.285129</td>\n",
       "    </tr>\n",
       "    <tr>\n",
       "      <th>2001-03-27</th>\n",
       "      <td>409.28</td>\n",
       "      <td>409.28</td>\n",
       "      <td>409.28</td>\n",
       "      <td>409.28</td>\n",
       "      <td>0.358001</td>\n",
       "      <td>-0.329936</td>\n",
       "    </tr>\n",
       "    <tr>\n",
       "      <th>2001-03-28</th>\n",
       "      <td>406.35</td>\n",
       "      <td>406.35</td>\n",
       "      <td>406.35</td>\n",
       "      <td>406.35</td>\n",
       "      <td>-0.715891</td>\n",
       "      <td>0.358001</td>\n",
       "    </tr>\n",
       "    <tr>\n",
       "      <th>2001-03-29</th>\n",
       "      <td>408.72</td>\n",
       "      <td>409.82</td>\n",
       "      <td>406.36</td>\n",
       "      <td>407.30</td>\n",
       "      <td>0.233789</td>\n",
       "      <td>-0.715891</td>\n",
       "    </tr>\n",
       "    <tr>\n",
       "      <th>2001-03-30</th>\n",
       "      <td>408.01</td>\n",
       "      <td>408.80</td>\n",
       "      <td>404.54</td>\n",
       "      <td>406.59</td>\n",
       "      <td>-0.174319</td>\n",
       "      <td>0.233789</td>\n",
       "    </tr>\n",
       "  </tbody>\n",
       "</table>\n",
       "</div>"
      ],
      "text/plain": [
       "              Open    High     Low   Close    Return  Lagged_Return\n",
       "Date                                                               \n",
       "2001-03-26  407.82  407.82  407.82  407.82 -0.329936      -0.285129\n",
       "2001-03-27  409.28  409.28  409.28  409.28  0.358001      -0.329936\n",
       "2001-03-28  406.35  406.35  406.35  406.35 -0.715891       0.358001\n",
       "2001-03-29  408.72  409.82  406.36  407.30  0.233789      -0.715891\n",
       "2001-03-30  408.01  408.80  404.54  406.59 -0.174319       0.233789"
      ]
     },
     "execution_count": 16,
     "metadata": {},
     "output_type": "execute_result"
    }
   ],
   "source": [
    "# Training data with just one window\n",
    "train = df[start_of_training_period:end_of_training_period]\n",
    "train.tail()"
   ]
  },
  {
   "cell_type": "code",
   "execution_count": 17,
   "metadata": {},
   "outputs": [
    {
     "data": {
      "text/html": [
       "<div>\n",
       "<style scoped>\n",
       "    .dataframe tbody tr th:only-of-type {\n",
       "        vertical-align: middle;\n",
       "    }\n",
       "\n",
       "    .dataframe tbody tr th {\n",
       "        vertical-align: top;\n",
       "    }\n",
       "\n",
       "    .dataframe thead th {\n",
       "        text-align: right;\n",
       "    }\n",
       "</style>\n",
       "<table border=\"1\" class=\"dataframe\">\n",
       "  <thead>\n",
       "    <tr style=\"text-align: right;\">\n",
       "      <th></th>\n",
       "      <th>Open</th>\n",
       "      <th>High</th>\n",
       "      <th>Low</th>\n",
       "      <th>Close</th>\n",
       "      <th>Return</th>\n",
       "      <th>Lagged_Return</th>\n",
       "    </tr>\n",
       "    <tr>\n",
       "      <th>Date</th>\n",
       "      <th></th>\n",
       "      <th></th>\n",
       "      <th></th>\n",
       "      <th></th>\n",
       "      <th></th>\n",
       "      <th></th>\n",
       "    </tr>\n",
       "  </thead>\n",
       "  <tbody>\n",
       "    <tr>\n",
       "      <th>2020-05-25</th>\n",
       "      <td>2420.35</td>\n",
       "      <td>2421.47</td>\n",
       "      <td>2404.55</td>\n",
       "      <td>2415.38</td>\n",
       "      <td>-0.308726</td>\n",
       "      <td>-0.279464</td>\n",
       "    </tr>\n",
       "    <tr>\n",
       "      <th>2020-05-26</th>\n",
       "      <td>2415.60</td>\n",
       "      <td>2419.18</td>\n",
       "      <td>2371.78</td>\n",
       "      <td>2381.42</td>\n",
       "      <td>-1.405990</td>\n",
       "      <td>-0.308726</td>\n",
       "    </tr>\n",
       "    <tr>\n",
       "      <th>2020-05-27</th>\n",
       "      <td>2370.87</td>\n",
       "      <td>2377.75</td>\n",
       "      <td>2339.93</td>\n",
       "      <td>2374.59</td>\n",
       "      <td>-0.286804</td>\n",
       "      <td>-1.405990</td>\n",
       "    </tr>\n",
       "    <tr>\n",
       "      <th>2020-05-28</th>\n",
       "      <td>2374.07</td>\n",
       "      <td>2399.81</td>\n",
       "      <td>2367.19</td>\n",
       "      <td>2378.61</td>\n",
       "      <td>0.169292</td>\n",
       "      <td>-0.286804</td>\n",
       "    </tr>\n",
       "    <tr>\n",
       "      <th>2020-05-29</th>\n",
       "      <td>2385.98</td>\n",
       "      <td>2416.00</td>\n",
       "      <td>2375.79</td>\n",
       "      <td>2412.15</td>\n",
       "      <td>1.410067</td>\n",
       "      <td>0.169292</td>\n",
       "    </tr>\n",
       "  </tbody>\n",
       "</table>\n",
       "</div>"
      ],
      "text/plain": [
       "               Open     High      Low    Close    Return  Lagged_Return\n",
       "Date                                                                   \n",
       "2020-05-25  2420.35  2421.47  2404.55  2415.38 -0.308726      -0.279464\n",
       "2020-05-26  2415.60  2419.18  2371.78  2381.42 -1.405990      -0.308726\n",
       "2020-05-27  2370.87  2377.75  2339.93  2374.59 -0.286804      -1.405990\n",
       "2020-05-28  2374.07  2399.81  2367.19  2378.61  0.169292      -0.286804\n",
       "2020-05-29  2385.98  2416.00  2375.79  2412.15  1.410067       0.169292"
      ]
     },
     "execution_count": 17,
     "metadata": {},
     "output_type": "execute_result"
    }
   ],
   "source": [
    "test = df[start_of_testing_period:end_of_testing_period]\n",
    "test.tail()"
   ]
  },
  {
   "cell_type": "code",
   "execution_count": 18,
   "metadata": {},
   "outputs": [
    {
     "data": {
      "text/html": [
       "<div>\n",
       "<style scoped>\n",
       "    .dataframe tbody tr th:only-of-type {\n",
       "        vertical-align: middle;\n",
       "    }\n",
       "\n",
       "    .dataframe tbody tr th {\n",
       "        vertical-align: top;\n",
       "    }\n",
       "\n",
       "    .dataframe thead th {\n",
       "        text-align: right;\n",
       "    }\n",
       "</style>\n",
       "<table border=\"1\" class=\"dataframe\">\n",
       "  <thead>\n",
       "    <tr style=\"text-align: right;\">\n",
       "      <th></th>\n",
       "      <th>Actual Returns</th>\n",
       "    </tr>\n",
       "  </thead>\n",
       "  <tbody>\n",
       "  </tbody>\n",
       "</table>\n",
       "</div>"
      ],
      "text/plain": [
       "Empty DataFrame\n",
       "Columns: [Actual Returns]\n",
       "Index: []"
      ]
     },
     "execution_count": 18,
     "metadata": {},
     "output_type": "execute_result"
    }
   ],
   "source": [
    "# Construct empty placeholder dataframes. During each iteration of the loop, we'll append that week\"s predictions to this DataFrame.\n",
    "all_predictions = pd.DataFrame(columns=[\"Out-of-sample predictions\"])\n",
    "all_actuals = pd.DataFrame(columns=[\"Actual Returns\"])\n",
    "\n",
    "all_actuals"
   ]
  },
  {
   "cell_type": "code",
   "execution_count": 19,
   "metadata": {},
   "outputs": [],
   "source": [
    "# During rolling iteration, split into train and test sets. Use linear regression to make out-of-sample predictions. Append the results to external dataframes.\n",
    "for i in range(0, timeframe):\n",
    "    \n",
    "    # Start of training period\n",
    "    start_of_training_period = weeks[i].start_time.strftime(format=\"%Y-%m-%d\")\n",
    "    \n",
    "    # End of training period\n",
    "    end_of_training_period = weeks[training_window + i].end_time.strftime(format=\"%Y-%m-%d\")\n",
    "    \n",
    "    # Window for test data\n",
    "    test_week = weeks[training_window + i + 1]\n",
    "    \n",
    "    # Start date for testing period\n",
    "    start_of_test_period = test_week.start_time.strftime(format=\"%Y-%m-%d\")\n",
    "    end_of_test_period = test_week.end_time.strftime(format=\"%Y-%m-%d\")\n",
    "    \n",
    "    train = df[start_of_training_period:end_of_training_period]\n",
    "    test = df[start_of_test_period:end_of_test_period]\n",
    "    \n",
    "    # Create new DataFrames:\n",
    "    X_train = train[\"Lagged_Return\"].to_frame()\n",
    "    y_train = train[\"Return\"]\n",
    "\n",
    "    X_test = test[\"Lagged_Return\"].to_frame()\n",
    "    y_test = test[\"Return\"]\n",
    "    \n",
    "    model = LinearRegression()\n",
    "    \n",
    "    model.fit(X_train, y_train)\n",
    "\n",
    "    predictions = model.predict(X_test)\n",
    "    \n",
    "    # Enter data to dataframe\n",
    "    predictions = pd.DataFrame(predictions,\n",
    "                               index=X_test.index,\n",
    "                               columns=[\"Out-of-sample predictions\"])\n",
    "    \n",
    "    actuals = pd.DataFrame(y_test,\n",
    "                           index=y_test.index)\n",
    "                           #columns=[\"Actual Returns\"])\n",
    "        \n",
    "    actuals.columns = [\"Actual Returns\"]  \n",
    "        \n",
    "    # Append to dataframe created outside the loop\n",
    "    all_predictions = all_predictions.append(predictions)\n",
    "    all_actuals = all_actuals.append(actuals)"
   ]
  },
  {
   "cell_type": "code",
   "execution_count": 20,
   "metadata": {},
   "outputs": [
    {
     "data": {
      "text/html": [
       "<div>\n",
       "<style scoped>\n",
       "    .dataframe tbody tr th:only-of-type {\n",
       "        vertical-align: middle;\n",
       "    }\n",
       "\n",
       "    .dataframe tbody tr th {\n",
       "        vertical-align: top;\n",
       "    }\n",
       "\n",
       "    .dataframe thead th {\n",
       "        text-align: right;\n",
       "    }\n",
       "</style>\n",
       "<table border=\"1\" class=\"dataframe\">\n",
       "  <thead>\n",
       "    <tr style=\"text-align: right;\">\n",
       "      <th></th>\n",
       "      <th>Actual Returns</th>\n",
       "      <th>Out-of-sample predictions</th>\n",
       "    </tr>\n",
       "  </thead>\n",
       "  <tbody>\n",
       "    <tr>\n",
       "      <th>2001-04-02</th>\n",
       "      <td>-0.577978</td>\n",
       "      <td>0.023480</td>\n",
       "    </tr>\n",
       "    <tr>\n",
       "      <th>2001-04-03</th>\n",
       "      <td>0.168217</td>\n",
       "      <td>0.023246</td>\n",
       "    </tr>\n",
       "    <tr>\n",
       "      <th>2001-04-04</th>\n",
       "      <td>0.432184</td>\n",
       "      <td>0.023678</td>\n",
       "    </tr>\n",
       "    <tr>\n",
       "      <th>2001-04-05</th>\n",
       "      <td>-0.115573</td>\n",
       "      <td>0.023831</td>\n",
       "    </tr>\n",
       "    <tr>\n",
       "      <th>2001-04-06</th>\n",
       "      <td>0.152634</td>\n",
       "      <td>0.023514</td>\n",
       "    </tr>\n",
       "  </tbody>\n",
       "</table>\n",
       "</div>"
      ],
      "text/plain": [
       "            Actual Returns  Out-of-sample predictions\n",
       "2001-04-02       -0.577978                   0.023480\n",
       "2001-04-03        0.168217                   0.023246\n",
       "2001-04-04        0.432184                   0.023678\n",
       "2001-04-05       -0.115573                   0.023831\n",
       "2001-04-06        0.152634                   0.023514"
      ]
     },
     "execution_count": 20,
     "metadata": {},
     "output_type": "execute_result"
    }
   ],
   "source": [
    "# Concat actual returns with out-of-sample predictions\n",
    "Results = pd.concat([all_actuals,\n",
    "                     all_predictions],\n",
    "                    axis=1)\n",
    "\n",
    "Results.head()"
   ]
  },
  {
   "cell_type": "code",
   "execution_count": 31,
   "metadata": {},
   "outputs": [
    {
     "data": {
      "text/html": [
       "<div>\n",
       "<style scoped>\n",
       "    .dataframe tbody tr th:only-of-type {\n",
       "        vertical-align: middle;\n",
       "    }\n",
       "\n",
       "    .dataframe tbody tr th {\n",
       "        vertical-align: top;\n",
       "    }\n",
       "\n",
       "    .dataframe thead th {\n",
       "        text-align: right;\n",
       "    }\n",
       "</style>\n",
       "<table border=\"1\" class=\"dataframe\">\n",
       "  <thead>\n",
       "    <tr style=\"text-align: right;\">\n",
       "      <th></th>\n",
       "      <th>Actual Returns</th>\n",
       "      <th>Out-of-sample predictions</th>\n",
       "    </tr>\n",
       "  </thead>\n",
       "  <tbody>\n",
       "    <tr>\n",
       "      <th>2020-05-27</th>\n",
       "      <td>-0.286804</td>\n",
       "      <td>0.187017</td>\n",
       "    </tr>\n",
       "    <tr>\n",
       "      <th>2020-05-28</th>\n",
       "      <td>0.169292</td>\n",
       "      <td>0.178567</td>\n",
       "    </tr>\n",
       "    <tr>\n",
       "      <th>2020-05-29</th>\n",
       "      <td>1.410067</td>\n",
       "      <td>0.175123</td>\n",
       "    </tr>\n",
       "    <tr>\n",
       "      <th>2020-06-01</th>\n",
       "      <td>-1.517733</td>\n",
       "      <td>0.232197</td>\n",
       "    </tr>\n",
       "    <tr>\n",
       "      <th>2020-06-02</th>\n",
       "      <td>-1.275499</td>\n",
       "      <td>0.214480</td>\n",
       "    </tr>\n",
       "  </tbody>\n",
       "</table>\n",
       "</div>"
      ],
      "text/plain": [
       "            Actual Returns  Out-of-sample predictions\n",
       "2020-05-27       -0.286804                   0.187017\n",
       "2020-05-28        0.169292                   0.178567\n",
       "2020-05-29        1.410067                   0.175123\n",
       "2020-06-01       -1.517733                   0.232197\n",
       "2020-06-02       -1.275499                   0.214480"
      ]
     },
     "execution_count": 31,
     "metadata": {},
     "output_type": "execute_result"
    }
   ],
   "source": [
    "# 2019 Data\n",
    "Results_2019 = Results.loc[\"2019\":]\n",
    "Results_2019.tail()"
   ]
  },
  {
   "cell_type": "code",
   "execution_count": 30,
   "metadata": {},
   "outputs": [
    {
     "data": {
      "text/html": [
       "<div>\n",
       "<style scoped>\n",
       "    .dataframe tbody tr th:only-of-type {\n",
       "        vertical-align: middle;\n",
       "    }\n",
       "\n",
       "    .dataframe tbody tr th {\n",
       "        vertical-align: top;\n",
       "    }\n",
       "\n",
       "    .dataframe thead th {\n",
       "        text-align: right;\n",
       "    }\n",
       "</style>\n",
       "<table border=\"1\" class=\"dataframe\">\n",
       "  <thead>\n",
       "    <tr style=\"text-align: right;\">\n",
       "      <th></th>\n",
       "      <th>Actual Returns</th>\n",
       "      <th>Out-of-sample predictions</th>\n",
       "    </tr>\n",
       "  </thead>\n",
       "  <tbody>\n",
       "    <tr>\n",
       "      <th>2019-12-25</th>\n",
       "      <td>-0.840660</td>\n",
       "      <td>-0.194821</td>\n",
       "    </tr>\n",
       "    <tr>\n",
       "      <th>2019-12-26</th>\n",
       "      <td>1.160024</td>\n",
       "      <td>0.038846</td>\n",
       "    </tr>\n",
       "    <tr>\n",
       "      <th>2019-12-27</th>\n",
       "      <td>-0.091898</td>\n",
       "      <td>-0.185164</td>\n",
       "    </tr>\n",
       "    <tr>\n",
       "      <th>2019-12-30</th>\n",
       "      <td>-0.038992</td>\n",
       "      <td>0.000419</td>\n",
       "    </tr>\n",
       "    <tr>\n",
       "      <th>2019-12-31</th>\n",
       "      <td>-0.311561</td>\n",
       "      <td>-0.007285</td>\n",
       "    </tr>\n",
       "  </tbody>\n",
       "</table>\n",
       "</div>"
      ],
      "text/plain": [
       "            Actual Returns  Out-of-sample predictions\n",
       "2019-12-25       -0.840660                  -0.194821\n",
       "2019-12-26        1.160024                   0.038846\n",
       "2019-12-27       -0.091898                  -0.185164\n",
       "2019-12-30       -0.038992                   0.000419\n",
       "2019-12-31       -0.311561                  -0.007285"
      ]
     },
     "execution_count": 30,
     "metadata": {},
     "output_type": "execute_result"
    }
   ],
   "source": [
    "# 2019 Data\n",
    "# Results_2019 = Results.loc[\"2019\"]\n",
    "# Results_2019.tail()"
   ]
  },
  {
   "cell_type": "code",
   "execution_count": 32,
   "metadata": {},
   "outputs": [
    {
     "data": {
      "text/plain": [
       "array([<matplotlib.axes._subplots.AxesSubplot object at 0x0000024FA249A888>,\n",
       "       <matplotlib.axes._subplots.AxesSubplot object at 0x0000024FA24A4F88>],\n",
       "      dtype=object)"
      ]
     },
     "execution_count": 32,
     "metadata": {},
     "output_type": "execute_result"
    },
    {
     "data": {
      "image/png": "[encoded data removed]",
      "text/plain": [
       "<Figure size 432x288 with 2 Axes>"
      ]
     },
     "metadata": {
      "needs_background": "light"
     },
     "output_type": "display_data"
    }
   ],
   "source": [
    "# Plot the results\n",
    "Results_2019.plot(subplots=True)"
   ]
  },
  {
   "cell_type": "code",
   "execution_count": 33,
   "metadata": {},
   "outputs": [
    {
     "name": "stdout",
     "output_type": "stream",
     "text": [
      "MSE is 1.521640065544493\n",
      "Rolling Out-of-Sample Root Mean Squared Error (RMSE): 1.2335477556805383\n"
     ]
    }
   ],
   "source": [
    "# Out-of-sample metrics\n",
    "# Calculate the mean_squared_error (MSE) on actual versus predicted test \"y\" \n",
    "# (Hint: use the dataframe above)\n",
    "out_of_sample_mse = mean_squared_error(Results_2019[\"Actual Returns\"],\n",
    "                                       Results_2019[\"Out-of-sample predictions\"])\n",
    "\n",
    "print(f\"MSE is {out_of_sample_mse}\")\n",
    "\n",
    "# Using that mean-squared-error, calculate the root-mean-squared error (RMSE):\n",
    "rolling_rmse = np.sqrt(out_of_sample_mse)\n",
    "\n",
    "print(f\"Rolling Out-of-Sample Root Mean Squared Error (RMSE): {rolling_rmse}\")"
   ]
  },
  {
   "cell_type": "markdown",
   "metadata": {},
   "source": [
    "# Final Model Comparison"
   ]
  },
  {
   "cell_type": "code",
   "execution_count": 34,
   "metadata": {},
   "outputs": [
    {
     "name": "stdout",
     "output_type": "stream",
     "text": [
      "Out-of-sample Root Mean Squared Error (RMSE): 0.9612356236607867\n",
      "Rolling Out-of-Sample Root Mean Squared Error (RMSE): 1.2335477556805383\n"
     ]
    }
   ],
   "source": [
    "# Print out-of-sample RMSE and rolling out-of-sample RMSE\n",
    "print(f\"Out-of-sample Root Mean Squared Error (RMSE): {out_of_sample_rmse}\")\n",
    "print(f\"Rolling Out-of-Sample Root Mean Squared Error (RMSE): {rolling_rmse}\")"
   ]
  },
  {
   "cell_type": "markdown",
   "metadata": {},
   "source": [
    "Question: How does the RMSE for the two models compare?\n",
    "\n",
    "Answer: The mse for out of sample is better than the rolling mse"
   ]
  },
  {
   "cell_type": "code",
   "execution_count": null,
   "metadata": {},
   "outputs": [],
   "source": []
  }
 ],
 "metadata": {
  "kernelspec": {
   "display_name": "Python 3",
   "language": "python",
   "name": "python3"
  },
  "language_info": {
   "codemirror_mode": {
    "name": "ipython",
    "version": 3
   },
   "file_extension": ".py",
   "mimetype": "text/x-python",
   "name": "python",
   "nbconvert_exporter": "python",
   "pygments_lexer": "ipython3",
   "version": "3.7.10"
  }
 },
 "nbformat": 4,
 "nbformat_minor": 4
}
