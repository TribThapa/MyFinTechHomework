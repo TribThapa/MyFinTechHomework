{
 "cells": [
  {
   "cell_type": "code",
   "execution_count": 22,
   "metadata": {},
   "outputs": [
    {
     "name": "stdout",
     "output_type": "stream",
     "text": [
      "['Python', 'FinTech', 'Money']\n"
     ]
    },
    {
     "data": {
      "text/plain": [
       "list"
      ]
     },
     "execution_count": 22,
     "metadata": {},
     "output_type": "execute_result"
    }
   ],
   "source": [
    "# A list is a data structure that contains a collection of elements. It is ordered, can be heterogeneous (i.e., can hold different data types (int, bool, str, float)), and has a zero-based index. \n",
    "cheer = [\"Python\", \"FinTech\", \"Money\"] # [] represents a list\n",
    "print(cheer)\n",
    "type(cheer)"
   ]
  },
  {
   "cell_type": "code",
   "execution_count": 49,
   "metadata": {},
   "outputs": [
    {
     "name": "stdout",
     "output_type": "stream",
     "text": [
      "['Pikachu', 'Charizard', 'Bulbasaur', 'Gyarados', 'Dragonite', 'Onyx']\n",
      "\n",
      "Charizard\n",
      "\n",
      "Pikachu\n",
      "\n",
      "Onyx\n",
      "\n",
      "Dragonite\n",
      "\n",
      "6\n",
      "\n",
      "['Pikachu', 'Bulbasaur', 'Dragonite']\n",
      "\n",
      "['Pikachu', 'Charizard']\n",
      "\n",
      "['Pikachu', 'Charizard', 'Bulbasaur', 'Gyarados']\n",
      "\n",
      "['Dragonite', 'Onyx']\n",
      "\n",
      "['Raichu', 'Charizard', 'Bulbasaur', 'Gyarados', 'Dragonite', 'Onyx']\n",
      "\n",
      "3\n",
      "\n",
      "['Pikachu', 'Charizard', 'Bulbasaur', 'Gyarados', 'Dragonite', 'Onyx']\n",
      "\n",
      "['Pikachu', 'Charizard', 'Bulbasaur', 'Gyarados', 'Dragonite', 'Onyx', 'TDot']\n",
      "\n",
      "['Pikachu', 'Charizard', 'Bulbasaur', 'Gyarados', 'Dragonite', 'TDot']\n",
      "\n",
      "['Pikachu', 'Charizard', 'Bulbasaur', 'Gyarados', 'Dragonite']\n",
      "\n"
     ]
    }
   ],
   "source": [
    "pokemon = [\"Pikachu\", \"Charizard\", \"Bulbasaur\", \"Gyarados\", \"Dragonite\", \"Onyx\"]\n",
    "print(pokemon)\n",
    "print()\n",
    "\n",
    "print(pokemon[1])\n",
    "print()\n",
    "\n",
    "print(pokemon[0])\n",
    "print()\n",
    "\n",
    "print(pokemon[-1])\n",
    "print()\n",
    "\n",
    "print(pokemon[-2])\n",
    "print()\n",
    "\n",
    "print(len(pokemon))\n",
    "print()\n",
    "\n",
    "# [start:end:jump]\n",
    "print(pokemon[::2])\n",
    "print()\n",
    "\n",
    "# [start:end]\n",
    "print(pokemon[0:2])\n",
    "print()\n",
    "\n",
    "print(pokemon[0:4])\n",
    "print()\n",
    "\n",
    "print(pokemon[4:])\n",
    "print()\n",
    "\n",
    "pokemon[0] = \"Raichu\"\n",
    "print(pokemon)\n",
    "print()\n",
    "\n",
    "print(pokemon.index(\"Gyarados\"))\n",
    "print()\n",
    "\n",
    "pokemon[0] = \"Pikachu\"\n",
    "print(pokemon)\n",
    "print()\n",
    "\n",
    "pokemon.append(\"TDot\")\n",
    "print(pokemon)\n",
    "print()\n",
    "\n",
    "pokemon.remove(\"Onyx\")\n",
    "print(pokemon)\n",
    "print()\n",
    "\n",
    "pokemon.pop(pokemon.index('TDot'))\n",
    "print(pokemon)\n",
    "print()\n",
    " \n"
   ]
  },
  {
   "cell_type": "code",
   "execution_count": 45,
   "metadata": {},
   "outputs": [
    {
     "name": "stdout",
     "output_type": "stream",
     "text": [
      "['Water', 'Butter', 'Eggs', 'Apples', 'Cinnamon', 'Sugar', 'Milk']\n",
      "\n",
      "['Water', 'Butter']\n",
      "\n",
      "['Eggs', 'Apples', 'Cinnamon', 'Sugar', 'Milk']\n",
      "\n",
      "['Butter', 'Apples', 'Sugar']\n",
      "\n",
      "['Water', 'Butter', 'Eggs', 'Apples', 'Cinnamon', 'Sugar', 'Milk', 'flour']\n",
      "\n",
      "['Water', 'Butter', 'Eggs', 'gala apples', 'Cinnamon', 'Sugar', 'Milk', 'flour']\n",
      "\n",
      "8\n",
      "\n"
     ]
    }
   ],
   "source": [
    "#Activity 1\n",
    "Groceries = [\"Water\", \"Butter\", \"Eggs\", \"Apples\", \"Cinnamon\", \"Sugar\", \"Milk\"]\n",
    "print(Groceries)\n",
    "print()\n",
    "\n",
    "print(Groceries[: 2])\n",
    "print()\n",
    "\n",
    "print(Groceries[-5 :])\n",
    "print()\n",
    "\n",
    "print(Groceries[1::2])\n",
    "print()\n",
    "\n",
    "Groceries.append(\"flour\")\n",
    "print(Groceries)\n",
    "print()\n",
    "\n",
    "Groceries[3] = \"gala apples\"\n",
    "print(Groceries)\n",
    "print()\n",
    "\n",
    "print(len(Groceries))\n",
    "print()"
   ]
  },
  {
   "cell_type": "code",
   "execution_count": null,
   "metadata": {},
   "outputs": [],
   "source": []
  }
 ],
 "metadata": {
  "kernelspec": {
   "display_name": "Python 3",
   "language": "python",
   "name": "python3"
  },
  "language_info": {
   "codemirror_mode": {
    "name": "ipython",
    "version": 3
   },
   "file_extension": ".py",
   "mimetype": "text/x-python",
   "name": "python",
   "nbconvert_exporter": "python",
   "pygments_lexer": "ipython3",
   "version": "3.7.1"
  }
 },
 "nbformat": 4,
 "nbformat_minor": 2
}
