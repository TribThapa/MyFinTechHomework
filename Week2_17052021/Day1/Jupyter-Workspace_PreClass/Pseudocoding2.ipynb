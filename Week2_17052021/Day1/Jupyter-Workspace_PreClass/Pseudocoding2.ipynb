{
 "cells": [
  {
   "cell_type": "code",
   "execution_count": 22,
   "metadata": {},
   "outputs": [
    {
     "name": "stdout",
     "output_type": "stream",
     "text": [
      "20.24999999999999\n"
     ]
    }
   ],
   "source": [
    "CurrentPrice = 4.81\n",
    "\n",
    "OriginalPrice = 4.00\n",
    "\n",
    "Difference = CurrentPrice-OriginalPrice\n",
    "\n",
    "PercentIncrease = ((CurrentPrice - OriginalPrice) / (OriginalPrice))*100\n",
    "print(PercentIncrease)"
   ]
  },
  {
   "cell_type": "code",
   "execution_count": 20,
   "metadata": {},
   "outputs": [
    {
     "name": "stdout",
     "output_type": "stream",
     "text": [
      "Buy because the stock price has gone up by more than 20%.\n"
     ]
    }
   ],
   "source": [
    "if PercentIncrease > 20:\n",
    "    print(\"Buy because the stock price has gone up by more than 20%.\")\n",
    "elif PercentIncrease == 20:\n",
    "    print(\"Still buy but note that the percent increase is only 20%.\")\n",
    "else:\n",
    "    print(\"Hold off from buying. There hasn't been much change in stock price. In fact, stpck price could've reduced.\")"
   ]
  },
  {
   "cell_type": "code",
   "execution_count": 21,
   "metadata": {},
   "outputs": [
    {
     "name": "stdout",
     "output_type": "stream",
     "text": [
      "Netflix stock price was $4.0. However, it's curent price is $4.81\n"
     ]
    }
   ],
   "source": [
    "print(f\"Netflix stock price was ${OriginalPrice}. However, it's curent price is ${CurrentPrice}\".)\n",
    "\n"
   ]
  },
  {
   "cell_type": "code",
   "execution_count": 26,
   "metadata": {},
   "outputs": [
    {
     "data": {
      "text/plain": [
       "\"Netflix stock price was $4.0. However, it's curent price is $4.81. This means Netflix's stock price has gone up by 20.24999999999999% i.e., by $0.8099999999999996.\""
      ]
     },
     "execution_count": 26,
     "metadata": {},
     "output_type": "execute_result"
    }
   ],
   "source": [
    "multiline = (f\"Netflix stock price was ${OriginalPrice}. However, it's curent price is ${CurrentPrice}.\"\n",
    "             f\" This means Netflix's stock price has gone up by {PercentIncrease}% i.e., by ${Difference}.\"\n",
    "            )\n",
    "\n",
    "multiline"
   ]
  }
 ],
 "metadata": {
  "kernelspec": {
   "display_name": "Python 3",
   "language": "python",
   "name": "python3"
  },
  "language_info": {
   "codemirror_mode": {
    "name": "ipython",
    "version": 3
   },
   "file_extension": ".py",
   "mimetype": "text/x-python",
   "name": "python",
   "nbconvert_exporter": "python",
   "pygments_lexer": "ipython3",
   "version": "3.7.1"
  }
 },
 "nbformat": 4,
 "nbformat_minor": 2
}
