{
 "cells": [
  {
   "cell_type": "markdown",
   "metadata": {},
   "source": [
    "# Risky Business"
   ]
  },
  {
   "cell_type": "markdown",
   "metadata": {},
   "source": [
    "Harold has been participating in some risky business. He recently became seriously involved in the cryptocurrency market and has seen some excellent returns. Harold's recent returns have him strutting around the office like he's the best trader. He even had the audacity to bet you $5 that his portfolio returns are better than yours.\n",
    "\n",
    "Using standard deviation and sharpe ratios, do the following:\n",
    "\n",
    "* Identify which cryptocurrencies have the greatest risk-to-reward ratio.\n",
    "\n",
    "* Determine which portfolio (yours or Harold's) has made the smartest investments.\n",
    "\n",
    "* Identify which cryptocurrencies have the greatest Sharpe ratios (risk/reward).\n",
    "\n",
    "## Instructions\n",
    "\n",
    "### Import the Required Libraries"
   ]
  },
  {
   "cell_type": "code",
   "execution_count": 56,
   "metadata": {},
   "outputs": [],
   "source": [
    "import pandas as pd\n",
    "import numpy as np\n",
    "from pathlib import Path\n",
    "\n",
    "%matplotlib inline"
   ]
  },
  {
   "cell_type": "markdown",
   "metadata": {},
   "source": [
    "### Read in data"
   ]
  },
  {
   "cell_type": "code",
   "execution_count": 57,
   "metadata": {},
   "outputs": [],
   "source": [
    "# Set the path of the CSV files\n",
    "harold = r'C:\\Users\\TribThapa\\Desktop\\Thapa\\ResearchFellow\\Courses\\FinTech_Bootcamp_MonashUni2021\\monu-mel-virt-fin-pt-05-2021-u-c\\Activities\\Week 3\\3\\11-Stu_Risky_Business\\Resources\\harold_portfolio.csv'\n",
    "my = r'C:\\Users\\TribThapa\\Desktop\\Thapa\\ResearchFellow\\Courses\\FinTech_Bootcamp_MonashUni2021\\monu-mel-virt-fin-pt-05-2021-u-c\\Activities\\Week 3\\3\\11-Stu_Risky_Business\\Resources\\my_portfolio.csv'\n",
    "\n",
    "# Read in data\n",
    "harold_df = pd.read_csv(harold)\n",
    "my_df = pd.read_csv(my)\n",
    "riskfreerate_df = pd.read_csv(riskfreerate)"
   ]
  },
  {
   "cell_type": "code",
   "execution_count": 58,
   "metadata": {},
   "outputs": [
    {
     "data": {
      "text/plain": [
       "(1632, 11)"
      ]
     },
     "execution_count": 58,
     "metadata": {},
     "output_type": "execute_result"
    }
   ],
   "source": [
    "# Display sample data to explore column names and values\n",
    "harold_df.head(10)\n",
    "harold_df.shape"
   ]
  },
  {
   "cell_type": "code",
   "execution_count": 59,
   "metadata": {},
   "outputs": [
    {
     "data": {
      "text/plain": [
       "(1632, 7)"
      ]
     },
     "execution_count": 59,
     "metadata": {},
     "output_type": "execute_result"
    }
   ],
   "source": [
    "my_df.head()\n",
    "my_df.shape"
   ]
  },
  {
   "cell_type": "code",
   "execution_count": 60,
   "metadata": {},
   "outputs": [
    {
     "data": {
      "text/plain": [
       "(6, 11)"
      ]
     },
     "execution_count": 60,
     "metadata": {},
     "output_type": "execute_result"
    }
   ],
   "source": [
    "# Drop na\n",
    "harold_df_drop = harold_df.dropna()\n",
    "harold_df_drop.shape"
   ]
  },
  {
   "cell_type": "code",
   "execution_count": 61,
   "metadata": {},
   "outputs": [
    {
     "data": {
      "text/plain": [
       "(988, 7)"
      ]
     },
     "execution_count": 61,
     "metadata": {},
     "output_type": "execute_result"
    }
   ],
   "source": [
    "my_df_drop = my_df.dropna()\n",
    "my_df_drop.shape"
   ]
  },
  {
   "cell_type": "code",
   "execution_count": 62,
   "metadata": {},
   "outputs": [
    {
     "data": {
      "text/html": [
       "<div>\n",
       "<style scoped>\n",
       "    .dataframe tbody tr th:only-of-type {\n",
       "        vertical-align: middle;\n",
       "    }\n",
       "\n",
       "    .dataframe tbody tr th {\n",
       "        vertical-align: top;\n",
       "    }\n",
       "\n",
       "    .dataframe thead th {\n",
       "        text-align: right;\n",
       "    }\n",
       "</style>\n",
       "<table border=\"1\" class=\"dataframe\">\n",
       "  <thead>\n",
       "    <tr style=\"text-align: right;\">\n",
       "      <th></th>\n",
       "      <th>Date</th>\n",
       "      <th>BTC</th>\n",
       "      <th>BTT</th>\n",
       "      <th>DOGE</th>\n",
       "      <th>ETH</th>\n",
       "      <th>LTC</th>\n",
       "      <th>XRP</th>\n",
       "      <th>SOLVE</th>\n",
       "      <th>XLM</th>\n",
       "      <th>TRON</th>\n",
       "      <th>ZIL</th>\n",
       "    </tr>\n",
       "  </thead>\n",
       "  <tbody>\n",
       "    <tr>\n",
       "      <th>0</th>\n",
       "      <td>2019-05-20</td>\n",
       "      <td>8118.39</td>\n",
       "      <td>0.001187</td>\n",
       "      <td>0.003041</td>\n",
       "      <td>261.09</td>\n",
       "      <td>95.06</td>\n",
       "      <td>0.398003</td>\n",
       "      <td>0.338667</td>\n",
       "      <td>0.135545</td>\n",
       "      <td>0.028509</td>\n",
       "      <td>0.017992</td>\n",
       "    </tr>\n",
       "    <tr>\n",
       "      <th>1</th>\n",
       "      <td>2019-05-19</td>\n",
       "      <td>8200.00</td>\n",
       "      <td>0.001056</td>\n",
       "      <td>0.003178</td>\n",
       "      <td>234.03</td>\n",
       "      <td>86.65</td>\n",
       "      <td>0.417700</td>\n",
       "      <td>0.300430</td>\n",
       "      <td>0.141485</td>\n",
       "      <td>0.029277</td>\n",
       "      <td>0.019170</td>\n",
       "    </tr>\n",
       "    <tr>\n",
       "      <th>2</th>\n",
       "      <td>2019-05-18</td>\n",
       "      <td>7262.40</td>\n",
       "      <td>0.000993</td>\n",
       "      <td>0.003005</td>\n",
       "      <td>244.59</td>\n",
       "      <td>89.88</td>\n",
       "      <td>0.372736</td>\n",
       "      <td>0.287630</td>\n",
       "      <td>0.128833</td>\n",
       "      <td>0.026823</td>\n",
       "      <td>0.017685</td>\n",
       "    </tr>\n",
       "    <tr>\n",
       "      <th>3</th>\n",
       "      <td>2019-05-17</td>\n",
       "      <td>7363.69</td>\n",
       "      <td>0.000957</td>\n",
       "      <td>0.002962</td>\n",
       "      <td>264.39</td>\n",
       "      <td>95.75</td>\n",
       "      <td>0.386193</td>\n",
       "      <td>0.259506</td>\n",
       "      <td>0.126562</td>\n",
       "      <td>0.027220</td>\n",
       "      <td>0.017892</td>\n",
       "    </tr>\n",
       "    <tr>\n",
       "      <th>4</th>\n",
       "      <td>2019-05-16</td>\n",
       "      <td>7878.96</td>\n",
       "      <td>0.000885</td>\n",
       "      <td>0.003168</td>\n",
       "      <td>249.00</td>\n",
       "      <td>102.26</td>\n",
       "      <td>0.419707</td>\n",
       "      <td>0.223316</td>\n",
       "      <td>0.137283</td>\n",
       "      <td>0.028857</td>\n",
       "      <td>0.018725</td>\n",
       "    </tr>\n",
       "    <tr>\n",
       "      <th>5</th>\n",
       "      <td>2019-05-15</td>\n",
       "      <td>8203.32</td>\n",
       "      <td>0.000852</td>\n",
       "      <td>0.003308</td>\n",
       "      <td>217.44</td>\n",
       "      <td>91.69</td>\n",
       "      <td>0.456005</td>\n",
       "      <td>0.224973</td>\n",
       "      <td>0.137002</td>\n",
       "      <td>0.031348</td>\n",
       "      <td>0.020377</td>\n",
       "    </tr>\n",
       "  </tbody>\n",
       "</table>\n",
       "</div>"
      ],
      "text/plain": [
       "         Date      BTC       BTT      DOGE     ETH     LTC       XRP  \\\n",
       "0  2019-05-20  8118.39  0.001187  0.003041  261.09   95.06  0.398003   \n",
       "1  2019-05-19  8200.00  0.001056  0.003178  234.03   86.65  0.417700   \n",
       "2  2019-05-18  7262.40  0.000993  0.003005  244.59   89.88  0.372736   \n",
       "3  2019-05-17  7363.69  0.000957  0.002962  264.39   95.75  0.386193   \n",
       "4  2019-05-16  7878.96  0.000885  0.003168  249.00  102.26  0.419707   \n",
       "5  2019-05-15  8203.32  0.000852  0.003308  217.44   91.69  0.456005   \n",
       "\n",
       "      SOLVE       XLM      TRON       ZIL  \n",
       "0  0.338667  0.135545  0.028509  0.017992  \n",
       "1  0.300430  0.141485  0.029277  0.019170  \n",
       "2  0.287630  0.128833  0.026823  0.017685  \n",
       "3  0.259506  0.126562  0.027220  0.017892  \n",
       "4  0.223316  0.137283  0.028857  0.018725  \n",
       "5  0.224973  0.137002  0.031348  0.020377  "
      ]
     },
     "execution_count": 62,
     "metadata": {},
     "output_type": "execute_result"
    }
   ],
   "source": [
    "harold_df_drop.head(10)"
   ]
  },
  {
   "cell_type": "code",
   "execution_count": 63,
   "metadata": {},
   "outputs": [
    {
     "data": {
      "text/html": [
       "<div>\n",
       "<style scoped>\n",
       "    .dataframe tbody tr th:only-of-type {\n",
       "        vertical-align: middle;\n",
       "    }\n",
       "\n",
       "    .dataframe tbody tr th {\n",
       "        vertical-align: top;\n",
       "    }\n",
       "\n",
       "    .dataframe thead th {\n",
       "        text-align: right;\n",
       "    }\n",
       "</style>\n",
       "<table border=\"1\" class=\"dataframe\">\n",
       "  <thead>\n",
       "    <tr style=\"text-align: right;\">\n",
       "      <th></th>\n",
       "      <th>Date</th>\n",
       "      <th>BTC</th>\n",
       "      <th>DOGE</th>\n",
       "      <th>ETH</th>\n",
       "      <th>LTC</th>\n",
       "      <th>XRP</th>\n",
       "      <th>XLM</th>\n",
       "    </tr>\n",
       "  </thead>\n",
       "  <tbody>\n",
       "    <tr>\n",
       "      <th>0</th>\n",
       "      <td>2019-05-20</td>\n",
       "      <td>8200.00</td>\n",
       "      <td>0.003041</td>\n",
       "      <td>261.09</td>\n",
       "      <td>95.06</td>\n",
       "      <td>0.398003</td>\n",
       "      <td>0.135545</td>\n",
       "    </tr>\n",
       "    <tr>\n",
       "      <th>1</th>\n",
       "      <td>2019-05-19</td>\n",
       "      <td>7262.40</td>\n",
       "      <td>0.003178</td>\n",
       "      <td>234.03</td>\n",
       "      <td>86.65</td>\n",
       "      <td>0.417700</td>\n",
       "      <td>0.141485</td>\n",
       "    </tr>\n",
       "    <tr>\n",
       "      <th>2</th>\n",
       "      <td>2019-05-18</td>\n",
       "      <td>7363.69</td>\n",
       "      <td>0.003005</td>\n",
       "      <td>244.59</td>\n",
       "      <td>89.88</td>\n",
       "      <td>0.372736</td>\n",
       "      <td>0.128833</td>\n",
       "    </tr>\n",
       "    <tr>\n",
       "      <th>3</th>\n",
       "      <td>2019-05-17</td>\n",
       "      <td>7878.96</td>\n",
       "      <td>0.002962</td>\n",
       "      <td>264.39</td>\n",
       "      <td>95.75</td>\n",
       "      <td>0.386193</td>\n",
       "      <td>0.126562</td>\n",
       "    </tr>\n",
       "    <tr>\n",
       "      <th>4</th>\n",
       "      <td>2019-05-16</td>\n",
       "      <td>8203.32</td>\n",
       "      <td>0.003168</td>\n",
       "      <td>249.00</td>\n",
       "      <td>102.26</td>\n",
       "      <td>0.419707</td>\n",
       "      <td>0.137283</td>\n",
       "    </tr>\n",
       "  </tbody>\n",
       "</table>\n",
       "</div>"
      ],
      "text/plain": [
       "         Date      BTC      DOGE     ETH     LTC       XRP       XLM\n",
       "0  2019-05-20  8200.00  0.003041  261.09   95.06  0.398003  0.135545\n",
       "1  2019-05-19  7262.40  0.003178  234.03   86.65  0.417700  0.141485\n",
       "2  2019-05-18  7363.69  0.003005  244.59   89.88  0.372736  0.128833\n",
       "3  2019-05-17  7878.96  0.002962  264.39   95.75  0.386193  0.126562\n",
       "4  2019-05-16  8203.32  0.003168  249.00  102.26  0.419707  0.137283"
      ]
     },
     "execution_count": 63,
     "metadata": {},
     "output_type": "execute_result"
    }
   ],
   "source": [
    "my_df_drop.head()"
   ]
  },
  {
   "cell_type": "code",
   "execution_count": 64,
   "metadata": {},
   "outputs": [
    {
     "data": {
      "text/html": [
       "<div>\n",
       "<style scoped>\n",
       "    .dataframe tbody tr th:only-of-type {\n",
       "        vertical-align: middle;\n",
       "    }\n",
       "\n",
       "    .dataframe tbody tr th {\n",
       "        vertical-align: top;\n",
       "    }\n",
       "\n",
       "    .dataframe thead th {\n",
       "        text-align: right;\n",
       "    }\n",
       "</style>\n",
       "<table border=\"1\" class=\"dataframe\">\n",
       "  <thead>\n",
       "    <tr style=\"text-align: right;\">\n",
       "      <th></th>\n",
       "      <th>BTC</th>\n",
       "      <th>BTT</th>\n",
       "      <th>DOGE</th>\n",
       "      <th>ETH</th>\n",
       "      <th>LTC</th>\n",
       "      <th>XRP</th>\n",
       "      <th>SOLVE</th>\n",
       "      <th>XLM</th>\n",
       "      <th>TRON</th>\n",
       "      <th>ZIL</th>\n",
       "    </tr>\n",
       "    <tr>\n",
       "      <th>Date</th>\n",
       "      <th></th>\n",
       "      <th></th>\n",
       "      <th></th>\n",
       "      <th></th>\n",
       "      <th></th>\n",
       "      <th></th>\n",
       "      <th></th>\n",
       "      <th></th>\n",
       "      <th></th>\n",
       "      <th></th>\n",
       "    </tr>\n",
       "  </thead>\n",
       "  <tbody>\n",
       "    <tr>\n",
       "      <th>2019-05-20</th>\n",
       "      <td>8118.39</td>\n",
       "      <td>0.001187</td>\n",
       "      <td>0.003041</td>\n",
       "      <td>261.09</td>\n",
       "      <td>95.06</td>\n",
       "      <td>0.398003</td>\n",
       "      <td>0.338667</td>\n",
       "      <td>0.135545</td>\n",
       "      <td>0.028509</td>\n",
       "      <td>0.017992</td>\n",
       "    </tr>\n",
       "    <tr>\n",
       "      <th>2019-05-19</th>\n",
       "      <td>8200.00</td>\n",
       "      <td>0.001056</td>\n",
       "      <td>0.003178</td>\n",
       "      <td>234.03</td>\n",
       "      <td>86.65</td>\n",
       "      <td>0.417700</td>\n",
       "      <td>0.300430</td>\n",
       "      <td>0.141485</td>\n",
       "      <td>0.029277</td>\n",
       "      <td>0.019170</td>\n",
       "    </tr>\n",
       "    <tr>\n",
       "      <th>2019-05-18</th>\n",
       "      <td>7262.40</td>\n",
       "      <td>0.000993</td>\n",
       "      <td>0.003005</td>\n",
       "      <td>244.59</td>\n",
       "      <td>89.88</td>\n",
       "      <td>0.372736</td>\n",
       "      <td>0.287630</td>\n",
       "      <td>0.128833</td>\n",
       "      <td>0.026823</td>\n",
       "      <td>0.017685</td>\n",
       "    </tr>\n",
       "    <tr>\n",
       "      <th>2019-05-17</th>\n",
       "      <td>7363.69</td>\n",
       "      <td>0.000957</td>\n",
       "      <td>0.002962</td>\n",
       "      <td>264.39</td>\n",
       "      <td>95.75</td>\n",
       "      <td>0.386193</td>\n",
       "      <td>0.259506</td>\n",
       "      <td>0.126562</td>\n",
       "      <td>0.027220</td>\n",
       "      <td>0.017892</td>\n",
       "    </tr>\n",
       "    <tr>\n",
       "      <th>2019-05-16</th>\n",
       "      <td>7878.96</td>\n",
       "      <td>0.000885</td>\n",
       "      <td>0.003168</td>\n",
       "      <td>249.00</td>\n",
       "      <td>102.26</td>\n",
       "      <td>0.419707</td>\n",
       "      <td>0.223316</td>\n",
       "      <td>0.137283</td>\n",
       "      <td>0.028857</td>\n",
       "      <td>0.018725</td>\n",
       "    </tr>\n",
       "  </tbody>\n",
       "</table>\n",
       "</div>"
      ],
      "text/plain": [
       "                BTC       BTT      DOGE     ETH     LTC       XRP     SOLVE  \\\n",
       "Date                                                                          \n",
       "2019-05-20  8118.39  0.001187  0.003041  261.09   95.06  0.398003  0.338667   \n",
       "2019-05-19  8200.00  0.001056  0.003178  234.03   86.65  0.417700  0.300430   \n",
       "2019-05-18  7262.40  0.000993  0.003005  244.59   89.88  0.372736  0.287630   \n",
       "2019-05-17  7363.69  0.000957  0.002962  264.39   95.75  0.386193  0.259506   \n",
       "2019-05-16  7878.96  0.000885  0.003168  249.00  102.26  0.419707  0.223316   \n",
       "\n",
       "                 XLM      TRON       ZIL  \n",
       "Date                                      \n",
       "2019-05-20  0.135545  0.028509  0.017992  \n",
       "2019-05-19  0.141485  0.029277  0.019170  \n",
       "2019-05-18  0.128833  0.026823  0.017685  \n",
       "2019-05-17  0.126562  0.027220  0.017892  \n",
       "2019-05-16  0.137283  0.028857  0.018725  "
      ]
     },
     "execution_count": 64,
     "metadata": {},
     "output_type": "execute_result"
    }
   ],
   "source": [
    "# Set Date as index\n",
    "harold_df_drop_idx = harold_df_drop.set_index('Date')\n",
    "harold_df_drop_idx.head()"
   ]
  },
  {
   "cell_type": "code",
   "execution_count": 65,
   "metadata": {},
   "outputs": [
    {
     "data": {
      "text/html": [
       "<div>\n",
       "<style scoped>\n",
       "    .dataframe tbody tr th:only-of-type {\n",
       "        vertical-align: middle;\n",
       "    }\n",
       "\n",
       "    .dataframe tbody tr th {\n",
       "        vertical-align: top;\n",
       "    }\n",
       "\n",
       "    .dataframe thead th {\n",
       "        text-align: right;\n",
       "    }\n",
       "</style>\n",
       "<table border=\"1\" class=\"dataframe\">\n",
       "  <thead>\n",
       "    <tr style=\"text-align: right;\">\n",
       "      <th></th>\n",
       "      <th>BTC</th>\n",
       "      <th>DOGE</th>\n",
       "      <th>ETH</th>\n",
       "      <th>LTC</th>\n",
       "      <th>XRP</th>\n",
       "      <th>XLM</th>\n",
       "    </tr>\n",
       "    <tr>\n",
       "      <th>Date</th>\n",
       "      <th></th>\n",
       "      <th></th>\n",
       "      <th></th>\n",
       "      <th></th>\n",
       "      <th></th>\n",
       "      <th></th>\n",
       "    </tr>\n",
       "  </thead>\n",
       "  <tbody>\n",
       "    <tr>\n",
       "      <th>2019-05-20</th>\n",
       "      <td>8200.00</td>\n",
       "      <td>0.003041</td>\n",
       "      <td>261.09</td>\n",
       "      <td>95.06</td>\n",
       "      <td>0.398003</td>\n",
       "      <td>0.135545</td>\n",
       "    </tr>\n",
       "    <tr>\n",
       "      <th>2019-05-19</th>\n",
       "      <td>7262.40</td>\n",
       "      <td>0.003178</td>\n",
       "      <td>234.03</td>\n",
       "      <td>86.65</td>\n",
       "      <td>0.417700</td>\n",
       "      <td>0.141485</td>\n",
       "    </tr>\n",
       "    <tr>\n",
       "      <th>2019-05-18</th>\n",
       "      <td>7363.69</td>\n",
       "      <td>0.003005</td>\n",
       "      <td>244.59</td>\n",
       "      <td>89.88</td>\n",
       "      <td>0.372736</td>\n",
       "      <td>0.128833</td>\n",
       "    </tr>\n",
       "    <tr>\n",
       "      <th>2019-05-17</th>\n",
       "      <td>7878.96</td>\n",
       "      <td>0.002962</td>\n",
       "      <td>264.39</td>\n",
       "      <td>95.75</td>\n",
       "      <td>0.386193</td>\n",
       "      <td>0.126562</td>\n",
       "    </tr>\n",
       "    <tr>\n",
       "      <th>2019-05-16</th>\n",
       "      <td>8203.32</td>\n",
       "      <td>0.003168</td>\n",
       "      <td>249.00</td>\n",
       "      <td>102.26</td>\n",
       "      <td>0.419707</td>\n",
       "      <td>0.137283</td>\n",
       "    </tr>\n",
       "    <tr>\n",
       "      <th>...</th>\n",
       "      <td>...</td>\n",
       "      <td>...</td>\n",
       "      <td>...</td>\n",
       "      <td>...</td>\n",
       "      <td>...</td>\n",
       "      <td>...</td>\n",
       "    </tr>\n",
       "    <tr>\n",
       "      <th>2016-08-28</th>\n",
       "      <td>570.42</td>\n",
       "      <td>0.000230</td>\n",
       "      <td>11.21</td>\n",
       "      <td>3.78</td>\n",
       "      <td>0.005869</td>\n",
       "      <td>0.002020</td>\n",
       "    </tr>\n",
       "    <tr>\n",
       "      <th>2016-08-27</th>\n",
       "      <td>578.89</td>\n",
       "      <td>0.000228</td>\n",
       "      <td>11.29</td>\n",
       "      <td>3.81</td>\n",
       "      <td>0.005902</td>\n",
       "      <td>0.001931</td>\n",
       "    </tr>\n",
       "    <tr>\n",
       "      <th>2016-08-26</th>\n",
       "      <td>576.16</td>\n",
       "      <td>0.000242</td>\n",
       "      <td>11.34</td>\n",
       "      <td>3.81</td>\n",
       "      <td>0.005892</td>\n",
       "      <td>0.001925</td>\n",
       "    </tr>\n",
       "    <tr>\n",
       "      <th>2016-08-25</th>\n",
       "      <td>578.92</td>\n",
       "      <td>0.000241</td>\n",
       "      <td>11.00</td>\n",
       "      <td>3.84</td>\n",
       "      <td>0.005912</td>\n",
       "      <td>0.001925</td>\n",
       "    </tr>\n",
       "    <tr>\n",
       "      <th>2016-08-24</th>\n",
       "      <td>582.58</td>\n",
       "      <td>0.000236</td>\n",
       "      <td>10.98</td>\n",
       "      <td>3.95</td>\n",
       "      <td>0.005932</td>\n",
       "      <td>0.001912</td>\n",
       "    </tr>\n",
       "  </tbody>\n",
       "</table>\n",
       "<p>988 rows × 6 columns</p>\n",
       "</div>"
      ],
      "text/plain": [
       "                BTC      DOGE     ETH     LTC       XRP       XLM\n",
       "Date                                                             \n",
       "2019-05-20  8200.00  0.003041  261.09   95.06  0.398003  0.135545\n",
       "2019-05-19  7262.40  0.003178  234.03   86.65  0.417700  0.141485\n",
       "2019-05-18  7363.69  0.003005  244.59   89.88  0.372736  0.128833\n",
       "2019-05-17  7878.96  0.002962  264.39   95.75  0.386193  0.126562\n",
       "2019-05-16  8203.32  0.003168  249.00  102.26  0.419707  0.137283\n",
       "...             ...       ...     ...     ...       ...       ...\n",
       "2016-08-28   570.42  0.000230   11.21    3.78  0.005869  0.002020\n",
       "2016-08-27   578.89  0.000228   11.29    3.81  0.005902  0.001931\n",
       "2016-08-26   576.16  0.000242   11.34    3.81  0.005892  0.001925\n",
       "2016-08-25   578.92  0.000241   11.00    3.84  0.005912  0.001925\n",
       "2016-08-24   582.58  0.000236   10.98    3.95  0.005932  0.001912\n",
       "\n",
       "[988 rows x 6 columns]"
      ]
     },
     "execution_count": 65,
     "metadata": {},
     "output_type": "execute_result"
    }
   ],
   "source": [
    "my_df_drop_idx = my_df_drop.set_index('Date')\n",
    "my_df_drop_idx"
   ]
  },
  {
   "cell_type": "markdown",
   "metadata": {},
   "source": [
    "### Calculate daily returns "
   ]
  },
  {
   "cell_type": "code",
   "execution_count": 66,
   "metadata": {},
   "outputs": [],
   "source": [
    "# Calculate daily returns for each portfolio\n",
    "harold_daily_returns = harold_df_drop_idx.pct_change().copy()\n",
    "my_daily_returns = my_df_drop_idx.pct_change().copy()"
   ]
  },
  {
   "cell_type": "code",
   "execution_count": 67,
   "metadata": {},
   "outputs": [
    {
     "data": {
      "text/html": [
       "<div>\n",
       "<style scoped>\n",
       "    .dataframe tbody tr th:only-of-type {\n",
       "        vertical-align: middle;\n",
       "    }\n",
       "\n",
       "    .dataframe tbody tr th {\n",
       "        vertical-align: top;\n",
       "    }\n",
       "\n",
       "    .dataframe thead th {\n",
       "        text-align: right;\n",
       "    }\n",
       "</style>\n",
       "<table border=\"1\" class=\"dataframe\">\n",
       "  <thead>\n",
       "    <tr style=\"text-align: right;\">\n",
       "      <th></th>\n",
       "      <th>BTC</th>\n",
       "      <th>BTT</th>\n",
       "      <th>DOGE</th>\n",
       "      <th>ETH</th>\n",
       "      <th>LTC</th>\n",
       "      <th>XRP</th>\n",
       "      <th>SOLVE</th>\n",
       "      <th>XLM</th>\n",
       "      <th>TRON</th>\n",
       "      <th>ZIL</th>\n",
       "    </tr>\n",
       "    <tr>\n",
       "      <th>Date</th>\n",
       "      <th></th>\n",
       "      <th></th>\n",
       "      <th></th>\n",
       "      <th></th>\n",
       "      <th></th>\n",
       "      <th></th>\n",
       "      <th></th>\n",
       "      <th></th>\n",
       "      <th></th>\n",
       "      <th></th>\n",
       "    </tr>\n",
       "  </thead>\n",
       "  <tbody>\n",
       "    <tr>\n",
       "      <th>2019-05-20</th>\n",
       "      <td>NaN</td>\n",
       "      <td>NaN</td>\n",
       "      <td>NaN</td>\n",
       "      <td>NaN</td>\n",
       "      <td>NaN</td>\n",
       "      <td>NaN</td>\n",
       "      <td>NaN</td>\n",
       "      <td>NaN</td>\n",
       "      <td>NaN</td>\n",
       "      <td>NaN</td>\n",
       "    </tr>\n",
       "    <tr>\n",
       "      <th>2019-05-19</th>\n",
       "      <td>0.010052</td>\n",
       "      <td>-0.110362</td>\n",
       "      <td>0.045051</td>\n",
       "      <td>-0.103642</td>\n",
       "      <td>-0.088470</td>\n",
       "      <td>0.049490</td>\n",
       "      <td>-0.112904</td>\n",
       "      <td>0.043823</td>\n",
       "      <td>0.026939</td>\n",
       "      <td>0.065474</td>\n",
       "    </tr>\n",
       "    <tr>\n",
       "      <th>2019-05-18</th>\n",
       "      <td>-0.114341</td>\n",
       "      <td>-0.059659</td>\n",
       "      <td>-0.054437</td>\n",
       "      <td>0.045122</td>\n",
       "      <td>0.037276</td>\n",
       "      <td>-0.107647</td>\n",
       "      <td>-0.042606</td>\n",
       "      <td>-0.089423</td>\n",
       "      <td>-0.083820</td>\n",
       "      <td>-0.077465</td>\n",
       "    </tr>\n",
       "    <tr>\n",
       "      <th>2019-05-17</th>\n",
       "      <td>0.013947</td>\n",
       "      <td>-0.036254</td>\n",
       "      <td>-0.014309</td>\n",
       "      <td>0.080952</td>\n",
       "      <td>0.065309</td>\n",
       "      <td>0.036103</td>\n",
       "      <td>-0.097778</td>\n",
       "      <td>-0.017627</td>\n",
       "      <td>0.014801</td>\n",
       "      <td>0.011705</td>\n",
       "    </tr>\n",
       "    <tr>\n",
       "      <th>2019-05-16</th>\n",
       "      <td>0.069974</td>\n",
       "      <td>-0.075235</td>\n",
       "      <td>0.069548</td>\n",
       "      <td>-0.058209</td>\n",
       "      <td>0.067990</td>\n",
       "      <td>0.086780</td>\n",
       "      <td>-0.139457</td>\n",
       "      <td>0.084709</td>\n",
       "      <td>0.060140</td>\n",
       "      <td>0.046557</td>\n",
       "    </tr>\n",
       "  </tbody>\n",
       "</table>\n",
       "</div>"
      ],
      "text/plain": [
       "                 BTC       BTT      DOGE       ETH       LTC       XRP  \\\n",
       "Date                                                                     \n",
       "2019-05-20       NaN       NaN       NaN       NaN       NaN       NaN   \n",
       "2019-05-19  0.010052 -0.110362  0.045051 -0.103642 -0.088470  0.049490   \n",
       "2019-05-18 -0.114341 -0.059659 -0.054437  0.045122  0.037276 -0.107647   \n",
       "2019-05-17  0.013947 -0.036254 -0.014309  0.080952  0.065309  0.036103   \n",
       "2019-05-16  0.069974 -0.075235  0.069548 -0.058209  0.067990  0.086780   \n",
       "\n",
       "               SOLVE       XLM      TRON       ZIL  \n",
       "Date                                                \n",
       "2019-05-20       NaN       NaN       NaN       NaN  \n",
       "2019-05-19 -0.112904  0.043823  0.026939  0.065474  \n",
       "2019-05-18 -0.042606 -0.089423 -0.083820 -0.077465  \n",
       "2019-05-17 -0.097778 -0.017627  0.014801  0.011705  \n",
       "2019-05-16 -0.139457  0.084709  0.060140  0.046557  "
      ]
     },
     "execution_count": 67,
     "metadata": {},
     "output_type": "execute_result"
    }
   ],
   "source": [
    "# Display sample data\n",
    "harold_daily_returns.head()"
   ]
  },
  {
   "cell_type": "code",
   "execution_count": 68,
   "metadata": {},
   "outputs": [
    {
     "data": {
      "text/html": [
       "<div>\n",
       "<style scoped>\n",
       "    .dataframe tbody tr th:only-of-type {\n",
       "        vertical-align: middle;\n",
       "    }\n",
       "\n",
       "    .dataframe tbody tr th {\n",
       "        vertical-align: top;\n",
       "    }\n",
       "\n",
       "    .dataframe thead th {\n",
       "        text-align: right;\n",
       "    }\n",
       "</style>\n",
       "<table border=\"1\" class=\"dataframe\">\n",
       "  <thead>\n",
       "    <tr style=\"text-align: right;\">\n",
       "      <th></th>\n",
       "      <th>BTC</th>\n",
       "      <th>DOGE</th>\n",
       "      <th>ETH</th>\n",
       "      <th>LTC</th>\n",
       "      <th>XRP</th>\n",
       "      <th>XLM</th>\n",
       "    </tr>\n",
       "    <tr>\n",
       "      <th>Date</th>\n",
       "      <th></th>\n",
       "      <th></th>\n",
       "      <th></th>\n",
       "      <th></th>\n",
       "      <th></th>\n",
       "      <th></th>\n",
       "    </tr>\n",
       "  </thead>\n",
       "  <tbody>\n",
       "    <tr>\n",
       "      <th>2019-05-20</th>\n",
       "      <td>NaN</td>\n",
       "      <td>NaN</td>\n",
       "      <td>NaN</td>\n",
       "      <td>NaN</td>\n",
       "      <td>NaN</td>\n",
       "      <td>NaN</td>\n",
       "    </tr>\n",
       "    <tr>\n",
       "      <th>2019-05-19</th>\n",
       "      <td>-0.114341</td>\n",
       "      <td>0.045051</td>\n",
       "      <td>-0.103642</td>\n",
       "      <td>-0.088470</td>\n",
       "      <td>0.049490</td>\n",
       "      <td>0.043823</td>\n",
       "    </tr>\n",
       "    <tr>\n",
       "      <th>2019-05-18</th>\n",
       "      <td>0.013947</td>\n",
       "      <td>-0.054437</td>\n",
       "      <td>0.045122</td>\n",
       "      <td>0.037276</td>\n",
       "      <td>-0.107647</td>\n",
       "      <td>-0.089423</td>\n",
       "    </tr>\n",
       "    <tr>\n",
       "      <th>2019-05-17</th>\n",
       "      <td>0.069974</td>\n",
       "      <td>-0.014309</td>\n",
       "      <td>0.080952</td>\n",
       "      <td>0.065309</td>\n",
       "      <td>0.036103</td>\n",
       "      <td>-0.017627</td>\n",
       "    </tr>\n",
       "    <tr>\n",
       "      <th>2019-05-16</th>\n",
       "      <td>0.041168</td>\n",
       "      <td>0.069548</td>\n",
       "      <td>-0.058209</td>\n",
       "      <td>0.067990</td>\n",
       "      <td>0.086780</td>\n",
       "      <td>0.084709</td>\n",
       "    </tr>\n",
       "  </tbody>\n",
       "</table>\n",
       "</div>"
      ],
      "text/plain": [
       "                 BTC      DOGE       ETH       LTC       XRP       XLM\n",
       "Date                                                                  \n",
       "2019-05-20       NaN       NaN       NaN       NaN       NaN       NaN\n",
       "2019-05-19 -0.114341  0.045051 -0.103642 -0.088470  0.049490  0.043823\n",
       "2019-05-18  0.013947 -0.054437  0.045122  0.037276 -0.107647 -0.089423\n",
       "2019-05-17  0.069974 -0.014309  0.080952  0.065309  0.036103 -0.017627\n",
       "2019-05-16  0.041168  0.069548 -0.058209  0.067990  0.086780  0.084709"
      ]
     },
     "execution_count": 68,
     "metadata": {},
     "output_type": "execute_result"
    }
   ],
   "source": [
    "my_daily_returns.head()"
   ]
  },
  {
   "cell_type": "markdown",
   "metadata": {},
   "source": [
    "### `Concat` portfolios into one DataFrame"
   ]
  },
  {
   "cell_type": "code",
   "execution_count": 69,
   "metadata": {},
   "outputs": [
    {
     "data": {
      "text/html": [
       "<div>\n",
       "<style scoped>\n",
       "    .dataframe tbody tr th:only-of-type {\n",
       "        vertical-align: middle;\n",
       "    }\n",
       "\n",
       "    .dataframe tbody tr th {\n",
       "        vertical-align: top;\n",
       "    }\n",
       "\n",
       "    .dataframe thead th {\n",
       "        text-align: right;\n",
       "    }\n",
       "</style>\n",
       "<table border=\"1\" class=\"dataframe\">\n",
       "  <thead>\n",
       "    <tr style=\"text-align: right;\">\n",
       "      <th></th>\n",
       "      <th>BTC</th>\n",
       "      <th>BTT</th>\n",
       "      <th>DOGE</th>\n",
       "      <th>ETH</th>\n",
       "      <th>LTC</th>\n",
       "      <th>XRP</th>\n",
       "      <th>SOLVE</th>\n",
       "      <th>XLM</th>\n",
       "      <th>TRON</th>\n",
       "      <th>ZIL</th>\n",
       "      <th>BTC</th>\n",
       "      <th>DOGE</th>\n",
       "      <th>ETH</th>\n",
       "      <th>LTC</th>\n",
       "      <th>XRP</th>\n",
       "      <th>XLM</th>\n",
       "    </tr>\n",
       "    <tr>\n",
       "      <th>Date</th>\n",
       "      <th></th>\n",
       "      <th></th>\n",
       "      <th></th>\n",
       "      <th></th>\n",
       "      <th></th>\n",
       "      <th></th>\n",
       "      <th></th>\n",
       "      <th></th>\n",
       "      <th></th>\n",
       "      <th></th>\n",
       "      <th></th>\n",
       "      <th></th>\n",
       "      <th></th>\n",
       "      <th></th>\n",
       "      <th></th>\n",
       "      <th></th>\n",
       "    </tr>\n",
       "  </thead>\n",
       "  <tbody>\n",
       "    <tr>\n",
       "      <th>2019-05-20</th>\n",
       "      <td>NaN</td>\n",
       "      <td>NaN</td>\n",
       "      <td>NaN</td>\n",
       "      <td>NaN</td>\n",
       "      <td>NaN</td>\n",
       "      <td>NaN</td>\n",
       "      <td>NaN</td>\n",
       "      <td>NaN</td>\n",
       "      <td>NaN</td>\n",
       "      <td>NaN</td>\n",
       "      <td>NaN</td>\n",
       "      <td>NaN</td>\n",
       "      <td>NaN</td>\n",
       "      <td>NaN</td>\n",
       "      <td>NaN</td>\n",
       "      <td>NaN</td>\n",
       "    </tr>\n",
       "    <tr>\n",
       "      <th>2019-05-19</th>\n",
       "      <td>0.010052</td>\n",
       "      <td>-0.110362</td>\n",
       "      <td>0.045051</td>\n",
       "      <td>-0.103642</td>\n",
       "      <td>-0.088470</td>\n",
       "      <td>0.049490</td>\n",
       "      <td>-0.112904</td>\n",
       "      <td>0.043823</td>\n",
       "      <td>0.026939</td>\n",
       "      <td>0.065474</td>\n",
       "      <td>-0.114341</td>\n",
       "      <td>0.045051</td>\n",
       "      <td>-0.103642</td>\n",
       "      <td>-0.088470</td>\n",
       "      <td>0.049490</td>\n",
       "      <td>0.043823</td>\n",
       "    </tr>\n",
       "    <tr>\n",
       "      <th>2019-05-18</th>\n",
       "      <td>-0.114341</td>\n",
       "      <td>-0.059659</td>\n",
       "      <td>-0.054437</td>\n",
       "      <td>0.045122</td>\n",
       "      <td>0.037276</td>\n",
       "      <td>-0.107647</td>\n",
       "      <td>-0.042606</td>\n",
       "      <td>-0.089423</td>\n",
       "      <td>-0.083820</td>\n",
       "      <td>-0.077465</td>\n",
       "      <td>0.013947</td>\n",
       "      <td>-0.054437</td>\n",
       "      <td>0.045122</td>\n",
       "      <td>0.037276</td>\n",
       "      <td>-0.107647</td>\n",
       "      <td>-0.089423</td>\n",
       "    </tr>\n",
       "    <tr>\n",
       "      <th>2019-05-17</th>\n",
       "      <td>0.013947</td>\n",
       "      <td>-0.036254</td>\n",
       "      <td>-0.014309</td>\n",
       "      <td>0.080952</td>\n",
       "      <td>0.065309</td>\n",
       "      <td>0.036103</td>\n",
       "      <td>-0.097778</td>\n",
       "      <td>-0.017627</td>\n",
       "      <td>0.014801</td>\n",
       "      <td>0.011705</td>\n",
       "      <td>0.069974</td>\n",
       "      <td>-0.014309</td>\n",
       "      <td>0.080952</td>\n",
       "      <td>0.065309</td>\n",
       "      <td>0.036103</td>\n",
       "      <td>-0.017627</td>\n",
       "    </tr>\n",
       "    <tr>\n",
       "      <th>2019-05-16</th>\n",
       "      <td>0.069974</td>\n",
       "      <td>-0.075235</td>\n",
       "      <td>0.069548</td>\n",
       "      <td>-0.058209</td>\n",
       "      <td>0.067990</td>\n",
       "      <td>0.086780</td>\n",
       "      <td>-0.139457</td>\n",
       "      <td>0.084709</td>\n",
       "      <td>0.060140</td>\n",
       "      <td>0.046557</td>\n",
       "      <td>0.041168</td>\n",
       "      <td>0.069548</td>\n",
       "      <td>-0.058209</td>\n",
       "      <td>0.067990</td>\n",
       "      <td>0.086780</td>\n",
       "      <td>0.084709</td>\n",
       "    </tr>\n",
       "    <tr>\n",
       "      <th>2019-05-15</th>\n",
       "      <td>0.041168</td>\n",
       "      <td>-0.037288</td>\n",
       "      <td>0.044192</td>\n",
       "      <td>-0.126747</td>\n",
       "      <td>-0.103364</td>\n",
       "      <td>0.086484</td>\n",
       "      <td>0.007420</td>\n",
       "      <td>-0.002047</td>\n",
       "      <td>0.086322</td>\n",
       "      <td>0.088224</td>\n",
       "      <td>-0.025892</td>\n",
       "      <td>0.044192</td>\n",
       "      <td>-0.126747</td>\n",
       "      <td>-0.103364</td>\n",
       "      <td>0.086484</td>\n",
       "      <td>-0.002047</td>\n",
       "    </tr>\n",
       "  </tbody>\n",
       "</table>\n",
       "</div>"
      ],
      "text/plain": [
       "                 BTC       BTT      DOGE       ETH       LTC       XRP  \\\n",
       "Date                                                                     \n",
       "2019-05-20       NaN       NaN       NaN       NaN       NaN       NaN   \n",
       "2019-05-19  0.010052 -0.110362  0.045051 -0.103642 -0.088470  0.049490   \n",
       "2019-05-18 -0.114341 -0.059659 -0.054437  0.045122  0.037276 -0.107647   \n",
       "2019-05-17  0.013947 -0.036254 -0.014309  0.080952  0.065309  0.036103   \n",
       "2019-05-16  0.069974 -0.075235  0.069548 -0.058209  0.067990  0.086780   \n",
       "2019-05-15  0.041168 -0.037288  0.044192 -0.126747 -0.103364  0.086484   \n",
       "\n",
       "               SOLVE       XLM      TRON       ZIL       BTC      DOGE  \\\n",
       "Date                                                                     \n",
       "2019-05-20       NaN       NaN       NaN       NaN       NaN       NaN   \n",
       "2019-05-19 -0.112904  0.043823  0.026939  0.065474 -0.114341  0.045051   \n",
       "2019-05-18 -0.042606 -0.089423 -0.083820 -0.077465  0.013947 -0.054437   \n",
       "2019-05-17 -0.097778 -0.017627  0.014801  0.011705  0.069974 -0.014309   \n",
       "2019-05-16 -0.139457  0.084709  0.060140  0.046557  0.041168  0.069548   \n",
       "2019-05-15  0.007420 -0.002047  0.086322  0.088224 -0.025892  0.044192   \n",
       "\n",
       "                 ETH       LTC       XRP       XLM  \n",
       "Date                                                \n",
       "2019-05-20       NaN       NaN       NaN       NaN  \n",
       "2019-05-19 -0.103642 -0.088470  0.049490  0.043823  \n",
       "2019-05-18  0.045122  0.037276 -0.107647 -0.089423  \n",
       "2019-05-17  0.080952  0.065309  0.036103 -0.017627  \n",
       "2019-05-16 -0.058209  0.067990  0.086780  0.084709  \n",
       "2019-05-15 -0.126747 -0.103364  0.086484 -0.002047  "
      ]
     },
     "execution_count": 69,
     "metadata": {},
     "output_type": "execute_result"
    }
   ],
   "source": [
    "# Concat returns DataFrames\n",
    "combined_df = pd.concat([harold_daily_returns, my_daily_returns], axis='columns', join='inner')\n",
    "combined_df"
   ]
  },
  {
   "cell_type": "markdown",
   "metadata": {},
   "source": [
    "### Calculate `std dev` for all data"
   ]
  },
  {
   "cell_type": "code",
   "execution_count": 70,
   "metadata": {},
   "outputs": [
    {
     "data": {
      "text/plain": [
       "BTC      0.070488\n",
       "BTT      0.030731\n",
       "DOGE     0.050907\n",
       "ETH      0.091517\n",
       "LTC      0.084703\n",
       "XRP      0.080277\n",
       "SOLVE    0.059016\n",
       "XLM      0.065825\n",
       "TRON     0.064923\n",
       "ZIL      0.064726\n",
       "BTC      0.071562\n",
       "DOGE     0.050907\n",
       "ETH      0.091517\n",
       "LTC      0.084703\n",
       "XRP      0.080277\n",
       "XLM      0.065825\n",
       "dtype: float64"
      ]
     },
     "execution_count": 70,
     "metadata": {},
     "output_type": "execute_result"
    }
   ],
   "source": [
    "# Calculate std dev\n",
    "combined_df_sd = combined_df.std().copy()\n",
    "combined_df_sd"
   ]
  },
  {
   "cell_type": "code",
   "execution_count": 71,
   "metadata": {},
   "outputs": [
    {
     "data": {
      "text/plain": [
       "ETH      0.091517\n",
       "ETH      0.091517\n",
       "LTC      0.084703\n",
       "LTC      0.084703\n",
       "XRP      0.080277\n",
       "XRP      0.080277\n",
       "BTC      0.071562\n",
       "BTC      0.070488\n",
       "XLM      0.065825\n",
       "XLM      0.065825\n",
       "TRON     0.064923\n",
       "ZIL      0.064726\n",
       "SOLVE    0.059016\n",
       "DOGE     0.050907\n",
       "DOGE     0.050907\n",
       "BTT      0.030731\n",
       "dtype: float64"
      ]
     },
     "execution_count": 71,
     "metadata": {},
     "output_type": "execute_result"
    }
   ],
   "source": [
    "combined_df_sd.sort_values(ascending=False)"
   ]
  },
  {
   "cell_type": "markdown",
   "metadata": {},
   "source": [
    "### Calculate `sharpe ratio` for all data"
   ]
  },
  {
   "cell_type": "code",
   "execution_count": 72,
   "metadata": {},
   "outputs": [
    {
     "data": {
      "text/plain": [
       "BTC      0.004160\n",
       "BTT     -0.063760\n",
       "DOGE     0.018009\n",
       "ETH     -0.032505\n",
       "LTC     -0.004252\n",
       "XRP      0.030242\n",
       "SOLVE   -0.077065\n",
       "XLM      0.003887\n",
       "TRON     0.020876\n",
       "ZIL      0.026899\n",
       "BTC     -0.003029\n",
       "DOGE     0.018009\n",
       "ETH     -0.032505\n",
       "LTC     -0.004252\n",
       "XRP      0.030242\n",
       "XLM      0.003887\n",
       "dtype: float64"
      ]
     },
     "execution_count": 72,
     "metadata": {},
     "output_type": "execute_result"
    }
   ],
   "source": [
    "# Calculate sharpe ratio\n",
    "#The greater a portfolio's Sharpe ratio, the better its risk-adjusted-performance. If the analysis results in a negative Sharpe ratio, it either means the risk-free rate is greater than the portfolio’s return\n",
    "#or the portfolio's return is expected to be negative. In either case, a negative Sharpe ratio does not convey any useful meaning.\n",
    "sharpe_ratio = combined_df.mean() - 0 / combined_df.std() * np.sqrt(252)\n",
    "\n",
    "sharpe_ratio"
   ]
  },
  {
   "cell_type": "markdown",
   "metadata": {},
   "source": [
    "### Plot Sharpe Ratios"
   ]
  },
  {
   "cell_type": "code",
   "execution_count": 87,
   "metadata": {},
   "outputs": [
    {
     "data": {
      "text/plain": [
       "<matplotlib.axes._subplots.AxesSubplot at 0x2a038b51c50>"
      ]
     },
     "execution_count": 87,
     "metadata": {},
     "output_type": "execute_result"
    },
    {
     "data": {
      "image/png": "[encoded data removed]",
      "text/plain": [
       "<Figure size 432x288 with 1 Axes>"
      ]
     },
     "metadata": {
      "needs_background": "light"
     },
     "output_type": "display_data"
    }
   ],
   "source": [
    "# Plot sharpe ratios using a bar chart\n",
    "sharpe_ratio.plot(kind='bar', color='red')"
   ]
  },
  {
   "cell_type": "code",
   "execution_count": 74,
   "metadata": {},
   "outputs": [
    {
     "data": {
      "text/html": [
       "<div>\n",
       "<style scoped>\n",
       "    .dataframe tbody tr th:only-of-type {\n",
       "        vertical-align: middle;\n",
       "    }\n",
       "\n",
       "    .dataframe tbody tr th {\n",
       "        vertical-align: top;\n",
       "    }\n",
       "\n",
       "    .dataframe thead th {\n",
       "        text-align: right;\n",
       "    }\n",
       "</style>\n",
       "<table border=\"1\" class=\"dataframe\">\n",
       "  <thead>\n",
       "    <tr style=\"text-align: right;\">\n",
       "      <th></th>\n",
       "      <th>Date</th>\n",
       "      <th>BTC</th>\n",
       "      <th>BTT</th>\n",
       "      <th>DOGE</th>\n",
       "      <th>ETH</th>\n",
       "      <th>LTC</th>\n",
       "      <th>XRP</th>\n",
       "      <th>SOLVE</th>\n",
       "      <th>XLM</th>\n",
       "      <th>TRON</th>\n",
       "      <th>ZIL</th>\n",
       "    </tr>\n",
       "  </thead>\n",
       "  <tbody>\n",
       "    <tr>\n",
       "      <th>0</th>\n",
       "      <td>2019-05-20</td>\n",
       "      <td>8118.39</td>\n",
       "      <td>0.001187</td>\n",
       "      <td>0.003041</td>\n",
       "      <td>261.09</td>\n",
       "      <td>95.06</td>\n",
       "      <td>0.398003</td>\n",
       "      <td>0.338667</td>\n",
       "      <td>0.135545</td>\n",
       "      <td>0.028509</td>\n",
       "      <td>0.017992</td>\n",
       "    </tr>\n",
       "    <tr>\n",
       "      <th>1</th>\n",
       "      <td>2019-05-19</td>\n",
       "      <td>8200.00</td>\n",
       "      <td>0.001056</td>\n",
       "      <td>0.003178</td>\n",
       "      <td>234.03</td>\n",
       "      <td>86.65</td>\n",
       "      <td>0.417700</td>\n",
       "      <td>0.300430</td>\n",
       "      <td>0.141485</td>\n",
       "      <td>0.029277</td>\n",
       "      <td>0.019170</td>\n",
       "    </tr>\n",
       "    <tr>\n",
       "      <th>2</th>\n",
       "      <td>2019-05-18</td>\n",
       "      <td>7262.40</td>\n",
       "      <td>0.000993</td>\n",
       "      <td>0.003005</td>\n",
       "      <td>244.59</td>\n",
       "      <td>89.88</td>\n",
       "      <td>0.372736</td>\n",
       "      <td>0.287630</td>\n",
       "      <td>0.128833</td>\n",
       "      <td>0.026823</td>\n",
       "      <td>0.017685</td>\n",
       "    </tr>\n",
       "    <tr>\n",
       "      <th>3</th>\n",
       "      <td>2019-05-17</td>\n",
       "      <td>7363.69</td>\n",
       "      <td>0.000957</td>\n",
       "      <td>0.002962</td>\n",
       "      <td>264.39</td>\n",
       "      <td>95.75</td>\n",
       "      <td>0.386193</td>\n",
       "      <td>0.259506</td>\n",
       "      <td>0.126562</td>\n",
       "      <td>0.027220</td>\n",
       "      <td>0.017892</td>\n",
       "    </tr>\n",
       "    <tr>\n",
       "      <th>4</th>\n",
       "      <td>2019-05-16</td>\n",
       "      <td>7878.96</td>\n",
       "      <td>0.000885</td>\n",
       "      <td>0.003168</td>\n",
       "      <td>249.00</td>\n",
       "      <td>102.26</td>\n",
       "      <td>0.419707</td>\n",
       "      <td>0.223316</td>\n",
       "      <td>0.137283</td>\n",
       "      <td>0.028857</td>\n",
       "      <td>0.018725</td>\n",
       "    </tr>\n",
       "  </tbody>\n",
       "</table>\n",
       "</div>"
      ],
      "text/plain": [
       "         Date      BTC       BTT      DOGE     ETH     LTC       XRP  \\\n",
       "0  2019-05-20  8118.39  0.001187  0.003041  261.09   95.06  0.398003   \n",
       "1  2019-05-19  8200.00  0.001056  0.003178  234.03   86.65  0.417700   \n",
       "2  2019-05-18  7262.40  0.000993  0.003005  244.59   89.88  0.372736   \n",
       "3  2019-05-17  7363.69  0.000957  0.002962  264.39   95.75  0.386193   \n",
       "4  2019-05-16  7878.96  0.000885  0.003168  249.00  102.26  0.419707   \n",
       "\n",
       "      SOLVE       XLM      TRON       ZIL  \n",
       "0  0.338667  0.135545  0.028509  0.017992  \n",
       "1  0.300430  0.141485  0.029277  0.019170  \n",
       "2  0.287630  0.128833  0.026823  0.017685  \n",
       "3  0.259506  0.126562  0.027220  0.017892  \n",
       "4  0.223316  0.137283  0.028857  0.018725  "
      ]
     },
     "execution_count": 74,
     "metadata": {},
     "output_type": "execute_result"
    }
   ],
   "source": [
    "harold_df.head()"
   ]
  },
  {
   "cell_type": "markdown",
   "metadata": {},
   "source": [
    "### How many smart investments did Harold make compared to risky investments? How many did you make?"
   ]
  },
  {
   "cell_type": "markdown",
   "metadata": {},
   "source": [
    "**Harold: 4 smart; 3 questionable, 3 risky. My: 2 smart; 3 questionable, 1 risky**"
   ]
  },
  {
   "cell_type": "markdown",
   "metadata": {},
   "source": [
    "### Which cryptos have been the smartest investment?"
   ]
  },
  {
   "cell_type": "markdown",
   "metadata": {},
   "source": [
    "**DOGE, XRP, TRON, and ZIL**"
   ]
  },
  {
   "cell_type": "markdown",
   "metadata": {},
   "source": [
    "### Challenge\n",
    "\n",
    "Calculate the Sharpe ratio for your entire portfolio. Then, use a comparison operator to see which portfolio has the greatest risk-to-reward ratio."
   ]
  },
  {
   "cell_type": "code",
   "execution_count": 75,
   "metadata": {},
   "outputs": [
    {
     "data": {
      "text/plain": [
       "BTC     21.212561\n",
       "DOGE    18.051385\n",
       "ETH     16.403047\n",
       "LTC     15.971078\n",
       "XRP     14.302602\n",
       "XLM     14.443100\n",
       "dtype: float64"
      ]
     },
     "execution_count": 75,
     "metadata": {},
     "output_type": "execute_result"
    }
   ],
   "source": [
    "sharpe_ratio_my = my_df_drop_idx.mean() / my_df_drop_idx.std() * np.sqrt(252)\n",
    "sharpe_ratio_my"
   ]
  },
  {
   "cell_type": "code",
   "execution_count": 88,
   "metadata": {},
   "outputs": [
    {
     "data": {
      "text/plain": [
       "<matplotlib.axes._subplots.AxesSubplot at 0x2a038985eb8>"
      ]
     },
     "execution_count": 88,
     "metadata": {},
     "output_type": "execute_result"
    },
    {
     "data": {
      "image/png": "[encoded data removed]",
      "text/plain": [
       "<Figure size 432x288 with 1 Axes>"
      ]
     },
     "metadata": {
      "needs_background": "light"
     },
     "output_type": "display_data"
    }
   ],
   "source": [
    "sharpe_ratio_my.plot(kind='bar', color='red')"
   ]
  },
  {
   "cell_type": "markdown",
   "metadata": {},
   "source": [
    "### Calculate annualized standar deviaton for each portfolio individually"
   ]
  },
  {
   "cell_type": "code",
   "execution_count": 77,
   "metadata": {},
   "outputs": [],
   "source": [
    "# Calculate standar deviaton for all investments for each portfolio\n",
    "harold_df_drop_idx_sd = harold_df_drop_idx.std()"
   ]
  },
  {
   "cell_type": "code",
   "execution_count": 78,
   "metadata": {},
   "outputs": [
    {
     "data": {
      "text/plain": [
       "BTC      424.519506\n",
       "BTT        0.000122\n",
       "DOGE       0.000130\n",
       "ETH       17.497852\n",
       "LTC        5.431808\n",
       "XRP        0.029508\n",
       "SOLVE      0.045241\n",
       "XLM        0.005639\n",
       "TRON       0.001620\n",
       "ZIL        0.001019\n",
       "dtype: float64"
      ]
     },
     "execution_count": 78,
     "metadata": {},
     "output_type": "execute_result"
    }
   ],
   "source": [
    "# Print Harold's annual standard deviation\n",
    "harold_df_drop_idx_sd"
   ]
  },
  {
   "cell_type": "code",
   "execution_count": 79,
   "metadata": {},
   "outputs": [
    {
     "data": {
      "text/plain": [
       "BTC     3686.994854\n",
       "DOGE       0.002247\n",
       "ETH      271.134655\n",
       "LTC       64.849415\n",
       "XRP        0.408726\n",
       "XLM        0.145318\n",
       "dtype: float64"
      ]
     },
     "execution_count": 79,
     "metadata": {},
     "output_type": "execute_result"
    }
   ],
   "source": [
    "# Print my annual standard deviation\n",
    "my_df_drop_idx_sd = my_df_drop_idx.std()\n",
    "my_df_drop_idx_sd"
   ]
  },
  {
   "cell_type": "markdown",
   "metadata": {},
   "source": [
    "### Calculate the sharpe ratios for each individual portfolio"
   ]
  },
  {
   "cell_type": "code",
   "execution_count": 80,
   "metadata": {},
   "outputs": [],
   "source": [
    "# Calculate sharpe ratio\n",
    "sharpe_ratio_harold = harold_df_drop_idx.mean() / harold_df_drop_idx.std() * np.sqrt(252)\n",
    "sharpe_ratio_my = my_df_drop_idx.mean() / my_df_drop_idx.std() * np.sqrt(252)"
   ]
  },
  {
   "cell_type": "code",
   "execution_count": 81,
   "metadata": {},
   "outputs": [
    {
     "data": {
      "text/plain": [
       "BTC      293.086914\n",
       "BTT      128.691393\n",
       "DOGE     378.953664\n",
       "ETH      222.352037\n",
       "LTC      273.395855\n",
       "XRP      219.699810\n",
       "SOLVE     95.588831\n",
       "XLM      378.488614\n",
       "TRON     281.038506\n",
       "ZIL      290.248590\n",
       "dtype: float64"
      ]
     },
     "execution_count": 81,
     "metadata": {},
     "output_type": "execute_result"
    }
   ],
   "source": [
    "# Print Harold's sharpe ratios\n",
    "sharpe_ratio_harold"
   ]
  },
  {
   "cell_type": "code",
   "execution_count": 82,
   "metadata": {},
   "outputs": [
    {
     "data": {
      "text/plain": [
       "BTC     21.212561\n",
       "DOGE    18.051385\n",
       "ETH     16.403047\n",
       "LTC     15.971078\n",
       "XRP     14.302602\n",
       "XLM     14.443100\n",
       "dtype: float64"
      ]
     },
     "execution_count": 82,
     "metadata": {},
     "output_type": "execute_result"
    }
   ],
   "source": [
    "# Print my sharpe ratios\n",
    "sharpe_ratio_my"
   ]
  },
  {
   "cell_type": "code",
   "execution_count": 83,
   "metadata": {},
   "outputs": [
    {
     "data": {
      "text/plain": [
       "256.15442147532383"
      ]
     },
     "execution_count": 83,
     "metadata": {},
     "output_type": "execute_result"
    }
   ],
   "source": [
    "sharpe_ratio_harold_avg = sharpe_ratio_harold.mean()\n",
    "sharpe_ratio_harold_avg"
   ]
  },
  {
   "cell_type": "code",
   "execution_count": 84,
   "metadata": {},
   "outputs": [
    {
     "data": {
      "text/plain": [
       "16.73062873387194"
      ]
     },
     "execution_count": 84,
     "metadata": {},
     "output_type": "execute_result"
    }
   ],
   "source": [
    "sharpe_ratio_my_avg = sharpe_ratio_my.mean()\n",
    "sharpe_ratio_my_avg"
   ]
  },
  {
   "cell_type": "markdown",
   "metadata": {},
   "source": [
    "### Average sharpe ratios for each portfolio and output to screen"
   ]
  },
  {
   "cell_type": "code",
   "execution_count": 85,
   "metadata": {},
   "outputs": [
    {
     "name": "stdout",
     "output_type": "stream",
     "text": [
      "Harold's sharpe ratio average: 256.15442147532383\n",
      "My sharpe ratio average: 16.73062873387194\n"
     ]
    }
   ],
   "source": [
    "# Display results\n",
    "print(\"Harold's sharpe ratio average:\", sharpe_ratio_harold_avg)\n",
    "print(\"My sharpe ratio average:\", sharpe_ratio_my_avg)"
   ]
  },
  {
   "cell_type": "markdown",
   "metadata": {},
   "source": [
    "### Compare Sharpe Ratios Averages"
   ]
  },
  {
   "cell_type": "code",
   "execution_count": 86,
   "metadata": {},
   "outputs": [
    {
     "name": "stdout",
     "output_type": "stream",
     "text": [
      "Harold's investment is better.\n"
     ]
    }
   ],
   "source": [
    "if sharpe_ratio_harold_avg > sharpe_ratio_my_avg:\n",
    "    print(\"Harold's investment is better.\")\n",
    "else:\n",
    "    print(\"My investment is better.\")"
   ]
  },
  {
   "cell_type": "markdown",
   "metadata": {},
   "source": [
    "### Which portfolio is the smartest investment, based on risk to reward ratio?\n",
    "\n",
    "**Harold's**"
   ]
  },
  {
   "cell_type": "code",
   "execution_count": null,
   "metadata": {},
   "outputs": [],
   "source": []
  }
 ],
 "metadata": {
  "kernelspec": {
   "display_name": "Python 3",
   "language": "python",
   "name": "python3"
  },
  "language_info": {
   "codemirror_mode": {
    "name": "ipython",
    "version": 3
   },
   "file_extension": ".py",
   "mimetype": "text/x-python",
   "name": "python",
   "nbconvert_exporter": "python",
   "pygments_lexer": "ipython3",
   "version": "3.7.1"
  }
 },
 "nbformat": 4,
 "nbformat_minor": 4
}
