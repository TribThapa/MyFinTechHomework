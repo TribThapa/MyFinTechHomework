{
 "cells": [
  {
   "cell_type": "markdown",
   "metadata": {},
   "source": [
    "# Student Activity: Financial Forecasting\n",
    "\n",
    "In this activity, Harold's manager wants Harold to take a look at one year's worth of `TSLA` stock prices and plot a potential stock trajectory for where `TSLA` stock prices could go in the next `3` years. In addition, he would like to know how a $10,000 investment would perform given the simulated results.\n",
    "\n",
    "Help Harold by creating a Monte Carlo simulation that simulates the next `252 * 3` trading days using three years worth of `TSLA` stock data. Plot the simulated results of `TSLA` daily returns over the next `3` years as well as the corresponding simulated outcomes."
   ]
  },
  {
   "cell_type": "markdown",
   "metadata": {},
   "source": [
    "## Import Dependencies and Create Alpaca API Environment"
   ]
  },
  {
   "cell_type": "code",
   "execution_count": 1,
   "metadata": {},
   "outputs": [],
   "source": [
    "# Import libraries and dependencies\n",
    "import os\n",
    "import pandas as pd\n",
    "import numpy as np\n",
    "import matplotlib.pyplot as plt\n",
    "import alpaca_trade_api as tradeapi\n",
    "from MCForecastTools import MCSimulation\n",
    "from dotenv import load_dotenv\n",
    "\n",
    "%matplotlib inline"
   ]
  },
  {
   "cell_type": "code",
   "execution_count": 2,
   "metadata": {},
   "outputs": [
    {
     "name": "stdout",
     "output_type": "stream",
     "text": [
      "Your alpaca key is PKMWQL1LA14C1RK0ZTTC.\n",
      "Your alpaca secret key is OnzURrqiO6snAtKkNF9K15QQQrQ4YTAi5w211ZhD.\n"
     ]
    }
   ],
   "source": [
    "# Load .env enviroment variables\n",
    "load_dotenv()\n",
    "\n",
    "# Set Alpaca API key and secret\n",
    "alpaca_key = os.getenv(\"ALPACA_KEY\")\n",
    "alpaca_secret_key = os.getenv(\"ALPACA_SECRET_KEY\")\n",
    "\n",
    "print(f\"Your alpaca key is {alpaca_key}.\")\n",
    "print(f\"Your alpaca secret key is {alpaca_secret_key}.\")\n",
    "\n",
    "api = tradeapi.REST(alpaca_key, alpaca_secret_key, api_version='V2')"
   ]
  },
  {
   "cell_type": "markdown",
   "metadata": {},
   "source": [
    "### Get 3 Years Worth of `TSLA` Stock Data via API Call and Read in as DataFrame "
   ]
  },
  {
   "cell_type": "code",
   "execution_count": 3,
   "metadata": {},
   "outputs": [
    {
     "data": {
      "text/html": [
       "<div>\n",
       "<style scoped>\n",
       "    .dataframe tbody tr th:only-of-type {\n",
       "        vertical-align: middle;\n",
       "    }\n",
       "\n",
       "    .dataframe tbody tr th {\n",
       "        vertical-align: top;\n",
       "    }\n",
       "\n",
       "    .dataframe thead tr th {\n",
       "        text-align: left;\n",
       "    }\n",
       "\n",
       "    .dataframe thead tr:last-of-type th {\n",
       "        text-align: right;\n",
       "    }\n",
       "</style>\n",
       "<table border=\"1\" class=\"dataframe\">\n",
       "  <thead>\n",
       "    <tr>\n",
       "      <th></th>\n",
       "      <th colspan=\"5\" halign=\"left\">TSLA</th>\n",
       "    </tr>\n",
       "    <tr>\n",
       "      <th></th>\n",
       "      <th>open</th>\n",
       "      <th>high</th>\n",
       "      <th>low</th>\n",
       "      <th>close</th>\n",
       "      <th>volume</th>\n",
       "    </tr>\n",
       "    <tr>\n",
       "      <th>time</th>\n",
       "      <th></th>\n",
       "      <th></th>\n",
       "      <th></th>\n",
       "      <th></th>\n",
       "      <th></th>\n",
       "    </tr>\n",
       "  </thead>\n",
       "  <tbody>\n",
       "    <tr>\n",
       "      <th>2018-01-02 00:00:00-05:00</th>\n",
       "      <td>312.18</td>\n",
       "      <td>322.1099</td>\n",
       "      <td>311.00</td>\n",
       "      <td>320.29</td>\n",
       "      <td>3322648</td>\n",
       "    </tr>\n",
       "    <tr>\n",
       "      <th>2018-01-03 00:00:00-05:00</th>\n",
       "      <td>321.00</td>\n",
       "      <td>325.2500</td>\n",
       "      <td>315.55</td>\n",
       "      <td>317.01</td>\n",
       "      <td>3232166</td>\n",
       "    </tr>\n",
       "    <tr>\n",
       "      <th>2018-01-04 00:00:00-05:00</th>\n",
       "      <td>312.87</td>\n",
       "      <td>318.5500</td>\n",
       "      <td>305.68</td>\n",
       "      <td>314.62</td>\n",
       "      <td>7428996</td>\n",
       "    </tr>\n",
       "    <tr>\n",
       "      <th>2018-01-05 00:00:00-05:00</th>\n",
       "      <td>316.62</td>\n",
       "      <td>317.2400</td>\n",
       "      <td>312.00</td>\n",
       "      <td>316.55</td>\n",
       "      <td>3563882</td>\n",
       "    </tr>\n",
       "    <tr>\n",
       "      <th>2018-01-08 00:00:00-05:00</th>\n",
       "      <td>316.00</td>\n",
       "      <td>337.0199</td>\n",
       "      <td>315.50</td>\n",
       "      <td>336.41</td>\n",
       "      <td>7721537</td>\n",
       "    </tr>\n",
       "  </tbody>\n",
       "</table>\n",
       "</div>"
      ],
      "text/plain": [
       "                             TSLA                                   \n",
       "                             open      high     low   close   volume\n",
       "time                                                                \n",
       "2018-01-02 00:00:00-05:00  312.18  322.1099  311.00  320.29  3322648\n",
       "2018-01-03 00:00:00-05:00  321.00  325.2500  315.55  317.01  3232166\n",
       "2018-01-04 00:00:00-05:00  312.87  318.5500  305.68  314.62  7428996\n",
       "2018-01-05 00:00:00-05:00  316.62  317.2400  312.00  316.55  3563882\n",
       "2018-01-08 00:00:00-05:00  316.00  337.0199  315.50  336.41  7721537"
      ]
     },
     "execution_count": 3,
     "metadata": {},
     "output_type": "execute_result"
    }
   ],
   "source": [
    "# Set the ticker\n",
    "tsla_ticker = ['TSLA']\n",
    "\n",
    "# Set timeframe to '1D'\n",
    "tsla_timeframe = '1D'\n",
    "\n",
    "# Set start and end datetimes of 3 years from Today\n",
    "tsla_start_date = pd.Timestamp('2018-1-1', tz='America/New_York').isoformat()\n",
    "tsla_end_date = pd.Timestamp('2021-1-1', tz='America/New_York').isoformat()\n",
    "\n",
    "# Get 3 years worth of historical data for TSLA\n",
    "tsla_df = api.get_barset(tsla_ticker, timeframe=tsla_timeframe, start=tsla_start_date, end=tsla_end_date, limit=1000).df\n",
    "\n",
    "tsla_df.head()"
   ]
  },
  {
   "cell_type": "markdown",
   "metadata": {},
   "source": [
    "### Run the Monte Carlo Simulation"
   ]
  },
  {
   "cell_type": "code",
   "execution_count": 4,
   "metadata": {},
   "outputs": [
    {
     "data": {
      "text/plain": [
       "(756, 6)"
      ]
     },
     "execution_count": 4,
     "metadata": {},
     "output_type": "execute_result"
    }
   ],
   "source": [
    "# Set number of simulations\n",
    "num_of_sim = 1000\n",
    "\n",
    "# Configure a Monte Carlo simulation to forecast three years daily returns\n",
    "tsla_mc = MCSimulation(portfolio_data=tsla_df, weights=[1], num_simulation=num_of_sim, num_trading_days=252*3)\n",
    "\n",
    "tsla_mc.portfolio_data.shape"
   ]
  },
  {
   "cell_type": "code",
   "execution_count": 5,
   "metadata": {},
   "outputs": [
    {
     "name": "stdout",
     "output_type": "stream",
     "text": [
      "Running Monte Carlo simulation number 0.\n",
      "Running Monte Carlo simulation number 10.\n",
      "Running Monte Carlo simulation number 20.\n",
      "Running Monte Carlo simulation number 30.\n",
      "Running Monte Carlo simulation number 40.\n",
      "Running Monte Carlo simulation number 50.\n",
      "Running Monte Carlo simulation number 60.\n",
      "Running Monte Carlo simulation number 70.\n",
      "Running Monte Carlo simulation number 80.\n",
      "Running Monte Carlo simulation number 90.\n",
      "Running Monte Carlo simulation number 100.\n",
      "Running Monte Carlo simulation number 110.\n",
      "Running Monte Carlo simulation number 120.\n",
      "Running Monte Carlo simulation number 130.\n",
      "Running Monte Carlo simulation number 140.\n",
      "Running Monte Carlo simulation number 150.\n",
      "Running Monte Carlo simulation number 160.\n",
      "Running Monte Carlo simulation number 170.\n",
      "Running Monte Carlo simulation number 180.\n",
      "Running Monte Carlo simulation number 190.\n",
      "Running Monte Carlo simulation number 200.\n",
      "Running Monte Carlo simulation number 210.\n",
      "Running Monte Carlo simulation number 220.\n",
      "Running Monte Carlo simulation number 230.\n",
      "Running Monte Carlo simulation number 240.\n",
      "Running Monte Carlo simulation number 250.\n",
      "Running Monte Carlo simulation number 260.\n",
      "Running Monte Carlo simulation number 270.\n",
      "Running Monte Carlo simulation number 280.\n",
      "Running Monte Carlo simulation number 290.\n",
      "Running Monte Carlo simulation number 300.\n",
      "Running Monte Carlo simulation number 310.\n",
      "Running Monte Carlo simulation number 320.\n",
      "Running Monte Carlo simulation number 330.\n",
      "Running Monte Carlo simulation number 340.\n",
      "Running Monte Carlo simulation number 350.\n",
      "Running Monte Carlo simulation number 360.\n",
      "Running Monte Carlo simulation number 370.\n",
      "Running Monte Carlo simulation number 380.\n",
      "Running Monte Carlo simulation number 390.\n",
      "Running Monte Carlo simulation number 400.\n",
      "Running Monte Carlo simulation number 410.\n",
      "Running Monte Carlo simulation number 420.\n",
      "Running Monte Carlo simulation number 430.\n",
      "Running Monte Carlo simulation number 440.\n",
      "Running Monte Carlo simulation number 450.\n",
      "Running Monte Carlo simulation number 460.\n",
      "Running Monte Carlo simulation number 470.\n",
      "Running Monte Carlo simulation number 480.\n",
      "Running Monte Carlo simulation number 490.\n",
      "Running Monte Carlo simulation number 500.\n",
      "Running Monte Carlo simulation number 510.\n",
      "Running Monte Carlo simulation number 520.\n",
      "Running Monte Carlo simulation number 530.\n",
      "Running Monte Carlo simulation number 540.\n",
      "Running Monte Carlo simulation number 550.\n",
      "Running Monte Carlo simulation number 560.\n",
      "Running Monte Carlo simulation number 570.\n",
      "Running Monte Carlo simulation number 580.\n",
      "Running Monte Carlo simulation number 590.\n",
      "Running Monte Carlo simulation number 600.\n",
      "Running Monte Carlo simulation number 610.\n",
      "Running Monte Carlo simulation number 620.\n",
      "Running Monte Carlo simulation number 630.\n",
      "Running Monte Carlo simulation number 640.\n",
      "Running Monte Carlo simulation number 650.\n",
      "Running Monte Carlo simulation number 660.\n",
      "Running Monte Carlo simulation number 670.\n",
      "Running Monte Carlo simulation number 680.\n",
      "Running Monte Carlo simulation number 690.\n",
      "Running Monte Carlo simulation number 700.\n",
      "Running Monte Carlo simulation number 710.\n",
      "Running Monte Carlo simulation number 720.\n",
      "Running Monte Carlo simulation number 730.\n",
      "Running Monte Carlo simulation number 740.\n",
      "Running Monte Carlo simulation number 750.\n",
      "Running Monte Carlo simulation number 760.\n",
      "Running Monte Carlo simulation number 770.\n",
      "Running Monte Carlo simulation number 780.\n",
      "Running Monte Carlo simulation number 790.\n",
      "Running Monte Carlo simulation number 800.\n",
      "Running Monte Carlo simulation number 810.\n",
      "Running Monte Carlo simulation number 820.\n",
      "Running Monte Carlo simulation number 830.\n",
      "Running Monte Carlo simulation number 840.\n",
      "Running Monte Carlo simulation number 850.\n",
      "Running Monte Carlo simulation number 860.\n",
      "Running Monte Carlo simulation number 870.\n",
      "Running Monte Carlo simulation number 880.\n",
      "Running Monte Carlo simulation number 890.\n",
      "Running Monte Carlo simulation number 900.\n",
      "Running Monte Carlo simulation number 910.\n",
      "Running Monte Carlo simulation number 920.\n",
      "Running Monte Carlo simulation number 930.\n",
      "Running Monte Carlo simulation number 940.\n",
      "Running Monte Carlo simulation number 950.\n",
      "Running Monte Carlo simulation number 960.\n",
      "Running Monte Carlo simulation number 970.\n",
      "Running Monte Carlo simulation number 980.\n",
      "Running Monte Carlo simulation number 990.\n"
     ]
    },
    {
     "data": {
      "text/html": [
       "<div>\n",
       "<style scoped>\n",
       "    .dataframe tbody tr th:only-of-type {\n",
       "        vertical-align: middle;\n",
       "    }\n",
       "\n",
       "    .dataframe tbody tr th {\n",
       "        vertical-align: top;\n",
       "    }\n",
       "\n",
       "    .dataframe thead th {\n",
       "        text-align: right;\n",
       "    }\n",
       "</style>\n",
       "<table border=\"1\" class=\"dataframe\">\n",
       "  <thead>\n",
       "    <tr style=\"text-align: right;\">\n",
       "      <th></th>\n",
       "      <th>0</th>\n",
       "      <th>1</th>\n",
       "      <th>2</th>\n",
       "      <th>3</th>\n",
       "      <th>4</th>\n",
       "      <th>5</th>\n",
       "      <th>6</th>\n",
       "      <th>7</th>\n",
       "      <th>8</th>\n",
       "      <th>9</th>\n",
       "      <th>...</th>\n",
       "      <th>990</th>\n",
       "      <th>991</th>\n",
       "      <th>992</th>\n",
       "      <th>993</th>\n",
       "      <th>994</th>\n",
       "      <th>995</th>\n",
       "      <th>996</th>\n",
       "      <th>997</th>\n",
       "      <th>998</th>\n",
       "      <th>999</th>\n",
       "    </tr>\n",
       "  </thead>\n",
       "  <tbody>\n",
       "    <tr>\n",
       "      <th>0</th>\n",
       "      <td>1.000000</td>\n",
       "      <td>1.000000</td>\n",
       "      <td>1.000000</td>\n",
       "      <td>1.000000</td>\n",
       "      <td>1.000000</td>\n",
       "      <td>1.000000</td>\n",
       "      <td>1.000000</td>\n",
       "      <td>1.000000</td>\n",
       "      <td>1.000000</td>\n",
       "      <td>1.000000</td>\n",
       "      <td>...</td>\n",
       "      <td>1.000000</td>\n",
       "      <td>1.000000</td>\n",
       "      <td>1.000000</td>\n",
       "      <td>1.000000</td>\n",
       "      <td>1.000000</td>\n",
       "      <td>1.000000</td>\n",
       "      <td>1.000000</td>\n",
       "      <td>1.000000</td>\n",
       "      <td>1.000000</td>\n",
       "      <td>1.000000</td>\n",
       "    </tr>\n",
       "    <tr>\n",
       "      <th>1</th>\n",
       "      <td>1.018461</td>\n",
       "      <td>0.996993</td>\n",
       "      <td>0.987858</td>\n",
       "      <td>0.966105</td>\n",
       "      <td>1.035460</td>\n",
       "      <td>0.977627</td>\n",
       "      <td>0.996584</td>\n",
       "      <td>0.913510</td>\n",
       "      <td>0.960998</td>\n",
       "      <td>0.859051</td>\n",
       "      <td>...</td>\n",
       "      <td>0.989683</td>\n",
       "      <td>0.933374</td>\n",
       "      <td>1.018414</td>\n",
       "      <td>1.022035</td>\n",
       "      <td>1.093777</td>\n",
       "      <td>0.971038</td>\n",
       "      <td>0.917546</td>\n",
       "      <td>0.961872</td>\n",
       "      <td>1.013460</td>\n",
       "      <td>1.028642</td>\n",
       "    </tr>\n",
       "    <tr>\n",
       "      <th>2</th>\n",
       "      <td>0.953310</td>\n",
       "      <td>1.010540</td>\n",
       "      <td>0.989460</td>\n",
       "      <td>1.022911</td>\n",
       "      <td>1.016920</td>\n",
       "      <td>0.971099</td>\n",
       "      <td>0.933890</td>\n",
       "      <td>0.862488</td>\n",
       "      <td>1.062925</td>\n",
       "      <td>0.906445</td>\n",
       "      <td>...</td>\n",
       "      <td>0.939008</td>\n",
       "      <td>0.945516</td>\n",
       "      <td>0.948240</td>\n",
       "      <td>0.930339</td>\n",
       "      <td>1.073355</td>\n",
       "      <td>0.898142</td>\n",
       "      <td>0.904258</td>\n",
       "      <td>1.054204</td>\n",
       "      <td>1.027920</td>\n",
       "      <td>1.086245</td>\n",
       "    </tr>\n",
       "    <tr>\n",
       "      <th>3</th>\n",
       "      <td>0.965234</td>\n",
       "      <td>0.996914</td>\n",
       "      <td>0.941556</td>\n",
       "      <td>1.013546</td>\n",
       "      <td>0.930273</td>\n",
       "      <td>1.021473</td>\n",
       "      <td>0.929199</td>\n",
       "      <td>0.838321</td>\n",
       "      <td>0.956752</td>\n",
       "      <td>0.962208</td>\n",
       "      <td>...</td>\n",
       "      <td>0.973962</td>\n",
       "      <td>0.889517</td>\n",
       "      <td>0.938114</td>\n",
       "      <td>0.977533</td>\n",
       "      <td>1.047474</td>\n",
       "      <td>0.932586</td>\n",
       "      <td>0.859171</td>\n",
       "      <td>1.030818</td>\n",
       "      <td>1.015527</td>\n",
       "      <td>1.163254</td>\n",
       "    </tr>\n",
       "    <tr>\n",
       "      <th>4</th>\n",
       "      <td>0.968693</td>\n",
       "      <td>0.911070</td>\n",
       "      <td>0.877903</td>\n",
       "      <td>0.948115</td>\n",
       "      <td>0.954775</td>\n",
       "      <td>1.037901</td>\n",
       "      <td>0.982444</td>\n",
       "      <td>0.852457</td>\n",
       "      <td>0.952391</td>\n",
       "      <td>0.932277</td>\n",
       "      <td>...</td>\n",
       "      <td>0.973786</td>\n",
       "      <td>0.959479</td>\n",
       "      <td>0.964228</td>\n",
       "      <td>1.012599</td>\n",
       "      <td>1.043207</td>\n",
       "      <td>0.952316</td>\n",
       "      <td>0.924738</td>\n",
       "      <td>1.061206</td>\n",
       "      <td>0.996929</td>\n",
       "      <td>1.230795</td>\n",
       "    </tr>\n",
       "    <tr>\n",
       "      <th>...</th>\n",
       "      <td>...</td>\n",
       "      <td>...</td>\n",
       "      <td>...</td>\n",
       "      <td>...</td>\n",
       "      <td>...</td>\n",
       "      <td>...</td>\n",
       "      <td>...</td>\n",
       "      <td>...</td>\n",
       "      <td>...</td>\n",
       "      <td>...</td>\n",
       "      <td>...</td>\n",
       "      <td>...</td>\n",
       "      <td>...</td>\n",
       "      <td>...</td>\n",
       "      <td>...</td>\n",
       "      <td>...</td>\n",
       "      <td>...</td>\n",
       "      <td>...</td>\n",
       "      <td>...</td>\n",
       "      <td>...</td>\n",
       "      <td>...</td>\n",
       "    </tr>\n",
       "    <tr>\n",
       "      <th>752</th>\n",
       "      <td>1.199971</td>\n",
       "      <td>2.416768</td>\n",
       "      <td>9.390662</td>\n",
       "      <td>0.048886</td>\n",
       "      <td>6.097694</td>\n",
       "      <td>1.780085</td>\n",
       "      <td>2.170090</td>\n",
       "      <td>0.459939</td>\n",
       "      <td>3.618405</td>\n",
       "      <td>2.335606</td>\n",
       "      <td>...</td>\n",
       "      <td>2.816483</td>\n",
       "      <td>0.230371</td>\n",
       "      <td>5.264482</td>\n",
       "      <td>6.431355</td>\n",
       "      <td>1.004171</td>\n",
       "      <td>1.160848</td>\n",
       "      <td>5.060232</td>\n",
       "      <td>10.870614</td>\n",
       "      <td>27.623894</td>\n",
       "      <td>2.003133</td>\n",
       "    </tr>\n",
       "    <tr>\n",
       "      <th>753</th>\n",
       "      <td>1.102712</td>\n",
       "      <td>2.399295</td>\n",
       "      <td>9.275893</td>\n",
       "      <td>0.045531</td>\n",
       "      <td>6.503810</td>\n",
       "      <td>1.941141</td>\n",
       "      <td>2.113063</td>\n",
       "      <td>0.496226</td>\n",
       "      <td>3.816349</td>\n",
       "      <td>2.340946</td>\n",
       "      <td>...</td>\n",
       "      <td>2.821439</td>\n",
       "      <td>0.211084</td>\n",
       "      <td>5.673169</td>\n",
       "      <td>5.641026</td>\n",
       "      <td>0.910607</td>\n",
       "      <td>1.192491</td>\n",
       "      <td>5.074688</td>\n",
       "      <td>11.637151</td>\n",
       "      <td>25.940818</td>\n",
       "      <td>1.871925</td>\n",
       "    </tr>\n",
       "    <tr>\n",
       "      <th>754</th>\n",
       "      <td>1.117396</td>\n",
       "      <td>2.421229</td>\n",
       "      <td>8.989752</td>\n",
       "      <td>0.044894</td>\n",
       "      <td>6.487509</td>\n",
       "      <td>2.008579</td>\n",
       "      <td>2.102807</td>\n",
       "      <td>0.466621</td>\n",
       "      <td>4.199834</td>\n",
       "      <td>2.177294</td>\n",
       "      <td>...</td>\n",
       "      <td>2.616738</td>\n",
       "      <td>0.205990</td>\n",
       "      <td>5.951915</td>\n",
       "      <td>5.636444</td>\n",
       "      <td>0.906945</td>\n",
       "      <td>1.132059</td>\n",
       "      <td>5.086447</td>\n",
       "      <td>11.383250</td>\n",
       "      <td>28.144057</td>\n",
       "      <td>2.022604</td>\n",
       "    </tr>\n",
       "    <tr>\n",
       "      <th>755</th>\n",
       "      <td>1.119579</td>\n",
       "      <td>2.447333</td>\n",
       "      <td>9.631176</td>\n",
       "      <td>0.042659</td>\n",
       "      <td>6.648314</td>\n",
       "      <td>2.054806</td>\n",
       "      <td>1.878995</td>\n",
       "      <td>0.464618</td>\n",
       "      <td>4.396477</td>\n",
       "      <td>2.214082</td>\n",
       "      <td>...</td>\n",
       "      <td>2.375906</td>\n",
       "      <td>0.219477</td>\n",
       "      <td>6.030784</td>\n",
       "      <td>5.121444</td>\n",
       "      <td>0.824076</td>\n",
       "      <td>1.192173</td>\n",
       "      <td>5.413641</td>\n",
       "      <td>10.526111</td>\n",
       "      <td>27.472505</td>\n",
       "      <td>2.101975</td>\n",
       "    </tr>\n",
       "    <tr>\n",
       "      <th>756</th>\n",
       "      <td>1.147265</td>\n",
       "      <td>2.259343</td>\n",
       "      <td>9.430347</td>\n",
       "      <td>0.046346</td>\n",
       "      <td>6.940513</td>\n",
       "      <td>2.243758</td>\n",
       "      <td>1.951786</td>\n",
       "      <td>0.483711</td>\n",
       "      <td>4.775334</td>\n",
       "      <td>2.390107</td>\n",
       "      <td>...</td>\n",
       "      <td>2.088622</td>\n",
       "      <td>0.208881</td>\n",
       "      <td>6.241146</td>\n",
       "      <td>5.281230</td>\n",
       "      <td>0.824743</td>\n",
       "      <td>1.283926</td>\n",
       "      <td>5.218583</td>\n",
       "      <td>10.337836</td>\n",
       "      <td>28.468124</td>\n",
       "      <td>2.185447</td>\n",
       "    </tr>\n",
       "  </tbody>\n",
       "</table>\n",
       "<p>757 rows × 1000 columns</p>\n",
       "</div>"
      ],
      "text/plain": [
       "          0         1         2         3         4         5         6    \\\n",
       "0    1.000000  1.000000  1.000000  1.000000  1.000000  1.000000  1.000000   \n",
       "1    1.018461  0.996993  0.987858  0.966105  1.035460  0.977627  0.996584   \n",
       "2    0.953310  1.010540  0.989460  1.022911  1.016920  0.971099  0.933890   \n",
       "3    0.965234  0.996914  0.941556  1.013546  0.930273  1.021473  0.929199   \n",
       "4    0.968693  0.911070  0.877903  0.948115  0.954775  1.037901  0.982444   \n",
       "..        ...       ...       ...       ...       ...       ...       ...   \n",
       "752  1.199971  2.416768  9.390662  0.048886  6.097694  1.780085  2.170090   \n",
       "753  1.102712  2.399295  9.275893  0.045531  6.503810  1.941141  2.113063   \n",
       "754  1.117396  2.421229  8.989752  0.044894  6.487509  2.008579  2.102807   \n",
       "755  1.119579  2.447333  9.631176  0.042659  6.648314  2.054806  1.878995   \n",
       "756  1.147265  2.259343  9.430347  0.046346  6.940513  2.243758  1.951786   \n",
       "\n",
       "          7         8         9    ...       990       991       992  \\\n",
       "0    1.000000  1.000000  1.000000  ...  1.000000  1.000000  1.000000   \n",
       "1    0.913510  0.960998  0.859051  ...  0.989683  0.933374  1.018414   \n",
       "2    0.862488  1.062925  0.906445  ...  0.939008  0.945516  0.948240   \n",
       "3    0.838321  0.956752  0.962208  ...  0.973962  0.889517  0.938114   \n",
       "4    0.852457  0.952391  0.932277  ...  0.973786  0.959479  0.964228   \n",
       "..        ...       ...       ...  ...       ...       ...       ...   \n",
       "752  0.459939  3.618405  2.335606  ...  2.816483  0.230371  5.264482   \n",
       "753  0.496226  3.816349  2.340946  ...  2.821439  0.211084  5.673169   \n",
       "754  0.466621  4.199834  2.177294  ...  2.616738  0.205990  5.951915   \n",
       "755  0.464618  4.396477  2.214082  ...  2.375906  0.219477  6.030784   \n",
       "756  0.483711  4.775334  2.390107  ...  2.088622  0.208881  6.241146   \n",
       "\n",
       "          993       994       995       996        997        998       999  \n",
       "0    1.000000  1.000000  1.000000  1.000000   1.000000   1.000000  1.000000  \n",
       "1    1.022035  1.093777  0.971038  0.917546   0.961872   1.013460  1.028642  \n",
       "2    0.930339  1.073355  0.898142  0.904258   1.054204   1.027920  1.086245  \n",
       "3    0.977533  1.047474  0.932586  0.859171   1.030818   1.015527  1.163254  \n",
       "4    1.012599  1.043207  0.952316  0.924738   1.061206   0.996929  1.230795  \n",
       "..        ...       ...       ...       ...        ...        ...       ...  \n",
       "752  6.431355  1.004171  1.160848  5.060232  10.870614  27.623894  2.003133  \n",
       "753  5.641026  0.910607  1.192491  5.074688  11.637151  25.940818  1.871925  \n",
       "754  5.636444  0.906945  1.132059  5.086447  11.383250  28.144057  2.022604  \n",
       "755  5.121444  0.824076  1.192173  5.413641  10.526111  27.472505  2.101975  \n",
       "756  5.281230  0.824743  1.283926  5.218583  10.337836  28.468124  2.185447  \n",
       "\n",
       "[757 rows x 1000 columns]"
      ]
     },
     "execution_count": 5,
     "metadata": {},
     "output_type": "execute_result"
    }
   ],
   "source": [
    "# Run Monte Carlo simulations to forecast three years daily returns\n",
    "tsla_mc.calc_cumulative_return()"
   ]
  },
  {
   "cell_type": "code",
   "execution_count": 24,
   "metadata": {},
   "outputs": [
    {
     "data": {
      "image/png": "[encoded data removed]",
      "text/plain": [
       "<Figure size 432x288 with 1 Axes>"
      ]
     },
     "metadata": {
      "needs_background": "light"
     },
     "output_type": "display_data"
    }
   ],
   "source": [
    "tsla_line_plot = tsla_mc.plot_simulation()"
   ]
  },
  {
   "cell_type": "code",
   "execution_count": 7,
   "metadata": {},
   "outputs": [
    {
     "data": {
      "image/png": "[encoded data removed]",
      "text/plain": [
       "<Figure size 432x288 with 1 Axes>"
      ]
     },
     "metadata": {
      "needs_background": "light"
     },
     "output_type": "display_data"
    }
   ],
   "source": [
    "tsla_dist_plot = tsla_mc.plot_distribution()"
   ]
  },
  {
   "cell_type": "markdown",
   "metadata": {},
   "source": [
    "### Create a new DataFrame to hold the summary statistics for the simulated daily returns."
   ]
  },
  {
   "cell_type": "code",
   "execution_count": 26,
   "metadata": {},
   "outputs": [
    {
     "name": "stdout",
     "output_type": "stream",
     "text": [
      "count           1000.000000\n",
      "mean               9.945865\n",
      "std               31.741735\n",
      "min                0.046346\n",
      "25%                1.283435\n",
      "50%                3.435742\n",
      "75%                9.110691\n",
      "max              653.609879\n",
      "95% CI Lower       0.255043\n",
      "95% CI Upper      48.520101\n",
      "Name: 756, dtype: float64\n",
      "\n"
     ]
    },
    {
     "data": {
      "text/html": [
       "<div>\n",
       "<style scoped>\n",
       "    .dataframe tbody tr th:only-of-type {\n",
       "        vertical-align: middle;\n",
       "    }\n",
       "\n",
       "    .dataframe tbody tr th {\n",
       "        vertical-align: top;\n",
       "    }\n",
       "\n",
       "    .dataframe thead th {\n",
       "        text-align: right;\n",
       "    }\n",
       "</style>\n",
       "<table border=\"1\" class=\"dataframe\">\n",
       "  <thead>\n",
       "    <tr style=\"text-align: right;\">\n",
       "      <th></th>\n",
       "      <th>mean</th>\n",
       "      <th>median</th>\n",
       "      <th>max</th>\n",
       "      <th>min</th>\n",
       "    </tr>\n",
       "  </thead>\n",
       "  <tbody>\n",
       "    <tr>\n",
       "      <th>752</th>\n",
       "      <td>9.918373</td>\n",
       "      <td>3.344054</td>\n",
       "      <td>658.356516</td>\n",
       "      <td>0.048886</td>\n",
       "    </tr>\n",
       "    <tr>\n",
       "      <th>753</th>\n",
       "      <td>9.834962</td>\n",
       "      <td>3.338660</td>\n",
       "      <td>582.554199</td>\n",
       "      <td>0.045531</td>\n",
       "    </tr>\n",
       "    <tr>\n",
       "      <th>754</th>\n",
       "      <td>9.892996</td>\n",
       "      <td>3.353137</td>\n",
       "      <td>633.917897</td>\n",
       "      <td>0.044894</td>\n",
       "    </tr>\n",
       "    <tr>\n",
       "      <th>755</th>\n",
       "      <td>9.897222</td>\n",
       "      <td>3.382465</td>\n",
       "      <td>662.103127</td>\n",
       "      <td>0.042659</td>\n",
       "    </tr>\n",
       "    <tr>\n",
       "      <th>756</th>\n",
       "      <td>9.945865</td>\n",
       "      <td>3.435742</td>\n",
       "      <td>653.609879</td>\n",
       "      <td>0.046346</td>\n",
       "    </tr>\n",
       "  </tbody>\n",
       "</table>\n",
       "</div>"
      ],
      "text/plain": [
       "         mean    median         max       min\n",
       "752  9.918373  3.344054  658.356516  0.048886\n",
       "753  9.834962  3.338660  582.554199  0.045531\n",
       "754  9.892996  3.353137  633.917897  0.044894\n",
       "755  9.897222  3.382465  662.103127  0.042659\n",
       "756  9.945865  3.435742  653.609879  0.046346"
      ]
     },
     "execution_count": 26,
     "metadata": {},
     "output_type": "execute_result"
    }
   ],
   "source": [
    "# Compute summary statistics from the simulated daily returns\n",
    "tsla_summary = tsla_mc.summarize_cumulative_return()\n",
    "print(tsla_summary)\n",
    "\n",
    "# Create a DataFrame with the summary statistics\n",
    "tsla_summary = {\n",
    "    'mean': list(tsla_mc.simulated_return.mean(axis=1)),\n",
    "    'median': list(tsla_mc.simulated_return.median(axis=1)),\n",
    "    'max': list(tsla_mc.simulated_return.max(axis=1)),\n",
    "    'min': list(tsla_mc.simulated_return.min(axis=1))\n",
    "}\n",
    "\n",
    "tsla_summary_df = pd.DataFrame(tsla_summary)\n",
    "\n",
    "# Display sample data\n",
    "print()\n",
    "tsla_summary_df.tail()"
   ]
  },
  {
   "cell_type": "markdown",
   "metadata": {},
   "source": [
    "### Generate a line plot to visualize the summary statistics for the simulated daily returns"
   ]
  },
  {
   "cell_type": "code",
   "execution_count": 9,
   "metadata": {},
   "outputs": [
    {
     "data": {
      "text/plain": [
       "<AxesSubplot:>"
      ]
     },
     "execution_count": 9,
     "metadata": {},
     "output_type": "execute_result"
    },
    {
     "data": {
      "image/png": "[encoded data removed]",
      "text/plain": [
       "<Figure size 432x288 with 1 Axes>"
      ]
     },
     "metadata": {
      "needs_background": "light"
     },
     "output_type": "display_data"
    }
   ],
   "source": [
    "# Use the `plot` function to visually analyze the trajectory of TSLA stock daily returns on the next three years of trading days simulation\n",
    "tsla_summary_df.plot(title='Simulated daily returns for TSLA over 3 years')"
   ]
  },
  {
   "cell_type": "markdown",
   "metadata": {},
   "source": [
    "### Create a new DataFrame to hold the summary statistics for the simulated daily returns assuming an initial investment of `$10,000`"
   ]
  },
  {
   "cell_type": "code",
   "execution_count": 11,
   "metadata": {},
   "outputs": [
    {
     "data": {
      "text/html": [
       "<div>\n",
       "<style scoped>\n",
       "    .dataframe tbody tr th:only-of-type {\n",
       "        vertical-align: middle;\n",
       "    }\n",
       "\n",
       "    .dataframe tbody tr th {\n",
       "        vertical-align: top;\n",
       "    }\n",
       "\n",
       "    .dataframe thead th {\n",
       "        text-align: right;\n",
       "    }\n",
       "</style>\n",
       "<table border=\"1\" class=\"dataframe\">\n",
       "  <thead>\n",
       "    <tr style=\"text-align: right;\">\n",
       "      <th></th>\n",
       "      <th>mean</th>\n",
       "      <th>median</th>\n",
       "      <th>max</th>\n",
       "      <th>min</th>\n",
       "    </tr>\n",
       "  </thead>\n",
       "  <tbody>\n",
       "    <tr>\n",
       "      <th>0</th>\n",
       "      <td>10000.000000</td>\n",
       "      <td>10000.000000</td>\n",
       "      <td>10000.000000</td>\n",
       "      <td>10000.000000</td>\n",
       "    </tr>\n",
       "    <tr>\n",
       "      <th>1</th>\n",
       "      <td>10026.243566</td>\n",
       "      <td>10028.384289</td>\n",
       "      <td>11848.015545</td>\n",
       "      <td>8429.397442</td>\n",
       "    </tr>\n",
       "    <tr>\n",
       "      <th>2</th>\n",
       "      <td>10090.446397</td>\n",
       "      <td>10062.074763</td>\n",
       "      <td>12325.786053</td>\n",
       "      <td>8051.036419</td>\n",
       "    </tr>\n",
       "    <tr>\n",
       "      <th>3</th>\n",
       "      <td>10129.598670</td>\n",
       "      <td>10102.986878</td>\n",
       "      <td>13021.217920</td>\n",
       "      <td>7792.658222</td>\n",
       "    </tr>\n",
       "    <tr>\n",
       "      <th>4</th>\n",
       "      <td>10159.345242</td>\n",
       "      <td>10125.861134</td>\n",
       "      <td>13646.215210</td>\n",
       "      <td>7194.822851</td>\n",
       "    </tr>\n",
       "  </tbody>\n",
       "</table>\n",
       "</div>"
      ],
      "text/plain": [
       "           mean        median           max           min\n",
       "0  10000.000000  10000.000000  10000.000000  10000.000000\n",
       "1  10026.243566  10028.384289  11848.015545   8429.397442\n",
       "2  10090.446397  10062.074763  12325.786053   8051.036419\n",
       "3  10129.598670  10102.986878  13021.217920   7792.658222\n",
       "4  10159.345242  10125.861134  13646.215210   7194.822851"
      ]
     },
     "execution_count": 11,
     "metadata": {},
     "output_type": "execute_result"
    }
   ],
   "source": [
    "# Set initial investment\n",
    "initial_investment = 10000\n",
    "\n",
    "# Multiply an initial investment by the daily returns of simulated stock prices to return the progression of daily returns in terms of money\n",
    "projected_simulated_daily_returns = initial_investment * tsla_summary_df\n",
    "\n",
    "# Display sample data\n",
    "projected_simulated_daily_returns.head()"
   ]
  },
  {
   "cell_type": "markdown",
   "metadata": {},
   "source": [
    "### Generate a line plot to visualize the updated summary statistics for simulated daily returns using a `$10,000` initial investment"
   ]
  },
  {
   "cell_type": "code",
   "execution_count": 16,
   "metadata": {},
   "outputs": [
    {
     "data": {
      "text/plain": [
       "<AxesSubplot:title={'center':'Simulated returns'}>"
      ]
     },
     "execution_count": 16,
     "metadata": {},
     "output_type": "execute_result"
    },
    {
     "data": {
      "image/png": "[encoded data removed]",
      "text/plain": [
       "<Figure size 720x504 with 1 Axes>"
      ]
     },
     "metadata": {
      "needs_background": "light"
     },
     "output_type": "display_data"
    }
   ],
   "source": [
    "# Use the 'plot' function to create a chart of the simulated profits/losses\n",
    "projected_simulated_daily_returns.plot(title='Simulated returns', figsize=(10, 7))"
   ]
  },
  {
   "cell_type": "markdown",
   "metadata": {},
   "source": [
    "### Calculate the range of possible outcomes for our $10,000 investment with a `95%` confidence interval"
   ]
  },
  {
   "cell_type": "code",
   "execution_count": 17,
   "metadata": {},
   "outputs": [
    {
     "name": "stdout",
     "output_type": "stream",
     "text": [
      "count           1000.000000\n",
      "mean               9.945865\n",
      "std               31.741735\n",
      "min                0.046346\n",
      "25%                1.283435\n",
      "50%                3.435742\n",
      "75%                9.110691\n",
      "max              653.609879\n",
      "95% CI Lower       0.255043\n",
      "95% CI Upper      48.520101\n",
      "Name: 756, dtype: float64\n"
     ]
    }
   ],
   "source": [
    "# Fetch summary statistics from the Monte Carlo simulation results\n",
    "tbl = tsla_mc.summarize_cumulative_return()\n",
    "\n",
    "# Print summary statistics\n",
    "print(tbl)"
   ]
  },
  {
   "cell_type": "code",
   "execution_count": 20,
   "metadata": {},
   "outputs": [
    {
     "name": "stdout",
     "output_type": "stream",
     "text": [
      "There is a 95% chance that an initial investment of $10,000 in the portfolio over the next 3 years will end within the range of $2550.4270009426446 and $485201.00783992675.\n"
     ]
    }
   ],
   "source": [
    "# Use the lower and upper `95%` confidence intervals to calculate the range of the possible outcomes of our $10,000 investments in TSLA stocks\n",
    "ci_lower = tbl[8] * 10000\n",
    "ci_upper = tbl[9] * 10000\n",
    "\n",
    "# Print results\n",
    "print(f\"There is a 95% chance that an initial investment of $10,000 in the portfolio\"\n",
    "      f\" over the next 3 years will end within the range of\"\n",
    "      f\" ${ci_lower} and ${ci_upper}.\")"
   ]
  },
  {
   "cell_type": "code",
   "execution_count": null,
   "metadata": {},
   "outputs": [],
   "source": []
  }
 ],
 "metadata": {
  "kernel_info": {
   "name": "python3"
  },
  "kernelspec": {
   "display_name": "Python 3",
   "language": "python",
   "name": "python3"
  },
  "language_info": {
   "codemirror_mode": {
    "name": "ipython",
    "version": 3
   },
   "file_extension": ".py",
   "mimetype": "text/x-python",
   "name": "python",
   "nbconvert_exporter": "python",
   "pygments_lexer": "ipython3",
   "version": "3.7.1"
  },
  "nteract": {
   "version": "0.12.3"
  }
 },
 "nbformat": 4,
 "nbformat_minor": 4
}
