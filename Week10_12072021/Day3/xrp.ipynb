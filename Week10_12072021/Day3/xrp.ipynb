{
 "cells": [
  {
   "cell_type": "code",
   "execution_count": 2,
   "metadata": {},
   "outputs": [],
   "source": [
    "# Import libraries and dependencies\n",
    "import pandas as pd\n",
    "import numpy as np\n",
    "\n",
    "%matplotlib inline\n",
    "import warnings\n",
    "warnings.filterwarnings('ignore')"
   ]
  },
  {
   "cell_type": "code",
   "execution_count": 3,
   "metadata": {},
   "outputs": [
    {
     "data": {
      "text/html": [
       "<div>\n",
       "<style scoped>\n",
       "    .dataframe tbody tr th:only-of-type {\n",
       "        vertical-align: middle;\n",
       "    }\n",
       "\n",
       "    .dataframe tbody tr th {\n",
       "        vertical-align: top;\n",
       "    }\n",
       "\n",
       "    .dataframe thead th {\n",
       "        text-align: right;\n",
       "    }\n",
       "</style>\n",
       "<table border=\"1\" class=\"dataframe\">\n",
       "  <thead>\n",
       "    <tr style=\"text-align: right;\">\n",
       "      <th></th>\n",
       "      <th>Open</th>\n",
       "      <th>High</th>\n",
       "      <th>Low</th>\n",
       "      <th>Close</th>\n",
       "      <th>Adj Close</th>\n",
       "      <th>Volume</th>\n",
       "    </tr>\n",
       "    <tr>\n",
       "      <th>Date</th>\n",
       "      <th></th>\n",
       "      <th></th>\n",
       "      <th></th>\n",
       "      <th></th>\n",
       "      <th></th>\n",
       "      <th></th>\n",
       "    </tr>\n",
       "  </thead>\n",
       "  <tbody>\n",
       "    <tr>\n",
       "      <th>2017-08-05</th>\n",
       "      <td>0.219835</td>\n",
       "      <td>0.237510</td>\n",
       "      <td>0.219079</td>\n",
       "      <td>0.233581</td>\n",
       "      <td>0.233581</td>\n",
       "      <td>144482988</td>\n",
       "    </tr>\n",
       "    <tr>\n",
       "      <th>2017-08-06</th>\n",
       "      <td>0.234417</td>\n",
       "      <td>0.239586</td>\n",
       "      <td>0.227825</td>\n",
       "      <td>0.228135</td>\n",
       "      <td>0.228135</td>\n",
       "      <td>93762510</td>\n",
       "    </tr>\n",
       "    <tr>\n",
       "      <th>2017-08-07</th>\n",
       "      <td>0.227215</td>\n",
       "      <td>0.230727</td>\n",
       "      <td>0.224493</td>\n",
       "      <td>0.226909</td>\n",
       "      <td>0.226909</td>\n",
       "      <td>73581036</td>\n",
       "    </tr>\n",
       "    <tr>\n",
       "      <th>2017-08-08</th>\n",
       "      <td>0.227646</td>\n",
       "      <td>0.246216</td>\n",
       "      <td>0.226089</td>\n",
       "      <td>0.244045</td>\n",
       "      <td>0.244045</td>\n",
       "      <td>228131481</td>\n",
       "    </tr>\n",
       "    <tr>\n",
       "      <th>2017-08-09</th>\n",
       "      <td>0.243970</td>\n",
       "      <td>0.244461</td>\n",
       "      <td>0.229453</td>\n",
       "      <td>0.232251</td>\n",
       "      <td>0.232251</td>\n",
       "      <td>124163955</td>\n",
       "    </tr>\n",
       "  </tbody>\n",
       "</table>\n",
       "</div>"
      ],
      "text/plain": [
       "                Open      High       Low     Close  Adj Close     Volume\n",
       "Date                                                                    \n",
       "2017-08-05  0.219835  0.237510  0.219079  0.233581   0.233581  144482988\n",
       "2017-08-06  0.234417  0.239586  0.227825  0.228135   0.228135   93762510\n",
       "2017-08-07  0.227215  0.230727  0.224493  0.226909   0.226909   73581036\n",
       "2017-08-08  0.227646  0.246216  0.226089  0.244045   0.244045  228131481\n",
       "2017-08-09  0.243970  0.244461  0.229453  0.232251   0.232251  124163955"
      ]
     },
     "execution_count": 3,
     "metadata": {},
     "output_type": "execute_result"
    }
   ],
   "source": [
    "# Read CSV, parse dates, and set index\n",
    "df = pd.read_csv((r'C:\\Users\\TribThapa\\Desktop\\Thapa\\ResearchFellow\\Courses\\FinTech_Bootcamp_MonashUni2021\\monu-mel-virt-fin-pt-05-2021-u-c\\Activities\\Week 10\\3\\06-Stu_Ripple\\Resources\\XRP_CAD.csv'),\n",
    "                 parse_dates=True, \n",
    "                 index_col='Date')\n",
    "\n",
    "df.head()"
   ]
  },
  {
   "cell_type": "code",
   "execution_count": 4,
   "metadata": {},
   "outputs": [
    {
     "data": {
      "text/plain": [
       "<matplotlib.axes._subplots.AxesSubplot at 0x1a5001b5508>"
      ]
     },
     "execution_count": 4,
     "metadata": {},
     "output_type": "execute_result"
    },
    {
     "data": {
      "image/png": "[encoded data removed]",
      "text/plain": [
       "<Figure size 432x288 with 1 Axes>"
      ]
     },
     "metadata": {
      "needs_background": "light"
     },
     "output_type": "display_data"
    }
   ],
   "source": [
    "# Plot closing prices\n",
    "df[\"Close\"].plot()"
   ]
  },
  {
   "cell_type": "code",
   "execution_count": 9,
   "metadata": {},
   "outputs": [
    {
     "data": {
      "text/html": [
       "<div>\n",
       "<style scoped>\n",
       "    .dataframe tbody tr th:only-of-type {\n",
       "        vertical-align: middle;\n",
       "    }\n",
       "\n",
       "    .dataframe tbody tr th {\n",
       "        vertical-align: top;\n",
       "    }\n",
       "\n",
       "    .dataframe thead th {\n",
       "        text-align: right;\n",
       "    }\n",
       "</style>\n",
       "<table border=\"1\" class=\"dataframe\">\n",
       "  <thead>\n",
       "    <tr style=\"text-align: right;\">\n",
       "      <th></th>\n",
       "      <th>Open</th>\n",
       "      <th>High</th>\n",
       "      <th>Low</th>\n",
       "      <th>Close</th>\n",
       "      <th>Adj Close</th>\n",
       "      <th>Volume</th>\n",
       "      <th>Return</th>\n",
       "      <th>Lagged_Return</th>\n",
       "    </tr>\n",
       "    <tr>\n",
       "      <th>Date</th>\n",
       "      <th></th>\n",
       "      <th></th>\n",
       "      <th></th>\n",
       "      <th></th>\n",
       "      <th></th>\n",
       "      <th></th>\n",
       "      <th></th>\n",
       "      <th></th>\n",
       "    </tr>\n",
       "  </thead>\n",
       "  <tbody>\n",
       "    <tr>\n",
       "      <th>2017-08-05</th>\n",
       "      <td>0.219835</td>\n",
       "      <td>0.237510</td>\n",
       "      <td>0.219079</td>\n",
       "      <td>0.233581</td>\n",
       "      <td>0.233581</td>\n",
       "      <td>144482988</td>\n",
       "      <td>NaN</td>\n",
       "      <td>NaN</td>\n",
       "    </tr>\n",
       "    <tr>\n",
       "      <th>2017-08-06</th>\n",
       "      <td>0.234417</td>\n",
       "      <td>0.239586</td>\n",
       "      <td>0.227825</td>\n",
       "      <td>0.228135</td>\n",
       "      <td>0.228135</td>\n",
       "      <td>93762510</td>\n",
       "      <td>-2.331525</td>\n",
       "      <td>NaN</td>\n",
       "    </tr>\n",
       "    <tr>\n",
       "      <th>2017-08-07</th>\n",
       "      <td>0.227215</td>\n",
       "      <td>0.230727</td>\n",
       "      <td>0.224493</td>\n",
       "      <td>0.226909</td>\n",
       "      <td>0.226909</td>\n",
       "      <td>73581036</td>\n",
       "      <td>-0.537401</td>\n",
       "      <td>-2.331525</td>\n",
       "    </tr>\n",
       "    <tr>\n",
       "      <th>2017-08-08</th>\n",
       "      <td>0.227646</td>\n",
       "      <td>0.246216</td>\n",
       "      <td>0.226089</td>\n",
       "      <td>0.244045</td>\n",
       "      <td>0.244045</td>\n",
       "      <td>228131481</td>\n",
       "      <td>7.551926</td>\n",
       "      <td>-0.537401</td>\n",
       "    </tr>\n",
       "    <tr>\n",
       "      <th>2017-08-09</th>\n",
       "      <td>0.243970</td>\n",
       "      <td>0.244461</td>\n",
       "      <td>0.229453</td>\n",
       "      <td>0.232251</td>\n",
       "      <td>0.232251</td>\n",
       "      <td>124163955</td>\n",
       "      <td>-4.832715</td>\n",
       "      <td>7.551926</td>\n",
       "    </tr>\n",
       "  </tbody>\n",
       "</table>\n",
       "</div>"
      ],
      "text/plain": [
       "                Open      High       Low     Close  Adj Close     Volume  \\\n",
       "Date                                                                       \n",
       "2017-08-05  0.219835  0.237510  0.219079  0.233581   0.233581  144482988   \n",
       "2017-08-06  0.234417  0.239586  0.227825  0.228135   0.228135   93762510   \n",
       "2017-08-07  0.227215  0.230727  0.224493  0.226909   0.226909   73581036   \n",
       "2017-08-08  0.227646  0.246216  0.226089  0.244045   0.244045  228131481   \n",
       "2017-08-09  0.243970  0.244461  0.229453  0.232251   0.232251  124163955   \n",
       "\n",
       "              Return  Lagged_Return  \n",
       "Date                                 \n",
       "2017-08-05       NaN            NaN  \n",
       "2017-08-06 -2.331525            NaN  \n",
       "2017-08-07 -0.537401      -2.331525  \n",
       "2017-08-08  7.551926      -0.537401  \n",
       "2017-08-09 -4.832715       7.551926  "
      ]
     },
     "execution_count": 9,
     "metadata": {},
     "output_type": "execute_result"
    }
   ],
   "source": [
    "# Create a series using \"Close\" price percentage returns, drop any NaNs, and check the results:\n",
    "# (Make sure to multiply the pct_change() results by *100)\n",
    "\n",
    "df[\"Return\"] = df[\"Close\"].pct_change()*100\n",
    "df[\"Lagged_Return\"] = df[\"Return\"].shift()\n",
    "\n",
    "df.head()"
   ]
  },
  {
   "cell_type": "code",
   "execution_count": 10,
   "metadata": {},
   "outputs": [
    {
     "data": {
      "text/html": [
       "<div>\n",
       "<style scoped>\n",
       "    .dataframe tbody tr th:only-of-type {\n",
       "        vertical-align: middle;\n",
       "    }\n",
       "\n",
       "    .dataframe tbody tr th {\n",
       "        vertical-align: top;\n",
       "    }\n",
       "\n",
       "    .dataframe thead th {\n",
       "        text-align: right;\n",
       "    }\n",
       "</style>\n",
       "<table border=\"1\" class=\"dataframe\">\n",
       "  <thead>\n",
       "    <tr style=\"text-align: right;\">\n",
       "      <th></th>\n",
       "      <th>Open</th>\n",
       "      <th>High</th>\n",
       "      <th>Low</th>\n",
       "      <th>Close</th>\n",
       "      <th>Adj Close</th>\n",
       "      <th>Volume</th>\n",
       "      <th>Return</th>\n",
       "      <th>Lagged_Return</th>\n",
       "    </tr>\n",
       "    <tr>\n",
       "      <th>Date</th>\n",
       "      <th></th>\n",
       "      <th></th>\n",
       "      <th></th>\n",
       "      <th></th>\n",
       "      <th></th>\n",
       "      <th></th>\n",
       "      <th></th>\n",
       "      <th></th>\n",
       "    </tr>\n",
       "  </thead>\n",
       "  <tbody>\n",
       "    <tr>\n",
       "      <th>2020-05-29</th>\n",
       "      <td>0.276407</td>\n",
       "      <td>0.279393</td>\n",
       "      <td>0.271496</td>\n",
       "      <td>0.273175</td>\n",
       "      <td>0.273175</td>\n",
       "      <td>2034690252</td>\n",
       "      <td>-1.132806</td>\n",
       "      <td>1.510693</td>\n",
       "    </tr>\n",
       "    <tr>\n",
       "      <th>2020-05-30</th>\n",
       "      <td>0.273176</td>\n",
       "      <td>0.284366</td>\n",
       "      <td>0.271216</td>\n",
       "      <td>0.284016</td>\n",
       "      <td>0.284016</td>\n",
       "      <td>2318117709</td>\n",
       "      <td>3.968518</td>\n",
       "      <td>-1.132806</td>\n",
       "    </tr>\n",
       "    <tr>\n",
       "      <th>2020-05-31</th>\n",
       "      <td>0.284039</td>\n",
       "      <td>0.291242</td>\n",
       "      <td>0.278043</td>\n",
       "      <td>0.279539</td>\n",
       "      <td>0.279539</td>\n",
       "      <td>2393218537</td>\n",
       "      <td>-1.576320</td>\n",
       "      <td>3.968518</td>\n",
       "    </tr>\n",
       "    <tr>\n",
       "      <th>2020-06-01</th>\n",
       "      <td>0.279440</td>\n",
       "      <td>0.286106</td>\n",
       "      <td>0.278560</td>\n",
       "      <td>0.285629</td>\n",
       "      <td>0.285629</td>\n",
       "      <td>2313438019</td>\n",
       "      <td>2.178587</td>\n",
       "      <td>-1.576320</td>\n",
       "    </tr>\n",
       "    <tr>\n",
       "      <th>2020-06-02</th>\n",
       "      <td>0.285694</td>\n",
       "      <td>0.289766</td>\n",
       "      <td>0.271597</td>\n",
       "      <td>0.271597</td>\n",
       "      <td>0.271597</td>\n",
       "      <td>2604752640</td>\n",
       "      <td>-4.912666</td>\n",
       "      <td>2.178587</td>\n",
       "    </tr>\n",
       "  </tbody>\n",
       "</table>\n",
       "</div>"
      ],
      "text/plain": [
       "                Open      High       Low     Close  Adj Close      Volume  \\\n",
       "Date                                                                        \n",
       "2020-05-29  0.276407  0.279393  0.271496  0.273175   0.273175  2034690252   \n",
       "2020-05-30  0.273176  0.284366  0.271216  0.284016   0.284016  2318117709   \n",
       "2020-05-31  0.284039  0.291242  0.278043  0.279539   0.279539  2393218537   \n",
       "2020-06-01  0.279440  0.286106  0.278560  0.285629   0.285629  2313438019   \n",
       "2020-06-02  0.285694  0.289766  0.271597  0.271597   0.271597  2604752640   \n",
       "\n",
       "              Return  Lagged_Return  \n",
       "Date                                 \n",
       "2020-05-29 -1.132806       1.510693  \n",
       "2020-05-30  3.968518      -1.132806  \n",
       "2020-05-31 -1.576320       3.968518  \n",
       "2020-06-01  2.178587      -1.576320  \n",
       "2020-06-02 -4.912666       2.178587  "
      ]
     },
     "execution_count": 10,
     "metadata": {},
     "output_type": "execute_result"
    }
   ],
   "source": [
    "# Clean df\n",
    "df = df.replace(-np.inf, np.nan).dropna()\n",
    "df.tail()"
   ]
  },
  {
   "cell_type": "code",
   "execution_count": 11,
   "metadata": {},
   "outputs": [
    {
     "data": {
      "text/plain": [
       "<matplotlib.axes._subplots.AxesSubplot at 0x1a505ff4888>"
      ]
     },
     "execution_count": 11,
     "metadata": {},
     "output_type": "execute_result"
    },
    {
     "data": {
      "image/png": "[encoded data removed]",
      "text/plain": [
       "<Figure size 432x288 with 1 Axes>"
      ]
     },
     "metadata": {
      "needs_background": "light"
     },
     "output_type": "display_data"
    }
   ],
   "source": [
    "# Plot return\n",
    "df[\"Return\"].plot()"
   ]
  },
  {
   "cell_type": "markdown",
   "metadata": {},
   "source": [
    "---"
   ]
  },
  {
   "cell_type": "markdown",
   "metadata": {},
   "source": [
    "# Linear Regression with Train/Test split"
   ]
  },
  {
   "cell_type": "code",
   "execution_count": 12,
   "metadata": {},
   "outputs": [],
   "source": [
    "# Create a train/test split for the data using 2017-2018 for training and 2019 for testing\n",
    "train_data = df[\"2017\":\"2018\"]\n",
    "test_data = df[\"2019\"]"
   ]
  },
  {
   "cell_type": "code",
   "execution_count": 15,
   "metadata": {},
   "outputs": [],
   "source": [
    "# Create four DataFrames:\n",
    "# X_train (training set using just the independent variables), X_test (test set of of just the independent variables)\n",
    "# Y_train (training set using just the \"y\" variable, i.e., \"Futures Return\"), Y_test (test set of just the \"y\" variable):\n",
    "\n",
    "X_train = train_data[\"Lagged_Return\"].to_frame()\n",
    "X_test = test_data[\"Lagged_Return\"].to_frame()\n",
    "\n",
    "y_train = train_data[\"Return\"]\n",
    "y_test = test_data[\"Return\"]"
   ]
  },
  {
   "cell_type": "code",
   "execution_count": 17,
   "metadata": {},
   "outputs": [
    {
     "data": {
      "text/plain": [
       "LinearRegression()"
      ]
     },
     "execution_count": 17,
     "metadata": {},
     "output_type": "execute_result"
    }
   ],
   "source": [
    "# Create a Linear Regression model and fit it to the training data\n",
    "from sklearn.linear_model import LinearRegression\n",
    "\n",
    "model = LinearRegression()\n",
    "\n",
    "# Fit a SKLearn linear regression using just the training set (X_train, Y_train):\n",
    "model.fit(X_train, y_train)"
   ]
  },
  {
   "cell_type": "markdown",
   "metadata": {},
   "source": [
    "# Make predictions using the Testing Data\n",
    "\n",
    "Note: We want to evaluate the model using data that it has never seen before, in this case: X_test."
   ]
  },
  {
   "cell_type": "code",
   "execution_count": 18,
   "metadata": {},
   "outputs": [],
   "source": [
    "# Make a prediction of \"y\" values using just the test dataset\n",
    "predictions = model.predict(X_test)"
   ]
  },
  {
   "cell_type": "code",
   "execution_count": 19,
   "metadata": {},
   "outputs": [
    {
     "data": {
      "text/html": [
       "<div>\n",
       "<style scoped>\n",
       "    .dataframe tbody tr th:only-of-type {\n",
       "        vertical-align: middle;\n",
       "    }\n",
       "\n",
       "    .dataframe tbody tr th {\n",
       "        vertical-align: top;\n",
       "    }\n",
       "\n",
       "    .dataframe thead th {\n",
       "        text-align: right;\n",
       "    }\n",
       "</style>\n",
       "<table border=\"1\" class=\"dataframe\">\n",
       "  <thead>\n",
       "    <tr style=\"text-align: right;\">\n",
       "      <th></th>\n",
       "      <th>Return</th>\n",
       "      <th>Predicted</th>\n",
       "    </tr>\n",
       "    <tr>\n",
       "      <th>Date</th>\n",
       "      <th></th>\n",
       "      <th></th>\n",
       "    </tr>\n",
       "  </thead>\n",
       "  <tbody>\n",
       "    <tr>\n",
       "      <th>2019-01-01</th>\n",
       "      <td>3.274942</td>\n",
       "      <td>0.080079</td>\n",
       "    </tr>\n",
       "    <tr>\n",
       "      <th>2019-01-02</th>\n",
       "      <td>2.934295</td>\n",
       "      <td>0.691393</td>\n",
       "    </tr>\n",
       "    <tr>\n",
       "      <th>2019-01-03</th>\n",
       "      <td>-5.091100</td>\n",
       "      <td>0.664396</td>\n",
       "    </tr>\n",
       "    <tr>\n",
       "      <th>2019-01-04</th>\n",
       "      <td>-1.731090</td>\n",
       "      <td>0.028386</td>\n",
       "    </tr>\n",
       "    <tr>\n",
       "      <th>2019-01-05</th>\n",
       "      <td>-0.426041</td>\n",
       "      <td>0.294666</td>\n",
       "    </tr>\n",
       "  </tbody>\n",
       "</table>\n",
       "</div>"
      ],
      "text/plain": [
       "              Return  Predicted\n",
       "Date                           \n",
       "2019-01-01  3.274942   0.080079\n",
       "2019-01-02  2.934295   0.691393\n",
       "2019-01-03 -5.091100   0.664396\n",
       "2019-01-04 -1.731090   0.028386\n",
       "2019-01-05 -0.426041   0.294666"
      ]
     },
     "execution_count": 19,
     "metadata": {},
     "output_type": "execute_result"
    }
   ],
   "source": [
    "# Assemble actual y data (Y_test) with predicted y data (from just above) into two columns in a DataFrame:\n",
    "Results = y_test.to_frame()\n",
    "Results[\"Predicted\"] = predictions\n",
    "Results.head()"
   ]
  },
  {
   "cell_type": "code",
   "execution_count": 20,
   "metadata": {},
   "outputs": [
    {
     "data": {
      "text/plain": [
       "array([<matplotlib.axes._subplots.AxesSubplot object at 0x000001A50868D788>,\n",
       "       <matplotlib.axes._subplots.AxesSubplot object at 0x000001A5086A2B08>],\n",
       "      dtype=object)"
      ]
     },
     "execution_count": 20,
     "metadata": {},
     "output_type": "execute_result"
    },
    {
     "data": {
      "image/png": "[encoded data removed]",
      "text/plain": [
       "<Figure size 432x288 with 2 Axes>"
      ]
     },
     "metadata": {
      "needs_background": "light"
     },
     "output_type": "display_data"
    }
   ],
   "source": [
    "# Plot the first 20 predictions vs the true values\n",
    "Results[:20].plot(subplots=True)"
   ]
  },
  {
   "cell_type": "code",
   "execution_count": 21,
   "metadata": {},
   "outputs": [
    {
     "data": {
      "text/plain": [
       "<matplotlib.axes._subplots.AxesSubplot at 0x1a508e3c788>"
      ]
     },
     "execution_count": 21,
     "metadata": {},
     "output_type": "execute_result"
    },
    {
     "data": {
      "image/png": "[encoded data removed]",
      "text/plain": [
       "<Figure size 432x288 with 1 Axes>"
      ]
     },
     "metadata": {
      "needs_background": "light"
     },
     "output_type": "display_data"
    }
   ],
   "source": [
    "Results.plot()"
   ]
  },
  {
   "cell_type": "markdown",
   "metadata": {},
   "source": [
    "# Out-of-Sample Performance\n",
    "\n",
    "Evaluate the model using \"out-of-sample\" data (X_test and y_test)"
   ]
  },
  {
   "cell_type": "code",
   "execution_count": 26,
   "metadata": {},
   "outputs": [
    {
     "name": "stdout",
     "output_type": "stream",
     "text": [
      "Out of sample MSE is 14.07875470814452.\n",
      "Out of sample RMSE is 3.7521666684922885\n"
     ]
    }
   ],
   "source": [
    "from sklearn.metrics import mean_squared_error, r2_score\n",
    "\n",
    "# Calculate the mean_squared_error (MSE) on actual versus predicted test \"y\" \n",
    "# (Hint: use the DataFrame above)\n",
    "mse = mean_squared_error(Results[\"Return\"],\n",
    "                         Results[\"Predicted\"])\n",
    "\n",
    "print(f\"Out of sample MSE is {mse}.\")\n",
    "\n",
    "# Using that mean-squared-error, calculate the root-mean-squared error (RMSE):\n",
    "rmse = np.sqrt(mse)\n",
    "print(f\"Out of sample RMSE is {rmse}\")"
   ]
  },
  {
   "cell_type": "markdown",
   "metadata": {},
   "source": [
    "# In-Sample Performance\n",
    "\n",
    "Evaluate the model using in-sample data (X_train and y_train)"
   ]
  },
  {
   "cell_type": "code",
   "execution_count": 35,
   "metadata": {},
   "outputs": [
    {
     "name": "stdout",
     "output_type": "stream",
     "text": [
      "In sample MSE is 73.40985267487545\n",
      "In sample RMSE is 8.567954987911378\n"
     ]
    }
   ],
   "source": [
    "# Construct a DataFrame using just the \"y\" training data:\n",
    "in_sample = y_train.to_frame()\n",
    "#in_sample.head()\n",
    "\n",
    "# Add a column of \"in-sample\" predictions to that DataFrame:  \n",
    "in_sample[\"In_Sample_Predictions\"] = model.predict(X_train)\n",
    "\n",
    "# Calculate in-sample mean_squared_error (for comparison to out-of-sample)\n",
    "in_sample_mse = mean_squared_error(in_sample[\"Return\"],\n",
    "                                   in_sample[\"In_Sample_Predictions\"])\n",
    "\n",
    "print(f\"In sample MSE is {in_sample_mse}\")\n",
    "\n",
    "# Calculate in-sample root mean_squared_error (for comparison to out-of-sample)\n",
    "in_sample_rmse = np.sqrt(in_sample_mse)\n",
    "\n",
    "print(f\"In sample RMSE is {in_sample_rmse}\")"
   ]
  },
  {
   "cell_type": "markdown",
   "metadata": {},
   "source": [
    "---"
   ]
  },
  {
   "cell_type": "markdown",
   "metadata": {},
   "source": [
    "Question: How does the model perform out-of-sample (on data that it has never seen before)? Are the predictions as good as, better, or worse than those that were observed for the training dataset?\n",
    "\n",
    "Answer: The out-of-sample RMSE is lower than the in-sample RMSE. RMSE is typically lower for training data, but is higher in this case."
   ]
  }
 ],
 "metadata": {
  "kernelspec": {
   "display_name": "Python 3",
   "language": "python",
   "name": "python3"
  },
  "language_info": {
   "codemirror_mode": {
    "name": "ipython",
    "version": 3
   },
   "file_extension": ".py",
   "mimetype": "text/x-python",
   "name": "python",
   "nbconvert_exporter": "python",
   "pygments_lexer": "ipython3",
   "version": "3.7.10"
  }
 },
 "nbformat": 4,
 "nbformat_minor": 4
}
