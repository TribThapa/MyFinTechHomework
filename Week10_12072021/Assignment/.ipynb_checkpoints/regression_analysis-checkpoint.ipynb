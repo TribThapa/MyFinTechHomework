{
 "cells": [
  {
   "cell_type": "code",
   "execution_count": 2,
   "metadata": {},
   "outputs": [],
   "source": [
    "import numpy as np\n",
    "import pandas as pd\n",
    "%matplotlib inline"
   ]
  },
  {
   "cell_type": "markdown",
   "metadata": {},
   "source": [
    "# Regression Analysis: Seasonal Effects with Sklearn Linear Regression\n",
    "In this notebook, you will build a SKLearn linear regression model to predict Yen futures (\"settle\") returns with *lagged* CAD/JPY exchange rate returns. "
   ]
  },
  {
   "cell_type": "code",
   "execution_count": 3,
   "metadata": {},
   "outputs": [
    {
     "data": {
      "text/html": [
       "<div>\n",
       "<style scoped>\n",
       "    .dataframe tbody tr th:only-of-type {\n",
       "        vertical-align: middle;\n",
       "    }\n",
       "\n",
       "    .dataframe tbody tr th {\n",
       "        vertical-align: top;\n",
       "    }\n",
       "\n",
       "    .dataframe thead th {\n",
       "        text-align: right;\n",
       "    }\n",
       "</style>\n",
       "<table border=\"1\" class=\"dataframe\">\n",
       "  <thead>\n",
       "    <tr style=\"text-align: right;\">\n",
       "      <th></th>\n",
       "      <th>Price</th>\n",
       "      <th>Open</th>\n",
       "      <th>High</th>\n",
       "      <th>Low</th>\n",
       "    </tr>\n",
       "    <tr>\n",
       "      <th>Date</th>\n",
       "      <th></th>\n",
       "      <th></th>\n",
       "      <th></th>\n",
       "      <th></th>\n",
       "    </tr>\n",
       "  </thead>\n",
       "  <tbody>\n",
       "    <tr>\n",
       "      <th>1982-01-05</th>\n",
       "      <td>184.65</td>\n",
       "      <td>184.65</td>\n",
       "      <td>184.65</td>\n",
       "      <td>184.65</td>\n",
       "    </tr>\n",
       "    <tr>\n",
       "      <th>1982-01-06</th>\n",
       "      <td>185.06</td>\n",
       "      <td>185.06</td>\n",
       "      <td>185.06</td>\n",
       "      <td>185.06</td>\n",
       "    </tr>\n",
       "    <tr>\n",
       "      <th>1982-01-07</th>\n",
       "      <td>186.88</td>\n",
       "      <td>186.88</td>\n",
       "      <td>186.88</td>\n",
       "      <td>186.88</td>\n",
       "    </tr>\n",
       "    <tr>\n",
       "      <th>1982-01-08</th>\n",
       "      <td>186.58</td>\n",
       "      <td>186.58</td>\n",
       "      <td>186.58</td>\n",
       "      <td>186.58</td>\n",
       "    </tr>\n",
       "    <tr>\n",
       "      <th>1982-01-11</th>\n",
       "      <td>187.64</td>\n",
       "      <td>187.64</td>\n",
       "      <td>187.64</td>\n",
       "      <td>187.64</td>\n",
       "    </tr>\n",
       "  </tbody>\n",
       "</table>\n",
       "</div>"
      ],
      "text/plain": [
       "             Price    Open    High     Low\n",
       "Date                                      \n",
       "1982-01-05  184.65  184.65  184.65  184.65\n",
       "1982-01-06  185.06  185.06  185.06  185.06\n",
       "1982-01-07  186.88  186.88  186.88  186.88\n",
       "1982-01-08  186.58  186.58  186.58  186.58\n",
       "1982-01-11  187.64  187.64  187.64  187.64"
      ]
     },
     "execution_count": 3,
     "metadata": {},
     "output_type": "execute_result"
    }
   ],
   "source": [
    "# Currency pair exchange rates for CAD/JPY\n",
    "cad_jpy_df = pd.read_csv((r'C:\\Users\\TribThapa\\Desktop\\Thapa\\ResearchFellow\\Courses\\FinTech_Bootcamp_MonashUni2021\\monu-mel-virt-fin-pt-05-2021-u-c\\Homework\\Week 10\\Instructions\\Starter_Code\\cad_jpy.csv'),\n",
    "                         index_col=\"Date\", \n",
    "                         infer_datetime_format=True,\n",
    "                         parse_dates=True)\n",
    "\n",
    "cad_jpy_df.head()"
   ]
  },
  {
   "cell_type": "code",
   "execution_count": 4,
   "metadata": {},
   "outputs": [
    {
     "data": {
      "text/html": [
       "<div>\n",
       "<style scoped>\n",
       "    .dataframe tbody tr th:only-of-type {\n",
       "        vertical-align: middle;\n",
       "    }\n",
       "\n",
       "    .dataframe tbody tr th {\n",
       "        vertical-align: top;\n",
       "    }\n",
       "\n",
       "    .dataframe thead th {\n",
       "        text-align: right;\n",
       "    }\n",
       "</style>\n",
       "<table border=\"1\" class=\"dataframe\">\n",
       "  <thead>\n",
       "    <tr style=\"text-align: right;\">\n",
       "      <th></th>\n",
       "      <th>Price</th>\n",
       "      <th>Open</th>\n",
       "      <th>High</th>\n",
       "      <th>Low</th>\n",
       "    </tr>\n",
       "    <tr>\n",
       "      <th>Date</th>\n",
       "      <th></th>\n",
       "      <th></th>\n",
       "      <th></th>\n",
       "      <th></th>\n",
       "    </tr>\n",
       "  </thead>\n",
       "  <tbody>\n",
       "    <tr>\n",
       "      <th>1990-01-02</th>\n",
       "      <td>126.37</td>\n",
       "      <td>126.31</td>\n",
       "      <td>126.37</td>\n",
       "      <td>126.31</td>\n",
       "    </tr>\n",
       "    <tr>\n",
       "      <th>1990-01-03</th>\n",
       "      <td>125.30</td>\n",
       "      <td>125.24</td>\n",
       "      <td>125.30</td>\n",
       "      <td>125.24</td>\n",
       "    </tr>\n",
       "    <tr>\n",
       "      <th>1990-01-04</th>\n",
       "      <td>123.46</td>\n",
       "      <td>123.41</td>\n",
       "      <td>123.46</td>\n",
       "      <td>123.41</td>\n",
       "    </tr>\n",
       "    <tr>\n",
       "      <th>1990-01-05</th>\n",
       "      <td>124.54</td>\n",
       "      <td>124.48</td>\n",
       "      <td>124.54</td>\n",
       "      <td>124.48</td>\n",
       "    </tr>\n",
       "    <tr>\n",
       "      <th>1990-01-08</th>\n",
       "      <td>124.27</td>\n",
       "      <td>124.21</td>\n",
       "      <td>124.27</td>\n",
       "      <td>124.21</td>\n",
       "    </tr>\n",
       "  </tbody>\n",
       "</table>\n",
       "</div>"
      ],
      "text/plain": [
       "             Price    Open    High     Low\n",
       "Date                                      \n",
       "1990-01-02  126.37  126.31  126.37  126.31\n",
       "1990-01-03  125.30  125.24  125.30  125.24\n",
       "1990-01-04  123.46  123.41  123.46  123.41\n",
       "1990-01-05  124.54  124.48  124.54  124.48\n",
       "1990-01-08  124.27  124.21  124.27  124.21"
      ]
     },
     "execution_count": 4,
     "metadata": {},
     "output_type": "execute_result"
    }
   ],
   "source": [
    "# Trim the dataset to begin on January 1st, 1990\n",
    "cad_jpy_df = cad_jpy_df.loc[\"1990-01-01\":, :]\n",
    "cad_jpy_df.head()"
   ]
  },
  {
   "cell_type": "markdown",
   "metadata": {},
   "source": [
    "# Data Preparation"
   ]
  },
  {
   "cell_type": "markdown",
   "metadata": {},
   "source": [
    "### Returns"
   ]
  },
  {
   "cell_type": "code",
   "execution_count": 6,
   "metadata": {},
   "outputs": [
    {
     "data": {
      "text/html": [
       "<div>\n",
       "<style scoped>\n",
       "    .dataframe tbody tr th:only-of-type {\n",
       "        vertical-align: middle;\n",
       "    }\n",
       "\n",
       "    .dataframe tbody tr th {\n",
       "        vertical-align: top;\n",
       "    }\n",
       "\n",
       "    .dataframe thead th {\n",
       "        text-align: right;\n",
       "    }\n",
       "</style>\n",
       "<table border=\"1\" class=\"dataframe\">\n",
       "  <thead>\n",
       "    <tr style=\"text-align: right;\">\n",
       "      <th></th>\n",
       "      <th>Price</th>\n",
       "      <th>Open</th>\n",
       "      <th>High</th>\n",
       "      <th>Low</th>\n",
       "      <th>Return</th>\n",
       "    </tr>\n",
       "    <tr>\n",
       "      <th>Date</th>\n",
       "      <th></th>\n",
       "      <th></th>\n",
       "      <th></th>\n",
       "      <th></th>\n",
       "      <th></th>\n",
       "    </tr>\n",
       "  </thead>\n",
       "  <tbody>\n",
       "    <tr>\n",
       "      <th>2020-05-29</th>\n",
       "      <td>78.29</td>\n",
       "      <td>78.21</td>\n",
       "      <td>78.41</td>\n",
       "      <td>77.75</td>\n",
       "      <td>0.076697</td>\n",
       "    </tr>\n",
       "    <tr>\n",
       "      <th>2020-06-01</th>\n",
       "      <td>79.27</td>\n",
       "      <td>78.21</td>\n",
       "      <td>79.36</td>\n",
       "      <td>78.04</td>\n",
       "      <td>1.251756</td>\n",
       "    </tr>\n",
       "    <tr>\n",
       "      <th>2020-06-02</th>\n",
       "      <td>80.40</td>\n",
       "      <td>79.26</td>\n",
       "      <td>80.56</td>\n",
       "      <td>79.15</td>\n",
       "      <td>1.425508</td>\n",
       "    </tr>\n",
       "    <tr>\n",
       "      <th>2020-06-03</th>\n",
       "      <td>80.70</td>\n",
       "      <td>80.40</td>\n",
       "      <td>80.82</td>\n",
       "      <td>79.96</td>\n",
       "      <td>0.373134</td>\n",
       "    </tr>\n",
       "    <tr>\n",
       "      <th>2020-06-04</th>\n",
       "      <td>80.71</td>\n",
       "      <td>80.80</td>\n",
       "      <td>80.89</td>\n",
       "      <td>80.51</td>\n",
       "      <td>0.012392</td>\n",
       "    </tr>\n",
       "  </tbody>\n",
       "</table>\n",
       "</div>"
      ],
      "text/plain": [
       "            Price   Open   High    Low    Return\n",
       "Date                                            \n",
       "2020-05-29  78.29  78.21  78.41  77.75  0.076697\n",
       "2020-06-01  79.27  78.21  79.36  78.04  1.251756\n",
       "2020-06-02  80.40  79.26  80.56  79.15  1.425508\n",
       "2020-06-03  80.70  80.40  80.82  79.96  0.373134\n",
       "2020-06-04  80.71  80.80  80.89  80.51  0.012392"
      ]
     },
     "execution_count": 6,
     "metadata": {},
     "output_type": "execute_result"
    }
   ],
   "source": [
    "# Create a series using \"Price\" percentage returns, drop any nan\"s, and check the results.\n",
    "# (Make sure to multiply the pct_change() results by 100)\n",
    "# In this case, you may have to replace inf, -inf values with np.nan\"s\n",
    "cad_jpy_df[\"Return\"] = cad_jpy_df[\"Price\"].pct_change()*100\n",
    "cad_jpy_df = cad_jpy_df.replace(-np.inf, np.nan).dropna()\n",
    "cad_jpy_df.tail()"
   ]
  },
  {
   "cell_type": "markdown",
   "metadata": {},
   "source": [
    "### Lagged Returns "
   ]
  },
  {
   "cell_type": "code",
   "execution_count": 9,
   "metadata": {},
   "outputs": [
    {
     "data": {
      "text/html": [
       "<div>\n",
       "<style scoped>\n",
       "    .dataframe tbody tr th:only-of-type {\n",
       "        vertical-align: middle;\n",
       "    }\n",
       "\n",
       "    .dataframe tbody tr th {\n",
       "        vertical-align: top;\n",
       "    }\n",
       "\n",
       "    .dataframe thead th {\n",
       "        text-align: right;\n",
       "    }\n",
       "</style>\n",
       "<table border=\"1\" class=\"dataframe\">\n",
       "  <thead>\n",
       "    <tr style=\"text-align: right;\">\n",
       "      <th></th>\n",
       "      <th>Price</th>\n",
       "      <th>Open</th>\n",
       "      <th>High</th>\n",
       "      <th>Low</th>\n",
       "      <th>Return</th>\n",
       "      <th>Lagged_Return</th>\n",
       "    </tr>\n",
       "    <tr>\n",
       "      <th>Date</th>\n",
       "      <th></th>\n",
       "      <th></th>\n",
       "      <th></th>\n",
       "      <th></th>\n",
       "      <th></th>\n",
       "      <th></th>\n",
       "    </tr>\n",
       "  </thead>\n",
       "  <tbody>\n",
       "    <tr>\n",
       "      <th>2020-05-29</th>\n",
       "      <td>78.29</td>\n",
       "      <td>78.21</td>\n",
       "      <td>78.41</td>\n",
       "      <td>77.75</td>\n",
       "      <td>0.076697</td>\n",
       "      <td>-0.114913</td>\n",
       "    </tr>\n",
       "    <tr>\n",
       "      <th>2020-06-01</th>\n",
       "      <td>79.27</td>\n",
       "      <td>78.21</td>\n",
       "      <td>79.36</td>\n",
       "      <td>78.04</td>\n",
       "      <td>1.251756</td>\n",
       "      <td>0.076697</td>\n",
       "    </tr>\n",
       "    <tr>\n",
       "      <th>2020-06-02</th>\n",
       "      <td>80.40</td>\n",
       "      <td>79.26</td>\n",
       "      <td>80.56</td>\n",
       "      <td>79.15</td>\n",
       "      <td>1.425508</td>\n",
       "      <td>1.251756</td>\n",
       "    </tr>\n",
       "    <tr>\n",
       "      <th>2020-06-03</th>\n",
       "      <td>80.70</td>\n",
       "      <td>80.40</td>\n",
       "      <td>80.82</td>\n",
       "      <td>79.96</td>\n",
       "      <td>0.373134</td>\n",
       "      <td>1.425508</td>\n",
       "    </tr>\n",
       "    <tr>\n",
       "      <th>2020-06-04</th>\n",
       "      <td>80.71</td>\n",
       "      <td>80.80</td>\n",
       "      <td>80.89</td>\n",
       "      <td>80.51</td>\n",
       "      <td>0.012392</td>\n",
       "      <td>0.373134</td>\n",
       "    </tr>\n",
       "  </tbody>\n",
       "</table>\n",
       "</div>"
      ],
      "text/plain": [
       "            Price   Open   High    Low    Return  Lagged_Return\n",
       "Date                                                           \n",
       "2020-05-29  78.29  78.21  78.41  77.75  0.076697      -0.114913\n",
       "2020-06-01  79.27  78.21  79.36  78.04  1.251756       0.076697\n",
       "2020-06-02  80.40  79.26  80.56  79.15  1.425508       1.251756\n",
       "2020-06-03  80.70  80.40  80.82  79.96  0.373134       1.425508\n",
       "2020-06-04  80.71  80.80  80.89  80.51  0.012392       0.373134"
      ]
     },
     "execution_count": 9,
     "metadata": {},
     "output_type": "execute_result"
    }
   ],
   "source": [
    "# Create a lagged return using the shift function\n",
    "cad_jpy_df[\"Lagged_Return\"] = cad_jpy_df[\"Return\"].shift()\n",
    "cad_jpy_df = cad_jpy_df.dropna()\n",
    "\n",
    "cad_jpy_df.tail()"
   ]
  },
  {
   "cell_type": "markdown",
   "metadata": {},
   "source": [
    "### Train Test Split"
   ]
  },
  {
   "cell_type": "code",
   "execution_count": 13,
   "metadata": {},
   "outputs": [],
   "source": [
    "# Create a train/test split for the data using 2018-2019 for testing and the rest for training\n",
    "train = cad_jpy_df[: \"2017\"]\n",
    "test = cad_jpy_df[\"2018\":]"
   ]
  },
  {
   "cell_type": "code",
   "execution_count": 25,
   "metadata": {},
   "outputs": [],
   "source": [
    "# Create four dataframes:\n",
    "# X_train (training set using just the independent variables), X_test (test set of of just the independent variables)\n",
    "# Y_train (training set using just the \"y\" variable, i.e., \"Futures Return\"), Y_test (test set of just the \"y\" variable):\n",
    "X_train = train[\"Lagged_Return\"].to_frame()\n",
    "X_test = test[\"Lagged_Return\"].to_frame()\n",
    "\n",
    "y_train = train[\"Return\"]\n",
    "y_test = test[\"Return\"]"
   ]
  },
  {
   "cell_type": "code",
   "execution_count": 26,
   "metadata": {},
   "outputs": [
    {
     "data": {
      "text/html": [
       "<div>\n",
       "<style scoped>\n",
       "    .dataframe tbody tr th:only-of-type {\n",
       "        vertical-align: middle;\n",
       "    }\n",
       "\n",
       "    .dataframe tbody tr th {\n",
       "        vertical-align: top;\n",
       "    }\n",
       "\n",
       "    .dataframe thead th {\n",
       "        text-align: right;\n",
       "    }\n",
       "</style>\n",
       "<table border=\"1\" class=\"dataframe\">\n",
       "  <thead>\n",
       "    <tr style=\"text-align: right;\">\n",
       "      <th></th>\n",
       "      <th>Lagged_Return</th>\n",
       "    </tr>\n",
       "    <tr>\n",
       "      <th>Date</th>\n",
       "      <th></th>\n",
       "    </tr>\n",
       "  </thead>\n",
       "  <tbody>\n",
       "    <tr>\n",
       "      <th>1990-01-05</th>\n",
       "      <td>-1.468476</td>\n",
       "    </tr>\n",
       "    <tr>\n",
       "      <th>1990-01-08</th>\n",
       "      <td>0.874777</td>\n",
       "    </tr>\n",
       "    <tr>\n",
       "      <th>1990-01-09</th>\n",
       "      <td>-0.216798</td>\n",
       "    </tr>\n",
       "    <tr>\n",
       "      <th>1990-01-10</th>\n",
       "      <td>0.667901</td>\n",
       "    </tr>\n",
       "    <tr>\n",
       "      <th>1990-01-11</th>\n",
       "      <td>0.567546</td>\n",
       "    </tr>\n",
       "  </tbody>\n",
       "</table>\n",
       "</div>"
      ],
      "text/plain": [
       "            Lagged_Return\n",
       "Date                     \n",
       "1990-01-05      -1.468476\n",
       "1990-01-08       0.874777\n",
       "1990-01-09      -0.216798\n",
       "1990-01-10       0.667901\n",
       "1990-01-11       0.567546"
      ]
     },
     "execution_count": 26,
     "metadata": {},
     "output_type": "execute_result"
    }
   ],
   "source": [
    "# Preview the X_train data\n",
    "X_train.head()"
   ]
  },
  {
   "cell_type": "markdown",
   "metadata": {},
   "source": [
    "# Linear Regression Model"
   ]
  },
  {
   "cell_type": "code",
   "execution_count": 27,
   "metadata": {},
   "outputs": [
    {
     "data": {
      "text/plain": [
       "LinearRegression()"
      ]
     },
     "execution_count": 27,
     "metadata": {},
     "output_type": "execute_result"
    }
   ],
   "source": [
    "# Create a Linear Regression model and fit it to the training data\n",
    "from sklearn.linear_model import LinearRegression\n",
    "\n",
    "# Fit a SKLearn linear regression using  just the training set (X_train, Y_train):\n",
    "model = LinearRegression()\n",
    "\n",
    "model.fit(X_train, y_train)"
   ]
  },
  {
   "cell_type": "markdown",
   "metadata": {},
   "source": [
    "# Make predictions using the Testing Data\n",
    "\n",
    "**Note:** We want to evaluate the model using data that it has never seen before, in this case: `X_test`."
   ]
  },
  {
   "cell_type": "code",
   "execution_count": 29,
   "metadata": {},
   "outputs": [
    {
     "data": {
      "text/plain": [
       "array([ 5.70066117e-03, -7.17266865e-03,  5.57943874e-04, -1.15669834e-03,\n",
       "       -1.63080155e-02, -2.44564838e-02,  1.38182261e-03,  1.77296071e-02,\n",
       "        4.39825675e-02, -2.60438703e-03, -8.66670277e-03,  4.88646536e-03,\n",
       "        2.30282007e-03, -1.87805742e-02, -1.44452247e-03,  2.14996952e-02,\n",
       "       -1.38903468e-02,  7.76509404e-03,  1.06826056e-02,  1.45033837e-03,\n",
       "        5.81227935e-04, -8.70791983e-04,  2.61602890e-03, -1.48370536e-02,\n",
       "       -1.59190044e-02,  1.58158945e-02,  4.51731677e-02, -2.15121011e-02,\n",
       "        2.07758918e-02,  1.97800096e-02, -7.41370010e-03,  1.79904459e-03,\n",
       "        2.22918916e-02, -2.36910426e-03,  1.79969257e-02,  1.05940363e-02,\n",
       "       -6.62893328e-03, -8.70791983e-04, -2.66028938e-04,  2.36278852e-02,\n",
       "       -1.91928884e-02,  8.22530727e-03,  8.56194816e-03,  2.60048144e-02,\n",
       "        1.11660584e-02,  1.89750829e-02,  5.06687485e-03, -1.65324717e-02,\n",
       "        7.22387552e-03, -7.11716394e-03, -3.20268095e-02,  1.45203405e-02,\n",
       "        1.95680969e-02,  2.87520743e-03,  1.81992111e-02,  1.64522138e-02,\n",
       "       -7.52998645e-03, -1.25732886e-02, -2.32249860e-02,  2.56601429e-02,\n",
       "        2.91388294e-03, -2.77185044e-02,  9.13192542e-03, -2.97411458e-02,\n",
       "        1.92205920e-03,  4.72099649e-03,  1.18938760e-02, -3.90433528e-02,\n",
       "       -1.28946265e-02, -1.95895896e-02,  1.71031563e-02, -1.43696469e-02,\n",
       "       -3.07790866e-02,  4.25760717e-03, -1.32640531e-02,  4.84482143e-03,\n",
       "       -5.09169839e-03, -1.77378656e-03,  9.96133109e-03,  4.87039765e-03,\n",
       "        9.42595373e-03, -7.56023519e-03, -6.32974161e-03, -1.32786695e-02,\n",
       "        6.65857891e-03, -2.38109781e-03, -4.49339377e-03, -1.29291078e-02,\n",
       "        6.93045329e-03,  6.95424316e-03,  9.40508911e-04,  6.68162619e-03,\n",
       "        1.18547250e-02, -3.46701352e-02, -1.01875286e-02,  4.21990275e-03,\n",
       "       -2.97112725e-03, -4.76822449e-03, -1.91310096e-02, -5.92374729e-03,\n",
       "        1.48515790e-02, -2.71367970e-02,  9.47006420e-03,  2.04879006e-02,\n",
       "        2.81456374e-02,  1.36520781e-02,  2.47630936e-03,  1.95427254e-02,\n",
       "       -3.28115458e-02,  1.76333557e-02, -2.01204472e-02, -1.08788663e-02,\n",
       "        7.89001310e-03, -1.57242439e-02,  1.60068845e-02, -6.02829532e-03,\n",
       "       -2.08188796e-03, -1.47605430e-03, -5.71174866e-03,  1.54366716e-02,\n",
       "        1.73645007e-02,  1.57798254e-03,  2.70106258e-02, -2.72932139e-03,\n",
       "        8.10559866e-03, -8.63622474e-03,  8.10993194e-03, -4.60000540e-03,\n",
       "        6.01584100e-05, -2.44634280e-02, -2.73244992e-02,  4.60953227e-03,\n",
       "       -3.00659070e-03,  2.48267191e-03, -6.06019993e-03, -7.26829900e-03,\n",
       "       -4.51741860e-03, -3.90533503e-03, -6.02342170e-03, -2.35574264e-02,\n",
       "        5.12595866e-03, -4.47727069e-03, -3.27173664e-03, -4.46884237e-03,\n",
       "        2.75738885e-02,  3.75299993e-05,  4.88395098e-03, -1.17435398e-03,\n",
       "       -1.66541489e-02, -1.47413306e-03, -8.70791983e-04, -4.48998747e-03,\n",
       "       -2.55671285e-02,  2.11224638e-03,  4.80357748e-03,  1.22439841e-03,\n",
       "       -1.17034949e-03,  9.31297438e-03,  2.43708398e-03,  2.14024956e-03,\n",
       "        2.05327185e-02,  2.16914357e-03, -2.61321841e-02,  2.53498840e-02,\n",
       "       -2.08878633e-03, -1.00014156e-02,  6.71108250e-03, -8.47513527e-03,\n",
       "       -1.45181661e-02, -1.47413306e-03, -1.02203803e-02, -8.98441878e-03,\n",
       "       -1.07561897e-02, -1.72832269e-02,  2.99663929e-02,  8.73298664e-03,\n",
       "        9.07031119e-03,  9.10897429e-03, -4.21036908e-03,  9.74132381e-03,\n",
       "       -5.43772886e-03, -5.66870438e-04, -3.18744616e-02, -5.97638224e-03,\n",
       "       -1.58574150e-02,  3.30109681e-03,  5.69570926e-03, -2.66056988e-02,\n",
       "       -1.06477596e-02, -8.24947153e-03, -2.82190171e-04,  2.07289231e-03,\n",
       "       -5.29138966e-03,  1.79579875e-02, -1.15402706e-02, -3.48127179e-02,\n",
       "       -2.41743188e-02,  6.34601981e-03, -1.12923111e-02,  2.39243570e-02,\n",
       "        6.11630019e-03,  1.57688607e-02,  1.47984088e-03,  3.82443114e-02,\n",
       "       -5.94785939e-03, -2.95722098e-03,  3.00085667e-03, -2.35392483e-02,\n",
       "        6.81629750e-03,  2.25563152e-02, -6.25779604e-03, -6.84381247e-03,\n",
       "        4.49244220e-03, -2.66228111e-03, -8.70791983e-04,  1.79267202e-02,\n",
       "       -6.58171882e-03, -2.24641406e-02,  1.16202144e-02, -9.23886429e-03,\n",
       "       -7.42433403e-03, -2.76533159e-04, -3.84277438e-03, -5.02675385e-03,\n",
       "       -4.72365925e-03,  1.54053616e-02,  5.68122881e-03, -2.36369959e-03,\n",
       "        3.90373454e-03, -1.28293594e-02,  1.10323025e-02,  1.01908829e-02,\n",
       "        2.04475653e-02, -2.17621976e-02, -6.87736876e-03,  8.41765939e-03,\n",
       "       -1.25987159e-02,  3.32007764e-03, -3.26949224e-03,  5.71947316e-03,\n",
       "        2.13249641e-03, -2.46245720e-02,  3.19007227e-02,  7.57896326e-03,\n",
       "        1.51762297e-02, -1.33626459e-02, -2.64385366e-04, -2.99371684e-03,\n",
       "       -6.32522902e-03, -8.43033004e-03,  1.11889406e-02,  1.54867241e-02,\n",
       "        1.77256896e-02,  3.73549619e-03,  3.08159349e-02,  1.78182801e-02,\n",
       "        1.82691671e-02, -2.38536322e-04, -2.96455145e-02,  1.60149646e-02,\n",
       "        1.99040649e-02,  1.56308775e-02, -4.06472975e-03,  7.10412597e-03,\n",
       "        1.12888744e-02, -4.39537749e-02, -1.98431365e-02, -6.20683641e-03,\n",
       "        6.89087982e-05, -1.81083702e-03,  1.94831036e-03,  1.19859102e-02,\n",
       "       -1.66286500e-02, -1.30869021e-02,  6.44563222e-05, -1.70876733e-02,\n",
       "        8.11643971e-03,  1.77888342e-02, -8.70258786e-03, -2.46154787e-04,\n",
       "       -2.43003902e-02,  1.21310663e-02,  6.26418475e-05, -1.58111681e-02,\n",
       "       -2.72752831e-03, -1.94247298e-02, -8.23908947e-03,  3.53741350e-04,\n",
       "        1.62808597e-02,  2.04047022e-02, -4.29089444e-03, -1.11174421e-02,\n",
       "       -1.63342703e-02, -9.47846765e-03,  1.87381172e-02, -1.01332499e-02,\n",
       "       -5.17772573e-03, -7.01324465e-03, -1.28199710e-02,  1.34627534e-02,\n",
       "       -1.89650392e-02,  9.56416372e-04,  6.13849790e-03, -1.24830779e-02,\n",
       "       -7.86761721e-03,  1.15678925e-02,  4.61669439e-03,  4.01742728e-03,\n",
       "        2.02498882e-02,  5.30195182e-03,  1.60425948e-03, -6.13535428e-03,\n",
       "       -1.19964509e-02, -5.48647060e-03, -8.24261750e-03,  4.94851840e-03,\n",
       "        5.01350178e-05, -2.40622137e-03,  1.17121997e-02,  7.14798802e-03,\n",
       "        3.25424027e-02, -6.82659242e-03, -2.02605050e-02,  6.88900480e-03,\n",
       "        1.93120831e-03, -2.36229723e-02, -1.97157939e-02,  5.26285114e-03,\n",
       "       -3.02271090e-03, -2.09942957e-03,  2.19933197e-03, -8.55529605e-03,\n",
       "        9.54892931e-03,  9.75479464e-04, -3.64219321e-03, -2.14800755e-02,\n",
       "        7.06311806e-03, -2.70737287e-03, -4.23544875e-03,  7.68257335e-03,\n",
       "        3.72669297e-03, -1.03893151e-02,  1.59544975e-02,  4.36407700e-03,\n",
       "        1.08546006e-02, -5.83046263e-03, -1.18017342e-03, -1.01511160e-02,\n",
       "        1.11501539e-02,  2.22600937e-03, -1.49090063e-03,  1.15283846e-02,\n",
       "        1.62608574e-02,  3.51930143e-03,  6.66798025e-03, -1.72529282e-02,\n",
       "        2.60508654e-02, -1.06780041e-02, -5.28299223e-03, -2.75848909e-03,\n",
       "       -6.52972028e-03, -6.51726787e-03, -1.46429831e-02,  6.91254216e-03,\n",
       "        2.44239357e-02, -2.40012829e-04, -4.97186462e-03,  1.20427214e-02,\n",
       "       -8.70791983e-04, -4.98603067e-03,  3.29465534e-02, -1.11194574e-02,\n",
       "       -1.07596902e-02, -4.04851285e-03, -1.00747844e-02, -1.38368252e-02,\n",
       "       -6.84923250e-03,  7.09781173e-05,  1.13767144e-02, -1.18633670e-03,\n",
       "        1.14339387e-02, -8.70791983e-04, -4.99213184e-03, -1.16323963e-02,\n",
       "        7.05187381e-04,  5.43699956e-03, -8.77496152e-03, -8.70791983e-04,\n",
       "       -2.29345031e-02, -7.12096760e-03, -4.30003577e-03, -5.22945910e-03,\n",
       "        6.27773282e-03, -8.66263457e-03, -1.49225229e-03, -1.08117493e-02,\n",
       "       -4.27480858e-03,  2.52871489e-03, -8.70791983e-04, -2.41807225e-03,\n",
       "        4.07752109e-03,  2.53774631e-03, -8.70791983e-04, -1.49135053e-03,\n",
       "        1.02965612e-02, -4.29795391e-03,  6.90782327e-03, -7.11260565e-03,\n",
       "        2.55387504e-03, -7.72927955e-03, -8.70791983e-04, -4.29089444e-03,\n",
       "        6.07216665e-05,  4.40970229e-03,  3.61688905e-02,  1.58674860e-02,\n",
       "        1.66131684e-02, -1.51093408e-03,  8.72894464e-03, -1.08277700e-02,\n",
       "        8.08784502e-03,  1.16510266e-02, -3.92657552e-02,  3.72760306e-02,\n",
       "       -7.64722578e-03, -1.43879628e-02,  2.97101902e-03,  7.14498210e-03,\n",
       "       -1.50227627e-02,  6.16638219e-03,  1.99780360e-02, -2.44774335e-02,\n",
       "        1.41894542e-02, -5.38330729e-03, -1.43845729e-02,  9.05141054e-03,\n",
       "        4.59153749e-03,  6.85718272e-03, -3.31679550e-02, -1.33101176e-02,\n",
       "       -1.13455961e-02, -9.40624340e-03, -1.15835040e-02,  6.98057124e-04,\n",
       "       -4.01040975e-03,  1.38673788e-02, -1.12786480e-02,  6.99785566e-04,\n",
       "       -5.56484095e-04,  5.10178947e-03,  9.52684024e-03,  7.82930620e-05,\n",
       "        6.09174023e-03, -1.26123645e-02, -2.45026361e-03, -7.18479198e-03,\n",
       "       -5.59466827e-03,  3.21571112e-03,  3.21882274e-02,  8.06000588e-03,\n",
       "       -5.35178667e-03, -1.04561846e-02,  7.08730751e-03, -8.85364912e-03,\n",
       "       -2.06068787e-02, -2.96171755e-02,  6.00189017e-03, -1.80986396e-02,\n",
       "        1.61836490e-03, -1.11485340e-02,  2.54145483e-03, -1.26742498e-02,\n",
       "        3.14874348e-03, -1.04708762e-02,  1.59741492e-03, -4.88548988e-03,\n",
       "       -8.57930436e-03,  7.42946670e-03,  1.39331096e-02,  1.89822804e-02,\n",
       "       -9.62423604e-03, -7.10199548e-03, -1.36138145e-02,  8.40729504e-03,\n",
       "       -9.56176438e-03,  9.64690861e-03,  5.03093691e-03,  3.74541480e-04,\n",
       "        7.22780593e-03,  7.87838834e-03, -1.37259232e-02, -1.80672254e-03,\n",
       "        1.37867738e-02,  4.46133895e-03, -5.27110242e-03,  1.95313641e-03,\n",
       "       -7.15310218e-03, -9.64454565e-03, -1.05514902e-02, -5.59685096e-04,\n",
       "       -1.18193659e-03,  1.65511937e-02,  6.02034708e-03, -2.50547258e-02,\n",
       "       -3.35994886e-03,  1.87123219e-02, -3.37666073e-03, -6.81642398e-03,\n",
       "       -7.73929316e-03, -1.64393492e-02, -5.51319266e-03, -7.35841558e-03,\n",
       "        1.59445082e-03, -1.10496977e-02,  5.27386702e-03,  1.59297143e-03,\n",
       "       -2.54259162e-04,  3.13763445e-03, -8.70791983e-04, -1.50766461e-02,\n",
       "       -4.55626358e-03,  9.55640132e-03, -1.10325965e-02, -2.09766724e-03,\n",
       "        1.58178589e-03,  1.38587537e-02, -1.47594655e-02,  5.88267269e-03,\n",
       "       -1.07199352e-02, -7.30957817e-03, -2.59109122e-04, -1.06600513e-02,\n",
       "       -1.48029545e-03, -2.39418880e-03, -6.96076374e-03,  3.38209477e-03,\n",
       "       -4.21789332e-03,  1.00690879e-02,  1.31677953e-02,  5.26651871e-03,\n",
       "        7.74204292e-03,  1.79560766e-02, -1.45512018e-02,  1.08814516e-02,\n",
       "        1.92544078e-03,  1.81021275e-02,  1.63599478e-03, -2.31402800e-02,\n",
       "       -6.15704540e-03, -4.28427676e-03,  1.02857715e-02, -5.59534147e-04,\n",
       "       -6.78540831e-03, -1.51574588e-02,  8.70387070e-03, -2.11085945e-03,\n",
       "       -7.68786857e-03,  3.76489921e-03, -4.29771271e-02, -1.06182169e-02,\n",
       "        5.19829411e-03,  3.16757973e-02,  8.06356729e-03,  4.38489033e-03,\n",
       "        2.97986455e-02,  3.58133629e-02, -2.09102868e-02,  3.92132448e-02,\n",
       "       -1.04897209e-02,  3.61834983e-02,  2.24654075e-02,  1.22114499e-01,\n",
       "       -7.95448043e-02,  3.54626773e-02,  2.38121308e-02, -1.03975489e-01,\n",
       "        8.64352394e-02, -1.14039352e-02,  3.33065744e-02, -5.12855756e-02,\n",
       "       -2.94604913e-02,  1.34328654e-02, -7.56094868e-03, -4.92482971e-02,\n",
       "        4.69609970e-03,  3.22750028e-02,  3.47035831e-02, -1.36822970e-02,\n",
       "        3.23407324e-02, -2.90799041e-02, -2.21548455e-03, -3.54784899e-02,\n",
       "       -1.04850398e-02,  4.50361113e-04,  1.20583265e-04, -3.84606722e-03,\n",
       "        5.73327339e-03,  8.39875631e-03,  3.50128072e-02, -1.83931162e-02,\n",
       "       -5.55634492e-03,  2.41846331e-02,  6.55127102e-03, -8.99107553e-03,\n",
       "       -1.36873489e-02,  6.84804411e-03, -7.60307481e-03,  1.47934111e-03,\n",
       "       -1.83449275e-02, -5.37023825e-04,  3.15089311e-02,  2.84806251e-03,\n",
       "       -4.25647558e-03,  2.78695975e-02, -3.60918726e-02, -1.84115438e-02,\n",
       "       -1.12567820e-02,  2.58237162e-02,  5.87299146e-03, -1.57462100e-02,\n",
       "        1.52634051e-02, -3.97702257e-02, -8.86770542e-03, -4.19248726e-03,\n",
       "        6.75923010e-03,  7.11471507e-03, -5.20977804e-03, -3.55240836e-02,\n",
       "       -9.74744274e-03,  2.07789116e-03, -2.83884230e-03, -3.29909786e-02,\n",
       "       -3.74494579e-02, -1.04454547e-02])"
      ]
     },
     "execution_count": 29,
     "metadata": {},
     "output_type": "execute_result"
    }
   ],
   "source": [
    "# Make a prediction of \"y\" values using just the test dataset\n",
    "predictions = model.predict(X_test)\n",
    "predictions"
   ]
  },
  {
   "cell_type": "code",
   "execution_count": 32,
   "metadata": {},
   "outputs": [
    {
     "data": {
      "text/html": [
       "<div>\n",
       "<style scoped>\n",
       "    .dataframe tbody tr th:only-of-type {\n",
       "        vertical-align: middle;\n",
       "    }\n",
       "\n",
       "    .dataframe tbody tr th {\n",
       "        vertical-align: top;\n",
       "    }\n",
       "\n",
       "    .dataframe thead th {\n",
       "        text-align: right;\n",
       "    }\n",
       "</style>\n",
       "<table border=\"1\" class=\"dataframe\">\n",
       "  <thead>\n",
       "    <tr style=\"text-align: right;\">\n",
       "      <th></th>\n",
       "      <th>Return</th>\n",
       "      <th>Predicted</th>\n",
       "    </tr>\n",
       "    <tr>\n",
       "      <th>Date</th>\n",
       "      <th></th>\n",
       "      <th></th>\n",
       "    </tr>\n",
       "  </thead>\n",
       "  <tbody>\n",
       "    <tr>\n",
       "      <th>2018-01-01</th>\n",
       "      <td>0.245591</td>\n",
       "      <td>0.005701</td>\n",
       "    </tr>\n",
       "    <tr>\n",
       "      <th>2018-01-02</th>\n",
       "      <td>-0.055679</td>\n",
       "      <td>-0.007173</td>\n",
       "    </tr>\n",
       "    <tr>\n",
       "      <th>2018-01-03</th>\n",
       "      <td>0.011142</td>\n",
       "      <td>0.000558</td>\n",
       "    </tr>\n",
       "    <tr>\n",
       "      <th>2018-01-04</th>\n",
       "      <td>0.601604</td>\n",
       "      <td>-0.001157</td>\n",
       "    </tr>\n",
       "    <tr>\n",
       "      <th>2018-01-05</th>\n",
       "      <td>0.919158</td>\n",
       "      <td>-0.016308</td>\n",
       "    </tr>\n",
       "  </tbody>\n",
       "</table>\n",
       "</div>"
      ],
      "text/plain": [
       "              Return  Predicted\n",
       "Date                           \n",
       "2018-01-01  0.245591   0.005701\n",
       "2018-01-02 -0.055679  -0.007173\n",
       "2018-01-03  0.011142   0.000558\n",
       "2018-01-04  0.601604  -0.001157\n",
       "2018-01-05  0.919158  -0.016308"
      ]
     },
     "execution_count": 32,
     "metadata": {},
     "output_type": "execute_result"
    }
   ],
   "source": [
    "# Assemble actual y data (Y_test) with predicted y data (from just above) into two columns in a dataframe:\n",
    "actual_v_pred = y_test.to_frame()\n",
    "actual_v_pred[\"Predicted\"] = predictions\n",
    "\n",
    "actual_v_pred.head()"
   ]
  },
  {
   "cell_type": "code",
   "execution_count": 34,
   "metadata": {},
   "outputs": [
    {
     "data": {
      "text/plain": [
       "array([<matplotlib.axes._subplots.AxesSubplot object at 0x00000275F43306C8>,\n",
       "       <matplotlib.axes._subplots.AxesSubplot object at 0x00000275F6440D08>],\n",
       "      dtype=object)"
      ]
     },
     "execution_count": 34,
     "metadata": {},
     "output_type": "execute_result"
    },
    {
     "data": {
      "image/png": "[encoded data removed]",
      "text/plain": [
       "<Figure size 432x288 with 2 Axes>"
      ]
     },
     "metadata": {
      "needs_background": "light"
     },
     "output_type": "display_data"
    }
   ],
   "source": [
    "# Plot the first 20 predictions vs the true values\n",
    "actual_v_pred[:20].plot(subplots=True)"
   ]
  },
  {
   "cell_type": "markdown",
   "metadata": {},
   "source": [
    "# Out-of-Sample Performance\n",
    "\n",
    "Evaluate the model using \"out-of-sample\" data (`X_test` and `y_test`)"
   ]
  },
  {
   "cell_type": "code",
   "execution_count": 38,
   "metadata": {},
   "outputs": [
    {
     "name": "stdout",
     "output_type": "stream",
     "text": [
      "Out of sample MSE: 0.4154690624952009\n",
      "Out of sample RMSE: 0.6445688966240931\n"
     ]
    }
   ],
   "source": [
    "from sklearn.metrics import mean_squared_error\n",
    "import numpy as np\n",
    "# Calculate the mean_squared_error (MSE) on actual versus predicted test \"y\" \n",
    "# (Hint: use the dataframe from above)\n",
    "out_of_sample_mse = mean_squared_error(actual_v_pred[\"Return\"],\n",
    "                                       actual_v_pred[\"Predicted\"])\n",
    "\n",
    "print(f\"Out of sample MSE: {out_of_sample_mse}\")\n",
    "\n",
    "\n",
    "out_of_sample_rmse = np.sqrt(out_of_sample_mse)\n",
    "\n",
    "print(f\"Out of sample RMSE: {out_of_sample_rmse}\")"
   ]
  },
  {
   "cell_type": "markdown",
   "metadata": {},
   "source": [
    "# In-Sample Performance\n",
    "\n",
    "Evaluate the model using in-sample data (X_train and y_train)"
   ]
  },
  {
   "cell_type": "code",
   "execution_count": 48,
   "metadata": {},
   "outputs": [
    {
     "name": "stdout",
     "output_type": "stream",
     "text": [
      "In sample MSE: 0.7087480853083534.\n",
      "In sample RMSE: 0.8418717748614414.\n"
     ]
    }
   ],
   "source": [
    "# Construct a dataframe using just the \"y\" training data:\n",
    "y_train_data = y_train.to_frame()\n",
    "y_train_data.head()\n",
    "\n",
    "# Add a column of \"in-sample\" predictions to that dataframe:  \n",
    "in_sample_pred = model.predict(X_train)\n",
    "y_train_data[\"In sample predicted\"] = in_sample_pred\n",
    "y_train_data.head()\n",
    "\n",
    "# Calculate in-sample mean_squared_error (for comparison to out-of-sample)\n",
    "in_sample_mse = mean_squared_error(y_train_data[\"Return\"],\n",
    "                                   y_train_data[\"In sample predicted\"])\n",
    "\n",
    "print(f\"In sample MSE: {in_sample_mse}.\")\n",
    "\n",
    "# Calculate in-sample root mean_squared_error (for comparison to out-of-sample)\n",
    "in_sample_rmse = np.sqrt(in_sample_mse)\n",
    "\n",
    "print(f\"In sample RMSE: {in_sample_rmse}.\")"
   ]
  },
  {
   "cell_type": "markdown",
   "metadata": {},
   "source": [
    "# Conclusions"
   ]
  },
  {
   "cell_type": "markdown",
   "metadata": {},
   "source": [
    "**Question:** Does this model perform better or worse on out-of-sample data as compared to in-sample data?\n",
    "\n",
    "**Answer:** The model performs better on un-seen data i.e., on the out of sample data. This is because of a lower MSE (0.415) and RMSE (0.644) when compared to the MSE (0.708) and RMSE (0.8419) for in-sample data."
   ]
  }
 ],
 "metadata": {
  "file_extension": ".py",
  "kernelspec": {
   "display_name": "Python 3",
   "language": "python",
   "name": "python3"
  },
  "language_info": {
   "codemirror_mode": {
    "name": "ipython",
    "version": 3
   },
   "file_extension": ".py",
   "mimetype": "text/x-python",
   "name": "python",
   "nbconvert_exporter": "python",
   "pygments_lexer": "ipython3",
   "version": "3.7.10"
  },
  "mimetype": "text/x-python",
  "name": "python",
  "npconvert_exporter": "python",
  "pygments_lexer": "ipython3",
  "version": 3
 },
 "nbformat": 4,
 "nbformat_minor": 4
}
