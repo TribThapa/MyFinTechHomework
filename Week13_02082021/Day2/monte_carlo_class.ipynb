{
 "cells": [
  {
   "cell_type": "markdown",
   "metadata": {},
   "source": [
    "# Monte Carlo Simulation"
   ]
  },
  {
   "cell_type": "code",
   "execution_count": 2,
   "metadata": {},
   "outputs": [
    {
     "name": "stdout",
     "output_type": "stream",
     "text": [
      "Collecting alpaca_trade_api\n",
      "  Downloading alpaca_trade_api-1.2.3-py3-none-any.whl (40 kB)\n",
      "\u001b[K     |████████████████████████████████| 40 kB 4.2 MB/s  eta 0:00:01\n",
      "\u001b[?25hRequirement already satisfied: pandas in /home/ec2-user/anaconda3/envs/python3/lib/python3.6/site-packages (from alpaca_trade_api) (1.1.5)\n",
      "Requirement already satisfied: numpy in /home/ec2-user/anaconda3/envs/python3/lib/python3.6/site-packages (from alpaca_trade_api) (1.19.5)\n",
      "Requirement already satisfied: requests<3,>2 in /home/ec2-user/anaconda3/envs/python3/lib/python3.6/site-packages (from alpaca_trade_api) (2.25.1)\n",
      "Requirement already satisfied: urllib3<2,>1.24 in /home/ec2-user/anaconda3/envs/python3/lib/python3.6/site-packages (from alpaca_trade_api) (1.26.5)\n",
      "Requirement already satisfied: websocket-client<2,>=0.56.0 in /home/ec2-user/anaconda3/envs/python3/lib/python3.6/site-packages (from alpaca_trade_api) (0.59.0)\n",
      "Requirement already satisfied: msgpack==1.0.2 in /home/ec2-user/anaconda3/envs/python3/lib/python3.6/site-packages (from alpaca_trade_api) (1.0.2)\n",
      "Collecting websockets<10,>=8.0\n",
      "  Downloading websockets-9.1-cp36-cp36m-manylinux2010_x86_64.whl (102 kB)\n",
      "\u001b[K     |████████████████████████████████| 102 kB 10.0 MB/s ta 0:00:01\n",
      "\u001b[?25hRequirement already satisfied: idna<3,>=2.5 in /home/ec2-user/anaconda3/envs/python3/lib/python3.6/site-packages (from requests<3,>2->alpaca_trade_api) (2.10)\n",
      "Requirement already satisfied: certifi>=2017.4.17 in /home/ec2-user/anaconda3/envs/python3/lib/python3.6/site-packages (from requests<3,>2->alpaca_trade_api) (2021.5.30)\n",
      "Requirement already satisfied: chardet<5,>=3.0.2 in /home/ec2-user/anaconda3/envs/python3/lib/python3.6/site-packages (from requests<3,>2->alpaca_trade_api) (3.0.4)\n",
      "Requirement already satisfied: six in /home/ec2-user/anaconda3/envs/python3/lib/python3.6/site-packages (from websocket-client<2,>=0.56.0->alpaca_trade_api) (1.15.0)\n",
      "Requirement already satisfied: python-dateutil>=2.7.3 in /home/ec2-user/anaconda3/envs/python3/lib/python3.6/site-packages (from pandas->alpaca_trade_api) (2.8.1)\n",
      "Requirement already satisfied: pytz>=2017.2 in /home/ec2-user/anaconda3/envs/python3/lib/python3.6/site-packages (from pandas->alpaca_trade_api) (2021.1)\n",
      "Installing collected packages: websockets, alpaca-trade-api\n",
      "Successfully installed alpaca-trade-api-1.2.3 websockets-9.1\n",
      "\u001b[33mWARNING: You are using pip version 21.1.2; however, version 21.2.2 is available.\n",
      "You should consider upgrading via the '/home/ec2-user/anaconda3/envs/python3/bin/python -m pip install --upgrade pip' command.\u001b[0m\n"
     ]
    }
   ],
   "source": [
    "# Initial imports\n",
    "import os\n",
    "import requests\n",
    "import pandas as pd\n",
    "import numpy as np\n",
    "!pip install alpaca_trade_api\n",
    "import alpaca_trade_api as tradeapi\n",
    "from dotenv import load_dotenv\n",
    "\n",
    "load_dotenv()\n",
    "\n",
    "%matplotlib inline"
   ]
  },
  {
   "cell_type": "code",
   "execution_count": 3,
   "metadata": {},
   "outputs": [],
   "source": [
    "# Set Alpaca API key and secret\n",
    "alpaca_api_key = \"PKMWQL1LA14C1RK0ZTTC\"\n",
    "alpaca_secret_key = \"OnzURrqiO6snAtKkNF9K15QQQrQ4YTAi5w211ZhD\"\n",
    "\n",
    "api = tradeapi.REST(alpaca_api_key,\n",
    "                    alpaca_secret_key,\n",
    "                    api_version='v2')"
   ]
  },
  {
   "cell_type": "markdown",
   "metadata": {},
   "source": [
    "## Fetch Tickers Data"
   ]
  },
  {
   "cell_type": "code",
   "execution_count": 4,
   "metadata": {},
   "outputs": [],
   "source": [
    "def get_ticker_prices(ticker):\n",
    "    \n",
    "    # Set timeframe to '1D'\n",
    "    timeframe = '1D'\n",
    "\n",
    "    # Make the API cal and store in DataFrame    \n",
    "    data_df = api.get_barset(ticker,\n",
    "                             timeframe,\n",
    "                             limit=None,\n",
    "                             after=None,\n",
    "                             until=None).df\n",
    "    \n",
    "    # Clean DataFrame to show only close prices \n",
    "    df = pd.DataFrame({'close_'+ticker.lower():data_df[ticker]['close']})\n",
    "    return df"
   ]
  },
  {
   "cell_type": "code",
   "execution_count": 5,
   "metadata": {},
   "outputs": [
    {
     "data": {
      "text/html": [
       "<div>\n",
       "<style scoped>\n",
       "    .dataframe tbody tr th:only-of-type {\n",
       "        vertical-align: middle;\n",
       "    }\n",
       "\n",
       "    .dataframe tbody tr th {\n",
       "        vertical-align: top;\n",
       "    }\n",
       "\n",
       "    .dataframe thead th {\n",
       "        text-align: right;\n",
       "    }\n",
       "</style>\n",
       "<table border=\"1\" class=\"dataframe\">\n",
       "  <thead>\n",
       "    <tr style=\"text-align: right;\">\n",
       "      <th></th>\n",
       "      <th>close_spy</th>\n",
       "      <th>close_agg</th>\n",
       "    </tr>\n",
       "    <tr>\n",
       "      <th>time</th>\n",
       "      <th></th>\n",
       "      <th></th>\n",
       "    </tr>\n",
       "  </thead>\n",
       "  <tbody>\n",
       "    <tr>\n",
       "      <th>2021-03-15 00:00:00-04:00</th>\n",
       "      <td>396.47</td>\n",
       "      <td>113.94</td>\n",
       "    </tr>\n",
       "    <tr>\n",
       "      <th>2021-03-16 00:00:00-04:00</th>\n",
       "      <td>395.94</td>\n",
       "      <td>113.87</td>\n",
       "    </tr>\n",
       "    <tr>\n",
       "      <th>2021-03-17 00:00:00-04:00</th>\n",
       "      <td>397.22</td>\n",
       "      <td>113.87</td>\n",
       "    </tr>\n",
       "    <tr>\n",
       "      <th>2021-03-18 00:00:00-04:00</th>\n",
       "      <td>391.41</td>\n",
       "      <td>113.42</td>\n",
       "    </tr>\n",
       "    <tr>\n",
       "      <th>2021-03-19 00:00:00-04:00</th>\n",
       "      <td>389.50</td>\n",
       "      <td>113.50</td>\n",
       "    </tr>\n",
       "  </tbody>\n",
       "</table>\n",
       "</div>"
      ],
      "text/plain": [
       "                           close_spy  close_agg\n",
       "time                                           \n",
       "2021-03-15 00:00:00-04:00     396.47     113.94\n",
       "2021-03-16 00:00:00-04:00     395.94     113.87\n",
       "2021-03-17 00:00:00-04:00     397.22     113.87\n",
       "2021-03-18 00:00:00-04:00     391.41     113.42\n",
       "2021-03-19 00:00:00-04:00     389.50     113.50"
      ]
     },
     "execution_count": 5,
     "metadata": {},
     "output_type": "execute_result"
    }
   ],
   "source": [
    "# Obtain ticker prices, join data and display preview\n",
    "spy_data = get_ticker_prices(\"SPY\")\n",
    "\n",
    "agg_data = get_ticker_prices(\"AGG\")\n",
    "\n",
    "tickers_data = spy_data.join(agg_data)\n",
    "\n",
    "tickers_data.head()"
   ]
  },
  {
   "cell_type": "markdown",
   "metadata": {},
   "source": [
    "## Monte Carlo Simulation Code"
   ]
  },
  {
   "cell_type": "code",
   "execution_count": 6,
   "metadata": {},
   "outputs": [
    {
     "name": "stdout",
     "output_type": "stream",
     "text": [
      "****************************************************************************************************\n",
      "Daily ROI\n"
     ]
    },
    {
     "data": {
      "text/html": [
       "<div>\n",
       "<style scoped>\n",
       "    .dataframe tbody tr th:only-of-type {\n",
       "        vertical-align: middle;\n",
       "    }\n",
       "\n",
       "    .dataframe tbody tr th {\n",
       "        vertical-align: top;\n",
       "    }\n",
       "\n",
       "    .dataframe thead th {\n",
       "        text-align: right;\n",
       "    }\n",
       "</style>\n",
       "<table border=\"1\" class=\"dataframe\">\n",
       "  <thead>\n",
       "    <tr style=\"text-align: right;\">\n",
       "      <th></th>\n",
       "      <th>close_spy</th>\n",
       "      <th>close_agg</th>\n",
       "    </tr>\n",
       "    <tr>\n",
       "      <th>time</th>\n",
       "      <th></th>\n",
       "      <th></th>\n",
       "    </tr>\n",
       "  </thead>\n",
       "  <tbody>\n",
       "    <tr>\n",
       "      <th>2021-03-15 00:00:00-04:00</th>\n",
       "      <td>NaN</td>\n",
       "      <td>NaN</td>\n",
       "    </tr>\n",
       "    <tr>\n",
       "      <th>2021-03-16 00:00:00-04:00</th>\n",
       "      <td>-0.001337</td>\n",
       "      <td>-0.000614</td>\n",
       "    </tr>\n",
       "    <tr>\n",
       "      <th>2021-03-17 00:00:00-04:00</th>\n",
       "      <td>0.003233</td>\n",
       "      <td>0.000000</td>\n",
       "    </tr>\n",
       "    <tr>\n",
       "      <th>2021-03-18 00:00:00-04:00</th>\n",
       "      <td>-0.014627</td>\n",
       "      <td>-0.003952</td>\n",
       "    </tr>\n",
       "    <tr>\n",
       "      <th>2021-03-19 00:00:00-04:00</th>\n",
       "      <td>-0.004880</td>\n",
       "      <td>0.000705</td>\n",
       "    </tr>\n",
       "  </tbody>\n",
       "</table>\n",
       "</div>"
      ],
      "text/plain": [
       "                           close_spy  close_agg\n",
       "time                                           \n",
       "2021-03-15 00:00:00-04:00        NaN        NaN\n",
       "2021-03-16 00:00:00-04:00  -0.001337  -0.000614\n",
       "2021-03-17 00:00:00-04:00   0.003233   0.000000\n",
       "2021-03-18 00:00:00-04:00  -0.014627  -0.003952\n",
       "2021-03-19 00:00:00-04:00  -0.004880   0.000705"
      ]
     },
     "metadata": {},
     "output_type": "display_data"
    }
   ],
   "source": [
    "# Calculate the daily roi for the stocks\n",
    "daily_returns = tickers_data.pct_change()\n",
    "print(\"*\" * 100)\n",
    "print(\"Daily ROI\")\n",
    "display(daily_returns.head())\n",
    "\n",
    "# volatility\n",
    "daily_volatility = daily_returns.std()\n",
    "spy_volatility = daily_volatility[\"close_spy\"]\n",
    "agg_volatility = daily_volatility[\"close_agg\"]\n",
    "\n",
    "# Save the last day's closing price\n",
    "spy_last_price = tickers_data[\"close_spy\"][-1]\n",
    "agg_last_price = tickers_data[\"close_agg\"][-1]"
   ]
  },
  {
   "cell_type": "code",
   "execution_count": 7,
   "metadata": {},
   "outputs": [],
   "source": [
    "# Setup the Monte Carlo Parameters\n",
    "number_simulations = 10\n",
    "number_records = 252 * 30  # Years to retirement\n",
    "monte_carlo = pd.DataFrame()"
   ]
  },
  {
   "cell_type": "code",
   "execution_count": 8,
   "metadata": {},
   "outputs": [
    {
     "name": "stdout",
     "output_type": "stream",
     "text": [
      "Running Simulation 0...\n",
      "Running Simulation 1...\n",
      "Running Simulation 2...\n",
      "Running Simulation 3...\n",
      "Running Simulation 4...\n",
      "Running Simulation 5...\n",
      "Running Simulation 6...\n",
      "Running Simulation 7...\n",
      "Running Simulation 8...\n",
      "Running Simulation 9...\n"
     ]
    }
   ],
   "source": [
    "for x in range(number_simulations):\n",
    "\n",
    "    print(f\"Running Simulation {x}...\")\n",
    "\n",
    "    # Create the initial simulated prices array seeded with the last closing price\n",
    "    spy_prices = [spy_last_price]\n",
    "    agg_prices = [agg_last_price]\n",
    "\n",
    "    # Simulate the returns for 20 years\n",
    "    for iteration in range(number_records):\n",
    "        spy_prices.append(spy_prices[-1] * (1 + np.random.normal(daily_returns.mean()[\"close_spy\"], spy_volatility)))\n",
    "        agg_prices.append(agg_prices[-1] * (1 + np.random.normal(daily_returns.mean()[\"close_agg\"], agg_volatility)))\n",
    "\n",
    "    # Create a DataFrame of the simulated prices\n",
    "    portfolio = pd.DataFrame({\"SPY Simulated Prices\": spy_prices,\n",
    "                              \"AGG Simulated Prices\": agg_prices})\n",
    "\n",
    "    # Calculate the Portfolio Daily Returns\n",
    "    portfolio_returns = portfolio.pct_change()\n",
    "\n",
    "    # Set the Portfolio Weights (Assume a 60/40 stocks to bonds ratio)\n",
    "    stocks_weight = 0.60\n",
    "    bonds_weight = 0.40\n",
    "\n",
    "    # Calculate the weighted portfolio return:\n",
    "    portfolio_returns = (stocks_weight * portfolio_returns[\"SPY Simulated Prices\"]\n",
    "        + bonds_weight * portfolio_returns[\"AGG Simulated Prices\"])\n",
    "    \n",
    "\n",
    "    # Calculate the normalized, cumulative return series\n",
    "    monte_carlo[x] = (1 + portfolio_returns.fillna(0)).cumprod()"
   ]
  },
  {
   "cell_type": "code",
   "execution_count": 9,
   "metadata": {},
   "outputs": [
    {
     "data": {
      "text/html": [
       "<div>\n",
       "<style scoped>\n",
       "    .dataframe tbody tr th:only-of-type {\n",
       "        vertical-align: middle;\n",
       "    }\n",
       "\n",
       "    .dataframe tbody tr th {\n",
       "        vertical-align: top;\n",
       "    }\n",
       "\n",
       "    .dataframe thead th {\n",
       "        text-align: right;\n",
       "    }\n",
       "</style>\n",
       "<table border=\"1\" class=\"dataframe\">\n",
       "  <thead>\n",
       "    <tr style=\"text-align: right;\">\n",
       "      <th></th>\n",
       "      <th>0</th>\n",
       "      <th>1</th>\n",
       "      <th>2</th>\n",
       "      <th>3</th>\n",
       "      <th>4</th>\n",
       "      <th>5</th>\n",
       "      <th>6</th>\n",
       "      <th>7</th>\n",
       "      <th>8</th>\n",
       "      <th>9</th>\n",
       "    </tr>\n",
       "  </thead>\n",
       "  <tbody>\n",
       "    <tr>\n",
       "      <th>0</th>\n",
       "      <td>1.000000</td>\n",
       "      <td>1.000000</td>\n",
       "      <td>1.000000</td>\n",
       "      <td>1.000000</td>\n",
       "      <td>1.000000</td>\n",
       "      <td>1.000000</td>\n",
       "      <td>1.000000</td>\n",
       "      <td>1.000000</td>\n",
       "      <td>1.000000</td>\n",
       "      <td>1.000000</td>\n",
       "    </tr>\n",
       "    <tr>\n",
       "      <th>1</th>\n",
       "      <td>1.007749</td>\n",
       "      <td>1.003549</td>\n",
       "      <td>0.995268</td>\n",
       "      <td>1.004272</td>\n",
       "      <td>0.993752</td>\n",
       "      <td>1.009321</td>\n",
       "      <td>0.995562</td>\n",
       "      <td>0.995986</td>\n",
       "      <td>0.993434</td>\n",
       "      <td>1.001577</td>\n",
       "    </tr>\n",
       "    <tr>\n",
       "      <th>2</th>\n",
       "      <td>1.015461</td>\n",
       "      <td>1.000433</td>\n",
       "      <td>1.000765</td>\n",
       "      <td>1.012307</td>\n",
       "      <td>0.996441</td>\n",
       "      <td>1.008851</td>\n",
       "      <td>1.000052</td>\n",
       "      <td>0.997621</td>\n",
       "      <td>0.988793</td>\n",
       "      <td>1.000058</td>\n",
       "    </tr>\n",
       "    <tr>\n",
       "      <th>3</th>\n",
       "      <td>1.018109</td>\n",
       "      <td>1.005802</td>\n",
       "      <td>1.002997</td>\n",
       "      <td>1.010153</td>\n",
       "      <td>0.999592</td>\n",
       "      <td>1.007602</td>\n",
       "      <td>1.005215</td>\n",
       "      <td>1.000657</td>\n",
       "      <td>0.986545</td>\n",
       "      <td>0.998075</td>\n",
       "    </tr>\n",
       "    <tr>\n",
       "      <th>4</th>\n",
       "      <td>1.012363</td>\n",
       "      <td>1.011333</td>\n",
       "      <td>0.999385</td>\n",
       "      <td>1.009141</td>\n",
       "      <td>0.997093</td>\n",
       "      <td>1.006298</td>\n",
       "      <td>1.010289</td>\n",
       "      <td>1.001341</td>\n",
       "      <td>0.984752</td>\n",
       "      <td>1.000282</td>\n",
       "    </tr>\n",
       "  </tbody>\n",
       "</table>\n",
       "</div>"
      ],
      "text/plain": [
       "          0         1         2         3         4         5         6  \\\n",
       "0  1.000000  1.000000  1.000000  1.000000  1.000000  1.000000  1.000000   \n",
       "1  1.007749  1.003549  0.995268  1.004272  0.993752  1.009321  0.995562   \n",
       "2  1.015461  1.000433  1.000765  1.012307  0.996441  1.008851  1.000052   \n",
       "3  1.018109  1.005802  1.002997  1.010153  0.999592  1.007602  1.005215   \n",
       "4  1.012363  1.011333  0.999385  1.009141  0.997093  1.006298  1.010289   \n",
       "\n",
       "          7         8         9  \n",
       "0  1.000000  1.000000  1.000000  \n",
       "1  0.995986  0.993434  1.001577  \n",
       "2  0.997621  0.988793  1.000058  \n",
       "3  1.000657  0.986545  0.998075  \n",
       "4  1.001341  0.984752  1.000282  "
      ]
     },
     "execution_count": 9,
     "metadata": {},
     "output_type": "execute_result"
    }
   ],
   "source": [
    "# Check that the simulation ran successfully\n",
    "monte_carlo.head()"
   ]
  },
  {
   "cell_type": "code",
   "execution_count": 10,
   "metadata": {},
   "outputs": [
    {
     "data": {
      "text/plain": [
       "<AxesSubplot:title={'center':'Simulated Retirement Portfolio'}>"
      ]
     },
     "execution_count": 10,
     "metadata": {},
     "output_type": "execute_result"
    },
    {
     "data": {
      "image/png": "[encoded data removed]",
      "text/plain": [
       "<Figure size 432x288 with 1 Axes>"
      ]
     },
     "metadata": {
      "needs_background": "light"
     },
     "output_type": "display_data"
    }
   ],
   "source": [
    "# Visualize the Simulation\n",
    "monte_carlo.plot(legend=None,\n",
    "                 title=\"Simulated Retirement Portfolio\")"
   ]
  }
 ],
 "metadata": {
  "file_extension": ".py",
  "kernelspec": {
   "display_name": "conda_python3",
   "language": "python",
   "name": "conda_python3"
  },
  "language_info": {
   "codemirror_mode": {
    "name": "ipython",
    "version": 3
   },
   "file_extension": ".py",
   "mimetype": "text/x-python",
   "name": "python",
   "nbconvert_exporter": "python",
   "pygments_lexer": "ipython3",
   "version": "3.6.13"
  },
  "mimetype": "text/x-python",
  "name": "python",
  "npconvert_exporter": "python",
  "pygments_lexer": "ipython3",
  "version": 3
 },
 "nbformat": 4,
 "nbformat_minor": 4
}
