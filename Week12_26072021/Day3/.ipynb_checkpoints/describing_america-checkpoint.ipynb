{
 "cells": [
  {
   "cell_type": "markdown",
   "metadata": {},
   "source": [
    "# Describing America\n",
    "\n",
    "Somehow, the speech delivered by country leaders when they start duties on their charge could shape the line they will follow during their term. In this activity, you will use NLTK and spaCy to analyze the inaugural addresses delivered by the Presidents from the United States since 1798.\n",
    "\n",
    "You will use [the inaugural address corpus](https://www.nltk.org/book/ch02.html#inaugural-address-corpus) from the NLTK library to identify what were the most common adjectives used by U.S. Presidents and how these adjectives describe America."
   ]
  },
  {
   "cell_type": "markdown",
   "metadata": {},
   "source": [
    "## Initial considerations\n",
    "\n",
    "In the `Initial imports` cell, we are importing two modules that are worth highlighting.\n",
    "\n",
    "* The `Counter` module from the `collections` library will allow you to track how many times equivalent values are found in a list.\n",
    "\n",
    "* The `inaugural` module from the `nltk.corpus` library provides some methods to extract information from [the inaugural address corpus](https://www.nltk.org/book/ch02.html#inaugural-address-corpus)."
   ]
  },
  {
   "cell_type": "code",
   "execution_count": 1,
   "metadata": {},
   "outputs": [],
   "source": [
    "# Initial imports\n",
    "import nltk\n",
    "import spacy\n",
    "import pandas as pd\n",
    "from collections import Counter\n",
    "from nltk.corpus import inaugural\n",
    "\n",
    "%matplotlib inline"
   ]
  },
  {
   "cell_type": "code",
   "execution_count": 2,
   "metadata": {},
   "outputs": [
    {
     "name": "stderr",
     "output_type": "stream",
     "text": [
      "[nltk_data] Downloading package inaugural to\n",
      "[nltk_data]     C:\\Users\\TribThapa\\AppData\\Roaming\\nltk_data...\n",
      "[nltk_data]   Package inaugural is already up-to-date!\n"
     ]
    },
    {
     "data": {
      "text/plain": [
       "True"
      ]
     },
     "execution_count": 2,
     "metadata": {},
     "output_type": "execute_result"
    }
   ],
   "source": [
    "# Download NLTK's inaugural corpus\n",
    "nltk.download(\"inaugural\")"
   ]
  },
  {
   "cell_type": "code",
   "execution_count": 3,
   "metadata": {},
   "outputs": [],
   "source": [
    "# Load the English language model for spaCy\n",
    "nlp = spacy.load(\"en_core_web_sm\")"
   ]
  },
  {
   "cell_type": "markdown",
   "metadata": {},
   "source": [
    "## Instructions"
   ]
  },
  {
   "cell_type": "markdown",
   "metadata": {},
   "source": [
    "### 1. Retrieve the documents IDs and text of the U.S. presidential inaugural addresses"
   ]
  },
  {
   "cell_type": "code",
   "execution_count": 4,
   "metadata": {},
   "outputs": [
    {
     "name": "stdout",
     "output_type": "stream",
     "text": [
      "1789-Washington.txt\n",
      "Fellow-Citizens of the Senate and of the House of Representatives:\n",
      "\n",
      "Among the vicissitudes incident to life no event could have filled me with greater anxieties than that of which the notification was transmitted by your order, and received on the 14th day of the present month. On the one hand, I was summoned by my Country, whose voice I can never hear but with veneration and love, from a retreat which I had chosen with the fondest predilection, and, in my flattering hopes, with an immutable decision, as the asylum of my declining years -- a retreat which was rendered every day more necessary as well as more dear to me by the addition of habit to inclination, and of frequent interruptions in my health to the gradual waste committed on it by time. On the other hand, the magnitude and difficulty of the trust to which the voice of my country called me, being sufficient to awaken in the wisest and most experienced of her citizens a distrustful scrutiny into his qualifications, could not but overwhelm with despondence one who (inheriting inferior endowments from nature and unpracticed in the duties of civil administration) ought to be peculiarly conscious of his own deficiencies. In this conflict of emotions all I dare aver is that it has been my faithful study to collect my duty from a just appreciation of every circumstance by which it might be affected. All I dare hope is that if, in executing this task, I have been too much swayed by a grateful remembrance of former instances, or by an affectionate sensibility to this transcendent proof of the confidence of my fellow citizens, and have thence too little consulted my incapacity as well as disinclination for the weighty and untried cares before me, my error will be palliated by the motives which mislead me, and its consequences be judged by my country with some share of the partiality in which they originated.\n",
      "\n",
      "Such being the impressions under which I have, in obedience to the public summons, repaired to the present station, it would be peculiarly improper to omit in this first official act my fervent supplications to that Almighty Being who rules over the universe, who presides in the councils of nations, and whose providential aids can supply every human defect, that His benediction may consecrate to the liberties and happiness of the people of the United States a Government instituted by themselves for these essential purposes, and may enable every instrument employed in its administration to execute with success the functions allotted to his charge. In tendering this homage to the Great Author of every public and private good, I assure myself that it expresses your sentiments not less than my own, nor those of my fellow citizens at large less than either. No people can be bound to acknowledge and adore the Invisible Hand which conducts the affairs of men more than those of the United States. Every step by which they have advanced to the character of an independent nation seems to have been distinguished by some token of providential agency; and in the important revolution just accomplished in the system of their united government the tranquil deliberations and voluntary consent of so many distinct communities from which the event has resulted can not be compared with the means by which most governments have been established without some return of pious gratitude, along with an humble anticipation of the future blessings which the past seem to presage. These reflections, arising out of the present crisis, have forced themselves too strongly on my mind to be suppressed. You will join with me, I trust, in thinking that there are none under the influence of which the proceedings of a new and free government can more auspiciously commence.\n",
      "\n",
      "By the article establishing the executive department it is made the duty of the President \"to recommend to your consideration such measures as he shall judge necessary and expedient.\" The circumstances under which I now meet you will acquit me from entering into that subject further than to refer to the great constitutional charter under which you are assembled, and which, in defining your powers, designates the objects to which your attention is to be given. It will be more consistent with those circumstances, and far more congenial with the feelings which actuate me, to substitute, in place of a recommendation of particular measures, the tribute that is due to the talents, the rectitude, and the patriotism which adorn the characters selected to devise and adopt them. In these honorable qualifications I behold the surest pledges that as on one side no local prejudices or attachments, no separate views nor party animosities, will misdirect the comprehensive and equal eye which ought to watch over this great assemblage of communities and interests, so, on another, that the foundation of our national policy will be laid in the pure and immutable principles of private morality, and the preeminence of free government be exemplified by all the attributes which can win the affections of its citizens and command the respect of the world. I dwell on this prospect with every satisfaction which an ardent love for my country can inspire, since there is no truth more thoroughly established than that there exists in the economy and course of nature an indissoluble union between virtue and happiness; between duty and advantage; between the genuine maxims of an honest and magnanimous policy and the solid rewards of public prosperity and felicity; since we ought to be no less persuaded that the propitious smiles of Heaven can never be expected on a nation that disregards the eternal rules of order and right which Heaven itself has ordained; and since the preservation of the sacred fire of liberty and the destiny of the republican model of government are justly considered, perhaps, as deeply, as finally, staked on the experiment entrusted to the hands of the American people.\n",
      "\n",
      "Besides the ordinary objects submitted to your care, it will remain with your judgment to decide how far an exercise of the occasional power delegated by the fifth article of the Constitution is rendered expedient at the present juncture by the nature of objections which have been urged against the system, or by the degree of inquietude which has given birth to them. Instead of undertaking particular recommendations on this subject, in which I could be guided by no lights derived from official opportunities, I shall again give way to my entire confidence in your discernment and pursuit of the public good; for I assure myself that whilst you carefully avoid every alteration which might endanger the benefits of an united and effective government, or which ought to await the future lessons of experience, a reverence for the characteristic rights of freemen and a regard for the public harmony will sufficiently influence your deliberations on the question how far the former can be impregnably fortified or the latter be safely and advantageously promoted.\n",
      "\n",
      "To the foregoing observations I have one to add, which will be most properly addressed to the House of Representatives. It concerns myself, and will therefore be as brief as possible. When I was first honored with a call into the service of my country, then on the eve of an arduous struggle for its liberties, the light in which I contemplated my duty required that I should renounce every pecuniary compensation. From this resolution I have in no instance departed; and being still under the impressions which produced it, I must decline as inapplicable to myself any share in the personal emoluments which may be indispensably included in a permanent provision for the executive department, and must accordingly pray that the pecuniary estimates for the station in which I am placed may during my continuance in it be limited to such actual expenditures as the public good may be thought to require.\n",
      "\n",
      "Having thus imparted to you my sentiments as they have been awakened by the occasion which brings us together, I shall take my present leave; but not without resorting once more to the benign Parent of the Human Race in humble supplication that, since He has been pleased to favor the American people with opportunities for deliberating in perfect tranquillity, and dispositions for deciding with unparalleled unanimity on a form of government for the security of their union and the advancement of their happiness, so His divine blessing may be equally conspicuous in the enlarged views, the temperate consultations, and the wise measures on which the success of this Government must depend. \n",
      "\n"
     ]
    }
   ],
   "source": [
    "# Retrieve the IDs of inaugural addresses\n",
    "all_doc_ids = inaugural.fileids()\n",
    "\n",
    "# Put all texts from each id into a corpus\n",
    "corpus = [inaugural.raw(doc) for doc in all_doc_ids]\n",
    "\n",
    "# Print out sample doc_id & text from that id\n",
    "print(all_doc_ids[0])\n",
    "print(corpus[0])"
   ]
  },
  {
   "cell_type": "markdown",
   "metadata": {},
   "source": [
    "### 2. Retrieve the most frequent adjective from each inaugural address"
   ]
  },
  {
   "cell_type": "code",
   "execution_count": 21,
   "metadata": {},
   "outputs": [],
   "source": [
    "# Helper function\n",
    "def most_freq_adj(text):\n",
    "    \"\"\"\n",
    "    This function used spaCy to get the most common adjective from each text.\n",
    "    \n",
    "    Args:\n",
    "        text (string): The text to analyze.\n",
    "        \n",
    "    Returns:\n",
    "        most_common_adj (list): A list containing a tuple with the most common adjective and its occurrence in the text.\n",
    "    \"\"\"\n",
    "    \n",
    "    # Tokenizes text and parse each token\n",
    "    doc = nlp(text)\n",
    "    \n",
    "    # Creates a list with all the adjectives in the text\n",
    "    adjs = [token.text.lower() for token in doc if token.pos_ == 'ADJ']\n",
    "    \n",
    "    # Retrieves the most frequent adjective in the `adjs` list using the Counter module\n",
    "    most_common_adj = Counter(adjs).most_common(1)\n",
    "    \n",
    "    return most_common_adj"
   ]
  },
  {
   "cell_type": "code",
   "execution_count": 22,
   "metadata": {},
   "outputs": [],
   "source": [
    "# Create a list of the most common adjective for each inaugural address\n",
    "adj_per_doc = []\n",
    "\n",
    "for i in range(len(corpus)):\n",
    "\n",
    "    #print(corpus[i])\n",
    "\n",
    "    adjectives_per_doc = most_freq_adj((corpus[i]))\n",
    "    \n",
    "    adj_per_doc.append(adjectives_per_doc)"
   ]
  },
  {
   "cell_type": "code",
   "execution_count": 23,
   "metadata": {},
   "outputs": [
    {
     "name": "stdout",
     "output_type": "stream",
     "text": [
      "This is a sample data [[('public', 6)], [('proper', 1)], [('foreign', 8)], [('own', 6)], [('public', 14)]]\n",
      "\n",
      "This is the length 58\n"
     ]
    }
   ],
   "source": [
    "# Display sample data\n",
    "print(f\"This is a sample data {adj_per_doc[:5]}\")\n",
    "print()\n",
    "print(f\"This is the length {len(adj_per_doc)}\")"
   ]
  },
  {
   "cell_type": "code",
   "execution_count": 8,
   "metadata": {},
   "outputs": [
    {
     "data": {
      "text/html": [
       "<div>\n",
       "<style scoped>\n",
       "    .dataframe tbody tr th:only-of-type {\n",
       "        vertical-align: middle;\n",
       "    }\n",
       "\n",
       "    .dataframe tbody tr th {\n",
       "        vertical-align: top;\n",
       "    }\n",
       "\n",
       "    .dataframe thead th {\n",
       "        text-align: right;\n",
       "    }\n",
       "</style>\n",
       "<table border=\"1\" class=\"dataframe\">\n",
       "  <thead>\n",
       "    <tr style=\"text-align: right;\">\n",
       "      <th></th>\n",
       "      <th>doc_id</th>\n",
       "      <th>adjectives</th>\n",
       "    </tr>\n",
       "  </thead>\n",
       "  <tbody>\n",
       "    <tr>\n",
       "      <th>0</th>\n",
       "      <td>1789-Washington.txt</td>\n",
       "      <td>[(public, 6)]</td>\n",
       "    </tr>\n",
       "    <tr>\n",
       "      <th>1</th>\n",
       "      <td>1793-Washington.txt</td>\n",
       "      <td>[(proper, 1)]</td>\n",
       "    </tr>\n",
       "    <tr>\n",
       "      <th>2</th>\n",
       "      <td>1797-Adams.txt</td>\n",
       "      <td>[(foreign, 8)]</td>\n",
       "    </tr>\n",
       "    <tr>\n",
       "      <th>3</th>\n",
       "      <td>1801-Jefferson.txt</td>\n",
       "      <td>[(own, 6)]</td>\n",
       "    </tr>\n",
       "    <tr>\n",
       "      <th>4</th>\n",
       "      <td>1805-Jefferson.txt</td>\n",
       "      <td>[(public, 14)]</td>\n",
       "    </tr>\n",
       "  </tbody>\n",
       "</table>\n",
       "</div>"
      ],
      "text/plain": [
       "                doc_id      adjectives\n",
       "0  1789-Washington.txt   [(public, 6)]\n",
       "1  1793-Washington.txt   [(proper, 1)]\n",
       "2       1797-Adams.txt  [(foreign, 8)]\n",
       "3   1801-Jefferson.txt      [(own, 6)]\n",
       "4   1805-Jefferson.txt  [(public, 14)]"
      ]
     },
     "execution_count": 8,
     "metadata": {},
     "output_type": "execute_result"
    }
   ],
   "source": [
    "# Display sample data from the first ten inaugural addresses\n",
    "# Set DataFrame data\n",
    "adj_tuples = list(zip(all_doc_ids, adj_per_doc))\n",
    "\n",
    "inaug_addresses = pd.DataFrame(adj_tuples,\n",
    "                               columns=[\"doc_id\", \"adjectives\"])\n",
    "\n",
    "inaug_addresses.head()"
   ]
  },
  {
   "cell_type": "markdown",
   "metadata": {},
   "source": [
    "### 3. Analyze adjectives over time"
   ]
  },
  {
   "cell_type": "code",
   "execution_count": 9,
   "metadata": {},
   "outputs": [],
   "source": [
    "# Helper functions\n",
    "def all_adj(text):\n",
    "    \"\"\"\n",
    "    This function retrieves all the adjectives on the given text.\n",
    "    \n",
    "    Args:\n",
    "        text (string): The text to analyze.\n",
    "        \n",
    "    Returns:\n",
    "        adjs (list): A list with all the adjectives in the text.\n",
    "    \"\"\"\n",
    "    \n",
    "    # Tokenize the text and parse each token\n",
    "    doc = nlp(text)\n",
    "    \n",
    "    # Create a list with all the adjectives in the text\n",
    "    adjs = [token.text.lower() for token in doc if token.pos_ == 'ADJ']\n",
    "    \n",
    "    return adjs\n",
    "\n",
    "# Import the word_tokenize module from NLTK\n",
    "from nltk.tokenize import word_tokenize\n",
    "\n",
    "def get_word_counts(text, word):\n",
    "    \"\"\"\n",
    "    This function counts the occurrences of a word in a text.\n",
    "    \n",
    "    Args:\n",
    "        text (string): The text where word counts will be analyzed.\n",
    "        word (string): The word to look into the text.\n",
    "        \n",
    "    Returns:\n",
    "        word_count (int): The counts of the word in the given text.\n",
    "    \"\"\"\n",
    "    \n",
    "    # Use the word_tokenize module from NLTK to tokenize the text\n",
    "    tok = word_tokenize(text)\n",
    "    \n",
    "    # Create a list with all the tokens retrieved from the text\n",
    "    tok = [word.lower() for word in tok]\n",
    "    \n",
    "    # Count the occurrences of the word in the text\n",
    "    word_count = tok.count(word)\n",
    "    \n",
    "    return word_count"
   ]
  },
  {
   "cell_type": "markdown",
   "metadata": {},
   "source": [
    "#### Use the `all_adj()` function to create a Python list `all_adjectives` containing all the adjectives in all the inaugural addresses."
   ]
  },
  {
   "cell_type": "code",
   "execution_count": 10,
   "metadata": {},
   "outputs": [],
   "source": [
    "# Create an empty list to store all the adjectives\n",
    "all_adjectives = []\n",
    "\n",
    "# Use a for-loop to retrieve all the adjectives on each inaugural address and concatenate the adjectives fetched to `all_adjectives`\n",
    "for j in range(len(corpus)):\n",
    "\n",
    "    all_adjectives_per_doc = all_adj((corpus[j]))\n",
    "    \n",
    "    all_adjectives.append(all_adjectives_per_doc)"
   ]
  },
  {
   "cell_type": "code",
   "execution_count": 11,
   "metadata": {},
   "outputs": [
    {
     "name": "stdout",
     "output_type": "stream",
     "text": [
      "['greater', '14th', 'present', 'fondest', 'flattering', 'immutable', 'necessary', 'dear', 'frequent', 'gradual', 'other', 'sufficient', 'wisest', 'experienced', 'distrustful', 'inferior', 'civil', 'conscious', 'own', 'faithful', 'just', 'much', 'grateful', 'former', 'affectionate', 'transcendent', 'fellow', 'little', 'weighty', 'untried', 'such', 'public', 'present', 'improper', 'first', 'official', 'fervent', 'human', 'essential', 'public', 'private', 'less', 'own', 'fellow', 'large', 'less', 'more', 'independent', 'important', 'united', 'tranquil', 'voluntary', 'many', 'distinct', 'most', 'pious', 'humble', 'future', 'present', 'new', 'free', 'executive', 'such', 'necessary', 'expedient', 'great', 'constitutional', 'consistent', 'congenial', 'particular', 'due', 'honorable', 'surest', 'local', 'separate', 'comprehensive', 'equal', 'great', 'national', 'pure', 'immutable', 'private', 'free', 'ardent', 'indissoluble', 'genuine', 'honest', 'magnanimous', 'solid', 'public', 'propitious', 'eternal', 'right', 'sacred', 'republican', 'american', 'ordinary', 'occasional', 'fifth', 'present', 'particular', 'official', 'entire', 'public', 'united', 'effective', 'future', 'characteristic', 'public', 'former', 'latter', 'brief', 'possible', 'arduous', 'pecuniary', 'inapplicable', 'personal', 'permanent', 'executive', 'pecuniary', 'such', 'actual', 'public', 'present', 'more', 'benign', 'humble', 'pleased', 'american', 'perfect', 'unparalleled', 'divine', 'conspicuous', 'enlarged', 'wise']\n",
      "\n",
      "<class 'list'>\n"
     ]
    }
   ],
   "source": [
    "# Print sample data\n",
    "print(all_adjectives[0])\n",
    "print()\n",
    "print(type(all_adjectives))"
   ]
  },
  {
   "cell_type": "markdown",
   "metadata": {},
   "source": [
    "#### Use the `most_common()` function from the `Counter` module to fetch the three most frequent adjectives used in the U.S. Presidential inaugural address. The `most_common()` function returns a Python list that you should store in a variable called `most_freq_adjectives`."
   ]
  },
  {
   "cell_type": "code",
   "execution_count": 24,
   "metadata": {},
   "outputs": [
    {
     "name": "stdout",
     "output_type": "stream",
     "text": [
      "[('great', 327), ('other', 264), ('own', 246), ('new', 241)]\n"
     ]
    }
   ],
   "source": [
    "# Retrieve the three most frequent adjectives\n",
    "import itertools\n",
    "all_adjectives_collapsed = list(itertools.chain.from_iterable(all_adjectives))\n",
    "\n",
    "most_freq_adjectives = Counter(all_adjectives_collapsed).most_common(4)\n",
    "\n",
    "# Print the three most frequent adjectives\n",
    "print(most_freq_adjectives)"
   ]
  },
  {
   "cell_type": "markdown",
   "metadata": {},
   "source": [
    "#### Use the `get_word_counts()` function to compute the counts of each of the three most frequent adjectives in the U.S. Presidential inaugural addresses"
   ]
  },
  {
   "cell_type": "code",
   "execution_count": 13,
   "metadata": {},
   "outputs": [
    {
     "name": "stdout",
     "output_type": "stream",
     "text": [
      "Great counts sample data: [3, 0, 5, 1, 1]\n",
      "Other counts sample data: [1, 0, 2, 1, 6]\n",
      "Own counts sample data: [2, 0, 4, 6, 5]\n"
     ]
    }
   ],
   "source": [
    "# Use list comprehensions to create a list with the counts of each top adjective in the inaugural addresses\n",
    "great_counts = []\n",
    "other_counts = []\n",
    "own_counts = []\n",
    "\n",
    "for k in range(len(corpus)):\n",
    "    \n",
    "    wc_great = get_word_counts(corpus[k], 'great')\n",
    "    wc_other = get_word_counts(corpus[k], 'other')\n",
    "    wc_own = get_word_counts(corpus[k], 'own')\n",
    "    \n",
    "    great_counts.append(wc_great)\n",
    "    other_counts.append(wc_other)\n",
    "    own_counts.append(wc_own)\n",
    "    \n",
    "print(f\"Great counts sample data: {great_counts[:5]}\")\n",
    "print(f\"Other counts sample data: {other_counts[:5]}\")\n",
    "print(f\"Own counts sample data: {own_counts[:5]}\")"
   ]
  },
  {
   "cell_type": "markdown",
   "metadata": {},
   "source": [
    "#### Create a Python list `dates` to store the year when every inaugural address was delivered"
   ]
  },
  {
   "cell_type": "code",
   "execution_count": 14,
   "metadata": {},
   "outputs": [
    {
     "name": "stdout",
     "output_type": "stream",
     "text": [
      "['1789', '1793', '1797', '1801', '1805']\n"
     ]
    }
   ],
   "source": [
    "# Create a list `dates` with the year for each inaugural address using the file IDs\n",
    "dates = []\n",
    "\n",
    "for l in range(len(all_doc_ids)):\n",
    "    \n",
    "    date = all_doc_ids[l][:4]\n",
    "    \n",
    "    dates.append(date)\n",
    "\n",
    "# Print sample data\n",
    "print(dates[:5])"
   ]
  },
  {
   "cell_type": "markdown",
   "metadata": {},
   "source": [
    "#### Create a Python list `presidents` to store the last name of each U.S. President whose inaugural address is in the `inaugural` corpus."
   ]
  },
  {
   "cell_type": "code",
   "execution_count": 15,
   "metadata": {},
   "outputs": [
    {
     "name": "stdout",
     "output_type": "stream",
     "text": [
      "['Washington', 'Washington', 'Adams', 'Jefferson', 'Jefferson']\n"
     ]
    }
   ],
   "source": [
    "# Create a list `presidents` with the last name of each president\n",
    "presidents = []\n",
    "\n",
    "for l in range(len(all_doc_ids)):\n",
    "    \n",
    "    pres = all_doc_ids[l][5:-4]\n",
    "    \n",
    "    presidents.append(pres)\n",
    "\n",
    "# Print sample data\n",
    "print(presidents[:5])"
   ]
  },
  {
   "cell_type": "markdown",
   "metadata": {},
   "source": [
    "#### Create a DataFrame `df_adjectives` with the Presidents last names and the adjectives counts as columns, and set the `dates` list as the index"
   ]
  },
  {
   "cell_type": "code",
   "execution_count": 16,
   "metadata": {},
   "outputs": [
    {
     "data": {
      "text/html": [
       "<div>\n",
       "<style scoped>\n",
       "    .dataframe tbody tr th:only-of-type {\n",
       "        vertical-align: middle;\n",
       "    }\n",
       "\n",
       "    .dataframe tbody tr th {\n",
       "        vertical-align: top;\n",
       "    }\n",
       "\n",
       "    .dataframe thead th {\n",
       "        text-align: right;\n",
       "    }\n",
       "</style>\n",
       "<table border=\"1\" class=\"dataframe\">\n",
       "  <thead>\n",
       "    <tr style=\"text-align: right;\">\n",
       "      <th></th>\n",
       "      <th>President</th>\n",
       "      <th>Great</th>\n",
       "      <th>Other</th>\n",
       "      <th>Own</th>\n",
       "    </tr>\n",
       "  </thead>\n",
       "  <tbody>\n",
       "    <tr>\n",
       "      <th>0</th>\n",
       "      <td>Washington</td>\n",
       "      <td>3</td>\n",
       "      <td>1</td>\n",
       "      <td>2</td>\n",
       "    </tr>\n",
       "    <tr>\n",
       "      <th>1</th>\n",
       "      <td>Washington</td>\n",
       "      <td>0</td>\n",
       "      <td>0</td>\n",
       "      <td>0</td>\n",
       "    </tr>\n",
       "    <tr>\n",
       "      <th>2</th>\n",
       "      <td>Adams</td>\n",
       "      <td>5</td>\n",
       "      <td>2</td>\n",
       "      <td>4</td>\n",
       "    </tr>\n",
       "    <tr>\n",
       "      <th>3</th>\n",
       "      <td>Jefferson</td>\n",
       "      <td>1</td>\n",
       "      <td>1</td>\n",
       "      <td>6</td>\n",
       "    </tr>\n",
       "    <tr>\n",
       "      <th>4</th>\n",
       "      <td>Jefferson</td>\n",
       "      <td>1</td>\n",
       "      <td>6</td>\n",
       "      <td>5</td>\n",
       "    </tr>\n",
       "  </tbody>\n",
       "</table>\n",
       "</div>"
      ],
      "text/plain": [
       "    President  Great  Other  Own\n",
       "0  Washington      3      1    2\n",
       "1  Washington      0      0    0\n",
       "2       Adams      5      2    4\n",
       "3   Jefferson      1      1    6\n",
       "4   Jefferson      1      6    5"
      ]
     },
     "execution_count": 16,
     "metadata": {},
     "output_type": "execute_result"
    }
   ],
   "source": [
    "# Set DataFrame data\n",
    "adj_tuples = list(zip(presidents, great_counts, other_counts, own_counts))\n",
    "\n",
    "df_adjectives = pd.DataFrame(adj_tuples,\n",
    "                             columns=[\"President\", \"Great\", \"Other\", \"Own\"])\n",
    "\n",
    "df_adjectives.head()"
   ]
  },
  {
   "cell_type": "markdown",
   "metadata": {},
   "source": [
    "#### Create a line plot using the `df_adjectives` DataFrame to visualize the usage of the most common adjective over time in the U.S. presidential inaugural addresses"
   ]
  },
  {
   "cell_type": "code",
   "execution_count": 26,
   "metadata": {},
   "outputs": [
    {
     "data": {
      "text/plain": [
       "<AxesSubplot:title={'center':'Most common adjective used in the U.S. Presidential Inaugural Addresses'}>"
      ]
     },
     "execution_count": 26,
     "metadata": {},
     "output_type": "execute_result"
    },
    {
     "data": {
      "image/png": "[encoded data removed]",
      "text/plain": [
       "<Figure size 1080x504 with 1 Axes>"
      ]
     },
     "metadata": {
      "needs_background": "light"
     },
     "output_type": "display_data"
    }
   ],
   "source": [
    "# Use the `df_adjectives` DataFrame to plot frequencies of each adjective over time\n",
    "df_adjectives.plot(kind='line',\n",
    "                   figsize=(15, 7),\n",
    "                   title=\"Most common adjective used in the U.S. Presidential Inaugural Addresses\")"
   ]
  },
  {
   "cell_type": "markdown",
   "metadata": {},
   "source": [
    "### 4. Adjectives describing America"
   ]
  },
  {
   "cell_type": "markdown",
   "metadata": {},
   "source": [
    "#### Use spaCy to create a function `describe_america()` that returns the adjectives in all the inaugural addresses that describe the word `America`"
   ]
  },
  {
   "cell_type": "code",
   "execution_count": 30,
   "metadata": {},
   "outputs": [],
   "source": [
    "def describe_america(text):\n",
    "    \"\"\"\n",
    "    This function retrieves the adjectives in the text that describe the word 'America'.\n",
    "    \n",
    "    Args:\n",
    "        text (string): The text to analyze.\n",
    "        \n",
    "    Returns:\n",
    "        adjs (list): A list of the adjectives that describe the word 'America' in the text.\n",
    "    \"\"\"\n",
    "    \n",
    "    # Use the spaCy English language model to tokenize the text and parse each token\n",
    "    tokens = nlp(text)\n",
    "        \n",
    "    # Create a list with all the adjectives in the text that describe the word 'America'\n",
    "    america_list = [token.text.lower() for token in tokens if (token.pos_ == 'ADJ' and token.head.text=='America')]\n",
    "        \n",
    "    return america_list"
   ]
  },
  {
   "cell_type": "markdown",
   "metadata": {},
   "source": [
    "#### Use the `describe_america()` function you defined to create a Python list containing all the adjectives describing the word `America` into all the inaugural addresses in the corpus."
   ]
  },
  {
   "cell_type": "code",
   "execution_count": 31,
   "metadata": {},
   "outputs": [],
   "source": [
    "# Create an empty list to store the adjectives\n",
    "america_adjectives = []\n",
    "\n",
    "# Use a for-loop to retrieve all the adjectives that describe the word 'America' on each inaugural address and concatenate the adjectives fetched to `america_adjectives`\n",
    "for m in range(len(corpus)):\n",
    "\n",
    "    america_per_doc = describe_america((corpus[j]))\n",
    "    \n",
    "    america_adjectives.append(america_per_doc)   "
   ]
  },
  {
   "cell_type": "code",
   "execution_count": 33,
   "metadata": {},
   "outputs": [
    {
     "data": {
      "text/plain": [
       "[[],\n",
       " [],\n",
       " [],\n",
       " [],\n",
       " [],\n",
       " [],\n",
       " [],\n",
       " [],\n",
       " [],\n",
       " [],\n",
       " [],\n",
       " [],\n",
       " [],\n",
       " [],\n",
       " [],\n",
       " [],\n",
       " [],\n",
       " [],\n",
       " [],\n",
       " [],\n",
       " [],\n",
       " [],\n",
       " [],\n",
       " [],\n",
       " [],\n",
       " [],\n",
       " [],\n",
       " [],\n",
       " [],\n",
       " [],\n",
       " [],\n",
       " [],\n",
       " [],\n",
       " [],\n",
       " [],\n",
       " [],\n",
       " [],\n",
       " [],\n",
       " [],\n",
       " [],\n",
       " [],\n",
       " [],\n",
       " [],\n",
       " [],\n",
       " [],\n",
       " [],\n",
       " [],\n",
       " [],\n",
       " [],\n",
       " [],\n",
       " [],\n",
       " [],\n",
       " [],\n",
       " [],\n",
       " [],\n",
       " [],\n",
       " [],\n",
       " []]"
      ]
     },
     "execution_count": 33,
     "metadata": {},
     "output_type": "execute_result"
    }
   ],
   "source": [
    "# Print the list of the adjectives describing the word 'America'\n",
    "america_adjectives"
   ]
  },
  {
   "cell_type": "code",
   "execution_count": null,
   "metadata": {},
   "outputs": [],
   "source": []
  }
 ],
 "metadata": {
  "kernelspec": {
   "display_name": "Python 3",
   "language": "python",
   "name": "python3"
  },
  "language_info": {
   "codemirror_mode": {
    "name": "ipython",
    "version": 3
   },
   "file_extension": ".py",
   "mimetype": "text/x-python",
   "name": "python",
   "nbconvert_exporter": "python",
   "pygments_lexer": "ipython3",
   "version": "3.8.8"
  }
 },
 "nbformat": 4,
 "nbformat_minor": 4
}
