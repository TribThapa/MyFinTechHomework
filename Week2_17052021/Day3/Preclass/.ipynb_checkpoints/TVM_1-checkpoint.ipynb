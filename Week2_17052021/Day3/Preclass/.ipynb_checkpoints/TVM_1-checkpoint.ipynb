{
 "cells": [
  {
   "cell_type": "code",
   "execution_count": 4,
   "metadata": {},
   "outputs": [
    {
     "name": "stdout",
     "output_type": "stream",
     "text": [
      "The future value of $10000 at an interest rate of 0.1 compounded at 1 times every year over 3 years is $13310.0\n"
     ]
    }
   ],
   "source": [
    "#This script contains functions that can calculate future values and present values.\n",
    "def calculate_future_values(present_value, interest_rate, compounding_periods, years):\n",
    "    future_value = present_value * ((1 + (interest_rate / compounding_periods)) ** (compounding_periods * years))\n",
    "    future_value_formatted = round(future_value, 2)\n",
    "    return future_value_formatted\n",
    "\n",
    "# Set the values\n",
    "present_value = 10000\n",
    "interest_rate = 0.1\n",
    "compounding_periods = 1\n",
    "years = 3\n",
    "\n",
    "# Call the calculate_future_value() function\n",
    "future_value = calculate_future_values(present_value, interest_rate, compounding_periods, years)\n",
    "print(f\"The future value of ${present_value} at an interest rate of {interest_rate} compounded at {compounding_periods} times every year over {years} years is ${future_value}\")"
   ]
  },
  {
   "cell_type": "code",
   "execution_count": null,
   "metadata": {},
   "outputs": [],
   "source": []
  }
 ],
 "metadata": {
  "kernelspec": {
   "display_name": "Python 3",
   "language": "python",
   "name": "python3"
  },
  "language_info": {
   "codemirror_mode": {
    "name": "ipython",
    "version": 3
   },
   "file_extension": ".py",
   "mimetype": "text/x-python",
   "name": "python",
   "nbconvert_exporter": "python",
   "pygments_lexer": "ipython3",
   "version": "3.7.1"
  }
 },
 "nbformat": 4,
 "nbformat_minor": 2
}
