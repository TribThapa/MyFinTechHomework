{
 "cells": [
  {
   "cell_type": "code",
   "execution_count": 26,
   "metadata": {},
   "outputs": [
    {
     "name": "stdout",
     "output_type": "stream",
     "text": [
      "0.8083691838711202\n",
      "True\n",
      "4\n",
      "Thapa\n",
      "The new list of numbes more than 1 and less than 1000 is:[150, 432, 780, 123, 546].\n"
     ]
    }
   ],
   "source": [
    "import random\n",
    "\n",
    "# QUESTION 1: Create a function called `number_guess` that takes in an integer as an argument.\n",
    "# If the number is 42, print(true). If it isn't 42, print(false)\n",
    "def number_guess(num):\n",
    "    if num == 42:\n",
    "        print('True')\n",
    "    else:\n",
    "        print('False')\n",
    "    return\n",
    "\n",
    "#num = random.random()\n",
    "print(num)\n",
    "\n",
    "number_guess(42)\n",
    "\n",
    "\n",
    "# QUESTION 2: Write a function that takes in a list of numbers. the function should print the smallest number in the given list\n",
    "def min_num(list_of_num):\n",
    "    print(min(list_of_num))\n",
    "    return\n",
    "\n",
    "a = [15, 4, 20, 100]\n",
    "\n",
    "min_num(a)\n",
    "\n",
    "\n",
    "# QUESTION 3: Write a function which takes in a list of strings. The function should print the shortest string in the list.\n",
    "def short_string(list_of_strings):\n",
    "    print(min(list_of_strings, key=len))\n",
    "    return\n",
    "\n",
    "strings_list = ['Thapa', 'Maxine', 'Lalor', 'Melbourne']\n",
    "short_string(strings_list)\n",
    "\n",
    "\n",
    "#QUESTION 4: Write a function that takes in three arguments: a high value, a low value and a list of numbers.\n",
    "# The function should print a new list of numbers where the elements are greater than the low value and less than the high value\n",
    "\n",
    "def values(high, low, list_of_num):\n",
    "    new_list = []\n",
    "    \n",
    "    for i in list_of_num:        \n",
    "        if i > low and i < high:        \n",
    "            new_list.append(i)\n",
    "        else:\n",
    "            pass\n",
    "    print(f'The new list of numbes more than {low} and less than {high} is:{new_list}.')\n",
    "    \n",
    "    return\n",
    "\n",
    "list_of_num = [1, 150, 432, 780, 1000, 123, 546]\n",
    "high = max(list_of_num)\n",
    "#print(high)\n",
    "\n",
    "low = min(list_of_num)\n",
    "#print(low)\n",
    "values(high, low, list_of_num)"
   ]
  },
  {
   "cell_type": "code",
   "execution_count": null,
   "metadata": {},
   "outputs": [],
   "source": [
    "\n",
    "\n",
    "\n",
    "\n",
    "\n",
    "\n",
    "\n",
    "\n",
    "\n"
   ]
  }
 ],
 "metadata": {
  "kernelspec": {
   "display_name": "Python 3",
   "language": "python",
   "name": "python3"
  },
  "language_info": {
   "codemirror_mode": {
    "name": "ipython",
    "version": 3
   },
   "file_extension": ".py",
   "mimetype": "text/x-python",
   "name": "python",
   "nbconvert_exporter": "python",
   "pygments_lexer": "ipython3",
   "version": "3.7.1"
  }
 },
 "nbformat": 4,
 "nbformat_minor": 2
}
