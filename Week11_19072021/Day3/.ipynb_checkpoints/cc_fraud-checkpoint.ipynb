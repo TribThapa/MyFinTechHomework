{
 "cells": [
  {
   "cell_type": "markdown",
   "metadata": {},
   "source": [
    "# Credit Card Fraud\n",
    "\n",
    "In this activity, you will practice resampling techniques and use different models to classify credit card transactions as fraud or not fraud. \n",
    "\n",
    "The dataset includes transactions that were discovered as fraudulent (Class = 1) as well as non-fraudulent (Class = 0). The variables are PCA-decomposed and anonymized to protect customers' identities, except for the Amount variable. "
   ]
  },
  {
   "cell_type": "code",
   "execution_count": 21,
   "metadata": {},
   "outputs": [],
   "source": [
    "import pandas as pd\n",
    "from path import Path\n",
    "from collections import Counter\n",
    "from sklearn.linear_model import LogisticRegression\n",
    "from sklearn.metrics import confusion_matrix\n",
    "from sklearn.metrics import classification_report\n",
    "from imblearn.metrics import classification_report_imbalanced\n",
    "import matplotlib.pyplot as plt\n",
    "%matplotlib inline"
   ]
  },
  {
   "cell_type": "code",
   "execution_count": 22,
   "metadata": {},
   "outputs": [],
   "source": [
    "data = Path(r'C:\\Users\\TribThapa\\Desktop\\Thapa\\ResearchFellow\\Courses\\FinTech_Bootcamp_MonashUni2021\\monu-mel-virt-fin-pt-05-2021-u-c\\Activities\\Week 11\\3\\09-Stu_Do_Credit_Card_Fraud\\Resources\\cc_fraud.csv')\n",
    "\n",
    "df = pd.read_csv(data)"
   ]
  },
  {
   "cell_type": "code",
   "execution_count": 23,
   "metadata": {},
   "outputs": [],
   "source": [
    "x_cols = [i for i in df.columns if i not in ('Class','Unnamed: 0')]\n",
    "\n",
    "X = df[x_cols]\n",
    "\n",
    "y = df['Class']"
   ]
  },
  {
   "cell_type": "code",
   "execution_count": 41,
   "metadata": {},
   "outputs": [],
   "source": [
    "# Normal train-test split\n",
    "from sklearn.model_selection import train_test_split\n",
    "\n",
    "X_train, X_test, y_train, y_test = train_test_split(X,\n",
    "                                                    y, \n",
    "                                                    random_state=1)"
   ]
  },
  {
   "cell_type": "markdown",
   "metadata": {},
   "source": [
    "## Oversample"
   ]
  },
  {
   "cell_type": "code",
   "execution_count": 25,
   "metadata": {},
   "outputs": [
    {
     "data": {
      "text/plain": [
       "Counter({0: 7516, 1: 7516})"
      ]
     },
     "execution_count": 25,
     "metadata": {},
     "output_type": "execute_result"
    }
   ],
   "source": [
    "from imblearn.over_sampling import RandomOverSampler\n",
    "\n",
    "ros = RandomOverSampler(random_state=1)\n",
    "\n",
    "X_oversampled, y_oversampled = ros.fit_resample(X_train, \n",
    "                                                y_train)\n",
    "\n",
    "Counter(y_oversampled)"
   ]
  },
  {
   "cell_type": "code",
   "execution_count": 26,
   "metadata": {},
   "outputs": [],
   "source": [
    "ros = LogisticRegression(solver='lbfgs', random_state=1, max_iter=1000)\n",
    "\n",
    "ros.fit(X_oversampled, y_oversampled)\n",
    "\n",
    "ros_pred = ros.predict(X_test)"
   ]
  },
  {
   "cell_type": "code",
   "execution_count": 42,
   "metadata": {},
   "outputs": [
    {
     "data": {
      "text/html": [
       "<div>\n",
       "<style scoped>\n",
       "    .dataframe tbody tr th:only-of-type {\n",
       "        vertical-align: middle;\n",
       "    }\n",
       "\n",
       "    .dataframe tbody tr th {\n",
       "        vertical-align: top;\n",
       "    }\n",
       "\n",
       "    .dataframe thead th {\n",
       "        text-align: right;\n",
       "    }\n",
       "</style>\n",
       "<table border=\"1\" class=\"dataframe\">\n",
       "  <thead>\n",
       "    <tr style=\"text-align: right;\">\n",
       "      <th></th>\n",
       "      <th>LR Pred 0</th>\n",
       "      <th>LR Pred 1</th>\n",
       "    </tr>\n",
       "  </thead>\n",
       "  <tbody>\n",
       "    <tr>\n",
       "      <th>Actual 0</th>\n",
       "      <td>2446</td>\n",
       "      <td>38</td>\n",
       "    </tr>\n",
       "    <tr>\n",
       "      <th>Actual 1</th>\n",
       "      <td>13</td>\n",
       "      <td>126</td>\n",
       "    </tr>\n",
       "  </tbody>\n",
       "</table>\n",
       "</div>"
      ],
      "text/plain": [
       "          LR Pred 0  LR Pred 1\n",
       "Actual 0       2446         38\n",
       "Actual 1         13        126"
      ]
     },
     "execution_count": 42,
     "metadata": {},
     "output_type": "execute_result"
    }
   ],
   "source": [
    "ros_cm = confusion_matrix(y_test, ros_pred)\n",
    "\n",
    "ros_cm_df = pd.DataFrame(ros_cm,\n",
    "                         index=[\"Actual 0\", \"Actual 1\"],\n",
    "                         columns=[\"LR Pred 0\", \"LR Pred 1\"])\n",
    "\n",
    "ros_cm_df"
   ]
  },
  {
   "cell_type": "code",
   "execution_count": 43,
   "metadata": {},
   "outputs": [
    {
     "name": "stdout",
     "output_type": "stream",
     "text": [
      "Random Oversampling + Logistic Regression\n",
      "              precision    recall  f1-score   support\n",
      "\n",
      "           0       0.99      0.98      0.99      2484\n",
      "           1       0.77      0.91      0.83       139\n",
      "\n",
      "    accuracy                           0.98      2623\n",
      "   macro avg       0.88      0.95      0.91      2623\n",
      "weighted avg       0.98      0.98      0.98      2623\n",
      "\n"
     ]
    }
   ],
   "source": [
    "print(\"Random Oversampling + Logistic Regression\")\n",
    "print(classification_report(y_test, ros_pred))"
   ]
  },
  {
   "cell_type": "markdown",
   "metadata": {},
   "source": [
    "## Undersample"
   ]
  },
  {
   "cell_type": "code",
   "execution_count": 44,
   "metadata": {},
   "outputs": [
    {
     "data": {
      "text/plain": [
       "Counter({0: 353, 1: 353})"
      ]
     },
     "execution_count": 44,
     "metadata": {},
     "output_type": "execute_result"
    }
   ],
   "source": [
    "from imblearn.under_sampling import RandomUnderSampler\n",
    "\n",
    "rus = RandomUnderSampler(random_state=1)\n",
    "\n",
    "X_undersampled, y_undersampled = rus.fit_resample(X_train, y_train)\n",
    "\n",
    "Counter(y_undersampled)"
   ]
  },
  {
   "cell_type": "code",
   "execution_count": 45,
   "metadata": {},
   "outputs": [],
   "source": [
    "rus = LogisticRegression(C=1.0, \n",
    "                           class_weight=None, \n",
    "                           dual=False, \n",
    "                           fit_intercept=True,\n",
    "                           intercept_scaling=1, \n",
    "                           l1_ratio=None, \n",
    "                           max_iter=500,\n",
    "                           n_jobs=None,\n",
    "                           penalty='l2',                           \n",
    "                           random_state=1, \n",
    "                           solver='lbfgs',\n",
    "                           tol=0.0001, \n",
    "                           verbose=0,\n",
    "                           warm_start=False)\n",
    "\n",
    "rus.fit(X_undersampled, y_undersampled)\n",
    "\n",
    "rus_pred = rus.predict(X_test)"
   ]
  },
  {
   "cell_type": "code",
   "execution_count": 46,
   "metadata": {},
   "outputs": [
    {
     "data": {
      "text/html": [
       "<div>\n",
       "<style scoped>\n",
       "    .dataframe tbody tr th:only-of-type {\n",
       "        vertical-align: middle;\n",
       "    }\n",
       "\n",
       "    .dataframe tbody tr th {\n",
       "        vertical-align: top;\n",
       "    }\n",
       "\n",
       "    .dataframe thead th {\n",
       "        text-align: right;\n",
       "    }\n",
       "</style>\n",
       "<table border=\"1\" class=\"dataframe\">\n",
       "  <thead>\n",
       "    <tr style=\"text-align: right;\">\n",
       "      <th></th>\n",
       "      <th>LR Pred 0</th>\n",
       "      <th>LR Pred 1</th>\n",
       "    </tr>\n",
       "  </thead>\n",
       "  <tbody>\n",
       "    <tr>\n",
       "      <th>Actual 0</th>\n",
       "      <td>2423</td>\n",
       "      <td>61</td>\n",
       "    </tr>\n",
       "    <tr>\n",
       "      <th>Actual 1</th>\n",
       "      <td>13</td>\n",
       "      <td>126</td>\n",
       "    </tr>\n",
       "  </tbody>\n",
       "</table>\n",
       "</div>"
      ],
      "text/plain": [
       "          LR Pred 0  LR Pred 1\n",
       "Actual 0       2423         61\n",
       "Actual 1         13        126"
      ]
     },
     "execution_count": 46,
     "metadata": {},
     "output_type": "execute_result"
    }
   ],
   "source": [
    "rus_cm = confusion_matrix(y_test, rus_pred)\n",
    "\n",
    "rus_cm_df = pd.DataFrame(rus_cm, \n",
    "                         index=[\"Actual 0\", \"Actual 1\"], \n",
    "                         columns=[\"LR Pred 0\", \"LR Pred 1\"])\n",
    "\n",
    "rus_cm_df"
   ]
  },
  {
   "cell_type": "code",
   "execution_count": 47,
   "metadata": {},
   "outputs": [
    {
     "name": "stdout",
     "output_type": "stream",
     "text": [
      "Random Undersampling + Logistic Regression\n",
      "              precision    recall  f1-score   support\n",
      "\n",
      "           0       0.99      0.98      0.98      2484\n",
      "           1       0.67      0.91      0.77       139\n",
      "\n",
      "    accuracy                           0.97      2623\n",
      "   macro avg       0.83      0.94      0.88      2623\n",
      "weighted avg       0.98      0.97      0.97      2623\n",
      "\n"
     ]
    }
   ],
   "source": [
    "print(\"Random Undersampling + Logistic Regression\")\n",
    "print(classification_report(y_test, rus_pred))"
   ]
  },
  {
   "cell_type": "markdown",
   "metadata": {},
   "source": [
    "## Combination Sampling"
   ]
  },
  {
   "cell_type": "code",
   "execution_count": 48,
   "metadata": {},
   "outputs": [
    {
     "data": {
      "text/plain": [
       "Counter({0: 7289, 1: 7457})"
      ]
     },
     "execution_count": 48,
     "metadata": {},
     "output_type": "execute_result"
    }
   ],
   "source": [
    "from imblearn.combine import SMOTEENN\n",
    "\n",
    "sm = SMOTEENN(random_state=1)\n",
    "\n",
    "X_comb_sampling, y_comb_sampling = sm.fit_resample(X_train, \n",
    "                                                   y_train)\n",
    "\n",
    "Counter(y_comb_sampling)"
   ]
  },
  {
   "cell_type": "code",
   "execution_count": 49,
   "metadata": {},
   "outputs": [],
   "source": [
    "sm = LogisticRegression(C=1.0, \n",
    "                        class_weight=None, \n",
    "                        dual=False, \n",
    "                        fit_intercept=True,\n",
    "                        intercept_scaling=1, \n",
    "                        l1_ratio=None, \n",
    "                        max_iter=1500,\n",
    "                        n_jobs=None,\n",
    "                        penalty='l2', \n",
    "                        random_state=1,\n",
    "                        solver='lbfgs',\n",
    "                        tol=0.0001, \n",
    "                        verbose=0,\n",
    "                        warm_start=False)\n",
    "\n",
    "sm.fit(X_comb_sampling, y_comb_sampling)\n",
    "\n",
    "sm_pred = sm.predict(X_test)"
   ]
  },
  {
   "cell_type": "code",
   "execution_count": 50,
   "metadata": {},
   "outputs": [
    {
     "data": {
      "text/html": [
       "<div>\n",
       "<style scoped>\n",
       "    .dataframe tbody tr th:only-of-type {\n",
       "        vertical-align: middle;\n",
       "    }\n",
       "\n",
       "    .dataframe tbody tr th {\n",
       "        vertical-align: top;\n",
       "    }\n",
       "\n",
       "    .dataframe thead th {\n",
       "        text-align: right;\n",
       "    }\n",
       "</style>\n",
       "<table border=\"1\" class=\"dataframe\">\n",
       "  <thead>\n",
       "    <tr style=\"text-align: right;\">\n",
       "      <th></th>\n",
       "      <th>LR Pred 0</th>\n",
       "      <th>LR Pred 1</th>\n",
       "    </tr>\n",
       "  </thead>\n",
       "  <tbody>\n",
       "    <tr>\n",
       "      <th>Actual 0</th>\n",
       "      <td>2451</td>\n",
       "      <td>33</td>\n",
       "    </tr>\n",
       "    <tr>\n",
       "      <th>Actual 1</th>\n",
       "      <td>14</td>\n",
       "      <td>125</td>\n",
       "    </tr>\n",
       "  </tbody>\n",
       "</table>\n",
       "</div>"
      ],
      "text/plain": [
       "          LR Pred 0  LR Pred 1\n",
       "Actual 0       2451         33\n",
       "Actual 1         14        125"
      ]
     },
     "execution_count": 50,
     "metadata": {},
     "output_type": "execute_result"
    }
   ],
   "source": [
    "sm_cm = confusion_matrix(y_test, sm_pred)\n",
    "\n",
    "sm_cm_df = pd.DataFrame(sm_cm, \n",
    "                        index=[\"Actual 0\", \"Actual 1\"], \n",
    "                        columns=[\"LR Pred 0\", \"LR Pred 1\"])\n",
    "\n",
    "sm_cm_df"
   ]
  },
  {
   "cell_type": "code",
   "execution_count": 51,
   "metadata": {},
   "outputs": [
    {
     "name": "stdout",
     "output_type": "stream",
     "text": [
      "Random Combined Sampling + Logistic Regression\n",
      "              precision    recall  f1-score   support\n",
      "\n",
      "           0       0.99      0.99      0.99      2484\n",
      "           1       0.79      0.90      0.84       139\n",
      "\n",
      "    accuracy                           0.98      2623\n",
      "   macro avg       0.89      0.94      0.92      2623\n",
      "weighted avg       0.98      0.98      0.98      2623\n",
      "\n"
     ]
    }
   ],
   "source": [
    "print(\"Random Combined Sampling + Logistic Regression\")\n",
    "\n",
    "print(classification_report(y_test, sm_pred))"
   ]
  },
  {
   "cell_type": "markdown",
   "metadata": {},
   "source": [
    "## Ensemble"
   ]
  },
  {
   "cell_type": "code",
   "execution_count": 52,
   "metadata": {},
   "outputs": [],
   "source": [
    "from imblearn.ensemble import BalancedRandomForestClassifier\n",
    "\n",
    "brf = BalancedRandomForestClassifier(n_estimators=400, \n",
    "                                     random_state=1)\n",
    "\n",
    "brf.fit(X_train, y_train)\n",
    "\n",
    "brf_pred = brf.predict(X_test)"
   ]
  },
  {
   "cell_type": "code",
   "execution_count": 38,
   "metadata": {},
   "outputs": [
    {
     "name": "stdout",
     "output_type": "stream",
     "text": [
      "                   pre       rec       spe        f1       geo       iba       sup\n",
      "\n",
      "          0       0.99      0.99      0.91      0.99      0.95      0.90      2484\n",
      "          1       0.79      0.91      0.99      0.84      0.95      0.89       139\n",
      "\n",
      "avg / total       0.98      0.98      0.91      0.98      0.95      0.90      2623\n",
      "\n"
     ]
    }
   ],
   "source": [
    "print(classification_report_imbalanced(y_test, brf_pred))"
   ]
  },
  {
   "cell_type": "markdown",
   "metadata": {},
   "source": [
    "## Precision Recall Curve"
   ]
  },
  {
   "cell_type": "code",
   "execution_count": 53,
   "metadata": {},
   "outputs": [],
   "source": [
    "from sklearn.metrics import precision_recall_curve\n",
    "\n",
    "probs_ros_sampling = ros.predict_proba(X_test)[:, 1]\n",
    "probs_rus_sampling = rus.predict_proba(X_test)[:, 1]\n",
    "probs_comb_sampling = sm.predict_proba(X_test)[:, 1]\n",
    "probs_rf = brf.predict_proba(X_test)[:, 1]\n",
    "\n",
    "precision_ros, recall_ros, _ = precision_recall_curve(y_test, probs_ros_sampling, pos_label=1)\n",
    "precision_rus, recall_rus, _ = precision_recall_curve(y_test, probs_rus_sampling, pos_label=1)\n",
    "precision_comb_sampling, recall_comb_sampling, _ = precision_recall_curve(y_test, probs_comb_sampling, pos_label=1)\n",
    "precision_rf, recall_rf, _ = precision_recall_curve(y_test, probs_rf, pos_label=1)"
   ]
  },
  {
   "cell_type": "code",
   "execution_count": 54,
   "metadata": {},
   "outputs": [
    {
     "data": {
      "text/plain": [
       "[<matplotlib.lines.Line2D at 0x20bb825e8b0>]"
      ]
     },
     "execution_count": 54,
     "metadata": {},
     "output_type": "execute_result"
    },
    {
     "data": {
      "image/png": "[encoded data removed]",
      "text/plain": [
       "<Figure size 432x288 with 1 Axes>"
      ]
     },
     "metadata": {
      "needs_background": "light"
     },
     "output_type": "display_data"
    }
   ],
   "source": [
    "plt.plot(precision_ros, recall_ros, marker='x', color='k')\n",
    "plt.plot(precision_rus, recall_rus, marker='x', color='b')\n",
    "plt.plot(precision_comb_sampling, recall_comb_sampling, marker='x', color='r')\n",
    "plt.plot(precision_rf, recall_rf, marker='.', color='y')"
   ]
  }
 ],
 "metadata": {
  "kernelspec": {
   "display_name": "Python 3",
   "language": "python",
   "name": "python3"
  },
  "language_info": {
   "codemirror_mode": {
    "name": "ipython",
    "version": 3
   },
   "file_extension": ".py",
   "mimetype": "text/x-python",
   "name": "python",
   "nbconvert_exporter": "python",
   "pygments_lexer": "ipython3",
   "version": "3.8.8"
  }
 },
 "nbformat": 4,
 "nbformat_minor": 4
}
