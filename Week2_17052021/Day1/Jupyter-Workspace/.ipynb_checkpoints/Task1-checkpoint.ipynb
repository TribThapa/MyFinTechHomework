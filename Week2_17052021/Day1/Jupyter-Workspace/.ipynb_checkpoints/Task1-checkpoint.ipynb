{
 "cells": [
  {
   "cell_type": "markdown",
   "metadata": {},
   "source": [
    "### Hello World"
   ]
  },
  {
   "cell_type": "code",
   "execution_count": 1,
   "metadata": {},
   "outputs": [
    {
     "name": "stdout",
     "output_type": "stream",
     "text": [
      "hello world\n"
     ]
    }
   ],
   "source": [
    "print('hello world')"
   ]
  },
  {
   "cell_type": "code",
   "execution_count": 2,
   "metadata": {},
   "outputs": [
    {
     "data": {
      "text/plain": [
       "'C:\\\\Users\\\\TribThapa\\\\Desktop\\\\Thapa\\\\ResearchFellow\\\\Courses\\\\FinTech_Bootcamp_MonashUni2021\\\\monu-mel-virt-fin-pt-05-2021-u-c\\\\MyFinTechHomework\\\\Week2_17052021\\\\Unit1Day1\\\\Jupyter-Workspace'"
      ]
     },
     "execution_count": 2,
     "metadata": {},
     "output_type": "execute_result"
    }
   ],
   "source": [
    "pwd"
   ]
  },
  {
   "cell_type": "code",
   "execution_count": 3,
   "metadata": {},
   "outputs": [
    {
     "name": "stdout",
     "output_type": "stream",
     "text": [
      " Volume in drive C is Windows\n",
      " Volume Serial Number is 8E17-4AF8\n",
      "\n",
      " Directory of C:\\Users\\TribThapa\\Desktop\\Thapa\\ResearchFellow\\Courses\\FinTech_Bootcamp_MonashUni2021\\monu-mel-virt-fin-pt-05-2021-u-c\\MyFinTechHomework\\Week2_17052021\\Unit1Day1\\Jupyter-Workspace\n",
      "\n",
      "17-May-21  06:54 PM    <DIR>          .\n",
      "17-May-21  06:54 PM    <DIR>          ..\n",
      "17-May-21  06:53 PM    <DIR>          .ipynb_checkpoints\n",
      "17-May-21  06:54 PM               908 Task1.ipynb\n",
      "               1 File(s)            908 bytes\n",
      "               3 Dir(s)  1,423,066,361,856 bytes free\n"
     ]
    }
   ],
   "source": [
    "ls"
   ]
  },
  {
   "cell_type": "code",
   "execution_count": 4,
   "metadata": {},
   "outputs": [],
   "source": [
    "echo 'Jupyter lab is up and running' > jupyter_test.txt"
   ]
  },
  {
   "cell_type": "code",
   "execution_count": 9,
   "metadata": {},
   "outputs": [
    {
     "name": "stdout",
     "output_type": "stream",
     "text": [
      "'Jupyter lab is up and running' \n",
      "\n"
     ]
    }
   ],
   "source": [
    "f = open('jupyter_test.txt', 'r')\n",
    "file_contents = f.read()\n",
    "print(file_contents)"
   ]
  },
  {
   "cell_type": "code",
   "execution_count": null,
   "metadata": {},
   "outputs": [],
   "source": []
  }
 ],
 "metadata": {
  "kernelspec": {
   "display_name": "Python 3",
   "language": "python",
   "name": "python3"
  },
  "language_info": {
   "codemirror_mode": {
    "name": "ipython",
    "version": 3
   },
   "file_extension": ".py",
   "mimetype": "text/x-python",
   "name": "python",
   "nbconvert_exporter": "python",
   "pygments_lexer": "ipython3",
   "version": "3.7.1"
  }
 },
 "nbformat": 4,
 "nbformat_minor": 2
}
