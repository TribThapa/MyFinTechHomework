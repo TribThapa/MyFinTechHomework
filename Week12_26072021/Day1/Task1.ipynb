{
 "cells": [
  {
   "cell_type": "code",
   "execution_count": 1,
   "id": "69825f2f-82d4-4623-bb83-413954dc3976",
   "metadata": {},
   "outputs": [],
   "source": [
    "from nltk.corpus import reuters\n",
    "from nltk.tokenize import sent_tokenize, word_tokenize"
   ]
  },
  {
   "cell_type": "code",
   "execution_count": 8,
   "id": "91ebcefe-7956-42b4-a83a-c37eec2c1a7e",
   "metadata": {},
   "outputs": [
    {
     "name": "stdout",
     "output_type": "stream",
     "text": [
      "['acq', 'alum', 'barley', 'bop', 'carcass', 'castor-oil', 'cocoa', 'coconut', 'coconut-oil', 'coffee', 'copper', 'copra-cake', 'corn', 'cotton', 'cotton-oil', 'cpi', 'cpu', 'crude', 'dfl', 'dlr', 'dmk', 'earn', 'fuel', 'gas', 'gnp', 'gold', 'grain', 'groundnut', 'groundnut-oil', 'heat', 'hog', 'housing', 'income', 'instal-debt', 'interest', 'ipi', 'iron-steel', 'jet', 'jobs', 'l-cattle', 'lead', 'lei', 'lin-oil', 'livestock', 'lumber', 'meal-feed', 'money-fx', 'money-supply', 'naphtha', 'nat-gas', 'nickel', 'nkr', 'nzdlr', 'oat', 'oilseed', 'orange', 'palladium', 'palm-oil', 'palmkernel', 'pet-chem', 'platinum', 'potato', 'propane', 'rand', 'rape-oil', 'rapeseed', 'reserves', 'retail', 'rice', 'rubber', 'rye', 'ship', 'silver', 'sorghum', 'soy-meal', 'soy-oil', 'soybean', 'strategic-metal', 'sugar', 'sun-meal', 'sun-oil', 'sunseed', 'tea', 'tin', 'trade', 'veg-oil', 'wheat', 'wpi', 'yen', 'zinc']\n"
     ]
    },
    {
     "name": "stderr",
     "output_type": "stream",
     "text": [
      "[nltk_data] Downloading package reuters to\n",
      "[nltk_data]     C:\\Users\\TribThapa\\AppData\\Roaming\\nltk_data...\n",
      "[nltk_data]   Package reuters is already up-to-date!\n"
     ]
    }
   ],
   "source": [
    "# The reuters corpus includes over 10,000 news articles, many of which are about financial markets\n",
    "# These articles are tagged by topic, or category\n",
    "\n",
    "import nltk\n",
    "nltk.download('reuters')\n",
    "print(reuters.categories())"
   ]
  },
  {
   "cell_type": "code",
   "execution_count": 10,
   "id": "9b9151d5-3195-4d5d-9b60-c4dd0277d591",
   "metadata": {},
   "outputs": [
    {
     "data": {
      "text/plain": [
       "'test/14829'"
      ]
     },
     "execution_count": 10,
     "metadata": {},
     "output_type": "execute_result"
    }
   ],
   "source": [
    "reuters.fileids(categories='crude')[0]"
   ]
  },
  {
   "cell_type": "code",
   "execution_count": 12,
   "id": "b9edc60a-91f1-4bea-92df-d15f3e0496d6",
   "metadata": {},
   "outputs": [
    {
     "name": "stdout",
     "output_type": "stream",
     "text": [
      "JAPAN TO REVISE LONG-TERM ENERGY DEMAND DOWNWARDS\n",
      "  The Ministry of International Trade and\n",
      "  Industry (MITI) will revise its long-term energy supply/demand\n",
      "  outlook by August to meet a forecast downtrend in Japanese\n",
      "  energy demand, ministry officials said.\n",
      "      MITI is expected to lower the projection for primary energy\n",
      "  supplies in the year 2000 to 550 mln kilolitres (kl) from 600\n",
      "  mln, they said.\n",
      "      The decision follows the emergence of structural changes in\n",
      "  Japanese industry following the rise in the value of the yen\n",
      "  and a decline in domestic electric power demand.\n",
      "      MITI is planning to work out a revised energy supply/demand\n",
      "  outlook through deliberations of committee meetings of the\n",
      "  Agency of Natural Resources and Energy, the officials said.\n",
      "      They said MITI will also review the breakdown of energy\n",
      "  supply sources, including oil, nuclear, coal and natural gas.\n",
      "      Nuclear energy provided the bulk of Japan's electric power\n",
      "  in the fiscal year ended March 31, supplying an estimated 27\n",
      "  pct on a kilowatt/hour basis, followed by oil (23 pct) and\n",
      "  liquefied natural gas (21 pct), they noted.\n",
      "  \n",
      "\n",
      "\n"
     ]
    }
   ],
   "source": [
    "article = reuters.raw('test/14829')\n",
    "print(article)"
   ]
  },
  {
   "cell_type": "markdown",
   "id": "5ec46eea-77c4-46c3-846e-0ee8105b0264",
   "metadata": {},
   "source": [
    "# Tokenizing with string splits"
   ]
  },
  {
   "cell_type": "code",
   "execution_count": 18,
   "id": "e063f182-24ae-4547-9dc3-a53199864534",
   "metadata": {},
   "outputs": [
    {
     "name": "stdout",
     "output_type": "stream",
     "text": [
      "['JAPAN', 'TO', 'REVISE', 'LONG-TERM', 'ENERGY', 'DEMAND', 'DOWNWARDS', 'The', 'Ministry', 'of', 'International', 'Trade', 'and', 'Industry', '(MITI)', 'will', 'revise', 'its', 'long-term', 'energy', 'supply/demand', 'outlook', 'by', 'August', 'to', 'meet', 'a', 'forecast', 'downtrend', 'in', 'Japanese', 'energy', 'demand,', 'ministry', 'officials', 'said.', 'MITI', 'is', 'expected', 'to', 'lower', 'the', 'projection', 'for', 'primary', 'energy', 'supplies', 'in', 'the', 'year', '2000', 'to', '550', 'mln', 'kilolitres', '(kl)', 'from', '600', 'mln,', 'they', 'said.', 'The', 'decision', 'follows', 'the', 'emergence', 'of', 'structural', 'changes', 'in', 'Japanese', 'industry', 'following', 'the', 'rise', 'in', 'the', 'value', 'of', 'the', 'yen', 'and', 'a', 'decline', 'in', 'domestic', 'electric', 'power', 'demand.', 'MITI', 'is', 'planning', 'to', 'work', 'out', 'a', 'revised', 'energy', 'supply/demand', 'outlook', 'through', 'deliberations', 'of', 'committee', 'meetings', 'of', 'the', 'Agency', 'of', 'Natural', 'Resources', 'and', 'Energy,', 'the', 'officials', 'said.', 'They', 'said', 'MITI', 'will', 'also', 'review', 'the', 'breakdown', 'of', 'energy', 'supply', 'sources,', 'including', 'oil,', 'nuclear,', 'coal', 'and', 'natural', 'gas.', 'Nuclear', 'energy', 'provided', 'the', 'bulk', 'of', \"Japan's\", 'electric', 'power', 'in', 'the', 'fiscal', 'year', 'ended', 'March', '31,', 'supplying', 'an', 'estimated', '27', 'pct', 'on', 'a', 'kilowatt/hour', 'basis,', 'followed', 'by', 'oil', '(23', 'pct)', 'and', 'liquefied', 'natural', 'gas', '(21', 'pct),', 'they', 'noted.']\n"
     ]
    }
   ],
   "source": [
    "print(article.split())"
   ]
  },
  {
   "cell_type": "code",
   "execution_count": 23,
   "id": "960ffc08-a3d2-41e9-8610-af428b6818a1",
   "metadata": {},
   "outputs": [
    {
     "name": "stdout",
     "output_type": "stream",
     "text": [
      "[\"JAPAN TO REVISE LONG-TERM ENERGY DEMAND DOWNWARDS\\n  The Ministry of International Trade and\\n  Industry (MITI) will revise its long-term energy supply/demand\\n  outlook by August to meet a forecast downtrend in Japanese\\n  energy demand, ministry officials said.\\n      MITI is expected to lower the projection for primary energy\\n  supplies in the year 2000 to 550 mln kilolitres (kl) from 600\\n  mln, they said.\\n      The decision follows the emergence of structural changes in\\n  Japanese industry following the rise in the value of the yen\\n  and a decline in domestic electric power demand.\\n      MITI is planning to work out a revised energy supply/demand\\n  outlook through deliberations of committee meetings of the\\n  Agency of Natural Resources and Energy, the officials said.\\n      They said MITI will also review the breakdown of energy\\n  supply sources, including oil, nuclear, coal and natural gas.\\n      Nuclear energy provided the bulk of Japan's electric power\\n  in the fiscal year ended March 31, supplying an estimated 27\\n  pct on a kilowatt/hour basis, followed by oil (23 pct) and\\n  liquefied natural gas (21 pct), they noted.\\n  \\n\\n\"]\n",
      "\n",
      "['JAPAN TO REVISE LONG-TERM ENERGY DEMAND DOWNWARDS\\n', 'The Ministry of International Trade and\\n', 'Industry (MITI) will revise its long-term energy supply/demand\\n', 'outlook by August to meet a forecast downtrend in Japanese\\n', 'energy demand, ministry officials said.\\n', '', '', 'MITI is expected to lower the projection for primary energy\\n', 'supplies in the year 2000 to 550 mln kilolitres (kl) from 600\\n', 'mln, they said.\\n', '', '', 'The decision follows the emergence of structural changes in\\n', 'Japanese industry following the rise in the value of the yen\\n', 'and a decline in domestic electric power demand.\\n', '', '', 'MITI is planning to work out a revised energy supply/demand\\n', 'outlook through deliberations of committee meetings of the\\n', 'Agency of Natural Resources and Energy, the officials said.\\n', '', '', 'They said MITI will also review the breakdown of energy\\n', 'supply sources, including oil, nuclear, coal and natural gas.\\n', '', '', \"Nuclear energy provided the bulk of Japan's electric power\\n\", 'in the fiscal year ended March 31, supplying an estimated 27\\n', 'pct on a kilowatt/hour basis, followed by oil (23 pct) and\\n', 'liquefied natural gas (21 pct), they noted.\\n', '\\n\\n']\n"
     ]
    }
   ],
   "source": [
    "sent = print(article.split(' . '))\n",
    "print()\n",
    "print(article.split('  '))"
   ]
  },
  {
   "cell_type": "markdown",
   "id": "926d64f9-233e-437b-a83c-1571c10ead1f",
   "metadata": {},
   "source": [
    "# NLTK Tokenization"
   ]
  },
  {
   "cell_type": "code",
   "execution_count": 24,
   "id": "2cf02bf1-de10-4a27-b9e5-bd729932965d",
   "metadata": {},
   "outputs": [
    {
     "data": {
      "text/plain": [
       "['JAPAN TO REVISE LONG-TERM ENERGY DEMAND DOWNWARDS\\n  The Ministry of International Trade and\\n  Industry (MITI) will revise its long-term energy supply/demand\\n  outlook by August to meet a forecast downtrend in Japanese\\n  energy demand, ministry officials said.',\n",
       " 'MITI is expected to lower the projection for primary energy\\n  supplies in the year 2000 to 550 mln kilolitres (kl) from 600\\n  mln, they said.',\n",
       " 'The decision follows the emergence of structural changes in\\n  Japanese industry following the rise in the value of the yen\\n  and a decline in domestic electric power demand.',\n",
       " 'MITI is planning to work out a revised energy supply/demand\\n  outlook through deliberations of committee meetings of the\\n  Agency of Natural Resources and Energy, the officials said.',\n",
       " 'They said MITI will also review the breakdown of energy\\n  supply sources, including oil, nuclear, coal and natural gas.',\n",
       " \"Nuclear energy provided the bulk of Japan's electric power\\n  in the fiscal year ended March 31, supplying an estimated 27\\n  pct on a kilowatt/hour basis, followed by oil (23 pct) and\\n  liquefied natural gas (21 pct), they noted.\"]"
      ]
     },
     "execution_count": 24,
     "metadata": {},
     "output_type": "execute_result"
    }
   ],
   "source": [
    "#breaks sentences into sentences broken by periods\n",
    "sent_tokenize(article) "
   ]
  },
  {
   "cell_type": "code",
   "execution_count": 26,
   "id": "f5b17028-0a51-49b0-847c-003eb76f80bc",
   "metadata": {},
   "outputs": [
    {
     "name": "stdout",
     "output_type": "stream",
     "text": [
      "['JAPAN', 'TO', 'REVISE', 'LONG-TERM', 'ENERGY', 'DEMAND', 'DOWNWARDS', 'The', 'Ministry', 'of', 'International', 'Trade', 'and', 'Industry', '(', 'MITI', ')', 'will', 'revise', 'its', 'long-term', 'energy', 'supply/demand', 'outlook', 'by', 'August', 'to', 'meet', 'a', 'forecast', 'downtrend', 'in', 'Japanese', 'energy', 'demand', ',', 'ministry', 'officials', 'said', '.', 'MITI', 'is', 'expected', 'to', 'lower', 'the', 'projection', 'for', 'primary', 'energy', 'supplies', 'in', 'the', 'year', '2000', 'to', '550', 'mln', 'kilolitres', '(', 'kl', ')', 'from', '600', 'mln', ',', 'they', 'said', '.', 'The', 'decision', 'follows', 'the', 'emergence', 'of', 'structural', 'changes', 'in', 'Japanese', 'industry', 'following', 'the', 'rise', 'in', 'the', 'value', 'of', 'the', 'yen', 'and', 'a', 'decline', 'in', 'domestic', 'electric', 'power', 'demand', '.', 'MITI', 'is', 'planning', 'to', 'work', 'out', 'a', 'revised', 'energy', 'supply/demand', 'outlook', 'through', 'deliberations', 'of', 'committee', 'meetings', 'of', 'the', 'Agency', 'of', 'Natural', 'Resources', 'and', 'Energy', ',', 'the', 'officials', 'said', '.', 'They', 'said', 'MITI', 'will', 'also', 'review', 'the', 'breakdown', 'of', 'energy', 'supply', 'sources', ',', 'including', 'oil', ',', 'nuclear', ',', 'coal', 'and', 'natural', 'gas', '.', 'Nuclear', 'energy', 'provided', 'the', 'bulk', 'of', 'Japan', \"'s\", 'electric', 'power', 'in', 'the', 'fiscal', 'year', 'ended', 'March', '31', ',', 'supplying', 'an', 'estimated', '27', 'pct', 'on', 'a', 'kilowatt/hour', 'basis', ',', 'followed', 'by', 'oil', '(', '23', 'pct', ')', 'and', 'liquefied', 'natural', 'gas', '(', '21', 'pct', ')', ',', 'they', 'noted', '.']\n"
     ]
    }
   ],
   "source": [
    "print(word_tokenize(article))"
   ]
  },
  {
   "cell_type": "markdown",
   "id": "6ac4c697-43fb-400a-9712-e859e465e96c",
   "metadata": {},
   "source": [
    "# Task"
   ]
  },
  {
   "cell_type": "code",
   "execution_count": 34,
   "id": "7acf0288-cc0c-4e81-b11a-d93f84d91f41",
   "metadata": {},
   "outputs": [],
   "source": [
    "cpi = reuters.fileids(categories='cpi')"
   ]
  },
  {
   "cell_type": "code",
   "execution_count": 37,
   "id": "5c1d1f71-4894-4b7e-a63d-42b1b0ead2f4",
   "metadata": {},
   "outputs": [],
   "source": [
    "cpi_list = []\n",
    "\n",
    "for i in range(len(cpi)):\n",
    "    \n",
    "    cpi_raw = reuters.raw(cpi[i])\n",
    "    \n",
    "    cpi_list.append(cpi_raw)\n",
    "    \n",
    "#cpi_list"
   ]
  },
  {
   "cell_type": "code",
   "execution_count": 50,
   "id": "d373be9d-12e6-4b24-a907-da0d1910d16a",
   "metadata": {},
   "outputs": [],
   "source": [
    "cpi_sent = []\n",
    "\n",
    "for sent in range(len(cpi_list)):\n",
    "        \n",
    "    sentence = sent_tokenize(cpi_list[sent])\n",
    "    \n",
    "    cpi_sent.append(sentence)\n",
    "\n",
    "#cpi_sent"
   ]
  },
  {
   "cell_type": "code",
   "execution_count": 52,
   "id": "e6086da6-6d53-42bb-9b9d-dcec0ee862cc",
   "metadata": {},
   "outputs": [],
   "source": [
    "cpi_word = []\n",
    "\n",
    "for word in range(len(cpi_sent)):\n",
    "    \n",
    "    sent_list = []\n",
    "    \n",
    "    for sent_word in range(len(cpi_sent[word])):\n",
    "        \n",
    "        word_tok = word_tokenize(cpi_sent[word][sent_word])\n",
    "        \n",
    "        sent_list.append(word_tok)\n",
    "       \n",
    "    cpi_word.append(sent_list)\n",
    "    \n"
   ]
  },
  {
   "cell_type": "code",
   "execution_count": 55,
   "id": "f4aea3bb-7265-4b16-853a-e5aad343f4cd",
   "metadata": {},
   "outputs": [
    {
     "data": {
      "text/html": [
       "<div>\n",
       "<style scoped>\n",
       "    .dataframe tbody tr th:only-of-type {\n",
       "        vertical-align: middle;\n",
       "    }\n",
       "\n",
       "    .dataframe tbody tr th {\n",
       "        vertical-align: top;\n",
       "    }\n",
       "\n",
       "    .dataframe thead th {\n",
       "        text-align: right;\n",
       "    }\n",
       "</style>\n",
       "<table border=\"1\" class=\"dataframe\">\n",
       "  <thead>\n",
       "    <tr style=\"text-align: right;\">\n",
       "      <th></th>\n",
       "      <th>File_IDs</th>\n",
       "      <th>Sentences</th>\n",
       "      <th>Word</th>\n",
       "    </tr>\n",
       "  </thead>\n",
       "  <tbody>\n",
       "    <tr>\n",
       "      <th>0</th>\n",
       "      <td>ECONOMIC SPOTLIGHT - KUWAITI ECONOMY\\n  Kuwait...</td>\n",
       "      <td>[ECONOMIC SPOTLIGHT - KUWAITI ECONOMY\\n  Kuwai...</td>\n",
       "      <td>[[ECONOMIC, SPOTLIGHT, -, KUWAITI, ECONOMY, Ku...</td>\n",
       "    </tr>\n",
       "    <tr>\n",
       "      <th>1</th>\n",
       "      <td>INDONESIAN INFLATION RATE 8.8 PCT IN 1986/87\\n...</td>\n",
       "      <td>[INDONESIAN INFLATION RATE 8.8 PCT IN 1986/87\\...</td>\n",
       "      <td>[[INDONESIAN, INFLATION, RATE, 8.8, PCT, IN, 1...</td>\n",
       "    </tr>\n",
       "    <tr>\n",
       "      <th>2</th>\n",
       "      <td>HUNGARY RAISES PRICES IN EFFORT TO CURB DEFICI...</td>\n",
       "      <td>[HUNGARY RAISES PRICES IN EFFORT TO CURB DEFIC...</td>\n",
       "      <td>[[HUNGARY, RAISES, PRICES, IN, EFFORT, TO, CUR...</td>\n",
       "    </tr>\n",
       "    <tr>\n",
       "      <th>3</th>\n",
       "      <td>AUSTRALIAN GOVERNMENT MUST CUT SPENDING, ANZ S...</td>\n",
       "      <td>[AUSTRALIAN GOVERNMENT MUST CUT SPENDING, ANZ ...</td>\n",
       "      <td>[[AUSTRALIAN, GOVERNMENT, MUST, CUT, SPENDING,...</td>\n",
       "    </tr>\n",
       "    <tr>\n",
       "      <th>4</th>\n",
       "      <td>YUGOSLAV ECONOMY WORSENED IN 1986, BANK DATA S...</td>\n",
       "      <td>[YUGOSLAV ECONOMY WORSENED IN 1986, BANK DATA ...</td>\n",
       "      <td>[[YUGOSLAV, ECONOMY, WORSENED, IN, 1986, ,, BA...</td>\n",
       "    </tr>\n",
       "  </tbody>\n",
       "</table>\n",
       "</div>"
      ],
      "text/plain": [
       "                                            File_IDs  \\\n",
       "0  ECONOMIC SPOTLIGHT - KUWAITI ECONOMY\\n  Kuwait...   \n",
       "1  INDONESIAN INFLATION RATE 8.8 PCT IN 1986/87\\n...   \n",
       "2  HUNGARY RAISES PRICES IN EFFORT TO CURB DEFICI...   \n",
       "3  AUSTRALIAN GOVERNMENT MUST CUT SPENDING, ANZ S...   \n",
       "4  YUGOSLAV ECONOMY WORSENED IN 1986, BANK DATA S...   \n",
       "\n",
       "                                           Sentences  \\\n",
       "0  [ECONOMIC SPOTLIGHT - KUWAITI ECONOMY\\n  Kuwai...   \n",
       "1  [INDONESIAN INFLATION RATE 8.8 PCT IN 1986/87\\...   \n",
       "2  [HUNGARY RAISES PRICES IN EFFORT TO CURB DEFIC...   \n",
       "3  [AUSTRALIAN GOVERNMENT MUST CUT SPENDING, ANZ ...   \n",
       "4  [YUGOSLAV ECONOMY WORSENED IN 1986, BANK DATA ...   \n",
       "\n",
       "                                                Word  \n",
       "0  [[ECONOMIC, SPOTLIGHT, -, KUWAITI, ECONOMY, Ku...  \n",
       "1  [[INDONESIAN, INFLATION, RATE, 8.8, PCT, IN, 1...  \n",
       "2  [[HUNGARY, RAISES, PRICES, IN, EFFORT, TO, CUR...  \n",
       "3  [[AUSTRALIAN, GOVERNMENT, MUST, CUT, SPENDING,...  \n",
       "4  [[YUGOSLAV, ECONOMY, WORSENED, IN, 1986, ,, BA...  "
      ]
     },
     "execution_count": 55,
     "metadata": {},
     "output_type": "execute_result"
    }
   ],
   "source": [
    "import pandas as pd\n",
    "\n",
    "final_df = pd.DataFrame({\"File_IDs\": cpi_list,\n",
    "                         \"Sentences\": cpi_sent,\n",
    "                         \"Word\": cpi_word})\n",
    "\n",
    "final_df.head()"
   ]
  }
 ],
 "metadata": {
  "kernelspec": {
   "display_name": "Python 3",
   "language": "python",
   "name": "python3"
  },
  "language_info": {
   "codemirror_mode": {
    "name": "ipython",
    "version": 3
   },
   "file_extension": ".py",
   "mimetype": "text/x-python",
   "name": "python",
   "nbconvert_exporter": "python",
   "pygments_lexer": "ipython3",
   "version": "3.7.10"
  }
 },
 "nbformat": 4,
 "nbformat_minor": 5
}
