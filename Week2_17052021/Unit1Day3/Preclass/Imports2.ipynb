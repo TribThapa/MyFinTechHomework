{
 "cells": [
  {
   "cell_type": "code",
   "execution_count": 2,
   "metadata": {},
   "outputs": [],
   "source": [
    "# @TODO: Import the NumPy library\n",
    "\n",
    "import numpy"
   ]
  },
  {
   "cell_type": "code",
   "execution_count": 11,
   "metadata": {},
   "outputs": [
    {
     "name": "stdout",
     "output_type": "stream",
     "text": [
      "{'conservative': 267.94617853971704, 'neutral': 401.91926780957544, 'aggressive': 285.8923570794341}\n",
      "\n",
      "{'conservative': 267.94617853971704, 'neutral': 401.91926780957544, 'aggressive': 285.8923570794341}\n",
      "\n",
      "{'conservative': 267.94617853971704, 'neutral': 401.91926780957544, 'aggressive': 285.8923570794341}\n",
      "\n",
      "conservative 267.94617853971704\n",
      "neutral 401.91926780957544\n",
      "aggressive 285.8923570794341\n",
      "\n",
      "----------------------------------------------------\n",
      "The project scenario with the max NPV is neutral with a NPB of 401.91926780957544\n",
      "The project scenario with the min NPV is aggressive with a NPB of 285.8923570794341\n"
     ]
    },
    {
     "name": "stderr",
     "output_type": "stream",
     "text": [
      "C:\\Users\\TribThapa\\Anaconda3\\lib\\site-packages\\ipykernel_launcher.py:15: DeprecationWarning: numpy.npv is deprecated and will be removed from NumPy 1.20. Use numpy_financial.npv instead (https://pypi.org/project/numpy-financial/).\n",
      "  from ipykernel import kernelapp as app\n",
      "C:\\Users\\TribThapa\\Anaconda3\\lib\\site-packages\\ipykernel_launcher.py:18: DeprecationWarning: numpy.npv is deprecated and will be removed from NumPy 1.20. Use numpy_financial.npv instead (https://pypi.org/project/numpy-financial/).\n",
      "C:\\Users\\TribThapa\\Anaconda3\\lib\\site-packages\\ipykernel_launcher.py:21: DeprecationWarning: numpy.npv is deprecated and will be removed from NumPy 1.20. Use numpy_financial.npv instead (https://pypi.org/project/numpy-financial/).\n"
     ]
    }
   ],
   "source": [
    "# Discount Rate\n",
    "discount_rate = 0.1\n",
    "\n",
    "# Initial Investment, Cash Flow 1, Cash Flow 2, Cash Flow 3, Cash Flow 4\n",
    "cash_flows_conservative = [-1000, 400, 400, 400, 400]\n",
    "cash_flows_neutral = [-1500, 600, 600, 600, 600]\n",
    "cash_flows_aggressive = [-2250, 800, 800, 800, 800]\n",
    "\n",
    "# @TODO: Initialize dictionary to hold NPV return values\n",
    "npv = {}\n",
    "\n",
    "# @TODO: Calculate the NPV for each scenario\n",
    "npv_dict[\"conservative\"] = numpy.npv(discount_rate, cash_flows_conservative)\n",
    "print(npv_dict)\n",
    "print()\n",
    "npv_dict[\"neutral\"] = numpy.npv(discount_rate, cash_flows_neutral)\n",
    "print(npv_dict)\n",
    "print()\n",
    "npv_dict[\"aggressive\"] = numpy.npv(discount_rate, cash_flows_aggressive)\n",
    "print(npv_dict)\n",
    "print()\n",
    "\n",
    "# @TODO: Initialize variables\n",
    "max_value = 0\n",
    "min_value = 0\n",
    "\n",
    "# @TODO: Iterate over npv_dict to find the max key-value pair\n",
    "\n",
    "for key, value in npv_dict.items():\n",
    "    print(f\"{key} {value}\")\n",
    "          \n",
    "    if max_value == 0:\n",
    "        max_value = value\n",
    "        max_key = key\n",
    "    elif value > max_value:\n",
    "        max_value = value\n",
    "        max_key = key\n",
    "    \n",
    "    if min_value == 0:\n",
    "        min_value = value\n",
    "        min_key = key\n",
    "    elif min_value > 0:\n",
    "        min_value = value\n",
    "        min_key = key\n",
    "    \n",
    "# Print out the optimal project scenario with the highest NPV value\n",
    "print()\n",
    "print(\"----------------------------------------------------\")\n",
    "print(f\"The project scenario with the max NPV is {max_key} with a NPB of {max_value}\")\n",
    "print(f\"The project scenario with the min NPV is {min_key} with a NPB of {min_value}\")\n",
    "\n",
    " "
   ]
  },
  {
   "cell_type": "code",
   "execution_count": 8,
   "metadata": {},
   "outputs": [],
   "source": [
    "\n",
    "\n",
    "\n",
    "\n"
   ]
  },
  {
   "cell_type": "code",
   "execution_count": null,
   "metadata": {},
   "outputs": [],
   "source": []
  }
 ],
 "metadata": {
  "kernelspec": {
   "display_name": "Python 3",
   "language": "python",
   "name": "python3"
  },
  "language_info": {
   "codemirror_mode": {
    "name": "ipython",
    "version": 3
   },
   "file_extension": ".py",
   "mimetype": "text/x-python",
   "name": "python",
   "nbconvert_exporter": "python",
   "pygments_lexer": "ipython3",
   "version": "3.7.1"
  }
 },
 "nbformat": 4,
 "nbformat_minor": 2
}
