{
 "cells": [
  {
   "cell_type": "code",
   "execution_count": 28,
   "metadata": {},
   "outputs": [
    {
     "name": "stdout",
     "output_type": "stream",
     "text": [
      "620.9213230591549\n",
      "\n",
      "Buy because the discount is $420.92132305915493\n"
     ]
    }
   ],
   "source": [
    "# @TODO: Create a function to calculate present value\n",
    "def calc_present_value(future_value, interest, compounding, years):\n",
    "    \n",
    "    PV = future_value / ((1 + (interest/compounding)) ** (compounding*years))\n",
    "    \n",
    "    return PV\n",
    "\n",
    "\n",
    "# Intialize the zero-coupon bond parameters, assume compounding period is equal to 1\n",
    "price = 200\n",
    "future_value = 1000\n",
    "interest = .1\n",
    "compounding = 1\n",
    "years = 5\n",
    "\n",
    "# @TODO: Call the calculate_present_value() function and assign to a variable\n",
    "BondValue = calc_present_value(future_value, interest, compounding, years)\n",
    "print(BondValue)\n",
    "print()\n",
    "\n",
    "\n",
    "if BondValue > price:\n",
    "    Bond_vs_Price = BondValue - price\n",
    "    print(f\"Buy because the discount is ${Bond_vs_Price}\")\n",
    "elif BondValue < price:\n",
    "    Bond_vs_Price = BondValue - price\n",
    "    print(f\"Do not buy because the premium is ${Bond_vs_Price}\")\n"
   ]
  },
  {
   "cell_type": "code",
   "execution_count": null,
   "metadata": {},
   "outputs": [],
   "source": []
  }
 ],
 "metadata": {
  "kernelspec": {
   "display_name": "Python 3",
   "language": "python",
   "name": "python3"
  },
  "language_info": {
   "codemirror_mode": {
    "name": "ipython",
    "version": 3
   },
   "file_extension": ".py",
   "mimetype": "text/x-python",
   "name": "python",
   "nbconvert_exporter": "python",
   "pygments_lexer": "ipython3",
   "version": "3.7.1"
  }
 },
 "nbformat": 4,
 "nbformat_minor": 2
}
