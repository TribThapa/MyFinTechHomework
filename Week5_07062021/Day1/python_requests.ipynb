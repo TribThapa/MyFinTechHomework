{
 "cells": [
  {
   "cell_type": "markdown",
   "metadata": {},
   "source": [
    "## Ice Breakers on Request"
   ]
  },
  {
   "cell_type": "markdown",
   "metadata": {},
   "source": [
    "### Import requests library"
   ]
  },
  {
   "cell_type": "code",
   "execution_count": 161,
   "metadata": {},
   "outputs": [],
   "source": [
    "import requests\n",
    "import json"
   ]
  },
  {
   "cell_type": "markdown",
   "metadata": {},
   "source": [
    "### Declare `request_urls`"
   ]
  },
  {
   "cell_type": "code",
   "execution_count": 162,
   "metadata": {},
   "outputs": [],
   "source": [
    "# Declare `url` variables\n",
    "prog_joke_url = \"https://official-joke-api.appspot.com/jokes/programming/random\"\n",
    "rand_joke_url = \"https://official-joke-api.appspot.com/jokes/random\"\n",
    "cat_facts_url = \"https://catfact.ninja/facts\"\n",
    "daily_releases_url = \"https://www150.statcan.gc.ca/n1/dai-quo/ssi/homepage/daily-banner-eng.json\"\n",
    "us_gdp_data_url = \"http://api.worldbank.org/v2/country/us?format=json\""
   ]
  },
  {
   "cell_type": "markdown",
   "metadata": {},
   "source": [
    "### Execute `GET` request using `requests` library"
   ]
  },
  {
   "cell_type": "code",
   "execution_count": 163,
   "metadata": {},
   "outputs": [],
   "source": [
    "# Execute `GET` request with url\n",
    "response_data_prog = requests.get(prog_joke_url)\n",
    "response_data_rand = requests.get(rand_joke_url)\n",
    "response_data_cat = requests.get(cat_facts_url)\n",
    "response_data_daily = requests.get(daily_releases_url)\n",
    "response_data_us = requests.get(us_gdp_data_url)"
   ]
  },
  {
   "cell_type": "markdown",
   "metadata": {},
   "source": [
    "### Get response `status code`"
   ]
  },
  {
   "cell_type": "code",
   "execution_count": 164,
   "metadata": {},
   "outputs": [
    {
     "name": "stdout",
     "output_type": "stream",
     "text": [
      "200\n"
     ]
    }
   ],
   "source": [
    "# Print `response_data variable` 200: implies your request was successful and the server responded with the data you were requesting, whereas 404 implies an unsuccessful request.\n",
    "print(response_data_prog.status_code)"
   ]
  },
  {
   "cell_type": "code",
   "execution_count": 165,
   "metadata": {},
   "outputs": [
    {
     "name": "stdout",
     "output_type": "stream",
     "text": [
      "200\n"
     ]
    }
   ],
   "source": [
    "print(response_data_rand.status_code)"
   ]
  },
  {
   "cell_type": "code",
   "execution_count": 166,
   "metadata": {},
   "outputs": [
    {
     "name": "stdout",
     "output_type": "stream",
     "text": [
      "200\n"
     ]
    }
   ],
   "source": [
    "print(response_data_cat.status_code)"
   ]
  },
  {
   "cell_type": "code",
   "execution_count": 167,
   "metadata": {},
   "outputs": [
    {
     "name": "stdout",
     "output_type": "stream",
     "text": [
      "200\n"
     ]
    }
   ],
   "source": [
    "print(response_data_daily.status_code)"
   ]
  },
  {
   "cell_type": "code",
   "execution_count": 168,
   "metadata": {},
   "outputs": [
    {
     "name": "stdout",
     "output_type": "stream",
     "text": [
      "200\n"
     ]
    }
   ],
   "source": [
    "print(response_data_us.status_code)"
   ]
  },
  {
   "cell_type": "markdown",
   "metadata": {},
   "source": [
    "### Extract response `content`"
   ]
  },
  {
   "cell_type": "code",
   "execution_count": 169,
   "metadata": {},
   "outputs": [
    {
     "name": "stdout",
     "output_type": "stream",
     "text": [
      "b'{\"current_page\":1,\"data\":[{\"fact\":\"70% of your cat\\'s life is spent asleep.\",\"length\":39}],\"first_page_url\":\"https:\\\\/\\\\/catfact.ninja\\\\/facts?page=1\",\"from\":1,\"last_page\":332,\"last_page_url\":\"https:\\\\/\\\\/catfact.ninja\\\\/facts?page=332\",\"links\":[{\"url\":null,\"label\":\"pagination.previous\",\"active\":false},{\"url\":\"https:\\\\/\\\\/catfact.ninja\\\\/facts?page=1\",\"label\":\"1\",\"active\":true},{\"url\":\"https:\\\\/\\\\/catfact.ninja\\\\/facts?page=2\",\"label\":\"2\",\"active\":false},{\"url\":\"https:\\\\/\\\\/catfact.ninja\\\\/facts?page=3\",\"label\":\"3\",\"active\":false},{\"url\":\"https:\\\\/\\\\/catfact.ninja\\\\/facts?page=4\",\"label\":\"4\",\"active\":false},{\"url\":\"https:\\\\/\\\\/catfact.ninja\\\\/facts?page=5\",\"label\":\"5\",\"active\":false},{\"url\":\"https:\\\\/\\\\/catfact.ninja\\\\/facts?page=6\",\"label\":\"6\",\"active\":false},{\"url\":\"https:\\\\/\\\\/catfact.ninja\\\\/facts?page=7\",\"label\":\"7\",\"active\":false},{\"url\":\"https:\\\\/\\\\/catfact.ninja\\\\/facts?page=8\",\"label\":\"8\",\"active\":false},{\"url\":\"https:\\\\/\\\\/catfact.ninja\\\\/facts?page=9\",\"label\":\"9\",\"active\":false},{\"url\":\"https:\\\\/\\\\/catfact.ninja\\\\/facts?page=10\",\"label\":\"10\",\"active\":false},{\"url\":null,\"label\":\"...\",\"active\":false},{\"url\":\"https:\\\\/\\\\/catfact.ninja\\\\/facts?page=331\",\"label\":\"331\",\"active\":false},{\"url\":\"https:\\\\/\\\\/catfact.ninja\\\\/facts?page=332\",\"label\":\"332\",\"active\":false},{\"url\":\"https:\\\\/\\\\/catfact.ninja\\\\/facts?page=2\",\"label\":\"pagination.next\",\"active\":false}],\"next_page_url\":\"https:\\\\/\\\\/catfact.ninja\\\\/facts?page=2\",\"path\":\"https:\\\\/\\\\/catfact.ninja\\\\/facts\",\"per_page\":1,\"prev_page_url\":null,\"to\":1,\"total\":332}'\n"
     ]
    }
   ],
   "source": [
    "# Store response using `content` attribute\n",
    "response_content = response_data_cat.content\n",
    "print(response_content)"
   ]
  },
  {
   "cell_type": "markdown",
   "metadata": {},
   "source": [
    "### Convert output to JSON"
   ]
  },
  {
   "cell_type": "code",
   "execution_count": 174,
   "metadata": {},
   "outputs": [
    {
     "data": {
      "text/plain": [
       "{'current_page': 1,\n",
       " 'data': [{'fact': \"70% of your cat's life is spent asleep.\", 'length': 39}],\n",
       " 'first_page_url': 'https://catfact.ninja/facts?page=1',\n",
       " 'from': 1,\n",
       " 'last_page': 332,\n",
       " 'last_page_url': 'https://catfact.ninja/facts?page=332',\n",
       " 'links': [{'url': None, 'label': 'pagination.previous', 'active': False},\n",
       "  {'url': 'https://catfact.ninja/facts?page=1', 'label': '1', 'active': True},\n",
       "  {'url': 'https://catfact.ninja/facts?page=2', 'label': '2', 'active': False},\n",
       "  {'url': 'https://catfact.ninja/facts?page=3', 'label': '3', 'active': False},\n",
       "  {'url': 'https://catfact.ninja/facts?page=4', 'label': '4', 'active': False},\n",
       "  {'url': 'https://catfact.ninja/facts?page=5', 'label': '5', 'active': False},\n",
       "  {'url': 'https://catfact.ninja/facts?page=6', 'label': '6', 'active': False},\n",
       "  {'url': 'https://catfact.ninja/facts?page=7', 'label': '7', 'active': False},\n",
       "  {'url': 'https://catfact.ninja/facts?page=8', 'label': '8', 'active': False},\n",
       "  {'url': 'https://catfact.ninja/facts?page=9', 'label': '9', 'active': False},\n",
       "  {'url': 'https://catfact.ninja/facts?page=10',\n",
       "   'label': '10',\n",
       "   'active': False},\n",
       "  {'url': None, 'label': '...', 'active': False},\n",
       "  {'url': 'https://catfact.ninja/facts?page=331',\n",
       "   'label': '331',\n",
       "   'active': False},\n",
       "  {'url': 'https://catfact.ninja/facts?page=332',\n",
       "   'label': '332',\n",
       "   'active': False},\n",
       "  {'url': 'https://catfact.ninja/facts?page=2',\n",
       "   'label': 'pagination.next',\n",
       "   'active': False}],\n",
       " 'next_page_url': 'https://catfact.ninja/facts?page=2',\n",
       " 'path': 'https://catfact.ninja/facts',\n",
       " 'per_page': 1,\n",
       " 'prev_page_url': None,\n",
       " 'to': 1,\n",
       " 'total': 332}"
      ]
     },
     "execution_count": 174,
     "metadata": {},
     "output_type": "execute_result"
    }
   ],
   "source": [
    "response_data_prog_json = response_data_prog.json()\n",
    "response_data_prog_json\n",
    "\n",
    "response_data_rand_json = response_data_rand.json()\n",
    "response_data_rand_json\n",
    "\n",
    "response_data_cat_json = response_data_cat.json()\n",
    "response_data_cat_json\n",
    "\n",
    "#response_data_daily_json = response_data_daily.json()\n",
    "#response_data_daily_json\n",
    "\n",
    "#response_data_us_json = response_data_us.json()\n",
    "#response_data_us_json"
   ]
  },
  {
   "cell_type": "markdown",
   "metadata": {},
   "source": [
    "### Format data with `json.dumps`"
   ]
  },
  {
   "cell_type": "code",
   "execution_count": 171,
   "metadata": {},
   "outputs": [
    {
     "name": "stdout",
     "output_type": "stream",
     "text": [
      "{\n",
      "    \"current_page\": 1,\n",
      "    \"data\": [\n",
      "        {\n",
      "            \"fact\": \"70% of your cat's life is spent asleep.\",\n",
      "            \"length\": 39\n",
      "        }\n",
      "    ],\n",
      "    \"first_page_url\": \"https://catfact.ninja/facts?page=1\",\n",
      "    \"from\": 1,\n",
      "    \"last_page\": 332,\n",
      "    \"last_page_url\": \"https://catfact.ninja/facts?page=332\",\n",
      "    \"links\": [\n",
      "        {\n",
      "            \"active\": false,\n",
      "            \"label\": \"pagination.previous\",\n",
      "            \"url\": null\n",
      "        },\n",
      "        {\n",
      "            \"active\": true,\n",
      "            \"label\": \"1\",\n",
      "            \"url\": \"https://catfact.ninja/facts?page=1\"\n",
      "        },\n",
      "        {\n",
      "            \"active\": false,\n",
      "            \"label\": \"2\",\n",
      "            \"url\": \"https://catfact.ninja/facts?page=2\"\n",
      "        },\n",
      "        {\n",
      "            \"active\": false,\n",
      "            \"label\": \"3\",\n",
      "            \"url\": \"https://catfact.ninja/facts?page=3\"\n",
      "        },\n",
      "        {\n",
      "            \"active\": false,\n",
      "            \"label\": \"4\",\n",
      "            \"url\": \"https://catfact.ninja/facts?page=4\"\n",
      "        },\n",
      "        {\n",
      "            \"active\": false,\n",
      "            \"label\": \"5\",\n",
      "            \"url\": \"https://catfact.ninja/facts?page=5\"\n",
      "        },\n",
      "        {\n",
      "            \"active\": false,\n",
      "            \"label\": \"6\",\n",
      "            \"url\": \"https://catfact.ninja/facts?page=6\"\n",
      "        },\n",
      "        {\n",
      "            \"active\": false,\n",
      "            \"label\": \"7\",\n",
      "            \"url\": \"https://catfact.ninja/facts?page=7\"\n",
      "        },\n",
      "        {\n",
      "            \"active\": false,\n",
      "            \"label\": \"8\",\n",
      "            \"url\": \"https://catfact.ninja/facts?page=8\"\n",
      "        },\n",
      "        {\n",
      "            \"active\": false,\n",
      "            \"label\": \"9\",\n",
      "            \"url\": \"https://catfact.ninja/facts?page=9\"\n",
      "        },\n",
      "        {\n",
      "            \"active\": false,\n",
      "            \"label\": \"10\",\n",
      "            \"url\": \"https://catfact.ninja/facts?page=10\"\n",
      "        },\n",
      "        {\n",
      "            \"active\": false,\n",
      "            \"label\": \"...\",\n",
      "            \"url\": null\n",
      "        },\n",
      "        {\n",
      "            \"active\": false,\n",
      "            \"label\": \"331\",\n",
      "            \"url\": \"https://catfact.ninja/facts?page=331\"\n",
      "        },\n",
      "        {\n",
      "            \"active\": false,\n",
      "            \"label\": \"332\",\n",
      "            \"url\": \"https://catfact.ninja/facts?page=332\"\n",
      "        },\n",
      "        {\n",
      "            \"active\": false,\n",
      "            \"label\": \"pagination.next\",\n",
      "            \"url\": \"https://catfact.ninja/facts?page=2\"\n",
      "        }\n",
      "    ],\n",
      "    \"next_page_url\": \"https://catfact.ninja/facts?page=2\",\n",
      "    \"path\": \"https://catfact.ninja/facts\",\n",
      "    \"per_page\": 1,\n",
      "    \"prev_page_url\": null,\n",
      "    \"to\": 1,\n",
      "    \"total\": 332\n",
      "}\n"
     ]
    }
   ],
   "source": [
    "# Use json.dumps to format data\n",
    "response_data_cat_json_format = json.dumps(response_data_cat_json, indent=4, sort_keys=True)\n",
    "print(response_data_cat_json_format)"
   ]
  },
  {
   "cell_type": "markdown",
   "metadata": {},
   "source": [
    "### Select value and store as variable"
   ]
  },
  {
   "cell_type": "code",
   "execution_count": 175,
   "metadata": {},
   "outputs": [
    {
     "name": "stdout",
     "output_type": "stream",
     "text": [
      "[{'fact': \"70% of your cat's life is spent asleep.\", 'length': 39}]\n"
     ]
    }
   ],
   "source": [
    "joke = response_data_cat_json['data']\n",
    "print(joke)"
   ]
  },
  {
   "cell_type": "code",
   "execution_count": 177,
   "metadata": {},
   "outputs": [
    {
     "name": "stdout",
     "output_type": "stream",
     "text": [
      "332\n"
     ]
    }
   ],
   "source": [
    "# Print selected values\n",
    "ans = response_data_cat_json['last_page']\n",
    "print(ans)"
   ]
  }
 ],
 "metadata": {
  "kernelspec": {
   "display_name": "Python 3",
   "language": "python",
   "name": "python3"
  },
  "language_info": {
   "codemirror_mode": {
    "name": "ipython",
    "version": 3
   },
   "file_extension": ".py",
   "mimetype": "text/x-python",
   "name": "python",
   "nbconvert_exporter": "python",
   "pygments_lexer": "ipython3",
   "version": "3.7.10"
  }
 },
 "nbformat": 4,
 "nbformat_minor": 4
}
