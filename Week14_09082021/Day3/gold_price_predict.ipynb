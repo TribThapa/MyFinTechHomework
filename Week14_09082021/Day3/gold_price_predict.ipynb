{
 "cells": [
  {
   "cell_type": "markdown",
   "metadata": {},
   "source": [
    "# Students Do: Predicting Gold Closing Prices\n",
    "\n",
    "In this activity, you will gain hands-on experience by building an RNN LSTM for predicting gold closing prices using time-series data."
   ]
  },
  {
   "cell_type": "code",
   "execution_count": 1,
   "metadata": {},
   "outputs": [],
   "source": [
    "# Initial imports\n",
    "import numpy as np\n",
    "import pandas as pd\n",
    "\n",
    "%matplotlib inline"
   ]
  },
  {
   "cell_type": "markdown",
   "metadata": {},
   "source": [
    "## Instructions\n",
    "\n",
    "### Initial Setup\n",
    "\n",
    "To ensure models' reproducibility, set the random seed for `numpy` and `tensorflow` libraries."
   ]
  },
  {
   "cell_type": "code",
   "execution_count": 2,
   "metadata": {},
   "outputs": [],
   "source": [
    "# Set the random seed for reproducibility\n",
    "# Note: This is used for model prototyping, but it is good practice to comment this out and run multiple experiments to evaluate your model.\n",
    "from numpy.random import seed\n",
    "\n",
    "seed(1)\n",
    "from tensorflow import random\n",
    "\n",
    "random.set_seed(2)"
   ]
  },
  {
   "cell_type": "markdown",
   "metadata": {},
   "source": [
    "### Import Data"
   ]
  },
  {
   "cell_type": "code",
   "execution_count": 3,
   "metadata": {},
   "outputs": [
    {
     "data": {
      "text/html": [
       "<div>\n",
       "<style scoped>\n",
       "    .dataframe tbody tr th:only-of-type {\n",
       "        vertical-align: middle;\n",
       "    }\n",
       "\n",
       "    .dataframe tbody tr th {\n",
       "        vertical-align: top;\n",
       "    }\n",
       "\n",
       "    .dataframe thead th {\n",
       "        text-align: right;\n",
       "    }\n",
       "</style>\n",
       "<table border=\"1\" class=\"dataframe\">\n",
       "  <thead>\n",
       "    <tr style=\"text-align: right;\">\n",
       "      <th></th>\n",
       "      <th>Close</th>\n",
       "    </tr>\n",
       "    <tr>\n",
       "      <th>Date</th>\n",
       "      <th></th>\n",
       "    </tr>\n",
       "  </thead>\n",
       "  <tbody>\n",
       "    <tr>\n",
       "      <th>2001-01-02</th>\n",
       "      <td>400.90</td>\n",
       "    </tr>\n",
       "    <tr>\n",
       "      <th>2001-01-03</th>\n",
       "      <td>401.68</td>\n",
       "    </tr>\n",
       "    <tr>\n",
       "      <th>2001-01-04</th>\n",
       "      <td>400.51</td>\n",
       "    </tr>\n",
       "    <tr>\n",
       "      <th>2001-01-05</th>\n",
       "      <td>401.92</td>\n",
       "    </tr>\n",
       "    <tr>\n",
       "      <th>2001-01-08</th>\n",
       "      <td>400.42</td>\n",
       "    </tr>\n",
       "  </tbody>\n",
       "</table>\n",
       "</div>"
      ],
      "text/plain": [
       "             Close\n",
       "Date              \n",
       "2001-01-02  400.90\n",
       "2001-01-03  401.68\n",
       "2001-01-04  400.51\n",
       "2001-01-05  401.92\n",
       "2001-01-08  400.42"
      ]
     },
     "execution_count": 3,
     "metadata": {},
     "output_type": "execute_result"
    }
   ],
   "source": [
    "gold_df = pd.read_csv(r'C:\\Users\\TribThapa\\Desktop\\Thapa\\ResearchFellow\\Courses\\FinTech_Bootcamp_MonashUni2021\\monu-mel-virt-fin-pt-05-2021-u-c\\Activities\\Week 14\\3\\05-Stu_Predict_Gold_Prices\\Resources\\gold_cad.csv',\n",
    "                      parse_dates=True,\n",
    "                      index_col='Date')\n",
    "\n",
    "gold_df.head()"
   ]
  },
  {
   "cell_type": "code",
   "execution_count": 10,
   "metadata": {},
   "outputs": [
    {
     "data": {
      "text/plain": [
       "(4961, 1)"
      ]
     },
     "execution_count": 10,
     "metadata": {},
     "output_type": "execute_result"
    }
   ],
   "source": [
    "gold_df.shape"
   ]
  },
  {
   "cell_type": "markdown",
   "metadata": {},
   "source": [
    "#### Create the Features `X` and Target `y` Data\n",
    "\n",
    "Use the `window_data()` function bellow, to create the features set `X` and the target vector `y`. Define a window size of `30` days and use the column of the closing gold price as feature and target column; this will allow your model to predict gold prices in CAD."
   ]
  },
  {
   "cell_type": "code",
   "execution_count": 4,
   "metadata": {},
   "outputs": [],
   "source": [
    "def window_data(df, window, feature_col_number, target_col_number):\n",
    "    \"\"\"\n",
    "    This function accepts the column number for the features (X) and the target (y).\n",
    "    It chunks the data up with a rolling window of Xt - window to predict Xt.\n",
    "    It returns two numpy arrays of X and y.\n",
    "    \"\"\"\n",
    "    X = []\n",
    "    y = []\n",
    "    \n",
    "    for i in range(len(df) - window):\n",
    "        \n",
    "        features = df.iloc[i : (i + window), feature_col_number]\n",
    "        \n",
    "        target = df.iloc[(i + window), target_col_number]\n",
    "        \n",
    "        X.append(features)\n",
    "        \n",
    "        y.append(target)\n",
    "        \n",
    "    return np.array(X), np.array(y).reshape(-1, 1)"
   ]
  },
  {
   "cell_type": "code",
   "execution_count": 13,
   "metadata": {},
   "outputs": [
    {
     "name": "stdout",
     "output_type": "stream",
     "text": [
      "X sample values:\n",
      "[[400.9  401.68 400.51 401.92 400.42 399.73 395.55 394.5  395.89 396.72\n",
      "  397.82 399.7  399.79 400.42 402.09 399.79 398.82 395.49 394.42 398.83\n",
      "  398.02 401.11 399.61 399.76 397.91 396.8  392.9  392.66 396.74 396.13]\n",
      " [401.68 400.51 401.92 400.42 399.73 395.55 394.5  395.89 396.72 397.82\n",
      "  399.7  399.79 400.42 402.09 399.79 398.82 395.49 394.42 398.83 398.02\n",
      "  401.11 399.61 399.76 397.91 396.8  392.9  392.66 396.74 396.13 396.45]\n",
      " [400.51 401.92 400.42 399.73 395.55 394.5  395.89 396.72 397.82 399.7\n",
      "  399.79 400.42 402.09 399.79 398.82 395.49 394.42 398.83 398.02 401.11\n",
      "  399.61 399.76 397.91 396.8  392.9  392.66 396.74 396.13 396.45 390.12]] \n",
      "\n",
      "\n",
      "y sample values:\n",
      "[[396.45]\n",
      " [390.12]\n",
      " [397.66]]\n",
      "\n",
      "X shape: (4931, 30) \n",
      "y shape: (4931, 1)\n"
     ]
    }
   ],
   "source": [
    "# Define the window size\n",
    "window_size = 30\n",
    "\n",
    "# Set the index of the feature and target columns\n",
    "feature_column = 0\n",
    "target_column = 0\n",
    "\n",
    "# Create the features (X) and target (y) data using the window_data() function.\n",
    "X, y = window_data(gold_df, \n",
    "                   window_size, \n",
    "                   feature_column, \n",
    "                   target_column)\n",
    "\n",
    "# Print a few sample values from X and y\n",
    "print (f\"X sample values:\\n{X[:3]} \\n\")\n",
    "print()\n",
    "print (f\"y sample values:\\n{y[:3]}\")\n",
    "print()\n",
    "print(f\"X shape: {X.shape} \\n\"\n",
    "      f\"y shape: {y.shape}\")"
   ]
  },
  {
   "cell_type": "markdown",
   "metadata": {},
   "source": [
    "#### Split Data Between Training and Testing Sets\n",
    "\n",
    "To avoid the dataset being randomized, manually create the training and testing sets using array slicing. Use 70% of the data for training and the remainder for testing."
   ]
  },
  {
   "cell_type": "code",
   "execution_count": 14,
   "metadata": {},
   "outputs": [],
   "source": [
    "# Manually splitting the data\n",
    "split = int(0.7 * len (X))\n",
    "\n",
    "X_train = X[: split]\n",
    "X_test = X[split :]\n",
    "\n",
    "y_train = y[: split]\n",
    "y_test = y[split :]"
   ]
  },
  {
   "cell_type": "markdown",
   "metadata": {},
   "source": [
    "#### Scale Data with `MinMaxScaler`\n",
    "\n",
    "Before training the RNN LSTM model, use the `MinMaxScaler` from `sklearn` to scale the training and testing data between `0` and `1`.\n",
    "\n",
    "**Note:** You need to scale both features and target sets."
   ]
  },
  {
   "cell_type": "code",
   "execution_count": 18,
   "metadata": {},
   "outputs": [],
   "source": [
    "# Use the MinMaxScaler to scale data between 0 and 1.\n",
    "from sklearn.preprocessing import MinMaxScaler\n",
    "X_train_scaler = MinMaxScaler()\n",
    "X_test_scaler = MinMaxScaler()\n",
    "y_train_scaler = MinMaxScaler()\n",
    "y_test_scaler = MinMaxScaler()\n",
    "\n",
    "# Fit the scaler for the Training Data\n",
    "X_train_scaler.fit(X_train)\n",
    "y_train_scaler.fit(y_train)\n",
    "\n",
    "# Scale the training data\n",
    "X_train = X_train_scaler.transform(X_train)\n",
    "y_train = y_train_scaler.transform(y_train)\n",
    "\n",
    "# Fit the scaler for the Testing Data\n",
    "X_test_scaler.fit(X_test)\n",
    "y_test_scaler.fit(y_test)\n",
    "\n",
    "# Scale the y_test data\n",
    "X_test = X_test_scaler.transform(X_test)\n",
    "y_test = y_test_scaler.transform(y_test)"
   ]
  },
  {
   "cell_type": "markdown",
   "metadata": {},
   "source": [
    "#### Reshape Features Data for the LSTM Model\n",
    "\n",
    "The LSTM API from Keras needs to receive the features data as a _vertical vector_, so that reshape the `X` data in the form `reshape((X_train.shape[0], X_train.shape[1], 1))`. Both sets, training, and testing should be reshaped."
   ]
  },
  {
   "cell_type": "code",
   "execution_count": 19,
   "metadata": {},
   "outputs": [
    {
     "name": "stdout",
     "output_type": "stream",
     "text": [
      "X_train sample values:\n",
      "[[[0.00728531]\n",
      "  [0.00781245]\n",
      "  [0.00702174]\n",
      "  [0.00797464]\n",
      "  [0.00696092]\n",
      "  [0.0064946 ]\n",
      "  [0.00366969]\n",
      "  [0.00296008]\n",
      "  [0.00389947]\n",
      "  [0.00446039]\n",
      "  [0.00520379]\n",
      "  [0.00647433]\n",
      "  [0.00653515]\n",
      "  [0.00696092]\n",
      "  [0.00808953]\n",
      "  [0.00653515]\n",
      "  [0.00587961]\n",
      "  [0.00362914]\n",
      "  [0.00290601]\n",
      "  [0.00588637]\n",
      "  [0.00533896]\n",
      "  [0.00742723]\n",
      "  [0.00641351]\n",
      "  [0.00651488]\n",
      "  [0.00526462]\n",
      "  [0.00451446]\n",
      "  [0.00187877]\n",
      "  [0.00171658]\n",
      "  [0.00447391]\n",
      "  [0.00406166]]\n",
      "\n",
      " [[0.00781245]\n",
      "  [0.00702174]\n",
      "  [0.00797464]\n",
      "  [0.00696092]\n",
      "  [0.0064946 ]\n",
      "  [0.00366969]\n",
      "  [0.00296008]\n",
      "  [0.00389947]\n",
      "  [0.00446039]\n",
      "  [0.00520379]\n",
      "  [0.00647433]\n",
      "  [0.00653515]\n",
      "  [0.00696092]\n",
      "  [0.00808953]\n",
      "  [0.00653515]\n",
      "  [0.00587961]\n",
      "  [0.00362914]\n",
      "  [0.00290601]\n",
      "  [0.00588637]\n",
      "  [0.00533896]\n",
      "  [0.00742723]\n",
      "  [0.00641351]\n",
      "  [0.00651488]\n",
      "  [0.00526462]\n",
      "  [0.00451446]\n",
      "  [0.00187877]\n",
      "  [0.00171658]\n",
      "  [0.00447391]\n",
      "  [0.00406166]\n",
      "  [0.00427792]]\n",
      "\n",
      " [[0.00702174]\n",
      "  [0.00797464]\n",
      "  [0.00696092]\n",
      "  [0.0064946 ]\n",
      "  [0.00366969]\n",
      "  [0.00296008]\n",
      "  [0.00389947]\n",
      "  [0.00446039]\n",
      "  [0.00520379]\n",
      "  [0.00647433]\n",
      "  [0.00653515]\n",
      "  [0.00696092]\n",
      "  [0.00808953]\n",
      "  [0.00653515]\n",
      "  [0.00587961]\n",
      "  [0.00362914]\n",
      "  [0.00290601]\n",
      "  [0.00588637]\n",
      "  [0.00533896]\n",
      "  [0.00742723]\n",
      "  [0.00641351]\n",
      "  [0.00651488]\n",
      "  [0.00526462]\n",
      "  [0.00451446]\n",
      "  [0.00187877]\n",
      "  [0.00171658]\n",
      "  [0.00447391]\n",
      "  [0.00406166]\n",
      "  [0.00427792]\n",
      "  [0.        ]]] \n",
      "\n",
      "X_test sample values:\n",
      "[[[0.14875084]\n",
      "  [0.14189729]\n",
      "  [0.152976  ]\n",
      "  [0.16033191]\n",
      "  [0.15532631]\n",
      "  [0.16333707]\n",
      "  [0.16269119]\n",
      "  [0.16722135]\n",
      "  [0.16450325]\n",
      "  [0.16371384]\n",
      "  [0.16100471]\n",
      "  [0.15008746]\n",
      "  [0.15041041]\n",
      "  [0.15863647]\n",
      "  [0.13095313]\n",
      "  [0.15503925]\n",
      "  [0.15159453]\n",
      "  [0.02623064]\n",
      "  [0.16649869]\n",
      "  [0.16359891]\n",
      "  [0.15997418]\n",
      "  [0.16356355]\n",
      "  [0.17026487]\n",
      "  [0.17007037]\n",
      "  [0.16673739]\n",
      "  [0.15142514]\n",
      "  [0.15445753]\n",
      "  [0.15383867]\n",
      "  [0.14427293]\n",
      "  [0.14270811]]\n",
      "\n",
      " [[0.14189729]\n",
      "  [0.152976  ]\n",
      "  [0.16033191]\n",
      "  [0.15532631]\n",
      "  [0.16333707]\n",
      "  [0.16269119]\n",
      "  [0.16722135]\n",
      "  [0.16450325]\n",
      "  [0.16371384]\n",
      "  [0.16100471]\n",
      "  [0.15008746]\n",
      "  [0.15041041]\n",
      "  [0.15863647]\n",
      "  [0.13095313]\n",
      "  [0.15503925]\n",
      "  [0.15159453]\n",
      "  [0.02661583]\n",
      "  [0.16649869]\n",
      "  [0.16359891]\n",
      "  [0.15997418]\n",
      "  [0.16356355]\n",
      "  [0.17026487]\n",
      "  [0.17007037]\n",
      "  [0.16673739]\n",
      "  [0.15142514]\n",
      "  [0.15445753]\n",
      "  [0.15383867]\n",
      "  [0.14427293]\n",
      "  [0.14270811]\n",
      "  [0.11744112]]\n",
      "\n",
      " [[0.152976  ]\n",
      "  [0.16033191]\n",
      "  [0.15532631]\n",
      "  [0.16333707]\n",
      "  [0.16269119]\n",
      "  [0.16722135]\n",
      "  [0.16450325]\n",
      "  [0.16371384]\n",
      "  [0.16100471]\n",
      "  [0.15008746]\n",
      "  [0.15041041]\n",
      "  [0.15863647]\n",
      "  [0.13095313]\n",
      "  [0.15503925]\n",
      "  [0.15159453]\n",
      "  [0.02661583]\n",
      "  [0.16894371]\n",
      "  [0.16359891]\n",
      "  [0.15997418]\n",
      "  [0.16356355]\n",
      "  [0.17026487]\n",
      "  [0.17007037]\n",
      "  [0.16673739]\n",
      "  [0.15142514]\n",
      "  [0.15445753]\n",
      "  [0.15383867]\n",
      "  [0.14427293]\n",
      "  [0.14270811]\n",
      "  [0.11744112]\n",
      "  [0.09983026]]]\n"
     ]
    }
   ],
   "source": [
    "# Reshape the features data\n",
    "X_train = X_train.reshape((X_train.shape[0], X_train.shape[1], 1))\n",
    "X_test = X_test.reshape((X_test.shape[0], X_test.shape[1], 1))\n",
    "\n",
    "# Print some sample data after reshaping the datasets\n",
    "print (f\"X_train sample values:\\n{X_train[:3]} \\n\")\n",
    "print (f\"X_test sample values:\\n{X_test[:3]}\")"
   ]
  },
  {
   "cell_type": "markdown",
   "metadata": {},
   "source": [
    "---\n",
    "\n",
    "### Build and Train the LSTM RNN\n",
    "\n",
    "In this section, you will design a custom LSTM RNN in Keras and fit (train) it using the training data we defined.\n",
    "\n",
    "You will need to:\n",
    "\n",
    "1. Define the model architecture in Keras.\n",
    "\n",
    "2. Compile the model.\n",
    "\n",
    "3. Fit the model with the training data."
   ]
  },
  {
   "cell_type": "code",
   "execution_count": 20,
   "metadata": {},
   "outputs": [],
   "source": [
    "# Importing required Keras modules\n",
    "from tensorflow.keras.models import Sequential\n",
    "from tensorflow.keras.layers import LSTM, Dense, Dropout"
   ]
  },
  {
   "cell_type": "code",
   "execution_count": 24,
   "metadata": {},
   "outputs": [
    {
     "data": {
      "text/plain": [
       "(30, 1)"
      ]
     },
     "execution_count": 24,
     "metadata": {},
     "output_type": "execute_result"
    }
   ],
   "source": [
    "X_train.shape[1], 1"
   ]
  },
  {
   "cell_type": "markdown",
   "metadata": {},
   "source": [
    "#### Create the LSTM RNN Model Structure\n",
    "\n",
    "Design the structure of your RNN LSTM as follows:\n",
    "\n",
    "* Number of units per layer: `30` (same as the window size)\n",
    "\n",
    "* Dropout fraction: `0.2` (20% of neurons will be randomly dropped on each epoch)\n",
    "\n",
    "* Add three `LSTM` layers to your model, remember to add a `Dropout` layer after each `LSTM` layer, and to set `return_sequences=True` in the first two layers only.\n",
    "\n",
    "* Add a `Dense` output layer with one unit."
   ]
  },
  {
   "cell_type": "code",
   "execution_count": 25,
   "metadata": {},
   "outputs": [],
   "source": [
    "# Define the LSTM RNN model.\n",
    "model = Sequential()\n",
    "\n",
    "# Initial model setup\n",
    "number_units = 30\n",
    "dropout_fraction = 0.2\n",
    "\n",
    "# Layer 1\n",
    "model.add(LSTM(units=number_units,\n",
    "               return_sequences=True,\n",
    "               input_shape=(X_train.shape[1], 1)))\n",
    "\n",
    "model.add(Dropout(dropout_fraction))\n",
    "\n",
    "# Layer 2\n",
    "model.add(LSTM(units=number_units,\n",
    "               return_sequences=True))\n",
    "\n",
    "model.add(Dropout(dropout_fraction))\n",
    "\n",
    "# Layer 3\n",
    "model.add(LSTM(units=number_units))\n",
    "model.add(Dropout(dropout_fraction))\n",
    "\n",
    "# Output layer\n",
    "model.add(Dense(1))"
   ]
  },
  {
   "cell_type": "markdown",
   "metadata": {},
   "source": [
    "#### Compile the LSTM RNN Model\n",
    "\n",
    "Compile the model using the `adam` optimizer, and `mean_square_error` as loss function since the value you want to predict is continuous."
   ]
  },
  {
   "cell_type": "code",
   "execution_count": 26,
   "metadata": {},
   "outputs": [],
   "source": [
    "# Compile the model\n",
    "model.compile(optimizer=\"adam\",\n",
    "              loss=\"mean_squared_error\")"
   ]
  },
  {
   "cell_type": "code",
   "execution_count": 27,
   "metadata": {},
   "outputs": [
    {
     "name": "stdout",
     "output_type": "stream",
     "text": [
      "Model: \"sequential\"\n",
      "_________________________________________________________________\n",
      "Layer (type)                 Output Shape              Param #   \n",
      "=================================================================\n",
      "lstm (LSTM)                  (None, 30, 30)            3840      \n",
      "_________________________________________________________________\n",
      "dropout (Dropout)            (None, 30, 30)            0         \n",
      "_________________________________________________________________\n",
      "lstm_1 (LSTM)                (None, 30, 30)            7320      \n",
      "_________________________________________________________________\n",
      "dropout_1 (Dropout)          (None, 30, 30)            0         \n",
      "_________________________________________________________________\n",
      "lstm_2 (LSTM)                (None, 30)                7320      \n",
      "_________________________________________________________________\n",
      "dropout_2 (Dropout)          (None, 30)                0         \n",
      "_________________________________________________________________\n",
      "dense (Dense)                (None, 1)                 31        \n",
      "=================================================================\n",
      "Total params: 18,511\n",
      "Trainable params: 18,511\n",
      "Non-trainable params: 0\n",
      "_________________________________________________________________\n"
     ]
    }
   ],
   "source": [
    "# Show the model summary\n",
    "model.summary()"
   ]
  },
  {
   "cell_type": "markdown",
   "metadata": {},
   "source": [
    "#### Train the Model\n",
    "\n",
    "Train (fit) the model with the training data using `10` epochs and a `batch_size=90`. Since you are working with time-series data, remember to set `shuffle=False` since it's necessary to keep the sequential order of the data."
   ]
  },
  {
   "cell_type": "code",
   "execution_count": 28,
   "metadata": {},
   "outputs": [
    {
     "name": "stdout",
     "output_type": "stream",
     "text": [
      "Epoch 1/10\n",
      "39/39 [==============================] - 7s 53ms/step - loss: 0.0053: 0s - los\n",
      "Epoch 2/10\n",
      "39/39 [==============================] - 2s 53ms/step - loss: 0.0188\n",
      "Epoch 3/10\n",
      "39/39 [==============================] - 2s 52ms/step - loss: 0.0070\n",
      "Epoch 4/10\n",
      "39/39 [==============================] - 2s 47ms/step - loss: 0.0054\n",
      "Epoch 5/10\n",
      "39/39 [==============================] - 2s 44ms/step - loss: 0.0058\n",
      "Epoch 6/10\n",
      "39/39 [==============================] - 2s 51ms/step - loss: 0.0071\n",
      "Epoch 7/10\n",
      "39/39 [==============================] - 2s 46ms/step - loss: 0.0102\n",
      "Epoch 8/10\n",
      "39/39 [==============================] - 2s 43ms/step - loss: 0.0225\n",
      "Epoch 9/10\n",
      "39/39 [==============================] - 2s 45ms/step - loss: 0.0180\n",
      "Epoch 10/10\n",
      "39/39 [==============================] - 2s 48ms/step - loss: 0.0128\n"
     ]
    },
    {
     "data": {
      "text/plain": [
       "<tensorflow.python.keras.callbacks.History at 0x1be942fc2c8>"
      ]
     },
     "execution_count": 28,
     "metadata": {},
     "output_type": "execute_result"
    }
   ],
   "source": [
    "# Train the model\n",
    "model.fit(X_train,\n",
    "          y_train,\n",
    "          epochs=10,\n",
    "          batch_size=90,\n",
    "          shuffle=False,\n",
    "          verbose=1)"
   ]
  },
  {
   "cell_type": "markdown",
   "metadata": {},
   "source": [
    "---\n",
    "\n",
    "### Model Performance\n",
    "\n",
    "In this section, you will evaluate the model using the test data. \n",
    "\n",
    "You will need to:\n",
    "\n",
    "1. Evaluate the model using the `X_test` and `y_test` data.\n",
    "\n",
    "2. Use the `X_test` data to make predictions.\n",
    "\n",
    "3. Create a DataFrame of Real (`y_test`) vs. predicted values.\n",
    "\n",
    "4. Plot the real vs. predicted values as a line chart."
   ]
  },
  {
   "cell_type": "markdown",
   "metadata": {},
   "source": [
    "#### Evaluate the Model\n",
    "\n",
    "Use the `evaluate()` method of the model using the testing data."
   ]
  },
  {
   "cell_type": "code",
   "execution_count": 29,
   "metadata": {},
   "outputs": [
    {
     "name": "stdout",
     "output_type": "stream",
     "text": [
      "47/47 [==============================] - 3s 12ms/step - loss: 0.0189\n"
     ]
    },
    {
     "data": {
      "text/plain": [
       "0.018898509442806244"
      ]
     },
     "execution_count": 29,
     "metadata": {},
     "output_type": "execute_result"
    }
   ],
   "source": [
    "# Evaluate the model\n",
    "model.evaluate(X_test,\n",
    "               y_test)"
   ]
  },
  {
   "cell_type": "markdown",
   "metadata": {},
   "source": [
    "#### Make Predictions\n",
    "\n",
    "Use the `predict()` method of the model to make some closing gold price predictions using your brand new LSTM RNN model and your testing data. Save the predictions in a variable called `predicted`."
   ]
  },
  {
   "cell_type": "code",
   "execution_count": 30,
   "metadata": {},
   "outputs": [],
   "source": [
    "# Make predictions using the testing data X_test\n",
    "preds = model.predict(X_test)"
   ]
  },
  {
   "cell_type": "markdown",
   "metadata": {},
   "source": [
    "Since you scaled the original values using the `MinMaxScaler`, you need to recover the original gold prices to better understand of the predictions. Use the `inverse_transform()` method of the scaler to decode the scaled testing and predicted values to their original scale."
   ]
  },
  {
   "cell_type": "code",
   "execution_count": 31,
   "metadata": {},
   "outputs": [],
   "source": [
    "# Recover the original prices instead of the scaled version\n",
    "pred_prices = y_test_scaler.inverse_transform(preds)\n",
    "\n",
    "real_prices = y_test_scaler.inverse_transform(y_test.reshape(-1, 1))"
   ]
  },
  {
   "cell_type": "markdown",
   "metadata": {},
   "source": [
    "#### Plotting Predicted Vs. Real Prices\n",
    "\n",
    "Create a Pandas DataFrame with two columns as follows to plot the predicted vs. the actual gold prices.\n",
    "\n",
    "* Column 1: Actual prices (testing data)\n",
    "\n",
    "* Column 2: Predicted prices\n",
    "\n",
    "Your DataFrame should look like the sample below:\n",
    "\n",
    "![Sample actual vs. predicted gold prices](../Images/sample-gold-prices-predictions-df-v2.png)"
   ]
  },
  {
   "cell_type": "code",
   "execution_count": 34,
   "metadata": {},
   "outputs": [
    {
     "data": {
      "text/html": [
       "<div>\n",
       "<style scoped>\n",
       "    .dataframe tbody tr th:only-of-type {\n",
       "        vertical-align: middle;\n",
       "    }\n",
       "\n",
       "    .dataframe tbody tr th {\n",
       "        vertical-align: top;\n",
       "    }\n",
       "\n",
       "    .dataframe thead th {\n",
       "        text-align: right;\n",
       "    }\n",
       "</style>\n",
       "<table border=\"1\" class=\"dataframe\">\n",
       "  <thead>\n",
       "    <tr style=\"text-align: right;\">\n",
       "      <th></th>\n",
       "      <th>Actual</th>\n",
       "      <th>Predicted</th>\n",
       "    </tr>\n",
       "    <tr>\n",
       "      <th>Date</th>\n",
       "      <th></th>\n",
       "      <th></th>\n",
       "    </tr>\n",
       "  </thead>\n",
       "  <tbody>\n",
       "    <tr>\n",
       "      <th>2014-10-30</th>\n",
       "      <td>1479.92</td>\n",
       "      <td>1248.176880</td>\n",
       "    </tr>\n",
       "    <tr>\n",
       "      <th>2014-10-31</th>\n",
       "      <td>1460.00</td>\n",
       "      <td>1248.690430</td>\n",
       "    </tr>\n",
       "    <tr>\n",
       "      <th>2014-11-03</th>\n",
       "      <td>1470.24</td>\n",
       "      <td>1248.012695</td>\n",
       "    </tr>\n",
       "    <tr>\n",
       "      <th>2014-11-04</th>\n",
       "      <td>1472.27</td>\n",
       "      <td>1245.294067</td>\n",
       "    </tr>\n",
       "    <tr>\n",
       "      <th>2014-11-05</th>\n",
       "      <td>1443.81</td>\n",
       "      <td>1240.719116</td>\n",
       "    </tr>\n",
       "    <tr>\n",
       "      <th>...</th>\n",
       "      <td>...</td>\n",
       "      <td>...</td>\n",
       "    </tr>\n",
       "    <tr>\n",
       "      <th>2020-05-27</th>\n",
       "      <td>2374.59</td>\n",
       "      <td>2353.145020</td>\n",
       "    </tr>\n",
       "    <tr>\n",
       "      <th>2020-05-28</th>\n",
       "      <td>2378.61</td>\n",
       "      <td>2353.098877</td>\n",
       "    </tr>\n",
       "    <tr>\n",
       "      <th>2020-05-29</th>\n",
       "      <td>2412.15</td>\n",
       "      <td>2352.909912</td>\n",
       "    </tr>\n",
       "    <tr>\n",
       "      <th>2020-06-01</th>\n",
       "      <td>2375.54</td>\n",
       "      <td>2352.596191</td>\n",
       "    </tr>\n",
       "    <tr>\n",
       "      <th>2020-06-02</th>\n",
       "      <td>2345.24</td>\n",
       "      <td>2352.231934</td>\n",
       "    </tr>\n",
       "  </tbody>\n",
       "</table>\n",
       "<p>1480 rows × 2 columns</p>\n",
       "</div>"
      ],
      "text/plain": [
       "             Actual    Predicted\n",
       "Date                            \n",
       "2014-10-30  1479.92  1248.176880\n",
       "2014-10-31  1460.00  1248.690430\n",
       "2014-11-03  1470.24  1248.012695\n",
       "2014-11-04  1472.27  1245.294067\n",
       "2014-11-05  1443.81  1240.719116\n",
       "...             ...          ...\n",
       "2020-05-27  2374.59  2353.145020\n",
       "2020-05-28  2378.61  2353.098877\n",
       "2020-05-29  2412.15  2352.909912\n",
       "2020-06-01  2375.54  2352.596191\n",
       "2020-06-02  2345.24  2352.231934\n",
       "\n",
       "[1480 rows x 2 columns]"
      ]
     },
     "execution_count": 34,
     "metadata": {},
     "output_type": "execute_result"
    }
   ],
   "source": [
    "# Create a DataFrame of Real and Predicted values\n",
    "gold_final_df = pd.DataFrame({\"Actual\": real_prices.ravel(),\n",
    "                              \"Predicted\": pred_prices.ravel()},\n",
    "                             index=gold_df.index[-len(real_prices): ])\n",
    "\n",
    "# Show the DataFrame's head\n",
    "gold_final_df"
   ]
  },
  {
   "cell_type": "markdown",
   "metadata": {},
   "source": [
    "Use the `plot()` method from the DataFrame to create a line chart to contrast the actual vs. the predicted gold prices."
   ]
  },
  {
   "cell_type": "code",
   "execution_count": 35,
   "metadata": {},
   "outputs": [
    {
     "data": {
      "text/plain": [
       "<AxesSubplot:xlabel='Date'>"
      ]
     },
     "execution_count": 35,
     "metadata": {},
     "output_type": "execute_result"
    },
    {
     "data": {
      "image/png": "[encoded data removed]",
      "text/plain": [
       "<Figure size 432x288 with 1 Axes>"
      ]
     },
     "metadata": {
      "needs_background": "light"
     },
     "output_type": "display_data"
    }
   ],
   "source": [
    "# Plot the real vs predicted prices as a line chart\n",
    "gold_final_df.plot()"
   ]
  }
 ],
 "metadata": {
  "kernelspec": {
   "display_name": "Python 3",
   "language": "python",
   "name": "python3"
  },
  "language_info": {
   "codemirror_mode": {
    "name": "ipython",
    "version": 3
   },
   "file_extension": ".py",
   "mimetype": "text/x-python",
   "name": "python",
   "nbconvert_exporter": "python",
   "pygments_lexer": "ipython3",
   "version": "3.7.10"
  }
 },
 "nbformat": 4,
 "nbformat_minor": 4
}
