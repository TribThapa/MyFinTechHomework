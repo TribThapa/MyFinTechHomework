{
 "cells": [
  {
   "cell_type": "markdown",
   "metadata": {},
   "source": [
    "# House of Requests"
   ]
  },
  {
   "cell_type": "markdown",
   "metadata": {},
   "source": [
    "Use the `Deck of Cards` API to play a game of BlackJack with a partner. Parameterize the `Deck of Cards` API `request urls` in order to create the deck of cards, as well as draw cards for the game."
   ]
  },
  {
   "cell_type": "code",
   "execution_count": 28,
   "metadata": {},
   "outputs": [],
   "source": [
    "import requests\n",
    "import json"
   ]
  },
  {
   "cell_type": "markdown",
   "metadata": {},
   "source": [
    "## Prep for the Game"
   ]
  },
  {
   "cell_type": "code",
   "execution_count": 29,
   "metadata": {},
   "outputs": [],
   "source": [
    "# Declare request url to create deck id\n",
    "create_deck_url = \"https://deckofcardsapi.com/api/deck/new/shuffle/?deck_count=6\"\n",
    "\n",
    "# Execute create deck url\n",
    "deck_id = requests.get(create_deck_url).json()"
   ]
  },
  {
   "cell_type": "markdown",
   "metadata": {},
   "source": [
    "### Parse JSON and extract `deck_id`"
   ]
  },
  {
   "cell_type": "code",
   "execution_count": 30,
   "metadata": {},
   "outputs": [
    {
     "name": "stdout",
     "output_type": "stream",
     "text": [
      "{'success': True, 'deck_id': 'uz5d0gzjmp4f', 'remaining': 312, 'shuffled': True}\n"
     ]
    }
   ],
   "source": [
    "# Select deck_id\n",
    "print(deck_id)"
   ]
  },
  {
   "cell_type": "markdown",
   "metadata": {},
   "source": [
    "### Declare request urls to draw cards and shuffle deck"
   ]
  },
  {
   "cell_type": "code",
   "execution_count": 31,
   "metadata": {},
   "outputs": [
    {
     "name": "stdout",
     "output_type": "stream",
     "text": [
      "\n",
      "Draw cards url: https://deckofcardsapi.com/api/deck/uz5d0gzjmp4f/draw/?count=2\n",
      "\n",
      "Shuffle dec url: https://deckofcardsapi.com/api/deck/uz5d0gzjmp4f/shuffle/\n"
     ]
    }
   ],
   "source": [
    "# Declare draw_cards_url and shuffle_deck_url. Use string interpolation to incorporate the deck_id\n",
    "draw_cards_url = f\"https://deckofcardsapi.com/api/deck/{deck_id['deck_id']}/draw/?count=2\"\n",
    "shuffle_deck_url = f\"https://deckofcardsapi.com/api/deck/{deck_id['deck_id']}/shuffle/\"\n",
    "print()\n",
    "print(f\"Draw cards url: {draw_cards_url}\")\n",
    "print()\n",
    "print(f\"Shuffle dec url: {shuffle_deck_url}\")"
   ]
  },
  {
   "cell_type": "markdown",
   "metadata": {},
   "source": [
    "## Player 1 Turn"
   ]
  },
  {
   "cell_type": "markdown",
   "metadata": {},
   "source": [
    "### Draw two cards"
   ]
  },
  {
   "cell_type": "code",
   "execution_count": 32,
   "metadata": {},
   "outputs": [
    {
     "name": "stdout",
     "output_type": "stream",
     "text": [
      "{\n",
      "    \"success\": true,\n",
      "    \"deck_id\": \"uz5d0gzjmp4f\",\n",
      "    \"cards\": [\n",
      "        {\n",
      "            \"code\": \"AH\",\n",
      "            \"image\": \"https://deckofcardsapi.com/static/img/AH.png\",\n",
      "            \"images\": {\n",
      "                \"svg\": \"https://deckofcardsapi.com/static/img/AH.svg\",\n",
      "                \"png\": \"https://deckofcardsapi.com/static/img/AH.png\"\n",
      "            },\n",
      "            \"value\": \"ACE\",\n",
      "            \"suit\": \"HEARTS\"\n",
      "        },\n",
      "        {\n",
      "            \"code\": \"AD\",\n",
      "            \"image\": \"https://deckofcardsapi.com/static/img/aceDiamonds.png\",\n",
      "            \"images\": {\n",
      "                \"svg\": \"https://deckofcardsapi.com/static/img/aceDiamonds.svg\",\n",
      "                \"png\": \"https://deckofcardsapi.com/static/img/aceDiamonds.png\"\n",
      "            },\n",
      "            \"value\": \"ACE\",\n",
      "            \"suit\": \"DIAMONDS\"\n",
      "        }\n",
      "    ],\n",
      "    \"remaining\": 310\n",
      "}\n",
      "{\n",
      "    \"success\": true,\n",
      "    \"deck_id\": \"uz5d0gzjmp4f\",\n",
      "    \"cards\": [\n",
      "        {\n",
      "            \"code\": \"QC\",\n",
      "            \"image\": \"https://deckofcardsapi.com/static/img/QC.png\",\n",
      "            \"images\": {\n",
      "                \"svg\": \"https://deckofcardsapi.com/static/img/QC.svg\",\n",
      "                \"png\": \"https://deckofcardsapi.com/static/img/QC.png\"\n",
      "            },\n",
      "            \"value\": \"QUEEN\",\n",
      "            \"suit\": \"CLUBS\"\n",
      "        },\n",
      "        {\n",
      "            \"code\": \"QH\",\n",
      "            \"image\": \"https://deckofcardsapi.com/static/img/QH.png\",\n",
      "            \"images\": {\n",
      "                \"svg\": \"https://deckofcardsapi.com/static/img/QH.svg\",\n",
      "                \"png\": \"https://deckofcardsapi.com/static/img/QH.png\"\n",
      "            },\n",
      "            \"value\": \"QUEEN\",\n",
      "            \"suit\": \"HEARTS\"\n",
      "        }\n",
      "    ],\n",
      "    \"remaining\": 308\n",
      "}\n"
     ]
    }
   ],
   "source": [
    "# Draw two cards\n",
    "draw_card_1 = requests.get(draw_cards_url).json()\n",
    "print(json.dumps(draw_card_1, indent=4))\n",
    "\n",
    "draw_card_2 = requests.get(draw_cards_url).json()\n",
    "#print()\n",
    "print(json.dumps(draw_card_2, indent=4))"
   ]
  },
  {
   "cell_type": "markdown",
   "metadata": {},
   "source": [
    "### Parse and extract `value` and `suit` elements from JSON output, for each card"
   ]
  },
  {
   "cell_type": "code",
   "execution_count": 36,
   "metadata": {},
   "outputs": [
    {
     "name": "stdout",
     "output_type": "stream",
     "text": [
      "{'suit': 'HEARTS', 'value': 'ACE'}\n",
      "{'suit': 'CLUBS', 'value': 'QUEEN'}\n"
     ]
    }
   ],
   "source": [
    "# Select returned card's value and suit (i.e. 3 of clubs)\n",
    "player_1_card_1 = {'suit' : str(draw_card_1['cards'][0]['suit']),\n",
    "                   'value': str(draw_card_1['cards'][0]['value'])}\n",
    "\n",
    "player_1_card_2 = {'suit' : str(draw_card_2['cards'][0]['suit']),\n",
    "                   'value': str(draw_card_2['cards'][0]['value'])}\n",
    "# Print player cards\n",
    "print(player_1_card_1)\n",
    "print(player_1_card_2)"
   ]
  },
  {
   "cell_type": "markdown",
   "metadata": {},
   "source": [
    "### Decide whether to draw another card or skip to next player turn"
   ]
  },
  {
   "cell_type": "code",
   "execution_count": 39,
   "metadata": {},
   "outputs": [
    {
     "name": "stdout",
     "output_type": "stream",
     "text": [
      "{'suit': 'HEARTS', 'value': 'ACE'}\n"
     ]
    }
   ],
   "source": [
    "# Draw a third card. Select returned card's value and suit (i.e. 3 of clubs)\n",
    "draw_card_3 = requests.get(draw_cards_url).json()\n",
    "\n",
    "player_1_card_3 = {'suit' : str(draw_card_1['cards'][0]['suit']),\n",
    "                   'value': str(draw_card_1['cards'][0]['value'])}\n",
    "\n",
    "# Print player card\n",
    "print(player_1_card_3)"
   ]
  },
  {
   "cell_type": "markdown",
   "metadata": {},
   "source": [
    "### Manually calculate player 1 points and enter below"
   ]
  },
  {
   "cell_type": "markdown",
   "metadata": {},
   "source": [
    "Player 1 points = "
   ]
  },
  {
   "cell_type": "code",
   "execution_count": 43,
   "metadata": {},
   "outputs": [
    {
     "name": "stdout",
     "output_type": "stream",
     "text": [
      "Card 1 value is 5\n",
      "Card 2 value is 10\n"
     ]
    },
    {
     "ename": "NameError",
     "evalue": "name 'player_1_value_3' is not defined",
     "output_type": "error",
     "traceback": [
      "\u001b[1;31m---------------------------------------------------------------------------\u001b[0m",
      "\u001b[1;31mNameError\u001b[0m                                 Traceback (most recent call last)",
      "\u001b[1;32m<ipython-input-43-19ef4fd5aa24>\u001b[0m in \u001b[0;36m<module>\u001b[1;34m\u001b[0m\n\u001b[0;32m     41\u001b[0m     \u001b[0mplayer_1_value_3\u001b[0m \u001b[1;33m=\u001b[0m \u001b[1;36m11\u001b[0m\u001b[1;33m\u001b[0m\u001b[1;33m\u001b[0m\u001b[0m\n\u001b[0;32m     42\u001b[0m \u001b[1;33m\u001b[0m\u001b[0m\n\u001b[1;32m---> 43\u001b[1;33m \u001b[0mprint\u001b[0m\u001b[1;33m(\u001b[0m\u001b[1;34mf\"Card 3 value is {player_1_value_3}\"\u001b[0m\u001b[1;33m)\u001b[0m\u001b[1;33m\u001b[0m\u001b[1;33m\u001b[0m\u001b[0m\n\u001b[0m\u001b[0;32m     44\u001b[0m \u001b[1;31m#print(f\"Card 2 value is {value_2}\")\u001b[0m\u001b[1;33m\u001b[0m\u001b[1;33m\u001b[0m\u001b[1;33m\u001b[0m\u001b[0m\n\u001b[0;32m     45\u001b[0m \u001b[1;33m\u001b[0m\u001b[0m\n",
      "\u001b[1;31mNameError\u001b[0m: name 'player_1_value_3' is not defined"
     ]
    }
   ],
   "source": [
    "if (player_1_card_1['value']).isnumeric(): \n",
    "    to_int = int(player_2_card_1['value'])\n",
    "    \n",
    "    if (to_int > 2) and (to_int < 10):\n",
    "        player_1_value_1 = to_int    \n",
    "        \n",
    "elif (player_1_card_1['value']).isupper() and (player_1_card_1['value'] == 'JACK') or (player_1_card_1['value'] == 'QUEEN') or (player_1_card_1['value'] == 'KING'):\n",
    "    player_1_value_1 = 10\n",
    "    \n",
    "elif player_1_card_1['value'] == 'ACES':\n",
    "    player_1_value_1 = 11 \n",
    "\n",
    "print(f\"Card 1 value is {player_1_value_1}\")\n",
    "\n",
    "\n",
    "if (player_1_card_2['value']).isnumeric(): \n",
    "    to_int = int(player_2_card_2['value'])\n",
    "    \n",
    "    if (to_int > 2) and (to_int < 10):\n",
    "        player_1_value_2 = to_int    \n",
    "        \n",
    "elif (player_1_card_2['value']).isupper() and (player_1_card_2['value'] == 'JACK') or (player_1_card_2['value'] == 'QUEEN') or (player_1_card_2['value'] == 'KING'):\n",
    "    player_1_value_2 = 10\n",
    "    \n",
    "elif player_1_card_2['value'] == 'ACES':\n",
    "    player_1_value_2 = 11\n",
    "\n",
    "print(f\"Card 2 value is {player_1_value_2}\")\n",
    "   \n",
    "\n",
    "if (player_1_card_3['value']).isnumeric(): \n",
    "    to_int = int(player_1_card_3['value'])\n",
    "    \n",
    "    if (to_int > 2) and (to_int < 10):\n",
    "        player_1_value_3 = to_int    \n",
    "        \n",
    "elif (player_1_card_3['value']).isupper() and (player_1_card_3['value'] == 'JACK') or (player_1_card_3['value'] == 'QUEEN') or (player_1_card_3['value'] == 'KING'):\n",
    "    player_1_value_3 = 10\n",
    "    \n",
    "elif player_1_card_3['value'] == 'ACES':\n",
    "    player_1_value_3 = 11\n",
    "\n",
    "print(f\"Card 3 value is {player_1_value_3}\")\n",
    "\n",
    "player_1_points = player_1_value_1 + player_1_value_2 + player_1_value_3\n",
    "print(f\"Player 1 had a total of {player_1_points} points.\")"
   ]
  },
  {
   "cell_type": "markdown",
   "metadata": {},
   "source": [
    "## Player 2 / Dealer Turn"
   ]
  },
  {
   "cell_type": "code",
   "execution_count": null,
   "metadata": {},
   "outputs": [],
   "source": [
    "# Draw two cards for player 2\n",
    "draw_card_1_player_2 = requests.get(draw_cards_url).json()\n",
    "#print(json.dumps(draw_card_1_player_2, indent=4))\n",
    "\n",
    "draw_card_2_player_2 = requests.get(draw_cards_url).json()\n",
    "#print(json.dumps(draw_card_2_player_2, indent=4))\n",
    "\n",
    "draw_card_3_player_2 = requests.get(draw_cards_url).json()\n",
    "#print(json.dumps(draw_card_3_player_2, indent=4))\n",
    "\n",
    "# Select card value and suit. Draw third card for player 2\n",
    "player_2_card_1 = {'suit' : str(draw_card_1_player_2['cards'][0]['suit']),\n",
    "                   'value': str(draw_card_1_player_2['cards'][0]['value'])}\n",
    "\n",
    "player_2_card_2 = {'suit' : str(draw_card_2_player_2['cards'][0]['suit']),\n",
    "                   'value': str(draw_card_2_player_2['cards'][0]['value'])}\n",
    "\n",
    "player_2_card_3 = {'suit' : str(draw_card_3_player_2['cards'][0]['suit']),\n",
    "                   'value': str(draw_card_3_player_2['cards'][0]['value'])}\n",
    "\n",
    "\n",
    "# Print player cards\n",
    "print(player_2_card_1)\n",
    "print(player_2_card_2)\n",
    "print(player_2_card_3)"
   ]
  },
  {
   "cell_type": "markdown",
   "metadata": {},
   "source": [
    "### Manually calculate player 2 points and enter below"
   ]
  },
  {
   "cell_type": "markdown",
   "metadata": {},
   "source": [
    "Player 2 points ="
   ]
  },
  {
   "cell_type": "code",
   "execution_count": null,
   "metadata": {},
   "outputs": [],
   "source": [
    "if (player_2_card_1['value']).isnumeric(): \n",
    "    to_int = int(player_2_card_1['value'])\n",
    "    \n",
    "    if (to_int > 2) and (to_int < 10):\n",
    "        player_2_value_1 = to_int    \n",
    "        \n",
    "elif (player_2_card_1['value']).isupper() and (player_2_card_1['value'] == 'JACK') or (player_2_card_1['value'] == 'QUEEN') or (player_2_card_1['value'] == 'KING'):\n",
    "    player_2_value_1 = 10\n",
    "    \n",
    "elif player_2_card_1['value'] == 'ACES':\n",
    "    player_2_value_1 = 11 \n",
    "\n",
    "print(f\"Card 1 value is {player_2_value_1}\")\n",
    "\n",
    "\n",
    "if (player_2_card_2['value']).isnumeric(): \n",
    "    to_int = int(player_2_card_2['value'])\n",
    "    \n",
    "    if (to_int > 2) and (to_int < 10):\n",
    "        player_2_value_2 = to_int    \n",
    "        \n",
    "elif (player_2_card_2['value']).isupper() and (player_2_card_2['value'] == 'JACK') or (player_2_card_2['value'] == 'QUEEN') or (player_2_card_2['value'] == 'KING'):\n",
    "    player_2_value_2 = 10\n",
    "    \n",
    "elif player_2_card_2['value'] == 'ACES':\n",
    "    player_2_value_2 = 11\n",
    "\n",
    "print(f\"Card 2 value is {player_2_value_2}\")\n",
    "   \n",
    "\n",
    "if (player_2_card_3['value']).isnumeric(): \n",
    "    to_int = int(player_2_card_3['value'])\n",
    "    \n",
    "    if (to_int > 2) and (to_int < 10):\n",
    "        player_2_value_3 = to_int    \n",
    "        \n",
    "elif (player_2_card_3['value']).isupper() and (player_2_card_3['value'] == 'JACK') or (player_2_card_3['value'] == 'QUEEN') or (player_2_card_3['value'] == 'KING'):\n",
    "    player_2_value_3 = 10\n",
    "    \n",
    "elif player_2_card_3['value'] == 'ACES':\n",
    "    player_2_value_3 = 11\n",
    "\n",
    "print(f\"Card 3 value is {player_2_value_3}\")\n",
    "#print(f\"Card 2 value is {value_2}\")\n",
    "\n",
    "player_2_points = player_2_value_1 + player_2_value_2 + player_2_value_3\n",
    "print(f\"Player 1 had a total of {player_2_points} points.\")"
   ]
  },
  {
   "cell_type": "code",
   "execution_count": null,
   "metadata": {},
   "outputs": [],
   "source": []
  }
 ],
 "metadata": {
  "kernelspec": {
   "display_name": "Python 3",
   "language": "python",
   "name": "python3"
  },
  "language_info": {
   "codemirror_mode": {
    "name": "ipython",
    "version": 3
   },
   "file_extension": ".py",
   "mimetype": "text/x-python",
   "name": "python",
   "nbconvert_exporter": "python",
   "pygments_lexer": "ipython3",
   "version": "3.7.1"
  }
 },
 "nbformat": 4,
 "nbformat_minor": 4
}
