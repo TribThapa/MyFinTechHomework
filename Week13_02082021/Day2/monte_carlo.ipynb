{
 "cells": [
  {
   "cell_type": "markdown",
   "metadata": {},
   "source": [
    "# Monte Carlo Simulation"
   ]
  },
  {
   "cell_type": "code",
   "execution_count": 1,
   "metadata": {},
   "outputs": [],
   "source": [
    "# Initial imports\n",
    "import os\n",
    "import requests\n",
    "import pandas as pd\n",
    "import numpy as np\n",
    "#!pip install alpaca_trade_api\n",
    "import alpaca_trade_api as tradeapi\n",
    "from dotenv import load_dotenv\n",
    "\n",
    "load_dotenv()\n",
    "\n",
    "%matplotlib inline"
   ]
  },
  {
   "cell_type": "code",
   "execution_count": 2,
   "metadata": {},
   "outputs": [],
   "source": [
    "# Set Alpaca API key and secret\n",
    "alpaca_api_key = os.getenv(\"ALPACA_API_KEY\")\n",
    "alpaca_secret_key = os.getenv(\"ALPACA_API_SECRET_KEY\")\n",
    "\n",
    "api = tradeapi.REST(alpaca_api_key, alpaca_secret_key, api_version='v2')"
   ]
  },
  {
   "cell_type": "markdown",
   "metadata": {},
   "source": [
    "## Fetch Tickers Data"
   ]
  },
  {
   "cell_type": "code",
   "execution_count": 3,
   "metadata": {},
   "outputs": [],
   "source": [
    "def get_ticker_prices(ticker):\n",
    "    \n",
    "    # Set timeframe to '1D'\n",
    "    timeframe = '1D'\n",
    "\n",
    "    # Make the API cal and store in DataFrame    \n",
    "    data_df = api.get_barset(ticker,\n",
    "                             timeframe,\n",
    "                             limit=None,\n",
    "                             after=None,\n",
    "                             until=None).df\n",
    "    \n",
    "    # Clean DataFrame to show only close prices \n",
    "    df = pd.DataFrame({'close_'+ticker.lower():data_df[ticker]['close']})\n",
    "    return df"
   ]
  },
  {
   "cell_type": "code",
   "execution_count": 4,
   "metadata": {},
   "outputs": [
    {
     "data": {
      "text/html": [
       "<div>\n",
       "<style scoped>\n",
       "    .dataframe tbody tr th:only-of-type {\n",
       "        vertical-align: middle;\n",
       "    }\n",
       "\n",
       "    .dataframe tbody tr th {\n",
       "        vertical-align: top;\n",
       "    }\n",
       "\n",
       "    .dataframe thead th {\n",
       "        text-align: right;\n",
       "    }\n",
       "</style>\n",
       "<table border=\"1\" class=\"dataframe\">\n",
       "  <thead>\n",
       "    <tr style=\"text-align: right;\">\n",
       "      <th></th>\n",
       "      <th>close_spy</th>\n",
       "      <th>close_agg</th>\n",
       "    </tr>\n",
       "    <tr>\n",
       "      <th>time</th>\n",
       "      <th></th>\n",
       "      <th></th>\n",
       "    </tr>\n",
       "  </thead>\n",
       "  <tbody>\n",
       "    <tr>\n",
       "      <th>2021-03-11 00:00:00-05:00</th>\n",
       "      <td>393.50</td>\n",
       "      <td>114.44</td>\n",
       "    </tr>\n",
       "    <tr>\n",
       "      <th>2021-03-12 00:00:00-05:00</th>\n",
       "      <td>394.09</td>\n",
       "      <td>113.79</td>\n",
       "    </tr>\n",
       "    <tr>\n",
       "      <th>2021-03-15 00:00:00-04:00</th>\n",
       "      <td>396.47</td>\n",
       "      <td>113.94</td>\n",
       "    </tr>\n",
       "    <tr>\n",
       "      <th>2021-03-16 00:00:00-04:00</th>\n",
       "      <td>395.94</td>\n",
       "      <td>113.87</td>\n",
       "    </tr>\n",
       "    <tr>\n",
       "      <th>2021-03-17 00:00:00-04:00</th>\n",
       "      <td>397.22</td>\n",
       "      <td>113.87</td>\n",
       "    </tr>\n",
       "  </tbody>\n",
       "</table>\n",
       "</div>"
      ],
      "text/plain": [
       "                           close_spy  close_agg\n",
       "time                                           \n",
       "2021-03-11 00:00:00-05:00     393.50     114.44\n",
       "2021-03-12 00:00:00-05:00     394.09     113.79\n",
       "2021-03-15 00:00:00-04:00     396.47     113.94\n",
       "2021-03-16 00:00:00-04:00     395.94     113.87\n",
       "2021-03-17 00:00:00-04:00     397.22     113.87"
      ]
     },
     "execution_count": 4,
     "metadata": {},
     "output_type": "execute_result"
    }
   ],
   "source": [
    "# Obtain ticker prices, join data and display preview\n",
    "spy_data = get_ticker_prices(\"SPY\")\n",
    "\n",
    "agg_data = get_ticker_prices(\"AGG\")\n",
    "\n",
    "tickers_data = spy_data.join(agg_data)\n",
    "\n",
    "tickers_data.head()"
   ]
  },
  {
   "cell_type": "markdown",
   "metadata": {},
   "source": [
    "## Monte Carlo Simulation Code"
   ]
  },
  {
   "cell_type": "code",
   "execution_count": 5,
   "metadata": {},
   "outputs": [
    {
     "name": "stdout",
     "output_type": "stream",
     "text": [
      "****************************************************************************************************\n",
      "Daily ROI\n"
     ]
    },
    {
     "data": {
      "text/html": [
       "<div>\n",
       "<style scoped>\n",
       "    .dataframe tbody tr th:only-of-type {\n",
       "        vertical-align: middle;\n",
       "    }\n",
       "\n",
       "    .dataframe tbody tr th {\n",
       "        vertical-align: top;\n",
       "    }\n",
       "\n",
       "    .dataframe thead th {\n",
       "        text-align: right;\n",
       "    }\n",
       "</style>\n",
       "<table border=\"1\" class=\"dataframe\">\n",
       "  <thead>\n",
       "    <tr style=\"text-align: right;\">\n",
       "      <th></th>\n",
       "      <th>close_spy</th>\n",
       "      <th>close_agg</th>\n",
       "    </tr>\n",
       "    <tr>\n",
       "      <th>time</th>\n",
       "      <th></th>\n",
       "      <th></th>\n",
       "    </tr>\n",
       "  </thead>\n",
       "  <tbody>\n",
       "    <tr>\n",
       "      <th>2021-03-11 00:00:00-05:00</th>\n",
       "      <td>NaN</td>\n",
       "      <td>NaN</td>\n",
       "    </tr>\n",
       "    <tr>\n",
       "      <th>2021-03-12 00:00:00-05:00</th>\n",
       "      <td>0.001499</td>\n",
       "      <td>-0.005680</td>\n",
       "    </tr>\n",
       "    <tr>\n",
       "      <th>2021-03-15 00:00:00-04:00</th>\n",
       "      <td>0.006039</td>\n",
       "      <td>0.001318</td>\n",
       "    </tr>\n",
       "    <tr>\n",
       "      <th>2021-03-16 00:00:00-04:00</th>\n",
       "      <td>-0.001337</td>\n",
       "      <td>-0.000614</td>\n",
       "    </tr>\n",
       "    <tr>\n",
       "      <th>2021-03-17 00:00:00-04:00</th>\n",
       "      <td>0.003233</td>\n",
       "      <td>0.000000</td>\n",
       "    </tr>\n",
       "  </tbody>\n",
       "</table>\n",
       "</div>"
      ],
      "text/plain": [
       "                           close_spy  close_agg\n",
       "time                                           \n",
       "2021-03-11 00:00:00-05:00        NaN        NaN\n",
       "2021-03-12 00:00:00-05:00   0.001499  -0.005680\n",
       "2021-03-15 00:00:00-04:00   0.006039   0.001318\n",
       "2021-03-16 00:00:00-04:00  -0.001337  -0.000614\n",
       "2021-03-17 00:00:00-04:00   0.003233   0.000000"
      ]
     },
     "metadata": {},
     "output_type": "display_data"
    }
   ],
   "source": [
    "# Calculate the daily roi for the stocks\n",
    "daily_returns = tickers_data.pct_change()\n",
    "print(\"*\" * 100)\n",
    "print(\"Daily ROI\")\n",
    "display(daily_returns.head())\n",
    "\n",
    "# volatility\n",
    "daily_volatility = daily_returns.std()\n",
    "spy_volatility = daily_volatility[\"close_spy\"]\n",
    "agg_volatility = daily_volatility[\"close_agg\"]\n",
    "\n",
    "# Save the last day's closing price\n",
    "spy_last_price = tickers_data[\"close_spy\"][-1]\n",
    "agg_last_price = tickers_data[\"close_agg\"][-1]"
   ]
  },
  {
   "cell_type": "code",
   "execution_count": 6,
   "metadata": {},
   "outputs": [],
   "source": [
    "# Setup the Monte Carlo Parameters\n",
    "number_simulations = 10\n",
    "number_records = 252 * 30  # Years to retirement\n",
    "monte_carlo = pd.DataFrame()"
   ]
  },
  {
   "cell_type": "code",
   "execution_count": 7,
   "metadata": {},
   "outputs": [
    {
     "name": "stdout",
     "output_type": "stream",
     "text": [
      "Running Simulation 0...\n",
      "Running Simulation 1...\n",
      "Running Simulation 2...\n",
      "Running Simulation 3...\n",
      "Running Simulation 4...\n",
      "Running Simulation 5...\n",
      "Running Simulation 6...\n",
      "Running Simulation 7...\n",
      "Running Simulation 8...\n",
      "Running Simulation 9...\n"
     ]
    }
   ],
   "source": [
    "for x in range(number_simulations):\n",
    "\n",
    "    print(f\"Running Simulation {x}...\")\n",
    "\n",
    "    # Create the initial simulated prices array seeded with the last closing price\n",
    "    spy_prices = [spy_last_price]\n",
    "    agg_prices = [agg_last_price]\n",
    "\n",
    "    # Simulate the returns for 20 years\n",
    "    for iteration in range(number_records):\n",
    "        spy_prices.append(spy_prices[-1] * (1 + np.random.normal(daily_returns.mean()[\"close_spy\"], spy_volatility)))\n",
    "        agg_prices.append(agg_prices[-1] * (1 + np.random.normal(daily_returns.mean()[\"close_agg\"], agg_volatility)))\n",
    "\n",
    "    # Create a DataFrame of the simulated prices\n",
    "    portfolio = pd.DataFrame({\"SPY Simulated Prices\": spy_prices,\n",
    "                              \"AGG Simulated Prices\": agg_prices})\n",
    "\n",
    "    # Calculate the Portfolio Daily Returns\n",
    "    portfolio_returns = portfolio.pct_change()\n",
    "\n",
    "    # Set the Portfolio Weights (Assume a 60/40 stocks to bonds ratio)\n",
    "    stocks_weight = 0.60\n",
    "    bonds_weight = 0.40\n",
    "\n",
    "    # Calculate the weighted portfolio return:\n",
    "    portfolio_returns = (stocks_weight * portfolio_returns[\"SPY Simulated Prices\"]\n",
    "        + bonds_weight * portfolio_returns[\"AGG Simulated Prices\"])\n",
    "    \n",
    "\n",
    "    # Calculate the normalized, cumulative return series\n",
    "    monte_carlo[x] = (1 + portfolio_returns.fillna(0)).cumprod()"
   ]
  },
  {
   "cell_type": "code",
   "execution_count": 8,
   "metadata": {},
   "outputs": [
    {
     "data": {
      "text/html": [
       "<div>\n",
       "<style scoped>\n",
       "    .dataframe tbody tr th:only-of-type {\n",
       "        vertical-align: middle;\n",
       "    }\n",
       "\n",
       "    .dataframe tbody tr th {\n",
       "        vertical-align: top;\n",
       "    }\n",
       "\n",
       "    .dataframe thead th {\n",
       "        text-align: right;\n",
       "    }\n",
       "</style>\n",
       "<table border=\"1\" class=\"dataframe\">\n",
       "  <thead>\n",
       "    <tr style=\"text-align: right;\">\n",
       "      <th></th>\n",
       "      <th>0</th>\n",
       "      <th>1</th>\n",
       "      <th>2</th>\n",
       "      <th>3</th>\n",
       "      <th>4</th>\n",
       "      <th>5</th>\n",
       "      <th>6</th>\n",
       "      <th>7</th>\n",
       "      <th>8</th>\n",
       "      <th>9</th>\n",
       "    </tr>\n",
       "  </thead>\n",
       "  <tbody>\n",
       "    <tr>\n",
       "      <th>0</th>\n",
       "      <td>1.000000</td>\n",
       "      <td>1.000000</td>\n",
       "      <td>1.000000</td>\n",
       "      <td>1.000000</td>\n",
       "      <td>1.000000</td>\n",
       "      <td>1.000000</td>\n",
       "      <td>1.000000</td>\n",
       "      <td>1.000000</td>\n",
       "      <td>1.000000</td>\n",
       "      <td>1.000000</td>\n",
       "    </tr>\n",
       "    <tr>\n",
       "      <th>1</th>\n",
       "      <td>1.000289</td>\n",
       "      <td>1.000485</td>\n",
       "      <td>0.996211</td>\n",
       "      <td>1.005950</td>\n",
       "      <td>1.001105</td>\n",
       "      <td>1.003267</td>\n",
       "      <td>1.004967</td>\n",
       "      <td>0.993206</td>\n",
       "      <td>1.001780</td>\n",
       "      <td>1.004877</td>\n",
       "    </tr>\n",
       "    <tr>\n",
       "      <th>2</th>\n",
       "      <td>1.005348</td>\n",
       "      <td>1.000989</td>\n",
       "      <td>1.000367</td>\n",
       "      <td>1.003853</td>\n",
       "      <td>1.000926</td>\n",
       "      <td>1.002118</td>\n",
       "      <td>0.998595</td>\n",
       "      <td>0.992924</td>\n",
       "      <td>1.004153</td>\n",
       "      <td>1.010030</td>\n",
       "    </tr>\n",
       "    <tr>\n",
       "      <th>3</th>\n",
       "      <td>1.010545</td>\n",
       "      <td>1.000526</td>\n",
       "      <td>1.005919</td>\n",
       "      <td>1.004282</td>\n",
       "      <td>1.002213</td>\n",
       "      <td>1.004240</td>\n",
       "      <td>0.988471</td>\n",
       "      <td>0.992454</td>\n",
       "      <td>1.011626</td>\n",
       "      <td>1.015842</td>\n",
       "    </tr>\n",
       "    <tr>\n",
       "      <th>4</th>\n",
       "      <td>1.012891</td>\n",
       "      <td>0.997103</td>\n",
       "      <td>1.010158</td>\n",
       "      <td>1.007358</td>\n",
       "      <td>0.994037</td>\n",
       "      <td>1.003353</td>\n",
       "      <td>0.993702</td>\n",
       "      <td>0.996630</td>\n",
       "      <td>1.016005</td>\n",
       "      <td>1.021426</td>\n",
       "    </tr>\n",
       "  </tbody>\n",
       "</table>\n",
       "</div>"
      ],
      "text/plain": [
       "          0         1         2         3         4         5         6  \\\n",
       "0  1.000000  1.000000  1.000000  1.000000  1.000000  1.000000  1.000000   \n",
       "1  1.000289  1.000485  0.996211  1.005950  1.001105  1.003267  1.004967   \n",
       "2  1.005348  1.000989  1.000367  1.003853  1.000926  1.002118  0.998595   \n",
       "3  1.010545  1.000526  1.005919  1.004282  1.002213  1.004240  0.988471   \n",
       "4  1.012891  0.997103  1.010158  1.007358  0.994037  1.003353  0.993702   \n",
       "\n",
       "          7         8         9  \n",
       "0  1.000000  1.000000  1.000000  \n",
       "1  0.993206  1.001780  1.004877  \n",
       "2  0.992924  1.004153  1.010030  \n",
       "3  0.992454  1.011626  1.015842  \n",
       "4  0.996630  1.016005  1.021426  "
      ]
     },
     "execution_count": 8,
     "metadata": {},
     "output_type": "execute_result"
    }
   ],
   "source": [
    "# Check that the simulation ran successfully\n",
    "monte_carlo.head()"
   ]
  },
  {
   "cell_type": "code",
   "execution_count": 9,
   "metadata": {},
   "outputs": [
    {
     "data": {
      "text/plain": [
       "<AxesSubplot:title={'center':'Simulated Retirement Portfolio'}>"
      ]
     },
     "execution_count": 9,
     "metadata": {},
     "output_type": "execute_result"
    },
    {
     "data": {
      "image/png": "[encoded data removed]",
      "text/plain": [
       "<Figure size 432x288 with 1 Axes>"
      ]
     },
     "metadata": {
      "needs_background": "light"
     },
     "output_type": "display_data"
    }
   ],
   "source": [
    "# Visualize the Simulation\n",
    "monte_carlo.plot(legend=None,\n",
    "                 title=\"Simulated Retirement Portfolio\")"
   ]
  },
  {
   "cell_type": "code",
   "execution_count": null,
   "metadata": {},
   "outputs": [],
   "source": []
  }
 ],
 "metadata": {
  "file_extension": ".py",
  "kernelspec": {
   "display_name": "Python 3",
   "language": "python",
   "name": "python3"
  },
  "language_info": {
   "codemirror_mode": {
    "name": "ipython",
    "version": 3
   },
   "file_extension": ".py",
   "mimetype": "text/x-python",
   "name": "python",
   "nbconvert_exporter": "python",
   "pygments_lexer": "ipython3",
   "version": "3.7.10"
  },
  "mimetype": "text/x-python",
  "name": "python",
  "npconvert_exporter": "python",
  "pygments_lexer": "ipython3",
  "version": 3
 },
 "nbformat": 4,
 "nbformat_minor": 4
}
