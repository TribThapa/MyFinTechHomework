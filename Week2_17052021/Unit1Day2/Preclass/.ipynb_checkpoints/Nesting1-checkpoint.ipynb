{
 "cells": [
  {
   "cell_type": "code",
   "execution_count": 7,
   "metadata": {},
   "outputs": [
    {
     "name": "stdout",
     "output_type": "stream",
     "text": [
      "{'name': 'Twitter', 'exchange': 'NASDAQ', 'market_cap': 26.42}\n",
      "\n",
      "Twitter\n",
      "\n",
      "NASDAQ\n",
      "\n",
      "26.42\n",
      "\n",
      "Name of TWTR: Twitter. TWTR is available at: NASDAQ, and currently has a market cap of 26.42. \n"
     ]
    }
   ],
   "source": [
    "#Dictionary of dicts\n",
    "\n",
    "stocks_nested_dict = {\n",
    "    \"AAPL\": {\n",
    "        \"name\": \"Apple\",\n",
    "        \"exchange\": \"NASDAQ\",\n",
    "        \"market_cap\": 937.7\n",
    "    },\n",
    "    \"MU\": {\n",
    "        \"name\": \"Micron Technology\",\n",
    "        \"exchange\": \"NASDAQ\",\n",
    "        \"market_cap\": 48.03\n",
    "    },\n",
    "    \"AMD\": {\n",
    "        \"name\": \"Advanced Micro Devices\",\n",
    "        \"exchange\": \"NASDAQ\",\n",
    "        \"market_cap\": 29.94\n",
    "    },\n",
    "    \"TWTR\": {\n",
    "        \"name\": \"Twitter\",\n",
    "        \"exchange\": \"NASDAQ\",\n",
    "        \"market_cap\": 26.42\n",
    "    }\n",
    "}\n",
    "\n",
    "# Retrieve Twitter entry\n",
    "twitter_entry = stocks_nested_dict[\"TWTR\"]\n",
    "print(twitter_entry)\n",
    "print()\n",
    "\n",
    "# Retrieve TWTR name, exchange, and market_cap\n",
    "twitter_name = stocks_nested_dict[\"TWTR\"][\"name\"]\n",
    "print(twitter_name)\n",
    "print()\n",
    "\n",
    "twitter_exchange = stocks_nested_dict[\"TWTR\"][\"exchange\"]\n",
    "print(twitter_exchange)\n",
    "print()\n",
    "\n",
    "twitter_market_cap = stocks_nested_dict[\"TWTR\"][\"market_cap\"]\n",
    "print(twitter_market_cap)\n",
    "print()\n",
    "\n",
    "# Print results to screen\n",
    "print(f\"Name of TWTR: {twitter_name}. TWTR is available at: {twitter_exchange}, and currently has a market cap of {twitter_market_cap}. \")"
   ]
  },
  {
   "cell_type": "code",
   "execution_count": 16,
   "metadata": {},
   "outputs": [
    {
     "name": "stdout",
     "output_type": "stream",
     "text": [
      "['Apple', 101.32, 'NASDAQ', 937.7]\n",
      "\n",
      "Apple\n",
      "\n",
      "101.32\n",
      "\n",
      "NASDAQ\n",
      "\n",
      "AAPL ticker stands for Apple. AAPL stock price is currently at 101.32, and is available on NASDAQ. \n"
     ]
    }
   ],
   "source": [
    "# Dictionary of lists\n",
    "\n",
    "stocks_nested_list = {\n",
    "    \"AAPL\": [\"Apple\", 101.32, \"NASDAQ\", 937.7],\n",
    "    \"MU\": [\"Micron Technology\", 32.12, \"NASDAQ\", 48.03],\n",
    "    \"AMD\": [\"Advanced Micro Devices\", 23.12, \"NASDAQ\", 29.94],\n",
    "    \"TWTR\": [\"Twitter\", 34.40, \"NASDAQ\", 26.42]\n",
    "}\n",
    "\n",
    "# Retrieve entry for AAPL\n",
    "appl_entry = stocks_nested_list[\"AAPL\"]\n",
    "print(appl_entry)\n",
    "print()\n",
    "\n",
    "# Retrieve name, stock_price, and exchange for APPL entry\n",
    "appl_name = stocks_nested_list[\"AAPL\"][0]\n",
    "print(appl_name)\n",
    "print()\n",
    "\n",
    "appl_stockprice = stocks_nested_list[\"AAPL\"][1]\n",
    "print(appl_stockprice)\n",
    "print()\n",
    "\n",
    "appl_exchange = stocks_nested_list[\"AAPL\"][2]\n",
    "print(appl_exchange)\n",
    "print()\n",
    "\n",
    "# Print results to screen\n",
    "print(f\"AAPL ticker stands for {appl_name}. AAPL stock price is currently at {appl_stockprice}, and is available on {appl_exchange}. \")"
   ]
  },
  {
   "cell_type": "code",
   "execution_count": 28,
   "metadata": {},
   "outputs": [
    {
     "name": "stdout",
     "output_type": "stream",
     "text": [
      "['Warren Buffet', 88, 'CEO of Berkshire Hathaway']\n",
      "\n",
      "Warren Buffet\n",
      "\n",
      "88\n",
      "\n",
      "CEO of Berkshire Hathaway\n",
      "\n",
      "The first entry on the list is ['Warren Buffet', 88, 'CEO of Berkshire Hathaway']\n",
      "Warren Buffet is 88 years old. He is the CEO of Berkshire Hathaway. \n"
     ]
    }
   ],
   "source": [
    "#List of lists\n",
    "\n",
    "ceo_list = [\"Warren\", \"Jack\", \"Harry\"]\n",
    "\n",
    "ceo_nested_list = [\n",
    "    [\"Warren Buffet\", 88, \"CEO of Berkshire Hathaway\"],\n",
    "    [\"Jeff Bezos\", 55, \"CEO of Amazon\"],\n",
    "    [\"Harry Markowitz\", 91, \"Professor of Finance\"]\n",
    "]\n",
    "\n",
    "# Retrieve first entry of ceo_nested_list\n",
    "first_entry = ceo_nested_list[0]\n",
    "print(first_entry)\n",
    "print()\n",
    "\n",
    "# Retrieve name, age, occupation of first entry\n",
    "first_entry_name = ceo_nested_list[0][0]\n",
    "print(first_entry_name)\n",
    "print()\n",
    "\n",
    "first_entry_age = ceo_nested_list[0][1]\n",
    "print(first_entry_age)\n",
    "print()\n",
    "\n",
    "first_entry_occ = ceo_nested_list[0][2]\n",
    "print(first_entry_occ)\n",
    "print()\n",
    "\n",
    "# Print results to screen\n",
    "print(f\"The first entry on the list is {first_entry}\")\n",
    "print(f\"{first_entry_name} is {first_entry_age} years old. He is the {first_entry_occ}. \")"
   ]
  },
  {
   "cell_type": "code",
   "execution_count": 22,
   "metadata": {},
   "outputs": [
    {
     "name": "stdout",
     "output_type": "stream",
     "text": [
      "{'name': 'Jeff Bezos', 'age': 55, 'occupation': 'CEO of Amazon'}\n",
      "\n",
      "Jeff Bezos\n",
      "\n",
      "55\n",
      "\n",
      "CEO of Amazon\n",
      "\n",
      "The second entry in ceo nested list is Jeff Bezos. He is 55 years old and is the CEO of Amazon. \n"
     ]
    }
   ],
   "source": [
    "# List of dictionaries. List = [] access data using index, and Dict = {} access data by spelling out the headers\n",
    "\n",
    "ceo_nested_dict = [\n",
    "    {\n",
    "        \"name\": \"Warren Buffet\",\n",
    "        \"age\": 88,\n",
    "        \"occupation\": \"CEO of Berkshire Hathaway\"\n",
    "    },\n",
    "    {\n",
    "        \"name\": \"Jeff Bezos\",\n",
    "        \"age\": 55,\n",
    "        \"occupation\": \"CEO of Amazon\"\n",
    "    },\n",
    "    {\n",
    "        \"name\": \"Harry Markowitz\",\n",
    "        \"age\": 91,\n",
    "        \"occupation\": \"Professor of Finance\"\n",
    "    }\n",
    "]\n",
    "\n",
    "# Retrieve second entry\n",
    "second_entry = ceo_nested_dict[1]\n",
    "print(second_entry)\n",
    "print()\n",
    "\n",
    "# Retrieve name, age, and occupation of the second dict entry\n",
    "second_entry_name = ceo_nested_dict[1][\"name\"]\n",
    "print(second_entry_name)\n",
    "print()\n",
    "\n",
    "second_entry_age = ceo_nested_dict[1][\"age\"]\n",
    "print(second_entry_age)\n",
    "print()\n",
    "\n",
    "second_entry_occ = ceo_nested_dict[1][\"occupation\"]\n",
    "print(second_entry_occ)\n",
    "print()\n",
    "\n",
    "# Print results to the screen\n",
    "print(f\"The second entry in ceo nested list is {second_entry_name}. He is {second_entry_age} years old and is the {second_entry_occ}. \")"
   ]
  },
  {
   "cell_type": "code",
   "execution_count": null,
   "metadata": {},
   "outputs": [],
   "source": []
  }
 ],
 "metadata": {
  "kernelspec": {
   "display_name": "Python 3",
   "language": "python",
   "name": "python3"
  },
  "language_info": {
   "codemirror_mode": {
    "name": "ipython",
    "version": 3
   },
   "file_extension": ".py",
   "mimetype": "text/x-python",
   "name": "python",
   "nbconvert_exporter": "python",
   "pygments_lexer": "ipython3",
   "version": "3.7.1"
  }
 },
 "nbformat": 4,
 "nbformat_minor": 2
}
