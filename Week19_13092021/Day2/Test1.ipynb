{
 "cells": [
  {
   "cell_type": "code",
   "execution_count": 9,
   "id": "8bc81bca-126f-4517-963e-5a068ab7c65a",
   "metadata": {},
   "outputs": [],
   "source": [
    "from bit import wif_to_key"
   ]
  },
  {
   "cell_type": "code",
   "execution_count": 10,
   "id": "e2a6bc2a-af9a-453b-b995-0b853b8ac2c5",
   "metadata": {},
   "outputs": [
    {
     "data": {
      "text/plain": [
       "'0.0022'"
      ]
     },
     "execution_count": 10,
     "metadata": {},
     "output_type": "execute_result"
    }
   ],
   "source": [
    "# WIF: Wallet import format\n",
    "key = wif_to_key(\"cNib1MxnjWLT3YNFZH4HmJAWxGNLWqKiR3B3S69X5Q9RiCC7bdq6\")\n",
    "\n",
    "key.get_balance('btc')"
   ]
  },
  {
   "cell_type": "code",
   "execution_count": 11,
   "id": "70249373-647e-4153-b1d9-e19a636b7e62",
   "metadata": {},
   "outputs": [
    {
     "name": "stdout",
     "output_type": "stream",
     "text": [
      "50ffbe831dc88461c11ee5197d809fbe92fee6b4c494b50906111245cac5ad0c\n"
     ]
    }
   ],
   "source": [
    "# replace with student addresses\n",
    "addresses = [\"n2HptQ2c9q1H81tYHnppt7KZvP946RTksV\"]#,\n",
    "             #\"0xA29f7E79ECEA4cE30DD78cfeb9605D9aFf5143a5\"]\n",
    "\n",
    "outputs = []\n",
    "\n",
    "for address in addresses:\n",
    "    outputs.append((address, 0.0001, \"btc\"))\n",
    "\n",
    "print(key.send(outputs))"
   ]
  },
  {
   "cell_type": "code",
   "execution_count": 21,
   "id": "21e7b646-2a23-48ec-a0bd-15c051ad07a3",
   "metadata": {},
   "outputs": [
    {
     "name": "stdout",
     "output_type": "stream",
     "text": [
      "balance:0.0024166\n",
      "\n",
      "balance: AUD158.15\n",
      "\n",
      "['0238e3a9a2a6de96af2f0c6b55b7c4ff44fc862bb50b0acadccdbc829bae5b65', '50ffbe831dc88461c11ee5197d809fbe92fee6b4c494b50906111245cac5ad0c', 'da4f9a2ab5aeb8fd88517bcd61a974fbeb921a8f1cfc70e05049db14e26fe28b', 'dc6cc4404d87c65fdd2d664c7a4c0c4799559c9ecd451a6a96971abc510789a2', '97e3563e42e9a09074feb3dd749885fcfd0202e48e5fbf7d387a4f4d4268387d', '44b9dd6635344e5f70f0e5219a52eeac7f7c941b4b05c342873c732597b931ed']\n",
      "\n",
      "[Unspent(amount=100000, confirmations=3, script='76a9145bcdfcfec62ab3195b78b55f1f5ba86c025903d388ac', txid='0238e3a9a2a6de96af2f0c6b55b7c4ff44fc862bb50b0acadccdbc829bae5b65', txindex=0, segwit=False, sequence=4294967295), Unspent(amount=141660, confirmations=3, script='76a9145bcdfcfec62ab3195b78b55f1f5ba86c025903d388ac', txid='50ffbe831dc88461c11ee5197d809fbe92fee6b4c494b50906111245cac5ad0c', txindex=1, segwit=False, sequence=4294967295)]\n"
     ]
    }
   ],
   "source": [
    "print(\"balance:\" + key.get_balance('btc'))\n",
    "print()\n",
    "print(\"balance: AUD\" + key.get_balance('aud'))\n",
    "print()\n",
    "print(key.get_transactions())\n",
    "print()\n",
    "print(key.get_unspents())"
   ]
  },
  {
   "cell_type": "code",
   "execution_count": 24,
   "id": "2545cffc-360b-4bf5-8622-31ce11e36d21",
   "metadata": {},
   "outputs": [
    {
     "name": "stdout",
     "output_type": "stream",
     "text": [
      "balance: 0.0024166\n",
      "\n",
      "balance: AUD 158.05\n",
      "\n",
      "['0238e3a9a2a6de96af2f0c6b55b7c4ff44fc862bb50b0acadccdbc829bae5b65', '50ffbe831dc88461c11ee5197d809fbe92fee6b4c494b50906111245cac5ad0c', 'da4f9a2ab5aeb8fd88517bcd61a974fbeb921a8f1cfc70e05049db14e26fe28b', 'dc6cc4404d87c65fdd2d664c7a4c0c4799559c9ecd451a6a96971abc510789a2', '97e3563e42e9a09074feb3dd749885fcfd0202e48e5fbf7d387a4f4d4268387d', '44b9dd6635344e5f70f0e5219a52eeac7f7c941b4b05c342873c732597b931ed']\n",
      "\n",
      "[Unspent(amount=141660, confirmations=4, script='76a9145bcdfcfec62ab3195b78b55f1f5ba86c025903d388ac', txid='50ffbe831dc88461c11ee5197d809fbe92fee6b4c494b50906111245cac5ad0c', txindex=1, segwit=False, sequence=4294967295), Unspent(amount=100000, confirmations=4, script='76a9145bcdfcfec62ab3195b78b55f1f5ba86c025903d388ac', txid='0238e3a9a2a6de96af2f0c6b55b7c4ff44fc862bb50b0acadccdbc829bae5b65', txindex=0, segwit=False, sequence=4294967295)]\n"
     ]
    }
   ],
   "source": [
    "print(f\"balance: {key.get_balance('btc')}\")\n",
    "print()\n",
    "print(f\"balance: AUD {key.get_balance('aud')}\")\n",
    "print()\n",
    "print(key.get_transactions())\n",
    "print()\n",
    "print(key.get_unspents())"
   ]
  },
  {
   "cell_type": "code",
   "execution_count": 25,
   "id": "4d588b2e-5f2f-4c5e-b741-559fb74d385f",
   "metadata": {},
   "outputs": [
    {
     "name": "stdout",
     "output_type": "stream",
     "text": [
      "Point(x=45888692206275337621516139864173643133945590096298703033273901034598439202510, y=96480276284743465562073684944217678487856075287179796260588062891536742143062)\n"
     ]
    }
   ],
   "source": [
    "print(key.public_point)"
   ]
  },
  {
   "cell_type": "code",
   "execution_count": 26,
   "id": "1fbf4413-2fbb-42cf-a8fc-5768a68d414a",
   "metadata": {},
   "outputs": [
    {
     "name": "stdout",
     "output_type": "stream",
     "text": [
      "motNYprrmBCuqfP4bazYR6auaaF96mmKPS\n"
     ]
    }
   ],
   "source": [
    "print(key.address)"
   ]
  }
 ],
 "metadata": {
  "kernelspec": {
   "display_name": "Python 3",
   "language": "python",
   "name": "python3"
  },
  "language_info": {
   "codemirror_mode": {
    "name": "ipython",
    "version": 3
   },
   "file_extension": ".py",
   "mimetype": "text/x-python",
   "name": "python",
   "nbconvert_exporter": "python",
   "pygments_lexer": "ipython3",
   "version": "3.7.10"
  }
 },
 "nbformat": 4,
 "nbformat_minor": 5
}
