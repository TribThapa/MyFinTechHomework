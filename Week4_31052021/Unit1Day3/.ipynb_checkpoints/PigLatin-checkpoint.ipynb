{
 "cells": [
  {
   "cell_type": "code",
   "execution_count": 1,
   "metadata": {},
   "outputs": [
    {
     "name": "stdout",
     "output_type": "stream",
     "text": [
      "Iway amecay omehay inway away arcay.\n"
     ]
    }
   ],
   "source": [
    "string = 'I came home in a car'\n",
    "\n",
    "def pig_latin(input_text, sep=' ', end='.'):\n",
    "    words = input_text.split(sep)\n",
    "    new_words = []\n",
    "    \n",
    "    for word in words:\n",
    "        if word[0].lower() in ['a', 'e', 'i', 'o', 'u']:\n",
    "            new_words.append(word + 'way')\n",
    "        else:\n",
    "            new_words.append(word[1:] + word[0] + 'ay')\n",
    "    \n",
    "    final_string = sep.join(new_words)\n",
    "    final_string = final_string + end\n",
    "    return final_string\n",
    "\n",
    "print(pig_latin(string))        "
   ]
  }
 ],
 "metadata": {
  "kernelspec": {
   "display_name": "Python 3",
   "language": "python",
   "name": "python3"
  },
  "language_info": {
   "codemirror_mode": {
    "name": "ipython",
    "version": 3
   },
   "file_extension": ".py",
   "mimetype": "text/x-python",
   "name": "python",
   "nbconvert_exporter": "python",
   "pygments_lexer": "ipython3",
   "version": "3.7.1"
  }
 },
 "nbformat": 4,
 "nbformat_minor": 2
}
