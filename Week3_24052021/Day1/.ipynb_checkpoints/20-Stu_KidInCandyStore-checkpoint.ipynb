{
 "cells": [
  {
   "cell_type": "code",
   "execution_count": 4,
   "metadata": {},
   "outputs": [
    {
     "name": "stdout",
     "output_type": "stream",
     "text": [
      "0 Snickers\n",
      "1 Kit Kat\n",
      "2 Sour Patch Kids\n",
      "3 Juicy Fruit\n",
      "4 Swedish Fish\n",
      "5 Skittles\n",
      "6 Hershey Bar\n",
      "7 Starbursts\n",
      "8 M&Ms\n"
     ]
    },
    {
     "name": "stdin",
     "output_type": "stream",
     "text": [
      "Which candy would you like to take home?  Snickers\n",
      "Would you like more candy? Type: 'yes', or 'no'  yes\n",
      "Which candy would you like to take home?  Kit Kat\n",
      "Would you like more candy? Type: 'yes', or 'no'  no\n"
     ]
    },
    {
     "name": "stdout",
     "output_type": "stream",
     "text": [
      "2 candy/ies will be taken home. The name of the candy/ies is/are: ['Snickers', 'Kit Kat']\n"
     ]
    }
   ],
   "source": [
    "# The list of candies to print to the screen\n",
    "candy_list = [\n",
    "    \"Snickers\",\n",
    "    \"Kit Kat\",\n",
    "    \"Sour Patch Kids\",\n",
    "    \"Juicy Fruit\",\n",
    "    \"Swedish Fish\",\n",
    "    \"Skittles\",\n",
    "    \"Hershey Bar\",\n",
    "    \"Starbursts\",\n",
    "    \"M&Ms\"\n",
    "]\n",
    "\n",
    "# The amount of candy the user will be allowed to choose\n",
    "allowance = 5\n",
    "\n",
    "# The list used to store all of the candies selected inside of\n",
    "candy_cart = []\n",
    "\n",
    "# Print all of the candies to the screen and their index in brackets\n",
    "for i in range(len(candy_list)):\n",
    "    print(i, end= \" \")\n",
    "    print(candy_list[i])\n",
    "\n",
    "answer = 'yes'\n",
    "\n",
    "# Set answer to \"yes\" for while loop\n",
    "while answer == 'yes':\n",
    "    \n",
    "    Ans1 = input('Which candy would you like to take home? ')\n",
    "    \n",
    "    candy_cart.append(Ans1)\n",
    "    \n",
    "    answer = input(\"Would you like more candy? Type: 'yes', or 'no' \")\n",
    "\n",
    "print(f\"{len(candy_cart)} candy/ies will be taken home. The name of the candy/ies is/are: {candy_cart}\")"
   ]
  }
 ],
 "metadata": {
  "kernelspec": {
   "display_name": "Python 3",
   "language": "python",
   "name": "python3"
  },
  "language_info": {
   "codemirror_mode": {
    "name": "ipython",
    "version": 3
   },
   "file_extension": ".py",
   "mimetype": "text/x-python",
   "name": "python",
   "nbconvert_exporter": "python",
   "pygments_lexer": "ipython3",
   "version": "3.7.1"
  }
 },
 "nbformat": 4,
 "nbformat_minor": 2
}
