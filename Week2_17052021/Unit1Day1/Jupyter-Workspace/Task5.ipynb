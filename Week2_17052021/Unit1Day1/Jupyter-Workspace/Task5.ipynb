{
 "cells": [
  {
   "cell_type": "markdown",
   "metadata": {},
   "source": [
    "### Pseudocoding: spelling out the code in English before writing the actual code. E.g., set a sum value A and a count value B and return a value that is equal to A/B.\n",
    "\n",
    "#### Define variables to represent current price, original price and increase in price\n",
    "\n",
    "*CurrentPrice* \n",
    "\n",
    "*OriginalPrice* \n",
    "\n",
    "Increase = round(CurrentPrice - OriginalPrice, 2)\n",
    "\n",
    "PercentIncrease = round((Increase/OriginalPrice)*100, 2)\n",
    "\n",
    "Recommendation = 'BUY'\n",
    "\n",
    "ThresholdToBuy = 20\n",
    "\n",
    "ThresholdToPurchase = 50\n",
    "\n",
    "Balance = CurrentPrice * 5"
   ]
  },
  {
   "cell_type": "code",
   "execution_count": 38,
   "metadata": {},
   "outputs": [],
   "source": [
    "#Pseudocoding: spelling out the code in English before writing the actual code. E.g., set a sum value A and a count value B and return a value that is equal to A/B.\n",
    "\n",
    "# Define variables to represent current price, original price and increase in price\n",
    "CurrentPrice = 250\n",
    "\n",
    "OriginalPrice = 360.35\n",
    "\n",
    "Increase = round(CurrentPrice - OriginalPrice, 2)\n",
    "\n",
    "PercentIncrease = round((Increase/OriginalPrice)*100, 2)\n",
    "\n",
    "Recommendation = 'SELL'\n",
    "\n",
    "ThresholdToBuy = 20\n",
    "\n",
    "ThresholdToPurchase = 50\n",
    "\n",
    "Balance = CurrentPrice * 5"
   ]
  },
  {
   "cell_type": "code",
   "execution_count": 39,
   "metadata": {},
   "outputs": [
    {
     "name": "stdout",
     "output_type": "stream",
     "text": [
      "The current stock price is $250\n",
      "The original stock price is $360.35\n",
      "The stock price increased by $-110.35 i.e., by -30.62 %.\n",
      "Your current balance is $1250.\n"
     ]
    }
   ],
   "source": [
    "print(f\"The current stock price is ${CurrentPrice}\")\n",
    "print(f\"The original stock price is ${OriginalPrice}\")\n",
    "print(f\"The stock price increased by ${Increase} i.e., by {PercentIncrease} %.\")\n",
    "print(f\"Your current balance is ${Balance}.\")"
   ]
  },
  {
   "cell_type": "code",
   "execution_count": 42,
   "metadata": {},
   "outputs": [
    {
     "name": "stdout",
     "output_type": "stream",
     "text": [
      "Recommendation: Relax\n"
     ]
    }
   ],
   "source": [
    "if PercentIncrease >= 20 and Balance > 1000:\n",
    "    print(f\"Recomendation: {Recommendation}\")\n",
    "elif PercentIncrease >= 20 and Balance < 500:\n",
    "    print(f\"Recommedation: BUY\")\n",
    "else:\n",
    "     print(f\"Recommendation: Relax\")"
   ]
  },
  {
   "cell_type": "code",
   "execution_count": null,
   "metadata": {},
   "outputs": [],
   "source": []
  }
 ],
 "metadata": {
  "kernelspec": {
   "display_name": "Python 3",
   "language": "python",
   "name": "python3"
  },
  "language_info": {
   "codemirror_mode": {
    "name": "ipython",
    "version": 3
   },
   "file_extension": ".py",
   "mimetype": "text/x-python",
   "name": "python",
   "nbconvert_exporter": "python",
   "pygments_lexer": "ipython3",
   "version": "3.7.1"
  }
 },
 "nbformat": 4,
 "nbformat_minor": 2
}
