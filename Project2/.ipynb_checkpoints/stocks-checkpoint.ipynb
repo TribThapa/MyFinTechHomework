{
 "cells": [
  {
   "cell_type": "markdown",
   "metadata": {},
   "source": [
    "## Stocks \n",
    "\n",
    "### Import Dependencies"
   ]
  },
  {
   "cell_type": "code",
   "execution_count": 1,
   "metadata": {
    "tags": []
   },
   "outputs": [],
   "source": [
    "# Import libraries and dependencies\n",
    "import os\n",
    "import pandas as pd\n",
    "import alpaca_trade_api as tradeapi\n",
    "\n",
    "# Load .env enviroment variables\n",
    "from dotenv import load_dotenv\n",
    "load_dotenv()\n",
    "\n",
    "%matplotlib inline"
   ]
  },
  {
   "cell_type": "markdown",
   "metadata": {},
   "source": [
    "### Set up Alpaca API environment"
   ]
  },
  {
   "cell_type": "code",
   "execution_count": 2,
   "metadata": {
    "tags": []
   },
   "outputs": [],
   "source": [
    "# Setup Alpaca API environment\n",
    "alpaca_api_key = os.getenv(\"ALPACA_API_KEY\")\n",
    "alpaca_secret_key = os.getenv(\"ALPACA_API_SECRET_KEY\")\n",
    "\n",
    "api = tradeapi.REST(\n",
    "    alpaca_api_key,\n",
    "    alpaca_secret_key,\n",
    "    api_version=\"v2\"\n",
    ")"
   ]
  },
  {
   "cell_type": "markdown",
   "metadata": {},
   "source": [
    "### Read in stock data using Alpaca API"
   ]
  },
  {
   "cell_type": "code",
   "execution_count": 3,
   "metadata": {},
   "outputs": [
    {
     "data": {
      "text/html": [
       "<div>\n",
       "<style scoped>\n",
       "    .dataframe tbody tr th:only-of-type {\n",
       "        vertical-align: middle;\n",
       "    }\n",
       "\n",
       "    .dataframe tbody tr th {\n",
       "        vertical-align: top;\n",
       "    }\n",
       "\n",
       "    .dataframe thead tr th {\n",
       "        text-align: left;\n",
       "    }\n",
       "\n",
       "    .dataframe thead tr:last-of-type th {\n",
       "        text-align: right;\n",
       "    }\n",
       "</style>\n",
       "<table border=\"1\" class=\"dataframe\">\n",
       "  <thead>\n",
       "    <tr>\n",
       "      <th></th>\n",
       "      <th colspan=\"5\" halign=\"left\">AAPL</th>\n",
       "      <th colspan=\"5\" halign=\"left\">PYPL</th>\n",
       "      <th colspan=\"5\" halign=\"left\">SQ</th>\n",
       "    </tr>\n",
       "    <tr>\n",
       "      <th></th>\n",
       "      <th>open</th>\n",
       "      <th>high</th>\n",
       "      <th>low</th>\n",
       "      <th>close</th>\n",
       "      <th>volume</th>\n",
       "      <th>open</th>\n",
       "      <th>high</th>\n",
       "      <th>low</th>\n",
       "      <th>close</th>\n",
       "      <th>volume</th>\n",
       "      <th>open</th>\n",
       "      <th>high</th>\n",
       "      <th>low</th>\n",
       "      <th>close</th>\n",
       "      <th>volume</th>\n",
       "    </tr>\n",
       "    <tr>\n",
       "      <th>time</th>\n",
       "      <th></th>\n",
       "      <th></th>\n",
       "      <th></th>\n",
       "      <th></th>\n",
       "      <th></th>\n",
       "      <th></th>\n",
       "      <th></th>\n",
       "      <th></th>\n",
       "      <th></th>\n",
       "      <th></th>\n",
       "      <th></th>\n",
       "      <th></th>\n",
       "      <th></th>\n",
       "      <th></th>\n",
       "      <th></th>\n",
       "    </tr>\n",
       "  </thead>\n",
       "  <tbody>\n",
       "    <tr>\n",
       "      <th>2020-08-24 00:00:00-04:00</th>\n",
       "      <td>505.6250</td>\n",
       "      <td>514.7809</td>\n",
       "      <td>495.745</td>\n",
       "      <td>503.79</td>\n",
       "      <td>57811323</td>\n",
       "      <td>199.4600</td>\n",
       "      <td>200.3200</td>\n",
       "      <td>196.57</td>\n",
       "      <td>198.94</td>\n",
       "      <td>3540321</td>\n",
       "      <td>155.97</td>\n",
       "      <td>156.5400</td>\n",
       "      <td>150.98</td>\n",
       "      <td>151.835</td>\n",
       "      <td>13306179</td>\n",
       "    </tr>\n",
       "    <tr>\n",
       "      <th>2020-08-25 00:00:00-04:00</th>\n",
       "      <td>498.7900</td>\n",
       "      <td>500.7172</td>\n",
       "      <td>492.210</td>\n",
       "      <td>499.31</td>\n",
       "      <td>49446300</td>\n",
       "      <td>198.4900</td>\n",
       "      <td>201.9600</td>\n",
       "      <td>196.24</td>\n",
       "      <td>201.71</td>\n",
       "      <td>3911979</td>\n",
       "      <td>151.80</td>\n",
       "      <td>155.7400</td>\n",
       "      <td>149.00</td>\n",
       "      <td>155.000</td>\n",
       "      <td>12552378</td>\n",
       "    </tr>\n",
       "    <tr>\n",
       "      <th>2020-08-26 00:00:00-04:00</th>\n",
       "      <td>504.7165</td>\n",
       "      <td>507.9700</td>\n",
       "      <td>500.330</td>\n",
       "      <td>506.19</td>\n",
       "      <td>37949023</td>\n",
       "      <td>202.5300</td>\n",
       "      <td>205.3500</td>\n",
       "      <td>200.25</td>\n",
       "      <td>203.53</td>\n",
       "      <td>4572164</td>\n",
       "      <td>156.09</td>\n",
       "      <td>158.6900</td>\n",
       "      <td>151.73</td>\n",
       "      <td>153.800</td>\n",
       "      <td>12055002</td>\n",
       "    </tr>\n",
       "    <tr>\n",
       "      <th>2020-08-27 00:00:00-04:00</th>\n",
       "      <td>508.5700</td>\n",
       "      <td>509.9400</td>\n",
       "      <td>495.330</td>\n",
       "      <td>500.04</td>\n",
       "      <td>36319905</td>\n",
       "      <td>206.8100</td>\n",
       "      <td>207.0000</td>\n",
       "      <td>202.30</td>\n",
       "      <td>204.34</td>\n",
       "      <td>5161700</td>\n",
       "      <td>156.87</td>\n",
       "      <td>161.5399</td>\n",
       "      <td>155.50</td>\n",
       "      <td>155.620</td>\n",
       "      <td>22584724</td>\n",
       "    </tr>\n",
       "    <tr>\n",
       "      <th>2020-08-28 00:00:00-04:00</th>\n",
       "      <td>504.0500</td>\n",
       "      <td>505.7700</td>\n",
       "      <td>498.310</td>\n",
       "      <td>498.83</td>\n",
       "      <td>38201316</td>\n",
       "      <td>205.4159</td>\n",
       "      <td>205.4159</td>\n",
       "      <td>202.42</td>\n",
       "      <td>204.48</td>\n",
       "      <td>3723872</td>\n",
       "      <td>159.15</td>\n",
       "      <td>159.1500</td>\n",
       "      <td>154.06</td>\n",
       "      <td>155.850</td>\n",
       "      <td>12284137</td>\n",
       "    </tr>\n",
       "  </tbody>\n",
       "</table>\n",
       "</div>"
      ],
      "text/plain": [
       "                               AAPL                                       \\\n",
       "                               open      high      low   close    volume   \n",
       "time                                                                       \n",
       "2020-08-24 00:00:00-04:00  505.6250  514.7809  495.745  503.79  57811323   \n",
       "2020-08-25 00:00:00-04:00  498.7900  500.7172  492.210  499.31  49446300   \n",
       "2020-08-26 00:00:00-04:00  504.7165  507.9700  500.330  506.19  37949023   \n",
       "2020-08-27 00:00:00-04:00  508.5700  509.9400  495.330  500.04  36319905   \n",
       "2020-08-28 00:00:00-04:00  504.0500  505.7700  498.310  498.83  38201316   \n",
       "\n",
       "                               PYPL                                     \\\n",
       "                               open      high     low   close   volume   \n",
       "time                                                                     \n",
       "2020-08-24 00:00:00-04:00  199.4600  200.3200  196.57  198.94  3540321   \n",
       "2020-08-25 00:00:00-04:00  198.4900  201.9600  196.24  201.71  3911979   \n",
       "2020-08-26 00:00:00-04:00  202.5300  205.3500  200.25  203.53  4572164   \n",
       "2020-08-27 00:00:00-04:00  206.8100  207.0000  202.30  204.34  5161700   \n",
       "2020-08-28 00:00:00-04:00  205.4159  205.4159  202.42  204.48  3723872   \n",
       "\n",
       "                               SQ                                       \n",
       "                             open      high     low    close    volume  \n",
       "time                                                                    \n",
       "2020-08-24 00:00:00-04:00  155.97  156.5400  150.98  151.835  13306179  \n",
       "2020-08-25 00:00:00-04:00  151.80  155.7400  149.00  155.000  12552378  \n",
       "2020-08-26 00:00:00-04:00  156.09  158.6900  151.73  153.800  12055002  \n",
       "2020-08-27 00:00:00-04:00  156.87  161.5399  155.50  155.620  22584724  \n",
       "2020-08-28 00:00:00-04:00  159.15  159.1500  154.06  155.850  12284137  "
      ]
     },
     "execution_count": 3,
     "metadata": {},
     "output_type": "execute_result"
    }
   ],
   "source": [
    "# Set timeframe to '1D'\n",
    "timeframe = \"1D\"\n",
    "\n",
    "# Set start and end datetimes of 1 year, between now and 365 days ago.\n",
    "start_date = pd.Timestamp(\"2020-08-23\", tz=\"America/New_York\").isoformat()\n",
    "end_date = pd.Timestamp(\"2021-08-24\", tz=\"America/New_York\").isoformat()\n",
    "\n",
    "# Set the stock tickers\n",
    "tickers = [\"AAPL\",\"PYPL\",\"SQ\", ]\n",
    "\n",
    "# Get 1 year's worth of historical data for all stocks\n",
    "df_ticker = api.get_barset(\n",
    "    tickers,\n",
    "    timeframe,\n",
    "    start=start_date,\n",
    "    end=end_date,\n",
    "    limit = 1000\n",
    ").df\n",
    "\n",
    "# Display sample data\n",
    "df_ticker.head()"
   ]
  },
  {
   "cell_type": "markdown",
   "metadata": {},
   "source": [
    "# Stocks saved to CSV"
   ]
  },
  {
   "cell_type": "code",
   "execution_count": 4,
   "metadata": {},
   "outputs": [],
   "source": [
    "df_ticker.to_csv('Stock_Raw.csv')"
   ]
  },
  {
   "cell_type": "markdown",
   "metadata": {},
   "source": [
    "### Create a new DataFrame and store the closing prices of each stock."
   ]
  },
  {
   "cell_type": "code",
   "execution_count": 5,
   "metadata": {},
   "outputs": [
    {
     "data": {
      "text/html": [
       "<div>\n",
       "<style scoped>\n",
       "    .dataframe tbody tr th:only-of-type {\n",
       "        vertical-align: middle;\n",
       "    }\n",
       "\n",
       "    .dataframe tbody tr th {\n",
       "        vertical-align: top;\n",
       "    }\n",
       "\n",
       "    .dataframe thead th {\n",
       "        text-align: right;\n",
       "    }\n",
       "</style>\n",
       "<table border=\"1\" class=\"dataframe\">\n",
       "  <thead>\n",
       "    <tr style=\"text-align: right;\">\n",
       "      <th></th>\n",
       "      <th>AAPL</th>\n",
       "      <th>PYPL</th>\n",
       "      <th>SQ</th>\n",
       "    </tr>\n",
       "  </thead>\n",
       "  <tbody>\n",
       "    <tr>\n",
       "      <th>2020-08-24</th>\n",
       "      <td>503.79</td>\n",
       "      <td>198.94</td>\n",
       "      <td>151.835</td>\n",
       "    </tr>\n",
       "    <tr>\n",
       "      <th>2020-08-25</th>\n",
       "      <td>499.31</td>\n",
       "      <td>201.71</td>\n",
       "      <td>155.000</td>\n",
       "    </tr>\n",
       "    <tr>\n",
       "      <th>2020-08-26</th>\n",
       "      <td>506.19</td>\n",
       "      <td>203.53</td>\n",
       "      <td>153.800</td>\n",
       "    </tr>\n",
       "    <tr>\n",
       "      <th>2020-08-27</th>\n",
       "      <td>500.04</td>\n",
       "      <td>204.34</td>\n",
       "      <td>155.620</td>\n",
       "    </tr>\n",
       "    <tr>\n",
       "      <th>2020-08-28</th>\n",
       "      <td>498.83</td>\n",
       "      <td>204.48</td>\n",
       "      <td>155.850</td>\n",
       "    </tr>\n",
       "  </tbody>\n",
       "</table>\n",
       "</div>"
      ],
      "text/plain": [
       "              AAPL    PYPL       SQ\n",
       "2020-08-24  503.79  198.94  151.835\n",
       "2020-08-25  499.31  201.71  155.000\n",
       "2020-08-26  506.19  203.53  153.800\n",
       "2020-08-27  500.04  204.34  155.620\n",
       "2020-08-28  498.83  204.48  155.850"
      ]
     },
     "execution_count": 5,
     "metadata": {},
     "output_type": "execute_result"
    }
   ],
   "source": [
    "# Create and empty DataFrame for closing prices\n",
    "df_closing_prices = pd.DataFrame()\n",
    "\n",
    "# Fetch the closing prices for all the tickers\n",
    "for ticker in tickers:\n",
    "    df_closing_prices[ticker] = df_ticker[ticker][\"close\"]\n",
    "\n",
    "# Drop the time component of the date\n",
    "df_closing_prices.index = df_closing_prices.index.date\n",
    "\n",
    "# Display sample data\n",
    "df_closing_prices.head()"
   ]
  },
  {
   "cell_type": "code",
   "execution_count": 6,
   "metadata": {},
   "outputs": [
    {
     "data": {
      "text/html": [
       "<div>\n",
       "<style scoped>\n",
       "    .dataframe tbody tr th:only-of-type {\n",
       "        vertical-align: middle;\n",
       "    }\n",
       "\n",
       "    .dataframe tbody tr th {\n",
       "        vertical-align: top;\n",
       "    }\n",
       "\n",
       "    .dataframe thead th {\n",
       "        text-align: right;\n",
       "    }\n",
       "</style>\n",
       "<table border=\"1\" class=\"dataframe\">\n",
       "  <thead>\n",
       "    <tr style=\"text-align: right;\">\n",
       "      <th></th>\n",
       "      <th>AAPL</th>\n",
       "      <th>PYPL</th>\n",
       "      <th>SQ</th>\n",
       "    </tr>\n",
       "  </thead>\n",
       "  <tbody>\n",
       "    <tr>\n",
       "      <th>2021-08-17</th>\n",
       "      <td>150.23</td>\n",
       "      <td>271.10</td>\n",
       "      <td>260.89</td>\n",
       "    </tr>\n",
       "    <tr>\n",
       "      <th>2021-08-18</th>\n",
       "      <td>146.36</td>\n",
       "      <td>268.84</td>\n",
       "      <td>259.66</td>\n",
       "    </tr>\n",
       "    <tr>\n",
       "      <th>2021-08-19</th>\n",
       "      <td>146.67</td>\n",
       "      <td>270.53</td>\n",
       "      <td>257.41</td>\n",
       "    </tr>\n",
       "    <tr>\n",
       "      <th>2021-08-20</th>\n",
       "      <td>148.19</td>\n",
       "      <td>272.93</td>\n",
       "      <td>263.05</td>\n",
       "    </tr>\n",
       "    <tr>\n",
       "      <th>2021-08-23</th>\n",
       "      <td>149.70</td>\n",
       "      <td>276.98</td>\n",
       "      <td>270.44</td>\n",
       "    </tr>\n",
       "  </tbody>\n",
       "</table>\n",
       "</div>"
      ],
      "text/plain": [
       "              AAPL    PYPL      SQ\n",
       "2021-08-17  150.23  271.10  260.89\n",
       "2021-08-18  146.36  268.84  259.66\n",
       "2021-08-19  146.67  270.53  257.41\n",
       "2021-08-20  148.19  272.93  263.05\n",
       "2021-08-23  149.70  276.98  270.44"
      ]
     },
     "execution_count": 6,
     "metadata": {},
     "output_type": "execute_result"
    }
   ],
   "source": [
    "df_closing_prices.tail()"
   ]
  },
  {
   "cell_type": "markdown",
   "metadata": {},
   "source": [
    "# Stock_Closing_Price CSV"
   ]
  },
  {
   "cell_type": "code",
   "execution_count": 7,
   "metadata": {},
   "outputs": [],
   "source": [
    "df_closing_prices.to_csv('Stock_Closing_Price.csv')"
   ]
  },
  {
   "cell_type": "markdown",
   "metadata": {},
   "source": [
    "### Calculate the daily returns for each stock using the `pct_change()` function"
   ]
  },
  {
   "cell_type": "code",
   "execution_count": 8,
   "metadata": {},
   "outputs": [
    {
     "data": {
      "text/html": [
       "<div>\n",
       "<style scoped>\n",
       "    .dataframe tbody tr th:only-of-type {\n",
       "        vertical-align: middle;\n",
       "    }\n",
       "\n",
       "    .dataframe tbody tr th {\n",
       "        vertical-align: top;\n",
       "    }\n",
       "\n",
       "    .dataframe thead th {\n",
       "        text-align: right;\n",
       "    }\n",
       "</style>\n",
       "<table border=\"1\" class=\"dataframe\">\n",
       "  <thead>\n",
       "    <tr style=\"text-align: right;\">\n",
       "      <th></th>\n",
       "      <th>AAPL</th>\n",
       "      <th>PYPL</th>\n",
       "      <th>SQ</th>\n",
       "    </tr>\n",
       "  </thead>\n",
       "  <tbody>\n",
       "    <tr>\n",
       "      <th>2021-08-17</th>\n",
       "      <td>-0.005922</td>\n",
       "      <td>-0.025801</td>\n",
       "      <td>-0.009830</td>\n",
       "    </tr>\n",
       "    <tr>\n",
       "      <th>2021-08-18</th>\n",
       "      <td>-0.025761</td>\n",
       "      <td>-0.008336</td>\n",
       "      <td>-0.004715</td>\n",
       "    </tr>\n",
       "    <tr>\n",
       "      <th>2021-08-19</th>\n",
       "      <td>0.002118</td>\n",
       "      <td>0.006286</td>\n",
       "      <td>-0.008665</td>\n",
       "    </tr>\n",
       "    <tr>\n",
       "      <th>2021-08-20</th>\n",
       "      <td>0.010363</td>\n",
       "      <td>0.008871</td>\n",
       "      <td>0.021911</td>\n",
       "    </tr>\n",
       "    <tr>\n",
       "      <th>2021-08-23</th>\n",
       "      <td>0.010190</td>\n",
       "      <td>0.014839</td>\n",
       "      <td>0.028094</td>\n",
       "    </tr>\n",
       "  </tbody>\n",
       "</table>\n",
       "</div>"
      ],
      "text/plain": [
       "                AAPL      PYPL        SQ\n",
       "2021-08-17 -0.005922 -0.025801 -0.009830\n",
       "2021-08-18 -0.025761 -0.008336 -0.004715\n",
       "2021-08-19  0.002118  0.006286 -0.008665\n",
       "2021-08-20  0.010363  0.008871  0.021911\n",
       "2021-08-23  0.010190  0.014839  0.028094"
      ]
     },
     "execution_count": 8,
     "metadata": {},
     "output_type": "execute_result"
    }
   ],
   "source": [
    "# Compute daily returns\n",
    "df_daily_returns = df_closing_prices.pct_change().dropna()\n",
    "\n",
    "# Display sample data\n",
    "df_daily_returns.tail()"
   ]
  },
  {
   "cell_type": "markdown",
   "metadata": {},
   "source": [
    "# Stock_percentage CSV"
   ]
  },
  {
   "cell_type": "code",
   "execution_count": 9,
   "metadata": {},
   "outputs": [],
   "source": [
    "\n",
    "df_daily_returns.to_csv('Stock_percentage.csv')"
   ]
  },
  {
   "cell_type": "markdown",
   "metadata": {},
   "source": [
    "### Plot Distributions"
   ]
  },
  {
   "cell_type": "code",
   "execution_count": 10,
   "metadata": {},
   "outputs": [
    {
     "data": {
      "text/plain": [
       "<AxesSubplot:ylabel='Frequency'>"
      ]
     },
     "execution_count": 10,
     "metadata": {},
     "output_type": "execute_result"
    },
    {
     "data": {
      "image/png": "[encoded data removed]",
      "text/plain": [
       "<Figure size 432x288 with 1 Axes>"
      ]
     },
     "metadata": {
      "needs_background": "light"
     },
     "output_type": "display_data"
    }
   ],
   "source": [
    "# Visualize the distribution of daily returns across all stocks using a histogram plot\n",
    "# Hint: To make the plot easier to read, set the alpha arguement to 0.5\n",
    "df_daily_returns.plot.hist(alpha=0.5)"
   ]
  },
  {
   "cell_type": "code",
   "execution_count": 11,
   "metadata": {},
   "outputs": [
    {
     "data": {
      "text/plain": [
       "<AxesSubplot:ylabel='Density'>"
      ]
     },
     "execution_count": 11,
     "metadata": {},
     "output_type": "execute_result"
    },
    {
     "data": {
      "image/png": "[encoded data removed]",
      "text/plain": [
       "<Figure size 432x288 with 1 Axes>"
      ]
     },
     "metadata": {
      "needs_background": "light"
     },
     "output_type": "display_data"
    }
   ],
   "source": [
    "# Visualize the distribution of daily returns across all stocks using a density plot\n",
    "df_daily_returns.plot.density()"
   ]
  },
  {
   "cell_type": "code",
   "execution_count": null,
   "metadata": {},
   "outputs": [],
   "source": []
  },
  {
   "cell_type": "code",
   "execution_count": null,
   "metadata": {},
   "outputs": [],
   "source": []
  }
 ],
 "metadata": {
  "kernel_info": {
   "name": "python3"
  },
  "kernelspec": {
   "display_name": "Python 3",
   "language": "python",
   "name": "python3"
  },
  "language_info": {
   "codemirror_mode": {
    "name": "ipython",
    "version": 3
   },
   "file_extension": ".py",
   "mimetype": "text/x-python",
   "name": "python",
   "nbconvert_exporter": "python",
   "pygments_lexer": "ipython3",
   "version": "3.7.10"
  },
  "nteract": {
   "version": "0.12.3"
  }
 },
 "nbformat": 4,
 "nbformat_minor": 4
}
