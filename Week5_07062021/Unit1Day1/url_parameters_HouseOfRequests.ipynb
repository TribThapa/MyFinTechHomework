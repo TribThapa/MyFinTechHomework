{
 "cells": [
  {
   "cell_type": "markdown",
   "metadata": {},
   "source": [
    "# House of Requests"
   ]
  },
  {
   "cell_type": "markdown",
   "metadata": {},
   "source": [
    "Use the `Deck of Cards` API to play a game of BlackJack with a partner. Parameterize the `Deck of Cards` API `request urls` in order to create the deck of cards, as well as draw cards for the game."
   ]
  },
  {
   "cell_type": "code",
   "execution_count": 48,
   "metadata": {},
   "outputs": [],
   "source": [
    "import requests\n",
    "import json"
   ]
  },
  {
   "cell_type": "markdown",
   "metadata": {},
   "source": [
    "## Prep for the Game"
   ]
  },
  {
   "cell_type": "code",
   "execution_count": 49,
   "metadata": {},
   "outputs": [],
   "source": [
    "# Declare request url to create deck id\n",
    "create_deck_url = \"https://deckofcardsapi.com/api/deck/new/shuffle/?deck_count=6\"\n",
    "\n",
    "# Execute create deck url\n",
    "deck_id = requests.get(create_deck_url).json()"
   ]
  },
  {
   "cell_type": "markdown",
   "metadata": {},
   "source": [
    "### Parse JSON and extract `deck_id`"
   ]
  },
  {
   "cell_type": "code",
   "execution_count": 50,
   "metadata": {},
   "outputs": [
    {
     "name": "stdout",
     "output_type": "stream",
     "text": [
      "{'success': True, 'deck_id': 'snu8dxzpfwdm', 'remaining': 312, 'shuffled': True}\n"
     ]
    }
   ],
   "source": [
    "# Select deck_id\n",
    "print(deck_id)"
   ]
  },
  {
   "cell_type": "markdown",
   "metadata": {},
   "source": [
    "### Declare request urls to draw cards and shuffle deck"
   ]
  },
  {
   "cell_type": "code",
   "execution_count": 51,
   "metadata": {},
   "outputs": [
    {
     "name": "stdout",
     "output_type": "stream",
     "text": [
      "\n",
      "Draw cards url: https://deckofcardsapi.com/api/deck/snu8dxzpfwdm/draw/?count=2\n",
      "\n",
      "Shuffle dec url: https://deckofcardsapi.com/api/deck/snu8dxzpfwdm/shuffle/\n"
     ]
    }
   ],
   "source": [
    "# Declare draw_cards_url and shuffle_deck_url. Use string interpolation to incorporate the deck_id\n",
    "draw_cards_url = f\"https://deckofcardsapi.com/api/deck/{deck_id['deck_id']}/draw/?count=2\"\n",
    "shuffle_deck_url = f\"https://deckofcardsapi.com/api/deck/{deck_id['deck_id']}/shuffle/\"\n",
    "print()\n",
    "print(f\"Draw cards url: {draw_cards_url}\")\n",
    "print()\n",
    "print(f\"Shuffle dec url: {shuffle_deck_url}\")"
   ]
  },
  {
   "cell_type": "markdown",
   "metadata": {},
   "source": [
    "## Player 1 Turn"
   ]
  },
  {
   "cell_type": "markdown",
   "metadata": {},
   "source": [
    "### Draw two cards"
   ]
  },
  {
   "cell_type": "code",
   "execution_count": 52,
   "metadata": {},
   "outputs": [
    {
     "name": "stdout",
     "output_type": "stream",
     "text": [
      "{\n",
      "    \"success\": true,\n",
      "    \"deck_id\": \"snu8dxzpfwdm\",\n",
      "    \"cards\": [\n",
      "        {\n",
      "            \"code\": \"0H\",\n",
      "            \"image\": \"https://deckofcardsapi.com/static/img/0H.png\",\n",
      "            \"images\": {\n",
      "                \"svg\": \"https://deckofcardsapi.com/static/img/0H.svg\",\n",
      "                \"png\": \"https://deckofcardsapi.com/static/img/0H.png\"\n",
      "            },\n",
      "            \"value\": \"10\",\n",
      "            \"suit\": \"HEARTS\"\n",
      "        },\n",
      "        {\n",
      "            \"code\": \"AS\",\n",
      "            \"image\": \"https://deckofcardsapi.com/static/img/AS.png\",\n",
      "            \"images\": {\n",
      "                \"svg\": \"https://deckofcardsapi.com/static/img/AS.svg\",\n",
      "                \"png\": \"https://deckofcardsapi.com/static/img/AS.png\"\n",
      "            },\n",
      "            \"value\": \"ACE\",\n",
      "            \"suit\": \"SPADES\"\n",
      "        }\n",
      "    ],\n",
      "    \"remaining\": 310\n",
      "}\n",
      "{\n",
      "    \"success\": true,\n",
      "    \"deck_id\": \"snu8dxzpfwdm\",\n",
      "    \"cards\": [\n",
      "        {\n",
      "            \"code\": \"KD\",\n",
      "            \"image\": \"https://deckofcardsapi.com/static/img/KD.png\",\n",
      "            \"images\": {\n",
      "                \"svg\": \"https://deckofcardsapi.com/static/img/KD.svg\",\n",
      "                \"png\": \"https://deckofcardsapi.com/static/img/KD.png\"\n",
      "            },\n",
      "            \"value\": \"KING\",\n",
      "            \"suit\": \"DIAMONDS\"\n",
      "        },\n",
      "        {\n",
      "            \"code\": \"3C\",\n",
      "            \"image\": \"https://deckofcardsapi.com/static/img/3C.png\",\n",
      "            \"images\": {\n",
      "                \"svg\": \"https://deckofcardsapi.com/static/img/3C.svg\",\n",
      "                \"png\": \"https://deckofcardsapi.com/static/img/3C.png\"\n",
      "            },\n",
      "            \"value\": \"3\",\n",
      "            \"suit\": \"CLUBS\"\n",
      "        }\n",
      "    ],\n",
      "    \"remaining\": 308\n",
      "}\n"
     ]
    }
   ],
   "source": [
    "# Draw two cards\n",
    "draw_card_1 = requests.get(draw_cards_url).json()\n",
    "print(json.dumps(draw_card_1, indent=4))\n",
    "\n",
    "draw_card_2 = requests.get(draw_cards_url).json()\n",
    "#print()\n",
    "print(json.dumps(draw_card_2, indent=4))"
   ]
  },
  {
   "cell_type": "markdown",
   "metadata": {},
   "source": [
    "### Parse and extract `value` and `suit` elements from JSON output, for each card"
   ]
  },
  {
   "cell_type": "code",
   "execution_count": 53,
   "metadata": {},
   "outputs": [
    {
     "name": "stdout",
     "output_type": "stream",
     "text": [
      "{'suit': 'HEARTS', 'value': '10'}\n",
      "{'suit': 'DIAMONDS', 'value': 'KING'}\n"
     ]
    }
   ],
   "source": [
    "# Select returned card's value and suit (i.e. 3 of clubs)\n",
    "player_1_card_1 = {'suit' : str(draw_card_1['cards'][0]['suit']),\n",
    "                   'value': str(draw_card_1['cards'][0]['value'])}\n",
    "\n",
    "player_1_card_2 = {'suit' : str(draw_card_2['cards'][0]['suit']),\n",
    "                   'value': str(draw_card_2['cards'][0]['value'])}\n",
    "# Print player cards\n",
    "print(player_1_card_1)\n",
    "print(player_1_card_2)"
   ]
  },
  {
   "cell_type": "markdown",
   "metadata": {},
   "source": [
    "### Decide whether to draw another card or skip to next player turn"
   ]
  },
  {
   "cell_type": "code",
   "execution_count": 66,
   "metadata": {},
   "outputs": [
    {
     "name": "stdout",
     "output_type": "stream",
     "text": [
      "{'suit': 'SPADES', 'value': 'JACK'}\n"
     ]
    }
   ],
   "source": [
    "# Draw a third card. Select returned card's value and suit (i.e. 3 of clubs)\n",
    "draw_card_3 = requests.get(draw_cards_url).json()\n",
    "\n",
    "player_1_card_3 = {'suit' : str(draw_card_3['cards'][0]['suit']),\n",
    "                   'value': str(draw_card_3['cards'][0]['value'])}\n",
    "\n",
    "# Print player card\n",
    "print(player_1_card_3)"
   ]
  },
  {
   "cell_type": "markdown",
   "metadata": {},
   "source": [
    "### Manually calculate player 1 points and enter below"
   ]
  },
  {
   "cell_type": "markdown",
   "metadata": {},
   "source": [
    "Player 1 points = "
   ]
  },
  {
   "cell_type": "code",
   "execution_count": 67,
   "metadata": {},
   "outputs": [
    {
     "name": "stdout",
     "output_type": "stream",
     "text": [
      "Card 1 value is 5\n",
      "Card 2 value is 10\n",
      "Card 3 value is 10\n",
      "Player 1 had a total of 25 points.\n"
     ]
    }
   ],
   "source": [
    "if (player_1_card_1['value']).isnumeric(): \n",
    "    to_int = int(player_1_card_1['value'])\n",
    "    \n",
    "    if (to_int > 2) and (to_int < 10):\n",
    "        player_1_value_1 = to_int    \n",
    "        \n",
    "elif (player_1_card_1['value']).isupper() and (player_1_card_1['value'] == 'JACK') or (player_1_card_1['value'] == 'QUEEN') or (player_1_card_1['value'] == 'KING'):\n",
    "    player_1_value_1 = 10\n",
    "    \n",
    "elif player_1_card_1['value'] == 'ACE':\n",
    "    player_1_value_1 = 11 \n",
    "\n",
    "print(f\"Card 1 value is {player_1_value_1}\")\n",
    "\n",
    "\n",
    "if (player_1_card_2['value']).isnumeric(): \n",
    "    to_int = int(player_1_card_2['value'])\n",
    "    \n",
    "    if (to_int > 2) and (to_int < 10):\n",
    "        player_1_value_2 = to_int    \n",
    "        \n",
    "elif (player_1_card_2['value']).isupper() and (player_1_card_2['value'] == 'JACK') or (player_1_card_2['value'] == 'QUEEN') or (player_1_card_2['value'] == 'KING'):\n",
    "    player_1_value_2 = 10\n",
    "    \n",
    "elif player_1_card_2['value'] == 'ACE':\n",
    "    player_1_value_2 = 11\n",
    "\n",
    "print(f\"Card 2 value is {player_1_value_2}\")\n",
    "   \n",
    "\n",
    "if (player_1_card_3['value']).isnumeric(): \n",
    "    to_int = int(player_1_card_3['value'])\n",
    "    \n",
    "    if (to_int > 2) and (to_int < 10):\n",
    "        player_1_value_3 = to_int    \n",
    "        \n",
    "elif (player_1_card_3['value']).isupper() and (player_1_card_3['value'] == 'JACK') or (player_1_card_3['value'] == 'QUEEN') or (player_1_card_3['value'] == 'KING'):\n",
    "    player_1_value_3 = 10\n",
    "    \n",
    "elif player_1_card_3['value'] == 'ACE':\n",
    "    player_1_value_3 = 11\n",
    "\n",
    "print(f\"Card 3 value is {player_1_value_3}\")\n",
    "\n",
    "player_1_points = player_1_value_1 + player_1_value_2 + player_1_value_3\n",
    "print(f\"Player 1 had a total of {player_1_points} points.\")"
   ]
  },
  {
   "cell_type": "markdown",
   "metadata": {},
   "source": [
    "## Player 2 / Dealer Turn"
   ]
  },
  {
   "cell_type": "code",
   "execution_count": 63,
   "metadata": {},
   "outputs": [
    {
     "name": "stdout",
     "output_type": "stream",
     "text": [
      "{'suit': 'CLUBS', 'value': '8'}\n",
      "{'suit': 'DIAMONDS', 'value': '6'}\n",
      "{'suit': 'HEARTS', 'value': 'JACK'}\n"
     ]
    }
   ],
   "source": [
    "# Draw two cards for player 2\n",
    "draw_card_1_player_2 = requests.get(draw_cards_url).json()\n",
    "#print(json.dumps(draw_card_1_player_2, indent=4))\n",
    "\n",
    "draw_card_2_player_2 = requests.get(draw_cards_url).json()\n",
    "#print(json.dumps(draw_card_2_player_2, indent=4))\n",
    "\n",
    "draw_card_3_player_2 = requests.get(draw_cards_url).json()\n",
    "#print(json.dumps(draw_card_3_player_2, indent=4))\n",
    "\n",
    "# Select card value and suit. Draw third card for player 2\n",
    "player_2_card_1 = {'suit' : str(draw_card_1_player_2['cards'][0]['suit']),\n",
    "                   'value': str(draw_card_1_player_2['cards'][0]['value'])}\n",
    "\n",
    "player_2_card_2 = {'suit' : str(draw_card_2_player_2['cards'][0]['suit']),\n",
    "                   'value': str(draw_card_2_player_2['cards'][0]['value'])}\n",
    "\n",
    "player_2_card_3 = {'suit' : str(draw_card_3_player_2['cards'][0]['suit']),\n",
    "                   'value': str(draw_card_3_player_2['cards'][0]['value'])}\n",
    "\n",
    "# Print player cards\n",
    "print(player_2_card_1)\n",
    "print(player_2_card_2)\n",
    "print(player_2_card_3)"
   ]
  },
  {
   "cell_type": "markdown",
   "metadata": {},
   "source": [
    "### Manually calculate player 2 points and enter below"
   ]
  },
  {
   "cell_type": "markdown",
   "metadata": {},
   "source": [
    "Player 2 points ="
   ]
  },
  {
   "cell_type": "code",
   "execution_count": 64,
   "metadata": {},
   "outputs": [
    {
     "name": "stdout",
     "output_type": "stream",
     "text": [
      "Card 1 value is 8\n",
      "Card 2 value is 6\n",
      "Card 3 value is 10\n",
      "Player 1 had a total of 24 points.\n"
     ]
    }
   ],
   "source": [
    "if (player_2_card_1['value']).isnumeric(): \n",
    "    to_int = int(player_2_card_1['value'])\n",
    "    \n",
    "    if (to_int > 2) and (to_int < 10):\n",
    "        player_2_value_1 = to_int    \n",
    "        \n",
    "elif (player_2_card_1['value']).isupper() and (player_2_card_1['value'] == 'JACK') or (player_2_card_1['value'] == 'QUEEN') or (player_2_card_1['value'] == 'KING'):\n",
    "    player_2_value_1 = 10\n",
    "    \n",
    "elif player_2_card_1['value'] == 'ACE':\n",
    "    player_2_value_1 = 11 \n",
    "\n",
    "print(f\"Card 1 value is {player_2_value_1}\")\n",
    "\n",
    "\n",
    "if (player_2_card_2['value']).isnumeric(): \n",
    "    to_int = int(player_2_card_2['value'])\n",
    "    \n",
    "    if (to_int > 2) and (to_int < 10):\n",
    "        player_2_value_2 = to_int    \n",
    "        \n",
    "elif (player_2_card_2['value']).isupper() and (player_2_card_2['value'] == 'JACK') or (player_2_card_2['value'] == 'QUEEN') or (player_2_card_2['value'] == 'KING'):\n",
    "    player_2_value_2 = 10\n",
    "    \n",
    "elif player_2_card_2['value'] == 'ACE':\n",
    "    player_2_value_2 = 11\n",
    "\n",
    "print(f\"Card 2 value is {player_2_value_2}\")\n",
    "   \n",
    "\n",
    "if (player_2_card_3['value']).isnumeric(): \n",
    "    to_int = int(player_2_card_3['value'])\n",
    "    \n",
    "    if (to_int > 2) and (to_int < 10):\n",
    "        player_2_value_3 = to_int    \n",
    "        \n",
    "elif (player_2_card_3['value']).isupper() and (player_2_card_3['value'] == 'JACK') or (player_2_card_3['value'] == 'QUEEN') or (player_2_card_3['value'] == 'KING'):\n",
    "    player_2_value_3 = 10\n",
    "    \n",
    "elif player_2_card_3['value'] == 'ACE':\n",
    "    player_2_value_3 = 11\n",
    "\n",
    "print(f\"Card 3 value is {player_2_value_3}\")\n",
    "#print(f\"Card 2 value is {value_2}\")\n",
    "\n",
    "player_2_points = player_2_value_1 + player_2_value_2 + player_2_value_3\n",
    "print(f\"Player 1 had a total of {player_2_points} points.\")"
   ]
  },
  {
   "cell_type": "code",
   "execution_count": null,
   "metadata": {},
   "outputs": [],
   "source": []
  }
 ],
 "metadata": {
  "kernelspec": {
   "display_name": "Python 3",
   "language": "python",
   "name": "python3"
  },
  "language_info": {
   "codemirror_mode": {
    "name": "ipython",
    "version": 3
   },
   "file_extension": ".py",
   "mimetype": "text/x-python",
   "name": "python",
   "nbconvert_exporter": "python",
   "pygments_lexer": "ipython3",
   "version": "3.7.1"
  }
 },
 "nbformat": 4,
 "nbformat_minor": 4
}
