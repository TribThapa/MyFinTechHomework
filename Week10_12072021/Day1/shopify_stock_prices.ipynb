{
 "cells": [
  {
   "cell_type": "markdown",
   "metadata": {},
   "source": [
    "# Time Series Basics"
   ]
  },
  {
   "cell_type": "code",
   "execution_count": 1,
   "metadata": {},
   "outputs": [],
   "source": [
    "# Import libraries and dependencies\n",
    "import pandas as pd\n",
    "%matplotlib inline"
   ]
  },
  {
   "cell_type": "code",
   "execution_count": 3,
   "metadata": {},
   "outputs": [
    {
     "data": {
      "text/html": [
       "<div>\n",
       "<style scoped>\n",
       "    .dataframe tbody tr th:only-of-type {\n",
       "        vertical-align: middle;\n",
       "    }\n",
       "\n",
       "    .dataframe tbody tr th {\n",
       "        vertical-align: top;\n",
       "    }\n",
       "\n",
       "    .dataframe thead th {\n",
       "        text-align: right;\n",
       "    }\n",
       "</style>\n",
       "<table border=\"1\" class=\"dataframe\">\n",
       "  <thead>\n",
       "    <tr style=\"text-align: right;\">\n",
       "      <th></th>\n",
       "      <th>Open</th>\n",
       "      <th>High</th>\n",
       "      <th>Low</th>\n",
       "      <th>Close</th>\n",
       "      <th>Volume</th>\n",
       "    </tr>\n",
       "    <tr>\n",
       "      <th>Date</th>\n",
       "      <th></th>\n",
       "      <th></th>\n",
       "      <th></th>\n",
       "      <th></th>\n",
       "      <th></th>\n",
       "    </tr>\n",
       "  </thead>\n",
       "  <tbody>\n",
       "    <tr>\n",
       "      <th>2018-09-04</th>\n",
       "      <td>191.71</td>\n",
       "      <td>193.50</td>\n",
       "      <td>189.40</td>\n",
       "      <td>192.57</td>\n",
       "      <td>158473</td>\n",
       "    </tr>\n",
       "    <tr>\n",
       "      <th>2018-09-05</th>\n",
       "      <td>188.88</td>\n",
       "      <td>190.20</td>\n",
       "      <td>180.01</td>\n",
       "      <td>184.39</td>\n",
       "      <td>365251</td>\n",
       "    </tr>\n",
       "    <tr>\n",
       "      <th>2018-09-06</th>\n",
       "      <td>183.68</td>\n",
       "      <td>185.43</td>\n",
       "      <td>174.80</td>\n",
       "      <td>176.08</td>\n",
       "      <td>321631</td>\n",
       "    </tr>\n",
       "    <tr>\n",
       "      <th>2018-09-07</th>\n",
       "      <td>173.85</td>\n",
       "      <td>185.80</td>\n",
       "      <td>172.10</td>\n",
       "      <td>185.35</td>\n",
       "      <td>270336</td>\n",
       "    </tr>\n",
       "    <tr>\n",
       "      <th>2018-09-10</th>\n",
       "      <td>186.31</td>\n",
       "      <td>187.60</td>\n",
       "      <td>183.13</td>\n",
       "      <td>187.09</td>\n",
       "      <td>234808</td>\n",
       "    </tr>\n",
       "  </tbody>\n",
       "</table>\n",
       "</div>"
      ],
      "text/plain": [
       "              Open    High     Low   Close  Volume\n",
       "Date                                              \n",
       "2018-09-04  191.71  193.50  189.40  192.57  158473\n",
       "2018-09-05  188.88  190.20  180.01  184.39  365251\n",
       "2018-09-06  183.68  185.43  174.80  176.08  321631\n",
       "2018-09-07  173.85  185.80  172.10  185.35  270336\n",
       "2018-09-10  186.31  187.60  183.13  187.09  234808"
      ]
     },
     "execution_count": 3,
     "metadata": {},
     "output_type": "execute_result"
    }
   ],
   "source": [
    "# Read the Shopify stock prices CSV file as a time series DataFrame \n",
    "# Be sure to set the `Date` column as the index\n",
    "shopify_df = pd.read_csv((r'C:\\Users\\TribThapa\\Desktop\\Thapa\\ResearchFellow\\Courses\\FinTech_Bootcamp_MonashUni2021\\monu-mel-virt-fin-pt-05-2021-u-c\\Activities\\Week 10\\1\\02-Stu_Time_Series_Basics\\Resources\\shopify.csv'),\n",
    "                         parse_dates=True,\n",
    "                         index_col='Date')\n",
    "\n",
    "shopify_df.head()"
   ]
  },
  {
   "cell_type": "markdown",
   "metadata": {},
   "source": [
    "### Slice Time Series Data"
   ]
  },
  {
   "cell_type": "code",
   "execution_count": 6,
   "metadata": {},
   "outputs": [
    {
     "data": {
      "text/html": [
       "<div>\n",
       "<style scoped>\n",
       "    .dataframe tbody tr th:only-of-type {\n",
       "        vertical-align: middle;\n",
       "    }\n",
       "\n",
       "    .dataframe tbody tr th {\n",
       "        vertical-align: top;\n",
       "    }\n",
       "\n",
       "    .dataframe thead th {\n",
       "        text-align: right;\n",
       "    }\n",
       "</style>\n",
       "<table border=\"1\" class=\"dataframe\">\n",
       "  <thead>\n",
       "    <tr style=\"text-align: right;\">\n",
       "      <th></th>\n",
       "      <th>Open</th>\n",
       "      <th>High</th>\n",
       "      <th>Low</th>\n",
       "      <th>Close</th>\n",
       "      <th>Volume</th>\n",
       "    </tr>\n",
       "    <tr>\n",
       "      <th>Date</th>\n",
       "      <th></th>\n",
       "      <th></th>\n",
       "      <th></th>\n",
       "      <th></th>\n",
       "      <th></th>\n",
       "    </tr>\n",
       "  </thead>\n",
       "  <tbody>\n",
       "    <tr>\n",
       "      <th>2018-09-04</th>\n",
       "      <td>191.71</td>\n",
       "      <td>193.50</td>\n",
       "      <td>189.40</td>\n",
       "      <td>192.57</td>\n",
       "      <td>158473</td>\n",
       "    </tr>\n",
       "    <tr>\n",
       "      <th>2018-09-05</th>\n",
       "      <td>188.88</td>\n",
       "      <td>190.20</td>\n",
       "      <td>180.01</td>\n",
       "      <td>184.39</td>\n",
       "      <td>365251</td>\n",
       "    </tr>\n",
       "    <tr>\n",
       "      <th>2018-09-06</th>\n",
       "      <td>183.68</td>\n",
       "      <td>185.43</td>\n",
       "      <td>174.80</td>\n",
       "      <td>176.08</td>\n",
       "      <td>321631</td>\n",
       "    </tr>\n",
       "    <tr>\n",
       "      <th>2018-09-07</th>\n",
       "      <td>173.85</td>\n",
       "      <td>185.80</td>\n",
       "      <td>172.10</td>\n",
       "      <td>185.35</td>\n",
       "      <td>270336</td>\n",
       "    </tr>\n",
       "    <tr>\n",
       "      <th>2018-09-10</th>\n",
       "      <td>186.31</td>\n",
       "      <td>187.60</td>\n",
       "      <td>183.13</td>\n",
       "      <td>187.09</td>\n",
       "      <td>234808</td>\n",
       "    </tr>\n",
       "    <tr>\n",
       "      <th>2018-09-11</th>\n",
       "      <td>186.05</td>\n",
       "      <td>194.26</td>\n",
       "      <td>184.90</td>\n",
       "      <td>193.50</td>\n",
       "      <td>202284</td>\n",
       "    </tr>\n",
       "    <tr>\n",
       "      <th>2018-09-12</th>\n",
       "      <td>193.36</td>\n",
       "      <td>199.51</td>\n",
       "      <td>190.52</td>\n",
       "      <td>198.83</td>\n",
       "      <td>256921</td>\n",
       "    </tr>\n",
       "    <tr>\n",
       "      <th>2018-09-13</th>\n",
       "      <td>200.00</td>\n",
       "      <td>206.00</td>\n",
       "      <td>200.00</td>\n",
       "      <td>202.22</td>\n",
       "      <td>207851</td>\n",
       "    </tr>\n",
       "    <tr>\n",
       "      <th>2018-09-14</th>\n",
       "      <td>204.00</td>\n",
       "      <td>207.00</td>\n",
       "      <td>200.41</td>\n",
       "      <td>201.75</td>\n",
       "      <td>207114</td>\n",
       "    </tr>\n",
       "    <tr>\n",
       "      <th>2018-09-17</th>\n",
       "      <td>205.03</td>\n",
       "      <td>207.34</td>\n",
       "      <td>200.01</td>\n",
       "      <td>200.19</td>\n",
       "      <td>173764</td>\n",
       "    </tr>\n",
       "    <tr>\n",
       "      <th>2018-09-18</th>\n",
       "      <td>201.06</td>\n",
       "      <td>213.00</td>\n",
       "      <td>200.27</td>\n",
       "      <td>210.33</td>\n",
       "      <td>323742</td>\n",
       "    </tr>\n",
       "    <tr>\n",
       "      <th>2018-09-19</th>\n",
       "      <td>211.60</td>\n",
       "      <td>215.47</td>\n",
       "      <td>209.50</td>\n",
       "      <td>213.33</td>\n",
       "      <td>289551</td>\n",
       "    </tr>\n",
       "    <tr>\n",
       "      <th>2018-09-20</th>\n",
       "      <td>214.07</td>\n",
       "      <td>217.77</td>\n",
       "      <td>212.45</td>\n",
       "      <td>215.68</td>\n",
       "      <td>221188</td>\n",
       "    </tr>\n",
       "    <tr>\n",
       "      <th>2018-09-21</th>\n",
       "      <td>215.63</td>\n",
       "      <td>217.09</td>\n",
       "      <td>207.53</td>\n",
       "      <td>208.84</td>\n",
       "      <td>266835</td>\n",
       "    </tr>\n",
       "    <tr>\n",
       "      <th>2018-09-24</th>\n",
       "      <td>207.88</td>\n",
       "      <td>213.40</td>\n",
       "      <td>203.26</td>\n",
       "      <td>209.64</td>\n",
       "      <td>224168</td>\n",
       "    </tr>\n",
       "    <tr>\n",
       "      <th>2018-09-25</th>\n",
       "      <td>210.38</td>\n",
       "      <td>213.56</td>\n",
       "      <td>205.95</td>\n",
       "      <td>208.45</td>\n",
       "      <td>323543</td>\n",
       "    </tr>\n",
       "    <tr>\n",
       "      <th>2018-09-26</th>\n",
       "      <td>209.66</td>\n",
       "      <td>213.50</td>\n",
       "      <td>207.49</td>\n",
       "      <td>210.70</td>\n",
       "      <td>254510</td>\n",
       "    </tr>\n",
       "    <tr>\n",
       "      <th>2018-09-27</th>\n",
       "      <td>211.69</td>\n",
       "      <td>214.70</td>\n",
       "      <td>211.69</td>\n",
       "      <td>214.06</td>\n",
       "      <td>157060</td>\n",
       "    </tr>\n",
       "    <tr>\n",
       "      <th>2018-09-28</th>\n",
       "      <td>213.91</td>\n",
       "      <td>217.69</td>\n",
       "      <td>210.87</td>\n",
       "      <td>212.30</td>\n",
       "      <td>231695</td>\n",
       "    </tr>\n",
       "  </tbody>\n",
       "</table>\n",
       "</div>"
      ],
      "text/plain": [
       "              Open    High     Low   Close  Volume\n",
       "Date                                              \n",
       "2018-09-04  191.71  193.50  189.40  192.57  158473\n",
       "2018-09-05  188.88  190.20  180.01  184.39  365251\n",
       "2018-09-06  183.68  185.43  174.80  176.08  321631\n",
       "2018-09-07  173.85  185.80  172.10  185.35  270336\n",
       "2018-09-10  186.31  187.60  183.13  187.09  234808\n",
       "2018-09-11  186.05  194.26  184.90  193.50  202284\n",
       "2018-09-12  193.36  199.51  190.52  198.83  256921\n",
       "2018-09-13  200.00  206.00  200.00  202.22  207851\n",
       "2018-09-14  204.00  207.00  200.41  201.75  207114\n",
       "2018-09-17  205.03  207.34  200.01  200.19  173764\n",
       "2018-09-18  201.06  213.00  200.27  210.33  323742\n",
       "2018-09-19  211.60  215.47  209.50  213.33  289551\n",
       "2018-09-20  214.07  217.77  212.45  215.68  221188\n",
       "2018-09-21  215.63  217.09  207.53  208.84  266835\n",
       "2018-09-24  207.88  213.40  203.26  209.64  224168\n",
       "2018-09-25  210.38  213.56  205.95  208.45  323543\n",
       "2018-09-26  209.66  213.50  207.49  210.70  254510\n",
       "2018-09-27  211.69  214.70  211.69  214.06  157060\n",
       "2018-09-28  213.91  217.69  210.87  212.30  231695"
      ]
     },
     "execution_count": 6,
     "metadata": {},
     "output_type": "execute_result"
    }
   ],
   "source": [
    "# Select all rows from September 2018\n",
    "sept_2018_df = shopify_df.loc[\"2018-09\"]\n",
    "sept_2018_df"
   ]
  },
  {
   "cell_type": "code",
   "execution_count": 11,
   "metadata": {},
   "outputs": [
    {
     "data": {
      "text/html": [
       "<div>\n",
       "<style scoped>\n",
       "    .dataframe tbody tr th:only-of-type {\n",
       "        vertical-align: middle;\n",
       "    }\n",
       "\n",
       "    .dataframe tbody tr th {\n",
       "        vertical-align: top;\n",
       "    }\n",
       "\n",
       "    .dataframe thead th {\n",
       "        text-align: right;\n",
       "    }\n",
       "</style>\n",
       "<table border=\"1\" class=\"dataframe\">\n",
       "  <thead>\n",
       "    <tr style=\"text-align: right;\">\n",
       "      <th></th>\n",
       "      <th>Open</th>\n",
       "      <th>High</th>\n",
       "      <th>Low</th>\n",
       "      <th>Close</th>\n",
       "      <th>Volume</th>\n",
       "    </tr>\n",
       "    <tr>\n",
       "      <th>Date</th>\n",
       "      <th></th>\n",
       "      <th></th>\n",
       "      <th></th>\n",
       "      <th></th>\n",
       "      <th></th>\n",
       "    </tr>\n",
       "  </thead>\n",
       "  <tbody>\n",
       "    <tr>\n",
       "      <th>2018-09-04</th>\n",
       "      <td>191.71</td>\n",
       "      <td>193.50</td>\n",
       "      <td>189.40</td>\n",
       "      <td>192.57</td>\n",
       "      <td>158473</td>\n",
       "    </tr>\n",
       "    <tr>\n",
       "      <th>2018-09-05</th>\n",
       "      <td>188.88</td>\n",
       "      <td>190.20</td>\n",
       "      <td>180.01</td>\n",
       "      <td>184.39</td>\n",
       "      <td>365251</td>\n",
       "    </tr>\n",
       "    <tr>\n",
       "      <th>2018-09-06</th>\n",
       "      <td>183.68</td>\n",
       "      <td>185.43</td>\n",
       "      <td>174.80</td>\n",
       "      <td>176.08</td>\n",
       "      <td>321631</td>\n",
       "    </tr>\n",
       "    <tr>\n",
       "      <th>2018-09-07</th>\n",
       "      <td>173.85</td>\n",
       "      <td>185.80</td>\n",
       "      <td>172.10</td>\n",
       "      <td>185.35</td>\n",
       "      <td>270336</td>\n",
       "    </tr>\n",
       "    <tr>\n",
       "      <th>2018-09-10</th>\n",
       "      <td>186.31</td>\n",
       "      <td>187.60</td>\n",
       "      <td>183.13</td>\n",
       "      <td>187.09</td>\n",
       "      <td>234808</td>\n",
       "    </tr>\n",
       "  </tbody>\n",
       "</table>\n",
       "</div>"
      ],
      "text/plain": [
       "              Open    High     Low   Close  Volume\n",
       "Date                                              \n",
       "2018-09-04  191.71  193.50  189.40  192.57  158473\n",
       "2018-09-05  188.88  190.20  180.01  184.39  365251\n",
       "2018-09-06  183.68  185.43  174.80  176.08  321631\n",
       "2018-09-07  173.85  185.80  172.10  185.35  270336\n",
       "2018-09-10  186.31  187.60  183.13  187.09  234808"
      ]
     },
     "execution_count": 11,
     "metadata": {},
     "output_type": "execute_result"
    }
   ],
   "source": [
    "# Select all rows from September through October for 2018\n",
    "sept_oct_2018_df = shopify_df.loc[\"2018-09\":\"2018-10\"]\n",
    "sept_oct_2018_df.head()"
   ]
  },
  {
   "cell_type": "markdown",
   "metadata": {},
   "source": [
    "### Plot Time Series Data"
   ]
  },
  {
   "cell_type": "code",
   "execution_count": 14,
   "metadata": {},
   "outputs": [
    {
     "data": {
      "text/plain": [
       "<matplotlib.axes._subplots.AxesSubplot at 0x183e43fdc88>"
      ]
     },
     "execution_count": 14,
     "metadata": {},
     "output_type": "execute_result"
    },
    {
     "data": {
      "image/png": "[encoded data removed]",
      "text/plain": [
       "<Figure size 432x288 with 1 Axes>"
      ]
     },
     "metadata": {
      "needs_background": "light"
     },
     "output_type": "display_data"
    }
   ],
   "source": [
    "# Plot the closing prices using a line plot\n",
    "shopify_df.Close.plot(title='Shopify Close Price')"
   ]
  },
  {
   "cell_type": "markdown",
   "metadata": {},
   "source": [
    "### Resample Time Series Data"
   ]
  },
  {
   "cell_type": "code",
   "execution_count": 16,
   "metadata": {},
   "outputs": [
    {
     "data": {
      "text/html": [
       "<div>\n",
       "<style scoped>\n",
       "    .dataframe tbody tr th:only-of-type {\n",
       "        vertical-align: middle;\n",
       "    }\n",
       "\n",
       "    .dataframe tbody tr th {\n",
       "        vertical-align: top;\n",
       "    }\n",
       "\n",
       "    .dataframe thead th {\n",
       "        text-align: right;\n",
       "    }\n",
       "</style>\n",
       "<table border=\"1\" class=\"dataframe\">\n",
       "  <thead>\n",
       "    <tr style=\"text-align: right;\">\n",
       "      <th></th>\n",
       "      <th>Open</th>\n",
       "      <th>High</th>\n",
       "      <th>Low</th>\n",
       "      <th>Close</th>\n",
       "      <th>Volume</th>\n",
       "    </tr>\n",
       "    <tr>\n",
       "      <th>Date</th>\n",
       "      <th></th>\n",
       "      <th></th>\n",
       "      <th></th>\n",
       "      <th></th>\n",
       "      <th></th>\n",
       "    </tr>\n",
       "  </thead>\n",
       "  <tbody>\n",
       "    <tr>\n",
       "      <th>2018-09-09</th>\n",
       "      <td>184.530</td>\n",
       "      <td>188.7325</td>\n",
       "      <td>179.0775</td>\n",
       "      <td>184.5975</td>\n",
       "      <td>278922.75</td>\n",
       "    </tr>\n",
       "    <tr>\n",
       "      <th>2018-09-16</th>\n",
       "      <td>193.944</td>\n",
       "      <td>198.8740</td>\n",
       "      <td>191.7920</td>\n",
       "      <td>196.6780</td>\n",
       "      <td>221795.60</td>\n",
       "    </tr>\n",
       "    <tr>\n",
       "      <th>2018-09-23</th>\n",
       "      <td>209.478</td>\n",
       "      <td>214.1340</td>\n",
       "      <td>205.9520</td>\n",
       "      <td>209.6740</td>\n",
       "      <td>255016.00</td>\n",
       "    </tr>\n",
       "    <tr>\n",
       "      <th>2018-09-30</th>\n",
       "      <td>210.704</td>\n",
       "      <td>214.5700</td>\n",
       "      <td>207.8520</td>\n",
       "      <td>211.0300</td>\n",
       "      <td>238195.20</td>\n",
       "    </tr>\n",
       "    <tr>\n",
       "      <th>2018-10-07</th>\n",
       "      <td>204.648</td>\n",
       "      <td>206.8660</td>\n",
       "      <td>196.8140</td>\n",
       "      <td>199.3400</td>\n",
       "      <td>293189.60</td>\n",
       "    </tr>\n",
       "  </tbody>\n",
       "</table>\n",
       "</div>"
      ],
      "text/plain": [
       "               Open      High       Low     Close     Volume\n",
       "Date                                                        \n",
       "2018-09-09  184.530  188.7325  179.0775  184.5975  278922.75\n",
       "2018-09-16  193.944  198.8740  191.7920  196.6780  221795.60\n",
       "2018-09-23  209.478  214.1340  205.9520  209.6740  255016.00\n",
       "2018-09-30  210.704  214.5700  207.8520  211.0300  238195.20\n",
       "2018-10-07  204.648  206.8660  196.8140  199.3400  293189.60"
      ]
     },
     "execution_count": 16,
     "metadata": {},
     "output_type": "execute_result"
    }
   ],
   "source": [
    "# Resample the closing prices to weekly and take the mean\n",
    "shopify_resample_df = shopify_df.resample('W').mean()\n",
    "shopify_resample_df.head()"
   ]
  },
  {
   "cell_type": "code",
   "execution_count": 18,
   "metadata": {},
   "outputs": [
    {
     "data": {
      "text/plain": [
       "<matplotlib.axes._subplots.AxesSubplot at 0x183e72faf48>"
      ]
     },
     "execution_count": 18,
     "metadata": {},
     "output_type": "execute_result"
    },
    {
     "data": {
      "image/png": "[encoded data removed]",
      "text/plain": [
       "<Figure size 432x288 with 1 Axes>"
      ]
     },
     "metadata": {
      "needs_background": "light"
     },
     "output_type": "display_data"
    }
   ],
   "source": [
    "# Plot the weekly average closing prices as a line chart\n",
    "shopify_resample_df.Close.plot(title='Shopify weekly average closing prices')"
   ]
  },
  {
   "cell_type": "markdown",
   "metadata": {},
   "source": [
    "# Optional Challenge"
   ]
  },
  {
   "cell_type": "code",
   "execution_count": 19,
   "metadata": {},
   "outputs": [
    {
     "data": {
      "text/html": [
       "<div>\n",
       "<style scoped>\n",
       "    .dataframe tbody tr th:only-of-type {\n",
       "        vertical-align: middle;\n",
       "    }\n",
       "\n",
       "    .dataframe tbody tr th {\n",
       "        vertical-align: top;\n",
       "    }\n",
       "\n",
       "    .dataframe thead th {\n",
       "        text-align: right;\n",
       "    }\n",
       "</style>\n",
       "<table border=\"1\" class=\"dataframe\">\n",
       "  <thead>\n",
       "    <tr style=\"text-align: right;\">\n",
       "      <th></th>\n",
       "      <th>Open</th>\n",
       "      <th>High</th>\n",
       "      <th>Low</th>\n",
       "      <th>Close</th>\n",
       "      <th>Volume</th>\n",
       "    </tr>\n",
       "    <tr>\n",
       "      <th>Date</th>\n",
       "      <th></th>\n",
       "      <th></th>\n",
       "      <th></th>\n",
       "      <th></th>\n",
       "      <th></th>\n",
       "    </tr>\n",
       "  </thead>\n",
       "  <tbody>\n",
       "    <tr>\n",
       "      <th>2018-09-30</th>\n",
       "      <td>215.63</td>\n",
       "      <td>217.77</td>\n",
       "      <td>212.45</td>\n",
       "      <td>215.68</td>\n",
       "      <td>365251</td>\n",
       "    </tr>\n",
       "    <tr>\n",
       "      <th>2018-10-31</th>\n",
       "      <td>213.97</td>\n",
       "      <td>213.97</td>\n",
       "      <td>208.22</td>\n",
       "      <td>209.04</td>\n",
       "      <td>662486</td>\n",
       "    </tr>\n",
       "    <tr>\n",
       "      <th>2018-11-30</th>\n",
       "      <td>199.02</td>\n",
       "      <td>203.15</td>\n",
       "      <td>197.07</td>\n",
       "      <td>202.24</td>\n",
       "      <td>591654</td>\n",
       "    </tr>\n",
       "    <tr>\n",
       "      <th>2018-12-31</th>\n",
       "      <td>215.94</td>\n",
       "      <td>219.30</td>\n",
       "      <td>213.16</td>\n",
       "      <td>215.12</td>\n",
       "      <td>938899</td>\n",
       "    </tr>\n",
       "    <tr>\n",
       "      <th>2019-01-31</th>\n",
       "      <td>213.50</td>\n",
       "      <td>222.83</td>\n",
       "      <td>212.95</td>\n",
       "      <td>221.18</td>\n",
       "      <td>348123</td>\n",
       "    </tr>\n",
       "  </tbody>\n",
       "</table>\n",
       "</div>"
      ],
      "text/plain": [
       "              Open    High     Low   Close  Volume\n",
       "Date                                              \n",
       "2018-09-30  215.63  217.77  212.45  215.68  365251\n",
       "2018-10-31  213.97  213.97  208.22  209.04  662486\n",
       "2018-11-30  199.02  203.15  197.07  202.24  591654\n",
       "2018-12-31  215.94  219.30  213.16  215.12  938899\n",
       "2019-01-31  213.50  222.83  212.95  221.18  348123"
      ]
     },
     "execution_count": 19,
     "metadata": {},
     "output_type": "execute_result"
    }
   ],
   "source": [
    "# Use resample to get the highest closing price per month\n",
    "month_resample_df = shopify_df.resample('M').max()\n",
    "month_resample_df.head()"
   ]
  },
  {
   "cell_type": "code",
   "execution_count": 22,
   "metadata": {},
   "outputs": [
    {
     "data": {
      "text/plain": [
       "<matplotlib.axes._subplots.AxesSubplot at 0x183e79552c8>"
      ]
     },
     "execution_count": 22,
     "metadata": {},
     "output_type": "execute_result"
    },
    {
     "data": {
      "image/png": "[encoded data removed]",
      "text/plain": [
       "<Figure size 432x288 with 1 Axes>"
      ]
     },
     "metadata": {
      "needs_background": "light"
     },
     "output_type": "display_data"
    }
   ],
   "source": [
    "# Create a bar chart of the result\n",
    "month_resample_df.Close.plot.bar(title='Highest Closing Price Per Month - Shopify')"
   ]
  }
 ],
 "metadata": {
  "kernelspec": {
   "display_name": "Python [conda env:pyvizenv] *",
   "language": "python",
   "name": "conda-env-pyvizenv-py"
  },
  "language_info": {
   "codemirror_mode": {
    "name": "ipython",
    "version": 3
   },
   "file_extension": ".py",
   "mimetype": "text/x-python",
   "name": "python",
   "nbconvert_exporter": "python",
   "pygments_lexer": "ipython3",
   "version": "3.7.10"
  }
 },
 "nbformat": 4,
 "nbformat_minor": 4
}
