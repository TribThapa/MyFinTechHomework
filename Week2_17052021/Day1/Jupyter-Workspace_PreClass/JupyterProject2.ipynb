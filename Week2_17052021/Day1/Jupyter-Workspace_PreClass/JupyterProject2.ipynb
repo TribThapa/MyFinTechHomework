{
 "cells": [
  {
   "cell_type": "code",
   "execution_count": 83,
   "metadata": {},
   "outputs": [],
   "source": [
    "import os"
   ]
  },
  {
   "cell_type": "code",
   "execution_count": 84,
   "metadata": {},
   "outputs": [
    {
     "name": "stdout",
     "output_type": "stream",
     "text": [
      "C:\\Users\\TribThapa\\Desktop\\Thapa\\ResearchFellow\\Courses\\FinTech_Bootcamp_MonashUni2021\\monu-mel-virt-fin-pt-05-2021-u-c\\MyFinTechHomework\\Week2_17052021\\Unit1Day1\\Jupyter-Workspace_PreClass\n"
     ]
    }
   ],
   "source": [
    "#Define directories\n",
    "Dir = r'C:\\Users\\TribThapa\\Desktop\\Thapa\\ResearchFellow\\Courses\\FinTech_Bootcamp_MonashUni2021\\monu-mel-virt-fin-pt-05-2021-u-c\\MyFinTechHomework\\Week2_17052021\\Unit1Day1\\Jupyter-Workspace_PreClass'\n",
    "\n",
    "print(Dir)\n"
   ]
  },
  {
   "cell_type": "code",
   "execution_count": 85,
   "metadata": {},
   "outputs": [
    {
     "data": {
      "text/plain": [
       "'C:\\\\Users\\\\TribThapa\\\\Desktop\\\\Thapa\\\\ResearchFellow\\\\Courses\\\\FinTech_Bootcamp_MonashUni2021\\\\monu-mel-virt-fin-pt-05-2021-u-c\\\\MyFinTechHomework\\\\Week2_17052021\\\\Unit1Day1\\\\Jupyter-Workspace_PreClass'"
      ]
     },
     "execution_count": 85,
     "metadata": {},
     "output_type": "execute_result"
    }
   ],
   "source": [
    "pwd"
   ]
  },
  {
   "cell_type": "code",
   "execution_count": 86,
   "metadata": {},
   "outputs": [
    {
     "name": "stdout",
     "output_type": "stream",
     "text": [
      " Volume in drive C is Windows\n",
      " Volume Serial Number is 8E17-4AF8\n",
      "\n",
      " Directory of C:\\Users\\TribThapa\\Desktop\\Thapa\\ResearchFellow\\Courses\\FinTech_Bootcamp_MonashUni2021\\monu-mel-virt-fin-pt-05-2021-u-c\\MyFinTechHomework\\Week2_17052021\\Unit1Day1\\Jupyter-Workspace_PreClass\n",
      "\n",
      "16-May-21  03:29 PM    <DIR>          .\n",
      "16-May-21  03:29 PM    <DIR>          ..\n",
      "16-May-21  03:14 PM    <DIR>          .ipynb_checkpoints\n",
      "16-May-21  03:29 PM                30 jupyter_test.txt\n",
      "16-May-21  03:10 PM             2,107 PreClass.ipynb\n",
      "16-May-21  03:29 PM             3,521 TextTest.ipynb\n",
      "               3 File(s)          5,658 bytes\n",
      "               3 Dir(s)  1,428,816,732,160 bytes free\n"
     ]
    }
   ],
   "source": [
    "ls"
   ]
  },
  {
   "cell_type": "code",
   "execution_count": 87,
   "metadata": {},
   "outputs": [],
   "source": [
    "echo 'Jupyter is up and running' > jupyter_test.txt"
   ]
  },
  {
   "cell_type": "code",
   "execution_count": 88,
   "metadata": {},
   "outputs": [
    {
     "name": "stdout",
     "output_type": "stream",
     "text": [
      "'Jupyter is up and running' \n",
      "\n"
     ]
    }
   ],
   "source": [
    "a = open('jupyter_test.txt', 'r')\n",
    "\n",
    "for b in a:\n",
    "    print(b)\n",
    "a.close()"
   ]
  },
  {
   "cell_type": "code",
   "execution_count": null,
   "metadata": {},
   "outputs": [],
   "source": []
  }
 ],
 "metadata": {
  "kernelspec": {
   "display_name": "Python 3",
   "language": "python",
   "name": "python3"
  },
  "language_info": {
   "codemirror_mode": {
    "name": "ipython",
    "version": 3
   },
   "file_extension": ".py",
   "mimetype": "text/x-python",
   "name": "python",
   "nbconvert_exporter": "python",
   "pygments_lexer": "ipython3",
   "version": "3.7.1"
  }
 },
 "nbformat": 4,
 "nbformat_minor": 2
}
