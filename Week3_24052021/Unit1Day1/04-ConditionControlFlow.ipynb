{
 "cells": [
  {
   "cell_type": "code",
   "execution_count": 4,
   "metadata": {},
   "outputs": [
    {
     "name": "stdout",
     "output_type": "stream",
     "text": [
      "24000\n",
      "18000\n",
      "58000\n"
     ]
    }
   ],
   "source": [
    "######################\n",
    "# Create Character One\n",
    "######################\n",
    "\n",
    "c1_name = 'Mr. Farley'\n",
    "c1_age = 65\n",
    "c1_profession = 'Web Developer'\n",
    "c1_salary = 100000\n",
    "c1_species = 'cat'\n",
    "c1_location = 'San Francisco, CA'\n",
    "c1_monthly_rent = 2000\n",
    "c1_monthly_expenses = 1500\n",
    "c1_yearly_rent = c1_monthly_rent * 12\n",
    "print(c1_yearly_rent)\n",
    "c1_yearly_expenses = c1_monthly_expenses * 12\n",
    "print(c1_yearly_expenses)\n",
    "c1_savings = c1_salary - (c1_yearly_rent + c1_yearly_expenses)\n",
    "print(c1_savings)"
   ]
  },
  {
   "cell_type": "code",
   "execution_count": 5,
   "metadata": {},
   "outputs": [],
   "source": [
    "######################\n",
    "# Create Character Two\n",
    "######################\n",
    "\n",
    "c2_name = 'Mr. Snuggles'\n",
    "c2_age = 30\n",
    "c2_species = 'mouse'\n",
    "c2_profession = 'Accountant'\n",
    "c2_salary = 70000\n",
    "c2_location = 'Oakland, CA'\n",
    "c2_monthly_rent = 4000\n",
    "c2_monthly_expense = 500\n",
    "c2_yearly_rent = 12 * c2_monthly_rent\n",
    "c2_yearly_expenses = 12 * c2_monthly_expense\n",
    "c2_savings = c2_salary - (c2_yearly_rent + c2_yearly_expenses)"
   ]
  },
  {
   "cell_type": "code",
   "execution_count": 12,
   "metadata": {},
   "outputs": [
    {
     "name": "stdout",
     "output_type": "stream",
     "text": [
      "Hello Mr. Farley!\n",
      "Mr. Farley is older than Mr. Snuggles.\n",
      "Mr. Farley comes from the home of the 49ers!\n",
      "Mr. Farley pays less rent than Mr. Snuggles.\n",
      "Mr. Farley has more expenses than Mr. Snuggles.\n",
      "They are a Web Developer and an Accountant.\n"
     ]
    }
   ],
   "source": [
    "##############\n",
    "# Conditionals\n",
    "##############\n",
    "\n",
    "# Write an if-else statement to check if `c1_name` is equal to \"Mr. Farley\". If so, print a string of \"Hello Mr. Farley\" using the `c1_name` variable. If not, print a string of \"Hello stranger\".\n",
    "if c1_name == 'Mr. Farley':\n",
    "    print(f\"Hello {c1_name}!\")\n",
    "else:\n",
    "    print('Hello stranger')\n",
    "    \n",
    "# Write an if-else statement to check if `c2_age` is greater than `c1_age`. If so, print a string of \"Mr. Farley is older than Mr. Snuggles\". Else if `c1_age` is greater than `c2_age`, print a string of \"Mr. Snuggles is older than Mr. Farley\". \n",
    "#Else, `c1_age` must be equal to `c2_age`, therefore print a string of \"Mr. Farley is the same age as Mr. Snuggles\".\n",
    "if c2_age > c1_age:\n",
    "    print(f\"{c2_name} is older than {c1_name}.\")\n",
    "elif c1_age > c2_age:\n",
    "    print(f\"{c1_name} is older than {c2_name}.\")\n",
    "else:\n",
    "    print(f\"{c1_name} is the same age as {c2_name}\")\n",
    "\n",
    "# Write an if-else statement to check if `c1_location` is equal to \"Oakland, CA\". If so, print a string of \"Mr. Farley comes from the home of the Raiders!\". \n",
    "#Else if `c1_location` is equal to a string of \"San Francisco, CA\", print a string of \"Mr. Farley comes from the home of the 49ers!\". Else both conditions must not apply and therefore print a string \"Mr. Farley doesn't hail from a sports town.\"\n",
    "if c1_location == 'Oakland, CA':\n",
    "    print(f\"{c1_name} comes from the home of the Raiders!\")\n",
    "elif c1_location == 'San Francisco, CA':\n",
    "    print(f\"{c1_name} comes from the home of the 49ers!\")\n",
    "else: \n",
    "    print(f\"{c1_name} doesn't hail from a sports town.\")\n",
    "\n",
    "# Write an if-else statement to check if `c1_monthly_rent` is greater than `c2_monthly_rent`. If so, print a string of \"Mr. Farley pays more rent than Mr. Snuggles\". \n",
    "#Else if `c1_monthly_rent` is less than `c2_monthly_rent`, print a string of \"Mr. Farley pays less rent than Mr. Snuggles\". Else, `c1_monthly_rent` must be equal to `c2_monthly_rent`, therefore print a string of \"Mr. Farley pays the same rent as Mr. Snuggles\".\n",
    "if c1_monthly_rent > c2_monthly_rent:\n",
    "    print(f\"{c1_name} pays more rent than {c2_name}.\")\n",
    "elif c1_monthly_rent < c2_monthly_rent:\n",
    "    print(f\"{c1_name} pays less rent than {c2_name}.\")\n",
    "else: \n",
    "    print(f\"{c1_name} pays the same rent as {c2_name}.\")\n",
    "\n",
    "# Write an if-else statement to check if `c1_monthly_expenses` is greater than `c2_monthly_expenses`. If so, print a string of `Mr. Farley has more expenses than Mr. Snuggles`. \n",
    "#Else if `c1_monthly_expenses` is less than `c2_monthly_expenses`, print a string of \"Mr. Farley pays less expenses than Mr. Snuggles\". Else, `c1_monthly_expenses` must be equal to `c2_monthly_expenses`, therefore print a string of \"Mr. Farley pays the same expenses as Mr. Snuggles\".\n",
    "if c1_monthly_expenses > c2_monthly_expense:\n",
    "    print(f\"{c1_name} has more expenses than {c2_name}.\")\n",
    "elif c1_monthly_expenses < c2_monthly_expense:\n",
    "    print(f\"{c1_name} pays less expenses than {c2_name}.\")\n",
    "else: \n",
    "    print(f\"{c1_name} pays the same expenses as {c2_name}.\")\n",
    "\n",
    "# Write an if-else statement to check if `c1_profession` is equal to \"Web Developer\" AND `c2_profession` is equal to \"Accountant\". If so, print a string of \"They are a Web Developer and an Accountant\", else print a string of \"They are professionals.\"\n",
    "if c1_profession == 'Web Developer' and c2_profession == 'Accountant':\n",
    "    print(f\"They are a {c1_profession} and an {c2_profession}.\")\n",
    "else: \n",
    "    print(\"They are professionals.\")"
   ]
  },
  {
   "cell_type": "code",
   "execution_count": null,
   "metadata": {},
   "outputs": [],
   "source": [
    "\n",
    "\n",
    "\n",
    "\n",
    "\n"
   ]
  }
 ],
 "metadata": {
  "kernelspec": {
   "display_name": "Python 3",
   "language": "python",
   "name": "python3"
  },
  "language_info": {
   "codemirror_mode": {
    "name": "ipython",
    "version": 3
   },
   "file_extension": ".py",
   "mimetype": "text/x-python",
   "name": "python",
   "nbconvert_exporter": "python",
   "pygments_lexer": "ipython3",
   "version": "3.7.1"
  }
 },
 "nbformat": 4,
 "nbformat_minor": 2
}
