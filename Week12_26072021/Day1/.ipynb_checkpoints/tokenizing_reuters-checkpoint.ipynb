{
 "cells": [
  {
   "cell_type": "markdown",
   "metadata": {},
   "source": [
    "# Student Activity: Tokenizing Reuters"
   ]
  },
  {
   "cell_type": "code",
   "execution_count": 7,
   "metadata": {},
   "outputs": [],
   "source": [
    "from nltk.corpus import reuters\n",
    "from nltk.tokenize import sent_tokenize, word_tokenize\n",
    "import pandas as pd"
   ]
  },
  {
   "cell_type": "code",
   "execution_count": 8,
   "metadata": {},
   "outputs": [
    {
     "name": "stdout",
     "output_type": "stream",
     "text": [
      "['acq', 'alum', 'barley', 'bop', 'carcass', 'castor-oil', 'cocoa', 'coconut', 'coconut-oil', 'coffee', 'copper', 'copra-cake', 'corn', 'cotton', 'cotton-oil', 'cpi', 'cpu', 'crude', 'dfl', 'dlr', 'dmk', 'earn', 'fuel', 'gas', 'gnp', 'gold', 'grain', 'groundnut', 'groundnut-oil', 'heat', 'hog', 'housing', 'income', 'instal-debt', 'interest', 'ipi', 'iron-steel', 'jet', 'jobs', 'l-cattle', 'lead', 'lei', 'lin-oil', 'livestock', 'lumber', 'meal-feed', 'money-fx', 'money-supply', 'naphtha', 'nat-gas', 'nickel', 'nkr', 'nzdlr', 'oat', 'oilseed', 'orange', 'palladium', 'palm-oil', 'palmkernel', 'pet-chem', 'platinum', 'potato', 'propane', 'rand', 'rape-oil', 'rapeseed', 'reserves', 'retail', 'rice', 'rubber', 'rye', 'ship', 'silver', 'sorghum', 'soy-meal', 'soy-oil', 'soybean', 'strategic-metal', 'sugar', 'sun-meal', 'sun-oil', 'sunseed', 'tea', 'tin', 'trade', 'veg-oil', 'wheat', 'wpi', 'yen', 'zinc']\n"
     ]
    }
   ],
   "source": [
    "# Search through all categories\n",
    "print(reuters.categories())"
   ]
  },
  {
   "cell_type": "code",
   "execution_count": 9,
   "metadata": {},
   "outputs": [
    {
     "data": {
      "text/plain": [
       "97"
      ]
     },
     "execution_count": 9,
     "metadata": {},
     "output_type": "execute_result"
    }
   ],
   "source": [
    "# Get all fileids associated with cpi\n",
    "cpi = reuters.fileids(categories='cpi')\n",
    "\n",
    "len(cpi)"
   ]
  },
  {
   "cell_type": "code",
   "execution_count": 10,
   "metadata": {},
   "outputs": [],
   "source": [
    "# get all raw stories\n",
    "cpi_stories_list = []\n",
    "\n",
    "for i in range(len(cpi)):\n",
    "    \n",
    "    cpi_raw = reuters.raw(cpi[i])\n",
    "    \n",
    "    cpi_stories_list.append(cpi_raw)\n",
    "    \n",
    "#cpi_stories_list[0]"
   ]
  },
  {
   "cell_type": "code",
   "execution_count": 11,
   "metadata": {},
   "outputs": [],
   "source": [
    "cpi_sentence_list = []\n",
    "\n",
    "for j in range(len(cpi_stories_list)):\n",
    "    \n",
    "    cpi_sentences = sent_tokenize(cpi_stories_list[j])\n",
    "    \n",
    "    cpi_sentence_list.append(cpi_sentences)\n",
    "    \n",
    "#cpi_sentence_list[0]"
   ]
  },
  {
   "cell_type": "code",
   "execution_count": 12,
   "metadata": {},
   "outputs": [
    {
     "data": {
      "text/plain": [
       "97"
      ]
     },
     "execution_count": 12,
     "metadata": {},
     "output_type": "execute_result"
    }
   ],
   "source": [
    "cpi_word_list = []\n",
    "\n",
    "for k in range(len(cpi_sentence_list)):\n",
    "    \n",
    "    new_list = []\n",
    "    \n",
    "    for l in range(len(cpi_sentence_list[k])):\n",
    "        \n",
    "        word_tokenisation = word_tokenize(cpi_sentence_list[k][l])\n",
    "        \n",
    "        new_list.append(word_tokenisation)\n",
    "        \n",
    "    cpi_word_list.append(new_list)\n",
    "             \n",
    "len(cpi_word_list)"
   ]
  },
  {
   "cell_type": "code",
   "execution_count": 13,
   "metadata": {},
   "outputs": [
    {
     "data": {
      "text/html": [
       "<div>\n",
       "<style scoped>\n",
       "    .dataframe tbody tr th:only-of-type {\n",
       "        vertical-align: middle;\n",
       "    }\n",
       "\n",
       "    .dataframe tbody tr th {\n",
       "        vertical-align: top;\n",
       "    }\n",
       "\n",
       "    .dataframe thead th {\n",
       "        text-align: right;\n",
       "    }\n",
       "</style>\n",
       "<table border=\"1\" class=\"dataframe\">\n",
       "  <thead>\n",
       "    <tr style=\"text-align: right;\">\n",
       "      <th></th>\n",
       "      <th>File_IDs</th>\n",
       "      <th>Raw stories</th>\n",
       "      <th>Sentence Tokenized</th>\n",
       "      <th>Word Tokenized</th>\n",
       "    </tr>\n",
       "  </thead>\n",
       "  <tbody>\n",
       "    <tr>\n",
       "      <th>0</th>\n",
       "      <td>test/14891</td>\n",
       "      <td>ECONOMIC SPOTLIGHT - KUWAITI ECONOMY\\n  Kuwait...</td>\n",
       "      <td>[ECONOMIC SPOTLIGHT - KUWAITI ECONOMY\\n  Kuwai...</td>\n",
       "      <td>[[ECONOMIC, SPOTLIGHT, -, KUWAITI, ECONOMY, Ku...</td>\n",
       "    </tr>\n",
       "    <tr>\n",
       "      <th>1</th>\n",
       "      <td>test/14918</td>\n",
       "      <td>INDONESIAN INFLATION RATE 8.8 PCT IN 1986/87\\n...</td>\n",
       "      <td>[INDONESIAN INFLATION RATE 8.8 PCT IN 1986/87\\...</td>\n",
       "      <td>[[INDONESIAN, INFLATION, RATE, 8.8, PCT, IN, 1...</td>\n",
       "    </tr>\n",
       "    <tr>\n",
       "      <th>2</th>\n",
       "      <td>test/16103</td>\n",
       "      <td>HUNGARY RAISES PRICES IN EFFORT TO CURB DEFICI...</td>\n",
       "      <td>[HUNGARY RAISES PRICES IN EFFORT TO CURB DEFIC...</td>\n",
       "      <td>[[HUNGARY, RAISES, PRICES, IN, EFFORT, TO, CUR...</td>\n",
       "    </tr>\n",
       "    <tr>\n",
       "      <th>3</th>\n",
       "      <td>test/16108</td>\n",
       "      <td>AUSTRALIAN GOVERNMENT MUST CUT SPENDING, ANZ S...</td>\n",
       "      <td>[AUSTRALIAN GOVERNMENT MUST CUT SPENDING, ANZ ...</td>\n",
       "      <td>[[AUSTRALIAN, GOVERNMENT, MUST, CUT, SPENDING,...</td>\n",
       "    </tr>\n",
       "    <tr>\n",
       "      <th>4</th>\n",
       "      <td>test/16118</td>\n",
       "      <td>YUGOSLAV ECONOMY WORSENED IN 1986, BANK DATA S...</td>\n",
       "      <td>[YUGOSLAV ECONOMY WORSENED IN 1986, BANK DATA ...</td>\n",
       "      <td>[[YUGOSLAV, ECONOMY, WORSENED, IN, 1986, ,, BA...</td>\n",
       "    </tr>\n",
       "  </tbody>\n",
       "</table>\n",
       "</div>"
      ],
      "text/plain": [
       "     File_IDs                                        Raw stories  \\\n",
       "0  test/14891  ECONOMIC SPOTLIGHT - KUWAITI ECONOMY\\n  Kuwait...   \n",
       "1  test/14918  INDONESIAN INFLATION RATE 8.8 PCT IN 1986/87\\n...   \n",
       "2  test/16103  HUNGARY RAISES PRICES IN EFFORT TO CURB DEFICI...   \n",
       "3  test/16108  AUSTRALIAN GOVERNMENT MUST CUT SPENDING, ANZ S...   \n",
       "4  test/16118  YUGOSLAV ECONOMY WORSENED IN 1986, BANK DATA S...   \n",
       "\n",
       "                                  Sentence Tokenized  \\\n",
       "0  [ECONOMIC SPOTLIGHT - KUWAITI ECONOMY\\n  Kuwai...   \n",
       "1  [INDONESIAN INFLATION RATE 8.8 PCT IN 1986/87\\...   \n",
       "2  [HUNGARY RAISES PRICES IN EFFORT TO CURB DEFIC...   \n",
       "3  [AUSTRALIAN GOVERNMENT MUST CUT SPENDING, ANZ ...   \n",
       "4  [YUGOSLAV ECONOMY WORSENED IN 1986, BANK DATA ...   \n",
       "\n",
       "                                      Word Tokenized  \n",
       "0  [[ECONOMIC, SPOTLIGHT, -, KUWAITI, ECONOMY, Ku...  \n",
       "1  [[INDONESIAN, INFLATION, RATE, 8.8, PCT, IN, 1...  \n",
       "2  [[HUNGARY, RAISES, PRICES, IN, EFFORT, TO, CUR...  \n",
       "3  [[AUSTRALIAN, GOVERNMENT, MUST, CUT, SPENDING,...  \n",
       "4  [[YUGOSLAV, ECONOMY, WORSENED, IN, 1986, ,, BA...  "
      ]
     },
     "execution_count": 13,
     "metadata": {},
     "output_type": "execute_result"
    }
   ],
   "source": [
    "# Put everything into a DataFrame\n",
    "final_df = pd.DataFrame({\"File_IDs\": cpi,\n",
    "                         \"Raw stories\": cpi_stories_list,\n",
    "                         \"Sentence Tokenized\": cpi_sentence_list,\n",
    "                         \"Word Tokenized\": cpi_word_list})\n",
    "\n",
    "\n",
    "final_df.head()"
   ]
  },
  {
   "cell_type": "code",
   "execution_count": 14,
   "metadata": {},
   "outputs": [
    {
     "data": {
      "text/plain": [
       "(97, 4)"
      ]
     },
     "execution_count": 14,
     "metadata": {},
     "output_type": "execute_result"
    }
   ],
   "source": [
    "final_df.shape"
   ]
  },
  {
   "cell_type": "code",
   "execution_count": 15,
   "metadata": {},
   "outputs": [],
   "source": [
    "# Preview the DataFrame\n",
    "\n",
    "# YOUR CODE HERE"
   ]
  },
  {
   "cell_type": "code",
   "execution_count": null,
   "metadata": {},
   "outputs": [],
   "source": []
  }
 ],
 "metadata": {
  "kernelspec": {
   "display_name": "Python 3",
   "language": "python",
   "name": "python3"
  },
  "language_info": {
   "codemirror_mode": {
    "name": "ipython",
    "version": 3
   },
   "file_extension": ".py",
   "mimetype": "text/x-python",
   "name": "python",
   "nbconvert_exporter": "python",
   "pygments_lexer": "ipython3",
   "version": "3.8.8"
  }
 },
 "nbformat": 4,
 "nbformat_minor": 4
}
