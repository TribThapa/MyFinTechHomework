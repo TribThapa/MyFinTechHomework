{
 "cells": [
  {
   "cell_type": "code",
   "execution_count": 5,
   "metadata": {},
   "outputs": [
    {
     "name": "stdout",
     "output_type": "stream",
     "text": [
      "Max num from original list is: 1200.\n",
      "Max num from list after removing the max from the original list is 1000.\n",
      "1200000\n"
     ]
    }
   ],
   "source": [
    "#num = [-100, 2, 42, 100]\n",
    "\n",
    "num = [700, 1000, 2, 450, 560, 349, 1200]\n",
    "\n",
    "def highest_prod(num):\n",
    "    mylist = num  \n",
    "    \n",
    "    max_num = max(num) \n",
    "    print(f\"Max num from original list is: {max_num}.\")\n",
    "    \n",
    "    mylist.remove(max(num))\n",
    "    max_mylist = max(mylist)\n",
    "    print(f\"Max num from list after removing the max from the original list is {max_mylist}.\")\n",
    "    \n",
    "    largest_prd = max_num * max_mylist\n",
    "    print(largest_prd)\n",
    "    \n",
    "highest_prod(num)"
   ]
  }
 ],
 "metadata": {
  "kernelspec": {
   "display_name": "Python 3",
   "language": "python",
   "name": "python3"
  },
  "language_info": {
   "codemirror_mode": {
    "name": "ipython",
    "version": 3
   },
   "file_extension": ".py",
   "mimetype": "text/x-python",
   "name": "python",
   "nbconvert_exporter": "python",
   "pygments_lexer": "ipython3",
   "version": "3.7.1"
  }
 },
 "nbformat": 4,
 "nbformat_minor": 2
}
