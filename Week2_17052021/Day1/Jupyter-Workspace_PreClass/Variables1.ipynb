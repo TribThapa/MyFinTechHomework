{
 "cells": [
  {
   "cell_type": "code",
   "execution_count": 1,
   "metadata": {},
   "outputs": [],
   "source": [
    "# Creates a variable with a string \"Frankfurter\"\n",
    "\n",
    "title = 'Frankfurter'\n",
    "years = 23\n",
    "hourly_wage = 65.40\n",
    "expert_status = True"
   ]
  },
  {
   "cell_type": "code",
   "execution_count": 2,
   "metadata": {},
   "outputs": [
    {
     "name": "stdout",
     "output_type": "stream",
     "text": [
      "Frankfurter\n",
      "23\n",
      "65.4\n",
      "True\n"
     ]
    }
   ],
   "source": [
    "#Print the variables \n",
    "print(title)\n",
    "print(years)\n",
    "print(hourly_wage)\n",
    "print(expert_status)"
   ]
  },
  {
   "cell_type": "code",
   "execution_count": 6,
   "metadata": {},
   "outputs": [
    {
     "name": "stdout",
     "output_type": "stream",
     "text": [
      "The data type of variable title is <class 'str'>\n",
      "The data type of variable years is <class 'int'>\n",
      "The data type of variable hourly wage is <class 'float'>\n",
      "The data type of vaiable expert status is <class 'bool'>\n"
     ]
    }
   ],
   "source": [
    "#Prints the data type of each declared variable\n",
    "print('The data type of variable title is', type(title))\n",
    "print('The data type of variable years is', type (years))\n",
    "print('The data type of variable hourly wage is', type(hourly_wage))\n",
    "print('The data type of vaiable expert status is', type(expert_status))"
   ]
  },
  {
   "cell_type": "code",
   "execution_count": 8,
   "metadata": {},
   "outputs": [
    {
     "name": "stdout",
     "output_type": "stream",
     "text": [
      "Miles per gallon is 35.69444444444444\n"
     ]
    }
   ],
   "source": [
    "#Using variable names in calculations\n",
    "total_miles = 257\n",
    "gallon_gas = 7.2\n",
    "miles_per_gallon = total_miles / gallon_gas\n",
    "print('Miles per gallon is', miles_per_gallon)"
   ]
  },
  {
   "cell_type": "code",
   "execution_count": 9,
   "metadata": {},
   "outputs": [
    {
     "name": "stdout",
     "output_type": "stream",
     "text": [
      "29.825808000000002\n"
     ]
    }
   ],
   "source": [
    "#Updating variables using assignment\n",
    "miles = 48\n",
    "kilometers = 0.621371 * miles\n",
    "print(kilometers)"
   ]
  },
  {
   "cell_type": "code",
   "execution_count": 14,
   "metadata": {},
   "outputs": [
    {
     "name": "stdout",
     "output_type": "stream",
     "text": [
      "The total kilometers driven was: 29.825808000000002\n"
     ]
    }
   ],
   "source": [
    "#Substituting / formatting variables\n",
    "message = f'The total kilometers driven was: {kilometers}'\n",
    "print(message)"
   ]
  },
  {
   "cell_type": "code",
   "execution_count": 15,
   "metadata": {},
   "outputs": [],
   "source": [
    "#Variable naming conventions\n",
    "\n",
    "#Bad example\n",
    "mpg = 24\n",
    "\n",
    "#Better example \n",
    "miles_per_gallon = 24"
   ]
  },
  {
   "cell_type": "code",
   "execution_count": null,
   "metadata": {},
   "outputs": [],
   "source": []
  }
 ],
 "metadata": {
  "kernelspec": {
   "display_name": "Python 3",
   "language": "python",
   "name": "python3"
  },
  "language_info": {
   "codemirror_mode": {
    "name": "ipython",
    "version": 3
   },
   "file_extension": ".py",
   "mimetype": "text/x-python",
   "name": "python",
   "nbconvert_exporter": "python",
   "pygments_lexer": "ipython3",
   "version": "3.7.1"
  }
 },
 "nbformat": 4,
 "nbformat_minor": 2
}
