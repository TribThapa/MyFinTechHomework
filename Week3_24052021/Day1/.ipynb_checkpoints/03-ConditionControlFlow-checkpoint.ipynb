{
 "cells": [
  {
   "cell_type": "code",
   "execution_count": 14,
   "metadata": {},
   "outputs": [
    {
     "name": "stdout",
     "output_type": "stream",
     "text": [
      "pig\n",
      "This animal is neither Godzilla nor Mothra\n",
      "See Spot run!\n",
      "I drive Farley around San Francisco in my Prius.\n",
      "9250\n",
      "You're over budge by 4250.\n",
      "750\n",
      "The rent is too damn high!\n"
     ]
    }
   ],
   "source": [
    "# Create a list called 'farm' with the elements \"pig\", \"cow\", \"chicken\", \"dog\", \"horse\", \"sheep\".\n",
    "farm = ['pig', 'cow', 'chicken', 'dog', 'horse', 'sheep']\n",
    "\n",
    "# Write an if statement that prints the string \"RWAR!\" if the first element of farm is NOT \"Godzilla\".\n",
    "first_element = farm[0]\n",
    "#print(first_element)\n",
    "\n",
    "if first_element != 'Godzilla':\n",
    "    print(first_element)\n",
    "\n",
    "# Write an else if statement that prints the string \"SCREECH!\" if the last element of farm is \"Mothra\". # Else, print the string \"This animal is neither Godzilla nor Mothra!\".\n",
    "\n",
    "if farm[-1] == 'Mothra':\n",
    "    print('SCREECH')\n",
    "else:\n",
    "    print(f'This animal is neither Godzilla nor Mothra')\n",
    "    \n",
    "# Declare a variable named 'dog' with a string of \"Spot\".\n",
    "dog = 'Spot'\n",
    "\n",
    "# Declare 3 variables `cat`, `city`, `car` without assigning them values. Assign the string \"Farley\" to `cat`. Assign the string \"San Francisco\" to `city`. Assign the string \"Prius\" to `car`.\n",
    "cat = 'Farley'\n",
    "city = 'San Francisco'\n",
    "car = 'Prius'\n",
    "\n",
    "# Using string concatenation, print out the sentence \"See Spot run!\".\n",
    "print(f'See {dog} run!')\n",
    "\n",
    "# Using string concatenation, print out the sentence \"I drive Farley around San Francisco in my Prius\".\n",
    "print(f'I drive {cat} around {city} in my {car}.')\n",
    "\n",
    "# Declare a variable budget and assign it a value of 5000. Declare a variable rent_cost and assign it a value of 1500. Declare a variable utilities_cost and assign it a value of 150.Declare a variable food_cost and assign it a value of 250.\n",
    "# Declare a variable transportation_cost and assign it a value of 350. Declare a variable computer_cost and assign it a value of 2000.\n",
    "\n",
    "budget = 5000\n",
    "rent_cost = 1500\n",
    "utilities_cost = 150\n",
    "food_cost = 250\n",
    "transportation_cost = 350\n",
    "computer_cost = 2000\n",
    "\n",
    "# Declare a variable called total_cost that takes the sum of all costs above (excluding budget).\n",
    "def sum(num1, num2, num3, num4, num5, num6):\n",
    "    return num1 + num2 + num3 + num4 + num5 + num6\n",
    "\n",
    "total_cost = sum(budget, rent_cost, utilities_cost, food_cost, transportation_cost, computer_cost)\n",
    "print(total_cost)\n",
    "\n",
    "# Write an if statement that checks whether the sum of all our costs is within the budget. If so, print \"You're total cost is \" concatentated with the `total_cost` variable. Else, print \"You're over budget by \" concatenated with the difference between `budget` and `total_cost`.\n",
    "if total_cost <= budget:\n",
    "    print(f'Your total cost is {total_cost}.')\n",
    "else:\n",
    "    print(f\"You're over budge by {total_cost - budget}.\")\n",
    "\n",
    "# Write an if statement that checks whether the rent_cost is larger than the sum of the `utilities_cost`, `food_cost`, # and `transportation_cost`. If so, print a string that says \"The rent is too damn high!\". Else, print a string that says \"Ahhh just right!\"\n",
    "addition = utilities_cost + food_cost + transportation_cost\n",
    "print(addition)\n",
    "\n",
    "if rent_cost > addition:\n",
    "    print(f\"The rent is too damn high!\")\n",
    "else:\n",
    "    print(f\"Ahh! Just right.\")"
   ]
  },
  {
   "cell_type": "code",
   "execution_count": null,
   "metadata": {},
   "outputs": [],
   "source": [
    "\n",
    "\n",
    "\n",
    "\n",
    "\n"
   ]
  }
 ],
 "metadata": {
  "kernelspec": {
   "display_name": "Python 3",
   "language": "python",
   "name": "python3"
  },
  "language_info": {
   "codemirror_mode": {
    "name": "ipython",
    "version": 3
   },
   "file_extension": ".py",
   "mimetype": "text/x-python",
   "name": "python",
   "nbconvert_exporter": "python",
   "pygments_lexer": "ipython3",
   "version": "3.7.1"
  }
 },
 "nbformat": 4,
 "nbformat_minor": 2
}
