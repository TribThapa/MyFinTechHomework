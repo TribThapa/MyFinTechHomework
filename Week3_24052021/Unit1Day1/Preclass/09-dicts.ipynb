{
 "cells": [
  {
   "cell_type": "code",
   "execution_count": 2,
   "metadata": {},
   "outputs": [],
   "source": [
    "from show_data import shows"
   ]
  },
  {
   "cell_type": "code",
   "execution_count": 9,
   "metadata": {},
   "outputs": [
    {
     "name": "stdout",
     "output_type": "stream",
     "text": [
      "The actor that plays Squidward is Tom Kenny\n",
      "Patrick Warburton plays Joe Swanson in Family Guy (comedy). The link to his imdb page is https://www.imdb.com/name/nm0911320/?ref_=nv_sr_2\n",
      "Is the walking dead still running? Ans: True\n"
     ]
    }
   ],
   "source": [
    "#print(shows)\n",
    "\n",
    "# QUESTION 1: Who is the actor that plays Squidward in Spongebob (kids)?\n",
    "print(f\"The actor that plays Squidward is {shows['genre']['kids']['Spongebob']['cast'][0]['actor']}\")\n",
    "      \n",
    "# QUESTION 2: Patrick Warburton plays Joe Swanson in Family Guy (comedy). What is the link to his imdb page?\n",
    "print(f\"Patrick Warburton plays Joe Swanson in Family Guy (comedy). The link to his imdb page is {shows['genre']['comedy']['family_guy']['cast'][4]['imdb']}\")\n",
    "      \n",
    "# QUESTION 3: Is the Walking Dead still running?\n",
    "print(f\"Is the walking dead still running? Ans: {shows['genre']['drama']['the_walking_dead']['still_running']}\")\n",
    "      \n",
    "# QUESTION 4: Who plays Dexter in Dexter (drama) and who plays Dexter in Dexter's Lab (kids)?\n",
    "# HINT: You can print multiple items at once by using a comma like this: print(thing1, thing2)\n",
    "print(f\"\")"
   ]
  },
  {
   "cell_type": "code",
   "execution_count": null,
   "metadata": {},
   "outputs": [],
   "source": [
    "# QUESTION 5: Who are the creators of Stranger Things (drama)?\n",
    "\n",
    "\n",
    "# QUESTION 6: Who hosts the Daily Show (talk)?\n",
    "\n",
    "\n",
    "# QUESTION 7: Who are all the hosts of the view (talk)\n",
    "# Hint: You will need to use a loop for this one. You may not simply log the entire list, but must log each name individually\n",
    "\n",
    "\n",
    "# QUESTION 8: What are the show names of the Impractical Jokers (comedy)\n",
    "# Hint: You will need to use a loop for this one. You may not simply log the entire list, but must log each name individually\n",
    "\n",
    "\n",
    "# QUESTION 9: Who does Will Arnett play in Arrested Development (comedy)\n",
    "\n",
    "\n",
    "# QUESTION 10: Who plays Yami Yugi in Yu-Gi-Oh (kids)?\n",
    "\n",
    "\n",
    "# QUESTION 11: How many seasons did the Office (comedy) run?\n",
    "\n",
    "\n",
    "# QUESTION 12: Who are the main characters of the Office (comedy) (not the actors, but the actual character names)?\n",
    "\n",
    "\n",
    "# QUESTION 13: List the characters in Teen Titans (kids)\n",
    "\n",
    "\n",
    "# QUESTION 14: What is the link to the IMDB page for the actor who plays Mr. Krabs (Spongebob, kids)?\n",
    "\n",
    "\n",
    "# QUESTION 15: Who plays Negan in The Walking Dead?\n",
    "\n",
    "\n",
    "# QUESTION 16: List the main cast of Dexter (drama) (the actors, not the characters)\n",
    "\n",
    "\n",
    "# QUESTION 17: Is Game of Thrones(drama) still running?\n",
    "\n",
    "\n",
    "# QUESTION 18: Who does Peter Dinklage play in Game of Thrones (drama)?\n",
    "\n",
    "\n",
    "# QUESTION 19: List the American Idol Judges\n",
    "\n",
    "\n",
    "# QUESTION 20: Who plays Dustin in Stanger Things (drama)?\n",
    "\n"
   ]
  }
 ],
 "metadata": {
  "kernelspec": {
   "display_name": "Python 3",
   "language": "python",
   "name": "python3"
  },
  "language_info": {
   "codemirror_mode": {
    "name": "ipython",
    "version": 3
   },
   "file_extension": ".py",
   "mimetype": "text/x-python",
   "name": "python",
   "nbconvert_exporter": "python",
   "pygments_lexer": "ipython3",
   "version": "3.7.1"
  }
 },
 "nbformat": 4,
 "nbformat_minor": 2
}
